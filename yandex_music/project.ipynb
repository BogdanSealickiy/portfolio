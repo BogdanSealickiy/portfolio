{
 "cells": [
  {
   "cell_type": "markdown",
   "metadata": {
    "deletable": false,
    "editable": false,
    "id": "E0vqbgi9ay0H"
   },
   "source": [
    "# Яндекс.Музыка"
   ]
  },
  {
   "cell_type": "markdown",
   "metadata": {
    "deletable": false,
    "editable": false,
    "id": "VUC88oWjTJw2"
   },
   "source": [
    "\n",
    "\n",
    "**Цель исследования** — проверьте три гипотезы:\n",
    "1. Активность пользователей зависит от дня недели. Причём в Москве и Петербурге это проявляется по-разному.\n",
    "2. В понедельник утром в Москве преобладают одни жанры, а в Петербурге — другие. Так же и вечером пятницы преобладают разные жанры — в зависимости от города. \n",
    "3. Москва и Петербург предпочитают разные жанры музыки. В Москве чаще слушают поп-музыку, в Петербурге — русский рэп.\n",
    "\n"
   ]
  },
  {
   "cell_type": "markdown",
   "metadata": {
    "deletable": false,
    "editable": false,
    "id": "Ml1hmfXC_Zcs"
   },
   "source": [
    "## Обзор данных\n",
    "\n",
    "\n",
    "\n",
    "\n"
   ]
  },
  {
   "cell_type": "markdown",
   "metadata": {},
   "source": [
    "**Импорт библиотек**"
   ]
  },
  {
   "cell_type": "code",
   "execution_count": 1,
   "metadata": {},
   "outputs": [],
   "source": [
    "import numpy as np\n",
    "import pandas as pd\n",
    "import matplotlib.pyplot as plt"
   ]
  },
  {
   "cell_type": "markdown",
   "metadata": {},
   "source": [
    "Знакомлюсь с данными"
   ]
  },
  {
   "cell_type": "code",
   "execution_count": 2,
   "metadata": {
    "deletable": false,
    "id": "AXN7PHPN_Zcs"
   },
   "outputs": [],
   "source": [
    "df = pd.read_csv('/datasets/yandex_music_project.csv')"
   ]
  },
  {
   "cell_type": "code",
   "execution_count": 3,
   "metadata": {
    "deletable": false,
    "id": "fFVu7vqh_Zct"
   },
   "outputs": [
    {
     "data": {
      "text/html": [
       "<div>\n",
       "<style scoped>\n",
       "    .dataframe tbody tr th:only-of-type {\n",
       "        vertical-align: middle;\n",
       "    }\n",
       "\n",
       "    .dataframe tbody tr th {\n",
       "        vertical-align: top;\n",
       "    }\n",
       "\n",
       "    .dataframe thead th {\n",
       "        text-align: right;\n",
       "    }\n",
       "</style>\n",
       "<table border=\"1\" class=\"dataframe\">\n",
       "  <thead>\n",
       "    <tr style=\"text-align: right;\">\n",
       "      <th></th>\n",
       "      <th>userID</th>\n",
       "      <th>Track</th>\n",
       "      <th>artist</th>\n",
       "      <th>genre</th>\n",
       "      <th>City</th>\n",
       "      <th>time</th>\n",
       "      <th>Day</th>\n",
       "    </tr>\n",
       "  </thead>\n",
       "  <tbody>\n",
       "    <tr>\n",
       "      <th>0</th>\n",
       "      <td>FFB692EC</td>\n",
       "      <td>Kamigata To Boots</td>\n",
       "      <td>The Mass Missile</td>\n",
       "      <td>rock</td>\n",
       "      <td>Saint-Petersburg</td>\n",
       "      <td>20:28:33</td>\n",
       "      <td>Wednesday</td>\n",
       "    </tr>\n",
       "    <tr>\n",
       "      <th>1</th>\n",
       "      <td>55204538</td>\n",
       "      <td>Delayed Because of Accident</td>\n",
       "      <td>Andreas Rönnberg</td>\n",
       "      <td>rock</td>\n",
       "      <td>Moscow</td>\n",
       "      <td>14:07:09</td>\n",
       "      <td>Friday</td>\n",
       "    </tr>\n",
       "    <tr>\n",
       "      <th>2</th>\n",
       "      <td>20EC38</td>\n",
       "      <td>Funiculì funiculà</td>\n",
       "      <td>Mario Lanza</td>\n",
       "      <td>pop</td>\n",
       "      <td>Saint-Petersburg</td>\n",
       "      <td>20:58:07</td>\n",
       "      <td>Wednesday</td>\n",
       "    </tr>\n",
       "    <tr>\n",
       "      <th>3</th>\n",
       "      <td>A3DD03C9</td>\n",
       "      <td>Dragons in the Sunset</td>\n",
       "      <td>Fire + Ice</td>\n",
       "      <td>folk</td>\n",
       "      <td>Saint-Petersburg</td>\n",
       "      <td>08:37:09</td>\n",
       "      <td>Monday</td>\n",
       "    </tr>\n",
       "    <tr>\n",
       "      <th>4</th>\n",
       "      <td>E2DC1FAE</td>\n",
       "      <td>Soul People</td>\n",
       "      <td>Space Echo</td>\n",
       "      <td>dance</td>\n",
       "      <td>Moscow</td>\n",
       "      <td>08:34:34</td>\n",
       "      <td>Monday</td>\n",
       "    </tr>\n",
       "    <tr>\n",
       "      <th>5</th>\n",
       "      <td>842029A1</td>\n",
       "      <td>Преданная</td>\n",
       "      <td>IMPERVTOR</td>\n",
       "      <td>rusrap</td>\n",
       "      <td>Saint-Petersburg</td>\n",
       "      <td>13:09:41</td>\n",
       "      <td>Friday</td>\n",
       "    </tr>\n",
       "    <tr>\n",
       "      <th>6</th>\n",
       "      <td>4CB90AA5</td>\n",
       "      <td>True</td>\n",
       "      <td>Roman Messer</td>\n",
       "      <td>dance</td>\n",
       "      <td>Moscow</td>\n",
       "      <td>13:00:07</td>\n",
       "      <td>Wednesday</td>\n",
       "    </tr>\n",
       "    <tr>\n",
       "      <th>7</th>\n",
       "      <td>F03E1C1F</td>\n",
       "      <td>Feeling This Way</td>\n",
       "      <td>Polina Griffith</td>\n",
       "      <td>dance</td>\n",
       "      <td>Moscow</td>\n",
       "      <td>20:47:49</td>\n",
       "      <td>Wednesday</td>\n",
       "    </tr>\n",
       "    <tr>\n",
       "      <th>8</th>\n",
       "      <td>8FA1D3BE</td>\n",
       "      <td>И вновь продолжается бой</td>\n",
       "      <td>NaN</td>\n",
       "      <td>ruspop</td>\n",
       "      <td>Moscow</td>\n",
       "      <td>09:17:40</td>\n",
       "      <td>Friday</td>\n",
       "    </tr>\n",
       "    <tr>\n",
       "      <th>9</th>\n",
       "      <td>E772D5C0</td>\n",
       "      <td>Pessimist</td>\n",
       "      <td>NaN</td>\n",
       "      <td>dance</td>\n",
       "      <td>Saint-Petersburg</td>\n",
       "      <td>21:20:49</td>\n",
       "      <td>Wednesday</td>\n",
       "    </tr>\n",
       "  </tbody>\n",
       "</table>\n",
       "</div>"
      ],
      "text/plain": [
       "     userID                        Track            artist   genre  \\\n",
       "0  FFB692EC            Kamigata To Boots  The Mass Missile    rock   \n",
       "1  55204538  Delayed Because of Accident  Andreas Rönnberg    rock   \n",
       "2    20EC38            Funiculì funiculà       Mario Lanza     pop   \n",
       "3  A3DD03C9        Dragons in the Sunset        Fire + Ice    folk   \n",
       "4  E2DC1FAE                  Soul People        Space Echo   dance   \n",
       "5  842029A1                    Преданная         IMPERVTOR  rusrap   \n",
       "6  4CB90AA5                         True      Roman Messer   dance   \n",
       "7  F03E1C1F             Feeling This Way   Polina Griffith   dance   \n",
       "8  8FA1D3BE     И вновь продолжается бой               NaN  ruspop   \n",
       "9  E772D5C0                    Pessimist               NaN   dance   \n",
       "\n",
       "             City        time        Day  \n",
       "0  Saint-Petersburg  20:28:33  Wednesday  \n",
       "1            Moscow  14:07:09     Friday  \n",
       "2  Saint-Petersburg  20:58:07  Wednesday  \n",
       "3  Saint-Petersburg  08:37:09     Monday  \n",
       "4            Moscow  08:34:34     Monday  \n",
       "5  Saint-Petersburg  13:09:41     Friday  \n",
       "6            Moscow  13:00:07  Wednesday  \n",
       "7            Moscow  20:47:49  Wednesday  \n",
       "8            Moscow  09:17:40     Friday  \n",
       "9  Saint-Petersburg  21:20:49  Wednesday  "
      ]
     },
     "execution_count": 3,
     "metadata": {},
     "output_type": "execute_result"
    }
   ],
   "source": [
    "df.head(10)"
   ]
  },
  {
   "cell_type": "markdown",
   "metadata": {},
   "source": [
    "Рассмотрю данные подробнее"
   ]
  },
  {
   "cell_type": "code",
   "execution_count": 4,
   "metadata": {
    "deletable": false,
    "id": "DSf2kIb-_Zct"
   },
   "outputs": [
    {
     "name": "stdout",
     "output_type": "stream",
     "text": [
      "<class 'pandas.core.frame.DataFrame'>\n",
      "RangeIndex: 65079 entries, 0 to 65078\n",
      "Data columns (total 7 columns):\n",
      " #   Column    Non-Null Count  Dtype \n",
      "---  ------    --------------  ----- \n",
      " 0     userID  65079 non-null  object\n",
      " 1   Track     63848 non-null  object\n",
      " 2   artist    57876 non-null  object\n",
      " 3   genre     63881 non-null  object\n",
      " 4     City    65079 non-null  object\n",
      " 5   time      65079 non-null  object\n",
      " 6   Day       65079 non-null  object\n",
      "dtypes: object(7)\n",
      "memory usage: 3.5+ MB\n"
     ]
    }
   ],
   "source": [
    "df.info()# получение общей информации о данных в таблице df"
   ]
  },
  {
   "cell_type": "markdown",
   "metadata": {
    "deletable": false,
    "editable": false,
    "id": "TaQ2Iwbr_Zct"
   },
   "source": [
    "в таблице семь столбцов. Тип данных во всех столбцах — `object`.\n",
    "\n",
    "Согласно документации к данным:\n",
    "* `userID` — идентификатор пользователя;\n",
    "* `Track` — название трека;  \n",
    "* `artist` — имя исполнителя;\n",
    "* `genre` — название жанра;\n",
    "* `City` — город пользователя;\n",
    "* `time` — время начала прослушивания;\n",
    "* `Day` — день недели.\n",
    "\n",
    "Видно, что в датасете присутствуют пропуски, нужно обрабатывать"
   ]
  },
  {
   "cell_type": "markdown",
   "metadata": {
    "deletable": false,
    "editable": false,
    "id": "4P0UCWzswgEm",
    "tags": [
     "start_task"
    ]
   },
   "source": [
    "\n",
    "Так же, в названиях колонок видны нарушения стиля:\n",
    "1. Строчные буквы сочетаются с прописными.\n",
    "2. Встречаются пробелы."
   ]
  },
  {
   "cell_type": "markdown",
   "metadata": {
    "deletable": false,
    "editable": false,
    "id": "MCB6-dXG_Zct"
   },
   "source": [
    "**Вывод**\n",
    "\n",
    "В каждой строке таблицы — данные о прослушанном треке. Часть колонок описывает саму композицию: название, исполнителя и жанр. Остальные данные рассказывают о пользователе: из какого он города, когда он слушал музыку. \n",
    "\n",
    "Предварительно можно утверждать, что, данных достаточно для проверки гипотез. Но встречаются пропуски в данных, а в названиях колонок — расхождения с хорошим стилем.\n",
    "\n",
    "Чтобы двигаться дальше, нужно устранить проблемы в данных."
   ]
  },
  {
   "cell_type": "markdown",
   "metadata": {
    "deletable": false,
    "editable": false,
    "id": "SjYF6Ub9_Zct"
   },
   "source": [
    "## Предобработка данных\n",
    "Исправьлю стиль название признаков, для упрощенной работы в дальнейшем и удобдее для восприятия графиков"
   ]
  },
  {
   "cell_type": "markdown",
   "metadata": {
    "deletable": false,
    "editable": false,
    "id": "dIaKXr29_Zct",
    "tags": [
     "start_task"
    ]
   },
   "source": [
    "#### Стиль заголовков"
   ]
  },
  {
   "cell_type": "code",
   "execution_count": 5,
   "metadata": {
    "deletable": false,
    "id": "oKOTdF_Q_Zct"
   },
   "outputs": [
    {
     "data": {
      "text/plain": [
       "Index(['  userID', 'Track', 'artist', 'genre', '  City  ', 'time', 'Day'], dtype='object')"
      ]
     },
     "execution_count": 5,
     "metadata": {},
     "output_type": "execute_result"
    }
   ],
   "source": [
    "df.columns"
   ]
  },
  {
   "cell_type": "code",
   "execution_count": 6,
   "metadata": {
    "deletable": false,
    "id": "ISlFqs5y_Zct"
   },
   "outputs": [
    {
     "data": {
      "text/plain": [
       "Index(['user_id', 'track', 'artist', 'genre', 'city', 'time', 'day'], dtype='object')"
      ]
     },
     "execution_count": 6,
     "metadata": {},
     "output_type": "execute_result"
    }
   ],
   "source": [
    "df.rename(columns={'  userID':'user_id', 'Track':'track', '  City  ':'city', 'Day':'day'}, inplace = True)\n",
    "df.columns"
   ]
  },
  {
   "cell_type": "code",
   "execution_count": 7,
   "metadata": {
    "deletable": false,
    "id": "d4NOAmTW_Zct"
   },
   "outputs": [
    {
     "data": {
      "text/plain": [
       "Index(['user_id', 'track', 'artist', 'genre', 'city', 'time', 'day'], dtype='object')"
      ]
     },
     "execution_count": 7,
     "metadata": {},
     "output_type": "execute_result"
    }
   ],
   "source": [
    "df.columns"
   ]
  },
  {
   "cell_type": "markdown",
   "metadata": {},
   "source": [
    "Получил оптимальные название признаков "
   ]
  },
  {
   "cell_type": "markdown",
   "metadata": {
    "deletable": false,
    "editable": false,
    "id": "5ISfbcfY_Zct",
    "tags": [
     "start_task"
    ]
   },
   "source": [
    "### Пропуски значений\n",
    "\n",
    "Считаю пропуска для признаков"
   ]
  },
  {
   "cell_type": "code",
   "execution_count": 8,
   "metadata": {
    "deletable": false,
    "id": "RskX29qr_Zct"
   },
   "outputs": [
    {
     "data": {
      "text/plain": [
       "user_id       0\n",
       "track      1231\n",
       "artist     7203\n",
       "genre      1198\n",
       "city          0\n",
       "time          0\n",
       "day           0\n",
       "dtype: int64"
      ]
     },
     "execution_count": 8,
     "metadata": {},
     "output_type": "execute_result"
    }
   ],
   "source": [
    "df.isna().sum()"
   ]
  },
  {
   "cell_type": "markdown",
   "metadata": {
    "deletable": false,
    "editable": false,
    "id": "qubhgnlO_Zct"
   },
   "source": [
    "Не все пропущенные значения влияют на исследование. Так в `track` и `artist` пропуски не важны для вашей работы. Достаточно заменить их явными обозначениями.\n",
    "\n",
    "Но пропуски в `genre` могут помешать сравнению музыкальных вкусов в Москве и Санкт-Петербурге. При возможности, неплохо бы  установить причину пропусков и восстановить данные, но так как сейчас возможности нет, придётся:\n",
    "* заполнить и эти пропуски явными обозначениями,\n",
    "* оценить, насколько они повредят расчётам. "
   ]
  },
  {
   "cell_type": "code",
   "execution_count": 9,
   "metadata": {
    "deletable": false,
    "id": "KplB5qWs_Zct"
   },
   "outputs": [
    {
     "data": {
      "text/plain": [
       "user_id    0\n",
       "track      0\n",
       "artist     0\n",
       "genre      0\n",
       "city       0\n",
       "time       0\n",
       "day        0\n",
       "dtype: int64"
      ]
     },
     "execution_count": 9,
     "metadata": {},
     "output_type": "execute_result"
    }
   ],
   "source": [
    "columns_to_replace = ['track', 'artist', 'genre']\n",
    "\n",
    "for item in columns_to_replace:\n",
    "    df[item] = df[item].fillna('unknown')\n",
    "\n",
    "df.isna().sum()"
   ]
  },
  {
   "cell_type": "code",
   "execution_count": 10,
   "metadata": {
    "deletable": false,
    "id": "Tq4nYRX4_Zct"
   },
   "outputs": [
    {
     "data": {
      "text/plain": [
       "user_id    0\n",
       "track      0\n",
       "artist     0\n",
       "genre      0\n",
       "city       0\n",
       "time       0\n",
       "day        0\n",
       "dtype: int64"
      ]
     },
     "execution_count": 10,
     "metadata": {},
     "output_type": "execute_result"
    }
   ],
   "source": [
    "df.isna().sum()"
   ]
  },
  {
   "cell_type": "markdown",
   "metadata": {
    "deletable": false,
    "editable": false,
    "id": "BWKRtBJ3_Zct",
    "tags": [
     "start_task"
    ]
   },
   "source": [
    "### Дубликаты\n",
    "\n",
    "\n",
    "\n",
    "Считаю дубликаты"
   ]
  },
  {
   "cell_type": "code",
   "execution_count": 11,
   "metadata": {
    "deletable": false,
    "id": "36eES_S0_Zct"
   },
   "outputs": [
    {
     "data": {
      "text/plain": [
       "3826"
      ]
     },
     "execution_count": 11,
     "metadata": {},
     "output_type": "execute_result"
    }
   ],
   "source": [
    "df.duplicated().sum()"
   ]
  },
  {
   "cell_type": "markdown",
   "metadata": {
    "deletable": false,
    "editable": false,
    "id": "Ot25h6XR_Zct",
    "tags": [
     "start_task"
    ]
   },
   "source": [
    "\n",
    "\n",
    "Дубликаты в данном случае навредят исследованию, избавлюсь от них"
   ]
  },
  {
   "cell_type": "code",
   "execution_count": 12,
   "metadata": {
    "deletable": false,
    "id": "exFHq6tt_Zct"
   },
   "outputs": [],
   "source": [
    "\n",
    "df = df.drop_duplicates()"
   ]
  },
  {
   "cell_type": "code",
   "execution_count": 13,
   "metadata": {
    "deletable": false,
    "id": "-8PuNWQ0_Zct"
   },
   "outputs": [
    {
     "data": {
      "text/plain": [
       "0"
      ]
     },
     "execution_count": 13,
     "metadata": {},
     "output_type": "execute_result"
    }
   ],
   "source": [
    "df.duplicated().sum()\n"
   ]
  },
  {
   "cell_type": "markdown",
   "metadata": {
    "deletable": false,
    "editable": false,
    "id": "eSjWwsOh_Zct",
    "tags": [
     "start_task"
    ]
   },
   "source": [
    "Проверю сет на наличие неявных дубликатов, тк, например, при написании жанра могли допустить ошибку, после чего pandas будет считать его отдельной категорией признака"
   ]
  },
  {
   "cell_type": "markdown",
   "metadata": {},
   "source": [
    "Сортирую для удобства поиска и вывожу уникальные значения, то есть те, которые появились хотя бы 1 раз"
   ]
  },
  {
   "cell_type": "code",
   "execution_count": 14,
   "metadata": {
    "deletable": false,
    "id": "JIUcqzZN_Zct"
   },
   "outputs": [
    {
     "data": {
      "text/plain": [
       "array(['acid', 'acoustic', 'action', 'adult', 'africa', 'afrikaans',\n",
       "       'alternative', 'alternativepunk', 'ambient', 'americana',\n",
       "       'animated', 'anime', 'arabesk', 'arabic', 'arena',\n",
       "       'argentinetango', 'art', 'audiobook', 'author', 'avantgarde',\n",
       "       'axé', 'baile', 'balkan', 'beats', 'bigroom', 'black', 'bluegrass',\n",
       "       'blues', 'bollywood', 'bossa', 'brazilian', 'breakbeat', 'breaks',\n",
       "       'broadway', 'cantautori', 'cantopop', 'canzone', 'caribbean',\n",
       "       'caucasian', 'celtic', 'chamber', 'chanson', 'children', 'chill',\n",
       "       'chinese', 'choral', 'christian', 'christmas', 'classical',\n",
       "       'classicmetal', 'club', 'colombian', 'comedy', 'conjazz',\n",
       "       'contemporary', 'country', 'cuban', 'dance', 'dancehall',\n",
       "       'dancepop', 'dark', 'death', 'deep', 'deutschrock', 'deutschspr',\n",
       "       'dirty', 'disco', 'dnb', 'documentary', 'downbeat', 'downtempo',\n",
       "       'drum', 'dub', 'dubstep', 'eastern', 'easy', 'electronic',\n",
       "       'electropop', 'emo', 'entehno', 'epicmetal', 'estrada', 'ethnic',\n",
       "       'eurofolk', 'european', 'experimental', 'extrememetal', 'fado',\n",
       "       'fairytail', 'film', 'fitness', 'flamenco', 'folk', 'folklore',\n",
       "       'folkmetal', 'folkrock', 'folktronica', 'forró', 'frankreich',\n",
       "       'französisch', 'french', 'funk', 'future', 'gangsta', 'garage',\n",
       "       'german', 'ghazal', 'gitarre', 'glitch', 'gospel', 'gothic',\n",
       "       'grime', 'grunge', 'gypsy', 'handsup', \"hard'n'heavy\", 'hardcore',\n",
       "       'hardstyle', 'hardtechno', 'hip', 'hip-hop', 'hiphop',\n",
       "       'historisch', 'holiday', 'hop', 'horror', 'house', 'hymn', 'idm',\n",
       "       'independent', 'indian', 'indie', 'indipop', 'industrial',\n",
       "       'inspirational', 'instrumental', 'international', 'irish', 'jam',\n",
       "       'japanese', 'jazz', 'jewish', 'jpop', 'jungle', 'k-pop',\n",
       "       'karadeniz', 'karaoke', 'kayokyoku', 'korean', 'laiko', 'latin',\n",
       "       'latino', 'leftfield', 'local', 'lounge', 'loungeelectronic',\n",
       "       'lovers', 'malaysian', 'mandopop', 'marschmusik', 'meditative',\n",
       "       'mediterranean', 'melodic', 'metal', 'metalcore', 'mexican',\n",
       "       'middle', 'minimal', 'miscellaneous', 'modern', 'mood', 'mpb',\n",
       "       'muslim', 'native', 'neoklassik', 'neue', 'new', 'newage',\n",
       "       'newwave', 'nu', 'nujazz', 'numetal', 'oceania', 'old', 'opera',\n",
       "       'orchestral', 'other', 'piano', 'podcasts', 'pop', 'popdance',\n",
       "       'popelectronic', 'popeurodance', 'poprussian', 'post',\n",
       "       'posthardcore', 'postrock', 'power', 'progmetal', 'progressive',\n",
       "       'psychedelic', 'punjabi', 'punk', 'quebecois', 'ragga', 'ram',\n",
       "       'rancheras', 'rap', 'rave', 'reggae', 'reggaeton', 'regional',\n",
       "       'relax', 'religious', 'retro', 'rhythm', 'rnb', 'rnr', 'rock',\n",
       "       'rockabilly', 'rockalternative', 'rockindie', 'rockother',\n",
       "       'romance', 'roots', 'ruspop', 'rusrap', 'rusrock', 'russian',\n",
       "       'salsa', 'samba', 'scenic', 'schlager', 'self', 'sertanejo',\n",
       "       'shanson', 'shoegazing', 'showtunes', 'singer', 'ska', 'skarock',\n",
       "       'slow', 'smooth', 'soft', 'soul', 'soulful', 'sound', 'soundtrack',\n",
       "       'southern', 'specialty', 'speech', 'spiritual', 'sport',\n",
       "       'stonerrock', 'surf', 'swing', 'synthpop', 'synthrock',\n",
       "       'sängerportrait', 'tango', 'tanzorchester', 'taraftar', 'tatar',\n",
       "       'tech', 'techno', 'teen', 'thrash', 'top', 'traditional',\n",
       "       'tradjazz', 'trance', 'tribal', 'trip', 'triphop', 'tropical',\n",
       "       'türk', 'türkçe', 'ukrrock', 'unknown', 'urban', 'uzbek',\n",
       "       'variété', 'vi', 'videogame', 'vocal', 'western', 'world',\n",
       "       'worldbeat', 'ïîï', 'электроника'], dtype=object)"
      ]
     },
     "execution_count": 14,
     "metadata": {},
     "output_type": "execute_result"
    }
   ],
   "source": [
    "df['genre'].sort_values().unique()"
   ]
  },
  {
   "cell_type": "markdown",
   "metadata": {
    "deletable": false,
    "editable": false,
    "id": "qej-Qmuo_Zct",
    "tags": [
     "start_task"
    ]
   },
   "source": [
    "\n",
    "неявные дубликаты названия `hiphop`. \n",
    "\n",
    "\n",
    "* *hip*,\n",
    "* *hop*,\n",
    "* *hip-hop*.\n",
    "\n",
    "Использую метод replace, чтобы избавиться от них"
   ]
  },
  {
   "cell_type": "code",
   "execution_count": 15,
   "metadata": {
    "deletable": false,
    "id": "ErNDkmns_Zct"
   },
   "outputs": [],
   "source": [
    "duplicates = ['hip', 'hop', 'hip-hop'] # список неправильных имён\n",
    "name = 'hiphop' # правильное имя\n",
    "df['genre'] = df['genre'].replace(duplicates, name)\n",
    "\n",
    "\n"
   ]
  },
  {
   "cell_type": "code",
   "execution_count": 16,
   "metadata": {
    "deletable": false,
    "id": "wvixALnFG15m"
   },
   "outputs": [
    {
     "data": {
      "text/plain": [
       "array(['acid', 'acoustic', 'action', 'adult', 'africa', 'afrikaans',\n",
       "       'alternative', 'alternativepunk', 'ambient', 'americana',\n",
       "       'animated', 'anime', 'arabesk', 'arabic', 'arena',\n",
       "       'argentinetango', 'art', 'audiobook', 'author', 'avantgarde',\n",
       "       'axé', 'baile', 'balkan', 'beats', 'bigroom', 'black', 'bluegrass',\n",
       "       'blues', 'bollywood', 'bossa', 'brazilian', 'breakbeat', 'breaks',\n",
       "       'broadway', 'cantautori', 'cantopop', 'canzone', 'caribbean',\n",
       "       'caucasian', 'celtic', 'chamber', 'chanson', 'children', 'chill',\n",
       "       'chinese', 'choral', 'christian', 'christmas', 'classical',\n",
       "       'classicmetal', 'club', 'colombian', 'comedy', 'conjazz',\n",
       "       'contemporary', 'country', 'cuban', 'dance', 'dancehall',\n",
       "       'dancepop', 'dark', 'death', 'deep', 'deutschrock', 'deutschspr',\n",
       "       'dirty', 'disco', 'dnb', 'documentary', 'downbeat', 'downtempo',\n",
       "       'drum', 'dub', 'dubstep', 'eastern', 'easy', 'electronic',\n",
       "       'electropop', 'emo', 'entehno', 'epicmetal', 'estrada', 'ethnic',\n",
       "       'eurofolk', 'european', 'experimental', 'extrememetal', 'fado',\n",
       "       'fairytail', 'film', 'fitness', 'flamenco', 'folk', 'folklore',\n",
       "       'folkmetal', 'folkrock', 'folktronica', 'forró', 'frankreich',\n",
       "       'französisch', 'french', 'funk', 'future', 'gangsta', 'garage',\n",
       "       'german', 'ghazal', 'gitarre', 'glitch', 'gospel', 'gothic',\n",
       "       'grime', 'grunge', 'gypsy', 'handsup', \"hard'n'heavy\", 'hardcore',\n",
       "       'hardstyle', 'hardtechno', 'hiphop', 'historisch', 'holiday',\n",
       "       'horror', 'house', 'hymn', 'idm', 'independent', 'indian', 'indie',\n",
       "       'indipop', 'industrial', 'inspirational', 'instrumental',\n",
       "       'international', 'irish', 'jam', 'japanese', 'jazz', 'jewish',\n",
       "       'jpop', 'jungle', 'k-pop', 'karadeniz', 'karaoke', 'kayokyoku',\n",
       "       'korean', 'laiko', 'latin', 'latino', 'leftfield', 'local',\n",
       "       'lounge', 'loungeelectronic', 'lovers', 'malaysian', 'mandopop',\n",
       "       'marschmusik', 'meditative', 'mediterranean', 'melodic', 'metal',\n",
       "       'metalcore', 'mexican', 'middle', 'minimal', 'miscellaneous',\n",
       "       'modern', 'mood', 'mpb', 'muslim', 'native', 'neoklassik', 'neue',\n",
       "       'new', 'newage', 'newwave', 'nu', 'nujazz', 'numetal', 'oceania',\n",
       "       'old', 'opera', 'orchestral', 'other', 'piano', 'podcasts', 'pop',\n",
       "       'popdance', 'popelectronic', 'popeurodance', 'poprussian', 'post',\n",
       "       'posthardcore', 'postrock', 'power', 'progmetal', 'progressive',\n",
       "       'psychedelic', 'punjabi', 'punk', 'quebecois', 'ragga', 'ram',\n",
       "       'rancheras', 'rap', 'rave', 'reggae', 'reggaeton', 'regional',\n",
       "       'relax', 'religious', 'retro', 'rhythm', 'rnb', 'rnr', 'rock',\n",
       "       'rockabilly', 'rockalternative', 'rockindie', 'rockother',\n",
       "       'romance', 'roots', 'ruspop', 'rusrap', 'rusrock', 'russian',\n",
       "       'salsa', 'samba', 'scenic', 'schlager', 'self', 'sertanejo',\n",
       "       'shanson', 'shoegazing', 'showtunes', 'singer', 'ska', 'skarock',\n",
       "       'slow', 'smooth', 'soft', 'soul', 'soulful', 'sound', 'soundtrack',\n",
       "       'southern', 'specialty', 'speech', 'spiritual', 'sport',\n",
       "       'stonerrock', 'surf', 'swing', 'synthpop', 'synthrock',\n",
       "       'sängerportrait', 'tango', 'tanzorchester', 'taraftar', 'tatar',\n",
       "       'tech', 'techno', 'teen', 'thrash', 'top', 'traditional',\n",
       "       'tradjazz', 'trance', 'tribal', 'trip', 'triphop', 'tropical',\n",
       "       'türk', 'türkçe', 'ukrrock', 'unknown', 'urban', 'uzbek',\n",
       "       'variété', 'vi', 'videogame', 'vocal', 'western', 'world',\n",
       "       'worldbeat', 'ïîï', 'электроника'], dtype=object)"
      ]
     },
     "execution_count": 16,
     "metadata": {},
     "output_type": "execute_result"
    }
   ],
   "source": [
    "df['genre'].sort_values().unique()"
   ]
  },
  {
   "cell_type": "markdown",
   "metadata": {
    "deletable": false,
    "editable": false,
    "id": "jz6a9-7HQUDd"
   },
   "source": [
    "**Выводы**\n",
    "\n",
    "Предобработка обнаружила три проблемы в данных:\n",
    "\n",
    "- нарушения в стиле заголовков,\n",
    "- пропущенные значения,\n",
    "- дубликаты — явные и неявные.\n",
    "\n",
    "исправил заголовки, чтобы упростить работу с таблицей. Без дубликатов исследование станет более точным.\n",
    "\n",
    "пропущенные значения  заменил на `'unknown'`. Ещё предстоит увидеть, не повредят ли исследованию пропуски в колонке `genre`.\n",
    "\n",
    "теперь можно перейти к проверке гипотез. "
   ]
  },
  {
   "cell_type": "markdown",
   "metadata": {
    "deletable": false,
    "editable": false,
    "id": "WttZHXH0SqKk"
   },
   "source": [
    "## Проверка гипотез"
   ]
  },
  {
   "cell_type": "markdown",
   "metadata": {
    "deletable": false,
    "editable": false,
    "id": "Im936VVi_Zcu"
   },
   "source": [
    "### Сравнение поведения пользователей двух столиц"
   ]
  },
  {
   "cell_type": "markdown",
   "metadata": {
    "deletable": false,
    "editable": false,
    "id": "nwt_MuaL_Zcu"
   },
   "source": [
    "Первая гипотеза утверждает, что пользователи по-разному слушают музыку в Москве и Санкт-Петербурге. Проверю это предположение по данным о трёх днях недели — понедельнике, среде и пятнице. Для этого:\n",
    "\n",
    "* Разделю пользователей Москвы и Санкт-Петербурга\n",
    "* Сравню, сколько треков послушала каждая группа пользователей в понедельник, среду и пятницу.\n"
   ]
  },
  {
   "cell_type": "markdown",
   "metadata": {
    "deletable": false,
    "editable": false,
    "id": "8Dw_YMmT_Zcu",
    "tags": [
     "start_task"
    ]
   },
   "source": [
    "\n",
    "И так,  активность пользователей в каждом городе. Группирую данные по городу и посмотрю прослушивания в каждой группе.\n",
    "\n"
   ]
  },
  {
   "cell_type": "code",
   "execution_count": 17,
   "metadata": {
    "deletable": false,
    "id": "0_Qs96oh_Zcu"
   },
   "outputs": [
    {
     "data": {
      "text/plain": [
       "city\n",
       "Moscow              42741\n",
       "Saint-Petersburg    18512\n",
       "Name: genre, dtype: int64"
      ]
     },
     "metadata": {},
     "output_type": "display_data"
    }
   ],
   "source": [
    "df_cityes = df.groupby('city')['genre'].count()\n",
    "display(df_cityes)"
   ]
  },
  {
   "cell_type": "markdown",
   "metadata": {
    "deletable": false,
    "editable": false,
    "id": "dzli3w8o_Zcu",
    "tags": [
     "start_task"
    ]
   },
   "source": [
    "В Москве прослушиваний больше, чем в Петербурге. Разумеется, скорее это связано с тем, что пользователей в Москвке больше, чем о том, что в Моске больше любят пользоваться этим сервисом "
   ]
  },
  {
   "cell_type": "markdown",
   "metadata": {},
   "source": [
    "Теперь сгруппирую данные по дню недеи, чтобы узнать число  прослушивания в понедельник, среду и пятницу. Важно, что в данных есть информация только о прослушиваниях только за эти дни."
   ]
  },
  {
   "cell_type": "code",
   "execution_count": 18,
   "metadata": {
    "deletable": false,
    "id": "uZMKjiJz_Zcu"
   },
   "outputs": [
    {
     "data": {
      "text/plain": [
       "day\n",
       "Friday       21840\n",
       "Monday       21354\n",
       "Wednesday    18059\n",
       "Name: genre, dtype: int64"
      ]
     },
     "execution_count": 18,
     "metadata": {},
     "output_type": "execute_result"
    }
   ],
   "source": [
    "df_days = df.groupby('day')['genre'].count()\n",
    "df_days"
   ]
  },
  {
   "cell_type": "markdown",
   "metadata": {
    "deletable": false,
    "editable": false,
    "id": "cC2tNrlL_Zcu"
   },
   "source": [
    "В среднем пользователи из двух городов менее активны по средам. Но картина может измениться, если рассмотреть каждый город в отдельности."
   ]
  },
  {
   "cell_type": "markdown",
   "metadata": {
    "deletable": false,
    "editable": false,
    "id": "POzs8bGa_Zcu",
    "tags": [
     "start_task"
    ]
   },
   "source": [
    "\n",
    "С помощью функцию `number_tracks()`, я  узнаю прослушивания для заданного дня и города. Ей понадобятся два параметра:\n",
    "* день недели,\n",
    "* название города.\n"
   ]
  },
  {
   "cell_type": "code",
   "execution_count": 19,
   "metadata": {
    "deletable": false,
    "id": "Nz3GdQB1_Zcu"
   },
   "outputs": [
    {
     "data": {
      "text/plain": [
       "15945"
      ]
     },
     "execution_count": 19,
     "metadata": {},
     "output_type": "execute_result"
    }
   ],
   "source": [
    "def number_tracks(day, city):\n",
    "    track_list = df[df['city'] == city]\n",
    "    track_list = track_list[track_list['day'] == day]\n",
    "    track_list_count = track_list['user_id'].count()\n",
    "    return track_list_count\n",
    "\n",
    "number_tracks('Friday','Moscow')"
   ]
  },
  {
   "cell_type": "code",
   "execution_count": 20,
   "metadata": {
    "deletable": false,
    "id": "rJcRATNQ_Zcu"
   },
   "outputs": [
    {
     "data": {
      "text/plain": [
       "15740"
      ]
     },
     "execution_count": 20,
     "metadata": {},
     "output_type": "execute_result"
    }
   ],
   "source": [
    "number_tracks('Monday','Moscow')"
   ]
  },
  {
   "cell_type": "code",
   "execution_count": 21,
   "metadata": {
    "deletable": false,
    "id": "hq_ncZ5T_Zcu"
   },
   "outputs": [
    {
     "data": {
      "text/plain": [
       "5614"
      ]
     },
     "execution_count": 21,
     "metadata": {},
     "output_type": "execute_result"
    }
   ],
   "source": [
    "number_tracks('Monday','Saint-Petersburg')"
   ]
  },
  {
   "cell_type": "code",
   "execution_count": 22,
   "metadata": {
    "deletable": false,
    "id": "_NTy2VPU_Zcu"
   },
   "outputs": [
    {
     "data": {
      "text/plain": [
       "11056"
      ]
     },
     "execution_count": 22,
     "metadata": {},
     "output_type": "execute_result"
    }
   ],
   "source": [
    "number_tracks('Wednesday','Moscow')"
   ]
  },
  {
   "cell_type": "code",
   "execution_count": 23,
   "metadata": {
    "deletable": false,
    "id": "j2y3TAwo_Zcu"
   },
   "outputs": [
    {
     "data": {
      "text/plain": [
       "7003"
      ]
     },
     "execution_count": 23,
     "metadata": {},
     "output_type": "execute_result"
    }
   ],
   "source": [
    "number_tracks('Wednesday','Saint-Petersburg')"
   ]
  },
  {
   "cell_type": "code",
   "execution_count": 24,
   "metadata": {
    "deletable": false,
    "id": "vYDw5u_K_Zcu"
   },
   "outputs": [
    {
     "data": {
      "text/plain": [
       "15945"
      ]
     },
     "execution_count": 24,
     "metadata": {},
     "output_type": "execute_result"
    }
   ],
   "source": [
    "number_tracks('Friday','Moscow')"
   ]
  },
  {
   "cell_type": "code",
   "execution_count": 25,
   "metadata": {
    "deletable": false,
    "id": "8_yzFtW3_Zcu"
   },
   "outputs": [
    {
     "data": {
      "text/plain": [
       "5895"
      ]
     },
     "execution_count": 25,
     "metadata": {},
     "output_type": "execute_result"
    }
   ],
   "source": [
    "number_tracks('Friday','Saint-Petersburg')"
   ]
  },
  {
   "cell_type": "markdown",
   "metadata": {
    "deletable": false,
    "editable": false,
    "id": "7QXffbO-_Zcu",
    "tags": [
     "start_task"
    ]
   },
   "source": [
    "Создам таблицу с результатами\n",
    "* названия колонок — `['city', 'monday', 'wednesday', 'friday']`;\n",
    "* данные — результаты, которые вы получили с помощью `number_tracks`."
   ]
  },
  {
   "cell_type": "code",
   "execution_count": 26,
   "metadata": {
    "deletable": false,
    "id": "APAcLpOr_Zcu"
   },
   "outputs": [
    {
     "data": {
      "text/html": [
       "<div>\n",
       "<style scoped>\n",
       "    .dataframe tbody tr th:only-of-type {\n",
       "        vertical-align: middle;\n",
       "    }\n",
       "\n",
       "    .dataframe tbody tr th {\n",
       "        vertical-align: top;\n",
       "    }\n",
       "\n",
       "    .dataframe thead th {\n",
       "        text-align: right;\n",
       "    }\n",
       "</style>\n",
       "<table border=\"1\" class=\"dataframe\">\n",
       "  <thead>\n",
       "    <tr style=\"text-align: right;\">\n",
       "      <th></th>\n",
       "      <th>city</th>\n",
       "      <th>monday</th>\n",
       "      <th>wednesday</th>\n",
       "      <th>friday</th>\n",
       "    </tr>\n",
       "  </thead>\n",
       "  <tbody>\n",
       "    <tr>\n",
       "      <th>0</th>\n",
       "      <td>Москва</td>\n",
       "      <td>15740</td>\n",
       "      <td>11056</td>\n",
       "      <td>15945</td>\n",
       "    </tr>\n",
       "    <tr>\n",
       "      <th>1</th>\n",
       "      <td>Санкт-Петербург</td>\n",
       "      <td>5614</td>\n",
       "      <td>7003</td>\n",
       "      <td>5895</td>\n",
       "    </tr>\n",
       "  </tbody>\n",
       "</table>\n",
       "</div>"
      ],
      "text/plain": [
       "              city  monday  wednesday  friday\n",
       "0           Москва   15740      11056   15945\n",
       "1  Санкт-Петербург    5614       7003    5895"
      ]
     },
     "execution_count": 26,
     "metadata": {},
     "output_type": "execute_result"
    }
   ],
   "source": [
    "info = pd.DataFrame(data=[['Москва', 15740, 11056, 15945], ['Санкт-Петербург', 5614, 7003, 5895]], columns=['city', 'monday', 'wednesday', 'friday'])\n",
    "info \n",
    "\n"
   ]
  },
  {
   "cell_type": "markdown",
   "metadata": {
    "deletable": false,
    "editable": false,
    "id": "-EgPIHYu_Zcu"
   },
   "source": [
    "**Выводы**\n",
    "\n",
    "Данные показывают разницу поведения пользователей:\n",
    "\n",
    "- В Москве пик прослушиваний приходится на понедельник и пятницу, а в среду заметен спад.\n",
    "- В Петербурге, наоборот, больше слушают музыку по средам. Активность в понедельник и пятницу здесь почти в равной мере уступает среде.\n",
    "\n",
    "Значит, данные говорят в пользу первой гипотезы."
   ]
  },
  {
   "cell_type": "markdown",
   "metadata": {
    "deletable": false,
    "editable": false,
    "id": "atZAxtq4_Zcu"
   },
   "source": [
    "### Музыка в начале и в конце недели"
   ]
  },
  {
   "cell_type": "markdown",
   "metadata": {
    "deletable": false,
    "editable": false,
    "id": "eXrQqXFH_Zcu"
   },
   "source": [
    "Согласно второй гипотезе, утром в понедельник в Москве преобладают одни жанры, а в Петербурге — другие. Так же и вечером пятницы преобладают разные жанры — в зависимости от города."
   ]
  },
  {
   "cell_type": "code",
   "execution_count": 27,
   "metadata": {
    "deletable": false,
    "id": "qeaFfM_P_Zcu"
   },
   "outputs": [
    {
     "data": {
      "text/html": [
       "<div>\n",
       "<style scoped>\n",
       "    .dataframe tbody tr th:only-of-type {\n",
       "        vertical-align: middle;\n",
       "    }\n",
       "\n",
       "    .dataframe tbody tr th {\n",
       "        vertical-align: top;\n",
       "    }\n",
       "\n",
       "    .dataframe thead th {\n",
       "        text-align: right;\n",
       "    }\n",
       "</style>\n",
       "<table border=\"1\" class=\"dataframe\">\n",
       "  <thead>\n",
       "    <tr style=\"text-align: right;\">\n",
       "      <th></th>\n",
       "      <th>user_id</th>\n",
       "      <th>track</th>\n",
       "      <th>artist</th>\n",
       "      <th>genre</th>\n",
       "      <th>city</th>\n",
       "      <th>time</th>\n",
       "      <th>day</th>\n",
       "    </tr>\n",
       "  </thead>\n",
       "  <tbody>\n",
       "    <tr>\n",
       "      <th>1</th>\n",
       "      <td>55204538</td>\n",
       "      <td>Delayed Because of Accident</td>\n",
       "      <td>Andreas Rönnberg</td>\n",
       "      <td>rock</td>\n",
       "      <td>Moscow</td>\n",
       "      <td>14:07:09</td>\n",
       "      <td>Friday</td>\n",
       "    </tr>\n",
       "    <tr>\n",
       "      <th>4</th>\n",
       "      <td>E2DC1FAE</td>\n",
       "      <td>Soul People</td>\n",
       "      <td>Space Echo</td>\n",
       "      <td>dance</td>\n",
       "      <td>Moscow</td>\n",
       "      <td>08:34:34</td>\n",
       "      <td>Monday</td>\n",
       "    </tr>\n",
       "    <tr>\n",
       "      <th>6</th>\n",
       "      <td>4CB90AA5</td>\n",
       "      <td>True</td>\n",
       "      <td>Roman Messer</td>\n",
       "      <td>dance</td>\n",
       "      <td>Moscow</td>\n",
       "      <td>13:00:07</td>\n",
       "      <td>Wednesday</td>\n",
       "    </tr>\n",
       "    <tr>\n",
       "      <th>7</th>\n",
       "      <td>F03E1C1F</td>\n",
       "      <td>Feeling This Way</td>\n",
       "      <td>Polina Griffith</td>\n",
       "      <td>dance</td>\n",
       "      <td>Moscow</td>\n",
       "      <td>20:47:49</td>\n",
       "      <td>Wednesday</td>\n",
       "    </tr>\n",
       "    <tr>\n",
       "      <th>8</th>\n",
       "      <td>8FA1D3BE</td>\n",
       "      <td>И вновь продолжается бой</td>\n",
       "      <td>unknown</td>\n",
       "      <td>ruspop</td>\n",
       "      <td>Moscow</td>\n",
       "      <td>09:17:40</td>\n",
       "      <td>Friday</td>\n",
       "    </tr>\n",
       "    <tr>\n",
       "      <th>...</th>\n",
       "      <td>...</td>\n",
       "      <td>...</td>\n",
       "      <td>...</td>\n",
       "      <td>...</td>\n",
       "      <td>...</td>\n",
       "      <td>...</td>\n",
       "      <td>...</td>\n",
       "    </tr>\n",
       "    <tr>\n",
       "      <th>65073</th>\n",
       "      <td>83A474E7</td>\n",
       "      <td>I Worship Only What You Bleed</td>\n",
       "      <td>The Black Dahlia Murder</td>\n",
       "      <td>extrememetal</td>\n",
       "      <td>Moscow</td>\n",
       "      <td>21:07:12</td>\n",
       "      <td>Monday</td>\n",
       "    </tr>\n",
       "    <tr>\n",
       "      <th>65074</th>\n",
       "      <td>729CBB09</td>\n",
       "      <td>My Name</td>\n",
       "      <td>McLean</td>\n",
       "      <td>rnb</td>\n",
       "      <td>Moscow</td>\n",
       "      <td>13:32:28</td>\n",
       "      <td>Wednesday</td>\n",
       "    </tr>\n",
       "    <tr>\n",
       "      <th>65076</th>\n",
       "      <td>C5E3A0D5</td>\n",
       "      <td>Jalopiina</td>\n",
       "      <td>unknown</td>\n",
       "      <td>industrial</td>\n",
       "      <td>Moscow</td>\n",
       "      <td>20:09:26</td>\n",
       "      <td>Friday</td>\n",
       "    </tr>\n",
       "    <tr>\n",
       "      <th>65077</th>\n",
       "      <td>321D0506</td>\n",
       "      <td>Freight Train</td>\n",
       "      <td>Chas McDevitt</td>\n",
       "      <td>rock</td>\n",
       "      <td>Moscow</td>\n",
       "      <td>21:43:59</td>\n",
       "      <td>Friday</td>\n",
       "    </tr>\n",
       "    <tr>\n",
       "      <th>65078</th>\n",
       "      <td>3A64EF84</td>\n",
       "      <td>Tell Me Sweet Little Lies</td>\n",
       "      <td>Monica Lopez</td>\n",
       "      <td>country</td>\n",
       "      <td>Moscow</td>\n",
       "      <td>21:59:46</td>\n",
       "      <td>Friday</td>\n",
       "    </tr>\n",
       "  </tbody>\n",
       "</table>\n",
       "<p>42741 rows × 7 columns</p>\n",
       "</div>"
      ],
      "text/plain": [
       "        user_id                          track                   artist  \\\n",
       "1      55204538    Delayed Because of Accident         Andreas Rönnberg   \n",
       "4      E2DC1FAE                    Soul People               Space Echo   \n",
       "6      4CB90AA5                           True             Roman Messer   \n",
       "7      F03E1C1F               Feeling This Way          Polina Griffith   \n",
       "8      8FA1D3BE       И вновь продолжается бой                  unknown   \n",
       "...         ...                            ...                      ...   \n",
       "65073  83A474E7  I Worship Only What You Bleed  The Black Dahlia Murder   \n",
       "65074  729CBB09                        My Name                   McLean   \n",
       "65076  C5E3A0D5                      Jalopiina                  unknown   \n",
       "65077  321D0506                  Freight Train            Chas McDevitt   \n",
       "65078  3A64EF84      Tell Me Sweet Little Lies             Monica Lopez   \n",
       "\n",
       "              genre    city      time        day  \n",
       "1              rock  Moscow  14:07:09     Friday  \n",
       "4             dance  Moscow  08:34:34     Monday  \n",
       "6             dance  Moscow  13:00:07  Wednesday  \n",
       "7             dance  Moscow  20:47:49  Wednesday  \n",
       "8            ruspop  Moscow  09:17:40     Friday  \n",
       "...             ...     ...       ...        ...  \n",
       "65073  extrememetal  Moscow  21:07:12     Monday  \n",
       "65074           rnb  Moscow  13:32:28  Wednesday  \n",
       "65076    industrial  Moscow  20:09:26     Friday  \n",
       "65077          rock  Moscow  21:43:59     Friday  \n",
       "65078       country  Moscow  21:59:46     Friday  \n",
       "\n",
       "[42741 rows x 7 columns]"
      ]
     },
     "execution_count": 27,
     "metadata": {},
     "output_type": "execute_result"
    }
   ],
   "source": [
    "moscow_general = df[df['city'] == 'Moscow']\n",
    "spb_general = df[df['city'] == 'Saint-Petersburg']\n",
    "moscow_general\n"
   ]
  },
  {
   "cell_type": "markdown",
   "metadata": {
    "deletable": false,
    "id": "MEJV-CX2_Zcu",
    "tags": [
     "start_task"
    ]
   },
   "source": [
    "\n",
    "\n",
    " функцией `genre_weekday()` с четырьмя параметрами:\n",
    "* таблица (датафрейм) с данными,\n",
    "* день недели,\n",
    "* начальная временная метка в формате 'hh:mm', \n",
    "* последняя временная метка в формате 'hh:mm'.\n",
    "\n",
    " верну информацию о топ-10 жанров тех треков, которые прослушивали в указанный день, в промежутке между двумя отметками времени."
   ]
  },
  {
   "cell_type": "code",
   "execution_count": 29,
   "metadata": {
    "deletable": false,
    "id": "laJT9BYl_Zcu"
   },
   "outputs": [
    {
     "data": {
      "text/html": [
       "<div>\n",
       "<style scoped>\n",
       "    .dataframe tbody tr th:only-of-type {\n",
       "        vertical-align: middle;\n",
       "    }\n",
       "\n",
       "    .dataframe tbody tr th {\n",
       "        vertical-align: top;\n",
       "    }\n",
       "\n",
       "    .dataframe thead th {\n",
       "        text-align: right;\n",
       "    }\n",
       "</style>\n",
       "<table border=\"1\" class=\"dataframe\">\n",
       "  <thead>\n",
       "    <tr style=\"text-align: right;\">\n",
       "      <th></th>\n",
       "      <th>user_id</th>\n",
       "      <th>track</th>\n",
       "      <th>artist</th>\n",
       "      <th>genre</th>\n",
       "      <th>city</th>\n",
       "      <th>time</th>\n",
       "      <th>day</th>\n",
       "    </tr>\n",
       "  </thead>\n",
       "  <tbody>\n",
       "    <tr>\n",
       "      <th>1</th>\n",
       "      <td>55204538</td>\n",
       "      <td>Delayed Because of Accident</td>\n",
       "      <td>Andreas Rönnberg</td>\n",
       "      <td>rock</td>\n",
       "      <td>Moscow</td>\n",
       "      <td>14:07:09</td>\n",
       "      <td>Friday</td>\n",
       "    </tr>\n",
       "    <tr>\n",
       "      <th>4</th>\n",
       "      <td>E2DC1FAE</td>\n",
       "      <td>Soul People</td>\n",
       "      <td>Space Echo</td>\n",
       "      <td>dance</td>\n",
       "      <td>Moscow</td>\n",
       "      <td>08:34:34</td>\n",
       "      <td>Monday</td>\n",
       "    </tr>\n",
       "    <tr>\n",
       "      <th>6</th>\n",
       "      <td>4CB90AA5</td>\n",
       "      <td>True</td>\n",
       "      <td>Roman Messer</td>\n",
       "      <td>dance</td>\n",
       "      <td>Moscow</td>\n",
       "      <td>13:00:07</td>\n",
       "      <td>Wednesday</td>\n",
       "    </tr>\n",
       "    <tr>\n",
       "      <th>7</th>\n",
       "      <td>F03E1C1F</td>\n",
       "      <td>Feeling This Way</td>\n",
       "      <td>Polina Griffith</td>\n",
       "      <td>dance</td>\n",
       "      <td>Moscow</td>\n",
       "      <td>20:47:49</td>\n",
       "      <td>Wednesday</td>\n",
       "    </tr>\n",
       "    <tr>\n",
       "      <th>8</th>\n",
       "      <td>8FA1D3BE</td>\n",
       "      <td>И вновь продолжается бой</td>\n",
       "      <td>unknown</td>\n",
       "      <td>ruspop</td>\n",
       "      <td>Moscow</td>\n",
       "      <td>09:17:40</td>\n",
       "      <td>Friday</td>\n",
       "    </tr>\n",
       "    <tr>\n",
       "      <th>...</th>\n",
       "      <td>...</td>\n",
       "      <td>...</td>\n",
       "      <td>...</td>\n",
       "      <td>...</td>\n",
       "      <td>...</td>\n",
       "      <td>...</td>\n",
       "      <td>...</td>\n",
       "    </tr>\n",
       "    <tr>\n",
       "      <th>65073</th>\n",
       "      <td>83A474E7</td>\n",
       "      <td>I Worship Only What You Bleed</td>\n",
       "      <td>The Black Dahlia Murder</td>\n",
       "      <td>extrememetal</td>\n",
       "      <td>Moscow</td>\n",
       "      <td>21:07:12</td>\n",
       "      <td>Monday</td>\n",
       "    </tr>\n",
       "    <tr>\n",
       "      <th>65074</th>\n",
       "      <td>729CBB09</td>\n",
       "      <td>My Name</td>\n",
       "      <td>McLean</td>\n",
       "      <td>rnb</td>\n",
       "      <td>Moscow</td>\n",
       "      <td>13:32:28</td>\n",
       "      <td>Wednesday</td>\n",
       "    </tr>\n",
       "    <tr>\n",
       "      <th>65076</th>\n",
       "      <td>C5E3A0D5</td>\n",
       "      <td>Jalopiina</td>\n",
       "      <td>unknown</td>\n",
       "      <td>industrial</td>\n",
       "      <td>Moscow</td>\n",
       "      <td>20:09:26</td>\n",
       "      <td>Friday</td>\n",
       "    </tr>\n",
       "    <tr>\n",
       "      <th>65077</th>\n",
       "      <td>321D0506</td>\n",
       "      <td>Freight Train</td>\n",
       "      <td>Chas McDevitt</td>\n",
       "      <td>rock</td>\n",
       "      <td>Moscow</td>\n",
       "      <td>21:43:59</td>\n",
       "      <td>Friday</td>\n",
       "    </tr>\n",
       "    <tr>\n",
       "      <th>65078</th>\n",
       "      <td>3A64EF84</td>\n",
       "      <td>Tell Me Sweet Little Lies</td>\n",
       "      <td>Monica Lopez</td>\n",
       "      <td>country</td>\n",
       "      <td>Moscow</td>\n",
       "      <td>21:59:46</td>\n",
       "      <td>Friday</td>\n",
       "    </tr>\n",
       "  </tbody>\n",
       "</table>\n",
       "<p>42741 rows × 7 columns</p>\n",
       "</div>"
      ],
      "text/plain": [
       "        user_id                          track                   artist  \\\n",
       "1      55204538    Delayed Because of Accident         Andreas Rönnberg   \n",
       "4      E2DC1FAE                    Soul People               Space Echo   \n",
       "6      4CB90AA5                           True             Roman Messer   \n",
       "7      F03E1C1F               Feeling This Way          Polina Griffith   \n",
       "8      8FA1D3BE       И вновь продолжается бой                  unknown   \n",
       "...         ...                            ...                      ...   \n",
       "65073  83A474E7  I Worship Only What You Bleed  The Black Dahlia Murder   \n",
       "65074  729CBB09                        My Name                   McLean   \n",
       "65076  C5E3A0D5                      Jalopiina                  unknown   \n",
       "65077  321D0506                  Freight Train            Chas McDevitt   \n",
       "65078  3A64EF84      Tell Me Sweet Little Lies             Monica Lopez   \n",
       "\n",
       "              genre    city      time        day  \n",
       "1              rock  Moscow  14:07:09     Friday  \n",
       "4             dance  Moscow  08:34:34     Monday  \n",
       "6             dance  Moscow  13:00:07  Wednesday  \n",
       "7             dance  Moscow  20:47:49  Wednesday  \n",
       "8            ruspop  Moscow  09:17:40     Friday  \n",
       "...             ...     ...       ...        ...  \n",
       "65073  extrememetal  Moscow  21:07:12     Monday  \n",
       "65074           rnb  Moscow  13:32:28  Wednesday  \n",
       "65076    industrial  Moscow  20:09:26     Friday  \n",
       "65077          rock  Moscow  21:43:59     Friday  \n",
       "65078       country  Moscow  21:59:46     Friday  \n",
       "\n",
       "[42741 rows x 7 columns]"
      ]
     },
     "execution_count": 29,
     "metadata": {},
     "output_type": "execute_result"
    }
   ],
   "source": [
    "\n",
    "def genre_weekday(df, day, time1, time2):\n",
    "    # последовательная фильтрация\n",
    "    # в genre_df только те строки df, у которых день равен day\n",
    "    genre_df = df[df['day'] == day]\n",
    "    # в genre_df только те строки genre_df, у которых время меньше time2\n",
    "    genre_df = genre_df[genre_df['time'] < time2]\n",
    "    #  в genre_df только те строки genre_df, у которых время больше time1\n",
    "    genre_df = genre_df[genre_df['time'] > time1]\n",
    "    # сгруппирую отфильтрованный датафрейм по столбцу с названиями жанров, возьмём столбец genre и посчитаю кол-во строк для каждого жанра методом count()\n",
    "    genre_df_grouped = genre_df.groupby('genre')['genre'].count()\n",
    "    # отсортирую результат по убыванию (чтобы в начале Series оказались самые популярные жанры)\n",
    "    genre_df_sorted = genre_df_grouped.sort_values(ascending=False)\n",
    "    # верну Series с 10 самыми популярными жанрами в указанный отрезок времени заданного дня\n",
    "    return genre_df_sorted[:10] \n",
    "genre_weekday(moscow_general, 'Monday', '07:00', '11:00')\n",
    "moscow_general"
   ]
  },
  {
   "cell_type": "markdown",
   "metadata": {
    "deletable": false,
    "editable": false,
    "id": "la2s2_PF_Zcu",
    "tags": [
     "start_task"
    ]
   },
   "source": [
    "\n",
    "\n",
    "Теперь сравниваю результаты функции `genre_weekday()` для Москвы и Санкт-Петербурга в понедельник утром (с 7:00 до 11:00) и в пятницу вечером (с 17:00 до 23:00):"
   ]
  },
  {
   "cell_type": "code",
   "execution_count": 30,
   "metadata": {
    "deletable": false,
    "id": "yz7itPUQ_Zcu"
   },
   "outputs": [
    {
     "data": {
      "text/plain": [
       "genre\n",
       "pop            781\n",
       "dance          549\n",
       "electronic     480\n",
       "rock           474\n",
       "hiphop         286\n",
       "ruspop         186\n",
       "world          181\n",
       "rusrap         175\n",
       "alternative    164\n",
       "unknown        161\n",
       "Name: genre, dtype: int64"
      ]
     },
     "execution_count": 30,
     "metadata": {},
     "output_type": "execute_result"
    }
   ],
   "source": [
    "genre_weekday(moscow_general, 'Monday', '07:00', '11:00')"
   ]
  },
  {
   "cell_type": "code",
   "execution_count": 31,
   "metadata": {
    "deletable": false,
    "id": "kwUcHPdy_Zcu"
   },
   "outputs": [
    {
     "data": {
      "text/plain": [
       "genre\n",
       "pop            218\n",
       "dance          182\n",
       "rock           162\n",
       "electronic     147\n",
       "hiphop          80\n",
       "ruspop          64\n",
       "alternative     58\n",
       "rusrap          55\n",
       "jazz            44\n",
       "classical       40\n",
       "Name: genre, dtype: int64"
      ]
     },
     "execution_count": 31,
     "metadata": {},
     "output_type": "execute_result"
    }
   ],
   "source": [
    "genre_weekday(spb_general, 'Monday', '07:00', '11:00')"
   ]
  },
  {
   "cell_type": "code",
   "execution_count": 32,
   "metadata": {
    "deletable": false,
    "id": "EzXVRE1o_Zcu"
   },
   "outputs": [
    {
     "data": {
      "text/plain": [
       "genre\n",
       "pop            713\n",
       "rock           517\n",
       "dance          495\n",
       "electronic     482\n",
       "hiphop         273\n",
       "world          208\n",
       "ruspop         170\n",
       "alternative    163\n",
       "classical      163\n",
       "rusrap         142\n",
       "Name: genre, dtype: int64"
      ]
     },
     "execution_count": 32,
     "metadata": {},
     "output_type": "execute_result"
    }
   ],
   "source": [
    "genre_weekday(moscow_general, 'Friday', '17:00', '23:00')"
   ]
  },
  {
   "cell_type": "code",
   "execution_count": 33,
   "metadata": {
    "deletable": false,
    "id": "JZaEKu5v_Zcu"
   },
   "outputs": [
    {
     "data": {
      "text/html": [
       "<div>\n",
       "<style scoped>\n",
       "    .dataframe tbody tr th:only-of-type {\n",
       "        vertical-align: middle;\n",
       "    }\n",
       "\n",
       "    .dataframe tbody tr th {\n",
       "        vertical-align: top;\n",
       "    }\n",
       "\n",
       "    .dataframe thead th {\n",
       "        text-align: right;\n",
       "    }\n",
       "</style>\n",
       "<table border=\"1\" class=\"dataframe\">\n",
       "  <thead>\n",
       "    <tr style=\"text-align: right;\">\n",
       "      <th></th>\n",
       "      <th>user_id</th>\n",
       "      <th>track</th>\n",
       "      <th>artist</th>\n",
       "      <th>genre</th>\n",
       "      <th>city</th>\n",
       "      <th>time</th>\n",
       "      <th>day</th>\n",
       "    </tr>\n",
       "  </thead>\n",
       "  <tbody>\n",
       "    <tr>\n",
       "      <th>1</th>\n",
       "      <td>55204538</td>\n",
       "      <td>Delayed Because of Accident</td>\n",
       "      <td>Andreas Rönnberg</td>\n",
       "      <td>rock</td>\n",
       "      <td>Moscow</td>\n",
       "      <td>14:07:09</td>\n",
       "      <td>Friday</td>\n",
       "    </tr>\n",
       "    <tr>\n",
       "      <th>4</th>\n",
       "      <td>E2DC1FAE</td>\n",
       "      <td>Soul People</td>\n",
       "      <td>Space Echo</td>\n",
       "      <td>dance</td>\n",
       "      <td>Moscow</td>\n",
       "      <td>08:34:34</td>\n",
       "      <td>Monday</td>\n",
       "    </tr>\n",
       "    <tr>\n",
       "      <th>6</th>\n",
       "      <td>4CB90AA5</td>\n",
       "      <td>True</td>\n",
       "      <td>Roman Messer</td>\n",
       "      <td>dance</td>\n",
       "      <td>Moscow</td>\n",
       "      <td>13:00:07</td>\n",
       "      <td>Wednesday</td>\n",
       "    </tr>\n",
       "    <tr>\n",
       "      <th>7</th>\n",
       "      <td>F03E1C1F</td>\n",
       "      <td>Feeling This Way</td>\n",
       "      <td>Polina Griffith</td>\n",
       "      <td>dance</td>\n",
       "      <td>Moscow</td>\n",
       "      <td>20:47:49</td>\n",
       "      <td>Wednesday</td>\n",
       "    </tr>\n",
       "    <tr>\n",
       "      <th>8</th>\n",
       "      <td>8FA1D3BE</td>\n",
       "      <td>И вновь продолжается бой</td>\n",
       "      <td>unknown</td>\n",
       "      <td>ruspop</td>\n",
       "      <td>Moscow</td>\n",
       "      <td>09:17:40</td>\n",
       "      <td>Friday</td>\n",
       "    </tr>\n",
       "    <tr>\n",
       "      <th>...</th>\n",
       "      <td>...</td>\n",
       "      <td>...</td>\n",
       "      <td>...</td>\n",
       "      <td>...</td>\n",
       "      <td>...</td>\n",
       "      <td>...</td>\n",
       "      <td>...</td>\n",
       "    </tr>\n",
       "    <tr>\n",
       "      <th>65073</th>\n",
       "      <td>83A474E7</td>\n",
       "      <td>I Worship Only What You Bleed</td>\n",
       "      <td>The Black Dahlia Murder</td>\n",
       "      <td>extrememetal</td>\n",
       "      <td>Moscow</td>\n",
       "      <td>21:07:12</td>\n",
       "      <td>Monday</td>\n",
       "    </tr>\n",
       "    <tr>\n",
       "      <th>65074</th>\n",
       "      <td>729CBB09</td>\n",
       "      <td>My Name</td>\n",
       "      <td>McLean</td>\n",
       "      <td>rnb</td>\n",
       "      <td>Moscow</td>\n",
       "      <td>13:32:28</td>\n",
       "      <td>Wednesday</td>\n",
       "    </tr>\n",
       "    <tr>\n",
       "      <th>65076</th>\n",
       "      <td>C5E3A0D5</td>\n",
       "      <td>Jalopiina</td>\n",
       "      <td>unknown</td>\n",
       "      <td>industrial</td>\n",
       "      <td>Moscow</td>\n",
       "      <td>20:09:26</td>\n",
       "      <td>Friday</td>\n",
       "    </tr>\n",
       "    <tr>\n",
       "      <th>65077</th>\n",
       "      <td>321D0506</td>\n",
       "      <td>Freight Train</td>\n",
       "      <td>Chas McDevitt</td>\n",
       "      <td>rock</td>\n",
       "      <td>Moscow</td>\n",
       "      <td>21:43:59</td>\n",
       "      <td>Friday</td>\n",
       "    </tr>\n",
       "    <tr>\n",
       "      <th>65078</th>\n",
       "      <td>3A64EF84</td>\n",
       "      <td>Tell Me Sweet Little Lies</td>\n",
       "      <td>Monica Lopez</td>\n",
       "      <td>country</td>\n",
       "      <td>Moscow</td>\n",
       "      <td>21:59:46</td>\n",
       "      <td>Friday</td>\n",
       "    </tr>\n",
       "  </tbody>\n",
       "</table>\n",
       "<p>42741 rows × 7 columns</p>\n",
       "</div>"
      ],
      "text/plain": [
       "        user_id                          track                   artist  \\\n",
       "1      55204538    Delayed Because of Accident         Andreas Rönnberg   \n",
       "4      E2DC1FAE                    Soul People               Space Echo   \n",
       "6      4CB90AA5                           True             Roman Messer   \n",
       "7      F03E1C1F               Feeling This Way          Polina Griffith   \n",
       "8      8FA1D3BE       И вновь продолжается бой                  unknown   \n",
       "...         ...                            ...                      ...   \n",
       "65073  83A474E7  I Worship Only What You Bleed  The Black Dahlia Murder   \n",
       "65074  729CBB09                        My Name                   McLean   \n",
       "65076  C5E3A0D5                      Jalopiina                  unknown   \n",
       "65077  321D0506                  Freight Train            Chas McDevitt   \n",
       "65078  3A64EF84      Tell Me Sweet Little Lies             Monica Lopez   \n",
       "\n",
       "              genre    city      time        day  \n",
       "1              rock  Moscow  14:07:09     Friday  \n",
       "4             dance  Moscow  08:34:34     Monday  \n",
       "6             dance  Moscow  13:00:07  Wednesday  \n",
       "7             dance  Moscow  20:47:49  Wednesday  \n",
       "8            ruspop  Moscow  09:17:40     Friday  \n",
       "...             ...     ...       ...        ...  \n",
       "65073  extrememetal  Moscow  21:07:12     Monday  \n",
       "65074           rnb  Moscow  13:32:28  Wednesday  \n",
       "65076    industrial  Moscow  20:09:26     Friday  \n",
       "65077          rock  Moscow  21:43:59     Friday  \n",
       "65078       country  Moscow  21:59:46     Friday  \n",
       "\n",
       "[42741 rows x 7 columns]"
      ]
     },
     "execution_count": 33,
     "metadata": {},
     "output_type": "execute_result"
    }
   ],
   "source": [
    "genre_weekday(spb_general, 'Friday', '17:00', '23:00')\n",
    "moscow_general"
   ]
  },
  {
   "cell_type": "markdown",
   "metadata": {
    "deletable": false,
    "editable": false,
    "id": "wrCe4MNX_Zcu"
   },
   "source": [
    "**Выводы**\n",
    "\n",
    "Если сравнить топ-10 жанров в понедельник утром, можно сделать такие выводы:\n",
    "\n",
    "1. В Москве и Петербурге слушают похожую музыку. Единственное отличие — в московский рейтинг вошёл жанр “world”, а в петербургский — джаз и классика.\n",
    "\n",
    "2. В Москве пропущенных значений оказалось так много, что значение `'unknown'` заняло десятое место среди самых популярных жанров. Значит, пропущенные значения занимают существенную долю в данных и угрожают достоверности исследования.\n",
    "\n",
    "Вечер пятницы не меняет эту картину. Некоторые жанры поднимаются немного выше, другие спускаются, но в целом топ-10 остаётся тем же самым.\n",
    "\n",
    "Таким образом, вторая гипотеза подтвердилась лишь частично:\n",
    "* Пользователи слушают похожую музыку в начале недели и в конце.\n",
    "* Разница между Москвой и Петербургом не слишком выражена. В Москве чаще слушают русскую популярную музыку, в Петербурге — джаз.\n",
    "\n",
    "Однако пропуски в данных ставят под сомнение этот результат. В Москве их так много, что рейтинг топ-10 мог бы выглядеть иначе, если бы не утерянные  данные о жанрах."
   ]
  },
  {
   "cell_type": "markdown",
   "metadata": {
    "deletable": false,
    "editable": false,
    "id": "JolODAqr_Zcu"
   },
   "source": [
    "### Жанровые предпочтения в Москве и Петербурге\n",
    "\n",
    "Гипотеза: Петербург — столица рэпа, музыку этого жанра там слушают чаще, чем в Москве.  А Москва — город контрастов, в котором, тем не менее, преобладает поп-музыка."
   ]
  },
  {
   "cell_type": "markdown",
   "metadata": {
    "deletable": false,
    "editable": false,
    "id": "DlegSvaT_Zcu",
    "tags": [
     "start_task"
    ]
   },
   "source": [
    "\n",
    "\n",
    "Сгруппирую таблицу `moscow_general` по жанру и считаю кол-во прослушиваний треков каждого жанра методом `count()`. Затем сортируем результат в порядке убывания, сохранив его в таблице `moscow_genres`."
   ]
  },
  {
   "cell_type": "code",
   "execution_count": 34,
   "metadata": {
    "deletable": false,
    "id": "r19lIPke_Zcu"
   },
   "outputs": [],
   "source": [
    "\n",
    "moscow_genres  = moscow_general.groupby('genre')['genre'].count().sort_values(ascending=False)\n"
   ]
  },
  {
   "cell_type": "code",
   "execution_count": 35,
   "metadata": {
    "deletable": false,
    "id": "WhCSooF8_Zcv"
   },
   "outputs": [
    {
     "data": {
      "text/plain": [
       "genre\n",
       "pop            5892\n",
       "dance          4435\n",
       "rock           3965\n",
       "electronic     3786\n",
       "hiphop         2096\n",
       "classical      1616\n",
       "world          1432\n",
       "alternative    1379\n",
       "ruspop         1372\n",
       "rusrap         1161\n",
       "Name: genre, dtype: int64"
      ]
     },
     "execution_count": 35,
     "metadata": {},
     "output_type": "execute_result"
    }
   ],
   "source": [
    "moscow_genres.head(10)"
   ]
  },
  {
   "cell_type": "markdown",
   "metadata": {
    "deletable": false,
    "editable": false,
    "id": "cnPG2vnN_Zcv",
    "tags": [
     "start_task"
    ]
   },
   "source": [
    "Повторю операцию для Питера"
   ]
  },
  {
   "cell_type": "code",
   "execution_count": 36,
   "metadata": {
    "deletable": false,
    "id": "gluLIpE7_Zcv"
   },
   "outputs": [],
   "source": [
    "spb_genres = spb_general.groupby('genre')['genre'].count().sort_values(ascending = False)\n"
   ]
  },
  {
   "cell_type": "code",
   "execution_count": 37,
   "metadata": {
    "deletable": false,
    "id": "uaGJHjVU_Zcv"
   },
   "outputs": [
    {
     "data": {
      "text/plain": [
       "genre\n",
       "pop            2431\n",
       "dance          1932\n",
       "rock           1879\n",
       "electronic     1736\n",
       "hiphop          960\n",
       "alternative     649\n",
       "classical       646\n",
       "rusrap          564\n",
       "ruspop          538\n",
       "world           515\n",
       "Name: genre, dtype: int64"
      ]
     },
     "execution_count": 37,
     "metadata": {},
     "output_type": "execute_result"
    }
   ],
   "source": [
    "spb_genres.head(10)"
   ]
  },
  {
   "cell_type": "markdown",
   "metadata": {
    "deletable": false,
    "editable": false,
    "id": "RY51YJYu_Zcv"
   },
   "source": [
    "**Выводы**"
   ]
  },
  {
   "cell_type": "markdown",
   "metadata": {
    "deletable": false,
    "editable": false,
    "id": "nVhnJEm__Zcv"
   },
   "source": [
    "Гипотеза частично подтвердилась:\n",
    "* Поп-музыка — самый популярный жанр в Москве, как и предполагала гипотеза. Более того, в топ-10 жанров встречается близкий жанр — русская популярная музыка.\n",
    "* Вопреки ожиданиям, рэп одинаково популярен в Москве и Петербурге. \n"
   ]
  },
  {
   "cell_type": "markdown",
   "metadata": {
    "deletable": false,
    "editable": false,
    "id": "ykKQ0N65_Zcv"
   },
   "source": [
    "## Итоги исследования"
   ]
  },
  {
   "cell_type": "markdown",
   "metadata": {
    "deletable": false,
    "editable": false,
    "id": "tjUwbHb3_Zcv"
   },
   "source": [
    "Были проверены три гипотезы:\n",
    "\n",
    "1. День недели по-разному влияет на активность пользователей в Москве и Петербурге. \n",
    "\n",
    "Первая гипотеза полностью подтвердилась.\n",
    "\n",
    "2. Музыкальные предпочтения не сильно меняются в течение недели — будь то Москва или Петербург. Небольшие различия заметны в начале недели, по понедельникам:\n",
    "* в Москве слушают музыку жанра “world”,\n",
    "* в Петербурге — джаз и классику.\n",
    "\n",
    "Таким образом, вторая гипотеза подтвердилась лишь отчасти. Этот результат мог оказаться иным, если бы не пропуски в данных.\n",
    "\n",
    "3. Во вкусах пользователей Москвы и Петербурга больше общего чем различий. Вопреки ожиданиям, предпочтения жанров в Петербурге напоминают московские.\n",
    "\n",
    "Третья гипотеза не подтвердилась. Если различия в предпочтениях и существуют, на основной массе пользователей они незаметны.\n",
    "\n",
    "**Для доработки проекта я бы также провел статистические тесты для возможности подтверждения гипотез**"
   ]
  },
  {
   "cell_type": "markdown",
   "metadata": {},
   "source": []
  }
 ],
 "metadata": {
  "ExecuteTimeLog": [
   {
    "duration": 350,
    "start_time": "2023-03-11T16:46:46.075Z"
   },
   {
    "duration": 157,
    "start_time": "2023-03-11T16:48:16.942Z"
   },
   {
    "duration": 170,
    "start_time": "2023-03-11T16:48:23.275Z"
   },
   {
    "duration": 156,
    "start_time": "2023-03-11T16:48:30.037Z"
   },
   {
    "duration": 154,
    "start_time": "2023-03-11T16:57:36.301Z"
   },
   {
    "duration": 14,
    "start_time": "2023-03-11T16:58:15.223Z"
   },
   {
    "duration": 43,
    "start_time": "2023-03-11T16:58:38.299Z"
   },
   {
    "duration": 3,
    "start_time": "2023-03-11T17:00:45.575Z"
   },
   {
    "duration": 4,
    "start_time": "2023-03-11T17:01:53.722Z"
   },
   {
    "duration": 85,
    "start_time": "2023-03-11T17:03:45.263Z"
   },
   {
    "duration": 19,
    "start_time": "2023-03-11T17:05:02.527Z"
   },
   {
    "duration": 14,
    "start_time": "2023-03-11T17:06:20.602Z"
   },
   {
    "duration": 8,
    "start_time": "2023-03-11T17:06:30.909Z"
   },
   {
    "duration": 6,
    "start_time": "2023-03-11T17:07:10.742Z"
   },
   {
    "duration": 4,
    "start_time": "2023-03-11T17:07:32.323Z"
   },
   {
    "duration": 32,
    "start_time": "2023-03-11T17:08:07.359Z"
   },
   {
    "duration": 28,
    "start_time": "2023-03-11T17:08:20.327Z"
   },
   {
    "duration": 61,
    "start_time": "2023-03-11T17:13:08.996Z"
   },
   {
    "duration": 7,
    "start_time": "2023-03-11T17:17:59.566Z"
   },
   {
    "duration": 1146,
    "start_time": "2023-03-11T17:18:40.646Z"
   },
   {
    "duration": 47,
    "start_time": "2023-03-11T17:19:10.991Z"
   },
   {
    "duration": 49,
    "start_time": "2023-03-11T17:21:02.783Z"
   },
   {
    "duration": 69,
    "start_time": "2023-03-11T17:32:31.416Z"
   },
   {
    "duration": 8,
    "start_time": "2023-03-11T17:32:38.874Z"
   },
   {
    "duration": 32,
    "start_time": "2023-03-11T17:32:52.911Z"
   },
   {
    "duration": 21,
    "start_time": "2023-03-11T17:33:19.291Z"
   },
   {
    "duration": 57,
    "start_time": "2023-03-11T18:04:23.690Z"
   },
   {
    "duration": 63,
    "start_time": "2023-03-11T18:04:38.225Z"
   },
   {
    "duration": 51,
    "start_time": "2023-03-11T18:04:59.675Z"
   },
   {
    "duration": 63,
    "start_time": "2023-03-11T18:14:35.753Z"
   },
   {
    "duration": 61,
    "start_time": "2023-03-11T18:14:46.132Z"
   },
   {
    "duration": 53,
    "start_time": "2023-03-11T18:14:47.481Z"
   },
   {
    "duration": 64,
    "start_time": "2023-03-11T18:15:16.477Z"
   },
   {
    "duration": 66,
    "start_time": "2023-03-11T18:15:28.568Z"
   },
   {
    "duration": 72,
    "start_time": "2023-03-11T18:15:55.163Z"
   },
   {
    "duration": 66,
    "start_time": "2023-03-11T18:16:41.219Z"
   },
   {
    "duration": 6031,
    "start_time": "2023-03-11T18:16:57.464Z"
   },
   {
    "duration": 108,
    "start_time": "2023-03-11T18:17:30.833Z"
   },
   {
    "duration": 62,
    "start_time": "2023-03-11T18:17:50.277Z"
   },
   {
    "duration": 71,
    "start_time": "2023-03-11T18:17:51.561Z"
   },
   {
    "duration": 78,
    "start_time": "2023-03-11T18:17:53.149Z"
   },
   {
    "duration": 68,
    "start_time": "2023-03-11T18:18:10.430Z"
   },
   {
    "duration": 66,
    "start_time": "2023-03-11T18:18:23.708Z"
   },
   {
    "duration": 62,
    "start_time": "2023-03-11T18:18:25.655Z"
   },
   {
    "duration": 62,
    "start_time": "2023-03-11T18:18:39.480Z"
   },
   {
    "duration": 62,
    "start_time": "2023-03-11T18:18:51.167Z"
   },
   {
    "duration": 6,
    "start_time": "2023-03-11T18:22:18.775Z"
   },
   {
    "duration": 10,
    "start_time": "2023-03-11T18:22:32.488Z"
   },
   {
    "duration": 8,
    "start_time": "2023-03-11T18:23:51.549Z"
   },
   {
    "duration": 9,
    "start_time": "2023-03-11T18:23:57.973Z"
   },
   {
    "duration": 8,
    "start_time": "2023-03-11T18:24:43.179Z"
   },
   {
    "duration": 22,
    "start_time": "2023-03-11T18:25:33.426Z"
   },
   {
    "duration": 12,
    "start_time": "2023-03-11T18:25:56.635Z"
   },
   {
    "duration": 74,
    "start_time": "2023-03-11T18:26:57.614Z"
   },
   {
    "duration": 9,
    "start_time": "2023-03-11T18:27:03.429Z"
   },
   {
    "duration": 7,
    "start_time": "2023-03-11T18:28:04.065Z"
   },
   {
    "duration": 9,
    "start_time": "2023-03-11T18:28:23.440Z"
   },
   {
    "duration": 9,
    "start_time": "2023-03-11T18:28:42.497Z"
   },
   {
    "duration": 9,
    "start_time": "2023-03-11T18:29:34.838Z"
   },
   {
    "duration": 35,
    "start_time": "2023-03-11T18:30:05.469Z"
   },
   {
    "duration": 12,
    "start_time": "2023-03-11T18:30:18.677Z"
   },
   {
    "duration": 7,
    "start_time": "2023-03-11T18:30:42.236Z"
   },
   {
    "duration": 821,
    "start_time": "2023-03-11T18:30:43.973Z"
   },
   {
    "duration": 814,
    "start_time": "2023-03-11T18:31:01.068Z"
   },
   {
    "duration": 825,
    "start_time": "2023-03-11T18:31:30.484Z"
   },
   {
    "duration": 853,
    "start_time": "2023-03-11T18:34:08.828Z"
   },
   {
    "duration": 836,
    "start_time": "2023-03-11T18:34:39.869Z"
   },
   {
    "duration": 806,
    "start_time": "2023-03-11T18:34:46.569Z"
   },
   {
    "duration": 914,
    "start_time": "2023-03-11T18:34:59.833Z"
   },
   {
    "duration": 3,
    "start_time": "2023-03-11T18:35:22.662Z"
   },
   {
    "duration": 3,
    "start_time": "2023-03-11T18:35:32.356Z"
   },
   {
    "duration": 178,
    "start_time": "2023-03-11T18:35:34.018Z"
   },
   {
    "duration": 9,
    "start_time": "2023-03-11T18:35:34.845Z"
   },
   {
    "duration": 26,
    "start_time": "2023-03-11T18:35:35.145Z"
   },
   {
    "duration": 3,
    "start_time": "2023-03-11T18:35:35.524Z"
   },
   {
    "duration": 4,
    "start_time": "2023-03-11T18:35:35.938Z"
   },
   {
    "duration": 6,
    "start_time": "2023-03-11T18:35:36.266Z"
   },
   {
    "duration": 4,
    "start_time": "2023-03-11T18:35:36.438Z"
   },
   {
    "duration": 22,
    "start_time": "2023-03-11T18:35:36.760Z"
   },
   {
    "duration": 35,
    "start_time": "2023-03-11T18:35:37.165Z"
   },
   {
    "duration": 24,
    "start_time": "2023-03-11T18:35:37.418Z"
   },
   {
    "duration": 81,
    "start_time": "2023-03-11T18:35:37.592Z"
   },
   {
    "duration": 56,
    "start_time": "2023-03-11T18:35:37.770Z"
   },
   {
    "duration": 53,
    "start_time": "2023-03-11T18:35:37.957Z"
   },
   {
    "duration": 33,
    "start_time": "2023-03-11T18:35:38.275Z"
   },
   {
    "duration": 35,
    "start_time": "2023-03-11T18:35:45.039Z"
   },
   {
    "duration": 14,
    "start_time": "2023-03-11T18:35:57.581Z"
   },
   {
    "duration": 7,
    "start_time": "2023-03-11T18:36:03.490Z"
   },
   {
    "duration": 14,
    "start_time": "2023-03-11T18:36:40.785Z"
   },
   {
    "duration": 13,
    "start_time": "2023-03-11T18:36:44.332Z"
   },
   {
    "duration": 1114,
    "start_time": "2023-03-11T18:38:30.601Z"
   },
   {
    "duration": 32,
    "start_time": "2023-03-11T18:38:40.596Z"
   },
   {
    "duration": 32,
    "start_time": "2023-03-11T18:38:42.893Z"
   },
   {
    "duration": 5,
    "start_time": "2023-03-11T18:38:59.732Z"
   },
   {
    "duration": 6,
    "start_time": "2023-03-11T18:40:04.773Z"
   },
   {
    "duration": 862,
    "start_time": "2023-03-11T18:40:16.731Z"
   },
   {
    "duration": 10,
    "start_time": "2023-03-11T18:40:30.296Z"
   },
   {
    "duration": 69,
    "start_time": "2023-03-11T18:41:03.279Z"
   },
   {
    "duration": 10,
    "start_time": "2023-03-11T18:41:13.654Z"
   },
   {
    "duration": 23,
    "start_time": "2023-03-11T18:41:25.642Z"
   },
   {
    "duration": 12,
    "start_time": "2023-03-11T18:41:30.035Z"
   },
   {
    "duration": 11,
    "start_time": "2023-03-11T18:41:41.447Z"
   },
   {
    "duration": 4,
    "start_time": "2023-03-11T18:41:47.435Z"
   },
   {
    "duration": 380,
    "start_time": "2023-03-11T18:44:18.147Z"
   },
   {
    "duration": 172,
    "start_time": "2023-03-11T18:44:18.529Z"
   },
   {
    "duration": 10,
    "start_time": "2023-03-11T18:44:18.703Z"
   },
   {
    "duration": 39,
    "start_time": "2023-03-11T18:44:18.715Z"
   },
   {
    "duration": 2,
    "start_time": "2023-03-11T18:44:18.756Z"
   },
   {
    "duration": 8,
    "start_time": "2023-03-11T18:44:18.759Z"
   },
   {
    "duration": 9,
    "start_time": "2023-03-11T18:44:18.768Z"
   },
   {
    "duration": 6,
    "start_time": "2023-03-11T18:44:18.778Z"
   },
   {
    "duration": 23,
    "start_time": "2023-03-11T18:44:18.785Z"
   },
   {
    "duration": 59,
    "start_time": "2023-03-11T18:44:18.810Z"
   },
   {
    "duration": 21,
    "start_time": "2023-03-11T18:44:18.870Z"
   },
   {
    "duration": 73,
    "start_time": "2023-03-11T18:44:18.892Z"
   },
   {
    "duration": 61,
    "start_time": "2023-03-11T18:44:18.966Z"
   },
   {
    "duration": 68,
    "start_time": "2023-03-11T18:44:19.029Z"
   },
   {
    "duration": 43,
    "start_time": "2023-03-11T18:44:19.098Z"
   },
   {
    "duration": 888,
    "start_time": "2023-03-11T18:44:19.143Z"
   },
   {
    "duration": 0,
    "start_time": "2023-03-11T18:44:20.033Z"
   },
   {
    "duration": 0,
    "start_time": "2023-03-11T18:44:20.035Z"
   },
   {
    "duration": 0,
    "start_time": "2023-03-11T18:44:20.036Z"
   },
   {
    "duration": 0,
    "start_time": "2023-03-11T18:44:20.037Z"
   },
   {
    "duration": 0,
    "start_time": "2023-03-11T18:44:20.038Z"
   },
   {
    "duration": 0,
    "start_time": "2023-03-11T18:44:20.039Z"
   },
   {
    "duration": 0,
    "start_time": "2023-03-11T18:44:20.040Z"
   },
   {
    "duration": 1,
    "start_time": "2023-03-11T18:44:20.041Z"
   },
   {
    "duration": 0,
    "start_time": "2023-03-11T18:44:20.043Z"
   },
   {
    "duration": 0,
    "start_time": "2023-03-11T18:44:20.044Z"
   },
   {
    "duration": 0,
    "start_time": "2023-03-11T18:44:20.045Z"
   },
   {
    "duration": 0,
    "start_time": "2023-03-11T18:44:20.046Z"
   },
   {
    "duration": 0,
    "start_time": "2023-03-11T18:44:20.047Z"
   },
   {
    "duration": 0,
    "start_time": "2023-03-11T18:44:20.048Z"
   },
   {
    "duration": 0,
    "start_time": "2023-03-11T18:44:20.049Z"
   },
   {
    "duration": 0,
    "start_time": "2023-03-11T18:44:20.050Z"
   },
   {
    "duration": 0,
    "start_time": "2023-03-11T18:44:20.051Z"
   },
   {
    "duration": 0,
    "start_time": "2023-03-11T18:44:20.052Z"
   },
   {
    "duration": 0,
    "start_time": "2023-03-11T18:44:20.053Z"
   },
   {
    "duration": 0,
    "start_time": "2023-03-11T18:44:20.054Z"
   },
   {
    "duration": 0,
    "start_time": "2023-03-11T18:44:20.055Z"
   },
   {
    "duration": 0,
    "start_time": "2023-03-11T18:44:20.056Z"
   },
   {
    "duration": 32,
    "start_time": "2023-03-11T18:44:45.611Z"
   },
   {
    "duration": 8,
    "start_time": "2023-03-11T18:44:50.320Z"
   },
   {
    "duration": 4,
    "start_time": "2023-03-11T18:44:52.808Z"
   },
   {
    "duration": 4,
    "start_time": "2023-03-11T18:44:56.500Z"
   },
   {
    "duration": 14,
    "start_time": "2023-03-11T18:45:02.347Z"
   },
   {
    "duration": 3,
    "start_time": "2023-03-11T18:45:09.768Z"
   },
   {
    "duration": 7,
    "start_time": "2023-03-11T18:45:36.403Z"
   },
   {
    "duration": 6,
    "start_time": "2023-03-11T18:45:51.756Z"
   },
   {
    "duration": 5,
    "start_time": "2023-03-11T18:51:34.374Z"
   },
   {
    "duration": 6,
    "start_time": "2023-03-11T18:51:56.005Z"
   },
   {
    "duration": 6,
    "start_time": "2023-03-11T18:53:37.757Z"
   },
   {
    "duration": 5,
    "start_time": "2023-03-11T18:53:42.343Z"
   },
   {
    "duration": 14,
    "start_time": "2023-03-11T18:53:52.857Z"
   },
   {
    "duration": 358,
    "start_time": "2023-03-11T18:54:43.467Z"
   },
   {
    "duration": 163,
    "start_time": "2023-03-11T18:54:43.827Z"
   },
   {
    "duration": 9,
    "start_time": "2023-03-11T18:54:43.992Z"
   },
   {
    "duration": 37,
    "start_time": "2023-03-11T18:54:44.003Z"
   },
   {
    "duration": 3,
    "start_time": "2023-03-11T18:54:44.041Z"
   },
   {
    "duration": 7,
    "start_time": "2023-03-11T18:54:44.045Z"
   },
   {
    "duration": 6,
    "start_time": "2023-03-11T18:54:44.053Z"
   },
   {
    "duration": 7,
    "start_time": "2023-03-11T18:54:44.060Z"
   },
   {
    "duration": 25,
    "start_time": "2023-03-11T18:54:44.069Z"
   },
   {
    "duration": 54,
    "start_time": "2023-03-11T18:54:44.096Z"
   },
   {
    "duration": 23,
    "start_time": "2023-03-11T18:54:44.151Z"
   },
   {
    "duration": 78,
    "start_time": "2023-03-11T18:54:44.175Z"
   },
   {
    "duration": 2,
    "start_time": "2023-03-11T18:54:44.254Z"
   },
   {
    "duration": 13,
    "start_time": "2023-03-11T18:54:44.258Z"
   },
   {
    "duration": 11,
    "start_time": "2023-03-11T18:54:44.272Z"
   },
   {
    "duration": 8,
    "start_time": "2023-03-11T18:54:44.284Z"
   },
   {
    "duration": 7,
    "start_time": "2023-03-11T18:54:44.293Z"
   },
   {
    "duration": 7,
    "start_time": "2023-03-11T18:54:44.301Z"
   },
   {
    "duration": 6,
    "start_time": "2023-03-11T18:54:44.310Z"
   },
   {
    "duration": 9,
    "start_time": "2023-03-11T18:54:44.318Z"
   },
   {
    "duration": 6,
    "start_time": "2023-03-11T18:54:44.328Z"
   },
   {
    "duration": 4,
    "start_time": "2023-03-11T18:54:44.335Z"
   },
   {
    "duration": 14,
    "start_time": "2023-03-11T18:54:44.341Z"
   },
   {
    "duration": 21,
    "start_time": "2023-03-11T18:54:44.356Z"
   },
   {
    "duration": 80,
    "start_time": "2023-03-11T18:54:44.378Z"
   },
   {
    "duration": 0,
    "start_time": "2023-03-11T18:54:44.459Z"
   },
   {
    "duration": 0,
    "start_time": "2023-03-11T18:54:44.461Z"
   },
   {
    "duration": 0,
    "start_time": "2023-03-11T18:54:44.461Z"
   },
   {
    "duration": 0,
    "start_time": "2023-03-11T18:54:44.462Z"
   },
   {
    "duration": 0,
    "start_time": "2023-03-11T18:54:44.463Z"
   },
   {
    "duration": 0,
    "start_time": "2023-03-11T18:54:44.464Z"
   },
   {
    "duration": 0,
    "start_time": "2023-03-11T18:54:44.466Z"
   },
   {
    "duration": 0,
    "start_time": "2023-03-11T18:54:44.466Z"
   },
   {
    "duration": 64,
    "start_time": "2023-03-11T18:54:57.949Z"
   },
   {
    "duration": 64,
    "start_time": "2023-03-11T18:55:03.120Z"
   },
   {
    "duration": 60,
    "start_time": "2023-03-11T18:55:14.084Z"
   },
   {
    "duration": 70,
    "start_time": "2023-03-11T18:55:18.935Z"
   },
   {
    "duration": 57,
    "start_time": "2023-03-11T18:55:25.695Z"
   },
   {
    "duration": 61,
    "start_time": "2023-03-11T18:55:30.556Z"
   },
   {
    "duration": 57,
    "start_time": "2023-03-11T18:55:35.087Z"
   },
   {
    "duration": 7,
    "start_time": "2023-03-11T18:55:44.084Z"
   },
   {
    "duration": 14,
    "start_time": "2023-03-11T18:55:47.089Z"
   },
   {
    "duration": 45,
    "start_time": "2023-03-11T18:55:52.471Z"
   },
   {
    "duration": 44,
    "start_time": "2023-03-11T18:55:55.174Z"
   },
   {
    "duration": 34,
    "start_time": "2023-03-11T18:55:59.343Z"
   },
   {
    "duration": 9,
    "start_time": "2023-03-11T18:56:05.102Z"
   },
   {
    "duration": 26,
    "start_time": "2023-03-11T18:56:08.875Z"
   },
   {
    "duration": 9,
    "start_time": "2023-03-11T18:56:13.499Z"
   },
   {
    "duration": 36,
    "start_time": "2023-03-11T18:56:51.277Z"
   },
   {
    "duration": 52,
    "start_time": "2023-03-12T09:13:29.527Z"
   },
   {
    "duration": 395,
    "start_time": "2023-03-12T09:13:47.082Z"
   },
   {
    "duration": 262,
    "start_time": "2023-03-12T09:13:47.480Z"
   },
   {
    "duration": 10,
    "start_time": "2023-03-12T09:13:47.744Z"
   },
   {
    "duration": 33,
    "start_time": "2023-03-12T09:13:47.756Z"
   },
   {
    "duration": 2,
    "start_time": "2023-03-12T09:13:47.791Z"
   },
   {
    "duration": 8,
    "start_time": "2023-03-12T09:13:47.795Z"
   },
   {
    "duration": 10,
    "start_time": "2023-03-12T09:13:47.805Z"
   },
   {
    "duration": 23,
    "start_time": "2023-03-12T09:13:47.816Z"
   },
   {
    "duration": 29,
    "start_time": "2023-03-12T09:13:47.841Z"
   },
   {
    "duration": 55,
    "start_time": "2023-03-12T09:13:47.873Z"
   },
   {
    "duration": 26,
    "start_time": "2023-03-12T09:13:47.929Z"
   },
   {
    "duration": 84,
    "start_time": "2023-03-12T09:13:47.956Z"
   },
   {
    "duration": 74,
    "start_time": "2023-03-12T09:13:48.042Z"
   },
   {
    "duration": 71,
    "start_time": "2023-03-12T09:13:48.117Z"
   },
   {
    "duration": 55,
    "start_time": "2023-03-12T09:13:48.190Z"
   },
   {
    "duration": 11,
    "start_time": "2023-03-12T09:13:48.247Z"
   },
   {
    "duration": 43,
    "start_time": "2023-03-12T09:13:48.260Z"
   },
   {
    "duration": 31,
    "start_time": "2023-03-12T09:13:48.305Z"
   },
   {
    "duration": 3,
    "start_time": "2023-03-12T09:13:48.338Z"
   },
   {
    "duration": 12,
    "start_time": "2023-03-12T09:13:48.343Z"
   },
   {
    "duration": 8,
    "start_time": "2023-03-12T09:13:48.356Z"
   },
   {
    "duration": 6,
    "start_time": "2023-03-12T09:13:48.366Z"
   },
   {
    "duration": 7,
    "start_time": "2023-03-12T09:13:48.373Z"
   },
   {
    "duration": 6,
    "start_time": "2023-03-12T09:13:48.382Z"
   },
   {
    "duration": 7,
    "start_time": "2023-03-12T09:13:48.390Z"
   },
   {
    "duration": 13,
    "start_time": "2023-03-12T09:13:48.399Z"
   },
   {
    "duration": 6,
    "start_time": "2023-03-12T09:13:48.413Z"
   },
   {
    "duration": 9,
    "start_time": "2023-03-12T09:13:48.422Z"
   },
   {
    "duration": 7,
    "start_time": "2023-03-12T09:13:48.433Z"
   },
   {
    "duration": 50,
    "start_time": "2023-03-12T09:13:48.442Z"
   },
   {
    "duration": 0,
    "start_time": "2023-03-12T09:13:48.494Z"
   },
   {
    "duration": 0,
    "start_time": "2023-03-12T09:13:48.496Z"
   },
   {
    "duration": 0,
    "start_time": "2023-03-12T09:13:48.498Z"
   },
   {
    "duration": 0,
    "start_time": "2023-03-12T09:13:48.500Z"
   },
   {
    "duration": 0,
    "start_time": "2023-03-12T09:13:48.501Z"
   },
   {
    "duration": 0,
    "start_time": "2023-03-12T09:13:48.503Z"
   },
   {
    "duration": 0,
    "start_time": "2023-03-12T09:13:48.504Z"
   },
   {
    "duration": 0,
    "start_time": "2023-03-12T09:13:48.506Z"
   },
   {
    "duration": 76,
    "start_time": "2023-03-12T09:14:12.042Z"
   },
   {
    "duration": 13,
    "start_time": "2023-03-12T09:14:23.981Z"
   },
   {
    "duration": 20,
    "start_time": "2023-03-12T09:14:53.778Z"
   },
   {
    "duration": 19,
    "start_time": "2023-03-12T09:14:59.967Z"
   },
   {
    "duration": 13,
    "start_time": "2023-03-12T09:15:08.483Z"
   },
   {
    "duration": 11,
    "start_time": "2023-03-12T09:15:34.908Z"
   },
   {
    "duration": 12,
    "start_time": "2023-03-12T09:15:50.905Z"
   },
   {
    "duration": 10,
    "start_time": "2023-03-12T09:16:30.324Z"
   },
   {
    "duration": 10,
    "start_time": "2023-03-12T09:16:39.902Z"
   },
   {
    "duration": 12,
    "start_time": "2023-03-12T09:16:46.510Z"
   },
   {
    "duration": 12,
    "start_time": "2023-03-12T09:16:49.380Z"
   },
   {
    "duration": 15,
    "start_time": "2023-03-12T09:16:53.190Z"
   },
   {
    "duration": 757,
    "start_time": "2023-03-12T09:44:24.754Z"
   },
   {
    "duration": 48,
    "start_time": "2023-03-12T09:45:03.696Z"
   },
   {
    "duration": 4,
    "start_time": "2023-03-12T09:47:03.760Z"
   },
   {
    "duration": 28,
    "start_time": "2023-03-12T09:48:17.503Z"
   },
   {
    "duration": 30,
    "start_time": "2023-03-12T09:48:51.171Z"
   },
   {
    "duration": 15,
    "start_time": "2023-03-12T09:50:59.401Z"
   },
   {
    "duration": 22,
    "start_time": "2023-03-12T09:51:01.702Z"
   },
   {
    "duration": 16,
    "start_time": "2023-03-12T09:51:01.870Z"
   },
   {
    "duration": 21,
    "start_time": "2023-03-12T09:51:02.400Z"
   },
   {
    "duration": 14,
    "start_time": "2023-03-12T09:51:02.520Z"
   },
   {
    "duration": 21,
    "start_time": "2023-03-12T09:51:02.653Z"
   },
   {
    "duration": 16,
    "start_time": "2023-03-12T09:51:03.812Z"
   },
   {
    "duration": 9,
    "start_time": "2023-03-12T10:04:34.510Z"
   },
   {
    "duration": 11,
    "start_time": "2023-03-12T10:04:49.481Z"
   },
   {
    "duration": 5,
    "start_time": "2023-03-12T10:07:54.236Z"
   },
   {
    "duration": 5,
    "start_time": "2023-03-12T10:08:12.051Z"
   },
   {
    "duration": 37,
    "start_time": "2023-03-12T10:08:33.378Z"
   },
   {
    "duration": 12,
    "start_time": "2023-03-12T10:08:54.638Z"
   },
   {
    "duration": 16,
    "start_time": "2023-03-12T10:10:20.675Z"
   },
   {
    "duration": 19,
    "start_time": "2023-03-12T10:10:24.151Z"
   },
   {
    "duration": 28,
    "start_time": "2023-03-12T10:11:56.098Z"
   },
   {
    "duration": 48,
    "start_time": "2023-03-12T10:32:45.374Z"
   },
   {
    "duration": 78,
    "start_time": "2023-03-12T10:33:03.500Z"
   },
   {
    "duration": 55,
    "start_time": "2023-03-12T10:33:08.038Z"
   },
   {
    "duration": 824,
    "start_time": "2023-03-12T10:33:22.603Z"
   },
   {
    "duration": 62,
    "start_time": "2023-03-12T10:35:34.731Z"
   },
   {
    "duration": 4,
    "start_time": "2023-03-12T10:35:39.707Z"
   },
   {
    "duration": 5,
    "start_time": "2023-03-12T10:36:34.084Z"
   },
   {
    "duration": 4,
    "start_time": "2023-03-12T10:36:52.894Z"
   },
   {
    "duration": 8,
    "start_time": "2023-03-12T10:37:33.962Z"
   },
   {
    "duration": 5,
    "start_time": "2023-03-12T10:38:01.018Z"
   },
   {
    "duration": 5,
    "start_time": "2023-03-12T10:38:39.014Z"
   },
   {
    "duration": 4,
    "start_time": "2023-03-12T10:39:27.723Z"
   },
   {
    "duration": 19,
    "start_time": "2023-03-12T10:39:42.699Z"
   },
   {
    "duration": 23,
    "start_time": "2023-03-12T10:48:00.957Z"
   },
   {
    "duration": 23,
    "start_time": "2023-03-12T10:48:10.043Z"
   },
   {
    "duration": 16,
    "start_time": "2023-03-12T10:51:26.130Z"
   },
   {
    "duration": 17,
    "start_time": "2023-03-12T10:51:26.804Z"
   },
   {
    "duration": 20,
    "start_time": "2023-03-12T10:51:27.194Z"
   },
   {
    "duration": 13,
    "start_time": "2023-03-12T10:51:27.346Z"
   },
   {
    "duration": 8,
    "start_time": "2023-03-12T10:56:27.068Z"
   },
   {
    "duration": 8,
    "start_time": "2023-03-12T10:57:02.614Z"
   },
   {
    "duration": 8,
    "start_time": "2023-03-12T10:57:12.721Z"
   },
   {
    "duration": 6,
    "start_time": "2023-03-12T10:57:38.142Z"
   },
   {
    "duration": 8,
    "start_time": "2023-03-12T10:58:15.002Z"
   },
   {
    "duration": 4,
    "start_time": "2023-03-12T10:58:23.232Z"
   },
   {
    "duration": 7,
    "start_time": "2023-03-12T10:59:01.555Z"
   },
   {
    "duration": 9,
    "start_time": "2023-03-12T10:59:06.512Z"
   },
   {
    "duration": 5,
    "start_time": "2023-03-12T10:59:11.698Z"
   },
   {
    "duration": 9,
    "start_time": "2023-03-12T10:59:31.989Z"
   },
   {
    "duration": 5,
    "start_time": "2023-03-12T10:59:36.142Z"
   },
   {
    "duration": 9,
    "start_time": "2023-03-12T10:59:52.120Z"
   },
   {
    "duration": 11,
    "start_time": "2023-03-12T11:00:08.120Z"
   },
   {
    "duration": 6,
    "start_time": "2023-03-12T11:01:05.550Z"
   },
   {
    "duration": 28,
    "start_time": "2023-03-12T11:01:25.461Z"
   },
   {
    "duration": 28,
    "start_time": "2023-03-12T11:01:31.905Z"
   },
   {
    "duration": 20,
    "start_time": "2023-03-12T11:01:41.509Z"
   },
   {
    "duration": 2,
    "start_time": "2023-03-12T11:01:55.347Z"
   },
   {
    "duration": 3,
    "start_time": "2023-03-12T11:01:58.053Z"
   },
   {
    "duration": 17,
    "start_time": "2023-03-12T11:02:00.746Z"
   },
   {
    "duration": 13,
    "start_time": "2023-03-12T11:02:05.813Z"
   },
   {
    "duration": 19,
    "start_time": "2023-03-12T11:02:22.544Z"
   },
   {
    "duration": 13,
    "start_time": "2023-03-12T11:02:41.390Z"
   },
   {
    "duration": 17,
    "start_time": "2023-03-12T11:02:53.538Z"
   },
   {
    "duration": 5,
    "start_time": "2023-03-12T11:03:06.440Z"
   },
   {
    "duration": 8,
    "start_time": "2023-03-12T11:03:11.950Z"
   },
   {
    "duration": 11,
    "start_time": "2023-03-12T11:03:23.207Z"
   },
   {
    "duration": 5,
    "start_time": "2023-03-12T11:03:27.736Z"
   },
   {
    "duration": 3,
    "start_time": "2023-03-12T11:03:32.093Z"
   },
   {
    "duration": 4,
    "start_time": "2023-03-12T11:03:34.047Z"
   },
   {
    "duration": 13,
    "start_time": "2023-03-12T11:03:39.019Z"
   },
   {
    "duration": 368,
    "start_time": "2023-03-12T11:03:51.089Z"
   },
   {
    "duration": 182,
    "start_time": "2023-03-12T11:03:51.459Z"
   },
   {
    "duration": 11,
    "start_time": "2023-03-12T11:03:51.643Z"
   },
   {
    "duration": 38,
    "start_time": "2023-03-12T11:03:51.656Z"
   },
   {
    "duration": 3,
    "start_time": "2023-03-12T11:03:51.696Z"
   },
   {
    "duration": 9,
    "start_time": "2023-03-12T11:03:51.701Z"
   },
   {
    "duration": 22,
    "start_time": "2023-03-12T11:03:51.712Z"
   },
   {
    "duration": 7,
    "start_time": "2023-03-12T11:03:51.737Z"
   },
   {
    "duration": 31,
    "start_time": "2023-03-12T11:03:51.745Z"
   },
   {
    "duration": 69,
    "start_time": "2023-03-12T11:03:51.778Z"
   },
   {
    "duration": 45,
    "start_time": "2023-03-12T11:03:51.849Z"
   },
   {
    "duration": 91,
    "start_time": "2023-03-12T11:03:51.897Z"
   },
   {
    "duration": 111,
    "start_time": "2023-03-12T11:03:51.990Z"
   },
   {
    "duration": 68,
    "start_time": "2023-03-12T11:03:52.106Z"
   },
   {
    "duration": 45,
    "start_time": "2023-03-12T11:03:52.176Z"
   },
   {
    "duration": 12,
    "start_time": "2023-03-12T11:03:52.229Z"
   },
   {
    "duration": 47,
    "start_time": "2023-03-12T11:03:52.243Z"
   },
   {
    "duration": 12,
    "start_time": "2023-03-12T11:03:52.291Z"
   },
   {
    "duration": 33,
    "start_time": "2023-03-12T11:03:52.305Z"
   },
   {
    "duration": 23,
    "start_time": "2023-03-12T11:03:52.339Z"
   },
   {
    "duration": 21,
    "start_time": "2023-03-12T11:03:52.363Z"
   },
   {
    "duration": 17,
    "start_time": "2023-03-12T11:03:52.386Z"
   },
   {
    "duration": 45,
    "start_time": "2023-03-12T11:03:52.404Z"
   },
   {
    "duration": 15,
    "start_time": "2023-03-12T11:03:52.451Z"
   },
   {
    "duration": 20,
    "start_time": "2023-03-12T11:03:52.468Z"
   },
   {
    "duration": 42,
    "start_time": "2023-03-12T11:03:52.490Z"
   },
   {
    "duration": 9,
    "start_time": "2023-03-12T11:03:52.534Z"
   },
   {
    "duration": 36,
    "start_time": "2023-03-12T11:03:52.545Z"
   },
   {
    "duration": 2,
    "start_time": "2023-03-12T11:03:52.583Z"
   },
   {
    "duration": 49,
    "start_time": "2023-03-12T11:03:52.587Z"
   },
   {
    "duration": 17,
    "start_time": "2023-03-12T11:03:52.637Z"
   },
   {
    "duration": 13,
    "start_time": "2023-03-12T11:03:52.656Z"
   },
   {
    "duration": 23,
    "start_time": "2023-03-12T11:03:52.671Z"
   },
   {
    "duration": 45,
    "start_time": "2023-03-12T11:03:52.696Z"
   },
   {
    "duration": 2,
    "start_time": "2023-03-12T11:03:52.743Z"
   },
   {
    "duration": 21,
    "start_time": "2023-03-12T11:03:52.747Z"
   },
   {
    "duration": 9,
    "start_time": "2023-03-12T11:03:52.770Z"
   },
   {
    "duration": 6,
    "start_time": "2023-03-12T11:03:52.780Z"
   },
   {
    "duration": 19,
    "start_time": "2023-03-12T11:03:59.223Z"
   },
   {
    "duration": 16,
    "start_time": "2023-03-12T11:04:56.571Z"
   },
   {
    "duration": 12,
    "start_time": "2023-03-12T11:06:13.587Z"
   },
   {
    "duration": 11,
    "start_time": "2023-03-12T11:07:07.184Z"
   },
   {
    "duration": 11,
    "start_time": "2023-03-12T11:07:29.880Z"
   },
   {
    "duration": 9,
    "start_time": "2023-03-12T11:08:09.559Z"
   },
   {
    "duration": 70,
    "start_time": "2023-03-12T11:09:03.284Z"
   },
   {
    "duration": 3,
    "start_time": "2023-03-12T11:11:24.562Z"
   },
   {
    "duration": 13,
    "start_time": "2023-03-12T11:11:32.506Z"
   },
   {
    "duration": 447,
    "start_time": "2023-03-12T11:11:41.621Z"
   },
   {
    "duration": 196,
    "start_time": "2023-03-12T11:11:42.069Z"
   },
   {
    "duration": 10,
    "start_time": "2023-03-12T11:11:42.267Z"
   },
   {
    "duration": 55,
    "start_time": "2023-03-12T11:11:42.279Z"
   },
   {
    "duration": 2,
    "start_time": "2023-03-12T11:11:42.336Z"
   },
   {
    "duration": 6,
    "start_time": "2023-03-12T11:11:42.340Z"
   },
   {
    "duration": 7,
    "start_time": "2023-03-12T11:11:42.347Z"
   },
   {
    "duration": 12,
    "start_time": "2023-03-12T11:11:42.355Z"
   },
   {
    "duration": 28,
    "start_time": "2023-03-12T11:11:42.369Z"
   },
   {
    "duration": 65,
    "start_time": "2023-03-12T11:11:42.400Z"
   },
   {
    "duration": 24,
    "start_time": "2023-03-12T11:11:42.467Z"
   },
   {
    "duration": 85,
    "start_time": "2023-03-12T11:11:42.492Z"
   },
   {
    "duration": 93,
    "start_time": "2023-03-12T11:11:42.579Z"
   },
   {
    "duration": 69,
    "start_time": "2023-03-12T11:11:42.675Z"
   },
   {
    "duration": 39,
    "start_time": "2023-03-12T11:11:42.746Z"
   },
   {
    "duration": 12,
    "start_time": "2023-03-12T11:11:42.786Z"
   },
   {
    "duration": 59,
    "start_time": "2023-03-12T11:11:42.800Z"
   },
   {
    "duration": 12,
    "start_time": "2023-03-12T11:11:42.861Z"
   },
   {
    "duration": 18,
    "start_time": "2023-03-12T11:11:42.875Z"
   },
   {
    "duration": 49,
    "start_time": "2023-03-12T11:11:42.895Z"
   },
   {
    "duration": 21,
    "start_time": "2023-03-12T11:11:42.945Z"
   },
   {
    "duration": 18,
    "start_time": "2023-03-12T11:11:42.968Z"
   },
   {
    "duration": 47,
    "start_time": "2023-03-12T11:11:42.989Z"
   },
   {
    "duration": 14,
    "start_time": "2023-03-12T11:11:43.039Z"
   },
   {
    "duration": 20,
    "start_time": "2023-03-12T11:11:43.055Z"
   },
   {
    "duration": 14,
    "start_time": "2023-03-12T11:11:43.077Z"
   },
   {
    "duration": 39,
    "start_time": "2023-03-12T11:11:43.093Z"
   },
   {
    "duration": 36,
    "start_time": "2023-03-12T11:11:43.137Z"
   },
   {
    "duration": 2,
    "start_time": "2023-03-12T11:11:43.175Z"
   },
   {
    "duration": 31,
    "start_time": "2023-03-12T11:11:43.179Z"
   },
   {
    "duration": 25,
    "start_time": "2023-03-12T11:11:43.212Z"
   },
   {
    "duration": 16,
    "start_time": "2023-03-12T11:11:43.239Z"
   },
   {
    "duration": 19,
    "start_time": "2023-03-12T11:11:43.257Z"
   },
   {
    "duration": 18,
    "start_time": "2023-03-12T11:11:43.278Z"
   },
   {
    "duration": 34,
    "start_time": "2023-03-12T11:11:43.297Z"
   },
   {
    "duration": 13,
    "start_time": "2023-03-12T11:11:43.332Z"
   },
   {
    "duration": 4,
    "start_time": "2023-03-12T11:11:43.346Z"
   },
   {
    "duration": 4,
    "start_time": "2023-03-12T11:11:43.352Z"
   },
   {
    "duration": 3,
    "start_time": "2023-03-12T11:11:59.395Z"
   },
   {
    "duration": 13,
    "start_time": "2023-03-12T11:12:01.701Z"
   },
   {
    "duration": 14,
    "start_time": "2023-03-12T11:12:42.131Z"
   },
   {
    "duration": 4,
    "start_time": "2023-03-12T11:12:47.387Z"
   },
   {
    "duration": 2,
    "start_time": "2023-03-12T11:13:08.292Z"
   },
   {
    "duration": 446,
    "start_time": "2023-03-12T11:13:11.710Z"
   },
   {
    "duration": 188,
    "start_time": "2023-03-12T11:13:12.158Z"
   },
   {
    "duration": 11,
    "start_time": "2023-03-12T11:13:12.347Z"
   },
   {
    "duration": 38,
    "start_time": "2023-03-12T11:13:12.359Z"
   },
   {
    "duration": 10,
    "start_time": "2023-03-12T11:13:12.398Z"
   },
   {
    "duration": 19,
    "start_time": "2023-03-12T11:13:12.410Z"
   },
   {
    "duration": 16,
    "start_time": "2023-03-12T11:13:12.430Z"
   },
   {
    "duration": 40,
    "start_time": "2023-03-12T11:13:12.448Z"
   },
   {
    "duration": 40,
    "start_time": "2023-03-12T11:13:12.490Z"
   },
   {
    "duration": 59,
    "start_time": "2023-03-12T11:13:12.534Z"
   },
   {
    "duration": 25,
    "start_time": "2023-03-12T11:13:12.595Z"
   },
   {
    "duration": 90,
    "start_time": "2023-03-12T11:13:12.621Z"
   },
   {
    "duration": 68,
    "start_time": "2023-03-12T11:13:12.713Z"
   },
   {
    "duration": 63,
    "start_time": "2023-03-12T11:13:12.783Z"
   },
   {
    "duration": 46,
    "start_time": "2023-03-12T11:13:12.848Z"
   },
   {
    "duration": 16,
    "start_time": "2023-03-12T11:13:12.896Z"
   },
   {
    "duration": 47,
    "start_time": "2023-03-12T11:13:12.931Z"
   },
   {
    "duration": 13,
    "start_time": "2023-03-12T11:13:12.981Z"
   },
   {
    "duration": 20,
    "start_time": "2023-03-12T11:13:12.996Z"
   },
   {
    "duration": 31,
    "start_time": "2023-03-12T11:13:13.030Z"
   },
   {
    "duration": 21,
    "start_time": "2023-03-12T11:13:13.062Z"
   },
   {
    "duration": 15,
    "start_time": "2023-03-12T11:13:13.086Z"
   },
   {
    "duration": 42,
    "start_time": "2023-03-12T11:13:13.103Z"
   },
   {
    "duration": 15,
    "start_time": "2023-03-12T11:13:13.147Z"
   },
   {
    "duration": 27,
    "start_time": "2023-03-12T11:13:13.163Z"
   },
   {
    "duration": 14,
    "start_time": "2023-03-12T11:13:13.192Z"
   },
   {
    "duration": 31,
    "start_time": "2023-03-12T11:13:13.208Z"
   },
   {
    "duration": 28,
    "start_time": "2023-03-12T11:13:13.243Z"
   },
   {
    "duration": 2,
    "start_time": "2023-03-12T11:13:13.273Z"
   },
   {
    "duration": 33,
    "start_time": "2023-03-12T11:13:13.277Z"
   },
   {
    "duration": 32,
    "start_time": "2023-03-12T11:13:13.312Z"
   },
   {
    "duration": 17,
    "start_time": "2023-03-12T11:13:13.346Z"
   },
   {
    "duration": 44,
    "start_time": "2023-03-12T11:13:13.364Z"
   },
   {
    "duration": 27,
    "start_time": "2023-03-12T11:13:13.411Z"
   },
   {
    "duration": 20,
    "start_time": "2023-03-12T11:13:13.440Z"
   },
   {
    "duration": 25,
    "start_time": "2023-03-12T11:13:13.462Z"
   },
   {
    "duration": 15,
    "start_time": "2023-03-12T11:13:13.489Z"
   },
   {
    "duration": 17,
    "start_time": "2023-03-12T11:13:13.506Z"
   },
   {
    "duration": 12,
    "start_time": "2023-03-12T11:14:07.702Z"
   },
   {
    "duration": 85,
    "start_time": "2023-03-12T11:14:35.142Z"
   },
   {
    "duration": 14,
    "start_time": "2023-03-12T11:14:42.859Z"
   },
   {
    "duration": 13,
    "start_time": "2023-03-12T11:15:35.306Z"
   },
   {
    "duration": 14,
    "start_time": "2023-03-12T11:16:04.586Z"
   },
   {
    "duration": 14,
    "start_time": "2023-03-12T11:16:14.121Z"
   },
   {
    "duration": 17,
    "start_time": "2023-03-12T11:16:21.299Z"
   },
   {
    "duration": 19,
    "start_time": "2023-03-12T11:16:25.762Z"
   },
   {
    "duration": 28,
    "start_time": "2023-03-12T11:17:00.637Z"
   },
   {
    "duration": 32,
    "start_time": "2023-03-12T11:17:38.529Z"
   },
   {
    "duration": 24,
    "start_time": "2023-03-12T11:20:57.685Z"
   },
   {
    "duration": 12,
    "start_time": "2023-03-12T11:21:51.666Z"
   },
   {
    "duration": 7,
    "start_time": "2023-03-12T11:22:11.778Z"
   },
   {
    "duration": 8,
    "start_time": "2023-03-12T11:22:37.548Z"
   },
   {
    "duration": 3,
    "start_time": "2023-03-12T11:23:54.879Z"
   },
   {
    "duration": 447,
    "start_time": "2023-03-12T11:24:01.408Z"
   },
   {
    "duration": 203,
    "start_time": "2023-03-12T11:24:01.857Z"
   },
   {
    "duration": 13,
    "start_time": "2023-03-12T11:24:02.063Z"
   },
   {
    "duration": 46,
    "start_time": "2023-03-12T11:24:02.078Z"
   },
   {
    "duration": 7,
    "start_time": "2023-03-12T11:24:02.131Z"
   },
   {
    "duration": 13,
    "start_time": "2023-03-12T11:24:02.139Z"
   },
   {
    "duration": 8,
    "start_time": "2023-03-12T11:24:02.154Z"
   },
   {
    "duration": 9,
    "start_time": "2023-03-12T11:24:02.164Z"
   },
   {
    "duration": 40,
    "start_time": "2023-03-12T11:24:02.174Z"
   },
   {
    "duration": 43,
    "start_time": "2023-03-12T11:24:02.217Z"
   },
   {
    "duration": 26,
    "start_time": "2023-03-12T11:24:02.262Z"
   },
   {
    "duration": 82,
    "start_time": "2023-03-12T11:24:02.289Z"
   },
   {
    "duration": 79,
    "start_time": "2023-03-12T11:24:02.373Z"
   },
   {
    "duration": 62,
    "start_time": "2023-03-12T11:24:02.453Z"
   },
   {
    "duration": 51,
    "start_time": "2023-03-12T11:24:02.516Z"
   },
   {
    "duration": 13,
    "start_time": "2023-03-12T11:24:02.569Z"
   },
   {
    "duration": 63,
    "start_time": "2023-03-12T11:24:02.584Z"
   },
   {
    "duration": 12,
    "start_time": "2023-03-12T11:24:02.649Z"
   },
   {
    "duration": 12,
    "start_time": "2023-03-12T11:24:02.662Z"
   },
   {
    "duration": 24,
    "start_time": "2023-03-12T11:24:02.675Z"
   },
   {
    "duration": 45,
    "start_time": "2023-03-12T11:24:02.701Z"
   },
   {
    "duration": 21,
    "start_time": "2023-03-12T11:24:02.748Z"
   },
   {
    "duration": 33,
    "start_time": "2023-03-12T11:24:02.771Z"
   },
   {
    "duration": 15,
    "start_time": "2023-03-12T11:24:02.805Z"
   },
   {
    "duration": 34,
    "start_time": "2023-03-12T11:24:02.821Z"
   },
   {
    "duration": 14,
    "start_time": "2023-03-12T11:24:02.856Z"
   },
   {
    "duration": 8,
    "start_time": "2023-03-12T11:24:02.872Z"
   },
   {
    "duration": 48,
    "start_time": "2023-03-12T11:24:02.884Z"
   },
   {
    "duration": 2,
    "start_time": "2023-03-12T11:24:02.933Z"
   },
   {
    "duration": 39,
    "start_time": "2023-03-12T11:24:02.937Z"
   },
   {
    "duration": 17,
    "start_time": "2023-03-12T11:24:02.978Z"
   },
   {
    "duration": 12,
    "start_time": "2023-03-12T11:24:02.996Z"
   },
   {
    "duration": 39,
    "start_time": "2023-03-12T11:24:03.009Z"
   },
   {
    "duration": 20,
    "start_time": "2023-03-12T11:24:03.050Z"
   },
   {
    "duration": 3,
    "start_time": "2023-03-12T11:24:03.071Z"
   },
   {
    "duration": 20,
    "start_time": "2023-03-12T11:24:03.075Z"
   },
   {
    "duration": 27,
    "start_time": "2023-03-12T11:24:03.097Z"
   },
   {
    "duration": 23,
    "start_time": "2023-03-12T11:24:03.126Z"
   },
   {
    "duration": 9,
    "start_time": "2023-03-12T11:24:54.539Z"
   },
   {
    "duration": 6,
    "start_time": "2023-03-12T11:25:02.030Z"
   },
   {
    "duration": 5,
    "start_time": "2023-03-12T11:25:11.901Z"
   },
   {
    "duration": 7,
    "start_time": "2023-03-12T11:26:27.991Z"
   },
   {
    "duration": 5,
    "start_time": "2023-03-12T11:26:29.264Z"
   },
   {
    "duration": 58,
    "start_time": "2023-03-14T18:44:39.388Z"
   },
   {
    "duration": 309,
    "start_time": "2023-03-14T18:44:44.963Z"
   },
   {
    "duration": 10,
    "start_time": "2023-03-14T18:44:49.203Z"
   },
   {
    "duration": 5,
    "start_time": "2023-03-14T18:45:13.941Z"
   },
   {
    "duration": 7,
    "start_time": "2023-03-14T18:45:48.798Z"
   },
   {
    "duration": 8,
    "start_time": "2023-03-14T18:46:20.123Z"
   },
   {
    "duration": 8,
    "start_time": "2023-03-14T18:46:27.624Z"
   },
   {
    "duration": 7,
    "start_time": "2023-03-14T18:46:31.430Z"
   },
   {
    "duration": 68,
    "start_time": "2023-03-14T18:46:36.757Z"
   },
   {
    "duration": 7,
    "start_time": "2023-03-14T18:46:56.560Z"
   },
   {
    "duration": 7,
    "start_time": "2023-03-14T18:47:02.311Z"
   },
   {
    "duration": 448,
    "start_time": "2023-03-14T18:47:21.060Z"
   },
   {
    "duration": 124,
    "start_time": "2023-03-14T18:48:29.273Z"
   },
   {
    "duration": 123,
    "start_time": "2023-03-14T18:49:50.005Z"
   },
   {
    "duration": 131,
    "start_time": "2023-03-14T18:49:58.498Z"
   },
   {
    "duration": 128,
    "start_time": "2023-03-14T18:50:02.658Z"
   },
   {
    "duration": 177,
    "start_time": "2023-03-14T18:50:10.410Z"
   },
   {
    "duration": 129,
    "start_time": "2023-03-14T18:50:34.108Z"
   },
   {
    "duration": 118,
    "start_time": "2023-03-14T18:50:58.178Z"
   },
   {
    "duration": 44,
    "start_time": "2023-03-14T18:51:03.512Z"
   },
   {
    "duration": 119,
    "start_time": "2023-03-14T18:51:10.137Z"
   },
   {
    "duration": 120,
    "start_time": "2023-03-14T18:51:27.447Z"
   },
   {
    "duration": 127,
    "start_time": "2023-03-14T18:51:32.333Z"
   },
   {
    "duration": 165,
    "start_time": "2023-03-14T18:51:37.261Z"
   },
   {
    "duration": 128,
    "start_time": "2023-03-14T18:51:42.530Z"
   },
   {
    "duration": 117,
    "start_time": "2023-03-14T18:51:46.916Z"
   },
   {
    "duration": 113,
    "start_time": "2023-03-14T18:51:50.510Z"
   },
   {
    "duration": 10,
    "start_time": "2023-03-14T18:52:36.967Z"
   },
   {
    "duration": 11,
    "start_time": "2023-03-14T18:53:35.953Z"
   },
   {
    "duration": 112,
    "start_time": "2023-03-14T18:53:42.752Z"
   },
   {
    "duration": 110,
    "start_time": "2023-03-14T18:54:00.354Z"
   },
   {
    "duration": 134,
    "start_time": "2023-03-14T18:55:00.833Z"
   },
   {
    "duration": 124,
    "start_time": "2023-03-14T18:55:13.942Z"
   },
   {
    "duration": 120,
    "start_time": "2023-03-14T18:55:19.999Z"
   },
   {
    "duration": 147,
    "start_time": "2023-03-14T18:55:58.396Z"
   },
   {
    "duration": 128,
    "start_time": "2023-03-14T18:56:08.971Z"
   },
   {
    "duration": 186,
    "start_time": "2023-03-14T18:56:20.403Z"
   },
   {
    "duration": 126,
    "start_time": "2023-03-14T18:56:25.026Z"
   },
   {
    "duration": 122,
    "start_time": "2023-03-14T18:56:30.005Z"
   },
   {
    "duration": 129,
    "start_time": "2023-03-14T18:56:40.551Z"
   },
   {
    "duration": 129,
    "start_time": "2023-03-14T18:56:44.289Z"
   },
   {
    "duration": 697,
    "start_time": "2023-10-16T05:26:15.100Z"
   },
   {
    "duration": 290,
    "start_time": "2023-10-16T05:26:28.543Z"
   },
   {
    "duration": 58,
    "start_time": "2023-10-16T05:26:37.100Z"
   },
   {
    "duration": 264,
    "start_time": "2023-10-16T05:27:01.341Z"
   },
   {
    "duration": 210,
    "start_time": "2023-10-16T05:27:05.581Z"
   },
   {
    "duration": 198,
    "start_time": "2023-10-16T05:27:14.780Z"
   },
   {
    "duration": 3,
    "start_time": "2023-10-16T05:27:25.101Z"
   },
   {
    "duration": 187,
    "start_time": "2023-10-16T05:27:25.661Z"
   },
   {
    "duration": 887,
    "start_time": "2023-10-16T09:27:34.032Z"
   },
   {
    "duration": 487,
    "start_time": "2023-10-16T09:27:34.921Z"
   },
   {
    "duration": 154,
    "start_time": "2023-10-16T09:27:35.409Z"
   },
   {
    "duration": 9,
    "start_time": "2023-10-16T09:27:35.565Z"
   },
   {
    "duration": 35,
    "start_time": "2023-10-16T09:27:35.575Z"
   },
   {
    "duration": 6,
    "start_time": "2023-10-16T09:27:35.611Z"
   },
   {
    "duration": 7,
    "start_time": "2023-10-16T09:27:35.618Z"
   },
   {
    "duration": 19,
    "start_time": "2023-10-16T09:27:35.626Z"
   },
   {
    "duration": 7,
    "start_time": "2023-10-16T09:27:35.646Z"
   },
   {
    "duration": 27,
    "start_time": "2023-10-16T09:27:35.656Z"
   },
   {
    "duration": 63,
    "start_time": "2023-10-16T09:27:35.685Z"
   },
   {
    "duration": 27,
    "start_time": "2023-10-16T09:27:35.750Z"
   },
   {
    "duration": 81,
    "start_time": "2023-10-16T09:27:35.778Z"
   },
   {
    "duration": 72,
    "start_time": "2023-10-16T09:27:35.860Z"
   },
   {
    "duration": 69,
    "start_time": "2023-10-16T09:27:35.933Z"
   },
   {
    "duration": 84,
    "start_time": "2023-10-16T09:27:36.004Z"
   },
   {
    "duration": 13,
    "start_time": "2023-10-16T09:27:36.090Z"
   },
   {
    "duration": 62,
    "start_time": "2023-10-16T09:27:36.105Z"
   },
   {
    "duration": 133,
    "start_time": "2023-10-16T09:27:36.169Z"
   },
   {
    "duration": 0,
    "start_time": "2023-10-16T09:27:36.304Z"
   },
   {
    "duration": 0,
    "start_time": "2023-10-16T09:27:36.305Z"
   },
   {
    "duration": 70,
    "start_time": "2023-10-16T09:27:36.352Z"
   },
   {
    "duration": 0,
    "start_time": "2023-10-16T09:27:36.423Z"
   },
   {
    "duration": 7,
    "start_time": "2023-10-16T09:27:36.428Z"
   },
   {
    "duration": 7,
    "start_time": "2023-10-16T09:27:36.451Z"
   },
   {
    "duration": 7,
    "start_time": "2023-10-16T09:27:36.494Z"
   },
   {
    "duration": 7,
    "start_time": "2023-10-16T09:27:36.546Z"
   },
   {
    "duration": 9,
    "start_time": "2023-10-16T09:27:36.652Z"
   },
   {
    "duration": 28,
    "start_time": "2023-10-16T09:27:36.814Z"
   },
   {
    "duration": 2,
    "start_time": "2023-10-16T09:27:36.890Z"
   },
   {
    "duration": 26,
    "start_time": "2023-10-16T09:27:36.970Z"
   },
   {
    "duration": 18,
    "start_time": "2023-10-16T09:27:37.016Z"
   },
   {
    "duration": 11,
    "start_time": "2023-10-16T09:27:37.077Z"
   },
   {
    "duration": 20,
    "start_time": "2023-10-16T09:27:37.141Z"
   },
   {
    "duration": 20,
    "start_time": "2023-10-16T09:27:37.163Z"
   },
   {
    "duration": 8,
    "start_time": "2023-10-16T09:27:37.320Z"
   },
   {
    "duration": 4,
    "start_time": "2023-10-16T09:27:37.388Z"
   },
   {
    "duration": 7,
    "start_time": "2023-10-16T09:27:37.490Z"
   },
   {
    "duration": 6,
    "start_time": "2023-10-16T09:27:37.561Z"
   },
   {
    "duration": 790,
    "start_time": "2023-10-16T09:47:48.059Z"
   },
   {
    "duration": 171,
    "start_time": "2023-10-16T09:48:10.808Z"
   },
   {
    "duration": 16,
    "start_time": "2023-10-16T09:48:15.821Z"
   },
   {
    "duration": 36,
    "start_time": "2023-10-16T09:49:05.287Z"
   },
   {
    "duration": 4,
    "start_time": "2023-10-16T09:52:51.517Z"
   },
   {
    "duration": 5,
    "start_time": "2023-10-16T09:53:01.535Z"
   },
   {
    "duration": 3,
    "start_time": "2023-10-16T09:53:06.499Z"
   },
   {
    "duration": 25,
    "start_time": "2023-10-16T09:53:13.602Z"
   },
   {
    "duration": 48,
    "start_time": "2023-10-16T09:53:18.810Z"
   },
   {
    "duration": 29,
    "start_time": "2023-10-16T09:53:31.076Z"
   },
   {
    "duration": 78,
    "start_time": "2023-10-16T09:53:33.126Z"
   },
   {
    "duration": 114,
    "start_time": "2023-10-16T09:53:44.023Z"
   },
   {
    "duration": 67,
    "start_time": "2023-10-16T09:53:47.375Z"
   },
   {
    "duration": 72,
    "start_time": "2023-10-16T09:53:54.305Z"
   },
   {
    "duration": 14,
    "start_time": "2023-10-16T09:54:02.096Z"
   },
   {
    "duration": 62,
    "start_time": "2023-10-16T09:54:44.088Z"
   },
   {
    "duration": 111,
    "start_time": "2023-10-16T09:55:50.982Z"
   },
   {
    "duration": 11,
    "start_time": "2023-10-16T09:56:16.380Z"
   },
   {
    "duration": 17,
    "start_time": "2023-10-16T09:56:34.017Z"
   },
   {
    "duration": 24,
    "start_time": "2023-10-16T09:56:40.828Z"
   },
   {
    "duration": 21,
    "start_time": "2023-10-16T09:56:48.614Z"
   },
   {
    "duration": 14,
    "start_time": "2023-10-16T09:56:48.710Z"
   },
   {
    "duration": 18,
    "start_time": "2023-10-16T09:56:48.859Z"
   },
   {
    "duration": 14,
    "start_time": "2023-10-16T09:56:48.959Z"
   },
   {
    "duration": 21,
    "start_time": "2023-10-16T09:56:49.064Z"
   },
   {
    "duration": 15,
    "start_time": "2023-10-16T09:56:49.203Z"
   },
   {
    "duration": 14,
    "start_time": "2023-10-16T09:57:00.141Z"
   },
   {
    "duration": 24,
    "start_time": "2023-10-16T09:57:08.506Z"
   },
   {
    "duration": 42,
    "start_time": "2023-10-16T09:57:22.237Z"
   },
   {
    "duration": 17,
    "start_time": "2023-10-16T09:57:27.393Z"
   },
   {
    "duration": 12,
    "start_time": "2023-10-16T09:57:27.560Z"
   },
   {
    "duration": 21,
    "start_time": "2023-10-16T09:57:27.657Z"
   },
   {
    "duration": 30,
    "start_time": "2023-10-16T09:57:27.733Z"
   },
   {
    "duration": 9,
    "start_time": "2023-10-16T09:57:35.159Z"
   },
   {
    "duration": 5,
    "start_time": "2023-10-16T09:57:35.376Z"
   },
   {
    "duration": 7,
    "start_time": "2023-10-16T09:57:36.472Z"
   },
   {
    "duration": 7,
    "start_time": "2023-10-16T09:57:44.311Z"
   },
   {
    "duration": 866,
    "start_time": "2023-10-16T10:01:28.557Z"
   },
   {
    "duration": 204,
    "start_time": "2023-10-16T10:01:29.425Z"
   },
   {
    "duration": 24,
    "start_time": "2023-10-16T10:01:29.630Z"
   },
   {
    "duration": 38,
    "start_time": "2023-10-16T10:01:29.656Z"
   },
   {
    "duration": 22,
    "start_time": "2023-10-16T10:01:29.696Z"
   },
   {
    "duration": 42,
    "start_time": "2023-10-16T10:01:29.720Z"
   },
   {
    "duration": 19,
    "start_time": "2023-10-16T10:01:29.764Z"
   },
   {
    "duration": 55,
    "start_time": "2023-10-16T10:01:29.785Z"
   },
   {
    "duration": 54,
    "start_time": "2023-10-16T10:01:29.841Z"
   },
   {
    "duration": 26,
    "start_time": "2023-10-16T10:01:29.898Z"
   },
   {
    "duration": 86,
    "start_time": "2023-10-16T10:01:29.926Z"
   },
   {
    "duration": 82,
    "start_time": "2023-10-16T10:01:30.013Z"
   },
   {
    "duration": 79,
    "start_time": "2023-10-16T10:01:30.096Z"
   },
   {
    "duration": 43,
    "start_time": "2023-10-16T10:01:30.177Z"
   },
   {
    "duration": 24,
    "start_time": "2023-10-16T10:01:30.222Z"
   },
   {
    "duration": 42,
    "start_time": "2023-10-16T10:01:30.258Z"
   },
   {
    "duration": 12,
    "start_time": "2023-10-16T10:01:30.302Z"
   },
   {
    "duration": 49,
    "start_time": "2023-10-16T10:01:30.315Z"
   },
   {
    "duration": 52,
    "start_time": "2023-10-16T10:01:30.366Z"
   },
   {
    "duration": 66,
    "start_time": "2023-10-16T10:01:30.420Z"
   },
   {
    "duration": 30,
    "start_time": "2023-10-16T10:01:30.488Z"
   },
   {
    "duration": 67,
    "start_time": "2023-10-16T10:01:30.519Z"
   },
   {
    "duration": 45,
    "start_time": "2023-10-16T10:01:30.587Z"
   },
   {
    "duration": 94,
    "start_time": "2023-10-16T10:01:30.634Z"
   },
   {
    "duration": 41,
    "start_time": "2023-10-16T10:01:30.729Z"
   },
   {
    "duration": 45,
    "start_time": "2023-10-16T10:01:30.772Z"
   },
   {
    "duration": 89,
    "start_time": "2023-10-16T10:01:30.819Z"
   },
   {
    "duration": 18,
    "start_time": "2023-10-16T10:01:30.911Z"
   },
   {
    "duration": 89,
    "start_time": "2023-10-16T10:01:30.931Z"
   },
   {
    "duration": 55,
    "start_time": "2023-10-16T10:01:31.022Z"
   },
   {
    "duration": 31,
    "start_time": "2023-10-16T10:01:31.079Z"
   },
   {
    "duration": 110,
    "start_time": "2023-10-16T10:01:31.111Z"
   },
   {
    "duration": 50,
    "start_time": "2023-10-16T10:01:31.222Z"
   },
   {
    "duration": 44,
    "start_time": "2023-10-16T10:01:31.273Z"
   },
   {
    "duration": 56,
    "start_time": "2023-10-16T10:01:31.319Z"
   },
   {
    "duration": 61,
    "start_time": "2023-10-16T10:01:31.377Z"
   },
   {
    "duration": 69,
    "start_time": "2023-10-16T10:01:31.440Z"
   }
  ],
  "colab": {
   "collapsed_sections": [
    "E0vqbgi9ay0H",
    "VUC88oWjTJw2"
   ],
   "provenance": []
  },
  "kernelspec": {
   "display_name": "Python 3 (ipykernel)",
   "language": "python",
   "name": "python3"
  },
  "language_info": {
   "codemirror_mode": {
    "name": "ipython",
    "version": 3
   },
   "file_extension": ".py",
   "mimetype": "text/x-python",
   "name": "python",
   "nbconvert_exporter": "python",
   "pygments_lexer": "ipython3",
   "version": "3.9.5"
  },
  "toc": {
   "base_numbering": 1,
   "nav_menu": {
    "height": "215px",
    "width": "403px"
   },
   "number_sections": true,
   "sideBar": true,
   "skip_h1_title": true,
   "title_cell": "Table of Contents",
   "title_sidebar": "Contents",
   "toc_cell": false,
   "toc_position": {
    "height": "calc(100% - 180px)",
    "left": "10px",
    "top": "150px",
    "width": "285.825px"
   },
   "toc_section_display": true,
   "toc_window_display": false
  }
 },
 "nbformat": 4,
 "nbformat_minor": 1
}
