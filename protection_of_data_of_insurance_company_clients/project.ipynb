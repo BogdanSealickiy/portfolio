{
 "cells": [
  {
   "cell_type": "markdown",
   "metadata": {},
   "source": [
    "# Защита персональных данных клиентов"
   ]
  },
  {
   "cell_type": "markdown",
   "metadata": {},
   "source": [
    "Вам нужно защитить данные клиентов страховой компании «Хоть потоп». Разработайте такой метод преобразования данных, чтобы по ним было сложно восстановить персональную информацию. Обоснуйте корректность его работы.\n",
    "\n",
    "Нужно защитить данные, чтобы при преобразовании качество моделей машинного обучения не ухудшилось. Подбирать наилучшую модель не требуется."
   ]
  },
  {
   "cell_type": "markdown",
   "metadata": {},
   "source": [
    "## Загрузка данных"
   ]
  },
  {
   "cell_type": "markdown",
   "metadata": {},
   "source": [
    "испорт библиотек"
   ]
  },
  {
   "cell_type": "code",
   "execution_count": 1,
   "metadata": {},
   "outputs": [],
   "source": [
    "import pandas as pd\n",
    "import numpy as np\n",
    "import matplotlib.pyplot as plt\n",
    "import seaborn as sns\n",
    "from sklearn.linear_model import LinearRegression\n",
    "from sklearn.metrics import r2_score\n",
    "from sklearn.model_selection import train_test_split"
   ]
  },
  {
   "cell_type": "markdown",
   "metadata": {},
   "source": [
    "Познакомимся с данными"
   ]
  },
  {
   "cell_type": "code",
   "execution_count": 2,
   "metadata": {
    "scrolled": false
   },
   "outputs": [
    {
     "data": {
      "text/html": [
       "<div>\n",
       "<style scoped>\n",
       "    .dataframe tbody tr th:only-of-type {\n",
       "        vertical-align: middle;\n",
       "    }\n",
       "\n",
       "    .dataframe tbody tr th {\n",
       "        vertical-align: top;\n",
       "    }\n",
       "\n",
       "    .dataframe thead th {\n",
       "        text-align: right;\n",
       "    }\n",
       "</style>\n",
       "<table border=\"1\" class=\"dataframe\">\n",
       "  <thead>\n",
       "    <tr style=\"text-align: right;\">\n",
       "      <th></th>\n",
       "      <th>Пол</th>\n",
       "      <th>Возраст</th>\n",
       "      <th>Зарплата</th>\n",
       "      <th>Члены семьи</th>\n",
       "      <th>Страховые выплаты</th>\n",
       "    </tr>\n",
       "  </thead>\n",
       "  <tbody>\n",
       "    <tr>\n",
       "      <th>0</th>\n",
       "      <td>1</td>\n",
       "      <td>41.0</td>\n",
       "      <td>49600.0</td>\n",
       "      <td>1</td>\n",
       "      <td>0</td>\n",
       "    </tr>\n",
       "    <tr>\n",
       "      <th>1</th>\n",
       "      <td>0</td>\n",
       "      <td>46.0</td>\n",
       "      <td>38000.0</td>\n",
       "      <td>1</td>\n",
       "      <td>1</td>\n",
       "    </tr>\n",
       "    <tr>\n",
       "      <th>2</th>\n",
       "      <td>0</td>\n",
       "      <td>29.0</td>\n",
       "      <td>21000.0</td>\n",
       "      <td>0</td>\n",
       "      <td>0</td>\n",
       "    </tr>\n",
       "    <tr>\n",
       "      <th>3</th>\n",
       "      <td>0</td>\n",
       "      <td>21.0</td>\n",
       "      <td>41700.0</td>\n",
       "      <td>2</td>\n",
       "      <td>0</td>\n",
       "    </tr>\n",
       "    <tr>\n",
       "      <th>4</th>\n",
       "      <td>1</td>\n",
       "      <td>28.0</td>\n",
       "      <td>26100.0</td>\n",
       "      <td>0</td>\n",
       "      <td>0</td>\n",
       "    </tr>\n",
       "  </tbody>\n",
       "</table>\n",
       "</div>"
      ],
      "text/plain": [
       "   Пол  Возраст  Зарплата  Члены семьи  Страховые выплаты\n",
       "0    1     41.0   49600.0            1                  0\n",
       "1    0     46.0   38000.0            1                  1\n",
       "2    0     29.0   21000.0            0                  0\n",
       "3    0     21.0   41700.0            2                  0\n",
       "4    1     28.0   26100.0            0                  0"
      ]
     },
     "metadata": {},
     "output_type": "display_data"
    },
    {
     "data": {
      "text/html": [
       "<div>\n",
       "<style scoped>\n",
       "    .dataframe tbody tr th:only-of-type {\n",
       "        vertical-align: middle;\n",
       "    }\n",
       "\n",
       "    .dataframe tbody tr th {\n",
       "        vertical-align: top;\n",
       "    }\n",
       "\n",
       "    .dataframe thead th {\n",
       "        text-align: right;\n",
       "    }\n",
       "</style>\n",
       "<table border=\"1\" class=\"dataframe\">\n",
       "  <thead>\n",
       "    <tr style=\"text-align: right;\">\n",
       "      <th></th>\n",
       "      <th>Пол</th>\n",
       "      <th>Возраст</th>\n",
       "      <th>Зарплата</th>\n",
       "      <th>Члены семьи</th>\n",
       "      <th>Страховые выплаты</th>\n",
       "    </tr>\n",
       "  </thead>\n",
       "  <tbody>\n",
       "    <tr>\n",
       "      <th>4995</th>\n",
       "      <td>0</td>\n",
       "      <td>28.0</td>\n",
       "      <td>35700.0</td>\n",
       "      <td>2</td>\n",
       "      <td>0</td>\n",
       "    </tr>\n",
       "    <tr>\n",
       "      <th>4996</th>\n",
       "      <td>0</td>\n",
       "      <td>34.0</td>\n",
       "      <td>52400.0</td>\n",
       "      <td>1</td>\n",
       "      <td>0</td>\n",
       "    </tr>\n",
       "    <tr>\n",
       "      <th>4997</th>\n",
       "      <td>0</td>\n",
       "      <td>20.0</td>\n",
       "      <td>33900.0</td>\n",
       "      <td>2</td>\n",
       "      <td>0</td>\n",
       "    </tr>\n",
       "    <tr>\n",
       "      <th>4998</th>\n",
       "      <td>1</td>\n",
       "      <td>22.0</td>\n",
       "      <td>32700.0</td>\n",
       "      <td>3</td>\n",
       "      <td>0</td>\n",
       "    </tr>\n",
       "    <tr>\n",
       "      <th>4999</th>\n",
       "      <td>1</td>\n",
       "      <td>28.0</td>\n",
       "      <td>40600.0</td>\n",
       "      <td>1</td>\n",
       "      <td>0</td>\n",
       "    </tr>\n",
       "  </tbody>\n",
       "</table>\n",
       "</div>"
      ],
      "text/plain": [
       "      Пол  Возраст  Зарплата  Члены семьи  Страховые выплаты\n",
       "4995    0     28.0   35700.0            2                  0\n",
       "4996    0     34.0   52400.0            1                  0\n",
       "4997    0     20.0   33900.0            2                  0\n",
       "4998    1     22.0   32700.0            3                  0\n",
       "4999    1     28.0   40600.0            1                  0"
      ]
     },
     "metadata": {},
     "output_type": "display_data"
    },
    {
     "data": {
      "text/html": [
       "<div>\n",
       "<style scoped>\n",
       "    .dataframe tbody tr th:only-of-type {\n",
       "        vertical-align: middle;\n",
       "    }\n",
       "\n",
       "    .dataframe tbody tr th {\n",
       "        vertical-align: top;\n",
       "    }\n",
       "\n",
       "    .dataframe thead th {\n",
       "        text-align: right;\n",
       "    }\n",
       "</style>\n",
       "<table border=\"1\" class=\"dataframe\">\n",
       "  <thead>\n",
       "    <tr style=\"text-align: right;\">\n",
       "      <th></th>\n",
       "      <th>Пол</th>\n",
       "      <th>Возраст</th>\n",
       "      <th>Зарплата</th>\n",
       "      <th>Члены семьи</th>\n",
       "      <th>Страховые выплаты</th>\n",
       "    </tr>\n",
       "  </thead>\n",
       "  <tbody>\n",
       "    <tr>\n",
       "      <th>4289</th>\n",
       "      <td>0</td>\n",
       "      <td>38.0</td>\n",
       "      <td>44500.0</td>\n",
       "      <td>0</td>\n",
       "      <td>0</td>\n",
       "    </tr>\n",
       "    <tr>\n",
       "      <th>2366</th>\n",
       "      <td>0</td>\n",
       "      <td>18.0</td>\n",
       "      <td>54000.0</td>\n",
       "      <td>0</td>\n",
       "      <td>0</td>\n",
       "    </tr>\n",
       "    <tr>\n",
       "      <th>3869</th>\n",
       "      <td>1</td>\n",
       "      <td>25.0</td>\n",
       "      <td>42900.0</td>\n",
       "      <td>2</td>\n",
       "      <td>0</td>\n",
       "    </tr>\n",
       "    <tr>\n",
       "      <th>4791</th>\n",
       "      <td>1</td>\n",
       "      <td>30.0</td>\n",
       "      <td>35400.0</td>\n",
       "      <td>4</td>\n",
       "      <td>0</td>\n",
       "    </tr>\n",
       "    <tr>\n",
       "      <th>3539</th>\n",
       "      <td>0</td>\n",
       "      <td>19.0</td>\n",
       "      <td>36700.0</td>\n",
       "      <td>0</td>\n",
       "      <td>0</td>\n",
       "    </tr>\n",
       "  </tbody>\n",
       "</table>\n",
       "</div>"
      ],
      "text/plain": [
       "      Пол  Возраст  Зарплата  Члены семьи  Страховые выплаты\n",
       "4289    0     38.0   44500.0            0                  0\n",
       "2366    0     18.0   54000.0            0                  0\n",
       "3869    1     25.0   42900.0            2                  0\n",
       "4791    1     30.0   35400.0            4                  0\n",
       "3539    0     19.0   36700.0            0                  0"
      ]
     },
     "execution_count": 2,
     "metadata": {},
     "output_type": "execute_result"
    }
   ],
   "source": [
    "data = pd.read_csv('/datasets/insurance.csv')\n",
    "display(data.head(5))\n",
    "display(data.tail(5))\n",
    "data.sample(5)"
   ]
  },
  {
   "cell_type": "markdown",
   "metadata": {},
   "source": [
    "Проверка дубликатов"
   ]
  },
  {
   "cell_type": "code",
   "execution_count": 3,
   "metadata": {},
   "outputs": [
    {
     "data": {
      "text/plain": [
       "153"
      ]
     },
     "execution_count": 3,
     "metadata": {},
     "output_type": "execute_result"
    }
   ],
   "source": [
    "data.duplicated().sum()"
   ]
  },
  {
   "cell_type": "markdown",
   "metadata": {},
   "source": [
    "Ожидаемо, они тут есть, однако тк у объектов нет характерных признаков по которым мы можем понять настоящий ли это дубликат или совпадение(с текущими значениями оно запросто может быть) оставим все как есть"
   ]
  },
  {
   "cell_type": "code",
   "execution_count": 4,
   "metadata": {},
   "outputs": [
    {
     "name": "stdout",
     "output_type": "stream",
     "text": [
      "<class 'pandas.core.frame.DataFrame'>\n",
      "RangeIndex: 5000 entries, 0 to 4999\n",
      "Data columns (total 5 columns):\n",
      " #   Column             Non-Null Count  Dtype  \n",
      "---  ------             --------------  -----  \n",
      " 0   Пол                5000 non-null   int64  \n",
      " 1   Возраст            5000 non-null   float64\n",
      " 2   Зарплата           5000 non-null   float64\n",
      " 3   Члены семьи        5000 non-null   int64  \n",
      " 4   Страховые выплаты  5000 non-null   int64  \n",
      "dtypes: float64(2), int64(3)\n",
      "memory usage: 195.4 KB\n"
     ]
    }
   ],
   "source": [
    "data.info()"
   ]
  },
  {
   "cell_type": "markdown",
   "metadata": {},
   "source": [
    "Пропусков нет, а типы данных и название признаков изменю, а также посмотрю на распредление признаков для поиска аномалии"
   ]
  },
  {
   "cell_type": "code",
   "execution_count": 5,
   "metadata": {},
   "outputs": [
    {
     "data": {
      "text/html": [
       "<div>\n",
       "<style scoped>\n",
       "    .dataframe tbody tr th:only-of-type {\n",
       "        vertical-align: middle;\n",
       "    }\n",
       "\n",
       "    .dataframe tbody tr th {\n",
       "        vertical-align: top;\n",
       "    }\n",
       "\n",
       "    .dataframe thead th {\n",
       "        text-align: right;\n",
       "    }\n",
       "</style>\n",
       "<table border=\"1\" class=\"dataframe\">\n",
       "  <thead>\n",
       "    <tr style=\"text-align: right;\">\n",
       "      <th></th>\n",
       "      <th>Пол</th>\n",
       "      <th>Возраст</th>\n",
       "      <th>Зарплата</th>\n",
       "      <th>Члены семьи</th>\n",
       "      <th>Страховые выплаты</th>\n",
       "    </tr>\n",
       "  </thead>\n",
       "  <tbody>\n",
       "    <tr>\n",
       "      <th>count</th>\n",
       "      <td>5000.000000</td>\n",
       "      <td>5000.000000</td>\n",
       "      <td>5000.000000</td>\n",
       "      <td>5000.000000</td>\n",
       "      <td>5000.000000</td>\n",
       "    </tr>\n",
       "    <tr>\n",
       "      <th>mean</th>\n",
       "      <td>0.499000</td>\n",
       "      <td>30.952800</td>\n",
       "      <td>39916.360000</td>\n",
       "      <td>1.194200</td>\n",
       "      <td>0.148000</td>\n",
       "    </tr>\n",
       "    <tr>\n",
       "      <th>std</th>\n",
       "      <td>0.500049</td>\n",
       "      <td>8.440807</td>\n",
       "      <td>9900.083569</td>\n",
       "      <td>1.091387</td>\n",
       "      <td>0.463183</td>\n",
       "    </tr>\n",
       "    <tr>\n",
       "      <th>min</th>\n",
       "      <td>0.000000</td>\n",
       "      <td>18.000000</td>\n",
       "      <td>5300.000000</td>\n",
       "      <td>0.000000</td>\n",
       "      <td>0.000000</td>\n",
       "    </tr>\n",
       "    <tr>\n",
       "      <th>25%</th>\n",
       "      <td>0.000000</td>\n",
       "      <td>24.000000</td>\n",
       "      <td>33300.000000</td>\n",
       "      <td>0.000000</td>\n",
       "      <td>0.000000</td>\n",
       "    </tr>\n",
       "    <tr>\n",
       "      <th>50%</th>\n",
       "      <td>0.000000</td>\n",
       "      <td>30.000000</td>\n",
       "      <td>40200.000000</td>\n",
       "      <td>1.000000</td>\n",
       "      <td>0.000000</td>\n",
       "    </tr>\n",
       "    <tr>\n",
       "      <th>75%</th>\n",
       "      <td>1.000000</td>\n",
       "      <td>37.000000</td>\n",
       "      <td>46600.000000</td>\n",
       "      <td>2.000000</td>\n",
       "      <td>0.000000</td>\n",
       "    </tr>\n",
       "    <tr>\n",
       "      <th>max</th>\n",
       "      <td>1.000000</td>\n",
       "      <td>65.000000</td>\n",
       "      <td>79000.000000</td>\n",
       "      <td>6.000000</td>\n",
       "      <td>5.000000</td>\n",
       "    </tr>\n",
       "  </tbody>\n",
       "</table>\n",
       "</div>"
      ],
      "text/plain": [
       "               Пол      Возраст      Зарплата  Члены семьи  Страховые выплаты\n",
       "count  5000.000000  5000.000000   5000.000000  5000.000000        5000.000000\n",
       "mean      0.499000    30.952800  39916.360000     1.194200           0.148000\n",
       "std       0.500049     8.440807   9900.083569     1.091387           0.463183\n",
       "min       0.000000    18.000000   5300.000000     0.000000           0.000000\n",
       "25%       0.000000    24.000000  33300.000000     0.000000           0.000000\n",
       "50%       0.000000    30.000000  40200.000000     1.000000           0.000000\n",
       "75%       1.000000    37.000000  46600.000000     2.000000           0.000000\n",
       "max       1.000000    65.000000  79000.000000     6.000000           5.000000"
      ]
     },
     "execution_count": 5,
     "metadata": {},
     "output_type": "execute_result"
    }
   ],
   "source": [
    "data.describe()"
   ]
  },
  {
   "cell_type": "markdown",
   "metadata": {},
   "source": [
    "Предварительно данные лежат в хороших диапазонах, но взгялну на них с помощью графиков"
   ]
  },
  {
   "cell_type": "code",
   "execution_count": 6,
   "metadata": {},
   "outputs": [],
   "source": [
    "data = data.rename(columns={'Пол':'Sex', 'Возраст':'Age', 'Зарплата':'Salary', 'Члены семьи':'Family_mem', 'Страховые выплаты':'Insurance_payments'})"
   ]
  },
  {
   "cell_type": "code",
   "execution_count": 7,
   "metadata": {},
   "outputs": [
    {
     "data": {
      "image/png": "[encoded data removed]",
      "text/plain": [
       "<Figure size 432x288 with 1 Axes>"
      ]
     },
     "metadata": {
      "needs_background": "light"
     },
     "output_type": "display_data"
    }
   ],
   "source": [
    "data['Sex'].value_counts().plot(kind='bar')\n",
    "plt.title('Распределение пола')\n",
    "plt.xlabel('Пол')\n",
    "plt.ylabel('Кол-во')\n",
    "plt.show()\n"
   ]
  },
  {
   "cell_type": "markdown",
   "metadata": {},
   "source": [
    "Пол - качетсвенный признак, для него достаточно будет изобразить столбчатую или круговую диаграмму"
   ]
  },
  {
   "cell_type": "code",
   "execution_count": 8,
   "metadata": {},
   "outputs": [
    {
     "data": {
      "image/png": "[encoded data removed]",
      "text/plain": [
       "<Figure size 432x288 with 1 Axes>"
      ]
     },
     "metadata": {
      "needs_background": "light"
     },
     "output_type": "display_data"
    }
   ],
   "source": [
    "data['Age'].hist(bins=30)\n",
    "plt.title('Распределение возрастов')\n",
    "plt.xlabel('Возраст')\n",
    "plt.ylabel('Кол-во')\n",
    "plt.show()\n"
   ]
  },
  {
   "cell_type": "code",
   "execution_count": 9,
   "metadata": {},
   "outputs": [
    {
     "data": {
      "image/png": "[encoded data removed]",
      "text/plain": [
       "<Figure size 432x288 with 1 Axes>"
      ]
     },
     "metadata": {
      "needs_background": "light"
     },
     "output_type": "display_data"
    }
   ],
   "source": [
    "data['Family_mem'].hist(bins=20)\n",
    "plt.title('Распределение  по кол-ву членов семьи')\n",
    "plt.xlabel('Членов семьи')\n",
    "plt.ylabel('Кол-во')\n",
    "plt.show()\n"
   ]
  },
  {
   "cell_type": "code",
   "execution_count": 10,
   "metadata": {},
   "outputs": [
    {
     "data": {
      "image/png": "[encoded data removed]",
      "text/plain": [
       "<Figure size 432x288 with 1 Axes>"
      ]
     },
     "metadata": {
      "needs_background": "light"
     },
     "output_type": "display_data"
    }
   ],
   "source": [
    "data['Insurance_payments'].hist(bins=20)\n",
    "plt.title('Распределение  по кол-ву страховы выплат')\n",
    "plt.xlabel('Выплат')\n",
    "plt.ylabel('Кол-во')\n",
    "plt.show()\n"
   ]
  },
  {
   "cell_type": "markdown",
   "metadata": {},
   "source": [
    "Все эти признаки - количественные и дискретные, хорошо подойдет столбчатая диаграмма или гистрограмма"
   ]
  },
  {
   "cell_type": "code",
   "execution_count": 11,
   "metadata": {},
   "outputs": [
    {
     "data": {
      "image/png": "[encoded data removed]",
      "text/plain": [
       "<Figure size 432x288 with 1 Axes>"
      ]
     },
     "metadata": {
      "needs_background": "light"
     },
     "output_type": "display_data"
    }
   ],
   "source": [
    "data['Salary'].hist(bins=80)\n",
    "plt.title('Распределение зарплат')\n",
    "plt.xlabel('Зарплаты')\n",
    "plt.ylabel('Кол-во')\n",
    "plt.show()"
   ]
  },
  {
   "cell_type": "markdown",
   "metadata": {},
   "source": [
    "Зарплаты - количесвенная и непрерывная переменная, значит можно посмотреть гистограммой с подобранными корзинами или графиком плотности"
   ]
  },
  {
   "cell_type": "markdown",
   "metadata": {},
   "source": [
    "**Вывод**\n",
    "\n",
    "С данными ознакомились, больших проблем не обнаружено, например аномалий или пропусков \n",
    "\n",
    "Сделал небольшие правки - изменил название признакам и тип данных для некоторых из них"
   ]
  },
  {
   "cell_type": "markdown",
   "metadata": {},
   "source": [
    "## Умножение матриц"
   ]
  },
  {
   "cell_type": "markdown",
   "metadata": {},
   "source": [
    "Обозначения:\n",
    "\n",
    "- $X$ — матрица признаков (нулевой столбец состоит из единиц)\n",
    "\n",
    "- $y$ — вектор целевого признака\n",
    "\n",
    "- $P$ — матрица, на которую умножаются признаки\n",
    "\n",
    "- $w$ — вектор весов линейной регрессии (нулевой элемент равен сдвигу)"
   ]
  },
  {
   "cell_type": "markdown",
   "metadata": {},
   "source": [
    "Предсказания:\n",
    "\n",
    "$$\n",
    "a = Xw\n",
    "$$\n",
    "\n",
    "Задача обучения:\n",
    "\n",
    "$$\n",
    "w = \\arg\\min_w MSE(Xw, y)\n",
    "$$\n",
    "\n",
    "Формула обучения:\n",
    "\n",
    "$$\n",
    "w = (X^T X)^{-1} X^T y\n",
    "$$"
   ]
  },
  {
   "cell_type": "markdown",
   "metadata": {},
   "source": [
    "$$\n",
    "a = X1 *(X^T X)^{-1} X^T y\n",
    "$$"
   ]
  },
  {
   "cell_type": "markdown",
   "metadata": {},
   "source": [
    "## $$\n",
    "w' = (XP^T XP)^{-1} XP^T y\n",
    "$$\n",
    "\n",
    "$$\n",
    "w' = (P^T X^T XP)^{-1} P^T X^T y\n",
    "$$\n",
    "\n",
    "$$\n",
    "w' = ((X^TX)P)^{-1} P^{T^{-1}}P^T X^T y\n",
    "$$\n",
    "\n",
    "$$\n",
    "w' = (P)^{-1} (X^T X)^{-1} X^T y\n",
    "$$\n",
    "\n",
    "Это выражение и есть наше w\n",
    "$$\n",
    "(X^T X)^{-1} X^T y\n",
    "$$\n",
    "\n",
    "$$\n",
    "w' = (P)^{-1} w\n",
    "$$\n",
    "\n"
   ]
  },
  {
   "cell_type": "markdown",
   "metadata": {},
   "source": [
    "**Вывод**\n",
    "\n",
    "В итоге получили тот же результат, что и без умножения признаков на Р"
   ]
  },
  {
   "cell_type": "markdown",
   "metadata": {},
   "source": [
    "## Алгоритм преобразования"
   ]
  },
  {
   "cell_type": "markdown",
   "metadata": {},
   "source": [
    "**Алгоритм**\n",
    "\n",
    "Умножение на обратимую матрицу\n",
    "\n",
    "Шаги\n",
    "- Создать обратимую матрицу(без зависимых векторов)\n",
    "- Умножить на нее признаки\n",
    "\n",
    "К тому же, при условии, что матрица признаков(n,m), наша матрица должна быть (n,n). Строк должно быть столько для кореектоного умножения, а столбцов для получения такой же по размерности матрицы после умножения тк при умножений на квадратную матрицу, правая сохранит свой размер "
   ]
  },
  {
   "cell_type": "markdown",
   "metadata": {},
   "source": [
    "**Обоснование**\n",
    "\n",
    "Конечно, можно рассмтотреть много вариантов преобразования, но таким способом мы изменим оригинальные данные, как требуется по заданию, и что самое главное не изменим качество модели, это доказано выше в пункте 2."
   ]
  },
  {
   "cell_type": "markdown",
   "metadata": {},
   "source": [
    "## Проверка алгоритма"
   ]
  },
  {
   "cell_type": "markdown",
   "metadata": {},
   "source": [
    "Разделим датасет на прищнаки и целевой признак"
   ]
  },
  {
   "cell_type": "code",
   "execution_count": 12,
   "metadata": {},
   "outputs": [],
   "source": [
    "features = data.drop('Insurance_payments',axis=1)\n",
    "target = data['Insurance_payments']"
   ]
  },
  {
   "cell_type": "markdown",
   "metadata": {},
   "source": [
    "А теперь на обучающую и тестовую выборки"
   ]
  },
  {
   "cell_type": "code",
   "execution_count": 13,
   "metadata": {},
   "outputs": [],
   "source": [
    "features_train, features_test, target_train, target_test = train_test_split( features, target, test_size=0.25, random_state=12345)"
   ]
  },
  {
   "cell_type": "code",
   "execution_count": 14,
   "metadata": {},
   "outputs": [
    {
     "data": {
      "text/plain": [
       "0.43522757127026546"
      ]
     },
     "execution_count": 14,
     "metadata": {},
     "output_type": "execute_result"
    }
   ],
   "source": [
    "model = LinearRegression()\n",
    "model.fit(features_train, target_train)\n",
    "R2 = r2_score(target_test, model.predict(features_test))\n",
    "R2"
   ]
  },
  {
   "cell_type": "markdown",
   "metadata": {},
   "source": [
    "Теперь зашифруем признаки с помощью способа озвученого в 3 пунте. Узнаем точный размер матрицы"
   ]
  },
  {
   "cell_type": "code",
   "execution_count": 15,
   "metadata": {},
   "outputs": [
    {
     "data": {
      "text/plain": [
       "(3750, 4)"
      ]
     },
     "execution_count": 15,
     "metadata": {},
     "output_type": "execute_result"
    }
   ],
   "source": [
    "features_train.shape"
   ]
  },
  {
   "cell_type": "markdown",
   "metadata": {},
   "source": [
    "Создадим новую матрицу и проверим обратима ли она"
   ]
  },
  {
   "cell_type": "code",
   "execution_count": 16,
   "metadata": {},
   "outputs": [],
   "source": [
    "P = np.random.randint (0, 20, (4, 4))\n",
    "if(np.linalg.det(P)!= 0):\n",
    "    new_features = features @ P\n",
    "else:\n",
    "    print('Матрица необратима')"
   ]
  },
  {
   "cell_type": "code",
   "execution_count": 17,
   "metadata": {},
   "outputs": [
    {
     "data": {
      "text/html": [
       "<div>\n",
       "<style scoped>\n",
       "    .dataframe tbody tr th:only-of-type {\n",
       "        vertical-align: middle;\n",
       "    }\n",
       "\n",
       "    .dataframe tbody tr th {\n",
       "        vertical-align: top;\n",
       "    }\n",
       "\n",
       "    .dataframe thead th {\n",
       "        text-align: right;\n",
       "    }\n",
       "</style>\n",
       "<table border=\"1\" class=\"dataframe\">\n",
       "  <thead>\n",
       "    <tr style=\"text-align: right;\">\n",
       "      <th></th>\n",
       "      <th>0</th>\n",
       "      <th>1</th>\n",
       "      <th>2</th>\n",
       "      <th>3</th>\n",
       "    </tr>\n",
       "  </thead>\n",
       "  <tbody>\n",
       "    <tr>\n",
       "      <th>0</th>\n",
       "      <td>744024.0</td>\n",
       "      <td>694462.0</td>\n",
       "      <td>198966.0</td>\n",
       "      <td>744270.0</td>\n",
       "    </tr>\n",
       "    <tr>\n",
       "      <th>1</th>\n",
       "      <td>570015.0</td>\n",
       "      <td>532065.0</td>\n",
       "      <td>152616.0</td>\n",
       "      <td>570285.0</td>\n",
       "    </tr>\n",
       "    <tr>\n",
       "      <th>2</th>\n",
       "      <td>315000.0</td>\n",
       "      <td>294029.0</td>\n",
       "      <td>84377.0</td>\n",
       "      <td>315174.0</td>\n",
       "    </tr>\n",
       "    <tr>\n",
       "      <th>3</th>\n",
       "      <td>625530.0</td>\n",
       "      <td>583859.0</td>\n",
       "      <td>167109.0</td>\n",
       "      <td>625644.0</td>\n",
       "    </tr>\n",
       "    <tr>\n",
       "      <th>4</th>\n",
       "      <td>391509.0</td>\n",
       "      <td>365430.0</td>\n",
       "      <td>104779.0</td>\n",
       "      <td>391683.0</td>\n",
       "    </tr>\n",
       "    <tr>\n",
       "      <th>...</th>\n",
       "      <td>...</td>\n",
       "      <td>...</td>\n",
       "      <td>...</td>\n",
       "      <td>...</td>\n",
       "    </tr>\n",
       "    <tr>\n",
       "      <th>4995</th>\n",
       "      <td>535530.0</td>\n",
       "      <td>499866.0</td>\n",
       "      <td>143200.0</td>\n",
       "      <td>535686.0</td>\n",
       "    </tr>\n",
       "    <tr>\n",
       "      <th>4996</th>\n",
       "      <td>786015.0</td>\n",
       "      <td>733653.0</td>\n",
       "      <td>210060.0</td>\n",
       "      <td>786213.0</td>\n",
       "    </tr>\n",
       "    <tr>\n",
       "      <th>4997</th>\n",
       "      <td>508530.0</td>\n",
       "      <td>474658.0</td>\n",
       "      <td>135896.0</td>\n",
       "      <td>508638.0</td>\n",
       "    </tr>\n",
       "    <tr>\n",
       "      <th>4998</th>\n",
       "      <td>490554.0</td>\n",
       "      <td>457881.0</td>\n",
       "      <td>131155.0</td>\n",
       "      <td>490674.0</td>\n",
       "    </tr>\n",
       "    <tr>\n",
       "      <th>4999</th>\n",
       "      <td>609024.0</td>\n",
       "      <td>568449.0</td>\n",
       "      <td>162797.0</td>\n",
       "      <td>609192.0</td>\n",
       "    </tr>\n",
       "  </tbody>\n",
       "</table>\n",
       "<p>5000 rows × 4 columns</p>\n",
       "</div>"
      ],
      "text/plain": [
       "             0         1         2         3\n",
       "0     744024.0  694462.0  198966.0  744270.0\n",
       "1     570015.0  532065.0  152616.0  570285.0\n",
       "2     315000.0  294029.0   84377.0  315174.0\n",
       "3     625530.0  583859.0  167109.0  625644.0\n",
       "4     391509.0  365430.0  104779.0  391683.0\n",
       "...        ...       ...       ...       ...\n",
       "4995  535530.0  499866.0  143200.0  535686.0\n",
       "4996  786015.0  733653.0  210060.0  786213.0\n",
       "4997  508530.0  474658.0  135896.0  508638.0\n",
       "4998  490554.0  457881.0  131155.0  490674.0\n",
       "4999  609024.0  568449.0  162797.0  609192.0\n",
       "\n",
       "[5000 rows x 4 columns]"
      ]
     },
     "execution_count": 17,
     "metadata": {},
     "output_type": "execute_result"
    }
   ],
   "source": [
    "new_features"
   ]
  },
  {
   "cell_type": "markdown",
   "metadata": {},
   "source": [
    "Готово. Теперь изменим исходные данные и проверим качество модели"
   ]
  },
  {
   "cell_type": "code",
   "execution_count": 18,
   "metadata": {},
   "outputs": [],
   "source": [
    "features_train, features_test, target_train, target_test = train_test_split( new_features, target, test_size=0.25, random_state=12345)"
   ]
  },
  {
   "cell_type": "code",
   "execution_count": 19,
   "metadata": {},
   "outputs": [
    {
     "data": {
      "text/plain": [
       "0.43522757127008804"
      ]
     },
     "execution_count": 19,
     "metadata": {},
     "output_type": "execute_result"
    }
   ],
   "source": [
    "model = LinearRegression()\n",
    "model.fit(features_train, target_train)\n",
    "R2 = r2_score(target_test, model.predict(features_test))\n",
    "R2"
   ]
  },
  {
   "cell_type": "markdown",
   "metadata": {},
   "source": [
    "**Итог**\n",
    "Результат метрики R2 тот же, ничего не поменялось. Значит, хоть данные и были изменены и по ним сложно сказать что-либо исходных данных, благодарся правильному способу изменения модель предсказывает с той же точностью"
   ]
  }
 ],
 "metadata": {
  "ExecuteTimeLog": [
   {
    "duration": 2,
    "start_time": "2023-07-17T08:46:39.851Z"
   },
   {
    "duration": 101,
    "start_time": "2023-07-17T08:47:15.536Z"
   },
   {
    "duration": 36,
    "start_time": "2023-07-17T08:47:42.413Z"
   },
   {
    "duration": 50,
    "start_time": "2023-07-17T08:47:53.298Z"
   },
   {
    "duration": 44,
    "start_time": "2023-07-17T08:48:09.847Z"
   },
   {
    "duration": 9,
    "start_time": "2023-07-17T08:48:58.909Z"
   },
   {
    "duration": 7,
    "start_time": "2023-07-17T08:49:15.248Z"
   },
   {
    "duration": 6,
    "start_time": "2023-07-17T08:49:34.991Z"
   },
   {
    "duration": 6,
    "start_time": "2023-07-17T08:49:39.415Z"
   },
   {
    "duration": 6,
    "start_time": "2023-07-17T08:49:47.585Z"
   },
   {
    "duration": 7,
    "start_time": "2023-07-17T08:49:50.548Z"
   },
   {
    "duration": 6,
    "start_time": "2023-07-17T08:49:57.952Z"
   },
   {
    "duration": 11,
    "start_time": "2023-07-17T08:51:37.980Z"
   },
   {
    "duration": 23,
    "start_time": "2023-07-17T08:52:06.914Z"
   },
   {
    "duration": 959,
    "start_time": "2023-07-17T08:58:48.603Z"
   },
   {
    "duration": 40,
    "start_time": "2023-07-17T08:59:28.419Z"
   },
   {
    "duration": 106,
    "start_time": "2023-07-17T08:59:35.719Z"
   },
   {
    "duration": 67,
    "start_time": "2023-07-17T09:00:06.415Z"
   },
   {
    "duration": 1203,
    "start_time": "2023-07-17T09:01:05.466Z"
   },
   {
    "duration": 49,
    "start_time": "2023-07-17T09:01:06.671Z"
   },
   {
    "duration": 6,
    "start_time": "2023-07-17T09:01:06.722Z"
   },
   {
    "duration": 36,
    "start_time": "2023-07-17T09:01:06.729Z"
   },
   {
    "duration": 25,
    "start_time": "2023-07-17T09:01:06.767Z"
   },
   {
    "duration": 79,
    "start_time": "2023-07-17T09:01:06.794Z"
   },
   {
    "duration": 184,
    "start_time": "2023-07-17T09:02:58.900Z"
   },
   {
    "duration": 118,
    "start_time": "2023-07-17T09:04:10.890Z"
   },
   {
    "duration": 107,
    "start_time": "2023-07-17T09:04:16.672Z"
   },
   {
    "duration": 3,
    "start_time": "2023-07-17T09:08:46.268Z"
   },
   {
    "duration": 1447,
    "start_time": "2023-07-17T09:08:47.989Z"
   },
   {
    "duration": 86,
    "start_time": "2023-07-17T09:08:53.519Z"
   },
   {
    "duration": 126,
    "start_time": "2023-07-17T09:10:23.969Z"
   },
   {
    "duration": 4,
    "start_time": "2023-07-17T09:12:27.658Z"
   },
   {
    "duration": 17,
    "start_time": "2023-07-17T09:12:35.869Z"
   },
   {
    "duration": 4,
    "start_time": "2023-07-17T09:13:11.300Z"
   },
   {
    "duration": 15,
    "start_time": "2023-07-17T09:13:15.064Z"
   },
   {
    "duration": 547,
    "start_time": "2023-07-17T09:14:12.453Z"
   },
   {
    "duration": 121,
    "start_time": "2023-07-17T09:15:29.914Z"
   },
   {
    "duration": 102,
    "start_time": "2023-07-17T09:15:42.380Z"
   },
   {
    "duration": 217,
    "start_time": "2023-07-17T09:16:07.052Z"
   },
   {
    "duration": 167,
    "start_time": "2023-07-17T09:16:18.900Z"
   },
   {
    "duration": 152,
    "start_time": "2023-07-17T09:16:23.545Z"
   },
   {
    "duration": 89,
    "start_time": "2023-07-17T09:17:03.244Z"
   },
   {
    "duration": 150,
    "start_time": "2023-07-17T09:17:12.502Z"
   },
   {
    "duration": 162,
    "start_time": "2023-07-17T09:17:53.617Z"
   },
   {
    "duration": 148,
    "start_time": "2023-07-17T09:18:00.449Z"
   },
   {
    "duration": 127,
    "start_time": "2023-07-17T09:18:08.416Z"
   },
   {
    "duration": 229,
    "start_time": "2023-07-17T09:18:16.715Z"
   },
   {
    "duration": 167,
    "start_time": "2023-07-17T09:18:22.955Z"
   },
   {
    "duration": 146,
    "start_time": "2023-07-17T09:18:57.691Z"
   },
   {
    "duration": 141,
    "start_time": "2023-07-17T09:19:26.819Z"
   },
   {
    "duration": 1552,
    "start_time": "2023-07-17T09:19:53.368Z"
   },
   {
    "duration": 15,
    "start_time": "2023-07-17T09:20:30.183Z"
   },
   {
    "duration": 133,
    "start_time": "2023-07-17T09:20:47.276Z"
   },
   {
    "duration": 219,
    "start_time": "2023-07-17T09:22:13.911Z"
   },
   {
    "duration": 98,
    "start_time": "2023-07-17T09:22:22.300Z"
   },
   {
    "duration": 152,
    "start_time": "2023-07-17T09:22:38.244Z"
   },
   {
    "duration": 132,
    "start_time": "2023-07-17T09:22:56.492Z"
   },
   {
    "duration": 277,
    "start_time": "2023-07-17T09:23:31.461Z"
   },
   {
    "duration": 340,
    "start_time": "2023-07-17T09:24:10.561Z"
   },
   {
    "duration": 444,
    "start_time": "2023-07-17T09:24:19.225Z"
   },
   {
    "duration": 339,
    "start_time": "2023-07-17T09:24:23.852Z"
   },
   {
    "duration": 222,
    "start_time": "2023-07-17T09:24:26.707Z"
   },
   {
    "duration": 329,
    "start_time": "2023-07-17T09:25:00.693Z"
   },
   {
    "duration": 4,
    "start_time": "2023-07-17T09:41:06.866Z"
   },
   {
    "duration": 12,
    "start_time": "2023-07-17T09:41:15.524Z"
   },
   {
    "duration": 5,
    "start_time": "2023-07-17T09:41:19.799Z"
   },
   {
    "duration": 285,
    "start_time": "2023-07-17T09:44:32.040Z"
   },
   {
    "duration": 3,
    "start_time": "2023-07-17T09:46:17.899Z"
   },
   {
    "duration": 24,
    "start_time": "2023-07-17T09:46:40.704Z"
   },
   {
    "duration": 13,
    "start_time": "2023-07-17T09:46:49.250Z"
   },
   {
    "duration": 11,
    "start_time": "2023-07-17T09:48:18.125Z"
   },
   {
    "duration": 3,
    "start_time": "2023-07-17T09:48:28.398Z"
   },
   {
    "duration": 5,
    "start_time": "2023-07-17T09:48:33.023Z"
   },
   {
    "duration": 10,
    "start_time": "2023-07-17T09:48:58.283Z"
   },
   {
    "duration": 16,
    "start_time": "2023-07-17T09:49:03.253Z"
   },
   {
    "duration": 15,
    "start_time": "2023-07-17T09:49:05.549Z"
   },
   {
    "duration": 7,
    "start_time": "2023-07-17T09:49:30.021Z"
   },
   {
    "duration": 6,
    "start_time": "2023-07-17T09:49:35.762Z"
   },
   {
    "duration": 7,
    "start_time": "2023-07-17T09:49:37.742Z"
   },
   {
    "duration": 12,
    "start_time": "2023-07-17T09:49:58.266Z"
   },
   {
    "duration": 8,
    "start_time": "2023-07-17T09:50:04.241Z"
   },
   {
    "duration": 3,
    "start_time": "2023-07-17T09:50:22.417Z"
   },
   {
    "duration": 5,
    "start_time": "2023-07-17T09:50:46.078Z"
   },
   {
    "duration": 48,
    "start_time": "2023-07-17T11:16:18.454Z"
   },
   {
    "duration": 120,
    "start_time": "2023-07-17T11:16:32.361Z"
   },
   {
    "duration": 8,
    "start_time": "2023-07-17T11:17:03.498Z"
   },
   {
    "duration": 19,
    "start_time": "2023-07-17T11:17:08.766Z"
   },
   {
    "duration": 8,
    "start_time": "2023-07-17T11:17:11.508Z"
   },
   {
    "duration": 11,
    "start_time": "2023-07-17T11:23:46.477Z"
   },
   {
    "duration": 8,
    "start_time": "2023-07-17T11:23:52.929Z"
   },
   {
    "duration": 10,
    "start_time": "2023-07-17T11:24:01.165Z"
   },
   {
    "duration": 3,
    "start_time": "2023-07-17T11:24:07.989Z"
   },
   {
    "duration": 3,
    "start_time": "2023-07-17T11:24:12.397Z"
   },
   {
    "duration": 18,
    "start_time": "2023-07-17T11:24:30.212Z"
   },
   {
    "duration": 14,
    "start_time": "2023-07-17T11:24:37.757Z"
   },
   {
    "duration": 9,
    "start_time": "2023-07-17T11:28:31.123Z"
   },
   {
    "duration": 5,
    "start_time": "2023-07-17T11:29:11.416Z"
   },
   {
    "duration": 9,
    "start_time": "2023-07-17T11:29:21.474Z"
   },
   {
    "duration": 5,
    "start_time": "2023-07-17T11:29:25.057Z"
   },
   {
    "duration": 150,
    "start_time": "2023-07-17T14:56:06.560Z"
   },
   {
    "duration": 137,
    "start_time": "2023-07-17T14:59:47.718Z"
   },
   {
    "duration": 151,
    "start_time": "2023-07-17T15:01:14.907Z"
   },
   {
    "duration": 1692,
    "start_time": "2023-07-18T08:27:26.950Z"
   },
   {
    "duration": 150,
    "start_time": "2023-07-18T08:27:28.644Z"
   },
   {
    "duration": 6,
    "start_time": "2023-07-18T08:27:28.796Z"
   },
   {
    "duration": 20,
    "start_time": "2023-07-18T08:27:28.804Z"
   },
   {
    "duration": 24,
    "start_time": "2023-07-18T08:27:28.826Z"
   },
   {
    "duration": 4,
    "start_time": "2023-07-18T08:27:28.852Z"
   },
   {
    "duration": 129,
    "start_time": "2023-07-18T08:27:28.858Z"
   },
   {
    "duration": 182,
    "start_time": "2023-07-18T08:27:28.990Z"
   },
   {
    "duration": 182,
    "start_time": "2023-07-18T08:27:29.174Z"
   },
   {
    "duration": 171,
    "start_time": "2023-07-18T08:27:29.359Z"
   },
   {
    "duration": 365,
    "start_time": "2023-07-18T08:27:29.532Z"
   },
   {
    "duration": 4,
    "start_time": "2023-07-18T08:28:38.943Z"
   },
   {
    "duration": 4,
    "start_time": "2023-07-18T08:29:35.290Z"
   },
   {
    "duration": 106,
    "start_time": "2023-07-18T08:30:27.240Z"
   },
   {
    "duration": 17,
    "start_time": "2023-07-18T08:30:51.775Z"
   },
   {
    "duration": 1588,
    "start_time": "2023-07-18T08:33:56.103Z"
   },
   {
    "duration": 57,
    "start_time": "2023-07-18T08:33:57.694Z"
   },
   {
    "duration": 7,
    "start_time": "2023-07-18T08:33:57.753Z"
   },
   {
    "duration": 20,
    "start_time": "2023-07-18T08:33:57.763Z"
   },
   {
    "duration": 42,
    "start_time": "2023-07-18T08:33:57.785Z"
   },
   {
    "duration": 6,
    "start_time": "2023-07-18T08:33:57.829Z"
   },
   {
    "duration": 152,
    "start_time": "2023-07-18T08:33:57.836Z"
   },
   {
    "duration": 215,
    "start_time": "2023-07-18T08:33:57.990Z"
   },
   {
    "duration": 187,
    "start_time": "2023-07-18T08:33:58.207Z"
   },
   {
    "duration": 177,
    "start_time": "2023-07-18T08:33:58.396Z"
   },
   {
    "duration": 353,
    "start_time": "2023-07-18T08:33:58.574Z"
   },
   {
    "duration": 5,
    "start_time": "2023-07-18T08:33:58.929Z"
   },
   {
    "duration": 136,
    "start_time": "2023-07-18T08:33:58.936Z"
   },
   {
    "duration": 6,
    "start_time": "2023-07-18T08:34:19.744Z"
   },
   {
    "duration": 5,
    "start_time": "2023-07-18T08:34:24.150Z"
   },
   {
    "duration": 12,
    "start_time": "2023-07-18T08:35:37.837Z"
   },
   {
    "duration": 4,
    "start_time": "2023-07-18T08:43:12.735Z"
   },
   {
    "duration": 7,
    "start_time": "2023-07-18T08:43:33.562Z"
   },
   {
    "duration": 11,
    "start_time": "2023-07-18T08:43:57.662Z"
   },
   {
    "duration": 3,
    "start_time": "2023-07-18T08:45:30.358Z"
   },
   {
    "duration": 180,
    "start_time": "2023-07-18T08:45:30.855Z"
   },
   {
    "duration": 3,
    "start_time": "2023-07-18T08:45:41.902Z"
   },
   {
    "duration": 5,
    "start_time": "2023-07-18T08:45:42.254Z"
   },
   {
    "duration": 3,
    "start_time": "2023-07-18T08:45:53.822Z"
   },
   {
    "duration": 4,
    "start_time": "2023-07-18T08:45:54.244Z"
   },
   {
    "duration": 5,
    "start_time": "2023-07-18T08:46:00.235Z"
   },
   {
    "duration": 6,
    "start_time": "2023-07-18T08:46:09.891Z"
   },
   {
    "duration": 3,
    "start_time": "2023-07-18T08:47:46.706Z"
   },
   {
    "duration": 14,
    "start_time": "2023-07-18T08:47:54.041Z"
   },
   {
    "duration": 4,
    "start_time": "2023-07-18T08:48:17.911Z"
   },
   {
    "duration": 13,
    "start_time": "2023-07-18T08:48:18.643Z"
   },
   {
    "duration": 9,
    "start_time": "2023-07-18T08:48:33.167Z"
   },
   {
    "duration": 1898,
    "start_time": "2023-07-18T08:48:49.215Z"
   },
   {
    "duration": 56,
    "start_time": "2023-07-18T08:48:51.116Z"
   },
   {
    "duration": 8,
    "start_time": "2023-07-18T08:48:51.174Z"
   },
   {
    "duration": 20,
    "start_time": "2023-07-18T08:48:51.184Z"
   },
   {
    "duration": 25,
    "start_time": "2023-07-18T08:48:51.206Z"
   },
   {
    "duration": 5,
    "start_time": "2023-07-18T08:48:51.233Z"
   },
   {
    "duration": 350,
    "start_time": "2023-07-18T08:48:51.240Z"
   },
   {
    "duration": 192,
    "start_time": "2023-07-18T08:48:51.592Z"
   },
   {
    "duration": 185,
    "start_time": "2023-07-18T08:48:51.786Z"
   },
   {
    "duration": 162,
    "start_time": "2023-07-18T08:48:51.974Z"
   },
   {
    "duration": 346,
    "start_time": "2023-07-18T08:48:52.138Z"
   },
   {
    "duration": 4,
    "start_time": "2023-07-18T08:48:52.487Z"
   },
   {
    "duration": 21,
    "start_time": "2023-07-18T08:48:52.492Z"
   },
   {
    "duration": 17,
    "start_time": "2023-07-18T08:48:52.515Z"
   },
   {
    "duration": 6,
    "start_time": "2023-07-18T08:48:52.534Z"
   },
   {
    "duration": 8,
    "start_time": "2023-07-18T08:48:52.542Z"
   },
   {
    "duration": 27,
    "start_time": "2023-07-18T08:48:52.552Z"
   },
   {
    "duration": 41,
    "start_time": "2023-07-18T08:48:52.581Z"
   },
   {
    "duration": 11,
    "start_time": "2023-07-18T08:48:52.623Z"
   },
   {
    "duration": 4,
    "start_time": "2023-07-18T08:51:22.535Z"
   },
   {
    "duration": 12,
    "start_time": "2023-07-18T08:51:23.383Z"
   },
   {
    "duration": 1488,
    "start_time": "2023-07-18T08:52:20.524Z"
   },
   {
    "duration": 53,
    "start_time": "2023-07-18T08:52:22.014Z"
   },
   {
    "duration": 6,
    "start_time": "2023-07-18T08:52:22.068Z"
   },
   {
    "duration": 87,
    "start_time": "2023-07-18T08:52:22.076Z"
   },
   {
    "duration": 45,
    "start_time": "2023-07-18T08:52:22.165Z"
   },
   {
    "duration": 11,
    "start_time": "2023-07-18T08:52:22.211Z"
   },
   {
    "duration": 141,
    "start_time": "2023-07-18T08:52:22.224Z"
   },
   {
    "duration": 173,
    "start_time": "2023-07-18T08:52:22.367Z"
   },
   {
    "duration": 176,
    "start_time": "2023-07-18T08:52:22.541Z"
   },
   {
    "duration": 151,
    "start_time": "2023-07-18T08:52:22.720Z"
   },
   {
    "duration": 330,
    "start_time": "2023-07-18T08:52:22.873Z"
   },
   {
    "duration": 9,
    "start_time": "2023-07-18T08:52:23.205Z"
   },
   {
    "duration": 36,
    "start_time": "2023-07-18T08:52:23.215Z"
   },
   {
    "duration": 38,
    "start_time": "2023-07-18T08:52:23.252Z"
   },
   {
    "duration": 21,
    "start_time": "2023-07-18T08:52:23.291Z"
   },
   {
    "duration": 20,
    "start_time": "2023-07-18T08:52:23.313Z"
   },
   {
    "duration": 27,
    "start_time": "2023-07-18T08:52:23.335Z"
   },
   {
    "duration": 35,
    "start_time": "2023-07-18T08:52:23.364Z"
   },
   {
    "duration": 26,
    "start_time": "2023-07-18T08:52:23.401Z"
   },
   {
    "duration": 16,
    "start_time": "2023-07-18T08:52:23.429Z"
   },
   {
    "duration": 125,
    "start_time": "2023-07-18T08:53:58.693Z"
   },
   {
    "duration": 1494,
    "start_time": "2023-07-18T08:59:07.341Z"
   },
   {
    "duration": 53,
    "start_time": "2023-07-18T08:59:08.837Z"
   },
   {
    "duration": 6,
    "start_time": "2023-07-18T08:59:08.892Z"
   },
   {
    "duration": 42,
    "start_time": "2023-07-18T08:59:08.900Z"
   },
   {
    "duration": 31,
    "start_time": "2023-07-18T08:59:08.943Z"
   },
   {
    "duration": 14,
    "start_time": "2023-07-18T08:59:08.976Z"
   },
   {
    "duration": 136,
    "start_time": "2023-07-18T08:59:08.991Z"
   },
   {
    "duration": 192,
    "start_time": "2023-07-18T08:59:09.129Z"
   },
   {
    "duration": 175,
    "start_time": "2023-07-18T08:59:09.323Z"
   },
   {
    "duration": 168,
    "start_time": "2023-07-18T08:59:09.500Z"
   },
   {
    "duration": 385,
    "start_time": "2023-07-18T08:59:09.670Z"
   },
   {
    "duration": 4,
    "start_time": "2023-07-18T08:59:10.057Z"
   },
   {
    "duration": 13,
    "start_time": "2023-07-18T08:59:10.063Z"
   },
   {
    "duration": 22,
    "start_time": "2023-07-18T08:59:10.078Z"
   },
   {
    "duration": 12,
    "start_time": "2023-07-18T08:59:10.102Z"
   },
   {
    "duration": 126,
    "start_time": "2023-07-18T08:59:10.115Z"
   },
   {
    "duration": 0,
    "start_time": "2023-07-18T08:59:10.243Z"
   },
   {
    "duration": 0,
    "start_time": "2023-07-18T08:59:10.244Z"
   },
   {
    "duration": 0,
    "start_time": "2023-07-18T08:59:10.246Z"
   },
   {
    "duration": 0,
    "start_time": "2023-07-18T08:59:10.247Z"
   },
   {
    "duration": 5,
    "start_time": "2023-07-18T09:00:07.592Z"
   },
   {
    "duration": 3,
    "start_time": "2023-07-18T09:00:09.998Z"
   },
   {
    "duration": 14,
    "start_time": "2023-07-18T09:00:10.531Z"
   },
   {
    "duration": 6,
    "start_time": "2023-07-18T09:00:12.811Z"
   },
   {
    "duration": 13,
    "start_time": "2023-07-18T09:00:13.324Z"
   },
   {
    "duration": 6,
    "start_time": "2023-07-18T09:00:49.223Z"
   },
   {
    "duration": 10,
    "start_time": "2023-07-18T09:00:51.560Z"
   },
   {
    "duration": 1572,
    "start_time": "2023-07-18T09:01:03.225Z"
   },
   {
    "duration": 51,
    "start_time": "2023-07-18T09:01:04.799Z"
   },
   {
    "duration": 6,
    "start_time": "2023-07-18T09:01:04.852Z"
   },
   {
    "duration": 41,
    "start_time": "2023-07-18T09:01:04.860Z"
   },
   {
    "duration": 43,
    "start_time": "2023-07-18T09:01:04.903Z"
   },
   {
    "duration": 16,
    "start_time": "2023-07-18T09:01:04.948Z"
   },
   {
    "duration": 139,
    "start_time": "2023-07-18T09:01:04.966Z"
   },
   {
    "duration": 185,
    "start_time": "2023-07-18T09:01:05.107Z"
   },
   {
    "duration": 182,
    "start_time": "2023-07-18T09:01:05.294Z"
   },
   {
    "duration": 155,
    "start_time": "2023-07-18T09:01:05.478Z"
   },
   {
    "duration": 331,
    "start_time": "2023-07-18T09:01:05.634Z"
   },
   {
    "duration": 4,
    "start_time": "2023-07-18T09:01:05.967Z"
   },
   {
    "duration": 81,
    "start_time": "2023-07-18T09:01:05.972Z"
   },
   {
    "duration": 66,
    "start_time": "2023-07-18T09:01:06.055Z"
   },
   {
    "duration": 57,
    "start_time": "2023-07-18T09:01:06.123Z"
   },
   {
    "duration": 103,
    "start_time": "2023-07-18T09:01:06.182Z"
   },
   {
    "duration": 360,
    "start_time": "2023-07-18T09:01:06.287Z"
   },
   {
    "duration": 297,
    "start_time": "2023-07-18T09:01:06.649Z"
   },
   {
    "duration": 58,
    "start_time": "2023-07-18T09:01:06.948Z"
   },
   {
    "duration": 42,
    "start_time": "2023-07-18T09:01:07.007Z"
   },
   {
    "duration": 1472,
    "start_time": "2023-07-18T09:04:31.918Z"
   },
   {
    "duration": 53,
    "start_time": "2023-07-18T09:04:33.392Z"
   },
   {
    "duration": 6,
    "start_time": "2023-07-18T09:04:33.447Z"
   },
   {
    "duration": 75,
    "start_time": "2023-07-18T09:04:33.455Z"
   },
   {
    "duration": 49,
    "start_time": "2023-07-18T09:04:33.532Z"
   },
   {
    "duration": 4,
    "start_time": "2023-07-18T09:04:33.582Z"
   },
   {
    "duration": 147,
    "start_time": "2023-07-18T09:04:33.588Z"
   },
   {
    "duration": 206,
    "start_time": "2023-07-18T09:04:33.738Z"
   },
   {
    "duration": 182,
    "start_time": "2023-07-18T09:04:33.946Z"
   },
   {
    "duration": 160,
    "start_time": "2023-07-18T09:04:34.131Z"
   },
   {
    "duration": 333,
    "start_time": "2023-07-18T09:04:34.293Z"
   },
   {
    "duration": 4,
    "start_time": "2023-07-18T09:04:34.628Z"
   },
   {
    "duration": 41,
    "start_time": "2023-07-18T09:04:34.634Z"
   },
   {
    "duration": 12,
    "start_time": "2023-07-18T09:04:34.677Z"
   },
   {
    "duration": 13,
    "start_time": "2023-07-18T09:04:34.690Z"
   },
   {
    "duration": 16,
    "start_time": "2023-07-18T09:04:34.704Z"
   },
   {
    "duration": 42,
    "start_time": "2023-07-18T09:04:34.722Z"
   },
   {
    "duration": 17,
    "start_time": "2023-07-18T09:04:34.766Z"
   },
   {
    "duration": 28,
    "start_time": "2023-07-18T09:04:34.785Z"
   },
   {
    "duration": 1983,
    "start_time": "2023-07-20T08:47:40.177Z"
   },
   {
    "duration": 120,
    "start_time": "2023-07-20T08:47:42.162Z"
   },
   {
    "duration": 7,
    "start_time": "2023-07-20T08:47:42.284Z"
   },
   {
    "duration": 15,
    "start_time": "2023-07-20T08:47:42.293Z"
   },
   {
    "duration": 41,
    "start_time": "2023-07-20T08:47:42.311Z"
   },
   {
    "duration": 4,
    "start_time": "2023-07-20T08:47:42.354Z"
   },
   {
    "duration": 132,
    "start_time": "2023-07-20T08:47:42.359Z"
   },
   {
    "duration": 195,
    "start_time": "2023-07-20T08:47:42.493Z"
   },
   {
    "duration": 181,
    "start_time": "2023-07-20T08:47:42.690Z"
   },
   {
    "duration": 182,
    "start_time": "2023-07-20T08:47:42.873Z"
   },
   {
    "duration": 354,
    "start_time": "2023-07-20T08:47:43.057Z"
   },
   {
    "duration": 6,
    "start_time": "2023-07-20T08:47:43.413Z"
   },
   {
    "duration": 19,
    "start_time": "2023-07-20T08:47:43.420Z"
   },
   {
    "duration": 18,
    "start_time": "2023-07-20T08:47:43.442Z"
   },
   {
    "duration": 30,
    "start_time": "2023-07-20T08:47:43.462Z"
   },
   {
    "duration": 13,
    "start_time": "2023-07-20T08:47:43.494Z"
   },
   {
    "duration": 21,
    "start_time": "2023-07-20T08:47:43.510Z"
   },
   {
    "duration": 30,
    "start_time": "2023-07-20T08:47:43.533Z"
   },
   {
    "duration": 23,
    "start_time": "2023-07-20T08:47:43.565Z"
   }
  ],
  "kernelspec": {
   "display_name": "Python 3 (ipykernel)",
   "language": "python",
   "name": "python3"
  },
  "language_info": {
   "codemirror_mode": {
    "name": "ipython",
    "version": 3
   },
   "file_extension": ".py",
   "mimetype": "text/x-python",
   "name": "python",
   "nbconvert_exporter": "python",
   "pygments_lexer": "ipython3",
   "version": "3.9.5"
  },
  "toc": {
   "base_numbering": 1,
   "nav_menu": {},
   "number_sections": true,
   "sideBar": true,
   "skip_h1_title": true,
   "title_cell": "Содержание",
   "title_sidebar": "Contents",
   "toc_cell": true,
   "toc_position": {},
   "toc_section_display": true,
   "toc_window_display": true
  }
 },
 "nbformat": 4,
 "nbformat_minor": 2
}
