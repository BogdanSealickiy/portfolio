{
 "cells": [
  {
   "cell_type": "markdown",
   "metadata": {
    "toc": true
   },
   "source": [
    "<h1>Содержание<span class=\"tocSkip\"></span></h1>\n",
    "<div class=\"toc\"><ul class=\"toc-item\"><li><span><a href=\"#Подготовка\" data-toc-modified-id=\"Подготовка-1\"><span class=\"toc-item-num\">1&nbsp;&nbsp;</span>Подготовка</a></span></li><li><span><a href=\"#Обучение\" data-toc-modified-id=\"Обучение-2\"><span class=\"toc-item-num\">2&nbsp;&nbsp;</span>Обучение</a></span></li><li><span><a href=\"#Выводы\" data-toc-modified-id=\"Выводы-3\"><span class=\"toc-item-num\">3&nbsp;&nbsp;</span>Выводы</a></span></li></ul></div>"
   ]
  },
  {
   "cell_type": "markdown",
   "metadata": {},
   "source": [
    "# Проект для «Викишоп»"
   ]
  },
  {
   "cell_type": "markdown",
   "metadata": {},
   "source": [
    "Интернет-магазин «Викишоп» запускает новый сервис. Теперь пользователи могут редактировать и дополнять описания товаров, как в вики-сообществах. То есть клиенты предлагают свои правки и комментируют изменения других. Магазину нужен инструмент, который будет искать токсичные комментарии и отправлять их на модерацию. \n",
    "\n",
    "Обучите модель классифицировать комментарии на позитивные и негативные. В вашем распоряжении набор данных с разметкой о токсичности правок.\n",
    "\n",
    "Постройте модель со значением метрики качества *F1* не меньше 0.75. \n",
    "\n",
    "**Описание данных**\n",
    "\n",
    "Данные находятся в файле `toxic_comments.csv`. Столбец *text* в нём содержит текст комментария, а *toxic* — целевой признак."
   ]
  },
  {
   "cell_type": "markdown",
   "metadata": {},
   "source": [
    "В данном проекте решается задача бинарной классификации"
   ]
  },
  {
   "cell_type": "markdown",
   "metadata": {},
   "source": [
    "## Подготовка"
   ]
  },
  {
   "cell_type": "markdown",
   "metadata": {},
   "source": [
    "испорт библиотек"
   ]
  },
  {
   "cell_type": "code",
   "execution_count": 1,
   "metadata": {},
   "outputs": [],
   "source": [
    "import numpy as np\n",
    "import pandas as pd\n",
    "import re\n",
    "from pymystem3 import Mystem\n",
    "from nltk.corpus import stopwords as nltk_stopwords\n",
    "import nltk\n",
    "from sklearn.model_selection import train_test_split\n",
    "from sklearn.feature_extraction.text import TfidfVectorizer\n",
    "from sklearn.preprocessing import StandardScaler\n",
    "from sklearn.linear_model import LogisticRegression\n",
    "from sklearn.model_selection import GridSearchCV\n",
    "from sklearn.metrics import f1_score\n",
    "from sklearn.ensemble import RandomForestClassifier\n",
    "from catboost import CatBoostRegressor\n",
    "from nltk.stem import WordNetLemmatizer\n",
    "from nltk.corpus import wordnet\n",
    "from tqdm.notebook import tqdm\n",
    "from sklearn.pipeline import Pipeline"
   ]
  },
  {
   "cell_type": "code",
   "execution_count": 2,
   "metadata": {},
   "outputs": [
    {
     "name": "stderr",
     "output_type": "stream",
     "text": [
      "[nltk_data] Downloading package stopwords to /home/jovyan/nltk_data...\n",
      "[nltk_data]   Package stopwords is already up-to-date!\n",
      "[nltk_data] Downloading package averaged_perceptron_tagger to\n",
      "[nltk_data]     /home/jovyan/nltk_data...\n",
      "[nltk_data]   Package averaged_perceptron_tagger is already up-to-\n",
      "[nltk_data]       date!\n",
      "[nltk_data] Downloading package wordnet to /home/jovyan/nltk_data...\n",
      "[nltk_data]   Package wordnet is already up-to-date!\n",
      "[nltk_data] Downloading package punkt to /home/jovyan/nltk_data...\n",
      "[nltk_data]   Package punkt is already up-to-date!\n"
     ]
    },
    {
     "data": {
      "text/plain": [
       "True"
      ]
     },
     "execution_count": 2,
     "metadata": {},
     "output_type": "execute_result"
    }
   ],
   "source": [
    "nltk.download('stopwords')\n",
    "nltk.download('averaged_perceptron_tagger')\n",
    "nltk.download('wordnet')\n",
    "nltk.download('punkt')"
   ]
  },
  {
   "cell_type": "markdown",
   "metadata": {},
   "source": [
    "Загрузим датасет и посмотрим, что в нем"
   ]
  },
  {
   "cell_type": "code",
   "execution_count": 3,
   "metadata": {},
   "outputs": [],
   "source": [
    "df = pd.read_csv('/datasets/toxic_comments.csv')"
   ]
  },
  {
   "cell_type": "code",
   "execution_count": 4,
   "metadata": {},
   "outputs": [
    {
     "data": {
      "text/html": [
       "<div>\n",
       "<style scoped>\n",
       "    .dataframe tbody tr th:only-of-type {\n",
       "        vertical-align: middle;\n",
       "    }\n",
       "\n",
       "    .dataframe tbody tr th {\n",
       "        vertical-align: top;\n",
       "    }\n",
       "\n",
       "    .dataframe thead th {\n",
       "        text-align: right;\n",
       "    }\n",
       "</style>\n",
       "<table border=\"1\" class=\"dataframe\">\n",
       "  <thead>\n",
       "    <tr style=\"text-align: right;\">\n",
       "      <th></th>\n",
       "      <th>Unnamed: 0</th>\n",
       "      <th>text</th>\n",
       "      <th>toxic</th>\n",
       "    </tr>\n",
       "  </thead>\n",
       "  <tbody>\n",
       "    <tr>\n",
       "      <th>0</th>\n",
       "      <td>0</td>\n",
       "      <td>Explanation\\nWhy the edits made under my usern...</td>\n",
       "      <td>0</td>\n",
       "    </tr>\n",
       "    <tr>\n",
       "      <th>1</th>\n",
       "      <td>1</td>\n",
       "      <td>D'aww! He matches this background colour I'm s...</td>\n",
       "      <td>0</td>\n",
       "    </tr>\n",
       "    <tr>\n",
       "      <th>2</th>\n",
       "      <td>2</td>\n",
       "      <td>Hey man, I'm really not trying to edit war. It...</td>\n",
       "      <td>0</td>\n",
       "    </tr>\n",
       "    <tr>\n",
       "      <th>3</th>\n",
       "      <td>3</td>\n",
       "      <td>\"\\nMore\\nI can't make any real suggestions on ...</td>\n",
       "      <td>0</td>\n",
       "    </tr>\n",
       "    <tr>\n",
       "      <th>4</th>\n",
       "      <td>4</td>\n",
       "      <td>You, sir, are my hero. Any chance you remember...</td>\n",
       "      <td>0</td>\n",
       "    </tr>\n",
       "  </tbody>\n",
       "</table>\n",
       "</div>"
      ],
      "text/plain": [
       "   Unnamed: 0                                               text  toxic\n",
       "0           0  Explanation\\nWhy the edits made under my usern...      0\n",
       "1           1  D'aww! He matches this background colour I'm s...      0\n",
       "2           2  Hey man, I'm really not trying to edit war. It...      0\n",
       "3           3  \"\\nMore\\nI can't make any real suggestions on ...      0\n",
       "4           4  You, sir, are my hero. Any chance you remember...      0"
      ]
     },
     "execution_count": 4,
     "metadata": {},
     "output_type": "execute_result"
    }
   ],
   "source": [
    "df.head()"
   ]
  },
  {
   "cell_type": "code",
   "execution_count": 5,
   "metadata": {},
   "outputs": [
    {
     "data": {
      "text/html": [
       "<div>\n",
       "<style scoped>\n",
       "    .dataframe tbody tr th:only-of-type {\n",
       "        vertical-align: middle;\n",
       "    }\n",
       "\n",
       "    .dataframe tbody tr th {\n",
       "        vertical-align: top;\n",
       "    }\n",
       "\n",
       "    .dataframe thead th {\n",
       "        text-align: right;\n",
       "    }\n",
       "</style>\n",
       "<table border=\"1\" class=\"dataframe\">\n",
       "  <thead>\n",
       "    <tr style=\"text-align: right;\">\n",
       "      <th></th>\n",
       "      <th>Unnamed: 0</th>\n",
       "      <th>text</th>\n",
       "      <th>toxic</th>\n",
       "    </tr>\n",
       "  </thead>\n",
       "  <tbody>\n",
       "    <tr>\n",
       "      <th>94611</th>\n",
       "      <td>94703</td>\n",
       "      <td>\"\\n\\n WP:NPA \\n\\nSarumio, making edit summarie...</td>\n",
       "      <td>0</td>\n",
       "    </tr>\n",
       "    <tr>\n",
       "      <th>120705</th>\n",
       "      <td>120810</td>\n",
       "      <td>.\\n\\nSecondly, it has nothing to do with the d...</td>\n",
       "      <td>0</td>\n",
       "    </tr>\n",
       "    <tr>\n",
       "      <th>141433</th>\n",
       "      <td>141586</td>\n",
       "      <td>\"\\n\\nMy civility\\nYou sir have not had said IF...</td>\n",
       "      <td>0</td>\n",
       "    </tr>\n",
       "    <tr>\n",
       "      <th>15472</th>\n",
       "      <td>15489</td>\n",
       "      <td>\"\\n\\n The phonology of Urdu appears to be diff...</td>\n",
       "      <td>0</td>\n",
       "    </tr>\n",
       "    <tr>\n",
       "      <th>93566</th>\n",
       "      <td>93658</td>\n",
       "      <td>Kinky FAC \\n\\nI'll be along asap. Sorry for de...</td>\n",
       "      <td>0</td>\n",
       "    </tr>\n",
       "  </tbody>\n",
       "</table>\n",
       "</div>"
      ],
      "text/plain": [
       "        Unnamed: 0                                               text  toxic\n",
       "94611        94703  \"\\n\\n WP:NPA \\n\\nSarumio, making edit summarie...      0\n",
       "120705      120810  .\\n\\nSecondly, it has nothing to do with the d...      0\n",
       "141433      141586  \"\\n\\nMy civility\\nYou sir have not had said IF...      0\n",
       "15472        15489  \"\\n\\n The phonology of Urdu appears to be diff...      0\n",
       "93566        93658  Kinky FAC \\n\\nI'll be along asap. Sorry for de...      0"
      ]
     },
     "execution_count": 5,
     "metadata": {},
     "output_type": "execute_result"
    }
   ],
   "source": [
    "df.sample(5)"
   ]
  },
  {
   "cell_type": "code",
   "execution_count": 6,
   "metadata": {
    "scrolled": true
   },
   "outputs": [
    {
     "data": {
      "text/html": [
       "<div>\n",
       "<style scoped>\n",
       "    .dataframe tbody tr th:only-of-type {\n",
       "        vertical-align: middle;\n",
       "    }\n",
       "\n",
       "    .dataframe tbody tr th {\n",
       "        vertical-align: top;\n",
       "    }\n",
       "\n",
       "    .dataframe thead th {\n",
       "        text-align: right;\n",
       "    }\n",
       "</style>\n",
       "<table border=\"1\" class=\"dataframe\">\n",
       "  <thead>\n",
       "    <tr style=\"text-align: right;\">\n",
       "      <th></th>\n",
       "      <th>Unnamed: 0</th>\n",
       "      <th>text</th>\n",
       "      <th>toxic</th>\n",
       "    </tr>\n",
       "  </thead>\n",
       "  <tbody>\n",
       "    <tr>\n",
       "      <th>159287</th>\n",
       "      <td>159446</td>\n",
       "      <td>\":::::And for the second time of asking, when ...</td>\n",
       "      <td>0</td>\n",
       "    </tr>\n",
       "    <tr>\n",
       "      <th>159288</th>\n",
       "      <td>159447</td>\n",
       "      <td>You should be ashamed of yourself \\n\\nThat is ...</td>\n",
       "      <td>0</td>\n",
       "    </tr>\n",
       "    <tr>\n",
       "      <th>159289</th>\n",
       "      <td>159448</td>\n",
       "      <td>Spitzer \\n\\nUmm, theres no actual article for ...</td>\n",
       "      <td>0</td>\n",
       "    </tr>\n",
       "    <tr>\n",
       "      <th>159290</th>\n",
       "      <td>159449</td>\n",
       "      <td>And it looks like it was actually you who put ...</td>\n",
       "      <td>0</td>\n",
       "    </tr>\n",
       "    <tr>\n",
       "      <th>159291</th>\n",
       "      <td>159450</td>\n",
       "      <td>\"\\nAnd ... I really don't think you understand...</td>\n",
       "      <td>0</td>\n",
       "    </tr>\n",
       "  </tbody>\n",
       "</table>\n",
       "</div>"
      ],
      "text/plain": [
       "        Unnamed: 0                                               text  toxic\n",
       "159287      159446  \":::::And for the second time of asking, when ...      0\n",
       "159288      159447  You should be ashamed of yourself \\n\\nThat is ...      0\n",
       "159289      159448  Spitzer \\n\\nUmm, theres no actual article for ...      0\n",
       "159290      159449  And it looks like it was actually you who put ...      0\n",
       "159291      159450  \"\\nAnd ... I really don't think you understand...      0"
      ]
     },
     "execution_count": 6,
     "metadata": {},
     "output_type": "execute_result"
    }
   ],
   "source": [
    "df.tail()"
   ]
  },
  {
   "cell_type": "code",
   "execution_count": 7,
   "metadata": {},
   "outputs": [
    {
     "name": "stdout",
     "output_type": "stream",
     "text": [
      "<class 'pandas.core.frame.DataFrame'>\n",
      "RangeIndex: 159292 entries, 0 to 159291\n",
      "Data columns (total 3 columns):\n",
      " #   Column      Non-Null Count   Dtype \n",
      "---  ------      --------------   ----- \n",
      " 0   Unnamed: 0  159292 non-null  int64 \n",
      " 1   text        159292 non-null  object\n",
      " 2   toxic       159292 non-null  int64 \n",
      "dtypes: int64(2), object(1)\n",
      "memory usage: 3.6+ MB\n"
     ]
    }
   ],
   "source": [
    "df.info()"
   ]
  },
  {
   "cell_type": "markdown",
   "metadata": {},
   "source": [
    "Посмотрим на баланс классов"
   ]
  },
  {
   "cell_type": "code",
   "execution_count": 8,
   "metadata": {
    "scrolled": true
   },
   "outputs": [
    {
     "data": {
      "text/plain": [
       "16186"
      ]
     },
     "execution_count": 8,
     "metadata": {},
     "output_type": "execute_result"
    }
   ],
   "source": [
    "len(df[df['toxic'] == 1])"
   ]
  },
  {
   "cell_type": "code",
   "execution_count": 9,
   "metadata": {
    "scrolled": false
   },
   "outputs": [
    {
     "data": {
      "text/plain": [
       "143106"
      ]
     },
     "execution_count": 9,
     "metadata": {},
     "output_type": "execute_result"
    }
   ],
   "source": [
    "len(df[df['toxic'] == 0])"
   ]
  },
  {
   "cell_type": "markdown",
   "metadata": {},
   "source": [
    "Сильный дисбаланс, при обучении нужно это учитывать"
   ]
  },
  {
   "cell_type": "code",
   "execution_count": 10,
   "metadata": {},
   "outputs": [],
   "source": [
    "df.drop('Unnamed: 0', axis=1, inplace=True)"
   ]
  },
  {
   "cell_type": "markdown",
   "metadata": {},
   "source": [
    "Избавился от лишнего столбца"
   ]
  },
  {
   "cell_type": "markdown",
   "metadata": {},
   "source": [
    "Расчитстим текст"
   ]
  },
  {
   "cell_type": "code",
   "execution_count": 11,
   "metadata": {},
   "outputs": [],
   "source": [
    "def clear_text(text):\n",
    "    \n",
    "    f = re.sub(r\"[^a-zA-Z']\", ' ', text)\n",
    "    f = f.split()\n",
    "    lemm_text = \" \".join(f)\n",
    "        \n",
    "    return lemm_text"
   ]
  },
  {
   "cell_type": "code",
   "execution_count": 12,
   "metadata": {},
   "outputs": [],
   "source": [
    "df['text'] = df['text'].apply(clear_text)"
   ]
  },
  {
   "cell_type": "markdown",
   "metadata": {},
   "source": [
    "И проведем лемматизацию"
   ]
  },
  {
   "cell_type": "code",
   "execution_count": 13,
   "metadata": {
    "scrolled": false
   },
   "outputs": [
    {
     "data": {
      "application/vnd.jupyter.widget-view+json": {
       "model_id": "4f5c618bf6814b8487bc5d51e061c04b",
       "version_major": 2,
       "version_minor": 0
      },
      "text/plain": [
       "  0%|          | 0/159292 [00:00<?, ?it/s]"
      ]
     },
     "metadata": {},
     "output_type": "display_data"
    }
   ],
   "source": [
    "\n",
    "def lemmatize_with_wordnet(text):\n",
    "    lemmatizer = WordNetLemmatizer()\n",
    "    tokens = nltk.word_tokenize(text)\n",
    "    lemmatized_tokens = [lemmatizer.lemmatize(token, get_wordnet_pos(tag)) for token, tag in nltk.pos_tag(tokens)]\n",
    "    lemm_text = \" \".join(lemmatized_tokens)\n",
    "    return lemm_text\n",
    "\n",
    "def get_wordnet_pos(treebank_tag):\n",
    "    if treebank_tag.startswith('J'):\n",
    "        return wordnet.ADJ\n",
    "    elif treebank_tag.startswith('V'):\n",
    "        return wordnet.VERB\n",
    "    elif treebank_tag.startswith('N'):\n",
    "        return wordnet.NOUN\n",
    "    elif treebank_tag.startswith('R'):\n",
    "        return wordnet.ADV\n",
    "    else:\n",
    "        return wordnet.NOUN\n",
    "\n",
    "\n",
    "\n",
    "tqdm.pandas()  \n",
    "df['lemm_text'] = df['text'].progress_apply(lemmatize_with_wordnet)\n",
    "\n",
    "\n",
    "\n",
    "\n",
    "\n"
   ]
  },
  {
   "cell_type": "code",
   "execution_count": 14,
   "metadata": {},
   "outputs": [
    {
     "data": {
      "text/html": [
       "<div>\n",
       "<style scoped>\n",
       "    .dataframe tbody tr th:only-of-type {\n",
       "        vertical-align: middle;\n",
       "    }\n",
       "\n",
       "    .dataframe tbody tr th {\n",
       "        vertical-align: top;\n",
       "    }\n",
       "\n",
       "    .dataframe thead th {\n",
       "        text-align: right;\n",
       "    }\n",
       "</style>\n",
       "<table border=\"1\" class=\"dataframe\">\n",
       "  <thead>\n",
       "    <tr style=\"text-align: right;\">\n",
       "      <th></th>\n",
       "      <th>text</th>\n",
       "      <th>toxic</th>\n",
       "      <th>lemm_text</th>\n",
       "    </tr>\n",
       "  </thead>\n",
       "  <tbody>\n",
       "    <tr>\n",
       "      <th>0</th>\n",
       "      <td>Explanation Why the edits made under my userna...</td>\n",
       "      <td>0</td>\n",
       "      <td>Explanation Why the edits make under my userna...</td>\n",
       "    </tr>\n",
       "    <tr>\n",
       "      <th>1</th>\n",
       "      <td>D'aww He matches this background colour I'm se...</td>\n",
       "      <td>0</td>\n",
       "      <td>D'aww He match this background colour I 'm see...</td>\n",
       "    </tr>\n",
       "    <tr>\n",
       "      <th>2</th>\n",
       "      <td>Hey man I'm really not trying to edit war It's...</td>\n",
       "      <td>0</td>\n",
       "      <td>Hey man I 'm really not try to edit war It 's ...</td>\n",
       "    </tr>\n",
       "    <tr>\n",
       "      <th>3</th>\n",
       "      <td>More I can't make any real suggestions on impr...</td>\n",
       "      <td>0</td>\n",
       "      <td>More I ca n't make any real suggestion on impr...</td>\n",
       "    </tr>\n",
       "    <tr>\n",
       "      <th>4</th>\n",
       "      <td>You sir are my hero Any chance you remember wh...</td>\n",
       "      <td>0</td>\n",
       "      <td>You sir be my hero Any chance you remember wha...</td>\n",
       "    </tr>\n",
       "  </tbody>\n",
       "</table>\n",
       "</div>"
      ],
      "text/plain": [
       "                                                text  toxic  \\\n",
       "0  Explanation Why the edits made under my userna...      0   \n",
       "1  D'aww He matches this background colour I'm se...      0   \n",
       "2  Hey man I'm really not trying to edit war It's...      0   \n",
       "3  More I can't make any real suggestions on impr...      0   \n",
       "4  You sir are my hero Any chance you remember wh...      0   \n",
       "\n",
       "                                           lemm_text  \n",
       "0  Explanation Why the edits make under my userna...  \n",
       "1  D'aww He match this background colour I 'm see...  \n",
       "2  Hey man I 'm really not try to edit war It 's ...  \n",
       "3  More I ca n't make any real suggestion on impr...  \n",
       "4  You sir be my hero Any chance you remember wha...  "
      ]
     },
     "execution_count": 14,
     "metadata": {},
     "output_type": "execute_result"
    }
   ],
   "source": [
    "df.head()"
   ]
  },
  {
   "cell_type": "code",
   "execution_count": 15,
   "metadata": {},
   "outputs": [],
   "source": [
    "stopwords = set(nltk_stopwords.words('english'))"
   ]
  },
  {
   "cell_type": "markdown",
   "metadata": {},
   "source": [
    "**Итог**\n",
    "\n",
    "Привели текстовые данные в порядок. Так же был обнаружен дисбаланс классов, при обучении моделей мы передадим им аргумент соответсвующий исправлению этой ситуации"
   ]
  },
  {
   "cell_type": "markdown",
   "metadata": {},
   "source": [
    "## Обучение"
   ]
  },
  {
   "cell_type": "markdown",
   "metadata": {},
   "source": [
    "Создадим признкаки и выделим целевой признак для обучения"
   ]
  },
  {
   "cell_type": "code",
   "execution_count": 16,
   "metadata": {},
   "outputs": [
    {
     "data": {
      "text/plain": [
       "(119469, 39823)"
      ]
     },
     "execution_count": 16,
     "metadata": {},
     "output_type": "execute_result"
    }
   ],
   "source": [
    "features = df['text']\n",
    "target=df['toxic'].values\n",
    "\n",
    "X_train, X_test, y_train, y_test = train_test_split(features, target, test_size = .25, random_state = 12345)\n",
    "\n",
    "\n",
    "X_train.shape[0], X_test.shape[0]"
   ]
  },
  {
   "cell_type": "markdown",
   "metadata": {},
   "source": [
    "**TF-IDF**"
   ]
  },
  {
   "cell_type": "code",
   "execution_count": 17,
   "metadata": {},
   "outputs": [],
   "source": [
    "count_tf_idf = TfidfVectorizer(stop_words=stopwords)\n",
    "tfidf_train = count_tf_idf.fit_transform(X_train)\n",
    "tfidf_test = count_tf_idf.transform(X_test)"
   ]
  },
  {
   "cell_type": "markdown",
   "metadata": {},
   "source": [
    "После преобразования текста в векторный вид, можно начать обучения.\n",
    "\n",
    "Начнем с Логистической регрессии"
   ]
  },
  {
   "cell_type": "code",
   "execution_count": 19,
   "metadata": {},
   "outputs": [
    {
     "name": "stdout",
     "output_type": "stream",
     "text": [
      "Fitting 3 folds for each of 8 candidates, totalling 24 fits\n",
      "Best parameters: {'model__C': 10, 'model__penalty': 'l1', 'tfidf__max_df': 0.75}\n",
      "Best score: 0.7758452496739876\n"
     ]
    }
   ],
   "source": [
    "pipeline = Pipeline([\n",
    "    ('tfidf', TfidfVectorizer()),  # Этап векторизации\n",
    "    ('model', LogisticRegression(random_state=1, solver='liblinear', max_iter=200))  # Модель\n",
    "])\n",
    "\n",
    "# Задание сетки параметров\n",
    "param_grid = {\n",
    "    'tfidf__max_df': [0.75, 1.0],\n",
    "    'model__C': [1, 10],\n",
    "    'model__penalty': ['l1', 'l2']\n",
    "}\n",
    "\n",
    "# Создание объекта GridSearchCV с пайплайном и параметрами\n",
    "grid_search = GridSearchCV(pipeline, param_grid, scoring='f1', cv=3, verbose=True, n_jobs=-1)\n",
    "\n",
    "# Применение GridSearchCV\n",
    "grid_search.fit(X_train, y_train)\n",
    "\n",
    "# Вывод результатов\n",
    "print(\"Best parameters:\", grid_search.best_params_)\n",
    "print(\"Best score:\", grid_search.best_score_)"
   ]
  },
  {
   "cell_type": "markdown",
   "metadata": {},
   "source": [
    "Отличный резултат, удолетворяющий требования(метрика f1 не менее 0.75)"
   ]
  },
  {
   "cell_type": "markdown",
   "metadata": {},
   "source": [
    "Посмотрим, как справляется случайный лес"
   ]
  },
  {
   "cell_type": "code",
   "execution_count": 26,
   "metadata": {},
   "outputs": [
    {
     "name": "stdout",
     "output_type": "stream",
     "text": [
      "Fitting 3 folds for each of 18 candidates, totalling 54 fits\n",
      "Best parameters: {'model__max_depth': 20, 'model__n_estimators': 100, 'tfidf__max_df': 0.75}\n",
      "Best score: 0.3713053894839537\n"
     ]
    }
   ],
   "source": [
    "# Создание пайплайна с векторизацией и моделью\n",
    "pipeline = Pipeline([\n",
    "    ('tfidf', TfidfVectorizer()),  # Этап векторизации\n",
    "    ('model', RandomForestClassifier(random_state=12345, class_weight='balanced'))  # Модель\n",
    "])\n",
    "\n",
    "# Задание сетки параметров для RandomForestClassifier\n",
    "param_grid_rf = {\n",
    "    'tfidf__max_df': [0.75, 1.0],\n",
    "    'model__n_estimators': [10, 30, 100],\n",
    "    'model__max_depth': [1, 10, 20],\n",
    "}\n",
    "\n",
    "# Создание объекта GridSearchCV с пайплайном и параметрами\n",
    "grid_search_rf = GridSearchCV(pipeline, param_grid_rf, scoring='f1', cv=3, verbose=True, n_jobs=-1)\n",
    "\n",
    "# Применение GridSearchCV\n",
    "grid_search_rf.fit(X_train, y_train)\n",
    "\n",
    "# Вывод результатов\n",
    "print(\"Best parameters:\", grid_search_rf.best_params_)\n",
    "print(\"Best score:\", grid_search_rf.best_score_)"
   ]
  },
  {
   "cell_type": "markdown",
   "metadata": {},
   "source": [
    "Результат дерева нас не устравивает "
   ]
  },
  {
   "cell_type": "code",
   "execution_count": 22,
   "metadata": {},
   "outputs": [
    {
     "name": "stdout",
     "output_type": "stream",
     "text": [
      "F1 Score on test set: 0.7875647668393783\n"
     ]
    }
   ],
   "source": [
    "\n",
    "y_pred = grid_search.predict(X_test)\n",
    "\n",
    "\n",
    "f1 = f1_score(y_test, y_pred)\n",
    "print(\"F1 Score on test set:\", f1)"
   ]
  },
  {
   "cell_type": "markdown",
   "metadata": {},
   "source": [
    "## Выводы"
   ]
  },
  {
   "cell_type": "markdown",
   "metadata": {},
   "source": [
    "В ходе обчения моделей было выявлено, что логистическая регрессия отлично справилась с условием проекта и выполняет неплохой классификацию текстов по наличию токсичности в комментарии"
   ]
  }
 ],
 "metadata": {
  "ExecuteTimeLog": [
   {
    "duration": 42,
    "start_time": "2023-08-20T12:30:22.545Z"
   },
   {
    "duration": 135,
    "start_time": "2023-08-20T12:30:25.059Z"
   },
   {
    "duration": 0,
    "start_time": "2023-08-20T12:30:25.195Z"
   },
   {
    "duration": 5,
    "start_time": "2023-08-20T12:30:26.271Z"
   },
   {
    "duration": 416,
    "start_time": "2023-08-20T12:30:30.942Z"
   },
   {
    "duration": 2381,
    "start_time": "2023-08-20T12:30:31.359Z"
   },
   {
    "duration": 17,
    "start_time": "2023-08-20T12:30:33.741Z"
   },
   {
    "duration": 7,
    "start_time": "2023-08-20T12:31:00.310Z"
   },
   {
    "duration": 10,
    "start_time": "2023-08-20T12:31:06.611Z"
   },
   {
    "duration": 7,
    "start_time": "2023-08-20T12:31:21.504Z"
   },
   {
    "duration": 8,
    "start_time": "2023-08-20T12:31:29.907Z"
   },
   {
    "duration": 12,
    "start_time": "2023-08-20T12:31:31.251Z"
   },
   {
    "duration": 13,
    "start_time": "2023-08-20T12:31:34.374Z"
   },
   {
    "duration": 14,
    "start_time": "2023-08-20T12:31:36.543Z"
   },
   {
    "duration": 748,
    "start_time": "2023-08-20T12:32:01.418Z"
   },
   {
    "duration": 81,
    "start_time": "2023-08-20T12:32:19.462Z"
   },
   {
    "duration": 1306,
    "start_time": "2023-08-20T12:33:00.359Z"
   },
   {
    "duration": 1162,
    "start_time": "2023-08-20T12:33:26.441Z"
   },
   {
    "duration": 1038,
    "start_time": "2023-08-20T12:33:38.830Z"
   },
   {
    "duration": 39,
    "start_time": "2023-08-20T12:33:46.511Z"
   },
   {
    "duration": 14,
    "start_time": "2023-08-20T12:33:54.496Z"
   },
   {
    "duration": 15,
    "start_time": "2023-08-20T12:44:04.880Z"
   },
   {
    "duration": 10,
    "start_time": "2023-08-20T12:44:07.718Z"
   },
   {
    "duration": 8,
    "start_time": "2023-08-22T07:16:42.100Z"
   },
   {
    "duration": 418,
    "start_time": "2023-08-22T07:16:46.063Z"
   },
   {
    "duration": 2424,
    "start_time": "2023-08-22T07:16:46.483Z"
   },
   {
    "duration": 13,
    "start_time": "2023-08-22T07:16:48.909Z"
   },
   {
    "duration": 11,
    "start_time": "2023-08-22T07:16:50.665Z"
   },
   {
    "duration": 7,
    "start_time": "2023-08-22T07:16:50.804Z"
   },
   {
    "duration": 14,
    "start_time": "2023-08-22T07:16:50.912Z"
   },
   {
    "duration": 11,
    "start_time": "2023-08-22T07:16:55.330Z"
   },
   {
    "duration": 3,
    "start_time": "2023-08-22T07:16:56.623Z"
   },
   {
    "duration": 329,
    "start_time": "2023-08-22T07:17:22.716Z"
   },
   {
    "duration": 2,
    "start_time": "2023-08-22T07:17:35.135Z"
   },
   {
    "duration": 2380,
    "start_time": "2023-08-22T07:17:38.806Z"
   },
   {
    "duration": 2157,
    "start_time": "2023-08-22T07:19:11.964Z"
   },
   {
    "duration": 58,
    "start_time": "2023-08-22T07:19:28.370Z"
   },
   {
    "duration": 360,
    "start_time": "2023-08-22T07:19:31.706Z"
   },
   {
    "duration": 2437,
    "start_time": "2023-08-22T07:19:32.208Z"
   },
   {
    "duration": 22,
    "start_time": "2023-08-22T07:19:34.647Z"
   },
   {
    "duration": 11,
    "start_time": "2023-08-22T07:19:34.670Z"
   },
   {
    "duration": 7,
    "start_time": "2023-08-22T07:19:34.683Z"
   },
   {
    "duration": 15,
    "start_time": "2023-08-22T07:19:34.691Z"
   },
   {
    "duration": 11,
    "start_time": "2023-08-22T07:19:34.708Z"
   },
   {
    "duration": 5,
    "start_time": "2023-08-22T07:19:34.720Z"
   },
   {
    "duration": 2086,
    "start_time": "2023-08-22T07:19:34.727Z"
   },
   {
    "duration": 2018,
    "start_time": "2023-08-22T07:19:36.815Z"
   },
   {
    "duration": 5,
    "start_time": "2023-08-22T07:19:50.440Z"
   },
   {
    "duration": 429,
    "start_time": "2023-08-22T07:20:08.180Z"
   },
   {
    "duration": 2463,
    "start_time": "2023-08-22T07:20:09.130Z"
   },
   {
    "duration": 14,
    "start_time": "2023-08-22T07:20:11.595Z"
   },
   {
    "duration": 10,
    "start_time": "2023-08-22T07:20:11.611Z"
   },
   {
    "duration": 8,
    "start_time": "2023-08-22T07:20:11.623Z"
   },
   {
    "duration": 29,
    "start_time": "2023-08-22T07:20:11.633Z"
   },
   {
    "duration": 11,
    "start_time": "2023-08-22T07:20:11.665Z"
   },
   {
    "duration": 5,
    "start_time": "2023-08-22T07:20:11.678Z"
   },
   {
    "duration": 2103,
    "start_time": "2023-08-22T07:20:11.685Z"
   },
   {
    "duration": 2873,
    "start_time": "2023-08-22T07:20:13.790Z"
   },
   {
    "duration": 415,
    "start_time": "2023-08-22T07:21:33.942Z"
   },
   {
    "duration": 2606,
    "start_time": "2023-08-22T07:21:35.114Z"
   },
   {
    "duration": 13,
    "start_time": "2023-08-22T07:21:37.722Z"
   },
   {
    "duration": 10,
    "start_time": "2023-08-22T07:21:37.737Z"
   },
   {
    "duration": 19,
    "start_time": "2023-08-22T07:21:37.749Z"
   },
   {
    "duration": 18,
    "start_time": "2023-08-22T07:21:37.769Z"
   },
   {
    "duration": 10,
    "start_time": "2023-08-22T07:21:37.789Z"
   },
   {
    "duration": 13,
    "start_time": "2023-08-22T07:21:37.801Z"
   },
   {
    "duration": 2147,
    "start_time": "2023-08-22T07:21:37.816Z"
   },
   {
    "duration": 2928,
    "start_time": "2023-08-22T07:21:39.965Z"
   },
   {
    "duration": 991,
    "start_time": "2023-08-22T07:23:11.592Z"
   },
   {
    "duration": 125,
    "start_time": "2023-08-22T07:23:22.713Z"
   },
   {
    "duration": 3,
    "start_time": "2023-08-22T07:23:25.331Z"
   },
   {
    "duration": 9,
    "start_time": "2023-08-22T07:23:25.941Z"
   },
   {
    "duration": 3,
    "start_time": "2023-08-22T07:23:38.801Z"
   },
   {
    "duration": 210,
    "start_time": "2023-08-22T07:23:39.368Z"
   },
   {
    "duration": 5,
    "start_time": "2023-08-22T07:23:45.123Z"
   },
   {
    "duration": 10,
    "start_time": "2023-08-22T07:26:20.973Z"
   },
   {
    "duration": 3,
    "start_time": "2023-08-22T07:26:40.471Z"
   },
   {
    "duration": 66,
    "start_time": "2023-08-22T07:26:44.581Z"
   },
   {
    "duration": 10,
    "start_time": "2023-08-22T07:29:22.613Z"
   },
   {
    "duration": 3,
    "start_time": "2023-08-22T07:29:32.870Z"
   },
   {
    "duration": 11,
    "start_time": "2023-08-22T07:29:36.093Z"
   },
   {
    "duration": 7326,
    "start_time": "2023-08-22T07:29:48.643Z"
   },
   {
    "duration": 164,
    "start_time": "2023-08-22T07:30:44.529Z"
   },
   {
    "duration": 4,
    "start_time": "2023-08-22T07:31:04.183Z"
   },
   {
    "duration": 168909,
    "start_time": "2023-08-22T07:31:04.762Z"
   },
   {
    "duration": 1309,
    "start_time": "2023-08-22T07:38:35.687Z"
   },
   {
    "duration": 126,
    "start_time": "2023-08-22T07:38:36.997Z"
   },
   {
    "duration": 869,
    "start_time": "2023-08-22T07:38:37.125Z"
   },
   {
    "duration": 11,
    "start_time": "2023-08-22T07:38:37.995Z"
   },
   {
    "duration": 16,
    "start_time": "2023-08-22T07:38:38.008Z"
   },
   {
    "duration": 8,
    "start_time": "2023-08-22T07:38:38.025Z"
   },
   {
    "duration": 19,
    "start_time": "2023-08-22T07:38:38.055Z"
   },
   {
    "duration": 10,
    "start_time": "2023-08-22T07:38:38.076Z"
   },
   {
    "duration": 6,
    "start_time": "2023-08-22T07:38:38.087Z"
   },
   {
    "duration": 2198,
    "start_time": "2023-08-22T07:38:38.094Z"
   },
   {
    "duration": 1463,
    "start_time": "2023-08-22T08:06:47.050Z"
   },
   {
    "duration": 218,
    "start_time": "2023-08-22T08:06:48.516Z"
   },
   {
    "duration": 859,
    "start_time": "2023-08-22T08:06:48.736Z"
   },
   {
    "duration": 10,
    "start_time": "2023-08-22T08:06:49.597Z"
   },
   {
    "duration": 11,
    "start_time": "2023-08-22T08:06:49.610Z"
   },
   {
    "duration": 8,
    "start_time": "2023-08-22T08:06:49.622Z"
   },
   {
    "duration": 21,
    "start_time": "2023-08-22T08:06:49.656Z"
   },
   {
    "duration": 17,
    "start_time": "2023-08-22T08:06:49.678Z"
   },
   {
    "duration": 4,
    "start_time": "2023-08-22T08:06:49.697Z"
   },
   {
    "duration": 2212,
    "start_time": "2023-08-22T08:06:49.703Z"
   },
   {
    "duration": 124,
    "start_time": "2023-08-22T08:06:51.917Z"
   },
   {
    "duration": 0,
    "start_time": "2023-08-22T08:06:52.042Z"
   },
   {
    "duration": 1,
    "start_time": "2023-08-22T08:06:52.043Z"
   },
   {
    "duration": 0,
    "start_time": "2023-08-22T08:06:52.044Z"
   },
   {
    "duration": 1,
    "start_time": "2023-08-22T08:06:52.045Z"
   },
   {
    "duration": 0,
    "start_time": "2023-08-22T08:06:52.052Z"
   },
   {
    "duration": 1379,
    "start_time": "2023-08-22T08:08:10.026Z"
   },
   {
    "duration": 210,
    "start_time": "2023-08-22T08:08:11.407Z"
   },
   {
    "duration": 858,
    "start_time": "2023-08-22T08:08:11.620Z"
   },
   {
    "duration": 9,
    "start_time": "2023-08-22T08:08:12.480Z"
   },
   {
    "duration": 11,
    "start_time": "2023-08-22T08:08:12.492Z"
   },
   {
    "duration": 7,
    "start_time": "2023-08-22T08:08:12.505Z"
   },
   {
    "duration": 23,
    "start_time": "2023-08-22T08:08:12.513Z"
   },
   {
    "duration": 30,
    "start_time": "2023-08-22T08:08:12.537Z"
   },
   {
    "duration": 7,
    "start_time": "2023-08-22T08:08:12.573Z"
   },
   {
    "duration": 2117,
    "start_time": "2023-08-22T08:08:12.581Z"
   },
   {
    "duration": 70163,
    "start_time": "2023-08-22T08:08:14.700Z"
   },
   {
    "duration": 4,
    "start_time": "2023-08-22T08:09:24.871Z"
   },
   {
    "duration": 48,
    "start_time": "2023-08-22T08:09:24.877Z"
   },
   {
    "duration": 7869,
    "start_time": "2023-08-22T08:09:24.928Z"
   },
   {
    "duration": 5,
    "start_time": "2023-08-22T08:09:32.799Z"
   },
   {
    "duration": 178376,
    "start_time": "2023-08-22T08:09:32.806Z"
   },
   {
    "duration": 18,
    "start_time": "2023-08-22T08:18:38.877Z"
   },
   {
    "duration": 1324,
    "start_time": "2023-08-22T08:28:09.492Z"
   },
   {
    "duration": 213,
    "start_time": "2023-08-22T08:28:10.818Z"
   },
   {
    "duration": 914,
    "start_time": "2023-08-22T08:28:11.033Z"
   },
   {
    "duration": 16,
    "start_time": "2023-08-22T08:28:11.949Z"
   },
   {
    "duration": 12,
    "start_time": "2023-08-22T08:28:11.967Z"
   },
   {
    "duration": 18,
    "start_time": "2023-08-22T08:28:11.981Z"
   },
   {
    "duration": 21,
    "start_time": "2023-08-22T08:28:12.000Z"
   },
   {
    "duration": 19,
    "start_time": "2023-08-22T08:28:12.023Z"
   },
   {
    "duration": 26,
    "start_time": "2023-08-22T08:28:12.044Z"
   },
   {
    "duration": 4,
    "start_time": "2023-08-22T08:28:12.076Z"
   },
   {
    "duration": 2252,
    "start_time": "2023-08-22T08:28:12.082Z"
   },
   {
    "duration": 68986,
    "start_time": "2023-08-22T08:28:14.335Z"
   },
   {
    "duration": 4,
    "start_time": "2023-08-22T08:29:23.323Z"
   },
   {
    "duration": 45,
    "start_time": "2023-08-22T08:29:23.329Z"
   },
   {
    "duration": 7707,
    "start_time": "2023-08-22T08:29:23.376Z"
   },
   {
    "duration": 120,
    "start_time": "2023-08-22T08:29:31.084Z"
   },
   {
    "duration": 6,
    "start_time": "2023-08-22T08:31:43.665Z"
   },
   {
    "duration": 14,
    "start_time": "2023-08-22T08:31:48.104Z"
   },
   {
    "duration": 1313,
    "start_time": "2023-08-22T08:41:08.764Z"
   },
   {
    "duration": 207,
    "start_time": "2023-08-22T08:41:10.079Z"
   },
   {
    "duration": 881,
    "start_time": "2023-08-22T08:41:10.287Z"
   },
   {
    "duration": 8,
    "start_time": "2023-08-22T08:41:11.170Z"
   },
   {
    "duration": 11,
    "start_time": "2023-08-22T08:41:11.180Z"
   },
   {
    "duration": 7,
    "start_time": "2023-08-22T08:41:11.192Z"
   },
   {
    "duration": 15,
    "start_time": "2023-08-22T08:41:11.201Z"
   },
   {
    "duration": 49,
    "start_time": "2023-08-22T08:41:11.218Z"
   },
   {
    "duration": 12,
    "start_time": "2023-08-22T08:41:11.268Z"
   },
   {
    "duration": 4,
    "start_time": "2023-08-22T08:41:11.282Z"
   },
   {
    "duration": 2085,
    "start_time": "2023-08-22T08:41:11.288Z"
   },
   {
    "duration": 66825,
    "start_time": "2023-08-22T08:41:13.375Z"
   },
   {
    "duration": 5,
    "start_time": "2023-08-22T08:42:20.202Z"
   },
   {
    "duration": 56,
    "start_time": "2023-08-22T08:42:20.209Z"
   },
   {
    "duration": 7560,
    "start_time": "2023-08-22T08:42:20.266Z"
   },
   {
    "duration": 267761,
    "start_time": "2023-08-22T08:42:27.828Z"
   },
   {
    "duration": 34,
    "start_time": "2023-08-22T08:55:23.228Z"
   },
   {
    "duration": 132,
    "start_time": "2023-08-22T08:58:05.046Z"
   },
   {
    "duration": 1253,
    "start_time": "2023-08-22T09:10:50.708Z"
   },
   {
    "duration": 242,
    "start_time": "2023-08-22T09:10:51.963Z"
   },
   {
    "duration": 883,
    "start_time": "2023-08-22T09:10:52.207Z"
   },
   {
    "duration": 9,
    "start_time": "2023-08-22T09:10:53.092Z"
   },
   {
    "duration": 11,
    "start_time": "2023-08-22T09:10:53.102Z"
   },
   {
    "duration": 12,
    "start_time": "2023-08-22T09:10:53.114Z"
   },
   {
    "duration": 37,
    "start_time": "2023-08-22T09:10:53.127Z"
   },
   {
    "duration": 20,
    "start_time": "2023-08-22T09:10:53.166Z"
   },
   {
    "duration": 11,
    "start_time": "2023-08-22T09:10:53.187Z"
   },
   {
    "duration": 4,
    "start_time": "2023-08-22T09:10:53.200Z"
   },
   {
    "duration": 2120,
    "start_time": "2023-08-22T09:10:53.206Z"
   },
   {
    "duration": 67001,
    "start_time": "2023-08-22T09:10:55.328Z"
   },
   {
    "duration": 7,
    "start_time": "2023-08-22T09:12:02.331Z"
   },
   {
    "duration": 51,
    "start_time": "2023-08-22T09:12:02.340Z"
   },
   {
    "duration": 7782,
    "start_time": "2023-08-22T09:12:02.393Z"
   },
   {
    "duration": 266917,
    "start_time": "2023-08-22T09:12:10.177Z"
   },
   {
    "duration": 227647,
    "start_time": "2023-08-22T09:16:37.096Z"
   },
   {
    "duration": 55,
    "start_time": "2023-08-22T09:44:07.237Z"
   },
   {
    "duration": 5,
    "start_time": "2023-08-22T11:30:41.601Z"
   },
   {
    "duration": 170,
    "start_time": "2023-08-22T11:30:43.643Z"
   },
   {
    "duration": 32,
    "start_time": "2023-08-22T11:30:56.306Z"
   },
   {
    "duration": 10,
    "start_time": "2023-08-22T11:31:42.699Z"
   },
   {
    "duration": 4521,
    "start_time": "2023-08-22T11:31:51.114Z"
   },
   {
    "duration": 17,
    "start_time": "2023-08-22T11:32:08.281Z"
   },
   {
    "duration": 16,
    "start_time": "2023-08-22T11:32:17.028Z"
   },
   {
    "duration": 84,
    "start_time": "2023-08-22T11:32:30.053Z"
   },
   {
    "duration": 1783,
    "start_time": "2023-08-23T09:05:33.781Z"
   },
   {
    "duration": 219,
    "start_time": "2023-08-23T09:05:37.516Z"
   },
   {
    "duration": 2960,
    "start_time": "2023-08-23T09:05:38.230Z"
   },
   {
    "duration": 13,
    "start_time": "2023-08-23T09:05:41.192Z"
   },
   {
    "duration": 41,
    "start_time": "2023-08-23T09:05:41.206Z"
   },
   {
    "duration": 35,
    "start_time": "2023-08-23T09:05:41.249Z"
   },
   {
    "duration": 88,
    "start_time": "2023-08-23T09:05:41.286Z"
   },
   {
    "duration": 11,
    "start_time": "2023-08-23T09:05:49.330Z"
   },
   {
    "duration": 23,
    "start_time": "2023-08-23T09:05:49.529Z"
   },
   {
    "duration": 18,
    "start_time": "2023-08-23T09:05:52.505Z"
   },
   {
    "duration": 6,
    "start_time": "2023-08-23T09:05:54.641Z"
   },
   {
    "duration": 3470,
    "start_time": "2023-08-23T09:05:54.812Z"
   },
   {
    "duration": 107,
    "start_time": "2023-08-23T09:22:50.685Z"
   },
   {
    "duration": 701,
    "start_time": "2023-08-23T09:22:57.378Z"
   },
   {
    "duration": 44,
    "start_time": "2023-08-23T09:27:48.589Z"
   },
   {
    "duration": 0,
    "start_time": "2023-08-23T09:27:48.635Z"
   },
   {
    "duration": 0,
    "start_time": "2023-08-23T09:27:48.636Z"
   },
   {
    "duration": 0,
    "start_time": "2023-08-23T09:27:48.638Z"
   },
   {
    "duration": 0,
    "start_time": "2023-08-23T09:27:48.639Z"
   },
   {
    "duration": 0,
    "start_time": "2023-08-23T09:27:48.640Z"
   },
   {
    "duration": 1,
    "start_time": "2023-08-23T09:27:48.641Z"
   },
   {
    "duration": 0,
    "start_time": "2023-08-23T09:27:48.643Z"
   },
   {
    "duration": 0,
    "start_time": "2023-08-23T09:27:48.644Z"
   },
   {
    "duration": 0,
    "start_time": "2023-08-23T09:27:48.646Z"
   },
   {
    "duration": 0,
    "start_time": "2023-08-23T09:27:48.647Z"
   },
   {
    "duration": 0,
    "start_time": "2023-08-23T09:27:48.649Z"
   },
   {
    "duration": 0,
    "start_time": "2023-08-23T09:27:48.650Z"
   },
   {
    "duration": 0,
    "start_time": "2023-08-23T09:27:48.651Z"
   },
   {
    "duration": 0,
    "start_time": "2023-08-23T09:27:48.652Z"
   },
   {
    "duration": 0,
    "start_time": "2023-08-23T09:27:48.653Z"
   },
   {
    "duration": 0,
    "start_time": "2023-08-23T09:27:48.653Z"
   },
   {
    "duration": 0,
    "start_time": "2023-08-23T09:27:48.655Z"
   },
   {
    "duration": 0,
    "start_time": "2023-08-23T09:27:48.656Z"
   },
   {
    "duration": 1406,
    "start_time": "2023-08-23T09:27:57.448Z"
   },
   {
    "duration": 270,
    "start_time": "2023-08-23T09:28:00.093Z"
   },
   {
    "duration": 857,
    "start_time": "2023-08-23T09:28:02.771Z"
   },
   {
    "duration": 11,
    "start_time": "2023-08-23T09:28:04.252Z"
   },
   {
    "duration": 11,
    "start_time": "2023-08-23T09:28:05.196Z"
   },
   {
    "duration": 8,
    "start_time": "2023-08-23T09:28:05.339Z"
   },
   {
    "duration": 30,
    "start_time": "2023-08-23T09:28:05.517Z"
   },
   {
    "duration": 11,
    "start_time": "2023-08-23T09:28:07.529Z"
   },
   {
    "duration": 22,
    "start_time": "2023-08-23T09:28:07.710Z"
   },
   {
    "duration": 11,
    "start_time": "2023-08-23T09:30:03.188Z"
   },
   {
    "duration": 3,
    "start_time": "2023-08-23T09:30:04.271Z"
   },
   {
    "duration": 2128,
    "start_time": "2023-08-23T09:30:04.667Z"
   },
   {
    "duration": 112,
    "start_time": "2023-08-23T09:30:08.464Z"
   },
   {
    "duration": 555224,
    "start_time": "2023-08-23T09:30:16.675Z"
   },
   {
    "duration": 10,
    "start_time": "2023-08-23T09:39:56.265Z"
   },
   {
    "duration": 4,
    "start_time": "2023-08-23T09:40:47.616Z"
   },
   {
    "duration": 3,
    "start_time": "2023-08-23T09:41:09.707Z"
   },
   {
    "duration": 3433,
    "start_time": "2023-08-23T09:41:11.075Z"
   },
   {
    "duration": 9,
    "start_time": "2023-08-23T09:41:18.305Z"
   },
   {
    "duration": 4,
    "start_time": "2023-08-23T09:42:10.284Z"
   },
   {
    "duration": 4,
    "start_time": "2023-08-23T09:42:24.544Z"
   },
   {
    "duration": 50,
    "start_time": "2023-08-23T09:42:31.904Z"
   },
   {
    "duration": 9070,
    "start_time": "2023-08-23T09:42:32.852Z"
   },
   {
    "duration": 7,
    "start_time": "2023-08-23T09:46:39.477Z"
   },
   {
    "duration": 6,
    "start_time": "2023-08-23T09:46:42.878Z"
   },
   {
    "duration": 4,
    "start_time": "2023-08-23T09:46:44.588Z"
   },
   {
    "duration": 5,
    "start_time": "2023-08-23T09:46:46.981Z"
   },
   {
    "duration": 262949,
    "start_time": "2023-08-23T09:49:23.422Z"
   },
   {
    "duration": 74,
    "start_time": "2023-08-23T10:21:15.124Z"
   },
   {
    "duration": 0,
    "start_time": "2023-08-23T10:21:15.200Z"
   },
   {
    "duration": 0,
    "start_time": "2023-08-23T10:21:15.201Z"
   },
   {
    "duration": 0,
    "start_time": "2023-08-23T10:21:15.203Z"
   },
   {
    "duration": 0,
    "start_time": "2023-08-23T10:21:15.204Z"
   },
   {
    "duration": 0,
    "start_time": "2023-08-23T10:21:15.205Z"
   },
   {
    "duration": 0,
    "start_time": "2023-08-23T10:21:15.206Z"
   },
   {
    "duration": 0,
    "start_time": "2023-08-23T10:21:15.208Z"
   },
   {
    "duration": 0,
    "start_time": "2023-08-23T10:21:15.210Z"
   },
   {
    "duration": 7,
    "start_time": "2023-08-23T10:21:15.253Z"
   },
   {
    "duration": 0,
    "start_time": "2023-08-23T10:21:15.262Z"
   },
   {
    "duration": 0,
    "start_time": "2023-08-23T10:21:15.263Z"
   },
   {
    "duration": 0,
    "start_time": "2023-08-23T10:21:15.265Z"
   },
   {
    "duration": 0,
    "start_time": "2023-08-23T10:21:15.266Z"
   },
   {
    "duration": 0,
    "start_time": "2023-08-23T10:21:15.268Z"
   },
   {
    "duration": 0,
    "start_time": "2023-08-23T10:21:15.270Z"
   },
   {
    "duration": 0,
    "start_time": "2023-08-23T10:21:15.271Z"
   },
   {
    "duration": 0,
    "start_time": "2023-08-23T10:21:15.272Z"
   },
   {
    "duration": 1161,
    "start_time": "2023-08-23T10:21:15.296Z"
   },
   {
    "duration": 0,
    "start_time": "2023-08-23T10:21:16.459Z"
   },
   {
    "duration": 0,
    "start_time": "2023-08-23T10:21:16.461Z"
   },
   {
    "duration": 0,
    "start_time": "2023-08-23T10:21:16.463Z"
   },
   {
    "duration": 567,
    "start_time": "2023-08-23T10:21:21.433Z"
   },
   {
    "duration": 216,
    "start_time": "2023-08-23T10:21:23.177Z"
   },
   {
    "duration": 1011,
    "start_time": "2023-08-23T10:21:23.395Z"
   },
   {
    "duration": 10,
    "start_time": "2023-08-23T10:21:24.407Z"
   },
   {
    "duration": 11,
    "start_time": "2023-08-23T10:21:24.419Z"
   },
   {
    "duration": 29,
    "start_time": "2023-08-23T10:21:24.432Z"
   },
   {
    "duration": 49,
    "start_time": "2023-08-23T10:21:24.466Z"
   },
   {
    "duration": 12,
    "start_time": "2023-08-23T10:21:28.076Z"
   },
   {
    "duration": 17,
    "start_time": "2023-08-23T10:21:28.205Z"
   },
   {
    "duration": 14,
    "start_time": "2023-08-23T10:21:30.270Z"
   },
   {
    "duration": 3,
    "start_time": "2023-08-23T10:21:33.727Z"
   },
   {
    "duration": 4241,
    "start_time": "2023-08-23T10:21:33.906Z"
   },
   {
    "duration": 649601,
    "start_time": "2023-08-23T10:21:38.150Z"
   },
   {
    "duration": 7,
    "start_time": "2023-08-23T10:33:12.735Z"
   },
   {
    "duration": 4,
    "start_time": "2023-08-23T10:33:17.474Z"
   },
   {
    "duration": 81,
    "start_time": "2023-08-23T10:33:20.133Z"
   },
   {
    "duration": 11831,
    "start_time": "2023-08-23T10:33:22.426Z"
   },
   {
    "duration": 1660,
    "start_time": "2023-08-23T11:11:16.480Z"
   },
   {
    "duration": 226,
    "start_time": "2023-08-23T11:11:18.142Z"
   },
   {
    "duration": 977,
    "start_time": "2023-08-23T11:11:18.370Z"
   },
   {
    "duration": 20,
    "start_time": "2023-08-23T11:11:19.350Z"
   },
   {
    "duration": 14,
    "start_time": "2023-08-23T11:11:19.384Z"
   },
   {
    "duration": 9,
    "start_time": "2023-08-23T11:11:19.401Z"
   },
   {
    "duration": 33,
    "start_time": "2023-08-23T11:11:19.411Z"
   },
   {
    "duration": 20,
    "start_time": "2023-08-23T11:11:19.446Z"
   },
   {
    "duration": 31,
    "start_time": "2023-08-23T11:11:19.471Z"
   },
   {
    "duration": 10,
    "start_time": "2023-08-23T11:11:19.504Z"
   },
   {
    "duration": 22,
    "start_time": "2023-08-23T11:11:19.516Z"
   },
   {
    "duration": 4314,
    "start_time": "2023-08-23T11:11:19.540Z"
   },
   {
    "duration": 662478,
    "start_time": "2023-08-23T11:11:23.865Z"
   },
   {
    "duration": 40,
    "start_time": "2023-08-23T11:22:26.348Z"
   },
   {
    "duration": 11,
    "start_time": "2023-08-23T11:22:26.390Z"
   },
   {
    "duration": 73,
    "start_time": "2023-08-23T11:22:26.403Z"
   },
   {
    "duration": 11059,
    "start_time": "2023-08-23T11:22:26.478Z"
   },
   {
    "duration": 273141,
    "start_time": "2023-08-23T11:22:37.539Z"
   },
   {
    "duration": 1376,
    "start_time": "2023-08-23T11:44:14.528Z"
   },
   {
    "duration": 215,
    "start_time": "2023-08-23T11:44:15.906Z"
   },
   {
    "duration": 1053,
    "start_time": "2023-08-23T11:44:16.122Z"
   },
   {
    "duration": 17,
    "start_time": "2023-08-23T11:44:17.177Z"
   },
   {
    "duration": 13,
    "start_time": "2023-08-23T11:44:17.197Z"
   },
   {
    "duration": 11,
    "start_time": "2023-08-23T11:44:17.212Z"
   },
   {
    "duration": 54,
    "start_time": "2023-08-23T11:44:17.225Z"
   },
   {
    "duration": 13,
    "start_time": "2023-08-23T11:44:17.284Z"
   },
   {
    "duration": 20,
    "start_time": "2023-08-23T11:44:17.299Z"
   },
   {
    "duration": 10,
    "start_time": "2023-08-23T11:44:17.322Z"
   },
   {
    "duration": 30,
    "start_time": "2023-08-23T11:44:17.334Z"
   },
   {
    "duration": 4353,
    "start_time": "2023-08-23T11:44:17.365Z"
   },
   {
    "duration": 687450,
    "start_time": "2023-08-23T11:44:21.720Z"
   },
   {
    "duration": 11,
    "start_time": "2023-08-23T11:55:49.172Z"
   },
   {
    "duration": 12,
    "start_time": "2023-08-23T11:55:49.189Z"
   },
   {
    "duration": 66,
    "start_time": "2023-08-23T11:55:49.203Z"
   },
   {
    "duration": 7976,
    "start_time": "2023-08-23T11:55:49.271Z"
   },
   {
    "duration": 267619,
    "start_time": "2023-08-23T11:55:57.249Z"
   },
   {
    "duration": 131,
    "start_time": "2023-08-23T12:00:24.871Z"
   },
   {
    "duration": 0,
    "start_time": "2023-08-23T12:00:25.003Z"
   },
   {
    "duration": 0,
    "start_time": "2023-08-23T12:00:25.005Z"
   },
   {
    "duration": 0,
    "start_time": "2023-08-23T12:00:25.006Z"
   },
   {
    "duration": 101,
    "start_time": "2023-08-23T12:01:55.185Z"
   },
   {
    "duration": 54,
    "start_time": "2023-08-23T12:02:01.686Z"
   },
   {
    "duration": 1738,
    "start_time": "2023-08-23T12:13:31.484Z"
   },
   {
    "duration": 319,
    "start_time": "2023-08-23T12:13:33.224Z"
   },
   {
    "duration": 940,
    "start_time": "2023-08-23T12:13:33.544Z"
   },
   {
    "duration": 13,
    "start_time": "2023-08-23T12:13:34.486Z"
   },
   {
    "duration": 21,
    "start_time": "2023-08-23T12:13:34.502Z"
   },
   {
    "duration": 7,
    "start_time": "2023-08-23T12:13:34.525Z"
   },
   {
    "duration": 44,
    "start_time": "2023-08-23T12:13:34.533Z"
   },
   {
    "duration": 12,
    "start_time": "2023-08-23T12:13:34.579Z"
   },
   {
    "duration": 24,
    "start_time": "2023-08-23T12:13:34.592Z"
   },
   {
    "duration": 30,
    "start_time": "2023-08-23T12:13:34.624Z"
   },
   {
    "duration": 8,
    "start_time": "2023-08-23T12:13:34.667Z"
   },
   {
    "duration": 4602,
    "start_time": "2023-08-23T12:13:34.679Z"
   },
   {
    "duration": 606003,
    "start_time": "2023-08-23T12:13:39.286Z"
   },
   {
    "duration": 7,
    "start_time": "2023-08-23T12:23:45.292Z"
   },
   {
    "duration": 36,
    "start_time": "2023-08-23T12:23:45.301Z"
   },
   {
    "duration": 61,
    "start_time": "2023-08-23T12:23:45.338Z"
   },
   {
    "duration": 8013,
    "start_time": "2023-08-23T12:23:45.401Z"
   },
   {
    "duration": 267366,
    "start_time": "2023-08-23T12:23:53.416Z"
   },
   {
    "duration": 147,
    "start_time": "2023-08-23T12:28:20.784Z"
   },
   {
    "duration": 0,
    "start_time": "2023-08-23T12:28:20.932Z"
   },
   {
    "duration": 0,
    "start_time": "2023-08-23T12:28:20.933Z"
   },
   {
    "duration": 0,
    "start_time": "2023-08-23T12:28:20.934Z"
   },
   {
    "duration": 1585,
    "start_time": "2023-08-23T12:32:18.442Z"
   },
   {
    "duration": 215,
    "start_time": "2023-08-23T12:32:20.029Z"
   },
   {
    "duration": 974,
    "start_time": "2023-08-23T12:32:20.246Z"
   },
   {
    "duration": 8,
    "start_time": "2023-08-23T12:32:21.222Z"
   },
   {
    "duration": 26,
    "start_time": "2023-08-23T12:32:21.232Z"
   },
   {
    "duration": 39,
    "start_time": "2023-08-23T12:32:21.263Z"
   },
   {
    "duration": 77,
    "start_time": "2023-08-23T12:32:21.304Z"
   },
   {
    "duration": 47,
    "start_time": "2023-08-23T12:32:21.383Z"
   },
   {
    "duration": 56,
    "start_time": "2023-08-23T12:32:21.432Z"
   },
   {
    "duration": 16,
    "start_time": "2023-08-23T12:32:21.492Z"
   },
   {
    "duration": 68,
    "start_time": "2023-08-23T12:32:21.509Z"
   },
   {
    "duration": 4358,
    "start_time": "2023-08-23T12:32:21.579Z"
   },
   {
    "duration": 620500,
    "start_time": "2023-08-23T12:32:25.940Z"
   },
   {
    "duration": 29,
    "start_time": "2023-08-23T12:42:46.442Z"
   },
   {
    "duration": 7,
    "start_time": "2023-08-23T12:42:46.474Z"
   },
   {
    "duration": 50,
    "start_time": "2023-08-23T12:42:46.483Z"
   },
   {
    "duration": 7675,
    "start_time": "2023-08-23T12:42:46.535Z"
   },
   {
    "duration": 261781,
    "start_time": "2023-08-23T12:42:54.212Z"
   },
   {
    "duration": 341434,
    "start_time": "2023-08-23T12:47:15.995Z"
   },
   {
    "duration": 248187,
    "start_time": "2023-08-23T12:52:57.431Z"
   },
   {
    "duration": 159,
    "start_time": "2023-08-23T12:57:05.620Z"
   },
   {
    "duration": 2701,
    "start_time": "2023-08-23T13:05:45.930Z"
   },
   {
    "duration": 272,
    "start_time": "2023-08-23T13:10:03.732Z"
   },
   {
    "duration": 78,
    "start_time": "2023-08-23T13:10:14.898Z"
   },
   {
    "duration": 71,
    "start_time": "2023-08-23T13:12:19.049Z"
   },
   {
    "duration": 604447,
    "start_time": "2023-08-23T13:13:57.441Z"
   }
  ],
  "kernelspec": {
   "display_name": "Python 3 (ipykernel)",
   "language": "python",
   "name": "python3"
  },
  "language_info": {
   "codemirror_mode": {
    "name": "ipython",
    "version": 3
   },
   "file_extension": ".py",
   "mimetype": "text/x-python",
   "name": "python",
   "nbconvert_exporter": "python",
   "pygments_lexer": "ipython3",
   "version": "3.9.5"
  },
  "toc": {
   "base_numbering": 1,
   "nav_menu": {},
   "number_sections": true,
   "sideBar": true,
   "skip_h1_title": true,
   "title_cell": "Содержание",
   "title_sidebar": "Contents",
   "toc_cell": true,
   "toc_position": {
    "height": "calc(100% - 180px)",
    "left": "10px",
    "top": "150px",
    "width": "302.391px"
   },
   "toc_section_display": true,
   "toc_window_display": false
  }
 },
 "nbformat": 4,
 "nbformat_minor": 2
}
