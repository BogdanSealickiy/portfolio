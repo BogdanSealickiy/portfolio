{
 "cells": [
  {
   "cell_type": "markdown",
   "metadata": {
    "toc": true
   },
   "source": [
    "<h1>Содержание<span class=\"tocSkip\"></span></h1>\n",
    "<div class=\"toc\"><ul class=\"toc-item\"><li><span><a href=\"#Подготовка-данных\" data-toc-modified-id=\"Подготовка-данных-1\"><span class=\"toc-item-num\">1&nbsp;&nbsp;</span>Подготовка данных</a></span></li><li><span><a href=\"#Анализ-данных\" data-toc-modified-id=\"Анализ-данных-2\"><span class=\"toc-item-num\">2&nbsp;&nbsp;</span>Анализ данных</a></span></li><li><span><a href=\"#Модель\" data-toc-modified-id=\"Модель-3\"><span class=\"toc-item-num\">3&nbsp;&nbsp;</span>Модель</a></span></li></ul></div>"
   ]
  },
  {
   "cell_type": "markdown",
   "metadata": {},
   "source": [
    "# Восстановление золота из руды"
   ]
  },
  {
   "cell_type": "markdown",
   "metadata": {},
   "source": [
    "Подготовьте прототип модели машинного обучения для «Цифры». Компания разрабатывает решения для эффективной работы промышленных предприятий.\n",
    "\n",
    "Модель должна предсказать коэффициент восстановления золота из золотосодержащей руды. Используйте данные с параметрами добычи и очистки. \n",
    "\n",
    "Модель поможет оптимизировать производство, чтобы не запускать предприятие с убыточными характеристиками.\n",
    "\n",
    "Вам нужно:\n",
    "\n",
    "1. Подготовить данные;\n",
    "2. Провести исследовательский анализ данных;\n",
    "3. Построить и обучить модель.\n"
   ]
  },
  {
   "cell_type": "markdown",
   "metadata": {},
   "source": [
    "## Подготовка данных"
   ]
  },
  {
   "cell_type": "markdown",
   "metadata": {},
   "source": [
    "импорт библиотек"
   ]
  },
  {
   "cell_type": "code",
   "execution_count": 1,
   "metadata": {},
   "outputs": [],
   "source": [
    "import pandas as pd\n",
    "import numpy as np\n",
    "from sklearn.metrics import mean_absolute_error, make_scorer\n",
    "import matplotlib.pyplot as plt\n",
    "from sklearn.preprocessing import StandardScaler\n",
    "from sklearn.pipeline import make_pipeline\n",
    "from sklearn.ensemble import RandomForestRegressor\n",
    "from sklearn.tree import DecisionTreeRegressor\n",
    "from sklearn.linear_model import Lasso, Ridge\n",
    "from sklearn.model_selection import cross_val_score\n",
    "import seaborn as sns\n",
    "from sklearn.linear_model import LinearRegression\n",
    "from sklearn.metrics import mean_squared_error\n",
    "from sklearn.dummy import DummyRegressor\n",
    "\n",
    "from scipy.stats import ttest_ind\n",
    "RANDOM = 12345"
   ]
  },
  {
   "cell_type": "markdown",
   "metadata": {},
   "source": [
    "Первое знакомство с датасетами"
   ]
  },
  {
   "cell_type": "code",
   "execution_count": 2,
   "metadata": {},
   "outputs": [],
   "source": [
    "train = pd.read_csv('/datasets/gold_industry_train.csv')\n",
    "test = pd.read_csv('/datasets/gold_industry_test.csv')\n",
    "full = pd.read_csv('/datasets/gold_industry_full.csv')"
   ]
  },
  {
   "cell_type": "code",
   "execution_count": 3,
   "metadata": {},
   "outputs": [
    {
     "data": {
      "text/html": [
       "<div>\n",
       "<style scoped>\n",
       "    .dataframe tbody tr th:only-of-type {\n",
       "        vertical-align: middle;\n",
       "    }\n",
       "\n",
       "    .dataframe tbody tr th {\n",
       "        vertical-align: top;\n",
       "    }\n",
       "\n",
       "    .dataframe thead th {\n",
       "        text-align: right;\n",
       "    }\n",
       "</style>\n",
       "<table border=\"1\" class=\"dataframe\">\n",
       "  <thead>\n",
       "    <tr style=\"text-align: right;\">\n",
       "      <th></th>\n",
       "      <th>date</th>\n",
       "      <th>rougher.input.feed_au</th>\n",
       "      <th>rougher.input.feed_ag</th>\n",
       "      <th>rougher.input.feed_pb</th>\n",
       "      <th>rougher.input.feed_sol</th>\n",
       "      <th>rougher.input.feed_rate</th>\n",
       "      <th>rougher.input.feed_size</th>\n",
       "      <th>rougher.input.floatbank10_sulfate</th>\n",
       "      <th>rougher.input.floatbank10_xanthate</th>\n",
       "      <th>rougher.state.floatbank10_a_air</th>\n",
       "      <th>...</th>\n",
       "      <th>secondary_cleaner.output.tail_sol</th>\n",
       "      <th>final.output.concentrate_au</th>\n",
       "      <th>final.output.concentrate_ag</th>\n",
       "      <th>final.output.concentrate_pb</th>\n",
       "      <th>final.output.concentrate_sol</th>\n",
       "      <th>final.output.recovery</th>\n",
       "      <th>final.output.tail_au</th>\n",
       "      <th>final.output.tail_ag</th>\n",
       "      <th>final.output.tail_pb</th>\n",
       "      <th>final.output.tail_sol</th>\n",
       "    </tr>\n",
       "  </thead>\n",
       "  <tbody>\n",
       "    <tr>\n",
       "      <th>0</th>\n",
       "      <td>2016-01-15 00:00:00</td>\n",
       "      <td>6.486150</td>\n",
       "      <td>6.100378</td>\n",
       "      <td>2.284912</td>\n",
       "      <td>36.808594</td>\n",
       "      <td>523.546326</td>\n",
       "      <td>55.486599</td>\n",
       "      <td>11.986616</td>\n",
       "      <td>6.007990</td>\n",
       "      <td>999.706909</td>\n",
       "      <td>...</td>\n",
       "      <td>8.764648</td>\n",
       "      <td>42.192020</td>\n",
       "      <td>6.055403</td>\n",
       "      <td>9.889648</td>\n",
       "      <td>5.507324</td>\n",
       "      <td>70.541216</td>\n",
       "      <td>2.143149</td>\n",
       "      <td>10.411962</td>\n",
       "      <td>0.895447</td>\n",
       "      <td>16.904297</td>\n",
       "    </tr>\n",
       "    <tr>\n",
       "      <th>1</th>\n",
       "      <td>2016-01-15 01:00:00</td>\n",
       "      <td>6.478583</td>\n",
       "      <td>6.161113</td>\n",
       "      <td>2.266033</td>\n",
       "      <td>35.753385</td>\n",
       "      <td>525.290581</td>\n",
       "      <td>57.278666</td>\n",
       "      <td>11.971193</td>\n",
       "      <td>6.005766</td>\n",
       "      <td>1000.286398</td>\n",
       "      <td>...</td>\n",
       "      <td>9.001494</td>\n",
       "      <td>42.701629</td>\n",
       "      <td>6.029369</td>\n",
       "      <td>9.968944</td>\n",
       "      <td>5.257781</td>\n",
       "      <td>69.266198</td>\n",
       "      <td>2.224930</td>\n",
       "      <td>10.462676</td>\n",
       "      <td>0.927452</td>\n",
       "      <td>16.634514</td>\n",
       "    </tr>\n",
       "    <tr>\n",
       "      <th>2</th>\n",
       "      <td>2016-01-15 02:00:00</td>\n",
       "      <td>6.362222</td>\n",
       "      <td>6.116455</td>\n",
       "      <td>2.159622</td>\n",
       "      <td>35.971630</td>\n",
       "      <td>530.026610</td>\n",
       "      <td>57.510649</td>\n",
       "      <td>11.920603</td>\n",
       "      <td>6.197377</td>\n",
       "      <td>999.719565</td>\n",
       "      <td>...</td>\n",
       "      <td>8.842896</td>\n",
       "      <td>42.657501</td>\n",
       "      <td>6.055926</td>\n",
       "      <td>10.213995</td>\n",
       "      <td>5.383759</td>\n",
       "      <td>68.116445</td>\n",
       "      <td>2.257889</td>\n",
       "      <td>10.507046</td>\n",
       "      <td>0.953716</td>\n",
       "      <td>16.208849</td>\n",
       "    </tr>\n",
       "    <tr>\n",
       "      <th>3</th>\n",
       "      <td>2016-01-15 03:00:00</td>\n",
       "      <td>6.118189</td>\n",
       "      <td>6.043309</td>\n",
       "      <td>2.037807</td>\n",
       "      <td>36.862241</td>\n",
       "      <td>542.590390</td>\n",
       "      <td>57.792734</td>\n",
       "      <td>11.630094</td>\n",
       "      <td>6.203177</td>\n",
       "      <td>999.814770</td>\n",
       "      <td>...</td>\n",
       "      <td>9.122857</td>\n",
       "      <td>42.689819</td>\n",
       "      <td>6.047977</td>\n",
       "      <td>9.977019</td>\n",
       "      <td>4.858634</td>\n",
       "      <td>68.347543</td>\n",
       "      <td>2.146849</td>\n",
       "      <td>10.422762</td>\n",
       "      <td>0.883763</td>\n",
       "      <td>16.532835</td>\n",
       "    </tr>\n",
       "    <tr>\n",
       "      <th>4</th>\n",
       "      <td>2016-01-15 04:00:00</td>\n",
       "      <td>5.663707</td>\n",
       "      <td>6.060915</td>\n",
       "      <td>1.786875</td>\n",
       "      <td>34.347666</td>\n",
       "      <td>540.531893</td>\n",
       "      <td>56.047189</td>\n",
       "      <td>10.957755</td>\n",
       "      <td>6.198826</td>\n",
       "      <td>999.678690</td>\n",
       "      <td>...</td>\n",
       "      <td>8.871028</td>\n",
       "      <td>42.774141</td>\n",
       "      <td>6.148599</td>\n",
       "      <td>10.142511</td>\n",
       "      <td>4.939416</td>\n",
       "      <td>66.927016</td>\n",
       "      <td>2.055292</td>\n",
       "      <td>10.360302</td>\n",
       "      <td>0.792826</td>\n",
       "      <td>16.525686</td>\n",
       "    </tr>\n",
       "  </tbody>\n",
       "</table>\n",
       "<p>5 rows × 87 columns</p>\n",
       "</div>"
      ],
      "text/plain": [
       "                  date  rougher.input.feed_au  rougher.input.feed_ag  \\\n",
       "0  2016-01-15 00:00:00               6.486150               6.100378   \n",
       "1  2016-01-15 01:00:00               6.478583               6.161113   \n",
       "2  2016-01-15 02:00:00               6.362222               6.116455   \n",
       "3  2016-01-15 03:00:00               6.118189               6.043309   \n",
       "4  2016-01-15 04:00:00               5.663707               6.060915   \n",
       "\n",
       "   rougher.input.feed_pb  rougher.input.feed_sol  rougher.input.feed_rate  \\\n",
       "0               2.284912               36.808594               523.546326   \n",
       "1               2.266033               35.753385               525.290581   \n",
       "2               2.159622               35.971630               530.026610   \n",
       "3               2.037807               36.862241               542.590390   \n",
       "4               1.786875               34.347666               540.531893   \n",
       "\n",
       "   rougher.input.feed_size  rougher.input.floatbank10_sulfate  \\\n",
       "0                55.486599                          11.986616   \n",
       "1                57.278666                          11.971193   \n",
       "2                57.510649                          11.920603   \n",
       "3                57.792734                          11.630094   \n",
       "4                56.047189                          10.957755   \n",
       "\n",
       "   rougher.input.floatbank10_xanthate  rougher.state.floatbank10_a_air  ...  \\\n",
       "0                            6.007990                       999.706909  ...   \n",
       "1                            6.005766                      1000.286398  ...   \n",
       "2                            6.197377                       999.719565  ...   \n",
       "3                            6.203177                       999.814770  ...   \n",
       "4                            6.198826                       999.678690  ...   \n",
       "\n",
       "   secondary_cleaner.output.tail_sol  final.output.concentrate_au  \\\n",
       "0                           8.764648                    42.192020   \n",
       "1                           9.001494                    42.701629   \n",
       "2                           8.842896                    42.657501   \n",
       "3                           9.122857                    42.689819   \n",
       "4                           8.871028                    42.774141   \n",
       "\n",
       "   final.output.concentrate_ag  final.output.concentrate_pb  \\\n",
       "0                     6.055403                     9.889648   \n",
       "1                     6.029369                     9.968944   \n",
       "2                     6.055926                    10.213995   \n",
       "3                     6.047977                     9.977019   \n",
       "4                     6.148599                    10.142511   \n",
       "\n",
       "   final.output.concentrate_sol  final.output.recovery  final.output.tail_au  \\\n",
       "0                      5.507324              70.541216              2.143149   \n",
       "1                      5.257781              69.266198              2.224930   \n",
       "2                      5.383759              68.116445              2.257889   \n",
       "3                      4.858634              68.347543              2.146849   \n",
       "4                      4.939416              66.927016              2.055292   \n",
       "\n",
       "   final.output.tail_ag  final.output.tail_pb  final.output.tail_sol  \n",
       "0             10.411962              0.895447              16.904297  \n",
       "1             10.462676              0.927452              16.634514  \n",
       "2             10.507046              0.953716              16.208849  \n",
       "3             10.422762              0.883763              16.532835  \n",
       "4             10.360302              0.792826              16.525686  \n",
       "\n",
       "[5 rows x 87 columns]"
      ]
     },
     "execution_count": 3,
     "metadata": {},
     "output_type": "execute_result"
    }
   ],
   "source": [
    "train.head(5)"
   ]
  },
  {
   "cell_type": "code",
   "execution_count": 4,
   "metadata": {
    "scrolled": true
   },
   "outputs": [
    {
     "data": {
      "text/html": [
       "<div>\n",
       "<style scoped>\n",
       "    .dataframe tbody tr th:only-of-type {\n",
       "        vertical-align: middle;\n",
       "    }\n",
       "\n",
       "    .dataframe tbody tr th {\n",
       "        vertical-align: top;\n",
       "    }\n",
       "\n",
       "    .dataframe thead th {\n",
       "        text-align: right;\n",
       "    }\n",
       "</style>\n",
       "<table border=\"1\" class=\"dataframe\">\n",
       "  <thead>\n",
       "    <tr style=\"text-align: right;\">\n",
       "      <th></th>\n",
       "      <th>date</th>\n",
       "      <th>rougher.input.feed_au</th>\n",
       "      <th>rougher.input.feed_ag</th>\n",
       "      <th>rougher.input.feed_pb</th>\n",
       "      <th>rougher.input.feed_sol</th>\n",
       "      <th>rougher.input.feed_rate</th>\n",
       "      <th>rougher.input.feed_size</th>\n",
       "      <th>rougher.input.floatbank10_sulfate</th>\n",
       "      <th>rougher.input.floatbank10_xanthate</th>\n",
       "      <th>rougher.state.floatbank10_a_air</th>\n",
       "      <th>...</th>\n",
       "      <th>secondary_cleaner.state.floatbank4_a_air</th>\n",
       "      <th>secondary_cleaner.state.floatbank4_a_level</th>\n",
       "      <th>secondary_cleaner.state.floatbank4_b_air</th>\n",
       "      <th>secondary_cleaner.state.floatbank4_b_level</th>\n",
       "      <th>secondary_cleaner.state.floatbank5_a_air</th>\n",
       "      <th>secondary_cleaner.state.floatbank5_a_level</th>\n",
       "      <th>secondary_cleaner.state.floatbank5_b_air</th>\n",
       "      <th>secondary_cleaner.state.floatbank5_b_level</th>\n",
       "      <th>secondary_cleaner.state.floatbank6_a_air</th>\n",
       "      <th>secondary_cleaner.state.floatbank6_a_level</th>\n",
       "    </tr>\n",
       "  </thead>\n",
       "  <tbody>\n",
       "    <tr>\n",
       "      <th>0</th>\n",
       "      <td>2017-12-09 14:59:59</td>\n",
       "      <td>4.365491</td>\n",
       "      <td>6.158718</td>\n",
       "      <td>3.875727</td>\n",
       "      <td>39.135119</td>\n",
       "      <td>555.820208</td>\n",
       "      <td>94.544358</td>\n",
       "      <td>6.146982</td>\n",
       "      <td>9.308612</td>\n",
       "      <td>1196.238112</td>\n",
       "      <td>...</td>\n",
       "      <td>23.018622</td>\n",
       "      <td>-500.492702</td>\n",
       "      <td>20.020205</td>\n",
       "      <td>-500.220296</td>\n",
       "      <td>17.963512</td>\n",
       "      <td>-499.939490</td>\n",
       "      <td>12.990306</td>\n",
       "      <td>-500.080993</td>\n",
       "      <td>19.990336</td>\n",
       "      <td>-499.191575</td>\n",
       "    </tr>\n",
       "    <tr>\n",
       "      <th>1</th>\n",
       "      <td>2017-12-09 15:59:59</td>\n",
       "      <td>4.362781</td>\n",
       "      <td>6.048130</td>\n",
       "      <td>3.902537</td>\n",
       "      <td>39.713906</td>\n",
       "      <td>544.731687</td>\n",
       "      <td>123.742430</td>\n",
       "      <td>6.210119</td>\n",
       "      <td>9.297709</td>\n",
       "      <td>1201.904177</td>\n",
       "      <td>...</td>\n",
       "      <td>23.024963</td>\n",
       "      <td>-501.153409</td>\n",
       "      <td>20.054122</td>\n",
       "      <td>-500.314711</td>\n",
       "      <td>17.979515</td>\n",
       "      <td>-499.272871</td>\n",
       "      <td>12.992404</td>\n",
       "      <td>-499.976268</td>\n",
       "      <td>20.013986</td>\n",
       "      <td>-500.625471</td>\n",
       "    </tr>\n",
       "    <tr>\n",
       "      <th>2</th>\n",
       "      <td>2017-12-09 16:59:59</td>\n",
       "      <td>5.081681</td>\n",
       "      <td>6.082745</td>\n",
       "      <td>4.564078</td>\n",
       "      <td>37.208683</td>\n",
       "      <td>558.155110</td>\n",
       "      <td>82.610855</td>\n",
       "      <td>7.363824</td>\n",
       "      <td>9.003562</td>\n",
       "      <td>1200.826926</td>\n",
       "      <td>...</td>\n",
       "      <td>22.993827</td>\n",
       "      <td>-501.559663</td>\n",
       "      <td>20.029144</td>\n",
       "      <td>-500.000662</td>\n",
       "      <td>18.012723</td>\n",
       "      <td>-500.024764</td>\n",
       "      <td>13.016445</td>\n",
       "      <td>-500.058432</td>\n",
       "      <td>19.973767</td>\n",
       "      <td>-501.394155</td>\n",
       "    </tr>\n",
       "    <tr>\n",
       "      <th>3</th>\n",
       "      <td>2017-12-09 17:59:59</td>\n",
       "      <td>5.145949</td>\n",
       "      <td>6.084374</td>\n",
       "      <td>4.768124</td>\n",
       "      <td>36.808874</td>\n",
       "      <td>539.713765</td>\n",
       "      <td>77.984784</td>\n",
       "      <td>6.927072</td>\n",
       "      <td>8.955597</td>\n",
       "      <td>1199.292489</td>\n",
       "      <td>...</td>\n",
       "      <td>23.032807</td>\n",
       "      <td>-501.287889</td>\n",
       "      <td>19.977466</td>\n",
       "      <td>-500.159903</td>\n",
       "      <td>17.980463</td>\n",
       "      <td>-500.504602</td>\n",
       "      <td>12.949071</td>\n",
       "      <td>-500.009937</td>\n",
       "      <td>20.010332</td>\n",
       "      <td>-508.337973</td>\n",
       "    </tr>\n",
       "    <tr>\n",
       "      <th>4</th>\n",
       "      <td>2017-12-09 18:59:59</td>\n",
       "      <td>5.735249</td>\n",
       "      <td>6.165220</td>\n",
       "      <td>4.512346</td>\n",
       "      <td>37.810642</td>\n",
       "      <td>558.713584</td>\n",
       "      <td>86.434874</td>\n",
       "      <td>7.823471</td>\n",
       "      <td>7.490356</td>\n",
       "      <td>1198.005449</td>\n",
       "      <td>...</td>\n",
       "      <td>23.001911</td>\n",
       "      <td>-499.947838</td>\n",
       "      <td>20.023735</td>\n",
       "      <td>-499.713680</td>\n",
       "      <td>17.990955</td>\n",
       "      <td>-500.334769</td>\n",
       "      <td>13.007523</td>\n",
       "      <td>-499.968459</td>\n",
       "      <td>19.995999</td>\n",
       "      <td>-499.788805</td>\n",
       "    </tr>\n",
       "  </tbody>\n",
       "</table>\n",
       "<p>5 rows × 53 columns</p>\n",
       "</div>"
      ],
      "text/plain": [
       "                  date  rougher.input.feed_au  rougher.input.feed_ag  \\\n",
       "0  2017-12-09 14:59:59               4.365491               6.158718   \n",
       "1  2017-12-09 15:59:59               4.362781               6.048130   \n",
       "2  2017-12-09 16:59:59               5.081681               6.082745   \n",
       "3  2017-12-09 17:59:59               5.145949               6.084374   \n",
       "4  2017-12-09 18:59:59               5.735249               6.165220   \n",
       "\n",
       "   rougher.input.feed_pb  rougher.input.feed_sol  rougher.input.feed_rate  \\\n",
       "0               3.875727               39.135119               555.820208   \n",
       "1               3.902537               39.713906               544.731687   \n",
       "2               4.564078               37.208683               558.155110   \n",
       "3               4.768124               36.808874               539.713765   \n",
       "4               4.512346               37.810642               558.713584   \n",
       "\n",
       "   rougher.input.feed_size  rougher.input.floatbank10_sulfate  \\\n",
       "0                94.544358                           6.146982   \n",
       "1               123.742430                           6.210119   \n",
       "2                82.610855                           7.363824   \n",
       "3                77.984784                           6.927072   \n",
       "4                86.434874                           7.823471   \n",
       "\n",
       "   rougher.input.floatbank10_xanthate  rougher.state.floatbank10_a_air  ...  \\\n",
       "0                            9.308612                      1196.238112  ...   \n",
       "1                            9.297709                      1201.904177  ...   \n",
       "2                            9.003562                      1200.826926  ...   \n",
       "3                            8.955597                      1199.292489  ...   \n",
       "4                            7.490356                      1198.005449  ...   \n",
       "\n",
       "   secondary_cleaner.state.floatbank4_a_air  \\\n",
       "0                                 23.018622   \n",
       "1                                 23.024963   \n",
       "2                                 22.993827   \n",
       "3                                 23.032807   \n",
       "4                                 23.001911   \n",
       "\n",
       "   secondary_cleaner.state.floatbank4_a_level  \\\n",
       "0                                 -500.492702   \n",
       "1                                 -501.153409   \n",
       "2                                 -501.559663   \n",
       "3                                 -501.287889   \n",
       "4                                 -499.947838   \n",
       "\n",
       "   secondary_cleaner.state.floatbank4_b_air  \\\n",
       "0                                 20.020205   \n",
       "1                                 20.054122   \n",
       "2                                 20.029144   \n",
       "3                                 19.977466   \n",
       "4                                 20.023735   \n",
       "\n",
       "   secondary_cleaner.state.floatbank4_b_level  \\\n",
       "0                                 -500.220296   \n",
       "1                                 -500.314711   \n",
       "2                                 -500.000662   \n",
       "3                                 -500.159903   \n",
       "4                                 -499.713680   \n",
       "\n",
       "   secondary_cleaner.state.floatbank5_a_air  \\\n",
       "0                                 17.963512   \n",
       "1                                 17.979515   \n",
       "2                                 18.012723   \n",
       "3                                 17.980463   \n",
       "4                                 17.990955   \n",
       "\n",
       "   secondary_cleaner.state.floatbank5_a_level  \\\n",
       "0                                 -499.939490   \n",
       "1                                 -499.272871   \n",
       "2                                 -500.024764   \n",
       "3                                 -500.504602   \n",
       "4                                 -500.334769   \n",
       "\n",
       "   secondary_cleaner.state.floatbank5_b_air  \\\n",
       "0                                 12.990306   \n",
       "1                                 12.992404   \n",
       "2                                 13.016445   \n",
       "3                                 12.949071   \n",
       "4                                 13.007523   \n",
       "\n",
       "   secondary_cleaner.state.floatbank5_b_level  \\\n",
       "0                                 -500.080993   \n",
       "1                                 -499.976268   \n",
       "2                                 -500.058432   \n",
       "3                                 -500.009937   \n",
       "4                                 -499.968459   \n",
       "\n",
       "   secondary_cleaner.state.floatbank6_a_air  \\\n",
       "0                                 19.990336   \n",
       "1                                 20.013986   \n",
       "2                                 19.973767   \n",
       "3                                 20.010332   \n",
       "4                                 19.995999   \n",
       "\n",
       "   secondary_cleaner.state.floatbank6_a_level  \n",
       "0                                 -499.191575  \n",
       "1                                 -500.625471  \n",
       "2                                 -501.394155  \n",
       "3                                 -508.337973  \n",
       "4                                 -499.788805  \n",
       "\n",
       "[5 rows x 53 columns]"
      ]
     },
     "execution_count": 4,
     "metadata": {},
     "output_type": "execute_result"
    }
   ],
   "source": [
    "test.head(5)"
   ]
  },
  {
   "cell_type": "code",
   "execution_count": 5,
   "metadata": {
    "scrolled": true
   },
   "outputs": [
    {
     "data": {
      "text/html": [
       "<div>\n",
       "<style scoped>\n",
       "    .dataframe tbody tr th:only-of-type {\n",
       "        vertical-align: middle;\n",
       "    }\n",
       "\n",
       "    .dataframe tbody tr th {\n",
       "        vertical-align: top;\n",
       "    }\n",
       "\n",
       "    .dataframe thead th {\n",
       "        text-align: right;\n",
       "    }\n",
       "</style>\n",
       "<table border=\"1\" class=\"dataframe\">\n",
       "  <thead>\n",
       "    <tr style=\"text-align: right;\">\n",
       "      <th></th>\n",
       "      <th>date</th>\n",
       "      <th>rougher.input.feed_au</th>\n",
       "      <th>rougher.input.feed_ag</th>\n",
       "      <th>rougher.input.feed_pb</th>\n",
       "      <th>rougher.input.feed_sol</th>\n",
       "      <th>rougher.input.feed_rate</th>\n",
       "      <th>rougher.input.feed_size</th>\n",
       "      <th>rougher.input.floatbank10_sulfate</th>\n",
       "      <th>rougher.input.floatbank10_xanthate</th>\n",
       "      <th>rougher.state.floatbank10_a_air</th>\n",
       "      <th>...</th>\n",
       "      <th>secondary_cleaner.output.tail_sol</th>\n",
       "      <th>final.output.concentrate_au</th>\n",
       "      <th>final.output.concentrate_ag</th>\n",
       "      <th>final.output.concentrate_pb</th>\n",
       "      <th>final.output.concentrate_sol</th>\n",
       "      <th>final.output.recovery</th>\n",
       "      <th>final.output.tail_au</th>\n",
       "      <th>final.output.tail_ag</th>\n",
       "      <th>final.output.tail_pb</th>\n",
       "      <th>final.output.tail_sol</th>\n",
       "    </tr>\n",
       "  </thead>\n",
       "  <tbody>\n",
       "    <tr>\n",
       "      <th>0</th>\n",
       "      <td>2016-01-15 00:00:00</td>\n",
       "      <td>6.486150</td>\n",
       "      <td>6.100378</td>\n",
       "      <td>2.284912</td>\n",
       "      <td>36.808594</td>\n",
       "      <td>523.546326</td>\n",
       "      <td>55.486599</td>\n",
       "      <td>11.986616</td>\n",
       "      <td>6.007990</td>\n",
       "      <td>999.706909</td>\n",
       "      <td>...</td>\n",
       "      <td>8.764648</td>\n",
       "      <td>42.192020</td>\n",
       "      <td>6.055403</td>\n",
       "      <td>9.889648</td>\n",
       "      <td>5.507324</td>\n",
       "      <td>70.541216</td>\n",
       "      <td>2.143149</td>\n",
       "      <td>10.411962</td>\n",
       "      <td>0.895447</td>\n",
       "      <td>16.904297</td>\n",
       "    </tr>\n",
       "    <tr>\n",
       "      <th>1</th>\n",
       "      <td>2016-01-15 01:00:00</td>\n",
       "      <td>6.478583</td>\n",
       "      <td>6.161113</td>\n",
       "      <td>2.266033</td>\n",
       "      <td>35.753385</td>\n",
       "      <td>525.290581</td>\n",
       "      <td>57.278666</td>\n",
       "      <td>11.971193</td>\n",
       "      <td>6.005766</td>\n",
       "      <td>1000.286398</td>\n",
       "      <td>...</td>\n",
       "      <td>9.001494</td>\n",
       "      <td>42.701629</td>\n",
       "      <td>6.029369</td>\n",
       "      <td>9.968944</td>\n",
       "      <td>5.257781</td>\n",
       "      <td>69.266198</td>\n",
       "      <td>2.224930</td>\n",
       "      <td>10.462676</td>\n",
       "      <td>0.927452</td>\n",
       "      <td>16.634514</td>\n",
       "    </tr>\n",
       "    <tr>\n",
       "      <th>2</th>\n",
       "      <td>2016-01-15 02:00:00</td>\n",
       "      <td>6.362222</td>\n",
       "      <td>6.116455</td>\n",
       "      <td>2.159622</td>\n",
       "      <td>35.971630</td>\n",
       "      <td>530.026610</td>\n",
       "      <td>57.510649</td>\n",
       "      <td>11.920603</td>\n",
       "      <td>6.197377</td>\n",
       "      <td>999.719565</td>\n",
       "      <td>...</td>\n",
       "      <td>8.842896</td>\n",
       "      <td>42.657501</td>\n",
       "      <td>6.055926</td>\n",
       "      <td>10.213995</td>\n",
       "      <td>5.383759</td>\n",
       "      <td>68.116445</td>\n",
       "      <td>2.257889</td>\n",
       "      <td>10.507046</td>\n",
       "      <td>0.953716</td>\n",
       "      <td>16.208849</td>\n",
       "    </tr>\n",
       "    <tr>\n",
       "      <th>3</th>\n",
       "      <td>2016-01-15 03:00:00</td>\n",
       "      <td>6.118189</td>\n",
       "      <td>6.043309</td>\n",
       "      <td>2.037807</td>\n",
       "      <td>36.862241</td>\n",
       "      <td>542.590390</td>\n",
       "      <td>57.792734</td>\n",
       "      <td>11.630094</td>\n",
       "      <td>6.203177</td>\n",
       "      <td>999.814770</td>\n",
       "      <td>...</td>\n",
       "      <td>9.122857</td>\n",
       "      <td>42.689819</td>\n",
       "      <td>6.047977</td>\n",
       "      <td>9.977019</td>\n",
       "      <td>4.858634</td>\n",
       "      <td>68.347543</td>\n",
       "      <td>2.146849</td>\n",
       "      <td>10.422762</td>\n",
       "      <td>0.883763</td>\n",
       "      <td>16.532835</td>\n",
       "    </tr>\n",
       "    <tr>\n",
       "      <th>4</th>\n",
       "      <td>2016-01-15 04:00:00</td>\n",
       "      <td>5.663707</td>\n",
       "      <td>6.060915</td>\n",
       "      <td>1.786875</td>\n",
       "      <td>34.347666</td>\n",
       "      <td>540.531893</td>\n",
       "      <td>56.047189</td>\n",
       "      <td>10.957755</td>\n",
       "      <td>6.198826</td>\n",
       "      <td>999.678690</td>\n",
       "      <td>...</td>\n",
       "      <td>8.871028</td>\n",
       "      <td>42.774141</td>\n",
       "      <td>6.148599</td>\n",
       "      <td>10.142511</td>\n",
       "      <td>4.939416</td>\n",
       "      <td>66.927016</td>\n",
       "      <td>2.055292</td>\n",
       "      <td>10.360302</td>\n",
       "      <td>0.792826</td>\n",
       "      <td>16.525686</td>\n",
       "    </tr>\n",
       "  </tbody>\n",
       "</table>\n",
       "<p>5 rows × 87 columns</p>\n",
       "</div>"
      ],
      "text/plain": [
       "                  date  rougher.input.feed_au  rougher.input.feed_ag  \\\n",
       "0  2016-01-15 00:00:00               6.486150               6.100378   \n",
       "1  2016-01-15 01:00:00               6.478583               6.161113   \n",
       "2  2016-01-15 02:00:00               6.362222               6.116455   \n",
       "3  2016-01-15 03:00:00               6.118189               6.043309   \n",
       "4  2016-01-15 04:00:00               5.663707               6.060915   \n",
       "\n",
       "   rougher.input.feed_pb  rougher.input.feed_sol  rougher.input.feed_rate  \\\n",
       "0               2.284912               36.808594               523.546326   \n",
       "1               2.266033               35.753385               525.290581   \n",
       "2               2.159622               35.971630               530.026610   \n",
       "3               2.037807               36.862241               542.590390   \n",
       "4               1.786875               34.347666               540.531893   \n",
       "\n",
       "   rougher.input.feed_size  rougher.input.floatbank10_sulfate  \\\n",
       "0                55.486599                          11.986616   \n",
       "1                57.278666                          11.971193   \n",
       "2                57.510649                          11.920603   \n",
       "3                57.792734                          11.630094   \n",
       "4                56.047189                          10.957755   \n",
       "\n",
       "   rougher.input.floatbank10_xanthate  rougher.state.floatbank10_a_air  ...  \\\n",
       "0                            6.007990                       999.706909  ...   \n",
       "1                            6.005766                      1000.286398  ...   \n",
       "2                            6.197377                       999.719565  ...   \n",
       "3                            6.203177                       999.814770  ...   \n",
       "4                            6.198826                       999.678690  ...   \n",
       "\n",
       "   secondary_cleaner.output.tail_sol  final.output.concentrate_au  \\\n",
       "0                           8.764648                    42.192020   \n",
       "1                           9.001494                    42.701629   \n",
       "2                           8.842896                    42.657501   \n",
       "3                           9.122857                    42.689819   \n",
       "4                           8.871028                    42.774141   \n",
       "\n",
       "   final.output.concentrate_ag  final.output.concentrate_pb  \\\n",
       "0                     6.055403                     9.889648   \n",
       "1                     6.029369                     9.968944   \n",
       "2                     6.055926                    10.213995   \n",
       "3                     6.047977                     9.977019   \n",
       "4                     6.148599                    10.142511   \n",
       "\n",
       "   final.output.concentrate_sol  final.output.recovery  final.output.tail_au  \\\n",
       "0                      5.507324              70.541216              2.143149   \n",
       "1                      5.257781              69.266198              2.224930   \n",
       "2                      5.383759              68.116445              2.257889   \n",
       "3                      4.858634              68.347543              2.146849   \n",
       "4                      4.939416              66.927016              2.055292   \n",
       "\n",
       "   final.output.tail_ag  final.output.tail_pb  final.output.tail_sol  \n",
       "0             10.411962              0.895447              16.904297  \n",
       "1             10.462676              0.927452              16.634514  \n",
       "2             10.507046              0.953716              16.208849  \n",
       "3             10.422762              0.883763              16.532835  \n",
       "4             10.360302              0.792826              16.525686  \n",
       "\n",
       "[5 rows x 87 columns]"
      ]
     },
     "execution_count": 5,
     "metadata": {},
     "output_type": "execute_result"
    }
   ],
   "source": [
    "full.head(5)"
   ]
  },
  {
   "cell_type": "markdown",
   "metadata": {},
   "source": [
    "Смысла выводить все столбцы нет, а рассмотреть распределение каждого столбца и его название надо"
   ]
  },
  {
   "cell_type": "code",
   "execution_count": 6,
   "metadata": {},
   "outputs": [
    {
     "data": {
      "text/plain": [
       "Index(['date', 'rougher.input.feed_au', 'rougher.input.feed_ag',\n",
       "       'rougher.input.feed_pb', 'rougher.input.feed_sol',\n",
       "       'rougher.input.feed_rate', 'rougher.input.feed_size',\n",
       "       'rougher.input.floatbank10_sulfate',\n",
       "       'rougher.input.floatbank10_xanthate', 'rougher.state.floatbank10_a_air',\n",
       "       'rougher.state.floatbank10_a_level', 'rougher.state.floatbank10_b_air',\n",
       "       'rougher.state.floatbank10_b_level', 'rougher.state.floatbank10_c_air',\n",
       "       'rougher.state.floatbank10_c_level', 'rougher.state.floatbank10_d_air',\n",
       "       'rougher.state.floatbank10_d_level', 'rougher.state.floatbank10_e_air',\n",
       "       'rougher.state.floatbank10_e_level', 'rougher.state.floatbank10_f_air',\n",
       "       'rougher.state.floatbank10_f_level',\n",
       "       'rougher.input.floatbank11_sulfate',\n",
       "       'rougher.input.floatbank11_xanthate',\n",
       "       'rougher.calculation.sulfate_to_au_concentrate',\n",
       "       'rougher.calculation.floatbank10_sulfate_to_au_feed',\n",
       "       'rougher.calculation.floatbank11_sulfate_to_au_feed',\n",
       "       'rougher.calculation.au_pb_ratio', 'rougher.output.concentrate_au',\n",
       "       'rougher.output.concentrate_ag', 'rougher.output.concentrate_pb',\n",
       "       'rougher.output.concentrate_sol', 'rougher.output.recovery',\n",
       "       'rougher.output.tail_au', 'rougher.output.tail_ag',\n",
       "       'rougher.output.tail_pb', 'rougher.output.tail_sol',\n",
       "       'primary_cleaner.input.sulfate', 'primary_cleaner.input.depressant',\n",
       "       'primary_cleaner.input.feed_size', 'primary_cleaner.input.xanthate',\n",
       "       'primary_cleaner.state.floatbank8_a_air',\n",
       "       'primary_cleaner.state.floatbank8_a_level',\n",
       "       'primary_cleaner.state.floatbank8_b_air',\n",
       "       'primary_cleaner.state.floatbank8_b_level',\n",
       "       'primary_cleaner.state.floatbank8_c_air',\n",
       "       'primary_cleaner.state.floatbank8_c_level',\n",
       "       'primary_cleaner.state.floatbank8_d_air',\n",
       "       'primary_cleaner.state.floatbank8_d_level',\n",
       "       'primary_cleaner.output.concentrate_au',\n",
       "       'primary_cleaner.output.concentrate_ag',\n",
       "       'primary_cleaner.output.concentrate_pb',\n",
       "       'primary_cleaner.output.concentrate_sol',\n",
       "       'primary_cleaner.output.tail_au', 'primary_cleaner.output.tail_ag',\n",
       "       'primary_cleaner.output.tail_pb', 'primary_cleaner.output.tail_sol',\n",
       "       'secondary_cleaner.state.floatbank2_a_air',\n",
       "       'secondary_cleaner.state.floatbank2_a_level',\n",
       "       'secondary_cleaner.state.floatbank2_b_air',\n",
       "       'secondary_cleaner.state.floatbank2_b_level',\n",
       "       'secondary_cleaner.state.floatbank3_a_air',\n",
       "       'secondary_cleaner.state.floatbank3_a_level',\n",
       "       'secondary_cleaner.state.floatbank3_b_air',\n",
       "       'secondary_cleaner.state.floatbank3_b_level',\n",
       "       'secondary_cleaner.state.floatbank4_a_air',\n",
       "       'secondary_cleaner.state.floatbank4_a_level',\n",
       "       'secondary_cleaner.state.floatbank4_b_air',\n",
       "       'secondary_cleaner.state.floatbank4_b_level',\n",
       "       'secondary_cleaner.state.floatbank5_a_air',\n",
       "       'secondary_cleaner.state.floatbank5_a_level',\n",
       "       'secondary_cleaner.state.floatbank5_b_air',\n",
       "       'secondary_cleaner.state.floatbank5_b_level',\n",
       "       'secondary_cleaner.state.floatbank6_a_air',\n",
       "       'secondary_cleaner.state.floatbank6_a_level',\n",
       "       'secondary_cleaner.output.tail_au', 'secondary_cleaner.output.tail_ag',\n",
       "       'secondary_cleaner.output.tail_pb', 'secondary_cleaner.output.tail_sol',\n",
       "       'final.output.concentrate_au', 'final.output.concentrate_ag',\n",
       "       'final.output.concentrate_pb', 'final.output.concentrate_sol',\n",
       "       'final.output.recovery', 'final.output.tail_au', 'final.output.tail_ag',\n",
       "       'final.output.tail_pb', 'final.output.tail_sol'],\n",
       "      dtype='object')"
      ]
     },
     "execution_count": 6,
     "metadata": {},
     "output_type": "execute_result"
    }
   ],
   "source": [
    "train.columns"
   ]
  },
  {
   "cell_type": "markdown",
   "metadata": {},
   "source": [
    "- rougher - флотация\n",
    "- primary - первичная очистака\n",
    "- secondary - вторичная\n",
    "- fianl - наш итог\n",
    "\n",
    "Эти этапы разделяются на другие разные этапы(данные о исходных данных какого-либо сырья, объем воздуха и тд), причем каждый след этап теряет один из подэтапов. Например на этапе final у нас есть только пораметры продуктов(output) для разых металлов и их хвосты. На этапе второй очистки у нас есть данные о хвостах после этой очистки и информация о текущем состоянии металлов, где указан уровень жидкости и объем воздуха. "
   ]
  },
  {
   "cell_type": "markdown",
   "metadata": {},
   "source": [
    " **Проверю**, что эффективность обогащения рассчитана правильно. Вычислю её на обучающей выборке для признака rougher.output.recovery. Найду MAE между моими расчётами и значением признака. \n",
    " \n",
    "Здесь указано, что нас интересует этап флотации. значит ищем нужные данные именно в нем. По формуле имеем:\n",
    "- C * (F-T)) / (F * (C-T)) * 100%\n",
    "\n",
    "где:\n",
    "- C — доля золота в концентрате после флотации/очистки;\n",
    "- F — доля золота в сырье/концентрате до флотации/очистки;\n",
    "- T — доля золота в отвальных хвостах после флотации/очистки."
   ]
  },
  {
   "cell_type": "code",
   "execution_count": 7,
   "metadata": {},
   "outputs": [],
   "source": [
    "def recovery(rougher_output, rougher_input, rougher_tail):\n",
    "    recovery = (rougher_output * (rougher_input - rougher_tail)) /\\\n",
    "        (rougher_input * (rougher_output - rougher_tail)) * 100\n",
    "    \n",
    "    \n",
    "    return recovery"
   ]
  },
  {
   "cell_type": "code",
   "execution_count": 8,
   "metadata": {
    "scrolled": true
   },
   "outputs": [
    {
     "data": {
      "text/plain": [
       "0        87.107763\n",
       "1        86.843261\n",
       "2        86.842308\n",
       "3        87.226430\n",
       "4        86.688794\n",
       "           ...    \n",
       "14574    87.684717\n",
       "14575    90.677361\n",
       "14576    89.574376\n",
       "14577    87.724007\n",
       "14578    88.890579\n",
       "Length: 14579, dtype: float64"
      ]
     },
     "execution_count": 8,
     "metadata": {},
     "output_type": "execute_result"
    }
   ],
   "source": [
    "recovery = recovery(\n",
    "    train['rougher.output.concentrate_au'], \n",
    "    train['rougher.input.feed_au'], \n",
    "    train['rougher.output.tail_au'],\n",
    ")\n",
    "recovery"
   ]
  },
  {
   "cell_type": "code",
   "execution_count": 9,
   "metadata": {},
   "outputs": [
    {
     "data": {
      "text/plain": [
       "9.83758577644259e-15"
      ]
     },
     "execution_count": 9,
     "metadata": {},
     "output_type": "execute_result"
    }
   ],
   "source": [
    "mean_absolute_error(train['rougher.output.recovery'].dropna(), recovery.dropna())\n"
   ]
  },
  {
   "cell_type": "markdown",
   "metadata": {},
   "source": [
    "Параметр recovery в train не сильно отличается от расчитанных значений по формуле, значит значения расчитаны верно"
   ]
  },
  {
   "cell_type": "markdown",
   "metadata": {},
   "source": [
    " **Проанализиру признаки**, недоступные в тестовой выборке.\n",
    " \n",
    " Заодно познакомимся с данными в тестовом датасете"
   ]
  },
  {
   "cell_type": "code",
   "execution_count": 10,
   "metadata": {},
   "outputs": [],
   "source": [
    "columns_train = set(train.columns)\n",
    "columns_test = set(test.columns)\n",
    "columns_difference = columns_train - columns_test\n",
    "\n",
    "missing_columns = list(columns_difference)"
   ]
  },
  {
   "cell_type": "code",
   "execution_count": 11,
   "metadata": {
    "scrolled": false
   },
   "outputs": [
    {
     "name": "stdout",
     "output_type": "stream",
     "text": [
      "['final.output.concentrate_ag', 'final.output.concentrate_au', 'final.output.concentrate_pb', 'final.output.concentrate_sol', 'final.output.recovery', 'final.output.tail_ag', 'final.output.tail_au', 'final.output.tail_pb', 'final.output.tail_sol', 'primary_cleaner.output.concentrate_ag', 'primary_cleaner.output.concentrate_au', 'primary_cleaner.output.concentrate_pb', 'primary_cleaner.output.concentrate_sol', 'primary_cleaner.output.tail_ag', 'primary_cleaner.output.tail_au', 'primary_cleaner.output.tail_pb', 'primary_cleaner.output.tail_sol', 'rougher.calculation.au_pb_ratio', 'rougher.calculation.floatbank10_sulfate_to_au_feed', 'rougher.calculation.floatbank11_sulfate_to_au_feed', 'rougher.calculation.sulfate_to_au_concentrate', 'rougher.output.concentrate_ag', 'rougher.output.concentrate_au', 'rougher.output.concentrate_pb', 'rougher.output.concentrate_sol', 'rougher.output.recovery', 'rougher.output.tail_ag', 'rougher.output.tail_au', 'rougher.output.tail_pb', 'rougher.output.tail_sol', 'secondary_cleaner.output.tail_ag', 'secondary_cleaner.output.tail_au', 'secondary_cleaner.output.tail_pb', 'secondary_cleaner.output.tail_sol']\n"
     ]
    }
   ],
   "source": [
    "print(sorted(missing_columns))"
   ]
  },
  {
   "cell_type": "markdown",
   "metadata": {},
   "source": [
    "- Отсутсвует весь этап final, что и понятно ведь это может быть целевым признаком, а это тестовый датасет.\n",
    "- Отсутсвуют данные о параметрах продукта и расчетных характеристиках. все то что высчитывается (как я понял онлайн метрики)"
   ]
  },
  {
   "cell_type": "code",
   "execution_count": 12,
   "metadata": {
    "scrolled": true
   },
   "outputs": [
    {
     "name": "stdout",
     "output_type": "stream",
     "text": [
      "<class 'pandas.core.frame.DataFrame'>\n",
      "RangeIndex: 14579 entries, 0 to 14578\n",
      "Data columns (total 87 columns):\n",
      " #   Column                                              Non-Null Count  Dtype  \n",
      "---  ------                                              --------------  -----  \n",
      " 0   date                                                14579 non-null  object \n",
      " 1   rougher.input.feed_au                               14579 non-null  float64\n",
      " 2   rougher.input.feed_ag                               14579 non-null  float64\n",
      " 3   rougher.input.feed_pb                               14507 non-null  float64\n",
      " 4   rougher.input.feed_sol                              14502 non-null  float64\n",
      " 5   rougher.input.feed_rate                             14572 non-null  float64\n",
      " 6   rougher.input.feed_size                             14478 non-null  float64\n",
      " 7   rougher.input.floatbank10_sulfate                   14548 non-null  float64\n",
      " 8   rougher.input.floatbank10_xanthate                  14572 non-null  float64\n",
      " 9   rougher.state.floatbank10_a_air                     14579 non-null  float64\n",
      " 10  rougher.state.floatbank10_a_level                   14579 non-null  float64\n",
      " 11  rougher.state.floatbank10_b_air                     14579 non-null  float64\n",
      " 12  rougher.state.floatbank10_b_level                   14579 non-null  float64\n",
      " 13  rougher.state.floatbank10_c_air                     14579 non-null  float64\n",
      " 14  rougher.state.floatbank10_c_level                   14579 non-null  float64\n",
      " 15  rougher.state.floatbank10_d_air                     14579 non-null  float64\n",
      " 16  rougher.state.floatbank10_d_level                   14579 non-null  float64\n",
      " 17  rougher.state.floatbank10_e_air                     14150 non-null  float64\n",
      " 18  rougher.state.floatbank10_e_level                   14579 non-null  float64\n",
      " 19  rougher.state.floatbank10_f_air                     14579 non-null  float64\n",
      " 20  rougher.state.floatbank10_f_level                   14579 non-null  float64\n",
      " 21  rougher.input.floatbank11_sulfate                   14543 non-null  float64\n",
      " 22  rougher.input.floatbank11_xanthate                  14172 non-null  float64\n",
      " 23  rougher.calculation.sulfate_to_au_concentrate       14578 non-null  float64\n",
      " 24  rougher.calculation.floatbank10_sulfate_to_au_feed  14578 non-null  float64\n",
      " 25  rougher.calculation.floatbank11_sulfate_to_au_feed  14578 non-null  float64\n",
      " 26  rougher.calculation.au_pb_ratio                     14579 non-null  float64\n",
      " 27  rougher.output.concentrate_au                       14579 non-null  float64\n",
      " 28  rougher.output.concentrate_ag                       14579 non-null  float64\n",
      " 29  rougher.output.concentrate_pb                       14579 non-null  float64\n",
      " 30  rougher.output.concentrate_sol                      14561 non-null  float64\n",
      " 31  rougher.output.recovery                             14579 non-null  float64\n",
      " 32  rougher.output.tail_au                              14579 non-null  float64\n",
      " 33  rougher.output.tail_ag                              14578 non-null  float64\n",
      " 34  rougher.output.tail_pb                              14579 non-null  float64\n",
      " 35  rougher.output.tail_sol                             14579 non-null  float64\n",
      " 36  primary_cleaner.input.sulfate                       14556 non-null  float64\n",
      " 37  primary_cleaner.input.depressant                    14551 non-null  float64\n",
      " 38  primary_cleaner.input.feed_size                     14579 non-null  float64\n",
      " 39  primary_cleaner.input.xanthate                      14518 non-null  float64\n",
      " 40  primary_cleaner.state.floatbank8_a_air              14576 non-null  float64\n",
      " 41  primary_cleaner.state.floatbank8_a_level            14579 non-null  float64\n",
      " 42  primary_cleaner.state.floatbank8_b_air              14576 non-null  float64\n",
      " 43  primary_cleaner.state.floatbank8_b_level            14579 non-null  float64\n",
      " 44  primary_cleaner.state.floatbank8_c_air              14579 non-null  float64\n",
      " 45  primary_cleaner.state.floatbank8_c_level            14579 non-null  float64\n",
      " 46  primary_cleaner.state.floatbank8_d_air              14578 non-null  float64\n",
      " 47  primary_cleaner.state.floatbank8_d_level            14579 non-null  float64\n",
      " 48  primary_cleaner.output.concentrate_au               14579 non-null  float64\n",
      " 49  primary_cleaner.output.concentrate_ag               14579 non-null  float64\n",
      " 50  primary_cleaner.output.concentrate_pb               14491 non-null  float64\n",
      " 51  primary_cleaner.output.concentrate_sol              14314 non-null  float64\n",
      " 52  primary_cleaner.output.tail_au                      14579 non-null  float64\n",
      " 53  primary_cleaner.output.tail_ag                      14575 non-null  float64\n",
      " 54  primary_cleaner.output.tail_pb                      14573 non-null  float64\n",
      " 55  primary_cleaner.output.tail_sol                     14534 non-null  float64\n",
      " 56  secondary_cleaner.state.floatbank2_a_air            14485 non-null  float64\n",
      " 57  secondary_cleaner.state.floatbank2_a_level          14579 non-null  float64\n",
      " 58  secondary_cleaner.state.floatbank2_b_air            14557 non-null  float64\n",
      " 59  secondary_cleaner.state.floatbank2_b_level          14579 non-null  float64\n",
      " 60  secondary_cleaner.state.floatbank3_a_air            14567 non-null  float64\n",
      " 61  secondary_cleaner.state.floatbank3_a_level          14579 non-null  float64\n",
      " 62  secondary_cleaner.state.floatbank3_b_air            14579 non-null  float64\n",
      " 63  secondary_cleaner.state.floatbank3_b_level          14579 non-null  float64\n",
      " 64  secondary_cleaner.state.floatbank4_a_air            14574 non-null  float64\n",
      " 65  secondary_cleaner.state.floatbank4_a_level          14579 non-null  float64\n",
      " 66  secondary_cleaner.state.floatbank4_b_air            14579 non-null  float64\n",
      " 67  secondary_cleaner.state.floatbank4_b_level          14579 non-null  float64\n",
      " 68  secondary_cleaner.state.floatbank5_a_air            14579 non-null  float64\n",
      " 69  secondary_cleaner.state.floatbank5_a_level          14579 non-null  float64\n",
      " 70  secondary_cleaner.state.floatbank5_b_air            14579 non-null  float64\n",
      " 71  secondary_cleaner.state.floatbank5_b_level          14579 non-null  float64\n",
      " 72  secondary_cleaner.state.floatbank6_a_air            14578 non-null  float64\n",
      " 73  secondary_cleaner.state.floatbank6_a_level          14579 non-null  float64\n",
      " 74  secondary_cleaner.output.tail_au                    14579 non-null  float64\n",
      " 75  secondary_cleaner.output.tail_ag                    14578 non-null  float64\n",
      " 76  secondary_cleaner.output.tail_pb                    14575 non-null  float64\n",
      " 77  secondary_cleaner.output.tail_sol                   13659 non-null  float64\n",
      " 78  final.output.concentrate_au                         14579 non-null  float64\n",
      " 79  final.output.concentrate_ag                         14578 non-null  float64\n",
      " 80  final.output.concentrate_pb                         14578 non-null  float64\n",
      " 81  final.output.concentrate_sol                        14387 non-null  float64\n",
      " 82  final.output.recovery                               14579 non-null  float64\n",
      " 83  final.output.tail_au                                14579 non-null  float64\n",
      " 84  final.output.tail_ag                                14578 non-null  float64\n",
      " 85  final.output.tail_pb                                14504 non-null  float64\n",
      " 86  final.output.tail_sol                               14574 non-null  float64\n",
      "dtypes: float64(86), object(1)\n",
      "memory usage: 9.7+ MB\n"
     ]
    }
   ],
   "source": [
    "train.info()"
   ]
  },
  {
   "cell_type": "markdown",
   "metadata": {},
   "source": [
    "Все значения признаков отсутствующих в тестовой выборе типа floatf"
   ]
  },
  {
   "cell_type": "markdown",
   "metadata": {},
   "source": [
    "**Проведу** предобработку данных."
   ]
  },
  {
   "cell_type": "markdown",
   "metadata": {},
   "source": [
    "Столбцы названы верно, посмотрю на пропуски\n"
   ]
  },
  {
   "cell_type": "code",
   "execution_count": 13,
   "metadata": {},
   "outputs": [],
   "source": [
    "def find_null(df):\n",
    "    return  df.isnull().sum().sort_values(ascending=False) / df.shape[0] * 100"
   ]
  },
  {
   "cell_type": "code",
   "execution_count": 14,
   "metadata": {},
   "outputs": [
    {
     "data": {
      "text/plain": [
       "secondary_cleaner.output.tail_sol           6.310447\n",
       "rougher.state.floatbank10_e_air             2.942589\n",
       "rougher.input.floatbank11_xanthate          2.791687\n",
       "primary_cleaner.output.concentrate_sol      1.817683\n",
       "final.output.concentrate_sol                1.316963\n",
       "                                              ...   \n",
       "primary_cleaner.state.floatbank8_c_air      0.000000\n",
       "primary_cleaner.state.floatbank8_c_level    0.000000\n",
       "primary_cleaner.state.floatbank8_d_level    0.000000\n",
       "primary_cleaner.output.concentrate_au       0.000000\n",
       "primary_cleaner.state.floatbank8_b_level    0.000000\n",
       "Length: 87, dtype: float64"
      ]
     },
     "execution_count": 14,
     "metadata": {},
     "output_type": "execute_result"
    }
   ],
   "source": [
    "find_null(train)\n"
   ]
  },
  {
   "cell_type": "code",
   "execution_count": 15,
   "metadata": {},
   "outputs": [],
   "source": [
    "train.fillna(method='ffill', inplace=True)\n",
    "train = train.sort_values('date')"
   ]
  },
  {
   "cell_type": "code",
   "execution_count": 16,
   "metadata": {
    "scrolled": true
   },
   "outputs": [
    {
     "data": {
      "text/plain": [
       "date                                                  0.0\n",
       "primary_cleaner.output.tail_sol                       0.0\n",
       "secondary_cleaner.state.floatbank3_b_level            0.0\n",
       "secondary_cleaner.state.floatbank3_b_air              0.0\n",
       "secondary_cleaner.state.floatbank3_a_level            0.0\n",
       "                                                     ... \n",
       "rougher.output.concentrate_au                         0.0\n",
       "rougher.calculation.au_pb_ratio                       0.0\n",
       "rougher.calculation.floatbank11_sulfate_to_au_feed    0.0\n",
       "rougher.calculation.floatbank10_sulfate_to_au_feed    0.0\n",
       "final.output.tail_sol                                 0.0\n",
       "Length: 87, dtype: float64"
      ]
     },
     "execution_count": 16,
     "metadata": {},
     "output_type": "execute_result"
    }
   ],
   "source": [
    "find_null(train)"
   ]
  },
  {
   "cell_type": "markdown",
   "metadata": {},
   "source": [
    "Заполнил предыдущими значениями тк как в ТЗ указано, что данные часто схожи при близком значении даты и времени, а сами значения отсортированы"
   ]
  },
  {
   "cell_type": "code",
   "execution_count": 17,
   "metadata": {
    "scrolled": true
   },
   "outputs": [
    {
     "data": {
      "text/plain": [
       "secondary_cleaner.state.floatbank2_a_air      2.592593\n",
       "rougher.input.floatbank11_xanthate            0.946502\n",
       "rougher.input.feed_size                       0.905350\n",
       "primary_cleaner.input.xanthate                0.884774\n",
       "rougher.input.feed_pb                         0.576132\n",
       "rougher.input.feed_sol                        0.452675\n",
       "primary_cleaner.input.depressant              0.185185\n",
       "rougher.input.floatbank11_sulfate             0.164609\n",
       "rougher.state.floatbank10_e_air               0.144033\n",
       "rougher.input.feed_rate                       0.082305\n",
       "rougher.input.floatbank10_sulfate             0.061728\n",
       "primary_cleaner.state.floatbank8_d_air        0.041152\n",
       "primary_cleaner.state.floatbank8_c_air        0.041152\n",
       "primary_cleaner.state.floatbank8_d_level      0.020576\n",
       "secondary_cleaner.state.floatbank3_a_level    0.020576\n",
       "secondary_cleaner.state.floatbank2_a_level    0.020576\n",
       "secondary_cleaner.state.floatbank2_b_air      0.020576\n",
       "secondary_cleaner.state.floatbank2_b_level    0.020576\n",
       "secondary_cleaner.state.floatbank3_a_air      0.020576\n",
       "secondary_cleaner.state.floatbank4_a_air      0.020576\n",
       "secondary_cleaner.state.floatbank3_b_air      0.020576\n",
       "secondary_cleaner.state.floatbank3_b_level    0.020576\n",
       "secondary_cleaner.state.floatbank4_a_level    0.020576\n",
       "secondary_cleaner.state.floatbank4_b_air      0.020576\n",
       "secondary_cleaner.state.floatbank4_b_level    0.020576\n",
       "secondary_cleaner.state.floatbank5_a_air      0.020576\n",
       "secondary_cleaner.state.floatbank5_a_level    0.020576\n",
       "secondary_cleaner.state.floatbank5_b_air      0.020576\n",
       "secondary_cleaner.state.floatbank5_b_level    0.020576\n",
       "secondary_cleaner.state.floatbank6_a_air      0.020576\n",
       "primary_cleaner.state.floatbank8_c_level      0.020576\n",
       "secondary_cleaner.state.floatbank6_a_level    0.020576\n",
       "primary_cleaner.state.floatbank8_b_level      0.020576\n",
       "rougher.state.floatbank10_c_air               0.020576\n",
       "primary_cleaner.state.floatbank8_a_level      0.020576\n",
       "primary_cleaner.state.floatbank8_a_air        0.020576\n",
       "rougher.input.floatbank10_xanthate            0.020576\n",
       "primary_cleaner.input.sulfate                 0.020576\n",
       "rougher.state.floatbank10_a_air               0.020576\n",
       "rougher.state.floatbank10_a_level             0.020576\n",
       "rougher.state.floatbank10_b_air               0.020576\n",
       "primary_cleaner.state.floatbank8_b_air        0.020576\n",
       "rougher.state.floatbank10_b_level             0.020576\n",
       "rougher.state.floatbank10_c_level             0.020576\n",
       "rougher.input.feed_ag                         0.000000\n",
       "rougher.state.floatbank10_d_level             0.000000\n",
       "rougher.state.floatbank10_d_air               0.000000\n",
       "rougher.state.floatbank10_e_level             0.000000\n",
       "rougher.state.floatbank10_f_air               0.000000\n",
       "rougher.state.floatbank10_f_level             0.000000\n",
       "primary_cleaner.input.feed_size               0.000000\n",
       "rougher.input.feed_au                         0.000000\n",
       "date                                          0.000000\n",
       "dtype: float64"
      ]
     },
     "execution_count": 17,
     "metadata": {},
     "output_type": "execute_result"
    }
   ],
   "source": [
    "find_null(test)\n",
    "\n"
   ]
  },
  {
   "cell_type": "code",
   "execution_count": 18,
   "metadata": {},
   "outputs": [],
   "source": [
    "test.fillna(method='ffill', inplace=True)\n",
    "test = test.sort_values('date')"
   ]
  },
  {
   "cell_type": "code",
   "execution_count": 19,
   "metadata": {},
   "outputs": [
    {
     "data": {
      "text/plain": [
       "date                                          0.0\n",
       "primary_cleaner.state.floatbank8_a_air        0.0\n",
       "primary_cleaner.state.floatbank8_b_air        0.0\n",
       "primary_cleaner.state.floatbank8_b_level      0.0\n",
       "primary_cleaner.state.floatbank8_c_air        0.0\n",
       "primary_cleaner.state.floatbank8_c_level      0.0\n",
       "primary_cleaner.state.floatbank8_d_air        0.0\n",
       "primary_cleaner.state.floatbank8_d_level      0.0\n",
       "secondary_cleaner.state.floatbank2_a_air      0.0\n",
       "secondary_cleaner.state.floatbank2_a_level    0.0\n",
       "secondary_cleaner.state.floatbank2_b_air      0.0\n",
       "secondary_cleaner.state.floatbank2_b_level    0.0\n",
       "secondary_cleaner.state.floatbank3_a_air      0.0\n",
       "secondary_cleaner.state.floatbank3_a_level    0.0\n",
       "secondary_cleaner.state.floatbank3_b_air      0.0\n",
       "secondary_cleaner.state.floatbank3_b_level    0.0\n",
       "secondary_cleaner.state.floatbank4_a_air      0.0\n",
       "secondary_cleaner.state.floatbank4_a_level    0.0\n",
       "secondary_cleaner.state.floatbank4_b_air      0.0\n",
       "secondary_cleaner.state.floatbank4_b_level    0.0\n",
       "secondary_cleaner.state.floatbank5_a_air      0.0\n",
       "secondary_cleaner.state.floatbank5_a_level    0.0\n",
       "secondary_cleaner.state.floatbank5_b_air      0.0\n",
       "secondary_cleaner.state.floatbank5_b_level    0.0\n",
       "secondary_cleaner.state.floatbank6_a_air      0.0\n",
       "primary_cleaner.state.floatbank8_a_level      0.0\n",
       "primary_cleaner.input.xanthate                0.0\n",
       "rougher.input.feed_au                         0.0\n",
       "primary_cleaner.input.feed_size               0.0\n",
       "rougher.input.feed_ag                         0.0\n",
       "rougher.input.feed_pb                         0.0\n",
       "rougher.input.feed_sol                        0.0\n",
       "rougher.input.feed_rate                       0.0\n",
       "rougher.input.feed_size                       0.0\n",
       "rougher.input.floatbank10_sulfate             0.0\n",
       "rougher.input.floatbank10_xanthate            0.0\n",
       "rougher.state.floatbank10_a_air               0.0\n",
       "rougher.state.floatbank10_a_level             0.0\n",
       "rougher.state.floatbank10_b_air               0.0\n",
       "rougher.state.floatbank10_b_level             0.0\n",
       "rougher.state.floatbank10_c_air               0.0\n",
       "rougher.state.floatbank10_c_level             0.0\n",
       "rougher.state.floatbank10_d_air               0.0\n",
       "rougher.state.floatbank10_d_level             0.0\n",
       "rougher.state.floatbank10_e_air               0.0\n",
       "rougher.state.floatbank10_e_level             0.0\n",
       "rougher.state.floatbank10_f_air               0.0\n",
       "rougher.state.floatbank10_f_level             0.0\n",
       "rougher.input.floatbank11_sulfate             0.0\n",
       "rougher.input.floatbank11_xanthate            0.0\n",
       "primary_cleaner.input.sulfate                 0.0\n",
       "primary_cleaner.input.depressant              0.0\n",
       "secondary_cleaner.state.floatbank6_a_level    0.0\n",
       "dtype: float64"
      ]
     },
     "execution_count": 19,
     "metadata": {},
     "output_type": "execute_result"
    }
   ],
   "source": [
    "find_null(test)\n"
   ]
  },
  {
   "cell_type": "code",
   "execution_count": 20,
   "metadata": {
    "scrolled": true
   },
   "outputs": [
    {
     "data": {
      "text/plain": [
       "secondary_cleaner.output.tail_sol           8.992232\n",
       "rougher.input.floatbank11_xanthate          2.330367\n",
       "rougher.state.floatbank10_e_air             2.242914\n",
       "primary_cleaner.output.concentrate_sol      1.903390\n",
       "secondary_cleaner.state.floatbank2_a_air    1.131745\n",
       "                                              ...   \n",
       "rougher.output.tail_sol                     0.000000\n",
       "primary_cleaner.input.feed_size             0.000000\n",
       "rougher.input.feed_au                       0.000000\n",
       "primary_cleaner.output.concentrate_au       0.000000\n",
       "date                                        0.000000\n",
       "Length: 87, dtype: float64"
      ]
     },
     "execution_count": 20,
     "metadata": {},
     "output_type": "execute_result"
    }
   ],
   "source": [
    "find_null(full)"
   ]
  },
  {
   "cell_type": "code",
   "execution_count": 21,
   "metadata": {},
   "outputs": [],
   "source": [
    "full.fillna(method='ffill', inplace=True)\n",
    "full = full.sort_values('date')"
   ]
  },
  {
   "cell_type": "code",
   "execution_count": 22,
   "metadata": {
    "scrolled": true
   },
   "outputs": [
    {
     "data": {
      "text/plain": [
       "date                                                  0.0\n",
       "primary_cleaner.output.tail_sol                       0.0\n",
       "secondary_cleaner.state.floatbank3_b_level            0.0\n",
       "secondary_cleaner.state.floatbank3_b_air              0.0\n",
       "secondary_cleaner.state.floatbank3_a_level            0.0\n",
       "                                                     ... \n",
       "rougher.output.concentrate_au                         0.0\n",
       "rougher.calculation.au_pb_ratio                       0.0\n",
       "rougher.calculation.floatbank11_sulfate_to_au_feed    0.0\n",
       "rougher.calculation.floatbank10_sulfate_to_au_feed    0.0\n",
       "final.output.tail_sol                                 0.0\n",
       "Length: 87, dtype: float64"
      ]
     },
     "execution_count": 22,
     "metadata": {},
     "output_type": "execute_result"
    }
   ],
   "source": [
    "find_null(full)"
   ]
  },
  {
   "cell_type": "code",
   "execution_count": 23,
   "metadata": {},
   "outputs": [
    {
     "data": {
      "text/plain": [
       "0"
      ]
     },
     "execution_count": 23,
     "metadata": {},
     "output_type": "execute_result"
    }
   ],
   "source": [
    "train.duplicated().sum()"
   ]
  },
  {
   "cell_type": "code",
   "execution_count": 24,
   "metadata": {},
   "outputs": [
    {
     "data": {
      "text/plain": [
       "0"
      ]
     },
     "execution_count": 24,
     "metadata": {},
     "output_type": "execute_result"
    }
   ],
   "source": [
    "test.duplicated().sum()"
   ]
  },
  {
   "cell_type": "code",
   "execution_count": 25,
   "metadata": {},
   "outputs": [
    {
     "data": {
      "text/plain": [
       "0"
      ]
     },
     "execution_count": 25,
     "metadata": {},
     "output_type": "execute_result"
    }
   ],
   "source": [
    "full.duplicated().sum()"
   ]
  },
  {
   "cell_type": "code",
   "execution_count": 26,
   "metadata": {},
   "outputs": [
    {
     "data": {
      "text/plain": [
       "rougher.state.floatbank10_a_level              0.000000\n",
       "rougher.state.floatbank10_c_level              0.000000\n",
       "secondary_cleaner.output.tail_sol              0.006859\n",
       "rougher.state.floatbank10_d_level              0.013718\n",
       "primary_cleaner.output.concentrate_sol         0.013718\n",
       "                                                ...    \n",
       "primary_cleaner.state.floatbank8_d_level      23.417244\n",
       "secondary_cleaner.state.floatbank5_a_level    25.228068\n",
       "secondary_cleaner.state.floatbank3_a_level    25.577886\n",
       "secondary_cleaner.state.floatbank5_b_level    25.687633\n",
       "secondary_cleaner.state.floatbank4_a_level    26.229508\n",
       "Length: 86, dtype: float64"
      ]
     },
     "execution_count": 26,
     "metadata": {},
     "output_type": "execute_result"
    }
   ],
   "source": [
    "def count_outliers(df):\n",
    "    outliers = {}\n",
    "    \n",
    "    for column in df.columns:\n",
    "        Q1 = df[column].quantile(0.25)\n",
    "        Q3 = df[column].quantile(0.75)\n",
    "        IQR = Q3 - Q1\n",
    "        lower_bound = Q1 - 1.5 * IQR\n",
    "        upper_bound = Q3 + 1.5 * IQR\n",
    "        \n",
    "        outliers[column] = df[(df[column] < lower_bound) | (df[column] > upper_bound)].shape[0]\n",
    "    \n",
    "    return pd.Series(outliers)\n",
    "\n",
    "\n",
    "outliers_count = count_outliers(train.drop('date',axis=1)) / train.shape[0] * 100\n",
    "outliers_count.sort_values()"
   ]
  },
  {
   "cell_type": "code",
   "execution_count": 27,
   "metadata": {
    "scrolled": true
   },
   "outputs": [
    {
     "data": {
      "text/plain": [
       "secondary_cleaner.state.floatbank6_a_air       0.000000\n",
       "secondary_cleaner.state.floatbank5_a_air       0.000000\n",
       "rougher.state.floatbank10_a_level              0.000000\n",
       "rougher.input.feed_ag                          0.041152\n",
       "secondary_cleaner.state.floatbank4_a_air       0.164609\n",
       "secondary_cleaner.state.floatbank4_b_air       0.164609\n",
       "rougher.input.feed_au                          0.185185\n",
       "primary_cleaner.input.sulfate                  0.226337\n",
       "rougher.state.floatbank10_a_air                0.246914\n",
       "rougher.state.floatbank10_c_air                0.267490\n",
       "rougher.state.floatbank10_b_air                0.411523\n",
       "rougher.state.floatbank10_d_air                0.411523\n",
       "secondary_cleaner.state.floatbank3_a_air       0.617284\n",
       "secondary_cleaner.state.floatbank3_b_air       0.617284\n",
       "rougher.input.floatbank10_sulfate              0.740741\n",
       "primary_cleaner.input.depressant               0.864198\n",
       "rougher.input.floatbank10_xanthate             1.234568\n",
       "rougher.input.floatbank11_sulfate              1.419753\n",
       "secondary_cleaner.state.floatbank2_a_air       1.460905\n",
       "rougher.input.feed_size                        1.481481\n",
       "rougher.input.feed_rate                        1.543210\n",
       "primary_cleaner.state.floatbank8_b_air         1.604938\n",
       "primary_cleaner.state.floatbank8_c_air         1.604938\n",
       "primary_cleaner.state.floatbank8_a_air         1.666667\n",
       "secondary_cleaner.state.floatbank4_b_level     1.769547\n",
       "rougher.input.feed_pb                          1.810700\n",
       "rougher.state.floatbank10_e_air                1.995885\n",
       "rougher.input.floatbank11_xanthate             2.181070\n",
       "primary_cleaner.input.feed_size                2.304527\n",
       "rougher.input.feed_sol                         2.798354\n",
       "secondary_cleaner.state.floatbank5_b_air       2.798354\n",
       "secondary_cleaner.state.floatbank2_b_air       3.045267\n",
       "rougher.state.floatbank10_c_level              3.580247\n",
       "rougher.state.floatbank10_d_level              3.662551\n",
       "rougher.state.floatbank10_b_level              4.300412\n",
       "rougher.state.floatbank10_e_level              5.123457\n",
       "primary_cleaner.input.xanthate                 5.164609\n",
       "rougher.state.floatbank10_f_level              5.164609\n",
       "rougher.state.floatbank10_f_air                5.905350\n",
       "primary_cleaner.state.floatbank8_d_air         7.160494\n",
       "secondary_cleaner.state.floatbank2_b_level    12.530864\n",
       "primary_cleaner.state.floatbank8_a_level      17.222222\n",
       "secondary_cleaner.state.floatbank6_a_level    17.386831\n",
       "secondary_cleaner.state.floatbank2_a_level    18.024691\n",
       "secondary_cleaner.state.floatbank3_b_level    19.732510\n",
       "primary_cleaner.state.floatbank8_b_level      21.440329\n",
       "secondary_cleaner.state.floatbank5_a_level    22.263374\n",
       "secondary_cleaner.state.floatbank4_a_level    22.386831\n",
       "primary_cleaner.state.floatbank8_c_level      22.530864\n",
       "secondary_cleaner.state.floatbank5_b_level    22.674897\n",
       "secondary_cleaner.state.floatbank3_a_level    23.292181\n",
       "primary_cleaner.state.floatbank8_d_level      25.082305\n",
       "dtype: float64"
      ]
     },
     "execution_count": 27,
     "metadata": {},
     "output_type": "execute_result"
    }
   ],
   "source": [
    "outliers_count = count_outliers(test.drop('date',axis=1)) / test.shape[0] * 100\n",
    "outliers_count.sort_values()"
   ]
  },
  {
   "cell_type": "code",
   "execution_count": 28,
   "metadata": {},
   "outputs": [
    {
     "data": {
      "text/plain": [
       "rougher.state.floatbank10_a_level              0.000000\n",
       "rougher.state.floatbank10_c_level              0.000000\n",
       "secondary_cleaner.output.tail_sol              0.005144\n",
       "rougher.state.floatbank10_d_level              0.010289\n",
       "rougher.state.floatbank10_e_level              0.015433\n",
       "                                                ...    \n",
       "primary_cleaner.state.floatbank8_d_level      23.920984\n",
       "secondary_cleaner.state.floatbank5_a_level    24.409692\n",
       "secondary_cleaner.state.floatbank5_b_level    24.836669\n",
       "secondary_cleaner.state.floatbank3_a_level    25.083595\n",
       "secondary_cleaner.state.floatbank4_a_level    25.243068\n",
       "Length: 86, dtype: float64"
      ]
     },
     "execution_count": 28,
     "metadata": {},
     "output_type": "execute_result"
    }
   ],
   "source": [
    "outliers_count = count_outliers(full.drop('date',axis=1)) / full.shape[0] * 100\n",
    "outliers_count.sort_values()"
   ]
  },
  {
   "cell_type": "markdown",
   "metadata": {},
   "source": [
    "Выбросов очень много в некоторых столбцах чтобы их просто удалить. Для начала попробую понять в чем может быть причина просмотрев диапазон случайной велечина"
   ]
  },
  {
   "cell_type": "code",
   "execution_count": 29,
   "metadata": {},
   "outputs": [
    {
     "data": {
      "text/plain": [
       "count    14579.000000\n",
       "mean      -484.971102\n",
       "std         48.795359\n",
       "min       -799.798523\n",
       "25%       -500.704937\n",
       "50%       -499.820809\n",
       "75%       -498.048862\n",
       "max       -245.239184\n",
       "Name: secondary_cleaner.state.floatbank4_a_level, dtype: float64"
      ]
     },
     "execution_count": 29,
     "metadata": {},
     "output_type": "execute_result"
    }
   ],
   "source": [
    "train['secondary_cleaner.state.floatbank4_a_level'].describe()"
   ]
  },
  {
   "cell_type": "code",
   "execution_count": 30,
   "metadata": {},
   "outputs": [
    {
     "data": {
      "text/plain": [
       "count    14579.000000\n",
       "mean      -486.338692\n",
       "std         38.726292\n",
       "min       -800.220337\n",
       "25%       -500.129137\n",
       "50%       -499.926255\n",
       "75%       -499.285414\n",
       "max       -137.740004\n",
       "Name: secondary_cleaner.state.floatbank5_b_level, dtype: float64"
      ]
     },
     "execution_count": 30,
     "metadata": {},
     "output_type": "execute_result"
    }
   ],
   "source": [
    "train['secondary_cleaner.state.floatbank5_b_level'].describe()"
   ]
  },
  {
   "cell_type": "markdown",
   "metadata": {},
   "source": [
    "Очень трудно сказать насколько эти значения адекватны, ведь нет предстваления или описания их значения\n",
    "\n",
    "При работе в компании или имея доступ к владельцу датасета можно было бы посоветоваться с ним, однако тут такой возможности нет, а значит и точных выводох делать не стану. Решил выбросы не трогать, но показать, что тут они имеется.\n",
    "\n",
    "Покажу наглядно"
   ]
  },
  {
   "cell_type": "markdown",
   "metadata": {},
   "source": [
    "**Вывод**\n",
    "\n",
    "- В данных есть выбросы, который я решил не удалять из-за отсутсвия описания случайной велечины\n",
    "- Дубликаты не обнаружены\n",
    "- Пропуски были замены на соседнее значение основываясь на ТЗ\n",
    "- При проверки формулы с помощью MAE можно сказать, что она хорошо работает"
   ]
  },
  {
   "cell_type": "markdown",
   "metadata": {},
   "source": [
    "<div class=\"alert alert-success\">\n",
    "<h2> Комментарий ревьюера <a class=\"tocSkip\"> </h2>\n",
    "\n",
    "<b>Все отлично!👍:</b> Есть промежуточный вывод - отлично!"
   ]
  },
  {
   "cell_type": "markdown",
   "metadata": {},
   "source": [
    "## Анализ данных"
   ]
  },
  {
   "cell_type": "markdown",
   "metadata": {},
   "source": [
    "Посмотрим, как меняется концентрация металлов (Au, Ag, Pb) на различных этапах: в сырье, в черновом концентрате, в концентрате после первой очистки и в финальном концентрате. Попробую показать какие особенности имеют распределения\n"
   ]
  },
  {
   "cell_type": "code",
   "execution_count": 31,
   "metadata": {},
   "outputs": [
    {
     "data": {
      "image/png": "[encoded data removed]",
      "text/plain": [
       "<Figure size 576x864 with 4 Axes>"
      ]
     },
     "metadata": {
      "needs_background": "light"
     },
     "output_type": "display_data"
    }
   ],
   "source": [
    "fig, axes = plt.subplots(4, 1, figsize=(8, 12))\n",
    "\n",
    "\n",
    "sns.histplot(data=train, x='final.output.concentrate_au', ax=axes[0], color='gold', bins=200)\n",
    "axes[0].set_title('Распределение концентрации золота на финальной стадии')\n",
    "axes[0].set_xlabel('Концентрация золота')\n",
    "axes[0].set_ylabel('Количество результатов')\n",
    "\n",
    "sns.histplot(data=train, x='primary_cleaner.output.concentrate_au', ax=axes[1], color='gold', bins=200)\n",
    "axes[1].set_title('Распределение концентрации золота после первой очистки')\n",
    "axes[1].set_xlabel('Концентрация золота')\n",
    "axes[1].set_ylabel('Количество результатов')\n",
    "\n",
    "sns.histplot(data=train, x='rougher.output.concentrate_au', ax=axes[2], color='gold', bins=200)\n",
    "axes[2].set_title('Распределение концентрации золота после флотации')\n",
    "axes[2].set_xlabel('Концентрация золота')\n",
    "axes[2].set_ylabel('Количество результатов')\n",
    "\n",
    "sns.histplot(data=train, x='rougher.input.feed_au', ax=axes[3], color='gold', bins=200)\n",
    "axes[3].set_title('Распределение черновой концентрации золота ')\n",
    "axes[3].set_xlabel('Концентрация золота')\n",
    "axes[3].set_ylabel('Количество результатов')\n",
    "\n",
    "plt.tight_layout()\n",
    "plt.show()"
   ]
  },
  {
   "cell_type": "markdown",
   "metadata": {},
   "source": [
    "По графику видно, что с каждым шагом очистки коэффициент увеличивается и все чаще встречается больший результат"
   ]
  },
  {
   "cell_type": "code",
   "execution_count": 32,
   "metadata": {},
   "outputs": [
    {
     "data": {
      "image/png": "[encoded data removed]",
      "text/plain": [
       "<Figure size 576x864 with 4 Axes>"
      ]
     },
     "metadata": {
      "needs_background": "light"
     },
     "output_type": "display_data"
    }
   ],
   "source": [
    "fig, axes = plt.subplots(4, 1, figsize=(8, 12))\n",
    "\n",
    "\n",
    "sns.histplot(data=train, x='final.output.concentrate_ag', ax=axes[0], color='silver', bins=200)\n",
    "axes[0].set_title('Распределение концентрации серебра на финальной стадии')\n",
    "axes[0].set_xlabel('Концентрация серебра')\n",
    "axes[0].set_ylabel('Количество результатов')\n",
    "\n",
    "sns.histplot(data=train, x='primary_cleaner.output.concentrate_ag', ax=axes[1], color='silver', bins=200)\n",
    "axes[1].set_title('Распределение концентрации серебра после первой очистки')\n",
    "axes[1].set_xlabel('Концентрация серебра')\n",
    "axes[1].set_ylabel('Количество результатов')\n",
    "\n",
    "sns.histplot(data=train, x='rougher.output.concentrate_ag', ax=axes[2], color='silver', bins=200)\n",
    "axes[2].set_title('Распределение концентрации серебра после флотации')\n",
    "axes[2].set_xlabel('Концентрация серебра')\n",
    "axes[2].set_ylabel('Количество результатов')\n",
    "\n",
    "sns.histplot(data=train, x='rougher.input.feed_ag', ax=axes[3], color='silver', bins=200)\n",
    "axes[3].set_title('Распределение черновой концентрации серебра ')\n",
    "axes[3].set_xlabel('Концентрация серебра')\n",
    "axes[3].set_ylabel('Количество результатов')\n",
    "\n",
    "plt.tight_layout()\n",
    "plt.show()"
   ]
  },
  {
   "cell_type": "markdown",
   "metadata": {},
   "source": [
    "У серебра наоборот, финальный резульат левее, что говорит о более редих случаях, когда его коэф. большой."
   ]
  },
  {
   "cell_type": "code",
   "execution_count": 33,
   "metadata": {},
   "outputs": [
    {
     "data": {
      "image/png": "[encoded data removed]",
      "text/plain": [
       "<Figure size 576x864 with 4 Axes>"
      ]
     },
     "metadata": {
      "needs_background": "light"
     },
     "output_type": "display_data"
    }
   ],
   "source": [
    "fig, axes = plt.subplots(4, 1, figsize=(8, 12))\n",
    "\n",
    "\n",
    "sns.histplot(data=train, x='final.output.concentrate_pb', ax=axes[0], bins=200)\n",
    "axes[0].set_title('Распределение концентрации свинца на финальной стадии')\n",
    "axes[0].set_xlabel('Концентрация свинца')\n",
    "axes[0].set_ylabel('Количество результатов')\n",
    "\n",
    "sns.histplot(data=train, x='primary_cleaner.output.concentrate_pb', ax=axes[1], bins=200)\n",
    "axes[1].set_title('Распределение концентрации свинца после первой очистки')\n",
    "axes[1].set_xlabel('Концентрация свинца')\n",
    "axes[1].set_ylabel('Количество результатов')\n",
    "\n",
    "sns.histplot(data=train, x='rougher.output.concentrate_pb', ax=axes[2], bins=200)\n",
    "axes[2].set_title('Распределение концентрации свинца после флотации')\n",
    "axes[2].set_xlabel('Концентрация свинца')\n",
    "axes[2].set_ylabel('Количество результатов')\n",
    "\n",
    "sns.histplot(data=train, x='rougher.input.feed_pb', ax=axes[3], bins=200)\n",
    "axes[3].set_title('Распределение черновой концентрации свинца ')\n",
    "axes[3].set_xlabel('Концентрация свинца')\n",
    "axes[3].set_ylabel('Количество результатов')\n",
    "\n",
    "plt.tight_layout()\n",
    "plt.show()"
   ]
  },
  {
   "cell_type": "markdown",
   "metadata": {},
   "source": [
    "Распределение по значениям похоже на серебро, однако финальный результат тут явно лучше, чем черновой"
   ]
  },
  {
   "cell_type": "markdown",
   "metadata": {},
   "source": [
    "Уберу аномалии, где концетрат материала равен 0"
   ]
  },
  {
   "cell_type": "code",
   "execution_count": 34,
   "metadata": {},
   "outputs": [],
   "source": [
    "columns = ['final.output.concentrate_au', 'final.output.concentrate_ag', 'final.output.concentrate_pb', 'final.output.concentrate_sol',\n",
    "          'primary_cleaner.output.concentrate_au', 'primary_cleaner.output.concentrate_ag', \n",
    "           'primary_cleaner.output.concentrate_pb', 'primary_cleaner.output.concentrate_sol', 'rougher.output.concentrate_au',\n",
    "           'rougher.output.concentrate_ag', 'rougher.output.concentrate_pb', 'rougher.output.concentrate_sol',]\n",
    "\n",
    "\n",
    "for column in columns:\n",
    "    train = train.loc[train[column] >= 1]"
   ]
  },
  {
   "cell_type": "markdown",
   "metadata": {},
   "source": [
    "**Сравню** распределения размеров гранул исходного сырья на обучающей и тестовой выборках. Если распределения сильно отличаются друг от друга, оценка модели будет неправильной."
   ]
  },
  {
   "cell_type": "markdown",
   "metadata": {},
   "source": [
    "Буду использовать ttest, для этого составлю гипотезы\n",
    "- Нулевая распределения гранул исходного сырья в тестовой и обучающей выборке равны\n",
    "- Альтернативная  распределения гранул исходного сырья в тестовой и обучающей выборке не равны равны"
   ]
  },
  {
   "cell_type": "code",
   "execution_count": 35,
   "metadata": {},
   "outputs": [
    {
     "name": "stdout",
     "output_type": "stream",
     "text": [
      "Значение t-статистики: -0.1688976410172656\n",
      "Значение p-value: 0.8658789954695579\n",
      "Различие в распределениях не является статистически значимым\n"
     ]
    },
    {
     "data": {
      "image/png": "[encoded data removed]",
      "text/plain": [
       "<Figure size 432x288 with 1 Axes>"
      ]
     },
     "metadata": {
      "needs_background": "light"
     },
     "output_type": "display_data"
    }
   ],
   "source": [
    "sns.histplot(train['rougher.input.feed_size'], kde=True, label='Обучающая выборка', stat='density', color='blue')\n",
    "\n",
    "\n",
    "sns.histplot(test['rougher.input.feed_size'], kde=True, label='Тестовая выборка', stat='density', color='orange')\n",
    "\n",
    "\n",
    "plt.xlabel('Размер гранул')\n",
    "plt.ylabel('Плотность')\n",
    "plt.title('Распределение размеров гранул исходного сырья')\n",
    "plt.legend()\n",
    "\n",
    "\n",
    "t_stat, p_value = ttest_ind(train['rougher.input.feed_size'], test['rougher.input.feed_size'])\n",
    "print('Значение t-статистики:', t_stat)\n",
    "print('Значение p-value:', p_value)\n",
    "\n",
    "\n",
    "if p_value < 0.05:\n",
    "    print('Различие в распределениях статистически значимо')\n",
    "else:\n",
    "    print('Различие в распределениях не является статистически значимым')\n",
    "\n",
    "\n",
    "plt.show()"
   ]
  },
  {
   "cell_type": "markdown",
   "metadata": {},
   "source": [
    "Существует много выбросов после размера гранул 100.\n",
    "Сами распределения схожи, только в обучающей график выше, что говорит о большем кол-во признаков в ней"
   ]
  },
  {
   "cell_type": "markdown",
   "metadata": {},
   "source": [
    "**Итог** По графикам видно, что распределения размеров гранул сырья на обучающей и тестовой выборках совпадают, а значит оценка модели будет правильной это же подтверждает ттест, а именно, тк p_value не привысило порог, у нас нет оснований отвергать нулевую гипотезу"
   ]
  },
  {
   "cell_type": "markdown",
   "metadata": {},
   "source": [
    "**Исследуем** суммарную концентрацию металлов на разных стадиях: в сырье, в черновом концентрате, в концентрате после первой очистки и в финальном концентрате."
   ]
  },
  {
   "cell_type": "code",
   "execution_count": 36,
   "metadata": {},
   "outputs": [],
   "source": [
    "final_output_concentrate_sum = (train['final.output.concentrate_au'] + train['final.output.concentrate_ag'] + \n",
    "train['final.output.concentrate_pb'] + train['final.output.concentrate_sol'])\n",
    "\n",
    "primary_cleaner_output_concentrate_sum = (train['primary_cleaner.output.concentrate_au'] + \n",
    "train['primary_cleaner.output.concentrate_ag'] + train['primary_cleaner.output.concentrate_pb'] +\n",
    "train['primary_cleaner.output.concentrate_sol'])\n",
    "\n",
    "rougher_output_concentrate_sum = ( train['rougher.output.concentrate_au'] + train['rougher.output.concentrate_ag'] + \n",
    "train['rougher.output.concentrate_pb'] + train['rougher.output.concentrate_sol'])\n",
    "\n",
    "rougher_input_concentrate_sum = ( train['rougher.input.feed_au'] + train['rougher.input.feed_ag'] +\n",
    " train['rougher.input.feed_pb'] + train['rougher.input.feed_sol']\n",
    ")"
   ]
  },
  {
   "cell_type": "code",
   "execution_count": 37,
   "metadata": {},
   "outputs": [
    {
     "data": {
      "text/plain": [
       "count    13700.000000\n",
       "mean        69.229338\n",
       "std          5.068861\n",
       "min         11.843228\n",
       "25%         68.117128\n",
       "50%         69.713506\n",
       "75%         71.470065\n",
       "max         80.210644\n",
       "dtype: float64"
      ]
     },
     "execution_count": 37,
     "metadata": {},
     "output_type": "execute_result"
    }
   ],
   "source": [
    "final_output_concentrate_sum.describe()"
   ]
  },
  {
   "cell_type": "code",
   "execution_count": 38,
   "metadata": {},
   "outputs": [
    {
     "data": {
      "text/plain": [
       "count    13700.000000\n",
       "mean        61.698255\n",
       "std          7.018517\n",
       "min          8.147616\n",
       "25%         59.223846\n",
       "50%         62.599576\n",
       "75%         65.792401\n",
       "max         78.255313\n",
       "dtype: float64"
      ]
     },
     "execution_count": 38,
     "metadata": {},
     "output_type": "execute_result"
    }
   ],
   "source": [
    "primary_cleaner_output_concentrate_sum.describe()"
   ]
  },
  {
   "cell_type": "code",
   "execution_count": 39,
   "metadata": {},
   "outputs": [
    {
     "data": {
      "text/plain": [
       "count    13700.000000\n",
       "mean        69.834440\n",
       "std          7.585509\n",
       "min         11.170072\n",
       "25%         66.573793\n",
       "50%         70.643016\n",
       "75%         74.689173\n",
       "max         88.140119\n",
       "dtype: float64"
      ]
     },
     "execution_count": 39,
     "metadata": {},
     "output_type": "execute_result"
    }
   ],
   "source": [
    "rougher_output_concentrate_sum.describe()"
   ]
  },
  {
   "cell_type": "code",
   "execution_count": 40,
   "metadata": {},
   "outputs": [
    {
     "data": {
      "text/plain": [
       "count    13700.000000\n",
       "mean        57.568700\n",
       "std          7.002392\n",
       "min         10.936233\n",
       "25%         53.705237\n",
       "50%         57.796186\n",
       "75%         62.181023\n",
       "max         76.978947\n",
       "dtype: float64"
      ]
     },
     "execution_count": 40,
     "metadata": {},
     "output_type": "execute_result"
    }
   ],
   "source": [
    "rougher_input_concentrate_sum.describe()"
   ]
  },
  {
   "cell_type": "markdown",
   "metadata": {},
   "source": [
    "**Вывод**\n",
    "\n",
    "Были удалены некторые аномалии, к котором нашелся повод для удаления. После изучения распределений гранул можно сказать, что данные готовы для применения машинного обучения"
   ]
  },
  {
   "cell_type": "markdown",
   "metadata": {},
   "source": [
    "## Модель"
   ]
  },
  {
   "cell_type": "markdown",
   "metadata": {},
   "source": [
    "Для начала надо из train откинуть те признаки, которых нет в test, тк модель будет проверяться на test'е, и обучаться она должна с теми же признаками для повешения уверенности в правильности предсказания\n",
    "\n",
    "Но в test необходимо добавить целевые признаки"
   ]
  },
  {
   "cell_type": "code",
   "execution_count": 41,
   "metadata": {},
   "outputs": [],
   "source": [
    "merged_test = test.merge(full[['date', 'rougher.output.recovery', 'final.output.recovery']], on='date', how='left')\n"
   ]
  },
  {
   "cell_type": "code",
   "execution_count": 42,
   "metadata": {},
   "outputs": [
    {
     "data": {
      "text/plain": [
       "(4860, 55)"
      ]
     },
     "execution_count": 42,
     "metadata": {},
     "output_type": "execute_result"
    }
   ],
   "source": [
    "merged_test.shape"
   ]
  },
  {
   "cell_type": "code",
   "execution_count": 43,
   "metadata": {},
   "outputs": [
    {
     "data": {
      "text/plain": [
       "['secondary_cleaner.output.tail_ag',\n",
       " 'primary_cleaner.output.tail_sol',\n",
       " 'final.output.tail_sol',\n",
       " 'rougher.output.tail_au',\n",
       " 'final.output.concentrate_ag',\n",
       " 'final.output.tail_au',\n",
       " 'rougher.output.concentrate_pb',\n",
       " 'rougher.output.tail_sol',\n",
       " 'rougher.calculation.sulfate_to_au_concentrate',\n",
       " 'primary_cleaner.output.concentrate_sol',\n",
       " 'final.output.tail_ag',\n",
       " 'final.output.concentrate_sol',\n",
       " 'primary_cleaner.output.tail_ag',\n",
       " 'rougher.calculation.floatbank10_sulfate_to_au_feed',\n",
       " 'rougher.output.concentrate_ag',\n",
       " 'final.output.concentrate_pb',\n",
       " 'rougher.output.concentrate_sol',\n",
       " 'rougher.output.tail_pb',\n",
       " 'secondary_cleaner.output.tail_au',\n",
       " 'final.output.tail_pb',\n",
       " 'primary_cleaner.output.tail_au',\n",
       " 'final.output.concentrate_au',\n",
       " 'secondary_cleaner.output.tail_sol',\n",
       " 'rougher.output.tail_ag',\n",
       " 'primary_cleaner.output.concentrate_ag',\n",
       " 'primary_cleaner.output.tail_pb',\n",
       " 'rougher.calculation.floatbank11_sulfate_to_au_feed',\n",
       " 'primary_cleaner.output.concentrate_pb',\n",
       " 'rougher.output.concentrate_au',\n",
       " 'secondary_cleaner.output.tail_pb',\n",
       " 'primary_cleaner.output.concentrate_au',\n",
       " 'rougher.calculation.au_pb_ratio']"
      ]
     },
     "execution_count": 43,
     "metadata": {},
     "output_type": "execute_result"
    }
   ],
   "source": [
    "columns_train = set(train.columns)\n",
    "columns_test = set(merged_test.columns)\n",
    "columns_difference = columns_train - columns_test\n",
    "\n",
    "missing_columns = list(columns_difference)\n",
    "missing_columns"
   ]
  },
  {
   "cell_type": "code",
   "execution_count": 44,
   "metadata": {},
   "outputs": [],
   "source": [
    "train.drop(missing_columns, axis=1, inplace=True)"
   ]
  },
  {
   "cell_type": "code",
   "execution_count": 45,
   "metadata": {
    "scrolled": true
   },
   "outputs": [
    {
     "data": {
      "text/plain": [
       "(13700, 55)"
      ]
     },
     "execution_count": 45,
     "metadata": {},
     "output_type": "execute_result"
    }
   ],
   "source": [
    "train.shape"
   ]
  },
  {
   "cell_type": "code",
   "execution_count": 46,
   "metadata": {},
   "outputs": [],
   "source": [
    "train.drop('date',axis=1, inplace=True)"
   ]
  },
  {
   "cell_type": "code",
   "execution_count": 47,
   "metadata": {},
   "outputs": [],
   "source": [
    "merged_test.drop('date',axis=1, inplace=True)"
   ]
  },
  {
   "cell_type": "markdown",
   "metadata": {},
   "source": [
    "Отлично. тк все значения и так не object и не качественные, то применять техники для перевода в непрерывные переменные не нужно."
   ]
  },
  {
   "cell_type": "markdown",
   "metadata": {},
   "source": [
    " **Напишиму** функцию для вычисления итоговой sMAPE."
   ]
  },
  {
   "cell_type": "code",
   "execution_count": 48,
   "metadata": {},
   "outputs": [],
   "source": [
    "def calculate_smape(target_actual, target_predictions): # это метрика качества\n",
    "    numerator = np.abs(target_actual - target_predictions)\n",
    "    denominator = (np.abs(target_actual) + np.abs(target_predictions)) / 2 \n",
    "    \n",
    "    return 1 / len(target_actual) * np.sum(numerator / denominator) * 100 "
   ]
  },
  {
   "cell_type": "code",
   "execution_count": 49,
   "metadata": {},
   "outputs": [],
   "source": [
    "def calculate_final_smape(target_actual, target_predictions): # итоговая метрика качества\n",
    "    target_actual_rougher = target_actual['rougher.output.recovery']\n",
    "    target_actual_final = target_actual['final.output.recovery']\n",
    "    \n",
    "    target_predictions_rougher = target_predictions[:, 0]\n",
    "    target_predictions_final = target_predictions[:, 1]\n",
    "    \n",
    "    return 0.25 * calculate_smape(target_actual_rougher, target_predictions_rougher) \\\n",
    "        + 0.75 * calculate_smape(target_actual_rougher, target_predictions_rougher)"
   ]
  },
  {
   "cell_type": "markdown",
   "metadata": {},
   "source": [
    "**Обучаем** разные модели и оцените их качество кросс-валидацией. Выберите лучшую модель и проверьте её на тестовой выборке."
   ]
  },
  {
   "cell_type": "code",
   "execution_count": 50,
   "metadata": {
    "scrolled": false
   },
   "outputs": [
    {
     "data": {
      "text/html": [
       "<div>\n",
       "<style scoped>\n",
       "    .dataframe tbody tr th:only-of-type {\n",
       "        vertical-align: middle;\n",
       "    }\n",
       "\n",
       "    .dataframe tbody tr th {\n",
       "        vertical-align: top;\n",
       "    }\n",
       "\n",
       "    .dataframe thead th {\n",
       "        text-align: right;\n",
       "    }\n",
       "</style>\n",
       "<table border=\"1\" class=\"dataframe\">\n",
       "  <thead>\n",
       "    <tr style=\"text-align: right;\">\n",
       "      <th></th>\n",
       "      <th>rougher.input.feed_au</th>\n",
       "      <th>rougher.input.feed_ag</th>\n",
       "      <th>rougher.input.feed_pb</th>\n",
       "      <th>rougher.input.feed_sol</th>\n",
       "      <th>rougher.input.feed_rate</th>\n",
       "      <th>rougher.input.feed_size</th>\n",
       "      <th>rougher.input.floatbank10_sulfate</th>\n",
       "      <th>rougher.input.floatbank10_xanthate</th>\n",
       "      <th>rougher.state.floatbank10_a_air</th>\n",
       "      <th>rougher.state.floatbank10_a_level</th>\n",
       "      <th>...</th>\n",
       "      <th>secondary_cleaner.state.floatbank4_a_level</th>\n",
       "      <th>secondary_cleaner.state.floatbank4_b_air</th>\n",
       "      <th>secondary_cleaner.state.floatbank4_b_level</th>\n",
       "      <th>secondary_cleaner.state.floatbank5_a_air</th>\n",
       "      <th>secondary_cleaner.state.floatbank5_a_level</th>\n",
       "      <th>secondary_cleaner.state.floatbank5_b_air</th>\n",
       "      <th>secondary_cleaner.state.floatbank5_b_level</th>\n",
       "      <th>secondary_cleaner.state.floatbank6_a_air</th>\n",
       "      <th>secondary_cleaner.state.floatbank6_a_level</th>\n",
       "      <th>final.output.recovery</th>\n",
       "    </tr>\n",
       "  </thead>\n",
       "  <tbody>\n",
       "    <tr>\n",
       "      <th>count</th>\n",
       "      <td>13700.000000</td>\n",
       "      <td>13700.000000</td>\n",
       "      <td>13700.000000</td>\n",
       "      <td>13700.000000</td>\n",
       "      <td>13700.000000</td>\n",
       "      <td>13700.000000</td>\n",
       "      <td>13700.000000</td>\n",
       "      <td>13700.000000</td>\n",
       "      <td>13700.000000</td>\n",
       "      <td>13700.000000</td>\n",
       "      <td>...</td>\n",
       "      <td>13700.000000</td>\n",
       "      <td>1.370000e+04</td>\n",
       "      <td>13700.000000</td>\n",
       "      <td>13700.000000</td>\n",
       "      <td>13700.000000</td>\n",
       "      <td>13700.000000</td>\n",
       "      <td>13700.000000</td>\n",
       "      <td>13700.000000</td>\n",
       "      <td>13700.000000</td>\n",
       "      <td>13700.000000</td>\n",
       "    </tr>\n",
       "    <tr>\n",
       "      <th>mean</th>\n",
       "      <td>8.395762</td>\n",
       "      <td>8.897935</td>\n",
       "      <td>3.604403</td>\n",
       "      <td>36.670599</td>\n",
       "      <td>476.652522</td>\n",
       "      <td>59.074041</td>\n",
       "      <td>12.451068</td>\n",
       "      <td>6.037731</td>\n",
       "      <td>1103.066830</td>\n",
       "      <td>-379.978210</td>\n",
       "      <td>...</td>\n",
       "      <td>-484.473834</td>\n",
       "      <td>1.484935e+01</td>\n",
       "      <td>-459.897640</td>\n",
       "      <td>15.420235</td>\n",
       "      <td>-487.422283</td>\n",
       "      <td>11.957600</td>\n",
       "      <td>-485.855782</td>\n",
       "      <td>19.038730</td>\n",
       "      <td>-505.446035</td>\n",
       "      <td>67.407986</td>\n",
       "    </tr>\n",
       "    <tr>\n",
       "      <th>std</th>\n",
       "      <td>1.879619</td>\n",
       "      <td>1.904116</td>\n",
       "      <td>1.054023</td>\n",
       "      <td>5.043898</td>\n",
       "      <td>106.105045</td>\n",
       "      <td>22.850305</td>\n",
       "      <td>3.324560</td>\n",
       "      <td>1.109654</td>\n",
       "      <td>161.465057</td>\n",
       "      <td>94.694850</td>\n",
       "      <td>...</td>\n",
       "      <td>48.957801</td>\n",
       "      <td>4.854487e+00</td>\n",
       "      <td>66.629982</td>\n",
       "      <td>5.381537</td>\n",
       "      <td>35.293670</td>\n",
       "      <td>5.216459</td>\n",
       "      <td>38.277730</td>\n",
       "      <td>5.515845</td>\n",
       "      <td>36.995058</td>\n",
       "      <td>8.723173</td>\n",
       "    </tr>\n",
       "    <tr>\n",
       "      <th>min</th>\n",
       "      <td>0.943717</td>\n",
       "      <td>2.215688</td>\n",
       "      <td>0.125889</td>\n",
       "      <td>0.463867</td>\n",
       "      <td>0.002986</td>\n",
       "      <td>0.049194</td>\n",
       "      <td>0.001164</td>\n",
       "      <td>0.000568</td>\n",
       "      <td>-0.042069</td>\n",
       "      <td>-657.949759</td>\n",
       "      <td>...</td>\n",
       "      <td>-799.798523</td>\n",
       "      <td>2.489718e-17</td>\n",
       "      <td>-800.836914</td>\n",
       "      <td>-0.372054</td>\n",
       "      <td>-797.323986</td>\n",
       "      <td>0.528083</td>\n",
       "      <td>-800.220337</td>\n",
       "      <td>-0.079426</td>\n",
       "      <td>-809.741464</td>\n",
       "      <td>0.463711</td>\n",
       "    </tr>\n",
       "    <tr>\n",
       "      <th>25%</th>\n",
       "      <td>6.952363</td>\n",
       "      <td>7.343107</td>\n",
       "      <td>2.888156</td>\n",
       "      <td>34.135913</td>\n",
       "      <td>417.947644</td>\n",
       "      <td>47.347545</td>\n",
       "      <td>10.008514</td>\n",
       "      <td>5.399076</td>\n",
       "      <td>999.640878</td>\n",
       "      <td>-499.875923</td>\n",
       "      <td>...</td>\n",
       "      <td>-500.700703</td>\n",
       "      <td>1.191282e+01</td>\n",
       "      <td>-500.183062</td>\n",
       "      <td>10.980352</td>\n",
       "      <td>-500.446469</td>\n",
       "      <td>8.943932</td>\n",
       "      <td>-500.128465</td>\n",
       "      <td>14.988116</td>\n",
       "      <td>-500.751787</td>\n",
       "      <td>63.568302</td>\n",
       "    </tr>\n",
       "    <tr>\n",
       "      <th>50%</th>\n",
       "      <td>8.267599</td>\n",
       "      <td>8.759738</td>\n",
       "      <td>3.530257</td>\n",
       "      <td>37.128656</td>\n",
       "      <td>498.737022</td>\n",
       "      <td>54.495978</td>\n",
       "      <td>12.004640</td>\n",
       "      <td>6.036852</td>\n",
       "      <td>1000.966633</td>\n",
       "      <td>-300.323944</td>\n",
       "      <td>...</td>\n",
       "      <td>-499.817110</td>\n",
       "      <td>1.495765e+01</td>\n",
       "      <td>-499.421466</td>\n",
       "      <td>14.968392</td>\n",
       "      <td>-499.768801</td>\n",
       "      <td>11.005696</td>\n",
       "      <td>-499.926390</td>\n",
       "      <td>19.974256</td>\n",
       "      <td>-500.052041</td>\n",
       "      <td>68.141142</td>\n",
       "    </tr>\n",
       "    <tr>\n",
       "      <th>75%</th>\n",
       "      <td>9.850844</td>\n",
       "      <td>10.270294</td>\n",
       "      <td>4.260709</td>\n",
       "      <td>39.970338</td>\n",
       "      <td>549.676821</td>\n",
       "      <td>64.326365</td>\n",
       "      <td>14.936382</td>\n",
       "      <td>6.799073</td>\n",
       "      <td>1230.739894</td>\n",
       "      <td>-299.989400</td>\n",
       "      <td>...</td>\n",
       "      <td>-497.978456</td>\n",
       "      <td>1.791359e+01</td>\n",
       "      <td>-400.091758</td>\n",
       "      <td>18.013377</td>\n",
       "      <td>-498.072561</td>\n",
       "      <td>14.000557</td>\n",
       "      <td>-499.241210</td>\n",
       "      <td>23.449746</td>\n",
       "      <td>-499.502812</td>\n",
       "      <td>72.645571</td>\n",
       "    </tr>\n",
       "    <tr>\n",
       "      <th>max</th>\n",
       "      <td>13.731330</td>\n",
       "      <td>14.596026</td>\n",
       "      <td>7.052325</td>\n",
       "      <td>53.475325</td>\n",
       "      <td>717.508837</td>\n",
       "      <td>484.967466</td>\n",
       "      <td>36.118275</td>\n",
       "      <td>9.703448</td>\n",
       "      <td>1512.299531</td>\n",
       "      <td>-273.776101</td>\n",
       "      <td>...</td>\n",
       "      <td>-245.239184</td>\n",
       "      <td>2.400791e+01</td>\n",
       "      <td>-7.834746</td>\n",
       "      <td>43.709931</td>\n",
       "      <td>-244.483566</td>\n",
       "      <td>24.803684</td>\n",
       "      <td>-137.740004</td>\n",
       "      <td>32.188906</td>\n",
       "      <td>-123.307487</td>\n",
       "      <td>100.000000</td>\n",
       "    </tr>\n",
       "  </tbody>\n",
       "</table>\n",
       "<p>8 rows × 54 columns</p>\n",
       "</div>"
      ],
      "text/plain": [
       "       rougher.input.feed_au  rougher.input.feed_ag  rougher.input.feed_pb  \\\n",
       "count           13700.000000           13700.000000           13700.000000   \n",
       "mean                8.395762               8.897935               3.604403   \n",
       "std                 1.879619               1.904116               1.054023   \n",
       "min                 0.943717               2.215688               0.125889   \n",
       "25%                 6.952363               7.343107               2.888156   \n",
       "50%                 8.267599               8.759738               3.530257   \n",
       "75%                 9.850844              10.270294               4.260709   \n",
       "max                13.731330              14.596026               7.052325   \n",
       "\n",
       "       rougher.input.feed_sol  rougher.input.feed_rate  \\\n",
       "count            13700.000000             13700.000000   \n",
       "mean                36.670599               476.652522   \n",
       "std                  5.043898               106.105045   \n",
       "min                  0.463867                 0.002986   \n",
       "25%                 34.135913               417.947644   \n",
       "50%                 37.128656               498.737022   \n",
       "75%                 39.970338               549.676821   \n",
       "max                 53.475325               717.508837   \n",
       "\n",
       "       rougher.input.feed_size  rougher.input.floatbank10_sulfate  \\\n",
       "count             13700.000000                       13700.000000   \n",
       "mean                 59.074041                          12.451068   \n",
       "std                  22.850305                           3.324560   \n",
       "min                   0.049194                           0.001164   \n",
       "25%                  47.347545                          10.008514   \n",
       "50%                  54.495978                          12.004640   \n",
       "75%                  64.326365                          14.936382   \n",
       "max                 484.967466                          36.118275   \n",
       "\n",
       "       rougher.input.floatbank10_xanthate  rougher.state.floatbank10_a_air  \\\n",
       "count                        13700.000000                     13700.000000   \n",
       "mean                             6.037731                      1103.066830   \n",
       "std                              1.109654                       161.465057   \n",
       "min                              0.000568                        -0.042069   \n",
       "25%                              5.399076                       999.640878   \n",
       "50%                              6.036852                      1000.966633   \n",
       "75%                              6.799073                      1230.739894   \n",
       "max                              9.703448                      1512.299531   \n",
       "\n",
       "       rougher.state.floatbank10_a_level  ...  \\\n",
       "count                       13700.000000  ...   \n",
       "mean                         -379.978210  ...   \n",
       "std                            94.694850  ...   \n",
       "min                          -657.949759  ...   \n",
       "25%                          -499.875923  ...   \n",
       "50%                          -300.323944  ...   \n",
       "75%                          -299.989400  ...   \n",
       "max                          -273.776101  ...   \n",
       "\n",
       "       secondary_cleaner.state.floatbank4_a_level  \\\n",
       "count                                13700.000000   \n",
       "mean                                  -484.473834   \n",
       "std                                     48.957801   \n",
       "min                                   -799.798523   \n",
       "25%                                   -500.700703   \n",
       "50%                                   -499.817110   \n",
       "75%                                   -497.978456   \n",
       "max                                   -245.239184   \n",
       "\n",
       "       secondary_cleaner.state.floatbank4_b_air  \\\n",
       "count                              1.370000e+04   \n",
       "mean                               1.484935e+01   \n",
       "std                                4.854487e+00   \n",
       "min                                2.489718e-17   \n",
       "25%                                1.191282e+01   \n",
       "50%                                1.495765e+01   \n",
       "75%                                1.791359e+01   \n",
       "max                                2.400791e+01   \n",
       "\n",
       "       secondary_cleaner.state.floatbank4_b_level  \\\n",
       "count                                13700.000000   \n",
       "mean                                  -459.897640   \n",
       "std                                     66.629982   \n",
       "min                                   -800.836914   \n",
       "25%                                   -500.183062   \n",
       "50%                                   -499.421466   \n",
       "75%                                   -400.091758   \n",
       "max                                     -7.834746   \n",
       "\n",
       "       secondary_cleaner.state.floatbank5_a_air  \\\n",
       "count                              13700.000000   \n",
       "mean                                  15.420235   \n",
       "std                                    5.381537   \n",
       "min                                   -0.372054   \n",
       "25%                                   10.980352   \n",
       "50%                                   14.968392   \n",
       "75%                                   18.013377   \n",
       "max                                   43.709931   \n",
       "\n",
       "       secondary_cleaner.state.floatbank5_a_level  \\\n",
       "count                                13700.000000   \n",
       "mean                                  -487.422283   \n",
       "std                                     35.293670   \n",
       "min                                   -797.323986   \n",
       "25%                                   -500.446469   \n",
       "50%                                   -499.768801   \n",
       "75%                                   -498.072561   \n",
       "max                                   -244.483566   \n",
       "\n",
       "       secondary_cleaner.state.floatbank5_b_air  \\\n",
       "count                              13700.000000   \n",
       "mean                                  11.957600   \n",
       "std                                    5.216459   \n",
       "min                                    0.528083   \n",
       "25%                                    8.943932   \n",
       "50%                                   11.005696   \n",
       "75%                                   14.000557   \n",
       "max                                   24.803684   \n",
       "\n",
       "       secondary_cleaner.state.floatbank5_b_level  \\\n",
       "count                                13700.000000   \n",
       "mean                                  -485.855782   \n",
       "std                                     38.277730   \n",
       "min                                   -800.220337   \n",
       "25%                                   -500.128465   \n",
       "50%                                   -499.926390   \n",
       "75%                                   -499.241210   \n",
       "max                                   -137.740004   \n",
       "\n",
       "       secondary_cleaner.state.floatbank6_a_air  \\\n",
       "count                              13700.000000   \n",
       "mean                                  19.038730   \n",
       "std                                    5.515845   \n",
       "min                                   -0.079426   \n",
       "25%                                   14.988116   \n",
       "50%                                   19.974256   \n",
       "75%                                   23.449746   \n",
       "max                                   32.188906   \n",
       "\n",
       "       secondary_cleaner.state.floatbank6_a_level  final.output.recovery  \n",
       "count                                13700.000000           13700.000000  \n",
       "mean                                  -505.446035              67.407986  \n",
       "std                                     36.995058               8.723173  \n",
       "min                                   -809.741464               0.463711  \n",
       "25%                                   -500.751787              63.568302  \n",
       "50%                                   -500.052041              68.141142  \n",
       "75%                                   -499.502812              72.645571  \n",
       "max                                   -123.307487             100.000000  \n",
       "\n",
       "[8 rows x 54 columns]"
      ]
     },
     "execution_count": 50,
     "metadata": {},
     "output_type": "execute_result"
    }
   ],
   "source": [
    "train.describe()"
   ]
  },
  {
   "cell_type": "markdown",
   "metadata": {},
   "source": [
    "Видно, что разные признаки имеют разные минимальные, средний и макс значения. есть среднее равно 8, а есть и 1000+ и даже отрицательные -484\n",
    "\n",
    "Лучше попробовать провести масштабирование признаков. Оно проводится только на обучающей выборке, чтобы избежать слива тестовых данных для моделей"
   ]
  },
  {
   "cell_type": "markdown",
   "metadata": {},
   "source": [
    "Теперь можно приступить к обучению моделей"
   ]
  },
  {
   "cell_type": "code",
   "execution_count": 51,
   "metadata": {},
   "outputs": [],
   "source": [
    "\n",
    "train_features = train.drop(['rougher.output.recovery', 'final.output.recovery'], axis=1)\n",
    "train_target = train[['rougher.output.recovery', 'final.output.recovery']]\n",
    "\n",
    "test_features = merged_test.drop(['rougher.output.recovery', 'final.output.recovery'], axis=1)\n",
    "test_target = merged_test[['rougher.output.recovery', 'final.output.recovery']]"
   ]
  },
  {
   "cell_type": "code",
   "execution_count": 52,
   "metadata": {},
   "outputs": [],
   "source": [
    "max_depth_values = [2, 5, 7]\n",
    "min_samples_split_values = [2, 4, 6]\n"
   ]
  },
  {
   "cell_type": "code",
   "execution_count": 67,
   "metadata": {
    "scrolled": true
   },
   "outputs": [
    {
     "name": "stdout",
     "output_type": "stream",
     "text": [
      "Лучшие значения гиперпараметров: {'max_depth': 2, 'min_samples_split': 2}\n",
      "Лучшее значение sMAPE: 6.946630519818285\n"
     ]
    }
   ],
   "source": [
    "scorer = make_scorer(calculate_final_smape, greater_is_better=False)\n",
    "\n",
    "best_score = float('inf')\n",
    "\n",
    "pipeline = make_pipeline(StandardScaler(), DecisionTreeRegressor(random_state=RANDOM))\n",
    "\n",
    "for max_depth in max_depth_values:\n",
    "    for min_samples_split in min_samples_split_values:\n",
    "        pipeline.named_steps['decisiontreeregressor'].set_params(max_depth=max_depth, min_samples_split=min_samples_split)\n",
    "        scores = cross_val_score(pipeline, train_features, train_target, cv=5, scoring=scorer)\n",
    "        mean_score = -scores.mean()\n",
    "        \n",
    "        if mean_score < best_score:\n",
    "            best_score = mean_score\n",
    "            best_params = {'max_depth': max_depth, 'min_samples_split': min_samples_split}\n",
    "\n",
    "print('Лучшие значения гиперпараметров:', best_params)\n",
    "print('Лучшее значение sMAPE:', best_score)\n",
    "\n",
    "\n",
    "\n"
   ]
  },
  {
   "cell_type": "code",
   "execution_count": 70,
   "metadata": {},
   "outputs": [
    {
     "name": "stdout",
     "output_type": "stream",
     "text": [
      "Лучшие значения гиперпараметров: {'max_depth': 15, 'n_estimators': 20}\n",
      "Лучшее значение sMAPE: 6.76956889100938\n"
     ]
    }
   ],
   "source": [
    "max_depth_values = [10, 15, 20, 30]\n",
    "n_estimators_values = [5, 10, 15, 20]\n",
    "\n",
    "scoring = make_scorer(calculate_final_smape, greater_is_better=False)\n",
    "\n",
    "best_score = float('inf') \n",
    "best_params = {}\n",
    "\n",
    "pipeline = make_pipeline(StandardScaler(), RandomForestRegressor(random_state=RANDOM))\n",
    "\n",
    "for max_depth in max_depth_values:\n",
    "    for n_estimators in n_estimators_values:\n",
    "        pipeline.named_steps['randomforestregressor'].set_params(max_depth=max_depth, n_estimators=n_estimators)\n",
    "        scores = cross_val_score(pipeline, train_features, train_target, cv=5, scoring=scoring, n_jobs=-1)\n",
    "        mean_score = -scores.mean()\n",
    "        \n",
    "        if mean_score < best_score:\n",
    "            best_score = mean_score\n",
    "            best_params = {'max_depth': max_depth, 'n_estimators': n_estimators}\n",
    "\n",
    "print('Лучшие значения гиперпараметров:', best_params)\n",
    "print('Лучшее значение sMAPE:', best_score)\n"
   ]
  },
  {
   "cell_type": "code",
   "execution_count": 53,
   "metadata": {},
   "outputs": [
    {
     "name": "stdout",
     "output_type": "stream",
     "text": [
      "Лучший гиперпараметр alpha=1.0\n",
      "Лучшая средняя ошибка: 6.277892924357717\n"
     ]
    }
   ],
   "source": [
    "scoring = make_scorer(calculate_final_smape, greater_is_better=False)\n",
    "\n",
    "lasso_pipeline = make_pipeline(StandardScaler(), Lasso(random_state=RANDOM))\n",
    "alpha_values = [0.1, 1.0, 2.0, 5.0, 10.0, 20.0, 50.0]\n",
    "\n",
    "best_alpha = None\n",
    "best_score = float('inf')\n",
    "\n",
    "for alpha in alpha_values:\n",
    "    lasso_pipeline.named_steps['lasso'].set_params(alpha=alpha)\n",
    "    \n",
    "    scores = cross_val_score(lasso_pipeline, train_features, train_target, cv=5, scoring=scoring, n_jobs=-1)\n",
    "    mean_score = -scores.mean()\n",
    "    \n",
    "    if mean_score < best_score:\n",
    "        best_score = mean_score\n",
    "        best_alpha = alpha\n",
    "\n",
    "print(f\"Лучший гиперпараметр alpha={best_alpha}\")\n",
    "print(f\"Лучшая средняя ошибка: {best_score}\")\n"
   ]
  },
  {
   "cell_type": "code",
   "execution_count": 78,
   "metadata": {},
   "outputs": [
    {
     "name": "stdout",
     "output_type": "stream",
     "text": [
      "Лучший гиперпараметр alpha=50.0\n",
      "Лучшая средняя ошибка: 7.030360799279855\n"
     ]
    }
   ],
   "source": [
    "scoring = make_scorer(calculate_final_smape, greater_is_better=False)\n",
    "\n",
    "ridge_pipeline = make_pipeline(StandardScaler(), Ridge(random_state=RANDOM))\n",
    "alpha_values = [0.1, 1.0, 2.0, 5.0, 10.0, 20.0, 50.0]\n",
    "\n",
    "best_alpha = None\n",
    "best_score = float('inf')\n",
    "\n",
    "for alpha in alpha_values:\n",
    "    ridge_pipeline.named_steps['ridge'].set_params(alpha=alpha)\n",
    "    \n",
    "    scores = cross_val_score(ridge_pipeline, train_features, train_target, cv=5, scoring=scoring, n_jobs=-1)\n",
    "    mean_score = -scores.mean()\n",
    "    \n",
    "    if mean_score < best_score:\n",
    "        best_score = mean_score\n",
    "        best_alpha = alpha\n",
    "\n",
    "print(f\"Лучший гиперпараметр alpha={best_alpha}\")\n",
    "print(f\"Лучшая средняя ошибка: {best_score}\")\n"
   ]
  },
  {
   "cell_type": "code",
   "execution_count": 54,
   "metadata": {},
   "outputs": [
    {
     "name": "stdout",
     "output_type": "stream",
     "text": [
      "Средняя ошибка: 7.105752901688177\n"
     ]
    }
   ],
   "source": [
    "\n",
    "scoring = make_scorer(calculate_final_smape, greater_is_better=False)\n",
    "\n",
    "linear_pipeline = make_pipeline(StandardScaler(), LinearRegression())\n",
    "\n",
    "\n",
    "scores = cross_val_score(linear_pipeline, train_features, train_target, cv=5, scoring=scoring, n_jobs=-1)\n",
    "\n",
    "\n",
    "mean_score = -scores.mean()\n",
    "\n",
    "print(f\"Средняя ошибка: {mean_score}\")"
   ]
  },
  {
   "cell_type": "markdown",
   "metadata": {},
   "source": [
    "Лучшая модель после обучаения окозалась модель Lasso, онра показала наименьший показатель ошибки, а значит ее я проверю на тетсовых значениях"
   ]
  },
  {
   "cell_type": "code",
   "execution_count": 56,
   "metadata": {},
   "outputs": [
    {
     "data": {
      "text/plain": [
       "4.944944528469071"
      ]
     },
     "execution_count": 56,
     "metadata": {},
     "output_type": "execute_result"
    }
   ],
   "source": [
    "lasso_pipeline = make_pipeline(StandardScaler(), Lasso(alpha=1.0, random_state=RANDOM))\n",
    "\n",
    "\n",
    "lasso_pipeline.fit(train_features, train_target)\n",
    "\n",
    "\n",
    "predictions = lasso_pipeline.predict(test_features)\n",
    "\n",
    "\n",
    "score = calculate_final_smape(test_target, predictions)\n",
    "score"
   ]
  },
  {
   "cell_type": "code",
   "execution_count": 57,
   "metadata": {},
   "outputs": [
    {
     "name": "stdout",
     "output_type": "stream",
     "text": [
      "Качество константной модели: 6.058287765031783\n",
      "Качество лучшей модели: 4.944944528469071\n"
     ]
    }
   ],
   "source": [
    "dummy_model = DummyRegressor(strategy='mean')\n",
    "dummy_model.fit(train_features, train_target)\n",
    "\n",
    "\n",
    "dummy_predictions = dummy_model.predict(test_features)\n",
    "\n",
    "\n",
    "dummy_score = calculate_final_smape(test_target, dummy_predictions)\n",
    "\n",
    "\n",
    "best_model_score = calculate_final_smape(test_target, predictions)\n",
    "\n",
    "# Вывод результатов\n",
    "print(f\"Качество константной модели: {dummy_score}\")\n",
    "print(f\"Качество лучшей модели: {best_model_score}\")\n"
   ]
  },
  {
   "cell_type": "markdown",
   "metadata": {},
   "source": [
    "Модель прошла проверку на адекватность"
   ]
  },
  {
   "cell_type": "markdown",
   "metadata": {},
   "source": [
    "**Итог проекта**\n",
    "\n",
    "- Данные были рассмотрены во всех 3 датасетах:\n",
    "    - Были обнаружены пропуски, они были устранены пред. значениями, тк данные по заданию схожи при близких датат, а сами они сортированы\n",
    "    - Дубликатов нет\n",
    "    - Были обнаружены выбросы, удалил те, аномалию которых я смог подтвердить, остальные без четкого понимания что это за данные трогать не стал\n",
    "- Изучил распределение данных:\n",
    "    - Наибольший концетрат у золота на финальном этапе, сам он растет с каждым этапом\n",
    "    - Свинец придерживается того же результата\n",
    "    - У серебра наоборот, на финальном этапе он меньше всего\n",
    "    - Гранулы сырья на всех этапах распределены одинаково, разница в графиках лишь в высоте, но она такого только из-за большего кол-ва данных в train, чем в test\n",
    "- Подготовил данные для обучения модели и обучил модель:\n",
    "    - Для начала я добавил в test целевые признаки из full датасета по датам\n",
    "    - Удалил все лишнее признаки(которых нет в test) из train\n",
    "    - Признаки имеют разные диапазон, я их масштабировал\n",
    "    - Для обучения построил 5 моделей:\n",
    "        - Дерево решений\n",
    "        - Случайный лес\n",
    "        - Линейная регрессия\n",
    "        - Lasso\n",
    "        - Ridge\n",
    "    - Лучший результат при обучении показала модель lasso с параметром alpha 1.0\n",
    "    - На тестовой выборке sMAPE(пользовательская метрика из ТЗ) показала результат 6.646, где близость к 1 показывает хорошую работу модели"
   ]
  }
 ],
 "metadata": {
  "ExecuteTimeLog": [
   {
    "duration": 566,
    "start_time": "2023-06-30T12:02:11.502Z"
   },
   {
    "duration": 2031,
    "start_time": "2023-06-30T12:02:44.217Z"
   },
   {
    "duration": 507,
    "start_time": "2023-06-30T12:02:52.315Z"
   },
   {
    "duration": 189,
    "start_time": "2023-06-30T12:03:19.420Z"
   },
   {
    "duration": 58,
    "start_time": "2023-06-30T12:03:22.826Z"
   },
   {
    "duration": 960,
    "start_time": "2023-06-30T12:03:26.901Z"
   },
   {
    "duration": 3075,
    "start_time": "2023-06-30T12:03:47.413Z"
   },
   {
    "duration": 1112,
    "start_time": "2023-06-30T12:03:51.501Z"
   },
   {
    "duration": 53,
    "start_time": "2023-06-30T12:05:01.767Z"
   },
   {
    "duration": 11,
    "start_time": "2023-06-30T12:13:36.920Z"
   },
   {
    "duration": 4,
    "start_time": "2023-06-30T12:13:39.957Z"
   },
   {
    "duration": 19,
    "start_time": "2023-06-30T12:13:41.059Z"
   },
   {
    "duration": 8,
    "start_time": "2023-06-30T12:14:03.449Z"
   },
   {
    "duration": 1130,
    "start_time": "2023-06-30T12:14:04.658Z"
   },
   {
    "duration": 385,
    "start_time": "2023-06-30T12:14:05.797Z"
   },
   {
    "duration": 451,
    "start_time": "2023-06-30T12:41:01.513Z"
   },
   {
    "duration": 196,
    "start_time": "2023-06-30T12:41:04.277Z"
   },
   {
    "duration": 44,
    "start_time": "2023-06-30T12:41:32.078Z"
   },
   {
    "duration": 38,
    "start_time": "2023-06-30T12:41:43.205Z"
   },
   {
    "duration": 32,
    "start_time": "2023-06-30T12:41:55.842Z"
   },
   {
    "duration": 34,
    "start_time": "2023-06-30T12:42:05.947Z"
   },
   {
    "duration": 4,
    "start_time": "2023-06-30T12:50:43.101Z"
   },
   {
    "duration": 11,
    "start_time": "2023-06-30T12:51:16.665Z"
   },
   {
    "duration": 1415,
    "start_time": "2023-06-30T12:53:20.103Z"
   },
   {
    "duration": 10,
    "start_time": "2023-06-30T12:56:09.926Z"
   },
   {
    "duration": 909,
    "start_time": "2023-06-30T12:56:49.791Z"
   },
   {
    "duration": 9,
    "start_time": "2023-06-30T12:56:54.929Z"
   },
   {
    "duration": 8,
    "start_time": "2023-06-30T12:57:42.814Z"
   },
   {
    "duration": 4,
    "start_time": "2023-06-30T13:01:21.968Z"
   },
   {
    "duration": 90,
    "start_time": "2023-06-30T13:03:53.088Z"
   },
   {
    "duration": 3,
    "start_time": "2023-06-30T13:07:04.860Z"
   },
   {
    "duration": 4,
    "start_time": "2023-06-30T13:07:05.239Z"
   },
   {
    "duration": 25,
    "start_time": "2023-06-30T13:09:08.864Z"
   },
   {
    "duration": 12,
    "start_time": "2023-06-30T13:09:16.441Z"
   },
   {
    "duration": 12,
    "start_time": "2023-06-30T13:09:28.307Z"
   },
   {
    "duration": 13,
    "start_time": "2023-06-30T13:11:01.445Z"
   },
   {
    "duration": 23,
    "start_time": "2023-06-30T13:11:16.405Z"
   },
   {
    "duration": 156,
    "start_time": "2023-06-30T13:14:14.296Z"
   },
   {
    "duration": 170,
    "start_time": "2023-06-30T13:14:20.858Z"
   },
   {
    "duration": 24,
    "start_time": "2023-06-30T13:14:30.224Z"
   },
   {
    "duration": 106,
    "start_time": "2023-06-30T13:14:37.000Z"
   },
   {
    "duration": 581,
    "start_time": "2023-06-30T13:14:46.549Z"
   },
   {
    "duration": 148,
    "start_time": "2023-06-30T13:14:52.296Z"
   },
   {
    "duration": 23,
    "start_time": "2023-06-30T13:15:07.710Z"
   },
   {
    "duration": 26,
    "start_time": "2023-06-30T13:15:12.829Z"
   },
   {
    "duration": 45,
    "start_time": "2023-06-30T13:15:21.764Z"
   },
   {
    "duration": 4,
    "start_time": "2023-06-30T13:15:28.820Z"
   },
   {
    "duration": 5,
    "start_time": "2023-06-30T13:15:32.043Z"
   },
   {
    "duration": 173,
    "start_time": "2023-06-30T13:15:44.248Z"
   },
   {
    "duration": 25,
    "start_time": "2023-06-30T13:15:49.509Z"
   },
   {
    "duration": 121,
    "start_time": "2023-06-30T13:15:52.217Z"
   },
   {
    "duration": 14,
    "start_time": "2023-06-30T13:29:25.786Z"
   },
   {
    "duration": 24,
    "start_time": "2023-06-30T13:29:44.056Z"
   },
   {
    "duration": 17,
    "start_time": "2023-06-30T13:30:01.783Z"
   },
   {
    "duration": 43,
    "start_time": "2023-07-02T16:10:40.412Z"
   },
   {
    "duration": 7,
    "start_time": "2023-07-02T16:10:50.543Z"
   },
   {
    "duration": 6,
    "start_time": "2023-07-02T16:10:51.897Z"
   },
   {
    "duration": 1212,
    "start_time": "2023-07-02T16:10:54.256Z"
   },
   {
    "duration": 4,
    "start_time": "2023-07-02T16:10:55.470Z"
   },
   {
    "duration": 3307,
    "start_time": "2023-07-02T16:10:56.104Z"
   },
   {
    "duration": 27,
    "start_time": "2023-07-02T16:10:59.412Z"
   },
   {
    "duration": 19,
    "start_time": "2023-07-02T16:10:59.440Z"
   },
   {
    "duration": 32,
    "start_time": "2023-07-02T16:10:59.460Z"
   },
   {
    "duration": 2,
    "start_time": "2023-07-02T16:10:59.495Z"
   },
   {
    "duration": 10,
    "start_time": "2023-07-02T16:10:59.499Z"
   },
   {
    "duration": 6,
    "start_time": "2023-07-02T16:10:59.510Z"
   },
   {
    "duration": 8,
    "start_time": "2023-07-02T16:10:59.517Z"
   },
   {
    "duration": 72,
    "start_time": "2023-07-02T16:16:16.148Z"
   },
   {
    "duration": 10,
    "start_time": "2023-07-02T16:16:24.262Z"
   },
   {
    "duration": 1839,
    "start_time": "2023-07-02T16:16:38.515Z"
   },
   {
    "duration": 5,
    "start_time": "2023-07-02T16:16:51.149Z"
   },
   {
    "duration": 1242,
    "start_time": "2023-07-03T06:53:49.102Z"
   },
   {
    "duration": 4,
    "start_time": "2023-07-03T06:53:51.021Z"
   },
   {
    "duration": 4177,
    "start_time": "2023-07-03T06:53:51.206Z"
   },
   {
    "duration": 45,
    "start_time": "2023-07-03T06:53:55.386Z"
   },
   {
    "duration": 22,
    "start_time": "2023-07-03T06:53:55.432Z"
   },
   {
    "duration": 42,
    "start_time": "2023-07-03T06:53:55.470Z"
   },
   {
    "duration": 7,
    "start_time": "2023-07-03T06:53:55.514Z"
   },
   {
    "duration": 15,
    "start_time": "2023-07-03T06:53:55.522Z"
   },
   {
    "duration": 5,
    "start_time": "2023-07-03T06:53:55.539Z"
   },
   {
    "duration": 20,
    "start_time": "2023-07-03T06:53:55.545Z"
   },
   {
    "duration": 18,
    "start_time": "2023-07-03T06:53:55.569Z"
   },
   {
    "duration": 5,
    "start_time": "2023-07-03T06:53:55.590Z"
   },
   {
    "duration": 6,
    "start_time": "2023-07-03T07:30:05.720Z"
   },
   {
    "duration": 247,
    "start_time": "2023-07-03T07:38:24.637Z"
   },
   {
    "duration": 4,
    "start_time": "2023-07-03T07:46:14.757Z"
   },
   {
    "duration": 1638,
    "start_time": "2023-07-03T07:46:15.354Z"
   },
   {
    "duration": 31,
    "start_time": "2023-07-03T07:46:16.994Z"
   },
   {
    "duration": 23,
    "start_time": "2023-07-03T07:46:17.027Z"
   },
   {
    "duration": 63,
    "start_time": "2023-07-03T07:46:17.642Z"
   },
   {
    "duration": 5,
    "start_time": "2023-07-03T07:51:44.206Z"
   },
   {
    "duration": 14,
    "start_time": "2023-07-03T07:52:01.495Z"
   },
   {
    "duration": 8,
    "start_time": "2023-07-03T07:52:48.414Z"
   },
   {
    "duration": 6,
    "start_time": "2023-07-03T07:54:56.283Z"
   },
   {
    "duration": 3,
    "start_time": "2023-07-03T07:56:50.052Z"
   },
   {
    "duration": 4,
    "start_time": "2023-07-03T07:56:57.745Z"
   },
   {
    "duration": 158,
    "start_time": "2023-07-03T08:04:13.438Z"
   },
   {
    "duration": 13,
    "start_time": "2023-07-03T08:04:25.676Z"
   },
   {
    "duration": 12,
    "start_time": "2023-07-03T08:04:28.533Z"
   },
   {
    "duration": 14,
    "start_time": "2023-07-03T08:04:44.504Z"
   },
   {
    "duration": 5,
    "start_time": "2023-07-03T08:04:50.130Z"
   },
   {
    "duration": 4,
    "start_time": "2023-07-03T08:05:17.889Z"
   },
   {
    "duration": 6,
    "start_time": "2023-07-03T08:05:58.547Z"
   },
   {
    "duration": 15,
    "start_time": "2023-07-03T08:09:19.997Z"
   },
   {
    "duration": 13,
    "start_time": "2023-07-03T08:09:31.075Z"
   },
   {
    "duration": 25,
    "start_time": "2023-07-03T08:10:21.181Z"
   },
   {
    "duration": 12,
    "start_time": "2023-07-03T08:11:46.745Z"
   },
   {
    "duration": 18,
    "start_time": "2023-07-03T08:11:58.747Z"
   },
   {
    "duration": 14,
    "start_time": "2023-07-03T08:12:00.944Z"
   },
   {
    "duration": 40,
    "start_time": "2023-07-03T08:14:23.146Z"
   },
   {
    "duration": 159,
    "start_time": "2023-07-03T08:23:18.439Z"
   },
   {
    "duration": 18,
    "start_time": "2023-07-03T08:24:07.422Z"
   },
   {
    "duration": 31,
    "start_time": "2023-07-03T08:25:10.147Z"
   },
   {
    "duration": 16,
    "start_time": "2023-07-03T08:25:27.429Z"
   },
   {
    "duration": 247,
    "start_time": "2023-07-03T08:25:41.580Z"
   },
   {
    "duration": 270,
    "start_time": "2023-07-03T08:25:57.487Z"
   },
   {
    "duration": 305,
    "start_time": "2023-07-03T08:26:11.248Z"
   },
   {
    "duration": 214,
    "start_time": "2023-07-03T08:26:17.821Z"
   },
   {
    "duration": 266,
    "start_time": "2023-07-03T08:26:39.844Z"
   },
   {
    "duration": 21,
    "start_time": "2023-07-03T08:34:48.773Z"
   },
   {
    "duration": 7,
    "start_time": "2023-07-03T08:34:59.995Z"
   },
   {
    "duration": 16,
    "start_time": "2023-07-03T08:35:05.786Z"
   },
   {
    "duration": 14,
    "start_time": "2023-07-03T08:36:27.206Z"
   },
   {
    "duration": 36,
    "start_time": "2023-07-03T08:36:46.261Z"
   },
   {
    "duration": 19,
    "start_time": "2023-07-03T08:37:28.194Z"
   },
   {
    "duration": 48,
    "start_time": "2023-07-03T08:37:32.590Z"
   },
   {
    "duration": 1178,
    "start_time": "2023-07-03T08:37:44.217Z"
   },
   {
    "duration": 875,
    "start_time": "2023-07-03T08:37:45.400Z"
   },
   {
    "duration": 35,
    "start_time": "2023-07-03T08:37:46.279Z"
   },
   {
    "duration": 21,
    "start_time": "2023-07-03T08:37:46.316Z"
   },
   {
    "duration": 33,
    "start_time": "2023-07-03T08:37:46.340Z"
   },
   {
    "duration": 8,
    "start_time": "2023-07-03T08:37:46.375Z"
   },
   {
    "duration": 16,
    "start_time": "2023-07-03T08:37:46.384Z"
   },
   {
    "duration": 18,
    "start_time": "2023-07-03T08:37:46.402Z"
   },
   {
    "duration": 7,
    "start_time": "2023-07-03T08:37:46.422Z"
   },
   {
    "duration": 38,
    "start_time": "2023-07-03T08:37:46.431Z"
   },
   {
    "duration": 23,
    "start_time": "2023-07-03T08:37:46.471Z"
   },
   {
    "duration": 28,
    "start_time": "2023-07-03T08:37:46.496Z"
   },
   {
    "duration": 11,
    "start_time": "2023-07-03T08:37:46.526Z"
   },
   {
    "duration": 21,
    "start_time": "2023-07-03T08:37:46.539Z"
   },
   {
    "duration": 15,
    "start_time": "2023-07-03T08:37:46.566Z"
   },
   {
    "duration": 19,
    "start_time": "2023-07-03T08:37:46.583Z"
   },
   {
    "duration": 40,
    "start_time": "2023-07-03T08:37:46.604Z"
   },
   {
    "duration": 25,
    "start_time": "2023-07-03T08:37:46.646Z"
   },
   {
    "duration": 15,
    "start_time": "2023-07-03T08:37:46.678Z"
   },
   {
    "duration": 26,
    "start_time": "2023-07-03T08:37:46.698Z"
   },
   {
    "duration": 15,
    "start_time": "2023-07-03T08:37:46.726Z"
   },
   {
    "duration": 164,
    "start_time": "2023-07-03T08:37:46.743Z"
   },
   {
    "duration": 31,
    "start_time": "2023-07-03T08:37:46.910Z"
   },
   {
    "duration": 136,
    "start_time": "2023-07-03T08:37:46.943Z"
   },
   {
    "duration": 109,
    "start_time": "2023-07-03T08:37:47.084Z"
   },
   {
    "duration": 10,
    "start_time": "2023-07-03T08:41:02.809Z"
   },
   {
    "duration": 15,
    "start_time": "2023-07-03T08:41:03.556Z"
   },
   {
    "duration": 12,
    "start_time": "2023-07-03T08:41:11.496Z"
   },
   {
    "duration": 11,
    "start_time": "2023-07-03T08:41:36.430Z"
   },
   {
    "duration": 15,
    "start_time": "2023-07-03T08:42:40.049Z"
   },
   {
    "duration": 1142,
    "start_time": "2023-07-03T08:43:01.438Z"
   },
   {
    "duration": 824,
    "start_time": "2023-07-03T08:43:02.589Z"
   },
   {
    "duration": 30,
    "start_time": "2023-07-03T08:43:03.415Z"
   },
   {
    "duration": 43,
    "start_time": "2023-07-03T08:43:03.447Z"
   },
   {
    "duration": 26,
    "start_time": "2023-07-03T08:43:03.494Z"
   },
   {
    "duration": 22,
    "start_time": "2023-07-03T08:43:03.522Z"
   },
   {
    "duration": 42,
    "start_time": "2023-07-03T08:43:03.545Z"
   },
   {
    "duration": 24,
    "start_time": "2023-07-03T08:43:03.589Z"
   },
   {
    "duration": 7,
    "start_time": "2023-07-03T08:43:03.614Z"
   },
   {
    "duration": 27,
    "start_time": "2023-07-03T08:43:03.622Z"
   },
   {
    "duration": 29,
    "start_time": "2023-07-03T08:43:03.651Z"
   },
   {
    "duration": 23,
    "start_time": "2023-07-03T08:43:03.687Z"
   },
   {
    "duration": 9,
    "start_time": "2023-07-03T08:43:03.712Z"
   },
   {
    "duration": 20,
    "start_time": "2023-07-03T08:43:03.724Z"
   },
   {
    "duration": 9,
    "start_time": "2023-07-03T08:43:03.746Z"
   },
   {
    "duration": 13,
    "start_time": "2023-07-03T08:43:03.756Z"
   },
   {
    "duration": 17,
    "start_time": "2023-07-03T08:43:03.770Z"
   },
   {
    "duration": 10,
    "start_time": "2023-07-03T08:43:03.789Z"
   },
   {
    "duration": 19,
    "start_time": "2023-07-03T08:43:03.800Z"
   },
   {
    "duration": 10,
    "start_time": "2023-07-03T08:43:03.821Z"
   },
   {
    "duration": 160,
    "start_time": "2023-07-03T08:43:03.832Z"
   },
   {
    "duration": 22,
    "start_time": "2023-07-03T08:43:03.994Z"
   },
   {
    "duration": 130,
    "start_time": "2023-07-03T08:43:04.018Z"
   },
   {
    "duration": 135,
    "start_time": "2023-07-03T08:43:04.150Z"
   },
   {
    "duration": 9,
    "start_time": "2023-07-03T08:54:38.497Z"
   },
   {
    "duration": 18,
    "start_time": "2023-07-03T08:54:44.273Z"
   },
   {
    "duration": 1286,
    "start_time": "2023-07-03T08:55:29.740Z"
   },
   {
    "duration": 815,
    "start_time": "2023-07-03T08:55:31.028Z"
   },
   {
    "duration": 40,
    "start_time": "2023-07-03T08:55:31.845Z"
   },
   {
    "duration": 23,
    "start_time": "2023-07-03T08:55:31.887Z"
   },
   {
    "duration": 48,
    "start_time": "2023-07-03T08:55:31.912Z"
   },
   {
    "duration": 31,
    "start_time": "2023-07-03T08:55:31.963Z"
   },
   {
    "duration": 34,
    "start_time": "2023-07-03T08:55:31.996Z"
   },
   {
    "duration": 43,
    "start_time": "2023-07-03T08:55:32.032Z"
   },
   {
    "duration": 25,
    "start_time": "2023-07-03T08:55:32.077Z"
   },
   {
    "duration": 18,
    "start_time": "2023-07-03T08:55:32.104Z"
   },
   {
    "duration": 24,
    "start_time": "2023-07-03T08:55:32.123Z"
   },
   {
    "duration": 49,
    "start_time": "2023-07-03T08:55:32.148Z"
   },
   {
    "duration": 10,
    "start_time": "2023-07-03T08:55:32.199Z"
   },
   {
    "duration": 26,
    "start_time": "2023-07-03T08:55:32.211Z"
   },
   {
    "duration": 11,
    "start_time": "2023-07-03T08:55:32.238Z"
   },
   {
    "duration": 10,
    "start_time": "2023-07-03T08:55:32.251Z"
   },
   {
    "duration": 21,
    "start_time": "2023-07-03T08:55:32.263Z"
   },
   {
    "duration": 20,
    "start_time": "2023-07-03T08:55:32.285Z"
   },
   {
    "duration": 18,
    "start_time": "2023-07-03T08:55:32.306Z"
   },
   {
    "duration": 156,
    "start_time": "2023-07-03T08:55:32.326Z"
   },
   {
    "duration": 31,
    "start_time": "2023-07-03T08:55:32.484Z"
   },
   {
    "duration": 115,
    "start_time": "2023-07-03T08:55:32.517Z"
   },
   {
    "duration": 109,
    "start_time": "2023-07-03T08:55:32.634Z"
   },
   {
    "duration": 24,
    "start_time": "2023-07-03T08:55:53.003Z"
   },
   {
    "duration": 11,
    "start_time": "2023-07-03T08:56:12.928Z"
   },
   {
    "duration": 8,
    "start_time": "2023-07-03T08:56:29.739Z"
   },
   {
    "duration": 10,
    "start_time": "2023-07-03T08:56:35.574Z"
   },
   {
    "duration": 131,
    "start_time": "2023-07-03T08:56:56.138Z"
   },
   {
    "duration": 24,
    "start_time": "2023-07-03T08:56:56.277Z"
   },
   {
    "duration": 94,
    "start_time": "2023-07-03T08:56:56.728Z"
   },
   {
    "duration": 14,
    "start_time": "2023-07-03T12:07:40.784Z"
   },
   {
    "duration": 6,
    "start_time": "2023-07-03T12:07:44.030Z"
   },
   {
    "duration": 176,
    "start_time": "2023-07-03T12:07:44.345Z"
   },
   {
    "duration": 222,
    "start_time": "2023-07-03T12:08:10.459Z"
   },
   {
    "duration": 199,
    "start_time": "2023-07-03T12:08:15.350Z"
   },
   {
    "duration": 194,
    "start_time": "2023-07-03T12:08:28.680Z"
   },
   {
    "duration": 205,
    "start_time": "2023-07-03T12:08:34.323Z"
   },
   {
    "duration": 219,
    "start_time": "2023-07-03T12:08:41.312Z"
   },
   {
    "duration": 6,
    "start_time": "2023-07-03T12:10:02.298Z"
   },
   {
    "duration": 6,
    "start_time": "2023-07-03T12:10:12.927Z"
   },
   {
    "duration": 6,
    "start_time": "2023-07-03T12:10:23.795Z"
   },
   {
    "duration": 10,
    "start_time": "2023-07-03T12:10:28.173Z"
   },
   {
    "duration": 14,
    "start_time": "2023-07-03T12:10:31.656Z"
   },
   {
    "duration": 7,
    "start_time": "2023-07-03T12:10:36.480Z"
   },
   {
    "duration": 16,
    "start_time": "2023-07-03T12:10:47.056Z"
   },
   {
    "duration": 10,
    "start_time": "2023-07-03T12:11:08.640Z"
   },
   {
    "duration": 12,
    "start_time": "2023-07-03T12:12:20.610Z"
   },
   {
    "duration": 16,
    "start_time": "2023-07-03T12:12:46.849Z"
   },
   {
    "duration": 14,
    "start_time": "2023-07-03T12:12:54.712Z"
   },
   {
    "duration": 18,
    "start_time": "2023-07-03T12:13:13.575Z"
   },
   {
    "duration": 9,
    "start_time": "2023-07-03T12:13:25.515Z"
   },
   {
    "duration": 104,
    "start_time": "2023-07-03T12:13:55.957Z"
   },
   {
    "duration": 15,
    "start_time": "2023-07-03T12:14:05.749Z"
   },
   {
    "duration": 1176,
    "start_time": "2023-07-03T12:14:18.670Z"
   },
   {
    "duration": 875,
    "start_time": "2023-07-03T12:14:19.849Z"
   },
   {
    "duration": 48,
    "start_time": "2023-07-03T12:14:20.725Z"
   },
   {
    "duration": 29,
    "start_time": "2023-07-03T12:14:20.775Z"
   },
   {
    "duration": 23,
    "start_time": "2023-07-03T12:14:20.806Z"
   },
   {
    "duration": 14,
    "start_time": "2023-07-03T12:14:20.830Z"
   },
   {
    "duration": 25,
    "start_time": "2023-07-03T12:14:20.846Z"
   },
   {
    "duration": 24,
    "start_time": "2023-07-03T12:14:20.873Z"
   },
   {
    "duration": 26,
    "start_time": "2023-07-03T12:14:20.899Z"
   },
   {
    "duration": 41,
    "start_time": "2023-07-03T12:14:20.928Z"
   },
   {
    "duration": 21,
    "start_time": "2023-07-03T12:14:20.974Z"
   },
   {
    "duration": 42,
    "start_time": "2023-07-03T12:14:20.997Z"
   },
   {
    "duration": 16,
    "start_time": "2023-07-03T12:14:21.041Z"
   },
   {
    "duration": 46,
    "start_time": "2023-07-03T12:14:21.060Z"
   },
   {
    "duration": 13,
    "start_time": "2023-07-03T12:14:21.108Z"
   },
   {
    "duration": 28,
    "start_time": "2023-07-03T12:14:21.123Z"
   },
   {
    "duration": 10,
    "start_time": "2023-07-03T12:14:21.153Z"
   },
   {
    "duration": 15,
    "start_time": "2023-07-03T12:14:21.164Z"
   },
   {
    "duration": 34,
    "start_time": "2023-07-03T12:14:21.181Z"
   },
   {
    "duration": 29,
    "start_time": "2023-07-03T12:14:21.217Z"
   },
   {
    "duration": 47,
    "start_time": "2023-07-03T12:14:21.248Z"
   },
   {
    "duration": 13,
    "start_time": "2023-07-03T12:14:21.297Z"
   },
   {
    "duration": 171,
    "start_time": "2023-07-03T12:14:21.312Z"
   },
   {
    "duration": 30,
    "start_time": "2023-07-03T12:14:21.485Z"
   },
   {
    "duration": 118,
    "start_time": "2023-07-03T12:14:21.517Z"
   },
   {
    "duration": 3,
    "start_time": "2023-07-03T12:14:21.637Z"
   },
   {
    "duration": 237,
    "start_time": "2023-07-03T12:14:21.642Z"
   },
   {
    "duration": 12,
    "start_time": "2023-07-03T12:14:21.889Z"
   },
   {
    "duration": 140,
    "start_time": "2023-07-03T12:14:21.902Z"
   },
   {
    "duration": 1697,
    "start_time": "2023-07-03T12:14:54.852Z"
   },
   {
    "duration": 11,
    "start_time": "2023-07-03T12:15:04.733Z"
   },
   {
    "duration": 1644,
    "start_time": "2023-07-03T12:15:18.319Z"
   },
   {
    "duration": 1617,
    "start_time": "2023-07-03T12:15:33.648Z"
   },
   {
    "duration": 11,
    "start_time": "2023-07-03T12:16:01.313Z"
   },
   {
    "duration": 14,
    "start_time": "2023-07-03T12:16:12.482Z"
   },
   {
    "duration": 10,
    "start_time": "2023-07-03T12:16:19.214Z"
   },
   {
    "duration": 13,
    "start_time": "2023-07-03T12:16:25.240Z"
   },
   {
    "duration": 9,
    "start_time": "2023-07-03T12:17:13.721Z"
   },
   {
    "duration": 1687,
    "start_time": "2023-07-03T12:17:35.327Z"
   },
   {
    "duration": 9,
    "start_time": "2023-07-03T12:17:41.280Z"
   },
   {
    "duration": 1512,
    "start_time": "2023-07-03T12:18:42.191Z"
   },
   {
    "duration": 10,
    "start_time": "2023-07-03T12:18:47.618Z"
   },
   {
    "duration": 97,
    "start_time": "2023-07-03T12:19:26.848Z"
   },
   {
    "duration": 4,
    "start_time": "2023-07-03T12:21:38.904Z"
   },
   {
    "duration": 4287,
    "start_time": "2023-07-03T12:21:42.206Z"
   },
   {
    "duration": 26,
    "start_time": "2023-07-03T12:23:33.513Z"
   },
   {
    "duration": 136,
    "start_time": "2023-07-03T12:23:58.747Z"
   },
   {
    "duration": 3,
    "start_time": "2023-07-03T12:24:15.222Z"
   },
   {
    "duration": 116,
    "start_time": "2023-07-03T12:24:26.581Z"
   },
   {
    "duration": 244,
    "start_time": "2023-07-03T12:25:46.102Z"
   },
   {
    "duration": 134,
    "start_time": "2023-07-03T12:25:55.377Z"
   },
   {
    "duration": 128,
    "start_time": "2023-07-03T12:26:47.018Z"
   },
   {
    "duration": 266,
    "start_time": "2023-07-03T12:26:54.240Z"
   },
   {
    "duration": 1454,
    "start_time": "2023-07-03T12:27:09.809Z"
   },
   {
    "duration": 854,
    "start_time": "2023-07-03T12:27:11.272Z"
   },
   {
    "duration": 45,
    "start_time": "2023-07-03T12:27:12.128Z"
   },
   {
    "duration": 25,
    "start_time": "2023-07-03T12:27:12.176Z"
   },
   {
    "duration": 56,
    "start_time": "2023-07-03T12:27:12.204Z"
   },
   {
    "duration": 17,
    "start_time": "2023-07-03T12:27:12.266Z"
   },
   {
    "duration": 12,
    "start_time": "2023-07-03T12:27:12.286Z"
   },
   {
    "duration": 43,
    "start_time": "2023-07-03T12:27:12.300Z"
   },
   {
    "duration": 14,
    "start_time": "2023-07-03T12:27:12.344Z"
   },
   {
    "duration": 12,
    "start_time": "2023-07-03T12:27:12.360Z"
   },
   {
    "duration": 10,
    "start_time": "2023-07-03T12:27:12.376Z"
   },
   {
    "duration": 23,
    "start_time": "2023-07-03T12:27:12.389Z"
   },
   {
    "duration": 11,
    "start_time": "2023-07-03T12:27:12.415Z"
   },
   {
    "duration": 20,
    "start_time": "2023-07-03T12:27:12.429Z"
   },
   {
    "duration": 27,
    "start_time": "2023-07-03T12:27:12.461Z"
   },
   {
    "duration": 11,
    "start_time": "2023-07-03T12:27:12.490Z"
   },
   {
    "duration": 11,
    "start_time": "2023-07-03T12:27:12.503Z"
   },
   {
    "duration": 12,
    "start_time": "2023-07-03T12:27:12.516Z"
   },
   {
    "duration": 17,
    "start_time": "2023-07-03T12:27:12.529Z"
   },
   {
    "duration": 21,
    "start_time": "2023-07-03T12:27:12.548Z"
   },
   {
    "duration": 29,
    "start_time": "2023-07-03T12:27:12.570Z"
   },
   {
    "duration": 12,
    "start_time": "2023-07-03T12:27:12.600Z"
   },
   {
    "duration": 162,
    "start_time": "2023-07-03T12:27:12.613Z"
   },
   {
    "duration": 26,
    "start_time": "2023-07-03T12:27:12.783Z"
   },
   {
    "duration": 105,
    "start_time": "2023-07-03T12:27:12.810Z"
   },
   {
    "duration": 4,
    "start_time": "2023-07-03T12:27:12.916Z"
   },
   {
    "duration": 210,
    "start_time": "2023-07-03T12:27:12.921Z"
   },
   {
    "duration": 7,
    "start_time": "2023-07-03T12:27:13.133Z"
   },
   {
    "duration": 28,
    "start_time": "2023-07-03T12:27:13.142Z"
   },
   {
    "duration": 255,
    "start_time": "2023-07-03T12:27:13.172Z"
   },
   {
    "duration": 150,
    "start_time": "2023-07-03T12:27:13.429Z"
   },
   {
    "duration": 132,
    "start_time": "2023-07-03T12:27:23.305Z"
   },
   {
    "duration": 131,
    "start_time": "2023-07-03T12:27:28.500Z"
   },
   {
    "duration": 128,
    "start_time": "2023-07-03T12:28:14.399Z"
   },
   {
    "duration": 112,
    "start_time": "2023-07-03T12:28:19.527Z"
   },
   {
    "duration": 120,
    "start_time": "2023-07-03T12:29:07.416Z"
   },
   {
    "duration": 125,
    "start_time": "2023-07-03T12:30:17.214Z"
   },
   {
    "duration": 124,
    "start_time": "2023-07-03T12:30:32.325Z"
   },
   {
    "duration": 220,
    "start_time": "2023-07-03T12:30:38.810Z"
   },
   {
    "duration": 137,
    "start_time": "2023-07-03T12:30:45.750Z"
   },
   {
    "duration": 118,
    "start_time": "2023-07-03T12:30:55.406Z"
   },
   {
    "duration": 148,
    "start_time": "2023-07-03T12:31:04.301Z"
   },
   {
    "duration": 139,
    "start_time": "2023-07-03T12:31:13.498Z"
   },
   {
    "duration": 164,
    "start_time": "2023-07-03T12:32:14.050Z"
   },
   {
    "duration": 115,
    "start_time": "2023-07-03T12:32:18.219Z"
   },
   {
    "duration": 124,
    "start_time": "2023-07-03T12:32:23.309Z"
   },
   {
    "duration": 120,
    "start_time": "2023-07-03T12:32:28.627Z"
   },
   {
    "duration": 133,
    "start_time": "2023-07-03T12:32:34.298Z"
   },
   {
    "duration": 131,
    "start_time": "2023-07-03T12:32:38.998Z"
   },
   {
    "duration": 136,
    "start_time": "2023-07-03T12:32:41.967Z"
   },
   {
    "duration": 104,
    "start_time": "2023-07-03T12:34:39.831Z"
   },
   {
    "duration": 221,
    "start_time": "2023-07-03T12:34:43.115Z"
   },
   {
    "duration": 130,
    "start_time": "2023-07-03T12:34:45.313Z"
   },
   {
    "duration": 123,
    "start_time": "2023-07-03T12:34:52.512Z"
   },
   {
    "duration": 127,
    "start_time": "2023-07-03T12:35:09.082Z"
   },
   {
    "duration": 134,
    "start_time": "2023-07-03T12:49:21.443Z"
   },
   {
    "duration": 116,
    "start_time": "2023-07-03T12:49:28.725Z"
   },
   {
    "duration": 113,
    "start_time": "2023-07-03T12:50:05.833Z"
   },
   {
    "duration": 136,
    "start_time": "2023-07-03T12:50:15.388Z"
   },
   {
    "duration": 113,
    "start_time": "2023-07-03T12:50:26.367Z"
   },
   {
    "duration": 119,
    "start_time": "2023-07-03T12:50:29.335Z"
   },
   {
    "duration": 141,
    "start_time": "2023-07-03T12:50:40.856Z"
   },
   {
    "duration": 120,
    "start_time": "2023-07-03T12:50:47.106Z"
   },
   {
    "duration": 117,
    "start_time": "2023-07-03T12:50:50.178Z"
   },
   {
    "duration": 688,
    "start_time": "2023-07-03T12:55:22.285Z"
   },
   {
    "duration": 2344,
    "start_time": "2023-07-03T12:55:38.042Z"
   },
   {
    "duration": 10,
    "start_time": "2023-07-03T12:56:09.585Z"
   },
   {
    "duration": 140,
    "start_time": "2023-07-03T12:56:15.748Z"
   },
   {
    "duration": 8,
    "start_time": "2023-07-03T12:56:23.990Z"
   },
   {
    "duration": 2246,
    "start_time": "2023-07-03T12:56:36.179Z"
   },
   {
    "duration": 2496,
    "start_time": "2023-07-03T13:00:40.033Z"
   },
   {
    "duration": 2396,
    "start_time": "2023-07-03T13:00:52.950Z"
   },
   {
    "duration": 2828,
    "start_time": "2023-07-03T13:01:15.243Z"
   },
   {
    "duration": 778,
    "start_time": "2023-07-03T13:01:45.909Z"
   },
   {
    "duration": 308,
    "start_time": "2023-07-03T13:02:06.341Z"
   },
   {
    "duration": 289,
    "start_time": "2023-07-03T13:05:55.100Z"
   },
   {
    "duration": 474,
    "start_time": "2023-07-03T13:05:59.753Z"
   },
   {
    "duration": 295,
    "start_time": "2023-07-03T13:06:05.102Z"
   },
   {
    "duration": 307,
    "start_time": "2023-07-03T13:06:11.497Z"
   },
   {
    "duration": 293,
    "start_time": "2023-07-03T13:06:17.320Z"
   },
   {
    "duration": 6,
    "start_time": "2023-07-03T13:06:39.421Z"
   },
   {
    "duration": 9,
    "start_time": "2023-07-03T13:06:54.270Z"
   },
   {
    "duration": 1589,
    "start_time": "2023-07-03T13:07:11.915Z"
   },
   {
    "duration": 183,
    "start_time": "2023-07-03T13:07:27.808Z"
   },
   {
    "duration": 21002,
    "start_time": "2023-07-03T13:07:37.034Z"
   },
   {
    "duration": 464,
    "start_time": "2023-07-03T13:08:03.412Z"
   },
   {
    "duration": 2144,
    "start_time": "2023-07-03T13:08:31.503Z"
   },
   {
    "duration": 398,
    "start_time": "2023-07-03T13:08:52.028Z"
   },
   {
    "duration": 421,
    "start_time": "2023-07-03T13:08:58.107Z"
   },
   {
    "duration": 322,
    "start_time": "2023-07-03T13:09:03.169Z"
   },
   {
    "duration": 653,
    "start_time": "2023-07-03T13:09:14.022Z"
   },
   {
    "duration": 462,
    "start_time": "2023-07-03T13:09:45.758Z"
   },
   {
    "duration": 438,
    "start_time": "2023-07-03T13:09:55.223Z"
   },
   {
    "duration": 918,
    "start_time": "2023-07-03T13:10:22.959Z"
   },
   {
    "duration": 1189,
    "start_time": "2023-07-03T13:13:23.714Z"
   },
   {
    "duration": 1421,
    "start_time": "2023-07-03T13:13:44.312Z"
   },
   {
    "duration": 1183,
    "start_time": "2023-07-03T13:16:21.613Z"
   },
   {
    "duration": 1409,
    "start_time": "2023-07-03T13:16:43.130Z"
   },
   {
    "duration": 1222,
    "start_time": "2023-07-03T13:16:51.333Z"
   },
   {
    "duration": 91,
    "start_time": "2023-07-03T13:18:16.355Z"
   },
   {
    "duration": 1236,
    "start_time": "2023-07-03T13:19:49.438Z"
   },
   {
    "duration": 850,
    "start_time": "2023-07-03T16:26:06.806Z"
   },
   {
    "duration": 57,
    "start_time": "2023-07-04T14:30:23.706Z"
   },
   {
    "duration": 1814,
    "start_time": "2023-07-04T14:30:31.662Z"
   },
   {
    "duration": 2233,
    "start_time": "2023-07-04T14:30:33.478Z"
   },
   {
    "duration": 24,
    "start_time": "2023-07-04T14:30:35.712Z"
   },
   {
    "duration": 31,
    "start_time": "2023-07-04T14:30:35.737Z"
   },
   {
    "duration": 28,
    "start_time": "2023-07-04T14:30:35.770Z"
   },
   {
    "duration": 16,
    "start_time": "2023-07-04T14:30:35.799Z"
   },
   {
    "duration": 21,
    "start_time": "2023-07-04T14:30:35.816Z"
   },
   {
    "duration": 19,
    "start_time": "2023-07-04T14:30:35.838Z"
   },
   {
    "duration": 6,
    "start_time": "2023-07-04T14:30:35.858Z"
   },
   {
    "duration": 4,
    "start_time": "2023-07-04T14:30:35.866Z"
   },
   {
    "duration": 19,
    "start_time": "2023-07-04T14:30:35.871Z"
   },
   {
    "duration": 23,
    "start_time": "2023-07-04T14:30:35.892Z"
   },
   {
    "duration": 8,
    "start_time": "2023-07-04T14:30:35.917Z"
   },
   {
    "duration": 36,
    "start_time": "2023-07-04T14:30:35.928Z"
   },
   {
    "duration": 16,
    "start_time": "2023-07-04T14:30:35.965Z"
   },
   {
    "duration": 18,
    "start_time": "2023-07-04T14:30:35.982Z"
   },
   {
    "duration": 7,
    "start_time": "2023-07-04T14:30:36.001Z"
   },
   {
    "duration": 6,
    "start_time": "2023-07-04T14:30:36.010Z"
   },
   {
    "duration": 8,
    "start_time": "2023-07-04T14:30:36.017Z"
   },
   {
    "duration": 11,
    "start_time": "2023-07-04T14:30:36.026Z"
   },
   {
    "duration": 52,
    "start_time": "2023-07-04T14:30:36.039Z"
   },
   {
    "duration": 10,
    "start_time": "2023-07-04T14:30:36.093Z"
   },
   {
    "duration": 149,
    "start_time": "2023-07-04T14:30:36.104Z"
   },
   {
    "duration": 38,
    "start_time": "2023-07-04T14:30:36.256Z"
   },
   {
    "duration": 138,
    "start_time": "2023-07-04T14:30:36.296Z"
   },
   {
    "duration": 6,
    "start_time": "2023-07-04T14:30:36.436Z"
   },
   {
    "duration": 201,
    "start_time": "2023-07-04T14:30:36.444Z"
   },
   {
    "duration": 9,
    "start_time": "2023-07-04T14:30:36.647Z"
   },
   {
    "duration": 20,
    "start_time": "2023-07-04T14:30:36.657Z"
   },
   {
    "duration": 127,
    "start_time": "2023-07-04T14:30:36.678Z"
   },
   {
    "duration": 105,
    "start_time": "2023-07-04T14:30:36.807Z"
   },
   {
    "duration": 1045,
    "start_time": "2023-07-04T14:30:36.914Z"
   },
   {
    "duration": 1074,
    "start_time": "2023-07-04T14:30:37.961Z"
   },
   {
    "duration": 963,
    "start_time": "2023-07-04T14:30:39.037Z"
   },
   {
    "duration": 747,
    "start_time": "2023-07-04T14:30:40.002Z"
   },
   {
    "duration": 5,
    "start_time": "2023-07-04T14:30:40.750Z"
   },
   {
    "duration": 5,
    "start_time": "2023-07-04T14:30:55.614Z"
   },
   {
    "duration": 5,
    "start_time": "2023-07-04T14:31:01.069Z"
   },
   {
    "duration": 4,
    "start_time": "2023-07-04T14:31:05.946Z"
   },
   {
    "duration": 590,
    "start_time": "2023-07-04T14:31:40.437Z"
   },
   {
    "duration": 503,
    "start_time": "2023-07-04T14:31:57.622Z"
   },
   {
    "duration": 8,
    "start_time": "2023-07-04T14:46:36.995Z"
   },
   {
    "duration": 7,
    "start_time": "2023-07-04T14:46:41.527Z"
   },
   {
    "duration": 5,
    "start_time": "2023-07-04T14:46:48.631Z"
   },
   {
    "duration": 108,
    "start_time": "2023-07-04T14:47:45.569Z"
   },
   {
    "duration": 875,
    "start_time": "2023-07-04T14:48:04.823Z"
   },
   {
    "duration": 66,
    "start_time": "2023-07-04T14:48:33.933Z"
   },
   {
    "duration": 1014,
    "start_time": "2023-07-04T14:49:00.361Z"
   },
   {
    "duration": 952,
    "start_time": "2023-07-04T14:49:09.627Z"
   },
   {
    "duration": 864,
    "start_time": "2023-07-04T14:51:34.803Z"
   },
   {
    "duration": 526,
    "start_time": "2023-07-04T14:51:49.433Z"
   },
   {
    "duration": 380,
    "start_time": "2023-07-04T14:52:05.703Z"
   },
   {
    "duration": 442,
    "start_time": "2023-07-04T14:52:13.190Z"
   },
   {
    "duration": 3,
    "start_time": "2023-07-04T14:56:21.047Z"
   },
   {
    "duration": 20,
    "start_time": "2023-07-04T14:56:30.593Z"
   },
   {
    "duration": 28,
    "start_time": "2023-07-04T14:56:35.897Z"
   },
   {
    "duration": 22,
    "start_time": "2023-07-04T14:56:50.152Z"
   },
   {
    "duration": 914,
    "start_time": "2023-07-04T14:56:58.233Z"
   },
   {
    "duration": 18,
    "start_time": "2023-07-04T15:04:44.973Z"
   },
   {
    "duration": 18,
    "start_time": "2023-07-04T15:05:23.555Z"
   },
   {
    "duration": 966,
    "start_time": "2023-07-04T15:05:39.372Z"
   },
   {
    "duration": 542,
    "start_time": "2023-07-04T15:06:11.860Z"
   },
   {
    "duration": 5,
    "start_time": "2023-07-04T15:07:00.750Z"
   },
   {
    "duration": 23,
    "start_time": "2023-07-04T15:07:47.641Z"
   },
   {
    "duration": 1434,
    "start_time": "2023-07-04T15:08:49.903Z"
   },
   {
    "duration": 905,
    "start_time": "2023-07-04T15:08:51.339Z"
   },
   {
    "duration": 34,
    "start_time": "2023-07-04T15:08:52.246Z"
   },
   {
    "duration": 36,
    "start_time": "2023-07-04T15:08:52.284Z"
   },
   {
    "duration": 22,
    "start_time": "2023-07-04T15:08:52.323Z"
   },
   {
    "duration": 7,
    "start_time": "2023-07-04T15:08:52.347Z"
   },
   {
    "duration": 14,
    "start_time": "2023-07-04T15:08:52.355Z"
   },
   {
    "duration": 50,
    "start_time": "2023-07-04T15:08:52.371Z"
   },
   {
    "duration": 13,
    "start_time": "2023-07-04T15:08:52.424Z"
   },
   {
    "duration": 3,
    "start_time": "2023-07-04T15:08:52.440Z"
   },
   {
    "duration": 11,
    "start_time": "2023-07-04T15:08:52.445Z"
   },
   {
    "duration": 42,
    "start_time": "2023-07-04T15:08:52.458Z"
   },
   {
    "duration": 14,
    "start_time": "2023-07-04T15:08:52.507Z"
   },
   {
    "duration": 23,
    "start_time": "2023-07-04T15:08:52.526Z"
   },
   {
    "duration": 10,
    "start_time": "2023-07-04T15:08:52.550Z"
   },
   {
    "duration": 49,
    "start_time": "2023-07-04T15:08:52.561Z"
   },
   {
    "duration": 27,
    "start_time": "2023-07-04T15:08:52.612Z"
   },
   {
    "duration": 8,
    "start_time": "2023-07-04T15:08:52.641Z"
   },
   {
    "duration": 13,
    "start_time": "2023-07-04T15:08:52.651Z"
   },
   {
    "duration": 18,
    "start_time": "2023-07-04T15:08:52.666Z"
   },
   {
    "duration": 47,
    "start_time": "2023-07-04T15:08:52.690Z"
   },
   {
    "duration": 11,
    "start_time": "2023-07-04T15:08:52.739Z"
   },
   {
    "duration": 148,
    "start_time": "2023-07-04T15:08:52.752Z"
   },
   {
    "duration": 26,
    "start_time": "2023-07-04T15:08:52.906Z"
   },
   {
    "duration": 115,
    "start_time": "2023-07-04T15:08:52.933Z"
   },
   {
    "duration": 3,
    "start_time": "2023-07-04T15:08:53.050Z"
   },
   {
    "duration": 262,
    "start_time": "2023-07-04T15:08:53.055Z"
   },
   {
    "duration": 10,
    "start_time": "2023-07-04T15:08:53.320Z"
   },
   {
    "duration": 12,
    "start_time": "2023-07-04T15:08:53.331Z"
   },
   {
    "duration": 157,
    "start_time": "2023-07-04T15:08:53.345Z"
   },
   {
    "duration": 126,
    "start_time": "2023-07-04T15:08:53.507Z"
   },
   {
    "duration": 1435,
    "start_time": "2023-07-04T15:08:53.635Z"
   },
   {
    "duration": 1387,
    "start_time": "2023-07-04T15:08:55.074Z"
   },
   {
    "duration": 1246,
    "start_time": "2023-07-04T15:08:56.464Z"
   },
   {
    "duration": 871,
    "start_time": "2023-07-04T15:08:57.712Z"
   },
   {
    "duration": 453,
    "start_time": "2023-07-04T15:08:58.585Z"
   },
   {
    "duration": 7,
    "start_time": "2023-07-04T15:08:59.040Z"
   },
   {
    "duration": 1150,
    "start_time": "2023-07-04T15:08:59.049Z"
   },
   {
    "duration": 1015,
    "start_time": "2023-07-04T15:09:00.207Z"
   },
   {
    "duration": 46,
    "start_time": "2023-07-04T15:09:01.225Z"
   },
   {
    "duration": 1203,
    "start_time": "2023-07-04T15:09:01.275Z"
   },
   {
    "duration": 1552,
    "start_time": "2023-07-05T11:17:48.737Z"
   },
   {
    "duration": 3190,
    "start_time": "2023-07-05T11:17:50.291Z"
   },
   {
    "duration": 32,
    "start_time": "2023-07-05T11:17:53.483Z"
   },
   {
    "duration": 27,
    "start_time": "2023-07-05T11:17:53.518Z"
   },
   {
    "duration": 23,
    "start_time": "2023-07-05T11:17:53.558Z"
   },
   {
    "duration": 27,
    "start_time": "2023-07-05T11:17:53.583Z"
   },
   {
    "duration": 16,
    "start_time": "2023-07-05T11:17:53.612Z"
   },
   {
    "duration": 29,
    "start_time": "2023-07-05T11:17:53.629Z"
   },
   {
    "duration": 8,
    "start_time": "2023-07-05T11:17:53.659Z"
   },
   {
    "duration": 9,
    "start_time": "2023-07-05T11:17:53.669Z"
   },
   {
    "duration": 7,
    "start_time": "2023-07-05T11:17:53.679Z"
   },
   {
    "duration": 38,
    "start_time": "2023-07-05T11:17:53.688Z"
   },
   {
    "duration": 10,
    "start_time": "2023-07-05T11:17:53.727Z"
   },
   {
    "duration": 23,
    "start_time": "2023-07-05T11:17:53.738Z"
   },
   {
    "duration": 14,
    "start_time": "2023-07-05T11:17:53.762Z"
   },
   {
    "duration": 9,
    "start_time": "2023-07-05T11:17:53.777Z"
   },
   {
    "duration": 19,
    "start_time": "2023-07-05T11:17:53.788Z"
   },
   {
    "duration": 20,
    "start_time": "2023-07-05T11:17:53.808Z"
   },
   {
    "duration": 56,
    "start_time": "2023-07-05T11:17:53.830Z"
   },
   {
    "duration": 17,
    "start_time": "2023-07-05T11:17:53.888Z"
   },
   {
    "duration": 27,
    "start_time": "2023-07-05T11:17:53.906Z"
   },
   {
    "duration": 12,
    "start_time": "2023-07-05T11:17:53.934Z"
   },
   {
    "duration": 135,
    "start_time": "2023-07-05T11:17:53.948Z"
   },
   {
    "duration": 28,
    "start_time": "2023-07-05T11:17:54.087Z"
   },
   {
    "duration": 132,
    "start_time": "2023-07-05T11:17:54.117Z"
   },
   {
    "duration": 9,
    "start_time": "2023-07-05T11:17:54.251Z"
   },
   {
    "duration": 228,
    "start_time": "2023-07-05T11:17:54.262Z"
   },
   {
    "duration": 9,
    "start_time": "2023-07-05T11:17:54.493Z"
   },
   {
    "duration": 8,
    "start_time": "2023-07-05T11:17:54.503Z"
   },
   {
    "duration": 152,
    "start_time": "2023-07-05T11:17:54.513Z"
   },
   {
    "duration": 123,
    "start_time": "2023-07-05T11:17:54.666Z"
   },
   {
    "duration": 1141,
    "start_time": "2023-07-05T11:17:54.791Z"
   },
   {
    "duration": 1172,
    "start_time": "2023-07-05T11:17:55.934Z"
   },
   {
    "duration": 1033,
    "start_time": "2023-07-05T11:17:57.108Z"
   },
   {
    "duration": 847,
    "start_time": "2023-07-05T11:17:58.143Z"
   },
   {
    "duration": 447,
    "start_time": "2023-07-05T11:17:58.992Z"
   },
   {
    "duration": 6,
    "start_time": "2023-07-05T11:17:59.441Z"
   },
   {
    "duration": 1040,
    "start_time": "2023-07-05T11:17:59.458Z"
   },
   {
    "duration": 929,
    "start_time": "2023-07-05T11:18:00.501Z"
   },
   {
    "duration": 55,
    "start_time": "2023-07-05T11:18:01.432Z"
   },
   {
    "duration": 1226,
    "start_time": "2023-07-05T11:18:01.489Z"
   },
   {
    "duration": 3,
    "start_time": "2023-07-05T11:25:34.702Z"
   },
   {
    "duration": 6,
    "start_time": "2023-07-05T11:28:49.113Z"
   },
   {
    "duration": 125,
    "start_time": "2023-07-05T11:28:59.669Z"
   },
   {
    "duration": 4,
    "start_time": "2023-07-05T11:29:10.344Z"
   },
   {
    "duration": 2128,
    "start_time": "2023-07-05T11:34:04.812Z"
   },
   {
    "duration": 110,
    "start_time": "2023-07-05T11:34:32.794Z"
   },
   {
    "duration": 1299,
    "start_time": "2023-07-05T11:34:41.962Z"
   },
   {
    "duration": 464,
    "start_time": "2023-07-05T11:35:03.873Z"
   },
   {
    "duration": 121,
    "start_time": "2023-07-05T11:35:13.155Z"
   },
   {
    "duration": 2110,
    "start_time": "2023-07-05T11:35:30.174Z"
   },
   {
    "duration": 19,
    "start_time": "2023-07-05T11:35:53.833Z"
   },
   {
    "duration": 255,
    "start_time": "2023-07-05T11:36:09.555Z"
   },
   {
    "duration": 3,
    "start_time": "2023-07-05T11:45:59.184Z"
   },
   {
    "duration": 1916,
    "start_time": "2023-07-05T11:50:41.817Z"
   },
   {
    "duration": 9,
    "start_time": "2023-07-05T11:51:42.969Z"
   },
   {
    "duration": 14,
    "start_time": "2023-07-05T11:52:48.624Z"
   },
   {
    "duration": 1391,
    "start_time": "2023-07-05T12:05:42.677Z"
   },
   {
    "duration": 760,
    "start_time": "2023-07-05T12:05:44.071Z"
   },
   {
    "duration": 33,
    "start_time": "2023-07-05T12:05:44.832Z"
   },
   {
    "duration": 21,
    "start_time": "2023-07-05T12:05:44.867Z"
   },
   {
    "duration": 36,
    "start_time": "2023-07-05T12:05:44.891Z"
   },
   {
    "duration": 9,
    "start_time": "2023-07-05T12:05:44.929Z"
   },
   {
    "duration": 18,
    "start_time": "2023-07-05T12:05:44.940Z"
   },
   {
    "duration": 18,
    "start_time": "2023-07-05T12:05:44.960Z"
   },
   {
    "duration": 10,
    "start_time": "2023-07-05T12:05:44.979Z"
   },
   {
    "duration": 37,
    "start_time": "2023-07-05T12:05:44.991Z"
   },
   {
    "duration": 33,
    "start_time": "2023-07-05T12:05:45.030Z"
   },
   {
    "duration": 31,
    "start_time": "2023-07-05T12:05:45.065Z"
   },
   {
    "duration": 11,
    "start_time": "2023-07-05T12:05:45.097Z"
   },
   {
    "duration": 20,
    "start_time": "2023-07-05T12:05:45.112Z"
   },
   {
    "duration": 11,
    "start_time": "2023-07-05T12:05:45.135Z"
   },
   {
    "duration": 11,
    "start_time": "2023-07-05T12:05:45.160Z"
   },
   {
    "duration": 14,
    "start_time": "2023-07-05T12:05:45.173Z"
   },
   {
    "duration": 7,
    "start_time": "2023-07-05T12:05:45.189Z"
   },
   {
    "duration": 15,
    "start_time": "2023-07-05T12:05:45.197Z"
   },
   {
    "duration": 18,
    "start_time": "2023-07-05T12:05:45.214Z"
   },
   {
    "duration": 42,
    "start_time": "2023-07-05T12:05:45.234Z"
   },
   {
    "duration": 11,
    "start_time": "2023-07-05T12:05:45.278Z"
   },
   {
    "duration": 157,
    "start_time": "2023-07-05T12:05:45.291Z"
   },
   {
    "duration": 28,
    "start_time": "2023-07-05T12:05:45.450Z"
   },
   {
    "duration": 116,
    "start_time": "2023-07-05T12:05:45.480Z"
   },
   {
    "duration": 3,
    "start_time": "2023-07-05T12:05:45.598Z"
   },
   {
    "duration": 202,
    "start_time": "2023-07-05T12:05:45.602Z"
   },
   {
    "duration": 8,
    "start_time": "2023-07-05T12:05:45.806Z"
   },
   {
    "duration": 12,
    "start_time": "2023-07-05T12:05:45.815Z"
   },
   {
    "duration": 145,
    "start_time": "2023-07-05T12:05:45.828Z"
   },
   {
    "duration": 126,
    "start_time": "2023-07-05T12:05:45.975Z"
   },
   {
    "duration": 1169,
    "start_time": "2023-07-05T12:05:46.103Z"
   },
   {
    "duration": 1186,
    "start_time": "2023-07-05T12:05:47.273Z"
   },
   {
    "duration": 1083,
    "start_time": "2023-07-05T12:05:48.461Z"
   },
   {
    "duration": 907,
    "start_time": "2023-07-05T12:05:49.547Z"
   },
   {
    "duration": 444,
    "start_time": "2023-07-05T12:05:50.460Z"
   },
   {
    "duration": 6,
    "start_time": "2023-07-05T12:05:50.906Z"
   },
   {
    "duration": 1079,
    "start_time": "2023-07-05T12:05:50.913Z"
   },
   {
    "duration": 898,
    "start_time": "2023-07-05T12:05:51.994Z"
   },
   {
    "duration": 42,
    "start_time": "2023-07-05T12:05:52.894Z"
   },
   {
    "duration": 1068,
    "start_time": "2023-07-05T12:05:52.940Z"
   },
   {
    "duration": 134,
    "start_time": "2023-07-05T12:05:54.010Z"
   },
   {
    "duration": 0,
    "start_time": "2023-07-05T12:05:54.146Z"
   },
   {
    "duration": 1,
    "start_time": "2023-07-05T12:05:54.159Z"
   },
   {
    "duration": 0,
    "start_time": "2023-07-05T12:05:54.161Z"
   },
   {
    "duration": 4,
    "start_time": "2023-07-05T12:07:39.552Z"
   },
   {
    "duration": 14,
    "start_time": "2023-07-05T12:10:25.077Z"
   },
   {
    "duration": 18,
    "start_time": "2023-07-05T12:10:39.112Z"
   },
   {
    "duration": 10,
    "start_time": "2023-07-05T12:10:48.528Z"
   },
   {
    "duration": 218,
    "start_time": "2023-07-05T12:10:57.299Z"
   },
   {
    "duration": 3,
    "start_time": "2023-07-05T12:11:31.971Z"
   },
   {
    "duration": 1594,
    "start_time": "2023-07-05T12:14:30.213Z"
   },
   {
    "duration": 738,
    "start_time": "2023-07-05T12:14:31.809Z"
   },
   {
    "duration": 33,
    "start_time": "2023-07-05T12:14:32.549Z"
   },
   {
    "duration": 24,
    "start_time": "2023-07-05T12:14:32.585Z"
   },
   {
    "duration": 21,
    "start_time": "2023-07-05T12:14:32.613Z"
   },
   {
    "duration": 10,
    "start_time": "2023-07-05T12:14:32.660Z"
   },
   {
    "duration": 25,
    "start_time": "2023-07-05T12:14:32.672Z"
   },
   {
    "duration": 15,
    "start_time": "2023-07-05T12:14:32.698Z"
   },
   {
    "duration": 6,
    "start_time": "2023-07-05T12:14:32.715Z"
   },
   {
    "duration": 6,
    "start_time": "2023-07-05T12:14:32.723Z"
   },
   {
    "duration": 22,
    "start_time": "2023-07-05T12:14:32.731Z"
   },
   {
    "duration": 37,
    "start_time": "2023-07-05T12:14:32.755Z"
   },
   {
    "duration": 28,
    "start_time": "2023-07-05T12:14:32.794Z"
   },
   {
    "duration": 16,
    "start_time": "2023-07-05T12:14:32.825Z"
   },
   {
    "duration": 10,
    "start_time": "2023-07-05T12:14:32.842Z"
   },
   {
    "duration": 15,
    "start_time": "2023-07-05T12:14:32.854Z"
   },
   {
    "duration": 12,
    "start_time": "2023-07-05T12:14:32.871Z"
   },
   {
    "duration": 9,
    "start_time": "2023-07-05T12:14:32.885Z"
   },
   {
    "duration": 17,
    "start_time": "2023-07-05T12:14:32.895Z"
   },
   {
    "duration": 10,
    "start_time": "2023-07-05T12:14:32.914Z"
   },
   {
    "duration": 38,
    "start_time": "2023-07-05T12:14:32.926Z"
   },
   {
    "duration": 20,
    "start_time": "2023-07-05T12:14:32.966Z"
   },
   {
    "duration": 148,
    "start_time": "2023-07-05T12:14:32.988Z"
   },
   {
    "duration": 34,
    "start_time": "2023-07-05T12:14:33.138Z"
   },
   {
    "duration": 117,
    "start_time": "2023-07-05T12:14:33.174Z"
   },
   {
    "duration": 4,
    "start_time": "2023-07-05T12:14:33.292Z"
   },
   {
    "duration": 217,
    "start_time": "2023-07-05T12:14:33.297Z"
   },
   {
    "duration": 11,
    "start_time": "2023-07-05T12:14:33.516Z"
   },
   {
    "duration": 9,
    "start_time": "2023-07-05T12:14:33.529Z"
   },
   {
    "duration": 130,
    "start_time": "2023-07-05T12:14:33.540Z"
   },
   {
    "duration": 121,
    "start_time": "2023-07-05T12:14:33.671Z"
   },
   {
    "duration": 1212,
    "start_time": "2023-07-05T12:14:33.794Z"
   },
   {
    "duration": 1175,
    "start_time": "2023-07-05T12:14:35.008Z"
   },
   {
    "duration": 1061,
    "start_time": "2023-07-05T12:14:36.184Z"
   },
   {
    "duration": 870,
    "start_time": "2023-07-05T12:14:37.247Z"
   },
   {
    "duration": 445,
    "start_time": "2023-07-05T12:14:38.119Z"
   },
   {
    "duration": 6,
    "start_time": "2023-07-05T12:14:38.566Z"
   },
   {
    "duration": 1098,
    "start_time": "2023-07-05T12:14:38.574Z"
   },
   {
    "duration": 867,
    "start_time": "2023-07-05T12:14:39.674Z"
   },
   {
    "duration": 48,
    "start_time": "2023-07-05T12:14:40.543Z"
   },
   {
    "duration": 1014,
    "start_time": "2023-07-05T12:14:40.594Z"
   },
   {
    "duration": 4,
    "start_time": "2023-07-05T12:14:41.610Z"
   },
   {
    "duration": 17,
    "start_time": "2023-07-05T12:14:41.616Z"
   },
   {
    "duration": 237,
    "start_time": "2023-07-05T12:14:41.635Z"
   },
   {
    "duration": 4,
    "start_time": "2023-07-05T12:14:41.874Z"
   },
   {
    "duration": 7,
    "start_time": "2023-07-05T12:15:49.779Z"
   },
   {
    "duration": 102,
    "start_time": "2023-07-05T12:16:28.315Z"
   },
   {
    "duration": 5,
    "start_time": "2023-07-05T12:18:28.113Z"
   },
   {
    "duration": 5,
    "start_time": "2023-07-05T12:20:04.942Z"
   },
   {
    "duration": 30,
    "start_time": "2023-07-05T13:03:36.425Z"
   },
   {
    "duration": 1366,
    "start_time": "2023-07-05T13:10:12.016Z"
   },
   {
    "duration": 797,
    "start_time": "2023-07-05T13:10:13.384Z"
   },
   {
    "duration": 37,
    "start_time": "2023-07-05T13:10:14.183Z"
   },
   {
    "duration": 45,
    "start_time": "2023-07-05T13:10:14.222Z"
   },
   {
    "duration": 44,
    "start_time": "2023-07-05T13:10:14.270Z"
   },
   {
    "duration": 18,
    "start_time": "2023-07-05T13:10:14.316Z"
   },
   {
    "duration": 17,
    "start_time": "2023-07-05T13:10:14.336Z"
   },
   {
    "duration": 20,
    "start_time": "2023-07-05T13:10:14.355Z"
   },
   {
    "duration": 13,
    "start_time": "2023-07-05T13:10:14.377Z"
   },
   {
    "duration": 9,
    "start_time": "2023-07-05T13:10:14.392Z"
   },
   {
    "duration": 36,
    "start_time": "2023-07-05T13:10:14.403Z"
   },
   {
    "duration": 38,
    "start_time": "2023-07-05T13:10:14.441Z"
   },
   {
    "duration": 12,
    "start_time": "2023-07-05T13:10:14.481Z"
   },
   {
    "duration": 18,
    "start_time": "2023-07-05T13:10:14.496Z"
   },
   {
    "duration": 26,
    "start_time": "2023-07-05T13:10:14.516Z"
   },
   {
    "duration": 31,
    "start_time": "2023-07-05T13:10:14.544Z"
   },
   {
    "duration": 16,
    "start_time": "2023-07-05T13:10:14.577Z"
   },
   {
    "duration": 36,
    "start_time": "2023-07-05T13:10:14.594Z"
   },
   {
    "duration": 25,
    "start_time": "2023-07-05T13:10:14.632Z"
   },
   {
    "duration": 13,
    "start_time": "2023-07-05T13:10:14.659Z"
   },
   {
    "duration": 38,
    "start_time": "2023-07-05T13:10:14.674Z"
   },
   {
    "duration": 14,
    "start_time": "2023-07-05T13:10:14.714Z"
   },
   {
    "duration": 143,
    "start_time": "2023-07-05T13:10:14.729Z"
   },
   {
    "duration": 24,
    "start_time": "2023-07-05T13:10:14.873Z"
   },
   {
    "duration": 117,
    "start_time": "2023-07-05T13:10:14.898Z"
   },
   {
    "duration": 4,
    "start_time": "2023-07-05T13:10:15.017Z"
   },
   {
    "duration": 296,
    "start_time": "2023-07-05T13:10:15.023Z"
   },
   {
    "duration": 9,
    "start_time": "2023-07-05T13:10:15.321Z"
   },
   {
    "duration": 45,
    "start_time": "2023-07-05T13:10:15.332Z"
   },
   {
    "duration": 148,
    "start_time": "2023-07-05T13:10:15.379Z"
   },
   {
    "duration": 134,
    "start_time": "2023-07-05T13:10:15.529Z"
   },
   {
    "duration": 1247,
    "start_time": "2023-07-05T13:10:15.665Z"
   },
   {
    "duration": 1237,
    "start_time": "2023-07-05T13:10:16.913Z"
   },
   {
    "duration": 1070,
    "start_time": "2023-07-05T13:10:18.160Z"
   },
   {
    "duration": 884,
    "start_time": "2023-07-05T13:10:19.232Z"
   },
   {
    "duration": 448,
    "start_time": "2023-07-05T13:10:20.118Z"
   },
   {
    "duration": 6,
    "start_time": "2023-07-05T13:10:20.568Z"
   },
   {
    "duration": 1113,
    "start_time": "2023-07-05T13:10:20.576Z"
   },
   {
    "duration": 937,
    "start_time": "2023-07-05T13:10:21.691Z"
   },
   {
    "duration": 51,
    "start_time": "2023-07-05T13:10:22.629Z"
   },
   {
    "duration": 1144,
    "start_time": "2023-07-05T13:10:22.683Z"
   },
   {
    "duration": 3,
    "start_time": "2023-07-05T13:10:23.829Z"
   },
   {
    "duration": 126,
    "start_time": "2023-07-05T13:10:23.834Z"
   },
   {
    "duration": 0,
    "start_time": "2023-07-05T13:10:23.962Z"
   },
   {
    "duration": 20,
    "start_time": "2023-07-05T13:10:56.755Z"
   },
   {
    "duration": 1382,
    "start_time": "2023-07-05T13:11:17.459Z"
   },
   {
    "duration": 775,
    "start_time": "2023-07-05T13:11:18.842Z"
   },
   {
    "duration": 26,
    "start_time": "2023-07-05T13:11:19.619Z"
   },
   {
    "duration": 32,
    "start_time": "2023-07-05T13:11:19.647Z"
   },
   {
    "duration": 24,
    "start_time": "2023-07-05T13:11:19.680Z"
   },
   {
    "duration": 11,
    "start_time": "2023-07-05T13:11:19.706Z"
   },
   {
    "duration": 15,
    "start_time": "2023-07-05T13:11:19.718Z"
   },
   {
    "duration": 22,
    "start_time": "2023-07-05T13:11:19.735Z"
   },
   {
    "duration": 7,
    "start_time": "2023-07-05T13:11:19.759Z"
   },
   {
    "duration": 9,
    "start_time": "2023-07-05T13:11:19.769Z"
   },
   {
    "duration": 14,
    "start_time": "2023-07-05T13:11:19.780Z"
   },
   {
    "duration": 27,
    "start_time": "2023-07-05T13:11:19.796Z"
   },
   {
    "duration": 10,
    "start_time": "2023-07-05T13:11:19.825Z"
   },
   {
    "duration": 27,
    "start_time": "2023-07-05T13:11:19.837Z"
   },
   {
    "duration": 10,
    "start_time": "2023-07-05T13:11:19.866Z"
   },
   {
    "duration": 12,
    "start_time": "2023-07-05T13:11:19.878Z"
   },
   {
    "duration": 10,
    "start_time": "2023-07-05T13:11:19.891Z"
   },
   {
    "duration": 7,
    "start_time": "2023-07-05T13:11:19.903Z"
   },
   {
    "duration": 18,
    "start_time": "2023-07-05T13:11:19.911Z"
   },
   {
    "duration": 36,
    "start_time": "2023-07-05T13:11:19.930Z"
   },
   {
    "duration": 22,
    "start_time": "2023-07-05T13:11:19.967Z"
   },
   {
    "duration": 12,
    "start_time": "2023-07-05T13:11:19.991Z"
   },
   {
    "duration": 163,
    "start_time": "2023-07-05T13:11:20.005Z"
   },
   {
    "duration": 23,
    "start_time": "2023-07-05T13:11:20.170Z"
   },
   {
    "duration": 135,
    "start_time": "2023-07-05T13:11:20.195Z"
   },
   {
    "duration": 3,
    "start_time": "2023-07-05T13:11:20.332Z"
   },
   {
    "duration": 231,
    "start_time": "2023-07-05T13:11:20.337Z"
   },
   {
    "duration": 9,
    "start_time": "2023-07-05T13:11:20.571Z"
   },
   {
    "duration": 26,
    "start_time": "2023-07-05T13:11:20.582Z"
   },
   {
    "duration": 149,
    "start_time": "2023-07-05T13:11:20.610Z"
   },
   {
    "duration": 120,
    "start_time": "2023-07-05T13:11:20.761Z"
   },
   {
    "duration": 1187,
    "start_time": "2023-07-05T13:11:20.882Z"
   },
   {
    "duration": 1218,
    "start_time": "2023-07-05T13:11:22.071Z"
   },
   {
    "duration": 1158,
    "start_time": "2023-07-05T13:11:23.291Z"
   },
   {
    "duration": 868,
    "start_time": "2023-07-05T13:11:24.451Z"
   },
   {
    "duration": 442,
    "start_time": "2023-07-05T13:11:25.320Z"
   },
   {
    "duration": 7,
    "start_time": "2023-07-05T13:11:25.764Z"
   },
   {
    "duration": 1047,
    "start_time": "2023-07-05T13:11:25.772Z"
   },
   {
    "duration": 901,
    "start_time": "2023-07-05T13:11:26.821Z"
   },
   {
    "duration": 61,
    "start_time": "2023-07-05T13:11:27.724Z"
   },
   {
    "duration": 1099,
    "start_time": "2023-07-05T13:11:27.787Z"
   },
   {
    "duration": 4,
    "start_time": "2023-07-05T13:11:28.887Z"
   },
   {
    "duration": 125,
    "start_time": "2023-07-05T13:11:28.892Z"
   },
   {
    "duration": 0,
    "start_time": "2023-07-05T13:11:29.019Z"
   },
   {
    "duration": 8,
    "start_time": "2023-07-05T13:11:46.868Z"
   },
   {
    "duration": 10,
    "start_time": "2023-07-05T13:11:51.603Z"
   },
   {
    "duration": 4,
    "start_time": "2023-07-05T13:15:12.389Z"
   },
   {
    "duration": 4,
    "start_time": "2023-07-05T13:21:49.190Z"
   },
   {
    "duration": 5,
    "start_time": "2023-07-05T13:22:36.119Z"
   },
   {
    "duration": 6,
    "start_time": "2023-07-05T13:24:08.030Z"
   },
   {
    "duration": 4,
    "start_time": "2023-07-05T13:24:18.378Z"
   },
   {
    "duration": 4,
    "start_time": "2023-07-05T13:24:27.108Z"
   },
   {
    "duration": 7,
    "start_time": "2023-07-05T13:24:31.270Z"
   },
   {
    "duration": 10,
    "start_time": "2023-07-05T13:25:38.630Z"
   },
   {
    "duration": 5,
    "start_time": "2023-07-05T13:25:45.832Z"
   },
   {
    "duration": 4,
    "start_time": "2023-07-05T13:26:00.192Z"
   },
   {
    "duration": 4,
    "start_time": "2023-07-05T13:26:12.529Z"
   },
   {
    "duration": 4,
    "start_time": "2023-07-05T13:26:43.891Z"
   },
   {
    "duration": 10,
    "start_time": "2023-07-05T13:28:21.594Z"
   },
   {
    "duration": 4,
    "start_time": "2023-07-05T13:28:27.079Z"
   },
   {
    "duration": 9,
    "start_time": "2023-07-05T13:29:42.360Z"
   },
   {
    "duration": 31,
    "start_time": "2023-07-05T13:37:50.222Z"
   },
   {
    "duration": 40,
    "start_time": "2023-07-05T13:37:55.433Z"
   },
   {
    "duration": 29,
    "start_time": "2023-07-05T13:38:00.635Z"
   },
   {
    "duration": 45,
    "start_time": "2023-07-06T08:45:03.736Z"
   },
   {
    "duration": 1797,
    "start_time": "2023-07-06T08:45:09.416Z"
   },
   {
    "duration": 2156,
    "start_time": "2023-07-06T08:45:11.215Z"
   },
   {
    "duration": 24,
    "start_time": "2023-07-06T08:45:13.373Z"
   },
   {
    "duration": 19,
    "start_time": "2023-07-06T08:45:13.399Z"
   },
   {
    "duration": 20,
    "start_time": "2023-07-06T08:45:13.419Z"
   },
   {
    "duration": 22,
    "start_time": "2023-07-06T08:45:13.441Z"
   },
   {
    "duration": 10,
    "start_time": "2023-07-06T08:45:13.465Z"
   },
   {
    "duration": 11,
    "start_time": "2023-07-06T08:45:13.477Z"
   },
   {
    "duration": 7,
    "start_time": "2023-07-06T08:45:13.490Z"
   },
   {
    "duration": 3,
    "start_time": "2023-07-06T08:45:13.501Z"
   },
   {
    "duration": 7,
    "start_time": "2023-07-06T08:45:13.506Z"
   },
   {
    "duration": 25,
    "start_time": "2023-07-06T08:45:13.515Z"
   },
   {
    "duration": 19,
    "start_time": "2023-07-06T08:45:13.541Z"
   },
   {
    "duration": 24,
    "start_time": "2023-07-06T08:45:13.562Z"
   },
   {
    "duration": 12,
    "start_time": "2023-07-06T08:45:13.588Z"
   },
   {
    "duration": 9,
    "start_time": "2023-07-06T08:45:13.602Z"
   },
   {
    "duration": 40,
    "start_time": "2023-07-06T08:45:13.613Z"
   },
   {
    "duration": 7,
    "start_time": "2023-07-06T08:45:13.654Z"
   },
   {
    "duration": 10,
    "start_time": "2023-07-06T08:45:13.662Z"
   },
   {
    "duration": 13,
    "start_time": "2023-07-06T08:45:13.673Z"
   },
   {
    "duration": 23,
    "start_time": "2023-07-06T08:45:13.687Z"
   },
   {
    "duration": 11,
    "start_time": "2023-07-06T08:45:13.711Z"
   },
   {
    "duration": 147,
    "start_time": "2023-07-06T08:45:13.724Z"
   },
   {
    "duration": 23,
    "start_time": "2023-07-06T08:45:13.872Z"
   },
   {
    "duration": 106,
    "start_time": "2023-07-06T08:45:13.896Z"
   },
   {
    "duration": 3,
    "start_time": "2023-07-06T08:45:14.004Z"
   },
   {
    "duration": 189,
    "start_time": "2023-07-06T08:45:14.008Z"
   },
   {
    "duration": 7,
    "start_time": "2023-07-06T08:45:14.200Z"
   },
   {
    "duration": 7,
    "start_time": "2023-07-06T08:45:14.208Z"
   },
   {
    "duration": 124,
    "start_time": "2023-07-06T08:45:14.217Z"
   },
   {
    "duration": 111,
    "start_time": "2023-07-06T08:45:14.342Z"
   },
   {
    "duration": 1147,
    "start_time": "2023-07-06T08:45:14.455Z"
   },
   {
    "duration": 1126,
    "start_time": "2023-07-06T08:45:15.603Z"
   },
   {
    "duration": 1086,
    "start_time": "2023-07-06T08:45:16.732Z"
   },
   {
    "duration": 921,
    "start_time": "2023-07-06T08:45:17.820Z"
   },
   {
    "duration": 433,
    "start_time": "2023-07-06T08:45:18.743Z"
   },
   {
    "duration": 8,
    "start_time": "2023-07-06T08:45:19.178Z"
   },
   {
    "duration": 1066,
    "start_time": "2023-07-06T08:45:19.188Z"
   },
   {
    "duration": 907,
    "start_time": "2023-07-06T08:45:20.256Z"
   },
   {
    "duration": 45,
    "start_time": "2023-07-06T08:45:21.165Z"
   },
   {
    "duration": 1054,
    "start_time": "2023-07-06T08:45:21.212Z"
   },
   {
    "duration": 30,
    "start_time": "2023-07-06T08:45:22.268Z"
   },
   {
    "duration": 27,
    "start_time": "2023-07-06T08:45:53.740Z"
   },
   {
    "duration": 37,
    "start_time": "2023-07-06T08:46:07.445Z"
   },
   {
    "duration": 4,
    "start_time": "2023-07-06T08:46:47.724Z"
   },
   {
    "duration": 98,
    "start_time": "2023-07-06T08:46:56.608Z"
   },
   {
    "duration": 17,
    "start_time": "2023-07-06T08:47:57.854Z"
   },
   {
    "duration": 6,
    "start_time": "2023-07-06T08:48:07.835Z"
   },
   {
    "duration": 25,
    "start_time": "2023-07-06T08:48:13.968Z"
   },
   {
    "duration": 5,
    "start_time": "2023-07-06T08:48:28.546Z"
   },
   {
    "duration": 24,
    "start_time": "2023-07-06T08:48:33.768Z"
   },
   {
    "duration": 26,
    "start_time": "2023-07-06T08:48:47.356Z"
   },
   {
    "duration": 5,
    "start_time": "2023-07-06T08:48:55.326Z"
   },
   {
    "duration": 1311,
    "start_time": "2023-07-06T08:52:56.494Z"
   },
   {
    "duration": 733,
    "start_time": "2023-07-06T08:52:57.807Z"
   },
   {
    "duration": 28,
    "start_time": "2023-07-06T08:52:58.541Z"
   },
   {
    "duration": 19,
    "start_time": "2023-07-06T08:52:58.571Z"
   },
   {
    "duration": 20,
    "start_time": "2023-07-06T08:52:58.592Z"
   },
   {
    "duration": 4,
    "start_time": "2023-07-06T08:52:58.614Z"
   },
   {
    "duration": 5,
    "start_time": "2023-07-06T08:52:58.619Z"
   },
   {
    "duration": 36,
    "start_time": "2023-07-06T08:52:58.625Z"
   },
   {
    "duration": 5,
    "start_time": "2023-07-06T08:52:58.663Z"
   },
   {
    "duration": 5,
    "start_time": "2023-07-06T08:52:58.670Z"
   },
   {
    "duration": 8,
    "start_time": "2023-07-06T08:52:58.676Z"
   },
   {
    "duration": 21,
    "start_time": "2023-07-06T08:52:58.685Z"
   },
   {
    "duration": 9,
    "start_time": "2023-07-06T08:52:58.708Z"
   },
   {
    "duration": 39,
    "start_time": "2023-07-06T08:52:58.718Z"
   },
   {
    "duration": 11,
    "start_time": "2023-07-06T08:52:58.760Z"
   },
   {
    "duration": 10,
    "start_time": "2023-07-06T08:52:58.773Z"
   },
   {
    "duration": 9,
    "start_time": "2023-07-06T08:52:58.785Z"
   },
   {
    "duration": 13,
    "start_time": "2023-07-06T08:52:58.795Z"
   },
   {
    "duration": 9,
    "start_time": "2023-07-06T08:52:58.809Z"
   },
   {
    "duration": 41,
    "start_time": "2023-07-06T08:52:58.820Z"
   },
   {
    "duration": 19,
    "start_time": "2023-07-06T08:52:58.863Z"
   },
   {
    "duration": 11,
    "start_time": "2023-07-06T08:52:58.884Z"
   },
   {
    "duration": 141,
    "start_time": "2023-07-06T08:52:58.896Z"
   },
   {
    "duration": 27,
    "start_time": "2023-07-06T08:52:59.039Z"
   },
   {
    "duration": 101,
    "start_time": "2023-07-06T08:52:59.068Z"
   },
   {
    "duration": 3,
    "start_time": "2023-07-06T08:52:59.170Z"
   },
   {
    "duration": 194,
    "start_time": "2023-07-06T08:52:59.174Z"
   },
   {
    "duration": 7,
    "start_time": "2023-07-06T08:52:59.371Z"
   },
   {
    "duration": 8,
    "start_time": "2023-07-06T08:52:59.380Z"
   },
   {
    "duration": 125,
    "start_time": "2023-07-06T08:52:59.389Z"
   },
   {
    "duration": 108,
    "start_time": "2023-07-06T08:52:59.516Z"
   },
   {
    "duration": 1149,
    "start_time": "2023-07-06T08:52:59.625Z"
   },
   {
    "duration": 1180,
    "start_time": "2023-07-06T08:53:00.776Z"
   },
   {
    "duration": 1038,
    "start_time": "2023-07-06T08:53:01.958Z"
   },
   {
    "duration": 781,
    "start_time": "2023-07-06T08:53:02.997Z"
   },
   {
    "duration": 403,
    "start_time": "2023-07-06T08:53:03.780Z"
   },
   {
    "duration": 7,
    "start_time": "2023-07-06T08:53:04.184Z"
   },
   {
    "duration": 994,
    "start_time": "2023-07-06T08:53:04.192Z"
   },
   {
    "duration": 845,
    "start_time": "2023-07-06T08:53:05.188Z"
   },
   {
    "duration": 44,
    "start_time": "2023-07-06T08:53:06.035Z"
   },
   {
    "duration": 996,
    "start_time": "2023-07-06T08:53:06.081Z"
   },
   {
    "duration": 4,
    "start_time": "2023-07-06T08:53:07.080Z"
   },
   {
    "duration": 0,
    "start_time": "2023-07-06T08:53:07.086Z"
   },
   {
    "duration": 0,
    "start_time": "2023-07-06T08:53:07.087Z"
   },
   {
    "duration": 0,
    "start_time": "2023-07-06T08:53:07.089Z"
   },
   {
    "duration": 110,
    "start_time": "2023-07-06T08:53:27.684Z"
   },
   {
    "duration": 16,
    "start_time": "2023-07-06T08:58:36.947Z"
   },
   {
    "duration": 15,
    "start_time": "2023-07-06T08:59:56.037Z"
   },
   {
    "duration": 14,
    "start_time": "2023-07-06T09:00:07.176Z"
   },
   {
    "duration": 25,
    "start_time": "2023-07-06T09:00:15.840Z"
   },
   {
    "duration": 42,
    "start_time": "2023-07-06T09:00:24.552Z"
   },
   {
    "duration": 20,
    "start_time": "2023-07-06T09:00:43.100Z"
   },
   {
    "duration": 18,
    "start_time": "2023-07-06T09:01:57.623Z"
   },
   {
    "duration": 41,
    "start_time": "2023-07-06T09:02:02.508Z"
   },
   {
    "duration": 15,
    "start_time": "2023-07-06T09:02:30.178Z"
   },
   {
    "duration": 18,
    "start_time": "2023-07-06T09:02:45.594Z"
   },
   {
    "duration": 14,
    "start_time": "2023-07-06T09:03:02.057Z"
   },
   {
    "duration": 18,
    "start_time": "2023-07-06T09:03:11.207Z"
   },
   {
    "duration": 23,
    "start_time": "2023-07-06T09:04:41.584Z"
   },
   {
    "duration": 18,
    "start_time": "2023-07-06T09:04:50.162Z"
   },
   {
    "duration": 15,
    "start_time": "2023-07-06T09:04:57.584Z"
   },
   {
    "duration": 31,
    "start_time": "2023-07-06T09:05:45.373Z"
   },
   {
    "duration": 10,
    "start_time": "2023-07-06T09:07:07.934Z"
   },
   {
    "duration": 1505,
    "start_time": "2023-07-06T09:07:36.714Z"
   },
   {
    "duration": 747,
    "start_time": "2023-07-06T09:07:38.221Z"
   },
   {
    "duration": 26,
    "start_time": "2023-07-06T09:07:38.970Z"
   },
   {
    "duration": 23,
    "start_time": "2023-07-06T09:07:38.998Z"
   },
   {
    "duration": 38,
    "start_time": "2023-07-06T09:07:39.023Z"
   },
   {
    "duration": 40,
    "start_time": "2023-07-06T09:07:39.062Z"
   },
   {
    "duration": 12,
    "start_time": "2023-07-06T09:07:39.104Z"
   },
   {
    "duration": 13,
    "start_time": "2023-07-06T09:07:39.118Z"
   },
   {
    "duration": 6,
    "start_time": "2023-07-06T09:07:39.133Z"
   },
   {
    "duration": 5,
    "start_time": "2023-07-06T09:07:39.141Z"
   },
   {
    "duration": 11,
    "start_time": "2023-07-06T09:07:39.148Z"
   },
   {
    "duration": 34,
    "start_time": "2023-07-06T09:07:39.161Z"
   },
   {
    "duration": 11,
    "start_time": "2023-07-06T09:07:39.197Z"
   },
   {
    "duration": 31,
    "start_time": "2023-07-06T09:07:39.210Z"
   },
   {
    "duration": 41,
    "start_time": "2023-07-06T09:07:39.243Z"
   },
   {
    "duration": 79,
    "start_time": "2023-07-06T09:07:39.287Z"
   },
   {
    "duration": 81,
    "start_time": "2023-07-06T09:07:39.367Z"
   },
   {
    "duration": 151,
    "start_time": "2023-07-06T09:07:39.450Z"
   },
   {
    "duration": 51,
    "start_time": "2023-07-06T09:07:39.603Z"
   },
   {
    "duration": 24,
    "start_time": "2023-07-06T09:07:39.658Z"
   },
   {
    "duration": 48,
    "start_time": "2023-07-06T09:07:39.684Z"
   },
   {
    "duration": 12,
    "start_time": "2023-07-06T09:07:39.734Z"
   },
   {
    "duration": 139,
    "start_time": "2023-07-06T09:07:39.748Z"
   },
   {
    "duration": 21,
    "start_time": "2023-07-06T09:07:39.889Z"
   },
   {
    "duration": 134,
    "start_time": "2023-07-06T09:07:39.912Z"
   },
   {
    "duration": 3,
    "start_time": "2023-07-06T09:07:40.051Z"
   },
   {
    "duration": 231,
    "start_time": "2023-07-06T09:07:40.056Z"
   },
   {
    "duration": 7,
    "start_time": "2023-07-06T09:07:40.291Z"
   },
   {
    "duration": 40,
    "start_time": "2023-07-06T09:07:40.300Z"
   },
   {
    "duration": 143,
    "start_time": "2023-07-06T09:07:40.342Z"
   },
   {
    "duration": 117,
    "start_time": "2023-07-06T09:07:40.487Z"
   },
   {
    "duration": 1209,
    "start_time": "2023-07-06T09:07:40.606Z"
   },
   {
    "duration": 1207,
    "start_time": "2023-07-06T09:07:41.816Z"
   },
   {
    "duration": 1050,
    "start_time": "2023-07-06T09:07:43.025Z"
   },
   {
    "duration": 851,
    "start_time": "2023-07-06T09:07:44.077Z"
   },
   {
    "duration": 456,
    "start_time": "2023-07-06T09:07:44.930Z"
   },
   {
    "duration": 7,
    "start_time": "2023-07-06T09:07:45.389Z"
   },
   {
    "duration": 1017,
    "start_time": "2023-07-06T09:07:45.398Z"
   },
   {
    "duration": 864,
    "start_time": "2023-07-06T09:07:46.416Z"
   },
   {
    "duration": 43,
    "start_time": "2023-07-06T09:07:47.283Z"
   },
   {
    "duration": 1101,
    "start_time": "2023-07-06T09:07:47.328Z"
   },
   {
    "duration": 23,
    "start_time": "2023-07-06T09:07:48.431Z"
   },
   {
    "duration": 38,
    "start_time": "2023-07-06T09:07:48.457Z"
   },
   {
    "duration": 9,
    "start_time": "2023-07-06T09:07:48.497Z"
   },
   {
    "duration": 28,
    "start_time": "2023-07-06T09:07:48.508Z"
   },
   {
    "duration": 29,
    "start_time": "2023-07-06T09:07:48.538Z"
   },
   {
    "duration": 25,
    "start_time": "2023-07-06T09:08:03.287Z"
   },
   {
    "duration": 1327,
    "start_time": "2023-07-06T09:08:24.796Z"
   },
   {
    "duration": 727,
    "start_time": "2023-07-06T09:08:26.125Z"
   },
   {
    "duration": 26,
    "start_time": "2023-07-06T09:08:26.854Z"
   },
   {
    "duration": 22,
    "start_time": "2023-07-06T09:08:26.882Z"
   },
   {
    "duration": 46,
    "start_time": "2023-07-06T09:08:26.907Z"
   },
   {
    "duration": 5,
    "start_time": "2023-07-06T09:08:26.954Z"
   },
   {
    "duration": 14,
    "start_time": "2023-07-06T09:08:26.960Z"
   },
   {
    "duration": 20,
    "start_time": "2023-07-06T09:08:26.975Z"
   },
   {
    "duration": 7,
    "start_time": "2023-07-06T09:08:26.996Z"
   },
   {
    "duration": 14,
    "start_time": "2023-07-06T09:08:27.004Z"
   },
   {
    "duration": 24,
    "start_time": "2023-07-06T09:08:27.020Z"
   },
   {
    "duration": 36,
    "start_time": "2023-07-06T09:08:27.046Z"
   },
   {
    "duration": 10,
    "start_time": "2023-07-06T09:08:27.084Z"
   },
   {
    "duration": 17,
    "start_time": "2023-07-06T09:08:27.098Z"
   },
   {
    "duration": 11,
    "start_time": "2023-07-06T09:08:27.117Z"
   },
   {
    "duration": 25,
    "start_time": "2023-07-06T09:08:27.130Z"
   },
   {
    "duration": 8,
    "start_time": "2023-07-06T09:08:27.156Z"
   },
   {
    "duration": 17,
    "start_time": "2023-07-06T09:08:27.166Z"
   },
   {
    "duration": 18,
    "start_time": "2023-07-06T09:08:27.185Z"
   },
   {
    "duration": 21,
    "start_time": "2023-07-06T09:08:27.204Z"
   },
   {
    "duration": 20,
    "start_time": "2023-07-06T09:08:27.227Z"
   },
   {
    "duration": 12,
    "start_time": "2023-07-06T09:08:27.251Z"
   },
   {
    "duration": 136,
    "start_time": "2023-07-06T09:08:27.264Z"
   },
   {
    "duration": 23,
    "start_time": "2023-07-06T09:08:27.401Z"
   },
   {
    "duration": 111,
    "start_time": "2023-07-06T09:08:27.426Z"
   },
   {
    "duration": 4,
    "start_time": "2023-07-06T09:08:27.538Z"
   },
   {
    "duration": 207,
    "start_time": "2023-07-06T09:08:27.551Z"
   },
   {
    "duration": 11,
    "start_time": "2023-07-06T09:08:27.760Z"
   },
   {
    "duration": 67,
    "start_time": "2023-07-06T09:08:27.772Z"
   },
   {
    "duration": 129,
    "start_time": "2023-07-06T09:08:27.841Z"
   },
   {
    "duration": 132,
    "start_time": "2023-07-06T09:08:27.972Z"
   },
   {
    "duration": 1248,
    "start_time": "2023-07-06T09:08:28.107Z"
   },
   {
    "duration": 1173,
    "start_time": "2023-07-06T09:08:29.357Z"
   },
   {
    "duration": 1054,
    "start_time": "2023-07-06T09:08:30.532Z"
   },
   {
    "duration": 869,
    "start_time": "2023-07-06T09:08:31.588Z"
   },
   {
    "duration": 446,
    "start_time": "2023-07-06T09:08:32.459Z"
   },
   {
    "duration": 6,
    "start_time": "2023-07-06T09:08:32.907Z"
   },
   {
    "duration": 1028,
    "start_time": "2023-07-06T09:08:32.915Z"
   },
   {
    "duration": 877,
    "start_time": "2023-07-06T09:08:33.944Z"
   },
   {
    "duration": 51,
    "start_time": "2023-07-06T09:08:34.822Z"
   },
   {
    "duration": 1064,
    "start_time": "2023-07-06T09:08:34.876Z"
   },
   {
    "duration": 22,
    "start_time": "2023-07-06T09:08:35.943Z"
   },
   {
    "duration": 37,
    "start_time": "2023-07-06T09:08:35.967Z"
   },
   {
    "duration": 38,
    "start_time": "2023-07-06T09:08:45.513Z"
   },
   {
    "duration": 4,
    "start_time": "2023-07-06T09:08:53.302Z"
   },
   {
    "duration": 3,
    "start_time": "2023-07-06T09:10:32.846Z"
   },
   {
    "duration": 4,
    "start_time": "2023-07-06T09:10:37.386Z"
   },
   {
    "duration": 3,
    "start_time": "2023-07-06T09:10:48.002Z"
   },
   {
    "duration": 5,
    "start_time": "2023-07-06T09:10:50.783Z"
   },
   {
    "duration": 104,
    "start_time": "2023-07-06T09:10:56.365Z"
   },
   {
    "duration": 30,
    "start_time": "2023-07-06T09:11:11.632Z"
   },
   {
    "duration": 6,
    "start_time": "2023-07-06T09:11:25.467Z"
   },
   {
    "duration": 7,
    "start_time": "2023-07-06T09:11:52.413Z"
   },
   {
    "duration": 10,
    "start_time": "2023-07-06T09:12:04.100Z"
   },
   {
    "duration": 5,
    "start_time": "2023-07-06T09:12:10.070Z"
   },
   {
    "duration": 4,
    "start_time": "2023-07-06T09:12:15.991Z"
   },
   {
    "duration": 3,
    "start_time": "2023-07-06T09:12:22.449Z"
   },
   {
    "duration": 4,
    "start_time": "2023-07-06T09:16:56.225Z"
   },
   {
    "duration": 3,
    "start_time": "2023-07-06T09:16:58.783Z"
   },
   {
    "duration": 155,
    "start_time": "2023-07-06T09:17:44.823Z"
   },
   {
    "duration": 6,
    "start_time": "2023-07-06T09:27:02.510Z"
   },
   {
    "duration": 30,
    "start_time": "2023-07-06T09:27:07.869Z"
   },
   {
    "duration": 110,
    "start_time": "2023-07-06T09:27:43.940Z"
   },
   {
    "duration": 92,
    "start_time": "2023-07-06T09:27:50.263Z"
   },
   {
    "duration": 655,
    "start_time": "2023-07-06T09:28:48.640Z"
   },
   {
    "duration": 1184,
    "start_time": "2023-07-06T09:28:58.615Z"
   },
   {
    "duration": 8,
    "start_time": "2023-07-06T09:29:15.478Z"
   },
   {
    "duration": 11,
    "start_time": "2023-07-06T09:29:19.426Z"
   },
   {
    "duration": 10,
    "start_time": "2023-07-06T09:30:01.535Z"
   },
   {
    "duration": 26,
    "start_time": "2023-07-06T09:30:05.902Z"
   },
   {
    "duration": 9,
    "start_time": "2023-07-06T09:30:09.561Z"
   },
   {
    "duration": 15,
    "start_time": "2023-07-06T09:30:28.004Z"
   },
   {
    "duration": 13,
    "start_time": "2023-07-06T09:33:57.877Z"
   },
   {
    "duration": 10,
    "start_time": "2023-07-06T09:34:18.735Z"
   },
   {
    "duration": 59,
    "start_time": "2023-07-06T09:37:10.407Z"
   },
   {
    "duration": 15,
    "start_time": "2023-07-06T09:37:13.196Z"
   },
   {
    "duration": 10,
    "start_time": "2023-07-06T09:37:19.748Z"
   },
   {
    "duration": 3,
    "start_time": "2023-07-06T09:37:39.635Z"
   },
   {
    "duration": 12,
    "start_time": "2023-07-06T09:37:42.443Z"
   },
   {
    "duration": 11,
    "start_time": "2023-07-06T09:38:49.710Z"
   },
   {
    "duration": 4,
    "start_time": "2023-07-06T09:39:17.276Z"
   },
   {
    "duration": 12,
    "start_time": "2023-07-06T09:39:20.281Z"
   },
   {
    "duration": 14523,
    "start_time": "2023-07-06T09:39:33.702Z"
   },
   {
    "duration": 3,
    "start_time": "2023-07-06T09:40:29.944Z"
   },
   {
    "duration": 14616,
    "start_time": "2023-07-06T09:40:33.184Z"
   },
   {
    "duration": 12,
    "start_time": "2023-07-06T11:12:31.402Z"
   },
   {
    "duration": 30184,
    "start_time": "2023-07-06T11:12:37.295Z"
   },
   {
    "duration": 17513,
    "start_time": "2023-07-06T11:16:59.295Z"
   },
   {
    "duration": 4808,
    "start_time": "2023-07-06T11:19:08.107Z"
   },
   {
    "duration": 17268,
    "start_time": "2023-07-06T11:42:48.637Z"
   },
   {
    "duration": 28901,
    "start_time": "2023-07-06T11:43:11.850Z"
   },
   {
    "duration": 11,
    "start_time": "2023-07-06T11:43:52.918Z"
   },
   {
    "duration": 11,
    "start_time": "2023-07-06T11:44:19.980Z"
   },
   {
    "duration": 4406,
    "start_time": "2023-07-06T11:44:24.693Z"
   },
   {
    "duration": 17037,
    "start_time": "2023-07-06T11:45:58.498Z"
   },
   {
    "duration": 28992,
    "start_time": "2023-07-06T11:46:15.537Z"
   },
   {
    "duration": 6825,
    "start_time": "2023-07-06T11:46:44.531Z"
   },
   {
    "duration": 3174,
    "start_time": "2023-07-06T11:47:29.197Z"
   },
   {
    "duration": 2761,
    "start_time": "2023-07-07T12:11:25.571Z"
   },
   {
    "duration": 3226,
    "start_time": "2023-07-07T12:11:28.334Z"
   },
   {
    "duration": 26,
    "start_time": "2023-07-07T12:11:31.562Z"
   },
   {
    "duration": 61,
    "start_time": "2023-07-07T12:11:31.590Z"
   },
   {
    "duration": 79,
    "start_time": "2023-07-07T12:11:31.653Z"
   },
   {
    "duration": 37,
    "start_time": "2023-07-07T12:11:31.734Z"
   },
   {
    "duration": 40,
    "start_time": "2023-07-07T12:11:31.772Z"
   },
   {
    "duration": 63,
    "start_time": "2023-07-07T12:11:31.814Z"
   },
   {
    "duration": 82,
    "start_time": "2023-07-07T12:11:31.879Z"
   },
   {
    "duration": 25,
    "start_time": "2023-07-07T12:11:31.964Z"
   },
   {
    "duration": 55,
    "start_time": "2023-07-07T12:11:31.991Z"
   },
   {
    "duration": 43,
    "start_time": "2023-07-07T12:11:32.047Z"
   },
   {
    "duration": 53,
    "start_time": "2023-07-07T12:11:32.092Z"
   },
   {
    "duration": 44,
    "start_time": "2023-07-07T12:11:32.147Z"
   },
   {
    "duration": 33,
    "start_time": "2023-07-07T12:11:32.193Z"
   },
   {
    "duration": 16,
    "start_time": "2023-07-07T12:11:32.227Z"
   },
   {
    "duration": 43,
    "start_time": "2023-07-07T12:11:32.245Z"
   },
   {
    "duration": 28,
    "start_time": "2023-07-07T12:11:32.290Z"
   },
   {
    "duration": 12,
    "start_time": "2023-07-07T12:11:32.319Z"
   },
   {
    "duration": 18,
    "start_time": "2023-07-07T12:11:32.334Z"
   },
   {
    "duration": 33,
    "start_time": "2023-07-07T12:11:32.354Z"
   },
   {
    "duration": 13,
    "start_time": "2023-07-07T12:11:32.389Z"
   },
   {
    "duration": 166,
    "start_time": "2023-07-07T12:11:32.404Z"
   },
   {
    "duration": 23,
    "start_time": "2023-07-07T12:11:32.571Z"
   },
   {
    "duration": 116,
    "start_time": "2023-07-07T12:11:32.596Z"
   },
   {
    "duration": 4,
    "start_time": "2023-07-07T12:11:32.713Z"
   },
   {
    "duration": 218,
    "start_time": "2023-07-07T12:11:32.718Z"
   },
   {
    "duration": 8,
    "start_time": "2023-07-07T12:11:32.938Z"
   },
   {
    "duration": 20,
    "start_time": "2023-07-07T12:11:32.947Z"
   },
   {
    "duration": 124,
    "start_time": "2023-07-07T12:11:32.969Z"
   },
   {
    "duration": 122,
    "start_time": "2023-07-07T12:11:33.094Z"
   },
   {
    "duration": 1278,
    "start_time": "2023-07-07T12:11:33.218Z"
   },
   {
    "duration": 1249,
    "start_time": "2023-07-07T12:11:34.498Z"
   },
   {
    "duration": 1341,
    "start_time": "2023-07-07T12:11:35.749Z"
   },
   {
    "duration": 1702,
    "start_time": "2023-07-07T15:59:31.412Z"
   },
   {
    "duration": 3406,
    "start_time": "2023-07-07T15:59:33.116Z"
   },
   {
    "duration": 24,
    "start_time": "2023-07-07T15:59:36.524Z"
   },
   {
    "duration": 32,
    "start_time": "2023-07-07T15:59:36.550Z"
   },
   {
    "duration": 20,
    "start_time": "2023-07-07T15:59:36.584Z"
   },
   {
    "duration": 19,
    "start_time": "2023-07-07T15:59:36.606Z"
   },
   {
    "duration": 4,
    "start_time": "2023-07-07T15:59:36.627Z"
   },
   {
    "duration": 22,
    "start_time": "2023-07-07T15:59:36.633Z"
   },
   {
    "duration": 7,
    "start_time": "2023-07-07T15:59:36.657Z"
   },
   {
    "duration": 12,
    "start_time": "2023-07-07T15:59:36.667Z"
   },
   {
    "duration": 8,
    "start_time": "2023-07-07T15:59:36.681Z"
   },
   {
    "duration": 22,
    "start_time": "2023-07-07T15:59:36.690Z"
   },
   {
    "duration": 8,
    "start_time": "2023-07-07T15:59:36.714Z"
   },
   {
    "duration": 15,
    "start_time": "2023-07-07T15:59:36.724Z"
   },
   {
    "duration": 10,
    "start_time": "2023-07-07T15:59:36.741Z"
   },
   {
    "duration": 34,
    "start_time": "2023-07-07T15:59:36.752Z"
   },
   {
    "duration": 7,
    "start_time": "2023-07-07T15:59:36.788Z"
   },
   {
    "duration": 8,
    "start_time": "2023-07-07T15:59:36.796Z"
   },
   {
    "duration": 8,
    "start_time": "2023-07-07T15:59:36.805Z"
   },
   {
    "duration": 10,
    "start_time": "2023-07-07T15:59:36.814Z"
   },
   {
    "duration": 54,
    "start_time": "2023-07-07T15:59:36.825Z"
   },
   {
    "duration": 11,
    "start_time": "2023-07-07T15:59:36.881Z"
   },
   {
    "duration": 137,
    "start_time": "2023-07-07T15:59:36.894Z"
   },
   {
    "duration": 26,
    "start_time": "2023-07-07T15:59:37.033Z"
   },
   {
    "duration": 118,
    "start_time": "2023-07-07T15:59:37.061Z"
   },
   {
    "duration": 4,
    "start_time": "2023-07-07T15:59:37.182Z"
   },
   {
    "duration": 224,
    "start_time": "2023-07-07T15:59:37.187Z"
   },
   {
    "duration": 7,
    "start_time": "2023-07-07T15:59:37.415Z"
   },
   {
    "duration": 8,
    "start_time": "2023-07-07T15:59:37.424Z"
   },
   {
    "duration": 125,
    "start_time": "2023-07-07T15:59:37.433Z"
   },
   {
    "duration": 125,
    "start_time": "2023-07-07T15:59:37.560Z"
   },
   {
    "duration": 1211,
    "start_time": "2023-07-07T15:59:37.686Z"
   },
   {
    "duration": 1231,
    "start_time": "2023-07-07T15:59:38.899Z"
   },
   {
    "duration": 1324,
    "start_time": "2023-07-07T15:59:40.132Z"
   },
   {
    "duration": 708,
    "start_time": "2023-07-07T15:59:41.458Z"
   },
   {
    "duration": 439,
    "start_time": "2023-07-07T15:59:42.167Z"
   },
   {
    "duration": 6,
    "start_time": "2023-07-07T15:59:42.608Z"
   },
   {
    "duration": 1084,
    "start_time": "2023-07-07T15:59:42.616Z"
   },
   {
    "duration": 1117,
    "start_time": "2023-07-07T15:59:43.701Z"
   },
   {
    "duration": 63,
    "start_time": "2023-07-07T15:59:44.819Z"
   },
   {
    "duration": 864,
    "start_time": "2023-07-07T15:59:44.887Z"
   },
   {
    "duration": 22,
    "start_time": "2023-07-07T15:59:45.753Z"
   },
   {
    "duration": 8,
    "start_time": "2023-07-07T15:59:45.777Z"
   },
   {
    "duration": 3,
    "start_time": "2023-07-07T15:59:45.787Z"
   },
   {
    "duration": 16,
    "start_time": "2023-07-07T15:59:45.793Z"
   },
   {
    "duration": 5,
    "start_time": "2023-07-07T15:59:45.811Z"
   },
   {
    "duration": 10,
    "start_time": "2023-07-07T15:59:45.818Z"
   },
   {
    "duration": 7,
    "start_time": "2023-07-07T15:59:45.830Z"
   },
   {
    "duration": 29,
    "start_time": "2023-07-07T15:59:45.839Z"
   },
   {
    "duration": 9,
    "start_time": "2023-07-07T15:59:45.870Z"
   },
   {
    "duration": 164,
    "start_time": "2023-07-07T15:59:45.884Z"
   },
   {
    "duration": 10,
    "start_time": "2023-07-07T15:59:46.050Z"
   },
   {
    "duration": 23,
    "start_time": "2023-07-07T15:59:46.061Z"
   },
   {
    "duration": 14,
    "start_time": "2023-07-07T15:59:46.086Z"
   },
   {
    "duration": 15778,
    "start_time": "2023-07-07T15:59:46.101Z"
   },
   {
    "duration": 25321,
    "start_time": "2023-07-07T16:00:01.880Z"
   },
   {
    "duration": 1571,
    "start_time": "2023-07-07T16:00:27.203Z"
   },
   {
    "duration": 3149,
    "start_time": "2023-07-07T16:00:28.776Z"
   },
   {
    "duration": 3,
    "start_time": "2023-07-07T16:20:06.342Z"
   },
   {
    "duration": 21,
    "start_time": "2023-07-07T16:20:25.499Z"
   },
   {
    "duration": 394,
    "start_time": "2023-07-07T16:20:40.283Z"
   },
   {
    "duration": 752,
    "start_time": "2023-07-07T16:20:40.679Z"
   },
   {
    "duration": 26,
    "start_time": "2023-07-07T16:20:41.433Z"
   },
   {
    "duration": 19,
    "start_time": "2023-07-07T16:20:41.468Z"
   },
   {
    "duration": 31,
    "start_time": "2023-07-07T16:20:41.488Z"
   },
   {
    "duration": 11,
    "start_time": "2023-07-07T16:20:41.521Z"
   },
   {
    "duration": 4,
    "start_time": "2023-07-07T16:20:41.533Z"
   },
   {
    "duration": 17,
    "start_time": "2023-07-07T16:20:41.538Z"
   },
   {
    "duration": 75,
    "start_time": "2023-07-07T16:20:41.557Z"
   },
   {
    "duration": 0,
    "start_time": "2023-07-07T16:20:41.636Z"
   },
   {
    "duration": 0,
    "start_time": "2023-07-07T16:20:41.637Z"
   },
   {
    "duration": 0,
    "start_time": "2023-07-07T16:20:41.638Z"
   },
   {
    "duration": 0,
    "start_time": "2023-07-07T16:20:41.639Z"
   },
   {
    "duration": 0,
    "start_time": "2023-07-07T16:20:41.640Z"
   },
   {
    "duration": 0,
    "start_time": "2023-07-07T16:20:41.641Z"
   },
   {
    "duration": 0,
    "start_time": "2023-07-07T16:20:41.642Z"
   },
   {
    "duration": 0,
    "start_time": "2023-07-07T16:20:41.643Z"
   },
   {
    "duration": 0,
    "start_time": "2023-07-07T16:20:41.644Z"
   },
   {
    "duration": 0,
    "start_time": "2023-07-07T16:20:41.645Z"
   },
   {
    "duration": 0,
    "start_time": "2023-07-07T16:20:41.646Z"
   },
   {
    "duration": 0,
    "start_time": "2023-07-07T16:20:41.647Z"
   },
   {
    "duration": 0,
    "start_time": "2023-07-07T16:20:41.648Z"
   },
   {
    "duration": 0,
    "start_time": "2023-07-07T16:20:41.649Z"
   },
   {
    "duration": 0,
    "start_time": "2023-07-07T16:20:41.650Z"
   },
   {
    "duration": 0,
    "start_time": "2023-07-07T16:20:41.651Z"
   },
   {
    "duration": 0,
    "start_time": "2023-07-07T16:20:41.668Z"
   },
   {
    "duration": 0,
    "start_time": "2023-07-07T16:20:41.669Z"
   },
   {
    "duration": 0,
    "start_time": "2023-07-07T16:20:41.671Z"
   },
   {
    "duration": 0,
    "start_time": "2023-07-07T16:20:41.672Z"
   },
   {
    "duration": 0,
    "start_time": "2023-07-07T16:20:41.673Z"
   },
   {
    "duration": 0,
    "start_time": "2023-07-07T16:20:41.674Z"
   },
   {
    "duration": 0,
    "start_time": "2023-07-07T16:20:41.676Z"
   },
   {
    "duration": 0,
    "start_time": "2023-07-07T16:20:41.677Z"
   },
   {
    "duration": 0,
    "start_time": "2023-07-07T16:20:41.679Z"
   },
   {
    "duration": 0,
    "start_time": "2023-07-07T16:20:41.680Z"
   },
   {
    "duration": 0,
    "start_time": "2023-07-07T16:20:41.681Z"
   },
   {
    "duration": 0,
    "start_time": "2023-07-07T16:20:41.683Z"
   },
   {
    "duration": 0,
    "start_time": "2023-07-07T16:20:41.684Z"
   },
   {
    "duration": 0,
    "start_time": "2023-07-07T16:20:41.685Z"
   },
   {
    "duration": 0,
    "start_time": "2023-07-07T16:20:41.687Z"
   },
   {
    "duration": 0,
    "start_time": "2023-07-07T16:20:41.688Z"
   },
   {
    "duration": 0,
    "start_time": "2023-07-07T16:20:41.691Z"
   },
   {
    "duration": 0,
    "start_time": "2023-07-07T16:20:41.692Z"
   },
   {
    "duration": 0,
    "start_time": "2023-07-07T16:20:41.693Z"
   },
   {
    "duration": 0,
    "start_time": "2023-07-07T16:20:41.694Z"
   },
   {
    "duration": 0,
    "start_time": "2023-07-07T16:20:41.695Z"
   },
   {
    "duration": 0,
    "start_time": "2023-07-07T16:20:41.696Z"
   },
   {
    "duration": 0,
    "start_time": "2023-07-07T16:20:41.697Z"
   },
   {
    "duration": 0,
    "start_time": "2023-07-07T16:20:41.699Z"
   },
   {
    "duration": 0,
    "start_time": "2023-07-07T16:20:41.700Z"
   },
   {
    "duration": 0,
    "start_time": "2023-07-07T16:20:41.701Z"
   },
   {
    "duration": 0,
    "start_time": "2023-07-07T16:20:41.702Z"
   },
   {
    "duration": 0,
    "start_time": "2023-07-07T16:20:41.703Z"
   },
   {
    "duration": 0,
    "start_time": "2023-07-07T16:20:41.768Z"
   },
   {
    "duration": 0,
    "start_time": "2023-07-07T16:20:41.769Z"
   },
   {
    "duration": 0,
    "start_time": "2023-07-07T16:20:41.770Z"
   },
   {
    "duration": 0,
    "start_time": "2023-07-07T16:20:41.771Z"
   },
   {
    "duration": 0,
    "start_time": "2023-07-07T16:20:41.772Z"
   },
   {
    "duration": 806,
    "start_time": "2023-07-07T16:22:33.618Z"
   },
   {
    "duration": 381,
    "start_time": "2023-07-07T16:23:11.297Z"
   },
   {
    "duration": 760,
    "start_time": "2023-07-07T16:23:12.799Z"
   },
   {
    "duration": 28,
    "start_time": "2023-07-07T16:23:15.823Z"
   },
   {
    "duration": 19,
    "start_time": "2023-07-07T16:23:15.949Z"
   },
   {
    "duration": 22,
    "start_time": "2023-07-07T16:23:16.067Z"
   },
   {
    "duration": 4,
    "start_time": "2023-07-07T16:23:41.029Z"
   },
   {
    "duration": 3,
    "start_time": "2023-07-07T16:24:07.268Z"
   },
   {
    "duration": 9,
    "start_time": "2023-07-07T16:25:10.358Z"
   },
   {
    "duration": 58,
    "start_time": "2023-07-07T16:25:14.529Z"
   },
   {
    "duration": 709,
    "start_time": "2023-07-07T16:25:22.297Z"
   },
   {
    "duration": 5,
    "start_time": "2023-07-07T16:25:29.132Z"
   },
   {
    "duration": 3,
    "start_time": "2023-07-07T16:27:42.791Z"
   },
   {
    "duration": 3,
    "start_time": "2023-07-07T16:28:01.588Z"
   },
   {
    "duration": 16,
    "start_time": "2023-07-07T16:28:10.294Z"
   },
   {
    "duration": 11,
    "start_time": "2023-07-07T16:29:40.059Z"
   },
   {
    "duration": 16,
    "start_time": "2023-07-07T16:29:40.202Z"
   },
   {
    "duration": 9,
    "start_time": "2023-07-07T16:29:43.030Z"
   },
   {
    "duration": 10,
    "start_time": "2023-07-07T16:30:02.129Z"
   },
   {
    "duration": 7,
    "start_time": "2023-07-07T16:30:18.586Z"
   },
   {
    "duration": 7,
    "start_time": "2023-07-07T16:30:23.228Z"
   },
   {
    "duration": 38,
    "start_time": "2023-07-07T16:31:34.482Z"
   },
   {
    "duration": 3,
    "start_time": "2023-07-07T16:31:37.656Z"
   },
   {
    "duration": 7,
    "start_time": "2023-07-07T16:31:43.322Z"
   },
   {
    "duration": 7,
    "start_time": "2023-07-07T16:32:00.846Z"
   },
   {
    "duration": 90,
    "start_time": "2023-07-07T16:32:12.642Z"
   },
   {
    "duration": 7,
    "start_time": "2023-07-07T16:32:13.057Z"
   },
   {
    "duration": 3,
    "start_time": "2023-07-07T16:32:17.173Z"
   },
   {
    "duration": 10,
    "start_time": "2023-07-07T16:32:17.800Z"
   },
   {
    "duration": 17,
    "start_time": "2023-07-07T16:32:19.552Z"
   },
   {
    "duration": 9,
    "start_time": "2023-07-07T16:32:29.330Z"
   },
   {
    "duration": 17,
    "start_time": "2023-07-07T16:32:31.462Z"
   },
   {
    "duration": 9,
    "start_time": "2023-07-07T16:32:41.834Z"
   },
   {
    "duration": 8,
    "start_time": "2023-07-07T16:32:51.351Z"
   },
   {
    "duration": 8,
    "start_time": "2023-07-07T16:32:57.940Z"
   },
   {
    "duration": 9,
    "start_time": "2023-07-07T16:33:28.851Z"
   },
   {
    "duration": 10,
    "start_time": "2023-07-07T16:33:39.101Z"
   },
   {
    "duration": 24,
    "start_time": "2023-07-07T16:33:41.134Z"
   },
   {
    "duration": 10,
    "start_time": "2023-07-07T16:33:50.086Z"
   },
   {
    "duration": 135,
    "start_time": "2023-07-07T16:33:56.255Z"
   },
   {
    "duration": 23,
    "start_time": "2023-07-07T16:33:56.392Z"
   },
   {
    "duration": 104,
    "start_time": "2023-07-07T16:33:56.503Z"
   },
   {
    "duration": 4,
    "start_time": "2023-07-07T16:34:58.657Z"
   },
   {
    "duration": 174,
    "start_time": "2023-07-07T16:34:58.938Z"
   },
   {
    "duration": 487,
    "start_time": "2023-07-07T16:35:42.403Z"
   },
   {
    "duration": 228,
    "start_time": "2023-07-07T16:36:24.041Z"
   },
   {
    "duration": 201,
    "start_time": "2023-07-07T16:36:36.131Z"
   },
   {
    "duration": 105,
    "start_time": "2023-07-07T16:37:12.263Z"
   },
   {
    "duration": 236,
    "start_time": "2023-07-07T16:37:20.841Z"
   },
   {
    "duration": 9,
    "start_time": "2023-07-07T16:37:27.396Z"
   },
   {
    "duration": 9,
    "start_time": "2023-07-07T16:37:28.546Z"
   },
   {
    "duration": 9,
    "start_time": "2023-07-07T16:37:52.680Z"
   },
   {
    "duration": 264,
    "start_time": "2023-07-07T16:38:00.741Z"
   },
   {
    "duration": 103,
    "start_time": "2023-07-07T16:38:07.776Z"
   },
   {
    "duration": 98,
    "start_time": "2023-07-07T16:38:20.173Z"
   },
   {
    "duration": 222,
    "start_time": "2023-07-07T16:41:14.257Z"
   },
   {
    "duration": 221,
    "start_time": "2023-07-07T16:41:33.559Z"
   },
   {
    "duration": 216,
    "start_time": "2023-07-07T16:41:46.933Z"
   },
   {
    "duration": 196,
    "start_time": "2023-07-07T16:47:08.558Z"
   },
   {
    "duration": 127,
    "start_time": "2023-07-07T16:47:23.944Z"
   },
   {
    "duration": 217,
    "start_time": "2023-07-07T16:47:31.539Z"
   },
   {
    "duration": 255,
    "start_time": "2023-07-07T16:52:59.235Z"
   },
   {
    "duration": 381,
    "start_time": "2023-07-07T16:53:22.874Z"
   },
   {
    "duration": 1694,
    "start_time": "2023-07-07T16:53:41.334Z"
   },
   {
    "duration": 1096,
    "start_time": "2023-07-07T16:55:02.139Z"
   },
   {
    "duration": 1980,
    "start_time": "2023-07-07T16:56:01.631Z"
   },
   {
    "duration": 1761,
    "start_time": "2023-07-07T16:57:59.534Z"
   },
   {
    "duration": 153,
    "start_time": "2023-07-07T16:58:09.462Z"
   },
   {
    "duration": 356,
    "start_time": "2023-07-07T16:58:30.377Z"
   },
   {
    "duration": 331,
    "start_time": "2023-07-07T16:58:43.168Z"
   },
   {
    "duration": 92,
    "start_time": "2023-07-07T17:00:10.659Z"
   },
   {
    "duration": 1689,
    "start_time": "2023-07-07T17:00:36.248Z"
   },
   {
    "duration": 2151,
    "start_time": "2023-07-07T17:00:44.836Z"
   },
   {
    "duration": 2070,
    "start_time": "2023-07-07T17:01:27.894Z"
   },
   {
    "duration": 2450,
    "start_time": "2023-07-07T17:05:25.367Z"
   },
   {
    "duration": 2111,
    "start_time": "2023-07-07T17:07:43.910Z"
   },
   {
    "duration": 1953,
    "start_time": "2023-07-07T17:08:12.178Z"
   },
   {
    "duration": 1163,
    "start_time": "2023-07-07T17:08:21.514Z"
   },
   {
    "duration": 295,
    "start_time": "2023-07-07T17:09:38.082Z"
   },
   {
    "duration": 331,
    "start_time": "2023-07-07T17:10:01.005Z"
   },
   {
    "duration": 85,
    "start_time": "2023-07-07T17:10:55.179Z"
   },
   {
    "duration": 2196,
    "start_time": "2023-07-07T17:11:02.350Z"
   },
   {
    "duration": 1710,
    "start_time": "2023-07-07T17:14:09.034Z"
   },
   {
    "duration": 1947,
    "start_time": "2023-07-07T17:14:29.880Z"
   },
   {
    "duration": 1151,
    "start_time": "2023-07-07T17:14:45.437Z"
   },
   {
    "duration": 1080,
    "start_time": "2023-07-07T17:15:02.260Z"
   },
   {
    "duration": 1436,
    "start_time": "2023-07-07T17:15:18.611Z"
   },
   {
    "duration": 584,
    "start_time": "2023-07-07T17:23:35.136Z"
   },
   {
    "duration": 1221,
    "start_time": "2023-07-07T17:23:42.237Z"
   },
   {
    "duration": 5,
    "start_time": "2023-07-07T17:33:59.938Z"
   },
   {
    "duration": 5,
    "start_time": "2023-07-07T17:34:36.065Z"
   },
   {
    "duration": 6,
    "start_time": "2023-07-07T17:34:50.609Z"
   },
   {
    "duration": 1290,
    "start_time": "2023-07-07T17:35:14.536Z"
   },
   {
    "duration": 106,
    "start_time": "2023-07-07T18:28:07.378Z"
   },
   {
    "duration": 1208,
    "start_time": "2023-07-07T18:28:19.474Z"
   },
   {
    "duration": 1348,
    "start_time": "2023-07-07T18:28:35.251Z"
   },
   {
    "duration": 1383,
    "start_time": "2023-07-07T18:28:57.681Z"
   },
   {
    "duration": 1050,
    "start_time": "2023-07-07T18:29:19.546Z"
   },
   {
    "duration": 439,
    "start_time": "2023-07-07T18:29:48.583Z"
   },
   {
    "duration": 335,
    "start_time": "2023-07-07T18:30:42.143Z"
   },
   {
    "duration": 1178,
    "start_time": "2023-07-07T18:30:56.983Z"
   },
   {
    "duration": 1427,
    "start_time": "2023-07-07T18:31:34.155Z"
   },
   {
    "duration": 1941,
    "start_time": "2023-07-07T18:31:43.641Z"
   },
   {
    "duration": 1753,
    "start_time": "2023-07-07T18:32:04.379Z"
   },
   {
    "duration": 1704,
    "start_time": "2023-07-07T18:32:10.215Z"
   },
   {
    "duration": 6,
    "start_time": "2023-07-07T18:34:14.223Z"
   },
   {
    "duration": 1042,
    "start_time": "2023-07-07T18:34:17.715Z"
   },
   {
    "duration": 8,
    "start_time": "2023-07-07T18:37:20.228Z"
   },
   {
    "duration": 6,
    "start_time": "2023-07-07T18:38:05.837Z"
   },
   {
    "duration": 8,
    "start_time": "2023-07-07T18:38:13.301Z"
   },
   {
    "duration": 9,
    "start_time": "2023-07-07T18:38:26.301Z"
   },
   {
    "duration": 8,
    "start_time": "2023-07-07T18:38:53.407Z"
   },
   {
    "duration": 4,
    "start_time": "2023-07-07T18:39:06.681Z"
   },
   {
    "duration": 7,
    "start_time": "2023-07-07T18:39:13.135Z"
   },
   {
    "duration": 83,
    "start_time": "2023-07-07T18:40:16.300Z"
   },
   {
    "duration": 5,
    "start_time": "2023-07-07T18:42:36.943Z"
   },
   {
    "duration": 4,
    "start_time": "2023-07-07T18:42:58.691Z"
   },
   {
    "duration": 31,
    "start_time": "2023-07-07T18:43:08.233Z"
   },
   {
    "duration": 7,
    "start_time": "2023-07-07T18:44:17.280Z"
   },
   {
    "duration": 6,
    "start_time": "2023-07-07T18:44:28.962Z"
   },
   {
    "duration": 10,
    "start_time": "2023-07-07T18:44:49.232Z"
   },
   {
    "duration": 7,
    "start_time": "2023-07-07T18:44:55.771Z"
   },
   {
    "duration": 10,
    "start_time": "2023-07-07T18:45:07.247Z"
   },
   {
    "duration": 6,
    "start_time": "2023-07-07T18:45:12.382Z"
   },
   {
    "duration": 5,
    "start_time": "2023-07-07T18:45:18.863Z"
   },
   {
    "duration": 5,
    "start_time": "2023-07-07T18:45:26.613Z"
   },
   {
    "duration": 5,
    "start_time": "2023-07-07T18:45:40.980Z"
   },
   {
    "duration": 5,
    "start_time": "2023-07-07T18:45:54.248Z"
   },
   {
    "duration": 5,
    "start_time": "2023-07-07T18:46:11.471Z"
   },
   {
    "duration": 5,
    "start_time": "2023-07-07T18:46:45.637Z"
   },
   {
    "duration": 6,
    "start_time": "2023-07-07T18:47:32.459Z"
   },
   {
    "duration": 89,
    "start_time": "2023-07-07T18:47:33.064Z"
   },
   {
    "duration": 5,
    "start_time": "2023-07-07T18:47:40.952Z"
   },
   {
    "duration": 82,
    "start_time": "2023-07-07T18:47:41.567Z"
   },
   {
    "duration": 7,
    "start_time": "2023-07-07T18:48:01.469Z"
   },
   {
    "duration": 5,
    "start_time": "2023-07-07T18:48:18.907Z"
   },
   {
    "duration": 98,
    "start_time": "2023-07-07T18:48:22.543Z"
   },
   {
    "duration": 82,
    "start_time": "2023-07-07T18:48:27.173Z"
   },
   {
    "duration": 5,
    "start_time": "2023-07-07T18:48:29.955Z"
   },
   {
    "duration": 3,
    "start_time": "2023-07-07T18:51:35.393Z"
   },
   {
    "duration": 9,
    "start_time": "2023-07-07T18:51:48.305Z"
   },
   {
    "duration": 17,
    "start_time": "2023-07-07T18:52:05.348Z"
   },
   {
    "duration": 11,
    "start_time": "2023-07-07T18:52:20.780Z"
   },
   {
    "duration": 9,
    "start_time": "2023-07-07T18:52:39.508Z"
   },
   {
    "duration": 9,
    "start_time": "2023-07-07T18:52:50.101Z"
   },
   {
    "duration": 47,
    "start_time": "2023-07-07T18:53:04.258Z"
   },
   {
    "duration": 39,
    "start_time": "2023-07-07T18:53:17.560Z"
   },
   {
    "duration": 5,
    "start_time": "2023-07-07T18:53:33.450Z"
   },
   {
    "duration": 49,
    "start_time": "2023-07-07T18:53:37.698Z"
   },
   {
    "duration": 13,
    "start_time": "2023-07-07T19:17:31.709Z"
   },
   {
    "duration": 3,
    "start_time": "2023-07-07T19:17:32.105Z"
   },
   {
    "duration": 3,
    "start_time": "2023-07-07T19:18:15.169Z"
   },
   {
    "duration": 4,
    "start_time": "2023-07-07T19:18:39.414Z"
   },
   {
    "duration": 4,
    "start_time": "2023-07-07T19:18:46.381Z"
   },
   {
    "duration": 10,
    "start_time": "2023-07-07T19:18:52.398Z"
   },
   {
    "duration": 5,
    "start_time": "2023-07-07T19:18:52.612Z"
   },
   {
    "duration": 5,
    "start_time": "2023-07-07T19:20:07.621Z"
   },
   {
    "duration": 4,
    "start_time": "2023-07-07T19:20:09.732Z"
   },
   {
    "duration": 14,
    "start_time": "2023-07-07T19:20:11.887Z"
   },
   {
    "duration": 149,
    "start_time": "2023-07-07T19:20:55.894Z"
   },
   {
    "duration": 10,
    "start_time": "2023-07-07T19:21:05.682Z"
   },
   {
    "duration": 4,
    "start_time": "2023-07-07T19:21:18.341Z"
   },
   {
    "duration": 13,
    "start_time": "2023-07-07T19:21:29.059Z"
   },
   {
    "duration": 2,
    "start_time": "2023-07-07T19:22:01.442Z"
   },
   {
    "duration": 9,
    "start_time": "2023-07-07T19:22:09.443Z"
   },
   {
    "duration": 16,
    "start_time": "2023-07-07T19:22:13.536Z"
   },
   {
    "duration": 11,
    "start_time": "2023-07-07T19:22:15.707Z"
   },
   {
    "duration": 3,
    "start_time": "2023-07-07T19:59:07.946Z"
   },
   {
    "duration": 11,
    "start_time": "2023-07-07T19:59:13.452Z"
   },
   {
    "duration": 14,
    "start_time": "2023-07-07T19:59:33.924Z"
   },
   {
    "duration": 10,
    "start_time": "2023-07-07T20:01:42.533Z"
   },
   {
    "duration": 3,
    "start_time": "2023-07-07T20:01:47.666Z"
   },
   {
    "duration": 3,
    "start_time": "2023-07-07T20:01:47.832Z"
   },
   {
    "duration": 10,
    "start_time": "2023-07-07T20:01:51.030Z"
   },
   {
    "duration": 62,
    "start_time": "2023-07-07T20:02:23.310Z"
   },
   {
    "duration": 21,
    "start_time": "2023-07-07T20:02:33.603Z"
   },
   {
    "duration": 3,
    "start_time": "2023-07-07T20:02:42.336Z"
   },
   {
    "duration": 10,
    "start_time": "2023-07-07T20:02:45.375Z"
   },
   {
    "duration": 9,
    "start_time": "2023-07-07T20:03:23.232Z"
   },
   {
    "duration": 15765,
    "start_time": "2023-07-07T20:03:38.032Z"
   },
   {
    "duration": 5,
    "start_time": "2023-07-07T20:03:53.960Z"
   },
   {
    "duration": 14266,
    "start_time": "2023-07-07T20:03:57.203Z"
   },
   {
    "duration": 83,
    "start_time": "2023-07-07T20:04:50.419Z"
   },
   {
    "duration": 1430,
    "start_time": "2023-07-07T20:07:14.799Z"
   },
   {
    "duration": 803,
    "start_time": "2023-07-07T20:07:16.232Z"
   },
   {
    "duration": 41,
    "start_time": "2023-07-07T20:07:17.037Z"
   },
   {
    "duration": 31,
    "start_time": "2023-07-07T20:07:17.080Z"
   },
   {
    "duration": 30,
    "start_time": "2023-07-07T20:07:17.112Z"
   },
   {
    "duration": 4,
    "start_time": "2023-07-07T20:07:17.144Z"
   },
   {
    "duration": 19,
    "start_time": "2023-07-07T20:07:17.150Z"
   },
   {
    "duration": 157,
    "start_time": "2023-07-07T20:07:17.172Z"
   },
   {
    "duration": 0,
    "start_time": "2023-07-07T20:07:17.333Z"
   },
   {
    "duration": 0,
    "start_time": "2023-07-07T20:07:17.335Z"
   },
   {
    "duration": 0,
    "start_time": "2023-07-07T20:07:17.336Z"
   },
   {
    "duration": 0,
    "start_time": "2023-07-07T20:07:17.337Z"
   },
   {
    "duration": 0,
    "start_time": "2023-07-07T20:07:17.338Z"
   },
   {
    "duration": 0,
    "start_time": "2023-07-07T20:07:17.339Z"
   },
   {
    "duration": 0,
    "start_time": "2023-07-07T20:07:17.340Z"
   },
   {
    "duration": 0,
    "start_time": "2023-07-07T20:07:17.341Z"
   },
   {
    "duration": 0,
    "start_time": "2023-07-07T20:07:17.342Z"
   },
   {
    "duration": 0,
    "start_time": "2023-07-07T20:07:17.344Z"
   },
   {
    "duration": 0,
    "start_time": "2023-07-07T20:07:17.345Z"
   },
   {
    "duration": 0,
    "start_time": "2023-07-07T20:07:17.368Z"
   },
   {
    "duration": 0,
    "start_time": "2023-07-07T20:07:17.369Z"
   },
   {
    "duration": 0,
    "start_time": "2023-07-07T20:07:17.370Z"
   },
   {
    "duration": 0,
    "start_time": "2023-07-07T20:07:17.371Z"
   },
   {
    "duration": 0,
    "start_time": "2023-07-07T20:07:17.373Z"
   },
   {
    "duration": 0,
    "start_time": "2023-07-07T20:07:17.374Z"
   },
   {
    "duration": 0,
    "start_time": "2023-07-07T20:07:17.375Z"
   },
   {
    "duration": 0,
    "start_time": "2023-07-07T20:07:17.377Z"
   },
   {
    "duration": 0,
    "start_time": "2023-07-07T20:07:17.379Z"
   },
   {
    "duration": 0,
    "start_time": "2023-07-07T20:07:17.380Z"
   },
   {
    "duration": 0,
    "start_time": "2023-07-07T20:07:17.381Z"
   },
   {
    "duration": 0,
    "start_time": "2023-07-07T20:07:17.383Z"
   },
   {
    "duration": 0,
    "start_time": "2023-07-07T20:07:17.384Z"
   },
   {
    "duration": 0,
    "start_time": "2023-07-07T20:07:17.386Z"
   },
   {
    "duration": 0,
    "start_time": "2023-07-07T20:07:17.387Z"
   },
   {
    "duration": 0,
    "start_time": "2023-07-07T20:07:17.390Z"
   },
   {
    "duration": 0,
    "start_time": "2023-07-07T20:07:17.393Z"
   },
   {
    "duration": 0,
    "start_time": "2023-07-07T20:07:17.394Z"
   },
   {
    "duration": 0,
    "start_time": "2023-07-07T20:07:17.395Z"
   },
   {
    "duration": 0,
    "start_time": "2023-07-07T20:07:17.397Z"
   },
   {
    "duration": 0,
    "start_time": "2023-07-07T20:07:17.398Z"
   },
   {
    "duration": 0,
    "start_time": "2023-07-07T20:07:17.399Z"
   },
   {
    "duration": 0,
    "start_time": "2023-07-07T20:07:17.400Z"
   },
   {
    "duration": 0,
    "start_time": "2023-07-07T20:07:17.402Z"
   },
   {
    "duration": 0,
    "start_time": "2023-07-07T20:07:17.403Z"
   },
   {
    "duration": 0,
    "start_time": "2023-07-07T20:07:17.404Z"
   },
   {
    "duration": 0,
    "start_time": "2023-07-07T20:07:17.406Z"
   },
   {
    "duration": 0,
    "start_time": "2023-07-07T20:07:17.468Z"
   },
   {
    "duration": 0,
    "start_time": "2023-07-07T20:07:17.470Z"
   },
   {
    "duration": 0,
    "start_time": "2023-07-07T20:07:17.472Z"
   },
   {
    "duration": 0,
    "start_time": "2023-07-07T20:07:17.474Z"
   },
   {
    "duration": 0,
    "start_time": "2023-07-07T20:07:17.476Z"
   },
   {
    "duration": 1,
    "start_time": "2023-07-07T20:07:17.477Z"
   },
   {
    "duration": 0,
    "start_time": "2023-07-07T20:07:17.479Z"
   },
   {
    "duration": 0,
    "start_time": "2023-07-07T20:07:17.480Z"
   },
   {
    "duration": 0,
    "start_time": "2023-07-07T20:07:17.481Z"
   },
   {
    "duration": 0,
    "start_time": "2023-07-07T20:07:17.483Z"
   },
   {
    "duration": 0,
    "start_time": "2023-07-07T20:07:17.484Z"
   },
   {
    "duration": 12,
    "start_time": "2023-07-07T20:08:08.803Z"
   },
   {
    "duration": 6,
    "start_time": "2023-07-07T20:08:14.342Z"
   },
   {
    "duration": 4,
    "start_time": "2023-07-07T20:08:16.113Z"
   },
   {
    "duration": 3,
    "start_time": "2023-07-07T20:08:16.142Z"
   },
   {
    "duration": 19,
    "start_time": "2023-07-07T20:08:16.203Z"
   },
   {
    "duration": 3,
    "start_time": "2023-07-07T20:08:16.330Z"
   },
   {
    "duration": 9,
    "start_time": "2023-07-07T20:08:16.361Z"
   },
   {
    "duration": 18,
    "start_time": "2023-07-07T20:08:16.383Z"
   },
   {
    "duration": 14,
    "start_time": "2023-07-07T20:08:16.418Z"
   },
   {
    "duration": 12,
    "start_time": "2023-07-07T20:08:16.481Z"
   },
   {
    "duration": 9,
    "start_time": "2023-07-07T20:08:16.524Z"
   },
   {
    "duration": 12,
    "start_time": "2023-07-07T20:08:16.553Z"
   },
   {
    "duration": 15,
    "start_time": "2023-07-07T20:08:16.580Z"
   },
   {
    "duration": 21,
    "start_time": "2023-07-07T20:08:16.606Z"
   },
   {
    "duration": 12,
    "start_time": "2023-07-07T20:08:16.633Z"
   },
   {
    "duration": 130,
    "start_time": "2023-07-07T20:08:16.657Z"
   },
   {
    "duration": 25,
    "start_time": "2023-07-07T20:08:16.789Z"
   },
   {
    "duration": 125,
    "start_time": "2023-07-07T20:08:16.816Z"
   },
   {
    "duration": 256,
    "start_time": "2023-07-07T20:08:18.552Z"
   },
   {
    "duration": 142,
    "start_time": "2023-07-07T20:08:18.810Z"
   },
   {
    "duration": 273,
    "start_time": "2023-07-07T20:08:18.954Z"
   },
   {
    "duration": 10,
    "start_time": "2023-07-07T20:08:20.005Z"
   },
   {
    "duration": 10,
    "start_time": "2023-07-07T20:08:20.131Z"
   },
   {
    "duration": 1852,
    "start_time": "2023-07-07T20:08:21.783Z"
   },
   {
    "duration": 1952,
    "start_time": "2023-07-07T20:08:23.637Z"
   },
   {
    "duration": 2028,
    "start_time": "2023-07-07T20:08:25.591Z"
   },
   {
    "duration": 1418,
    "start_time": "2023-07-07T20:08:27.622Z"
   },
   {
    "duration": 11,
    "start_time": "2023-07-07T20:08:29.042Z"
   },
   {
    "duration": 13,
    "start_time": "2023-07-07T20:08:29.068Z"
   },
   {
    "duration": 15,
    "start_time": "2023-07-07T20:08:29.084Z"
   },
   {
    "duration": 14,
    "start_time": "2023-07-07T20:08:29.101Z"
   },
   {
    "duration": 8,
    "start_time": "2023-07-07T20:08:29.118Z"
   },
   {
    "duration": 43,
    "start_time": "2023-07-07T20:08:29.129Z"
   },
   {
    "duration": 30,
    "start_time": "2023-07-07T20:08:29.174Z"
   },
   {
    "duration": 10,
    "start_time": "2023-07-07T20:08:29.207Z"
   },
   {
    "duration": 11,
    "start_time": "2023-07-07T20:08:29.220Z"
   },
   {
    "duration": 18,
    "start_time": "2023-07-07T20:08:29.233Z"
   },
   {
    "duration": 25,
    "start_time": "2023-07-07T20:08:29.253Z"
   },
   {
    "duration": 20,
    "start_time": "2023-07-07T20:08:29.280Z"
   },
   {
    "duration": 8,
    "start_time": "2023-07-07T20:08:29.302Z"
   },
   {
    "duration": 16,
    "start_time": "2023-07-07T20:08:29.312Z"
   },
   {
    "duration": 20,
    "start_time": "2023-07-07T20:08:29.330Z"
   },
   {
    "duration": 29,
    "start_time": "2023-07-07T20:08:29.352Z"
   },
   {
    "duration": 26,
    "start_time": "2023-07-07T20:08:29.383Z"
   },
   {
    "duration": 18,
    "start_time": "2023-07-07T20:08:29.411Z"
   },
   {
    "duration": 7,
    "start_time": "2023-07-07T20:08:29.431Z"
   },
   {
    "duration": 7,
    "start_time": "2023-07-07T20:08:29.440Z"
   },
   {
    "duration": 168,
    "start_time": "2023-07-07T20:08:29.449Z"
   },
   {
    "duration": 9,
    "start_time": "2023-07-07T20:08:29.619Z"
   },
   {
    "duration": 14630,
    "start_time": "2023-07-07T20:08:29.631Z"
   },
   {
    "duration": 1454,
    "start_time": "2023-07-07T20:12:54.164Z"
   },
   {
    "duration": 834,
    "start_time": "2023-07-07T20:12:55.621Z"
   },
   {
    "duration": 30,
    "start_time": "2023-07-07T20:12:56.456Z"
   },
   {
    "duration": 20,
    "start_time": "2023-07-07T20:12:56.488Z"
   },
   {
    "duration": 20,
    "start_time": "2023-07-07T20:12:56.510Z"
   },
   {
    "duration": 5,
    "start_time": "2023-07-07T20:12:56.533Z"
   },
   {
    "duration": 4,
    "start_time": "2023-07-07T20:12:56.568Z"
   },
   {
    "duration": 11,
    "start_time": "2023-07-07T20:12:56.573Z"
   },
   {
    "duration": 11,
    "start_time": "2023-07-07T20:12:56.585Z"
   },
   {
    "duration": 3,
    "start_time": "2023-07-07T20:12:56.599Z"
   },
   {
    "duration": 4,
    "start_time": "2023-07-07T20:12:56.605Z"
   },
   {
    "duration": 75,
    "start_time": "2023-07-07T20:12:56.611Z"
   },
   {
    "duration": 4,
    "start_time": "2023-07-07T20:12:56.688Z"
   },
   {
    "duration": 38,
    "start_time": "2023-07-07T20:12:56.695Z"
   },
   {
    "duration": 19,
    "start_time": "2023-07-07T20:12:56.735Z"
   },
   {
    "duration": 13,
    "start_time": "2023-07-07T20:12:56.756Z"
   },
   {
    "duration": 10,
    "start_time": "2023-07-07T20:12:56.771Z"
   },
   {
    "duration": 9,
    "start_time": "2023-07-07T20:12:56.783Z"
   },
   {
    "duration": 8,
    "start_time": "2023-07-07T20:12:56.793Z"
   },
   {
    "duration": 10,
    "start_time": "2023-07-07T20:12:56.803Z"
   },
   {
    "duration": 70,
    "start_time": "2023-07-07T20:12:56.815Z"
   },
   {
    "duration": 12,
    "start_time": "2023-07-07T20:12:56.887Z"
   },
   {
    "duration": 157,
    "start_time": "2023-07-07T20:12:56.901Z"
   },
   {
    "duration": 37,
    "start_time": "2023-07-07T20:12:57.061Z"
   },
   {
    "duration": 118,
    "start_time": "2023-07-07T20:12:57.101Z"
   },
   {
    "duration": 260,
    "start_time": "2023-07-07T20:12:57.221Z"
   },
   {
    "duration": 118,
    "start_time": "2023-07-07T20:12:57.483Z"
   },
   {
    "duration": 262,
    "start_time": "2023-07-07T20:12:57.605Z"
   },
   {
    "duration": 9,
    "start_time": "2023-07-07T20:12:57.868Z"
   },
   {
    "duration": 8,
    "start_time": "2023-07-07T20:12:57.878Z"
   },
   {
    "duration": 2654,
    "start_time": "2023-07-07T20:12:57.888Z"
   },
   {
    "duration": 1850,
    "start_time": "2023-07-07T20:13:00.543Z"
   },
   {
    "duration": 1862,
    "start_time": "2023-07-07T20:13:02.395Z"
   },
   {
    "duration": 1848,
    "start_time": "2023-07-07T20:13:04.258Z"
   },
   {
    "duration": 61,
    "start_time": "2023-07-07T20:13:06.107Z"
   },
   {
    "duration": 7,
    "start_time": "2023-07-07T20:13:06.170Z"
   },
   {
    "duration": 7,
    "start_time": "2023-07-07T20:13:06.179Z"
   },
   {
    "duration": 7,
    "start_time": "2023-07-07T20:13:06.187Z"
   },
   {
    "duration": 7,
    "start_time": "2023-07-07T20:13:06.195Z"
   },
   {
    "duration": 5,
    "start_time": "2023-07-07T20:13:06.203Z"
   },
   {
    "duration": 60,
    "start_time": "2023-07-07T20:13:06.209Z"
   },
   {
    "duration": 6,
    "start_time": "2023-07-07T20:13:06.270Z"
   },
   {
    "duration": 7,
    "start_time": "2023-07-07T20:13:06.277Z"
   },
   {
    "duration": 6,
    "start_time": "2023-07-07T20:13:06.285Z"
   },
   {
    "duration": 9,
    "start_time": "2023-07-07T20:13:06.292Z"
   },
   {
    "duration": 65,
    "start_time": "2023-07-07T20:13:06.303Z"
   },
   {
    "duration": 4,
    "start_time": "2023-07-07T20:13:06.370Z"
   },
   {
    "duration": 5,
    "start_time": "2023-07-07T20:13:06.375Z"
   },
   {
    "duration": 11,
    "start_time": "2023-07-07T20:13:06.381Z"
   },
   {
    "duration": 5,
    "start_time": "2023-07-07T20:13:06.394Z"
   },
   {
    "duration": 7,
    "start_time": "2023-07-07T20:13:06.401Z"
   },
   {
    "duration": 59,
    "start_time": "2023-07-07T20:13:06.409Z"
   },
   {
    "duration": 3,
    "start_time": "2023-07-07T20:13:06.470Z"
   },
   {
    "duration": 6,
    "start_time": "2023-07-07T20:13:06.474Z"
   },
   {
    "duration": 233,
    "start_time": "2023-07-07T20:13:06.481Z"
   },
   {
    "duration": 8,
    "start_time": "2023-07-07T20:13:06.715Z"
   },
   {
    "duration": 13433,
    "start_time": "2023-07-07T20:13:06.725Z"
   },
   {
    "duration": 32444,
    "start_time": "2023-07-07T20:13:20.160Z"
   },
   {
    "duration": 6786,
    "start_time": "2023-07-07T20:15:28.096Z"
   },
   {
    "duration": 64471,
    "start_time": "2023-07-07T20:15:41.057Z"
   },
   {
    "duration": 5,
    "start_time": "2023-07-07T20:19:30.386Z"
   },
   {
    "duration": 107,
    "start_time": "2023-07-07T20:19:37.413Z"
   },
   {
    "duration": 3,
    "start_time": "2023-07-07T20:20:00.992Z"
   },
   {
    "duration": 22,
    "start_time": "2023-07-07T20:20:17.449Z"
   },
   {
    "duration": 17338,
    "start_time": "2023-07-07T20:20:18.225Z"
   },
   {
    "duration": 3,
    "start_time": "2023-07-07T20:21:20.103Z"
   },
   {
    "duration": 4,
    "start_time": "2023-07-07T20:23:18.277Z"
   },
   {
    "duration": 1467,
    "start_time": "2023-07-07T20:36:34.664Z"
   },
   {
    "duration": 819,
    "start_time": "2023-07-07T20:36:36.133Z"
   },
   {
    "duration": 33,
    "start_time": "2023-07-07T20:36:36.953Z"
   },
   {
    "duration": 20,
    "start_time": "2023-07-07T20:36:36.988Z"
   },
   {
    "duration": 20,
    "start_time": "2023-07-07T20:36:37.010Z"
   },
   {
    "duration": 7,
    "start_time": "2023-07-07T20:36:37.032Z"
   },
   {
    "duration": 28,
    "start_time": "2023-07-07T20:36:37.040Z"
   },
   {
    "duration": 19,
    "start_time": "2023-07-07T20:36:37.071Z"
   },
   {
    "duration": 6,
    "start_time": "2023-07-07T20:36:37.091Z"
   },
   {
    "duration": 3,
    "start_time": "2023-07-07T20:36:37.100Z"
   },
   {
    "duration": 6,
    "start_time": "2023-07-07T20:36:37.105Z"
   },
   {
    "duration": 19,
    "start_time": "2023-07-07T20:36:37.112Z"
   },
   {
    "duration": 3,
    "start_time": "2023-07-07T20:36:37.133Z"
   },
   {
    "duration": 35,
    "start_time": "2023-07-07T20:36:37.137Z"
   },
   {
    "duration": 26,
    "start_time": "2023-07-07T20:36:37.176Z"
   },
   {
    "duration": 13,
    "start_time": "2023-07-07T20:36:37.203Z"
   },
   {
    "duration": 10,
    "start_time": "2023-07-07T20:36:37.219Z"
   },
   {
    "duration": 40,
    "start_time": "2023-07-07T20:36:37.231Z"
   },
   {
    "duration": 11,
    "start_time": "2023-07-07T20:36:37.274Z"
   },
   {
    "duration": 26,
    "start_time": "2023-07-07T20:36:37.286Z"
   },
   {
    "duration": 29,
    "start_time": "2023-07-07T20:36:37.314Z"
   },
   {
    "duration": 10,
    "start_time": "2023-07-07T20:36:37.345Z"
   },
   {
    "duration": 134,
    "start_time": "2023-07-07T20:36:37.356Z"
   },
   {
    "duration": 20,
    "start_time": "2023-07-07T20:36:37.492Z"
   },
   {
    "duration": 108,
    "start_time": "2023-07-07T20:36:37.513Z"
   },
   {
    "duration": 235,
    "start_time": "2023-07-07T20:36:37.623Z"
   },
   {
    "duration": 120,
    "start_time": "2023-07-07T20:36:37.860Z"
   },
   {
    "duration": 232,
    "start_time": "2023-07-07T20:36:37.984Z"
   },
   {
    "duration": 7,
    "start_time": "2023-07-07T20:36:38.217Z"
   },
   {
    "duration": 8,
    "start_time": "2023-07-07T20:36:38.226Z"
   },
   {
    "duration": 1741,
    "start_time": "2023-07-07T20:36:38.235Z"
   },
   {
    "duration": 2908,
    "start_time": "2023-07-07T20:36:39.983Z"
   },
   {
    "duration": 1900,
    "start_time": "2023-07-07T20:36:42.893Z"
   },
   {
    "duration": 1388,
    "start_time": "2023-07-07T20:36:44.794Z"
   },
   {
    "duration": 8,
    "start_time": "2023-07-07T20:36:46.184Z"
   },
   {
    "duration": 28,
    "start_time": "2023-07-07T20:36:46.194Z"
   },
   {
    "duration": 20,
    "start_time": "2023-07-07T20:36:46.225Z"
   },
   {
    "duration": 31,
    "start_time": "2023-07-07T20:36:46.247Z"
   },
   {
    "duration": 22,
    "start_time": "2023-07-07T20:36:46.279Z"
   },
   {
    "duration": 28,
    "start_time": "2023-07-07T20:36:46.303Z"
   },
   {
    "duration": 32,
    "start_time": "2023-07-07T20:36:46.333Z"
   },
   {
    "duration": 26,
    "start_time": "2023-07-07T20:36:46.367Z"
   },
   {
    "duration": 32,
    "start_time": "2023-07-07T20:36:46.394Z"
   },
   {
    "duration": 29,
    "start_time": "2023-07-07T20:36:46.428Z"
   },
   {
    "duration": 50,
    "start_time": "2023-07-07T20:36:46.459Z"
   },
   {
    "duration": 25,
    "start_time": "2023-07-07T20:36:46.511Z"
   },
   {
    "duration": 14,
    "start_time": "2023-07-07T20:36:46.537Z"
   },
   {
    "duration": 16,
    "start_time": "2023-07-07T20:36:46.553Z"
   },
   {
    "duration": 20,
    "start_time": "2023-07-07T20:36:46.570Z"
   },
   {
    "duration": 17,
    "start_time": "2023-07-07T20:36:46.592Z"
   },
   {
    "duration": 15,
    "start_time": "2023-07-07T20:36:46.611Z"
   },
   {
    "duration": 9,
    "start_time": "2023-07-07T20:36:46.628Z"
   },
   {
    "duration": 17,
    "start_time": "2023-07-07T20:36:46.638Z"
   },
   {
    "duration": 24,
    "start_time": "2023-07-07T20:36:46.657Z"
   },
   {
    "duration": 165,
    "start_time": "2023-07-07T20:36:46.682Z"
   },
   {
    "duration": 8,
    "start_time": "2023-07-07T20:36:46.849Z"
   },
   {
    "duration": 14629,
    "start_time": "2023-07-07T20:36:46.859Z"
   },
   {
    "duration": 1401,
    "start_time": "2023-07-07T20:38:05.793Z"
   },
   {
    "duration": 820,
    "start_time": "2023-07-07T20:38:07.196Z"
   },
   {
    "duration": 24,
    "start_time": "2023-07-07T20:38:08.018Z"
   },
   {
    "duration": 44,
    "start_time": "2023-07-07T20:38:08.043Z"
   },
   {
    "duration": 20,
    "start_time": "2023-07-07T20:38:08.089Z"
   },
   {
    "duration": 7,
    "start_time": "2023-07-07T20:38:08.111Z"
   },
   {
    "duration": 6,
    "start_time": "2023-07-07T20:38:08.120Z"
   },
   {
    "duration": 17,
    "start_time": "2023-07-07T20:38:08.128Z"
   },
   {
    "duration": 30,
    "start_time": "2023-07-07T20:38:08.147Z"
   },
   {
    "duration": 3,
    "start_time": "2023-07-07T20:38:08.179Z"
   },
   {
    "duration": 19,
    "start_time": "2023-07-07T20:38:08.183Z"
   },
   {
    "duration": 23,
    "start_time": "2023-07-07T20:38:08.204Z"
   },
   {
    "duration": 4,
    "start_time": "2023-07-07T20:38:08.229Z"
   },
   {
    "duration": 16,
    "start_time": "2023-07-07T20:38:08.237Z"
   },
   {
    "duration": 33,
    "start_time": "2023-07-07T20:38:08.255Z"
   },
   {
    "duration": 10,
    "start_time": "2023-07-07T20:38:08.290Z"
   },
   {
    "duration": 10,
    "start_time": "2023-07-07T20:38:08.303Z"
   },
   {
    "duration": 8,
    "start_time": "2023-07-07T20:38:08.315Z"
   },
   {
    "duration": 48,
    "start_time": "2023-07-07T20:38:08.325Z"
   },
   {
    "duration": 14,
    "start_time": "2023-07-07T20:38:08.374Z"
   },
   {
    "duration": 27,
    "start_time": "2023-07-07T20:38:08.390Z"
   },
   {
    "duration": 15,
    "start_time": "2023-07-07T20:38:08.419Z"
   },
   {
    "duration": 154,
    "start_time": "2023-07-07T20:38:08.436Z"
   },
   {
    "duration": 34,
    "start_time": "2023-07-07T20:38:08.592Z"
   },
   {
    "duration": 146,
    "start_time": "2023-07-07T20:38:08.628Z"
   },
   {
    "duration": 232,
    "start_time": "2023-07-07T20:38:08.775Z"
   },
   {
    "duration": 108,
    "start_time": "2023-07-07T20:38:09.009Z"
   },
   {
    "duration": 252,
    "start_time": "2023-07-07T20:38:09.119Z"
   },
   {
    "duration": 16,
    "start_time": "2023-07-07T20:38:09.372Z"
   },
   {
    "duration": 8,
    "start_time": "2023-07-07T20:38:09.390Z"
   },
   {
    "duration": 1935,
    "start_time": "2023-07-07T20:38:09.399Z"
   },
   {
    "duration": 1916,
    "start_time": "2023-07-07T20:38:11.335Z"
   },
   {
    "duration": 1969,
    "start_time": "2023-07-07T20:38:13.252Z"
   },
   {
    "duration": 1392,
    "start_time": "2023-07-07T20:38:15.223Z"
   },
   {
    "duration": 7,
    "start_time": "2023-07-07T20:38:16.617Z"
   },
   {
    "duration": 23,
    "start_time": "2023-07-07T20:38:16.625Z"
   },
   {
    "duration": 17,
    "start_time": "2023-07-07T20:38:16.649Z"
   },
   {
    "duration": 21,
    "start_time": "2023-07-07T20:38:16.671Z"
   },
   {
    "duration": 8,
    "start_time": "2023-07-07T20:38:16.693Z"
   },
   {
    "duration": 18,
    "start_time": "2023-07-07T20:38:16.702Z"
   },
   {
    "duration": 6,
    "start_time": "2023-07-07T20:38:16.725Z"
   },
   {
    "duration": 10,
    "start_time": "2023-07-07T20:38:16.732Z"
   },
   {
    "duration": 10,
    "start_time": "2023-07-07T20:38:16.743Z"
   },
   {
    "duration": 5,
    "start_time": "2023-07-07T20:38:16.754Z"
   },
   {
    "duration": 22,
    "start_time": "2023-07-07T20:38:16.760Z"
   },
   {
    "duration": 17,
    "start_time": "2023-07-07T20:38:16.784Z"
   },
   {
    "duration": 15,
    "start_time": "2023-07-07T20:38:16.803Z"
   },
   {
    "duration": 11,
    "start_time": "2023-07-07T20:38:16.820Z"
   },
   {
    "duration": 18,
    "start_time": "2023-07-07T20:38:16.832Z"
   },
   {
    "duration": 12,
    "start_time": "2023-07-07T20:38:16.852Z"
   },
   {
    "duration": 16,
    "start_time": "2023-07-07T20:38:16.865Z"
   },
   {
    "duration": 9,
    "start_time": "2023-07-07T20:38:16.885Z"
   },
   {
    "duration": 8,
    "start_time": "2023-07-07T20:38:16.896Z"
   },
   {
    "duration": 9,
    "start_time": "2023-07-07T20:38:16.906Z"
   },
   {
    "duration": 180,
    "start_time": "2023-07-07T20:38:16.917Z"
   },
   {
    "duration": 10,
    "start_time": "2023-07-07T20:38:17.099Z"
   },
   {
    "duration": 15091,
    "start_time": "2023-07-07T20:38:17.111Z"
   },
   {
    "duration": 70554,
    "start_time": "2023-07-07T20:38:32.208Z"
   },
   {
    "duration": 1377,
    "start_time": "2023-07-07T20:41:12.664Z"
   },
   {
    "duration": 825,
    "start_time": "2023-07-07T20:41:14.044Z"
   },
   {
    "duration": 23,
    "start_time": "2023-07-07T20:41:14.871Z"
   },
   {
    "duration": 79,
    "start_time": "2023-07-07T20:41:14.896Z"
   },
   {
    "duration": 106,
    "start_time": "2023-07-07T20:41:14.976Z"
   },
   {
    "duration": 24,
    "start_time": "2023-07-07T20:41:15.084Z"
   },
   {
    "duration": 14,
    "start_time": "2023-07-07T20:41:15.110Z"
   },
   {
    "duration": 47,
    "start_time": "2023-07-07T20:41:15.125Z"
   },
   {
    "duration": 7,
    "start_time": "2023-07-07T20:41:15.174Z"
   },
   {
    "duration": 8,
    "start_time": "2023-07-07T20:41:15.183Z"
   },
   {
    "duration": 14,
    "start_time": "2023-07-07T20:41:15.192Z"
   },
   {
    "duration": 66,
    "start_time": "2023-07-07T20:41:15.208Z"
   },
   {
    "duration": 3,
    "start_time": "2023-07-07T20:41:15.275Z"
   },
   {
    "duration": 20,
    "start_time": "2023-07-07T20:41:15.279Z"
   },
   {
    "duration": 68,
    "start_time": "2023-07-07T20:41:15.300Z"
   },
   {
    "duration": 10,
    "start_time": "2023-07-07T20:41:15.370Z"
   },
   {
    "duration": 7,
    "start_time": "2023-07-07T20:41:15.382Z"
   },
   {
    "duration": 30,
    "start_time": "2023-07-07T20:41:15.391Z"
   },
   {
    "duration": 55,
    "start_time": "2023-07-07T20:41:15.422Z"
   },
   {
    "duration": 14,
    "start_time": "2023-07-07T20:41:15.478Z"
   },
   {
    "duration": 21,
    "start_time": "2023-07-07T20:41:15.493Z"
   },
   {
    "duration": 11,
    "start_time": "2023-07-07T20:41:15.567Z"
   },
   {
    "duration": 290,
    "start_time": "2023-07-07T20:41:15.579Z"
   },
   {
    "duration": 28,
    "start_time": "2023-07-07T20:41:15.871Z"
   },
   {
    "duration": 200,
    "start_time": "2023-07-07T20:41:15.901Z"
   },
   {
    "duration": 473,
    "start_time": "2023-07-07T20:41:16.103Z"
   },
   {
    "duration": 112,
    "start_time": "2023-07-07T20:41:16.577Z"
   },
   {
    "duration": 233,
    "start_time": "2023-07-07T20:41:16.693Z"
   },
   {
    "duration": 8,
    "start_time": "2023-07-07T20:41:16.928Z"
   },
   {
    "duration": 16,
    "start_time": "2023-07-07T20:41:16.937Z"
   },
   {
    "duration": 1873,
    "start_time": "2023-07-07T20:41:16.954Z"
   },
   {
    "duration": 1707,
    "start_time": "2023-07-07T20:41:18.829Z"
   },
   {
    "duration": 1760,
    "start_time": "2023-07-07T20:41:20.538Z"
   },
   {
    "duration": 1349,
    "start_time": "2023-07-07T20:41:22.300Z"
   },
   {
    "duration": 8,
    "start_time": "2023-07-07T20:41:23.651Z"
   },
   {
    "duration": 20,
    "start_time": "2023-07-07T20:41:23.660Z"
   },
   {
    "duration": 14,
    "start_time": "2023-07-07T20:41:23.683Z"
   },
   {
    "duration": 22,
    "start_time": "2023-07-07T20:41:23.699Z"
   },
   {
    "duration": 11,
    "start_time": "2023-07-07T20:41:23.723Z"
   },
   {
    "duration": 6,
    "start_time": "2023-07-07T20:41:23.736Z"
   },
   {
    "duration": 30,
    "start_time": "2023-07-07T20:41:23.744Z"
   },
   {
    "duration": 6,
    "start_time": "2023-07-07T20:41:23.777Z"
   },
   {
    "duration": 10,
    "start_time": "2023-07-07T20:41:23.785Z"
   },
   {
    "duration": 10,
    "start_time": "2023-07-07T20:41:23.797Z"
   },
   {
    "duration": 66,
    "start_time": "2023-07-07T20:41:23.809Z"
   },
   {
    "duration": 13,
    "start_time": "2023-07-07T20:41:23.877Z"
   },
   {
    "duration": 14,
    "start_time": "2023-07-07T20:41:23.892Z"
   },
   {
    "duration": 28,
    "start_time": "2023-07-07T20:41:23.908Z"
   },
   {
    "duration": 19,
    "start_time": "2023-07-07T20:41:23.938Z"
   },
   {
    "duration": 19,
    "start_time": "2023-07-07T20:41:23.959Z"
   },
   {
    "duration": 36,
    "start_time": "2023-07-07T20:41:23.980Z"
   },
   {
    "duration": 19,
    "start_time": "2023-07-07T20:41:24.018Z"
   },
   {
    "duration": 4,
    "start_time": "2023-07-07T20:41:24.040Z"
   },
   {
    "duration": 6,
    "start_time": "2023-07-07T20:41:24.047Z"
   },
   {
    "duration": 202,
    "start_time": "2023-07-07T20:41:24.055Z"
   },
   {
    "duration": 8,
    "start_time": "2023-07-07T20:41:24.259Z"
   },
   {
    "duration": 12612,
    "start_time": "2023-07-07T20:41:24.269Z"
   },
   {
    "duration": 50277,
    "start_time": "2023-07-07T20:41:36.882Z"
   },
   {
    "duration": 1314,
    "start_time": "2023-07-07T20:43:58.022Z"
   },
   {
    "duration": 780,
    "start_time": "2023-07-07T20:43:59.338Z"
   },
   {
    "duration": 24,
    "start_time": "2023-07-07T20:44:00.120Z"
   },
   {
    "duration": 59,
    "start_time": "2023-07-07T20:44:00.146Z"
   },
   {
    "duration": 52,
    "start_time": "2023-07-07T20:44:00.207Z"
   },
   {
    "duration": 75,
    "start_time": "2023-07-07T20:44:00.261Z"
   },
   {
    "duration": 47,
    "start_time": "2023-07-07T20:44:00.338Z"
   },
   {
    "duration": 36,
    "start_time": "2023-07-07T20:44:00.387Z"
   },
   {
    "duration": 52,
    "start_time": "2023-07-07T20:44:00.425Z"
   },
   {
    "duration": 42,
    "start_time": "2023-07-07T20:44:00.481Z"
   },
   {
    "duration": 108,
    "start_time": "2023-07-07T20:44:00.525Z"
   },
   {
    "duration": 49,
    "start_time": "2023-07-07T20:44:00.635Z"
   },
   {
    "duration": 38,
    "start_time": "2023-07-07T20:44:00.686Z"
   },
   {
    "duration": 66,
    "start_time": "2023-07-07T20:44:00.726Z"
   },
   {
    "duration": 45,
    "start_time": "2023-07-07T20:44:00.794Z"
   },
   {
    "duration": 36,
    "start_time": "2023-07-07T20:44:00.840Z"
   },
   {
    "duration": 36,
    "start_time": "2023-07-07T20:44:00.878Z"
   },
   {
    "duration": 28,
    "start_time": "2023-07-07T20:44:00.917Z"
   },
   {
    "duration": 27,
    "start_time": "2023-07-07T20:44:00.947Z"
   },
   {
    "duration": 29,
    "start_time": "2023-07-07T20:44:00.976Z"
   },
   {
    "duration": 21,
    "start_time": "2023-07-07T20:44:01.007Z"
   },
   {
    "duration": 47,
    "start_time": "2023-07-07T20:44:01.029Z"
   },
   {
    "duration": 172,
    "start_time": "2023-07-07T20:44:01.078Z"
   },
   {
    "duration": 23,
    "start_time": "2023-07-07T20:44:01.252Z"
   },
   {
    "duration": 157,
    "start_time": "2023-07-07T20:44:01.277Z"
   },
   {
    "duration": 218,
    "start_time": "2023-07-07T20:44:01.436Z"
   },
   {
    "duration": 114,
    "start_time": "2023-07-07T20:44:01.656Z"
   },
   {
    "duration": 261,
    "start_time": "2023-07-07T20:44:01.775Z"
   },
   {
    "duration": 10,
    "start_time": "2023-07-07T20:44:02.037Z"
   },
   {
    "duration": 78,
    "start_time": "2023-07-07T20:44:02.049Z"
   },
   {
    "duration": 1820,
    "start_time": "2023-07-07T20:44:02.129Z"
   },
   {
    "duration": 1820,
    "start_time": "2023-07-07T20:44:03.952Z"
   },
   {
    "duration": 1784,
    "start_time": "2023-07-07T20:44:05.774Z"
   },
   {
    "duration": 1222,
    "start_time": "2023-07-07T20:44:07.560Z"
   },
   {
    "duration": 7,
    "start_time": "2023-07-07T20:44:08.783Z"
   },
   {
    "duration": 8,
    "start_time": "2023-07-07T20:44:08.792Z"
   },
   {
    "duration": 8,
    "start_time": "2023-07-07T20:44:08.802Z"
   },
   {
    "duration": 7,
    "start_time": "2023-07-07T20:44:08.812Z"
   },
   {
    "duration": 8,
    "start_time": "2023-07-07T20:44:08.821Z"
   },
   {
    "duration": 39,
    "start_time": "2023-07-07T20:44:08.831Z"
   },
   {
    "duration": 15,
    "start_time": "2023-07-07T20:44:08.871Z"
   },
   {
    "duration": 8,
    "start_time": "2023-07-07T20:44:08.888Z"
   },
   {
    "duration": 6,
    "start_time": "2023-07-07T20:44:08.898Z"
   },
   {
    "duration": 4,
    "start_time": "2023-07-07T20:44:08.906Z"
   },
   {
    "duration": 11,
    "start_time": "2023-07-07T20:44:08.912Z"
   },
   {
    "duration": 43,
    "start_time": "2023-07-07T20:44:08.925Z"
   },
   {
    "duration": 4,
    "start_time": "2023-07-07T20:44:08.969Z"
   },
   {
    "duration": 6,
    "start_time": "2023-07-07T20:44:08.975Z"
   },
   {
    "duration": 8,
    "start_time": "2023-07-07T20:44:08.983Z"
   },
   {
    "duration": 8,
    "start_time": "2023-07-07T20:44:08.992Z"
   },
   {
    "duration": 8,
    "start_time": "2023-07-07T20:44:09.002Z"
   },
   {
    "duration": 10,
    "start_time": "2023-07-07T20:44:09.011Z"
   },
   {
    "duration": 3,
    "start_time": "2023-07-07T20:44:09.023Z"
   },
   {
    "duration": 5,
    "start_time": "2023-07-07T20:44:09.028Z"
   },
   {
    "duration": 166,
    "start_time": "2023-07-07T20:44:09.034Z"
   },
   {
    "duration": 9,
    "start_time": "2023-07-07T20:44:09.202Z"
   },
   {
    "duration": 13520,
    "start_time": "2023-07-07T20:44:09.212Z"
   },
   {
    "duration": 64573,
    "start_time": "2023-07-07T20:44:22.734Z"
   },
   {
    "duration": 1330,
    "start_time": "2023-07-07T20:49:40.210Z"
   },
   {
    "duration": 790,
    "start_time": "2023-07-07T20:49:41.542Z"
   },
   {
    "duration": 22,
    "start_time": "2023-07-07T20:49:42.333Z"
   },
   {
    "duration": 27,
    "start_time": "2023-07-07T20:49:42.358Z"
   },
   {
    "duration": 20,
    "start_time": "2023-07-07T20:49:42.386Z"
   },
   {
    "duration": 5,
    "start_time": "2023-07-07T20:49:42.408Z"
   },
   {
    "duration": 8,
    "start_time": "2023-07-07T20:49:42.414Z"
   },
   {
    "duration": 23,
    "start_time": "2023-07-07T20:49:42.424Z"
   },
   {
    "duration": 19,
    "start_time": "2023-07-07T20:49:42.449Z"
   },
   {
    "duration": 3,
    "start_time": "2023-07-07T20:49:42.472Z"
   },
   {
    "duration": 13,
    "start_time": "2023-07-07T20:49:42.477Z"
   },
   {
    "duration": 23,
    "start_time": "2023-07-07T20:49:42.492Z"
   },
   {
    "duration": 3,
    "start_time": "2023-07-07T20:49:42.517Z"
   },
   {
    "duration": 12,
    "start_time": "2023-07-07T20:49:42.522Z"
   },
   {
    "duration": 38,
    "start_time": "2023-07-07T20:49:42.535Z"
   },
   {
    "duration": 10,
    "start_time": "2023-07-07T20:49:42.575Z"
   },
   {
    "duration": 7,
    "start_time": "2023-07-07T20:49:42.587Z"
   },
   {
    "duration": 7,
    "start_time": "2023-07-07T20:49:42.596Z"
   },
   {
    "duration": 17,
    "start_time": "2023-07-07T20:49:42.604Z"
   },
   {
    "duration": 9,
    "start_time": "2023-07-07T20:49:42.623Z"
   },
   {
    "duration": 23,
    "start_time": "2023-07-07T20:49:42.667Z"
   },
   {
    "duration": 11,
    "start_time": "2023-07-07T20:49:42.691Z"
   },
   {
    "duration": 140,
    "start_time": "2023-07-07T20:49:42.704Z"
   },
   {
    "duration": 32,
    "start_time": "2023-07-07T20:49:42.845Z"
   },
   {
    "duration": 106,
    "start_time": "2023-07-07T20:49:42.879Z"
   },
   {
    "duration": 237,
    "start_time": "2023-07-07T20:49:42.986Z"
   },
   {
    "duration": 106,
    "start_time": "2023-07-07T20:49:43.224Z"
   },
   {
    "duration": 232,
    "start_time": "2023-07-07T20:49:43.333Z"
   },
   {
    "duration": 7,
    "start_time": "2023-07-07T20:49:43.566Z"
   },
   {
    "duration": 7,
    "start_time": "2023-07-07T20:49:43.575Z"
   },
   {
    "duration": 1893,
    "start_time": "2023-07-07T20:49:43.583Z"
   },
   {
    "duration": 1807,
    "start_time": "2023-07-07T20:49:45.478Z"
   },
   {
    "duration": 1730,
    "start_time": "2023-07-07T20:49:47.287Z"
   },
   {
    "duration": 1268,
    "start_time": "2023-07-07T20:49:49.018Z"
   },
   {
    "duration": 7,
    "start_time": "2023-07-07T20:49:50.288Z"
   },
   {
    "duration": 12,
    "start_time": "2023-07-07T20:49:50.297Z"
   },
   {
    "duration": 8,
    "start_time": "2023-07-07T20:49:50.311Z"
   },
   {
    "duration": 13,
    "start_time": "2023-07-07T20:49:50.320Z"
   },
   {
    "duration": 9,
    "start_time": "2023-07-07T20:49:50.335Z"
   },
   {
    "duration": 7,
    "start_time": "2023-07-07T20:49:50.367Z"
   },
   {
    "duration": 12,
    "start_time": "2023-07-07T20:49:50.375Z"
   },
   {
    "duration": 5,
    "start_time": "2023-07-07T20:49:50.388Z"
   },
   {
    "duration": 7,
    "start_time": "2023-07-07T20:49:50.394Z"
   },
   {
    "duration": 4,
    "start_time": "2023-07-07T20:49:50.403Z"
   },
   {
    "duration": 67,
    "start_time": "2023-07-07T20:49:50.408Z"
   },
   {
    "duration": 13,
    "start_time": "2023-07-07T20:49:50.477Z"
   },
   {
    "duration": 11,
    "start_time": "2023-07-07T20:49:50.492Z"
   },
   {
    "duration": 5,
    "start_time": "2023-07-07T20:49:50.505Z"
   },
   {
    "duration": 14,
    "start_time": "2023-07-07T20:49:50.512Z"
   },
   {
    "duration": 8,
    "start_time": "2023-07-07T20:49:50.528Z"
   },
   {
    "duration": 11,
    "start_time": "2023-07-07T20:49:50.538Z"
   },
   {
    "duration": 22,
    "start_time": "2023-07-07T20:49:50.551Z"
   },
   {
    "duration": 5,
    "start_time": "2023-07-07T20:49:50.574Z"
   },
   {
    "duration": 5,
    "start_time": "2023-07-07T20:49:50.580Z"
   },
   {
    "duration": 158,
    "start_time": "2023-07-07T20:49:50.587Z"
   },
   {
    "duration": 8,
    "start_time": "2023-07-07T20:49:50.747Z"
   },
   {
    "duration": 12684,
    "start_time": "2023-07-07T20:49:50.757Z"
   },
   {
    "duration": 48685,
    "start_time": "2023-07-07T20:50:03.442Z"
   },
   {
    "duration": 47,
    "start_time": "2023-07-08T09:07:56.892Z"
   },
   {
    "duration": 1663,
    "start_time": "2023-07-08T09:08:05.367Z"
   },
   {
    "duration": 3302,
    "start_time": "2023-07-08T09:08:07.033Z"
   },
   {
    "duration": 38,
    "start_time": "2023-07-08T09:08:10.337Z"
   },
   {
    "duration": 37,
    "start_time": "2023-07-08T09:08:10.378Z"
   },
   {
    "duration": 30,
    "start_time": "2023-07-08T09:08:10.417Z"
   },
   {
    "duration": 5,
    "start_time": "2023-07-08T09:08:10.449Z"
   },
   {
    "duration": 4,
    "start_time": "2023-07-08T09:08:10.455Z"
   },
   {
    "duration": 17,
    "start_time": "2023-07-08T09:08:10.461Z"
   },
   {
    "duration": 48,
    "start_time": "2023-07-08T09:08:10.480Z"
   },
   {
    "duration": 10,
    "start_time": "2023-07-08T09:08:10.532Z"
   },
   {
    "duration": 20,
    "start_time": "2023-07-08T09:08:10.544Z"
   },
   {
    "duration": 18,
    "start_time": "2023-07-08T09:08:10.567Z"
   },
   {
    "duration": 4,
    "start_time": "2023-07-08T09:08:10.587Z"
   },
   {
    "duration": 21,
    "start_time": "2023-07-08T09:08:10.593Z"
   },
   {
    "duration": 24,
    "start_time": "2023-07-08T09:08:10.616Z"
   },
   {
    "duration": 14,
    "start_time": "2023-07-08T09:08:10.642Z"
   },
   {
    "duration": 10,
    "start_time": "2023-07-08T09:08:10.658Z"
   },
   {
    "duration": 9,
    "start_time": "2023-07-08T09:08:10.670Z"
   },
   {
    "duration": 49,
    "start_time": "2023-07-08T09:08:10.681Z"
   },
   {
    "duration": 14,
    "start_time": "2023-07-08T09:08:10.732Z"
   },
   {
    "duration": 25,
    "start_time": "2023-07-08T09:08:10.748Z"
   },
   {
    "duration": 40,
    "start_time": "2023-07-08T09:08:10.775Z"
   },
   {
    "duration": 143,
    "start_time": "2023-07-08T09:08:10.817Z"
   },
   {
    "duration": 32,
    "start_time": "2023-07-08T09:08:10.963Z"
   },
   {
    "duration": 124,
    "start_time": "2023-07-08T09:08:10.998Z"
   },
   {
    "duration": 244,
    "start_time": "2023-07-08T09:08:11.124Z"
   },
   {
    "duration": 123,
    "start_time": "2023-07-08T09:08:11.370Z"
   },
   {
    "duration": 267,
    "start_time": "2023-07-08T09:08:11.497Z"
   },
   {
    "duration": 11,
    "start_time": "2023-07-08T09:08:11.766Z"
   },
   {
    "duration": 20,
    "start_time": "2023-07-08T09:08:11.779Z"
   },
   {
    "duration": 2048,
    "start_time": "2023-07-08T09:08:11.801Z"
   },
   {
    "duration": 1939,
    "start_time": "2023-07-08T09:08:13.851Z"
   },
   {
    "duration": 2007,
    "start_time": "2023-07-08T09:08:15.792Z"
   },
   {
    "duration": 1338,
    "start_time": "2023-07-08T09:08:17.801Z"
   },
   {
    "duration": 7,
    "start_time": "2023-07-08T09:08:19.141Z"
   },
   {
    "duration": 15,
    "start_time": "2023-07-08T09:08:19.150Z"
   },
   {
    "duration": 13,
    "start_time": "2023-07-08T09:08:19.167Z"
   },
   {
    "duration": 8,
    "start_time": "2023-07-08T09:08:19.182Z"
   },
   {
    "duration": 31,
    "start_time": "2023-07-08T09:08:19.191Z"
   },
   {
    "duration": 5,
    "start_time": "2023-07-08T09:08:19.224Z"
   },
   {
    "duration": 17,
    "start_time": "2023-07-08T09:08:19.231Z"
   },
   {
    "duration": 10,
    "start_time": "2023-07-08T09:08:19.250Z"
   },
   {
    "duration": 21,
    "start_time": "2023-07-08T09:08:19.261Z"
   },
   {
    "duration": 15,
    "start_time": "2023-07-08T09:08:19.284Z"
   },
   {
    "duration": 42,
    "start_time": "2023-07-08T09:08:19.301Z"
   },
   {
    "duration": 14,
    "start_time": "2023-07-08T09:08:19.345Z"
   },
   {
    "duration": 21,
    "start_time": "2023-07-08T09:08:19.361Z"
   },
   {
    "duration": 14,
    "start_time": "2023-07-08T09:08:19.384Z"
   },
   {
    "duration": 10,
    "start_time": "2023-07-08T09:08:19.400Z"
   },
   {
    "duration": 7,
    "start_time": "2023-07-08T09:08:19.412Z"
   },
   {
    "duration": 24,
    "start_time": "2023-07-08T09:08:19.421Z"
   },
   {
    "duration": 19,
    "start_time": "2023-07-08T09:08:19.446Z"
   },
   {
    "duration": 10,
    "start_time": "2023-07-08T09:08:19.467Z"
   },
   {
    "duration": 13,
    "start_time": "2023-07-08T09:08:19.479Z"
   },
   {
    "duration": 182,
    "start_time": "2023-07-08T09:08:19.494Z"
   },
   {
    "duration": 11,
    "start_time": "2023-07-08T09:08:19.678Z"
   },
   {
    "duration": 15061,
    "start_time": "2023-07-08T09:08:19.691Z"
   },
   {
    "duration": 52809,
    "start_time": "2023-07-08T09:08:34.754Z"
   },
   {
    "duration": 150,
    "start_time": "2023-07-08T09:09:27.566Z"
   },
   {
    "duration": 0,
    "start_time": "2023-07-08T09:09:27.719Z"
   },
   {
    "duration": 4,
    "start_time": "2023-07-08T09:09:34.509Z"
   },
   {
    "duration": 17463,
    "start_time": "2023-07-08T09:09:37.868Z"
   },
   {
    "duration": 4925,
    "start_time": "2023-07-08T09:10:29.189Z"
   },
   {
    "duration": 3,
    "start_time": "2023-07-08T09:10:38.695Z"
   },
   {
    "duration": 16270,
    "start_time": "2023-07-08T09:18:32.542Z"
   },
   {
    "duration": 6918,
    "start_time": "2023-07-08T09:18:48.815Z"
   },
   {
    "duration": 11,
    "start_time": "2023-07-08T09:19:26.168Z"
   },
   {
    "duration": 14,
    "start_time": "2023-07-08T09:19:33.909Z"
   },
   {
    "duration": 11713,
    "start_time": "2023-07-08T09:20:10.902Z"
   },
   {
    "duration": 751,
    "start_time": "2023-07-08T09:24:50.764Z"
   },
   {
    "duration": 1428,
    "start_time": "2023-07-08T09:25:26.474Z"
   },
   {
    "duration": 1240,
    "start_time": "2023-07-08T09:25:27.904Z"
   },
   {
    "duration": 81,
    "start_time": "2023-07-08T09:25:29.146Z"
   },
   {
    "duration": 22,
    "start_time": "2023-07-08T09:25:29.230Z"
   },
   {
    "duration": 88,
    "start_time": "2023-07-08T09:25:29.255Z"
   },
   {
    "duration": 5,
    "start_time": "2023-07-08T09:25:29.345Z"
   },
   {
    "duration": 62,
    "start_time": "2023-07-08T09:25:29.352Z"
   },
   {
    "duration": 14,
    "start_time": "2023-07-08T09:25:29.415Z"
   },
   {
    "duration": 6,
    "start_time": "2023-07-08T09:25:29.431Z"
   },
   {
    "duration": 3,
    "start_time": "2023-07-08T09:25:29.439Z"
   },
   {
    "duration": 5,
    "start_time": "2023-07-08T09:25:29.443Z"
   },
   {
    "duration": 76,
    "start_time": "2023-07-08T09:25:29.450Z"
   },
   {
    "duration": 3,
    "start_time": "2023-07-08T09:25:29.527Z"
   },
   {
    "duration": 13,
    "start_time": "2023-07-08T09:25:29.532Z"
   },
   {
    "duration": 71,
    "start_time": "2023-07-08T09:25:29.546Z"
   },
   {
    "duration": 14,
    "start_time": "2023-07-08T09:25:29.619Z"
   },
   {
    "duration": 10,
    "start_time": "2023-07-08T09:25:29.636Z"
   },
   {
    "duration": 10,
    "start_time": "2023-07-08T09:25:29.648Z"
   },
   {
    "duration": 11,
    "start_time": "2023-07-08T09:25:29.715Z"
   },
   {
    "duration": 24,
    "start_time": "2023-07-08T09:25:29.729Z"
   },
   {
    "duration": 77,
    "start_time": "2023-07-08T09:25:29.755Z"
   },
   {
    "duration": 16,
    "start_time": "2023-07-08T09:25:29.839Z"
   },
   {
    "duration": 372,
    "start_time": "2023-07-08T09:25:29.857Z"
   },
   {
    "duration": 24,
    "start_time": "2023-07-08T09:25:30.231Z"
   },
   {
    "duration": 273,
    "start_time": "2023-07-08T09:25:30.256Z"
   },
   {
    "duration": 328,
    "start_time": "2023-07-08T09:25:30.532Z"
   },
   {
    "duration": 132,
    "start_time": "2023-07-08T09:25:30.862Z"
   },
   {
    "duration": 279,
    "start_time": "2023-07-08T09:25:30.998Z"
   },
   {
    "duration": 11,
    "start_time": "2023-07-08T09:25:31.279Z"
   },
   {
    "duration": 57,
    "start_time": "2023-07-08T09:25:31.293Z"
   },
   {
    "duration": 2700,
    "start_time": "2023-07-08T09:25:31.352Z"
   },
   {
    "duration": 2625,
    "start_time": "2023-07-08T09:25:34.054Z"
   },
   {
    "duration": 2013,
    "start_time": "2023-07-08T09:25:36.681Z"
   },
   {
    "duration": 1529,
    "start_time": "2023-07-08T09:25:38.696Z"
   },
   {
    "duration": 7,
    "start_time": "2023-07-08T09:25:40.227Z"
   },
   {
    "duration": 11,
    "start_time": "2023-07-08T09:25:40.236Z"
   },
   {
    "duration": 14,
    "start_time": "2023-07-08T09:25:40.249Z"
   },
   {
    "duration": 8,
    "start_time": "2023-07-08T09:25:40.264Z"
   },
   {
    "duration": 46,
    "start_time": "2023-07-08T09:25:40.274Z"
   },
   {
    "duration": 6,
    "start_time": "2023-07-08T09:25:40.321Z"
   },
   {
    "duration": 8,
    "start_time": "2023-07-08T09:25:40.329Z"
   },
   {
    "duration": 5,
    "start_time": "2023-07-08T09:25:40.339Z"
   },
   {
    "duration": 7,
    "start_time": "2023-07-08T09:25:40.346Z"
   },
   {
    "duration": 5,
    "start_time": "2023-07-08T09:25:40.354Z"
   },
   {
    "duration": 83,
    "start_time": "2023-07-08T09:25:40.361Z"
   },
   {
    "duration": 13,
    "start_time": "2023-07-08T09:25:40.445Z"
   },
   {
    "duration": 3,
    "start_time": "2023-07-08T09:25:40.460Z"
   },
   {
    "duration": 5,
    "start_time": "2023-07-08T09:25:40.465Z"
   },
   {
    "duration": 6,
    "start_time": "2023-07-08T09:25:40.472Z"
   },
   {
    "duration": 39,
    "start_time": "2023-07-08T09:25:40.480Z"
   },
   {
    "duration": 9,
    "start_time": "2023-07-08T09:25:40.520Z"
   },
   {
    "duration": 11,
    "start_time": "2023-07-08T09:25:40.531Z"
   },
   {
    "duration": 5,
    "start_time": "2023-07-08T09:25:40.544Z"
   },
   {
    "duration": 4,
    "start_time": "2023-07-08T09:25:40.551Z"
   },
   {
    "duration": 165,
    "start_time": "2023-07-08T09:25:40.557Z"
   },
   {
    "duration": 9,
    "start_time": "2023-07-08T09:25:40.724Z"
   },
   {
    "duration": 13383,
    "start_time": "2023-07-08T09:25:40.736Z"
   },
   {
    "duration": 52589,
    "start_time": "2023-07-08T09:25:54.121Z"
   },
   {
    "duration": 30929,
    "start_time": "2023-07-08T09:26:46.714Z"
   },
   {
    "duration": 6881,
    "start_time": "2023-07-08T09:27:17.647Z"
   },
   {
    "duration": 11685,
    "start_time": "2023-07-08T09:27:24.530Z"
   },
   {
    "duration": 401,
    "start_time": "2023-07-08T09:27:36.217Z"
   },
   {
    "duration": 12644,
    "start_time": "2023-07-08T09:27:36.622Z"
   },
   {
    "duration": 12870,
    "start_time": "2023-07-08T09:28:48.492Z"
   },
   {
    "duration": 100,
    "start_time": "2023-07-08T09:29:01.364Z"
   },
   {
    "duration": 442749,
    "start_time": "2023-07-08T09:29:23.024Z"
   },
   {
    "duration": 93,
    "start_time": "2023-07-08T09:36:45.775Z"
   },
   {
    "duration": 0,
    "start_time": "2023-07-08T09:36:45.870Z"
   },
   {
    "duration": 0,
    "start_time": "2023-07-08T09:36:45.871Z"
   },
   {
    "duration": 0,
    "start_time": "2023-07-08T09:36:45.873Z"
   },
   {
    "duration": 133,
    "start_time": "2023-07-08T09:37:01.211Z"
   },
   {
    "duration": 2126,
    "start_time": "2023-07-09T19:57:29.128Z"
   },
   {
    "duration": 2392,
    "start_time": "2023-07-09T19:57:31.258Z"
   },
   {
    "duration": 37,
    "start_time": "2023-07-09T19:57:33.653Z"
   },
   {
    "duration": 25,
    "start_time": "2023-07-09T19:57:33.692Z"
   },
   {
    "duration": 44,
    "start_time": "2023-07-09T19:57:33.719Z"
   },
   {
    "duration": 13,
    "start_time": "2023-07-09T19:57:33.766Z"
   },
   {
    "duration": 21,
    "start_time": "2023-07-09T19:57:33.781Z"
   },
   {
    "duration": 12,
    "start_time": "2023-07-09T19:57:33.804Z"
   },
   {
    "duration": 11,
    "start_time": "2023-07-09T19:57:33.818Z"
   },
   {
    "duration": 5,
    "start_time": "2023-07-09T19:57:33.831Z"
   },
   {
    "duration": 7,
    "start_time": "2023-07-09T19:57:33.837Z"
   },
   {
    "duration": 24,
    "start_time": "2023-07-09T19:57:33.846Z"
   },
   {
    "duration": 5,
    "start_time": "2023-07-09T19:57:33.872Z"
   },
   {
    "duration": 27,
    "start_time": "2023-07-09T19:57:33.879Z"
   },
   {
    "duration": 19,
    "start_time": "2023-07-09T19:57:33.908Z"
   },
   {
    "duration": 26,
    "start_time": "2023-07-09T19:57:33.928Z"
   },
   {
    "duration": 10,
    "start_time": "2023-07-09T19:57:33.957Z"
   },
   {
    "duration": 14,
    "start_time": "2023-07-09T19:57:33.969Z"
   },
   {
    "duration": 8,
    "start_time": "2023-07-09T19:57:33.985Z"
   },
   {
    "duration": 10,
    "start_time": "2023-07-09T19:57:33.995Z"
   },
   {
    "duration": 47,
    "start_time": "2023-07-09T19:57:34.007Z"
   },
   {
    "duration": 12,
    "start_time": "2023-07-09T19:57:34.056Z"
   },
   {
    "duration": 141,
    "start_time": "2023-07-09T19:57:34.070Z"
   },
   {
    "duration": 23,
    "start_time": "2023-07-09T19:57:34.213Z"
   },
   {
    "duration": 116,
    "start_time": "2023-07-09T19:57:34.237Z"
   },
   {
    "duration": 237,
    "start_time": "2023-07-09T19:57:34.355Z"
   },
   {
    "duration": 121,
    "start_time": "2023-07-09T19:57:34.594Z"
   },
   {
    "duration": 288,
    "start_time": "2023-07-09T19:57:34.719Z"
   },
   {
    "duration": 8,
    "start_time": "2023-07-09T19:57:35.008Z"
   },
   {
    "duration": 11,
    "start_time": "2023-07-09T19:57:35.017Z"
   },
   {
    "duration": 2157,
    "start_time": "2023-07-09T19:57:35.030Z"
   },
   {
    "duration": 2003,
    "start_time": "2023-07-09T19:57:37.189Z"
   },
   {
    "duration": 1967,
    "start_time": "2023-07-09T19:57:39.194Z"
   },
   {
    "duration": 1352,
    "start_time": "2023-07-09T19:57:41.168Z"
   },
   {
    "duration": 7,
    "start_time": "2023-07-09T19:57:42.523Z"
   },
   {
    "duration": 13,
    "start_time": "2023-07-09T19:57:42.531Z"
   },
   {
    "duration": 18,
    "start_time": "2023-07-09T19:57:42.553Z"
   },
   {
    "duration": 15,
    "start_time": "2023-07-09T19:57:42.574Z"
   },
   {
    "duration": 13,
    "start_time": "2023-07-09T19:57:42.591Z"
   },
   {
    "duration": 5,
    "start_time": "2023-07-09T19:57:42.606Z"
   },
   {
    "duration": 7,
    "start_time": "2023-07-09T19:57:42.612Z"
   },
   {
    "duration": 10,
    "start_time": "2023-07-09T19:57:42.620Z"
   },
   {
    "duration": 24,
    "start_time": "2023-07-09T19:57:42.632Z"
   },
   {
    "duration": 12,
    "start_time": "2023-07-09T19:57:42.659Z"
   },
   {
    "duration": 54,
    "start_time": "2023-07-09T19:57:42.673Z"
   },
   {
    "duration": 23,
    "start_time": "2023-07-09T19:57:42.729Z"
   },
   {
    "duration": 5,
    "start_time": "2023-07-09T19:57:42.755Z"
   },
   {
    "duration": 15,
    "start_time": "2023-07-09T19:57:42.761Z"
   },
   {
    "duration": 8,
    "start_time": "2023-07-09T19:57:42.778Z"
   },
   {
    "duration": 10,
    "start_time": "2023-07-09T19:57:42.787Z"
   },
   {
    "duration": 16,
    "start_time": "2023-07-09T19:57:42.798Z"
   },
   {
    "duration": 28,
    "start_time": "2023-07-09T19:57:42.816Z"
   },
   {
    "duration": 81,
    "start_time": "2023-07-09T19:57:42.847Z"
   },
   {
    "duration": 10,
    "start_time": "2023-07-09T19:57:42.930Z"
   },
   {
    "duration": 194,
    "start_time": "2023-07-09T19:57:42.942Z"
   },
   {
    "duration": 9,
    "start_time": "2023-07-09T19:57:43.138Z"
   },
   {
    "duration": 6,
    "start_time": "2023-07-09T19:57:43.152Z"
   },
   {
    "duration": 13801,
    "start_time": "2023-07-09T19:57:43.161Z"
   },
   {
    "duration": 1492,
    "start_time": "2023-07-09T20:01:40.608Z"
   },
   {
    "duration": 804,
    "start_time": "2023-07-09T20:01:42.102Z"
   },
   {
    "duration": 25,
    "start_time": "2023-07-09T20:01:42.908Z"
   },
   {
    "duration": 40,
    "start_time": "2023-07-09T20:01:42.935Z"
   },
   {
    "duration": 22,
    "start_time": "2023-07-09T20:01:42.977Z"
   },
   {
    "duration": 7,
    "start_time": "2023-07-09T20:01:43.001Z"
   },
   {
    "duration": 5,
    "start_time": "2023-07-09T20:01:43.010Z"
   },
   {
    "duration": 48,
    "start_time": "2023-07-09T20:01:43.017Z"
   },
   {
    "duration": 16,
    "start_time": "2023-07-09T20:01:43.067Z"
   },
   {
    "duration": 7,
    "start_time": "2023-07-09T20:01:43.085Z"
   },
   {
    "duration": 10,
    "start_time": "2023-07-09T20:01:43.094Z"
   },
   {
    "duration": 24,
    "start_time": "2023-07-09T20:01:43.106Z"
   },
   {
    "duration": 3,
    "start_time": "2023-07-09T20:01:43.132Z"
   },
   {
    "duration": 23,
    "start_time": "2023-07-09T20:01:43.137Z"
   },
   {
    "duration": 24,
    "start_time": "2023-07-09T20:01:43.162Z"
   },
   {
    "duration": 10,
    "start_time": "2023-07-09T20:01:43.188Z"
   },
   {
    "duration": 9,
    "start_time": "2023-07-09T20:01:43.200Z"
   },
   {
    "duration": 42,
    "start_time": "2023-07-09T20:01:43.211Z"
   },
   {
    "duration": 17,
    "start_time": "2023-07-09T20:01:43.255Z"
   },
   {
    "duration": 12,
    "start_time": "2023-07-09T20:01:43.274Z"
   },
   {
    "duration": 21,
    "start_time": "2023-07-09T20:01:43.287Z"
   },
   {
    "duration": 46,
    "start_time": "2023-07-09T20:01:43.310Z"
   },
   {
    "duration": 157,
    "start_time": "2023-07-09T20:01:43.358Z"
   },
   {
    "duration": 22,
    "start_time": "2023-07-09T20:01:43.516Z"
   },
   {
    "duration": 115,
    "start_time": "2023-07-09T20:01:43.540Z"
   },
   {
    "duration": 246,
    "start_time": "2023-07-09T20:01:43.657Z"
   },
   {
    "duration": 137,
    "start_time": "2023-07-09T20:01:43.905Z"
   },
   {
    "duration": 287,
    "start_time": "2023-07-09T20:01:44.046Z"
   },
   {
    "duration": 7,
    "start_time": "2023-07-09T20:01:44.335Z"
   },
   {
    "duration": 25,
    "start_time": "2023-07-09T20:01:44.343Z"
   },
   {
    "duration": 2166,
    "start_time": "2023-07-09T20:01:44.371Z"
   },
   {
    "duration": 3582,
    "start_time": "2023-07-09T20:01:46.538Z"
   },
   {
    "duration": 2124,
    "start_time": "2023-07-09T20:01:50.122Z"
   },
   {
    "duration": 44,
    "start_time": "2023-07-09T20:01:52.248Z"
   },
   {
    "duration": 2032,
    "start_time": "2023-07-09T20:01:52.294Z"
   },
   {
    "duration": 1470,
    "start_time": "2023-07-09T20:01:54.328Z"
   },
   {
    "duration": 9,
    "start_time": "2023-07-09T20:01:55.800Z"
   },
   {
    "duration": 9,
    "start_time": "2023-07-09T20:01:55.811Z"
   },
   {
    "duration": 9,
    "start_time": "2023-07-09T20:01:55.821Z"
   },
   {
    "duration": 34,
    "start_time": "2023-07-09T20:01:55.831Z"
   },
   {
    "duration": 8,
    "start_time": "2023-07-09T20:01:55.868Z"
   },
   {
    "duration": 10,
    "start_time": "2023-07-09T20:01:55.878Z"
   },
   {
    "duration": 9,
    "start_time": "2023-07-09T20:01:55.890Z"
   },
   {
    "duration": 12,
    "start_time": "2023-07-09T20:01:55.901Z"
   },
   {
    "duration": 9,
    "start_time": "2023-07-09T20:01:55.915Z"
   },
   {
    "duration": 29,
    "start_time": "2023-07-09T20:01:55.925Z"
   },
   {
    "duration": 49,
    "start_time": "2023-07-09T20:01:55.956Z"
   },
   {
    "duration": 14,
    "start_time": "2023-07-09T20:01:56.007Z"
   },
   {
    "duration": 4,
    "start_time": "2023-07-09T20:01:56.023Z"
   },
   {
    "duration": 8,
    "start_time": "2023-07-09T20:01:56.029Z"
   },
   {
    "duration": 7,
    "start_time": "2023-07-09T20:01:56.052Z"
   },
   {
    "duration": 12,
    "start_time": "2023-07-09T20:01:56.062Z"
   },
   {
    "duration": 11,
    "start_time": "2023-07-09T20:01:56.076Z"
   },
   {
    "duration": 12,
    "start_time": "2023-07-09T20:01:56.089Z"
   },
   {
    "duration": 6,
    "start_time": "2023-07-09T20:01:56.103Z"
   },
   {
    "duration": 15,
    "start_time": "2023-07-09T20:01:56.111Z"
   },
   {
    "duration": 162,
    "start_time": "2023-07-09T20:01:56.127Z"
   },
   {
    "duration": 8,
    "start_time": "2023-07-09T20:01:56.291Z"
   },
   {
    "duration": 5,
    "start_time": "2023-07-09T20:01:56.301Z"
   },
   {
    "duration": 13695,
    "start_time": "2023-07-09T20:01:56.308Z"
   },
   {
    "duration": 457335,
    "start_time": "2023-07-09T20:02:10.005Z"
   },
   {
    "duration": 60727,
    "start_time": "2023-07-09T20:09:47.343Z"
   },
   {
    "duration": 6906,
    "start_time": "2023-07-09T20:10:48.072Z"
   },
   {
    "duration": 21075,
    "start_time": "2023-07-09T20:10:54.980Z"
   },
   {
    "duration": 709,
    "start_time": "2023-07-09T20:11:16.059Z"
   },
   {
    "duration": 1620,
    "start_time": "2023-07-09T20:13:39.281Z"
   },
   {
    "duration": 824,
    "start_time": "2023-07-09T20:13:40.903Z"
   },
   {
    "duration": 36,
    "start_time": "2023-07-09T20:13:41.729Z"
   },
   {
    "duration": 26,
    "start_time": "2023-07-09T20:13:41.769Z"
   },
   {
    "duration": 25,
    "start_time": "2023-07-09T20:13:41.796Z"
   },
   {
    "duration": 16,
    "start_time": "2023-07-09T20:13:41.822Z"
   },
   {
    "duration": 15,
    "start_time": "2023-07-09T20:13:41.839Z"
   },
   {
    "duration": 18,
    "start_time": "2023-07-09T20:13:41.856Z"
   },
   {
    "duration": 17,
    "start_time": "2023-07-09T20:13:41.876Z"
   },
   {
    "duration": 5,
    "start_time": "2023-07-09T20:13:41.896Z"
   },
   {
    "duration": 11,
    "start_time": "2023-07-09T20:13:41.902Z"
   },
   {
    "duration": 28,
    "start_time": "2023-07-09T20:13:41.914Z"
   },
   {
    "duration": 2,
    "start_time": "2023-07-09T20:13:41.944Z"
   },
   {
    "duration": 14,
    "start_time": "2023-07-09T20:13:41.948Z"
   },
   {
    "duration": 17,
    "start_time": "2023-07-09T20:13:41.965Z"
   },
   {
    "duration": 11,
    "start_time": "2023-07-09T20:13:41.983Z"
   },
   {
    "duration": 7,
    "start_time": "2023-07-09T20:13:41.996Z"
   },
   {
    "duration": 7,
    "start_time": "2023-07-09T20:13:42.005Z"
   },
   {
    "duration": 54,
    "start_time": "2023-07-09T20:13:42.014Z"
   },
   {
    "duration": 12,
    "start_time": "2023-07-09T20:13:42.070Z"
   },
   {
    "duration": 21,
    "start_time": "2023-07-09T20:13:42.083Z"
   },
   {
    "duration": 11,
    "start_time": "2023-07-09T20:13:42.106Z"
   },
   {
    "duration": 174,
    "start_time": "2023-07-09T20:13:42.119Z"
   },
   {
    "duration": 24,
    "start_time": "2023-07-09T20:13:42.295Z"
   },
   {
    "duration": 131,
    "start_time": "2023-07-09T20:13:42.320Z"
   },
   {
    "duration": 269,
    "start_time": "2023-07-09T20:13:42.453Z"
   },
   {
    "duration": 131,
    "start_time": "2023-07-09T20:13:42.723Z"
   },
   {
    "duration": 310,
    "start_time": "2023-07-09T20:13:42.861Z"
   },
   {
    "duration": 13,
    "start_time": "2023-07-09T20:13:43.173Z"
   },
   {
    "duration": 25,
    "start_time": "2023-07-09T20:13:43.188Z"
   },
   {
    "duration": 1999,
    "start_time": "2023-07-09T20:13:43.216Z"
   },
   {
    "duration": 2038,
    "start_time": "2023-07-09T20:13:45.217Z"
   },
   {
    "duration": 2232,
    "start_time": "2023-07-09T20:13:47.258Z"
   },
   {
    "duration": 40,
    "start_time": "2023-07-09T20:13:49.492Z"
   },
   {
    "duration": 1532,
    "start_time": "2023-07-09T20:13:49.534Z"
   },
   {
    "duration": 11,
    "start_time": "2023-07-09T20:13:51.069Z"
   },
   {
    "duration": 26,
    "start_time": "2023-07-09T20:13:51.081Z"
   },
   {
    "duration": 9,
    "start_time": "2023-07-09T20:13:51.109Z"
   },
   {
    "duration": 20,
    "start_time": "2023-07-09T20:13:51.119Z"
   },
   {
    "duration": 19,
    "start_time": "2023-07-09T20:13:51.143Z"
   },
   {
    "duration": 95,
    "start_time": "2023-07-09T20:13:51.164Z"
   },
   {
    "duration": 1,
    "start_time": "2023-07-09T20:13:51.261Z"
   },
   {
    "duration": 0,
    "start_time": "2023-07-09T20:13:51.263Z"
   },
   {
    "duration": 0,
    "start_time": "2023-07-09T20:13:51.265Z"
   },
   {
    "duration": 0,
    "start_time": "2023-07-09T20:13:51.270Z"
   },
   {
    "duration": 0,
    "start_time": "2023-07-09T20:13:51.273Z"
   },
   {
    "duration": 0,
    "start_time": "2023-07-09T20:13:51.274Z"
   },
   {
    "duration": 0,
    "start_time": "2023-07-09T20:13:51.276Z"
   },
   {
    "duration": 0,
    "start_time": "2023-07-09T20:13:51.277Z"
   },
   {
    "duration": 0,
    "start_time": "2023-07-09T20:13:51.279Z"
   },
   {
    "duration": 0,
    "start_time": "2023-07-09T20:13:51.280Z"
   },
   {
    "duration": 0,
    "start_time": "2023-07-09T20:13:51.281Z"
   },
   {
    "duration": 0,
    "start_time": "2023-07-09T20:13:51.282Z"
   },
   {
    "duration": 0,
    "start_time": "2023-07-09T20:13:51.283Z"
   },
   {
    "duration": 0,
    "start_time": "2023-07-09T20:13:51.285Z"
   },
   {
    "duration": 0,
    "start_time": "2023-07-09T20:13:51.286Z"
   },
   {
    "duration": 0,
    "start_time": "2023-07-09T20:13:51.288Z"
   },
   {
    "duration": 0,
    "start_time": "2023-07-09T20:13:51.289Z"
   },
   {
    "duration": 0,
    "start_time": "2023-07-09T20:13:51.290Z"
   },
   {
    "duration": 483,
    "start_time": "2023-07-09T20:16:46.029Z"
   },
   {
    "duration": 355,
    "start_time": "2023-07-09T20:17:01.359Z"
   },
   {
    "duration": 6,
    "start_time": "2023-07-09T20:17:18.997Z"
   },
   {
    "duration": 139,
    "start_time": "2023-07-09T20:17:36.525Z"
   },
   {
    "duration": 525,
    "start_time": "2023-07-09T20:17:47.191Z"
   },
   {
    "duration": 369,
    "start_time": "2023-07-09T20:18:12.864Z"
   },
   {
    "duration": 385,
    "start_time": "2023-07-09T20:18:36.523Z"
   },
   {
    "duration": 396,
    "start_time": "2023-07-09T20:18:51.906Z"
   },
   {
    "duration": 579,
    "start_time": "2023-07-09T20:19:23.775Z"
   },
   {
    "duration": 60,
    "start_time": "2023-07-09T20:29:58.010Z"
   },
   {
    "duration": 15,
    "start_time": "2023-07-09T20:36:20.026Z"
   },
   {
    "duration": 14,
    "start_time": "2023-07-09T20:36:29.294Z"
   },
   {
    "duration": 4,
    "start_time": "2023-07-09T20:36:29.819Z"
   },
   {
    "duration": 6,
    "start_time": "2023-07-09T20:36:30.692Z"
   },
   {
    "duration": 7,
    "start_time": "2023-07-09T20:36:30.825Z"
   },
   {
    "duration": 4,
    "start_time": "2023-07-09T20:36:30.940Z"
   },
   {
    "duration": 6,
    "start_time": "2023-07-09T20:36:31.834Z"
   },
   {
    "duration": 6,
    "start_time": "2023-07-09T20:36:32.084Z"
   },
   {
    "duration": 4,
    "start_time": "2023-07-09T20:36:35.614Z"
   },
   {
    "duration": 4,
    "start_time": "2023-07-09T20:36:35.752Z"
   },
   {
    "duration": 144,
    "start_time": "2023-07-09T20:36:36.532Z"
   },
   {
    "duration": 9,
    "start_time": "2023-07-09T20:36:38.109Z"
   },
   {
    "duration": 3,
    "start_time": "2023-07-09T20:36:40.439Z"
   },
   {
    "duration": 12355,
    "start_time": "2023-07-09T20:36:41.444Z"
   },
   {
    "duration": 11,
    "start_time": "2023-07-09T20:38:41.590Z"
   },
   {
    "duration": 12378,
    "start_time": "2023-07-09T20:39:44.499Z"
   },
   {
    "duration": 12,
    "start_time": "2023-07-09T20:40:28.800Z"
   },
   {
    "duration": 11,
    "start_time": "2023-07-09T20:40:37.826Z"
   },
   {
    "duration": 423166,
    "start_time": "2023-07-09T20:40:45.314Z"
   },
   {
    "duration": 20270,
    "start_time": "2023-07-09T20:47:48.483Z"
   },
   {
    "duration": 7109,
    "start_time": "2023-07-09T20:48:08.755Z"
   },
   {
    "duration": 1291,
    "start_time": "2023-07-09T20:48:15.866Z"
   },
   {
    "duration": 16,
    "start_time": "2023-07-09T20:49:58.322Z"
   },
   {
    "duration": 21631,
    "start_time": "2023-07-09T20:50:36.922Z"
   },
   {
    "duration": 7208,
    "start_time": "2023-07-09T20:50:58.556Z"
   },
   {
    "duration": 18867,
    "start_time": "2023-07-09T20:52:26.389Z"
   },
   {
    "duration": 6896,
    "start_time": "2023-07-09T20:52:45.259Z"
   },
   {
    "duration": 1477,
    "start_time": "2023-07-09T20:52:57.478Z"
   },
   {
    "duration": 1595,
    "start_time": "2023-07-09T20:53:06.459Z"
   },
   {
    "duration": 520,
    "start_time": "2023-07-09T20:53:16.543Z"
   },
   {
    "duration": 4,
    "start_time": "2023-07-09T20:53:40.680Z"
   },
   {
    "duration": 11,
    "start_time": "2023-07-09T20:54:45.076Z"
   },
   {
    "duration": 13,
    "start_time": "2023-07-10T20:22:08.763Z"
   },
   {
    "duration": 4,
    "start_time": "2023-07-10T20:22:15.947Z"
   },
   {
    "duration": 2215,
    "start_time": "2023-07-11T10:50:33.642Z"
   },
   {
    "duration": 2429,
    "start_time": "2023-07-11T10:50:37.651Z"
   },
   {
    "duration": 41,
    "start_time": "2023-07-11T10:50:40.095Z"
   },
   {
    "duration": 43,
    "start_time": "2023-07-11T10:50:40.138Z"
   },
   {
    "duration": 46,
    "start_time": "2023-07-11T10:50:40.184Z"
   },
   {
    "duration": 33,
    "start_time": "2023-07-11T10:50:40.231Z"
   },
   {
    "duration": 23,
    "start_time": "2023-07-11T10:50:40.266Z"
   },
   {
    "duration": 18,
    "start_time": "2023-07-11T10:50:40.292Z"
   },
   {
    "duration": 50,
    "start_time": "2023-07-11T10:50:40.312Z"
   },
   {
    "duration": 82,
    "start_time": "2023-07-11T10:50:40.370Z"
   },
   {
    "duration": 44,
    "start_time": "2023-07-11T10:50:40.456Z"
   },
   {
    "duration": 143,
    "start_time": "2023-07-11T10:50:40.502Z"
   },
   {
    "duration": 17,
    "start_time": "2023-07-11T10:50:40.647Z"
   },
   {
    "duration": 25,
    "start_time": "2023-07-11T10:50:40.667Z"
   },
   {
    "duration": 41,
    "start_time": "2023-07-11T10:50:40.694Z"
   },
   {
    "duration": 16,
    "start_time": "2023-07-11T10:50:40.738Z"
   },
   {
    "duration": 23,
    "start_time": "2023-07-11T10:50:40.756Z"
   },
   {
    "duration": 18,
    "start_time": "2023-07-11T10:50:40.782Z"
   },
   {
    "duration": 47,
    "start_time": "2023-07-11T10:50:40.815Z"
   },
   {
    "duration": 59,
    "start_time": "2023-07-11T10:50:40.864Z"
   },
   {
    "duration": 50,
    "start_time": "2023-07-11T10:50:40.925Z"
   },
   {
    "duration": 26,
    "start_time": "2023-07-11T10:50:40.978Z"
   },
   {
    "duration": 252,
    "start_time": "2023-07-11T10:50:41.007Z"
   },
   {
    "duration": 46,
    "start_time": "2023-07-11T10:50:41.261Z"
   },
   {
    "duration": 152,
    "start_time": "2023-07-11T10:50:41.310Z"
   },
   {
    "duration": 363,
    "start_time": "2023-07-11T10:50:41.465Z"
   },
   {
    "duration": 198,
    "start_time": "2023-07-11T10:50:41.831Z"
   },
   {
    "duration": 373,
    "start_time": "2023-07-11T10:50:42.031Z"
   },
   {
    "duration": 17,
    "start_time": "2023-07-11T10:50:42.409Z"
   },
   {
    "duration": 34,
    "start_time": "2023-07-11T10:50:42.428Z"
   },
   {
    "duration": 2782,
    "start_time": "2023-07-11T10:50:42.464Z"
   },
   {
    "duration": 2779,
    "start_time": "2023-07-11T10:50:45.248Z"
   },
   {
    "duration": 2772,
    "start_time": "2023-07-11T10:50:48.029Z"
   },
   {
    "duration": 66,
    "start_time": "2023-07-11T10:50:50.804Z"
   },
   {
    "duration": 2345,
    "start_time": "2023-07-11T10:50:50.873Z"
   },
   {
    "duration": 12,
    "start_time": "2023-07-11T10:50:53.222Z"
   },
   {
    "duration": 38,
    "start_time": "2023-07-11T10:50:53.236Z"
   },
   {
    "duration": 10,
    "start_time": "2023-07-11T10:50:53.276Z"
   },
   {
    "duration": 21,
    "start_time": "2023-07-11T10:50:53.288Z"
   },
   {
    "duration": 11,
    "start_time": "2023-07-11T10:50:53.311Z"
   },
   {
    "duration": 22,
    "start_time": "2023-07-11T10:50:58.858Z"
   },
   {
    "duration": 5,
    "start_time": "2023-07-11T10:50:59.356Z"
   },
   {
    "duration": 6,
    "start_time": "2023-07-11T10:50:59.427Z"
   },
   {
    "duration": 7,
    "start_time": "2023-07-11T10:50:59.469Z"
   },
   {
    "duration": 5,
    "start_time": "2023-07-11T10:51:02.862Z"
   },
   {
    "duration": 8,
    "start_time": "2023-07-11T10:51:03.209Z"
   },
   {
    "duration": 6,
    "start_time": "2023-07-11T10:51:03.321Z"
   },
   {
    "duration": 5,
    "start_time": "2023-07-11T10:51:03.599Z"
   },
   {
    "duration": 6,
    "start_time": "2023-07-11T10:51:04.583Z"
   },
   {
    "duration": 226,
    "start_time": "2023-07-11T10:51:07.143Z"
   },
   {
    "duration": 12,
    "start_time": "2023-07-11T10:51:07.644Z"
   },
   {
    "duration": 4,
    "start_time": "2023-07-11T10:51:08.515Z"
   },
   {
    "duration": 102361,
    "start_time": "2023-07-11T10:51:21.747Z"
   },
   {
    "duration": 1901,
    "start_time": "2023-07-11T10:53:04.110Z"
   },
   {
    "duration": 130,
    "start_time": "2023-07-11T10:54:17.918Z"
   },
   {
    "duration": 8276,
    "start_time": "2023-07-11T10:54:24.933Z"
   },
   {
    "duration": 12,
    "start_time": "2023-07-11T10:54:49.928Z"
   }
  ],
  "kernelspec": {
   "display_name": "Python 3 (ipykernel)",
   "language": "python",
   "name": "python3"
  },
  "language_info": {
   "codemirror_mode": {
    "name": "ipython",
    "version": 3
   },
   "file_extension": ".py",
   "mimetype": "text/x-python",
   "name": "python",
   "nbconvert_exporter": "python",
   "pygments_lexer": "ipython3",
   "version": "3.9.5"
  },
  "toc": {
   "base_numbering": 1,
   "nav_menu": {},
   "number_sections": true,
   "sideBar": true,
   "skip_h1_title": true,
   "title_cell": "Содержание",
   "title_sidebar": "Contents",
   "toc_cell": true,
   "toc_position": {
    "height": "calc(100% - 180px)",
    "left": "10px",
    "top": "150px",
    "width": "165px"
   },
   "toc_section_display": true,
   "toc_window_display": true
  },
  "varInspector": {
   "cols": {
    "lenName": 16,
    "lenType": 16,
    "lenVar": 40
   },
   "kernels_config": {
    "python": {
     "delete_cmd_postfix": "",
     "delete_cmd_prefix": "del ",
     "library": "var_list.py",
     "varRefreshCmd": "print(var_dic_list())"
    },
    "r": {
     "delete_cmd_postfix": ") ",
     "delete_cmd_prefix": "rm(",
     "library": "var_list.r",
     "varRefreshCmd": "cat(var_dic_list()) "
    }
   },
   "types_to_exclude": [
    "module",
    "function",
    "builtin_function_or_method",
    "instance",
    "_Feature"
   ],
   "window_display": false
  }
 },
 "nbformat": 4,
 "nbformat_minor": 2
}
