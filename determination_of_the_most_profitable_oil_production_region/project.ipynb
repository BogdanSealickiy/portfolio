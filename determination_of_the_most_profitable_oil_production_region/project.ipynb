{
 "cells": [
  {
   "cell_type": "markdown",
   "metadata": {},
   "source": [
    "# Выбор локации для скважины"
   ]
  },
  {
   "cell_type": "markdown",
   "metadata": {},
   "source": [
    "\n",
    "компании «ГлавРосГосНефть», нужно решить, где бурить новую скважину.\n",
    "\n",
    "Нам предоставлены пробы нефти в трёх регионах: в каждом 10 000 месторождений, где измерили качество нефти и объём её запасов. Нжно построить модель машинного обучения, которая поможет определить регион, где добыча принесёт наибольшую прибыль. \n",
    "\n",
    "Шаги для выбора локации:\n",
    "\n",
    "- В избранном регионе ищут месторождения, для каждого определяют значения признаков;\n",
    "- Строят модель и оценивают объём запасов;\n",
    "- Выбирают месторождения с самым высокими оценками значений. Количество месторождений зависит от бюджета компании и стоимости разработки одной скважины;\n",
    "- Прибыль равна суммарной прибыли отобранных месторождений."
   ]
  },
  {
   "cell_type": "markdown",
   "metadata": {},
   "source": [
    "## Загрузка и подготовка данных"
   ]
  },
  {
   "cell_type": "code",
   "execution_count": 1,
   "metadata": {},
   "outputs": [],
   "source": [
    "import pandas as pd\n",
    "import numpy as np\n",
    "from sklearn.preprocessing import StandardScaler\n",
    "\n",
    "from sklearn.model_selection import train_test_split\n",
    "\n",
    "from sklearn.linear_model import LinearRegression\n",
    "from sklearn.metrics import mean_squared_error\n",
    "state = np.random.RandomState(12345)\n",
    "from scipy import stats as st"
   ]
  },
  {
   "cell_type": "markdown",
   "metadata": {},
   "source": [
    "Импортируем таблицы для работы в соответствующие переменные"
   ]
  },
  {
   "cell_type": "code",
   "execution_count": 2,
   "metadata": {},
   "outputs": [],
   "source": [
    "data0 = pd.read_csv('/datasets/geo_data_0.csv')\n",
    "data1 = pd.read_csv('/datasets/geo_data_1.csv')\n",
    "data2 = pd.read_csv('/datasets/geo_data_2.csv')"
   ]
  },
  {
   "cell_type": "markdown",
   "metadata": {},
   "source": [
    "И просмотрим их"
   ]
  },
  {
   "cell_type": "code",
   "execution_count": 3,
   "metadata": {},
   "outputs": [
    {
     "data": {
      "text/html": [
       "<div>\n",
       "<style scoped>\n",
       "    .dataframe tbody tr th:only-of-type {\n",
       "        vertical-align: middle;\n",
       "    }\n",
       "\n",
       "    .dataframe tbody tr th {\n",
       "        vertical-align: top;\n",
       "    }\n",
       "\n",
       "    .dataframe thead th {\n",
       "        text-align: right;\n",
       "    }\n",
       "</style>\n",
       "<table border=\"1\" class=\"dataframe\">\n",
       "  <thead>\n",
       "    <tr style=\"text-align: right;\">\n",
       "      <th></th>\n",
       "      <th>id</th>\n",
       "      <th>f0</th>\n",
       "      <th>f1</th>\n",
       "      <th>f2</th>\n",
       "      <th>product</th>\n",
       "    </tr>\n",
       "  </thead>\n",
       "  <tbody>\n",
       "    <tr>\n",
       "      <th>0</th>\n",
       "      <td>txEyH</td>\n",
       "      <td>0.705745</td>\n",
       "      <td>-0.497823</td>\n",
       "      <td>1.221170</td>\n",
       "      <td>105.280062</td>\n",
       "    </tr>\n",
       "    <tr>\n",
       "      <th>1</th>\n",
       "      <td>2acmU</td>\n",
       "      <td>1.334711</td>\n",
       "      <td>-0.340164</td>\n",
       "      <td>4.365080</td>\n",
       "      <td>73.037750</td>\n",
       "    </tr>\n",
       "    <tr>\n",
       "      <th>2</th>\n",
       "      <td>409Wp</td>\n",
       "      <td>1.022732</td>\n",
       "      <td>0.151990</td>\n",
       "      <td>1.419926</td>\n",
       "      <td>85.265647</td>\n",
       "    </tr>\n",
       "    <tr>\n",
       "      <th>3</th>\n",
       "      <td>iJLyR</td>\n",
       "      <td>-0.032172</td>\n",
       "      <td>0.139033</td>\n",
       "      <td>2.978566</td>\n",
       "      <td>168.620776</td>\n",
       "    </tr>\n",
       "    <tr>\n",
       "      <th>4</th>\n",
       "      <td>Xdl7t</td>\n",
       "      <td>1.988431</td>\n",
       "      <td>0.155413</td>\n",
       "      <td>4.751769</td>\n",
       "      <td>154.036647</td>\n",
       "    </tr>\n",
       "  </tbody>\n",
       "</table>\n",
       "</div>"
      ],
      "text/plain": [
       "      id        f0        f1        f2     product\n",
       "0  txEyH  0.705745 -0.497823  1.221170  105.280062\n",
       "1  2acmU  1.334711 -0.340164  4.365080   73.037750\n",
       "2  409Wp  1.022732  0.151990  1.419926   85.265647\n",
       "3  iJLyR -0.032172  0.139033  2.978566  168.620776\n",
       "4  Xdl7t  1.988431  0.155413  4.751769  154.036647"
      ]
     },
     "execution_count": 3,
     "metadata": {},
     "output_type": "execute_result"
    }
   ],
   "source": [
    "data0.head()"
   ]
  },
  {
   "cell_type": "code",
   "execution_count": 4,
   "metadata": {},
   "outputs": [
    {
     "data": {
      "text/html": [
       "<div>\n",
       "<style scoped>\n",
       "    .dataframe tbody tr th:only-of-type {\n",
       "        vertical-align: middle;\n",
       "    }\n",
       "\n",
       "    .dataframe tbody tr th {\n",
       "        vertical-align: top;\n",
       "    }\n",
       "\n",
       "    .dataframe thead th {\n",
       "        text-align: right;\n",
       "    }\n",
       "</style>\n",
       "<table border=\"1\" class=\"dataframe\">\n",
       "  <thead>\n",
       "    <tr style=\"text-align: right;\">\n",
       "      <th></th>\n",
       "      <th>id</th>\n",
       "      <th>f0</th>\n",
       "      <th>f1</th>\n",
       "      <th>f2</th>\n",
       "      <th>product</th>\n",
       "    </tr>\n",
       "  </thead>\n",
       "  <tbody>\n",
       "    <tr>\n",
       "      <th>0</th>\n",
       "      <td>kBEdx</td>\n",
       "      <td>-15.001348</td>\n",
       "      <td>-8.276000</td>\n",
       "      <td>-0.005876</td>\n",
       "      <td>3.179103</td>\n",
       "    </tr>\n",
       "    <tr>\n",
       "      <th>1</th>\n",
       "      <td>62mP7</td>\n",
       "      <td>14.272088</td>\n",
       "      <td>-3.475083</td>\n",
       "      <td>0.999183</td>\n",
       "      <td>26.953261</td>\n",
       "    </tr>\n",
       "    <tr>\n",
       "      <th>2</th>\n",
       "      <td>vyE1P</td>\n",
       "      <td>6.263187</td>\n",
       "      <td>-5.948386</td>\n",
       "      <td>5.001160</td>\n",
       "      <td>134.766305</td>\n",
       "    </tr>\n",
       "    <tr>\n",
       "      <th>3</th>\n",
       "      <td>KcrkZ</td>\n",
       "      <td>-13.081196</td>\n",
       "      <td>-11.506057</td>\n",
       "      <td>4.999415</td>\n",
       "      <td>137.945408</td>\n",
       "    </tr>\n",
       "    <tr>\n",
       "      <th>4</th>\n",
       "      <td>AHL4O</td>\n",
       "      <td>12.702195</td>\n",
       "      <td>-8.147433</td>\n",
       "      <td>5.004363</td>\n",
       "      <td>134.766305</td>\n",
       "    </tr>\n",
       "  </tbody>\n",
       "</table>\n",
       "</div>"
      ],
      "text/plain": [
       "      id         f0         f1        f2     product\n",
       "0  kBEdx -15.001348  -8.276000 -0.005876    3.179103\n",
       "1  62mP7  14.272088  -3.475083  0.999183   26.953261\n",
       "2  vyE1P   6.263187  -5.948386  5.001160  134.766305\n",
       "3  KcrkZ -13.081196 -11.506057  4.999415  137.945408\n",
       "4  AHL4O  12.702195  -8.147433  5.004363  134.766305"
      ]
     },
     "execution_count": 4,
     "metadata": {},
     "output_type": "execute_result"
    }
   ],
   "source": [
    "data1.head()"
   ]
  },
  {
   "cell_type": "code",
   "execution_count": 5,
   "metadata": {},
   "outputs": [
    {
     "data": {
      "text/html": [
       "<div>\n",
       "<style scoped>\n",
       "    .dataframe tbody tr th:only-of-type {\n",
       "        vertical-align: middle;\n",
       "    }\n",
       "\n",
       "    .dataframe tbody tr th {\n",
       "        vertical-align: top;\n",
       "    }\n",
       "\n",
       "    .dataframe thead th {\n",
       "        text-align: right;\n",
       "    }\n",
       "</style>\n",
       "<table border=\"1\" class=\"dataframe\">\n",
       "  <thead>\n",
       "    <tr style=\"text-align: right;\">\n",
       "      <th></th>\n",
       "      <th>id</th>\n",
       "      <th>f0</th>\n",
       "      <th>f1</th>\n",
       "      <th>f2</th>\n",
       "      <th>product</th>\n",
       "    </tr>\n",
       "  </thead>\n",
       "  <tbody>\n",
       "    <tr>\n",
       "      <th>0</th>\n",
       "      <td>fwXo0</td>\n",
       "      <td>-1.146987</td>\n",
       "      <td>0.963328</td>\n",
       "      <td>-0.828965</td>\n",
       "      <td>27.758673</td>\n",
       "    </tr>\n",
       "    <tr>\n",
       "      <th>1</th>\n",
       "      <td>WJtFt</td>\n",
       "      <td>0.262778</td>\n",
       "      <td>0.269839</td>\n",
       "      <td>-2.530187</td>\n",
       "      <td>56.069697</td>\n",
       "    </tr>\n",
       "    <tr>\n",
       "      <th>2</th>\n",
       "      <td>ovLUW</td>\n",
       "      <td>0.194587</td>\n",
       "      <td>0.289035</td>\n",
       "      <td>-5.586433</td>\n",
       "      <td>62.871910</td>\n",
       "    </tr>\n",
       "    <tr>\n",
       "      <th>3</th>\n",
       "      <td>q6cA6</td>\n",
       "      <td>2.236060</td>\n",
       "      <td>-0.553760</td>\n",
       "      <td>0.930038</td>\n",
       "      <td>114.572842</td>\n",
       "    </tr>\n",
       "    <tr>\n",
       "      <th>4</th>\n",
       "      <td>WPMUX</td>\n",
       "      <td>-0.515993</td>\n",
       "      <td>1.716266</td>\n",
       "      <td>5.899011</td>\n",
       "      <td>149.600746</td>\n",
       "    </tr>\n",
       "  </tbody>\n",
       "</table>\n",
       "</div>"
      ],
      "text/plain": [
       "      id        f0        f1        f2     product\n",
       "0  fwXo0 -1.146987  0.963328 -0.828965   27.758673\n",
       "1  WJtFt  0.262778  0.269839 -2.530187   56.069697\n",
       "2  ovLUW  0.194587  0.289035 -5.586433   62.871910\n",
       "3  q6cA6  2.236060 -0.553760  0.930038  114.572842\n",
       "4  WPMUX -0.515993  1.716266  5.899011  149.600746"
      ]
     },
     "execution_count": 5,
     "metadata": {},
     "output_type": "execute_result"
    }
   ],
   "source": [
    "data2.head()"
   ]
  },
  {
   "cell_type": "markdown",
   "metadata": {},
   "source": [
    "Посмотрю на уникальные id, в идеале там не должно быть повторов"
   ]
  },
  {
   "cell_type": "code",
   "execution_count": 6,
   "metadata": {},
   "outputs": [
    {
     "data": {
      "text/plain": [
       "99990"
      ]
     },
     "execution_count": 6,
     "metadata": {},
     "output_type": "execute_result"
    }
   ],
   "source": [
    "len(data0['id'].unique())"
   ]
  },
  {
   "cell_type": "markdown",
   "metadata": {},
   "source": [
    "меньше, чем общее кол-во строк, тогда смотрю дубликаты"
   ]
  },
  {
   "cell_type": "code",
   "execution_count": 7,
   "metadata": {},
   "outputs": [
    {
     "data": {
      "text/html": [
       "<div>\n",
       "<style scoped>\n",
       "    .dataframe tbody tr th:only-of-type {\n",
       "        vertical-align: middle;\n",
       "    }\n",
       "\n",
       "    .dataframe tbody tr th {\n",
       "        vertical-align: top;\n",
       "    }\n",
       "\n",
       "    .dataframe thead th {\n",
       "        text-align: right;\n",
       "    }\n",
       "</style>\n",
       "<table border=\"1\" class=\"dataframe\">\n",
       "  <thead>\n",
       "    <tr style=\"text-align: right;\">\n",
       "      <th></th>\n",
       "      <th>id</th>\n",
       "      <th>f0</th>\n",
       "      <th>f1</th>\n",
       "      <th>f2</th>\n",
       "      <th>product</th>\n",
       "    </tr>\n",
       "  </thead>\n",
       "  <tbody>\n",
       "    <tr>\n",
       "      <th>7530</th>\n",
       "      <td>HZww2</td>\n",
       "      <td>1.061194</td>\n",
       "      <td>-0.373969</td>\n",
       "      <td>10.430210</td>\n",
       "      <td>158.828695</td>\n",
       "    </tr>\n",
       "    <tr>\n",
       "      <th>41724</th>\n",
       "      <td>bxg6G</td>\n",
       "      <td>-0.823752</td>\n",
       "      <td>0.546319</td>\n",
       "      <td>3.630479</td>\n",
       "      <td>93.007798</td>\n",
       "    </tr>\n",
       "    <tr>\n",
       "      <th>51970</th>\n",
       "      <td>A5aEY</td>\n",
       "      <td>-0.180335</td>\n",
       "      <td>0.935548</td>\n",
       "      <td>-2.094773</td>\n",
       "      <td>33.020205</td>\n",
       "    </tr>\n",
       "    <tr>\n",
       "      <th>63593</th>\n",
       "      <td>QcMuo</td>\n",
       "      <td>0.635635</td>\n",
       "      <td>-0.473422</td>\n",
       "      <td>0.862670</td>\n",
       "      <td>64.578675</td>\n",
       "    </tr>\n",
       "    <tr>\n",
       "      <th>66136</th>\n",
       "      <td>74z30</td>\n",
       "      <td>1.084962</td>\n",
       "      <td>-0.312358</td>\n",
       "      <td>6.990771</td>\n",
       "      <td>127.643327</td>\n",
       "    </tr>\n",
       "    <tr>\n",
       "      <th>69163</th>\n",
       "      <td>AGS9W</td>\n",
       "      <td>-0.933795</td>\n",
       "      <td>0.116194</td>\n",
       "      <td>-3.655896</td>\n",
       "      <td>19.230453</td>\n",
       "    </tr>\n",
       "    <tr>\n",
       "      <th>75715</th>\n",
       "      <td>Tdehs</td>\n",
       "      <td>0.112079</td>\n",
       "      <td>0.430296</td>\n",
       "      <td>3.218993</td>\n",
       "      <td>60.964018</td>\n",
       "    </tr>\n",
       "    <tr>\n",
       "      <th>90815</th>\n",
       "      <td>fiKDv</td>\n",
       "      <td>0.049883</td>\n",
       "      <td>0.841313</td>\n",
       "      <td>6.394613</td>\n",
       "      <td>137.346586</td>\n",
       "    </tr>\n",
       "    <tr>\n",
       "      <th>92341</th>\n",
       "      <td>TtcGQ</td>\n",
       "      <td>0.110711</td>\n",
       "      <td>1.022689</td>\n",
       "      <td>0.911381</td>\n",
       "      <td>101.318008</td>\n",
       "    </tr>\n",
       "    <tr>\n",
       "      <th>97785</th>\n",
       "      <td>bsk9y</td>\n",
       "      <td>0.378429</td>\n",
       "      <td>0.005837</td>\n",
       "      <td>0.160827</td>\n",
       "      <td>160.637302</td>\n",
       "    </tr>\n",
       "  </tbody>\n",
       "</table>\n",
       "</div>"
      ],
      "text/plain": [
       "          id        f0        f1         f2     product\n",
       "7530   HZww2  1.061194 -0.373969  10.430210  158.828695\n",
       "41724  bxg6G -0.823752  0.546319   3.630479   93.007798\n",
       "51970  A5aEY -0.180335  0.935548  -2.094773   33.020205\n",
       "63593  QcMuo  0.635635 -0.473422   0.862670   64.578675\n",
       "66136  74z30  1.084962 -0.312358   6.990771  127.643327\n",
       "69163  AGS9W -0.933795  0.116194  -3.655896   19.230453\n",
       "75715  Tdehs  0.112079  0.430296   3.218993   60.964018\n",
       "90815  fiKDv  0.049883  0.841313   6.394613  137.346586\n",
       "92341  TtcGQ  0.110711  1.022689   0.911381  101.318008\n",
       "97785  bsk9y  0.378429  0.005837   0.160827  160.637302"
      ]
     },
     "execution_count": 7,
     "metadata": {},
     "output_type": "execute_result"
    }
   ],
   "source": [
    "data0[data0['id'].duplicated()]"
   ]
  },
  {
   "cell_type": "code",
   "execution_count": 8,
   "metadata": {},
   "outputs": [
    {
     "data": {
      "text/html": [
       "<div>\n",
       "<style scoped>\n",
       "    .dataframe tbody tr th:only-of-type {\n",
       "        vertical-align: middle;\n",
       "    }\n",
       "\n",
       "    .dataframe tbody tr th {\n",
       "        vertical-align: top;\n",
       "    }\n",
       "\n",
       "    .dataframe thead th {\n",
       "        text-align: right;\n",
       "    }\n",
       "</style>\n",
       "<table border=\"1\" class=\"dataframe\">\n",
       "  <thead>\n",
       "    <tr style=\"text-align: right;\">\n",
       "      <th></th>\n",
       "      <th>id</th>\n",
       "      <th>f0</th>\n",
       "      <th>f1</th>\n",
       "      <th>f2</th>\n",
       "      <th>product</th>\n",
       "    </tr>\n",
       "  </thead>\n",
       "  <tbody>\n",
       "    <tr>\n",
       "      <th>41906</th>\n",
       "      <td>hvrg6</td>\n",
       "      <td>1.356490</td>\n",
       "      <td>-0.418635</td>\n",
       "      <td>1.296605</td>\n",
       "      <td>88.635132</td>\n",
       "    </tr>\n",
       "    <tr>\n",
       "      <th>82178</th>\n",
       "      <td>1mHHg</td>\n",
       "      <td>0.120088</td>\n",
       "      <td>-0.236548</td>\n",
       "      <td>-0.160710</td>\n",
       "      <td>86.774162</td>\n",
       "    </tr>\n",
       "    <tr>\n",
       "      <th>82873</th>\n",
       "      <td>RFXea</td>\n",
       "      <td>-0.892442</td>\n",
       "      <td>0.367704</td>\n",
       "      <td>3.921657</td>\n",
       "      <td>75.949034</td>\n",
       "    </tr>\n",
       "    <tr>\n",
       "      <th>84461</th>\n",
       "      <td>ubDZy</td>\n",
       "      <td>0.688830</td>\n",
       "      <td>0.800470</td>\n",
       "      <td>-0.547005</td>\n",
       "      <td>57.522227</td>\n",
       "    </tr>\n",
       "  </tbody>\n",
       "</table>\n",
       "</div>"
      ],
      "text/plain": [
       "          id        f0        f1        f2    product\n",
       "41906  hvrg6  1.356490 -0.418635  1.296605  88.635132\n",
       "82178  1mHHg  0.120088 -0.236548 -0.160710  86.774162\n",
       "82873  RFXea -0.892442  0.367704  3.921657  75.949034\n",
       "84461  ubDZy  0.688830  0.800470 -0.547005  57.522227"
      ]
     },
     "execution_count": 8,
     "metadata": {},
     "output_type": "execute_result"
    }
   ],
   "source": [
    "data0[data1['id'].duplicated()]"
   ]
  },
  {
   "cell_type": "code",
   "execution_count": 9,
   "metadata": {
    "scrolled": true
   },
   "outputs": [
    {
     "data": {
      "text/html": [
       "<div>\n",
       "<style scoped>\n",
       "    .dataframe tbody tr th:only-of-type {\n",
       "        vertical-align: middle;\n",
       "    }\n",
       "\n",
       "    .dataframe tbody tr th {\n",
       "        vertical-align: top;\n",
       "    }\n",
       "\n",
       "    .dataframe thead th {\n",
       "        text-align: right;\n",
       "    }\n",
       "</style>\n",
       "<table border=\"1\" class=\"dataframe\">\n",
       "  <thead>\n",
       "    <tr style=\"text-align: right;\">\n",
       "      <th></th>\n",
       "      <th>id</th>\n",
       "      <th>f0</th>\n",
       "      <th>f1</th>\n",
       "      <th>f2</th>\n",
       "      <th>product</th>\n",
       "    </tr>\n",
       "  </thead>\n",
       "  <tbody>\n",
       "    <tr>\n",
       "      <th>43233</th>\n",
       "      <td>mPBNw</td>\n",
       "      <td>0.146706</td>\n",
       "      <td>1.164548</td>\n",
       "      <td>2.147357</td>\n",
       "      <td>12.219334</td>\n",
       "    </tr>\n",
       "    <tr>\n",
       "      <th>49564</th>\n",
       "      <td>tmiKi</td>\n",
       "      <td>1.469579</td>\n",
       "      <td>-0.367773</td>\n",
       "      <td>0.551081</td>\n",
       "      <td>63.688098</td>\n",
       "    </tr>\n",
       "    <tr>\n",
       "      <th>55967</th>\n",
       "      <td>U9TtX</td>\n",
       "      <td>1.767004</td>\n",
       "      <td>-0.101328</td>\n",
       "      <td>1.521255</td>\n",
       "      <td>149.114609</td>\n",
       "    </tr>\n",
       "    <tr>\n",
       "      <th>95090</th>\n",
       "      <td>15KPx</td>\n",
       "      <td>0.208177</td>\n",
       "      <td>0.934896</td>\n",
       "      <td>-2.127103</td>\n",
       "      <td>24.814889</td>\n",
       "    </tr>\n",
       "  </tbody>\n",
       "</table>\n",
       "</div>"
      ],
      "text/plain": [
       "          id        f0        f1        f2     product\n",
       "43233  mPBNw  0.146706  1.164548  2.147357   12.219334\n",
       "49564  tmiKi  1.469579 -0.367773  0.551081   63.688098\n",
       "55967  U9TtX  1.767004 -0.101328  1.521255  149.114609\n",
       "95090  15KPx  0.208177  0.934896 -2.127103   24.814889"
      ]
     },
     "execution_count": 9,
     "metadata": {},
     "output_type": "execute_result"
    }
   ],
   "source": [
    "data0[data2['id'].duplicated()]"
   ]
  },
  {
   "cell_type": "markdown",
   "metadata": {},
   "source": [
    "Избавлюсь от них"
   ]
  },
  {
   "cell_type": "code",
   "execution_count": 10,
   "metadata": {},
   "outputs": [],
   "source": [
    "data0 = data0.drop_duplicates(subset='id')\n",
    "data1 = data1.drop_duplicates(subset='id')\n",
    "data2 = data2.drop_duplicates(subset='id')"
   ]
  },
  {
   "cell_type": "code",
   "execution_count": 11,
   "metadata": {},
   "outputs": [
    {
     "name": "stdout",
     "output_type": "stream",
     "text": [
      "<class 'pandas.core.frame.DataFrame'>\n",
      "Int64Index: 99990 entries, 0 to 99999\n",
      "Data columns (total 5 columns):\n",
      " #   Column   Non-Null Count  Dtype  \n",
      "---  ------   --------------  -----  \n",
      " 0   id       99990 non-null  object \n",
      " 1   f0       99990 non-null  float64\n",
      " 2   f1       99990 non-null  float64\n",
      " 3   f2       99990 non-null  float64\n",
      " 4   product  99990 non-null  float64\n",
      "dtypes: float64(4), object(1)\n",
      "memory usage: 4.6+ MB\n"
     ]
    }
   ],
   "source": [
    "data0.info()"
   ]
  },
  {
   "cell_type": "code",
   "execution_count": 12,
   "metadata": {},
   "outputs": [
    {
     "name": "stdout",
     "output_type": "stream",
     "text": [
      "<class 'pandas.core.frame.DataFrame'>\n",
      "Int64Index: 99996 entries, 0 to 99999\n",
      "Data columns (total 5 columns):\n",
      " #   Column   Non-Null Count  Dtype  \n",
      "---  ------   --------------  -----  \n",
      " 0   id       99996 non-null  object \n",
      " 1   f0       99996 non-null  float64\n",
      " 2   f1       99996 non-null  float64\n",
      " 3   f2       99996 non-null  float64\n",
      " 4   product  99996 non-null  float64\n",
      "dtypes: float64(4), object(1)\n",
      "memory usage: 4.6+ MB\n"
     ]
    }
   ],
   "source": [
    "data1.info()"
   ]
  },
  {
   "cell_type": "code",
   "execution_count": 13,
   "metadata": {},
   "outputs": [
    {
     "name": "stdout",
     "output_type": "stream",
     "text": [
      "<class 'pandas.core.frame.DataFrame'>\n",
      "Int64Index: 99996 entries, 0 to 99999\n",
      "Data columns (total 5 columns):\n",
      " #   Column   Non-Null Count  Dtype  \n",
      "---  ------   --------------  -----  \n",
      " 0   id       99996 non-null  object \n",
      " 1   f0       99996 non-null  float64\n",
      " 2   f1       99996 non-null  float64\n",
      " 3   f2       99996 non-null  float64\n",
      " 4   product  99996 non-null  float64\n",
      "dtypes: float64(4), object(1)\n",
      "memory usage: 4.6+ MB\n"
     ]
    }
   ],
   "source": [
    "data2.info()"
   ]
  },
  {
   "cell_type": "code",
   "execution_count": 14,
   "metadata": {},
   "outputs": [
    {
     "data": {
      "text/plain": [
       "0"
      ]
     },
     "execution_count": 14,
     "metadata": {},
     "output_type": "execute_result"
    }
   ],
   "source": [
    "data0.duplicated().sum()"
   ]
  },
  {
   "cell_type": "code",
   "execution_count": 15,
   "metadata": {},
   "outputs": [
    {
     "data": {
      "text/plain": [
       "0"
      ]
     },
     "execution_count": 15,
     "metadata": {},
     "output_type": "execute_result"
    }
   ],
   "source": [
    "data1.duplicated().sum()"
   ]
  },
  {
   "cell_type": "code",
   "execution_count": 16,
   "metadata": {},
   "outputs": [
    {
     "data": {
      "text/plain": [
       "0"
      ]
     },
     "execution_count": 16,
     "metadata": {},
     "output_type": "execute_result"
    }
   ],
   "source": [
    "data2.duplicated().sum()"
   ]
  },
  {
   "cell_type": "markdown",
   "metadata": {},
   "source": [
    "Еще взгляну на распределение признаков"
   ]
  },
  {
   "cell_type": "code",
   "execution_count": 17,
   "metadata": {},
   "outputs": [
    {
     "data": {
      "text/html": [
       "<div>\n",
       "<style scoped>\n",
       "    .dataframe tbody tr th:only-of-type {\n",
       "        vertical-align: middle;\n",
       "    }\n",
       "\n",
       "    .dataframe tbody tr th {\n",
       "        vertical-align: top;\n",
       "    }\n",
       "\n",
       "    .dataframe thead th {\n",
       "        text-align: right;\n",
       "    }\n",
       "</style>\n",
       "<table border=\"1\" class=\"dataframe\">\n",
       "  <thead>\n",
       "    <tr style=\"text-align: right;\">\n",
       "      <th></th>\n",
       "      <th>f0</th>\n",
       "      <th>f1</th>\n",
       "      <th>f2</th>\n",
       "      <th>product</th>\n",
       "    </tr>\n",
       "  </thead>\n",
       "  <tbody>\n",
       "    <tr>\n",
       "      <th>count</th>\n",
       "      <td>99990.000000</td>\n",
       "      <td>99990.000000</td>\n",
       "      <td>99990.000000</td>\n",
       "      <td>99990.000000</td>\n",
       "    </tr>\n",
       "    <tr>\n",
       "      <th>mean</th>\n",
       "      <td>0.500454</td>\n",
       "      <td>0.250141</td>\n",
       "      <td>2.502629</td>\n",
       "      <td>92.499684</td>\n",
       "    </tr>\n",
       "    <tr>\n",
       "      <th>std</th>\n",
       "      <td>0.871844</td>\n",
       "      <td>0.504430</td>\n",
       "      <td>3.248149</td>\n",
       "      <td>44.288304</td>\n",
       "    </tr>\n",
       "    <tr>\n",
       "      <th>min</th>\n",
       "      <td>-1.408605</td>\n",
       "      <td>-0.848218</td>\n",
       "      <td>-12.088328</td>\n",
       "      <td>0.000000</td>\n",
       "    </tr>\n",
       "    <tr>\n",
       "      <th>25%</th>\n",
       "      <td>-0.072572</td>\n",
       "      <td>-0.200877</td>\n",
       "      <td>0.287784</td>\n",
       "      <td>56.497069</td>\n",
       "    </tr>\n",
       "    <tr>\n",
       "      <th>50%</th>\n",
       "      <td>0.502405</td>\n",
       "      <td>0.250252</td>\n",
       "      <td>2.515969</td>\n",
       "      <td>91.847928</td>\n",
       "    </tr>\n",
       "    <tr>\n",
       "      <th>75%</th>\n",
       "      <td>1.073626</td>\n",
       "      <td>0.700640</td>\n",
       "      <td>4.715035</td>\n",
       "      <td>128.563699</td>\n",
       "    </tr>\n",
       "    <tr>\n",
       "      <th>max</th>\n",
       "      <td>2.362331</td>\n",
       "      <td>1.343769</td>\n",
       "      <td>16.003790</td>\n",
       "      <td>185.364347</td>\n",
       "    </tr>\n",
       "  </tbody>\n",
       "</table>\n",
       "</div>"
      ],
      "text/plain": [
       "                 f0            f1            f2       product\n",
       "count  99990.000000  99990.000000  99990.000000  99990.000000\n",
       "mean       0.500454      0.250141      2.502629     92.499684\n",
       "std        0.871844      0.504430      3.248149     44.288304\n",
       "min       -1.408605     -0.848218    -12.088328      0.000000\n",
       "25%       -0.072572     -0.200877      0.287784     56.497069\n",
       "50%        0.502405      0.250252      2.515969     91.847928\n",
       "75%        1.073626      0.700640      4.715035    128.563699\n",
       "max        2.362331      1.343769     16.003790    185.364347"
      ]
     },
     "execution_count": 17,
     "metadata": {},
     "output_type": "execute_result"
    }
   ],
   "source": [
    "data0.describe()"
   ]
  },
  {
   "cell_type": "markdown",
   "metadata": {},
   "source": [
    "Дубликатов, как и пропусков(вывод с info) нет"
   ]
  },
  {
   "cell_type": "code",
   "execution_count": 18,
   "metadata": {},
   "outputs": [
    {
     "data": {
      "text/html": [
       "<div>\n",
       "<style scoped>\n",
       "    .dataframe tbody tr th:only-of-type {\n",
       "        vertical-align: middle;\n",
       "    }\n",
       "\n",
       "    .dataframe tbody tr th {\n",
       "        vertical-align: top;\n",
       "    }\n",
       "\n",
       "    .dataframe thead th {\n",
       "        text-align: right;\n",
       "    }\n",
       "</style>\n",
       "<table border=\"1\" class=\"dataframe\">\n",
       "  <thead>\n",
       "    <tr style=\"text-align: right;\">\n",
       "      <th></th>\n",
       "      <th>f0</th>\n",
       "      <th>f1</th>\n",
       "      <th>f2</th>\n",
       "      <th>product</th>\n",
       "    </tr>\n",
       "  </thead>\n",
       "  <tbody>\n",
       "    <tr>\n",
       "      <th>count</th>\n",
       "      <td>99996.000000</td>\n",
       "      <td>99996.000000</td>\n",
       "      <td>99996.000000</td>\n",
       "      <td>99996.000000</td>\n",
       "    </tr>\n",
       "    <tr>\n",
       "      <th>mean</th>\n",
       "      <td>1.141209</td>\n",
       "      <td>-4.796608</td>\n",
       "      <td>2.494501</td>\n",
       "      <td>68.823916</td>\n",
       "    </tr>\n",
       "    <tr>\n",
       "      <th>std</th>\n",
       "      <td>8.965815</td>\n",
       "      <td>5.119906</td>\n",
       "      <td>1.703579</td>\n",
       "      <td>45.944663</td>\n",
       "    </tr>\n",
       "    <tr>\n",
       "      <th>min</th>\n",
       "      <td>-31.609576</td>\n",
       "      <td>-26.358598</td>\n",
       "      <td>-0.018144</td>\n",
       "      <td>0.000000</td>\n",
       "    </tr>\n",
       "    <tr>\n",
       "      <th>25%</th>\n",
       "      <td>-6.298551</td>\n",
       "      <td>-8.267985</td>\n",
       "      <td>1.000021</td>\n",
       "      <td>26.953261</td>\n",
       "    </tr>\n",
       "    <tr>\n",
       "      <th>50%</th>\n",
       "      <td>1.153055</td>\n",
       "      <td>-4.813172</td>\n",
       "      <td>2.011475</td>\n",
       "      <td>57.085625</td>\n",
       "    </tr>\n",
       "    <tr>\n",
       "      <th>75%</th>\n",
       "      <td>8.620964</td>\n",
       "      <td>-1.332816</td>\n",
       "      <td>3.999904</td>\n",
       "      <td>107.813044</td>\n",
       "    </tr>\n",
       "    <tr>\n",
       "      <th>max</th>\n",
       "      <td>29.421755</td>\n",
       "      <td>18.734063</td>\n",
       "      <td>5.019721</td>\n",
       "      <td>137.945408</td>\n",
       "    </tr>\n",
       "  </tbody>\n",
       "</table>\n",
       "</div>"
      ],
      "text/plain": [
       "                 f0            f1            f2       product\n",
       "count  99996.000000  99996.000000  99996.000000  99996.000000\n",
       "mean       1.141209     -4.796608      2.494501     68.823916\n",
       "std        8.965815      5.119906      1.703579     45.944663\n",
       "min      -31.609576    -26.358598     -0.018144      0.000000\n",
       "25%       -6.298551     -8.267985      1.000021     26.953261\n",
       "50%        1.153055     -4.813172      2.011475     57.085625\n",
       "75%        8.620964     -1.332816      3.999904    107.813044\n",
       "max       29.421755     18.734063      5.019721    137.945408"
      ]
     },
     "execution_count": 18,
     "metadata": {},
     "output_type": "execute_result"
    }
   ],
   "source": [
    "data1.describe()"
   ]
  },
  {
   "cell_type": "code",
   "execution_count": 19,
   "metadata": {
    "scrolled": false
   },
   "outputs": [
    {
     "data": {
      "text/html": [
       "<div>\n",
       "<style scoped>\n",
       "    .dataframe tbody tr th:only-of-type {\n",
       "        vertical-align: middle;\n",
       "    }\n",
       "\n",
       "    .dataframe tbody tr th {\n",
       "        vertical-align: top;\n",
       "    }\n",
       "\n",
       "    .dataframe thead th {\n",
       "        text-align: right;\n",
       "    }\n",
       "</style>\n",
       "<table border=\"1\" class=\"dataframe\">\n",
       "  <thead>\n",
       "    <tr style=\"text-align: right;\">\n",
       "      <th></th>\n",
       "      <th>f0</th>\n",
       "      <th>f1</th>\n",
       "      <th>f2</th>\n",
       "      <th>product</th>\n",
       "    </tr>\n",
       "  </thead>\n",
       "  <tbody>\n",
       "    <tr>\n",
       "      <th>count</th>\n",
       "      <td>99996.000000</td>\n",
       "      <td>99996.000000</td>\n",
       "      <td>99996.000000</td>\n",
       "      <td>99996.000000</td>\n",
       "    </tr>\n",
       "    <tr>\n",
       "      <th>mean</th>\n",
       "      <td>0.002002</td>\n",
       "      <td>-0.002159</td>\n",
       "      <td>2.495084</td>\n",
       "      <td>94.998342</td>\n",
       "    </tr>\n",
       "    <tr>\n",
       "      <th>std</th>\n",
       "      <td>1.732052</td>\n",
       "      <td>1.730397</td>\n",
       "      <td>3.473482</td>\n",
       "      <td>44.749573</td>\n",
       "    </tr>\n",
       "    <tr>\n",
       "      <th>min</th>\n",
       "      <td>-8.760004</td>\n",
       "      <td>-7.084020</td>\n",
       "      <td>-11.970335</td>\n",
       "      <td>0.000000</td>\n",
       "    </tr>\n",
       "    <tr>\n",
       "      <th>25%</th>\n",
       "      <td>-1.162328</td>\n",
       "      <td>-1.174841</td>\n",
       "      <td>0.130269</td>\n",
       "      <td>59.450028</td>\n",
       "    </tr>\n",
       "    <tr>\n",
       "      <th>50%</th>\n",
       "      <td>0.009424</td>\n",
       "      <td>-0.009661</td>\n",
       "      <td>2.484236</td>\n",
       "      <td>94.925026</td>\n",
       "    </tr>\n",
       "    <tr>\n",
       "      <th>75%</th>\n",
       "      <td>1.158477</td>\n",
       "      <td>1.163523</td>\n",
       "      <td>4.858720</td>\n",
       "      <td>130.586815</td>\n",
       "    </tr>\n",
       "    <tr>\n",
       "      <th>max</th>\n",
       "      <td>7.238262</td>\n",
       "      <td>7.844801</td>\n",
       "      <td>16.739402</td>\n",
       "      <td>190.029838</td>\n",
       "    </tr>\n",
       "  </tbody>\n",
       "</table>\n",
       "</div>"
      ],
      "text/plain": [
       "                 f0            f1            f2       product\n",
       "count  99996.000000  99996.000000  99996.000000  99996.000000\n",
       "mean       0.002002     -0.002159      2.495084     94.998342\n",
       "std        1.732052      1.730397      3.473482     44.749573\n",
       "min       -8.760004     -7.084020    -11.970335      0.000000\n",
       "25%       -1.162328     -1.174841      0.130269     59.450028\n",
       "50%        0.009424     -0.009661      2.484236     94.925026\n",
       "75%        1.158477      1.163523      4.858720    130.586815\n",
       "max        7.238262      7.844801     16.739402    190.029838"
      ]
     },
     "execution_count": 19,
     "metadata": {},
     "output_type": "execute_result"
    }
   ],
   "source": [
    "data2.describe()"
   ]
  },
  {
   "cell_type": "markdown",
   "metadata": {},
   "source": [
    "В описании данных нет пояснения к  f, да и понять по этим данным сложно, но тк В ТЗ сказано, они важны - не трогаю. Причем эти признаки распределны разным способом, только среднее значение в f2 практический совподает, product имеет больше схожестей"
   ]
  },
  {
   "cell_type": "markdown",
   "metadata": {},
   "source": [
    "Если product - целевой признак, то меня интересует корреляция признаков с ним"
   ]
  },
  {
   "cell_type": "code",
   "execution_count": 20,
   "metadata": {},
   "outputs": [
    {
     "data": {
      "text/html": [
       "<div>\n",
       "<style scoped>\n",
       "    .dataframe tbody tr th:only-of-type {\n",
       "        vertical-align: middle;\n",
       "    }\n",
       "\n",
       "    .dataframe tbody tr th {\n",
       "        vertical-align: top;\n",
       "    }\n",
       "\n",
       "    .dataframe thead th {\n",
       "        text-align: right;\n",
       "    }\n",
       "</style>\n",
       "<table border=\"1\" class=\"dataframe\">\n",
       "  <thead>\n",
       "    <tr style=\"text-align: right;\">\n",
       "      <th></th>\n",
       "      <th>f0</th>\n",
       "      <th>f1</th>\n",
       "      <th>f2</th>\n",
       "      <th>product</th>\n",
       "    </tr>\n",
       "  </thead>\n",
       "  <tbody>\n",
       "    <tr>\n",
       "      <th>f0</th>\n",
       "      <td>1.000000</td>\n",
       "      <td>-0.440717</td>\n",
       "      <td>-0.003211</td>\n",
       "      <td>0.143504</td>\n",
       "    </tr>\n",
       "    <tr>\n",
       "      <th>f1</th>\n",
       "      <td>-0.440717</td>\n",
       "      <td>1.000000</td>\n",
       "      <td>0.001764</td>\n",
       "      <td>-0.192351</td>\n",
       "    </tr>\n",
       "    <tr>\n",
       "      <th>f2</th>\n",
       "      <td>-0.003211</td>\n",
       "      <td>0.001764</td>\n",
       "      <td>1.000000</td>\n",
       "      <td>0.483631</td>\n",
       "    </tr>\n",
       "    <tr>\n",
       "      <th>product</th>\n",
       "      <td>0.143504</td>\n",
       "      <td>-0.192351</td>\n",
       "      <td>0.483631</td>\n",
       "      <td>1.000000</td>\n",
       "    </tr>\n",
       "  </tbody>\n",
       "</table>\n",
       "</div>"
      ],
      "text/plain": [
       "               f0        f1        f2   product\n",
       "f0       1.000000 -0.440717 -0.003211  0.143504\n",
       "f1      -0.440717  1.000000  0.001764 -0.192351\n",
       "f2      -0.003211  0.001764  1.000000  0.483631\n",
       "product  0.143504 -0.192351  0.483631  1.000000"
      ]
     },
     "execution_count": 20,
     "metadata": {},
     "output_type": "execute_result"
    }
   ],
   "source": [
    "data0.corr()"
   ]
  },
  {
   "cell_type": "markdown",
   "metadata": {},
   "source": [
    "Сильной зависимости нет"
   ]
  },
  {
   "cell_type": "code",
   "execution_count": 21,
   "metadata": {},
   "outputs": [
    {
     "data": {
      "text/html": [
       "<div>\n",
       "<style scoped>\n",
       "    .dataframe tbody tr th:only-of-type {\n",
       "        vertical-align: middle;\n",
       "    }\n",
       "\n",
       "    .dataframe tbody tr th {\n",
       "        vertical-align: top;\n",
       "    }\n",
       "\n",
       "    .dataframe thead th {\n",
       "        text-align: right;\n",
       "    }\n",
       "</style>\n",
       "<table border=\"1\" class=\"dataframe\">\n",
       "  <thead>\n",
       "    <tr style=\"text-align: right;\">\n",
       "      <th></th>\n",
       "      <th>f0</th>\n",
       "      <th>f1</th>\n",
       "      <th>f2</th>\n",
       "      <th>product</th>\n",
       "    </tr>\n",
       "  </thead>\n",
       "  <tbody>\n",
       "    <tr>\n",
       "      <th>f0</th>\n",
       "      <td>1.000000</td>\n",
       "      <td>0.182279</td>\n",
       "      <td>-0.001810</td>\n",
       "      <td>-0.030523</td>\n",
       "    </tr>\n",
       "    <tr>\n",
       "      <th>f1</th>\n",
       "      <td>0.182279</td>\n",
       "      <td>1.000000</td>\n",
       "      <td>-0.002594</td>\n",
       "      <td>-0.010154</td>\n",
       "    </tr>\n",
       "    <tr>\n",
       "      <th>f2</th>\n",
       "      <td>-0.001810</td>\n",
       "      <td>-0.002594</td>\n",
       "      <td>1.000000</td>\n",
       "      <td>0.999397</td>\n",
       "    </tr>\n",
       "    <tr>\n",
       "      <th>product</th>\n",
       "      <td>-0.030523</td>\n",
       "      <td>-0.010154</td>\n",
       "      <td>0.999397</td>\n",
       "      <td>1.000000</td>\n",
       "    </tr>\n",
       "  </tbody>\n",
       "</table>\n",
       "</div>"
      ],
      "text/plain": [
       "               f0        f1        f2   product\n",
       "f0       1.000000  0.182279 -0.001810 -0.030523\n",
       "f1       0.182279  1.000000 -0.002594 -0.010154\n",
       "f2      -0.001810 -0.002594  1.000000  0.999397\n",
       "product -0.030523 -0.010154  0.999397  1.000000"
      ]
     },
     "execution_count": 21,
     "metadata": {},
     "output_type": "execute_result"
    }
   ],
   "source": [
    "data1.corr()"
   ]
  },
  {
   "cell_type": "markdown",
   "metadata": {},
   "source": [
    "тут есть очень сильная зависимость от f2"
   ]
  },
  {
   "cell_type": "code",
   "execution_count": 22,
   "metadata": {
    "scrolled": false
   },
   "outputs": [
    {
     "data": {
      "text/html": [
       "<div>\n",
       "<style scoped>\n",
       "    .dataframe tbody tr th:only-of-type {\n",
       "        vertical-align: middle;\n",
       "    }\n",
       "\n",
       "    .dataframe tbody tr th {\n",
       "        vertical-align: top;\n",
       "    }\n",
       "\n",
       "    .dataframe thead th {\n",
       "        text-align: right;\n",
       "    }\n",
       "</style>\n",
       "<table border=\"1\" class=\"dataframe\">\n",
       "  <thead>\n",
       "    <tr style=\"text-align: right;\">\n",
       "      <th></th>\n",
       "      <th>f0</th>\n",
       "      <th>f1</th>\n",
       "      <th>f2</th>\n",
       "      <th>product</th>\n",
       "    </tr>\n",
       "  </thead>\n",
       "  <tbody>\n",
       "    <tr>\n",
       "      <th>f0</th>\n",
       "      <td>1.000000</td>\n",
       "      <td>0.000506</td>\n",
       "      <td>-0.000452</td>\n",
       "      <td>-0.001978</td>\n",
       "    </tr>\n",
       "    <tr>\n",
       "      <th>f1</th>\n",
       "      <td>0.000506</td>\n",
       "      <td>1.000000</td>\n",
       "      <td>0.000753</td>\n",
       "      <td>-0.001055</td>\n",
       "    </tr>\n",
       "    <tr>\n",
       "      <th>f2</th>\n",
       "      <td>-0.000452</td>\n",
       "      <td>0.000753</td>\n",
       "      <td>1.000000</td>\n",
       "      <td>0.445867</td>\n",
       "    </tr>\n",
       "    <tr>\n",
       "      <th>product</th>\n",
       "      <td>-0.001978</td>\n",
       "      <td>-0.001055</td>\n",
       "      <td>0.445867</td>\n",
       "      <td>1.000000</td>\n",
       "    </tr>\n",
       "  </tbody>\n",
       "</table>\n",
       "</div>"
      ],
      "text/plain": [
       "               f0        f1        f2   product\n",
       "f0       1.000000  0.000506 -0.000452 -0.001978\n",
       "f1       0.000506  1.000000  0.000753 -0.001055\n",
       "f2      -0.000452  0.000753  1.000000  0.445867\n",
       "product -0.001978 -0.001055  0.445867  1.000000"
      ]
     },
     "execution_count": 22,
     "metadata": {},
     "output_type": "execute_result"
    }
   ],
   "source": [
    "data2.corr()"
   ]
  },
  {
   "cell_type": "markdown",
   "metadata": {},
   "source": [
    "Как и в 1 случае, тут без сильной зависимости"
   ]
  },
  {
   "cell_type": "markdown",
   "metadata": {},
   "source": [
    "**Итог предобработки**\n",
    "\n",
    "- Удалил совподающие id\n",
    "- Других проблем(дубикатов, пропусков, типы данных и тд) не обнаружены\n",
    "- Рассмотрел корреляцию, в одном случае обнаружил очень сильную зависимость, в других случаях ничего интресного\n",
    "- Распределения признаков для меня остается загадкой"
   ]
  },
  {
   "cell_type": "markdown",
   "metadata": {},
   "source": [
    "## Обучение и проверка модели"
   ]
  },
  {
   "cell_type": "markdown",
   "metadata": {},
   "source": [
    "В ТЗ сказано:\n",
    "\n",
    "- Для обучения модели подходит только линейная регрессия (остальные — недостаточно предсказуемые).\n",
    "\n",
    "Поэтому занимаюсь ей"
   ]
  },
  {
   "cell_type": "markdown",
   "metadata": {},
   "source": [
    "Тк нас интересует дискретная непрерывая переменная, задача является регрессионной\n",
    "\n",
    "Прежде, чем обучать модель нужно удостовериться в правильности признаков, например масштабировать и привести все к численным значениям(в данном случае не требуется)"
   ]
  },
  {
   "cell_type": "code",
   "execution_count": 23,
   "metadata": {},
   "outputs": [],
   "source": [
    "scaler = StandardScaler()"
   ]
  },
  {
   "cell_type": "markdown",
   "metadata": {},
   "source": [
    "Разделять, масштабировать и обучать буду на разных моделях для каждого датафрейма тк данные за разные регионы и то что модель может счеть нормой для первого региона может не подойти для второго региона"
   ]
  },
  {
   "cell_type": "code",
   "execution_count": 24,
   "metadata": {},
   "outputs": [],
   "source": [
    "target0 = data0['product']\n",
    "features0 = data0.drop('product', axis=1)\n",
    "features_train0, features_valid0, target_train0, target_valid0 = train_test_split(\n",
    "    features0, target0, test_size=0.25, random_state=12345)"
   ]
  },
  {
   "cell_type": "code",
   "execution_count": 25,
   "metadata": {},
   "outputs": [
    {
     "name": "stdout",
     "output_type": "stream",
     "text": [
      "(74992, 4)\n"
     ]
    },
    {
     "data": {
      "text/plain": [
       "(24998, 4)"
      ]
     },
     "execution_count": 25,
     "metadata": {},
     "output_type": "execute_result"
    }
   ],
   "source": [
    "numeric = ['f0', 'f1', 'f2']\n",
    "scaler.fit(features_train0[numeric])\n",
    "\n",
    "pd.options.mode.chained_assignment = None \n",
    "features_train0.loc[:,numeric] = scaler.transform(features_train0.loc[:,numeric])\n",
    "features_valid0.loc[:,numeric] = scaler.transform(features_valid0.loc[:,numeric])\n",
    "print(features_train0.shape)\n",
    "features_valid0.shape"
   ]
  },
  {
   "cell_type": "code",
   "execution_count": 26,
   "metadata": {},
   "outputs": [],
   "source": [
    "target1 = data1['product']\n",
    "features1 = data1.drop('product', axis=1)\n",
    "features_train1, features_valid1, target_train1, target_valid1 = train_test_split(\n",
    "    features1, target1, test_size=0.25, random_state=12345)"
   ]
  },
  {
   "cell_type": "code",
   "execution_count": 27,
   "metadata": {},
   "outputs": [
    {
     "name": "stdout",
     "output_type": "stream",
     "text": [
      "(74997, 4)\n"
     ]
    },
    {
     "data": {
      "text/plain": [
       "(24999, 4)"
      ]
     },
     "execution_count": 27,
     "metadata": {},
     "output_type": "execute_result"
    }
   ],
   "source": [
    "scaler.fit(features_train1[numeric])\n",
    " \n",
    "features_train1.loc[:,numeric] = scaler.transform(features_train1.loc[:,numeric])\n",
    "features_valid1.loc[:,numeric] = scaler.transform(features_valid1.loc[:,numeric])\n",
    "print(features_train1.shape)\n",
    "features_valid1.shape"
   ]
  },
  {
   "cell_type": "code",
   "execution_count": 28,
   "metadata": {},
   "outputs": [],
   "source": [
    "target2 = data2['product']\n",
    "features2 = data2.drop('product', axis=1)\n",
    "features_train2, features_valid2, target_train2, target_valid2 = train_test_split(\n",
    "    features2, target2, test_size=0.25, random_state=12345)"
   ]
  },
  {
   "cell_type": "code",
   "execution_count": 29,
   "metadata": {},
   "outputs": [
    {
     "name": "stdout",
     "output_type": "stream",
     "text": [
      "(74997, 4)\n"
     ]
    },
    {
     "data": {
      "text/plain": [
       "(24999, 4)"
      ]
     },
     "execution_count": 29,
     "metadata": {},
     "output_type": "execute_result"
    }
   ],
   "source": [
    "scaler.fit(features_train2[numeric])\n",
    " \n",
    "features_train2.loc[:,numeric] = scaler.transform(features_train2.loc[:,numeric])\n",
    "features_valid2.loc[:,numeric] = scaler.transform(features_valid2.loc[:,numeric])\n",
    "print(features_train2.shape)\n",
    "features_valid2.shape"
   ]
  },
  {
   "cell_type": "markdown",
   "metadata": {},
   "source": [
    "Можно присутпать к обучению"
   ]
  },
  {
   "cell_type": "code",
   "execution_count": 30,
   "metadata": {},
   "outputs": [],
   "source": [
    "model0 = LinearRegression()\n",
    "model1 = LinearRegression()\n",
    "model2 = LinearRegression()"
   ]
  },
  {
   "cell_type": "markdown",
   "metadata": {},
   "source": [
    "Откинем груз"
   ]
  },
  {
   "cell_type": "code",
   "execution_count": 31,
   "metadata": {},
   "outputs": [],
   "source": [
    "features_train0 = features_train0.drop('id', axis=1)\n",
    "features_train1 = features_train1.drop('id', axis=1)\n",
    "features_train2 = features_train2.drop('id', axis=1)\n",
    "\n",
    "features_valid0 = features_valid0.drop('id', axis=1)\n",
    "features_valid1 = features_valid1.drop('id', axis=1)\n",
    "features_valid2 = features_valid2.drop('id', axis=1)"
   ]
  },
  {
   "cell_type": "code",
   "execution_count": 32,
   "metadata": {},
   "outputs": [
    {
     "data": {
      "text/plain": [
       "LinearRegression()"
      ]
     },
     "execution_count": 32,
     "metadata": {},
     "output_type": "execute_result"
    }
   ],
   "source": [
    "model0.fit(features_train0, target_train0)\n",
    "model1.fit(features_train1, target_train1)\n",
    "model2.fit(features_train2, target_train2)"
   ]
  },
  {
   "cell_type": "markdown",
   "metadata": {},
   "source": [
    "Предсказываем"
   ]
  },
  {
   "cell_type": "code",
   "execution_count": 33,
   "metadata": {},
   "outputs": [],
   "source": [
    "predict0 = model0.predict(features_valid0)\n",
    "predict1 = model1.predict(features_valid1)\n",
    "predict2 = model2.predict(features_valid2)"
   ]
  },
  {
   "cell_type": "code",
   "execution_count": 34,
   "metadata": {},
   "outputs": [
    {
     "name": "stdout",
     "output_type": "stream",
     "text": [
      "37.853527328872964\n",
      "0.8920592647717033\n",
      "40.07585073246016\n"
     ]
    }
   ],
   "source": [
    "RMSE0 =  mean_squared_error(target_valid0, predict0) ** 0.5\n",
    "print(RMSE0)\n",
    "RMSE1 =  mean_squared_error(target_valid1, predict1) ** 0.5\n",
    "print(RMSE1)\n",
    "RMSE2=  mean_squared_error(target_valid2, predict2) ** 0.5\n",
    "print(RMSE2)"
   ]
  },
  {
   "cell_type": "code",
   "execution_count": 35,
   "metadata": {},
   "outputs": [
    {
     "name": "stdout",
     "output_type": "stream",
     "text": [
      "92.49968421774354\n",
      "68.82391591804064\n"
     ]
    },
    {
     "data": {
      "text/plain": [
       "94.99834211933378"
      ]
     },
     "execution_count": 35,
     "metadata": {},
     "output_type": "execute_result"
    }
   ],
   "source": [
    "print(data0['product'].mean())\n",
    "print(data1['product'].mean())\n",
    "data2['product'].mean()"
   ]
  },
  {
   "cell_type": "markdown",
   "metadata": {},
   "source": [
    "RMSE у второго региона чуть ли не идеальный, скорее всего это вызвано высоким уровнем кореляции одного из признаков с целевым признаком"
   ]
  },
  {
   "cell_type": "markdown",
   "metadata": {},
   "source": [
    "**Итог**\n",
    "\n",
    "- У нас явная задача регресси\n",
    "- Для обучения была выбрана линейная регрессия\n",
    "- Я обучил 3 разныз модели на каждый датафрейм для обеспечения болле точных результатов\n",
    "- У первого и третьего региона близкие значения RMSE\n",
    "- У втрого региона 2 особенности, один из признаков имеет выскокий уровень корреляции, а также обладает близким к 0 RMSE, что показывает повышенную точность модели для этого региона"
   ]
  },
  {
   "cell_type": "markdown",
   "metadata": {},
   "source": [
    "## Подготовка к расчёту прибыли"
   ]
  },
  {
   "cell_type": "markdown",
   "metadata": {},
   "source": [
    "Константы для расчетов из условия"
   ]
  },
  {
   "cell_type": "code",
   "execution_count": 36,
   "metadata": {},
   "outputs": [],
   "source": [
    "RESEARCH_POINTS = 500  # количество исследуемых точек при разведке\n",
    "\n",
    "TOP_RESEARCH_POINTS = 200  # количество лучших исследуемых точек \n",
    "\n",
    "BUDGET = 10 * 1e9  # бюджет на разработку скважин в регионе\n",
    "\n",
    "PRODUCT_PRICE = 450_000 # цена за 1000 баррелей сырья\n",
    "\n",
    "MAX_LOSS = 0.025 # максимальная вероятность убытков\n",
    "\n",
    "BOOTSTRAP_SAMPLES = 1000  # количество выборок для bootstrap \n",
    "\n",
    "CONF_INTERVAL = 0.95 # доверительный интервал "
   ]
  },
  {
   "cell_type": "markdown",
   "metadata": {},
   "source": [
    "Сначала расчитаю budget_per_point - цена за одну точку, ведь по условию нужно найти топ 200 выгодных точек\n",
    "\n",
    "А потом вычисчяю нужное минимальное кол-во для прибыли"
   ]
  },
  {
   "cell_type": "code",
   "execution_count": 37,
   "metadata": {},
   "outputs": [
    {
     "name": "stdout",
     "output_type": "stream",
     "text": [
      "111.11111111111111\n"
     ]
    }
   ],
   "source": [
    "budget_per_point = BUDGET / TOP_RESEARCH_POINTS\n",
    "min_product = budget_per_point / PRODUCT_PRICE\n",
    "print(min_product)"
   ]
  },
  {
   "cell_type": "markdown",
   "metadata": {},
   "source": [
    "Минимальный объем требуемый для прибыли больше, чем средние значения во всех регионах, значит существует много точек где не выйдет добиться окупаемости"
   ]
  },
  {
   "cell_type": "markdown",
   "metadata": {},
   "source": [
    "## Расчёт прибыли и рисков "
   ]
  },
  {
   "cell_type": "markdown",
   "metadata": {},
   "source": [
    "Напишу метод расчета прибыли для каждого региона, при условии, что для расчета будут взять первые 200 скважин имеющих больший запас при предсказаний, но значения реальные, то есть по индексам predict возьму target"
   ]
  },
  {
   "cell_type": "code",
   "execution_count": 38,
   "metadata": {},
   "outputs": [],
   "source": [
    "def profit (predict, target):\n",
    "    predict_S = pd.Series(predict).sort_values(ascending=False)\n",
    "    target_S = (target.reset_index(drop = True)[predict_S.index])\n",
    "    sum_true = target_S.head(200).sum() \n",
    "    return sum_true * PRODUCT_PRICE - BUDGET"
   ]
  },
  {
   "cell_type": "code",
   "execution_count": 39,
   "metadata": {
    "scrolled": true
   },
   "outputs": [
    {
     "data": {
      "text/plain": [
       "3365187237.700287"
      ]
     },
     "execution_count": 39,
     "metadata": {},
     "output_type": "execute_result"
    }
   ],
   "source": [
    "profit(predict0,target_valid0)"
   ]
  },
  {
   "cell_type": "code",
   "execution_count": 40,
   "metadata": {},
   "outputs": [
    {
     "data": {
      "text/plain": [
       "2415086696.681511"
      ]
     },
     "execution_count": 40,
     "metadata": {},
     "output_type": "execute_result"
    }
   ],
   "source": [
    "profit(predict1,target_valid1)"
   ]
  },
  {
   "cell_type": "code",
   "execution_count": 41,
   "metadata": {},
   "outputs": [
    {
     "data": {
      "text/plain": [
       "2501283853.2820625"
      ]
     },
     "execution_count": 41,
     "metadata": {},
     "output_type": "execute_result"
    }
   ],
   "source": [
    "profit(predict2,target_valid2)"
   ]
  },
  {
   "cell_type": "markdown",
   "metadata": {},
   "source": [
    "Выделив 200 самых прибыльных точек, можно добиться окупаемости в каждом из регионов, но больше всего в 1. Нужно проверить еще насколько случайны эти данные"
   ]
  },
  {
   "cell_type": "code",
   "execution_count": 42,
   "metadata": {},
   "outputs": [
    {
     "name": "stdout",
     "output_type": "stream",
     "text": [
      "Доверительный интервал: -142942739.74041605 - 890976833.8485551\n",
      "Средняя прибыль 380613470.0175977\n",
      "Риск убытка 0.077\n"
     ]
    }
   ],
   "source": [
    "\n",
    "def calc_price(predict,target_valid):\n",
    "    values = []\n",
    "    for i in range(BOOTSTRAP_SAMPLES):\n",
    "        Predict0 = pd.Series(predict)\n",
    "   \n",
    "        subsample = Predict0.sample(500, replace=True, random_state=state)\n",
    "        values.append(profit(subsample, target_valid))\n",
    "    values = pd.Series(values)\n",
    "    lower  = values.quantile(0.025)\n",
    "    upper = values.quantile(0.975)\n",
    "    risk = sum(values < 0) / len(values)\n",
    "    print('Доверительный интервал:', lower, '-', upper)\n",
    "    print('Средняя прибыль', values.mean())\n",
    "    print('Риск убытка', risk)\n",
    "calc_price(predict0,target_valid0)"
   ]
  },
  {
   "cell_type": "code",
   "execution_count": 43,
   "metadata": {},
   "outputs": [
    {
     "name": "stdout",
     "output_type": "stream",
     "text": [
      "Доверительный интервал: 73849212.0224793 - 917953817.7221825\n",
      "Средняя прибыль 479159869.981588\n",
      "Риск убытка 0.006\n"
     ]
    }
   ],
   "source": [
    "calc_price(predict1,target_valid1)"
   ]
  },
  {
   "cell_type": "code",
   "execution_count": 44,
   "metadata": {},
   "outputs": [
    {
     "name": "stdout",
     "output_type": "stream",
     "text": [
      "Доверительный интервал: -216265050.0341763 - 811060708.2365634\n",
      "Средняя прибыль 315441916.0234899\n",
      "Риск убытка 0.124\n"
     ]
    }
   ],
   "source": [
    "calc_price(predict2,target_valid2)"
   ]
  },
  {
   "cell_type": "markdown",
   "metadata": {},
   "source": [
    "**Итог**\n",
    "\n",
    "Самый прибыльный варинт - регион номер 2, в нем самые большие значения даже для минимума. \n",
    "1 регион не подойдет как минимум из-за риска большего чем 2.5, который нужно избежать. 3 тоже может подойти, но он не так прибылен"
   ]
  }
 ],
 "metadata": {
  "ExecuteTimeLog": [
   {
    "duration": 236,
    "start_time": "2023-06-18T17:44:36.817Z"
   },
   {
    "duration": 56,
    "start_time": "2023-06-18T17:45:43.401Z"
   },
   {
    "duration": 179,
    "start_time": "2023-06-18T17:45:46.473Z"
   },
   {
    "duration": 557,
    "start_time": "2023-06-18T17:45:46.653Z"
   },
   {
    "duration": 537,
    "start_time": "2023-06-18T17:46:14.210Z"
   },
   {
    "duration": 17,
    "start_time": "2023-06-18T17:46:27.963Z"
   },
   {
    "duration": 12,
    "start_time": "2023-06-18T17:47:41.372Z"
   },
   {
    "duration": 27,
    "start_time": "2023-06-18T17:47:49.213Z"
   },
   {
    "duration": 14,
    "start_time": "2023-06-18T17:47:51.243Z"
   },
   {
    "duration": 19,
    "start_time": "2023-06-18T17:48:32.448Z"
   },
   {
    "duration": 21,
    "start_time": "2023-06-18T17:48:41.117Z"
   },
   {
    "duration": 14,
    "start_time": "2023-06-18T17:49:35.709Z"
   },
   {
    "duration": 17,
    "start_time": "2023-06-18T17:49:53.733Z"
   },
   {
    "duration": 13,
    "start_time": "2023-06-18T17:49:58.170Z"
   },
   {
    "duration": 13,
    "start_time": "2023-06-18T17:50:04.535Z"
   },
   {
    "duration": 17,
    "start_time": "2023-06-18T17:50:17.507Z"
   },
   {
    "duration": 17,
    "start_time": "2023-06-18T17:52:00.296Z"
   },
   {
    "duration": 46,
    "start_time": "2023-06-18T17:52:12.816Z"
   },
   {
    "duration": 18,
    "start_time": "2023-06-18T17:52:23.446Z"
   },
   {
    "duration": 66,
    "start_time": "2023-06-18T17:52:38.190Z"
   },
   {
    "duration": 22,
    "start_time": "2023-06-18T17:52:43.605Z"
   },
   {
    "duration": 19,
    "start_time": "2023-06-18T17:53:52.965Z"
   },
   {
    "duration": 43,
    "start_time": "2023-06-18T17:54:00.475Z"
   },
   {
    "duration": 19,
    "start_time": "2023-06-18T17:54:06.510Z"
   },
   {
    "duration": 15,
    "start_time": "2023-06-18T17:54:18.281Z"
   },
   {
    "duration": 31,
    "start_time": "2023-06-18T17:54:21.798Z"
   },
   {
    "duration": 78,
    "start_time": "2023-06-18T17:57:19.916Z"
   },
   {
    "duration": 22,
    "start_time": "2023-06-18T17:57:22.617Z"
   },
   {
    "duration": 21,
    "start_time": "2023-06-18T17:57:50.094Z"
   },
   {
    "duration": 12,
    "start_time": "2023-06-18T17:58:07.279Z"
   },
   {
    "duration": 7,
    "start_time": "2023-06-18T18:05:57.554Z"
   },
   {
    "duration": 9,
    "start_time": "2023-06-18T18:06:01.489Z"
   },
   {
    "duration": 8,
    "start_time": "2023-06-18T18:06:36.646Z"
   },
   {
    "duration": 38,
    "start_time": "2023-06-18T18:06:56.314Z"
   },
   {
    "duration": 54,
    "start_time": "2023-06-18T18:07:07.685Z"
   },
   {
    "duration": 84,
    "start_time": "2023-06-18T18:07:16.393Z"
   },
   {
    "duration": 37,
    "start_time": "2023-06-18T18:07:37.545Z"
   },
   {
    "duration": 35,
    "start_time": "2023-06-18T18:07:50.841Z"
   },
   {
    "duration": 42,
    "start_time": "2023-06-18T18:08:05.016Z"
   },
   {
    "duration": 16,
    "start_time": "2023-06-18T18:08:33.939Z"
   },
   {
    "duration": 70,
    "start_time": "2023-06-18T18:08:46.976Z"
   },
   {
    "duration": 12,
    "start_time": "2023-06-18T18:08:53.963Z"
   },
   {
    "duration": 81,
    "start_time": "2023-06-18T18:09:09.357Z"
   },
   {
    "duration": 39,
    "start_time": "2023-06-18T18:09:09.940Z"
   },
   {
    "duration": 43,
    "start_time": "2023-06-18T18:09:11.497Z"
   },
   {
    "duration": 43,
    "start_time": "2023-06-18T18:09:12.208Z"
   },
   {
    "duration": 807,
    "start_time": "2023-06-18T18:12:46.492Z"
   },
   {
    "duration": 332,
    "start_time": "2023-06-18T18:13:06.392Z"
   },
   {
    "duration": 22,
    "start_time": "2023-06-18T18:17:04.611Z"
   },
   {
    "duration": 16,
    "start_time": "2023-06-18T18:17:24.841Z"
   },
   {
    "duration": 13,
    "start_time": "2023-06-18T18:17:45.657Z"
   },
   {
    "duration": 433,
    "start_time": "2023-06-18T18:18:12.884Z"
   },
   {
    "duration": 42,
    "start_time": "2023-06-18T18:18:31.542Z"
   },
   {
    "duration": 2,
    "start_time": "2023-06-18T18:18:38.502Z"
   },
   {
    "duration": 2,
    "start_time": "2023-06-18T18:20:03.517Z"
   },
   {
    "duration": 13,
    "start_time": "2023-06-18T18:28:36.948Z"
   },
   {
    "duration": 11,
    "start_time": "2023-06-18T18:28:53.708Z"
   },
   {
    "duration": 29,
    "start_time": "2023-06-18T18:29:03.115Z"
   },
   {
    "duration": 387,
    "start_time": "2023-06-19T05:17:50.535Z"
   },
   {
    "duration": 65,
    "start_time": "2023-06-19T05:19:01.408Z"
   },
   {
    "duration": 754,
    "start_time": "2023-06-19T05:19:05.144Z"
   },
   {
    "duration": 16,
    "start_time": "2023-06-19T05:19:05.900Z"
   },
   {
    "duration": 9,
    "start_time": "2023-06-19T05:19:10.855Z"
   },
   {
    "duration": 14,
    "start_time": "2023-06-19T05:19:14.236Z"
   },
   {
    "duration": 17,
    "start_time": "2023-06-19T05:19:58.276Z"
   },
   {
    "duration": 26,
    "start_time": "2023-06-19T05:20:39.055Z"
   },
   {
    "duration": 23,
    "start_time": "2023-06-19T05:20:51.759Z"
   },
   {
    "duration": 23,
    "start_time": "2023-06-19T05:20:55.995Z"
   },
   {
    "duration": 10,
    "start_time": "2023-06-19T05:23:00.515Z"
   },
   {
    "duration": 42,
    "start_time": "2023-06-19T05:23:05.315Z"
   },
   {
    "duration": 69,
    "start_time": "2023-06-19T05:23:21.756Z"
   },
   {
    "duration": 15,
    "start_time": "2023-06-19T05:23:24.358Z"
   },
   {
    "duration": 14,
    "start_time": "2023-06-19T05:23:24.524Z"
   },
   {
    "duration": 18,
    "start_time": "2023-06-19T05:23:25.144Z"
   },
   {
    "duration": 50,
    "start_time": "2023-06-19T05:23:56.727Z"
   },
   {
    "duration": 50,
    "start_time": "2023-06-19T05:24:04.100Z"
   },
   {
    "duration": 53,
    "start_time": "2023-06-19T05:24:11.958Z"
   },
   {
    "duration": 49,
    "start_time": "2023-06-19T05:24:25.516Z"
   },
   {
    "duration": 45,
    "start_time": "2023-06-19T05:24:27.676Z"
   },
   {
    "duration": 35,
    "start_time": "2023-06-19T05:25:17.736Z"
   },
   {
    "duration": 35,
    "start_time": "2023-06-19T05:25:18.996Z"
   },
   {
    "duration": 45,
    "start_time": "2023-06-19T05:25:19.320Z"
   },
   {
    "duration": 14,
    "start_time": "2023-06-19T05:31:42.415Z"
   },
   {
    "duration": 14,
    "start_time": "2023-06-19T05:32:30.696Z"
   },
   {
    "duration": 799,
    "start_time": "2023-06-19T05:46:09.349Z"
   },
   {
    "duration": 3,
    "start_time": "2023-06-19T05:46:14.835Z"
   },
   {
    "duration": 77,
    "start_time": "2023-06-19T05:59:38.877Z"
   },
   {
    "duration": 12,
    "start_time": "2023-06-19T05:59:49.524Z"
   },
   {
    "duration": 18,
    "start_time": "2023-06-19T06:00:35.911Z"
   },
   {
    "duration": 19,
    "start_time": "2023-06-19T06:00:44.345Z"
   },
   {
    "duration": 12,
    "start_time": "2023-06-19T06:02:44.861Z"
   },
   {
    "duration": 21,
    "start_time": "2023-06-19T06:02:54.415Z"
   },
   {
    "duration": 16,
    "start_time": "2023-06-19T06:04:04.758Z"
   },
   {
    "duration": 32,
    "start_time": "2023-06-19T06:07:42.056Z"
   },
   {
    "duration": 18,
    "start_time": "2023-06-19T06:08:02.456Z"
   },
   {
    "duration": 45,
    "start_time": "2023-06-19T06:08:42.416Z"
   },
   {
    "duration": 1024,
    "start_time": "2023-06-19T06:10:59.742Z"
   },
   {
    "duration": 335,
    "start_time": "2023-06-19T06:11:00.768Z"
   },
   {
    "duration": 15,
    "start_time": "2023-06-19T06:11:01.104Z"
   },
   {
    "duration": 19,
    "start_time": "2023-06-19T06:11:01.120Z"
   },
   {
    "duration": 38,
    "start_time": "2023-06-19T06:11:01.141Z"
   },
   {
    "duration": 47,
    "start_time": "2023-06-19T06:11:01.181Z"
   },
   {
    "duration": 47,
    "start_time": "2023-06-19T06:11:01.230Z"
   },
   {
    "duration": 46,
    "start_time": "2023-06-19T06:11:01.279Z"
   },
   {
    "duration": 63,
    "start_time": "2023-06-19T06:11:01.326Z"
   },
   {
    "duration": 102,
    "start_time": "2023-06-19T06:11:01.390Z"
   },
   {
    "duration": 12,
    "start_time": "2023-06-19T06:11:01.494Z"
   },
   {
    "duration": 84,
    "start_time": "2023-06-19T06:11:01.508Z"
   },
   {
    "duration": 29,
    "start_time": "2023-06-19T06:11:01.594Z"
   },
   {
    "duration": 138,
    "start_time": "2023-06-19T06:11:01.625Z"
   },
   {
    "duration": 62,
    "start_time": "2023-06-19T06:11:01.765Z"
   },
   {
    "duration": 120,
    "start_time": "2023-06-19T06:11:01.828Z"
   },
   {
    "duration": 57,
    "start_time": "2023-06-19T06:11:01.950Z"
   },
   {
    "duration": 31,
    "start_time": "2023-06-19T06:11:02.009Z"
   },
   {
    "duration": 34,
    "start_time": "2023-06-19T06:11:02.042Z"
   },
   {
    "duration": 12,
    "start_time": "2023-06-19T06:11:02.078Z"
   },
   {
    "duration": 25,
    "start_time": "2023-06-19T06:11:02.092Z"
   },
   {
    "duration": 29,
    "start_time": "2023-06-19T06:11:02.119Z"
   },
   {
    "duration": 13,
    "start_time": "2023-06-19T06:11:02.149Z"
   },
   {
    "duration": 120,
    "start_time": "2023-06-19T06:11:02.163Z"
   },
   {
    "duration": 60,
    "start_time": "2023-06-19T06:11:02.285Z"
   },
   {
    "duration": 48,
    "start_time": "2023-06-19T06:11:26.523Z"
   },
   {
    "duration": 53,
    "start_time": "2023-06-19T06:12:45.707Z"
   },
   {
    "duration": 275,
    "start_time": "2023-06-19T06:13:29.276Z"
   },
   {
    "duration": 1587,
    "start_time": "2023-06-19T06:13:56.960Z"
   },
   {
    "duration": 695,
    "start_time": "2023-06-19T06:13:58.549Z"
   },
   {
    "duration": 14,
    "start_time": "2023-06-19T06:13:59.246Z"
   },
   {
    "duration": 85,
    "start_time": "2023-06-19T06:13:59.261Z"
   },
   {
    "duration": 76,
    "start_time": "2023-06-19T06:13:59.348Z"
   },
   {
    "duration": 20,
    "start_time": "2023-06-19T06:13:59.426Z"
   },
   {
    "duration": 79,
    "start_time": "2023-06-19T06:13:59.448Z"
   },
   {
    "duration": 22,
    "start_time": "2023-06-19T06:13:59.529Z"
   },
   {
    "duration": 85,
    "start_time": "2023-06-19T06:13:59.553Z"
   },
   {
    "duration": 183,
    "start_time": "2023-06-19T06:13:59.640Z"
   },
   {
    "duration": 13,
    "start_time": "2023-06-19T06:13:59.825Z"
   },
   {
    "duration": 84,
    "start_time": "2023-06-19T06:13:59.840Z"
   },
   {
    "duration": 13,
    "start_time": "2023-06-19T06:13:59.925Z"
   },
   {
    "duration": 108,
    "start_time": "2023-06-19T06:13:59.940Z"
   },
   {
    "duration": 98,
    "start_time": "2023-06-19T06:14:00.050Z"
   },
   {
    "duration": 102,
    "start_time": "2023-06-19T06:14:00.149Z"
   },
   {
    "duration": 98,
    "start_time": "2023-06-19T06:14:00.253Z"
   },
   {
    "duration": 93,
    "start_time": "2023-06-19T06:14:00.352Z"
   },
   {
    "duration": 83,
    "start_time": "2023-06-19T06:14:00.447Z"
   },
   {
    "duration": 14,
    "start_time": "2023-06-19T06:14:00.532Z"
   },
   {
    "duration": 80,
    "start_time": "2023-06-19T06:14:00.548Z"
   },
   {
    "duration": 13,
    "start_time": "2023-06-19T06:14:00.630Z"
   },
   {
    "duration": 75,
    "start_time": "2023-06-19T06:14:00.645Z"
   },
   {
    "duration": 40,
    "start_time": "2023-06-19T06:14:00.722Z"
   },
   {
    "duration": 164,
    "start_time": "2023-06-19T06:14:00.764Z"
   },
   {
    "duration": 291,
    "start_time": "2023-06-19T06:14:50.138Z"
   },
   {
    "duration": 64,
    "start_time": "2023-06-19T06:15:00.069Z"
   },
   {
    "duration": 90,
    "start_time": "2023-06-19T06:15:03.559Z"
   },
   {
    "duration": 54,
    "start_time": "2023-06-19T06:15:19.912Z"
   },
   {
    "duration": 34,
    "start_time": "2023-06-19T06:18:12.206Z"
   },
   {
    "duration": 103,
    "start_time": "2023-06-19T06:18:57.527Z"
   },
   {
    "duration": 19,
    "start_time": "2023-06-19T06:19:26.027Z"
   },
   {
    "duration": 28,
    "start_time": "2023-06-19T06:19:33.297Z"
   },
   {
    "duration": 126,
    "start_time": "2023-06-19T06:19:55.297Z"
   },
   {
    "duration": 40,
    "start_time": "2023-06-19T06:23:52.796Z"
   },
   {
    "duration": 3,
    "start_time": "2023-06-19T06:25:51.338Z"
   },
   {
    "duration": 3,
    "start_time": "2023-06-19T06:26:09.490Z"
   },
   {
    "duration": 10,
    "start_time": "2023-06-19T06:26:40.928Z"
   },
   {
    "duration": 9,
    "start_time": "2023-06-19T06:26:45.817Z"
   },
   {
    "duration": 30,
    "start_time": "2023-06-19T06:27:22.428Z"
   },
   {
    "duration": 7,
    "start_time": "2023-06-19T06:28:28.968Z"
   },
   {
    "duration": 19,
    "start_time": "2023-06-19T06:28:31.748Z"
   },
   {
    "duration": 2,
    "start_time": "2023-06-19T06:28:37.795Z"
   },
   {
    "duration": 18,
    "start_time": "2023-06-19T06:28:38.557Z"
   },
   {
    "duration": 18,
    "start_time": "2023-06-19T06:28:38.911Z"
   },
   {
    "duration": 1063,
    "start_time": "2023-06-19T06:28:46.438Z"
   },
   {
    "duration": 347,
    "start_time": "2023-06-19T06:28:47.504Z"
   },
   {
    "duration": 14,
    "start_time": "2023-06-19T06:28:47.853Z"
   },
   {
    "duration": 17,
    "start_time": "2023-06-19T06:28:47.868Z"
   },
   {
    "duration": 16,
    "start_time": "2023-06-19T06:28:47.887Z"
   },
   {
    "duration": 21,
    "start_time": "2023-06-19T06:28:47.905Z"
   },
   {
    "duration": 33,
    "start_time": "2023-06-19T06:28:47.928Z"
   },
   {
    "duration": 22,
    "start_time": "2023-06-19T06:28:47.962Z"
   },
   {
    "duration": 40,
    "start_time": "2023-06-19T06:28:47.986Z"
   },
   {
    "duration": 77,
    "start_time": "2023-06-19T06:28:48.028Z"
   },
   {
    "duration": 21,
    "start_time": "2023-06-19T06:28:48.107Z"
   },
   {
    "duration": 16,
    "start_time": "2023-06-19T06:28:48.130Z"
   },
   {
    "duration": 27,
    "start_time": "2023-06-19T06:28:48.148Z"
   },
   {
    "duration": 50,
    "start_time": "2023-06-19T06:28:48.177Z"
   },
   {
    "duration": 42,
    "start_time": "2023-06-19T06:28:48.229Z"
   },
   {
    "duration": 65,
    "start_time": "2023-06-19T06:28:48.273Z"
   },
   {
    "duration": 36,
    "start_time": "2023-06-19T06:28:48.339Z"
   },
   {
    "duration": 45,
    "start_time": "2023-06-19T06:28:48.376Z"
   },
   {
    "duration": 33,
    "start_time": "2023-06-19T06:28:48.422Z"
   },
   {
    "duration": 13,
    "start_time": "2023-06-19T06:28:48.457Z"
   },
   {
    "duration": 40,
    "start_time": "2023-06-19T06:28:48.472Z"
   },
   {
    "duration": 31,
    "start_time": "2023-06-19T06:28:48.513Z"
   },
   {
    "duration": 10,
    "start_time": "2023-06-19T06:28:48.546Z"
   },
   {
    "duration": 89,
    "start_time": "2023-06-19T06:28:48.558Z"
   },
   {
    "duration": 139,
    "start_time": "2023-06-19T06:28:48.649Z"
   },
   {
    "duration": 19,
    "start_time": "2023-06-19T06:28:48.789Z"
   },
   {
    "duration": 54,
    "start_time": "2023-06-19T06:28:48.810Z"
   },
   {
    "duration": 17,
    "start_time": "2023-06-19T06:28:48.866Z"
   },
   {
    "duration": 72,
    "start_time": "2023-06-19T06:28:48.885Z"
   },
   {
    "duration": 2,
    "start_time": "2023-06-19T06:28:48.959Z"
   },
   {
    "duration": 22,
    "start_time": "2023-06-19T06:28:48.963Z"
   },
   {
    "duration": 40,
    "start_time": "2023-06-19T06:28:48.986Z"
   },
   {
    "duration": 111,
    "start_time": "2023-06-19T06:32:06.627Z"
   },
   {
    "duration": 14,
    "start_time": "2023-06-19T06:32:39.538Z"
   },
   {
    "duration": 1058,
    "start_time": "2023-06-19T06:32:44.826Z"
   },
   {
    "duration": 346,
    "start_time": "2023-06-19T06:32:45.886Z"
   },
   {
    "duration": 14,
    "start_time": "2023-06-19T06:32:46.234Z"
   },
   {
    "duration": 18,
    "start_time": "2023-06-19T06:32:46.250Z"
   },
   {
    "duration": 15,
    "start_time": "2023-06-19T06:32:46.270Z"
   },
   {
    "duration": 22,
    "start_time": "2023-06-19T06:32:46.286Z"
   },
   {
    "duration": 20,
    "start_time": "2023-06-19T06:32:46.310Z"
   },
   {
    "duration": 26,
    "start_time": "2023-06-19T06:32:46.331Z"
   },
   {
    "duration": 36,
    "start_time": "2023-06-19T06:32:46.358Z"
   },
   {
    "duration": 81,
    "start_time": "2023-06-19T06:32:46.396Z"
   },
   {
    "duration": 16,
    "start_time": "2023-06-19T06:32:46.479Z"
   },
   {
    "duration": 25,
    "start_time": "2023-06-19T06:32:46.497Z"
   },
   {
    "duration": 27,
    "start_time": "2023-06-19T06:32:46.524Z"
   },
   {
    "duration": 74,
    "start_time": "2023-06-19T06:32:46.555Z"
   },
   {
    "duration": 56,
    "start_time": "2023-06-19T06:32:46.631Z"
   },
   {
    "duration": 59,
    "start_time": "2023-06-19T06:32:46.689Z"
   },
   {
    "duration": 34,
    "start_time": "2023-06-19T06:32:46.749Z"
   },
   {
    "duration": 47,
    "start_time": "2023-06-19T06:32:46.785Z"
   },
   {
    "duration": 30,
    "start_time": "2023-06-19T06:32:46.834Z"
   },
   {
    "duration": 14,
    "start_time": "2023-06-19T06:32:46.866Z"
   },
   {
    "duration": 14,
    "start_time": "2023-06-19T06:32:46.881Z"
   },
   {
    "duration": 37,
    "start_time": "2023-06-19T06:32:46.896Z"
   },
   {
    "duration": 13,
    "start_time": "2023-06-19T06:32:46.934Z"
   },
   {
    "duration": 30,
    "start_time": "2023-06-19T06:32:46.948Z"
   },
   {
    "duration": 66,
    "start_time": "2023-06-19T06:32:46.980Z"
   },
   {
    "duration": 29,
    "start_time": "2023-06-19T06:32:47.047Z"
   },
   {
    "duration": 64,
    "start_time": "2023-06-19T06:32:47.078Z"
   },
   {
    "duration": 17,
    "start_time": "2023-06-19T06:32:47.143Z"
   },
   {
    "duration": 76,
    "start_time": "2023-06-19T06:32:47.162Z"
   },
   {
    "duration": 2,
    "start_time": "2023-06-19T06:32:47.240Z"
   },
   {
    "duration": 135,
    "start_time": "2023-06-19T06:32:47.244Z"
   },
   {
    "duration": 0,
    "start_time": "2023-06-19T06:32:47.380Z"
   },
   {
    "duration": 0,
    "start_time": "2023-06-19T06:32:47.381Z"
   },
   {
    "duration": 18,
    "start_time": "2023-06-19T06:33:07.419Z"
   },
   {
    "duration": 1126,
    "start_time": "2023-06-19T06:33:21.700Z"
   },
   {
    "duration": 368,
    "start_time": "2023-06-19T06:33:22.828Z"
   },
   {
    "duration": 23,
    "start_time": "2023-06-19T06:33:23.198Z"
   },
   {
    "duration": 9,
    "start_time": "2023-06-19T06:33:23.222Z"
   },
   {
    "duration": 20,
    "start_time": "2023-06-19T06:33:23.233Z"
   },
   {
    "duration": 29,
    "start_time": "2023-06-19T06:33:23.254Z"
   },
   {
    "duration": 28,
    "start_time": "2023-06-19T06:33:23.284Z"
   },
   {
    "duration": 24,
    "start_time": "2023-06-19T06:33:23.314Z"
   },
   {
    "duration": 35,
    "start_time": "2023-06-19T06:33:23.339Z"
   },
   {
    "duration": 72,
    "start_time": "2023-06-19T06:33:23.375Z"
   },
   {
    "duration": 14,
    "start_time": "2023-06-19T06:33:23.449Z"
   },
   {
    "duration": 14,
    "start_time": "2023-06-19T06:33:23.464Z"
   },
   {
    "duration": 13,
    "start_time": "2023-06-19T06:33:23.479Z"
   },
   {
    "duration": 64,
    "start_time": "2023-06-19T06:33:23.495Z"
   },
   {
    "duration": 43,
    "start_time": "2023-06-19T06:33:23.561Z"
   },
   {
    "duration": 53,
    "start_time": "2023-06-19T06:33:23.620Z"
   },
   {
    "duration": 53,
    "start_time": "2023-06-19T06:33:23.674Z"
   },
   {
    "duration": 35,
    "start_time": "2023-06-19T06:33:23.729Z"
   },
   {
    "duration": 33,
    "start_time": "2023-06-19T06:33:23.766Z"
   },
   {
    "duration": 33,
    "start_time": "2023-06-19T06:33:23.801Z"
   },
   {
    "duration": 24,
    "start_time": "2023-06-19T06:33:23.835Z"
   },
   {
    "duration": 21,
    "start_time": "2023-06-19T06:33:23.861Z"
   },
   {
    "duration": 3,
    "start_time": "2023-06-19T06:33:23.883Z"
   },
   {
    "duration": 41,
    "start_time": "2023-06-19T06:33:23.888Z"
   },
   {
    "duration": 70,
    "start_time": "2023-06-19T06:33:23.931Z"
   },
   {
    "duration": 30,
    "start_time": "2023-06-19T06:33:24.002Z"
   },
   {
    "duration": 56,
    "start_time": "2023-06-19T06:33:24.034Z"
   },
   {
    "duration": 37,
    "start_time": "2023-06-19T06:33:24.092Z"
   },
   {
    "duration": 54,
    "start_time": "2023-06-19T06:33:24.131Z"
   },
   {
    "duration": 2,
    "start_time": "2023-06-19T06:33:24.187Z"
   },
   {
    "duration": 31,
    "start_time": "2023-06-19T06:33:24.191Z"
   },
   {
    "duration": 41,
    "start_time": "2023-06-19T06:33:24.224Z"
   },
   {
    "duration": 56,
    "start_time": "2023-06-19T06:33:24.267Z"
   },
   {
    "duration": 4,
    "start_time": "2023-06-19T06:47:23.858Z"
   },
   {
    "duration": 3,
    "start_time": "2023-06-19T06:50:53.418Z"
   },
   {
    "duration": 6,
    "start_time": "2023-06-19T06:51:01.965Z"
   },
   {
    "duration": 54,
    "start_time": "2023-06-19T06:51:55.997Z"
   },
   {
    "duration": 60,
    "start_time": "2023-06-19T06:52:09.774Z"
   },
   {
    "duration": 104,
    "start_time": "2023-06-19T06:52:13.639Z"
   },
   {
    "duration": 58,
    "start_time": "2023-06-19T06:52:21.161Z"
   },
   {
    "duration": 6,
    "start_time": "2023-06-19T06:52:26.757Z"
   },
   {
    "duration": 1144,
    "start_time": "2023-06-19T06:53:24.542Z"
   },
   {
    "duration": 342,
    "start_time": "2023-06-19T06:53:25.688Z"
   },
   {
    "duration": 14,
    "start_time": "2023-06-19T06:53:26.032Z"
   },
   {
    "duration": 11,
    "start_time": "2023-06-19T06:53:26.048Z"
   },
   {
    "duration": 36,
    "start_time": "2023-06-19T06:53:26.061Z"
   },
   {
    "duration": 45,
    "start_time": "2023-06-19T06:53:26.099Z"
   },
   {
    "duration": 21,
    "start_time": "2023-06-19T06:53:26.146Z"
   },
   {
    "duration": 22,
    "start_time": "2023-06-19T06:53:26.169Z"
   },
   {
    "duration": 28,
    "start_time": "2023-06-19T06:53:26.193Z"
   },
   {
    "duration": 78,
    "start_time": "2023-06-19T06:53:26.222Z"
   },
   {
    "duration": 14,
    "start_time": "2023-06-19T06:53:26.302Z"
   },
   {
    "duration": 22,
    "start_time": "2023-06-19T06:53:26.320Z"
   },
   {
    "duration": 17,
    "start_time": "2023-06-19T06:53:26.344Z"
   },
   {
    "duration": 44,
    "start_time": "2023-06-19T06:53:26.364Z"
   },
   {
    "duration": 48,
    "start_time": "2023-06-19T06:53:26.410Z"
   },
   {
    "duration": 61,
    "start_time": "2023-06-19T06:53:26.460Z"
   },
   {
    "duration": 35,
    "start_time": "2023-06-19T06:53:26.522Z"
   },
   {
    "duration": 32,
    "start_time": "2023-06-19T06:53:26.559Z"
   },
   {
    "duration": 50,
    "start_time": "2023-06-19T06:53:26.592Z"
   },
   {
    "duration": 13,
    "start_time": "2023-06-19T06:53:26.644Z"
   },
   {
    "duration": 13,
    "start_time": "2023-06-19T06:53:26.659Z"
   },
   {
    "duration": 22,
    "start_time": "2023-06-19T06:53:26.673Z"
   },
   {
    "duration": 3,
    "start_time": "2023-06-19T06:53:26.696Z"
   },
   {
    "duration": 42,
    "start_time": "2023-06-19T06:53:26.700Z"
   },
   {
    "duration": 54,
    "start_time": "2023-06-19T06:53:26.744Z"
   },
   {
    "duration": 28,
    "start_time": "2023-06-19T06:53:26.800Z"
   },
   {
    "duration": 54,
    "start_time": "2023-06-19T06:53:26.829Z"
   },
   {
    "duration": 18,
    "start_time": "2023-06-19T06:53:26.884Z"
   },
   {
    "duration": 66,
    "start_time": "2023-06-19T06:53:26.904Z"
   },
   {
    "duration": 3,
    "start_time": "2023-06-19T06:53:26.972Z"
   },
   {
    "duration": 23,
    "start_time": "2023-06-19T06:53:26.976Z"
   },
   {
    "duration": 31,
    "start_time": "2023-06-19T06:53:27.001Z"
   },
   {
    "duration": 9,
    "start_time": "2023-06-19T06:53:27.034Z"
   },
   {
    "duration": 180,
    "start_time": "2023-06-19T06:53:27.044Z"
   },
   {
    "duration": 4,
    "start_time": "2023-06-19T07:05:00.763Z"
   },
   {
    "duration": 6,
    "start_time": "2023-06-19T07:05:17.164Z"
   },
   {
    "duration": 6,
    "start_time": "2023-06-19T07:05:31.963Z"
   },
   {
    "duration": 5,
    "start_time": "2023-06-19T07:10:32.844Z"
   },
   {
    "duration": 3,
    "start_time": "2023-06-19T07:17:09.091Z"
   },
   {
    "duration": 102,
    "start_time": "2023-06-19T07:19:16.534Z"
   },
   {
    "duration": 3,
    "start_time": "2023-06-19T07:19:26.361Z"
   },
   {
    "duration": 3,
    "start_time": "2023-06-19T07:23:55.951Z"
   },
   {
    "duration": 3,
    "start_time": "2023-06-19T07:27:32.687Z"
   },
   {
    "duration": 2,
    "start_time": "2023-06-19T08:06:31.349Z"
   },
   {
    "duration": 8,
    "start_time": "2023-06-19T08:06:53.642Z"
   },
   {
    "duration": 2,
    "start_time": "2023-06-19T08:07:08.609Z"
   },
   {
    "duration": 8,
    "start_time": "2023-06-19T08:07:09.009Z"
   },
   {
    "duration": 3,
    "start_time": "2023-06-19T08:07:39.895Z"
   },
   {
    "duration": 6,
    "start_time": "2023-06-19T08:07:40.696Z"
   },
   {
    "duration": 3,
    "start_time": "2023-06-19T08:07:47.721Z"
   },
   {
    "duration": 7,
    "start_time": "2023-06-19T08:07:48.120Z"
   },
   {
    "duration": 4,
    "start_time": "2023-06-19T08:08:05.479Z"
   },
   {
    "duration": 7,
    "start_time": "2023-06-19T08:08:05.960Z"
   },
   {
    "duration": 2,
    "start_time": "2023-06-19T08:08:48.440Z"
   },
   {
    "duration": 7,
    "start_time": "2023-06-19T08:08:49.082Z"
   },
   {
    "duration": 5,
    "start_time": "2023-06-19T08:10:30.112Z"
   },
   {
    "duration": 3,
    "start_time": "2023-06-19T08:11:07.721Z"
   },
   {
    "duration": 7,
    "start_time": "2023-06-19T08:11:07.960Z"
   },
   {
    "duration": 6,
    "start_time": "2023-06-19T08:11:33.960Z"
   },
   {
    "duration": 6,
    "start_time": "2023-06-19T08:11:38.842Z"
   },
   {
    "duration": 3,
    "start_time": "2023-06-19T08:13:40.112Z"
   },
   {
    "duration": 14,
    "start_time": "2023-06-19T08:14:22.920Z"
   },
   {
    "duration": 3,
    "start_time": "2023-06-19T08:14:34.761Z"
   },
   {
    "duration": 13,
    "start_time": "2023-06-19T08:14:35.184Z"
   },
   {
    "duration": 4,
    "start_time": "2023-06-19T08:14:58.519Z"
   },
   {
    "duration": 15,
    "start_time": "2023-06-19T08:14:59.401Z"
   },
   {
    "duration": 4,
    "start_time": "2023-06-19T08:15:30.120Z"
   },
   {
    "duration": 7,
    "start_time": "2023-06-19T08:15:30.432Z"
   },
   {
    "duration": 3,
    "start_time": "2023-06-19T08:16:13.959Z"
   },
   {
    "duration": 8,
    "start_time": "2023-06-19T08:16:14.519Z"
   },
   {
    "duration": 6,
    "start_time": "2023-06-19T08:16:34.441Z"
   },
   {
    "duration": 7,
    "start_time": "2023-06-19T08:16:34.847Z"
   },
   {
    "duration": 2,
    "start_time": "2023-06-19T08:17:41.092Z"
   },
   {
    "duration": 7,
    "start_time": "2023-06-19T08:17:41.400Z"
   },
   {
    "duration": 6,
    "start_time": "2023-06-19T08:17:41.951Z"
   },
   {
    "duration": 7,
    "start_time": "2023-06-19T08:17:42.439Z"
   },
   {
    "duration": 9,
    "start_time": "2023-06-19T08:30:41.522Z"
   },
   {
    "duration": 2,
    "start_time": "2023-06-19T08:30:55.589Z"
   },
   {
    "duration": 17319,
    "start_time": "2023-06-19T08:31:00.733Z"
   },
   {
    "duration": 69,
    "start_time": "2023-06-19T09:19:32.392Z"
   },
   {
    "duration": 1168,
    "start_time": "2023-06-19T09:20:07.152Z"
   },
   {
    "duration": 727,
    "start_time": "2023-06-19T09:20:08.322Z"
   },
   {
    "duration": 21,
    "start_time": "2023-06-19T09:20:09.051Z"
   },
   {
    "duration": 20,
    "start_time": "2023-06-19T09:20:09.074Z"
   },
   {
    "duration": 45,
    "start_time": "2023-06-19T09:20:09.098Z"
   },
   {
    "duration": 18,
    "start_time": "2023-06-19T09:20:09.145Z"
   },
   {
    "duration": 61,
    "start_time": "2023-06-19T09:20:09.165Z"
   },
   {
    "duration": 26,
    "start_time": "2023-06-19T09:20:09.228Z"
   },
   {
    "duration": 32,
    "start_time": "2023-06-19T09:20:09.255Z"
   },
   {
    "duration": 71,
    "start_time": "2023-06-19T09:20:09.289Z"
   },
   {
    "duration": 15,
    "start_time": "2023-06-19T09:20:09.362Z"
   },
   {
    "duration": 16,
    "start_time": "2023-06-19T09:20:09.379Z"
   },
   {
    "duration": 37,
    "start_time": "2023-06-19T09:20:09.396Z"
   },
   {
    "duration": 49,
    "start_time": "2023-06-19T09:20:09.437Z"
   },
   {
    "duration": 80,
    "start_time": "2023-06-19T09:20:09.488Z"
   },
   {
    "duration": 58,
    "start_time": "2023-06-19T09:20:09.569Z"
   },
   {
    "duration": 36,
    "start_time": "2023-06-19T09:20:09.629Z"
   },
   {
    "duration": 33,
    "start_time": "2023-06-19T09:20:09.667Z"
   },
   {
    "duration": 50,
    "start_time": "2023-06-19T09:20:09.702Z"
   },
   {
    "duration": 14,
    "start_time": "2023-06-19T09:20:09.754Z"
   },
   {
    "duration": 15,
    "start_time": "2023-06-19T09:20:09.770Z"
   },
   {
    "duration": 44,
    "start_time": "2023-06-19T09:20:09.787Z"
   },
   {
    "duration": 3,
    "start_time": "2023-06-19T09:20:09.833Z"
   },
   {
    "duration": 21,
    "start_time": "2023-06-19T09:20:09.838Z"
   },
   {
    "duration": 73,
    "start_time": "2023-06-19T09:20:09.861Z"
   },
   {
    "duration": 19,
    "start_time": "2023-06-19T09:20:09.935Z"
   },
   {
    "duration": 67,
    "start_time": "2023-06-19T09:20:09.955Z"
   },
   {
    "duration": 21,
    "start_time": "2023-06-19T09:20:10.024Z"
   },
   {
    "duration": 74,
    "start_time": "2023-06-19T09:20:10.047Z"
   },
   {
    "duration": 3,
    "start_time": "2023-06-19T09:20:10.122Z"
   },
   {
    "duration": 16,
    "start_time": "2023-06-19T09:20:10.126Z"
   },
   {
    "duration": 26,
    "start_time": "2023-06-19T09:20:10.144Z"
   },
   {
    "duration": 53,
    "start_time": "2023-06-19T09:20:10.171Z"
   },
   {
    "duration": 103,
    "start_time": "2023-06-19T09:20:10.226Z"
   },
   {
    "duration": 18,
    "start_time": "2023-06-19T09:20:10.419Z"
   },
   {
    "duration": 3,
    "start_time": "2023-06-19T09:20:10.439Z"
   },
   {
    "duration": 6,
    "start_time": "2023-06-19T09:20:10.443Z"
   },
   {
    "duration": 7,
    "start_time": "2023-06-19T09:20:10.450Z"
   },
   {
    "duration": 19,
    "start_time": "2023-06-19T09:20:10.459Z"
   },
   {
    "duration": 18,
    "start_time": "2023-06-19T09:20:10.480Z"
   },
   {
    "duration": 6,
    "start_time": "2023-06-19T09:20:10.502Z"
   },
   {
    "duration": 60,
    "start_time": "2023-06-19T09:20:30.774Z"
   },
   {
    "duration": 1063,
    "start_time": "2023-06-19T09:20:40.943Z"
   },
   {
    "duration": 681,
    "start_time": "2023-06-19T09:20:44.374Z"
   },
   {
    "duration": 14,
    "start_time": "2023-06-19T09:20:45.057Z"
   },
   {
    "duration": 50,
    "start_time": "2023-06-19T09:20:45.072Z"
   },
   {
    "duration": 28,
    "start_time": "2023-06-19T09:20:45.125Z"
   },
   {
    "duration": 29,
    "start_time": "2023-06-19T09:20:45.154Z"
   },
   {
    "duration": 29,
    "start_time": "2023-06-19T09:20:45.185Z"
   },
   {
    "duration": 60,
    "start_time": "2023-06-19T09:20:45.217Z"
   },
   {
    "duration": 26,
    "start_time": "2023-06-19T09:20:45.279Z"
   },
   {
    "duration": 104,
    "start_time": "2023-06-19T09:20:45.307Z"
   },
   {
    "duration": 18,
    "start_time": "2023-06-19T09:20:45.413Z"
   },
   {
    "duration": 19,
    "start_time": "2023-06-19T09:20:45.433Z"
   },
   {
    "duration": 24,
    "start_time": "2023-06-19T09:20:45.454Z"
   },
   {
    "duration": 52,
    "start_time": "2023-06-19T09:20:45.480Z"
   },
   {
    "duration": 54,
    "start_time": "2023-06-19T09:20:45.534Z"
   },
   {
    "duration": 46,
    "start_time": "2023-06-19T09:20:45.589Z"
   },
   {
    "duration": 36,
    "start_time": "2023-06-19T09:20:45.637Z"
   },
   {
    "duration": 52,
    "start_time": "2023-06-19T09:20:45.675Z"
   },
   {
    "duration": 32,
    "start_time": "2023-06-19T09:20:45.730Z"
   },
   {
    "duration": 21,
    "start_time": "2023-06-19T09:20:45.764Z"
   },
   {
    "duration": 33,
    "start_time": "2023-06-19T09:20:45.787Z"
   },
   {
    "duration": 13,
    "start_time": "2023-06-19T09:20:45.821Z"
   },
   {
    "duration": 2,
    "start_time": "2023-06-19T09:20:45.892Z"
   },
   {
    "duration": 16,
    "start_time": "2023-06-19T09:20:45.952Z"
   },
   {
    "duration": 52,
    "start_time": "2023-06-19T09:20:45.989Z"
   },
   {
    "duration": 17,
    "start_time": "2023-06-19T09:20:46.043Z"
   },
   {
    "duration": 66,
    "start_time": "2023-06-19T09:20:46.062Z"
   },
   {
    "duration": 16,
    "start_time": "2023-06-19T09:20:46.130Z"
   },
   {
    "duration": 51,
    "start_time": "2023-06-19T09:20:46.148Z"
   },
   {
    "duration": 19,
    "start_time": "2023-06-19T09:20:46.201Z"
   },
   {
    "duration": 12,
    "start_time": "2023-06-19T09:20:46.612Z"
   },
   {
    "duration": 22,
    "start_time": "2023-06-19T09:20:46.804Z"
   },
   {
    "duration": 10,
    "start_time": "2023-06-19T09:20:47.124Z"
   },
   {
    "duration": 6,
    "start_time": "2023-06-19T09:20:47.321Z"
   },
   {
    "duration": 7,
    "start_time": "2023-06-19T09:20:47.443Z"
   },
   {
    "duration": 2,
    "start_time": "2023-06-19T09:20:48.804Z"
   },
   {
    "duration": 4,
    "start_time": "2023-06-19T09:20:49.404Z"
   },
   {
    "duration": 3,
    "start_time": "2023-06-19T09:20:49.903Z"
   },
   {
    "duration": 7,
    "start_time": "2023-06-19T09:20:50.053Z"
   },
   {
    "duration": 8,
    "start_time": "2023-06-19T09:20:50.232Z"
   },
   {
    "duration": 8,
    "start_time": "2023-06-19T09:20:50.392Z"
   },
   {
    "duration": 1168,
    "start_time": "2023-06-19T09:21:40.728Z"
   },
   {
    "duration": 716,
    "start_time": "2023-06-19T09:21:44.038Z"
   },
   {
    "duration": 16,
    "start_time": "2023-06-19T09:21:44.756Z"
   },
   {
    "duration": 34,
    "start_time": "2023-06-19T09:21:44.774Z"
   },
   {
    "duration": 26,
    "start_time": "2023-06-19T09:21:44.810Z"
   },
   {
    "duration": 36,
    "start_time": "2023-06-19T09:21:44.838Z"
   },
   {
    "duration": 17,
    "start_time": "2023-06-19T09:21:44.876Z"
   },
   {
    "duration": 35,
    "start_time": "2023-06-19T09:21:44.895Z"
   },
   {
    "duration": 78,
    "start_time": "2023-06-19T09:21:44.932Z"
   },
   {
    "duration": 110,
    "start_time": "2023-06-19T09:21:45.012Z"
   },
   {
    "duration": 14,
    "start_time": "2023-06-19T09:21:45.125Z"
   },
   {
    "duration": 12,
    "start_time": "2023-06-19T09:21:45.141Z"
   },
   {
    "duration": 12,
    "start_time": "2023-06-19T09:21:45.155Z"
   },
   {
    "duration": 75,
    "start_time": "2023-06-19T09:21:45.169Z"
   },
   {
    "duration": 56,
    "start_time": "2023-06-19T09:21:45.246Z"
   },
   {
    "duration": 64,
    "start_time": "2023-06-19T09:21:45.305Z"
   },
   {
    "duration": 53,
    "start_time": "2023-06-19T09:21:45.372Z"
   },
   {
    "duration": 42,
    "start_time": "2023-06-19T09:21:45.427Z"
   },
   {
    "duration": 59,
    "start_time": "2023-06-19T09:21:45.470Z"
   },
   {
    "duration": 17,
    "start_time": "2023-06-19T09:21:45.532Z"
   },
   {
    "duration": 15,
    "start_time": "2023-06-19T09:21:45.551Z"
   },
   {
    "duration": 27,
    "start_time": "2023-06-19T09:21:45.567Z"
   },
   {
    "duration": 7,
    "start_time": "2023-06-19T09:21:45.596Z"
   },
   {
    "duration": 32,
    "start_time": "2023-06-19T09:21:45.605Z"
   },
   {
    "duration": 52,
    "start_time": "2023-06-19T09:21:45.638Z"
   },
   {
    "duration": 33,
    "start_time": "2023-06-19T09:21:45.691Z"
   },
   {
    "duration": 52,
    "start_time": "2023-06-19T09:21:45.726Z"
   },
   {
    "duration": 21,
    "start_time": "2023-06-19T09:21:45.780Z"
   },
   {
    "duration": 68,
    "start_time": "2023-06-19T09:21:45.803Z"
   },
   {
    "duration": 3,
    "start_time": "2023-06-19T09:21:46.575Z"
   },
   {
    "duration": 13,
    "start_time": "2023-06-19T09:21:46.658Z"
   },
   {
    "duration": 53,
    "start_time": "2023-06-19T09:21:46.673Z"
   },
   {
    "duration": 14,
    "start_time": "2023-06-19T09:21:46.728Z"
   },
   {
    "duration": 183,
    "start_time": "2023-06-19T09:21:46.743Z"
   },
   {
    "duration": 27,
    "start_time": "2023-06-19T09:21:46.929Z"
   },
   {
    "duration": 3,
    "start_time": "2023-06-19T09:21:58.534Z"
   },
   {
    "duration": 3,
    "start_time": "2023-06-19T09:21:58.598Z"
   },
   {
    "duration": 3,
    "start_time": "2023-06-19T09:21:58.692Z"
   },
   {
    "duration": 8,
    "start_time": "2023-06-19T09:22:01.160Z"
   },
   {
    "duration": 8,
    "start_time": "2023-06-19T09:22:01.628Z"
   },
   {
    "duration": 8,
    "start_time": "2023-06-19T09:22:02.007Z"
   },
   {
    "duration": 52,
    "start_time": "2023-06-19T09:22:27.273Z"
   },
   {
    "duration": 1070,
    "start_time": "2023-06-19T09:22:47.631Z"
   },
   {
    "duration": 709,
    "start_time": "2023-06-19T09:22:48.703Z"
   },
   {
    "duration": 15,
    "start_time": "2023-06-19T09:22:49.414Z"
   },
   {
    "duration": 11,
    "start_time": "2023-06-19T09:22:49.431Z"
   },
   {
    "duration": 14,
    "start_time": "2023-06-19T09:22:49.444Z"
   },
   {
    "duration": 20,
    "start_time": "2023-06-19T09:22:49.459Z"
   },
   {
    "duration": 18,
    "start_time": "2023-06-19T09:22:49.480Z"
   },
   {
    "duration": 42,
    "start_time": "2023-06-19T09:22:49.500Z"
   },
   {
    "duration": 37,
    "start_time": "2023-06-19T09:22:49.544Z"
   },
   {
    "duration": 69,
    "start_time": "2023-06-19T09:22:49.582Z"
   },
   {
    "duration": 13,
    "start_time": "2023-06-19T09:22:49.652Z"
   },
   {
    "duration": 15,
    "start_time": "2023-06-19T09:22:49.667Z"
   },
   {
    "duration": 13,
    "start_time": "2023-06-19T09:22:49.683Z"
   },
   {
    "duration": 45,
    "start_time": "2023-06-19T09:22:49.721Z"
   },
   {
    "duration": 61,
    "start_time": "2023-06-19T09:22:49.767Z"
   },
   {
    "duration": 44,
    "start_time": "2023-06-19T09:22:49.829Z"
   },
   {
    "duration": 48,
    "start_time": "2023-06-19T09:22:49.875Z"
   },
   {
    "duration": 31,
    "start_time": "2023-06-19T09:22:49.925Z"
   },
   {
    "duration": 34,
    "start_time": "2023-06-19T09:22:49.958Z"
   },
   {
    "duration": 42,
    "start_time": "2023-06-19T09:22:49.994Z"
   },
   {
    "duration": 16,
    "start_time": "2023-06-19T09:22:50.037Z"
   },
   {
    "duration": 18,
    "start_time": "2023-06-19T09:22:50.055Z"
   },
   {
    "duration": 3,
    "start_time": "2023-06-19T09:22:50.075Z"
   },
   {
    "duration": 40,
    "start_time": "2023-06-19T09:22:50.080Z"
   },
   {
    "duration": 55,
    "start_time": "2023-06-19T09:22:50.123Z"
   },
   {
    "duration": 18,
    "start_time": "2023-06-19T09:22:50.179Z"
   },
   {
    "duration": 71,
    "start_time": "2023-06-19T09:22:50.198Z"
   },
   {
    "duration": 19,
    "start_time": "2023-06-19T09:22:50.270Z"
   },
   {
    "duration": 66,
    "start_time": "2023-06-19T09:22:50.290Z"
   },
   {
    "duration": 2,
    "start_time": "2023-06-19T09:22:50.358Z"
   },
   {
    "duration": 60,
    "start_time": "2023-06-19T09:22:50.361Z"
   },
   {
    "duration": 43,
    "start_time": "2023-06-19T09:22:50.423Z"
   },
   {
    "duration": 14,
    "start_time": "2023-06-19T09:22:50.468Z"
   },
   {
    "duration": 105,
    "start_time": "2023-06-19T09:22:50.528Z"
   },
   {
    "duration": 22,
    "start_time": "2023-06-19T09:22:50.635Z"
   },
   {
    "duration": 3,
    "start_time": "2023-06-19T09:22:50.659Z"
   },
   {
    "duration": 18,
    "start_time": "2023-06-19T09:22:50.663Z"
   },
   {
    "duration": 31,
    "start_time": "2023-06-19T09:22:50.683Z"
   },
   {
    "duration": 34,
    "start_time": "2023-06-19T09:22:50.716Z"
   },
   {
    "duration": 14,
    "start_time": "2023-06-19T09:22:50.752Z"
   },
   {
    "duration": 7,
    "start_time": "2023-06-19T09:22:50.770Z"
   },
   {
    "duration": 2867,
    "start_time": "2023-06-19T09:22:50.779Z"
   },
   {
    "duration": 306,
    "start_time": "2023-06-19T09:24:04.330Z"
   },
   {
    "duration": 398,
    "start_time": "2023-06-19T09:24:33.924Z"
   },
   {
    "duration": 309,
    "start_time": "2023-06-19T09:24:55.692Z"
   },
   {
    "duration": 308,
    "start_time": "2023-06-19T09:25:00.575Z"
   },
   {
    "duration": 181,
    "start_time": "2023-06-19T09:32:13.372Z"
   },
   {
    "duration": 187,
    "start_time": "2023-06-19T09:32:58.509Z"
   },
   {
    "duration": 317,
    "start_time": "2023-06-19T09:33:09.068Z"
   },
   {
    "duration": 308,
    "start_time": "2023-06-19T09:33:21.297Z"
   },
   {
    "duration": 326,
    "start_time": "2023-06-19T09:33:42.429Z"
   },
   {
    "duration": 198,
    "start_time": "2023-06-19T10:03:35.004Z"
   },
   {
    "duration": 303,
    "start_time": "2023-06-19T10:03:52.282Z"
   },
   {
    "duration": 303,
    "start_time": "2023-06-19T10:04:49.937Z"
   },
   {
    "duration": 305,
    "start_time": "2023-06-19T10:05:04.799Z"
   },
   {
    "duration": 194,
    "start_time": "2023-06-19T10:05:06.037Z"
   },
   {
    "duration": 329,
    "start_time": "2023-06-19T10:06:14.329Z"
   },
   {
    "duration": 307,
    "start_time": "2023-06-19T10:06:21.853Z"
   },
   {
    "duration": 199,
    "start_time": "2023-06-19T10:06:37.530Z"
   },
   {
    "duration": 323,
    "start_time": "2023-06-19T10:06:37.918Z"
   },
   {
    "duration": 203,
    "start_time": "2023-06-19T10:06:50.430Z"
   },
   {
    "duration": 368,
    "start_time": "2023-06-19T10:06:55.149Z"
   },
   {
    "duration": 3,
    "start_time": "2023-06-19T10:18:48.990Z"
   },
   {
    "duration": 14,
    "start_time": "2023-06-19T10:21:25.788Z"
   },
   {
    "duration": 8,
    "start_time": "2023-06-19T10:22:29.303Z"
   },
   {
    "duration": 3,
    "start_time": "2023-06-19T10:23:09.253Z"
   },
   {
    "duration": 7,
    "start_time": "2023-06-19T10:23:09.489Z"
   },
   {
    "duration": 4,
    "start_time": "2023-06-19T10:23:58.289Z"
   },
   {
    "duration": 10,
    "start_time": "2023-06-19T10:25:11.581Z"
   },
   {
    "duration": 3,
    "start_time": "2023-06-19T10:26:09.682Z"
   },
   {
    "duration": 15,
    "start_time": "2023-06-19T10:26:10.435Z"
   },
   {
    "duration": 6,
    "start_time": "2023-06-19T10:26:45.334Z"
   },
   {
    "duration": 8,
    "start_time": "2023-06-19T10:26:46.444Z"
   },
   {
    "duration": 3,
    "start_time": "2023-06-19T10:27:15.088Z"
   },
   {
    "duration": 7,
    "start_time": "2023-06-19T10:27:15.242Z"
   },
   {
    "duration": 10,
    "start_time": "2023-06-19T10:28:01.843Z"
   },
   {
    "duration": 14,
    "start_time": "2023-06-19T10:30:02.047Z"
   },
   {
    "duration": 11,
    "start_time": "2023-06-19T10:30:47.287Z"
   },
   {
    "duration": 10,
    "start_time": "2023-06-19T10:31:19.803Z"
   },
   {
    "duration": 2,
    "start_time": "2023-06-19T10:31:33.887Z"
   },
   {
    "duration": 10,
    "start_time": "2023-06-19T10:31:35.842Z"
   },
   {
    "duration": 9,
    "start_time": "2023-06-19T10:32:18.803Z"
   },
   {
    "duration": 3,
    "start_time": "2023-06-19T10:32:27.704Z"
   },
   {
    "duration": 7,
    "start_time": "2023-06-19T10:32:27.993Z"
   },
   {
    "duration": 12,
    "start_time": "2023-06-19T10:33:33.340Z"
   },
   {
    "duration": 7,
    "start_time": "2023-06-19T10:33:38.993Z"
   },
   {
    "duration": 7,
    "start_time": "2023-06-19T10:33:59.990Z"
   },
   {
    "duration": 20,
    "start_time": "2023-06-19T10:34:06.113Z"
   },
   {
    "duration": 3,
    "start_time": "2023-06-19T10:35:41.587Z"
   },
   {
    "duration": 10,
    "start_time": "2023-06-19T10:35:42.314Z"
   },
   {
    "duration": 7,
    "start_time": "2023-06-19T10:35:43.247Z"
   },
   {
    "duration": 7,
    "start_time": "2023-06-19T10:35:43.831Z"
   },
   {
    "duration": 8,
    "start_time": "2023-06-19T10:38:34.822Z"
   },
   {
    "duration": 10,
    "start_time": "2023-06-19T10:39:52.722Z"
   },
   {
    "duration": 311,
    "start_time": "2023-06-19T10:40:02.099Z"
   },
   {
    "duration": 10,
    "start_time": "2023-06-20T05:13:05.512Z"
   },
   {
    "duration": 48,
    "start_time": "2023-06-20T05:13:05.791Z"
   },
   {
    "duration": 8,
    "start_time": "2023-06-20T05:13:06.113Z"
   },
   {
    "duration": 21,
    "start_time": "2023-06-20T05:13:10.046Z"
   },
   {
    "duration": 10,
    "start_time": "2023-06-20T05:13:14.516Z"
   },
   {
    "duration": 1391,
    "start_time": "2023-06-20T05:13:27.333Z"
   },
   {
    "duration": 1595,
    "start_time": "2023-06-20T05:13:28.727Z"
   },
   {
    "duration": 25,
    "start_time": "2023-06-20T05:13:30.325Z"
   },
   {
    "duration": 64,
    "start_time": "2023-06-20T05:13:30.359Z"
   },
   {
    "duration": 110,
    "start_time": "2023-06-20T05:13:30.426Z"
   },
   {
    "duration": 98,
    "start_time": "2023-06-20T05:13:30.538Z"
   },
   {
    "duration": 105,
    "start_time": "2023-06-20T05:13:30.638Z"
   },
   {
    "duration": 116,
    "start_time": "2023-06-20T05:13:30.746Z"
   },
   {
    "duration": 144,
    "start_time": "2023-06-20T05:13:30.864Z"
   },
   {
    "duration": 121,
    "start_time": "2023-06-20T05:13:31.012Z"
   },
   {
    "duration": 25,
    "start_time": "2023-06-20T05:13:31.135Z"
   },
   {
    "duration": 73,
    "start_time": "2023-06-20T05:13:31.166Z"
   },
   {
    "duration": 72,
    "start_time": "2023-06-20T05:13:31.241Z"
   },
   {
    "duration": 97,
    "start_time": "2023-06-20T05:13:31.316Z"
   },
   {
    "duration": 105,
    "start_time": "2023-06-20T05:13:31.415Z"
   },
   {
    "duration": 78,
    "start_time": "2023-06-20T05:13:31.523Z"
   },
   {
    "duration": 81,
    "start_time": "2023-06-20T05:13:31.609Z"
   },
   {
    "duration": 80,
    "start_time": "2023-06-20T05:13:31.692Z"
   },
   {
    "duration": 59,
    "start_time": "2023-06-20T05:13:31.776Z"
   },
   {
    "duration": 18,
    "start_time": "2023-06-20T05:13:31.837Z"
   },
   {
    "duration": 22,
    "start_time": "2023-06-20T05:13:32.095Z"
   },
   {
    "duration": 43,
    "start_time": "2023-06-20T05:13:32.451Z"
   },
   {
    "duration": 3,
    "start_time": "2023-06-20T05:13:33.131Z"
   },
   {
    "duration": 38,
    "start_time": "2023-06-20T05:13:33.178Z"
   },
   {
    "duration": 97,
    "start_time": "2023-06-20T05:13:33.219Z"
   },
   {
    "duration": 36,
    "start_time": "2023-06-20T05:13:33.318Z"
   },
   {
    "duration": 95,
    "start_time": "2023-06-20T05:13:33.368Z"
   },
   {
    "duration": 34,
    "start_time": "2023-06-20T05:13:33.468Z"
   },
   {
    "duration": 112,
    "start_time": "2023-06-20T05:13:33.504Z"
   },
   {
    "duration": 4,
    "start_time": "2023-06-20T05:13:33.619Z"
   },
   {
    "duration": 38,
    "start_time": "2023-06-20T05:13:34.852Z"
   },
   {
    "duration": 47,
    "start_time": "2023-06-20T05:13:34.944Z"
   },
   {
    "duration": 83,
    "start_time": "2023-06-20T05:13:35.174Z"
   },
   {
    "duration": 65,
    "start_time": "2023-06-20T05:13:35.307Z"
   },
   {
    "duration": 31,
    "start_time": "2023-06-20T05:13:35.411Z"
   },
   {
    "duration": 5,
    "start_time": "2023-06-20T05:13:36.036Z"
   },
   {
    "duration": 4,
    "start_time": "2023-06-20T05:13:36.324Z"
   },
   {
    "duration": 5,
    "start_time": "2023-06-20T05:13:39.396Z"
   },
   {
    "duration": 22,
    "start_time": "2023-06-20T05:13:39.403Z"
   },
   {
    "duration": 13,
    "start_time": "2023-06-20T05:13:39.478Z"
   },
   {
    "duration": 11,
    "start_time": "2023-06-20T05:13:41.326Z"
   },
   {
    "duration": 106,
    "start_time": "2023-06-20T05:18:36.228Z"
   },
   {
    "duration": 20,
    "start_time": "2023-06-20T05:18:50.276Z"
   },
   {
    "duration": 13,
    "start_time": "2023-06-20T05:19:17.029Z"
   },
   {
    "duration": 8,
    "start_time": "2023-06-20T05:19:19.881Z"
   },
   {
    "duration": 13,
    "start_time": "2023-06-20T05:19:20.203Z"
   },
   {
    "duration": 27,
    "start_time": "2023-06-20T05:19:38.174Z"
   },
   {
    "duration": 16,
    "start_time": "2023-06-20T05:19:53.194Z"
   },
   {
    "duration": 17,
    "start_time": "2023-06-20T05:21:46.040Z"
   },
   {
    "duration": 18,
    "start_time": "2023-06-20T05:21:54.798Z"
   },
   {
    "duration": 26,
    "start_time": "2023-06-20T05:22:20.227Z"
   },
   {
    "duration": 17,
    "start_time": "2023-06-20T05:22:37.009Z"
   },
   {
    "duration": 18,
    "start_time": "2023-06-20T05:22:39.320Z"
   },
   {
    "duration": 14,
    "start_time": "2023-06-20T05:22:40.998Z"
   },
   {
    "duration": 15,
    "start_time": "2023-06-20T05:24:44.090Z"
   },
   {
    "duration": 18,
    "start_time": "2023-06-20T05:24:45.689Z"
   },
   {
    "duration": 23,
    "start_time": "2023-06-20T05:25:36.446Z"
   },
   {
    "duration": 33,
    "start_time": "2023-06-20T05:26:00.949Z"
   },
   {
    "duration": 41,
    "start_time": "2023-06-20T05:26:14.648Z"
   },
   {
    "duration": 4,
    "start_time": "2023-06-20T05:27:11.489Z"
   },
   {
    "duration": 29,
    "start_time": "2023-06-20T05:27:14.196Z"
   },
   {
    "duration": 8074,
    "start_time": "2023-06-20T05:29:10.076Z"
   },
   {
    "duration": 9491,
    "start_time": "2023-06-20T05:30:13.750Z"
   },
   {
    "duration": 7948,
    "start_time": "2023-06-20T05:30:27.529Z"
   },
   {
    "duration": 6,
    "start_time": "2023-06-20T05:30:50.578Z"
   },
   {
    "duration": 7322,
    "start_time": "2023-06-20T05:30:52.089Z"
   },
   {
    "duration": 17,
    "start_time": "2023-06-20T05:34:37.591Z"
   },
   {
    "duration": 7563,
    "start_time": "2023-06-20T05:34:48.728Z"
   },
   {
    "duration": 6530,
    "start_time": "2023-06-20T05:35:19.881Z"
   },
   {
    "duration": 7269,
    "start_time": "2023-06-20T05:43:56.613Z"
   },
   {
    "duration": 6174,
    "start_time": "2023-06-20T05:44:46.833Z"
   },
   {
    "duration": 84,
    "start_time": "2023-06-20T06:05:37.180Z"
   },
   {
    "duration": 6422,
    "start_time": "2023-06-20T06:05:43.046Z"
   },
   {
    "duration": 6942,
    "start_time": "2023-06-20T06:05:52.838Z"
   },
   {
    "duration": 15,
    "start_time": "2023-06-20T06:09:23.598Z"
   },
   {
    "duration": 7,
    "start_time": "2023-06-20T06:09:30.013Z"
   },
   {
    "duration": 7,
    "start_time": "2023-06-20T06:09:34.279Z"
   },
   {
    "duration": 6,
    "start_time": "2023-06-20T06:09:39.306Z"
   },
   {
    "duration": 9,
    "start_time": "2023-06-20T06:09:44.304Z"
   },
   {
    "duration": 7360,
    "start_time": "2023-06-20T06:10:12.413Z"
   },
   {
    "duration": 296,
    "start_time": "2023-06-20T06:10:29.020Z"
   },
   {
    "duration": 7656,
    "start_time": "2023-06-20T06:10:34.079Z"
   },
   {
    "duration": 6510,
    "start_time": "2023-06-20T06:10:41.738Z"
   },
   {
    "duration": 7910,
    "start_time": "2023-06-20T06:11:04.495Z"
   },
   {
    "duration": 6487,
    "start_time": "2023-06-20T06:14:18.195Z"
   },
   {
    "duration": 6779,
    "start_time": "2023-06-20T06:14:31.334Z"
   },
   {
    "duration": 6361,
    "start_time": "2023-06-20T06:14:42.232Z"
   },
   {
    "duration": 6689,
    "start_time": "2023-06-20T06:15:03.654Z"
   },
   {
    "duration": 33,
    "start_time": "2023-06-20T06:15:16.305Z"
   },
   {
    "duration": 8,
    "start_time": "2023-06-20T06:15:31.104Z"
   },
   {
    "duration": 7280,
    "start_time": "2023-06-20T06:15:59.334Z"
   },
   {
    "duration": 9149,
    "start_time": "2023-06-20T06:16:29.465Z"
   },
   {
    "duration": 9308,
    "start_time": "2023-06-20T06:17:02.279Z"
   },
   {
    "duration": 24,
    "start_time": "2023-06-20T06:17:31.790Z"
   },
   {
    "duration": 27,
    "start_time": "2023-06-20T06:17:54.378Z"
   },
   {
    "duration": 6141,
    "start_time": "2023-06-20T06:18:13.635Z"
   },
   {
    "duration": 55,
    "start_time": "2023-06-20T06:18:26.993Z"
   },
   {
    "duration": 6508,
    "start_time": "2023-06-20T06:18:30.892Z"
   },
   {
    "duration": 7455,
    "start_time": "2023-06-20T06:21:03.113Z"
   },
   {
    "duration": 7941,
    "start_time": "2023-06-20T06:23:12.069Z"
   },
   {
    "duration": 6745,
    "start_time": "2023-06-20T06:23:26.399Z"
   },
   {
    "duration": 6308,
    "start_time": "2023-06-20T06:23:47.513Z"
   },
   {
    "duration": 13082,
    "start_time": "2023-06-20T06:23:53.823Z"
   },
   {
    "duration": 8836,
    "start_time": "2023-06-20T06:24:18.979Z"
   },
   {
    "duration": 7113,
    "start_time": "2023-06-20T06:24:42.621Z"
   },
   {
    "duration": 16,
    "start_time": "2023-06-20T06:25:34.743Z"
   },
   {
    "duration": 11,
    "start_time": "2023-06-20T06:25:54.623Z"
   },
   {
    "duration": 6080,
    "start_time": "2023-06-20T06:26:55.394Z"
   },
   {
    "duration": 6420,
    "start_time": "2023-06-20T06:27:10.279Z"
   },
   {
    "duration": 6029,
    "start_time": "2023-06-20T06:27:33.289Z"
   },
   {
    "duration": 5956,
    "start_time": "2023-06-20T06:27:52.296Z"
   },
   {
    "duration": 7837,
    "start_time": "2023-06-20T06:30:15.109Z"
   },
   {
    "duration": 871,
    "start_time": "2023-06-20T06:30:52.632Z"
   },
   {
    "duration": 902,
    "start_time": "2023-06-20T06:31:21.281Z"
   },
   {
    "duration": 381,
    "start_time": "2023-06-20T06:33:26.312Z"
   },
   {
    "duration": 4,
    "start_time": "2023-06-20T06:50:33.388Z"
   },
   {
    "duration": 19,
    "start_time": "2023-06-20T06:50:46.945Z"
   },
   {
    "duration": 4,
    "start_time": "2023-06-20T06:51:22.345Z"
   },
   {
    "duration": 14,
    "start_time": "2023-06-20T06:51:23.122Z"
   },
   {
    "duration": 15,
    "start_time": "2023-06-20T06:51:26.974Z"
   },
   {
    "duration": 10,
    "start_time": "2023-06-20T06:51:42.151Z"
   },
   {
    "duration": 11,
    "start_time": "2023-06-20T06:51:42.606Z"
   },
   {
    "duration": 19,
    "start_time": "2023-06-20T06:51:43.070Z"
   },
   {
    "duration": 5,
    "start_time": "2023-06-20T06:51:53.808Z"
   },
   {
    "duration": 13,
    "start_time": "2023-06-20T06:51:54.830Z"
   },
   {
    "duration": 31,
    "start_time": "2023-06-20T06:51:55.937Z"
   },
   {
    "duration": 4,
    "start_time": "2023-06-20T06:53:19.183Z"
   },
   {
    "duration": 12,
    "start_time": "2023-06-20T06:53:19.831Z"
   },
   {
    "duration": 18,
    "start_time": "2023-06-20T06:53:20.096Z"
   },
   {
    "duration": 7,
    "start_time": "2023-06-20T06:56:09.914Z"
   },
   {
    "duration": 14,
    "start_time": "2023-06-20T06:56:11.102Z"
   },
   {
    "duration": 8,
    "start_time": "2023-06-20T06:56:12.221Z"
   },
   {
    "duration": 10,
    "start_time": "2023-06-20T06:56:30.378Z"
   },
   {
    "duration": 12,
    "start_time": "2023-06-20T06:56:32.202Z"
   },
   {
    "duration": 10,
    "start_time": "2023-06-20T06:56:59.783Z"
   },
   {
    "duration": 16,
    "start_time": "2023-06-20T06:57:01.292Z"
   },
   {
    "duration": 1157,
    "start_time": "2023-06-20T06:59:14.186Z"
   },
   {
    "duration": 1608,
    "start_time": "2023-06-20T06:59:32.815Z"
   },
   {
    "duration": 1624,
    "start_time": "2023-06-20T06:59:52.960Z"
   },
   {
    "duration": 6758,
    "start_time": "2023-06-20T07:04:08.901Z"
   },
   {
    "duration": 4,
    "start_time": "2023-06-20T07:06:11.420Z"
   },
   {
    "duration": 18,
    "start_time": "2023-06-20T07:06:11.844Z"
   },
   {
    "duration": 9,
    "start_time": "2023-06-20T07:06:12.489Z"
   },
   {
    "duration": 21,
    "start_time": "2023-06-20T07:06:13.149Z"
   },
   {
    "duration": 5516,
    "start_time": "2023-06-20T07:06:20.224Z"
   },
   {
    "duration": 1699,
    "start_time": "2023-06-20T07:06:29.721Z"
   },
   {
    "duration": 1788,
    "start_time": "2023-06-20T07:06:31.423Z"
   },
   {
    "duration": 24,
    "start_time": "2023-06-20T07:06:52.983Z"
   },
   {
    "duration": 5290,
    "start_time": "2023-06-20T07:06:59.288Z"
   },
   {
    "duration": 5256,
    "start_time": "2023-06-20T07:07:08.881Z"
   },
   {
    "duration": 1469,
    "start_time": "2023-06-20T07:08:55.416Z"
   },
   {
    "duration": 555,
    "start_time": "2023-06-20T07:08:56.892Z"
   },
   {
    "duration": 26,
    "start_time": "2023-06-20T07:08:57.449Z"
   },
   {
    "duration": 40,
    "start_time": "2023-06-20T07:08:57.478Z"
   },
   {
    "duration": 15,
    "start_time": "2023-06-20T07:08:57.521Z"
   },
   {
    "duration": 46,
    "start_time": "2023-06-20T07:08:57.537Z"
   },
   {
    "duration": 55,
    "start_time": "2023-06-20T07:08:57.591Z"
   },
   {
    "duration": 127,
    "start_time": "2023-06-20T07:08:57.648Z"
   },
   {
    "duration": 58,
    "start_time": "2023-06-20T07:08:57.780Z"
   },
   {
    "duration": 163,
    "start_time": "2023-06-20T07:08:57.840Z"
   },
   {
    "duration": 20,
    "start_time": "2023-06-20T07:08:58.005Z"
   },
   {
    "duration": 14,
    "start_time": "2023-06-20T07:08:58.027Z"
   },
   {
    "duration": 36,
    "start_time": "2023-06-20T07:08:58.044Z"
   },
   {
    "duration": 92,
    "start_time": "2023-06-20T07:08:58.083Z"
   },
   {
    "duration": 68,
    "start_time": "2023-06-20T07:08:58.177Z"
   },
   {
    "duration": 77,
    "start_time": "2023-06-20T07:08:58.247Z"
   },
   {
    "duration": 81,
    "start_time": "2023-06-20T07:08:58.327Z"
   },
   {
    "duration": 80,
    "start_time": "2023-06-20T07:08:58.411Z"
   },
   {
    "duration": 135,
    "start_time": "2023-06-20T07:08:58.493Z"
   },
   {
    "duration": 38,
    "start_time": "2023-06-20T07:08:58.630Z"
   },
   {
    "duration": 102,
    "start_time": "2023-06-20T07:08:58.671Z"
   },
   {
    "duration": 48,
    "start_time": "2023-06-20T07:08:58.790Z"
   },
   {
    "duration": 4,
    "start_time": "2023-06-20T07:08:58.842Z"
   },
   {
    "duration": 95,
    "start_time": "2023-06-20T07:08:58.848Z"
   },
   {
    "duration": 126,
    "start_time": "2023-06-20T07:08:58.946Z"
   },
   {
    "duration": 35,
    "start_time": "2023-06-20T07:08:59.074Z"
   },
   {
    "duration": 88,
    "start_time": "2023-06-20T07:08:59.111Z"
   },
   {
    "duration": 27,
    "start_time": "2023-06-20T07:08:59.200Z"
   },
   {
    "duration": 98,
    "start_time": "2023-06-20T07:08:59.229Z"
   },
   {
    "duration": 4,
    "start_time": "2023-06-20T07:08:59.329Z"
   },
   {
    "duration": 106,
    "start_time": "2023-06-20T07:08:59.334Z"
   },
   {
    "duration": 86,
    "start_time": "2023-06-20T07:08:59.442Z"
   },
   {
    "duration": 73,
    "start_time": "2023-06-20T07:08:59.530Z"
   },
   {
    "duration": 153,
    "start_time": "2023-06-20T07:08:59.651Z"
   },
   {
    "duration": 21,
    "start_time": "2023-06-20T07:08:59.807Z"
   },
   {
    "duration": 6,
    "start_time": "2023-06-20T07:08:59.830Z"
   },
   {
    "duration": 47,
    "start_time": "2023-06-20T07:08:59.837Z"
   },
   {
    "duration": 18,
    "start_time": "2023-06-20T07:08:59.899Z"
   },
   {
    "duration": 19,
    "start_time": "2023-06-20T07:08:59.920Z"
   },
   {
    "duration": 16,
    "start_time": "2023-06-20T07:08:59.942Z"
   },
   {
    "duration": 42,
    "start_time": "2023-06-20T07:08:59.963Z"
   },
   {
    "duration": 6292,
    "start_time": "2023-06-20T07:09:00.007Z"
   },
   {
    "duration": 6172,
    "start_time": "2023-06-20T07:09:06.304Z"
   },
   {
    "duration": 5924,
    "start_time": "2023-06-20T07:09:12.477Z"
   },
   {
    "duration": 3373,
    "start_time": "2023-06-20T08:00:14.269Z"
   },
   {
    "duration": 2342,
    "start_time": "2023-06-20T08:00:17.644Z"
   },
   {
    "duration": 20,
    "start_time": "2023-06-20T08:00:19.987Z"
   },
   {
    "duration": 32,
    "start_time": "2023-06-20T08:00:20.009Z"
   },
   {
    "duration": 35,
    "start_time": "2023-06-20T08:00:20.043Z"
   },
   {
    "duration": 42,
    "start_time": "2023-06-20T08:00:20.079Z"
   },
   {
    "duration": 31,
    "start_time": "2023-06-20T08:00:20.123Z"
   },
   {
    "duration": 37,
    "start_time": "2023-06-20T08:00:20.156Z"
   },
   {
    "duration": 47,
    "start_time": "2023-06-20T08:00:20.194Z"
   },
   {
    "duration": 97,
    "start_time": "2023-06-20T08:00:20.242Z"
   },
   {
    "duration": 15,
    "start_time": "2023-06-20T08:00:20.340Z"
   },
   {
    "duration": 31,
    "start_time": "2023-06-20T08:00:20.356Z"
   },
   {
    "duration": 21,
    "start_time": "2023-06-20T08:00:20.389Z"
   },
   {
    "duration": 57,
    "start_time": "2023-06-20T08:00:20.413Z"
   },
   {
    "duration": 47,
    "start_time": "2023-06-20T08:00:20.472Z"
   },
   {
    "duration": 68,
    "start_time": "2023-06-20T08:00:20.521Z"
   },
   {
    "duration": 38,
    "start_time": "2023-06-20T08:00:20.591Z"
   },
   {
    "duration": 57,
    "start_time": "2023-06-20T08:00:20.631Z"
   },
   {
    "duration": 44,
    "start_time": "2023-06-20T08:00:20.690Z"
   },
   {
    "duration": 16,
    "start_time": "2023-06-20T08:00:20.736Z"
   },
   {
    "duration": 17,
    "start_time": "2023-06-20T08:00:20.774Z"
   },
   {
    "duration": 28,
    "start_time": "2023-06-20T08:00:20.792Z"
   },
   {
    "duration": 4,
    "start_time": "2023-06-20T08:00:20.822Z"
   },
   {
    "duration": 22,
    "start_time": "2023-06-20T08:00:20.827Z"
   },
   {
    "duration": 71,
    "start_time": "2023-06-20T08:00:20.850Z"
   },
   {
    "duration": 28,
    "start_time": "2023-06-20T08:00:20.923Z"
   },
   {
    "duration": 74,
    "start_time": "2023-06-20T08:00:20.953Z"
   },
   {
    "duration": 42,
    "start_time": "2023-06-20T08:00:21.029Z"
   },
   {
    "duration": 60,
    "start_time": "2023-06-20T08:00:21.073Z"
   },
   {
    "duration": 3,
    "start_time": "2023-06-20T08:00:21.135Z"
   },
   {
    "duration": 50,
    "start_time": "2023-06-20T08:00:21.139Z"
   },
   {
    "duration": 43,
    "start_time": "2023-06-20T08:00:21.191Z"
   },
   {
    "duration": 48,
    "start_time": "2023-06-20T08:00:21.235Z"
   },
   {
    "duration": 8,
    "start_time": "2023-06-20T08:00:21.286Z"
   },
   {
    "duration": 79,
    "start_time": "2023-06-20T08:00:21.296Z"
   },
   {
    "duration": 10,
    "start_time": "2023-06-20T08:00:21.377Z"
   },
   {
    "duration": 118,
    "start_time": "2023-06-20T08:00:21.389Z"
   },
   {
    "duration": 12,
    "start_time": "2023-06-20T08:00:21.509Z"
   },
   {
    "duration": 19,
    "start_time": "2023-06-20T08:00:21.523Z"
   },
   {
    "duration": 11,
    "start_time": "2023-06-20T08:00:21.544Z"
   },
   {
    "duration": 14,
    "start_time": "2023-06-20T08:00:21.561Z"
   },
   {
    "duration": 4964,
    "start_time": "2023-06-20T08:00:21.578Z"
   },
   {
    "duration": 4511,
    "start_time": "2023-06-20T08:00:26.543Z"
   },
   {
    "duration": 4571,
    "start_time": "2023-06-20T08:00:31.056Z"
   },
   {
    "duration": 987,
    "start_time": "2023-06-20T08:00:35.629Z"
   },
   {
    "duration": 1021,
    "start_time": "2023-06-20T08:00:47.044Z"
   },
   {
    "duration": 4404,
    "start_time": "2023-06-20T08:00:54.690Z"
   },
   {
    "duration": 4553,
    "start_time": "2023-06-20T08:00:59.096Z"
   },
   {
    "duration": 4927,
    "start_time": "2023-06-20T08:01:03.651Z"
   },
   {
    "duration": 65,
    "start_time": "2023-06-21T06:16:56.764Z"
   },
   {
    "duration": 61,
    "start_time": "2023-06-21T06:17:04.790Z"
   },
   {
    "duration": 84,
    "start_time": "2023-06-21T06:17:12.430Z"
   },
   {
    "duration": 4,
    "start_time": "2023-06-21T06:18:55.856Z"
   },
   {
    "duration": 81,
    "start_time": "2023-06-21T06:19:12.107Z"
   },
   {
    "duration": 58,
    "start_time": "2023-06-21T06:25:48.797Z"
   },
   {
    "duration": 1571,
    "start_time": "2023-06-21T06:25:58.001Z"
   },
   {
    "duration": 1390,
    "start_time": "2023-06-21T06:25:59.574Z"
   },
   {
    "duration": 30,
    "start_time": "2023-06-21T06:26:00.966Z"
   },
   {
    "duration": 146,
    "start_time": "2023-06-21T06:26:00.997Z"
   },
   {
    "duration": 113,
    "start_time": "2023-06-21T06:26:01.146Z"
   },
   {
    "duration": 150,
    "start_time": "2023-06-21T06:26:01.261Z"
   },
   {
    "duration": 129,
    "start_time": "2023-06-21T06:26:01.414Z"
   },
   {
    "duration": 121,
    "start_time": "2023-06-21T06:26:01.545Z"
   },
   {
    "duration": 280,
    "start_time": "2023-06-21T06:26:01.668Z"
   },
   {
    "duration": 201,
    "start_time": "2023-06-21T06:26:01.950Z"
   },
   {
    "duration": 57,
    "start_time": "2023-06-21T06:26:02.153Z"
   },
   {
    "duration": 174,
    "start_time": "2023-06-21T06:26:02.214Z"
   },
   {
    "duration": 82,
    "start_time": "2023-06-21T06:26:02.396Z"
   },
   {
    "duration": 116,
    "start_time": "2023-06-21T06:26:02.490Z"
   },
   {
    "duration": 57,
    "start_time": "2023-06-21T06:26:02.614Z"
   },
   {
    "duration": 74,
    "start_time": "2023-06-21T06:26:02.674Z"
   },
   {
    "duration": 66,
    "start_time": "2023-06-21T06:26:02.750Z"
   },
   {
    "duration": 54,
    "start_time": "2023-06-21T06:26:02.819Z"
   },
   {
    "duration": 69,
    "start_time": "2023-06-21T06:26:02.876Z"
   },
   {
    "duration": 18,
    "start_time": "2023-06-21T06:26:02.947Z"
   },
   {
    "duration": 93,
    "start_time": "2023-06-21T06:26:02.966Z"
   },
   {
    "duration": 81,
    "start_time": "2023-06-21T06:26:03.061Z"
   },
   {
    "duration": 17,
    "start_time": "2023-06-21T06:26:03.144Z"
   },
   {
    "duration": 141,
    "start_time": "2023-06-21T06:26:03.163Z"
   },
   {
    "duration": 100,
    "start_time": "2023-06-21T06:26:03.306Z"
   },
   {
    "duration": 29,
    "start_time": "2023-06-21T06:26:03.408Z"
   },
   {
    "duration": 108,
    "start_time": "2023-06-21T06:26:03.438Z"
   },
   {
    "duration": 38,
    "start_time": "2023-06-21T06:26:03.548Z"
   },
   {
    "duration": 118,
    "start_time": "2023-06-21T06:26:03.591Z"
   },
   {
    "duration": 4,
    "start_time": "2023-06-21T06:26:03.711Z"
   },
   {
    "duration": 51,
    "start_time": "2023-06-21T06:26:03.716Z"
   },
   {
    "duration": 79,
    "start_time": "2023-06-21T06:26:03.768Z"
   },
   {
    "duration": 131,
    "start_time": "2023-06-21T06:26:03.849Z"
   },
   {
    "duration": 100,
    "start_time": "2023-06-21T06:26:03.983Z"
   },
   {
    "duration": 58,
    "start_time": "2023-06-21T06:26:04.087Z"
   },
   {
    "duration": 4,
    "start_time": "2023-06-21T06:26:04.147Z"
   },
   {
    "duration": 19,
    "start_time": "2023-06-21T06:26:04.154Z"
   },
   {
    "duration": 34,
    "start_time": "2023-06-21T06:26:04.175Z"
   },
   {
    "duration": 29,
    "start_time": "2023-06-21T06:26:04.212Z"
   },
   {
    "duration": 11,
    "start_time": "2023-06-21T06:26:04.243Z"
   },
   {
    "duration": 10,
    "start_time": "2023-06-21T06:26:04.260Z"
   },
   {
    "duration": 6073,
    "start_time": "2023-06-21T06:26:04.273Z"
   },
   {
    "duration": 5941,
    "start_time": "2023-06-21T06:26:10.348Z"
   },
   {
    "duration": 0,
    "start_time": "2023-06-21T06:26:16.295Z"
   },
   {
    "duration": 5914,
    "start_time": "2023-06-21T06:26:52.245Z"
   },
   {
    "duration": 5459,
    "start_time": "2023-06-21T06:27:12.726Z"
   },
   {
    "duration": 10715,
    "start_time": "2023-06-21T06:27:26.167Z"
   },
   {
    "duration": 11437,
    "start_time": "2023-06-21T06:30:56.845Z"
   },
   {
    "duration": 1256,
    "start_time": "2023-06-21T06:32:28.268Z"
   },
   {
    "duration": 474,
    "start_time": "2023-06-21T06:32:29.526Z"
   },
   {
    "duration": 24,
    "start_time": "2023-06-21T06:32:30.002Z"
   },
   {
    "duration": 45,
    "start_time": "2023-06-21T06:32:30.028Z"
   },
   {
    "duration": 76,
    "start_time": "2023-06-21T06:32:30.076Z"
   },
   {
    "duration": 73,
    "start_time": "2023-06-21T06:32:30.154Z"
   },
   {
    "duration": 68,
    "start_time": "2023-06-21T06:32:30.229Z"
   },
   {
    "duration": 70,
    "start_time": "2023-06-21T06:32:30.299Z"
   },
   {
    "duration": 98,
    "start_time": "2023-06-21T06:32:30.371Z"
   },
   {
    "duration": 213,
    "start_time": "2023-06-21T06:32:30.472Z"
   },
   {
    "duration": 27,
    "start_time": "2023-06-21T06:32:30.691Z"
   },
   {
    "duration": 24,
    "start_time": "2023-06-21T06:32:30.721Z"
   },
   {
    "duration": 59,
    "start_time": "2023-06-21T06:32:30.747Z"
   },
   {
    "duration": 85,
    "start_time": "2023-06-21T06:32:30.809Z"
   },
   {
    "duration": 56,
    "start_time": "2023-06-21T06:32:30.903Z"
   },
   {
    "duration": 71,
    "start_time": "2023-06-21T06:32:30.961Z"
   },
   {
    "duration": 80,
    "start_time": "2023-06-21T06:32:31.034Z"
   },
   {
    "duration": 93,
    "start_time": "2023-06-21T06:32:31.118Z"
   },
   {
    "duration": 87,
    "start_time": "2023-06-21T06:32:31.213Z"
   },
   {
    "duration": 35,
    "start_time": "2023-06-21T06:32:31.305Z"
   },
   {
    "duration": 43,
    "start_time": "2023-06-21T06:32:31.342Z"
   },
   {
    "duration": 49,
    "start_time": "2023-06-21T06:32:31.390Z"
   },
   {
    "duration": 29,
    "start_time": "2023-06-21T06:32:31.441Z"
   },
   {
    "duration": 66,
    "start_time": "2023-06-21T06:32:31.473Z"
   },
   {
    "duration": 131,
    "start_time": "2023-06-21T06:32:31.541Z"
   },
   {
    "duration": 62,
    "start_time": "2023-06-21T06:32:31.674Z"
   },
   {
    "duration": 176,
    "start_time": "2023-06-21T06:32:31.738Z"
   },
   {
    "duration": 75,
    "start_time": "2023-06-21T06:32:31.918Z"
   },
   {
    "duration": 129,
    "start_time": "2023-06-21T06:32:31.995Z"
   },
   {
    "duration": 6,
    "start_time": "2023-06-21T06:32:32.125Z"
   },
   {
    "duration": 40,
    "start_time": "2023-06-21T06:32:32.133Z"
   },
   {
    "duration": 101,
    "start_time": "2023-06-21T06:32:32.178Z"
   },
   {
    "duration": 117,
    "start_time": "2023-06-21T06:32:32.281Z"
   },
   {
    "duration": 110,
    "start_time": "2023-06-21T06:32:32.404Z"
   },
   {
    "duration": 26,
    "start_time": "2023-06-21T06:32:32.520Z"
   },
   {
    "duration": 41,
    "start_time": "2023-06-21T06:32:32.547Z"
   },
   {
    "duration": 30,
    "start_time": "2023-06-21T06:32:32.596Z"
   },
   {
    "duration": 43,
    "start_time": "2023-06-21T06:32:32.629Z"
   },
   {
    "duration": 73,
    "start_time": "2023-06-21T06:32:32.674Z"
   },
   {
    "duration": 10,
    "start_time": "2023-06-21T06:32:32.749Z"
   },
   {
    "duration": 13,
    "start_time": "2023-06-21T06:32:32.761Z"
   },
   {
    "duration": 5280,
    "start_time": "2023-06-21T06:32:32.781Z"
   },
   {
    "duration": 5232,
    "start_time": "2023-06-21T06:32:38.063Z"
   },
   {
    "duration": 5323,
    "start_time": "2023-06-21T06:32:43.302Z"
   },
   {
    "duration": 5184,
    "start_time": "2023-06-21T08:37:44.313Z"
   },
   {
    "duration": 1630,
    "start_time": "2023-06-21T08:37:49.501Z"
   },
   {
    "duration": 35,
    "start_time": "2023-06-21T08:37:51.133Z"
   },
   {
    "duration": 65,
    "start_time": "2023-06-21T08:37:51.170Z"
   },
   {
    "duration": 32,
    "start_time": "2023-06-21T08:37:51.239Z"
   },
   {
    "duration": 76,
    "start_time": "2023-06-21T08:37:51.274Z"
   },
   {
    "duration": 59,
    "start_time": "2023-06-21T08:37:51.357Z"
   },
   {
    "duration": 47,
    "start_time": "2023-06-21T08:37:51.419Z"
   },
   {
    "duration": 56,
    "start_time": "2023-06-21T08:37:51.473Z"
   },
   {
    "duration": 103,
    "start_time": "2023-06-21T08:37:51.530Z"
   },
   {
    "duration": 25,
    "start_time": "2023-06-21T08:37:51.635Z"
   },
   {
    "duration": 48,
    "start_time": "2023-06-21T08:37:51.666Z"
   },
   {
    "duration": 15,
    "start_time": "2023-06-21T08:37:51.716Z"
   },
   {
    "duration": 67,
    "start_time": "2023-06-21T08:37:51.734Z"
   },
   {
    "duration": 67,
    "start_time": "2023-06-21T08:37:51.803Z"
   },
   {
    "duration": 73,
    "start_time": "2023-06-21T08:37:51.878Z"
   },
   {
    "duration": 53,
    "start_time": "2023-06-21T08:37:51.964Z"
   },
   {
    "duration": 62,
    "start_time": "2023-06-21T08:37:52.019Z"
   },
   {
    "duration": 62,
    "start_time": "2023-06-21T08:37:52.083Z"
   },
   {
    "duration": 89,
    "start_time": "2023-06-21T08:37:52.146Z"
   },
   {
    "duration": 100,
    "start_time": "2023-06-21T08:37:52.237Z"
   },
   {
    "duration": 175,
    "start_time": "2023-06-21T08:37:52.339Z"
   },
   {
    "duration": 15,
    "start_time": "2023-06-21T08:37:52.516Z"
   },
   {
    "duration": 53,
    "start_time": "2023-06-21T08:37:52.533Z"
   },
   {
    "duration": 96,
    "start_time": "2023-06-21T08:37:52.594Z"
   },
   {
    "duration": 25,
    "start_time": "2023-06-21T08:37:52.692Z"
   },
   {
    "duration": 87,
    "start_time": "2023-06-21T08:37:52.719Z"
   },
   {
    "duration": 52,
    "start_time": "2023-06-21T08:37:52.808Z"
   },
   {
    "duration": 88,
    "start_time": "2023-06-21T08:37:52.863Z"
   },
   {
    "duration": 7,
    "start_time": "2023-06-21T08:37:52.963Z"
   },
   {
    "duration": 51,
    "start_time": "2023-06-21T08:37:52.972Z"
   },
   {
    "duration": 53,
    "start_time": "2023-06-21T08:37:53.025Z"
   },
   {
    "duration": 94,
    "start_time": "2023-06-21T08:37:53.079Z"
   },
   {
    "duration": 87,
    "start_time": "2023-06-21T08:37:53.190Z"
   },
   {
    "duration": 114,
    "start_time": "2023-06-21T08:37:53.305Z"
   },
   {
    "duration": 10,
    "start_time": "2023-06-21T08:37:53.421Z"
   },
   {
    "duration": 16,
    "start_time": "2023-06-21T08:37:53.434Z"
   },
   {
    "duration": 63,
    "start_time": "2023-06-21T08:37:53.451Z"
   },
   {
    "duration": 17,
    "start_time": "2023-06-21T08:37:53.516Z"
   },
   {
    "duration": 12,
    "start_time": "2023-06-21T08:37:53.535Z"
   },
   {
    "duration": 34,
    "start_time": "2023-06-21T08:37:53.551Z"
   },
   {
    "duration": 1131,
    "start_time": "2023-06-21T08:38:10.590Z"
   },
   {
    "duration": 1158,
    "start_time": "2023-06-21T08:38:11.723Z"
   },
   {
    "duration": 1094,
    "start_time": "2023-06-21T08:38:12.883Z"
   },
   {
    "duration": 5922,
    "start_time": "2023-06-21T08:39:23.623Z"
   },
   {
    "duration": 5599,
    "start_time": "2023-06-21T08:39:29.548Z"
   },
   {
    "duration": 1587,
    "start_time": "2023-06-21T09:17:19.218Z"
   },
   {
    "duration": 2129,
    "start_time": "2023-06-21T09:17:20.814Z"
   },
   {
    "duration": 41,
    "start_time": "2023-06-21T09:17:22.944Z"
   },
   {
    "duration": 78,
    "start_time": "2023-06-21T09:17:22.987Z"
   },
   {
    "duration": 81,
    "start_time": "2023-06-21T09:17:23.074Z"
   },
   {
    "duration": 115,
    "start_time": "2023-06-21T09:17:23.157Z"
   },
   {
    "duration": 137,
    "start_time": "2023-06-21T09:17:23.274Z"
   },
   {
    "duration": 160,
    "start_time": "2023-06-21T09:17:23.412Z"
   },
   {
    "duration": 86,
    "start_time": "2023-06-21T09:17:23.574Z"
   },
   {
    "duration": 179,
    "start_time": "2023-06-21T09:17:23.667Z"
   },
   {
    "duration": 34,
    "start_time": "2023-06-21T09:17:23.848Z"
   },
   {
    "duration": 123,
    "start_time": "2023-06-21T09:17:23.887Z"
   },
   {
    "duration": 73,
    "start_time": "2023-06-21T09:17:24.016Z"
   },
   {
    "duration": 193,
    "start_time": "2023-06-21T09:17:24.105Z"
   },
   {
    "duration": 84,
    "start_time": "2023-06-21T09:17:24.302Z"
   },
   {
    "duration": 138,
    "start_time": "2023-06-21T09:17:24.392Z"
   },
   {
    "duration": 55,
    "start_time": "2023-06-21T09:17:24.532Z"
   },
   {
    "duration": 61,
    "start_time": "2023-06-21T09:17:24.590Z"
   },
   {
    "duration": 76,
    "start_time": "2023-06-21T09:17:24.667Z"
   },
   {
    "duration": 85,
    "start_time": "2023-06-21T09:17:24.745Z"
   },
   {
    "duration": 88,
    "start_time": "2023-06-21T09:17:24.832Z"
   },
   {
    "duration": 35,
    "start_time": "2023-06-21T09:17:24.924Z"
   },
   {
    "duration": 58,
    "start_time": "2023-06-21T09:17:24.970Z"
   },
   {
    "duration": 83,
    "start_time": "2023-06-21T09:17:25.030Z"
   },
   {
    "duration": 120,
    "start_time": "2023-06-21T09:17:25.124Z"
   },
   {
    "duration": 58,
    "start_time": "2023-06-21T09:17:25.246Z"
   },
   {
    "duration": 133,
    "start_time": "2023-06-21T09:17:25.306Z"
   },
   {
    "duration": 121,
    "start_time": "2023-06-21T09:17:25.440Z"
   },
   {
    "duration": 172,
    "start_time": "2023-06-21T09:17:25.562Z"
   },
   {
    "duration": 17,
    "start_time": "2023-06-21T09:17:25.736Z"
   },
   {
    "duration": 99,
    "start_time": "2023-06-21T09:17:25.755Z"
   },
   {
    "duration": 109,
    "start_time": "2023-06-21T09:17:25.861Z"
   },
   {
    "duration": 95,
    "start_time": "2023-06-21T09:17:25.978Z"
   },
   {
    "duration": 62,
    "start_time": "2023-06-21T09:17:26.097Z"
   },
   {
    "duration": 82,
    "start_time": "2023-06-21T09:17:26.164Z"
   },
   {
    "duration": 27,
    "start_time": "2023-06-21T09:17:26.249Z"
   },
   {
    "duration": 84,
    "start_time": "2023-06-21T09:17:26.277Z"
   },
   {
    "duration": 80,
    "start_time": "2023-06-21T09:17:26.363Z"
   },
   {
    "duration": 80,
    "start_time": "2023-06-21T09:17:26.446Z"
   },
   {
    "duration": 33,
    "start_time": "2023-06-21T09:17:26.527Z"
   },
   {
    "duration": 63,
    "start_time": "2023-06-21T09:17:26.566Z"
   },
   {
    "duration": 1272,
    "start_time": "2023-06-21T09:17:26.639Z"
   },
   {
    "duration": 1235,
    "start_time": "2023-06-21T09:17:27.913Z"
   },
   {
    "duration": 1587,
    "start_time": "2023-06-21T09:17:29.150Z"
   }
  ],
  "kernelspec": {
   "display_name": "Python 3 (ipykernel)",
   "language": "python",
   "name": "python3"
  },
  "language_info": {
   "codemirror_mode": {
    "name": "ipython",
    "version": 3
   },
   "file_extension": ".py",
   "mimetype": "text/x-python",
   "name": "python",
   "nbconvert_exporter": "python",
   "pygments_lexer": "ipython3",
   "version": "3.9.5"
  },
  "toc": {
   "base_numbering": 1,
   "nav_menu": {},
   "number_sections": true,
   "sideBar": true,
   "skip_h1_title": true,
   "title_cell": "Table of Contents",
   "title_sidebar": "Contents",
   "toc_cell": false,
   "toc_position": {},
   "toc_section_display": true,
   "toc_window_display": false
  }
 },
 "nbformat": 4,
 "nbformat_minor": 2
}
