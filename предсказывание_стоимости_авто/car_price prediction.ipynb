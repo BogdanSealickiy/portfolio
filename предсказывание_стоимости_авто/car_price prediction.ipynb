{
 "cells": [
  {
   "cell_type": "markdown",
   "metadata": {},
   "source": [
    "# Определение стоимости автомобилей"
   ]
  },
  {
   "cell_type": "markdown",
   "metadata": {},
   "source": [
    "Сервис по продаже автомобилей с пробегом «Не бит, не крашен» разрабатывает приложение для привлечения новых клиентов. В нём можно быстро узнать рыночную стоимость своего автомобиля. В вашем распоряжении исторические данные: технические характеристики, комплектации и цены автомобилей. Вам нужно построить модель для определения стоимости. \n",
    "\n",
    "Заказчику важны:\n",
    "\n",
    "- качество предсказания;\n",
    "- скорость предсказания;\n",
    "- время обучения."
   ]
  },
  {
   "cell_type": "markdown",
   "metadata": {},
   "source": [
    "# Подготовка данных"
   ]
  },
  {
   "cell_type": "markdown",
   "metadata": {},
   "source": [
    "для начала строит взглянуть на данные и познакомиться с ними"
   ]
  },
  {
   "cell_type": "markdown",
   "metadata": {},
   "source": [
    "## Загрузка датасета"
   ]
  },
  {
   "cell_type": "code",
   "execution_count": 1,
   "metadata": {
    "scrolled": true
   },
   "outputs": [
    {
     "name": "stdout",
     "output_type": "stream",
     "text": [
      "Collecting category_encoders\n",
      "  Downloading category_encoders-2.6.3-py2.py3-none-any.whl (81 kB)\n",
      "\u001b[K     |████████████████████████████████| 81 kB 848 kB/s eta 0:00:01\n",
      "\u001b[?25hRequirement already satisfied: statsmodels>=0.9.0 in /opt/conda/lib/python3.9/site-packages (from category_encoders) (0.13.2)\n",
      "Requirement already satisfied: patsy>=0.5.1 in /opt/conda/lib/python3.9/site-packages (from category_encoders) (0.5.2)\n",
      "Requirement already satisfied: scipy>=1.0.0 in /opt/conda/lib/python3.9/site-packages (from category_encoders) (1.9.1)\n",
      "Requirement already satisfied: pandas>=1.0.5 in /opt/conda/lib/python3.9/site-packages (from category_encoders) (1.2.4)\n",
      "Requirement already satisfied: scikit-learn>=0.20.0 in /opt/conda/lib/python3.9/site-packages (from category_encoders) (0.24.1)\n",
      "Requirement already satisfied: numpy>=1.14.0 in /opt/conda/lib/python3.9/site-packages (from category_encoders) (1.21.1)\n",
      "Requirement already satisfied: python-dateutil>=2.7.3 in /opt/conda/lib/python3.9/site-packages (from pandas>=1.0.5->category_encoders) (2.8.1)\n",
      "Requirement already satisfied: pytz>=2017.3 in /opt/conda/lib/python3.9/site-packages (from pandas>=1.0.5->category_encoders) (2021.1)\n",
      "Requirement already satisfied: six in /opt/conda/lib/python3.9/site-packages (from patsy>=0.5.1->category_encoders) (1.16.0)\n",
      "Requirement already satisfied: joblib>=0.11 in /opt/conda/lib/python3.9/site-packages (from scikit-learn>=0.20.0->category_encoders) (1.1.0)\n",
      "Requirement already satisfied: threadpoolctl>=2.0.0 in /opt/conda/lib/python3.9/site-packages (from scikit-learn>=0.20.0->category_encoders) (3.1.0)\n",
      "Requirement already satisfied: packaging>=21.3 in /opt/conda/lib/python3.9/site-packages (from statsmodels>=0.9.0->category_encoders) (21.3)\n",
      "Requirement already satisfied: pyparsing!=3.0.5,>=2.0.2 in /opt/conda/lib/python3.9/site-packages (from packaging>=21.3->statsmodels>=0.9.0->category_encoders) (2.4.7)\n",
      "Installing collected packages: category-encoders\n",
      "Successfully installed category-encoders-2.6.3\n",
      "Note: you may need to restart the kernel to use updated packages.\n"
     ]
    }
   ],
   "source": [
    "pip install category_encoders\n"
   ]
  },
  {
   "cell_type": "code",
   "execution_count": 2,
   "metadata": {},
   "outputs": [],
   "source": [
    "import pandas as pd\n",
    "import numpy as np\n",
    "import seaborn as sns\n",
    "import matplotlib.pyplot as plt\n",
    "from sklearn.preprocessing import OrdinalEncoder\n",
    "import category_encoders as ce\n",
    "from sklearn.preprocessing import StandardScaler\n",
    "from sklearn.model_selection import train_test_split\n",
    "from sklearn.linear_model import LinearRegression\n",
    "from sklearn.metrics import mean_squared_error\n",
    "from sklearn.model_selection import cross_val_score\n",
    "from sklearn.linear_model import Ridge\n",
    "from sklearn.linear_model import Lasso\n",
    "from sklearn.linear_model import SGDRegressor\n",
    "from sklearn.tree import DecisionTreeRegressor\n",
    "from sklearn.ensemble import RandomForestRegressor\n",
    "from sklearn.model_selection import GridSearchCV\n",
    "import lightgbm as lgb\n",
    "from sklearn.preprocessing import OneHotEncoder"
   ]
  },
  {
   "cell_type": "code",
   "execution_count": 3,
   "metadata": {
    "scrolled": true
   },
   "outputs": [
    {
     "data": {
      "text/html": [
       "<div>\n",
       "<style scoped>\n",
       "    .dataframe tbody tr th:only-of-type {\n",
       "        vertical-align: middle;\n",
       "    }\n",
       "\n",
       "    .dataframe tbody tr th {\n",
       "        vertical-align: top;\n",
       "    }\n",
       "\n",
       "    .dataframe thead th {\n",
       "        text-align: right;\n",
       "    }\n",
       "</style>\n",
       "<table border=\"1\" class=\"dataframe\">\n",
       "  <thead>\n",
       "    <tr style=\"text-align: right;\">\n",
       "      <th></th>\n",
       "      <th>DateCrawled</th>\n",
       "      <th>Price</th>\n",
       "      <th>VehicleType</th>\n",
       "      <th>RegistrationYear</th>\n",
       "      <th>Gearbox</th>\n",
       "      <th>Power</th>\n",
       "      <th>Model</th>\n",
       "      <th>Kilometer</th>\n",
       "      <th>RegistrationMonth</th>\n",
       "      <th>FuelType</th>\n",
       "      <th>Brand</th>\n",
       "      <th>Repaired</th>\n",
       "      <th>DateCreated</th>\n",
       "      <th>NumberOfPictures</th>\n",
       "      <th>PostalCode</th>\n",
       "      <th>LastSeen</th>\n",
       "    </tr>\n",
       "  </thead>\n",
       "  <tbody>\n",
       "    <tr>\n",
       "      <th>0</th>\n",
       "      <td>2016-03-24 11:52:17</td>\n",
       "      <td>480</td>\n",
       "      <td>NaN</td>\n",
       "      <td>1993</td>\n",
       "      <td>manual</td>\n",
       "      <td>0</td>\n",
       "      <td>golf</td>\n",
       "      <td>150000</td>\n",
       "      <td>0</td>\n",
       "      <td>petrol</td>\n",
       "      <td>volkswagen</td>\n",
       "      <td>NaN</td>\n",
       "      <td>2016-03-24 00:00:00</td>\n",
       "      <td>0</td>\n",
       "      <td>70435</td>\n",
       "      <td>2016-04-07 03:16:57</td>\n",
       "    </tr>\n",
       "    <tr>\n",
       "      <th>1</th>\n",
       "      <td>2016-03-24 10:58:45</td>\n",
       "      <td>18300</td>\n",
       "      <td>coupe</td>\n",
       "      <td>2011</td>\n",
       "      <td>manual</td>\n",
       "      <td>190</td>\n",
       "      <td>NaN</td>\n",
       "      <td>125000</td>\n",
       "      <td>5</td>\n",
       "      <td>gasoline</td>\n",
       "      <td>audi</td>\n",
       "      <td>yes</td>\n",
       "      <td>2016-03-24 00:00:00</td>\n",
       "      <td>0</td>\n",
       "      <td>66954</td>\n",
       "      <td>2016-04-07 01:46:50</td>\n",
       "    </tr>\n",
       "    <tr>\n",
       "      <th>2</th>\n",
       "      <td>2016-03-14 12:52:21</td>\n",
       "      <td>9800</td>\n",
       "      <td>suv</td>\n",
       "      <td>2004</td>\n",
       "      <td>auto</td>\n",
       "      <td>163</td>\n",
       "      <td>grand</td>\n",
       "      <td>125000</td>\n",
       "      <td>8</td>\n",
       "      <td>gasoline</td>\n",
       "      <td>jeep</td>\n",
       "      <td>NaN</td>\n",
       "      <td>2016-03-14 00:00:00</td>\n",
       "      <td>0</td>\n",
       "      <td>90480</td>\n",
       "      <td>2016-04-05 12:47:46</td>\n",
       "    </tr>\n",
       "    <tr>\n",
       "      <th>3</th>\n",
       "      <td>2016-03-17 16:54:04</td>\n",
       "      <td>1500</td>\n",
       "      <td>small</td>\n",
       "      <td>2001</td>\n",
       "      <td>manual</td>\n",
       "      <td>75</td>\n",
       "      <td>golf</td>\n",
       "      <td>150000</td>\n",
       "      <td>6</td>\n",
       "      <td>petrol</td>\n",
       "      <td>volkswagen</td>\n",
       "      <td>no</td>\n",
       "      <td>2016-03-17 00:00:00</td>\n",
       "      <td>0</td>\n",
       "      <td>91074</td>\n",
       "      <td>2016-03-17 17:40:17</td>\n",
       "    </tr>\n",
       "    <tr>\n",
       "      <th>4</th>\n",
       "      <td>2016-03-31 17:25:20</td>\n",
       "      <td>3600</td>\n",
       "      <td>small</td>\n",
       "      <td>2008</td>\n",
       "      <td>manual</td>\n",
       "      <td>69</td>\n",
       "      <td>fabia</td>\n",
       "      <td>90000</td>\n",
       "      <td>7</td>\n",
       "      <td>gasoline</td>\n",
       "      <td>skoda</td>\n",
       "      <td>no</td>\n",
       "      <td>2016-03-31 00:00:00</td>\n",
       "      <td>0</td>\n",
       "      <td>60437</td>\n",
       "      <td>2016-04-06 10:17:21</td>\n",
       "    </tr>\n",
       "    <tr>\n",
       "      <th>5</th>\n",
       "      <td>2016-04-04 17:36:23</td>\n",
       "      <td>650</td>\n",
       "      <td>sedan</td>\n",
       "      <td>1995</td>\n",
       "      <td>manual</td>\n",
       "      <td>102</td>\n",
       "      <td>3er</td>\n",
       "      <td>150000</td>\n",
       "      <td>10</td>\n",
       "      <td>petrol</td>\n",
       "      <td>bmw</td>\n",
       "      <td>yes</td>\n",
       "      <td>2016-04-04 00:00:00</td>\n",
       "      <td>0</td>\n",
       "      <td>33775</td>\n",
       "      <td>2016-04-06 19:17:07</td>\n",
       "    </tr>\n",
       "    <tr>\n",
       "      <th>6</th>\n",
       "      <td>2016-04-01 20:48:51</td>\n",
       "      <td>2200</td>\n",
       "      <td>convertible</td>\n",
       "      <td>2004</td>\n",
       "      <td>manual</td>\n",
       "      <td>109</td>\n",
       "      <td>2_reihe</td>\n",
       "      <td>150000</td>\n",
       "      <td>8</td>\n",
       "      <td>petrol</td>\n",
       "      <td>peugeot</td>\n",
       "      <td>no</td>\n",
       "      <td>2016-04-01 00:00:00</td>\n",
       "      <td>0</td>\n",
       "      <td>67112</td>\n",
       "      <td>2016-04-05 18:18:39</td>\n",
       "    </tr>\n",
       "  </tbody>\n",
       "</table>\n",
       "</div>"
      ],
      "text/plain": [
       "           DateCrawled  Price  VehicleType  RegistrationYear Gearbox  Power  \\\n",
       "0  2016-03-24 11:52:17    480          NaN              1993  manual      0   \n",
       "1  2016-03-24 10:58:45  18300        coupe              2011  manual    190   \n",
       "2  2016-03-14 12:52:21   9800          suv              2004    auto    163   \n",
       "3  2016-03-17 16:54:04   1500        small              2001  manual     75   \n",
       "4  2016-03-31 17:25:20   3600        small              2008  manual     69   \n",
       "5  2016-04-04 17:36:23    650        sedan              1995  manual    102   \n",
       "6  2016-04-01 20:48:51   2200  convertible              2004  manual    109   \n",
       "\n",
       "     Model  Kilometer  RegistrationMonth  FuelType       Brand Repaired  \\\n",
       "0     golf     150000                  0    petrol  volkswagen      NaN   \n",
       "1      NaN     125000                  5  gasoline        audi      yes   \n",
       "2    grand     125000                  8  gasoline        jeep      NaN   \n",
       "3     golf     150000                  6    petrol  volkswagen       no   \n",
       "4    fabia      90000                  7  gasoline       skoda       no   \n",
       "5      3er     150000                 10    petrol         bmw      yes   \n",
       "6  2_reihe     150000                  8    petrol     peugeot       no   \n",
       "\n",
       "           DateCreated  NumberOfPictures  PostalCode             LastSeen  \n",
       "0  2016-03-24 00:00:00                 0       70435  2016-04-07 03:16:57  \n",
       "1  2016-03-24 00:00:00                 0       66954  2016-04-07 01:46:50  \n",
       "2  2016-03-14 00:00:00                 0       90480  2016-04-05 12:47:46  \n",
       "3  2016-03-17 00:00:00                 0       91074  2016-03-17 17:40:17  \n",
       "4  2016-03-31 00:00:00                 0       60437  2016-04-06 10:17:21  \n",
       "5  2016-04-04 00:00:00                 0       33775  2016-04-06 19:17:07  \n",
       "6  2016-04-01 00:00:00                 0       67112  2016-04-05 18:18:39  "
      ]
     },
     "execution_count": 3,
     "metadata": {},
     "output_type": "execute_result"
    }
   ],
   "source": [
    "df = pd.read_csv('/datasets/autos.csv')\n",
    "df.head(7)"
   ]
  },
  {
   "cell_type": "code",
   "execution_count": 4,
   "metadata": {
    "scrolled": true
   },
   "outputs": [
    {
     "data": {
      "text/html": [
       "<div>\n",
       "<style scoped>\n",
       "    .dataframe tbody tr th:only-of-type {\n",
       "        vertical-align: middle;\n",
       "    }\n",
       "\n",
       "    .dataframe tbody tr th {\n",
       "        vertical-align: top;\n",
       "    }\n",
       "\n",
       "    .dataframe thead th {\n",
       "        text-align: right;\n",
       "    }\n",
       "</style>\n",
       "<table border=\"1\" class=\"dataframe\">\n",
       "  <thead>\n",
       "    <tr style=\"text-align: right;\">\n",
       "      <th></th>\n",
       "      <th>DateCrawled</th>\n",
       "      <th>Price</th>\n",
       "      <th>VehicleType</th>\n",
       "      <th>RegistrationYear</th>\n",
       "      <th>Gearbox</th>\n",
       "      <th>Power</th>\n",
       "      <th>Model</th>\n",
       "      <th>Kilometer</th>\n",
       "      <th>RegistrationMonth</th>\n",
       "      <th>FuelType</th>\n",
       "      <th>Brand</th>\n",
       "      <th>Repaired</th>\n",
       "      <th>DateCreated</th>\n",
       "      <th>NumberOfPictures</th>\n",
       "      <th>PostalCode</th>\n",
       "      <th>LastSeen</th>\n",
       "    </tr>\n",
       "  </thead>\n",
       "  <tbody>\n",
       "    <tr>\n",
       "      <th>354362</th>\n",
       "      <td>2016-03-19 19:53:49</td>\n",
       "      <td>3200</td>\n",
       "      <td>sedan</td>\n",
       "      <td>2004</td>\n",
       "      <td>manual</td>\n",
       "      <td>225</td>\n",
       "      <td>leon</td>\n",
       "      <td>150000</td>\n",
       "      <td>5</td>\n",
       "      <td>petrol</td>\n",
       "      <td>seat</td>\n",
       "      <td>yes</td>\n",
       "      <td>2016-03-19 00:00:00</td>\n",
       "      <td>0</td>\n",
       "      <td>96465</td>\n",
       "      <td>2016-03-19 20:44:43</td>\n",
       "    </tr>\n",
       "    <tr>\n",
       "      <th>354363</th>\n",
       "      <td>2016-03-27 20:36:20</td>\n",
       "      <td>1150</td>\n",
       "      <td>bus</td>\n",
       "      <td>2000</td>\n",
       "      <td>manual</td>\n",
       "      <td>0</td>\n",
       "      <td>zafira</td>\n",
       "      <td>150000</td>\n",
       "      <td>3</td>\n",
       "      <td>petrol</td>\n",
       "      <td>opel</td>\n",
       "      <td>no</td>\n",
       "      <td>2016-03-27 00:00:00</td>\n",
       "      <td>0</td>\n",
       "      <td>26624</td>\n",
       "      <td>2016-03-29 10:17:23</td>\n",
       "    </tr>\n",
       "    <tr>\n",
       "      <th>354364</th>\n",
       "      <td>2016-03-21 09:50:58</td>\n",
       "      <td>0</td>\n",
       "      <td>NaN</td>\n",
       "      <td>2005</td>\n",
       "      <td>manual</td>\n",
       "      <td>0</td>\n",
       "      <td>colt</td>\n",
       "      <td>150000</td>\n",
       "      <td>7</td>\n",
       "      <td>petrol</td>\n",
       "      <td>mitsubishi</td>\n",
       "      <td>yes</td>\n",
       "      <td>2016-03-21 00:00:00</td>\n",
       "      <td>0</td>\n",
       "      <td>2694</td>\n",
       "      <td>2016-03-21 10:42:49</td>\n",
       "    </tr>\n",
       "    <tr>\n",
       "      <th>354365</th>\n",
       "      <td>2016-03-14 17:48:27</td>\n",
       "      <td>2200</td>\n",
       "      <td>NaN</td>\n",
       "      <td>2005</td>\n",
       "      <td>NaN</td>\n",
       "      <td>0</td>\n",
       "      <td>NaN</td>\n",
       "      <td>20000</td>\n",
       "      <td>1</td>\n",
       "      <td>NaN</td>\n",
       "      <td>sonstige_autos</td>\n",
       "      <td>NaN</td>\n",
       "      <td>2016-03-14 00:00:00</td>\n",
       "      <td>0</td>\n",
       "      <td>39576</td>\n",
       "      <td>2016-04-06 00:46:52</td>\n",
       "    </tr>\n",
       "    <tr>\n",
       "      <th>354366</th>\n",
       "      <td>2016-03-05 19:56:21</td>\n",
       "      <td>1199</td>\n",
       "      <td>convertible</td>\n",
       "      <td>2000</td>\n",
       "      <td>auto</td>\n",
       "      <td>101</td>\n",
       "      <td>fortwo</td>\n",
       "      <td>125000</td>\n",
       "      <td>3</td>\n",
       "      <td>petrol</td>\n",
       "      <td>smart</td>\n",
       "      <td>no</td>\n",
       "      <td>2016-03-05 00:00:00</td>\n",
       "      <td>0</td>\n",
       "      <td>26135</td>\n",
       "      <td>2016-03-11 18:17:12</td>\n",
       "    </tr>\n",
       "    <tr>\n",
       "      <th>354367</th>\n",
       "      <td>2016-03-19 18:57:12</td>\n",
       "      <td>9200</td>\n",
       "      <td>bus</td>\n",
       "      <td>1996</td>\n",
       "      <td>manual</td>\n",
       "      <td>102</td>\n",
       "      <td>transporter</td>\n",
       "      <td>150000</td>\n",
       "      <td>3</td>\n",
       "      <td>gasoline</td>\n",
       "      <td>volkswagen</td>\n",
       "      <td>no</td>\n",
       "      <td>2016-03-19 00:00:00</td>\n",
       "      <td>0</td>\n",
       "      <td>87439</td>\n",
       "      <td>2016-04-07 07:15:26</td>\n",
       "    </tr>\n",
       "    <tr>\n",
       "      <th>354368</th>\n",
       "      <td>2016-03-20 19:41:08</td>\n",
       "      <td>3400</td>\n",
       "      <td>wagon</td>\n",
       "      <td>2002</td>\n",
       "      <td>manual</td>\n",
       "      <td>100</td>\n",
       "      <td>golf</td>\n",
       "      <td>150000</td>\n",
       "      <td>6</td>\n",
       "      <td>gasoline</td>\n",
       "      <td>volkswagen</td>\n",
       "      <td>NaN</td>\n",
       "      <td>2016-03-20 00:00:00</td>\n",
       "      <td>0</td>\n",
       "      <td>40764</td>\n",
       "      <td>2016-03-24 12:45:21</td>\n",
       "    </tr>\n",
       "  </tbody>\n",
       "</table>\n",
       "</div>"
      ],
      "text/plain": [
       "                DateCrawled  Price  VehicleType  RegistrationYear Gearbox  \\\n",
       "354362  2016-03-19 19:53:49   3200        sedan              2004  manual   \n",
       "354363  2016-03-27 20:36:20   1150          bus              2000  manual   \n",
       "354364  2016-03-21 09:50:58      0          NaN              2005  manual   \n",
       "354365  2016-03-14 17:48:27   2200          NaN              2005     NaN   \n",
       "354366  2016-03-05 19:56:21   1199  convertible              2000    auto   \n",
       "354367  2016-03-19 18:57:12   9200          bus              1996  manual   \n",
       "354368  2016-03-20 19:41:08   3400        wagon              2002  manual   \n",
       "\n",
       "        Power        Model  Kilometer  RegistrationMonth  FuelType  \\\n",
       "354362    225         leon     150000                  5    petrol   \n",
       "354363      0       zafira     150000                  3    petrol   \n",
       "354364      0         colt     150000                  7    petrol   \n",
       "354365      0          NaN      20000                  1       NaN   \n",
       "354366    101       fortwo     125000                  3    petrol   \n",
       "354367    102  transporter     150000                  3  gasoline   \n",
       "354368    100         golf     150000                  6  gasoline   \n",
       "\n",
       "                 Brand Repaired          DateCreated  NumberOfPictures  \\\n",
       "354362            seat      yes  2016-03-19 00:00:00                 0   \n",
       "354363            opel       no  2016-03-27 00:00:00                 0   \n",
       "354364      mitsubishi      yes  2016-03-21 00:00:00                 0   \n",
       "354365  sonstige_autos      NaN  2016-03-14 00:00:00                 0   \n",
       "354366           smart       no  2016-03-05 00:00:00                 0   \n",
       "354367      volkswagen       no  2016-03-19 00:00:00                 0   \n",
       "354368      volkswagen      NaN  2016-03-20 00:00:00                 0   \n",
       "\n",
       "        PostalCode             LastSeen  \n",
       "354362       96465  2016-03-19 20:44:43  \n",
       "354363       26624  2016-03-29 10:17:23  \n",
       "354364        2694  2016-03-21 10:42:49  \n",
       "354365       39576  2016-04-06 00:46:52  \n",
       "354366       26135  2016-03-11 18:17:12  \n",
       "354367       87439  2016-04-07 07:15:26  \n",
       "354368       40764  2016-03-24 12:45:21  "
      ]
     },
     "execution_count": 4,
     "metadata": {},
     "output_type": "execute_result"
    }
   ],
   "source": [
    "df.tail(7)"
   ]
  },
  {
   "cell_type": "code",
   "execution_count": 5,
   "metadata": {
    "scrolled": true
   },
   "outputs": [
    {
     "data": {
      "text/html": [
       "<div>\n",
       "<style scoped>\n",
       "    .dataframe tbody tr th:only-of-type {\n",
       "        vertical-align: middle;\n",
       "    }\n",
       "\n",
       "    .dataframe tbody tr th {\n",
       "        vertical-align: top;\n",
       "    }\n",
       "\n",
       "    .dataframe thead th {\n",
       "        text-align: right;\n",
       "    }\n",
       "</style>\n",
       "<table border=\"1\" class=\"dataframe\">\n",
       "  <thead>\n",
       "    <tr style=\"text-align: right;\">\n",
       "      <th></th>\n",
       "      <th>DateCrawled</th>\n",
       "      <th>Price</th>\n",
       "      <th>VehicleType</th>\n",
       "      <th>RegistrationYear</th>\n",
       "      <th>Gearbox</th>\n",
       "      <th>Power</th>\n",
       "      <th>Model</th>\n",
       "      <th>Kilometer</th>\n",
       "      <th>RegistrationMonth</th>\n",
       "      <th>FuelType</th>\n",
       "      <th>Brand</th>\n",
       "      <th>Repaired</th>\n",
       "      <th>DateCreated</th>\n",
       "      <th>NumberOfPictures</th>\n",
       "      <th>PostalCode</th>\n",
       "      <th>LastSeen</th>\n",
       "    </tr>\n",
       "  </thead>\n",
       "  <tbody>\n",
       "    <tr>\n",
       "      <th>44282</th>\n",
       "      <td>2016-04-01 21:52:33</td>\n",
       "      <td>11000</td>\n",
       "      <td>wagon</td>\n",
       "      <td>2010</td>\n",
       "      <td>manual</td>\n",
       "      <td>140</td>\n",
       "      <td>NaN</td>\n",
       "      <td>70000</td>\n",
       "      <td>11</td>\n",
       "      <td>petrol</td>\n",
       "      <td>opel</td>\n",
       "      <td>NaN</td>\n",
       "      <td>2016-04-01 00:00:00</td>\n",
       "      <td>0</td>\n",
       "      <td>10315</td>\n",
       "      <td>2016-04-03 19:46:22</td>\n",
       "    </tr>\n",
       "    <tr>\n",
       "      <th>298798</th>\n",
       "      <td>2016-03-19 17:46:01</td>\n",
       "      <td>1500</td>\n",
       "      <td>wagon</td>\n",
       "      <td>2003</td>\n",
       "      <td>auto</td>\n",
       "      <td>101</td>\n",
       "      <td>astra</td>\n",
       "      <td>150000</td>\n",
       "      <td>5</td>\n",
       "      <td>gasoline</td>\n",
       "      <td>opel</td>\n",
       "      <td>no</td>\n",
       "      <td>2016-03-19 00:00:00</td>\n",
       "      <td>0</td>\n",
       "      <td>16348</td>\n",
       "      <td>2016-04-03 02:47:03</td>\n",
       "    </tr>\n",
       "    <tr>\n",
       "      <th>68902</th>\n",
       "      <td>2016-03-13 01:54:57</td>\n",
       "      <td>190</td>\n",
       "      <td>NaN</td>\n",
       "      <td>1995</td>\n",
       "      <td>manual</td>\n",
       "      <td>88</td>\n",
       "      <td>mondeo</td>\n",
       "      <td>150000</td>\n",
       "      <td>5</td>\n",
       "      <td>NaN</td>\n",
       "      <td>ford</td>\n",
       "      <td>NaN</td>\n",
       "      <td>2016-03-12 00:00:00</td>\n",
       "      <td>0</td>\n",
       "      <td>27412</td>\n",
       "      <td>2016-04-02 15:17:29</td>\n",
       "    </tr>\n",
       "    <tr>\n",
       "      <th>91452</th>\n",
       "      <td>2016-04-02 23:39:19</td>\n",
       "      <td>700</td>\n",
       "      <td>convertible</td>\n",
       "      <td>1995</td>\n",
       "      <td>manual</td>\n",
       "      <td>110</td>\n",
       "      <td>3_reihe</td>\n",
       "      <td>150000</td>\n",
       "      <td>5</td>\n",
       "      <td>petrol</td>\n",
       "      <td>peugeot</td>\n",
       "      <td>no</td>\n",
       "      <td>2016-04-02 00:00:00</td>\n",
       "      <td>0</td>\n",
       "      <td>6231</td>\n",
       "      <td>2016-04-04 23:15:34</td>\n",
       "    </tr>\n",
       "    <tr>\n",
       "      <th>69887</th>\n",
       "      <td>2016-03-19 15:50:02</td>\n",
       "      <td>1000</td>\n",
       "      <td>small</td>\n",
       "      <td>1999</td>\n",
       "      <td>manual</td>\n",
       "      <td>75</td>\n",
       "      <td>lupo</td>\n",
       "      <td>150000</td>\n",
       "      <td>4</td>\n",
       "      <td>petrol</td>\n",
       "      <td>volkswagen</td>\n",
       "      <td>no</td>\n",
       "      <td>2016-03-19 00:00:00</td>\n",
       "      <td>0</td>\n",
       "      <td>72516</td>\n",
       "      <td>2016-04-07 00:45:33</td>\n",
       "    </tr>\n",
       "    <tr>\n",
       "      <th>318155</th>\n",
       "      <td>2016-03-29 17:52:15</td>\n",
       "      <td>890</td>\n",
       "      <td>small</td>\n",
       "      <td>2000</td>\n",
       "      <td>manual</td>\n",
       "      <td>60</td>\n",
       "      <td>2_reihe</td>\n",
       "      <td>150000</td>\n",
       "      <td>12</td>\n",
       "      <td>petrol</td>\n",
       "      <td>peugeot</td>\n",
       "      <td>NaN</td>\n",
       "      <td>2016-03-29 00:00:00</td>\n",
       "      <td>0</td>\n",
       "      <td>30165</td>\n",
       "      <td>2016-03-31 11:16:17</td>\n",
       "    </tr>\n",
       "    <tr>\n",
       "      <th>297225</th>\n",
       "      <td>2016-03-27 12:51:35</td>\n",
       "      <td>1000</td>\n",
       "      <td>sedan</td>\n",
       "      <td>1999</td>\n",
       "      <td>manual</td>\n",
       "      <td>107</td>\n",
       "      <td>scenic</td>\n",
       "      <td>150000</td>\n",
       "      <td>10</td>\n",
       "      <td>petrol</td>\n",
       "      <td>renault</td>\n",
       "      <td>no</td>\n",
       "      <td>2016-03-27 00:00:00</td>\n",
       "      <td>0</td>\n",
       "      <td>28277</td>\n",
       "      <td>2016-04-03 07:53:05</td>\n",
       "    </tr>\n",
       "    <tr>\n",
       "      <th>3789</th>\n",
       "      <td>2016-03-31 15:52:04</td>\n",
       "      <td>12999</td>\n",
       "      <td>wagon</td>\n",
       "      <td>2007</td>\n",
       "      <td>auto</td>\n",
       "      <td>197</td>\n",
       "      <td>5er</td>\n",
       "      <td>150000</td>\n",
       "      <td>1</td>\n",
       "      <td>gasoline</td>\n",
       "      <td>bmw</td>\n",
       "      <td>no</td>\n",
       "      <td>2016-03-31 00:00:00</td>\n",
       "      <td>0</td>\n",
       "      <td>14109</td>\n",
       "      <td>2016-04-06 08:46:20</td>\n",
       "    </tr>\n",
       "    <tr>\n",
       "      <th>351518</th>\n",
       "      <td>2016-03-21 21:48:24</td>\n",
       "      <td>3999</td>\n",
       "      <td>sedan</td>\n",
       "      <td>1994</td>\n",
       "      <td>auto</td>\n",
       "      <td>326</td>\n",
       "      <td>s_klasse</td>\n",
       "      <td>150000</td>\n",
       "      <td>9</td>\n",
       "      <td>petrol</td>\n",
       "      <td>mercedes_benz</td>\n",
       "      <td>no</td>\n",
       "      <td>2016-03-21 00:00:00</td>\n",
       "      <td>0</td>\n",
       "      <td>26203</td>\n",
       "      <td>2016-04-07 09:15:22</td>\n",
       "    </tr>\n",
       "    <tr>\n",
       "      <th>39331</th>\n",
       "      <td>2016-03-17 19:38:23</td>\n",
       "      <td>1750</td>\n",
       "      <td>NaN</td>\n",
       "      <td>2017</td>\n",
       "      <td>NaN</td>\n",
       "      <td>64</td>\n",
       "      <td>caddy</td>\n",
       "      <td>150000</td>\n",
       "      <td>11</td>\n",
       "      <td>gasoline</td>\n",
       "      <td>volkswagen</td>\n",
       "      <td>NaN</td>\n",
       "      <td>2016-03-17 00:00:00</td>\n",
       "      <td>0</td>\n",
       "      <td>39638</td>\n",
       "      <td>2016-03-17 19:38:23</td>\n",
       "    </tr>\n",
       "  </tbody>\n",
       "</table>\n",
       "</div>"
      ],
      "text/plain": [
       "                DateCrawled  Price  VehicleType  RegistrationYear Gearbox  \\\n",
       "44282   2016-04-01 21:52:33  11000        wagon              2010  manual   \n",
       "298798  2016-03-19 17:46:01   1500        wagon              2003    auto   \n",
       "68902   2016-03-13 01:54:57    190          NaN              1995  manual   \n",
       "91452   2016-04-02 23:39:19    700  convertible              1995  manual   \n",
       "69887   2016-03-19 15:50:02   1000        small              1999  manual   \n",
       "318155  2016-03-29 17:52:15    890        small              2000  manual   \n",
       "297225  2016-03-27 12:51:35   1000        sedan              1999  manual   \n",
       "3789    2016-03-31 15:52:04  12999        wagon              2007    auto   \n",
       "351518  2016-03-21 21:48:24   3999        sedan              1994    auto   \n",
       "39331   2016-03-17 19:38:23   1750          NaN              2017     NaN   \n",
       "\n",
       "        Power     Model  Kilometer  RegistrationMonth  FuelType  \\\n",
       "44282     140       NaN      70000                 11    petrol   \n",
       "298798    101     astra     150000                  5  gasoline   \n",
       "68902      88    mondeo     150000                  5       NaN   \n",
       "91452     110   3_reihe     150000                  5    petrol   \n",
       "69887      75      lupo     150000                  4    petrol   \n",
       "318155     60   2_reihe     150000                 12    petrol   \n",
       "297225    107    scenic     150000                 10    petrol   \n",
       "3789      197       5er     150000                  1  gasoline   \n",
       "351518    326  s_klasse     150000                  9    petrol   \n",
       "39331      64     caddy     150000                 11  gasoline   \n",
       "\n",
       "                Brand Repaired          DateCreated  NumberOfPictures  \\\n",
       "44282            opel      NaN  2016-04-01 00:00:00                 0   \n",
       "298798           opel       no  2016-03-19 00:00:00                 0   \n",
       "68902            ford      NaN  2016-03-12 00:00:00                 0   \n",
       "91452         peugeot       no  2016-04-02 00:00:00                 0   \n",
       "69887      volkswagen       no  2016-03-19 00:00:00                 0   \n",
       "318155        peugeot      NaN  2016-03-29 00:00:00                 0   \n",
       "297225        renault       no  2016-03-27 00:00:00                 0   \n",
       "3789              bmw       no  2016-03-31 00:00:00                 0   \n",
       "351518  mercedes_benz       no  2016-03-21 00:00:00                 0   \n",
       "39331      volkswagen      NaN  2016-03-17 00:00:00                 0   \n",
       "\n",
       "        PostalCode             LastSeen  \n",
       "44282        10315  2016-04-03 19:46:22  \n",
       "298798       16348  2016-04-03 02:47:03  \n",
       "68902        27412  2016-04-02 15:17:29  \n",
       "91452         6231  2016-04-04 23:15:34  \n",
       "69887        72516  2016-04-07 00:45:33  \n",
       "318155       30165  2016-03-31 11:16:17  \n",
       "297225       28277  2016-04-03 07:53:05  \n",
       "3789         14109  2016-04-06 08:46:20  \n",
       "351518       26203  2016-04-07 09:15:22  \n",
       "39331        39638  2016-03-17 19:38:23  "
      ]
     },
     "execution_count": 5,
     "metadata": {},
     "output_type": "execute_result"
    }
   ],
   "source": [
    "df.sample(10)"
   ]
  },
  {
   "cell_type": "markdown",
   "metadata": {},
   "source": [
    "Теперь более детальное знакомство"
   ]
  },
  {
   "cell_type": "markdown",
   "metadata": {},
   "source": [
    "Признаки:\n",
    "- DateCrawled — дата скачивания анкеты из базы\n",
    "- VehicleType — тип автомобильного кузова\n",
    "- RegistrationYear — год регистрации автомобиля\n",
    "- Gearbox — тип коробки передач\n",
    "- Power — мощность (л. с.)\n",
    "- Model — модель автомобиля\n",
    "- Kilometer — пробег (км)\n",
    "- RegistrationMonth — месяц регистрации автомобиля\n",
    "- FuelType — тип топлива\n",
    "- Brand — марка автомобиля\n",
    "- Repaired — была машина в ремонте или нет\n",
    "- DateCreated — дата создания анкеты\n",
    "- NumberOfPictures — количество фотографий автомобиля\n",
    "- PostalCode — почтовый индекс владельца анкеты (пользователя)\n",
    "- LastSeen — дата последней активности пользователя\n",
    "Целевой признак:\n",
    "- Price — цена (евро)"
   ]
  },
  {
   "cell_type": "code",
   "execution_count": 6,
   "metadata": {
    "scrolled": false
   },
   "outputs": [
    {
     "name": "stdout",
     "output_type": "stream",
     "text": [
      "<class 'pandas.core.frame.DataFrame'>\n",
      "RangeIndex: 354369 entries, 0 to 354368\n",
      "Data columns (total 16 columns):\n",
      " #   Column             Non-Null Count   Dtype \n",
      "---  ------             --------------   ----- \n",
      " 0   DateCrawled        354369 non-null  object\n",
      " 1   Price              354369 non-null  int64 \n",
      " 2   VehicleType        316879 non-null  object\n",
      " 3   RegistrationYear   354369 non-null  int64 \n",
      " 4   Gearbox            334536 non-null  object\n",
      " 5   Power              354369 non-null  int64 \n",
      " 6   Model              334664 non-null  object\n",
      " 7   Kilometer          354369 non-null  int64 \n",
      " 8   RegistrationMonth  354369 non-null  int64 \n",
      " 9   FuelType           321474 non-null  object\n",
      " 10  Brand              354369 non-null  object\n",
      " 11  Repaired           283215 non-null  object\n",
      " 12  DateCreated        354369 non-null  object\n",
      " 13  NumberOfPictures   354369 non-null  int64 \n",
      " 14  PostalCode         354369 non-null  int64 \n",
      " 15  LastSeen           354369 non-null  object\n",
      "dtypes: int64(7), object(9)\n",
      "memory usage: 43.3+ MB\n"
     ]
    }
   ],
   "source": [
    "df.info()"
   ]
  },
  {
   "cell_type": "markdown",
   "metadata": {},
   "source": [
    "в этом датафрейме 354370 объектов и 16 столбцов, довольно большой датасет"
   ]
  },
  {
   "cell_type": "markdown",
   "metadata": {},
   "source": [
    "**Вывод**\n",
    "\n",
    "Общие представления о данных были получены, теперь нужно заняться улучшением самого датасета"
   ]
  },
  {
   "cell_type": "markdown",
   "metadata": {},
   "source": [
    "## Обработка данных"
   ]
  },
  {
   "cell_type": "markdown",
   "metadata": {},
   "source": [
    "### Название столбцов"
   ]
  },
  {
   "cell_type": "markdown",
   "metadata": {},
   "source": [
    "Название столбцов изменю под змеиный стиль для урощения работы \n"
   ]
  },
  {
   "cell_type": "code",
   "execution_count": 7,
   "metadata": {},
   "outputs": [],
   "source": [
    "df = df.rename(columns={'DateCrawled':'date_crawled', \n",
    "                        'Price': 'price',\n",
    "                        'VehicleType':'vehicle_type', \n",
    "                        'RegistrationYear':'registration_year', \n",
    "                         'Gearbox':'gearbox',\n",
    "                        'Power': 'power',\n",
    "                        'Model': 'model',\n",
    "                        'Kilometr': 'kiloetr',\n",
    "                        'RegistrationMonth':'registration_month', \n",
    "                        'FuelType':'fuel_type', \n",
    "                        'Brand' : 'brand',\n",
    "                        'Repaired':'repaired',\n",
    "                        'NotRepaired':'not_repaired', \n",
    "                        'DateCreated':'date_created',\n",
    "                        'NumberOfPictures': 'number_of_pictures',\n",
    "                        'PostalCode':'postal_code',\n",
    "                        'LastSeen':'last_seen'})"
   ]
  },
  {
   "cell_type": "code",
   "execution_count": 8,
   "metadata": {
    "scrolled": true
   },
   "outputs": [
    {
     "data": {
      "text/html": [
       "<div>\n",
       "<style scoped>\n",
       "    .dataframe tbody tr th:only-of-type {\n",
       "        vertical-align: middle;\n",
       "    }\n",
       "\n",
       "    .dataframe tbody tr th {\n",
       "        vertical-align: top;\n",
       "    }\n",
       "\n",
       "    .dataframe thead th {\n",
       "        text-align: right;\n",
       "    }\n",
       "</style>\n",
       "<table border=\"1\" class=\"dataframe\">\n",
       "  <thead>\n",
       "    <tr style=\"text-align: right;\">\n",
       "      <th></th>\n",
       "      <th>date_crawled</th>\n",
       "      <th>price</th>\n",
       "      <th>vehicle_type</th>\n",
       "      <th>registration_year</th>\n",
       "      <th>gearbox</th>\n",
       "      <th>power</th>\n",
       "      <th>model</th>\n",
       "      <th>Kilometer</th>\n",
       "      <th>registration_month</th>\n",
       "      <th>fuel_type</th>\n",
       "      <th>brand</th>\n",
       "      <th>repaired</th>\n",
       "      <th>date_created</th>\n",
       "      <th>number_of_pictures</th>\n",
       "      <th>postal_code</th>\n",
       "      <th>last_seen</th>\n",
       "    </tr>\n",
       "  </thead>\n",
       "  <tbody>\n",
       "    <tr>\n",
       "      <th>0</th>\n",
       "      <td>2016-03-24 11:52:17</td>\n",
       "      <td>480</td>\n",
       "      <td>NaN</td>\n",
       "      <td>1993</td>\n",
       "      <td>manual</td>\n",
       "      <td>0</td>\n",
       "      <td>golf</td>\n",
       "      <td>150000</td>\n",
       "      <td>0</td>\n",
       "      <td>petrol</td>\n",
       "      <td>volkswagen</td>\n",
       "      <td>NaN</td>\n",
       "      <td>2016-03-24 00:00:00</td>\n",
       "      <td>0</td>\n",
       "      <td>70435</td>\n",
       "      <td>2016-04-07 03:16:57</td>\n",
       "    </tr>\n",
       "    <tr>\n",
       "      <th>1</th>\n",
       "      <td>2016-03-24 10:58:45</td>\n",
       "      <td>18300</td>\n",
       "      <td>coupe</td>\n",
       "      <td>2011</td>\n",
       "      <td>manual</td>\n",
       "      <td>190</td>\n",
       "      <td>NaN</td>\n",
       "      <td>125000</td>\n",
       "      <td>5</td>\n",
       "      <td>gasoline</td>\n",
       "      <td>audi</td>\n",
       "      <td>yes</td>\n",
       "      <td>2016-03-24 00:00:00</td>\n",
       "      <td>0</td>\n",
       "      <td>66954</td>\n",
       "      <td>2016-04-07 01:46:50</td>\n",
       "    </tr>\n",
       "    <tr>\n",
       "      <th>2</th>\n",
       "      <td>2016-03-14 12:52:21</td>\n",
       "      <td>9800</td>\n",
       "      <td>suv</td>\n",
       "      <td>2004</td>\n",
       "      <td>auto</td>\n",
       "      <td>163</td>\n",
       "      <td>grand</td>\n",
       "      <td>125000</td>\n",
       "      <td>8</td>\n",
       "      <td>gasoline</td>\n",
       "      <td>jeep</td>\n",
       "      <td>NaN</td>\n",
       "      <td>2016-03-14 00:00:00</td>\n",
       "      <td>0</td>\n",
       "      <td>90480</td>\n",
       "      <td>2016-04-05 12:47:46</td>\n",
       "    </tr>\n",
       "    <tr>\n",
       "      <th>3</th>\n",
       "      <td>2016-03-17 16:54:04</td>\n",
       "      <td>1500</td>\n",
       "      <td>small</td>\n",
       "      <td>2001</td>\n",
       "      <td>manual</td>\n",
       "      <td>75</td>\n",
       "      <td>golf</td>\n",
       "      <td>150000</td>\n",
       "      <td>6</td>\n",
       "      <td>petrol</td>\n",
       "      <td>volkswagen</td>\n",
       "      <td>no</td>\n",
       "      <td>2016-03-17 00:00:00</td>\n",
       "      <td>0</td>\n",
       "      <td>91074</td>\n",
       "      <td>2016-03-17 17:40:17</td>\n",
       "    </tr>\n",
       "    <tr>\n",
       "      <th>4</th>\n",
       "      <td>2016-03-31 17:25:20</td>\n",
       "      <td>3600</td>\n",
       "      <td>small</td>\n",
       "      <td>2008</td>\n",
       "      <td>manual</td>\n",
       "      <td>69</td>\n",
       "      <td>fabia</td>\n",
       "      <td>90000</td>\n",
       "      <td>7</td>\n",
       "      <td>gasoline</td>\n",
       "      <td>skoda</td>\n",
       "      <td>no</td>\n",
       "      <td>2016-03-31 00:00:00</td>\n",
       "      <td>0</td>\n",
       "      <td>60437</td>\n",
       "      <td>2016-04-06 10:17:21</td>\n",
       "    </tr>\n",
       "    <tr>\n",
       "      <th>...</th>\n",
       "      <td>...</td>\n",
       "      <td>...</td>\n",
       "      <td>...</td>\n",
       "      <td>...</td>\n",
       "      <td>...</td>\n",
       "      <td>...</td>\n",
       "      <td>...</td>\n",
       "      <td>...</td>\n",
       "      <td>...</td>\n",
       "      <td>...</td>\n",
       "      <td>...</td>\n",
       "      <td>...</td>\n",
       "      <td>...</td>\n",
       "      <td>...</td>\n",
       "      <td>...</td>\n",
       "      <td>...</td>\n",
       "    </tr>\n",
       "    <tr>\n",
       "      <th>354364</th>\n",
       "      <td>2016-03-21 09:50:58</td>\n",
       "      <td>0</td>\n",
       "      <td>NaN</td>\n",
       "      <td>2005</td>\n",
       "      <td>manual</td>\n",
       "      <td>0</td>\n",
       "      <td>colt</td>\n",
       "      <td>150000</td>\n",
       "      <td>7</td>\n",
       "      <td>petrol</td>\n",
       "      <td>mitsubishi</td>\n",
       "      <td>yes</td>\n",
       "      <td>2016-03-21 00:00:00</td>\n",
       "      <td>0</td>\n",
       "      <td>2694</td>\n",
       "      <td>2016-03-21 10:42:49</td>\n",
       "    </tr>\n",
       "    <tr>\n",
       "      <th>354365</th>\n",
       "      <td>2016-03-14 17:48:27</td>\n",
       "      <td>2200</td>\n",
       "      <td>NaN</td>\n",
       "      <td>2005</td>\n",
       "      <td>NaN</td>\n",
       "      <td>0</td>\n",
       "      <td>NaN</td>\n",
       "      <td>20000</td>\n",
       "      <td>1</td>\n",
       "      <td>NaN</td>\n",
       "      <td>sonstige_autos</td>\n",
       "      <td>NaN</td>\n",
       "      <td>2016-03-14 00:00:00</td>\n",
       "      <td>0</td>\n",
       "      <td>39576</td>\n",
       "      <td>2016-04-06 00:46:52</td>\n",
       "    </tr>\n",
       "    <tr>\n",
       "      <th>354366</th>\n",
       "      <td>2016-03-05 19:56:21</td>\n",
       "      <td>1199</td>\n",
       "      <td>convertible</td>\n",
       "      <td>2000</td>\n",
       "      <td>auto</td>\n",
       "      <td>101</td>\n",
       "      <td>fortwo</td>\n",
       "      <td>125000</td>\n",
       "      <td>3</td>\n",
       "      <td>petrol</td>\n",
       "      <td>smart</td>\n",
       "      <td>no</td>\n",
       "      <td>2016-03-05 00:00:00</td>\n",
       "      <td>0</td>\n",
       "      <td>26135</td>\n",
       "      <td>2016-03-11 18:17:12</td>\n",
       "    </tr>\n",
       "    <tr>\n",
       "      <th>354367</th>\n",
       "      <td>2016-03-19 18:57:12</td>\n",
       "      <td>9200</td>\n",
       "      <td>bus</td>\n",
       "      <td>1996</td>\n",
       "      <td>manual</td>\n",
       "      <td>102</td>\n",
       "      <td>transporter</td>\n",
       "      <td>150000</td>\n",
       "      <td>3</td>\n",
       "      <td>gasoline</td>\n",
       "      <td>volkswagen</td>\n",
       "      <td>no</td>\n",
       "      <td>2016-03-19 00:00:00</td>\n",
       "      <td>0</td>\n",
       "      <td>87439</td>\n",
       "      <td>2016-04-07 07:15:26</td>\n",
       "    </tr>\n",
       "    <tr>\n",
       "      <th>354368</th>\n",
       "      <td>2016-03-20 19:41:08</td>\n",
       "      <td>3400</td>\n",
       "      <td>wagon</td>\n",
       "      <td>2002</td>\n",
       "      <td>manual</td>\n",
       "      <td>100</td>\n",
       "      <td>golf</td>\n",
       "      <td>150000</td>\n",
       "      <td>6</td>\n",
       "      <td>gasoline</td>\n",
       "      <td>volkswagen</td>\n",
       "      <td>NaN</td>\n",
       "      <td>2016-03-20 00:00:00</td>\n",
       "      <td>0</td>\n",
       "      <td>40764</td>\n",
       "      <td>2016-03-24 12:45:21</td>\n",
       "    </tr>\n",
       "  </tbody>\n",
       "</table>\n",
       "<p>354369 rows × 16 columns</p>\n",
       "</div>"
      ],
      "text/plain": [
       "               date_crawled  price vehicle_type  registration_year gearbox  \\\n",
       "0       2016-03-24 11:52:17    480          NaN               1993  manual   \n",
       "1       2016-03-24 10:58:45  18300        coupe               2011  manual   \n",
       "2       2016-03-14 12:52:21   9800          suv               2004    auto   \n",
       "3       2016-03-17 16:54:04   1500        small               2001  manual   \n",
       "4       2016-03-31 17:25:20   3600        small               2008  manual   \n",
       "...                     ...    ...          ...                ...     ...   \n",
       "354364  2016-03-21 09:50:58      0          NaN               2005  manual   \n",
       "354365  2016-03-14 17:48:27   2200          NaN               2005     NaN   \n",
       "354366  2016-03-05 19:56:21   1199  convertible               2000    auto   \n",
       "354367  2016-03-19 18:57:12   9200          bus               1996  manual   \n",
       "354368  2016-03-20 19:41:08   3400        wagon               2002  manual   \n",
       "\n",
       "        power        model  Kilometer  registration_month fuel_type  \\\n",
       "0           0         golf     150000                   0    petrol   \n",
       "1         190          NaN     125000                   5  gasoline   \n",
       "2         163        grand     125000                   8  gasoline   \n",
       "3          75         golf     150000                   6    petrol   \n",
       "4          69        fabia      90000                   7  gasoline   \n",
       "...       ...          ...        ...                 ...       ...   \n",
       "354364      0         colt     150000                   7    petrol   \n",
       "354365      0          NaN      20000                   1       NaN   \n",
       "354366    101       fortwo     125000                   3    petrol   \n",
       "354367    102  transporter     150000                   3  gasoline   \n",
       "354368    100         golf     150000                   6  gasoline   \n",
       "\n",
       "                 brand repaired         date_created  number_of_pictures  \\\n",
       "0           volkswagen      NaN  2016-03-24 00:00:00                   0   \n",
       "1                 audi      yes  2016-03-24 00:00:00                   0   \n",
       "2                 jeep      NaN  2016-03-14 00:00:00                   0   \n",
       "3           volkswagen       no  2016-03-17 00:00:00                   0   \n",
       "4                skoda       no  2016-03-31 00:00:00                   0   \n",
       "...                ...      ...                  ...                 ...   \n",
       "354364      mitsubishi      yes  2016-03-21 00:00:00                   0   \n",
       "354365  sonstige_autos      NaN  2016-03-14 00:00:00                   0   \n",
       "354366           smart       no  2016-03-05 00:00:00                   0   \n",
       "354367      volkswagen       no  2016-03-19 00:00:00                   0   \n",
       "354368      volkswagen      NaN  2016-03-20 00:00:00                   0   \n",
       "\n",
       "        postal_code            last_seen  \n",
       "0             70435  2016-04-07 03:16:57  \n",
       "1             66954  2016-04-07 01:46:50  \n",
       "2             90480  2016-04-05 12:47:46  \n",
       "3             91074  2016-03-17 17:40:17  \n",
       "4             60437  2016-04-06 10:17:21  \n",
       "...             ...                  ...  \n",
       "354364         2694  2016-03-21 10:42:49  \n",
       "354365        39576  2016-04-06 00:46:52  \n",
       "354366        26135  2016-03-11 18:17:12  \n",
       "354367        87439  2016-04-07 07:15:26  \n",
       "354368        40764  2016-03-24 12:45:21  \n",
       "\n",
       "[354369 rows x 16 columns]"
      ]
     },
     "execution_count": 8,
     "metadata": {},
     "output_type": "execute_result"
    }
   ],
   "source": [
    "df"
   ]
  },
  {
   "cell_type": "markdown",
   "metadata": {},
   "source": [
    "### Типы данных признаков"
   ]
  },
  {
   "cell_type": "markdown",
   "metadata": {},
   "source": [
    "Почти все признакми имеют правильный тип данных. Однако признак Repaired я бы заменил на int заменив его значения на 0 и 1, где 1 говорила бы о наличии ремонта. Так же, возможно для первичного анализа понадобятся строки содержащие дату, которые не нужны для обучения, если я захочу посомтреть на распределение дат, то заменю тип на date. К тому есть пара слов о признаке price, его лучше хранить в double для точности, но в данном случае изменения не приведет к этому, ведь тут мы не сможем изменить саму цену, таким способом мы только увеличим требуемую памыть для хранения, поэтому оставлю так как есть"
   ]
  },
  {
   "cell_type": "code",
   "execution_count": 9,
   "metadata": {},
   "outputs": [],
   "source": [
    "df['repaired'] = df['repaired'].replace({'no': 0, 'yes': 1})\n",
    "df['repaired'] = pd.to_numeric(df['repaired'], errors='coerce').astype('Int64')"
   ]
  },
  {
   "cell_type": "code",
   "execution_count": 10,
   "metadata": {},
   "outputs": [],
   "source": [
    "df['date_crawled'] = pd.to_datetime(df['date_crawled'])"
   ]
  },
  {
   "cell_type": "code",
   "execution_count": 11,
   "metadata": {},
   "outputs": [],
   "source": [
    "df['date_reated'] = pd.to_datetime(df['date_created'])\n",
    "df['last_seen'] = pd.to_datetime(df['last_seen'])"
   ]
  },
  {
   "cell_type": "code",
   "execution_count": 12,
   "metadata": {
    "scrolled": true
   },
   "outputs": [
    {
     "data": {
      "text/html": [
       "<div>\n",
       "<style scoped>\n",
       "    .dataframe tbody tr th:only-of-type {\n",
       "        vertical-align: middle;\n",
       "    }\n",
       "\n",
       "    .dataframe tbody tr th {\n",
       "        vertical-align: top;\n",
       "    }\n",
       "\n",
       "    .dataframe thead th {\n",
       "        text-align: right;\n",
       "    }\n",
       "</style>\n",
       "<table border=\"1\" class=\"dataframe\">\n",
       "  <thead>\n",
       "    <tr style=\"text-align: right;\">\n",
       "      <th></th>\n",
       "      <th>date_crawled</th>\n",
       "      <th>price</th>\n",
       "      <th>vehicle_type</th>\n",
       "      <th>registration_year</th>\n",
       "      <th>gearbox</th>\n",
       "      <th>power</th>\n",
       "      <th>model</th>\n",
       "      <th>Kilometer</th>\n",
       "      <th>registration_month</th>\n",
       "      <th>fuel_type</th>\n",
       "      <th>brand</th>\n",
       "      <th>repaired</th>\n",
       "      <th>date_created</th>\n",
       "      <th>number_of_pictures</th>\n",
       "      <th>postal_code</th>\n",
       "      <th>last_seen</th>\n",
       "      <th>date_reated</th>\n",
       "    </tr>\n",
       "  </thead>\n",
       "  <tbody>\n",
       "    <tr>\n",
       "      <th>0</th>\n",
       "      <td>2016-03-24 11:52:17</td>\n",
       "      <td>480</td>\n",
       "      <td>NaN</td>\n",
       "      <td>1993</td>\n",
       "      <td>manual</td>\n",
       "      <td>0</td>\n",
       "      <td>golf</td>\n",
       "      <td>150000</td>\n",
       "      <td>0</td>\n",
       "      <td>petrol</td>\n",
       "      <td>volkswagen</td>\n",
       "      <td>&lt;NA&gt;</td>\n",
       "      <td>2016-03-24 00:00:00</td>\n",
       "      <td>0</td>\n",
       "      <td>70435</td>\n",
       "      <td>2016-04-07 03:16:57</td>\n",
       "      <td>2016-03-24</td>\n",
       "    </tr>\n",
       "    <tr>\n",
       "      <th>1</th>\n",
       "      <td>2016-03-24 10:58:45</td>\n",
       "      <td>18300</td>\n",
       "      <td>coupe</td>\n",
       "      <td>2011</td>\n",
       "      <td>manual</td>\n",
       "      <td>190</td>\n",
       "      <td>NaN</td>\n",
       "      <td>125000</td>\n",
       "      <td>5</td>\n",
       "      <td>gasoline</td>\n",
       "      <td>audi</td>\n",
       "      <td>1</td>\n",
       "      <td>2016-03-24 00:00:00</td>\n",
       "      <td>0</td>\n",
       "      <td>66954</td>\n",
       "      <td>2016-04-07 01:46:50</td>\n",
       "      <td>2016-03-24</td>\n",
       "    </tr>\n",
       "    <tr>\n",
       "      <th>2</th>\n",
       "      <td>2016-03-14 12:52:21</td>\n",
       "      <td>9800</td>\n",
       "      <td>suv</td>\n",
       "      <td>2004</td>\n",
       "      <td>auto</td>\n",
       "      <td>163</td>\n",
       "      <td>grand</td>\n",
       "      <td>125000</td>\n",
       "      <td>8</td>\n",
       "      <td>gasoline</td>\n",
       "      <td>jeep</td>\n",
       "      <td>&lt;NA&gt;</td>\n",
       "      <td>2016-03-14 00:00:00</td>\n",
       "      <td>0</td>\n",
       "      <td>90480</td>\n",
       "      <td>2016-04-05 12:47:46</td>\n",
       "      <td>2016-03-14</td>\n",
       "    </tr>\n",
       "    <tr>\n",
       "      <th>3</th>\n",
       "      <td>2016-03-17 16:54:04</td>\n",
       "      <td>1500</td>\n",
       "      <td>small</td>\n",
       "      <td>2001</td>\n",
       "      <td>manual</td>\n",
       "      <td>75</td>\n",
       "      <td>golf</td>\n",
       "      <td>150000</td>\n",
       "      <td>6</td>\n",
       "      <td>petrol</td>\n",
       "      <td>volkswagen</td>\n",
       "      <td>0</td>\n",
       "      <td>2016-03-17 00:00:00</td>\n",
       "      <td>0</td>\n",
       "      <td>91074</td>\n",
       "      <td>2016-03-17 17:40:17</td>\n",
       "      <td>2016-03-17</td>\n",
       "    </tr>\n",
       "    <tr>\n",
       "      <th>4</th>\n",
       "      <td>2016-03-31 17:25:20</td>\n",
       "      <td>3600</td>\n",
       "      <td>small</td>\n",
       "      <td>2008</td>\n",
       "      <td>manual</td>\n",
       "      <td>69</td>\n",
       "      <td>fabia</td>\n",
       "      <td>90000</td>\n",
       "      <td>7</td>\n",
       "      <td>gasoline</td>\n",
       "      <td>skoda</td>\n",
       "      <td>0</td>\n",
       "      <td>2016-03-31 00:00:00</td>\n",
       "      <td>0</td>\n",
       "      <td>60437</td>\n",
       "      <td>2016-04-06 10:17:21</td>\n",
       "      <td>2016-03-31</td>\n",
       "    </tr>\n",
       "    <tr>\n",
       "      <th>...</th>\n",
       "      <td>...</td>\n",
       "      <td>...</td>\n",
       "      <td>...</td>\n",
       "      <td>...</td>\n",
       "      <td>...</td>\n",
       "      <td>...</td>\n",
       "      <td>...</td>\n",
       "      <td>...</td>\n",
       "      <td>...</td>\n",
       "      <td>...</td>\n",
       "      <td>...</td>\n",
       "      <td>...</td>\n",
       "      <td>...</td>\n",
       "      <td>...</td>\n",
       "      <td>...</td>\n",
       "      <td>...</td>\n",
       "      <td>...</td>\n",
       "    </tr>\n",
       "    <tr>\n",
       "      <th>354364</th>\n",
       "      <td>2016-03-21 09:50:58</td>\n",
       "      <td>0</td>\n",
       "      <td>NaN</td>\n",
       "      <td>2005</td>\n",
       "      <td>manual</td>\n",
       "      <td>0</td>\n",
       "      <td>colt</td>\n",
       "      <td>150000</td>\n",
       "      <td>7</td>\n",
       "      <td>petrol</td>\n",
       "      <td>mitsubishi</td>\n",
       "      <td>1</td>\n",
       "      <td>2016-03-21 00:00:00</td>\n",
       "      <td>0</td>\n",
       "      <td>2694</td>\n",
       "      <td>2016-03-21 10:42:49</td>\n",
       "      <td>2016-03-21</td>\n",
       "    </tr>\n",
       "    <tr>\n",
       "      <th>354365</th>\n",
       "      <td>2016-03-14 17:48:27</td>\n",
       "      <td>2200</td>\n",
       "      <td>NaN</td>\n",
       "      <td>2005</td>\n",
       "      <td>NaN</td>\n",
       "      <td>0</td>\n",
       "      <td>NaN</td>\n",
       "      <td>20000</td>\n",
       "      <td>1</td>\n",
       "      <td>NaN</td>\n",
       "      <td>sonstige_autos</td>\n",
       "      <td>&lt;NA&gt;</td>\n",
       "      <td>2016-03-14 00:00:00</td>\n",
       "      <td>0</td>\n",
       "      <td>39576</td>\n",
       "      <td>2016-04-06 00:46:52</td>\n",
       "      <td>2016-03-14</td>\n",
       "    </tr>\n",
       "    <tr>\n",
       "      <th>354366</th>\n",
       "      <td>2016-03-05 19:56:21</td>\n",
       "      <td>1199</td>\n",
       "      <td>convertible</td>\n",
       "      <td>2000</td>\n",
       "      <td>auto</td>\n",
       "      <td>101</td>\n",
       "      <td>fortwo</td>\n",
       "      <td>125000</td>\n",
       "      <td>3</td>\n",
       "      <td>petrol</td>\n",
       "      <td>smart</td>\n",
       "      <td>0</td>\n",
       "      <td>2016-03-05 00:00:00</td>\n",
       "      <td>0</td>\n",
       "      <td>26135</td>\n",
       "      <td>2016-03-11 18:17:12</td>\n",
       "      <td>2016-03-05</td>\n",
       "    </tr>\n",
       "    <tr>\n",
       "      <th>354367</th>\n",
       "      <td>2016-03-19 18:57:12</td>\n",
       "      <td>9200</td>\n",
       "      <td>bus</td>\n",
       "      <td>1996</td>\n",
       "      <td>manual</td>\n",
       "      <td>102</td>\n",
       "      <td>transporter</td>\n",
       "      <td>150000</td>\n",
       "      <td>3</td>\n",
       "      <td>gasoline</td>\n",
       "      <td>volkswagen</td>\n",
       "      <td>0</td>\n",
       "      <td>2016-03-19 00:00:00</td>\n",
       "      <td>0</td>\n",
       "      <td>87439</td>\n",
       "      <td>2016-04-07 07:15:26</td>\n",
       "      <td>2016-03-19</td>\n",
       "    </tr>\n",
       "    <tr>\n",
       "      <th>354368</th>\n",
       "      <td>2016-03-20 19:41:08</td>\n",
       "      <td>3400</td>\n",
       "      <td>wagon</td>\n",
       "      <td>2002</td>\n",
       "      <td>manual</td>\n",
       "      <td>100</td>\n",
       "      <td>golf</td>\n",
       "      <td>150000</td>\n",
       "      <td>6</td>\n",
       "      <td>gasoline</td>\n",
       "      <td>volkswagen</td>\n",
       "      <td>&lt;NA&gt;</td>\n",
       "      <td>2016-03-20 00:00:00</td>\n",
       "      <td>0</td>\n",
       "      <td>40764</td>\n",
       "      <td>2016-03-24 12:45:21</td>\n",
       "      <td>2016-03-20</td>\n",
       "    </tr>\n",
       "  </tbody>\n",
       "</table>\n",
       "<p>354369 rows × 17 columns</p>\n",
       "</div>"
      ],
      "text/plain": [
       "              date_crawled  price vehicle_type  registration_year gearbox  \\\n",
       "0      2016-03-24 11:52:17    480          NaN               1993  manual   \n",
       "1      2016-03-24 10:58:45  18300        coupe               2011  manual   \n",
       "2      2016-03-14 12:52:21   9800          suv               2004    auto   \n",
       "3      2016-03-17 16:54:04   1500        small               2001  manual   \n",
       "4      2016-03-31 17:25:20   3600        small               2008  manual   \n",
       "...                    ...    ...          ...                ...     ...   \n",
       "354364 2016-03-21 09:50:58      0          NaN               2005  manual   \n",
       "354365 2016-03-14 17:48:27   2200          NaN               2005     NaN   \n",
       "354366 2016-03-05 19:56:21   1199  convertible               2000    auto   \n",
       "354367 2016-03-19 18:57:12   9200          bus               1996  manual   \n",
       "354368 2016-03-20 19:41:08   3400        wagon               2002  manual   \n",
       "\n",
       "        power        model  Kilometer  registration_month fuel_type  \\\n",
       "0           0         golf     150000                   0    petrol   \n",
       "1         190          NaN     125000                   5  gasoline   \n",
       "2         163        grand     125000                   8  gasoline   \n",
       "3          75         golf     150000                   6    petrol   \n",
       "4          69        fabia      90000                   7  gasoline   \n",
       "...       ...          ...        ...                 ...       ...   \n",
       "354364      0         colt     150000                   7    petrol   \n",
       "354365      0          NaN      20000                   1       NaN   \n",
       "354366    101       fortwo     125000                   3    petrol   \n",
       "354367    102  transporter     150000                   3  gasoline   \n",
       "354368    100         golf     150000                   6  gasoline   \n",
       "\n",
       "                 brand  repaired         date_created  number_of_pictures  \\\n",
       "0           volkswagen      <NA>  2016-03-24 00:00:00                   0   \n",
       "1                 audi         1  2016-03-24 00:00:00                   0   \n",
       "2                 jeep      <NA>  2016-03-14 00:00:00                   0   \n",
       "3           volkswagen         0  2016-03-17 00:00:00                   0   \n",
       "4                skoda         0  2016-03-31 00:00:00                   0   \n",
       "...                ...       ...                  ...                 ...   \n",
       "354364      mitsubishi         1  2016-03-21 00:00:00                   0   \n",
       "354365  sonstige_autos      <NA>  2016-03-14 00:00:00                   0   \n",
       "354366           smart         0  2016-03-05 00:00:00                   0   \n",
       "354367      volkswagen         0  2016-03-19 00:00:00                   0   \n",
       "354368      volkswagen      <NA>  2016-03-20 00:00:00                   0   \n",
       "\n",
       "        postal_code           last_seen date_reated  \n",
       "0             70435 2016-04-07 03:16:57  2016-03-24  \n",
       "1             66954 2016-04-07 01:46:50  2016-03-24  \n",
       "2             90480 2016-04-05 12:47:46  2016-03-14  \n",
       "3             91074 2016-03-17 17:40:17  2016-03-17  \n",
       "4             60437 2016-04-06 10:17:21  2016-03-31  \n",
       "...             ...                 ...         ...  \n",
       "354364         2694 2016-03-21 10:42:49  2016-03-21  \n",
       "354365        39576 2016-04-06 00:46:52  2016-03-14  \n",
       "354366        26135 2016-03-11 18:17:12  2016-03-05  \n",
       "354367        87439 2016-04-07 07:15:26  2016-03-19  \n",
       "354368        40764 2016-03-24 12:45:21  2016-03-20  \n",
       "\n",
       "[354369 rows x 17 columns]"
      ]
     },
     "execution_count": 12,
     "metadata": {},
     "output_type": "execute_result"
    }
   ],
   "source": [
    "df"
   ]
  },
  {
   "cell_type": "code",
   "execution_count": 13,
   "metadata": {
    "scrolled": false
   },
   "outputs": [
    {
     "name": "stdout",
     "output_type": "stream",
     "text": [
      "<class 'pandas.core.frame.DataFrame'>\n",
      "RangeIndex: 354369 entries, 0 to 354368\n",
      "Data columns (total 17 columns):\n",
      " #   Column              Non-Null Count   Dtype         \n",
      "---  ------              --------------   -----         \n",
      " 0   date_crawled        354369 non-null  datetime64[ns]\n",
      " 1   price               354369 non-null  int64         \n",
      " 2   vehicle_type        316879 non-null  object        \n",
      " 3   registration_year   354369 non-null  int64         \n",
      " 4   gearbox             334536 non-null  object        \n",
      " 5   power               354369 non-null  int64         \n",
      " 6   model               334664 non-null  object        \n",
      " 7   Kilometer           354369 non-null  int64         \n",
      " 8   registration_month  354369 non-null  int64         \n",
      " 9   fuel_type           321474 non-null  object        \n",
      " 10  brand               354369 non-null  object        \n",
      " 11  repaired            283215 non-null  Int64         \n",
      " 12  date_created        354369 non-null  object        \n",
      " 13  number_of_pictures  354369 non-null  int64         \n",
      " 14  postal_code         354369 non-null  int64         \n",
      " 15  last_seen           354369 non-null  datetime64[ns]\n",
      " 16  date_reated         354369 non-null  datetime64[ns]\n",
      "dtypes: Int64(1), datetime64[ns](3), int64(7), object(6)\n",
      "memory usage: 46.3+ MB\n"
     ]
    }
   ],
   "source": [
    "df.info()"
   ]
  },
  {
   "cell_type": "markdown",
   "metadata": {},
   "source": [
    "### Пропуски"
   ]
  },
  {
   "cell_type": "markdown",
   "metadata": {},
   "source": [
    "Для начала посмотрим как много пропусков в каждом признаке"
   ]
  },
  {
   "cell_type": "code",
   "execution_count": 14,
   "metadata": {
    "scrolled": false
   },
   "outputs": [
    {
     "data": {
      "text/plain": [
       "date_crawled           0.000000\n",
       "price                  0.000000\n",
       "vehicle_type          10.579368\n",
       "registration_year      0.000000\n",
       "gearbox                5.596709\n",
       "power                  0.000000\n",
       "model                  5.560588\n",
       "Kilometer              0.000000\n",
       "registration_month     0.000000\n",
       "fuel_type              9.282697\n",
       "brand                  0.000000\n",
       "repaired              20.079070\n",
       "date_created           0.000000\n",
       "number_of_pictures     0.000000\n",
       "postal_code            0.000000\n",
       "last_seen              0.000000\n",
       "date_reated            0.000000\n",
       "dtype: float64"
      ]
     },
     "execution_count": 14,
     "metadata": {},
     "output_type": "execute_result"
    }
   ],
   "source": [
    "df.isna().mean()*100"
   ]
  },
  {
   "cell_type": "markdown",
   "metadata": {},
   "source": [
    "Видно, что есть призаки где можно спокойно удалить пропуски, а есть где придется пробовать заполнить"
   ]
  },
  {
   "cell_type": "code",
   "execution_count": 15,
   "metadata": {},
   "outputs": [],
   "source": [
    "df.dropna(subset=['model', 'gearbox'], inplace=True)"
   ]
  },
  {
   "cell_type": "markdown",
   "metadata": {},
   "source": [
    "тк тут 5 процентов пропусков, их можно удалить"
   ]
  },
  {
   "cell_type": "code",
   "execution_count": 16,
   "metadata": {},
   "outputs": [],
   "source": [
    "grouped_data = df.groupby(['model', 'brand'])['vehicle_type'].transform(lambda x: x.mode().iloc[0]) \n",
    " \n",
    "\n",
    "df['vehicle_type'].fillna(grouped_data, inplace=True)"
   ]
  },
  {
   "cell_type": "markdown",
   "metadata": {},
   "source": [
    "Тут я решил заполнить пропуски в типе кузова оснооваясь на модели и бренде автомобиля"
   ]
  },
  {
   "cell_type": "code",
   "execution_count": 17,
   "metadata": {},
   "outputs": [
    {
     "data": {
      "text/plain": [
       "date_crawled           0.000000\n",
       "price                  0.000000\n",
       "vehicle_type           0.000000\n",
       "registration_year      0.000000\n",
       "gearbox                0.000000\n",
       "power                  0.000000\n",
       "model                  0.000000\n",
       "Kilometer              0.000000\n",
       "registration_month     0.000000\n",
       "fuel_type              6.186944\n",
       "brand                  0.000000\n",
       "repaired              16.529555\n",
       "date_created           0.000000\n",
       "number_of_pictures     0.000000\n",
       "postal_code            0.000000\n",
       "last_seen              0.000000\n",
       "date_reated            0.000000\n",
       "dtype: float64"
      ]
     },
     "execution_count": 17,
     "metadata": {},
     "output_type": "execute_result"
    }
   ],
   "source": [
    "df.isna().mean()*100"
   ]
  },
  {
   "cell_type": "markdown",
   "metadata": {},
   "source": [
    " скорее всего пропуск по рменту будет зависить от цены. Но группировать по Price не очень хорошая идея, ведь это непрерывная переменная, скорее всего оптимальный способ тут заменить все пропуски на unknown(-1)"
   ]
  },
  {
   "cell_type": "code",
   "execution_count": 18,
   "metadata": {},
   "outputs": [],
   "source": [
    "df['repaired'].fillna(2, inplace=True)"
   ]
  },
  {
   "cell_type": "code",
   "execution_count": 19,
   "metadata": {},
   "outputs": [],
   "source": [
    "df.dropna(subset=['fuel_type'], inplace=True)"
   ]
  },
  {
   "cell_type": "code",
   "execution_count": 20,
   "metadata": {
    "scrolled": true
   },
   "outputs": [
    {
     "data": {
      "text/plain": [
       "date_crawled          0.0\n",
       "price                 0.0\n",
       "vehicle_type          0.0\n",
       "registration_year     0.0\n",
       "gearbox               0.0\n",
       "power                 0.0\n",
       "model                 0.0\n",
       "Kilometer             0.0\n",
       "registration_month    0.0\n",
       "fuel_type             0.0\n",
       "brand                 0.0\n",
       "repaired              0.0\n",
       "date_created          0.0\n",
       "number_of_pictures    0.0\n",
       "postal_code           0.0\n",
       "last_seen             0.0\n",
       "date_reated           0.0\n",
       "dtype: float64"
      ]
     },
     "execution_count": 20,
     "metadata": {},
     "output_type": "execute_result"
    }
   ],
   "source": [
    "df.isna().mean()*100"
   ]
  },
  {
   "cell_type": "markdown",
   "metadata": {},
   "source": [
    "### Дубликаты"
   ]
  },
  {
   "cell_type": "code",
   "execution_count": 21,
   "metadata": {},
   "outputs": [
    {
     "data": {
      "text/plain": [
       "4"
      ]
     },
     "execution_count": 21,
     "metadata": {},
     "output_type": "execute_result"
    }
   ],
   "source": [
    "df.duplicated().sum()"
   ]
  },
  {
   "cell_type": "code",
   "execution_count": 22,
   "metadata": {},
   "outputs": [],
   "source": [
    "df.drop_duplicates(inplace=True)"
   ]
  },
  {
   "cell_type": "code",
   "execution_count": 23,
   "metadata": {},
   "outputs": [
    {
     "data": {
      "text/plain": [
       "0"
      ]
     },
     "execution_count": 23,
     "metadata": {},
     "output_type": "execute_result"
    }
   ],
   "source": [
    "df.duplicated().sum()"
   ]
  },
  {
   "cell_type": "markdown",
   "metadata": {},
   "source": [
    "Что если есть больше дубликатов, но данные выгружены в разные дни. Для этого удалю столбец с датой загрузки, он все равно не понадобится для обучения"
   ]
  },
  {
   "cell_type": "code",
   "execution_count": 24,
   "metadata": {},
   "outputs": [],
   "source": [
    "df.drop('date_crawled', axis=1, inplace=True)"
   ]
  },
  {
   "cell_type": "code",
   "execution_count": 25,
   "metadata": {
    "scrolled": true
   },
   "outputs": [
    {
     "data": {
      "text/html": [
       "<div>\n",
       "<style scoped>\n",
       "    .dataframe tbody tr th:only-of-type {\n",
       "        vertical-align: middle;\n",
       "    }\n",
       "\n",
       "    .dataframe tbody tr th {\n",
       "        vertical-align: top;\n",
       "    }\n",
       "\n",
       "    .dataframe thead th {\n",
       "        text-align: right;\n",
       "    }\n",
       "</style>\n",
       "<table border=\"1\" class=\"dataframe\">\n",
       "  <thead>\n",
       "    <tr style=\"text-align: right;\">\n",
       "      <th></th>\n",
       "      <th>price</th>\n",
       "      <th>vehicle_type</th>\n",
       "      <th>registration_year</th>\n",
       "      <th>gearbox</th>\n",
       "      <th>power</th>\n",
       "      <th>model</th>\n",
       "      <th>Kilometer</th>\n",
       "      <th>registration_month</th>\n",
       "      <th>fuel_type</th>\n",
       "      <th>brand</th>\n",
       "      <th>repaired</th>\n",
       "      <th>date_created</th>\n",
       "      <th>number_of_pictures</th>\n",
       "      <th>postal_code</th>\n",
       "      <th>last_seen</th>\n",
       "      <th>date_reated</th>\n",
       "    </tr>\n",
       "  </thead>\n",
       "  <tbody>\n",
       "    <tr>\n",
       "      <th>0</th>\n",
       "      <td>480</td>\n",
       "      <td>sedan</td>\n",
       "      <td>1993</td>\n",
       "      <td>manual</td>\n",
       "      <td>0</td>\n",
       "      <td>golf</td>\n",
       "      <td>150000</td>\n",
       "      <td>0</td>\n",
       "      <td>petrol</td>\n",
       "      <td>volkswagen</td>\n",
       "      <td>2</td>\n",
       "      <td>2016-03-24 00:00:00</td>\n",
       "      <td>0</td>\n",
       "      <td>70435</td>\n",
       "      <td>2016-04-07 03:16:57</td>\n",
       "      <td>2016-03-24</td>\n",
       "    </tr>\n",
       "    <tr>\n",
       "      <th>2</th>\n",
       "      <td>9800</td>\n",
       "      <td>suv</td>\n",
       "      <td>2004</td>\n",
       "      <td>auto</td>\n",
       "      <td>163</td>\n",
       "      <td>grand</td>\n",
       "      <td>125000</td>\n",
       "      <td>8</td>\n",
       "      <td>gasoline</td>\n",
       "      <td>jeep</td>\n",
       "      <td>2</td>\n",
       "      <td>2016-03-14 00:00:00</td>\n",
       "      <td>0</td>\n",
       "      <td>90480</td>\n",
       "      <td>2016-04-05 12:47:46</td>\n",
       "      <td>2016-03-14</td>\n",
       "    </tr>\n",
       "    <tr>\n",
       "      <th>3</th>\n",
       "      <td>1500</td>\n",
       "      <td>small</td>\n",
       "      <td>2001</td>\n",
       "      <td>manual</td>\n",
       "      <td>75</td>\n",
       "      <td>golf</td>\n",
       "      <td>150000</td>\n",
       "      <td>6</td>\n",
       "      <td>petrol</td>\n",
       "      <td>volkswagen</td>\n",
       "      <td>0</td>\n",
       "      <td>2016-03-17 00:00:00</td>\n",
       "      <td>0</td>\n",
       "      <td>91074</td>\n",
       "      <td>2016-03-17 17:40:17</td>\n",
       "      <td>2016-03-17</td>\n",
       "    </tr>\n",
       "    <tr>\n",
       "      <th>4</th>\n",
       "      <td>3600</td>\n",
       "      <td>small</td>\n",
       "      <td>2008</td>\n",
       "      <td>manual</td>\n",
       "      <td>69</td>\n",
       "      <td>fabia</td>\n",
       "      <td>90000</td>\n",
       "      <td>7</td>\n",
       "      <td>gasoline</td>\n",
       "      <td>skoda</td>\n",
       "      <td>0</td>\n",
       "      <td>2016-03-31 00:00:00</td>\n",
       "      <td>0</td>\n",
       "      <td>60437</td>\n",
       "      <td>2016-04-06 10:17:21</td>\n",
       "      <td>2016-03-31</td>\n",
       "    </tr>\n",
       "    <tr>\n",
       "      <th>5</th>\n",
       "      <td>650</td>\n",
       "      <td>sedan</td>\n",
       "      <td>1995</td>\n",
       "      <td>manual</td>\n",
       "      <td>102</td>\n",
       "      <td>3er</td>\n",
       "      <td>150000</td>\n",
       "      <td>10</td>\n",
       "      <td>petrol</td>\n",
       "      <td>bmw</td>\n",
       "      <td>1</td>\n",
       "      <td>2016-04-04 00:00:00</td>\n",
       "      <td>0</td>\n",
       "      <td>33775</td>\n",
       "      <td>2016-04-06 19:17:07</td>\n",
       "      <td>2016-04-04</td>\n",
       "    </tr>\n",
       "    <tr>\n",
       "      <th>...</th>\n",
       "      <td>...</td>\n",
       "      <td>...</td>\n",
       "      <td>...</td>\n",
       "      <td>...</td>\n",
       "      <td>...</td>\n",
       "      <td>...</td>\n",
       "      <td>...</td>\n",
       "      <td>...</td>\n",
       "      <td>...</td>\n",
       "      <td>...</td>\n",
       "      <td>...</td>\n",
       "      <td>...</td>\n",
       "      <td>...</td>\n",
       "      <td>...</td>\n",
       "      <td>...</td>\n",
       "      <td>...</td>\n",
       "    </tr>\n",
       "    <tr>\n",
       "      <th>354363</th>\n",
       "      <td>1150</td>\n",
       "      <td>bus</td>\n",
       "      <td>2000</td>\n",
       "      <td>manual</td>\n",
       "      <td>0</td>\n",
       "      <td>zafira</td>\n",
       "      <td>150000</td>\n",
       "      <td>3</td>\n",
       "      <td>petrol</td>\n",
       "      <td>opel</td>\n",
       "      <td>0</td>\n",
       "      <td>2016-03-27 00:00:00</td>\n",
       "      <td>0</td>\n",
       "      <td>26624</td>\n",
       "      <td>2016-03-29 10:17:23</td>\n",
       "      <td>2016-03-27</td>\n",
       "    </tr>\n",
       "    <tr>\n",
       "      <th>354364</th>\n",
       "      <td>0</td>\n",
       "      <td>sedan</td>\n",
       "      <td>2005</td>\n",
       "      <td>manual</td>\n",
       "      <td>0</td>\n",
       "      <td>colt</td>\n",
       "      <td>150000</td>\n",
       "      <td>7</td>\n",
       "      <td>petrol</td>\n",
       "      <td>mitsubishi</td>\n",
       "      <td>1</td>\n",
       "      <td>2016-03-21 00:00:00</td>\n",
       "      <td>0</td>\n",
       "      <td>2694</td>\n",
       "      <td>2016-03-21 10:42:49</td>\n",
       "      <td>2016-03-21</td>\n",
       "    </tr>\n",
       "    <tr>\n",
       "      <th>354366</th>\n",
       "      <td>1199</td>\n",
       "      <td>convertible</td>\n",
       "      <td>2000</td>\n",
       "      <td>auto</td>\n",
       "      <td>101</td>\n",
       "      <td>fortwo</td>\n",
       "      <td>125000</td>\n",
       "      <td>3</td>\n",
       "      <td>petrol</td>\n",
       "      <td>smart</td>\n",
       "      <td>0</td>\n",
       "      <td>2016-03-05 00:00:00</td>\n",
       "      <td>0</td>\n",
       "      <td>26135</td>\n",
       "      <td>2016-03-11 18:17:12</td>\n",
       "      <td>2016-03-05</td>\n",
       "    </tr>\n",
       "    <tr>\n",
       "      <th>354367</th>\n",
       "      <td>9200</td>\n",
       "      <td>bus</td>\n",
       "      <td>1996</td>\n",
       "      <td>manual</td>\n",
       "      <td>102</td>\n",
       "      <td>transporter</td>\n",
       "      <td>150000</td>\n",
       "      <td>3</td>\n",
       "      <td>gasoline</td>\n",
       "      <td>volkswagen</td>\n",
       "      <td>0</td>\n",
       "      <td>2016-03-19 00:00:00</td>\n",
       "      <td>0</td>\n",
       "      <td>87439</td>\n",
       "      <td>2016-04-07 07:15:26</td>\n",
       "      <td>2016-03-19</td>\n",
       "    </tr>\n",
       "    <tr>\n",
       "      <th>354368</th>\n",
       "      <td>3400</td>\n",
       "      <td>wagon</td>\n",
       "      <td>2002</td>\n",
       "      <td>manual</td>\n",
       "      <td>100</td>\n",
       "      <td>golf</td>\n",
       "      <td>150000</td>\n",
       "      <td>6</td>\n",
       "      <td>gasoline</td>\n",
       "      <td>volkswagen</td>\n",
       "      <td>2</td>\n",
       "      <td>2016-03-20 00:00:00</td>\n",
       "      <td>0</td>\n",
       "      <td>40764</td>\n",
       "      <td>2016-03-24 12:45:21</td>\n",
       "      <td>2016-03-20</td>\n",
       "    </tr>\n",
       "  </tbody>\n",
       "</table>\n",
       "<p>299224 rows × 16 columns</p>\n",
       "</div>"
      ],
      "text/plain": [
       "        price vehicle_type  registration_year gearbox  power        model  \\\n",
       "0         480        sedan               1993  manual      0         golf   \n",
       "2        9800          suv               2004    auto    163        grand   \n",
       "3        1500        small               2001  manual     75         golf   \n",
       "4        3600        small               2008  manual     69        fabia   \n",
       "5         650        sedan               1995  manual    102          3er   \n",
       "...       ...          ...                ...     ...    ...          ...   \n",
       "354363   1150          bus               2000  manual      0       zafira   \n",
       "354364      0        sedan               2005  manual      0         colt   \n",
       "354366   1199  convertible               2000    auto    101       fortwo   \n",
       "354367   9200          bus               1996  manual    102  transporter   \n",
       "354368   3400        wagon               2002  manual    100         golf   \n",
       "\n",
       "        Kilometer  registration_month fuel_type       brand  repaired  \\\n",
       "0          150000                   0    petrol  volkswagen         2   \n",
       "2          125000                   8  gasoline        jeep         2   \n",
       "3          150000                   6    petrol  volkswagen         0   \n",
       "4           90000                   7  gasoline       skoda         0   \n",
       "5          150000                  10    petrol         bmw         1   \n",
       "...           ...                 ...       ...         ...       ...   \n",
       "354363     150000                   3    petrol        opel         0   \n",
       "354364     150000                   7    petrol  mitsubishi         1   \n",
       "354366     125000                   3    petrol       smart         0   \n",
       "354367     150000                   3  gasoline  volkswagen         0   \n",
       "354368     150000                   6  gasoline  volkswagen         2   \n",
       "\n",
       "               date_created  number_of_pictures  postal_code  \\\n",
       "0       2016-03-24 00:00:00                   0        70435   \n",
       "2       2016-03-14 00:00:00                   0        90480   \n",
       "3       2016-03-17 00:00:00                   0        91074   \n",
       "4       2016-03-31 00:00:00                   0        60437   \n",
       "5       2016-04-04 00:00:00                   0        33775   \n",
       "...                     ...                 ...          ...   \n",
       "354363  2016-03-27 00:00:00                   0        26624   \n",
       "354364  2016-03-21 00:00:00                   0         2694   \n",
       "354366  2016-03-05 00:00:00                   0        26135   \n",
       "354367  2016-03-19 00:00:00                   0        87439   \n",
       "354368  2016-03-20 00:00:00                   0        40764   \n",
       "\n",
       "                 last_seen date_reated  \n",
       "0      2016-04-07 03:16:57  2016-03-24  \n",
       "2      2016-04-05 12:47:46  2016-03-14  \n",
       "3      2016-03-17 17:40:17  2016-03-17  \n",
       "4      2016-04-06 10:17:21  2016-03-31  \n",
       "5      2016-04-06 19:17:07  2016-04-04  \n",
       "...                    ...         ...  \n",
       "354363 2016-03-29 10:17:23  2016-03-27  \n",
       "354364 2016-03-21 10:42:49  2016-03-21  \n",
       "354366 2016-03-11 18:17:12  2016-03-05  \n",
       "354367 2016-04-07 07:15:26  2016-03-19  \n",
       "354368 2016-03-24 12:45:21  2016-03-20  \n",
       "\n",
       "[299224 rows x 16 columns]"
      ]
     },
     "execution_count": 25,
     "metadata": {},
     "output_type": "execute_result"
    }
   ],
   "source": [
    "df"
   ]
  },
  {
   "cell_type": "code",
   "execution_count": 26,
   "metadata": {},
   "outputs": [
    {
     "data": {
      "text/plain": [
       "82"
      ]
     },
     "execution_count": 26,
     "metadata": {},
     "output_type": "execute_result"
    }
   ],
   "source": [
    "df.duplicated().sum()"
   ]
  },
  {
   "cell_type": "code",
   "execution_count": 27,
   "metadata": {},
   "outputs": [],
   "source": [
    "df.drop_duplicates(inplace=True)"
   ]
  },
  {
   "cell_type": "code",
   "execution_count": 28,
   "metadata": {
    "scrolled": true
   },
   "outputs": [
    {
     "data": {
      "text/plain": [
       "0"
      ]
     },
     "execution_count": 28,
     "metadata": {},
     "output_type": "execute_result"
    }
   ],
   "source": [
    "df.duplicated().sum()"
   ]
  },
  {
   "cell_type": "markdown",
   "metadata": {},
   "source": [
    "так и оказалось"
   ]
  },
  {
   "cell_type": "markdown",
   "metadata": {},
   "source": [
    "### Лишние признаки"
   ]
  },
  {
   "cell_type": "markdown",
   "metadata": {},
   "source": [
    "Прежде, чем смотреть на распределение признаков нужно удалить ненужные в данном случае"
   ]
  },
  {
   "cell_type": "code",
   "execution_count": 29,
   "metadata": {},
   "outputs": [],
   "source": [
    "trash = ['date_created', 'number_of_pictures', 'postal_code', 'last_seen', 'date_reated', 'registration_month']"
   ]
  },
  {
   "cell_type": "code",
   "execution_count": 30,
   "metadata": {},
   "outputs": [],
   "source": [
    "df.drop(trash, inplace=True, axis=1)"
   ]
  },
  {
   "cell_type": "code",
   "execution_count": 31,
   "metadata": {},
   "outputs": [
    {
     "data": {
      "text/html": [
       "<div>\n",
       "<style scoped>\n",
       "    .dataframe tbody tr th:only-of-type {\n",
       "        vertical-align: middle;\n",
       "    }\n",
       "\n",
       "    .dataframe tbody tr th {\n",
       "        vertical-align: top;\n",
       "    }\n",
       "\n",
       "    .dataframe thead th {\n",
       "        text-align: right;\n",
       "    }\n",
       "</style>\n",
       "<table border=\"1\" class=\"dataframe\">\n",
       "  <thead>\n",
       "    <tr style=\"text-align: right;\">\n",
       "      <th></th>\n",
       "      <th>price</th>\n",
       "      <th>vehicle_type</th>\n",
       "      <th>registration_year</th>\n",
       "      <th>gearbox</th>\n",
       "      <th>power</th>\n",
       "      <th>model</th>\n",
       "      <th>Kilometer</th>\n",
       "      <th>fuel_type</th>\n",
       "      <th>brand</th>\n",
       "      <th>repaired</th>\n",
       "    </tr>\n",
       "  </thead>\n",
       "  <tbody>\n",
       "    <tr>\n",
       "      <th>0</th>\n",
       "      <td>480</td>\n",
       "      <td>sedan</td>\n",
       "      <td>1993</td>\n",
       "      <td>manual</td>\n",
       "      <td>0</td>\n",
       "      <td>golf</td>\n",
       "      <td>150000</td>\n",
       "      <td>petrol</td>\n",
       "      <td>volkswagen</td>\n",
       "      <td>2</td>\n",
       "    </tr>\n",
       "    <tr>\n",
       "      <th>2</th>\n",
       "      <td>9800</td>\n",
       "      <td>suv</td>\n",
       "      <td>2004</td>\n",
       "      <td>auto</td>\n",
       "      <td>163</td>\n",
       "      <td>grand</td>\n",
       "      <td>125000</td>\n",
       "      <td>gasoline</td>\n",
       "      <td>jeep</td>\n",
       "      <td>2</td>\n",
       "    </tr>\n",
       "    <tr>\n",
       "      <th>3</th>\n",
       "      <td>1500</td>\n",
       "      <td>small</td>\n",
       "      <td>2001</td>\n",
       "      <td>manual</td>\n",
       "      <td>75</td>\n",
       "      <td>golf</td>\n",
       "      <td>150000</td>\n",
       "      <td>petrol</td>\n",
       "      <td>volkswagen</td>\n",
       "      <td>0</td>\n",
       "    </tr>\n",
       "    <tr>\n",
       "      <th>4</th>\n",
       "      <td>3600</td>\n",
       "      <td>small</td>\n",
       "      <td>2008</td>\n",
       "      <td>manual</td>\n",
       "      <td>69</td>\n",
       "      <td>fabia</td>\n",
       "      <td>90000</td>\n",
       "      <td>gasoline</td>\n",
       "      <td>skoda</td>\n",
       "      <td>0</td>\n",
       "    </tr>\n",
       "    <tr>\n",
       "      <th>5</th>\n",
       "      <td>650</td>\n",
       "      <td>sedan</td>\n",
       "      <td>1995</td>\n",
       "      <td>manual</td>\n",
       "      <td>102</td>\n",
       "      <td>3er</td>\n",
       "      <td>150000</td>\n",
       "      <td>petrol</td>\n",
       "      <td>bmw</td>\n",
       "      <td>1</td>\n",
       "    </tr>\n",
       "    <tr>\n",
       "      <th>...</th>\n",
       "      <td>...</td>\n",
       "      <td>...</td>\n",
       "      <td>...</td>\n",
       "      <td>...</td>\n",
       "      <td>...</td>\n",
       "      <td>...</td>\n",
       "      <td>...</td>\n",
       "      <td>...</td>\n",
       "      <td>...</td>\n",
       "      <td>...</td>\n",
       "    </tr>\n",
       "    <tr>\n",
       "      <th>354363</th>\n",
       "      <td>1150</td>\n",
       "      <td>bus</td>\n",
       "      <td>2000</td>\n",
       "      <td>manual</td>\n",
       "      <td>0</td>\n",
       "      <td>zafira</td>\n",
       "      <td>150000</td>\n",
       "      <td>petrol</td>\n",
       "      <td>opel</td>\n",
       "      <td>0</td>\n",
       "    </tr>\n",
       "    <tr>\n",
       "      <th>354364</th>\n",
       "      <td>0</td>\n",
       "      <td>sedan</td>\n",
       "      <td>2005</td>\n",
       "      <td>manual</td>\n",
       "      <td>0</td>\n",
       "      <td>colt</td>\n",
       "      <td>150000</td>\n",
       "      <td>petrol</td>\n",
       "      <td>mitsubishi</td>\n",
       "      <td>1</td>\n",
       "    </tr>\n",
       "    <tr>\n",
       "      <th>354366</th>\n",
       "      <td>1199</td>\n",
       "      <td>convertible</td>\n",
       "      <td>2000</td>\n",
       "      <td>auto</td>\n",
       "      <td>101</td>\n",
       "      <td>fortwo</td>\n",
       "      <td>125000</td>\n",
       "      <td>petrol</td>\n",
       "      <td>smart</td>\n",
       "      <td>0</td>\n",
       "    </tr>\n",
       "    <tr>\n",
       "      <th>354367</th>\n",
       "      <td>9200</td>\n",
       "      <td>bus</td>\n",
       "      <td>1996</td>\n",
       "      <td>manual</td>\n",
       "      <td>102</td>\n",
       "      <td>transporter</td>\n",
       "      <td>150000</td>\n",
       "      <td>gasoline</td>\n",
       "      <td>volkswagen</td>\n",
       "      <td>0</td>\n",
       "    </tr>\n",
       "    <tr>\n",
       "      <th>354368</th>\n",
       "      <td>3400</td>\n",
       "      <td>wagon</td>\n",
       "      <td>2002</td>\n",
       "      <td>manual</td>\n",
       "      <td>100</td>\n",
       "      <td>golf</td>\n",
       "      <td>150000</td>\n",
       "      <td>gasoline</td>\n",
       "      <td>volkswagen</td>\n",
       "      <td>2</td>\n",
       "    </tr>\n",
       "  </tbody>\n",
       "</table>\n",
       "<p>299142 rows × 10 columns</p>\n",
       "</div>"
      ],
      "text/plain": [
       "        price vehicle_type  registration_year gearbox  power        model  \\\n",
       "0         480        sedan               1993  manual      0         golf   \n",
       "2        9800          suv               2004    auto    163        grand   \n",
       "3        1500        small               2001  manual     75         golf   \n",
       "4        3600        small               2008  manual     69        fabia   \n",
       "5         650        sedan               1995  manual    102          3er   \n",
       "...       ...          ...                ...     ...    ...          ...   \n",
       "354363   1150          bus               2000  manual      0       zafira   \n",
       "354364      0        sedan               2005  manual      0         colt   \n",
       "354366   1199  convertible               2000    auto    101       fortwo   \n",
       "354367   9200          bus               1996  manual    102  transporter   \n",
       "354368   3400        wagon               2002  manual    100         golf   \n",
       "\n",
       "        Kilometer fuel_type       brand  repaired  \n",
       "0          150000    petrol  volkswagen         2  \n",
       "2          125000  gasoline        jeep         2  \n",
       "3          150000    petrol  volkswagen         0  \n",
       "4           90000  gasoline       skoda         0  \n",
       "5          150000    petrol         bmw         1  \n",
       "...           ...       ...         ...       ...  \n",
       "354363     150000    petrol        opel         0  \n",
       "354364     150000    petrol  mitsubishi         1  \n",
       "354366     125000    petrol       smart         0  \n",
       "354367     150000  gasoline  volkswagen         0  \n",
       "354368     150000  gasoline  volkswagen         2  \n",
       "\n",
       "[299142 rows x 10 columns]"
      ]
     },
     "execution_count": 31,
     "metadata": {},
     "output_type": "execute_result"
    }
   ],
   "source": [
    "df"
   ]
  },
  {
   "cell_type": "markdown",
   "metadata": {},
   "source": [
    "### Выбросы"
   ]
  },
  {
   "cell_type": "code",
   "execution_count": 32,
   "metadata": {
    "scrolled": true
   },
   "outputs": [
    {
     "data": {
      "text/html": [
       "<div>\n",
       "<style scoped>\n",
       "    .dataframe tbody tr th:only-of-type {\n",
       "        vertical-align: middle;\n",
       "    }\n",
       "\n",
       "    .dataframe tbody tr th {\n",
       "        vertical-align: top;\n",
       "    }\n",
       "\n",
       "    .dataframe thead th {\n",
       "        text-align: right;\n",
       "    }\n",
       "</style>\n",
       "<table border=\"1\" class=\"dataframe\">\n",
       "  <thead>\n",
       "    <tr style=\"text-align: right;\">\n",
       "      <th></th>\n",
       "      <th>price</th>\n",
       "      <th>registration_year</th>\n",
       "      <th>power</th>\n",
       "      <th>Kilometer</th>\n",
       "      <th>repaired</th>\n",
       "    </tr>\n",
       "  </thead>\n",
       "  <tbody>\n",
       "    <tr>\n",
       "      <th>count</th>\n",
       "      <td>299142.000000</td>\n",
       "      <td>299142.000000</td>\n",
       "      <td>299142.000000</td>\n",
       "      <td>299142.000000</td>\n",
       "      <td>299142.000000</td>\n",
       "    </tr>\n",
       "    <tr>\n",
       "      <th>mean</th>\n",
       "      <td>4743.139105</td>\n",
       "      <td>2003.206982</td>\n",
       "      <td>115.843359</td>\n",
       "      <td>128489.998061</td>\n",
       "      <td>0.401782</td>\n",
       "    </tr>\n",
       "    <tr>\n",
       "      <th>std</th>\n",
       "      <td>4604.454351</td>\n",
       "      <td>24.507563</td>\n",
       "      <td>172.635690</td>\n",
       "      <td>36698.036017</td>\n",
       "      <td>0.737117</td>\n",
       "    </tr>\n",
       "    <tr>\n",
       "      <th>min</th>\n",
       "      <td>0.000000</td>\n",
       "      <td>1000.000000</td>\n",
       "      <td>0.000000</td>\n",
       "      <td>5000.000000</td>\n",
       "      <td>0.000000</td>\n",
       "    </tr>\n",
       "    <tr>\n",
       "      <th>25%</th>\n",
       "      <td>1250.000000</td>\n",
       "      <td>1999.000000</td>\n",
       "      <td>75.000000</td>\n",
       "      <td>125000.000000</td>\n",
       "      <td>0.000000</td>\n",
       "    </tr>\n",
       "    <tr>\n",
       "      <th>50%</th>\n",
       "      <td>3000.000000</td>\n",
       "      <td>2003.000000</td>\n",
       "      <td>108.000000</td>\n",
       "      <td>150000.000000</td>\n",
       "      <td>0.000000</td>\n",
       "    </tr>\n",
       "    <tr>\n",
       "      <th>75%</th>\n",
       "      <td>6900.000000</td>\n",
       "      <td>2007.000000</td>\n",
       "      <td>144.000000</td>\n",
       "      <td>150000.000000</td>\n",
       "      <td>1.000000</td>\n",
       "    </tr>\n",
       "    <tr>\n",
       "      <th>max</th>\n",
       "      <td>20000.000000</td>\n",
       "      <td>9000.000000</td>\n",
       "      <td>20000.000000</td>\n",
       "      <td>150000.000000</td>\n",
       "      <td>2.000000</td>\n",
       "    </tr>\n",
       "  </tbody>\n",
       "</table>\n",
       "</div>"
      ],
      "text/plain": [
       "               price  registration_year          power      Kilometer  \\\n",
       "count  299142.000000      299142.000000  299142.000000  299142.000000   \n",
       "mean     4743.139105        2003.206982     115.843359  128489.998061   \n",
       "std      4604.454351          24.507563     172.635690   36698.036017   \n",
       "min         0.000000        1000.000000       0.000000    5000.000000   \n",
       "25%      1250.000000        1999.000000      75.000000  125000.000000   \n",
       "50%      3000.000000        2003.000000     108.000000  150000.000000   \n",
       "75%      6900.000000        2007.000000     144.000000  150000.000000   \n",
       "max     20000.000000        9000.000000   20000.000000  150000.000000   \n",
       "\n",
       "            repaired  \n",
       "count  299142.000000  \n",
       "mean        0.401782  \n",
       "std         0.737117  \n",
       "min         0.000000  \n",
       "25%         0.000000  \n",
       "50%         0.000000  \n",
       "75%         1.000000  \n",
       "max         2.000000  "
      ]
     },
     "execution_count": 32,
     "metadata": {},
     "output_type": "execute_result"
    }
   ],
   "source": [
    "df.describe()"
   ]
  },
  {
   "cell_type": "markdown",
   "metadata": {},
   "source": [
    "- Сразу видна бесплатная машина, ей можно будет заменить цену уже используя модель\n",
    "- Выбросы в годе регестрации\n",
    "- Мощности \n",
    "- Месяце"
   ]
  },
  {
   "cell_type": "code",
   "execution_count": 33,
   "metadata": {},
   "outputs": [
    {
     "data": {
      "image/png": "[encoded data removed]",
      "text/plain": [
       "<Figure size 432x288 with 1 Axes>"
      ]
     },
     "metadata": {
      "needs_background": "light"
     },
     "output_type": "display_data"
    }
   ],
   "source": [
    "sns.histplot(df['price'], bins='auto')\n",
    "plt.xlabel('Цена за авто')\n",
    "plt.ylabel('Кол-во предложений')\n",
    "plt.title('Распределение цен')\n",
    "\n",
    "plt.show()"
   ]
  },
  {
   "cell_type": "markdown",
   "metadata": {},
   "source": [
    "Видны выбросы в виде 0 и значений рядом с ним"
   ]
  },
  {
   "cell_type": "markdown",
   "metadata": {},
   "source": [
    "Я изучил несколько сайтов с продажой авто и обнаружил, что дешевых машин(300+- евро) довольно много, но они в ужасном состояний, а предложений до 150 евро нет - буду использовать это значения для отсечения"
   ]
  },
  {
   "cell_type": "code",
   "execution_count": 34,
   "metadata": {},
   "outputs": [],
   "source": [
    "df = df[df['price']>150]"
   ]
  },
  {
   "cell_type": "code",
   "execution_count": 35,
   "metadata": {
    "scrolled": true
   },
   "outputs": [
    {
     "data": {
      "text/html": [
       "<div>\n",
       "<style scoped>\n",
       "    .dataframe tbody tr th:only-of-type {\n",
       "        vertical-align: middle;\n",
       "    }\n",
       "\n",
       "    .dataframe tbody tr th {\n",
       "        vertical-align: top;\n",
       "    }\n",
       "\n",
       "    .dataframe thead th {\n",
       "        text-align: right;\n",
       "    }\n",
       "</style>\n",
       "<table border=\"1\" class=\"dataframe\">\n",
       "  <thead>\n",
       "    <tr style=\"text-align: right;\">\n",
       "      <th></th>\n",
       "      <th>price</th>\n",
       "      <th>vehicle_type</th>\n",
       "      <th>registration_year</th>\n",
       "      <th>gearbox</th>\n",
       "      <th>power</th>\n",
       "      <th>model</th>\n",
       "      <th>Kilometer</th>\n",
       "      <th>fuel_type</th>\n",
       "      <th>brand</th>\n",
       "      <th>repaired</th>\n",
       "    </tr>\n",
       "  </thead>\n",
       "  <tbody>\n",
       "  </tbody>\n",
       "</table>\n",
       "</div>"
      ],
      "text/plain": [
       "Empty DataFrame\n",
       "Columns: [price, vehicle_type, registration_year, gearbox, power, model, Kilometer, fuel_type, brand, repaired]\n",
       "Index: []"
      ]
     },
     "execution_count": 35,
     "metadata": {},
     "output_type": "execute_result"
    }
   ],
   "source": [
    "df[df['price']==0]"
   ]
  },
  {
   "cell_type": "code",
   "execution_count": 36,
   "metadata": {},
   "outputs": [
    {
     "data": {
      "text/html": [
       "<div>\n",
       "<style scoped>\n",
       "    .dataframe tbody tr th:only-of-type {\n",
       "        vertical-align: middle;\n",
       "    }\n",
       "\n",
       "    .dataframe tbody tr th {\n",
       "        vertical-align: top;\n",
       "    }\n",
       "\n",
       "    .dataframe thead th {\n",
       "        text-align: right;\n",
       "    }\n",
       "</style>\n",
       "<table border=\"1\" class=\"dataframe\">\n",
       "  <thead>\n",
       "    <tr style=\"text-align: right;\">\n",
       "      <th></th>\n",
       "      <th>price</th>\n",
       "      <th>vehicle_type</th>\n",
       "      <th>registration_year</th>\n",
       "      <th>gearbox</th>\n",
       "      <th>power</th>\n",
       "      <th>model</th>\n",
       "      <th>Kilometer</th>\n",
       "      <th>fuel_type</th>\n",
       "      <th>brand</th>\n",
       "      <th>repaired</th>\n",
       "    </tr>\n",
       "  </thead>\n",
       "  <tbody>\n",
       "  </tbody>\n",
       "</table>\n",
       "</div>"
      ],
      "text/plain": [
       "Empty DataFrame\n",
       "Columns: [price, vehicle_type, registration_year, gearbox, power, model, Kilometer, fuel_type, brand, repaired]\n",
       "Index: []"
      ]
     },
     "execution_count": 36,
     "metadata": {},
     "output_type": "execute_result"
    }
   ],
   "source": [
    "df[df['price']==100]"
   ]
  },
  {
   "cell_type": "code",
   "execution_count": 37,
   "metadata": {
    "scrolled": true
   },
   "outputs": [
    {
     "data": {
      "image/png": "[encoded data removed]",
      "text/plain": [
       "<Figure size 432x288 with 1 Axes>"
      ]
     },
     "metadata": {
      "needs_background": "light"
     },
     "output_type": "display_data"
    }
   ],
   "source": [
    "sns.histplot(df['power'], bins=3000)\n",
    "plt.xlabel('мощность авто')\n",
    "plt.ylabel('Кол-во предложений')\n",
    "plt.title('Распределение мощностей авто')\n",
    "plt.xlim(0, 500)\n",
    "plt.show()"
   ]
  },
  {
   "cell_type": "markdown",
   "metadata": {
    "scrolled": true
   },
   "source": [
    "видны выбросы у 0 и выше 300"
   ]
  },
  {
   "cell_type": "code",
   "execution_count": 38,
   "metadata": {},
   "outputs": [
    {
     "data": {
      "text/plain": [
       "2852"
      ]
     },
     "execution_count": 38,
     "metadata": {},
     "output_type": "execute_result"
    }
   ],
   "source": [
    "len(df[df['power']>300])"
   ]
  },
  {
   "cell_type": "code",
   "execution_count": 39,
   "metadata": {},
   "outputs": [],
   "source": [
    "df = df[(df['power']<350) & (df['power'] > 50)]"
   ]
  },
  {
   "cell_type": "code",
   "execution_count": 40,
   "metadata": {
    "scrolled": true
   },
   "outputs": [
    {
     "data": {
      "image/png": "[encoded data removed]",
      "text/plain": [
       "<Figure size 432x288 with 1 Axes>"
      ]
     },
     "metadata": {
      "needs_background": "light"
     },
     "output_type": "display_data"
    }
   ],
   "source": [
    "sns.histplot(df['power'], bins='auto')\n",
    "plt.xlabel('мощность авто')\n",
    "plt.ylabel('Кол-во предложений')\n",
    "plt.title('Распределение цмощностей авто')\n",
    "plt.xlim(0, 500)\n",
    "plt.show()"
   ]
  },
  {
   "cell_type": "code",
   "execution_count": 41,
   "metadata": {
    "scrolled": false
   },
   "outputs": [
    {
     "data": {
      "image/png": "[encoded data removed]",
      "text/plain": [
       "<Figure size 432x288 with 1 Axes>"
      ]
     },
     "metadata": {
      "needs_background": "light"
     },
     "output_type": "display_data"
    }
   ],
   "source": [
    "sns.histplot(df['Kilometer'], bins='auto')\n",
    "plt.xlabel('мощность авто')\n",
    "plt.ylabel('Кол-во предложений')\n",
    "plt.title('Распределение цмощностей авто')\n",
    "\n",
    "plt.show()"
   ]
  },
  {
   "cell_type": "markdown",
   "metadata": {},
   "source": [
    "после describe и визуализации видно, что этот признак имеет очень большой разброс и основная чать сконцетрирована в значении 150000"
   ]
  },
  {
   "cell_type": "code",
   "execution_count": 42,
   "metadata": {
    "scrolled": true
   },
   "outputs": [
    {
     "data": {
      "text/plain": [
       "0.7665553795725512"
      ]
     },
     "execution_count": 42,
     "metadata": {},
     "output_type": "execute_result"
    }
   ],
   "source": [
    "len(df[df['Kilometer']>100000]) / len(df)"
   ]
  },
  {
   "cell_type": "markdown",
   "metadata": {},
   "source": [
    "я оставлю данные с ≥ 100000"
   ]
  },
  {
   "cell_type": "code",
   "execution_count": 43,
   "metadata": {
    "scrolled": true
   },
   "outputs": [
    {
     "data": {
      "image/png": "[encoded data removed]",
      "text/plain": [
       "<Figure size 432x288 with 1 Axes>"
      ]
     },
     "metadata": {
      "needs_background": "light"
     },
     "output_type": "display_data"
    }
   ],
   "source": [
    "sns.histplot(df['Kilometer'], bins='auto')\n",
    "plt.xlabel('мощность авто')\n",
    "plt.ylabel('Кол-во предложений')\n",
    "plt.title('Распределение цмощностей авто')\n",
    "\n",
    "plt.show()"
   ]
  },
  {
   "cell_type": "code",
   "execution_count": 44,
   "metadata": {
    "scrolled": false
   },
   "outputs": [
    {
     "data": {
      "image/png": "[encoded data removed]",
      "text/plain": [
       "<Figure size 432x288 with 1 Axes>"
      ]
     },
     "metadata": {
      "needs_background": "light"
     },
     "output_type": "display_data"
    }
   ],
   "source": [
    "info = df['registration_year'].value_counts()\n",
    "plt.bar(info.index, info.values)\n",
    "plt.xlabel('год авто')\n",
    "plt.ylabel('Кол-во предложений')\n",
    "plt.title('Распределение лет регистрации авто')\n",
    "plt.xlim(1960, 2020)\n",
    "\n",
    "plt.show()"
   ]
  },
  {
   "cell_type": "markdown",
   "metadata": {},
   "source": [
    "Тут я ничего удалять не буду, да, в основном все машины в датасете после 1995г, однако и в дизни можно встретить много старых автомобилей, думаю тут надо оставить все как есть\n"
   ]
  },
  {
   "cell_type": "code",
   "execution_count": 45,
   "metadata": {
    "scrolled": true
   },
   "outputs": [],
   "source": [
    "df = df[df['registration_year']<=2016]"
   ]
  },
  {
   "cell_type": "code",
   "execution_count": 46,
   "metadata": {},
   "outputs": [
    {
     "data": {
      "image/png": "[encoded data removed]",
      "text/plain": [
       "<Figure size 432x288 with 1 Axes>"
      ]
     },
     "metadata": {
      "needs_background": "light"
     },
     "output_type": "display_data"
    }
   ],
   "source": [
    "info = df['registration_year'].value_counts()\n",
    "plt.bar(info.index, info.values)\n",
    "plt.xlabel('год авто')\n",
    "plt.ylabel('Кол-во предложений')\n",
    "plt.title('Распределение лет регистрации авто')\n",
    "plt.xlim(1960, 2020)\n",
    "\n",
    "plt.show()"
   ]
  },
  {
   "cell_type": "code",
   "execution_count": 47,
   "metadata": {
    "scrolled": true
   },
   "outputs": [
    {
     "data": {
      "image/png": "[encoded data removed]",
      "text/plain": [
       "<Figure size 432x288 with 1 Axes>"
      ]
     },
     "metadata": {
      "needs_background": "light"
     },
     "output_type": "display_data"
    }
   ],
   "source": [
    "info = df['repaired'].value_counts()\n",
    "plt.bar(info.index, info.values)\n",
    "plt.xlabel('ремонт авто')\n",
    "plt.ylabel('Кол-во предложений')\n",
    "plt.title('Распределение по наличию ремонта  авто')\n",
    "\n",
    "plt.show()"
   ]
  },
  {
   "cell_type": "markdown",
   "metadata": {},
   "source": [
    "большинство машин не имели ремонта или так указали их владельцы, так же тут надо помнить, что 2 означает об отсутвии информации был ли ремонт у автомобиля или нет и таких данных больше, чем данных в которых указано о наличии ремонта"
   ]
  },
  {
   "cell_type": "markdown",
   "metadata": {},
   "source": [
    "**Вывод**\n",
    "\n",
    "В датасете действительно были проблемы: дубикаты, выбросы, пропуски, но все они были устранены и обработаны выше, теперь на этих данных можно обучать модели"
   ]
  },
  {
   "cell_type": "code",
   "execution_count": 48,
   "metadata": {
    "scrolled": true
   },
   "outputs": [],
   "source": [
    "loss =  354366 -  len(df)"
   ]
  },
  {
   "cell_type": "code",
   "execution_count": 49,
   "metadata": {},
   "outputs": [
    {
     "data": {
      "text/plain": [
       "27.113775023563207"
      ]
     },
     "execution_count": 49,
     "metadata": {},
     "output_type": "execute_result"
    }
   ],
   "source": [
    "loss / 354366 * 100"
   ]
  },
  {
   "cell_type": "markdown",
   "metadata": {},
   "source": [
    "# Подготовка признаков для обучения"
   ]
  },
  {
   "cell_type": "code",
   "execution_count": 50,
   "metadata": {
    "scrolled": true
   },
   "outputs": [
    {
     "data": {
      "text/html": [
       "<div>\n",
       "<style scoped>\n",
       "    .dataframe tbody tr th:only-of-type {\n",
       "        vertical-align: middle;\n",
       "    }\n",
       "\n",
       "    .dataframe tbody tr th {\n",
       "        vertical-align: top;\n",
       "    }\n",
       "\n",
       "    .dataframe thead th {\n",
       "        text-align: right;\n",
       "    }\n",
       "</style>\n",
       "<table border=\"1\" class=\"dataframe\">\n",
       "  <thead>\n",
       "    <tr style=\"text-align: right;\">\n",
       "      <th></th>\n",
       "      <th>price</th>\n",
       "      <th>vehicle_type</th>\n",
       "      <th>registration_year</th>\n",
       "      <th>gearbox</th>\n",
       "      <th>power</th>\n",
       "      <th>model</th>\n",
       "      <th>Kilometer</th>\n",
       "      <th>fuel_type</th>\n",
       "      <th>brand</th>\n",
       "      <th>repaired</th>\n",
       "    </tr>\n",
       "  </thead>\n",
       "  <tbody>\n",
       "    <tr>\n",
       "      <th>2</th>\n",
       "      <td>9800</td>\n",
       "      <td>suv</td>\n",
       "      <td>2004</td>\n",
       "      <td>auto</td>\n",
       "      <td>163</td>\n",
       "      <td>grand</td>\n",
       "      <td>125000</td>\n",
       "      <td>gasoline</td>\n",
       "      <td>jeep</td>\n",
       "      <td>2</td>\n",
       "    </tr>\n",
       "    <tr>\n",
       "      <th>3</th>\n",
       "      <td>1500</td>\n",
       "      <td>small</td>\n",
       "      <td>2001</td>\n",
       "      <td>manual</td>\n",
       "      <td>75</td>\n",
       "      <td>golf</td>\n",
       "      <td>150000</td>\n",
       "      <td>petrol</td>\n",
       "      <td>volkswagen</td>\n",
       "      <td>0</td>\n",
       "    </tr>\n",
       "    <tr>\n",
       "      <th>4</th>\n",
       "      <td>3600</td>\n",
       "      <td>small</td>\n",
       "      <td>2008</td>\n",
       "      <td>manual</td>\n",
       "      <td>69</td>\n",
       "      <td>fabia</td>\n",
       "      <td>90000</td>\n",
       "      <td>gasoline</td>\n",
       "      <td>skoda</td>\n",
       "      <td>0</td>\n",
       "    </tr>\n",
       "    <tr>\n",
       "      <th>5</th>\n",
       "      <td>650</td>\n",
       "      <td>sedan</td>\n",
       "      <td>1995</td>\n",
       "      <td>manual</td>\n",
       "      <td>102</td>\n",
       "      <td>3er</td>\n",
       "      <td>150000</td>\n",
       "      <td>petrol</td>\n",
       "      <td>bmw</td>\n",
       "      <td>1</td>\n",
       "    </tr>\n",
       "    <tr>\n",
       "      <th>6</th>\n",
       "      <td>2200</td>\n",
       "      <td>convertible</td>\n",
       "      <td>2004</td>\n",
       "      <td>manual</td>\n",
       "      <td>109</td>\n",
       "      <td>2_reihe</td>\n",
       "      <td>150000</td>\n",
       "      <td>petrol</td>\n",
       "      <td>peugeot</td>\n",
       "      <td>0</td>\n",
       "    </tr>\n",
       "    <tr>\n",
       "      <th>...</th>\n",
       "      <td>...</td>\n",
       "      <td>...</td>\n",
       "      <td>...</td>\n",
       "      <td>...</td>\n",
       "      <td>...</td>\n",
       "      <td>...</td>\n",
       "      <td>...</td>\n",
       "      <td>...</td>\n",
       "      <td>...</td>\n",
       "      <td>...</td>\n",
       "    </tr>\n",
       "    <tr>\n",
       "      <th>354359</th>\n",
       "      <td>7900</td>\n",
       "      <td>sedan</td>\n",
       "      <td>2010</td>\n",
       "      <td>manual</td>\n",
       "      <td>140</td>\n",
       "      <td>golf</td>\n",
       "      <td>150000</td>\n",
       "      <td>gasoline</td>\n",
       "      <td>volkswagen</td>\n",
       "      <td>0</td>\n",
       "    </tr>\n",
       "    <tr>\n",
       "      <th>354362</th>\n",
       "      <td>3200</td>\n",
       "      <td>sedan</td>\n",
       "      <td>2004</td>\n",
       "      <td>manual</td>\n",
       "      <td>225</td>\n",
       "      <td>leon</td>\n",
       "      <td>150000</td>\n",
       "      <td>petrol</td>\n",
       "      <td>seat</td>\n",
       "      <td>1</td>\n",
       "    </tr>\n",
       "    <tr>\n",
       "      <th>354366</th>\n",
       "      <td>1199</td>\n",
       "      <td>convertible</td>\n",
       "      <td>2000</td>\n",
       "      <td>auto</td>\n",
       "      <td>101</td>\n",
       "      <td>fortwo</td>\n",
       "      <td>125000</td>\n",
       "      <td>petrol</td>\n",
       "      <td>smart</td>\n",
       "      <td>0</td>\n",
       "    </tr>\n",
       "    <tr>\n",
       "      <th>354367</th>\n",
       "      <td>9200</td>\n",
       "      <td>bus</td>\n",
       "      <td>1996</td>\n",
       "      <td>manual</td>\n",
       "      <td>102</td>\n",
       "      <td>transporter</td>\n",
       "      <td>150000</td>\n",
       "      <td>gasoline</td>\n",
       "      <td>volkswagen</td>\n",
       "      <td>0</td>\n",
       "    </tr>\n",
       "    <tr>\n",
       "      <th>354368</th>\n",
       "      <td>3400</td>\n",
       "      <td>wagon</td>\n",
       "      <td>2002</td>\n",
       "      <td>manual</td>\n",
       "      <td>100</td>\n",
       "      <td>golf</td>\n",
       "      <td>150000</td>\n",
       "      <td>gasoline</td>\n",
       "      <td>volkswagen</td>\n",
       "      <td>2</td>\n",
       "    </tr>\n",
       "  </tbody>\n",
       "</table>\n",
       "<p>258284 rows × 10 columns</p>\n",
       "</div>"
      ],
      "text/plain": [
       "        price vehicle_type  registration_year gearbox  power        model  \\\n",
       "2        9800          suv               2004    auto    163        grand   \n",
       "3        1500        small               2001  manual     75         golf   \n",
       "4        3600        small               2008  manual     69        fabia   \n",
       "5         650        sedan               1995  manual    102          3er   \n",
       "6        2200  convertible               2004  manual    109      2_reihe   \n",
       "...       ...          ...                ...     ...    ...          ...   \n",
       "354359   7900        sedan               2010  manual    140         golf   \n",
       "354362   3200        sedan               2004  manual    225         leon   \n",
       "354366   1199  convertible               2000    auto    101       fortwo   \n",
       "354367   9200          bus               1996  manual    102  transporter   \n",
       "354368   3400        wagon               2002  manual    100         golf   \n",
       "\n",
       "        Kilometer fuel_type       brand  repaired  \n",
       "2          125000  gasoline        jeep         2  \n",
       "3          150000    petrol  volkswagen         0  \n",
       "4           90000  gasoline       skoda         0  \n",
       "5          150000    petrol         bmw         1  \n",
       "6          150000    petrol     peugeot         0  \n",
       "...           ...       ...         ...       ...  \n",
       "354359     150000  gasoline  volkswagen         0  \n",
       "354362     150000    petrol        seat         1  \n",
       "354366     125000    petrol       smart         0  \n",
       "354367     150000  gasoline  volkswagen         0  \n",
       "354368     150000  gasoline  volkswagen         2  \n",
       "\n",
       "[258284 rows x 10 columns]"
      ]
     },
     "execution_count": 50,
     "metadata": {},
     "output_type": "execute_result"
    }
   ],
   "source": [
    "df"
   ]
  },
  {
   "cell_type": "markdown",
   "metadata": {},
   "source": [
    "Здесь представлена задача с учителем, на регрессию. Исходя из условия цеевой признак (target) является price, все осталальное пойдут как признаки (features), причем сперва над ними нужно поработать, большинство моделей работают только с чиловыми значениями, в текущем датасете много признаков типо object, нужно сделать кодирование \n"
   ]
  },
  {
   "cell_type": "code",
   "execution_count": 51,
   "metadata": {},
   "outputs": [],
   "source": [
    "df2 = df.copy()\n",
    "\n",
    "selected_features = ['gearbox', 'fuel_type']\n",
    "\n",
    "\n",
    "df = pd.get_dummies(df, columns=selected_features, drop_first=True)"
   ]
  },
  {
   "cell_type": "code",
   "execution_count": 52,
   "metadata": {},
   "outputs": [],
   "source": [
    "X_train, X_test, y_train, y_test = train_test_split(df.drop('price', axis=1),\n",
    "                                                    df['price'],\n",
    "                                                    test_size=0.25,\n",
    "                                                    random_state=12345)\n"
   ]
  },
  {
   "cell_type": "code",
   "execution_count": 53,
   "metadata": {},
   "outputs": [
    {
     "data": {
      "text/plain": [
       "(193713, 14)"
      ]
     },
     "execution_count": 53,
     "metadata": {},
     "output_type": "execute_result"
    }
   ],
   "source": [
    " X_train.shape"
   ]
  },
  {
   "cell_type": "code",
   "execution_count": 54,
   "metadata": {},
   "outputs": [
    {
     "data": {
      "text/plain": [
       "(193713,)"
      ]
     },
     "execution_count": 54,
     "metadata": {},
     "output_type": "execute_result"
    }
   ],
   "source": [
    " y_train.shape"
   ]
  },
  {
   "cell_type": "code",
   "execution_count": 55,
   "metadata": {},
   "outputs": [
    {
     "data": {
      "text/plain": [
       "(64571, 14)"
      ]
     },
     "execution_count": 55,
     "metadata": {},
     "output_type": "execute_result"
    }
   ],
   "source": [
    " X_test.shape"
   ]
  },
  {
   "cell_type": "code",
   "execution_count": 56,
   "metadata": {},
   "outputs": [
    {
     "data": {
      "text/plain": [
       "(64571,)"
      ]
     },
     "execution_count": 56,
     "metadata": {},
     "output_type": "execute_result"
    }
   ],
   "source": [
    " y_test.shape"
   ]
  },
  {
   "cell_type": "code",
   "execution_count": 57,
   "metadata": {},
   "outputs": [],
   "source": [
    "encoder = ce.MEstimateEncoder(cols=['model', 'brand', 'vehicle_type'])\n",
    "\n",
    "X_train = encoder.fit_transform(X_train, y_train)\n",
    "\n",
    "X_test = encoder.transform(X_test)\n"
   ]
  },
  {
   "cell_type": "code",
   "execution_count": 58,
   "metadata": {},
   "outputs": [
    {
     "data": {
      "text/html": [
       "<div>\n",
       "<style scoped>\n",
       "    .dataframe tbody tr th:only-of-type {\n",
       "        vertical-align: middle;\n",
       "    }\n",
       "\n",
       "    .dataframe tbody tr th {\n",
       "        vertical-align: top;\n",
       "    }\n",
       "\n",
       "    .dataframe thead th {\n",
       "        text-align: right;\n",
       "    }\n",
       "</style>\n",
       "<table border=\"1\" class=\"dataframe\">\n",
       "  <thead>\n",
       "    <tr style=\"text-align: right;\">\n",
       "      <th></th>\n",
       "      <th>vehicle_type</th>\n",
       "      <th>registration_year</th>\n",
       "      <th>power</th>\n",
       "      <th>model</th>\n",
       "      <th>Kilometer</th>\n",
       "      <th>brand</th>\n",
       "      <th>repaired</th>\n",
       "      <th>gearbox_manual</th>\n",
       "      <th>fuel_type_electric</th>\n",
       "      <th>fuel_type_gasoline</th>\n",
       "      <th>fuel_type_hybrid</th>\n",
       "      <th>fuel_type_lpg</th>\n",
       "      <th>fuel_type_other</th>\n",
       "      <th>fuel_type_petrol</th>\n",
       "    </tr>\n",
       "  </thead>\n",
       "  <tbody>\n",
       "    <tr>\n",
       "      <th>141639</th>\n",
       "      <td>3228.495054</td>\n",
       "      <td>2016</td>\n",
       "      <td>80</td>\n",
       "      <td>2449.110687</td>\n",
       "      <td>150000</td>\n",
       "      <td>3313.338893</td>\n",
       "      <td>2</td>\n",
       "      <td>1</td>\n",
       "      <td>0</td>\n",
       "      <td>0</td>\n",
       "      <td>0</td>\n",
       "      <td>0</td>\n",
       "      <td>0</td>\n",
       "      <td>1</td>\n",
       "    </tr>\n",
       "    <tr>\n",
       "      <th>256066</th>\n",
       "      <td>5029.528969</td>\n",
       "      <td>2001</td>\n",
       "      <td>196</td>\n",
       "      <td>5211.373115</td>\n",
       "      <td>150000</td>\n",
       "      <td>6946.173570</td>\n",
       "      <td>0</td>\n",
       "      <td>1</td>\n",
       "      <td>0</td>\n",
       "      <td>0</td>\n",
       "      <td>0</td>\n",
       "      <td>0</td>\n",
       "      <td>0</td>\n",
       "      <td>1</td>\n",
       "    </tr>\n",
       "    <tr>\n",
       "      <th>173474</th>\n",
       "      <td>9454.776730</td>\n",
       "      <td>1998</td>\n",
       "      <td>125</td>\n",
       "      <td>6377.519320</td>\n",
       "      <td>150000</td>\n",
       "      <td>3421.560572</td>\n",
       "      <td>0</td>\n",
       "      <td>1</td>\n",
       "      <td>0</td>\n",
       "      <td>1</td>\n",
       "      <td>0</td>\n",
       "      <td>0</td>\n",
       "      <td>0</td>\n",
       "      <td>0</td>\n",
       "    </tr>\n",
       "    <tr>\n",
       "      <th>188677</th>\n",
       "      <td>5029.528969</td>\n",
       "      <td>2013</td>\n",
       "      <td>101</td>\n",
       "      <td>3491.523329</td>\n",
       "      <td>20000</td>\n",
       "      <td>2743.853622</td>\n",
       "      <td>0</td>\n",
       "      <td>1</td>\n",
       "      <td>0</td>\n",
       "      <td>0</td>\n",
       "      <td>0</td>\n",
       "      <td>0</td>\n",
       "      <td>0</td>\n",
       "      <td>1</td>\n",
       "    </tr>\n",
       "    <tr>\n",
       "      <th>44142</th>\n",
       "      <td>5317.907133</td>\n",
       "      <td>2004</td>\n",
       "      <td>136</td>\n",
       "      <td>4894.518020</td>\n",
       "      <td>150000</td>\n",
       "      <td>3898.878544</td>\n",
       "      <td>0</td>\n",
       "      <td>1</td>\n",
       "      <td>0</td>\n",
       "      <td>0</td>\n",
       "      <td>0</td>\n",
       "      <td>0</td>\n",
       "      <td>0</td>\n",
       "      <td>1</td>\n",
       "    </tr>\n",
       "    <tr>\n",
       "      <th>...</th>\n",
       "      <td>...</td>\n",
       "      <td>...</td>\n",
       "      <td>...</td>\n",
       "      <td>...</td>\n",
       "      <td>...</td>\n",
       "      <td>...</td>\n",
       "      <td>...</td>\n",
       "      <td>...</td>\n",
       "      <td>...</td>\n",
       "      <td>...</td>\n",
       "      <td>...</td>\n",
       "      <td>...</td>\n",
       "      <td>...</td>\n",
       "      <td>...</td>\n",
       "    </tr>\n",
       "    <tr>\n",
       "      <th>117249</th>\n",
       "      <td>3228.495054</td>\n",
       "      <td>2002</td>\n",
       "      <td>65</td>\n",
       "      <td>3423.609975</td>\n",
       "      <td>125000</td>\n",
       "      <td>5247.490583</td>\n",
       "      <td>2</td>\n",
       "      <td>1</td>\n",
       "      <td>0</td>\n",
       "      <td>0</td>\n",
       "      <td>0</td>\n",
       "      <td>0</td>\n",
       "      <td>0</td>\n",
       "      <td>1</td>\n",
       "    </tr>\n",
       "    <tr>\n",
       "      <th>182934</th>\n",
       "      <td>5317.907133</td>\n",
       "      <td>2007</td>\n",
       "      <td>163</td>\n",
       "      <td>5468.529610</td>\n",
       "      <td>150000</td>\n",
       "      <td>6781.789912</td>\n",
       "      <td>0</td>\n",
       "      <td>1</td>\n",
       "      <td>0</td>\n",
       "      <td>1</td>\n",
       "      <td>0</td>\n",
       "      <td>0</td>\n",
       "      <td>0</td>\n",
       "      <td>0</td>\n",
       "    </tr>\n",
       "    <tr>\n",
       "      <th>178993</th>\n",
       "      <td>5317.907133</td>\n",
       "      <td>2003</td>\n",
       "      <td>141</td>\n",
       "      <td>3732.183877</td>\n",
       "      <td>125000</td>\n",
       "      <td>4216.923422</td>\n",
       "      <td>0</td>\n",
       "      <td>1</td>\n",
       "      <td>0</td>\n",
       "      <td>0</td>\n",
       "      <td>0</td>\n",
       "      <td>0</td>\n",
       "      <td>0</td>\n",
       "      <td>1</td>\n",
       "    </tr>\n",
       "    <tr>\n",
       "      <th>106072</th>\n",
       "      <td>3228.495054</td>\n",
       "      <td>2000</td>\n",
       "      <td>57</td>\n",
       "      <td>1710.090643</td>\n",
       "      <td>70000</td>\n",
       "      <td>2743.853622</td>\n",
       "      <td>1</td>\n",
       "      <td>1</td>\n",
       "      <td>0</td>\n",
       "      <td>0</td>\n",
       "      <td>0</td>\n",
       "      <td>0</td>\n",
       "      <td>0</td>\n",
       "      <td>1</td>\n",
       "    </tr>\n",
       "    <tr>\n",
       "      <th>298580</th>\n",
       "      <td>7184.277132</td>\n",
       "      <td>2007</td>\n",
       "      <td>218</td>\n",
       "      <td>5468.529610</td>\n",
       "      <td>125000</td>\n",
       "      <td>6781.789912</td>\n",
       "      <td>0</td>\n",
       "      <td>1</td>\n",
       "      <td>0</td>\n",
       "      <td>0</td>\n",
       "      <td>0</td>\n",
       "      <td>0</td>\n",
       "      <td>0</td>\n",
       "      <td>1</td>\n",
       "    </tr>\n",
       "  </tbody>\n",
       "</table>\n",
       "<p>193713 rows × 14 columns</p>\n",
       "</div>"
      ],
      "text/plain": [
       "        vehicle_type  registration_year  power        model  Kilometer  \\\n",
       "141639   3228.495054               2016     80  2449.110687     150000   \n",
       "256066   5029.528969               2001    196  5211.373115     150000   \n",
       "173474   9454.776730               1998    125  6377.519320     150000   \n",
       "188677   5029.528969               2013    101  3491.523329      20000   \n",
       "44142    5317.907133               2004    136  4894.518020     150000   \n",
       "...              ...                ...    ...          ...        ...   \n",
       "117249   3228.495054               2002     65  3423.609975     125000   \n",
       "182934   5317.907133               2007    163  5468.529610     150000   \n",
       "178993   5317.907133               2003    141  3732.183877     125000   \n",
       "106072   3228.495054               2000     57  1710.090643      70000   \n",
       "298580   7184.277132               2007    218  5468.529610     125000   \n",
       "\n",
       "              brand  repaired  gearbox_manual  fuel_type_electric  \\\n",
       "141639  3313.338893         2               1                   0   \n",
       "256066  6946.173570         0               1                   0   \n",
       "173474  3421.560572         0               1                   0   \n",
       "188677  2743.853622         0               1                   0   \n",
       "44142   3898.878544         0               1                   0   \n",
       "...             ...       ...             ...                 ...   \n",
       "117249  5247.490583         2               1                   0   \n",
       "182934  6781.789912         0               1                   0   \n",
       "178993  4216.923422         0               1                   0   \n",
       "106072  2743.853622         1               1                   0   \n",
       "298580  6781.789912         0               1                   0   \n",
       "\n",
       "        fuel_type_gasoline  fuel_type_hybrid  fuel_type_lpg  fuel_type_other  \\\n",
       "141639                   0                 0              0                0   \n",
       "256066                   0                 0              0                0   \n",
       "173474                   1                 0              0                0   \n",
       "188677                   0                 0              0                0   \n",
       "44142                    0                 0              0                0   \n",
       "...                    ...               ...            ...              ...   \n",
       "117249                   0                 0              0                0   \n",
       "182934                   1                 0              0                0   \n",
       "178993                   0                 0              0                0   \n",
       "106072                   0                 0              0                0   \n",
       "298580                   0                 0              0                0   \n",
       "\n",
       "        fuel_type_petrol  \n",
       "141639                 1  \n",
       "256066                 1  \n",
       "173474                 0  \n",
       "188677                 1  \n",
       "44142                  1  \n",
       "...                  ...  \n",
       "117249                 1  \n",
       "182934                 0  \n",
       "178993                 1  \n",
       "106072                 1  \n",
       "298580                 1  \n",
       "\n",
       "[193713 rows x 14 columns]"
      ]
     },
     "execution_count": 58,
     "metadata": {},
     "output_type": "execute_result"
    }
   ],
   "source": [
    "X_train"
   ]
  },
  {
   "cell_type": "markdown",
   "metadata": {},
   "source": [
    "Что я сделал\n",
    "\n",
    "я перенес vehicle_type к model и brand, раз нельзя по принципу \"больше меньше раставлять\" для OrdinalEncoder, подумал, что в таком случае можно занести сюда"
   ]
  },
  {
   "cell_type": "markdown",
   "metadata": {},
   "source": [
    "что-бы модели не придавали каким-либо признакам особое значение только из-за разности в распредеении, признаки нужно масштабировать"
   ]
  },
  {
   "cell_type": "code",
   "execution_count": 59,
   "metadata": {},
   "outputs": [],
   "source": [
    "scaler = StandardScaler()\n",
    "X_train_scaled = scaler.fit_transform(X_train)\n",
    "\n",
    "\n",
    "X_test_scaled = scaler.transform(X_test)\n"
   ]
  },
  {
   "cell_type": "markdown",
   "metadata": {},
   "source": [
    "**Линейная регрессия**"
   ]
  },
  {
   "cell_type": "code",
   "execution_count": 60,
   "metadata": {},
   "outputs": [
    {
     "name": "stdout",
     "output_type": "stream",
     "text": [
      "2703.8270785096784\n",
      "CPU times: user 873 ms, sys: 711 ms, total: 1.58 s\n",
      "Wall time: 1.57 s\n"
     ]
    }
   ],
   "source": [
    "%%time\n",
    "model = LinearRegression()\n",
    "\n",
    "mse_scores = cross_val_score(model, X_train_scaled, y_train, cv=5, scoring='neg_mean_squared_error')\n",
    "\n",
    "rmse_scores = np.sqrt(-mse_scores)\n",
    "\n",
    "print(rmse_scores.mean())"
   ]
  },
  {
   "cell_type": "markdown",
   "metadata": {},
   "source": [
    "Модель обучитилась и предсказала очень быстро, с неплохой точностью, однако не устраиваемой для заказчика(нужна  результатом менее 2500). Так что в дальнейшнем не возвращаемся к ней"
   ]
  },
  {
   "cell_type": "markdown",
   "metadata": {},
   "source": [
    "**Дерево решений**"
   ]
  },
  {
   "cell_type": "code",
   "execution_count": 61,
   "metadata": {},
   "outputs": [
    {
     "data": {
      "text/plain": [
       "GridSearchCV(cv=5, estimator=DecisionTreeRegressor(random_state=42),\n",
       "             param_grid={'max_depth': [None, 5, 10, 20]},\n",
       "             scoring='neg_mean_squared_error')"
      ]
     },
     "execution_count": 61,
     "metadata": {},
     "output_type": "execute_result"
    }
   ],
   "source": [
    "tree_regressor = DecisionTreeRegressor(random_state=42)\n",
    "param_grid_tree = {\n",
    "    'max_depth': [None, 5, 10, 20]\n",
    "}\n",
    "grid_search_tree = GridSearchCV(tree_regressor, param_grid_tree, cv=5, scoring='neg_mean_squared_error')\n",
    "grid_search_tree.fit(X_train_scaled, y_train)\n",
    "\n",
    "\n"
   ]
  },
  {
   "cell_type": "code",
   "execution_count": 62,
   "metadata": {},
   "outputs": [
    {
     "name": "stdout",
     "output_type": "stream",
     "text": [
      "CPU times: user 886 ms, sys: 4.67 ms, total: 890 ms\n",
      "Wall time: 892 ms\n"
     ]
    },
    {
     "data": {
      "text/plain": [
       "DecisionTreeRegressor(max_depth=20, random_state=12345)"
      ]
     },
     "execution_count": 62,
     "metadata": {},
     "output_type": "execute_result"
    }
   ],
   "source": [
    "%%time\n",
    "best_tree_model = DecisionTreeRegressor(max_depth=grid_search_tree.best_params_['max_depth'], random_state=12345)\n",
    "\n",
    "best_tree_model.fit(X_train_scaled, y_train)"
   ]
  },
  {
   "cell_type": "code",
   "execution_count": 63,
   "metadata": {},
   "outputs": [
    {
     "name": "stdout",
     "output_type": "stream",
     "text": [
      "CPU times: user 27.4 ms, sys: 0 ns, total: 27.4 ms\n",
      "Wall time: 26.3 ms\n"
     ]
    }
   ],
   "source": [
    "%%time\n",
    "predictions_tree = best_tree_model.predict(X_test_scaled)"
   ]
  },
  {
   "cell_type": "code",
   "execution_count": 64,
   "metadata": {},
   "outputs": [
    {
     "name": "stdout",
     "output_type": "stream",
     "text": [
      "RMSE для дерева решений: 1793.0442662674568\n"
     ]
    }
   ],
   "source": [
    "rmse_tree = np.sqrt(mean_squared_error(y_test, predictions_tree))\n",
    "\n",
    "print(\"RMSE для дерева решений:\", rmse_tree)"
   ]
  },
  {
   "cell_type": "markdown",
   "metadata": {},
   "source": [
    "Дерево справилось намного лучше, чем предыдущие модели, причем за сравнительно похожее время"
   ]
  },
  {
   "cell_type": "markdown",
   "metadata": {},
   "source": [
    " **Случайный лес**"
   ]
  },
  {
   "cell_type": "code",
   "execution_count": 65,
   "metadata": {},
   "outputs": [
    {
     "data": {
      "text/plain": [
       "GridSearchCV(cv=5, estimator=RandomForestRegressor(random_state=42),\n",
       "             param_grid={'max_depth': [None, 5, 10, 20, 30],\n",
       "                         'n_estimators': [10, 20, 30, 40]},\n",
       "             scoring='neg_mean_squared_error')"
      ]
     },
     "execution_count": 65,
     "metadata": {},
     "output_type": "execute_result"
    }
   ],
   "source": [
    "forest_regressor = RandomForestRegressor(random_state=42)\n",
    "param_grid_forest = {\n",
    "    'n_estimators': [10, 20, 30, 40],\n",
    "    'max_depth': [None, 5, 10, 20, 30]   \n",
    "}\n",
    "grid_search_forest = GridSearchCV(forest_regressor, param_grid_forest, cv=5, scoring='neg_mean_squared_error')\n",
    "grid_search_forest.fit(X_train_scaled, y_train)\n"
   ]
  },
  {
   "cell_type": "code",
   "execution_count": 66,
   "metadata": {},
   "outputs": [
    {
     "name": "stdout",
     "output_type": "stream",
     "text": [
      "CPU times: user 21.1 s, sys: 199 ms, total: 21.3 s\n",
      "Wall time: 21.3 s\n"
     ]
    },
    {
     "data": {
      "text/plain": [
       "RandomForestRegressor(max_depth=20, n_estimators=40, random_state=12345)"
      ]
     },
     "execution_count": 66,
     "metadata": {},
     "output_type": "execute_result"
    }
   ],
   "source": [
    "%%time\n",
    "best_forest_model = RandomForestRegressor(max_depth=grid_search_forest.best_params_['max_depth'],\n",
    "                                          n_estimators=grid_search_forest.best_params_['n_estimators'], \n",
    "                                          random_state=12345)\n",
    "\n",
    "best_forest_model.fit(X_train_scaled, y_train)"
   ]
  },
  {
   "cell_type": "code",
   "execution_count": 67,
   "metadata": {},
   "outputs": [
    {
     "name": "stdout",
     "output_type": "stream",
     "text": [
      "CPU times: user 753 ms, sys: 3.94 ms, total: 757 ms\n",
      "Wall time: 766 ms\n"
     ]
    }
   ],
   "source": [
    "%%time\n",
    "best_forest_model = grid_search_forest.best_estimator_\n",
    "predictions_forest = best_forest_model.predict(X_test_scaled)"
   ]
  },
  {
   "cell_type": "code",
   "execution_count": 68,
   "metadata": {},
   "outputs": [
    {
     "name": "stdout",
     "output_type": "stream",
     "text": [
      "RMSE для случайного леса: 1514.1283874841808\n"
     ]
    }
   ],
   "source": [
    "rmse_forest = np.sqrt(mean_squared_error(y_test, predictions_forest))\n",
    "print(\"RMSE для случайного леса:\", rmse_forest)"
   ]
  },
  {
   "cell_type": "code",
   "execution_count": 69,
   "metadata": {},
   "outputs": [
    {
     "data": {
      "text/plain": [
       "{'max_depth': 20, 'n_estimators': 40}"
      ]
     },
     "execution_count": 69,
     "metadata": {},
     "output_type": "execute_result"
    }
   ],
   "source": [
    "best_forest_model = grid_search_forest.best_estimator_\n",
    "best_params = grid_search_forest.best_params_\n",
    "best_params"
   ]
  },
  {
   "cell_type": "markdown",
   "metadata": {},
   "source": [
    "Теперь лес имеет лучшюю метрика RMSE, очень хороший результат"
   ]
  },
  {
   "cell_type": "markdown",
   "metadata": {},
   "source": [
    "**Градиентный бустинг - LGBMRegressor**"
   ]
  },
  {
   "cell_type": "markdown",
   "metadata": {},
   "source": [
    "Тк модель может обучаться очень долго, для начала посмтотрю на результат не подбирая гиперпараметры"
   ]
  },
  {
   "cell_type": "code",
   "execution_count": 70,
   "metadata": {},
   "outputs": [
    {
     "name": "stdout",
     "output_type": "stream",
     "text": [
      "CPU times: user 6min 2s, sys: 4.71 s, total: 6min 7s\n",
      "Wall time: 6min 9s\n"
     ]
    },
    {
     "data": {
      "text/plain": [
       "LGBMRegressor(random_state=12345)"
      ]
     },
     "execution_count": 70,
     "metadata": {},
     "output_type": "execute_result"
    }
   ],
   "source": [
    "%%time\n",
    "model = lgb.LGBMRegressor(random_state=12345)\n",
    "model.fit(X_train_scaled, y_train)\n",
    "\n"
   ]
  },
  {
   "cell_type": "code",
   "execution_count": 71,
   "metadata": {},
   "outputs": [
    {
     "name": "stdout",
     "output_type": "stream",
     "text": [
      "CPU times: user 501 ms, sys: 2.66 ms, total: 504 ms\n",
      "Wall time: 517 ms\n"
     ]
    }
   ],
   "source": [
    "%%time\n",
    "predictions_train = model.predict(X_test_scaled)"
   ]
  },
  {
   "cell_type": "code",
   "execution_count": 72,
   "metadata": {},
   "outputs": [
    {
     "name": "stdout",
     "output_type": "stream",
     "text": [
      "1611.5366069353165\n"
     ]
    }
   ],
   "source": [
    "rmse = mean_squared_error(y_test, predictions_train)**0.5\n",
    "print(rmse)"
   ]
  },
  {
   "cell_type": "markdown",
   "metadata": {},
   "source": [
    "Впечатляет, значит есть основания улучшить"
   ]
  },
  {
   "cell_type": "code",
   "execution_count": 73,
   "metadata": {},
   "outputs": [],
   "source": [
    "param_grid = {'n_estimators': [20, 100], 'num_leaves': [n for n in range(10, 100, 30)]}"
   ]
  },
  {
   "cell_type": "code",
   "execution_count": 74,
   "metadata": {
    "scrolled": true
   },
   "outputs": [
    {
     "name": "stdout",
     "output_type": "stream",
     "text": [
      "Fitting 3 folds for each of 6 candidates, totalling 18 fits\n",
      "[CV 1/3] END .................n_estimators=20, num_leaves=10; total time=  25.5s\n",
      "[CV 2/3] END .................n_estimators=20, num_leaves=10; total time=  31.4s\n",
      "[CV 3/3] END .................n_estimators=20, num_leaves=10; total time=  22.8s\n",
      "[CV 1/3] END .................n_estimators=20, num_leaves=40; total time= 1.3min\n",
      "[CV 2/3] END .................n_estimators=20, num_leaves=40; total time= 1.6min\n",
      "[CV 3/3] END .................n_estimators=20, num_leaves=40; total time= 1.5min\n",
      "[CV 1/3] END .................n_estimators=20, num_leaves=70; total time= 2.9min\n",
      "[CV 2/3] END .................n_estimators=20, num_leaves=70; total time= 3.0min\n",
      "[CV 3/3] END .................n_estimators=20, num_leaves=70; total time= 2.8min\n",
      "[CV 1/3] END ................n_estimators=100, num_leaves=10; total time= 2.7min\n",
      "[CV 2/3] END ................n_estimators=100, num_leaves=10; total time= 2.1min\n",
      "[CV 3/3] END ................n_estimators=100, num_leaves=10; total time= 2.7min\n",
      "[CV 1/3] END ................n_estimators=100, num_leaves=40; total time= 7.9min\n",
      "[CV 2/3] END ................n_estimators=100, num_leaves=40; total time= 2.7min\n",
      "[CV 3/3] END ................n_estimators=100, num_leaves=40; total time= 2.4min\n",
      "[CV 1/3] END ................n_estimators=100, num_leaves=70; total time= 2.4min\n",
      "[CV 2/3] END ................n_estimators=100, num_leaves=70; total time= 2.5min\n",
      "[CV 3/3] END ................n_estimators=100, num_leaves=70; total time= 2.9min\n"
     ]
    },
    {
     "data": {
      "text/plain": [
       "{'n_estimators': 100, 'num_leaves': 70}"
      ]
     },
     "metadata": {},
     "output_type": "display_data"
    },
    {
     "data": {
      "text/plain": [
       "1584.3266678733996"
      ]
     },
     "metadata": {},
     "output_type": "display_data"
    }
   ],
   "source": [
    "model = lgb.LGBMRegressor(random_state=12345)\n",
    "\n",
    "tuning_model=GridSearchCV(estimator=model,\n",
    "                          param_grid=param_grid,\n",
    "                          scoring='neg_root_mean_squared_error',\n",
    "                          cv=3,\n",
    "                          verbose=3)\n",
    "\n",
    "tuning_model.fit(X_train_scaled, y_train)\n",
    "display(tuning_model.best_params_)\n",
    "display(tuning_model.best_score_*-1)"
   ]
  },
  {
   "cell_type": "code",
   "execution_count": 75,
   "metadata": {},
   "outputs": [
    {
     "name": "stdout",
     "output_type": "stream",
     "text": [
      "CPU times: user 4 µs, sys: 0 ns, total: 4 µs\n",
      "Wall time: 7.39 µs\n",
      "Root Mean Squared Error (RMSE) на тестовых данных с лучшими параметрами: 1557.6725337177684\n"
     ]
    }
   ],
   "source": [
    "%time\n",
    "predictions = tuning_model.predict(X_test_scaled)\n",
    "rmse = mean_squared_error(y_test, predictions, squared=False)\n",
    "print(\"Root Mean Squared Error (RMSE) на тестовых данных с лучшими параметрами:\", rmse)"
   ]
  },
  {
   "cell_type": "markdown",
   "metadata": {},
   "source": [
    "Этот результат как со случайным лесом самые лучшие по метрике"
   ]
  },
  {
   "cell_type": "markdown",
   "metadata": {},
   "source": [
    "**Итог**"
   ]
  },
  {
   "cell_type": "markdown",
   "metadata": {},
   "source": [
    "- По метрике лучшие результаты с отрывом у LGBMRegressor('n_estimators': 100, 'num_leaves': 70) и случайный лес('max_depth': 20, 'n_estimators': 40)\n",
    "- Первая модель из них имеет быстрое время обучения 5с и более быстрое время предсказания\n",
    "- Вторая модель быстрее обучается\n",
    "\n",
    "Я бы остановился на второй модели(Градиентный бустинг), разница между итоговыми метриками не так сильна, как и время предсказания, а вот время обчучения у градиетного бустинга быстрее 5сек против 14сек"
   ]
  }
 ],
 "metadata": {
  "ExecuteTimeLog": [
   {
    "duration": 356,
    "start_time": "2023-07-30T10:42:54.742Z"
   },
   {
    "duration": 70,
    "start_time": "2023-07-30T10:43:12.049Z"
   },
   {
    "duration": 999,
    "start_time": "2023-07-30T10:43:17.246Z"
   },
   {
    "duration": 762,
    "start_time": "2023-07-30T10:43:21.377Z"
   },
   {
    "duration": 704,
    "start_time": "2023-07-30T10:43:30.516Z"
   },
   {
    "duration": 13,
    "start_time": "2023-07-30T10:45:30.762Z"
   },
   {
    "duration": 18,
    "start_time": "2023-07-30T10:45:42.412Z"
   },
   {
    "duration": 28,
    "start_time": "2023-07-30T10:45:46.450Z"
   },
   {
    "duration": 19,
    "start_time": "2023-07-30T10:45:54.218Z"
   },
   {
    "duration": 21,
    "start_time": "2023-07-30T10:46:01.249Z"
   },
   {
    "duration": 22,
    "start_time": "2023-07-30T10:46:03.697Z"
   },
   {
    "duration": 21,
    "start_time": "2023-07-30T10:46:07.215Z"
   },
   {
    "duration": 19,
    "start_time": "2023-07-30T10:46:14.095Z"
   },
   {
    "duration": 109,
    "start_time": "2023-07-30T10:46:23.701Z"
   },
   {
    "duration": 4,
    "start_time": "2023-07-30T10:47:11.645Z"
   },
   {
    "duration": 3,
    "start_time": "2023-07-30T10:51:21.463Z"
   },
   {
    "duration": 3,
    "start_time": "2023-07-30T10:54:00.548Z"
   },
   {
    "duration": 91,
    "start_time": "2023-07-30T11:06:26.500Z"
   },
   {
    "duration": 19,
    "start_time": "2023-07-30T11:06:36.219Z"
   },
   {
    "duration": 93,
    "start_time": "2023-07-30T11:07:07.751Z"
   },
   {
    "duration": 13,
    "start_time": "2023-07-30T11:08:29.147Z"
   },
   {
    "duration": 10,
    "start_time": "2023-07-30T11:08:35.834Z"
   },
   {
    "duration": 4,
    "start_time": "2023-07-30T11:08:48.881Z"
   },
   {
    "duration": 92,
    "start_time": "2023-07-30T11:08:55.403Z"
   },
   {
    "duration": 19,
    "start_time": "2023-07-30T11:10:27.780Z"
   },
   {
    "duration": 5,
    "start_time": "2023-07-30T11:11:09.317Z"
   },
   {
    "duration": 21,
    "start_time": "2023-07-30T11:11:12.532Z"
   },
   {
    "duration": 10,
    "start_time": "2023-07-30T11:11:37.206Z"
   },
   {
    "duration": 21,
    "start_time": "2023-07-30T11:11:39.608Z"
   },
   {
    "duration": 377,
    "start_time": "2023-07-30T11:12:02.544Z"
   },
   {
    "duration": 716,
    "start_time": "2023-07-30T11:12:02.922Z"
   },
   {
    "duration": 11,
    "start_time": "2023-07-30T11:12:03.639Z"
   },
   {
    "duration": 28,
    "start_time": "2023-07-30T11:12:03.651Z"
   },
   {
    "duration": 114,
    "start_time": "2023-07-30T11:12:03.680Z"
   },
   {
    "duration": 135,
    "start_time": "2023-07-30T11:12:03.795Z"
   },
   {
    "duration": 20,
    "start_time": "2023-07-30T11:12:03.931Z"
   },
   {
    "duration": 14,
    "start_time": "2023-07-30T11:13:09.704Z"
   },
   {
    "duration": 22,
    "start_time": "2023-07-30T11:13:12.052Z"
   },
   {
    "duration": 73,
    "start_time": "2023-07-30T11:17:20.399Z"
   },
   {
    "duration": 89,
    "start_time": "2023-07-30T11:17:39.765Z"
   },
   {
    "duration": 146,
    "start_time": "2023-07-30T11:18:10.381Z"
   },
   {
    "duration": 21,
    "start_time": "2023-07-30T11:18:13.208Z"
   },
   {
    "duration": 6,
    "start_time": "2023-07-30T11:19:12.656Z"
   },
   {
    "duration": 69,
    "start_time": "2023-07-30T11:19:19.596Z"
   },
   {
    "duration": 8,
    "start_time": "2023-07-30T11:22:37.396Z"
   },
   {
    "duration": 69,
    "start_time": "2023-07-30T11:23:40.944Z"
   },
   {
    "duration": 85,
    "start_time": "2023-07-30T11:23:52.840Z"
   },
   {
    "duration": 150,
    "start_time": "2023-07-30T11:24:04.204Z"
   },
   {
    "duration": 173,
    "start_time": "2023-07-30T11:24:10.981Z"
   },
   {
    "duration": 215,
    "start_time": "2023-07-30T11:24:18.579Z"
   },
   {
    "duration": 59,
    "start_time": "2023-07-30T11:24:38.747Z"
   },
   {
    "duration": 57,
    "start_time": "2023-07-30T11:24:48.816Z"
   },
   {
    "duration": 79,
    "start_time": "2023-07-30T11:25:05.485Z"
   },
   {
    "duration": 78,
    "start_time": "2023-07-30T11:26:47.544Z"
   },
   {
    "duration": 63,
    "start_time": "2023-07-30T11:27:00.501Z"
   },
   {
    "duration": 4,
    "start_time": "2023-07-30T11:27:13.043Z"
   },
   {
    "duration": 497,
    "start_time": "2023-07-30T11:39:34.057Z"
   },
   {
    "duration": 6,
    "start_time": "2023-07-30T11:42:47.845Z"
   },
   {
    "duration": 58,
    "start_time": "2023-07-30T11:43:12.113Z"
   },
   {
    "duration": 275,
    "start_time": "2023-07-30T11:43:15.957Z"
   },
   {
    "duration": 61,
    "start_time": "2023-07-30T11:43:29.989Z"
   },
   {
    "duration": 80,
    "start_time": "2023-07-30T11:50:30.549Z"
   },
   {
    "duration": 360,
    "start_time": "2023-07-30T11:51:29.654Z"
   },
   {
    "duration": 725,
    "start_time": "2023-07-30T11:51:30.016Z"
   },
   {
    "duration": 11,
    "start_time": "2023-07-30T11:51:30.742Z"
   },
   {
    "duration": 148,
    "start_time": "2023-07-30T11:51:30.755Z"
   },
   {
    "duration": 131,
    "start_time": "2023-07-30T11:51:30.906Z"
   },
   {
    "duration": 80,
    "start_time": "2023-07-30T11:51:31.039Z"
   },
   {
    "duration": 130,
    "start_time": "2023-07-30T11:51:31.120Z"
   },
   {
    "duration": 80,
    "start_time": "2023-07-30T11:51:31.252Z"
   },
   {
    "duration": 145,
    "start_time": "2023-07-30T11:51:31.334Z"
   },
   {
    "duration": 28,
    "start_time": "2023-07-30T11:51:31.481Z"
   },
   {
    "duration": 98,
    "start_time": "2023-07-30T11:51:31.511Z"
   },
   {
    "duration": 66,
    "start_time": "2023-07-30T11:51:31.611Z"
   },
   {
    "duration": 76,
    "start_time": "2023-07-30T11:51:31.679Z"
   },
   {
    "duration": 198,
    "start_time": "2023-07-30T11:51:31.758Z"
   },
   {
    "duration": 62,
    "start_time": "2023-07-30T11:51:31.957Z"
   },
   {
    "duration": 81,
    "start_time": "2023-07-30T11:52:22.985Z"
   },
   {
    "duration": 426,
    "start_time": "2023-07-30T12:26:43.587Z"
   },
   {
    "duration": 774,
    "start_time": "2023-07-30T12:26:44.015Z"
   },
   {
    "duration": 20,
    "start_time": "2023-07-30T12:26:44.791Z"
   },
   {
    "duration": 54,
    "start_time": "2023-07-30T12:26:44.814Z"
   },
   {
    "duration": 157,
    "start_time": "2023-07-30T12:26:44.870Z"
   },
   {
    "duration": 149,
    "start_time": "2023-07-30T12:26:45.029Z"
   },
   {
    "duration": 103,
    "start_time": "2023-07-30T12:26:45.180Z"
   },
   {
    "duration": 274,
    "start_time": "2023-07-30T12:26:45.285Z"
   },
   {
    "duration": 38,
    "start_time": "2023-07-30T12:26:45.562Z"
   },
   {
    "duration": 126,
    "start_time": "2023-07-30T12:26:45.603Z"
   },
   {
    "duration": 74,
    "start_time": "2023-07-30T12:26:45.731Z"
   },
   {
    "duration": 65,
    "start_time": "2023-07-30T12:26:45.808Z"
   },
   {
    "duration": 112,
    "start_time": "2023-07-30T12:26:45.875Z"
   },
   {
    "duration": 276,
    "start_time": "2023-07-30T12:26:45.989Z"
   },
   {
    "duration": 83,
    "start_time": "2023-07-30T12:26:46.267Z"
   },
   {
    "duration": 82,
    "start_time": "2023-07-30T12:29:08.640Z"
   },
   {
    "duration": 82,
    "start_time": "2023-07-30T12:30:33.556Z"
   },
   {
    "duration": 37,
    "start_time": "2023-07-30T12:31:30.436Z"
   },
   {
    "duration": 25,
    "start_time": "2023-07-30T12:36:36.039Z"
   },
   {
    "duration": 15,
    "start_time": "2023-07-30T12:37:11.959Z"
   },
   {
    "duration": 14,
    "start_time": "2023-07-30T12:37:20.935Z"
   },
   {
    "duration": 388,
    "start_time": "2023-07-30T12:45:38.885Z"
   },
   {
    "duration": 705,
    "start_time": "2023-07-30T12:45:39.275Z"
   },
   {
    "duration": 11,
    "start_time": "2023-07-30T12:45:39.981Z"
   },
   {
    "duration": 34,
    "start_time": "2023-07-30T12:45:39.993Z"
   },
   {
    "duration": 143,
    "start_time": "2023-07-30T12:45:40.029Z"
   },
   {
    "duration": 131,
    "start_time": "2023-07-30T12:45:40.173Z"
   },
   {
    "duration": 96,
    "start_time": "2023-07-30T12:45:40.305Z"
   },
   {
    "duration": 152,
    "start_time": "2023-07-30T12:45:40.402Z"
   },
   {
    "duration": 21,
    "start_time": "2023-07-30T12:45:40.556Z"
   },
   {
    "duration": 72,
    "start_time": "2023-07-30T12:45:40.579Z"
   },
   {
    "duration": 64,
    "start_time": "2023-07-30T12:45:40.652Z"
   },
   {
    "duration": 59,
    "start_time": "2023-07-30T12:45:40.717Z"
   },
   {
    "duration": 96,
    "start_time": "2023-07-30T12:45:40.777Z"
   },
   {
    "duration": 196,
    "start_time": "2023-07-30T12:45:40.875Z"
   },
   {
    "duration": 58,
    "start_time": "2023-07-30T12:45:41.073Z"
   },
   {
    "duration": 75,
    "start_time": "2023-07-30T12:45:41.132Z"
   },
   {
    "duration": 1117,
    "start_time": "2023-07-30T12:46:40.068Z"
   },
   {
    "duration": 5,
    "start_time": "2023-07-30T12:46:49.237Z"
   },
   {
    "duration": 10,
    "start_time": "2023-07-30T12:47:32.787Z"
   },
   {
    "duration": 40,
    "start_time": "2023-07-30T12:47:48.696Z"
   },
   {
    "duration": 51,
    "start_time": "2023-07-30T12:47:56.166Z"
   },
   {
    "duration": 169,
    "start_time": "2023-07-30T12:48:26.353Z"
   },
   {
    "duration": 8,
    "start_time": "2023-07-30T12:48:49.678Z"
   },
   {
    "duration": 231,
    "start_time": "2023-07-30T12:49:58.369Z"
   },
   {
    "duration": 285,
    "start_time": "2023-07-30T12:50:04.803Z"
   },
   {
    "duration": 10,
    "start_time": "2023-07-30T12:53:53.449Z"
   },
   {
    "duration": 188,
    "start_time": "2023-07-30T12:54:12.763Z"
   },
   {
    "duration": 30,
    "start_time": "2023-07-30T12:55:18.045Z"
   },
   {
    "duration": 45,
    "start_time": "2023-07-30T12:55:26.165Z"
   },
   {
    "duration": 167,
    "start_time": "2023-07-30T12:55:42.869Z"
   },
   {
    "duration": 18,
    "start_time": "2023-07-30T12:57:59.173Z"
   },
   {
    "duration": 32,
    "start_time": "2023-07-30T12:58:02.294Z"
   },
   {
    "duration": 150,
    "start_time": "2023-07-30T12:58:19.229Z"
   },
   {
    "duration": 159,
    "start_time": "2023-07-30T12:58:27.357Z"
   },
   {
    "duration": 147,
    "start_time": "2023-07-30T12:58:33.695Z"
   },
   {
    "duration": 17,
    "start_time": "2023-07-30T13:00:19.687Z"
   },
   {
    "duration": 138,
    "start_time": "2023-07-30T13:00:26.607Z"
   },
   {
    "duration": 2,
    "start_time": "2023-07-30T13:01:44.057Z"
   },
   {
    "duration": 200,
    "start_time": "2023-07-30T13:02:00.478Z"
   },
   {
    "duration": 55,
    "start_time": "2023-08-01T12:18:02.764Z"
   },
   {
    "duration": 370,
    "start_time": "2023-08-01T12:18:10.673Z"
   },
   {
    "duration": 1179,
    "start_time": "2023-08-01T12:18:11.045Z"
   },
   {
    "duration": 14,
    "start_time": "2023-08-01T12:18:13.311Z"
   },
   {
    "duration": 27,
    "start_time": "2023-08-01T12:18:13.861Z"
   },
   {
    "duration": 116,
    "start_time": "2023-08-01T12:18:14.255Z"
   },
   {
    "duration": 3,
    "start_time": "2023-08-01T12:18:17.155Z"
   },
   {
    "duration": 4,
    "start_time": "2023-08-01T12:18:48.284Z"
   },
   {
    "duration": 22,
    "start_time": "2023-08-01T12:18:54.265Z"
   },
   {
    "duration": 437,
    "start_time": "2023-08-01T12:19:07.091Z"
   },
   {
    "duration": 21,
    "start_time": "2023-08-01T12:19:07.695Z"
   },
   {
    "duration": 18,
    "start_time": "2023-08-01T12:19:29.409Z"
   },
   {
    "duration": 54,
    "start_time": "2023-08-01T12:19:33.849Z"
   },
   {
    "duration": 25,
    "start_time": "2023-08-01T12:19:39.302Z"
   },
   {
    "duration": 394,
    "start_time": "2023-08-01T12:21:20.427Z"
   },
   {
    "duration": 874,
    "start_time": "2023-08-01T12:21:20.823Z"
   },
   {
    "duration": 17,
    "start_time": "2023-08-01T12:21:21.698Z"
   },
   {
    "duration": 31,
    "start_time": "2023-08-01T12:21:21.716Z"
   },
   {
    "duration": 135,
    "start_time": "2023-08-01T12:21:21.750Z"
   },
   {
    "duration": 70,
    "start_time": "2023-08-01T12:21:21.887Z"
   },
   {
    "duration": 23,
    "start_time": "2023-08-01T12:21:21.959Z"
   },
   {
    "duration": 172,
    "start_time": "2023-08-01T12:21:21.983Z"
   },
   {
    "duration": 3446,
    "start_time": "2023-08-01T12:21:22.157Z"
   },
   {
    "duration": 0,
    "start_time": "2023-08-01T12:21:25.605Z"
   },
   {
    "duration": 0,
    "start_time": "2023-08-01T12:21:25.606Z"
   },
   {
    "duration": 0,
    "start_time": "2023-08-01T12:21:25.607Z"
   },
   {
    "duration": 0,
    "start_time": "2023-08-01T12:21:25.609Z"
   },
   {
    "duration": 0,
    "start_time": "2023-08-01T12:21:25.610Z"
   },
   {
    "duration": 0,
    "start_time": "2023-08-01T12:21:25.611Z"
   },
   {
    "duration": 0,
    "start_time": "2023-08-01T12:21:25.612Z"
   },
   {
    "duration": 0,
    "start_time": "2023-08-01T12:21:25.613Z"
   },
   {
    "duration": 0,
    "start_time": "2023-08-01T12:21:25.614Z"
   },
   {
    "duration": 0,
    "start_time": "2023-08-01T12:21:25.615Z"
   },
   {
    "duration": 0,
    "start_time": "2023-08-01T12:21:25.616Z"
   },
   {
    "duration": 0,
    "start_time": "2023-08-01T12:21:25.617Z"
   },
   {
    "duration": 0,
    "start_time": "2023-08-01T12:21:25.620Z"
   },
   {
    "duration": 0,
    "start_time": "2023-08-01T12:21:25.621Z"
   },
   {
    "duration": 0,
    "start_time": "2023-08-01T12:21:25.622Z"
   },
   {
    "duration": 0,
    "start_time": "2023-08-01T12:21:25.623Z"
   },
   {
    "duration": 0,
    "start_time": "2023-08-01T12:21:25.624Z"
   },
   {
    "duration": 0,
    "start_time": "2023-08-01T12:21:25.625Z"
   },
   {
    "duration": 0,
    "start_time": "2023-08-01T12:21:25.626Z"
   },
   {
    "duration": 413,
    "start_time": "2023-08-01T12:23:23.353Z"
   },
   {
    "duration": 955,
    "start_time": "2023-08-01T12:23:23.769Z"
   },
   {
    "duration": 14,
    "start_time": "2023-08-01T12:23:24.726Z"
   },
   {
    "duration": 37,
    "start_time": "2023-08-01T12:23:24.742Z"
   },
   {
    "duration": 181,
    "start_time": "2023-08-01T12:23:24.781Z"
   },
   {
    "duration": 71,
    "start_time": "2023-08-01T12:23:24.964Z"
   },
   {
    "duration": 27,
    "start_time": "2023-08-01T12:23:25.037Z"
   },
   {
    "duration": 1638,
    "start_time": "2023-08-01T12:23:25.065Z"
   },
   {
    "duration": 0,
    "start_time": "2023-08-01T12:23:26.705Z"
   },
   {
    "duration": 0,
    "start_time": "2023-08-01T12:23:26.706Z"
   },
   {
    "duration": 0,
    "start_time": "2023-08-01T12:23:26.708Z"
   },
   {
    "duration": 0,
    "start_time": "2023-08-01T12:23:26.709Z"
   },
   {
    "duration": 0,
    "start_time": "2023-08-01T12:23:26.710Z"
   },
   {
    "duration": 0,
    "start_time": "2023-08-01T12:23:26.712Z"
   },
   {
    "duration": 0,
    "start_time": "2023-08-01T12:23:26.713Z"
   },
   {
    "duration": 0,
    "start_time": "2023-08-01T12:23:26.714Z"
   },
   {
    "duration": 0,
    "start_time": "2023-08-01T12:23:26.715Z"
   },
   {
    "duration": 0,
    "start_time": "2023-08-01T12:23:26.717Z"
   },
   {
    "duration": 0,
    "start_time": "2023-08-01T12:23:26.718Z"
   },
   {
    "duration": 0,
    "start_time": "2023-08-01T12:23:26.719Z"
   },
   {
    "duration": 0,
    "start_time": "2023-08-01T12:23:26.720Z"
   },
   {
    "duration": 0,
    "start_time": "2023-08-01T12:23:26.722Z"
   },
   {
    "duration": 0,
    "start_time": "2023-08-01T12:23:26.724Z"
   },
   {
    "duration": 0,
    "start_time": "2023-08-01T12:23:26.725Z"
   },
   {
    "duration": 0,
    "start_time": "2023-08-01T12:23:26.726Z"
   },
   {
    "duration": 0,
    "start_time": "2023-08-01T12:23:26.727Z"
   },
   {
    "duration": 0,
    "start_time": "2023-08-01T12:23:26.728Z"
   },
   {
    "duration": 0,
    "start_time": "2023-08-01T12:23:26.729Z"
   },
   {
    "duration": 160,
    "start_time": "2023-08-01T12:24:10.023Z"
   },
   {
    "duration": 129,
    "start_time": "2023-08-01T12:24:39.328Z"
   },
   {
    "duration": 167,
    "start_time": "2023-08-01T12:25:15.923Z"
   },
   {
    "duration": 31,
    "start_time": "2023-08-01T12:25:17.283Z"
   },
   {
    "duration": 83,
    "start_time": "2023-08-01T12:25:17.467Z"
   },
   {
    "duration": 79,
    "start_time": "2023-08-01T12:25:29.647Z"
   },
   {
    "duration": 9,
    "start_time": "2023-08-01T12:25:43.273Z"
   },
   {
    "duration": 75,
    "start_time": "2023-08-01T12:25:52.931Z"
   },
   {
    "duration": 225,
    "start_time": "2023-08-01T12:27:20.190Z"
   },
   {
    "duration": 64,
    "start_time": "2023-08-01T12:27:29.024Z"
   },
   {
    "duration": 17,
    "start_time": "2023-08-01T13:21:16.633Z"
   },
   {
    "duration": 1036,
    "start_time": "2023-08-01T13:34:41.104Z"
   },
   {
    "duration": 558,
    "start_time": "2023-08-01T13:35:58.898Z"
   },
   {
    "duration": 434,
    "start_time": "2023-08-01T13:37:17.346Z"
   },
   {
    "duration": 1192,
    "start_time": "2023-08-01T13:38:37.071Z"
   },
   {
    "duration": 8,
    "start_time": "2023-08-01T13:38:46.249Z"
   },
   {
    "duration": 8,
    "start_time": "2023-08-01T13:38:54.488Z"
   },
   {
    "duration": 1748,
    "start_time": "2023-08-01T13:39:26.500Z"
   },
   {
    "duration": 3637,
    "start_time": "2023-08-01T13:39:32.751Z"
   },
   {
    "duration": 617,
    "start_time": "2023-08-01T13:39:43.858Z"
   },
   {
    "duration": 6,
    "start_time": "2023-08-01T13:40:10.262Z"
   },
   {
    "duration": 1191,
    "start_time": "2023-08-01T13:40:37.756Z"
   },
   {
    "duration": 944,
    "start_time": "2023-08-01T13:40:38.949Z"
   },
   {
    "duration": 27,
    "start_time": "2023-08-01T13:40:39.895Z"
   },
   {
    "duration": 53,
    "start_time": "2023-08-01T13:40:39.929Z"
   },
   {
    "duration": 164,
    "start_time": "2023-08-01T13:40:39.985Z"
   },
   {
    "duration": 74,
    "start_time": "2023-08-01T13:40:40.152Z"
   },
   {
    "duration": 27,
    "start_time": "2023-08-01T13:40:40.232Z"
   },
   {
    "duration": 172,
    "start_time": "2023-08-01T13:40:40.260Z"
   },
   {
    "duration": 111,
    "start_time": "2023-08-01T13:40:40.436Z"
   },
   {
    "duration": 153,
    "start_time": "2023-08-01T13:40:40.549Z"
   },
   {
    "duration": 46,
    "start_time": "2023-08-01T13:40:40.704Z"
   },
   {
    "duration": 110,
    "start_time": "2023-08-01T13:40:40.752Z"
   },
   {
    "duration": 96,
    "start_time": "2023-08-01T13:40:40.864Z"
   },
   {
    "duration": 89,
    "start_time": "2023-08-01T13:40:40.963Z"
   },
   {
    "duration": 237,
    "start_time": "2023-08-01T13:40:41.054Z"
   },
   {
    "duration": 90,
    "start_time": "2023-08-01T13:40:41.293Z"
   },
   {
    "duration": 31,
    "start_time": "2023-08-01T13:40:41.385Z"
   },
   {
    "duration": 482,
    "start_time": "2023-08-01T13:40:41.422Z"
   },
   {
    "duration": 9,
    "start_time": "2023-08-01T13:40:41.911Z"
   },
   {
    "duration": 283,
    "start_time": "2023-08-01T13:40:41.922Z"
   },
   {
    "duration": 9,
    "start_time": "2023-08-01T13:40:42.210Z"
   },
   {
    "duration": 21,
    "start_time": "2023-08-01T13:40:42.220Z"
   },
   {
    "duration": 1428,
    "start_time": "2023-08-01T13:40:42.243Z"
   },
   {
    "duration": 0,
    "start_time": "2023-08-01T13:40:43.673Z"
   },
   {
    "duration": 0,
    "start_time": "2023-08-01T13:40:43.675Z"
   },
   {
    "duration": 0,
    "start_time": "2023-08-01T13:40:43.676Z"
   },
   {
    "duration": 0,
    "start_time": "2023-08-01T13:40:43.677Z"
   },
   {
    "duration": 0,
    "start_time": "2023-08-01T13:40:43.679Z"
   },
   {
    "duration": 0,
    "start_time": "2023-08-01T13:40:43.680Z"
   },
   {
    "duration": 0,
    "start_time": "2023-08-01T13:40:43.681Z"
   },
   {
    "duration": 0,
    "start_time": "2023-08-01T13:40:43.682Z"
   },
   {
    "duration": 0,
    "start_time": "2023-08-01T13:40:43.683Z"
   },
   {
    "duration": 0,
    "start_time": "2023-08-01T13:40:43.684Z"
   },
   {
    "duration": 0,
    "start_time": "2023-08-01T13:40:43.686Z"
   },
   {
    "duration": 1197,
    "start_time": "2023-08-01T13:59:45.206Z"
   },
   {
    "duration": 835,
    "start_time": "2023-08-01T13:59:46.406Z"
   },
   {
    "duration": 17,
    "start_time": "2023-08-01T13:59:47.242Z"
   },
   {
    "duration": 68,
    "start_time": "2023-08-01T13:59:47.261Z"
   },
   {
    "duration": 213,
    "start_time": "2023-08-01T13:59:47.331Z"
   },
   {
    "duration": 63,
    "start_time": "2023-08-01T13:59:47.546Z"
   },
   {
    "duration": 27,
    "start_time": "2023-08-01T13:59:47.611Z"
   },
   {
    "duration": 170,
    "start_time": "2023-08-01T13:59:47.640Z"
   },
   {
    "duration": 104,
    "start_time": "2023-08-01T13:59:47.812Z"
   },
   {
    "duration": 155,
    "start_time": "2023-08-01T13:59:47.919Z"
   },
   {
    "duration": 34,
    "start_time": "2023-08-01T13:59:48.075Z"
   },
   {
    "duration": 86,
    "start_time": "2023-08-01T13:59:48.111Z"
   },
   {
    "duration": 76,
    "start_time": "2023-08-01T13:59:48.199Z"
   },
   {
    "duration": 94,
    "start_time": "2023-08-01T13:59:48.277Z"
   },
   {
    "duration": 227,
    "start_time": "2023-08-01T13:59:48.372Z"
   },
   {
    "duration": 66,
    "start_time": "2023-08-01T13:59:48.601Z"
   },
   {
    "duration": 16,
    "start_time": "2023-08-01T13:59:48.669Z"
   },
   {
    "duration": 430,
    "start_time": "2023-08-01T13:59:48.687Z"
   },
   {
    "duration": 3232,
    "start_time": "2023-08-01T13:59:49.119Z"
   },
   {
    "duration": 550,
    "start_time": "2023-08-01T13:59:52.353Z"
   },
   {
    "duration": 8,
    "start_time": "2023-08-01T13:59:52.905Z"
   },
   {
    "duration": 335,
    "start_time": "2023-08-01T13:59:52.914Z"
   },
   {
    "duration": 1271,
    "start_time": "2023-08-01T13:59:53.251Z"
   },
   {
    "duration": 0,
    "start_time": "2023-08-01T13:59:54.524Z"
   },
   {
    "duration": 0,
    "start_time": "2023-08-01T13:59:54.525Z"
   },
   {
    "duration": 0,
    "start_time": "2023-08-01T13:59:54.526Z"
   },
   {
    "duration": 0,
    "start_time": "2023-08-01T13:59:54.527Z"
   },
   {
    "duration": 0,
    "start_time": "2023-08-01T13:59:54.528Z"
   },
   {
    "duration": 0,
    "start_time": "2023-08-01T13:59:54.529Z"
   },
   {
    "duration": 0,
    "start_time": "2023-08-01T13:59:54.530Z"
   },
   {
    "duration": 0,
    "start_time": "2023-08-01T13:59:54.531Z"
   },
   {
    "duration": 0,
    "start_time": "2023-08-01T13:59:54.532Z"
   },
   {
    "duration": 0,
    "start_time": "2023-08-01T13:59:54.533Z"
   },
   {
    "duration": 0,
    "start_time": "2023-08-01T13:59:54.534Z"
   },
   {
    "duration": 392,
    "start_time": "2023-08-01T14:00:08.351Z"
   },
   {
    "duration": 374,
    "start_time": "2023-08-01T14:00:13.147Z"
   },
   {
    "duration": 3069,
    "start_time": "2023-08-01T14:00:23.174Z"
   },
   {
    "duration": 13,
    "start_time": "2023-08-01T14:00:40.279Z"
   },
   {
    "duration": 1359,
    "start_time": "2023-08-01T14:02:44.719Z"
   },
   {
    "duration": 990,
    "start_time": "2023-08-01T14:02:46.080Z"
   },
   {
    "duration": 14,
    "start_time": "2023-08-01T14:02:47.072Z"
   },
   {
    "duration": 49,
    "start_time": "2023-08-01T14:02:47.089Z"
   },
   {
    "duration": 131,
    "start_time": "2023-08-01T14:02:47.140Z"
   },
   {
    "duration": 69,
    "start_time": "2023-08-01T14:02:47.273Z"
   },
   {
    "duration": 24,
    "start_time": "2023-08-01T14:02:47.344Z"
   },
   {
    "duration": 230,
    "start_time": "2023-08-01T14:02:47.370Z"
   },
   {
    "duration": 110,
    "start_time": "2023-08-01T14:02:47.601Z"
   },
   {
    "duration": 149,
    "start_time": "2023-08-01T14:02:47.714Z"
   },
   {
    "duration": 26,
    "start_time": "2023-08-01T14:02:47.865Z"
   },
   {
    "duration": 109,
    "start_time": "2023-08-01T14:02:47.893Z"
   },
   {
    "duration": 84,
    "start_time": "2023-08-01T14:02:48.009Z"
   },
   {
    "duration": 86,
    "start_time": "2023-08-01T14:02:48.108Z"
   },
   {
    "duration": 235,
    "start_time": "2023-08-01T14:02:48.195Z"
   },
   {
    "duration": 90,
    "start_time": "2023-08-01T14:02:48.432Z"
   },
   {
    "duration": 20,
    "start_time": "2023-08-01T14:02:48.523Z"
   },
   {
    "duration": 488,
    "start_time": "2023-08-01T14:02:48.545Z"
   },
   {
    "duration": 34,
    "start_time": "2023-08-01T14:02:49.035Z"
   },
   {
    "duration": 3229,
    "start_time": "2023-08-01T14:02:49.071Z"
   },
   {
    "duration": 108,
    "start_time": "2023-08-01T14:02:52.301Z"
   },
   {
    "duration": 0,
    "start_time": "2023-08-01T14:02:52.411Z"
   },
   {
    "duration": 0,
    "start_time": "2023-08-01T14:02:52.412Z"
   },
   {
    "duration": 0,
    "start_time": "2023-08-01T14:02:52.412Z"
   },
   {
    "duration": 0,
    "start_time": "2023-08-01T14:02:52.413Z"
   },
   {
    "duration": 0,
    "start_time": "2023-08-01T14:02:52.415Z"
   },
   {
    "duration": 0,
    "start_time": "2023-08-01T14:02:52.416Z"
   },
   {
    "duration": 0,
    "start_time": "2023-08-01T14:02:52.417Z"
   },
   {
    "duration": 0,
    "start_time": "2023-08-01T14:02:52.418Z"
   },
   {
    "duration": 0,
    "start_time": "2023-08-01T14:02:52.419Z"
   },
   {
    "duration": 0,
    "start_time": "2023-08-01T14:02:52.421Z"
   },
   {
    "duration": 0,
    "start_time": "2023-08-01T14:02:52.422Z"
   },
   {
    "duration": 0,
    "start_time": "2023-08-01T14:02:52.423Z"
   },
   {
    "duration": 0,
    "start_time": "2023-08-01T14:02:52.424Z"
   },
   {
    "duration": 464,
    "start_time": "2023-08-01T14:03:08.552Z"
   },
   {
    "duration": 10,
    "start_time": "2023-08-01T14:03:16.599Z"
   },
   {
    "duration": 20,
    "start_time": "2023-08-01T14:03:33.870Z"
   },
   {
    "duration": 43,
    "start_time": "2023-08-01T14:03:43.063Z"
   },
   {
    "duration": 445,
    "start_time": "2023-08-01T14:03:44.451Z"
   },
   {
    "duration": 20,
    "start_time": "2023-08-01T14:03:47.907Z"
   },
   {
    "duration": 37,
    "start_time": "2023-08-01T14:03:51.396Z"
   },
   {
    "duration": 451,
    "start_time": "2023-08-01T14:03:51.640Z"
   },
   {
    "duration": 22,
    "start_time": "2023-08-01T14:03:52.093Z"
   },
   {
    "duration": 794,
    "start_time": "2023-08-01T14:05:08.640Z"
   },
   {
    "duration": 641,
    "start_time": "2023-08-01T14:05:15.716Z"
   },
   {
    "duration": 510,
    "start_time": "2023-08-01T14:05:30.281Z"
   },
   {
    "duration": 43,
    "start_time": "2023-08-01T14:06:10.555Z"
   },
   {
    "duration": 13,
    "start_time": "2023-08-01T14:06:22.589Z"
   },
   {
    "duration": 16,
    "start_time": "2023-08-01T14:06:29.081Z"
   },
   {
    "duration": 40,
    "start_time": "2023-08-01T14:07:50.589Z"
   },
   {
    "duration": 29,
    "start_time": "2023-08-01T14:07:51.511Z"
   },
   {
    "duration": 458,
    "start_time": "2023-08-01T14:08:08.956Z"
   },
   {
    "duration": 9,
    "start_time": "2023-08-01T14:08:16.499Z"
   },
   {
    "duration": 5,
    "start_time": "2023-08-01T14:08:32.178Z"
   },
   {
    "duration": 14,
    "start_time": "2023-08-01T14:08:44.320Z"
   },
   {
    "duration": 13,
    "start_time": "2023-08-01T14:10:58.285Z"
   },
   {
    "duration": 23,
    "start_time": "2023-08-01T14:14:34.701Z"
   },
   {
    "duration": 22,
    "start_time": "2023-08-01T14:15:29.919Z"
   },
   {
    "duration": 48,
    "start_time": "2023-08-01T14:15:39.405Z"
   },
   {
    "duration": 115,
    "start_time": "2023-08-01T14:17:05.275Z"
   },
   {
    "duration": 74,
    "start_time": "2023-08-01T14:17:21.107Z"
   },
   {
    "duration": 30,
    "start_time": "2023-08-01T14:18:07.472Z"
   },
   {
    "duration": 126,
    "start_time": "2023-08-01T14:18:16.286Z"
   },
   {
    "duration": 81,
    "start_time": "2023-08-01T14:21:17.949Z"
   },
   {
    "duration": 80,
    "start_time": "2023-08-01T14:21:36.099Z"
   },
   {
    "duration": 1357,
    "start_time": "2023-08-01T14:22:18.781Z"
   },
   {
    "duration": 903,
    "start_time": "2023-08-01T14:22:20.140Z"
   },
   {
    "duration": 16,
    "start_time": "2023-08-01T14:22:21.046Z"
   },
   {
    "duration": 69,
    "start_time": "2023-08-01T14:22:21.065Z"
   },
   {
    "duration": 125,
    "start_time": "2023-08-01T14:22:21.137Z"
   },
   {
    "duration": 76,
    "start_time": "2023-08-01T14:22:21.265Z"
   },
   {
    "duration": 29,
    "start_time": "2023-08-01T14:22:21.343Z"
   },
   {
    "duration": 212,
    "start_time": "2023-08-01T14:22:21.374Z"
   },
   {
    "duration": 97,
    "start_time": "2023-08-01T14:22:21.588Z"
   },
   {
    "duration": 160,
    "start_time": "2023-08-01T14:22:21.688Z"
   },
   {
    "duration": 26,
    "start_time": "2023-08-01T14:22:21.851Z"
   },
   {
    "duration": 123,
    "start_time": "2023-08-01T14:22:21.879Z"
   },
   {
    "duration": 84,
    "start_time": "2023-08-01T14:22:22.008Z"
   },
   {
    "duration": 102,
    "start_time": "2023-08-01T14:22:22.094Z"
   },
   {
    "duration": 235,
    "start_time": "2023-08-01T14:22:22.199Z"
   },
   {
    "duration": 75,
    "start_time": "2023-08-01T14:22:22.436Z"
   },
   {
    "duration": 19,
    "start_time": "2023-08-01T14:22:22.513Z"
   },
   {
    "duration": 476,
    "start_time": "2023-08-01T14:22:22.533Z"
   },
   {
    "duration": 33,
    "start_time": "2023-08-01T14:22:23.010Z"
   },
   {
    "duration": 449,
    "start_time": "2023-08-01T14:22:23.045Z"
   },
   {
    "duration": 18,
    "start_time": "2023-08-01T14:22:23.496Z"
   },
   {
    "duration": 64,
    "start_time": "2023-08-01T14:22:23.516Z"
   },
   {
    "duration": 22,
    "start_time": "2023-08-01T14:22:23.581Z"
   },
   {
    "duration": 460,
    "start_time": "2023-08-01T14:22:23.605Z"
   },
   {
    "duration": 18,
    "start_time": "2023-08-01T14:22:24.067Z"
   },
   {
    "duration": 44,
    "start_time": "2023-08-01T14:22:24.087Z"
   },
   {
    "duration": 22,
    "start_time": "2023-08-01T14:22:24.133Z"
   },
   {
    "duration": 131,
    "start_time": "2023-08-01T14:22:24.159Z"
   },
   {
    "duration": 154,
    "start_time": "2023-08-01T14:22:24.292Z"
   },
   {
    "duration": 0,
    "start_time": "2023-08-01T14:22:24.448Z"
   },
   {
    "duration": 0,
    "start_time": "2023-08-01T14:22:24.449Z"
   },
   {
    "duration": 0,
    "start_time": "2023-08-01T14:22:24.450Z"
   },
   {
    "duration": 0,
    "start_time": "2023-08-01T14:22:24.451Z"
   },
   {
    "duration": 0,
    "start_time": "2023-08-01T14:22:24.452Z"
   },
   {
    "duration": 0,
    "start_time": "2023-08-01T14:22:24.454Z"
   },
   {
    "duration": 0,
    "start_time": "2023-08-01T14:22:24.455Z"
   },
   {
    "duration": 0,
    "start_time": "2023-08-01T14:22:24.456Z"
   },
   {
    "duration": 0,
    "start_time": "2023-08-01T14:22:24.457Z"
   },
   {
    "duration": 0,
    "start_time": "2023-08-01T14:22:24.458Z"
   },
   {
    "duration": 0,
    "start_time": "2023-08-01T14:22:24.459Z"
   },
   {
    "duration": 0,
    "start_time": "2023-08-01T14:22:24.460Z"
   },
   {
    "duration": 0,
    "start_time": "2023-08-01T14:22:24.461Z"
   },
   {
    "duration": 12,
    "start_time": "2023-08-01T14:23:41.799Z"
   },
   {
    "duration": 96,
    "start_time": "2023-08-01T14:23:56.743Z"
   },
   {
    "duration": 11,
    "start_time": "2023-08-01T14:24:32.234Z"
   },
   {
    "duration": 20,
    "start_time": "2023-08-01T14:25:20.934Z"
   },
   {
    "duration": 14,
    "start_time": "2023-08-01T14:25:43.082Z"
   },
   {
    "duration": 577,
    "start_time": "2023-08-01T14:26:00.327Z"
   },
   {
    "duration": 67,
    "start_time": "2023-08-01T14:27:25.037Z"
   },
   {
    "duration": 33,
    "start_time": "2023-08-01T14:27:33.405Z"
   },
   {
    "duration": 40,
    "start_time": "2023-08-01T14:27:37.809Z"
   },
   {
    "duration": 64,
    "start_time": "2023-08-01T14:27:50.139Z"
   },
   {
    "duration": 4,
    "start_time": "2023-08-01T14:35:24.340Z"
   },
   {
    "duration": 1222,
    "start_time": "2023-08-01T14:35:50.349Z"
   },
   {
    "duration": 895,
    "start_time": "2023-08-01T14:35:51.573Z"
   },
   {
    "duration": 15,
    "start_time": "2023-08-01T14:35:52.469Z"
   },
   {
    "duration": 58,
    "start_time": "2023-08-01T14:35:52.486Z"
   },
   {
    "duration": 126,
    "start_time": "2023-08-01T14:35:52.547Z"
   },
   {
    "duration": 101,
    "start_time": "2023-08-01T14:35:52.675Z"
   },
   {
    "duration": 23,
    "start_time": "2023-08-01T14:35:52.778Z"
   },
   {
    "duration": 218,
    "start_time": "2023-08-01T14:35:52.803Z"
   },
   {
    "duration": 109,
    "start_time": "2023-08-01T14:35:53.023Z"
   },
   {
    "duration": 145,
    "start_time": "2023-08-01T14:35:53.133Z"
   },
   {
    "duration": 36,
    "start_time": "2023-08-01T14:35:53.280Z"
   },
   {
    "duration": 83,
    "start_time": "2023-08-01T14:35:53.318Z"
   },
   {
    "duration": 74,
    "start_time": "2023-08-01T14:35:53.409Z"
   },
   {
    "duration": 97,
    "start_time": "2023-08-01T14:35:53.486Z"
   },
   {
    "duration": 229,
    "start_time": "2023-08-01T14:35:53.585Z"
   },
   {
    "duration": 68,
    "start_time": "2023-08-01T14:35:53.816Z"
   },
   {
    "duration": 23,
    "start_time": "2023-08-01T14:35:53.886Z"
   },
   {
    "duration": 61,
    "start_time": "2023-08-01T14:35:53.911Z"
   },
   {
    "duration": 102,
    "start_time": "2023-08-01T14:35:53.974Z"
   },
   {
    "duration": 248,
    "start_time": "2023-08-01T14:35:54.078Z"
   },
   {
    "duration": 281,
    "start_time": "2023-08-01T14:35:54.327Z"
   },
   {
    "duration": 247,
    "start_time": "2023-08-01T14:35:54.610Z"
   },
   {
    "duration": 84,
    "start_time": "2023-08-01T14:35:54.858Z"
   },
   {
    "duration": 0,
    "start_time": "2023-08-01T14:35:54.943Z"
   },
   {
    "duration": 0,
    "start_time": "2023-08-01T14:35:54.945Z"
   },
   {
    "duration": 0,
    "start_time": "2023-08-01T14:35:54.946Z"
   },
   {
    "duration": 0,
    "start_time": "2023-08-01T14:35:54.947Z"
   },
   {
    "duration": 0,
    "start_time": "2023-08-01T14:35:54.948Z"
   },
   {
    "duration": 27,
    "start_time": "2023-08-01T14:36:01.974Z"
   },
   {
    "duration": 36,
    "start_time": "2023-08-01T14:36:03.311Z"
   },
   {
    "duration": 216,
    "start_time": "2023-08-01T14:36:04.844Z"
   },
   {
    "duration": 224,
    "start_time": "2023-08-01T14:36:07.347Z"
   },
   {
    "duration": 205,
    "start_time": "2023-08-01T14:36:07.573Z"
   },
   {
    "duration": 3,
    "start_time": "2023-08-01T14:36:26.237Z"
   },
   {
    "duration": 5,
    "start_time": "2023-08-01T14:39:06.026Z"
   },
   {
    "duration": 49,
    "start_time": "2023-08-01T14:39:24.983Z"
   },
   {
    "duration": 17,
    "start_time": "2023-08-01T14:39:35.189Z"
   },
   {
    "duration": 18,
    "start_time": "2023-08-01T14:39:43.026Z"
   },
   {
    "duration": 137,
    "start_time": "2023-08-01T14:45:03.507Z"
   },
   {
    "duration": 124,
    "start_time": "2023-08-01T14:45:06.963Z"
   },
   {
    "duration": 20,
    "start_time": "2023-08-01T14:45:21.422Z"
   },
   {
    "duration": 1252,
    "start_time": "2023-08-01T14:46:10.373Z"
   },
   {
    "duration": 975,
    "start_time": "2023-08-01T14:46:11.627Z"
   },
   {
    "duration": 27,
    "start_time": "2023-08-01T14:46:12.604Z"
   },
   {
    "duration": 30,
    "start_time": "2023-08-01T14:46:12.632Z"
   },
   {
    "duration": 160,
    "start_time": "2023-08-01T14:46:12.665Z"
   },
   {
    "duration": 60,
    "start_time": "2023-08-01T14:46:12.827Z"
   },
   {
    "duration": 37,
    "start_time": "2023-08-01T14:46:12.888Z"
   },
   {
    "duration": 191,
    "start_time": "2023-08-01T14:46:12.927Z"
   },
   {
    "duration": 140,
    "start_time": "2023-08-01T14:46:13.120Z"
   },
   {
    "duration": 224,
    "start_time": "2023-08-01T14:46:13.261Z"
   },
   {
    "duration": 41,
    "start_time": "2023-08-01T14:46:13.487Z"
   },
   {
    "duration": 95,
    "start_time": "2023-08-01T14:46:13.529Z"
   },
   {
    "duration": 105,
    "start_time": "2023-08-01T14:46:13.626Z"
   },
   {
    "duration": 90,
    "start_time": "2023-08-01T14:46:13.735Z"
   },
   {
    "duration": 266,
    "start_time": "2023-08-01T14:46:13.827Z"
   },
   {
    "duration": 81,
    "start_time": "2023-08-01T14:46:14.094Z"
   },
   {
    "duration": 7,
    "start_time": "2023-08-01T14:46:14.176Z"
   },
   {
    "duration": 70,
    "start_time": "2023-08-01T14:46:14.185Z"
   },
   {
    "duration": 80,
    "start_time": "2023-08-01T14:46:14.256Z"
   },
   {
    "duration": 264,
    "start_time": "2023-08-01T14:46:14.338Z"
   },
   {
    "duration": 302,
    "start_time": "2023-08-01T14:46:14.604Z"
   },
   {
    "duration": 261,
    "start_time": "2023-08-01T14:46:14.911Z"
   },
   {
    "duration": 22,
    "start_time": "2023-08-01T14:46:15.174Z"
   },
   {
    "duration": 26,
    "start_time": "2023-08-01T14:46:15.214Z"
   },
   {
    "duration": 252,
    "start_time": "2023-08-01T14:46:15.243Z"
   },
   {
    "duration": 246,
    "start_time": "2023-08-01T14:46:15.497Z"
   },
   {
    "duration": 254,
    "start_time": "2023-08-01T14:46:15.746Z"
   },
   {
    "duration": 4,
    "start_time": "2023-08-01T14:46:16.002Z"
   },
   {
    "duration": 42,
    "start_time": "2023-08-01T14:46:16.008Z"
   },
   {
    "duration": 158,
    "start_time": "2023-08-01T14:46:16.052Z"
   },
   {
    "duration": 31,
    "start_time": "2023-08-01T14:46:16.212Z"
   },
   {
    "duration": 242,
    "start_time": "2023-08-01T14:46:16.245Z"
   },
   {
    "duration": 3,
    "start_time": "2023-08-01T14:46:27.318Z"
   },
   {
    "duration": 122,
    "start_time": "2023-08-01T14:46:27.799Z"
   },
   {
    "duration": 131,
    "start_time": "2023-08-01T14:46:28.069Z"
   },
   {
    "duration": 1229,
    "start_time": "2023-08-01T14:46:37.056Z"
   },
   {
    "duration": 950,
    "start_time": "2023-08-01T14:46:38.288Z"
   },
   {
    "duration": 21,
    "start_time": "2023-08-01T14:46:39.243Z"
   },
   {
    "duration": 42,
    "start_time": "2023-08-01T14:46:39.266Z"
   },
   {
    "duration": 176,
    "start_time": "2023-08-01T14:46:39.310Z"
   },
   {
    "duration": 76,
    "start_time": "2023-08-01T14:46:39.489Z"
   },
   {
    "duration": 25,
    "start_time": "2023-08-01T14:46:39.567Z"
   },
   {
    "duration": 212,
    "start_time": "2023-08-01T14:46:39.594Z"
   },
   {
    "duration": 126,
    "start_time": "2023-08-01T14:46:39.809Z"
   },
   {
    "duration": 170,
    "start_time": "2023-08-01T14:46:39.937Z"
   },
   {
    "duration": 30,
    "start_time": "2023-08-01T14:46:40.114Z"
   },
   {
    "duration": 95,
    "start_time": "2023-08-01T14:46:40.146Z"
   },
   {
    "duration": 94,
    "start_time": "2023-08-01T14:46:40.246Z"
   },
   {
    "duration": 87,
    "start_time": "2023-08-01T14:46:40.342Z"
   },
   {
    "duration": 256,
    "start_time": "2023-08-01T14:46:40.431Z"
   },
   {
    "duration": 82,
    "start_time": "2023-08-01T14:46:40.689Z"
   },
   {
    "duration": 7,
    "start_time": "2023-08-01T14:46:40.773Z"
   },
   {
    "duration": 70,
    "start_time": "2023-08-01T14:46:40.781Z"
   },
   {
    "duration": 84,
    "start_time": "2023-08-01T14:46:40.854Z"
   },
   {
    "duration": 254,
    "start_time": "2023-08-01T14:46:40.940Z"
   },
   {
    "duration": 284,
    "start_time": "2023-08-01T14:46:41.196Z"
   },
   {
    "duration": 283,
    "start_time": "2023-08-01T14:46:41.482Z"
   },
   {
    "duration": 25,
    "start_time": "2023-08-01T14:46:41.767Z"
   },
   {
    "duration": 37,
    "start_time": "2023-08-01T14:46:41.794Z"
   },
   {
    "duration": 258,
    "start_time": "2023-08-01T14:46:41.833Z"
   },
   {
    "duration": 281,
    "start_time": "2023-08-01T14:46:42.092Z"
   },
   {
    "duration": 220,
    "start_time": "2023-08-01T14:46:42.375Z"
   },
   {
    "duration": 11,
    "start_time": "2023-08-01T14:46:42.597Z"
   },
   {
    "duration": 48,
    "start_time": "2023-08-01T14:46:42.613Z"
   },
   {
    "duration": 155,
    "start_time": "2023-08-01T14:46:42.663Z"
   },
   {
    "duration": 21,
    "start_time": "2023-08-01T14:46:42.824Z"
   },
   {
    "duration": 215,
    "start_time": "2023-08-01T14:46:42.847Z"
   },
   {
    "duration": 472,
    "start_time": "2023-08-01T14:49:28.745Z"
   },
   {
    "duration": 192,
    "start_time": "2023-08-01T14:51:31.091Z"
   },
   {
    "duration": 25,
    "start_time": "2023-08-01T14:53:29.915Z"
   },
   {
    "duration": 15529,
    "start_time": "2023-08-01T14:53:57.026Z"
   },
   {
    "duration": 17083,
    "start_time": "2023-08-01T14:54:18.165Z"
   },
   {
    "duration": 16429,
    "start_time": "2023-08-01T14:55:20.206Z"
   },
   {
    "duration": 15914,
    "start_time": "2023-08-01T14:55:49.540Z"
   },
   {
    "duration": 16414,
    "start_time": "2023-08-01T14:56:21.477Z"
   },
   {
    "duration": 1683,
    "start_time": "2023-08-01T14:57:04.754Z"
   },
   {
    "duration": 15747,
    "start_time": "2023-08-01T14:57:12.802Z"
   },
   {
    "duration": 3029,
    "start_time": "2023-08-01T14:57:36.632Z"
   },
   {
    "duration": 5016,
    "start_time": "2023-08-01T14:57:49.370Z"
   },
   {
    "duration": 5621,
    "start_time": "2023-08-01T14:57:57.275Z"
   },
   {
    "duration": 5235,
    "start_time": "2023-08-01T14:58:14.640Z"
   },
   {
    "duration": 11,
    "start_time": "2023-08-01T14:59:30.559Z"
   },
   {
    "duration": 34,
    "start_time": "2023-08-01T15:01:00.667Z"
   },
   {
    "duration": 5813,
    "start_time": "2023-08-01T15:01:15.075Z"
   },
   {
    "duration": 590,
    "start_time": "2023-08-01T15:01:40.156Z"
   },
   {
    "duration": 958,
    "start_time": "2023-08-01T15:01:48.211Z"
   },
   {
    "duration": 539,
    "start_time": "2023-08-01T15:01:56.447Z"
   },
   {
    "duration": 2529,
    "start_time": "2023-08-01T15:03:26.129Z"
   },
   {
    "duration": 589,
    "start_time": "2023-08-01T15:03:38.254Z"
   },
   {
    "duration": 279,
    "start_time": "2023-08-01T15:04:15.945Z"
   },
   {
    "duration": 588,
    "start_time": "2023-08-01T15:05:19.601Z"
   },
   {
    "duration": 724,
    "start_time": "2023-08-01T15:05:42.529Z"
   },
   {
    "duration": 25,
    "start_time": "2023-08-01T15:07:47.538Z"
   },
   {
    "duration": 5,
    "start_time": "2023-08-01T15:07:56.057Z"
   },
   {
    "duration": 24,
    "start_time": "2023-08-01T15:08:03.813Z"
   },
   {
    "duration": 594,
    "start_time": "2023-08-01T15:08:30.646Z"
   },
   {
    "duration": 25,
    "start_time": "2023-08-01T15:14:55.235Z"
   },
   {
    "duration": 20,
    "start_time": "2023-08-01T15:15:12.787Z"
   },
   {
    "duration": 5,
    "start_time": "2023-08-01T15:15:28.392Z"
   },
   {
    "duration": 20,
    "start_time": "2023-08-01T15:15:30.122Z"
   },
   {
    "duration": 17,
    "start_time": "2023-08-01T15:16:54.957Z"
   },
   {
    "duration": 263,
    "start_time": "2023-08-01T15:17:04.133Z"
   },
   {
    "duration": 11,
    "start_time": "2023-08-01T15:18:38.829Z"
   },
   {
    "duration": 225,
    "start_time": "2023-08-01T15:21:05.460Z"
   },
   {
    "duration": 232,
    "start_time": "2023-08-01T15:21:44.572Z"
   },
   {
    "duration": 374,
    "start_time": "2023-08-01T15:22:40.390Z"
   },
   {
    "duration": 222,
    "start_time": "2023-08-01T15:22:53.571Z"
   },
   {
    "duration": 234,
    "start_time": "2023-08-01T15:23:00.589Z"
   },
   {
    "duration": 225,
    "start_time": "2023-08-01T15:23:58.830Z"
   },
   {
    "duration": 146,
    "start_time": "2023-08-01T15:25:25.503Z"
   },
   {
    "duration": 150,
    "start_time": "2023-08-01T15:26:22.142Z"
   },
   {
    "duration": 1576,
    "start_time": "2023-08-02T09:43:47.648Z"
   },
   {
    "duration": 1281,
    "start_time": "2023-08-02T09:43:49.813Z"
   },
   {
    "duration": 16,
    "start_time": "2023-08-02T09:43:51.097Z"
   },
   {
    "duration": 57,
    "start_time": "2023-08-02T09:43:51.115Z"
   },
   {
    "duration": 140,
    "start_time": "2023-08-02T09:43:51.175Z"
   },
   {
    "duration": 62,
    "start_time": "2023-08-02T09:43:51.820Z"
   },
   {
    "duration": 24,
    "start_time": "2023-08-02T09:43:52.007Z"
   },
   {
    "duration": 169,
    "start_time": "2023-08-02T09:43:52.918Z"
   },
   {
    "duration": 99,
    "start_time": "2023-08-02T09:43:53.098Z"
   },
   {
    "duration": 145,
    "start_time": "2023-08-02T09:43:53.427Z"
   },
   {
    "duration": 26,
    "start_time": "2023-08-02T09:43:53.612Z"
   },
   {
    "duration": 90,
    "start_time": "2023-08-02T09:43:53.947Z"
   },
   {
    "duration": 82,
    "start_time": "2023-08-02T09:43:54.482Z"
   },
   {
    "duration": 78,
    "start_time": "2023-08-02T09:43:55.197Z"
   },
   {
    "duration": 241,
    "start_time": "2023-08-02T09:43:55.541Z"
   },
   {
    "duration": 71,
    "start_time": "2023-08-02T09:43:55.873Z"
   },
   {
    "duration": 7,
    "start_time": "2023-08-02T09:43:56.363Z"
   },
   {
    "duration": 50,
    "start_time": "2023-08-02T09:43:56.531Z"
   },
   {
    "duration": 74,
    "start_time": "2023-08-02T09:43:56.705Z"
   },
   {
    "duration": 263,
    "start_time": "2023-08-02T09:43:57.067Z"
   },
   {
    "duration": 259,
    "start_time": "2023-08-02T09:43:57.332Z"
   },
   {
    "duration": 238,
    "start_time": "2023-08-02T09:43:57.593Z"
   },
   {
    "duration": 37,
    "start_time": "2023-08-02T09:43:57.833Z"
   },
   {
    "duration": 25,
    "start_time": "2023-08-02T09:43:57.927Z"
   },
   {
    "duration": 218,
    "start_time": "2023-08-02T09:43:58.091Z"
   },
   {
    "duration": 277,
    "start_time": "2023-08-02T09:43:58.311Z"
   },
   {
    "duration": 199,
    "start_time": "2023-08-02T09:43:58.590Z"
   },
   {
    "duration": 3,
    "start_time": "2023-08-02T09:43:59.164Z"
   },
   {
    "duration": 23,
    "start_time": "2023-08-02T09:43:59.344Z"
   },
   {
    "duration": 30,
    "start_time": "2023-08-02T09:43:59.532Z"
   },
   {
    "duration": 209,
    "start_time": "2023-08-02T09:43:59.883Z"
   },
   {
    "duration": 506,
    "start_time": "2023-08-02T09:44:00.265Z"
   },
   {
    "duration": 27,
    "start_time": "2023-08-02T09:44:03.753Z"
   },
   {
    "duration": 4535,
    "start_time": "2023-08-02T09:44:04.264Z"
   },
   {
    "duration": 8,
    "start_time": "2023-08-02T09:44:08.801Z"
   },
   {
    "duration": 81,
    "start_time": "2023-08-02T09:44:08.810Z"
   },
   {
    "duration": 454,
    "start_time": "2023-08-02T09:44:08.893Z"
   },
   {
    "duration": 517,
    "start_time": "2023-08-02T09:44:09.349Z"
   },
   {
    "duration": 19,
    "start_time": "2023-08-02T09:44:09.867Z"
   },
   {
    "duration": 17,
    "start_time": "2023-08-02T09:44:09.888Z"
   },
   {
    "duration": 266,
    "start_time": "2023-08-02T09:44:09.907Z"
   },
   {
    "duration": 654,
    "start_time": "2023-08-02T09:44:10.175Z"
   },
   {
    "duration": 159,
    "start_time": "2023-08-02T09:44:10.831Z"
   },
   {
    "duration": 18,
    "start_time": "2023-08-02T09:45:05.988Z"
   },
   {
    "duration": 9,
    "start_time": "2023-08-02T09:56:25.473Z"
   },
   {
    "duration": 2976,
    "start_time": "2023-08-02T10:00:19.021Z"
   },
   {
    "duration": 491,
    "start_time": "2023-08-02T10:00:40.450Z"
   },
   {
    "duration": 18,
    "start_time": "2023-08-02T10:01:13.523Z"
   },
   {
    "duration": 23,
    "start_time": "2023-08-02T10:30:03.440Z"
   },
   {
    "duration": 39,
    "start_time": "2023-08-02T11:27:28.811Z"
   },
   {
    "duration": 12,
    "start_time": "2023-08-02T11:27:30.964Z"
   },
   {
    "duration": 1322,
    "start_time": "2023-08-02T11:27:50.144Z"
   },
   {
    "duration": 899,
    "start_time": "2023-08-02T11:27:51.468Z"
   },
   {
    "duration": 15,
    "start_time": "2023-08-02T11:27:52.368Z"
   },
   {
    "duration": 28,
    "start_time": "2023-08-02T11:27:52.386Z"
   },
   {
    "duration": 150,
    "start_time": "2023-08-02T11:27:52.416Z"
   },
   {
    "duration": 59,
    "start_time": "2023-08-02T11:27:52.568Z"
   },
   {
    "duration": 46,
    "start_time": "2023-08-02T11:27:52.628Z"
   },
   {
    "duration": 175,
    "start_time": "2023-08-02T11:27:52.675Z"
   },
   {
    "duration": 99,
    "start_time": "2023-08-02T11:27:52.863Z"
   },
   {
    "duration": 164,
    "start_time": "2023-08-02T11:27:52.966Z"
   },
   {
    "duration": 38,
    "start_time": "2023-08-02T11:27:53.133Z"
   },
   {
    "duration": 93,
    "start_time": "2023-08-02T11:27:53.173Z"
   },
   {
    "duration": 103,
    "start_time": "2023-08-02T11:27:53.268Z"
   },
   {
    "duration": 76,
    "start_time": "2023-08-02T11:27:53.373Z"
   },
   {
    "duration": 251,
    "start_time": "2023-08-02T11:27:53.451Z"
   },
   {
    "duration": 74,
    "start_time": "2023-08-02T11:27:53.704Z"
   },
   {
    "duration": 6,
    "start_time": "2023-08-02T11:27:53.780Z"
   },
   {
    "duration": 56,
    "start_time": "2023-08-02T11:27:53.787Z"
   },
   {
    "duration": 77,
    "start_time": "2023-08-02T11:27:53.845Z"
   },
   {
    "duration": 243,
    "start_time": "2023-08-02T11:27:53.924Z"
   },
   {
    "duration": 263,
    "start_time": "2023-08-02T11:27:54.169Z"
   },
   {
    "duration": 240,
    "start_time": "2023-08-02T11:27:54.434Z"
   },
   {
    "duration": 20,
    "start_time": "2023-08-02T11:27:54.676Z"
   },
   {
    "duration": 23,
    "start_time": "2023-08-02T11:27:54.698Z"
   },
   {
    "duration": 219,
    "start_time": "2023-08-02T11:27:54.722Z"
   },
   {
    "duration": 227,
    "start_time": "2023-08-02T11:27:54.943Z"
   },
   {
    "duration": 216,
    "start_time": "2023-08-02T11:27:55.172Z"
   },
   {
    "duration": 3,
    "start_time": "2023-08-02T11:27:55.392Z"
   },
   {
    "duration": 29,
    "start_time": "2023-08-02T11:27:55.397Z"
   },
   {
    "duration": 37,
    "start_time": "2023-08-02T11:27:55.428Z"
   },
   {
    "duration": 208,
    "start_time": "2023-08-02T11:27:55.467Z"
   },
   {
    "duration": 493,
    "start_time": "2023-08-02T11:27:55.677Z"
   },
   {
    "duration": 18,
    "start_time": "2023-08-02T11:27:56.172Z"
   },
   {
    "duration": 4627,
    "start_time": "2023-08-02T11:27:56.192Z"
   },
   {
    "duration": 7,
    "start_time": "2023-08-02T11:28:00.822Z"
   },
   {
    "duration": 60,
    "start_time": "2023-08-02T11:28:00.831Z"
   },
   {
    "duration": 518,
    "start_time": "2023-08-02T11:28:00.893Z"
   },
   {
    "duration": 532,
    "start_time": "2023-08-02T11:28:01.413Z"
   },
   {
    "duration": 24,
    "start_time": "2023-08-02T11:28:01.947Z"
   },
   {
    "duration": 33,
    "start_time": "2023-08-02T11:28:01.973Z"
   },
   {
    "duration": 271,
    "start_time": "2023-08-02T11:28:02.008Z"
   },
   {
    "duration": 616,
    "start_time": "2023-08-02T11:28:02.281Z"
   },
   {
    "duration": 167,
    "start_time": "2023-08-02T11:28:02.898Z"
   },
   {
    "duration": 20,
    "start_time": "2023-08-02T11:28:03.067Z"
   },
   {
    "duration": 24,
    "start_time": "2023-08-02T11:28:03.089Z"
   },
   {
    "duration": 92,
    "start_time": "2023-08-02T11:28:03.115Z"
   },
   {
    "duration": 12,
    "start_time": "2023-08-02T11:28:03.209Z"
   },
   {
    "duration": 1334,
    "start_time": "2023-08-02T11:28:23.933Z"
   },
   {
    "duration": 910,
    "start_time": "2023-08-02T11:28:25.270Z"
   },
   {
    "duration": 14,
    "start_time": "2023-08-02T11:28:26.182Z"
   },
   {
    "duration": 30,
    "start_time": "2023-08-02T11:28:26.198Z"
   },
   {
    "duration": 145,
    "start_time": "2023-08-02T11:28:26.230Z"
   },
   {
    "duration": 56,
    "start_time": "2023-08-02T11:28:26.377Z"
   },
   {
    "duration": 43,
    "start_time": "2023-08-02T11:28:26.434Z"
   },
   {
    "duration": 184,
    "start_time": "2023-08-02T11:28:26.478Z"
   },
   {
    "duration": 103,
    "start_time": "2023-08-02T11:28:26.664Z"
   },
   {
    "duration": 145,
    "start_time": "2023-08-02T11:28:26.771Z"
   },
   {
    "duration": 28,
    "start_time": "2023-08-02T11:28:26.918Z"
   },
   {
    "duration": 93,
    "start_time": "2023-08-02T11:28:26.951Z"
   },
   {
    "duration": 88,
    "start_time": "2023-08-02T11:28:27.052Z"
   },
   {
    "duration": 72,
    "start_time": "2023-08-02T11:28:27.158Z"
   },
   {
    "duration": 257,
    "start_time": "2023-08-02T11:28:27.232Z"
   },
   {
    "duration": 77,
    "start_time": "2023-08-02T11:28:27.491Z"
   },
   {
    "duration": 7,
    "start_time": "2023-08-02T11:28:27.570Z"
   },
   {
    "duration": 64,
    "start_time": "2023-08-02T11:28:27.579Z"
   },
   {
    "duration": 82,
    "start_time": "2023-08-02T11:28:27.645Z"
   },
   {
    "duration": 260,
    "start_time": "2023-08-02T11:28:27.729Z"
   },
   {
    "duration": 293,
    "start_time": "2023-08-02T11:28:27.991Z"
   },
   {
    "duration": 294,
    "start_time": "2023-08-02T11:28:28.286Z"
   },
   {
    "duration": 21,
    "start_time": "2023-08-02T11:28:28.582Z"
   },
   {
    "duration": 52,
    "start_time": "2023-08-02T11:28:28.605Z"
   },
   {
    "duration": 212,
    "start_time": "2023-08-02T11:28:28.659Z"
   },
   {
    "duration": 230,
    "start_time": "2023-08-02T11:28:28.873Z"
   },
   {
    "duration": 224,
    "start_time": "2023-08-02T11:28:29.104Z"
   },
   {
    "duration": 3,
    "start_time": "2023-08-02T11:28:29.331Z"
   },
   {
    "duration": 34,
    "start_time": "2023-08-02T11:28:29.336Z"
   },
   {
    "duration": 26,
    "start_time": "2023-08-02T11:28:29.372Z"
   },
   {
    "duration": 208,
    "start_time": "2023-08-02T11:28:29.399Z"
   },
   {
    "duration": 471,
    "start_time": "2023-08-02T11:28:29.609Z"
   },
   {
    "duration": 21,
    "start_time": "2023-08-02T11:28:30.083Z"
   },
   {
    "duration": 4630,
    "start_time": "2023-08-02T11:28:30.107Z"
   },
   {
    "duration": 27,
    "start_time": "2023-08-02T11:28:34.739Z"
   },
   {
    "duration": 22,
    "start_time": "2023-08-02T11:28:34.768Z"
   },
   {
    "duration": 486,
    "start_time": "2023-08-02T11:28:34.792Z"
   },
   {
    "duration": 538,
    "start_time": "2023-08-02T11:28:35.280Z"
   },
   {
    "duration": 20,
    "start_time": "2023-08-02T11:28:35.820Z"
   },
   {
    "duration": 20,
    "start_time": "2023-08-02T11:28:35.862Z"
   },
   {
    "duration": 265,
    "start_time": "2023-08-02T11:28:35.884Z"
   },
   {
    "duration": 638,
    "start_time": "2023-08-02T11:28:36.151Z"
   },
   {
    "duration": 158,
    "start_time": "2023-08-02T11:28:36.791Z"
   },
   {
    "duration": 29,
    "start_time": "2023-08-02T11:28:36.950Z"
   },
   {
    "duration": 16,
    "start_time": "2023-08-02T11:28:36.980Z"
   },
   {
    "duration": 21,
    "start_time": "2023-08-02T11:28:36.998Z"
   },
   {
    "duration": 44,
    "start_time": "2023-08-02T11:28:37.021Z"
   },
   {
    "duration": 1576,
    "start_time": "2023-08-02T11:31:50.208Z"
   },
   {
    "duration": 879,
    "start_time": "2023-08-02T11:31:51.787Z"
   },
   {
    "duration": 15,
    "start_time": "2023-08-02T11:31:52.667Z"
   },
   {
    "duration": 29,
    "start_time": "2023-08-02T11:31:52.684Z"
   },
   {
    "duration": 151,
    "start_time": "2023-08-02T11:31:52.716Z"
   },
   {
    "duration": 56,
    "start_time": "2023-08-02T11:31:52.869Z"
   },
   {
    "duration": 44,
    "start_time": "2023-08-02T11:31:52.927Z"
   },
   {
    "duration": 190,
    "start_time": "2023-08-02T11:31:52.974Z"
   },
   {
    "duration": 100,
    "start_time": "2023-08-02T11:31:53.166Z"
   },
   {
    "duration": 164,
    "start_time": "2023-08-02T11:31:53.269Z"
   },
   {
    "duration": 34,
    "start_time": "2023-08-02T11:31:53.434Z"
   },
   {
    "duration": 93,
    "start_time": "2023-08-02T11:31:53.470Z"
   },
   {
    "duration": 99,
    "start_time": "2023-08-02T11:31:53.564Z"
   },
   {
    "duration": 73,
    "start_time": "2023-08-02T11:31:53.666Z"
   },
   {
    "duration": 246,
    "start_time": "2023-08-02T11:31:53.741Z"
   },
   {
    "duration": 81,
    "start_time": "2023-08-02T11:31:53.989Z"
   },
   {
    "duration": 6,
    "start_time": "2023-08-02T11:31:54.072Z"
   },
   {
    "duration": 49,
    "start_time": "2023-08-02T11:31:54.080Z"
   },
   {
    "duration": 85,
    "start_time": "2023-08-02T11:31:54.130Z"
   },
   {
    "duration": 250,
    "start_time": "2023-08-02T11:31:54.217Z"
   },
   {
    "duration": 263,
    "start_time": "2023-08-02T11:31:54.469Z"
   },
   {
    "duration": 238,
    "start_time": "2023-08-02T11:31:54.733Z"
   },
   {
    "duration": 20,
    "start_time": "2023-08-02T11:31:54.972Z"
   },
   {
    "duration": 25,
    "start_time": "2023-08-02T11:31:54.994Z"
   },
   {
    "duration": 230,
    "start_time": "2023-08-02T11:31:55.020Z"
   },
   {
    "duration": 258,
    "start_time": "2023-08-02T11:31:55.252Z"
   },
   {
    "duration": 214,
    "start_time": "2023-08-02T11:31:55.512Z"
   },
   {
    "duration": 3,
    "start_time": "2023-08-02T11:31:55.730Z"
   },
   {
    "duration": 31,
    "start_time": "2023-08-02T11:31:55.735Z"
   },
   {
    "duration": 29,
    "start_time": "2023-08-02T11:31:55.768Z"
   },
   {
    "duration": 215,
    "start_time": "2023-08-02T11:31:55.798Z"
   },
   {
    "duration": 454,
    "start_time": "2023-08-02T11:31:56.015Z"
   },
   {
    "duration": 20,
    "start_time": "2023-08-02T11:31:56.470Z"
   },
   {
    "duration": 4440,
    "start_time": "2023-08-02T11:31:56.493Z"
   },
   {
    "duration": 27,
    "start_time": "2023-08-02T11:32:00.935Z"
   },
   {
    "duration": 28,
    "start_time": "2023-08-02T11:32:00.965Z"
   },
   {
    "duration": 495,
    "start_time": "2023-08-02T11:32:00.995Z"
   },
   {
    "duration": 515,
    "start_time": "2023-08-02T11:32:01.492Z"
   },
   {
    "duration": 19,
    "start_time": "2023-08-02T11:32:02.008Z"
   },
   {
    "duration": 55,
    "start_time": "2023-08-02T11:32:02.028Z"
   },
   {
    "duration": 284,
    "start_time": "2023-08-02T11:32:02.085Z"
   },
   {
    "duration": 650,
    "start_time": "2023-08-02T11:32:02.372Z"
   },
   {
    "duration": 163,
    "start_time": "2023-08-02T11:32:03.024Z"
   },
   {
    "duration": 19,
    "start_time": "2023-08-02T11:32:03.189Z"
   },
   {
    "duration": 70,
    "start_time": "2023-08-02T11:32:03.210Z"
   },
   {
    "duration": 56,
    "start_time": "2023-08-02T11:32:03.282Z"
   },
   {
    "duration": 35,
    "start_time": "2023-08-02T11:32:03.340Z"
   },
   {
    "duration": 39,
    "start_time": "2023-08-02T11:32:42.724Z"
   },
   {
    "duration": 21,
    "start_time": "2023-08-02T11:32:47.410Z"
   },
   {
    "duration": 273,
    "start_time": "2023-08-02T11:33:28.989Z"
   },
   {
    "duration": 134,
    "start_time": "2023-08-02T11:35:19.168Z"
   },
   {
    "duration": 11,
    "start_time": "2023-08-02T11:40:42.931Z"
   },
   {
    "duration": 72,
    "start_time": "2023-08-02T11:40:50.713Z"
   },
   {
    "duration": 22,
    "start_time": "2023-08-02T11:40:58.009Z"
   },
   {
    "duration": 11,
    "start_time": "2023-08-02T11:42:17.097Z"
   },
   {
    "duration": 3946,
    "start_time": "2023-08-02T11:42:30.332Z"
   },
   {
    "duration": 86,
    "start_time": "2023-08-02T11:42:36.364Z"
   },
   {
    "duration": 26,
    "start_time": "2023-08-02T11:53:01.123Z"
   },
   {
    "duration": 18,
    "start_time": "2023-08-02T11:53:07.867Z"
   },
   {
    "duration": 18,
    "start_time": "2023-08-02T11:53:21.112Z"
   },
   {
    "duration": 17,
    "start_time": "2023-08-02T11:53:29.365Z"
   },
   {
    "duration": 522,
    "start_time": "2023-08-02T11:54:52.002Z"
   },
   {
    "duration": 21,
    "start_time": "2023-08-02T11:54:57.617Z"
   },
   {
    "duration": 4,
    "start_time": "2023-08-02T11:59:21.906Z"
   },
   {
    "duration": 3033,
    "start_time": "2023-08-02T12:04:04.947Z"
   },
   {
    "duration": 1678,
    "start_time": "2023-08-02T12:04:07.983Z"
   },
   {
    "duration": 891,
    "start_time": "2023-08-02T12:04:09.663Z"
   },
   {
    "duration": 14,
    "start_time": "2023-08-02T12:04:10.556Z"
   },
   {
    "duration": 35,
    "start_time": "2023-08-02T12:04:10.573Z"
   },
   {
    "duration": 142,
    "start_time": "2023-08-02T12:04:10.610Z"
   },
   {
    "duration": 61,
    "start_time": "2023-08-02T12:04:10.755Z"
   },
   {
    "duration": 41,
    "start_time": "2023-08-02T12:04:10.818Z"
   },
   {
    "duration": 173,
    "start_time": "2023-08-02T12:04:10.861Z"
   },
   {
    "duration": 116,
    "start_time": "2023-08-02T12:04:11.036Z"
   },
   {
    "duration": 158,
    "start_time": "2023-08-02T12:04:11.154Z"
   },
   {
    "duration": 40,
    "start_time": "2023-08-02T12:04:11.314Z"
   },
   {
    "duration": 87,
    "start_time": "2023-08-02T12:04:11.357Z"
   },
   {
    "duration": 79,
    "start_time": "2023-08-02T12:04:11.453Z"
   },
   {
    "duration": 91,
    "start_time": "2023-08-02T12:04:11.534Z"
   },
   {
    "duration": 247,
    "start_time": "2023-08-02T12:04:11.627Z"
   },
   {
    "duration": 67,
    "start_time": "2023-08-02T12:04:11.875Z"
   },
   {
    "duration": 7,
    "start_time": "2023-08-02T12:04:11.952Z"
   },
   {
    "duration": 55,
    "start_time": "2023-08-02T12:04:11.960Z"
   },
   {
    "duration": 74,
    "start_time": "2023-08-02T12:04:12.016Z"
   },
   {
    "duration": 254,
    "start_time": "2023-08-02T12:04:12.092Z"
   },
   {
    "duration": 252,
    "start_time": "2023-08-02T12:04:12.348Z"
   },
   {
    "duration": 243,
    "start_time": "2023-08-02T12:04:12.602Z"
   },
   {
    "duration": 24,
    "start_time": "2023-08-02T12:04:12.846Z"
   },
   {
    "duration": 23,
    "start_time": "2023-08-02T12:04:12.872Z"
   },
   {
    "duration": 233,
    "start_time": "2023-08-02T12:04:12.897Z"
   },
   {
    "duration": 247,
    "start_time": "2023-08-02T12:04:13.132Z"
   },
   {
    "duration": 206,
    "start_time": "2023-08-02T12:04:13.381Z"
   },
   {
    "duration": 3,
    "start_time": "2023-08-02T12:04:13.589Z"
   },
   {
    "duration": 26,
    "start_time": "2023-08-02T12:04:13.593Z"
   },
   {
    "duration": 32,
    "start_time": "2023-08-02T12:04:13.621Z"
   },
   {
    "duration": 196,
    "start_time": "2023-08-02T12:04:13.654Z"
   },
   {
    "duration": 458,
    "start_time": "2023-08-02T12:04:13.852Z"
   },
   {
    "duration": 21,
    "start_time": "2023-08-02T12:04:14.312Z"
   },
   {
    "duration": 4527,
    "start_time": "2023-08-02T12:04:14.335Z"
   },
   {
    "duration": 8,
    "start_time": "2023-08-02T12:04:18.864Z"
   },
   {
    "duration": 29,
    "start_time": "2023-08-02T12:04:18.873Z"
   },
   {
    "duration": 448,
    "start_time": "2023-08-02T12:04:18.903Z"
   },
   {
    "duration": 923,
    "start_time": "2023-08-02T12:04:19.353Z"
   },
   {
    "duration": 19,
    "start_time": "2023-08-02T12:04:20.278Z"
   },
   {
    "duration": 24,
    "start_time": "2023-08-02T12:04:20.301Z"
   },
   {
    "duration": 281,
    "start_time": "2023-08-02T12:04:20.327Z"
   },
   {
    "duration": 235,
    "start_time": "2023-08-02T12:04:20.610Z"
   },
   {
    "duration": 149,
    "start_time": "2023-08-02T12:04:20.851Z"
   },
   {
    "duration": 19,
    "start_time": "2023-08-02T12:04:21.002Z"
   },
   {
    "duration": 11,
    "start_time": "2023-08-02T12:04:21.023Z"
   },
   {
    "duration": 127,
    "start_time": "2023-08-02T12:04:21.051Z"
   },
   {
    "duration": 0,
    "start_time": "2023-08-02T12:04:21.179Z"
   },
   {
    "duration": 0,
    "start_time": "2023-08-02T12:04:21.181Z"
   },
   {
    "duration": 0,
    "start_time": "2023-08-02T12:04:21.182Z"
   },
   {
    "duration": 0,
    "start_time": "2023-08-02T12:04:21.183Z"
   },
   {
    "duration": 0,
    "start_time": "2023-08-02T12:04:21.184Z"
   },
   {
    "duration": 19,
    "start_time": "2023-08-02T12:05:31.440Z"
   },
   {
    "duration": 64,
    "start_time": "2023-08-02T12:05:38.450Z"
   },
   {
    "duration": 17,
    "start_time": "2023-08-02T12:05:43.422Z"
   },
   {
    "duration": 24,
    "start_time": "2023-08-02T12:05:48.334Z"
   },
   {
    "duration": 6,
    "start_time": "2023-08-02T12:05:55.519Z"
   },
   {
    "duration": 5,
    "start_time": "2023-08-02T12:05:58.560Z"
   },
   {
    "duration": 58,
    "start_time": "2023-08-02T12:07:42.921Z"
   },
   {
    "duration": 19,
    "start_time": "2023-08-02T12:07:54.128Z"
   },
   {
    "duration": 21,
    "start_time": "2023-08-02T12:08:23.373Z"
   },
   {
    "duration": 13,
    "start_time": "2023-08-02T12:15:57.607Z"
   },
   {
    "duration": 17,
    "start_time": "2023-08-02T12:16:02.757Z"
   },
   {
    "duration": 17,
    "start_time": "2023-08-02T12:17:49.216Z"
   },
   {
    "duration": 54,
    "start_time": "2023-08-02T12:18:50.351Z"
   },
   {
    "duration": 18,
    "start_time": "2023-08-02T12:18:56.035Z"
   },
   {
    "duration": 436,
    "start_time": "2023-08-02T12:20:27.525Z"
   },
   {
    "duration": 23,
    "start_time": "2023-08-02T12:20:32.404Z"
   },
   {
    "duration": 21,
    "start_time": "2023-08-02T12:20:40.120Z"
   },
   {
    "duration": 187,
    "start_time": "2023-08-02T12:21:35.866Z"
   },
   {
    "duration": 1089,
    "start_time": "2023-08-02T12:22:34.028Z"
   },
   {
    "duration": 2256,
    "start_time": "2023-08-02T12:22:44.808Z"
   },
   {
    "duration": 1584,
    "start_time": "2023-08-02T12:22:47.066Z"
   },
   {
    "duration": 1188,
    "start_time": "2023-08-02T12:22:48.652Z"
   },
   {
    "duration": 14,
    "start_time": "2023-08-02T12:22:49.842Z"
   },
   {
    "duration": 43,
    "start_time": "2023-08-02T12:22:49.858Z"
   },
   {
    "duration": 127,
    "start_time": "2023-08-02T12:22:49.903Z"
   },
   {
    "duration": 72,
    "start_time": "2023-08-02T12:22:50.032Z"
   },
   {
    "duration": 22,
    "start_time": "2023-08-02T12:22:50.106Z"
   },
   {
    "duration": 184,
    "start_time": "2023-08-02T12:22:50.130Z"
   },
   {
    "duration": 100,
    "start_time": "2023-08-02T12:22:50.317Z"
   },
   {
    "duration": 165,
    "start_time": "2023-08-02T12:22:50.419Z"
   },
   {
    "duration": 26,
    "start_time": "2023-08-02T12:22:50.586Z"
   },
   {
    "duration": 99,
    "start_time": "2023-08-02T12:22:50.615Z"
   },
   {
    "duration": 83,
    "start_time": "2023-08-02T12:22:50.716Z"
   },
   {
    "duration": 90,
    "start_time": "2023-08-02T12:22:50.802Z"
   },
   {
    "duration": 250,
    "start_time": "2023-08-02T12:22:50.894Z"
   },
   {
    "duration": 72,
    "start_time": "2023-08-02T12:22:51.146Z"
   },
   {
    "duration": 6,
    "start_time": "2023-08-02T12:22:51.220Z"
   },
   {
    "duration": 66,
    "start_time": "2023-08-02T12:22:51.228Z"
   },
   {
    "duration": 84,
    "start_time": "2023-08-02T12:22:51.296Z"
   },
   {
    "duration": 259,
    "start_time": "2023-08-02T12:22:51.382Z"
   },
   {
    "duration": 264,
    "start_time": "2023-08-02T12:22:51.643Z"
   },
   {
    "duration": 246,
    "start_time": "2023-08-02T12:22:51.909Z"
   },
   {
    "duration": 22,
    "start_time": "2023-08-02T12:22:52.158Z"
   },
   {
    "duration": 24,
    "start_time": "2023-08-02T12:22:52.182Z"
   },
   {
    "duration": 221,
    "start_time": "2023-08-02T12:22:52.208Z"
   },
   {
    "duration": 227,
    "start_time": "2023-08-02T12:22:52.431Z"
   },
   {
    "duration": 200,
    "start_time": "2023-08-02T12:22:52.661Z"
   },
   {
    "duration": 3,
    "start_time": "2023-08-02T12:22:52.862Z"
   },
   {
    "duration": 33,
    "start_time": "2023-08-02T12:22:52.866Z"
   },
   {
    "duration": 20,
    "start_time": "2023-08-02T12:22:52.901Z"
   },
   {
    "duration": 212,
    "start_time": "2023-08-02T12:22:52.923Z"
   },
   {
    "duration": 453,
    "start_time": "2023-08-02T12:22:53.137Z"
   },
   {
    "duration": 22,
    "start_time": "2023-08-02T12:22:53.592Z"
   },
   {
    "duration": 4137,
    "start_time": "2023-08-02T12:22:53.615Z"
   },
   {
    "duration": 9,
    "start_time": "2023-08-02T12:22:57.754Z"
   },
   {
    "duration": 29,
    "start_time": "2023-08-02T12:22:57.764Z"
   },
   {
    "duration": 446,
    "start_time": "2023-08-02T12:22:57.795Z"
   },
   {
    "duration": 900,
    "start_time": "2023-08-02T12:22:58.244Z"
   },
   {
    "duration": 22,
    "start_time": "2023-08-02T12:22:59.146Z"
   },
   {
    "duration": 22,
    "start_time": "2023-08-02T12:22:59.170Z"
   },
   {
    "duration": 274,
    "start_time": "2023-08-02T12:22:59.194Z"
   },
   {
    "duration": 226,
    "start_time": "2023-08-02T12:22:59.471Z"
   },
   {
    "duration": 147,
    "start_time": "2023-08-02T12:22:59.699Z"
   },
   {
    "duration": 19,
    "start_time": "2023-08-02T12:22:59.852Z"
   },
   {
    "duration": 48,
    "start_time": "2023-08-02T12:22:59.873Z"
   },
   {
    "duration": 63,
    "start_time": "2023-08-02T12:22:59.923Z"
   },
   {
    "duration": 64,
    "start_time": "2023-08-02T12:22:59.988Z"
   },
   {
    "duration": 52,
    "start_time": "2023-08-02T12:23:00.054Z"
   },
   {
    "duration": 472,
    "start_time": "2023-08-02T12:23:00.109Z"
   },
   {
    "duration": 187,
    "start_time": "2023-08-02T12:23:00.583Z"
   },
   {
    "duration": 2111,
    "start_time": "2023-08-02T12:25:36.247Z"
   },
   {
    "duration": 1890,
    "start_time": "2023-08-02T12:25:38.361Z"
   },
   {
    "duration": 1161,
    "start_time": "2023-08-02T12:25:40.252Z"
   },
   {
    "duration": 15,
    "start_time": "2023-08-02T12:25:41.415Z"
   },
   {
    "duration": 30,
    "start_time": "2023-08-02T12:25:41.431Z"
   },
   {
    "duration": 131,
    "start_time": "2023-08-02T12:25:41.463Z"
   },
   {
    "duration": 73,
    "start_time": "2023-08-02T12:25:41.595Z"
   },
   {
    "duration": 23,
    "start_time": "2023-08-02T12:25:41.670Z"
   },
   {
    "duration": 160,
    "start_time": "2023-08-02T12:25:41.695Z"
   },
   {
    "duration": 115,
    "start_time": "2023-08-02T12:25:41.858Z"
   },
   {
    "duration": 145,
    "start_time": "2023-08-02T12:25:41.974Z"
   },
   {
    "duration": 32,
    "start_time": "2023-08-02T12:25:42.121Z"
   },
   {
    "duration": 81,
    "start_time": "2023-08-02T12:25:42.154Z"
   },
   {
    "duration": 90,
    "start_time": "2023-08-02T12:25:42.237Z"
   },
   {
    "duration": 84,
    "start_time": "2023-08-02T12:25:42.328Z"
   },
   {
    "duration": 243,
    "start_time": "2023-08-02T12:25:42.414Z"
   },
   {
    "duration": 66,
    "start_time": "2023-08-02T12:25:42.659Z"
   },
   {
    "duration": 7,
    "start_time": "2023-08-02T12:25:42.726Z"
   },
   {
    "duration": 61,
    "start_time": "2023-08-02T12:25:42.734Z"
   },
   {
    "duration": 74,
    "start_time": "2023-08-02T12:25:42.797Z"
   },
   {
    "duration": 235,
    "start_time": "2023-08-02T12:25:42.873Z"
   },
   {
    "duration": 261,
    "start_time": "2023-08-02T12:25:43.110Z"
   },
   {
    "duration": 235,
    "start_time": "2023-08-02T12:25:43.373Z"
   },
   {
    "duration": 22,
    "start_time": "2023-08-02T12:25:43.610Z"
   },
   {
    "duration": 3792,
    "start_time": "2023-08-02T12:27:12.563Z"
   },
   {
    "duration": 1690,
    "start_time": "2023-08-02T12:27:16.358Z"
   },
   {
    "duration": 1190,
    "start_time": "2023-08-02T12:27:18.050Z"
   },
   {
    "duration": 14,
    "start_time": "2023-08-02T12:27:19.242Z"
   },
   {
    "duration": 36,
    "start_time": "2023-08-02T12:27:19.258Z"
   },
   {
    "duration": 122,
    "start_time": "2023-08-02T12:27:19.296Z"
   },
   {
    "duration": 73,
    "start_time": "2023-08-02T12:27:19.420Z"
   },
   {
    "duration": 23,
    "start_time": "2023-08-02T12:27:19.495Z"
   },
   {
    "duration": 181,
    "start_time": "2023-08-02T12:27:19.519Z"
   },
   {
    "duration": 111,
    "start_time": "2023-08-02T12:27:19.703Z"
   },
   {
    "duration": 152,
    "start_time": "2023-08-02T12:27:19.816Z"
   },
   {
    "duration": 25,
    "start_time": "2023-08-02T12:27:19.971Z"
   },
   {
    "duration": 98,
    "start_time": "2023-08-02T12:27:19.998Z"
   },
   {
    "duration": 89,
    "start_time": "2023-08-02T12:27:20.098Z"
   },
   {
    "duration": 80,
    "start_time": "2023-08-02T12:27:20.188Z"
   },
   {
    "duration": 247,
    "start_time": "2023-08-02T12:27:20.270Z"
   },
   {
    "duration": 77,
    "start_time": "2023-08-02T12:27:20.519Z"
   },
   {
    "duration": 6,
    "start_time": "2023-08-02T12:27:20.598Z"
   },
   {
    "duration": 63,
    "start_time": "2023-08-02T12:27:20.606Z"
   },
   {
    "duration": 82,
    "start_time": "2023-08-02T12:27:20.671Z"
   },
   {
    "duration": 253,
    "start_time": "2023-08-02T12:27:20.754Z"
   },
   {
    "duration": 269,
    "start_time": "2023-08-02T12:27:21.008Z"
   },
   {
    "duration": 249,
    "start_time": "2023-08-02T12:27:21.278Z"
   },
   {
    "duration": 27,
    "start_time": "2023-08-02T12:27:21.529Z"
   },
   {
    "duration": 24,
    "start_time": "2023-08-02T12:27:21.558Z"
   },
   {
    "duration": 228,
    "start_time": "2023-08-02T12:27:21.584Z"
   },
   {
    "duration": 224,
    "start_time": "2023-08-02T12:27:21.814Z"
   },
   {
    "duration": 206,
    "start_time": "2023-08-02T12:27:22.041Z"
   },
   {
    "duration": 3,
    "start_time": "2023-08-02T12:27:22.251Z"
   },
   {
    "duration": 46,
    "start_time": "2023-08-02T12:27:22.255Z"
   },
   {
    "duration": 24,
    "start_time": "2023-08-02T12:27:22.303Z"
   },
   {
    "duration": 203,
    "start_time": "2023-08-02T12:27:22.329Z"
   },
   {
    "duration": 462,
    "start_time": "2023-08-02T12:27:22.533Z"
   },
   {
    "duration": 25,
    "start_time": "2023-08-02T12:27:22.997Z"
   },
   {
    "duration": 4246,
    "start_time": "2023-08-02T12:27:23.024Z"
   },
   {
    "duration": 8,
    "start_time": "2023-08-02T12:27:27.272Z"
   },
   {
    "duration": 36,
    "start_time": "2023-08-02T12:27:27.281Z"
   },
   {
    "duration": 448,
    "start_time": "2023-08-02T12:27:27.320Z"
   },
   {
    "duration": 892,
    "start_time": "2023-08-02T12:27:27.770Z"
   },
   {
    "duration": 18,
    "start_time": "2023-08-02T12:27:28.664Z"
   },
   {
    "duration": 142,
    "start_time": "2023-08-02T12:27:28.684Z"
   },
   {
    "duration": 246,
    "start_time": "2023-08-02T12:27:28.829Z"
   },
   {
    "duration": 229,
    "start_time": "2023-08-02T12:27:29.078Z"
   },
   {
    "duration": 155,
    "start_time": "2023-08-02T12:27:29.309Z"
   },
   {
    "duration": 19,
    "start_time": "2023-08-02T12:27:29.466Z"
   },
   {
    "duration": 18,
    "start_time": "2023-08-02T12:27:29.487Z"
   },
   {
    "duration": 74,
    "start_time": "2023-08-02T12:27:29.507Z"
   },
   {
    "duration": 69,
    "start_time": "2023-08-02T12:27:29.583Z"
   },
   {
    "duration": 52,
    "start_time": "2023-08-02T12:27:29.654Z"
   },
   {
    "duration": 436,
    "start_time": "2023-08-02T12:27:29.708Z"
   },
   {
    "duration": 186,
    "start_time": "2023-08-02T12:27:30.146Z"
   },
   {
    "duration": 2269,
    "start_time": "2023-08-02T12:27:58.124Z"
   },
   {
    "duration": 1696,
    "start_time": "2023-08-02T12:28:00.396Z"
   },
   {
    "duration": 1172,
    "start_time": "2023-08-02T12:28:02.093Z"
   },
   {
    "duration": 15,
    "start_time": "2023-08-02T12:28:03.266Z"
   },
   {
    "duration": 32,
    "start_time": "2023-08-02T12:28:03.284Z"
   },
   {
    "duration": 134,
    "start_time": "2023-08-02T12:28:03.318Z"
   },
   {
    "duration": 60,
    "start_time": "2023-08-02T12:28:03.453Z"
   },
   {
    "duration": 38,
    "start_time": "2023-08-02T12:28:03.515Z"
   },
   {
    "duration": 163,
    "start_time": "2023-08-02T12:28:03.555Z"
   },
   {
    "duration": 99,
    "start_time": "2023-08-02T12:28:03.720Z"
   },
   {
    "duration": 158,
    "start_time": "2023-08-02T12:28:03.821Z"
   },
   {
    "duration": 27,
    "start_time": "2023-08-02T12:28:03.980Z"
   },
   {
    "duration": 98,
    "start_time": "2023-08-02T12:28:04.008Z"
   },
   {
    "duration": 90,
    "start_time": "2023-08-02T12:28:04.110Z"
   },
   {
    "duration": 80,
    "start_time": "2023-08-02T12:28:04.202Z"
   },
   {
    "duration": 243,
    "start_time": "2023-08-02T12:28:04.284Z"
   },
   {
    "duration": 75,
    "start_time": "2023-08-02T12:28:04.529Z"
   },
   {
    "duration": 7,
    "start_time": "2023-08-02T12:28:04.606Z"
   },
   {
    "duration": 64,
    "start_time": "2023-08-02T12:28:04.614Z"
   },
   {
    "duration": 78,
    "start_time": "2023-08-02T12:28:04.681Z"
   },
   {
    "duration": 258,
    "start_time": "2023-08-02T12:28:04.761Z"
   },
   {
    "duration": 263,
    "start_time": "2023-08-02T12:28:05.021Z"
   },
   {
    "duration": 262,
    "start_time": "2023-08-02T12:28:05.286Z"
   },
   {
    "duration": 21,
    "start_time": "2023-08-02T12:28:05.551Z"
   },
   {
    "duration": 23,
    "start_time": "2023-08-02T12:28:05.574Z"
   },
   {
    "duration": 221,
    "start_time": "2023-08-02T12:28:05.598Z"
   },
   {
    "duration": 223,
    "start_time": "2023-08-02T12:28:05.821Z"
   },
   {
    "duration": 212,
    "start_time": "2023-08-02T12:28:06.046Z"
   },
   {
    "duration": 3,
    "start_time": "2023-08-02T12:28:06.260Z"
   },
   {
    "duration": 34,
    "start_time": "2023-08-02T12:28:06.264Z"
   },
   {
    "duration": 37,
    "start_time": "2023-08-02T12:28:06.300Z"
   },
   {
    "duration": 201,
    "start_time": "2023-08-02T12:28:06.338Z"
   },
   {
    "duration": 454,
    "start_time": "2023-08-02T12:28:06.541Z"
   },
   {
    "duration": 26,
    "start_time": "2023-08-02T12:28:06.996Z"
   },
   {
    "duration": 4472,
    "start_time": "2023-08-02T12:28:07.023Z"
   },
   {
    "duration": 9,
    "start_time": "2023-08-02T12:28:11.498Z"
   },
   {
    "duration": 35,
    "start_time": "2023-08-02T12:28:11.508Z"
   },
   {
    "duration": 450,
    "start_time": "2023-08-02T12:28:11.553Z"
   },
   {
    "duration": 856,
    "start_time": "2023-08-02T12:28:12.004Z"
   },
   {
    "duration": 19,
    "start_time": "2023-08-02T12:28:12.862Z"
   },
   {
    "duration": 19,
    "start_time": "2023-08-02T12:28:12.885Z"
   },
   {
    "duration": 278,
    "start_time": "2023-08-02T12:28:12.906Z"
   },
   {
    "duration": 260,
    "start_time": "2023-08-02T12:28:13.186Z"
   },
   {
    "duration": 149,
    "start_time": "2023-08-02T12:28:13.451Z"
   },
   {
    "duration": 19,
    "start_time": "2023-08-02T12:28:13.602Z"
   },
   {
    "duration": 30,
    "start_time": "2023-08-02T12:28:13.622Z"
   },
   {
    "duration": 60,
    "start_time": "2023-08-02T12:28:13.654Z"
   },
   {
    "duration": 72,
    "start_time": "2023-08-02T12:28:13.716Z"
   },
   {
    "duration": 66,
    "start_time": "2023-08-02T12:28:13.790Z"
   },
   {
    "duration": 436,
    "start_time": "2023-08-02T12:28:13.858Z"
   },
   {
    "duration": 172,
    "start_time": "2023-08-02T12:28:14.296Z"
   },
   {
    "duration": 2254,
    "start_time": "2023-08-02T12:28:32.021Z"
   },
   {
    "duration": 1880,
    "start_time": "2023-08-02T12:28:34.277Z"
   },
   {
    "duration": 1202,
    "start_time": "2023-08-02T12:28:36.159Z"
   },
   {
    "duration": 17,
    "start_time": "2023-08-02T12:28:37.363Z"
   },
   {
    "duration": 37,
    "start_time": "2023-08-02T12:28:37.381Z"
   },
   {
    "duration": 133,
    "start_time": "2023-08-02T12:28:37.420Z"
   },
   {
    "duration": 61,
    "start_time": "2023-08-02T12:28:37.555Z"
   },
   {
    "duration": 38,
    "start_time": "2023-08-02T12:28:37.617Z"
   },
   {
    "duration": 172,
    "start_time": "2023-08-02T12:28:37.657Z"
   },
   {
    "duration": 100,
    "start_time": "2023-08-02T12:28:37.831Z"
   },
   {
    "duration": 164,
    "start_time": "2023-08-02T12:28:37.933Z"
   },
   {
    "duration": 27,
    "start_time": "2023-08-02T12:28:38.099Z"
   },
   {
    "duration": 115,
    "start_time": "2023-08-02T12:28:38.129Z"
   },
   {
    "duration": 96,
    "start_time": "2023-08-02T12:28:38.252Z"
   },
   {
    "duration": 93,
    "start_time": "2023-08-02T12:28:38.352Z"
   },
   {
    "duration": 274,
    "start_time": "2023-08-02T12:28:38.453Z"
   },
   {
    "duration": 76,
    "start_time": "2023-08-02T12:28:38.729Z"
   },
   {
    "duration": 7,
    "start_time": "2023-08-02T12:28:38.808Z"
   },
   {
    "duration": 65,
    "start_time": "2023-08-02T12:28:38.817Z"
   },
   {
    "duration": 72,
    "start_time": "2023-08-02T12:28:38.884Z"
   },
   {
    "duration": 242,
    "start_time": "2023-08-02T12:28:38.958Z"
   },
   {
    "duration": 276,
    "start_time": "2023-08-02T12:28:39.202Z"
   },
   {
    "duration": 246,
    "start_time": "2023-08-02T12:28:39.480Z"
   },
   {
    "duration": 32,
    "start_time": "2023-08-02T12:28:39.728Z"
   },
   {
    "duration": 24,
    "start_time": "2023-08-02T12:28:39.762Z"
   },
   {
    "duration": 209,
    "start_time": "2023-08-02T12:28:39.788Z"
   },
   {
    "duration": 224,
    "start_time": "2023-08-02T12:28:39.999Z"
   },
   {
    "duration": 206,
    "start_time": "2023-08-02T12:28:40.227Z"
   },
   {
    "duration": 3,
    "start_time": "2023-08-02T12:28:40.435Z"
   },
   {
    "duration": 25,
    "start_time": "2023-08-02T12:28:40.439Z"
   },
   {
    "duration": 20,
    "start_time": "2023-08-02T12:28:40.467Z"
   },
   {
    "duration": 210,
    "start_time": "2023-08-02T12:28:40.489Z"
   },
   {
    "duration": 462,
    "start_time": "2023-08-02T12:28:40.700Z"
   },
   {
    "duration": 22,
    "start_time": "2023-08-02T12:28:41.163Z"
   },
   {
    "duration": 4326,
    "start_time": "2023-08-02T12:28:41.187Z"
   },
   {
    "duration": 9,
    "start_time": "2023-08-02T12:28:45.516Z"
   },
   {
    "duration": 37,
    "start_time": "2023-08-02T12:28:45.527Z"
   },
   {
    "duration": 441,
    "start_time": "2023-08-02T12:28:45.567Z"
   },
   {
    "duration": 908,
    "start_time": "2023-08-02T12:28:46.010Z"
   },
   {
    "duration": 18,
    "start_time": "2023-08-02T12:28:46.920Z"
   },
   {
    "duration": 38,
    "start_time": "2023-08-02T12:28:46.940Z"
   },
   {
    "duration": 247,
    "start_time": "2023-08-02T12:28:46.980Z"
   },
   {
    "duration": 237,
    "start_time": "2023-08-02T12:28:47.228Z"
   },
   {
    "duration": 157,
    "start_time": "2023-08-02T12:28:47.466Z"
   },
   {
    "duration": 29,
    "start_time": "2023-08-02T12:28:47.624Z"
   },
   {
    "duration": 11,
    "start_time": "2023-08-02T12:28:47.655Z"
   },
   {
    "duration": 56,
    "start_time": "2023-08-02T12:28:47.668Z"
   },
   {
    "duration": 72,
    "start_time": "2023-08-02T12:28:47.726Z"
   },
   {
    "duration": 55,
    "start_time": "2023-08-02T12:28:47.800Z"
   },
   {
    "duration": 447,
    "start_time": "2023-08-02T12:28:47.857Z"
   },
   {
    "duration": 207,
    "start_time": "2023-08-02T12:28:48.306Z"
   },
   {
    "duration": 25,
    "start_time": "2023-08-02T12:34:58.197Z"
   },
   {
    "duration": 222,
    "start_time": "2023-08-02T12:35:02.430Z"
   },
   {
    "duration": 4,
    "start_time": "2023-08-02T12:50:35.621Z"
   },
   {
    "duration": 1362,
    "start_time": "2023-08-02T12:51:12.181Z"
   },
   {
    "duration": 4,
    "start_time": "2023-08-02T12:51:35.282Z"
   },
   {
    "duration": 1137,
    "start_time": "2023-08-02T12:51:38.419Z"
   },
   {
    "duration": 4006,
    "start_time": "2023-08-02T12:51:47.549Z"
   },
   {
    "duration": 4,
    "start_time": "2023-08-02T12:54:58.580Z"
   },
   {
    "duration": 3838,
    "start_time": "2023-08-02T12:55:14.320Z"
   },
   {
    "duration": 4,
    "start_time": "2023-08-02T12:55:43.356Z"
   },
   {
    "duration": 103286,
    "start_time": "2023-08-02T12:56:15.773Z"
   },
   {
    "duration": 3514,
    "start_time": "2023-08-06T09:37:17.559Z"
   },
   {
    "duration": 1535,
    "start_time": "2023-08-06T09:37:21.075Z"
   },
   {
    "duration": 1030,
    "start_time": "2023-08-06T09:37:22.611Z"
   },
   {
    "duration": 16,
    "start_time": "2023-08-06T09:37:23.644Z"
   },
   {
    "duration": 61,
    "start_time": "2023-08-06T09:37:23.661Z"
   },
   {
    "duration": 127,
    "start_time": "2023-08-06T09:37:23.723Z"
   },
   {
    "duration": 46,
    "start_time": "2023-08-06T09:37:23.851Z"
   },
   {
    "duration": 39,
    "start_time": "2023-08-06T09:37:23.899Z"
   },
   {
    "duration": 151,
    "start_time": "2023-08-06T09:37:23.939Z"
   },
   {
    "duration": 90,
    "start_time": "2023-08-06T09:37:24.093Z"
   },
   {
    "duration": 136,
    "start_time": "2023-08-06T09:37:24.184Z"
   },
   {
    "duration": 29,
    "start_time": "2023-08-06T09:37:24.321Z"
   },
   {
    "duration": 87,
    "start_time": "2023-08-06T09:37:24.352Z"
   },
   {
    "duration": 101,
    "start_time": "2023-08-06T09:37:24.440Z"
   },
   {
    "duration": 98,
    "start_time": "2023-08-06T09:37:24.542Z"
   },
   {
    "duration": 301,
    "start_time": "2023-08-06T09:37:24.642Z"
   },
   {
    "duration": 63,
    "start_time": "2023-08-06T09:37:24.945Z"
   },
   {
    "duration": 6,
    "start_time": "2023-08-06T09:37:25.009Z"
   },
   {
    "duration": 63,
    "start_time": "2023-08-06T09:37:25.016Z"
   },
   {
    "duration": 63,
    "start_time": "2023-08-06T09:37:25.081Z"
   },
   {
    "duration": 201,
    "start_time": "2023-08-06T09:37:25.146Z"
   },
   {
    "duration": 266,
    "start_time": "2023-08-06T09:37:25.348Z"
   },
   {
    "duration": 187,
    "start_time": "2023-08-06T09:37:25.616Z"
   },
   {
    "duration": 17,
    "start_time": "2023-08-06T09:37:25.804Z"
   },
   {
    "duration": 31,
    "start_time": "2023-08-06T09:37:25.823Z"
   },
   {
    "duration": 175,
    "start_time": "2023-08-06T09:37:25.856Z"
   },
   {
    "duration": 185,
    "start_time": "2023-08-06T09:37:26.032Z"
   },
   {
    "duration": 169,
    "start_time": "2023-08-06T09:37:26.222Z"
   },
   {
    "duration": 4,
    "start_time": "2023-08-06T09:37:26.392Z"
   },
   {
    "duration": 18,
    "start_time": "2023-08-06T09:37:26.397Z"
   },
   {
    "duration": 32,
    "start_time": "2023-08-06T09:37:26.416Z"
   },
   {
    "duration": 201,
    "start_time": "2023-08-06T09:37:26.450Z"
   },
   {
    "duration": 410,
    "start_time": "2023-08-06T09:37:26.652Z"
   },
   {
    "duration": 17,
    "start_time": "2023-08-06T09:37:27.064Z"
   },
   {
    "duration": 3631,
    "start_time": "2023-08-06T09:37:27.082Z"
   },
   {
    "duration": 7,
    "start_time": "2023-08-06T09:37:30.714Z"
   },
   {
    "duration": 66,
    "start_time": "2023-08-06T09:37:30.723Z"
   },
   {
    "duration": 380,
    "start_time": "2023-08-06T09:37:30.791Z"
   },
   {
    "duration": 762,
    "start_time": "2023-08-06T09:37:31.173Z"
   },
   {
    "duration": 18,
    "start_time": "2023-08-06T09:37:31.939Z"
   },
   {
    "duration": 50,
    "start_time": "2023-08-06T09:37:31.960Z"
   },
   {
    "duration": 254,
    "start_time": "2023-08-06T09:37:32.012Z"
   },
   {
    "duration": 206,
    "start_time": "2023-08-06T09:37:32.267Z"
   },
   {
    "duration": 144,
    "start_time": "2023-08-06T09:37:32.475Z"
   },
   {
    "duration": 27,
    "start_time": "2023-08-06T09:37:32.621Z"
   },
   {
    "duration": 38,
    "start_time": "2023-08-06T09:37:32.650Z"
   },
   {
    "duration": 60,
    "start_time": "2023-08-06T09:37:32.690Z"
   },
   {
    "duration": 65,
    "start_time": "2023-08-06T09:37:32.752Z"
   },
   {
    "duration": 73,
    "start_time": "2023-08-06T09:37:32.818Z"
   },
   {
    "duration": 405,
    "start_time": "2023-08-06T09:37:32.893Z"
   },
   {
    "duration": 144,
    "start_time": "2023-08-06T09:37:33.300Z"
   },
   {
    "duration": 196,
    "start_time": "2023-08-06T09:37:33.445Z"
   },
   {
    "duration": 3804,
    "start_time": "2023-08-06T09:37:33.643Z"
   },
   {
    "duration": 301896,
    "start_time": "2023-08-06T09:37:37.450Z"
   },
   {
    "duration": 88,
    "start_time": "2023-08-06T09:42:39.350Z"
   },
   {
    "duration": 187,
    "start_time": "2023-08-06T09:48:15.549Z"
   },
   {
    "duration": 11779,
    "start_time": "2023-08-06T09:48:23.098Z"
   },
   {
    "duration": 87,
    "start_time": "2023-08-06T09:49:37.555Z"
   },
   {
    "duration": 11093,
    "start_time": "2023-08-06T09:49:47.089Z"
   },
   {
    "duration": 38,
    "start_time": "2023-08-06T09:51:35.797Z"
   },
   {
    "duration": 3,
    "start_time": "2023-08-06T09:52:26.943Z"
   },
   {
    "duration": 1996,
    "start_time": "2023-08-06T09:58:54.820Z"
   },
   {
    "duration": 1414,
    "start_time": "2023-08-06T09:58:56.818Z"
   },
   {
    "duration": 756,
    "start_time": "2023-08-06T09:58:58.234Z"
   },
   {
    "duration": 19,
    "start_time": "2023-08-06T09:58:58.993Z"
   },
   {
    "duration": 46,
    "start_time": "2023-08-06T09:58:59.014Z"
   },
   {
    "duration": 124,
    "start_time": "2023-08-06T09:58:59.062Z"
   },
   {
    "duration": 61,
    "start_time": "2023-08-06T09:58:59.187Z"
   },
   {
    "duration": 27,
    "start_time": "2023-08-06T09:58:59.250Z"
   },
   {
    "duration": 157,
    "start_time": "2023-08-06T09:58:59.279Z"
   },
   {
    "duration": 84,
    "start_time": "2023-08-06T09:58:59.439Z"
   },
   {
    "duration": 231,
    "start_time": "2023-08-06T09:58:59.524Z"
   },
   {
    "duration": 32,
    "start_time": "2023-08-06T09:58:59.757Z"
   },
   {
    "duration": 150,
    "start_time": "2023-08-06T09:58:59.791Z"
   },
   {
    "duration": 71,
    "start_time": "2023-08-06T09:58:59.943Z"
   },
   {
    "duration": 88,
    "start_time": "2023-08-06T09:59:00.016Z"
   },
   {
    "duration": 235,
    "start_time": "2023-08-06T09:59:00.106Z"
   },
   {
    "duration": 60,
    "start_time": "2023-08-06T09:59:00.342Z"
   },
   {
    "duration": 6,
    "start_time": "2023-08-06T09:59:00.404Z"
   },
   {
    "duration": 78,
    "start_time": "2023-08-06T09:59:00.412Z"
   },
   {
    "duration": 103,
    "start_time": "2023-08-06T09:59:00.492Z"
   },
   {
    "duration": 208,
    "start_time": "2023-08-06T09:59:00.597Z"
   },
   {
    "duration": 284,
    "start_time": "2023-08-06T09:59:00.807Z"
   },
   {
    "duration": 208,
    "start_time": "2023-08-06T09:59:01.093Z"
   },
   {
    "duration": 22,
    "start_time": "2023-08-06T09:59:01.303Z"
   },
   {
    "duration": 48,
    "start_time": "2023-08-06T09:59:01.327Z"
   },
   {
    "duration": 247,
    "start_time": "2023-08-06T09:59:01.377Z"
   },
   {
    "duration": 200,
    "start_time": "2023-08-06T09:59:01.626Z"
   },
   {
    "duration": 221,
    "start_time": "2023-08-06T09:59:01.831Z"
   },
   {
    "duration": 4,
    "start_time": "2023-08-06T09:59:02.054Z"
   },
   {
    "duration": 83,
    "start_time": "2023-08-06T09:59:02.059Z"
   },
   {
    "duration": 64,
    "start_time": "2023-08-06T09:59:02.143Z"
   },
   {
    "duration": 284,
    "start_time": "2023-08-06T09:59:02.209Z"
   },
   {
    "duration": 525,
    "start_time": "2023-08-06T09:59:02.495Z"
   },
   {
    "duration": 32,
    "start_time": "2023-08-06T09:59:03.021Z"
   },
   {
    "duration": 3578,
    "start_time": "2023-08-06T09:59:03.054Z"
   },
   {
    "duration": 8,
    "start_time": "2023-08-06T09:59:06.638Z"
   },
   {
    "duration": 43,
    "start_time": "2023-08-06T09:59:06.647Z"
   },
   {
    "duration": 590,
    "start_time": "2023-08-06T09:59:06.692Z"
   },
   {
    "duration": 486,
    "start_time": "2023-08-06T09:59:07.283Z"
   },
   {
    "duration": 16,
    "start_time": "2023-08-06T09:59:07.771Z"
   },
   {
    "duration": 53,
    "start_time": "2023-08-06T09:59:07.789Z"
   },
   {
    "duration": 263,
    "start_time": "2023-08-06T09:59:07.844Z"
   },
   {
    "duration": 193,
    "start_time": "2023-08-06T09:59:08.108Z"
   },
   {
    "duration": 129,
    "start_time": "2023-08-06T09:59:08.303Z"
   },
   {
    "duration": 23,
    "start_time": "2023-08-06T09:59:08.439Z"
   },
   {
    "duration": 7,
    "start_time": "2023-08-06T09:59:08.464Z"
   },
   {
    "duration": 67,
    "start_time": "2023-08-06T09:59:08.473Z"
   },
   {
    "duration": 50,
    "start_time": "2023-08-06T09:59:08.542Z"
   },
   {
    "duration": 62,
    "start_time": "2023-08-06T09:59:08.594Z"
   },
   {
    "duration": 382,
    "start_time": "2023-08-06T09:59:08.658Z"
   },
   {
    "duration": 158,
    "start_time": "2023-08-06T09:59:09.042Z"
   },
   {
    "duration": 153,
    "start_time": "2023-08-06T09:59:09.203Z"
   },
   {
    "duration": 3806,
    "start_time": "2023-08-06T09:59:09.359Z"
   },
   {
    "duration": 1933,
    "start_time": "2023-08-06T10:05:08.938Z"
   },
   {
    "duration": 1379,
    "start_time": "2023-08-06T10:05:10.874Z"
   },
   {
    "duration": 730,
    "start_time": "2023-08-06T10:05:12.254Z"
   },
   {
    "duration": 12,
    "start_time": "2023-08-06T10:05:12.986Z"
   },
   {
    "duration": 21,
    "start_time": "2023-08-06T10:05:12.999Z"
   },
   {
    "duration": 118,
    "start_time": "2023-08-06T10:05:13.022Z"
   },
   {
    "duration": 50,
    "start_time": "2023-08-06T10:05:13.142Z"
   },
   {
    "duration": 20,
    "start_time": "2023-08-06T10:05:13.194Z"
   },
   {
    "duration": 152,
    "start_time": "2023-08-06T10:05:13.215Z"
   },
   {
    "duration": 112,
    "start_time": "2023-08-06T10:05:13.369Z"
   },
   {
    "duration": 176,
    "start_time": "2023-08-06T10:05:13.483Z"
   },
   {
    "duration": 29,
    "start_time": "2023-08-06T10:05:13.660Z"
   },
   {
    "duration": 92,
    "start_time": "2023-08-06T10:05:13.690Z"
   },
   {
    "duration": 81,
    "start_time": "2023-08-06T10:05:13.784Z"
   },
   {
    "duration": 78,
    "start_time": "2023-08-06T10:05:13.867Z"
   },
   {
    "duration": 197,
    "start_time": "2023-08-06T10:05:13.946Z"
   },
   {
    "duration": 61,
    "start_time": "2023-08-06T10:05:14.144Z"
   },
   {
    "duration": 6,
    "start_time": "2023-08-06T10:05:14.206Z"
   },
   {
    "duration": 56,
    "start_time": "2023-08-06T10:05:14.214Z"
   },
   {
    "duration": 68,
    "start_time": "2023-08-06T10:05:14.272Z"
   },
   {
    "duration": 219,
    "start_time": "2023-08-06T10:05:14.341Z"
   },
   {
    "duration": 283,
    "start_time": "2023-08-06T10:05:14.562Z"
   },
   {
    "duration": 198,
    "start_time": "2023-08-06T10:05:14.847Z"
   },
   {
    "duration": 20,
    "start_time": "2023-08-06T10:05:15.047Z"
   },
   {
    "duration": 20,
    "start_time": "2023-08-06T10:05:15.069Z"
   },
   {
    "duration": 183,
    "start_time": "2023-08-06T10:05:15.090Z"
   },
   {
    "duration": 181,
    "start_time": "2023-08-06T10:05:15.274Z"
   },
   {
    "duration": 169,
    "start_time": "2023-08-06T10:05:15.460Z"
   },
   {
    "duration": 3,
    "start_time": "2023-08-06T10:05:15.630Z"
   },
   {
    "duration": 19,
    "start_time": "2023-08-06T10:05:15.638Z"
   },
   {
    "duration": 15,
    "start_time": "2023-08-06T10:05:15.658Z"
   },
   {
    "duration": 188,
    "start_time": "2023-08-06T10:05:15.675Z"
   },
   {
    "duration": 370,
    "start_time": "2023-08-06T10:05:15.864Z"
   },
   {
    "duration": 18,
    "start_time": "2023-08-06T10:05:16.235Z"
   },
   {
    "duration": 3224,
    "start_time": "2023-08-06T10:05:16.254Z"
   },
   {
    "duration": 5,
    "start_time": "2023-08-06T10:05:19.479Z"
   },
   {
    "duration": 26,
    "start_time": "2023-08-06T10:05:19.486Z"
   },
   {
    "duration": 564,
    "start_time": "2023-08-06T10:05:19.514Z"
   },
   {
    "duration": 384,
    "start_time": "2023-08-06T10:05:20.080Z"
   },
   {
    "duration": 17,
    "start_time": "2023-08-06T10:05:20.465Z"
   },
   {
    "duration": 14,
    "start_time": "2023-08-06T10:05:20.483Z"
   },
   {
    "duration": 236,
    "start_time": "2023-08-06T10:05:20.498Z"
   },
   {
    "duration": 186,
    "start_time": "2023-08-06T10:05:20.735Z"
   },
   {
    "duration": 130,
    "start_time": "2023-08-06T10:05:20.922Z"
   },
   {
    "duration": 16,
    "start_time": "2023-08-06T10:05:21.053Z"
   },
   {
    "duration": 13,
    "start_time": "2023-08-06T10:05:21.071Z"
   },
   {
    "duration": 36,
    "start_time": "2023-08-06T10:05:21.085Z"
   },
   {
    "duration": 74,
    "start_time": "2023-08-06T10:05:21.122Z"
   },
   {
    "duration": 62,
    "start_time": "2023-08-06T10:05:21.197Z"
   },
   {
    "duration": 366,
    "start_time": "2023-08-06T10:05:21.261Z"
   },
   {
    "duration": 144,
    "start_time": "2023-08-06T10:05:21.629Z"
   },
   {
    "duration": 78,
    "start_time": "2023-08-06T10:05:21.774Z"
   },
   {
    "duration": 6374,
    "start_time": "2023-08-06T10:05:21.854Z"
   },
   {
    "duration": 258871,
    "start_time": "2023-08-06T10:05:28.230Z"
   },
   {
    "duration": 12937,
    "start_time": "2023-08-06T10:16:00.803Z"
   },
   {
    "duration": 1549,
    "start_time": "2023-08-06T10:17:00.117Z"
   },
   {
    "duration": 18461,
    "start_time": "2023-08-06T10:17:26.209Z"
   },
   {
    "duration": 5,
    "start_time": "2023-08-06T10:20:28.357Z"
   },
   {
    "duration": 3048,
    "start_time": "2023-08-06T10:20:42.693Z"
   },
   {
    "duration": 26921,
    "start_time": "2023-08-06T10:21:29.019Z"
   },
   {
    "duration": 5,
    "start_time": "2023-08-06T10:21:57.013Z"
   },
   {
    "duration": 2496,
    "start_time": "2023-08-06T10:39:04.965Z"
   },
   {
    "duration": 1568,
    "start_time": "2023-08-06T10:39:07.464Z"
   },
   {
    "duration": 1064,
    "start_time": "2023-08-06T10:39:09.033Z"
   },
   {
    "duration": 18,
    "start_time": "2023-08-06T10:39:10.100Z"
   },
   {
    "duration": 73,
    "start_time": "2023-08-06T10:39:10.119Z"
   },
   {
    "duration": 157,
    "start_time": "2023-08-06T10:39:10.194Z"
   },
   {
    "duration": 55,
    "start_time": "2023-08-06T10:39:10.353Z"
   },
   {
    "duration": 36,
    "start_time": "2023-08-06T10:39:10.410Z"
   },
   {
    "duration": 175,
    "start_time": "2023-08-06T10:39:10.449Z"
   },
   {
    "duration": 88,
    "start_time": "2023-08-06T10:39:10.628Z"
   },
   {
    "duration": 147,
    "start_time": "2023-08-06T10:39:10.717Z"
   },
   {
    "duration": 25,
    "start_time": "2023-08-06T10:39:10.866Z"
   },
   {
    "duration": 152,
    "start_time": "2023-08-06T10:39:10.892Z"
   },
   {
    "duration": 151,
    "start_time": "2023-08-06T10:39:11.046Z"
   },
   {
    "duration": 115,
    "start_time": "2023-08-06T10:39:11.198Z"
   },
   {
    "duration": 325,
    "start_time": "2023-08-06T10:39:11.316Z"
   },
   {
    "duration": 126,
    "start_time": "2023-08-06T10:39:11.643Z"
   },
   {
    "duration": 7,
    "start_time": "2023-08-06T10:39:11.772Z"
   },
   {
    "duration": 93,
    "start_time": "2023-08-06T10:39:11.781Z"
   },
   {
    "duration": 134,
    "start_time": "2023-08-06T10:39:11.876Z"
   },
   {
    "duration": 319,
    "start_time": "2023-08-06T10:39:12.011Z"
   },
   {
    "duration": 334,
    "start_time": "2023-08-06T10:39:12.337Z"
   },
   {
    "duration": 327,
    "start_time": "2023-08-06T10:39:12.673Z"
   },
   {
    "duration": 21,
    "start_time": "2023-08-06T10:39:13.002Z"
   },
   {
    "duration": 39,
    "start_time": "2023-08-06T10:39:13.025Z"
   },
   {
    "duration": 288,
    "start_time": "2023-08-06T10:39:13.066Z"
   },
   {
    "duration": 295,
    "start_time": "2023-08-06T10:39:13.355Z"
   },
   {
    "duration": 268,
    "start_time": "2023-08-06T10:39:13.654Z"
   },
   {
    "duration": 3,
    "start_time": "2023-08-06T10:39:13.925Z"
   },
   {
    "duration": 30,
    "start_time": "2023-08-06T10:39:13.937Z"
   },
   {
    "duration": 22,
    "start_time": "2023-08-06T10:39:13.969Z"
   },
   {
    "duration": 343,
    "start_time": "2023-08-06T10:39:13.993Z"
   },
   {
    "duration": 612,
    "start_time": "2023-08-06T10:39:14.338Z"
   },
   {
    "duration": 28,
    "start_time": "2023-08-06T10:39:14.952Z"
   },
   {
    "duration": 4174,
    "start_time": "2023-08-06T10:39:14.982Z"
   },
   {
    "duration": 7,
    "start_time": "2023-08-06T10:39:19.158Z"
   },
   {
    "duration": 39,
    "start_time": "2023-08-06T10:39:19.167Z"
   },
   {
    "duration": 594,
    "start_time": "2023-08-06T10:39:19.207Z"
   },
   {
    "duration": 407,
    "start_time": "2023-08-06T10:39:19.803Z"
   },
   {
    "duration": 16,
    "start_time": "2023-08-06T10:39:20.212Z"
   },
   {
    "duration": 17,
    "start_time": "2023-08-06T10:39:20.238Z"
   },
   {
    "duration": 228,
    "start_time": "2023-08-06T10:39:20.257Z"
   },
   {
    "duration": 202,
    "start_time": "2023-08-06T10:39:20.487Z"
   },
   {
    "duration": 179,
    "start_time": "2023-08-06T10:39:20.691Z"
   },
   {
    "duration": 20,
    "start_time": "2023-08-06T10:39:20.872Z"
   },
   {
    "duration": 9,
    "start_time": "2023-08-06T10:39:20.894Z"
   },
   {
    "duration": 67,
    "start_time": "2023-08-06T10:39:20.904Z"
   },
   {
    "duration": 87,
    "start_time": "2023-08-06T10:39:20.972Z"
   },
   {
    "duration": 84,
    "start_time": "2023-08-06T10:39:21.061Z"
   },
   {
    "duration": 482,
    "start_time": "2023-08-06T10:39:21.151Z"
   },
   {
    "duration": 146,
    "start_time": "2023-08-06T10:39:21.634Z"
   },
   {
    "duration": 158,
    "start_time": "2023-08-06T10:39:21.781Z"
   },
   {
    "duration": 97,
    "start_time": "2023-08-06T10:39:21.941Z"
   },
   {
    "duration": 101,
    "start_time": "2023-08-06T10:39:22.044Z"
   },
   {
    "duration": 2811,
    "start_time": "2023-08-06T10:39:22.147Z"
   },
   {
    "duration": 9,
    "start_time": "2023-08-06T10:39:25.037Z"
   },
   {
    "duration": 8139,
    "start_time": "2023-08-06T10:39:25.053Z"
   },
   {
    "duration": 9,
    "start_time": "2023-08-06T10:39:33.194Z"
   },
   {
    "duration": 13,
    "start_time": "2023-08-06T10:39:33.205Z"
   },
   {
    "duration": 2657,
    "start_time": "2023-08-06T10:41:48.339Z"
   },
   {
    "duration": 1723,
    "start_time": "2023-08-06T10:41:50.998Z"
   },
   {
    "duration": 1102,
    "start_time": "2023-08-06T10:41:52.723Z"
   },
   {
    "duration": 19,
    "start_time": "2023-08-06T10:41:53.828Z"
   },
   {
    "duration": 42,
    "start_time": "2023-08-06T10:41:53.848Z"
   },
   {
    "duration": 189,
    "start_time": "2023-08-06T10:41:53.892Z"
   },
   {
    "duration": 74,
    "start_time": "2023-08-06T10:41:54.083Z"
   },
   {
    "duration": 30,
    "start_time": "2023-08-06T10:41:54.159Z"
   },
   {
    "duration": 220,
    "start_time": "2023-08-06T10:41:54.191Z"
   },
   {
    "duration": 156,
    "start_time": "2023-08-06T10:41:54.414Z"
   },
   {
    "duration": 228,
    "start_time": "2023-08-06T10:41:54.575Z"
   },
   {
    "duration": 35,
    "start_time": "2023-08-06T10:41:54.805Z"
   },
   {
    "duration": 161,
    "start_time": "2023-08-06T10:41:54.842Z"
   },
   {
    "duration": 130,
    "start_time": "2023-08-06T10:41:55.005Z"
   },
   {
    "duration": 103,
    "start_time": "2023-08-06T10:41:55.138Z"
   },
   {
    "duration": 274,
    "start_time": "2023-08-06T10:41:55.243Z"
   },
   {
    "duration": 125,
    "start_time": "2023-08-06T10:41:55.519Z"
   },
   {
    "duration": 9,
    "start_time": "2023-08-06T10:41:55.646Z"
   },
   {
    "duration": 65,
    "start_time": "2023-08-06T10:41:55.657Z"
   },
   {
    "duration": 138,
    "start_time": "2023-08-06T10:41:55.724Z"
   },
   {
    "duration": 329,
    "start_time": "2023-08-06T10:41:55.863Z"
   },
   {
    "duration": 330,
    "start_time": "2023-08-06T10:41:56.194Z"
   },
   {
    "duration": 303,
    "start_time": "2023-08-06T10:41:56.526Z"
   },
   {
    "duration": 24,
    "start_time": "2023-08-06T10:41:56.831Z"
   },
   {
    "duration": 28,
    "start_time": "2023-08-06T10:41:56.857Z"
   },
   {
    "duration": 301,
    "start_time": "2023-08-06T10:41:56.888Z"
   },
   {
    "duration": 297,
    "start_time": "2023-08-06T10:41:57.192Z"
   },
   {
    "duration": 280,
    "start_time": "2023-08-06T10:41:57.494Z"
   },
   {
    "duration": 3,
    "start_time": "2023-08-06T10:41:57.776Z"
   },
   {
    "duration": 31,
    "start_time": "2023-08-06T10:41:57.781Z"
   },
   {
    "duration": 31,
    "start_time": "2023-08-06T10:41:57.814Z"
   },
   {
    "duration": 338,
    "start_time": "2023-08-06T10:41:57.847Z"
   },
   {
    "duration": 595,
    "start_time": "2023-08-06T10:41:58.187Z"
   },
   {
    "duration": 33,
    "start_time": "2023-08-06T10:41:58.784Z"
   },
   {
    "duration": 4970,
    "start_time": "2023-08-06T10:41:58.819Z"
   },
   {
    "duration": 7,
    "start_time": "2023-08-06T10:42:03.791Z"
   },
   {
    "duration": 59,
    "start_time": "2023-08-06T10:42:03.800Z"
   },
   {
    "duration": 917,
    "start_time": "2023-08-06T10:42:03.862Z"
   },
   {
    "duration": 646,
    "start_time": "2023-08-06T10:42:04.783Z"
   },
   {
    "duration": 24,
    "start_time": "2023-08-06T10:42:05.431Z"
   },
   {
    "duration": 21,
    "start_time": "2023-08-06T10:42:05.457Z"
   },
   {
    "duration": 337,
    "start_time": "2023-08-06T10:42:05.480Z"
   },
   {
    "duration": 287,
    "start_time": "2023-08-06T10:42:05.821Z"
   },
   {
    "duration": 194,
    "start_time": "2023-08-06T10:42:06.110Z"
   },
   {
    "duration": 32,
    "start_time": "2023-08-06T10:42:06.306Z"
   },
   {
    "duration": 8,
    "start_time": "2023-08-06T10:42:06.340Z"
   },
   {
    "duration": 82,
    "start_time": "2023-08-06T10:42:06.350Z"
   },
   {
    "duration": 87,
    "start_time": "2023-08-06T10:42:06.443Z"
   },
   {
    "duration": 96,
    "start_time": "2023-08-06T10:42:06.532Z"
   },
   {
    "duration": 718,
    "start_time": "2023-08-06T10:42:06.630Z"
   },
   {
    "duration": 204,
    "start_time": "2023-08-06T10:42:07.351Z"
   },
   {
    "duration": 89,
    "start_time": "2023-08-06T10:42:07.557Z"
   },
   {
    "duration": 112,
    "start_time": "2023-08-06T10:42:07.647Z"
   },
   {
    "duration": 121,
    "start_time": "2023-08-06T10:42:07.761Z"
   },
   {
    "duration": 3805,
    "start_time": "2023-08-06T10:42:07.884Z"
   },
   {
    "duration": 47,
    "start_time": "2023-08-06T10:42:11.698Z"
   },
   {
    "duration": 8776,
    "start_time": "2023-08-06T10:42:11.754Z"
   },
   {
    "duration": 12,
    "start_time": "2023-08-06T10:42:20.537Z"
   },
   {
    "duration": 13,
    "start_time": "2023-08-06T10:42:20.551Z"
   },
   {
    "duration": 320065,
    "start_time": "2023-08-06T10:42:20.566Z"
   },
   {
    "duration": 482,
    "start_time": "2023-08-06T10:47:40.633Z"
   },
   {
    "duration": 6,
    "start_time": "2023-08-06T10:47:41.117Z"
   },
   {
    "duration": 27,
    "start_time": "2023-08-06T10:53:13.846Z"
   },
   {
    "duration": 3,
    "start_time": "2023-08-06T10:54:40.611Z"
   },
   {
    "duration": 178,
    "start_time": "2023-08-06T10:56:26.114Z"
   },
   {
    "duration": 4,
    "start_time": "2023-08-06T10:56:40.004Z"
   },
   {
    "duration": 2233,
    "start_time": "2023-08-06T11:06:20.175Z"
   },
   {
    "duration": 1524,
    "start_time": "2023-08-06T11:06:22.410Z"
   },
   {
    "duration": 969,
    "start_time": "2023-08-06T11:06:23.935Z"
   },
   {
    "duration": 17,
    "start_time": "2023-08-06T11:06:24.906Z"
   },
   {
    "duration": 45,
    "start_time": "2023-08-06T11:06:24.926Z"
   },
   {
    "duration": 118,
    "start_time": "2023-08-06T11:06:24.973Z"
   },
   {
    "duration": 77,
    "start_time": "2023-08-06T11:06:25.092Z"
   },
   {
    "duration": 21,
    "start_time": "2023-08-06T11:06:25.171Z"
   },
   {
    "duration": 205,
    "start_time": "2023-08-06T11:06:25.194Z"
   },
   {
    "duration": 113,
    "start_time": "2023-08-06T11:06:25.401Z"
   },
   {
    "duration": 159,
    "start_time": "2023-08-06T11:06:25.516Z"
   },
   {
    "duration": 23,
    "start_time": "2023-08-06T11:06:25.677Z"
   },
   {
    "duration": 164,
    "start_time": "2023-08-06T11:06:25.701Z"
   },
   {
    "duration": 117,
    "start_time": "2023-08-06T11:06:25.869Z"
   },
   {
    "duration": 79,
    "start_time": "2023-08-06T11:06:25.988Z"
   },
   {
    "duration": 225,
    "start_time": "2023-08-06T11:06:26.070Z"
   },
   {
    "duration": 85,
    "start_time": "2023-08-06T11:06:26.296Z"
   },
   {
    "duration": 7,
    "start_time": "2023-08-06T11:06:26.382Z"
   },
   {
    "duration": 60,
    "start_time": "2023-08-06T11:06:26.390Z"
   },
   {
    "duration": 67,
    "start_time": "2023-08-06T11:06:26.451Z"
   },
   {
    "duration": 249,
    "start_time": "2023-08-06T11:06:26.520Z"
   },
   {
    "duration": 269,
    "start_time": "2023-08-06T11:06:26.771Z"
   },
   {
    "duration": 274,
    "start_time": "2023-08-06T11:06:27.042Z"
   },
   {
    "duration": 28,
    "start_time": "2023-08-06T11:06:27.318Z"
   },
   {
    "duration": 64,
    "start_time": "2023-08-06T11:06:27.349Z"
   },
   {
    "duration": 260,
    "start_time": "2023-08-06T11:06:27.415Z"
   },
   {
    "duration": 264,
    "start_time": "2023-08-06T11:06:27.676Z"
   },
   {
    "duration": 211,
    "start_time": "2023-08-06T11:06:27.942Z"
   },
   {
    "duration": 5,
    "start_time": "2023-08-06T11:06:28.154Z"
   },
   {
    "duration": 35,
    "start_time": "2023-08-06T11:06:28.161Z"
   },
   {
    "duration": 16,
    "start_time": "2023-08-06T11:06:28.197Z"
   },
   {
    "duration": 222,
    "start_time": "2023-08-06T11:06:28.215Z"
   },
   {
    "duration": 501,
    "start_time": "2023-08-06T11:06:28.442Z"
   },
   {
    "duration": 19,
    "start_time": "2023-08-06T11:06:28.944Z"
   },
   {
    "duration": 4163,
    "start_time": "2023-08-06T11:06:28.965Z"
   },
   {
    "duration": 8,
    "start_time": "2023-08-06T11:06:33.131Z"
   },
   {
    "duration": 64,
    "start_time": "2023-08-06T11:06:33.141Z"
   },
   {
    "duration": 804,
    "start_time": "2023-08-06T11:06:33.208Z"
   },
   {
    "duration": 456,
    "start_time": "2023-08-06T11:06:34.016Z"
   },
   {
    "duration": 23,
    "start_time": "2023-08-06T11:06:34.474Z"
   },
   {
    "duration": 34,
    "start_time": "2023-08-06T11:06:34.504Z"
   },
   {
    "duration": 407,
    "start_time": "2023-08-06T11:06:34.541Z"
   },
   {
    "duration": 238,
    "start_time": "2023-08-06T11:06:34.950Z"
   },
   {
    "duration": 208,
    "start_time": "2023-08-06T11:06:35.190Z"
   },
   {
    "duration": 38,
    "start_time": "2023-08-06T11:06:35.400Z"
   },
   {
    "duration": 8,
    "start_time": "2023-08-06T11:06:35.440Z"
   },
   {
    "duration": 70,
    "start_time": "2023-08-06T11:06:35.451Z"
   },
   {
    "duration": 78,
    "start_time": "2023-08-06T11:06:35.523Z"
   },
   {
    "duration": 87,
    "start_time": "2023-08-06T11:06:35.603Z"
   },
   {
    "duration": 734,
    "start_time": "2023-08-06T11:06:35.692Z"
   },
   {
    "duration": 183,
    "start_time": "2023-08-06T11:06:36.428Z"
   },
   {
    "duration": 145,
    "start_time": "2023-08-06T11:06:36.613Z"
   },
   {
    "duration": 76,
    "start_time": "2023-08-06T11:06:36.763Z"
   },
   {
    "duration": 131,
    "start_time": "2023-08-06T11:06:36.842Z"
   },
   {
    "duration": 4079,
    "start_time": "2023-08-06T11:06:36.975Z"
   },
   {
    "duration": 80,
    "start_time": "2023-08-06T11:06:41.063Z"
   },
   {
    "duration": 8881,
    "start_time": "2023-08-06T11:06:41.145Z"
   },
   {
    "duration": 20,
    "start_time": "2023-08-06T11:06:50.028Z"
   },
   {
    "duration": 36,
    "start_time": "2023-08-06T11:06:50.050Z"
   },
   {
    "duration": 299325,
    "start_time": "2023-08-06T11:06:50.088Z"
   },
   {
    "duration": 444,
    "start_time": "2023-08-06T11:11:49.415Z"
   },
   {
    "duration": 6,
    "start_time": "2023-08-06T11:11:49.861Z"
   },
   {
    "duration": 14,
    "start_time": "2023-08-06T11:11:49.869Z"
   },
   {
    "duration": 13,
    "start_time": "2023-08-06T11:11:49.885Z"
   },
   {
    "duration": 2830,
    "start_time": "2023-08-06T12:08:48.307Z"
   },
   {
    "duration": 1901,
    "start_time": "2023-08-06T12:08:51.144Z"
   },
   {
    "duration": 1097,
    "start_time": "2023-08-06T12:08:53.047Z"
   },
   {
    "duration": 24,
    "start_time": "2023-08-06T12:08:54.147Z"
   },
   {
    "duration": 47,
    "start_time": "2023-08-06T12:08:54.173Z"
   },
   {
    "duration": 199,
    "start_time": "2023-08-06T12:08:54.222Z"
   },
   {
    "duration": 101,
    "start_time": "2023-08-06T12:08:54.423Z"
   },
   {
    "duration": 78,
    "start_time": "2023-08-06T12:08:54.527Z"
   },
   {
    "duration": 236,
    "start_time": "2023-08-06T12:08:54.607Z"
   },
   {
    "duration": 145,
    "start_time": "2023-08-06T12:08:54.847Z"
   },
   {
    "duration": 232,
    "start_time": "2023-08-06T12:08:54.997Z"
   },
   {
    "duration": 31,
    "start_time": "2023-08-06T12:08:55.235Z"
   },
   {
    "duration": 159,
    "start_time": "2023-08-06T12:08:55.268Z"
   },
   {
    "duration": 131,
    "start_time": "2023-08-06T12:08:55.429Z"
   },
   {
    "duration": 81,
    "start_time": "2023-08-06T12:08:55.562Z"
   },
   {
    "duration": 204,
    "start_time": "2023-08-06T12:08:55.644Z"
   },
   {
    "duration": 65,
    "start_time": "2023-08-06T12:08:55.849Z"
   },
   {
    "duration": 8,
    "start_time": "2023-08-06T12:08:55.916Z"
   },
   {
    "duration": 40,
    "start_time": "2023-08-06T12:08:55.938Z"
   },
   {
    "duration": 80,
    "start_time": "2023-08-06T12:08:55.979Z"
   },
   {
    "duration": 215,
    "start_time": "2023-08-06T12:08:56.061Z"
   },
   {
    "duration": 243,
    "start_time": "2023-08-06T12:08:56.278Z"
   },
   {
    "duration": 228,
    "start_time": "2023-08-06T12:08:56.522Z"
   },
   {
    "duration": 21,
    "start_time": "2023-08-06T12:08:56.751Z"
   },
   {
    "duration": 34,
    "start_time": "2023-08-06T12:08:56.775Z"
   },
   {
    "duration": 207,
    "start_time": "2023-08-06T12:08:56.811Z"
   },
   {
    "duration": 219,
    "start_time": "2023-08-06T12:08:57.020Z"
   },
   {
    "duration": 197,
    "start_time": "2023-08-06T12:08:57.244Z"
   },
   {
    "duration": 3,
    "start_time": "2023-08-06T12:08:57.444Z"
   },
   {
    "duration": 35,
    "start_time": "2023-08-06T12:08:57.449Z"
   },
   {
    "duration": 21,
    "start_time": "2023-08-06T12:08:57.487Z"
   },
   {
    "duration": 336,
    "start_time": "2023-08-06T12:08:57.509Z"
   },
   {
    "duration": 572,
    "start_time": "2023-08-06T12:08:57.847Z"
   },
   {
    "duration": 29,
    "start_time": "2023-08-06T12:08:58.421Z"
   },
   {
    "duration": 4672,
    "start_time": "2023-08-06T12:08:58.451Z"
   },
   {
    "duration": 8,
    "start_time": "2023-08-06T12:09:03.127Z"
   },
   {
    "duration": 116,
    "start_time": "2023-08-06T12:09:03.141Z"
   },
   {
    "duration": 779,
    "start_time": "2023-08-06T12:09:03.259Z"
   },
   {
    "duration": 629,
    "start_time": "2023-08-06T12:09:04.040Z"
   },
   {
    "duration": 27,
    "start_time": "2023-08-06T12:09:04.671Z"
   },
   {
    "duration": 38,
    "start_time": "2023-08-06T12:09:04.700Z"
   },
   {
    "duration": 369,
    "start_time": "2023-08-06T12:09:04.740Z"
   },
   {
    "duration": 299,
    "start_time": "2023-08-06T12:09:05.111Z"
   },
   {
    "duration": 196,
    "start_time": "2023-08-06T12:09:05.412Z"
   },
   {
    "duration": 32,
    "start_time": "2023-08-06T12:09:05.609Z"
   },
   {
    "duration": 19,
    "start_time": "2023-08-06T12:09:05.643Z"
   },
   {
    "duration": 69,
    "start_time": "2023-08-06T12:09:05.664Z"
   },
   {
    "duration": 80,
    "start_time": "2023-08-06T12:09:05.737Z"
   },
   {
    "duration": 98,
    "start_time": "2023-08-06T12:09:05.819Z"
   },
   {
    "duration": 715,
    "start_time": "2023-08-06T12:09:05.925Z"
   },
   {
    "duration": 191,
    "start_time": "2023-08-06T12:09:06.642Z"
   },
   {
    "duration": 60,
    "start_time": "2023-08-06T12:09:06.835Z"
   },
   {
    "duration": 62,
    "start_time": "2023-08-06T12:09:06.897Z"
   },
   {
    "duration": 177,
    "start_time": "2023-08-06T12:09:06.963Z"
   },
   {
    "duration": 3467,
    "start_time": "2023-08-06T12:09:07.141Z"
   },
   {
    "duration": 9,
    "start_time": "2023-08-06T12:09:10.626Z"
   },
   {
    "duration": 9260,
    "start_time": "2023-08-06T12:09:10.647Z"
   },
   {
    "duration": 12,
    "start_time": "2023-08-06T12:09:19.909Z"
   },
   {
    "duration": 19,
    "start_time": "2023-08-06T12:09:19.923Z"
   },
   {
    "duration": 368638,
    "start_time": "2023-08-06T12:09:19.952Z"
   },
   {
    "duration": 550,
    "start_time": "2023-08-06T12:15:28.594Z"
   },
   {
    "duration": 21,
    "start_time": "2023-08-06T12:15:29.150Z"
   },
   {
    "duration": 120,
    "start_time": "2023-08-06T12:15:29.178Z"
   },
   {
    "duration": 63,
    "start_time": "2023-08-06T12:15:29.304Z"
   },
   {
    "duration": 2891,
    "start_time": "2023-08-06T12:23:21.668Z"
   },
   {
    "duration": 1970,
    "start_time": "2023-08-06T12:23:24.563Z"
   },
   {
    "duration": 1328,
    "start_time": "2023-08-06T12:23:26.535Z"
   },
   {
    "duration": 40,
    "start_time": "2023-08-06T12:23:27.873Z"
   },
   {
    "duration": 46,
    "start_time": "2023-08-06T12:23:27.914Z"
   },
   {
    "duration": 222,
    "start_time": "2023-08-06T12:23:27.970Z"
   },
   {
    "duration": 98,
    "start_time": "2023-08-06T12:23:28.194Z"
   },
   {
    "duration": 40,
    "start_time": "2023-08-06T12:23:28.294Z"
   },
   {
    "duration": 246,
    "start_time": "2023-08-06T12:23:28.338Z"
   },
   {
    "duration": 158,
    "start_time": "2023-08-06T12:23:28.587Z"
   },
   {
    "duration": 264,
    "start_time": "2023-08-06T12:23:28.752Z"
   },
   {
    "duration": 50,
    "start_time": "2023-08-06T12:23:29.018Z"
   },
   {
    "duration": 235,
    "start_time": "2023-08-06T12:23:29.069Z"
   },
   {
    "duration": 159,
    "start_time": "2023-08-06T12:23:29.313Z"
   },
   {
    "duration": 152,
    "start_time": "2023-08-06T12:23:29.474Z"
   },
   {
    "duration": 352,
    "start_time": "2023-08-06T12:23:29.632Z"
   },
   {
    "duration": 162,
    "start_time": "2023-08-06T12:23:29.986Z"
   },
   {
    "duration": 13,
    "start_time": "2023-08-06T12:23:30.150Z"
   },
   {
    "duration": 169,
    "start_time": "2023-08-06T12:23:30.165Z"
   },
   {
    "duration": 139,
    "start_time": "2023-08-06T12:23:30.337Z"
   },
   {
    "duration": 364,
    "start_time": "2023-08-06T12:23:30.478Z"
   },
   {
    "duration": 353,
    "start_time": "2023-08-06T12:23:30.847Z"
   },
   {
    "duration": 356,
    "start_time": "2023-08-06T12:23:31.206Z"
   },
   {
    "duration": 34,
    "start_time": "2023-08-06T12:23:31.571Z"
   },
   {
    "duration": 123,
    "start_time": "2023-08-06T12:23:31.607Z"
   },
   {
    "duration": 365,
    "start_time": "2023-08-06T12:23:31.732Z"
   },
   {
    "duration": 334,
    "start_time": "2023-08-06T12:23:32.098Z"
   },
   {
    "duration": 293,
    "start_time": "2023-08-06T12:23:32.441Z"
   },
   {
    "duration": 4,
    "start_time": "2023-08-06T12:23:32.741Z"
   },
   {
    "duration": 70,
    "start_time": "2023-08-06T12:23:32.752Z"
   },
   {
    "duration": 93,
    "start_time": "2023-08-06T12:23:32.830Z"
   },
   {
    "duration": 420,
    "start_time": "2023-08-06T12:23:32.929Z"
   },
   {
    "duration": 759,
    "start_time": "2023-08-06T12:23:33.355Z"
   },
   {
    "duration": 35,
    "start_time": "2023-08-06T12:23:34.115Z"
   },
   {
    "duration": 5362,
    "start_time": "2023-08-06T12:23:34.158Z"
   },
   {
    "duration": 18,
    "start_time": "2023-08-06T12:23:39.528Z"
   },
   {
    "duration": 93,
    "start_time": "2023-08-06T12:23:39.551Z"
   },
   {
    "duration": 891,
    "start_time": "2023-08-06T12:23:39.657Z"
   },
   {
    "duration": 619,
    "start_time": "2023-08-06T12:23:40.553Z"
   },
   {
    "duration": 35,
    "start_time": "2023-08-06T12:23:41.177Z"
   },
   {
    "duration": 165,
    "start_time": "2023-08-06T12:23:41.217Z"
   },
   {
    "duration": 341,
    "start_time": "2023-08-06T12:23:41.388Z"
   },
   {
    "duration": 298,
    "start_time": "2023-08-06T12:23:41.734Z"
   },
   {
    "duration": 182,
    "start_time": "2023-08-06T12:23:42.037Z"
   },
   {
    "duration": 22,
    "start_time": "2023-08-06T12:23:42.224Z"
   },
   {
    "duration": 13,
    "start_time": "2023-08-06T12:23:42.253Z"
   },
   {
    "duration": 73,
    "start_time": "2023-08-06T12:23:42.274Z"
   },
   {
    "duration": 140,
    "start_time": "2023-08-06T12:23:42.353Z"
   },
   {
    "duration": 95,
    "start_time": "2023-08-06T12:23:42.498Z"
   },
   {
    "duration": 691,
    "start_time": "2023-08-06T12:23:42.599Z"
   },
   {
    "duration": 197,
    "start_time": "2023-08-06T12:23:43.292Z"
   },
   {
    "duration": 124,
    "start_time": "2023-08-06T12:23:43.502Z"
   },
   {
    "duration": 142,
    "start_time": "2023-08-06T12:23:43.630Z"
   },
   {
    "duration": 101,
    "start_time": "2023-08-06T12:23:43.804Z"
   },
   {
    "duration": 229,
    "start_time": "2023-08-06T12:23:43.907Z"
   },
   {
    "duration": 0,
    "start_time": "2023-08-06T12:23:44.144Z"
   },
   {
    "duration": 0,
    "start_time": "2023-08-06T12:23:44.148Z"
   },
   {
    "duration": 0,
    "start_time": "2023-08-06T12:23:44.151Z"
   },
   {
    "duration": 0,
    "start_time": "2023-08-06T12:23:44.155Z"
   },
   {
    "duration": 0,
    "start_time": "2023-08-06T12:23:44.159Z"
   },
   {
    "duration": 4,
    "start_time": "2023-08-06T12:24:03.794Z"
   },
   {
    "duration": 7,
    "start_time": "2023-08-06T12:24:04.826Z"
   },
   {
    "duration": 3188,
    "start_time": "2023-08-06T12:29:02.066Z"
   },
   {
    "duration": 2302,
    "start_time": "2023-08-06T12:29:05.257Z"
   },
   {
    "duration": 959,
    "start_time": "2023-08-06T12:29:07.565Z"
   },
   {
    "duration": 53,
    "start_time": "2023-08-06T12:29:08.526Z"
   },
   {
    "duration": 56,
    "start_time": "2023-08-06T12:29:08.591Z"
   },
   {
    "duration": 281,
    "start_time": "2023-08-06T12:29:08.652Z"
   },
   {
    "duration": 71,
    "start_time": "2023-08-06T12:29:08.935Z"
   },
   {
    "duration": 39,
    "start_time": "2023-08-06T12:29:09.007Z"
   },
   {
    "duration": 317,
    "start_time": "2023-08-06T12:29:09.051Z"
   },
   {
    "duration": 157,
    "start_time": "2023-08-06T12:29:09.378Z"
   },
   {
    "duration": 235,
    "start_time": "2023-08-06T12:29:09.539Z"
   },
   {
    "duration": 35,
    "start_time": "2023-08-06T12:29:09.780Z"
   },
   {
    "duration": 164,
    "start_time": "2023-08-06T12:29:09.828Z"
   },
   {
    "duration": 169,
    "start_time": "2023-08-06T12:29:09.997Z"
   },
   {
    "duration": 170,
    "start_time": "2023-08-06T12:29:10.172Z"
   },
   {
    "duration": 323,
    "start_time": "2023-08-06T12:29:10.347Z"
   },
   {
    "duration": 130,
    "start_time": "2023-08-06T12:29:10.676Z"
   },
   {
    "duration": 6,
    "start_time": "2023-08-06T12:29:10.812Z"
   },
   {
    "duration": 190,
    "start_time": "2023-08-06T12:29:10.822Z"
   },
   {
    "duration": 260,
    "start_time": "2023-08-06T12:29:11.015Z"
   },
   {
    "duration": 404,
    "start_time": "2023-08-06T12:29:11.287Z"
   },
   {
    "duration": 367,
    "start_time": "2023-08-06T12:29:11.707Z"
   },
   {
    "duration": 339,
    "start_time": "2023-08-06T12:29:12.081Z"
   },
   {
    "duration": 39,
    "start_time": "2023-08-06T12:29:12.429Z"
   },
   {
    "duration": 134,
    "start_time": "2023-08-06T12:29:12.474Z"
   },
   {
    "duration": 366,
    "start_time": "2023-08-06T12:29:12.614Z"
   },
   {
    "duration": 296,
    "start_time": "2023-08-06T12:29:12.984Z"
   },
   {
    "duration": 304,
    "start_time": "2023-08-06T12:29:13.288Z"
   },
   {
    "duration": 16,
    "start_time": "2023-08-06T12:29:13.604Z"
   },
   {
    "duration": 132,
    "start_time": "2023-08-06T12:29:13.623Z"
   },
   {
    "duration": 186,
    "start_time": "2023-08-06T12:29:13.766Z"
   },
   {
    "duration": 415,
    "start_time": "2023-08-06T12:29:13.955Z"
   },
   {
    "duration": 683,
    "start_time": "2023-08-06T12:29:14.372Z"
   },
   {
    "duration": 33,
    "start_time": "2023-08-06T12:29:15.061Z"
   },
   {
    "duration": 5252,
    "start_time": "2023-08-06T12:29:15.102Z"
   },
   {
    "duration": 15,
    "start_time": "2023-08-06T12:29:20.368Z"
   },
   {
    "duration": 36,
    "start_time": "2023-08-06T12:29:20.388Z"
   },
   {
    "duration": 825,
    "start_time": "2023-08-06T12:29:20.427Z"
   },
   {
    "duration": 622,
    "start_time": "2023-08-06T12:29:21.260Z"
   },
   {
    "duration": 24,
    "start_time": "2023-08-06T12:29:21.884Z"
   },
   {
    "duration": 46,
    "start_time": "2023-08-06T12:29:21.916Z"
   },
   {
    "duration": 441,
    "start_time": "2023-08-06T12:29:21.964Z"
   },
   {
    "duration": 293,
    "start_time": "2023-08-06T12:29:22.407Z"
   },
   {
    "duration": 205,
    "start_time": "2023-08-06T12:29:22.702Z"
   },
   {
    "duration": 57,
    "start_time": "2023-08-06T12:29:22.918Z"
   },
   {
    "duration": 145,
    "start_time": "2023-08-06T12:29:22.979Z"
   },
   {
    "duration": 103,
    "start_time": "2023-08-06T12:29:23.126Z"
   },
   {
    "duration": 132,
    "start_time": "2023-08-06T12:29:23.233Z"
   },
   {
    "duration": 105,
    "start_time": "2023-08-06T12:29:23.367Z"
   },
   {
    "duration": 718,
    "start_time": "2023-08-06T12:29:23.474Z"
   },
   {
    "duration": 197,
    "start_time": "2023-08-06T12:29:24.194Z"
   },
   {
    "duration": 192,
    "start_time": "2023-08-06T12:29:24.392Z"
   },
   {
    "duration": 43,
    "start_time": "2023-08-06T12:29:24.585Z"
   },
   {
    "duration": 102,
    "start_time": "2023-08-06T12:29:24.630Z"
   },
   {
    "duration": 52,
    "start_time": "2023-08-06T12:29:24.734Z"
   },
   {
    "duration": 18,
    "start_time": "2023-08-06T12:29:24.788Z"
   },
   {
    "duration": 2884,
    "start_time": "2023-08-06T12:37:27.228Z"
   },
   {
    "duration": 1969,
    "start_time": "2023-08-06T12:37:30.115Z"
   },
   {
    "duration": 1293,
    "start_time": "2023-08-06T12:37:32.090Z"
   },
   {
    "duration": 23,
    "start_time": "2023-08-06T12:37:33.389Z"
   },
   {
    "duration": 68,
    "start_time": "2023-08-06T12:37:33.417Z"
   },
   {
    "duration": 225,
    "start_time": "2023-08-06T12:37:33.488Z"
   },
   {
    "duration": 70,
    "start_time": "2023-08-06T12:37:33.714Z"
   },
   {
    "duration": 113,
    "start_time": "2023-08-06T12:37:33.787Z"
   },
   {
    "duration": 255,
    "start_time": "2023-08-06T12:37:33.903Z"
   },
   {
    "duration": 144,
    "start_time": "2023-08-06T12:37:34.165Z"
   },
   {
    "duration": 449,
    "start_time": "2023-08-06T12:37:34.315Z"
   },
   {
    "duration": 42,
    "start_time": "2023-08-06T12:37:34.771Z"
   },
   {
    "duration": 281,
    "start_time": "2023-08-06T12:37:34.819Z"
   },
   {
    "duration": 400,
    "start_time": "2023-08-06T12:37:35.106Z"
   },
   {
    "duration": 130,
    "start_time": "2023-08-06T12:37:35.511Z"
   },
   {
    "duration": 356,
    "start_time": "2023-08-06T12:37:35.648Z"
   },
   {
    "duration": 177,
    "start_time": "2023-08-06T12:37:36.007Z"
   },
   {
    "duration": 13,
    "start_time": "2023-08-06T12:37:36.192Z"
   },
   {
    "duration": 92,
    "start_time": "2023-08-06T12:37:36.212Z"
   },
   {
    "duration": 152,
    "start_time": "2023-08-06T12:37:36.314Z"
   },
   {
    "duration": 326,
    "start_time": "2023-08-06T12:37:36.480Z"
   },
   {
    "duration": 356,
    "start_time": "2023-08-06T12:37:36.817Z"
   },
   {
    "duration": 347,
    "start_time": "2023-08-06T12:37:37.175Z"
   },
   {
    "duration": 35,
    "start_time": "2023-08-06T12:37:37.525Z"
   },
   {
    "duration": 80,
    "start_time": "2023-08-06T12:37:37.572Z"
   },
   {
    "duration": 340,
    "start_time": "2023-08-06T12:37:37.660Z"
   },
   {
    "duration": 315,
    "start_time": "2023-08-06T12:37:38.002Z"
   },
   {
    "duration": 287,
    "start_time": "2023-08-06T12:37:38.321Z"
   },
   {
    "duration": 5,
    "start_time": "2023-08-06T12:37:38.612Z"
   },
   {
    "duration": 78,
    "start_time": "2023-08-06T12:37:38.619Z"
   },
   {
    "duration": 24,
    "start_time": "2023-08-06T12:37:38.703Z"
   },
   {
    "duration": 367,
    "start_time": "2023-08-06T12:37:38.728Z"
   },
   {
    "duration": 720,
    "start_time": "2023-08-06T12:37:39.100Z"
   },
   {
    "duration": 31,
    "start_time": "2023-08-06T12:37:39.825Z"
   },
   {
    "duration": 5170,
    "start_time": "2023-08-06T12:37:39.862Z"
   },
   {
    "duration": 22,
    "start_time": "2023-08-06T12:37:45.034Z"
   },
   {
    "duration": 67,
    "start_time": "2023-08-06T12:37:45.061Z"
   },
   {
    "duration": 1077,
    "start_time": "2023-08-06T12:37:45.134Z"
   },
   {
    "duration": 699,
    "start_time": "2023-08-06T12:37:46.217Z"
   },
   {
    "duration": 27,
    "start_time": "2023-08-06T12:37:46.917Z"
   },
   {
    "duration": 104,
    "start_time": "2023-08-06T12:37:46.945Z"
   },
   {
    "duration": 409,
    "start_time": "2023-08-06T12:37:47.054Z"
   },
   {
    "duration": 291,
    "start_time": "2023-08-06T12:37:47.469Z"
   },
   {
    "duration": 221,
    "start_time": "2023-08-06T12:37:47.769Z"
   },
   {
    "duration": 25,
    "start_time": "2023-08-06T12:37:47.995Z"
   },
   {
    "duration": 14,
    "start_time": "2023-08-06T12:37:48.027Z"
   },
   {
    "duration": 114,
    "start_time": "2023-08-06T12:37:48.046Z"
   },
   {
    "duration": 91,
    "start_time": "2023-08-06T12:37:48.184Z"
   },
   {
    "duration": 93,
    "start_time": "2023-08-06T12:37:48.282Z"
   },
   {
    "duration": 779,
    "start_time": "2023-08-06T12:37:48.385Z"
   },
   {
    "duration": 229,
    "start_time": "2023-08-06T12:37:49.173Z"
   },
   {
    "duration": 115,
    "start_time": "2023-08-06T12:37:49.404Z"
   },
   {
    "duration": 43,
    "start_time": "2023-08-06T12:37:49.522Z"
   },
   {
    "duration": 104,
    "start_time": "2023-08-06T12:37:49.567Z"
   },
   {
    "duration": 104,
    "start_time": "2023-08-06T12:37:49.672Z"
   },
   {
    "duration": 29,
    "start_time": "2023-08-06T12:37:49.777Z"
   },
   {
    "duration": 219,
    "start_time": "2023-08-06T12:37:49.807Z"
   },
   {
    "duration": 0,
    "start_time": "2023-08-06T12:37:50.028Z"
   },
   {
    "duration": 34,
    "start_time": "2023-08-06T12:40:14.321Z"
   },
   {
    "duration": 2965,
    "start_time": "2023-08-06T12:50:49.202Z"
   },
   {
    "duration": 1785,
    "start_time": "2023-08-06T12:50:52.170Z"
   },
   {
    "duration": 1089,
    "start_time": "2023-08-06T12:50:53.957Z"
   },
   {
    "duration": 22,
    "start_time": "2023-08-06T12:50:55.049Z"
   },
   {
    "duration": 46,
    "start_time": "2023-08-06T12:50:55.076Z"
   },
   {
    "duration": 231,
    "start_time": "2023-08-06T12:50:55.124Z"
   },
   {
    "duration": 64,
    "start_time": "2023-08-06T12:50:55.357Z"
   },
   {
    "duration": 41,
    "start_time": "2023-08-06T12:50:55.423Z"
   },
   {
    "duration": 241,
    "start_time": "2023-08-06T12:50:55.466Z"
   },
   {
    "duration": 149,
    "start_time": "2023-08-06T12:50:55.710Z"
   },
   {
    "duration": 225,
    "start_time": "2023-08-06T12:50:55.861Z"
   },
   {
    "duration": 33,
    "start_time": "2023-08-06T12:50:56.088Z"
   },
   {
    "duration": 146,
    "start_time": "2023-08-06T12:50:56.138Z"
   },
   {
    "duration": 158,
    "start_time": "2023-08-06T12:50:56.286Z"
   },
   {
    "duration": 108,
    "start_time": "2023-08-06T12:50:56.446Z"
   },
   {
    "duration": 322,
    "start_time": "2023-08-06T12:50:56.556Z"
   },
   {
    "duration": 131,
    "start_time": "2023-08-06T12:50:56.880Z"
   },
   {
    "duration": 8,
    "start_time": "2023-08-06T12:50:57.013Z"
   },
   {
    "duration": 78,
    "start_time": "2023-08-06T12:50:57.022Z"
   },
   {
    "duration": 120,
    "start_time": "2023-08-06T12:50:57.103Z"
   },
   {
    "duration": 388,
    "start_time": "2023-08-06T12:50:57.225Z"
   },
   {
    "duration": 330,
    "start_time": "2023-08-06T12:50:57.615Z"
   },
   {
    "duration": 335,
    "start_time": "2023-08-06T12:50:57.947Z"
   },
   {
    "duration": 25,
    "start_time": "2023-08-06T12:50:58.284Z"
   },
   {
    "duration": 43,
    "start_time": "2023-08-06T12:50:58.311Z"
   },
   {
    "duration": 294,
    "start_time": "2023-08-06T12:50:58.356Z"
   },
   {
    "duration": 296,
    "start_time": "2023-08-06T12:50:58.652Z"
   },
   {
    "duration": 286,
    "start_time": "2023-08-06T12:50:58.953Z"
   },
   {
    "duration": 3,
    "start_time": "2023-08-06T12:50:59.242Z"
   },
   {
    "duration": 34,
    "start_time": "2023-08-06T12:50:59.247Z"
   },
   {
    "duration": 26,
    "start_time": "2023-08-06T12:50:59.283Z"
   },
   {
    "duration": 378,
    "start_time": "2023-08-06T12:50:59.311Z"
   },
   {
    "duration": 686,
    "start_time": "2023-08-06T12:50:59.690Z"
   },
   {
    "duration": 24,
    "start_time": "2023-08-06T12:51:00.378Z"
   },
   {
    "duration": 5142,
    "start_time": "2023-08-06T12:51:00.404Z"
   },
   {
    "duration": 10,
    "start_time": "2023-08-06T12:51:05.549Z"
   },
   {
    "duration": 71,
    "start_time": "2023-08-06T12:51:05.561Z"
   },
   {
    "duration": 1022,
    "start_time": "2023-08-06T12:51:05.634Z"
   },
   {
    "duration": 667,
    "start_time": "2023-08-06T12:51:06.657Z"
   },
   {
    "duration": 27,
    "start_time": "2023-08-06T12:51:07.326Z"
   },
   {
    "duration": 30,
    "start_time": "2023-08-06T12:51:07.354Z"
   },
   {
    "duration": 344,
    "start_time": "2023-08-06T12:51:07.386Z"
   },
   {
    "duration": 294,
    "start_time": "2023-08-06T12:51:07.732Z"
   },
   {
    "duration": 194,
    "start_time": "2023-08-06T12:51:08.028Z"
   },
   {
    "duration": 29,
    "start_time": "2023-08-06T12:51:08.224Z"
   },
   {
    "duration": 8,
    "start_time": "2023-08-06T12:51:08.255Z"
   },
   {
    "duration": 64,
    "start_time": "2023-08-06T12:51:08.265Z"
   },
   {
    "duration": 80,
    "start_time": "2023-08-06T12:51:08.331Z"
   },
   {
    "duration": 93,
    "start_time": "2023-08-06T12:51:08.415Z"
   },
   {
    "duration": 677,
    "start_time": "2023-08-06T12:51:08.510Z"
   },
   {
    "duration": 201,
    "start_time": "2023-08-06T12:51:09.189Z"
   },
   {
    "duration": 66,
    "start_time": "2023-08-06T12:51:09.393Z"
   },
   {
    "duration": 97,
    "start_time": "2023-08-06T12:51:09.461Z"
   },
   {
    "duration": 83,
    "start_time": "2023-08-06T12:51:09.563Z"
   },
   {
    "duration": 4,
    "start_time": "2023-08-06T12:51:09.649Z"
   },
   {
    "duration": 3053,
    "start_time": "2023-08-06T12:56:22.800Z"
   },
   {
    "duration": 1626,
    "start_time": "2023-08-06T12:56:25.855Z"
   },
   {
    "duration": 886,
    "start_time": "2023-08-06T12:56:27.483Z"
   },
   {
    "duration": 12,
    "start_time": "2023-08-06T12:56:28.372Z"
   },
   {
    "duration": 43,
    "start_time": "2023-08-06T12:56:28.386Z"
   },
   {
    "duration": 227,
    "start_time": "2023-08-06T12:56:28.430Z"
   },
   {
    "duration": 67,
    "start_time": "2023-08-06T12:56:28.659Z"
   },
   {
    "duration": 30,
    "start_time": "2023-08-06T12:56:28.730Z"
   },
   {
    "duration": 222,
    "start_time": "2023-08-06T12:56:28.763Z"
   },
   {
    "duration": 88,
    "start_time": "2023-08-06T12:56:28.989Z"
   },
   {
    "duration": 152,
    "start_time": "2023-08-06T12:56:29.079Z"
   },
   {
    "duration": 24,
    "start_time": "2023-08-06T12:56:29.233Z"
   },
   {
    "duration": 95,
    "start_time": "2023-08-06T12:56:29.259Z"
   },
   {
    "duration": 143,
    "start_time": "2023-08-06T12:56:29.356Z"
   },
   {
    "duration": 106,
    "start_time": "2023-08-06T12:56:29.502Z"
   },
   {
    "duration": 320,
    "start_time": "2023-08-06T12:56:29.610Z"
   },
   {
    "duration": 125,
    "start_time": "2023-08-06T12:56:29.937Z"
   },
   {
    "duration": 86,
    "start_time": "2023-08-06T12:56:30.063Z"
   },
   {
    "duration": 88,
    "start_time": "2023-08-06T12:56:30.151Z"
   },
   {
    "duration": 119,
    "start_time": "2023-08-06T12:56:30.242Z"
   },
   {
    "duration": 317,
    "start_time": "2023-08-06T12:56:30.364Z"
   },
   {
    "duration": 351,
    "start_time": "2023-08-06T12:56:30.684Z"
   },
   {
    "duration": 323,
    "start_time": "2023-08-06T12:56:31.039Z"
   },
   {
    "duration": 22,
    "start_time": "2023-08-06T12:56:31.363Z"
   },
   {
    "duration": 42,
    "start_time": "2023-08-06T12:56:31.387Z"
   },
   {
    "duration": 309,
    "start_time": "2023-08-06T12:56:31.431Z"
   },
   {
    "duration": 317,
    "start_time": "2023-08-06T12:56:31.743Z"
   },
   {
    "duration": 279,
    "start_time": "2023-08-06T12:56:32.065Z"
   },
   {
    "duration": 3,
    "start_time": "2023-08-06T12:56:32.347Z"
   },
   {
    "duration": 61,
    "start_time": "2023-08-06T12:56:32.352Z"
   },
   {
    "duration": 65,
    "start_time": "2023-08-06T12:56:32.415Z"
   },
   {
    "duration": 338,
    "start_time": "2023-08-06T12:56:32.484Z"
   },
   {
    "duration": 724,
    "start_time": "2023-08-06T12:56:32.824Z"
   },
   {
    "duration": 22,
    "start_time": "2023-08-06T12:56:33.550Z"
   },
   {
    "duration": 5143,
    "start_time": "2023-08-06T12:56:33.574Z"
   },
   {
    "duration": 9,
    "start_time": "2023-08-06T12:56:38.719Z"
   },
   {
    "duration": 31,
    "start_time": "2023-08-06T12:56:38.730Z"
   },
   {
    "duration": 927,
    "start_time": "2023-08-06T12:56:38.763Z"
   },
   {
    "duration": 617,
    "start_time": "2023-08-06T12:56:39.692Z"
   },
   {
    "duration": 30,
    "start_time": "2023-08-06T12:56:40.311Z"
   },
   {
    "duration": 20,
    "start_time": "2023-08-06T12:56:40.343Z"
   },
   {
    "duration": 359,
    "start_time": "2023-08-06T12:56:40.365Z"
   },
   {
    "duration": 285,
    "start_time": "2023-08-06T12:56:40.726Z"
   },
   {
    "duration": 195,
    "start_time": "2023-08-06T12:56:41.013Z"
   },
   {
    "duration": 29,
    "start_time": "2023-08-06T12:56:41.210Z"
   },
   {
    "duration": 7,
    "start_time": "2023-08-06T12:56:41.243Z"
   },
   {
    "duration": 69,
    "start_time": "2023-08-06T12:56:41.252Z"
   },
   {
    "duration": 89,
    "start_time": "2023-08-06T12:56:41.324Z"
   },
   {
    "duration": 89,
    "start_time": "2023-08-06T12:56:41.415Z"
   },
   {
    "duration": 586,
    "start_time": "2023-08-06T12:56:41.506Z"
   },
   {
    "duration": 142,
    "start_time": "2023-08-06T12:56:42.093Z"
   },
   {
    "duration": 46,
    "start_time": "2023-08-06T12:56:42.236Z"
   },
   {
    "duration": 162,
    "start_time": "2023-08-06T12:56:42.284Z"
   },
   {
    "duration": 99,
    "start_time": "2023-08-06T12:56:42.453Z"
   },
   {
    "duration": 7,
    "start_time": "2023-08-06T12:56:42.554Z"
   },
   {
    "duration": 1012957,
    "start_time": "2023-08-06T12:56:42.563Z"
   },
   {
    "duration": 0,
    "start_time": "2023-08-06T13:13:35.522Z"
   },
   {
    "duration": 0,
    "start_time": "2023-08-06T13:13:35.523Z"
   },
   {
    "duration": 8,
    "start_time": "2023-08-06T13:24:03.515Z"
   },
   {
    "duration": 3,
    "start_time": "2023-08-06T13:34:54.566Z"
   },
   {
    "duration": 1750549,
    "start_time": "2023-08-06T13:34:55.189Z"
   },
   {
    "duration": 14,
    "start_time": "2023-08-06T14:14:28.136Z"
   },
   {
    "duration": 602,
    "start_time": "2023-08-06T14:14:52.937Z"
   },
   {
    "duration": 11,
    "start_time": "2023-08-06T14:22:12.976Z"
   },
   {
    "duration": 106,
    "start_time": "2023-08-06T14:24:02.232Z"
   },
   {
    "duration": 12778,
    "start_time": "2023-08-06T14:24:09.767Z"
   },
   {
    "duration": 6,
    "start_time": "2023-08-06T14:24:25.285Z"
   },
   {
    "duration": 52251,
    "start_time": "2023-08-06T14:25:49.284Z"
   },
   {
    "duration": 6473,
    "start_time": "2023-08-06T14:26:49.934Z"
   },
   {
    "duration": 10,
    "start_time": "2023-08-06T14:26:56.408Z"
   },
   {
    "duration": 251311,
    "start_time": "2023-08-06T14:27:12.253Z"
   },
   {
    "duration": 413,
    "start_time": "2023-08-06T14:31:23.566Z"
   },
   {
    "duration": 5,
    "start_time": "2023-08-06T14:31:23.980Z"
   },
   {
    "duration": 5061,
    "start_time": "2023-08-06T14:31:23.987Z"
   },
   {
    "duration": 589,
    "start_time": "2023-08-06T14:31:29.050Z"
   },
   {
    "duration": 4,
    "start_time": "2023-08-06T14:31:29.640Z"
   },
   {
    "duration": 8,
    "start_time": "2023-08-06T14:31:29.645Z"
   },
   {
    "duration": 5,
    "start_time": "2023-08-06T14:38:11.051Z"
   },
   {
    "duration": 580235,
    "start_time": "2023-08-06T14:38:41.219Z"
   },
   {
    "duration": 599,
    "start_time": "2023-08-06T14:48:21.459Z"
   },
   {
    "duration": 5,
    "start_time": "2023-08-06T14:48:22.059Z"
   },
   {
    "duration": 59,
    "start_time": "2023-08-06T15:00:33.733Z"
   },
   {
    "duration": 606,
    "start_time": "2023-08-06T15:03:17.540Z"
   },
   {
    "duration": 3263,
    "start_time": "2023-08-07T11:13:52.626Z"
   },
   {
    "duration": 1821,
    "start_time": "2023-08-07T11:13:55.891Z"
   },
   {
    "duration": 1086,
    "start_time": "2023-08-07T11:13:57.714Z"
   },
   {
    "duration": 14,
    "start_time": "2023-08-07T11:13:58.802Z"
   },
   {
    "duration": 41,
    "start_time": "2023-08-07T11:13:58.818Z"
   },
   {
    "duration": 143,
    "start_time": "2023-08-07T11:13:58.860Z"
   },
   {
    "duration": 69,
    "start_time": "2023-08-07T11:13:59.004Z"
   },
   {
    "duration": 21,
    "start_time": "2023-08-07T11:13:59.074Z"
   },
   {
    "duration": 162,
    "start_time": "2023-08-07T11:13:59.097Z"
   },
   {
    "duration": 104,
    "start_time": "2023-08-07T11:13:59.261Z"
   },
   {
    "duration": 142,
    "start_time": "2023-08-07T11:13:59.367Z"
   },
   {
    "duration": 26,
    "start_time": "2023-08-07T11:13:59.510Z"
   },
   {
    "duration": 106,
    "start_time": "2023-08-07T11:13:59.538Z"
   },
   {
    "duration": 88,
    "start_time": "2023-08-07T11:13:59.647Z"
   },
   {
    "duration": 115,
    "start_time": "2023-08-07T11:13:59.736Z"
   },
   {
    "duration": 230,
    "start_time": "2023-08-07T11:13:59.853Z"
   },
   {
    "duration": 80,
    "start_time": "2023-08-07T11:14:00.085Z"
   },
   {
    "duration": 6,
    "start_time": "2023-08-07T11:14:00.167Z"
   },
   {
    "duration": 77,
    "start_time": "2023-08-07T11:14:00.175Z"
   },
   {
    "duration": 75,
    "start_time": "2023-08-07T11:14:00.253Z"
   },
   {
    "duration": 232,
    "start_time": "2023-08-07T11:14:00.330Z"
   },
   {
    "duration": 234,
    "start_time": "2023-08-07T11:14:00.564Z"
   },
   {
    "duration": 219,
    "start_time": "2023-08-07T11:14:00.800Z"
   },
   {
    "duration": 18,
    "start_time": "2023-08-07T11:14:01.021Z"
   },
   {
    "duration": 238,
    "start_time": "2023-08-07T11:14:01.040Z"
   },
   {
    "duration": 400,
    "start_time": "2023-08-07T11:14:01.280Z"
   },
   {
    "duration": 252,
    "start_time": "2023-08-07T11:14:01.681Z"
   },
   {
    "duration": 186,
    "start_time": "2023-08-07T11:14:01.934Z"
   },
   {
    "duration": 3,
    "start_time": "2023-08-07T11:14:02.122Z"
   },
   {
    "duration": 103,
    "start_time": "2023-08-07T11:14:02.126Z"
   },
   {
    "duration": 25,
    "start_time": "2023-08-07T11:14:02.231Z"
   },
   {
    "duration": 274,
    "start_time": "2023-08-07T11:14:02.257Z"
   },
   {
    "duration": 521,
    "start_time": "2023-08-07T11:14:02.532Z"
   },
   {
    "duration": 22,
    "start_time": "2023-08-07T11:14:03.055Z"
   },
   {
    "duration": 4080,
    "start_time": "2023-08-07T11:14:03.078Z"
   },
   {
    "duration": 8,
    "start_time": "2023-08-07T11:14:07.160Z"
   },
   {
    "duration": 45,
    "start_time": "2023-08-07T11:14:07.169Z"
   },
   {
    "duration": 747,
    "start_time": "2023-08-07T11:14:07.216Z"
   },
   {
    "duration": 459,
    "start_time": "2023-08-07T11:14:07.966Z"
   },
   {
    "duration": 26,
    "start_time": "2023-08-07T11:14:08.427Z"
   },
   {
    "duration": 16,
    "start_time": "2023-08-07T11:14:08.457Z"
   },
   {
    "duration": 238,
    "start_time": "2023-08-07T11:14:08.475Z"
   },
   {
    "duration": 216,
    "start_time": "2023-08-07T11:14:08.714Z"
   },
   {
    "duration": 151,
    "start_time": "2023-08-07T11:14:08.932Z"
   },
   {
    "duration": 18,
    "start_time": "2023-08-07T11:14:09.085Z"
   },
   {
    "duration": 28,
    "start_time": "2023-08-07T11:14:09.105Z"
   },
   {
    "duration": 74,
    "start_time": "2023-08-07T11:14:09.135Z"
   },
   {
    "duration": 64,
    "start_time": "2023-08-07T11:14:09.211Z"
   },
   {
    "duration": 56,
    "start_time": "2023-08-07T11:14:09.277Z"
   },
   {
    "duration": 425,
    "start_time": "2023-08-07T11:14:09.335Z"
   },
   {
    "duration": 173,
    "start_time": "2023-08-07T11:14:09.762Z"
   },
   {
    "duration": 13131,
    "start_time": "2023-08-07T11:14:09.937Z"
   },
   {
    "duration": 1876,
    "start_time": "2023-08-07T11:14:23.070Z"
   },
   {
    "duration": 10,
    "start_time": "2023-08-07T11:14:24.948Z"
   },
   {
    "duration": 0,
    "start_time": "2023-08-07T11:14:24.960Z"
   },
   {
    "duration": 0,
    "start_time": "2023-08-07T11:14:24.961Z"
   },
   {
    "duration": 0,
    "start_time": "2023-08-07T11:14:24.962Z"
   },
   {
    "duration": 0,
    "start_time": "2023-08-07T11:14:24.964Z"
   },
   {
    "duration": 0,
    "start_time": "2023-08-07T11:14:24.965Z"
   },
   {
    "duration": 0,
    "start_time": "2023-08-07T11:14:24.966Z"
   },
   {
    "duration": 0,
    "start_time": "2023-08-07T11:14:24.967Z"
   },
   {
    "duration": 0,
    "start_time": "2023-08-07T11:14:24.969Z"
   },
   {
    "duration": 0,
    "start_time": "2023-08-07T11:14:24.970Z"
   },
   {
    "duration": 0,
    "start_time": "2023-08-07T11:14:24.971Z"
   },
   {
    "duration": 0,
    "start_time": "2023-08-07T11:14:24.972Z"
   },
   {
    "duration": 0,
    "start_time": "2023-08-07T11:14:24.973Z"
   },
   {
    "duration": 0,
    "start_time": "2023-08-07T11:14:24.975Z"
   },
   {
    "duration": 88,
    "start_time": "2023-08-07T11:14:52.869Z"
   },
   {
    "duration": 8,
    "start_time": "2023-08-07T11:14:54.037Z"
   },
   {
    "duration": 4,
    "start_time": "2023-08-07T11:14:55.961Z"
   },
   {
    "duration": 6546,
    "start_time": "2023-08-07T11:16:23.466Z"
   },
   {
    "duration": 320,
    "start_time": "2023-08-07T11:16:58.134Z"
   },
   {
    "duration": 9,
    "start_time": "2023-08-07T11:16:58.695Z"
   },
   {
    "duration": 4,
    "start_time": "2023-08-07T11:17:04.062Z"
   },
   {
    "duration": 583157,
    "start_time": "2023-08-07T11:18:01.535Z"
   },
   {
    "duration": 71,
    "start_time": "2023-08-07T11:27:44.694Z"
   },
   {
    "duration": 609,
    "start_time": "2023-08-07T11:27:44.767Z"
   },
   {
    "duration": 5,
    "start_time": "2023-08-07T11:27:45.378Z"
   },
   {
    "duration": 147,
    "start_time": "2023-08-07T11:45:45.275Z"
   },
   {
    "duration": 617,
    "start_time": "2023-08-07T11:45:49.923Z"
   },
   {
    "duration": 5,
    "start_time": "2023-08-07T11:45:51.987Z"
   },
   {
    "duration": 14575,
    "start_time": "2023-08-07T11:49:30.921Z"
   },
   {
    "duration": 618,
    "start_time": "2023-08-07T11:51:35.183Z"
   },
   {
    "duration": 4,
    "start_time": "2023-08-07T11:51:35.803Z"
   },
   {
    "duration": 4609,
    "start_time": "2023-08-07T11:51:45.659Z"
   },
   {
    "duration": 486,
    "start_time": "2023-08-07T11:51:50.270Z"
   },
   {
    "duration": 4,
    "start_time": "2023-08-07T11:51:50.758Z"
   },
   {
    "duration": 5,
    "start_time": "2023-08-07T11:51:50.764Z"
   },
   {
    "duration": 58484,
    "start_time": "2023-08-07T11:51:50.772Z"
   },
   {
    "duration": 512,
    "start_time": "2023-08-07T11:52:49.257Z"
   },
   {
    "duration": 10,
    "start_time": "2023-08-07T11:55:39.562Z"
   },
   {
    "duration": 13,
    "start_time": "2023-08-07T11:55:42.470Z"
   },
   {
    "duration": 3,
    "start_time": "2023-08-07T11:56:53.206Z"
   },
   {
    "duration": 5,
    "start_time": "2023-08-07T11:56:56.874Z"
   },
   {
    "duration": 626,
    "start_time": "2023-08-07T11:57:45.124Z"
   },
   {
    "duration": 14524,
    "start_time": "2023-08-07T11:57:49.475Z"
   },
   {
    "duration": 2998,
    "start_time": "2023-08-08T09:32:37.220Z"
   },
   {
    "duration": 1763,
    "start_time": "2023-08-08T09:32:40.220Z"
   },
   {
    "duration": 951,
    "start_time": "2023-08-08T09:32:41.984Z"
   },
   {
    "duration": 12,
    "start_time": "2023-08-08T09:32:42.937Z"
   },
   {
    "duration": 21,
    "start_time": "2023-08-08T09:32:42.950Z"
   },
   {
    "duration": 114,
    "start_time": "2023-08-08T09:32:42.974Z"
   },
   {
    "duration": 48,
    "start_time": "2023-08-08T09:33:19.989Z"
   },
   {
    "duration": 20,
    "start_time": "2023-08-08T09:33:20.038Z"
   },
   {
    "duration": 135,
    "start_time": "2023-08-08T09:33:20.130Z"
   },
   {
    "duration": 101,
    "start_time": "2023-08-08T09:33:20.267Z"
   },
   {
    "duration": 149,
    "start_time": "2023-08-08T09:33:20.370Z"
   },
   {
    "duration": 23,
    "start_time": "2023-08-08T09:33:20.521Z"
   },
   {
    "duration": 103,
    "start_time": "2023-08-08T09:33:20.545Z"
   },
   {
    "duration": 73,
    "start_time": "2023-08-08T09:33:22.257Z"
   },
   {
    "duration": 68,
    "start_time": "2023-08-08T09:33:31.189Z"
   },
   {
    "duration": 229,
    "start_time": "2023-08-08T09:33:31.489Z"
   },
   {
    "duration": 79,
    "start_time": "2023-08-08T09:43:11.691Z"
   },
   {
    "duration": 6,
    "start_time": "2023-08-08T09:43:11.954Z"
   },
   {
    "duration": 53,
    "start_time": "2023-08-08T09:43:12.098Z"
   },
   {
    "duration": 70,
    "start_time": "2023-08-08T09:43:13.361Z"
   },
   {
    "duration": 229,
    "start_time": "2023-08-08T09:43:32.696Z"
   },
   {
    "duration": 232,
    "start_time": "2023-08-08T09:43:33.222Z"
   },
   {
    "duration": 243,
    "start_time": "2023-08-08T09:43:33.457Z"
   },
   {
    "duration": 17,
    "start_time": "2023-08-08T09:43:33.826Z"
   },
   {
    "duration": 21,
    "start_time": "2023-08-08T09:43:34.016Z"
   },
   {
    "duration": 196,
    "start_time": "2023-08-08T09:43:36.228Z"
   },
   {
    "duration": 192,
    "start_time": "2023-08-08T09:43:36.457Z"
   },
   {
    "duration": 175,
    "start_time": "2023-08-08T09:43:36.854Z"
   },
   {
    "duration": 3,
    "start_time": "2023-08-08T09:46:28.783Z"
   },
   {
    "duration": 14,
    "start_time": "2023-08-08T09:46:30.744Z"
   },
   {
    "duration": 17,
    "start_time": "2023-08-08T09:46:32.152Z"
   },
   {
    "duration": 216,
    "start_time": "2023-08-08T09:46:34.035Z"
   },
   {
    "duration": 431,
    "start_time": "2023-08-08T09:46:35.517Z"
   },
   {
    "duration": 3344,
    "start_time": "2023-08-08T09:51:27.365Z"
   },
   {
    "duration": 5,
    "start_time": "2023-08-08T09:51:30.710Z"
   },
   {
    "duration": 51,
    "start_time": "2023-08-08T09:51:30.717Z"
   },
   {
    "duration": 655,
    "start_time": "2023-08-08T09:51:30.769Z"
   },
   {
    "duration": 408,
    "start_time": "2023-08-08T09:51:31.426Z"
   },
   {
    "duration": 17,
    "start_time": "2023-08-08T09:51:54.667Z"
   },
   {
    "duration": 443,
    "start_time": "2023-08-08T09:51:57.906Z"
   },
   {
    "duration": 18,
    "start_time": "2023-08-08T09:59:03.073Z"
   },
   {
    "duration": 16,
    "start_time": "2023-08-08T10:00:35.619Z"
   },
   {
    "duration": 17,
    "start_time": "2023-08-08T10:01:02.479Z"
   },
   {
    "duration": 27,
    "start_time": "2023-08-08T10:13:21.787Z"
   },
   {
    "duration": 195,
    "start_time": "2023-08-08T10:13:32.602Z"
   },
   {
    "duration": 22,
    "start_time": "2023-08-08T10:14:12.730Z"
   },
   {
    "duration": 187,
    "start_time": "2023-08-08T10:14:14.389Z"
   },
   {
    "duration": 217,
    "start_time": "2023-08-08T10:14:39.529Z"
   },
   {
    "duration": 4,
    "start_time": "2023-08-08T10:15:57.696Z"
   },
   {
    "duration": 4,
    "start_time": "2023-08-08T10:16:08.551Z"
   },
   {
    "duration": 3,
    "start_time": "2023-08-08T10:16:24.173Z"
   },
   {
    "duration": 2,
    "start_time": "2023-08-08T10:16:49.636Z"
   },
   {
    "duration": 3,
    "start_time": "2023-08-08T10:17:08.156Z"
   },
   {
    "duration": 16,
    "start_time": "2023-08-08T10:29:04.181Z"
   },
   {
    "duration": 7,
    "start_time": "2023-08-08T10:29:06.305Z"
   },
   {
    "duration": 59,
    "start_time": "2023-08-08T10:29:06.801Z"
   },
   {
    "duration": 4,
    "start_time": "2023-08-08T10:30:33.297Z"
   },
   {
    "duration": 4,
    "start_time": "2023-08-08T10:30:41.863Z"
   },
   {
    "duration": 4,
    "start_time": "2023-08-08T10:30:55.117Z"
   },
   {
    "duration": 4,
    "start_time": "2023-08-08T10:31:09.519Z"
   },
   {
    "duration": 4,
    "start_time": "2023-08-08T11:09:13.181Z"
   },
   {
    "duration": 162,
    "start_time": "2023-08-08T11:15:59.216Z"
   },
   {
    "duration": 4,
    "start_time": "2023-08-08T11:16:07.066Z"
   },
   {
    "duration": 37,
    "start_time": "2023-08-08T11:16:21.379Z"
   },
   {
    "duration": 5,
    "start_time": "2023-08-08T11:16:34.374Z"
   },
   {
    "duration": 181,
    "start_time": "2023-08-08T11:18:08.018Z"
   },
   {
    "duration": 4,
    "start_time": "2023-08-08T11:18:08.774Z"
   },
   {
    "duration": 3900,
    "start_time": "2023-08-08T11:18:24.419Z"
   },
   {
    "duration": 3045,
    "start_time": "2023-08-08T11:18:28.322Z"
   },
   {
    "duration": 1189,
    "start_time": "2023-08-08T11:18:31.369Z"
   },
   {
    "duration": 18,
    "start_time": "2023-08-08T11:18:32.560Z"
   },
   {
    "duration": 92,
    "start_time": "2023-08-08T11:18:32.580Z"
   },
   {
    "duration": 118,
    "start_time": "2023-08-08T11:18:32.674Z"
   },
   {
    "duration": 79,
    "start_time": "2023-08-08T11:18:32.794Z"
   },
   {
    "duration": 21,
    "start_time": "2023-08-08T11:18:32.875Z"
   },
   {
    "duration": 171,
    "start_time": "2023-08-08T11:18:32.897Z"
   },
   {
    "duration": 97,
    "start_time": "2023-08-08T11:18:33.071Z"
   },
   {
    "duration": 151,
    "start_time": "2023-08-08T11:18:33.169Z"
   },
   {
    "duration": 24,
    "start_time": "2023-08-08T11:18:33.323Z"
   },
   {
    "duration": 147,
    "start_time": "2023-08-08T11:18:33.348Z"
   },
   {
    "duration": 91,
    "start_time": "2023-08-08T11:18:33.497Z"
   },
   {
    "duration": 79,
    "start_time": "2023-08-08T11:18:33.589Z"
   },
   {
    "duration": 236,
    "start_time": "2023-08-08T11:18:33.669Z"
   },
   {
    "duration": 72,
    "start_time": "2023-08-08T11:18:33.906Z"
   },
   {
    "duration": 24,
    "start_time": "2023-08-08T11:18:33.980Z"
   },
   {
    "duration": 50,
    "start_time": "2023-08-08T11:18:34.009Z"
   },
   {
    "duration": 81,
    "start_time": "2023-08-08T11:18:34.061Z"
   },
   {
    "duration": 247,
    "start_time": "2023-08-08T11:18:34.144Z"
   },
   {
    "duration": 294,
    "start_time": "2023-08-08T11:18:34.392Z"
   },
   {
    "duration": 239,
    "start_time": "2023-08-08T11:18:34.687Z"
   },
   {
    "duration": 21,
    "start_time": "2023-08-08T11:18:34.927Z"
   },
   {
    "duration": 30,
    "start_time": "2023-08-08T11:18:34.950Z"
   },
   {
    "duration": 263,
    "start_time": "2023-08-08T11:18:34.982Z"
   },
   {
    "duration": 348,
    "start_time": "2023-08-08T11:18:35.247Z"
   },
   {
    "duration": 219,
    "start_time": "2023-08-08T11:18:35.598Z"
   },
   {
    "duration": 4,
    "start_time": "2023-08-08T11:18:35.818Z"
   },
   {
    "duration": 27,
    "start_time": "2023-08-08T11:18:35.823Z"
   },
   {
    "duration": 16,
    "start_time": "2023-08-08T11:18:35.852Z"
   },
   {
    "duration": 276,
    "start_time": "2023-08-08T11:18:35.870Z"
   },
   {
    "duration": 697,
    "start_time": "2023-08-08T11:18:36.148Z"
   },
   {
    "duration": 18,
    "start_time": "2023-08-08T11:18:36.847Z"
   },
   {
    "duration": 8,
    "start_time": "2023-08-08T11:18:36.867Z"
   },
   {
    "duration": 40,
    "start_time": "2023-08-08T11:18:36.877Z"
   },
   {
    "duration": 3367,
    "start_time": "2023-08-08T11:18:36.920Z"
   },
   {
    "duration": 22,
    "start_time": "2023-08-08T11:18:40.289Z"
   },
   {
    "duration": 19,
    "start_time": "2023-08-08T11:18:40.319Z"
   },
   {
    "duration": 643,
    "start_time": "2023-08-08T11:18:40.339Z"
   },
   {
    "duration": 425,
    "start_time": "2023-08-08T11:18:40.984Z"
   },
   {
    "duration": 19,
    "start_time": "2023-08-08T11:18:41.410Z"
   },
   {
    "duration": 450,
    "start_time": "2023-08-08T11:18:41.431Z"
   },
   {
    "duration": 204,
    "start_time": "2023-08-08T11:18:41.883Z"
   },
   {
    "duration": 33,
    "start_time": "2023-08-08T11:18:42.089Z"
   },
   {
    "duration": 296,
    "start_time": "2023-08-08T11:18:42.124Z"
   },
   {
    "duration": 152,
    "start_time": "2023-08-08T11:18:42.422Z"
   },
   {
    "duration": 2,
    "start_time": "2023-08-08T11:18:42.576Z"
   },
   {
    "duration": 15,
    "start_time": "2023-08-08T11:18:42.580Z"
   },
   {
    "duration": 52,
    "start_time": "2023-08-08T11:18:42.597Z"
   },
   {
    "duration": 15,
    "start_time": "2023-08-08T11:18:42.651Z"
   },
   {
    "duration": 77,
    "start_time": "2023-08-08T11:18:42.668Z"
   },
   {
    "duration": 5,
    "start_time": "2023-08-08T11:18:42.747Z"
   },
   {
    "duration": 13,
    "start_time": "2023-08-08T11:18:42.755Z"
   },
   {
    "duration": 8,
    "start_time": "2023-08-08T11:18:42.770Z"
   },
   {
    "duration": 11,
    "start_time": "2023-08-08T11:18:42.779Z"
   },
   {
    "duration": 197,
    "start_time": "2023-08-08T11:18:42.793Z"
   },
   {
    "duration": 21,
    "start_time": "2023-08-08T11:18:42.992Z"
   },
   {
    "duration": 153,
    "start_time": "2023-08-08T11:18:43.019Z"
   },
   {
    "duration": 0,
    "start_time": "2023-08-08T11:18:43.174Z"
   },
   {
    "duration": 0,
    "start_time": "2023-08-08T11:18:43.175Z"
   },
   {
    "duration": 0,
    "start_time": "2023-08-08T11:18:43.176Z"
   },
   {
    "duration": 0,
    "start_time": "2023-08-08T11:18:43.178Z"
   },
   {
    "duration": 0,
    "start_time": "2023-08-08T11:18:43.179Z"
   },
   {
    "duration": 0,
    "start_time": "2023-08-08T11:18:43.180Z"
   },
   {
    "duration": 0,
    "start_time": "2023-08-08T11:18:43.182Z"
   },
   {
    "duration": 0,
    "start_time": "2023-08-08T11:18:43.183Z"
   },
   {
    "duration": 0,
    "start_time": "2023-08-08T11:18:43.184Z"
   },
   {
    "duration": 0,
    "start_time": "2023-08-08T11:18:43.186Z"
   },
   {
    "duration": 0,
    "start_time": "2023-08-08T11:18:43.187Z"
   },
   {
    "duration": 0,
    "start_time": "2023-08-08T11:18:43.202Z"
   },
   {
    "duration": 0,
    "start_time": "2023-08-08T11:18:43.210Z"
   },
   {
    "duration": 0,
    "start_time": "2023-08-08T11:18:43.210Z"
   },
   {
    "duration": 0,
    "start_time": "2023-08-08T11:18:43.211Z"
   },
   {
    "duration": 0,
    "start_time": "2023-08-08T11:18:43.212Z"
   },
   {
    "duration": 0,
    "start_time": "2023-08-08T11:18:43.213Z"
   },
   {
    "duration": 0,
    "start_time": "2023-08-08T11:18:43.214Z"
   },
   {
    "duration": 0,
    "start_time": "2023-08-08T11:18:43.214Z"
   },
   {
    "duration": 67,
    "start_time": "2023-08-08T11:19:27.328Z"
   },
   {
    "duration": 44,
    "start_time": "2023-08-08T11:19:58.317Z"
   },
   {
    "duration": 5561,
    "start_time": "2023-08-08T11:21:24.526Z"
   },
   {
    "duration": 9169,
    "start_time": "2023-08-08T11:21:30.090Z"
   },
   {
    "duration": 1360,
    "start_time": "2023-08-08T11:21:39.261Z"
   },
   {
    "duration": 16,
    "start_time": "2023-08-08T11:21:40.624Z"
   },
   {
    "duration": 37,
    "start_time": "2023-08-08T11:21:40.642Z"
   },
   {
    "duration": 202,
    "start_time": "2023-08-08T11:21:40.680Z"
   },
   {
    "duration": 67,
    "start_time": "2023-08-08T11:21:40.884Z"
   },
   {
    "duration": 22,
    "start_time": "2023-08-08T11:21:40.953Z"
   },
   {
    "duration": 239,
    "start_time": "2023-08-08T11:21:40.976Z"
   },
   {
    "duration": 110,
    "start_time": "2023-08-08T11:21:41.219Z"
   },
   {
    "duration": 201,
    "start_time": "2023-08-08T11:21:41.331Z"
   },
   {
    "duration": 29,
    "start_time": "2023-08-08T11:21:41.533Z"
   },
   {
    "duration": 110,
    "start_time": "2023-08-08T11:21:41.565Z"
   },
   {
    "duration": 110,
    "start_time": "2023-08-08T11:21:41.676Z"
   },
   {
    "duration": 104,
    "start_time": "2023-08-08T11:21:41.788Z"
   },
   {
    "duration": 262,
    "start_time": "2023-08-08T11:21:41.894Z"
   },
   {
    "duration": 81,
    "start_time": "2023-08-08T11:21:42.157Z"
   },
   {
    "duration": 7,
    "start_time": "2023-08-08T11:21:42.240Z"
   },
   {
    "duration": 72,
    "start_time": "2023-08-08T11:21:42.249Z"
   },
   {
    "duration": 118,
    "start_time": "2023-08-08T11:21:42.322Z"
   },
   {
    "duration": 259,
    "start_time": "2023-08-08T11:21:42.442Z"
   },
   {
    "duration": 266,
    "start_time": "2023-08-08T11:21:42.708Z"
   },
   {
    "duration": 248,
    "start_time": "2023-08-08T11:21:42.976Z"
   },
   {
    "duration": 20,
    "start_time": "2023-08-08T11:21:43.226Z"
   },
   {
    "duration": 39,
    "start_time": "2023-08-08T11:21:43.247Z"
   },
   {
    "duration": 293,
    "start_time": "2023-08-08T11:21:43.288Z"
   },
   {
    "duration": 237,
    "start_time": "2023-08-08T11:21:43.583Z"
   },
   {
    "duration": 246,
    "start_time": "2023-08-08T11:21:43.826Z"
   },
   {
    "duration": 3,
    "start_time": "2023-08-08T11:21:44.073Z"
   },
   {
    "duration": 84,
    "start_time": "2023-08-08T11:21:44.077Z"
   },
   {
    "duration": 45,
    "start_time": "2023-08-08T11:21:44.163Z"
   },
   {
    "duration": 281,
    "start_time": "2023-08-08T11:21:44.209Z"
   },
   {
    "duration": 580,
    "start_time": "2023-08-08T11:21:44.491Z"
   },
   {
    "duration": 22,
    "start_time": "2023-08-08T11:21:45.072Z"
   },
   {
    "duration": 37,
    "start_time": "2023-08-08T11:21:45.096Z"
   },
   {
    "duration": 11,
    "start_time": "2023-08-08T11:21:45.135Z"
   },
   {
    "duration": 3694,
    "start_time": "2023-08-08T11:21:45.147Z"
   },
   {
    "duration": 7,
    "start_time": "2023-08-08T11:21:48.843Z"
   },
   {
    "duration": 25,
    "start_time": "2023-08-08T11:21:48.851Z"
   },
   {
    "duration": 688,
    "start_time": "2023-08-08T11:21:48.878Z"
   },
   {
    "duration": 466,
    "start_time": "2023-08-08T11:21:49.568Z"
   },
   {
    "duration": 17,
    "start_time": "2023-08-08T11:21:50.035Z"
   },
   {
    "duration": 484,
    "start_time": "2023-08-08T11:21:50.054Z"
   },
   {
    "duration": 219,
    "start_time": "2023-08-08T11:21:50.540Z"
   },
   {
    "duration": 20,
    "start_time": "2023-08-08T11:21:50.761Z"
   },
   {
    "duration": 303,
    "start_time": "2023-08-08T11:21:50.783Z"
   },
   {
    "duration": 154,
    "start_time": "2023-08-08T11:21:51.088Z"
   },
   {
    "duration": 2,
    "start_time": "2023-08-08T11:21:51.244Z"
   },
   {
    "duration": 16,
    "start_time": "2023-08-08T11:21:51.247Z"
   },
   {
    "duration": 19,
    "start_time": "2023-08-08T11:21:51.265Z"
   },
   {
    "duration": 111,
    "start_time": "2023-08-08T11:21:51.286Z"
   },
   {
    "duration": 65,
    "start_time": "2023-08-08T11:21:51.399Z"
   },
   {
    "duration": 3,
    "start_time": "2023-08-08T11:21:51.466Z"
   },
   {
    "duration": 20,
    "start_time": "2023-08-08T11:21:51.471Z"
   },
   {
    "duration": 61,
    "start_time": "2023-08-08T11:21:51.493Z"
   },
   {
    "duration": 16,
    "start_time": "2023-08-08T11:21:51.556Z"
   },
   {
    "duration": 150,
    "start_time": "2023-08-08T11:21:51.574Z"
   },
   {
    "duration": 0,
    "start_time": "2023-08-08T11:21:51.725Z"
   },
   {
    "duration": 0,
    "start_time": "2023-08-08T11:21:51.726Z"
   },
   {
    "duration": 0,
    "start_time": "2023-08-08T11:21:51.727Z"
   },
   {
    "duration": 0,
    "start_time": "2023-08-08T11:21:51.729Z"
   },
   {
    "duration": 0,
    "start_time": "2023-08-08T11:21:51.738Z"
   },
   {
    "duration": 0,
    "start_time": "2023-08-08T11:21:51.739Z"
   },
   {
    "duration": 0,
    "start_time": "2023-08-08T11:21:51.740Z"
   },
   {
    "duration": 0,
    "start_time": "2023-08-08T11:21:51.740Z"
   },
   {
    "duration": 0,
    "start_time": "2023-08-08T11:21:51.741Z"
   },
   {
    "duration": 0,
    "start_time": "2023-08-08T11:21:51.743Z"
   },
   {
    "duration": 0,
    "start_time": "2023-08-08T11:21:51.744Z"
   },
   {
    "duration": 0,
    "start_time": "2023-08-08T11:21:51.745Z"
   },
   {
    "duration": 0,
    "start_time": "2023-08-08T11:21:51.746Z"
   },
   {
    "duration": 0,
    "start_time": "2023-08-08T11:21:51.747Z"
   },
   {
    "duration": 0,
    "start_time": "2023-08-08T11:21:51.748Z"
   },
   {
    "duration": 0,
    "start_time": "2023-08-08T11:21:51.749Z"
   },
   {
    "duration": 0,
    "start_time": "2023-08-08T11:21:51.750Z"
   },
   {
    "duration": 0,
    "start_time": "2023-08-08T11:21:51.751Z"
   },
   {
    "duration": 0,
    "start_time": "2023-08-08T11:21:51.752Z"
   },
   {
    "duration": 18,
    "start_time": "2023-08-08T11:22:21.257Z"
   },
   {
    "duration": 31,
    "start_time": "2023-08-08T11:22:26.386Z"
   },
   {
    "duration": 26,
    "start_time": "2023-08-08T11:22:33.497Z"
   },
   {
    "duration": 25,
    "start_time": "2023-08-08T11:25:35.593Z"
   },
   {
    "duration": 506,
    "start_time": "2023-08-08T11:25:50.724Z"
   },
   {
    "duration": 31,
    "start_time": "2023-08-08T11:25:55.450Z"
   },
   {
    "duration": 30,
    "start_time": "2023-08-08T11:30:28.535Z"
   },
   {
    "duration": 3397,
    "start_time": "2023-08-08T11:30:46.464Z"
   },
   {
    "duration": 1653,
    "start_time": "2023-08-08T11:30:49.864Z"
   },
   {
    "duration": 813,
    "start_time": "2023-08-08T11:30:51.518Z"
   },
   {
    "duration": 14,
    "start_time": "2023-08-08T11:30:52.333Z"
   },
   {
    "duration": 38,
    "start_time": "2023-08-08T11:30:52.352Z"
   },
   {
    "duration": 121,
    "start_time": "2023-08-08T11:30:52.391Z"
   },
   {
    "duration": 51,
    "start_time": "2023-08-08T11:30:52.513Z"
   },
   {
    "duration": 51,
    "start_time": "2023-08-08T11:30:52.566Z"
   },
   {
    "duration": 213,
    "start_time": "2023-08-08T11:30:52.619Z"
   },
   {
    "duration": 88,
    "start_time": "2023-08-08T11:30:52.835Z"
   },
   {
    "duration": 149,
    "start_time": "2023-08-08T11:30:52.925Z"
   },
   {
    "duration": 38,
    "start_time": "2023-08-08T11:30:53.075Z"
   },
   {
    "duration": 90,
    "start_time": "2023-08-08T11:30:53.114Z"
   },
   {
    "duration": 88,
    "start_time": "2023-08-08T11:30:53.206Z"
   },
   {
    "duration": 74,
    "start_time": "2023-08-08T11:30:53.296Z"
   },
   {
    "duration": 247,
    "start_time": "2023-08-08T11:30:53.372Z"
   },
   {
    "duration": 120,
    "start_time": "2023-08-08T11:30:53.621Z"
   },
   {
    "duration": 6,
    "start_time": "2023-08-08T11:30:53.742Z"
   },
   {
    "duration": 62,
    "start_time": "2023-08-08T11:30:53.750Z"
   },
   {
    "duration": 60,
    "start_time": "2023-08-08T11:30:53.818Z"
   },
   {
    "duration": 214,
    "start_time": "2023-08-08T11:30:53.880Z"
   },
   {
    "duration": 228,
    "start_time": "2023-08-08T11:30:54.096Z"
   },
   {
    "duration": 225,
    "start_time": "2023-08-08T11:30:54.326Z"
   },
   {
    "duration": 19,
    "start_time": "2023-08-08T11:30:54.553Z"
   },
   {
    "duration": 44,
    "start_time": "2023-08-08T11:30:54.574Z"
   },
   {
    "duration": 206,
    "start_time": "2023-08-08T11:30:54.621Z"
   },
   {
    "duration": 202,
    "start_time": "2023-08-08T11:30:54.828Z"
   },
   {
    "duration": 202,
    "start_time": "2023-08-08T11:30:55.034Z"
   },
   {
    "duration": 2,
    "start_time": "2023-08-08T11:30:55.238Z"
   },
   {
    "duration": 21,
    "start_time": "2023-08-08T11:30:55.242Z"
   },
   {
    "duration": 24,
    "start_time": "2023-08-08T11:30:55.264Z"
   },
   {
    "duration": 288,
    "start_time": "2023-08-08T11:30:55.290Z"
   },
   {
    "duration": 551,
    "start_time": "2023-08-08T11:30:55.581Z"
   },
   {
    "duration": 21,
    "start_time": "2023-08-08T11:30:56.135Z"
   },
   {
    "duration": 19,
    "start_time": "2023-08-08T11:30:56.158Z"
   },
   {
    "duration": 27,
    "start_time": "2023-08-08T11:30:56.179Z"
   },
   {
    "duration": 3817,
    "start_time": "2023-08-08T11:30:56.208Z"
   },
   {
    "duration": 7,
    "start_time": "2023-08-08T11:31:00.026Z"
   },
   {
    "duration": 53,
    "start_time": "2023-08-08T11:31:00.035Z"
   },
   {
    "duration": 717,
    "start_time": "2023-08-08T11:31:00.089Z"
   },
   {
    "duration": 452,
    "start_time": "2023-08-08T11:31:00.807Z"
   },
   {
    "duration": 18,
    "start_time": "2023-08-08T11:31:01.260Z"
   },
   {
    "duration": 509,
    "start_time": "2023-08-08T11:31:01.280Z"
   },
   {
    "duration": 232,
    "start_time": "2023-08-08T11:31:01.790Z"
   },
   {
    "duration": 19,
    "start_time": "2023-08-08T11:31:02.024Z"
   },
   {
    "duration": 369,
    "start_time": "2023-08-08T11:31:02.045Z"
   },
   {
    "duration": 169,
    "start_time": "2023-08-08T11:31:02.417Z"
   },
   {
    "duration": 3,
    "start_time": "2023-08-08T11:31:02.588Z"
   },
   {
    "duration": 88,
    "start_time": "2023-08-08T11:31:02.592Z"
   },
   {
    "duration": 54,
    "start_time": "2023-08-08T11:31:02.681Z"
   },
   {
    "duration": 150,
    "start_time": "2023-08-08T11:31:02.737Z"
   },
   {
    "duration": 88,
    "start_time": "2023-08-08T11:31:02.889Z"
   },
   {
    "duration": 4,
    "start_time": "2023-08-08T11:31:02.979Z"
   },
   {
    "duration": 59,
    "start_time": "2023-08-08T11:31:02.985Z"
   },
   {
    "duration": 23,
    "start_time": "2023-08-08T11:31:03.047Z"
   },
   {
    "duration": 44,
    "start_time": "2023-08-08T11:31:03.072Z"
   },
   {
    "duration": 157,
    "start_time": "2023-08-08T11:31:03.118Z"
   },
   {
    "duration": 0,
    "start_time": "2023-08-08T11:31:03.277Z"
   },
   {
    "duration": 0,
    "start_time": "2023-08-08T11:31:03.278Z"
   },
   {
    "duration": 0,
    "start_time": "2023-08-08T11:31:03.279Z"
   },
   {
    "duration": 0,
    "start_time": "2023-08-08T11:31:03.281Z"
   },
   {
    "duration": 0,
    "start_time": "2023-08-08T11:31:03.282Z"
   },
   {
    "duration": 0,
    "start_time": "2023-08-08T11:31:03.283Z"
   },
   {
    "duration": 0,
    "start_time": "2023-08-08T11:31:03.284Z"
   },
   {
    "duration": 0,
    "start_time": "2023-08-08T11:31:03.284Z"
   },
   {
    "duration": 0,
    "start_time": "2023-08-08T11:31:03.285Z"
   },
   {
    "duration": 0,
    "start_time": "2023-08-08T11:31:03.286Z"
   },
   {
    "duration": 0,
    "start_time": "2023-08-08T11:31:03.305Z"
   },
   {
    "duration": 0,
    "start_time": "2023-08-08T11:31:03.306Z"
   },
   {
    "duration": 0,
    "start_time": "2023-08-08T11:31:03.306Z"
   },
   {
    "duration": 0,
    "start_time": "2023-08-08T11:31:03.307Z"
   },
   {
    "duration": 0,
    "start_time": "2023-08-08T11:31:03.307Z"
   },
   {
    "duration": 0,
    "start_time": "2023-08-08T11:31:03.308Z"
   },
   {
    "duration": 0,
    "start_time": "2023-08-08T11:31:03.308Z"
   },
   {
    "duration": 0,
    "start_time": "2023-08-08T11:31:03.308Z"
   },
   {
    "duration": 0,
    "start_time": "2023-08-08T11:31:03.317Z"
   },
   {
    "duration": 0,
    "start_time": "2023-08-08T11:31:03.319Z"
   },
   {
    "duration": 495,
    "start_time": "2023-08-08T11:33:34.141Z"
   },
   {
    "duration": 15,
    "start_time": "2023-08-08T11:33:59.876Z"
   },
   {
    "duration": 26,
    "start_time": "2023-08-08T11:34:42.315Z"
   },
   {
    "duration": 625,
    "start_time": "2023-08-08T11:34:50.463Z"
   },
   {
    "duration": 18,
    "start_time": "2023-08-08T11:34:53.080Z"
   },
   {
    "duration": 11,
    "start_time": "2023-08-08T12:01:28.663Z"
   },
   {
    "duration": 213,
    "start_time": "2023-08-08T12:01:38.021Z"
   },
   {
    "duration": 1235,
    "start_time": "2023-08-08T12:03:14.180Z"
   },
   {
    "duration": 168,
    "start_time": "2023-08-08T12:03:20.735Z"
   },
   {
    "duration": 7,
    "start_time": "2023-08-08T12:03:24.948Z"
   },
   {
    "duration": 20,
    "start_time": "2023-08-08T12:03:29.996Z"
   },
   {
    "duration": 1195,
    "start_time": "2023-08-08T12:03:54.047Z"
   },
   {
    "duration": 1162,
    "start_time": "2023-08-08T12:04:00.779Z"
   },
   {
    "duration": 1151,
    "start_time": "2023-08-08T12:04:19.067Z"
   },
   {
    "duration": 1022,
    "start_time": "2023-08-08T12:05:21.587Z"
   },
   {
    "duration": 1613,
    "start_time": "2023-08-08T12:08:16.520Z"
   },
   {
    "duration": 1266,
    "start_time": "2023-08-08T12:08:22.054Z"
   },
   {
    "duration": 10020,
    "start_time": "2023-08-08T12:09:19.252Z"
   },
   {
    "duration": 802,
    "start_time": "2023-08-08T12:09:29.275Z"
   },
   {
    "duration": 39,
    "start_time": "2023-08-08T12:09:30.078Z"
   },
   {
    "duration": 13,
    "start_time": "2023-08-08T12:09:30.119Z"
   },
   {
    "duration": 842004,
    "start_time": "2023-08-08T12:09:31.822Z"
   },
   {
    "duration": 19020,
    "start_time": "2023-08-08T12:23:33.829Z"
   },
   {
    "duration": 778,
    "start_time": "2023-08-08T12:23:52.851Z"
   },
   {
    "duration": 6,
    "start_time": "2023-08-08T12:23:53.631Z"
   },
   {
    "duration": 13,
    "start_time": "2023-08-08T12:23:53.638Z"
   },
   {
    "duration": 1059759,
    "start_time": "2023-08-08T12:23:53.653Z"
   },
   {
    "duration": 640,
    "start_time": "2023-08-08T12:41:33.418Z"
   },
   {
    "duration": 45,
    "start_time": "2023-08-08T12:41:34.060Z"
   },
   {
    "duration": 46,
    "start_time": "2023-08-08T12:41:34.106Z"
   },
   {
    "duration": 67,
    "start_time": "2023-10-26T14:38:10.767Z"
   },
   {
    "duration": 4325,
    "start_time": "2023-10-26T14:38:26.016Z"
   },
   {
    "duration": 2057,
    "start_time": "2023-10-26T14:38:30.343Z"
   },
   {
    "duration": 3459,
    "start_time": "2023-10-26T14:38:32.402Z"
   },
   {
    "duration": 20,
    "start_time": "2023-10-26T14:38:35.864Z"
   },
   {
    "duration": 69,
    "start_time": "2023-10-26T14:38:35.886Z"
   },
   {
    "duration": 206,
    "start_time": "2023-10-26T14:38:35.957Z"
   },
   {
    "duration": 66,
    "start_time": "2023-10-26T14:38:36.166Z"
   },
   {
    "duration": 50,
    "start_time": "2023-10-26T14:38:36.233Z"
   },
   {
    "duration": 216,
    "start_time": "2023-10-26T14:38:36.294Z"
   },
   {
    "duration": 140,
    "start_time": "2023-10-26T14:38:36.513Z"
   },
   {
    "duration": 226,
    "start_time": "2023-10-26T14:38:36.656Z"
   },
   {
    "duration": 35,
    "start_time": "2023-10-26T14:38:36.885Z"
   },
   {
    "duration": 178,
    "start_time": "2023-10-26T14:38:36.922Z"
   },
   {
    "duration": 133,
    "start_time": "2023-10-26T14:38:37.102Z"
   },
   {
    "duration": 156,
    "start_time": "2023-10-26T14:38:37.237Z"
   },
   {
    "duration": 314,
    "start_time": "2023-10-26T14:38:37.397Z"
   },
   {
    "duration": 148,
    "start_time": "2023-10-26T14:38:37.712Z"
   },
   {
    "duration": 9,
    "start_time": "2023-10-26T14:38:37.862Z"
   },
   {
    "duration": 64,
    "start_time": "2023-10-26T14:38:37.878Z"
   },
   {
    "duration": 176,
    "start_time": "2023-10-26T14:38:37.944Z"
   },
   {
    "duration": 326,
    "start_time": "2023-10-26T14:38:38.122Z"
   },
   {
    "duration": 333,
    "start_time": "2023-10-26T14:38:38.450Z"
   },
   {
    "duration": 377,
    "start_time": "2023-10-26T14:38:38.796Z"
   },
   {
    "duration": 38,
    "start_time": "2023-10-26T14:38:39.175Z"
   },
   {
    "duration": 42,
    "start_time": "2023-10-26T14:38:39.216Z"
   },
   {
    "duration": 327,
    "start_time": "2023-10-26T14:38:39.260Z"
   },
   {
    "duration": 292,
    "start_time": "2023-10-26T14:38:39.592Z"
   },
   {
    "duration": 259,
    "start_time": "2023-10-26T14:38:39.890Z"
   },
   {
    "duration": 2,
    "start_time": "2023-10-26T14:38:40.151Z"
   },
   {
    "duration": 34,
    "start_time": "2023-10-26T14:38:40.159Z"
   },
   {
    "duration": 32,
    "start_time": "2023-10-26T14:38:40.197Z"
   },
   {
    "duration": 371,
    "start_time": "2023-10-26T14:38:40.231Z"
   },
   {
    "duration": 727,
    "start_time": "2023-10-26T14:38:40.604Z"
   },
   {
    "duration": 37,
    "start_time": "2023-10-26T14:38:41.333Z"
   },
   {
    "duration": 21,
    "start_time": "2023-10-26T14:38:41.373Z"
   },
   {
    "duration": 13,
    "start_time": "2023-10-26T14:38:41.401Z"
   },
   {
    "duration": 5635,
    "start_time": "2023-10-26T14:38:41.416Z"
   },
   {
    "duration": 27,
    "start_time": "2023-10-26T14:38:47.056Z"
   },
   {
    "duration": 40,
    "start_time": "2023-10-26T14:38:47.086Z"
   },
   {
    "duration": 935,
    "start_time": "2023-10-26T14:38:47.128Z"
   },
   {
    "duration": 723,
    "start_time": "2023-10-26T14:38:48.065Z"
   },
   {
    "duration": 25,
    "start_time": "2023-10-26T14:38:48.798Z"
   },
   {
    "duration": 840,
    "start_time": "2023-10-26T14:38:48.825Z"
   },
   {
    "duration": 339,
    "start_time": "2023-10-26T14:38:49.668Z"
   },
   {
    "duration": 20,
    "start_time": "2023-10-26T14:38:50.008Z"
   },
   {
    "duration": 469,
    "start_time": "2023-10-26T14:38:50.030Z"
   },
   {
    "duration": 193,
    "start_time": "2023-10-26T14:38:50.502Z"
   },
   {
    "duration": 5,
    "start_time": "2023-10-26T14:38:50.700Z"
   },
   {
    "duration": 9,
    "start_time": "2023-10-26T14:38:50.707Z"
   },
   {
    "duration": 34,
    "start_time": "2023-10-26T14:38:50.718Z"
   },
   {
    "duration": 90,
    "start_time": "2023-10-26T14:38:50.755Z"
   },
   {
    "duration": 88,
    "start_time": "2023-10-26T14:38:50.847Z"
   },
   {
    "duration": 21,
    "start_time": "2023-10-26T14:38:50.938Z"
   },
   {
    "duration": 36,
    "start_time": "2023-10-26T14:38:50.961Z"
   },
   {
    "duration": 23,
    "start_time": "2023-10-26T14:38:50.999Z"
   },
   {
    "duration": 31,
    "start_time": "2023-10-26T14:38:51.024Z"
   },
   {
    "duration": 1163,
    "start_time": "2023-10-26T14:38:51.057Z"
   },
   {
    "duration": 19,
    "start_time": "2023-10-26T14:38:53.305Z"
   },
   {
    "duration": 6348,
    "start_time": "2023-11-02T06:57:24.728Z"
   },
   {
    "duration": 2584,
    "start_time": "2023-11-02T06:57:31.078Z"
   },
   {
    "duration": 3764,
    "start_time": "2023-11-02T06:57:33.664Z"
   },
   {
    "duration": 27,
    "start_time": "2023-11-02T06:57:37.431Z"
   },
   {
    "duration": 71,
    "start_time": "2023-11-02T06:57:37.461Z"
   },
   {
    "duration": 243,
    "start_time": "2023-11-02T06:57:37.534Z"
   },
   {
    "duration": 57,
    "start_time": "2023-11-02T06:57:37.779Z"
   },
   {
    "duration": 32,
    "start_time": "2023-11-02T06:57:37.845Z"
   },
   {
    "duration": 219,
    "start_time": "2023-11-02T06:57:37.879Z"
   },
   {
    "duration": 114,
    "start_time": "2023-11-02T06:57:38.101Z"
   },
   {
    "duration": 180,
    "start_time": "2023-11-02T06:57:38.217Z"
   },
   {
    "duration": 33,
    "start_time": "2023-11-02T06:57:38.400Z"
   },
   {
    "duration": 182,
    "start_time": "2023-11-02T06:57:38.435Z"
   },
   {
    "duration": 161,
    "start_time": "2023-11-02T06:57:38.619Z"
   },
   {
    "duration": 97,
    "start_time": "2023-11-02T06:57:38.783Z"
   },
   {
    "duration": 299,
    "start_time": "2023-11-02T06:57:38.883Z"
   },
   {
    "duration": 115,
    "start_time": "2023-11-02T06:57:39.184Z"
   },
   {
    "duration": 8,
    "start_time": "2023-11-02T06:57:39.300Z"
   },
   {
    "duration": 71,
    "start_time": "2023-11-02T06:57:39.309Z"
   },
   {
    "duration": 145,
    "start_time": "2023-11-02T06:57:39.382Z"
   },
   {
    "duration": 332,
    "start_time": "2023-11-02T06:57:39.529Z"
   },
   {
    "duration": 329,
    "start_time": "2023-11-02T06:57:39.864Z"
   },
   {
    "duration": 273,
    "start_time": "2023-11-02T06:57:40.195Z"
   },
   {
    "duration": 20,
    "start_time": "2023-11-02T06:57:40.473Z"
   },
   {
    "duration": 32,
    "start_time": "2023-11-02T06:57:40.495Z"
   },
   {
    "duration": 287,
    "start_time": "2023-11-02T06:57:40.529Z"
   },
   {
    "duration": 323,
    "start_time": "2023-11-02T06:57:40.818Z"
   },
   {
    "duration": 253,
    "start_time": "2023-11-02T06:57:41.153Z"
   },
   {
    "duration": 9,
    "start_time": "2023-11-02T06:57:41.413Z"
   },
   {
    "duration": 17,
    "start_time": "2023-11-02T06:57:41.430Z"
   },
   {
    "duration": 27,
    "start_time": "2023-11-02T06:57:41.452Z"
   },
   {
    "duration": 325,
    "start_time": "2023-11-02T06:57:41.483Z"
   },
   {
    "duration": 695,
    "start_time": "2023-11-02T06:57:41.810Z"
   },
   {
    "duration": 17,
    "start_time": "2023-11-02T06:57:42.507Z"
   },
   {
    "duration": 24,
    "start_time": "2023-11-02T06:57:42.526Z"
   },
   {
    "duration": 28,
    "start_time": "2023-11-02T06:57:42.552Z"
   },
   {
    "duration": 5985,
    "start_time": "2023-11-02T06:57:42.582Z"
   },
   {
    "duration": 9,
    "start_time": "2023-11-02T06:57:48.570Z"
   },
   {
    "duration": 30,
    "start_time": "2023-11-02T06:57:48.581Z"
   },
   {
    "duration": 948,
    "start_time": "2023-11-02T06:57:48.613Z"
   },
   {
    "duration": 596,
    "start_time": "2023-11-02T06:57:49.568Z"
   },
   {
    "duration": 28,
    "start_time": "2023-11-02T06:57:50.166Z"
   },
   {
    "duration": 658,
    "start_time": "2023-11-02T06:57:50.197Z"
   },
   {
    "duration": 321,
    "start_time": "2023-11-02T06:57:50.861Z"
   },
   {
    "duration": 23,
    "start_time": "2023-11-02T06:57:51.184Z"
   },
   {
    "duration": 480,
    "start_time": "2023-11-02T06:57:51.208Z"
   },
   {
    "duration": 201,
    "start_time": "2023-11-02T06:57:51.690Z"
   },
   {
    "duration": 4,
    "start_time": "2023-11-02T06:57:51.894Z"
   },
   {
    "duration": 23,
    "start_time": "2023-11-02T06:57:51.899Z"
   },
   {
    "duration": 44,
    "start_time": "2023-11-02T06:57:51.924Z"
   },
   {
    "duration": 90,
    "start_time": "2023-11-02T06:57:51.973Z"
   },
   {
    "duration": 73,
    "start_time": "2023-11-02T06:57:52.070Z"
   },
   {
    "duration": 8,
    "start_time": "2023-11-02T06:57:52.152Z"
   },
   {
    "duration": 20,
    "start_time": "2023-11-02T06:57:52.161Z"
   },
   {
    "duration": 5,
    "start_time": "2023-11-02T06:57:52.183Z"
   },
   {
    "duration": 26,
    "start_time": "2023-11-02T06:57:52.190Z"
   },
   {
    "duration": 638,
    "start_time": "2023-11-02T06:57:52.218Z"
   },
   {
    "duration": 38,
    "start_time": "2023-11-02T06:57:52.859Z"
   },
   {
    "duration": 235,
    "start_time": "2023-11-02T06:57:52.899Z"
   },
   {
    "duration": 1613,
    "start_time": "2023-11-02T06:57:53.137Z"
   },
   {
    "duration": 12409,
    "start_time": "2023-11-02T06:57:54.762Z"
   },
   {
    "duration": 899,
    "start_time": "2023-11-02T06:58:07.173Z"
   },
   {
    "duration": 31,
    "start_time": "2023-11-02T06:58:08.074Z"
   },
   {
    "duration": 10,
    "start_time": "2023-11-02T06:58:08.109Z"
   },
   {
    "duration": 955966,
    "start_time": "2023-11-02T06:58:08.121Z"
   },
   {
    "duration": 21355,
    "start_time": "2023-11-02T07:14:04.089Z"
   },
   {
    "duration": 770,
    "start_time": "2023-11-02T07:14:25.446Z"
   },
   {
    "duration": 4,
    "start_time": "2023-11-02T07:14:26.218Z"
   },
   {
    "duration": 23,
    "start_time": "2023-11-02T07:14:26.224Z"
   },
   {
    "duration": 369202,
    "start_time": "2023-11-02T07:14:26.250Z"
   },
   {
    "duration": 521,
    "start_time": "2023-11-02T07:20:35.456Z"
   },
   {
    "duration": 5,
    "start_time": "2023-11-02T07:20:35.979Z"
   },
   {
    "duration": 31,
    "start_time": "2023-11-02T07:20:35.985Z"
   },
   {
    "duration": 2822855,
    "start_time": "2023-11-02T07:20:36.018Z"
   },
   {
    "duration": 589,
    "start_time": "2023-11-02T08:07:38.875Z"
   }
  ],
  "kernelspec": {
   "display_name": "Python 3 (ipykernel)",
   "language": "python",
   "name": "python3"
  },
  "language_info": {
   "codemirror_mode": {
    "name": "ipython",
    "version": 3
   },
   "file_extension": ".py",
   "mimetype": "text/x-python",
   "name": "python",
   "nbconvert_exporter": "python",
   "pygments_lexer": "ipython3",
   "version": "3.9.5"
  },
  "toc": {
   "base_numbering": 1,
   "nav_menu": {},
   "number_sections": true,
   "sideBar": true,
   "skip_h1_title": true,
   "title_cell": "Table of Contents",
   "title_sidebar": "Contents",
   "toc_cell": false,
   "toc_position": {
    "height": "calc(100% - 180px)",
    "left": "10px",
    "top": "150px",
    "width": "328.352px"
   },
   "toc_section_display": true,
   "toc_window_display": true
  }
 },
 "nbformat": 4,
 "nbformat_minor": 2
}
