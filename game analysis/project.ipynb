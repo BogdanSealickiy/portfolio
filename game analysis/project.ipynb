{
 "cells": [
  {
   "cell_type": "markdown",
   "metadata": {},
   "source": [
    "   <h1>Проект. Анализ рынка игровой индустрии</h1>\n",
    "\n",
    "<h2>Описание проекта</h2>\n",
    "\n",
    "\n",
    "Интернет-магазин «Стримчик», продаёт по всему миру компьютерные игры. Из открытых источников доступны исторические данные о продажах игр, оценки пользователей и экспертов, жанры и платформы (например, Xbox или PlayStation). Задча - выявить определяющие успешность игры закономерности. Это позволит сделать ставку на потенциально популярный продукт и спланировать рекламные кампании.\n",
    "\n",
    "\n",
    "В наборе данных попадается аббревиатура ESRB (Entertainment Software Rating Board) — это ассоциация, определяющая возрастной рейтинг компьютерных игр. ESRB оценивает игровой контент и присваивает ему подходящую возрастную категорию, например, «Для взрослых», «Для детей младшего возраста» или «Для подростков»."
   ]
  },
  {
   "cell_type": "markdown",
   "metadata": {},
   "source": [
    "<h2>накомство с датасетом</h2>"
   ]
  },
  {
   "cell_type": "markdown",
   "metadata": {},
   "source": [
    "**Импорт библиотек**"
   ]
  },
  {
   "cell_type": "code",
   "execution_count": 3,
   "metadata": {},
   "outputs": [],
   "source": [
    "import pandas as pd\n",
    "import matplotlib.pyplot as plt\n",
    "import seaborn as sb\n",
    "import numpy as np\n",
    "from scipy import stats as st"
   ]
  },
  {
   "cell_type": "code",
   "execution_count": 4,
   "metadata": {},
   "outputs": [],
   "source": [
    "data = pd.read_csv('/datasets/games.csv')"
   ]
  },
  {
   "cell_type": "markdown",
   "metadata": {},
   "source": [
    "**Вывод таблицы**"
   ]
  },
  {
   "cell_type": "code",
   "execution_count": 5,
   "metadata": {
    "scrolled": true
   },
   "outputs": [
    {
     "data": {
      "text/html": [
       "<div>\n",
       "<style scoped>\n",
       "    .dataframe tbody tr th:only-of-type {\n",
       "        vertical-align: middle;\n",
       "    }\n",
       "\n",
       "    .dataframe tbody tr th {\n",
       "        vertical-align: top;\n",
       "    }\n",
       "\n",
       "    .dataframe thead th {\n",
       "        text-align: right;\n",
       "    }\n",
       "</style>\n",
       "<table border=\"1\" class=\"dataframe\">\n",
       "  <thead>\n",
       "    <tr style=\"text-align: right;\">\n",
       "      <th></th>\n",
       "      <th>Name</th>\n",
       "      <th>Platform</th>\n",
       "      <th>Year_of_Release</th>\n",
       "      <th>Genre</th>\n",
       "      <th>NA_sales</th>\n",
       "      <th>EU_sales</th>\n",
       "      <th>JP_sales</th>\n",
       "      <th>Other_sales</th>\n",
       "      <th>Critic_Score</th>\n",
       "      <th>User_Score</th>\n",
       "      <th>Rating</th>\n",
       "    </tr>\n",
       "  </thead>\n",
       "  <tbody>\n",
       "    <tr>\n",
       "      <th>0</th>\n",
       "      <td>Wii Sports</td>\n",
       "      <td>Wii</td>\n",
       "      <td>2006.0</td>\n",
       "      <td>Sports</td>\n",
       "      <td>41.36</td>\n",
       "      <td>28.96</td>\n",
       "      <td>3.77</td>\n",
       "      <td>8.45</td>\n",
       "      <td>76.0</td>\n",
       "      <td>8</td>\n",
       "      <td>E</td>\n",
       "    </tr>\n",
       "    <tr>\n",
       "      <th>1</th>\n",
       "      <td>Super Mario Bros.</td>\n",
       "      <td>NES</td>\n",
       "      <td>1985.0</td>\n",
       "      <td>Platform</td>\n",
       "      <td>29.08</td>\n",
       "      <td>3.58</td>\n",
       "      <td>6.81</td>\n",
       "      <td>0.77</td>\n",
       "      <td>NaN</td>\n",
       "      <td>NaN</td>\n",
       "      <td>NaN</td>\n",
       "    </tr>\n",
       "    <tr>\n",
       "      <th>2</th>\n",
       "      <td>Mario Kart Wii</td>\n",
       "      <td>Wii</td>\n",
       "      <td>2008.0</td>\n",
       "      <td>Racing</td>\n",
       "      <td>15.68</td>\n",
       "      <td>12.76</td>\n",
       "      <td>3.79</td>\n",
       "      <td>3.29</td>\n",
       "      <td>82.0</td>\n",
       "      <td>8.3</td>\n",
       "      <td>E</td>\n",
       "    </tr>\n",
       "    <tr>\n",
       "      <th>3</th>\n",
       "      <td>Wii Sports Resort</td>\n",
       "      <td>Wii</td>\n",
       "      <td>2009.0</td>\n",
       "      <td>Sports</td>\n",
       "      <td>15.61</td>\n",
       "      <td>10.93</td>\n",
       "      <td>3.28</td>\n",
       "      <td>2.95</td>\n",
       "      <td>80.0</td>\n",
       "      <td>8</td>\n",
       "      <td>E</td>\n",
       "    </tr>\n",
       "    <tr>\n",
       "      <th>4</th>\n",
       "      <td>Pokemon Red/Pokemon Blue</td>\n",
       "      <td>GB</td>\n",
       "      <td>1996.0</td>\n",
       "      <td>Role-Playing</td>\n",
       "      <td>11.27</td>\n",
       "      <td>8.89</td>\n",
       "      <td>10.22</td>\n",
       "      <td>1.00</td>\n",
       "      <td>NaN</td>\n",
       "      <td>NaN</td>\n",
       "      <td>NaN</td>\n",
       "    </tr>\n",
       "    <tr>\n",
       "      <th>5</th>\n",
       "      <td>Tetris</td>\n",
       "      <td>GB</td>\n",
       "      <td>1989.0</td>\n",
       "      <td>Puzzle</td>\n",
       "      <td>23.20</td>\n",
       "      <td>2.26</td>\n",
       "      <td>4.22</td>\n",
       "      <td>0.58</td>\n",
       "      <td>NaN</td>\n",
       "      <td>NaN</td>\n",
       "      <td>NaN</td>\n",
       "    </tr>\n",
       "    <tr>\n",
       "      <th>6</th>\n",
       "      <td>New Super Mario Bros.</td>\n",
       "      <td>DS</td>\n",
       "      <td>2006.0</td>\n",
       "      <td>Platform</td>\n",
       "      <td>11.28</td>\n",
       "      <td>9.14</td>\n",
       "      <td>6.50</td>\n",
       "      <td>2.88</td>\n",
       "      <td>89.0</td>\n",
       "      <td>8.5</td>\n",
       "      <td>E</td>\n",
       "    </tr>\n",
       "    <tr>\n",
       "      <th>7</th>\n",
       "      <td>Wii Play</td>\n",
       "      <td>Wii</td>\n",
       "      <td>2006.0</td>\n",
       "      <td>Misc</td>\n",
       "      <td>13.96</td>\n",
       "      <td>9.18</td>\n",
       "      <td>2.93</td>\n",
       "      <td>2.84</td>\n",
       "      <td>58.0</td>\n",
       "      <td>6.6</td>\n",
       "      <td>E</td>\n",
       "    </tr>\n",
       "    <tr>\n",
       "      <th>8</th>\n",
       "      <td>New Super Mario Bros. Wii</td>\n",
       "      <td>Wii</td>\n",
       "      <td>2009.0</td>\n",
       "      <td>Platform</td>\n",
       "      <td>14.44</td>\n",
       "      <td>6.94</td>\n",
       "      <td>4.70</td>\n",
       "      <td>2.24</td>\n",
       "      <td>87.0</td>\n",
       "      <td>8.4</td>\n",
       "      <td>E</td>\n",
       "    </tr>\n",
       "    <tr>\n",
       "      <th>9</th>\n",
       "      <td>Duck Hunt</td>\n",
       "      <td>NES</td>\n",
       "      <td>1984.0</td>\n",
       "      <td>Shooter</td>\n",
       "      <td>26.93</td>\n",
       "      <td>0.63</td>\n",
       "      <td>0.28</td>\n",
       "      <td>0.47</td>\n",
       "      <td>NaN</td>\n",
       "      <td>NaN</td>\n",
       "      <td>NaN</td>\n",
       "    </tr>\n",
       "    <tr>\n",
       "      <th>10</th>\n",
       "      <td>Nintendogs</td>\n",
       "      <td>DS</td>\n",
       "      <td>2005.0</td>\n",
       "      <td>Simulation</td>\n",
       "      <td>9.05</td>\n",
       "      <td>10.95</td>\n",
       "      <td>1.93</td>\n",
       "      <td>2.74</td>\n",
       "      <td>NaN</td>\n",
       "      <td>NaN</td>\n",
       "      <td>NaN</td>\n",
       "    </tr>\n",
       "    <tr>\n",
       "      <th>11</th>\n",
       "      <td>Mario Kart DS</td>\n",
       "      <td>DS</td>\n",
       "      <td>2005.0</td>\n",
       "      <td>Racing</td>\n",
       "      <td>9.71</td>\n",
       "      <td>7.47</td>\n",
       "      <td>4.13</td>\n",
       "      <td>1.90</td>\n",
       "      <td>91.0</td>\n",
       "      <td>8.6</td>\n",
       "      <td>E</td>\n",
       "    </tr>\n",
       "    <tr>\n",
       "      <th>12</th>\n",
       "      <td>Pokemon Gold/Pokemon Silver</td>\n",
       "      <td>GB</td>\n",
       "      <td>1999.0</td>\n",
       "      <td>Role-Playing</td>\n",
       "      <td>9.00</td>\n",
       "      <td>6.18</td>\n",
       "      <td>7.20</td>\n",
       "      <td>0.71</td>\n",
       "      <td>NaN</td>\n",
       "      <td>NaN</td>\n",
       "      <td>NaN</td>\n",
       "    </tr>\n",
       "    <tr>\n",
       "      <th>13</th>\n",
       "      <td>Wii Fit</td>\n",
       "      <td>Wii</td>\n",
       "      <td>2007.0</td>\n",
       "      <td>Sports</td>\n",
       "      <td>8.92</td>\n",
       "      <td>8.03</td>\n",
       "      <td>3.60</td>\n",
       "      <td>2.15</td>\n",
       "      <td>80.0</td>\n",
       "      <td>7.7</td>\n",
       "      <td>E</td>\n",
       "    </tr>\n",
       "    <tr>\n",
       "      <th>14</th>\n",
       "      <td>Kinect Adventures!</td>\n",
       "      <td>X360</td>\n",
       "      <td>2010.0</td>\n",
       "      <td>Misc</td>\n",
       "      <td>15.00</td>\n",
       "      <td>4.89</td>\n",
       "      <td>0.24</td>\n",
       "      <td>1.69</td>\n",
       "      <td>61.0</td>\n",
       "      <td>6.3</td>\n",
       "      <td>E</td>\n",
       "    </tr>\n",
       "  </tbody>\n",
       "</table>\n",
       "</div>"
      ],
      "text/plain": [
       "                           Name Platform  Year_of_Release         Genre  \\\n",
       "0                    Wii Sports      Wii           2006.0        Sports   \n",
       "1             Super Mario Bros.      NES           1985.0      Platform   \n",
       "2                Mario Kart Wii      Wii           2008.0        Racing   \n",
       "3             Wii Sports Resort      Wii           2009.0        Sports   \n",
       "4      Pokemon Red/Pokemon Blue       GB           1996.0  Role-Playing   \n",
       "5                        Tetris       GB           1989.0        Puzzle   \n",
       "6         New Super Mario Bros.       DS           2006.0      Platform   \n",
       "7                      Wii Play      Wii           2006.0          Misc   \n",
       "8     New Super Mario Bros. Wii      Wii           2009.0      Platform   \n",
       "9                     Duck Hunt      NES           1984.0       Shooter   \n",
       "10                   Nintendogs       DS           2005.0    Simulation   \n",
       "11                Mario Kart DS       DS           2005.0        Racing   \n",
       "12  Pokemon Gold/Pokemon Silver       GB           1999.0  Role-Playing   \n",
       "13                      Wii Fit      Wii           2007.0        Sports   \n",
       "14           Kinect Adventures!     X360           2010.0          Misc   \n",
       "\n",
       "    NA_sales  EU_sales  JP_sales  Other_sales  Critic_Score User_Score Rating  \n",
       "0      41.36     28.96      3.77         8.45          76.0          8      E  \n",
       "1      29.08      3.58      6.81         0.77           NaN        NaN    NaN  \n",
       "2      15.68     12.76      3.79         3.29          82.0        8.3      E  \n",
       "3      15.61     10.93      3.28         2.95          80.0          8      E  \n",
       "4      11.27      8.89     10.22         1.00           NaN        NaN    NaN  \n",
       "5      23.20      2.26      4.22         0.58           NaN        NaN    NaN  \n",
       "6      11.28      9.14      6.50         2.88          89.0        8.5      E  \n",
       "7      13.96      9.18      2.93         2.84          58.0        6.6      E  \n",
       "8      14.44      6.94      4.70         2.24          87.0        8.4      E  \n",
       "9      26.93      0.63      0.28         0.47           NaN        NaN    NaN  \n",
       "10      9.05     10.95      1.93         2.74           NaN        NaN    NaN  \n",
       "11      9.71      7.47      4.13         1.90          91.0        8.6      E  \n",
       "12      9.00      6.18      7.20         0.71           NaN        NaN    NaN  \n",
       "13      8.92      8.03      3.60         2.15          80.0        7.7      E  \n",
       "14     15.00      4.89      0.24         1.69          61.0        6.3      E  "
      ]
     },
     "execution_count": 5,
     "metadata": {},
     "output_type": "execute_result"
    }
   ],
   "source": [
    "data.head(15)"
   ]
  },
  {
   "cell_type": "markdown",
   "metadata": {},
   "source": [
    "**Вот и наша таблица**\n",
    "\n",
    "Уже вижу много проблем с ней, предстоит их устранить"
   ]
  },
  {
   "cell_type": "code",
   "execution_count": 6,
   "metadata": {},
   "outputs": [
    {
     "name": "stdout",
     "output_type": "stream",
     "text": [
      "<class 'pandas.core.frame.DataFrame'>\n",
      "RangeIndex: 16715 entries, 0 to 16714\n",
      "Data columns (total 11 columns):\n",
      " #   Column           Non-Null Count  Dtype  \n",
      "---  ------           --------------  -----  \n",
      " 0   Name             16713 non-null  object \n",
      " 1   Platform         16715 non-null  object \n",
      " 2   Year_of_Release  16446 non-null  float64\n",
      " 3   Genre            16713 non-null  object \n",
      " 4   NA_sales         16715 non-null  float64\n",
      " 5   EU_sales         16715 non-null  float64\n",
      " 6   JP_sales         16715 non-null  float64\n",
      " 7   Other_sales      16715 non-null  float64\n",
      " 8   Critic_Score     8137 non-null   float64\n",
      " 9   User_Score       10014 non-null  object \n",
      " 10  Rating           9949 non-null   object \n",
      "dtypes: float64(6), object(5)\n",
      "memory usage: 1.4+ MB\n"
     ]
    }
   ],
   "source": [
    "data.info()"
   ]
  },
  {
   "cell_type": "markdown",
   "metadata": {},
   "source": [
    "**Что не так**\n",
    "\n",
    "- Название столбцов не придерижваются одного стиля - итог, неудобно обращаться с столбцам, могут возникнуть ошибки из-за человеческого фатора\n",
    "- Неправильный тип данных, например год выхода - итог, можно прийти к ошибке в подсчетах, а float занимает больше места, чем int хроня год\n",
    "- Очень много пропусков - итог - результаты анализа могут и скорее всего будут искожать действительность\n"
   ]
  },
  {
   "cell_type": "markdown",
   "metadata": {},
   "source": [
    "<h2>Предобратка данных</h2>"
   ]
  },
  {
   "cell_type": "markdown",
   "metadata": {},
   "source": [
    "Для дальнейшего анализа приведем датасет в порядок, устраним то, о чем я писал выше"
   ]
  },
  {
   "cell_type": "markdown",
   "metadata": {},
   "source": [
    "**3.1 Название столбцов**"
   ]
  },
  {
   "cell_type": "code",
   "execution_count": 7,
   "metadata": {},
   "outputs": [
    {
     "name": "stdout",
     "output_type": "stream",
     "text": [
      "<class 'pandas.core.frame.DataFrame'>\n",
      "RangeIndex: 16715 entries, 0 to 16714\n",
      "Data columns (total 11 columns):\n",
      " #   Column           Non-Null Count  Dtype  \n",
      "---  ------           --------------  -----  \n",
      " 0   name             16713 non-null  object \n",
      " 1   platform         16715 non-null  object \n",
      " 2   year_of_release  16446 non-null  float64\n",
      " 3   genre            16713 non-null  object \n",
      " 4   NA_sales         16715 non-null  float64\n",
      " 5   EU_sales         16715 non-null  float64\n",
      " 6   JP_sales         16715 non-null  float64\n",
      " 7   Other_sales      16715 non-null  float64\n",
      " 8   critic_score     8137 non-null   float64\n",
      " 9   user_score       10014 non-null  object \n",
      " 10  rating           9949 non-null   object \n",
      "dtypes: float64(6), object(5)\n",
      "memory usage: 1.4+ MB\n"
     ]
    }
   ],
   "source": [
    "data.rename(columns = {'Name':'name', 'Platform':'platform' ,'Year_of_Release':'year_of_release',\n",
    "                       ' other_sales':'other_sales','Critic_Score':'critic_score','User_Score':'user_score',\n",
    "                       'Genre':'genre', 'Rating':'rating'}, inplace = True)\n",
    "data.info()"
   ]
  },
  {
   "cell_type": "markdown",
   "metadata": {},
   "source": [
    "Столбцы переименованы, займемся пропусками"
   ]
  },
  {
   "cell_type": "markdown",
   "metadata": {},
   "source": [
    "**3.2 Пропуски**"
   ]
  },
  {
   "cell_type": "code",
   "execution_count": 8,
   "metadata": {},
   "outputs": [
    {
     "data": {
      "text/plain": [
       "name                  2\n",
       "platform              0\n",
       "year_of_release     269\n",
       "genre                 2\n",
       "NA_sales              0\n",
       "EU_sales              0\n",
       "JP_sales              0\n",
       "Other_sales           0\n",
       "critic_score       8578\n",
       "user_score         6701\n",
       "rating             6766\n",
       "dtype: int64"
      ]
     },
     "execution_count": 8,
     "metadata": {},
     "output_type": "execute_result"
    }
   ],
   "source": [
    "data.isna().sum()"
   ]
  },
  {
   "cell_type": "code",
   "execution_count": 9,
   "metadata": {},
   "outputs": [
    {
     "data": {
      "text/html": [
       "<div>\n",
       "<style scoped>\n",
       "    .dataframe tbody tr th:only-of-type {\n",
       "        vertical-align: middle;\n",
       "    }\n",
       "\n",
       "    .dataframe tbody tr th {\n",
       "        vertical-align: top;\n",
       "    }\n",
       "\n",
       "    .dataframe thead th {\n",
       "        text-align: right;\n",
       "    }\n",
       "</style>\n",
       "<table border=\"1\" class=\"dataframe\">\n",
       "  <thead>\n",
       "    <tr style=\"text-align: right;\">\n",
       "      <th></th>\n",
       "      <th>name</th>\n",
       "      <th>platform</th>\n",
       "      <th>year_of_release</th>\n",
       "      <th>genre</th>\n",
       "      <th>NA_sales</th>\n",
       "      <th>EU_sales</th>\n",
       "      <th>JP_sales</th>\n",
       "      <th>Other_sales</th>\n",
       "      <th>critic_score</th>\n",
       "      <th>user_score</th>\n",
       "      <th>rating</th>\n",
       "    </tr>\n",
       "  </thead>\n",
       "  <tbody>\n",
       "    <tr>\n",
       "      <th>659</th>\n",
       "      <td>NaN</td>\n",
       "      <td>GEN</td>\n",
       "      <td>1993.0</td>\n",
       "      <td>NaN</td>\n",
       "      <td>1.78</td>\n",
       "      <td>0.53</td>\n",
       "      <td>0.00</td>\n",
       "      <td>0.08</td>\n",
       "      <td>NaN</td>\n",
       "      <td>NaN</td>\n",
       "      <td>NaN</td>\n",
       "    </tr>\n",
       "    <tr>\n",
       "      <th>14244</th>\n",
       "      <td>NaN</td>\n",
       "      <td>GEN</td>\n",
       "      <td>1993.0</td>\n",
       "      <td>NaN</td>\n",
       "      <td>0.00</td>\n",
       "      <td>0.00</td>\n",
       "      <td>0.03</td>\n",
       "      <td>0.00</td>\n",
       "      <td>NaN</td>\n",
       "      <td>NaN</td>\n",
       "      <td>NaN</td>\n",
       "    </tr>\n",
       "  </tbody>\n",
       "</table>\n",
       "</div>"
      ],
      "text/plain": [
       "      name platform  year_of_release genre  NA_sales  EU_sales  JP_sales  \\\n",
       "659    NaN      GEN           1993.0   NaN      1.78      0.53      0.00   \n",
       "14244  NaN      GEN           1993.0   NaN      0.00      0.00      0.03   \n",
       "\n",
       "       Other_sales  critic_score user_score rating  \n",
       "659           0.08           NaN        NaN    NaN  \n",
       "14244         0.00           NaN        NaN    NaN  "
      ]
     },
     "execution_count": 9,
     "metadata": {},
     "output_type": "execute_result"
    }
   ],
   "source": [
    "data[data['name'].isna()]"
   ]
  },
  {
   "cell_type": "markdown",
   "metadata": {},
   "source": [
    "Эти 2 строчки можно удалить, по ним сложно сказать, что за игра. На результат уделение 2 строков никак не повлияет"
   ]
  },
  {
   "cell_type": "code",
   "execution_count": 10,
   "metadata": {},
   "outputs": [],
   "source": [
    "data = data.dropna(subset = ['name'])"
   ]
  },
  {
   "cell_type": "code",
   "execution_count": 12,
   "metadata": {},
   "outputs": [
    {
     "data": {
      "text/html": [
       "<div>\n",
       "<style scoped>\n",
       "    .dataframe tbody tr th:only-of-type {\n",
       "        vertical-align: middle;\n",
       "    }\n",
       "\n",
       "    .dataframe tbody tr th {\n",
       "        vertical-align: top;\n",
       "    }\n",
       "\n",
       "    .dataframe thead th {\n",
       "        text-align: right;\n",
       "    }\n",
       "</style>\n",
       "<table border=\"1\" class=\"dataframe\">\n",
       "  <thead>\n",
       "    <tr style=\"text-align: right;\">\n",
       "      <th></th>\n",
       "      <th>name</th>\n",
       "      <th>platform</th>\n",
       "      <th>year_of_release</th>\n",
       "      <th>genre</th>\n",
       "      <th>NA_sales</th>\n",
       "      <th>EU_sales</th>\n",
       "      <th>JP_sales</th>\n",
       "      <th>Other_sales</th>\n",
       "      <th>critic_score</th>\n",
       "      <th>user_score</th>\n",
       "      <th>rating</th>\n",
       "    </tr>\n",
       "  </thead>\n",
       "  <tbody>\n",
       "    <tr>\n",
       "      <th>183</th>\n",
       "      <td>Madden NFL 2004</td>\n",
       "      <td>PS2</td>\n",
       "      <td>NaN</td>\n",
       "      <td>Sports</td>\n",
       "      <td>4.26</td>\n",
       "      <td>0.26</td>\n",
       "      <td>0.01</td>\n",
       "      <td>0.71</td>\n",
       "      <td>94.0</td>\n",
       "      <td>8.5</td>\n",
       "      <td>E</td>\n",
       "    </tr>\n",
       "    <tr>\n",
       "      <th>377</th>\n",
       "      <td>FIFA Soccer 2004</td>\n",
       "      <td>PS2</td>\n",
       "      <td>NaN</td>\n",
       "      <td>Sports</td>\n",
       "      <td>0.59</td>\n",
       "      <td>2.36</td>\n",
       "      <td>0.04</td>\n",
       "      <td>0.51</td>\n",
       "      <td>84.0</td>\n",
       "      <td>6.4</td>\n",
       "      <td>E</td>\n",
       "    </tr>\n",
       "    <tr>\n",
       "      <th>456</th>\n",
       "      <td>LEGO Batman: The Videogame</td>\n",
       "      <td>Wii</td>\n",
       "      <td>NaN</td>\n",
       "      <td>Action</td>\n",
       "      <td>1.80</td>\n",
       "      <td>0.97</td>\n",
       "      <td>0.00</td>\n",
       "      <td>0.29</td>\n",
       "      <td>74.0</td>\n",
       "      <td>7.9</td>\n",
       "      <td>E10+</td>\n",
       "    </tr>\n",
       "    <tr>\n",
       "      <th>475</th>\n",
       "      <td>wwe Smackdown vs. Raw 2006</td>\n",
       "      <td>PS2</td>\n",
       "      <td>NaN</td>\n",
       "      <td>Fighting</td>\n",
       "      <td>1.57</td>\n",
       "      <td>1.02</td>\n",
       "      <td>0.00</td>\n",
       "      <td>0.41</td>\n",
       "      <td>NaN</td>\n",
       "      <td>NaN</td>\n",
       "      <td>NaN</td>\n",
       "    </tr>\n",
       "    <tr>\n",
       "      <th>609</th>\n",
       "      <td>Space Invaders</td>\n",
       "      <td>2600</td>\n",
       "      <td>NaN</td>\n",
       "      <td>Shooter</td>\n",
       "      <td>2.36</td>\n",
       "      <td>0.14</td>\n",
       "      <td>0.00</td>\n",
       "      <td>0.03</td>\n",
       "      <td>NaN</td>\n",
       "      <td>NaN</td>\n",
       "      <td>NaN</td>\n",
       "    </tr>\n",
       "    <tr>\n",
       "      <th>...</th>\n",
       "      <td>...</td>\n",
       "      <td>...</td>\n",
       "      <td>...</td>\n",
       "      <td>...</td>\n",
       "      <td>...</td>\n",
       "      <td>...</td>\n",
       "      <td>...</td>\n",
       "      <td>...</td>\n",
       "      <td>...</td>\n",
       "      <td>...</td>\n",
       "      <td>...</td>\n",
       "    </tr>\n",
       "    <tr>\n",
       "      <th>16373</th>\n",
       "      <td>PDC World Championship Darts 2008</td>\n",
       "      <td>PSP</td>\n",
       "      <td>NaN</td>\n",
       "      <td>Sports</td>\n",
       "      <td>0.01</td>\n",
       "      <td>0.00</td>\n",
       "      <td>0.00</td>\n",
       "      <td>0.00</td>\n",
       "      <td>43.0</td>\n",
       "      <td>tbd</td>\n",
       "      <td>E10+</td>\n",
       "    </tr>\n",
       "    <tr>\n",
       "      <th>16405</th>\n",
       "      <td>Freaky Flyers</td>\n",
       "      <td>GC</td>\n",
       "      <td>NaN</td>\n",
       "      <td>Racing</td>\n",
       "      <td>0.01</td>\n",
       "      <td>0.00</td>\n",
       "      <td>0.00</td>\n",
       "      <td>0.00</td>\n",
       "      <td>69.0</td>\n",
       "      <td>6.5</td>\n",
       "      <td>T</td>\n",
       "    </tr>\n",
       "    <tr>\n",
       "      <th>16448</th>\n",
       "      <td>Inversion</td>\n",
       "      <td>PC</td>\n",
       "      <td>NaN</td>\n",
       "      <td>Shooter</td>\n",
       "      <td>0.01</td>\n",
       "      <td>0.00</td>\n",
       "      <td>0.00</td>\n",
       "      <td>0.00</td>\n",
       "      <td>59.0</td>\n",
       "      <td>6.7</td>\n",
       "      <td>M</td>\n",
       "    </tr>\n",
       "    <tr>\n",
       "      <th>16458</th>\n",
       "      <td>Hakuouki: Shinsengumi Kitan</td>\n",
       "      <td>PS3</td>\n",
       "      <td>NaN</td>\n",
       "      <td>Adventure</td>\n",
       "      <td>0.01</td>\n",
       "      <td>0.00</td>\n",
       "      <td>0.00</td>\n",
       "      <td>0.00</td>\n",
       "      <td>NaN</td>\n",
       "      <td>NaN</td>\n",
       "      <td>NaN</td>\n",
       "    </tr>\n",
       "    <tr>\n",
       "      <th>16522</th>\n",
       "      <td>Virtua Quest</td>\n",
       "      <td>GC</td>\n",
       "      <td>NaN</td>\n",
       "      <td>Role-Playing</td>\n",
       "      <td>0.01</td>\n",
       "      <td>0.00</td>\n",
       "      <td>0.00</td>\n",
       "      <td>0.00</td>\n",
       "      <td>55.0</td>\n",
       "      <td>5.5</td>\n",
       "      <td>T</td>\n",
       "    </tr>\n",
       "  </tbody>\n",
       "</table>\n",
       "<p>269 rows × 11 columns</p>\n",
       "</div>"
      ],
      "text/plain": [
       "                                    name platform  year_of_release  \\\n",
       "183                      Madden NFL 2004      PS2              NaN   \n",
       "377                     FIFA Soccer 2004      PS2              NaN   \n",
       "456           LEGO Batman: The Videogame      Wii              NaN   \n",
       "475           wwe Smackdown vs. Raw 2006      PS2              NaN   \n",
       "609                       Space Invaders     2600              NaN   \n",
       "...                                  ...      ...              ...   \n",
       "16373  PDC World Championship Darts 2008      PSP              NaN   \n",
       "16405                      Freaky Flyers       GC              NaN   \n",
       "16448                          Inversion       PC              NaN   \n",
       "16458        Hakuouki: Shinsengumi Kitan      PS3              NaN   \n",
       "16522                       Virtua Quest       GC              NaN   \n",
       "\n",
       "              genre  NA_sales  EU_sales  JP_sales  Other_sales  critic_score  \\\n",
       "183          Sports      4.26      0.26      0.01         0.71          94.0   \n",
       "377          Sports      0.59      2.36      0.04         0.51          84.0   \n",
       "456          Action      1.80      0.97      0.00         0.29          74.0   \n",
       "475        Fighting      1.57      1.02      0.00         0.41           NaN   \n",
       "609         Shooter      2.36      0.14      0.00         0.03           NaN   \n",
       "...             ...       ...       ...       ...          ...           ...   \n",
       "16373        Sports      0.01      0.00      0.00         0.00          43.0   \n",
       "16405        Racing      0.01      0.00      0.00         0.00          69.0   \n",
       "16448       Shooter      0.01      0.00      0.00         0.00          59.0   \n",
       "16458     Adventure      0.01      0.00      0.00         0.00           NaN   \n",
       "16522  Role-Playing      0.01      0.00      0.00         0.00          55.0   \n",
       "\n",
       "      user_score rating  \n",
       "183          8.5      E  \n",
       "377          6.4      E  \n",
       "456          7.9   E10+  \n",
       "475          NaN    NaN  \n",
       "609          NaN    NaN  \n",
       "...          ...    ...  \n",
       "16373        tbd   E10+  \n",
       "16405        6.5      T  \n",
       "16448        6.7      M  \n",
       "16458        NaN    NaN  \n",
       "16522        5.5      T  \n",
       "\n",
       "[269 rows x 11 columns]"
      ]
     },
     "execution_count": 12,
     "metadata": {},
     "output_type": "execute_result"
    }
   ],
   "source": [
    "data[data['year_of_release'].isna()]"
   ]
  },
  {
   "cell_type": "markdown",
   "metadata": {},
   "source": [
    "269 строк мы тоже можем удалить, однако зачастую игры выходят не на одну платформу, а сразу на несколько, правда, в настоящее время не всегда в один год, бывает с разницой в несколько лет. \n",
    "\n",
    "Выходит, даже если дать пропускам значения выхода на другую платформу, можно встретить те игры, где только 1 платформа, а можно встретить, где год выхода разный. Я принял решение удалить эти строки, тк удаление или частичное восстановление этих строк не изменят результаты итога, эти строки занимают слишком малый процент от всего датасета"
   ]
  },
  {
   "cell_type": "code",
   "execution_count": 13,
   "metadata": {},
   "outputs": [
    {
     "data": {
      "text/plain": [
       "name                  0\n",
       "platform              0\n",
       "year_of_release       0\n",
       "genre                 0\n",
       "NA_sales              0\n",
       "EU_sales              0\n",
       "JP_sales              0\n",
       "Other_sales           0\n",
       "critic_score       8461\n",
       "user_score         6605\n",
       "rating             6676\n",
       "dtype: int64"
      ]
     },
     "execution_count": 13,
     "metadata": {},
     "output_type": "execute_result"
    }
   ],
   "source": [
    "data = data.dropna(subset = ['year_of_release'])\n",
    "data.isna().sum()"
   ]
  },
  {
   "cell_type": "markdown",
   "metadata": {},
   "source": [
    "Что касается пользовательских оценок и оценок критиков, то их однозначно удалять нельзя. Но и заменить на медианные или средние нельзя, тк не факт, что игры работают одинаково на всех платформах. Заменить на другое значение тоже не вариант, если это сделать, но собьются графики распределений по оценкам, а боксплот покажет много значений, например -1, если мы заменим на это значение\n",
    "\n",
    "Думаю, оставим так\n",
    "\n"
   ]
  },
  {
   "cell_type": "markdown",
   "metadata": {},
   "source": [
    "На первый взгяд, в датасете много значений  TBD (to be determined = будет определено). Проверю"
   ]
  },
  {
   "cell_type": "code",
   "execution_count": 14,
   "metadata": {},
   "outputs": [
    {
     "data": {
      "text/plain": [
       "0.14449039163220628"
      ]
     },
     "execution_count": 14,
     "metadata": {},
     "output_type": "execute_result"
    }
   ],
   "source": [
    "len(data[data['user_score'] == 'tbd'])/len(data)"
   ]
  },
  {
   "cell_type": "markdown",
   "metadata": {},
   "source": [
    "Так и есть, заменим на пропуск"
   ]
  },
  {
   "cell_type": "code",
   "execution_count": 25,
   "metadata": {},
   "outputs": [
    {
     "data": {
      "text/plain": [
       "name                  0\n",
       "platform              0\n",
       "year_of_release       0\n",
       "genre                 0\n",
       "NA_sales              0\n",
       "EU_sales              0\n",
       "JP_sales              0\n",
       "Other_sales           0\n",
       "critic_score       8461\n",
       "user_score         8981\n",
       "rating             6676\n",
       "dtype: int64"
      ]
     },
     "execution_count": 25,
     "metadata": {},
     "output_type": "execute_result"
    }
   ],
   "source": [
    "data['user_score'] = data['user_score'].replace('tbd', np.nan)\n",
    "data.isna().sum()"
   ]
  },
  {
   "cell_type": "markdown",
   "metadata": {},
   "source": [
    "Теперь за типы данных. Еще раз взглянем выше"
   ]
  },
  {
   "cell_type": "markdown",
   "metadata": {},
   "source": [
    "**3.2 Типы данных**"
   ]
  },
  {
   "cell_type": "code",
   "execution_count": 17,
   "metadata": {},
   "outputs": [
    {
     "name": "stdout",
     "output_type": "stream",
     "text": [
      "<class 'pandas.core.frame.DataFrame'>\n",
      "Int64Index: 16444 entries, 0 to 16714\n",
      "Data columns (total 11 columns):\n",
      " #   Column           Non-Null Count  Dtype  \n",
      "---  ------           --------------  -----  \n",
      " 0   name             16444 non-null  object \n",
      " 1   platform         16444 non-null  object \n",
      " 2   year_of_release  16444 non-null  int64  \n",
      " 3   genre            16444 non-null  object \n",
      " 4   NA_sales         16444 non-null  float64\n",
      " 5   EU_sales         16444 non-null  float64\n",
      " 6   JP_sales         16444 non-null  float64\n",
      " 7   Other_sales      16444 non-null  float64\n",
      " 8   critic_score     7983 non-null   float64\n",
      " 9   user_score       7463 non-null   float64\n",
      " 10  rating           9768 non-null   object \n",
      "dtypes: float64(6), int64(1), object(4)\n",
      "memory usage: 1.5+ MB\n"
     ]
    }
   ],
   "source": [
    "data['user_score'] = data['user_score'].astype('float')\n",
    "data['year_of_release'] = data['year_of_release'].astype('int')\n",
    "data.info()"
   ]
  },
  {
   "cell_type": "markdown",
   "metadata": {},
   "source": [
    "**3.4 Дубликаты**\n",
    "\n",
    "Посмотрим какие значения принимают данные"
   ]
  },
  {
   "cell_type": "code",
   "execution_count": 18,
   "metadata": {},
   "outputs": [
    {
     "data": {
      "text/plain": [
       "0"
      ]
     },
     "execution_count": 18,
     "metadata": {},
     "output_type": "execute_result"
    }
   ],
   "source": [
    "data.duplicated().sum()"
   ]
  },
  {
   "cell_type": "code",
   "execution_count": 19,
   "metadata": {},
   "outputs": [
    {
     "data": {
      "text/plain": [
       "['2600',\n",
       " '3DO',\n",
       " '3DS',\n",
       " 'DC',\n",
       " 'DS',\n",
       " 'GB',\n",
       " 'GBA',\n",
       " 'GC',\n",
       " 'GEN',\n",
       " 'GG',\n",
       " 'N64',\n",
       " 'NES',\n",
       " 'NG',\n",
       " 'PC',\n",
       " 'PCFX',\n",
       " 'PS',\n",
       " 'PS2',\n",
       " 'PS3',\n",
       " 'PS4',\n",
       " 'PSP',\n",
       " 'PSV',\n",
       " 'SAT',\n",
       " 'SCD',\n",
       " 'SNES',\n",
       " 'TG16',\n",
       " 'WS',\n",
       " 'Wii',\n",
       " 'WiiU',\n",
       " 'X360',\n",
       " 'XB',\n",
       " 'XOne']"
      ]
     },
     "execution_count": 19,
     "metadata": {},
     "output_type": "execute_result"
    }
   ],
   "source": [
    "sorted(data['platform'].unique())"
   ]
  },
  {
   "cell_type": "code",
   "execution_count": 20,
   "metadata": {},
   "outputs": [
    {
     "data": {
      "text/plain": [
       "array(['Sports', 'Platform', 'Racing', 'Role-Playing', 'Puzzle', 'Misc',\n",
       "       'Shooter', 'Simulation', 'Action', 'Fighting', 'Adventure',\n",
       "       'Strategy'], dtype=object)"
      ]
     },
     "execution_count": 20,
     "metadata": {},
     "output_type": "execute_result"
    }
   ],
   "source": [
    "data['genre'].unique()"
   ]
  },
  {
   "cell_type": "code",
   "execution_count": 21,
   "metadata": {},
   "outputs": [
    {
     "data": {
      "text/plain": [
       "array(['E', nan, 'M', 'T', 'E10+', 'K-A', 'AO', 'EC', 'RP'], dtype=object)"
      ]
     },
     "execution_count": 21,
     "metadata": {},
     "output_type": "execute_result"
    }
   ],
   "source": [
    "data['rating'].unique()"
   ]
  },
  {
   "cell_type": "markdown",
   "metadata": {},
   "source": [
    "Неявных дубликатов тоже нет"
   ]
  },
  {
   "cell_type": "code",
   "execution_count": 22,
   "metadata": {},
   "outputs": [
    {
     "data": {
      "text/plain": [
       "11426"
      ]
     },
     "execution_count": 22,
     "metadata": {},
     "output_type": "execute_result"
    }
   ],
   "source": [
    "len(data['name'].value_counts())\n"
   ]
  },
  {
   "cell_type": "code",
   "execution_count": 23,
   "metadata": {},
   "outputs": [
    {
     "data": {
      "text/plain": [
       "11426"
      ]
     },
     "execution_count": 23,
     "metadata": {},
     "output_type": "execute_result"
    }
   ],
   "source": [
    "len(data['name'].str.lower().value_counts())"
   ]
  },
  {
   "cell_type": "code",
   "execution_count": 24,
   "metadata": {},
   "outputs": [
    {
     "data": {
      "text/html": [
       "<div>\n",
       "<style scoped>\n",
       "    .dataframe tbody tr th:only-of-type {\n",
       "        vertical-align: middle;\n",
       "    }\n",
       "\n",
       "    .dataframe tbody tr th {\n",
       "        vertical-align: top;\n",
       "    }\n",
       "\n",
       "    .dataframe thead th {\n",
       "        text-align: right;\n",
       "    }\n",
       "</style>\n",
       "<table border=\"1\" class=\"dataframe\">\n",
       "  <thead>\n",
       "    <tr style=\"text-align: right;\">\n",
       "      <th></th>\n",
       "      <th>name</th>\n",
       "      <th>platform</th>\n",
       "      <th>year_of_release</th>\n",
       "      <th>count</th>\n",
       "    </tr>\n",
       "  </thead>\n",
       "  <tbody>\n",
       "    <tr>\n",
       "      <th>7652</th>\n",
       "      <td>Madden NFL 13</td>\n",
       "      <td>PS3</td>\n",
       "      <td>2012</td>\n",
       "      <td>2</td>\n",
       "    </tr>\n",
       "  </tbody>\n",
       "</table>\n",
       "</div>"
      ],
      "text/plain": [
       "               name platform  year_of_release  count\n",
       "7652  Madden NFL 13      PS3             2012      2"
      ]
     },
     "execution_count": 24,
     "metadata": {},
     "output_type": "execute_result"
    }
   ],
   "source": [
    "duplicates = data.groupby(['name', 'platform', 'year_of_release']).agg('size').reset_index(name='count')\n",
    "duplicates[duplicates['count']> 1]"
   ]
  },
  {
   "cell_type": "markdown",
   "metadata": {},
   "source": [
    "Вот наш неявный дубликат"
   ]
  },
  {
   "cell_type": "code",
   "execution_count": 23,
   "metadata": {},
   "outputs": [
    {
     "data": {
      "text/plain": [
       "16444"
      ]
     },
     "execution_count": 23,
     "metadata": {},
     "output_type": "execute_result"
    }
   ],
   "source": [
    "\n",
    "data.shape[0]"
   ]
  },
  {
   "cell_type": "code",
   "execution_count": 24,
   "metadata": {},
   "outputs": [
    {
     "data": {
      "text/plain": [
       "16443"
      ]
     },
     "execution_count": 24,
     "metadata": {},
     "output_type": "execute_result"
    }
   ],
   "source": [
    "data = data.drop_duplicates(subset=['name', 'platform', 'year_of_release'])\n",
    "data.shape[0]"
   ]
  },
  {
   "cell_type": "markdown",
   "metadata": {},
   "source": [
    "**3.5 Диапазоны значений**"
   ]
  },
  {
   "cell_type": "markdown",
   "metadata": {},
   "source": [
    "Осталось посмотреть, в каких пределах лежат числовые значения, может тут есть неправдоподобные значения"
   ]
  },
  {
   "cell_type": "code",
   "execution_count": 26,
   "metadata": {},
   "outputs": [
    {
     "data": {
      "text/plain": [
       "count    16444.000000\n",
       "mean      2006.486256\n",
       "std          5.875525\n",
       "min       1980.000000\n",
       "25%       2003.000000\n",
       "50%       2007.000000\n",
       "75%       2010.000000\n",
       "max       2016.000000\n",
       "Name: year_of_release, dtype: float64"
      ]
     },
     "execution_count": 26,
     "metadata": {},
     "output_type": "execute_result"
    }
   ],
   "source": [
    "data['year_of_release'].describe()"
   ]
  },
  {
   "cell_type": "markdown",
   "metadata": {},
   "source": [
    "Правый край равен 2016, это верно, так и должно быть. Остальные значения выглядят нормально"
   ]
  },
  {
   "cell_type": "code",
   "execution_count": 27,
   "metadata": {},
   "outputs": [
    {
     "data": {
      "text/plain": [
       "count    16444.000000\n",
       "mean         0.264012\n",
       "std          0.818378\n",
       "min          0.000000\n",
       "25%          0.000000\n",
       "50%          0.080000\n",
       "75%          0.240000\n",
       "max         41.360000\n",
       "Name: NA_sales, dtype: float64"
      ]
     },
     "execution_count": 27,
     "metadata": {},
     "output_type": "execute_result"
    }
   ],
   "source": [
    "data['NA_sales'].describe()"
   ]
  },
  {
   "cell_type": "code",
   "execution_count": 28,
   "metadata": {},
   "outputs": [
    {
     "data": {
      "text/plain": [
       "count    16444.000000\n",
       "mean         0.145930\n",
       "std          0.506716\n",
       "min          0.000000\n",
       "25%          0.000000\n",
       "50%          0.020000\n",
       "75%          0.110000\n",
       "max         28.960000\n",
       "Name: EU_sales, dtype: float64"
      ]
     },
     "execution_count": 28,
     "metadata": {},
     "output_type": "execute_result"
    }
   ],
   "source": [
    "data['EU_sales'].describe()"
   ]
  },
  {
   "cell_type": "code",
   "execution_count": 29,
   "metadata": {},
   "outputs": [
    {
     "data": {
      "text/plain": [
       "count    16444.000000\n",
       "mean         0.078487\n",
       "std          0.311100\n",
       "min          0.000000\n",
       "25%          0.000000\n",
       "50%          0.000000\n",
       "75%          0.040000\n",
       "max         10.220000\n",
       "Name: JP_sales, dtype: float64"
      ]
     },
     "execution_count": 29,
     "metadata": {},
     "output_type": "execute_result"
    }
   ],
   "source": [
    "data['JP_sales'].describe()"
   ]
  },
  {
   "cell_type": "code",
   "execution_count": 30,
   "metadata": {},
   "outputs": [
    {
     "data": {
      "text/plain": [
       "count    16444.000000\n",
       "mean         0.047594\n",
       "std          0.188005\n",
       "min          0.000000\n",
       "25%          0.000000\n",
       "50%          0.010000\n",
       "75%          0.030000\n",
       "max         10.570000\n",
       "Name: Other_sales, dtype: float64"
      ]
     },
     "execution_count": 30,
     "metadata": {},
     "output_type": "execute_result"
    }
   ],
   "source": [
    "data['Other_sales'].describe()"
   ]
  },
  {
   "cell_type": "markdown",
   "metadata": {},
   "source": [
    "По продаж тоже все правдободобно, без аномалии"
   ]
  },
  {
   "cell_type": "code",
   "execution_count": 31,
   "metadata": {},
   "outputs": [
    {
     "data": {
      "text/plain": [
       "count    7983.000000\n",
       "mean       68.994363\n",
       "std        13.920060\n",
       "min        13.000000\n",
       "25%        60.000000\n",
       "50%        71.000000\n",
       "75%        79.000000\n",
       "max        98.000000\n",
       "Name: critic_score, dtype: float64"
      ]
     },
     "execution_count": 31,
     "metadata": {},
     "output_type": "execute_result"
    }
   ],
   "source": [
    "data['critic_score'].describe()\n"
   ]
  },
  {
   "cell_type": "code",
   "execution_count": 32,
   "metadata": {},
   "outputs": [
    {
     "data": {
      "text/plain": [
       "count    7463.000000\n",
       "mean        7.126330\n",
       "std         1.499447\n",
       "min         0.000000\n",
       "25%         6.400000\n",
       "50%         7.500000\n",
       "75%         8.200000\n",
       "max         9.700000\n",
       "Name: user_score, dtype: float64"
      ]
     },
     "execution_count": 32,
     "metadata": {},
     "output_type": "execute_result"
    }
   ],
   "source": [
    "data['user_score'].describe()"
   ]
  },
  {
   "cell_type": "markdown",
   "metadata": {},
   "source": [
    "Все выглядит неплохо, можно заметить, что критики оценивают по 100 балльной шкале, можно точно убедиться, что все так оценивают и нет оценки 10 балльной шкале по мин. показателю равному 13. А пользователь оценивают по 10 балльной. Анологично, в подтверждение этому - макс. 9.7"
   ]
  },
  {
   "cell_type": "markdown",
   "metadata": {},
   "source": [
    "**Итог**\n",
    "\n",
    "- Столбцы переименованы и имееют один общий стиль названия\n",
    "- Тип данных изменен \n",
    "- Где можно было, устранены пропуски, если нет - объясненно по какой причине нет\n",
    "- Дубликатов не обнаруженно\n",
    "- Значения правдоподобны, аномалии не обонаружены"
   ]
  },
  {
   "cell_type": "code",
   "execution_count": 33,
   "metadata": {},
   "outputs": [
    {
     "name": "stdout",
     "output_type": "stream",
     "text": [
      "<class 'pandas.core.frame.DataFrame'>\n",
      "Int64Index: 16444 entries, 0 to 16714\n",
      "Data columns (total 11 columns):\n",
      " #   Column           Non-Null Count  Dtype  \n",
      "---  ------           --------------  -----  \n",
      " 0   name             16444 non-null  object \n",
      " 1   platform         16444 non-null  object \n",
      " 2   year_of_release  16444 non-null  int64  \n",
      " 3   genre            16444 non-null  object \n",
      " 4   NA_sales         16444 non-null  float64\n",
      " 5   EU_sales         16444 non-null  float64\n",
      " 6   JP_sales         16444 non-null  float64\n",
      " 7   Other_sales      16444 non-null  float64\n",
      " 8   critic_score     7983 non-null   float64\n",
      " 9   user_score       7463 non-null   float64\n",
      " 10  rating           9768 non-null   object \n",
      "dtypes: float64(6), int64(1), object(4)\n",
      "memory usage: 1.5+ MB\n",
      "None\n",
      "-------------------------\n",
      "name [' Beyblade Burst' ' Fire Emblem Fates' \" Frozen: Olaf's Quest\" ...\n",
      " 'uDraw Studio' 'uDraw Studio: Instant Artist'\n",
      " '¡Shin Chan Flipa en colores!']\n",
      "name : кол-во NaN 0 , процент NaN 0.0 %\n",
      "-------------------------\n",
      "platform ['2600' '3DO' '3DS' 'DC' 'DS' 'GB' 'GBA' 'GC' 'GEN' 'GG' 'N64' 'NES' 'NG'\n",
      " 'PC' 'PCFX' 'PS' 'PS2' 'PS3' 'PS4' 'PSP' 'PSV' 'SAT' 'SCD' 'SNES' 'TG16'\n",
      " 'WS' 'Wii' 'WiiU' 'X360' 'XB' 'XOne']\n",
      "platform : кол-во NaN 0 , процент NaN 0.0 %\n",
      "-------------------------\n",
      "year_of_release [1980 1981 1982 1983 1984 1985 1986 1987 1988 1989 1990 1991 1992 1993\n",
      " 1994 1995 1996 1997 1998 1999 2000 2001 2002 2003 2004 2005 2006 2007\n",
      " 2008 2009 2010 2011 2012 2013 2014 2015 2016]\n",
      "year_of_release : кол-во NaN 0 , процент NaN 0.0 %\n",
      "-------------------------\n",
      "genre ['Action' 'Adventure' 'Fighting' 'Misc' 'Platform' 'Puzzle' 'Racing'\n",
      " 'Role-Playing' 'Shooter' 'Simulation' 'Sports' 'Strategy']\n",
      "genre : кол-во NaN 0 , процент NaN 0.0 %\n",
      "-------------------------\n",
      "critic_score [13. 17. 19. 20. 21. 23. 24. 25. 26. 27. 28. 29. 30. 31. 32. 33. 34. 35.\n",
      " 36. 37. 38. 39. 40. 41. 42. 43. 44. 45. 46. 47. 48. 49. 50. 51. 52. 53.\n",
      " 54. 55. 56. 57. 58. 59. 60. 61. 62. 63. 64. 65. 66. 67. 68. 69. 70. 71.\n",
      " 72. 73. 74. 75. 76. 77. 78. 79. 80. 81. 82. 83. 84. 85. 86. 87. 88. 89.\n",
      " 90. 91. 92. 93. 94. 95. 96. 97. 98. nan]\n",
      "critic_score : кол-во NaN 8461 , процент NaN 51.45 %\n",
      "-------------------------\n",
      "user_score [0.  0.2 0.3 0.5 0.6 0.7 0.9 1.  1.1 1.2 1.3 1.4 1.5 1.6 1.7 1.8 1.9 2.\n",
      " 2.1 2.2 2.3 2.4 2.5 2.6 2.7 2.8 2.9 3.  3.1 3.2 3.3 3.4 3.5 3.6 3.7 3.8\n",
      " 3.9 4.  4.1 4.2 4.3 4.4 4.5 4.6 4.7 4.8 4.9 5.  5.1 5.2 5.3 5.4 5.5 5.6\n",
      " 5.7 5.8 5.9 6.  6.1 6.2 6.3 6.4 6.5 6.6 6.7 6.8 6.9 7.  7.1 7.2 7.3 7.4\n",
      " 7.5 7.6 7.7 7.8 7.9 8.  8.1 8.2 8.3 8.4 8.5 8.6 8.7 8.8 8.9 9.  9.1 9.2\n",
      " 9.3 9.4 9.5 9.6 9.7 nan]\n",
      "user_score : кол-во NaN 8981 , процент NaN 54.62 %\n",
      "-------------------------\n",
      "rating ['AO' 'E' 'E10+' 'EC' 'K-A' 'M' 'RP' 'T' nan]\n",
      "rating : кол-во NaN 6676 , процент NaN 40.6 %\n"
     ]
    }
   ],
   "source": [
    "\n",
    "# Посмотрим, что осталось\n",
    "temp = data.copy() \n",
    "list_c = ['name', 'platform', 'year_of_release', 'genre', 'critic_score', 'user_score', 'rating']\n",
    "print(temp.info())\n",
    "for col_l in list_c:\n",
    "  print('-'* 25)\n",
    "  print(col_l, temp[col_l].sort_values().unique())\n",
    "  print(col_l,': кол-во NaN',temp[col_l].isna().sum(),\n",
    "        ', процент NaN', round(temp[col_l].isna().mean()*100,2),'%') "
   ]
  },
  {
   "cell_type": "code",
   "execution_count": 34,
   "metadata": {},
   "outputs": [
    {
     "data": {
      "text/plain": [
       "Unknown    6676\n",
       "E          3921\n",
       "T          2905\n",
       "M          1536\n",
       "E10+       1393\n",
       "EC            8\n",
       "K-A           3\n",
       "RP            1\n",
       "AO            1\n",
       "Name: rating, dtype: int64"
      ]
     },
     "execution_count": 34,
     "metadata": {},
     "output_type": "execute_result"
    }
   ],
   "source": [
    "data['rating'] = data['rating'].fillna('Unknown')\n",
    "data['rating'].value_counts()"
   ]
  },
  {
   "cell_type": "markdown",
   "metadata": {},
   "source": [
    "колонку с общими продажами созданию ниже"
   ]
  },
  {
   "cell_type": "markdown",
   "metadata": {},
   "source": [
    "<h2>Исследовательский анализ данных</h2>"
   ]
  },
  {
   "cell_type": "markdown",
   "metadata": {},
   "source": [
    "Посотрим как много игр выходило по годам"
   ]
  },
  {
   "cell_type": "code",
   "execution_count": 35,
   "metadata": {
    "scrolled": false
   },
   "outputs": [
    {
     "data": {
      "text/html": [
       "<div>\n",
       "<style scoped>\n",
       "    .dataframe tbody tr th:only-of-type {\n",
       "        vertical-align: middle;\n",
       "    }\n",
       "\n",
       "    .dataframe tbody tr th {\n",
       "        vertical-align: top;\n",
       "    }\n",
       "\n",
       "    .dataframe thead th {\n",
       "        text-align: right;\n",
       "    }\n",
       "</style>\n",
       "<table border=\"1\" class=\"dataframe\">\n",
       "  <thead>\n",
       "    <tr style=\"text-align: right;\">\n",
       "      <th></th>\n",
       "      <th>name</th>\n",
       "    </tr>\n",
       "    <tr>\n",
       "      <th>year_of_release</th>\n",
       "      <th></th>\n",
       "    </tr>\n",
       "  </thead>\n",
       "  <tbody>\n",
       "    <tr>\n",
       "      <th>1980</th>\n",
       "      <td>9</td>\n",
       "    </tr>\n",
       "    <tr>\n",
       "      <th>1981</th>\n",
       "      <td>46</td>\n",
       "    </tr>\n",
       "    <tr>\n",
       "      <th>1982</th>\n",
       "      <td>36</td>\n",
       "    </tr>\n",
       "    <tr>\n",
       "      <th>1983</th>\n",
       "      <td>17</td>\n",
       "    </tr>\n",
       "    <tr>\n",
       "      <th>1984</th>\n",
       "      <td>14</td>\n",
       "    </tr>\n",
       "    <tr>\n",
       "      <th>1985</th>\n",
       "      <td>14</td>\n",
       "    </tr>\n",
       "    <tr>\n",
       "      <th>1986</th>\n",
       "      <td>21</td>\n",
       "    </tr>\n",
       "    <tr>\n",
       "      <th>1987</th>\n",
       "      <td>16</td>\n",
       "    </tr>\n",
       "    <tr>\n",
       "      <th>1988</th>\n",
       "      <td>15</td>\n",
       "    </tr>\n",
       "    <tr>\n",
       "      <th>1989</th>\n",
       "      <td>17</td>\n",
       "    </tr>\n",
       "    <tr>\n",
       "      <th>1990</th>\n",
       "      <td>16</td>\n",
       "    </tr>\n",
       "    <tr>\n",
       "      <th>1991</th>\n",
       "      <td>41</td>\n",
       "    </tr>\n",
       "    <tr>\n",
       "      <th>1992</th>\n",
       "      <td>43</td>\n",
       "    </tr>\n",
       "    <tr>\n",
       "      <th>1993</th>\n",
       "      <td>60</td>\n",
       "    </tr>\n",
       "    <tr>\n",
       "      <th>1994</th>\n",
       "      <td>121</td>\n",
       "    </tr>\n",
       "    <tr>\n",
       "      <th>1995</th>\n",
       "      <td>219</td>\n",
       "    </tr>\n",
       "    <tr>\n",
       "      <th>1996</th>\n",
       "      <td>263</td>\n",
       "    </tr>\n",
       "    <tr>\n",
       "      <th>1997</th>\n",
       "      <td>289</td>\n",
       "    </tr>\n",
       "    <tr>\n",
       "      <th>1998</th>\n",
       "      <td>379</td>\n",
       "    </tr>\n",
       "    <tr>\n",
       "      <th>1999</th>\n",
       "      <td>338</td>\n",
       "    </tr>\n",
       "    <tr>\n",
       "      <th>2000</th>\n",
       "      <td>350</td>\n",
       "    </tr>\n",
       "    <tr>\n",
       "      <th>2001</th>\n",
       "      <td>482</td>\n",
       "    </tr>\n",
       "    <tr>\n",
       "      <th>2002</th>\n",
       "      <td>829</td>\n",
       "    </tr>\n",
       "    <tr>\n",
       "      <th>2003</th>\n",
       "      <td>775</td>\n",
       "    </tr>\n",
       "    <tr>\n",
       "      <th>2004</th>\n",
       "      <td>762</td>\n",
       "    </tr>\n",
       "    <tr>\n",
       "      <th>2005</th>\n",
       "      <td>939</td>\n",
       "    </tr>\n",
       "    <tr>\n",
       "      <th>2006</th>\n",
       "      <td>1006</td>\n",
       "    </tr>\n",
       "    <tr>\n",
       "      <th>2007</th>\n",
       "      <td>1197</td>\n",
       "    </tr>\n",
       "    <tr>\n",
       "      <th>2008</th>\n",
       "      <td>1427</td>\n",
       "    </tr>\n",
       "    <tr>\n",
       "      <th>2009</th>\n",
       "      <td>1426</td>\n",
       "    </tr>\n",
       "    <tr>\n",
       "      <th>2010</th>\n",
       "      <td>1255</td>\n",
       "    </tr>\n",
       "    <tr>\n",
       "      <th>2011</th>\n",
       "      <td>1136</td>\n",
       "    </tr>\n",
       "    <tr>\n",
       "      <th>2012</th>\n",
       "      <td>653</td>\n",
       "    </tr>\n",
       "    <tr>\n",
       "      <th>2013</th>\n",
       "      <td>544</td>\n",
       "    </tr>\n",
       "    <tr>\n",
       "      <th>2014</th>\n",
       "      <td>581</td>\n",
       "    </tr>\n",
       "    <tr>\n",
       "      <th>2015</th>\n",
       "      <td>606</td>\n",
       "    </tr>\n",
       "    <tr>\n",
       "      <th>2016</th>\n",
       "      <td>502</td>\n",
       "    </tr>\n",
       "  </tbody>\n",
       "</table>\n",
       "</div>"
      ],
      "text/plain": [
       "                 name\n",
       "year_of_release      \n",
       "1980                9\n",
       "1981               46\n",
       "1982               36\n",
       "1983               17\n",
       "1984               14\n",
       "1985               14\n",
       "1986               21\n",
       "1987               16\n",
       "1988               15\n",
       "1989               17\n",
       "1990               16\n",
       "1991               41\n",
       "1992               43\n",
       "1993               60\n",
       "1994              121\n",
       "1995              219\n",
       "1996              263\n",
       "1997              289\n",
       "1998              379\n",
       "1999              338\n",
       "2000              350\n",
       "2001              482\n",
       "2002              829\n",
       "2003              775\n",
       "2004              762\n",
       "2005              939\n",
       "2006             1006\n",
       "2007             1197\n",
       "2008             1427\n",
       "2009             1426\n",
       "2010             1255\n",
       "2011             1136\n",
       "2012              653\n",
       "2013              544\n",
       "2014              581\n",
       "2015              606\n",
       "2016              502"
      ]
     },
     "metadata": {},
     "output_type": "display_data"
    },
    {
     "data": {
      "image/png": "[encoded data removed]",
      "text/plain": [
       "<Figure size 432x288 with 1 Axes>"
      ]
     },
     "metadata": {
      "needs_background": "light"
     },
     "output_type": "display_data"
    }
   ],
   "source": [
    "display(data.groupby('year_of_release').agg({'name':'count'}))\n",
    "\n",
    "ax = data['year_of_release'].plot(kind='hist', bins=37,)\n",
    "\n",
    "ax.set_xlabel('Годы')\n",
    "ax.set_ylabel('Количество продаж')\n",
    "ax.set_title('История продаж игр по годам')\n",
    "\n",
    "plt.show()"
   ]
  },
  {
   "cell_type": "markdown",
   "metadata": {},
   "source": [
    "сделано"
   ]
  },
  {
   "cell_type": "markdown",
   "metadata": {},
   "source": [
    "Посмотрите, как менялись продажи по платформам. Выберите платформы с наибольшими суммарными продажами и постройте распределение по годам. За какой характерный срок появляются новые и исчезают старые платформы?"
   ]
  },
  {
   "cell_type": "markdown",
   "metadata": {},
   "source": [
    "Для этого найдем общие продажи для каждой игры, суммируя продажи всех регионов"
   ]
  },
  {
   "cell_type": "code",
   "execution_count": 36,
   "metadata": {},
   "outputs": [],
   "source": [
    "data['total_sales'] = data['NA_sales'] + data['EU_sales'] + data['JP_sales'] + data['Other_sales']"
   ]
  },
  {
   "cell_type": "code",
   "execution_count": 37,
   "metadata": {},
   "outputs": [
    {
     "data": {
      "text/html": [
       "<div>\n",
       "<style scoped>\n",
       "    .dataframe tbody tr th:only-of-type {\n",
       "        vertical-align: middle;\n",
       "    }\n",
       "\n",
       "    .dataframe tbody tr th {\n",
       "        vertical-align: top;\n",
       "    }\n",
       "\n",
       "    .dataframe thead th {\n",
       "        text-align: right;\n",
       "    }\n",
       "</style>\n",
       "<table border=\"1\" class=\"dataframe\">\n",
       "  <thead>\n",
       "    <tr style=\"text-align: right;\">\n",
       "      <th></th>\n",
       "      <th>name</th>\n",
       "      <th>platform</th>\n",
       "      <th>year_of_release</th>\n",
       "      <th>genre</th>\n",
       "      <th>NA_sales</th>\n",
       "      <th>EU_sales</th>\n",
       "      <th>JP_sales</th>\n",
       "      <th>Other_sales</th>\n",
       "      <th>critic_score</th>\n",
       "      <th>user_score</th>\n",
       "      <th>rating</th>\n",
       "      <th>total_sales</th>\n",
       "    </tr>\n",
       "  </thead>\n",
       "  <tbody>\n",
       "    <tr>\n",
       "      <th>0</th>\n",
       "      <td>Wii Sports</td>\n",
       "      <td>Wii</td>\n",
       "      <td>2006</td>\n",
       "      <td>Sports</td>\n",
       "      <td>41.36</td>\n",
       "      <td>28.96</td>\n",
       "      <td>3.77</td>\n",
       "      <td>8.45</td>\n",
       "      <td>76.0</td>\n",
       "      <td>8.0</td>\n",
       "      <td>E</td>\n",
       "      <td>82.54</td>\n",
       "    </tr>\n",
       "    <tr>\n",
       "      <th>1</th>\n",
       "      <td>Super Mario Bros.</td>\n",
       "      <td>NES</td>\n",
       "      <td>1985</td>\n",
       "      <td>Platform</td>\n",
       "      <td>29.08</td>\n",
       "      <td>3.58</td>\n",
       "      <td>6.81</td>\n",
       "      <td>0.77</td>\n",
       "      <td>NaN</td>\n",
       "      <td>NaN</td>\n",
       "      <td>Unknown</td>\n",
       "      <td>40.24</td>\n",
       "    </tr>\n",
       "    <tr>\n",
       "      <th>2</th>\n",
       "      <td>Mario Kart Wii</td>\n",
       "      <td>Wii</td>\n",
       "      <td>2008</td>\n",
       "      <td>Racing</td>\n",
       "      <td>15.68</td>\n",
       "      <td>12.76</td>\n",
       "      <td>3.79</td>\n",
       "      <td>3.29</td>\n",
       "      <td>82.0</td>\n",
       "      <td>8.3</td>\n",
       "      <td>E</td>\n",
       "      <td>35.52</td>\n",
       "    </tr>\n",
       "    <tr>\n",
       "      <th>3</th>\n",
       "      <td>Wii Sports Resort</td>\n",
       "      <td>Wii</td>\n",
       "      <td>2009</td>\n",
       "      <td>Sports</td>\n",
       "      <td>15.61</td>\n",
       "      <td>10.93</td>\n",
       "      <td>3.28</td>\n",
       "      <td>2.95</td>\n",
       "      <td>80.0</td>\n",
       "      <td>8.0</td>\n",
       "      <td>E</td>\n",
       "      <td>32.77</td>\n",
       "    </tr>\n",
       "    <tr>\n",
       "      <th>4</th>\n",
       "      <td>Pokemon Red/Pokemon Blue</td>\n",
       "      <td>GB</td>\n",
       "      <td>1996</td>\n",
       "      <td>Role-Playing</td>\n",
       "      <td>11.27</td>\n",
       "      <td>8.89</td>\n",
       "      <td>10.22</td>\n",
       "      <td>1.00</td>\n",
       "      <td>NaN</td>\n",
       "      <td>NaN</td>\n",
       "      <td>Unknown</td>\n",
       "      <td>31.38</td>\n",
       "    </tr>\n",
       "  </tbody>\n",
       "</table>\n",
       "</div>"
      ],
      "text/plain": [
       "                       name platform  year_of_release         genre  NA_sales  \\\n",
       "0                Wii Sports      Wii             2006        Sports     41.36   \n",
       "1         Super Mario Bros.      NES             1985      Platform     29.08   \n",
       "2            Mario Kart Wii      Wii             2008        Racing     15.68   \n",
       "3         Wii Sports Resort      Wii             2009        Sports     15.61   \n",
       "4  Pokemon Red/Pokemon Blue       GB             1996  Role-Playing     11.27   \n",
       "\n",
       "   EU_sales  JP_sales  Other_sales  critic_score  user_score   rating  \\\n",
       "0     28.96      3.77         8.45          76.0         8.0        E   \n",
       "1      3.58      6.81         0.77           NaN         NaN  Unknown   \n",
       "2     12.76      3.79         3.29          82.0         8.3        E   \n",
       "3     10.93      3.28         2.95          80.0         8.0        E   \n",
       "4      8.89     10.22         1.00           NaN         NaN  Unknown   \n",
       "\n",
       "   total_sales  \n",
       "0        82.54  \n",
       "1        40.24  \n",
       "2        35.52  \n",
       "3        32.77  \n",
       "4        31.38  "
      ]
     },
     "execution_count": 37,
     "metadata": {},
     "output_type": "execute_result"
    }
   ],
   "source": [
    "data.head()"
   ]
  },
  {
   "cell_type": "code",
   "execution_count": 38,
   "metadata": {},
   "outputs": [
    {
     "data": {
      "image/png": "[encoded data removed]",
      "text/plain": [
       "<Figure size 432x288 with 1 Axes>"
      ]
     },
     "metadata": {
      "needs_background": "light"
     },
     "output_type": "display_data"
    }
   ],
   "source": [
    "platform_sales = data.pivot_table(index='platform', values='total_sales', aggfunc='sum').sort_values('total_sales', ascending=False).plot(kind='bar')\n",
    "platform_sales.set_xlabel('Платформы')\n",
    "platform_sales.set_ylabel('Количество проданных игр')\n",
    "platform_sales.set_title('История продаж игр на каждую платформу')\n",
    "plt.show()"
   ]
  },
  {
   "cell_type": "markdown",
   "metadata": {},
   "source": [
    "Вот и наш список платформ с самыми большими продажами игр. Разберемся детальнее"
   ]
  },
  {
   "cell_type": "code",
   "execution_count": 39,
   "metadata": {},
   "outputs": [
    {
     "data": {
      "image/png": "[encoded data removed]",
      "text/plain": [
       "<Figure size 432x288 with 1 Axes>"
      ]
     },
     "metadata": {
      "needs_background": "light"
     },
     "output_type": "display_data"
    },
    {
     "data": {
      "image/png": "[encoded data removed]",
      "text/plain": [
       "<Figure size 432x288 with 1 Axes>"
      ]
     },
     "metadata": {
      "needs_background": "light"
     },
     "output_type": "display_data"
    },
    {
     "data": {
      "image/png": "[encoded data removed]",
      "text/plain": [
       "<Figure size 432x288 with 1 Axes>"
      ]
     },
     "metadata": {
      "needs_background": "light"
     },
     "output_type": "display_data"
    },
    {
     "data": {
      "image/png": "[encoded data removed]",
      "text/plain": [
       "<Figure size 432x288 with 1 Axes>"
      ]
     },
     "metadata": {
      "needs_background": "light"
     },
     "output_type": "display_data"
    },
    {
     "data": {
      "image/png": "[encoded data removed]",
      "text/plain": [
       "<Figure size 432x288 with 1 Axes>"
      ]
     },
     "metadata": {
      "needs_background": "light"
     },
     "output_type": "display_data"
    }
   ],
   "source": [
    "platforms = ['PS2', 'X360', 'PS3', 'Wii', 'DS']\n",
    "\n",
    "for i in platforms:\n",
    "    ax_platforms = data.query('platform == @i').pivot_table(index='year_of_release', values='total_sales', aggfunc='sum').plot(kind='bar')\n",
    "    ax_platforms.set_xlabel('Годы')\n",
    "    ax_platforms.set_ylabel('Количество продаж, млн')\n",
    "    ax_platforms.set_title('История продаж игр на' + i)\n",
    "    plt.show()\n",
    "    \n",
    "\n",
    "\n",
    "\n",
    "\n"
   ]
  },
  {
   "cell_type": "markdown",
   "metadata": {},
   "source": [
    "По графику видно, что продажи начали идти с 2000г, когда вышла сама консоль, а ближе к 11 идет на спад.\n",
    "\n",
    "у xbox360 продажи шли с 2005 по 2016, довольно большой диапазон для консоли\n",
    "\n",
    "PS3 начинает диапазон с 2006, примерно с этой точки и падают продажи на PS2, что логично, в 2016 почти нет продаж\n",
    "\n",
    "У Wii диапазон продаж такой же, как у 3 плойки. Но график находится в основном в правой части, значит изнчально продажи были сильно выше, чем"
   ]
  },
  {
   "cell_type": "code",
   "execution_count": 40,
   "metadata": {},
   "outputs": [
    {
     "data": {
      "text/html": [
       "<div>\n",
       "<style scoped>\n",
       "    .dataframe tbody tr th:only-of-type {\n",
       "        vertical-align: middle;\n",
       "    }\n",
       "\n",
       "    .dataframe tbody tr th {\n",
       "        vertical-align: top;\n",
       "    }\n",
       "\n",
       "    .dataframe thead th {\n",
       "        text-align: right;\n",
       "    }\n",
       "</style>\n",
       "<table border=\"1\" class=\"dataframe\">\n",
       "  <thead>\n",
       "    <tr style=\"text-align: right;\">\n",
       "      <th></th>\n",
       "      <th>name</th>\n",
       "      <th>platform</th>\n",
       "      <th>year_of_release</th>\n",
       "      <th>genre</th>\n",
       "      <th>NA_sales</th>\n",
       "      <th>EU_sales</th>\n",
       "      <th>JP_sales</th>\n",
       "      <th>Other_sales</th>\n",
       "      <th>critic_score</th>\n",
       "      <th>user_score</th>\n",
       "      <th>rating</th>\n",
       "      <th>total_sales</th>\n",
       "    </tr>\n",
       "  </thead>\n",
       "  <tbody>\n",
       "    <tr>\n",
       "      <th>15957</th>\n",
       "      <td>Strongest Tokyo University Shogi DS</td>\n",
       "      <td>DS</td>\n",
       "      <td>1985</td>\n",
       "      <td>Action</td>\n",
       "      <td>0.0</td>\n",
       "      <td>0.0</td>\n",
       "      <td>0.02</td>\n",
       "      <td>0.0</td>\n",
       "      <td>NaN</td>\n",
       "      <td>NaN</td>\n",
       "      <td>Unknown</td>\n",
       "      <td>0.02</td>\n",
       "    </tr>\n",
       "  </tbody>\n",
       "</table>\n",
       "</div>"
      ],
      "text/plain": [
       "                                      name platform  year_of_release   genre  \\\n",
       "15957  Strongest Tokyo University Shogi DS       DS             1985  Action   \n",
       "\n",
       "       NA_sales  EU_sales  JP_sales  Other_sales  critic_score  user_score  \\\n",
       "15957       0.0       0.0      0.02          0.0           NaN         NaN   \n",
       "\n",
       "        rating  total_sales  \n",
       "15957  Unknown         0.02  "
      ]
     },
     "execution_count": 40,
     "metadata": {},
     "output_type": "execute_result"
    }
   ],
   "source": [
    "data[(data['platform'] == 'DS') & (data['year_of_release'] == 1985)]"
   ]
  },
  {
   "cell_type": "markdown",
   "metadata": {},
   "source": [
    "ошибочная строка, удалим ее"
   ]
  },
  {
   "cell_type": "code",
   "execution_count": 41,
   "metadata": {},
   "outputs": [],
   "source": [
    "data = data.drop(15957)"
   ]
  },
  {
   "cell_type": "code",
   "execution_count": 42,
   "metadata": {},
   "outputs": [
    {
     "data": {
      "text/html": [
       "<div>\n",
       "<style scoped>\n",
       "    .dataframe tbody tr th:only-of-type {\n",
       "        vertical-align: middle;\n",
       "    }\n",
       "\n",
       "    .dataframe tbody tr th {\n",
       "        vertical-align: top;\n",
       "    }\n",
       "\n",
       "    .dataframe thead th {\n",
       "        text-align: right;\n",
       "    }\n",
       "</style>\n",
       "<table border=\"1\" class=\"dataframe\">\n",
       "  <thead>\n",
       "    <tr style=\"text-align: right;\">\n",
       "      <th></th>\n",
       "      <th>name</th>\n",
       "      <th>platform</th>\n",
       "      <th>year_of_release</th>\n",
       "      <th>genre</th>\n",
       "      <th>NA_sales</th>\n",
       "      <th>EU_sales</th>\n",
       "      <th>JP_sales</th>\n",
       "      <th>Other_sales</th>\n",
       "      <th>critic_score</th>\n",
       "      <th>user_score</th>\n",
       "      <th>rating</th>\n",
       "      <th>total_sales</th>\n",
       "    </tr>\n",
       "  </thead>\n",
       "  <tbody>\n",
       "  </tbody>\n",
       "</table>\n",
       "</div>"
      ],
      "text/plain": [
       "Empty DataFrame\n",
       "Columns: [name, platform, year_of_release, genre, NA_sales, EU_sales, JP_sales, Other_sales, critic_score, user_score, rating, total_sales]\n",
       "Index: []"
      ]
     },
     "execution_count": 42,
     "metadata": {},
     "output_type": "execute_result"
    }
   ],
   "source": [
    "data[(data['platform'] == 'DS') & (data['year_of_release'] == 1985)]"
   ]
  },
  {
   "cell_type": "markdown",
   "metadata": {},
   "source": [
    "Ошибка утранена. Сама DS пользовалась спросом с 2004 по 2008, а к 2012 практический полностью его потеряла"
   ]
  },
  {
   "cell_type": "markdown",
   "metadata": {},
   "source": [
    "**Жизненый цикл платформ**\n",
    "\n",
    "Как видно по графикам, в среднем продажи растут и находятся в топе в течении 7 лет. Столько и составляет жизненный цикл основных консолей PS и XBOX"
   ]
  },
  {
   "cell_type": "code",
   "execution_count": 43,
   "metadata": {},
   "outputs": [
    {
     "data": {
      "text/plain": [
       "7.0"
      ]
     },
     "execution_count": 43,
     "metadata": {},
     "output_type": "execute_result"
    }
   ],
   "source": [
    "\n",
    "temp = data.copy() \n",
    "time_life = temp.pivot_table(index='platform', values='year_of_release', aggfunc=['min', 'max']).reset_index()\n",
    "time_life['life'] = time_life['max'] - time_life['min'] + 1 # в срок жизни платформы, должны входить границы диапазона, \n",
    "                                                            # поэтому +1\n",
    "time_life['life'].median()"
   ]
  },
  {
   "cell_type": "markdown",
   "metadata": {},
   "source": [
    "**Какие платформы лидируют по продажам, растут или падают? **\n",
    "\n",
    "Для проверки этой задачи и для последующих, на результате которых мы сможем сделать вывод о успехах новых игр, я возьму только данные за последние 3 года. Старые данные нас не интересуют, рассматриваем с 2014года"
   ]
  },
  {
   "cell_type": "code",
   "execution_count": 44,
   "metadata": {},
   "outputs": [],
   "source": [
    "new_data = data.query('year_of_release >= 2014').copy()"
   ]
  },
  {
   "cell_type": "code",
   "execution_count": 45,
   "metadata": {},
   "outputs": [
    {
     "data": {
      "image/png": "[encoded data removed]",
      "text/plain": [
       "<Figure size 432x288 with 1 Axes>"
      ]
     },
     "metadata": {
      "needs_background": "light"
     },
     "output_type": "display_data"
    }
   ],
   "source": [
    "platform_sales_fresh = new_data.pivot_table(index='platform', values='total_sales', aggfunc='sum').sort_values('total_sales', ascending=False).plot(kind='bar')\n",
    "\n",
    "platform_sales_fresh.set_xlabel('Платформы')\n",
    "platform_sales_fresh.set_ylabel('Количество продаж, млн')\n",
    "platform_sales_fresh.set_title('История продаж игр на платформах 2014-2017')\n",
    "plt.show()"
   ]
  },
  {
   "cell_type": "markdown",
   "metadata": {},
   "source": [
    "**Постройте график «ящик с усами» по глобальным продажам игр в разбивке по платформам. Опишите результат.**"
   ]
  },
  {
   "cell_type": "code",
   "execution_count": 46,
   "metadata": {
    "scrolled": true
   },
   "outputs": [
    {
     "data": {
      "image/png": "[encoded data removed]",
      "text/plain": [
       "<Figure size 1440x720 with 1 Axes>"
      ]
     },
     "metadata": {
      "needs_background": "light"
     },
     "output_type": "display_data"
    }
   ],
   "source": [
    "fig = plt.figure(figsize = (20,10))\n",
    "sb.boxplot(data = new_data, y = 'total_sales', x='platform').set(title = 'Продажи по перспективным платформам за 2014-2016 гг', xlabel = 'Платформы', ylabel = 'Общие продажи', ylim=(0, 14))\n",
    "plt.show()"
   ]
  },
  {
   "cell_type": "code",
   "execution_count": 47,
   "metadata": {},
   "outputs": [
    {
     "data": {
      "image/png": "[encoded data removed]",
      "text/plain": [
       "<Figure size 432x288 with 1 Axes>"
      ]
     },
     "metadata": {
      "needs_background": "light"
     },
     "output_type": "display_data"
    }
   ],
   "source": [
    "sb.boxplot(data = new_data, y = 'total_sales', x='platform').set(title = 'Продажи по перспективным платформам за 2014-2016 гг', xlabel = 'Платформы', ylabel = 'Общие продажи', ylim=(0, 2))\n",
    "plt.show()"
   ]
  },
  {
   "cell_type": "markdown",
   "metadata": {},
   "source": [
    "Лидируют ps4 и xbox one, стоит так же учитывать, что на ПК расппространенно пиратсво, если в планах выпустить многопользовательскую игру, то стоит учитывать эту платформу на равне с первыми 2."
   ]
  },
  {
   "cell_type": "markdown",
   "metadata": {},
   "source": [
    "\n",
    "\n",
    "Посмотрите, как влияют на продажи внутри одной популярной платформы отзывы пользователей и критиков. Постройте диаграмму рассеяния и посчитайте корреляцию между отзывами и продажами. Сформулируйте выводы."
   ]
  },
  {
   "cell_type": "code",
   "execution_count": 48,
   "metadata": {},
   "outputs": [
    {
     "data": {
      "image/png": "[encoded data removed]",
      "text/plain": [
       "<Figure size 432x288 with 1 Axes>"
      ]
     },
     "metadata": {
      "needs_background": "light"
     },
     "output_type": "display_data"
    },
    {
     "data": {
      "image/png": "[encoded data removed]",
      "text/plain": [
       "<Figure size 432x288 with 1 Axes>"
      ]
     },
     "metadata": {
      "needs_background": "light"
     },
     "output_type": "display_data"
    }
   ],
   "source": [
    "ps4_crit = new_data.query('platform == \"PS4\"')\n",
    "ps4_crit[~(ps4_crit['critic_score'].isna())].plot(kind='scatter', x='critic_score', y='total_sales')\n",
    "ps4_crit[~(ps4_crit['user_score'].isna())].plot(kind='scatter', x='user_score', y='total_sales')\n",
    "plt.show()\n",
    "\n"
   ]
  },
  {
   "cell_type": "markdown",
   "metadata": {},
   "source": [
    "Исключив пропуски, можем посмотреть, как вляют оценки пользователей и критиков на кол-во продаж у игры. Для точного описания, посмотрим на коллеряцию"
   ]
  },
  {
   "cell_type": "code",
   "execution_count": 49,
   "metadata": {},
   "outputs": [
    {
     "data": {
      "text/plain": [
       "0.40266141068104083"
      ]
     },
     "execution_count": 49,
     "metadata": {},
     "output_type": "execute_result"
    }
   ],
   "source": [
    "ps4_crit['critic_score'].corr(ps4_crit['total_sales'])"
   ]
  },
  {
   "cell_type": "code",
   "execution_count": 50,
   "metadata": {},
   "outputs": [
    {
     "data": {
      "text/plain": [
       "-0.040131589472697356"
      ]
     },
     "execution_count": 50,
     "metadata": {},
     "output_type": "execute_result"
    }
   ],
   "source": [
    "ps4_crit['user_score'].corr(ps4_crit['total_sales'])"
   ]
  },
  {
   "cell_type": "markdown",
   "metadata": {},
   "source": [
    "Оценки пользователей никак не влияет на продажи игр. Оценка критиков влияет очень слабо, незначительно."
   ]
  },
  {
   "cell_type": "code",
   "execution_count": 51,
   "metadata": {},
   "outputs": [
    {
     "data": {
      "image/png": "[encoded data removed]",
      "text/plain": [
       "<Figure size 432x288 with 1 Axes>"
      ]
     },
     "metadata": {
      "needs_background": "light"
     },
     "output_type": "display_data"
    },
    {
     "data": {
      "image/png": "[encoded data removed]",
      "text/plain": [
       "<Figure size 432x288 with 1 Axes>"
      ]
     },
     "metadata": {
      "needs_background": "light"
     },
     "output_type": "display_data"
    }
   ],
   "source": [
    "XOne_crit = new_data.query('platform == \"XOne\"')\n",
    "XOne_crit[~(XOne_crit['critic_score'].isna())].plot(kind='scatter', x='critic_score', y='total_sales')\n",
    "XOne_crit[~(XOne_crit['user_score'].isna())].plot(kind='scatter', x='user_score', y='total_sales')\n",
    "plt.show()"
   ]
  },
  {
   "cell_type": "code",
   "execution_count": 52,
   "metadata": {},
   "outputs": [
    {
     "data": {
      "text/plain": [
       "0.42867694370333226"
      ]
     },
     "execution_count": 52,
     "metadata": {},
     "output_type": "execute_result"
    }
   ],
   "source": [
    "XOne_crit['critic_score'].corr(XOne_crit['total_sales'])"
   ]
  },
  {
   "cell_type": "code",
   "execution_count": 53,
   "metadata": {},
   "outputs": [
    {
     "data": {
      "text/plain": [
       "-0.0703839280647581"
      ]
     },
     "execution_count": 53,
     "metadata": {},
     "output_type": "execute_result"
    }
   ],
   "source": [
    "XOne_crit['user_score'].corr(XOne_crit['total_sales'])"
   ]
  },
  {
   "cell_type": "markdown",
   "metadata": {},
   "source": [
    "Видим анологичную ситуацию у конкурента, пользовательская оценка не влияет, оценка критиков тоже не имеет влияния на продажи"
   ]
  },
  {
   "cell_type": "code",
   "execution_count": 54,
   "metadata": {},
   "outputs": [
    {
     "data": {
      "image/png": "[encoded data removed]",
      "text/plain": [
       "<Figure size 432x288 with 1 Axes>"
      ]
     },
     "metadata": {
      "needs_background": "light"
     },
     "output_type": "display_data"
    },
    {
     "data": {
      "image/png": "[encoded data removed]",
      "text/plain": [
       "<Figure size 432x288 with 1 Axes>"
      ]
     },
     "metadata": {
      "needs_background": "light"
     },
     "output_type": "display_data"
    }
   ],
   "source": [
    "ThDS_crit = new_data.query('platform == \"3DS\"')\n",
    "ThDS_crit[~(ThDS_crit['critic_score'].isna())].plot(kind='scatter', x='critic_score', y='total_sales')\n",
    "ThDS_crit[~(ThDS_crit['user_score'].isna())].plot(kind='scatter', x='user_score', y='total_sales')\n",
    "plt.show()\n"
   ]
  },
  {
   "cell_type": "code",
   "execution_count": 55,
   "metadata": {},
   "outputs": [
    {
     "data": {
      "text/plain": [
       "0.314117492869051"
      ]
     },
     "execution_count": 55,
     "metadata": {},
     "output_type": "execute_result"
    }
   ],
   "source": [
    "ThDS_crit['critic_score'].corr(ThDS_crit['total_sales'])"
   ]
  },
  {
   "cell_type": "code",
   "execution_count": 56,
   "metadata": {},
   "outputs": [
    {
     "data": {
      "text/plain": [
       "0.2151932718527028"
      ]
     },
     "execution_count": 56,
     "metadata": {},
     "output_type": "execute_result"
    }
   ],
   "source": [
    "ThDS_crit['user_score'].corr(ThDS_crit['total_sales'])"
   ]
  },
  {
   "cell_type": "markdown",
   "metadata": {},
   "source": [
    "Значения отличаются, но не изменна сама суть и результат, тут все так же"
   ]
  },
  {
   "cell_type": "code",
   "execution_count": 57,
   "metadata": {},
   "outputs": [
    {
     "data": {
      "image/png": "[encoded data removed]",
      "text/plain": [
       "<Figure size 432x288 with 1 Axes>"
      ]
     },
     "metadata": {
      "needs_background": "light"
     },
     "output_type": "display_data"
    },
    {
     "data": {
      "image/png": "[encoded data removed]",
      "text/plain": [
       "<Figure size 432x288 with 1 Axes>"
      ]
     },
     "metadata": {
      "needs_background": "light"
     },
     "output_type": "display_data"
    }
   ],
   "source": [
    "PC_crit = new_data.query('platform == \"PC\"')\n",
    "PC_crit[~(PC_crit['critic_score'].isna())].plot(kind='scatter', x='critic_score', y='total_sales')\n",
    "PC_crit[~(PC_crit['user_score'].isna())].plot(kind='scatter', x='user_score', y='total_sales')\n",
    "plt.show()"
   ]
  },
  {
   "cell_type": "code",
   "execution_count": 58,
   "metadata": {},
   "outputs": [
    {
     "data": {
      "text/plain": [
       "0.17463413769350036"
      ]
     },
     "execution_count": 58,
     "metadata": {},
     "output_type": "execute_result"
    }
   ],
   "source": [
    "PC_crit['critic_score'].corr(PC_crit['total_sales'])"
   ]
  },
  {
   "cell_type": "code",
   "execution_count": 59,
   "metadata": {},
   "outputs": [
    {
     "data": {
      "text/plain": [
       "-0.07159665703472451"
      ]
     },
     "execution_count": 59,
     "metadata": {},
     "output_type": "execute_result"
    }
   ],
   "source": [
    "PC_crit['user_score'].corr(PC_crit['total_sales'])"
   ]
  },
  {
   "cell_type": "markdown",
   "metadata": {},
   "source": [
    "и с ПК все так же"
   ]
  },
  {
   "cell_type": "markdown",
   "metadata": {},
   "source": [
    "**Итог**\n",
    "\n",
    "В сумме получаем, что на самых популярных платформах ни оценки критиков ни оценки игроков никак не касаются продаж самого продукта. Основные консоли имееют очень слабую связь между оценками критиков и кол-вом продаж"
   ]
  },
  {
   "cell_type": "markdown",
   "metadata": {},
   "source": [
    "Посмотрите на общее распределение игр по жанрам. Что можно сказать о самых прибыльных жанрах? Выделяются ли жанры с высокими и низкими продажами?"
   ]
  },
  {
   "cell_type": "code",
   "execution_count": 60,
   "metadata": {},
   "outputs": [
    {
     "data": {
      "text/plain": [
       "genre\n",
       "Action          199.36\n",
       "Shooter         170.94\n",
       "Sports          109.48\n",
       "Role-Playing    101.44\n",
       "Misc             37.55\n",
       "Fighting         28.22\n",
       "Racing           27.52\n",
       "Platform         18.09\n",
       "Adventure        17.55\n",
       "Simulation       13.13\n",
       "Strategy          3.96\n",
       "Puzzle            2.21\n",
       "Name: total_sales, dtype: float64"
      ]
     },
     "execution_count": 60,
     "metadata": {},
     "output_type": "execute_result"
    }
   ],
   "source": [
    "new_data.groupby('genre')['total_sales'].sum().sort_values(ascending=False)"
   ]
  },
  {
   "cell_type": "code",
   "execution_count": 61,
   "metadata": {},
   "outputs": [
    {
     "data": {
      "text/plain": [
       "genre\n",
       "Action          619\n",
       "Role-Playing    221\n",
       "Adventure       185\n",
       "Sports          161\n",
       "Shooter         128\n",
       "Misc            113\n",
       "Racing           69\n",
       "Fighting         60\n",
       "Simulation       44\n",
       "Platform         38\n",
       "Strategy         37\n",
       "Puzzle           14\n",
       "Name: total_sales, dtype: int64"
      ]
     },
     "execution_count": 61,
     "metadata": {},
     "output_type": "execute_result"
    }
   ],
   "source": [
    "new_data.groupby('genre')['total_sales'].count().sort_values(ascending=False)"
   ]
  },
  {
   "cell_type": "code",
   "execution_count": 62,
   "metadata": {
    "scrolled": false
   },
   "outputs": [
    {
     "data": {
      "image/png": "[encoded data removed]",
      "text/plain": [
       "<Figure size 1440x720 with 1 Axes>"
      ]
     },
     "metadata": {
      "needs_background": "light"
     },
     "output_type": "display_data"
    }
   ],
   "source": [
    "fig = plt.figure(figsize = (20,10))\n",
    "genre_plot = sb.boxplot(data = new_data, y = 'total_sales', x='genre').set(title = 'Продажи по жанрам', xlabel = 'Жанры', ylabel = 'Общие продажи', ylim=(0, 14))\n",
    "plt.show()\n",
    "\n"
   ]
  },
  {
   "cell_type": "markdown",
   "metadata": {},
   "source": [
    "Увидел ошибку, у экш жанра сильный выборос и по ошибке определил этот жанр как самый продаваемый"
   ]
  },
  {
   "cell_type": "markdown",
   "metadata": {},
   "source": [
    "Лучше всего продается жанр Shooter и Sports"
   ]
  },
  {
   "cell_type": "markdown",
   "metadata": {},
   "source": [
    "<h2>Портрет пользователя по региону</h2>"
   ]
  },
  {
   "cell_type": "markdown",
   "metadata": {},
   "source": [
    "**Жанры**\n",
    "\n",
    "Посмотрим на любовь к жанрам игр у разные регионов"
   ]
  },
  {
   "cell_type": "code",
   "execution_count": 63,
   "metadata": {},
   "outputs": [
    {
     "data": {
      "text/html": [
       "<div>\n",
       "<style scoped>\n",
       "    .dataframe tbody tr th:only-of-type {\n",
       "        vertical-align: middle;\n",
       "    }\n",
       "\n",
       "    .dataframe tbody tr th {\n",
       "        vertical-align: top;\n",
       "    }\n",
       "\n",
       "    .dataframe thead th {\n",
       "        text-align: right;\n",
       "    }\n",
       "</style>\n",
       "<table border=\"1\" class=\"dataframe\">\n",
       "  <thead>\n",
       "    <tr style=\"text-align: right;\">\n",
       "      <th></th>\n",
       "      <th>sum</th>\n",
       "    </tr>\n",
       "    <tr>\n",
       "      <th>genre</th>\n",
       "      <th></th>\n",
       "    </tr>\n",
       "  </thead>\n",
       "  <tbody>\n",
       "    <tr>\n",
       "      <th>Shooter</th>\n",
       "      <td>79.02</td>\n",
       "    </tr>\n",
       "    <tr>\n",
       "      <th>Action</th>\n",
       "      <td>72.53</td>\n",
       "    </tr>\n",
       "    <tr>\n",
       "      <th>Sports</th>\n",
       "      <td>46.13</td>\n",
       "    </tr>\n",
       "    <tr>\n",
       "      <th>Role-Playing</th>\n",
       "      <td>33.47</td>\n",
       "    </tr>\n",
       "    <tr>\n",
       "      <th>Misc</th>\n",
       "      <td>15.05</td>\n",
       "    </tr>\n",
       "    <tr>\n",
       "      <th>Fighting</th>\n",
       "      <td>12.43</td>\n",
       "    </tr>\n",
       "    <tr>\n",
       "      <th>Racing</th>\n",
       "      <td>8.74</td>\n",
       "    </tr>\n",
       "    <tr>\n",
       "      <th>Platform</th>\n",
       "      <td>6.79</td>\n",
       "    </tr>\n",
       "    <tr>\n",
       "      <th>Adventure</th>\n",
       "      <td>5.64</td>\n",
       "    </tr>\n",
       "    <tr>\n",
       "      <th>Simulation</th>\n",
       "      <td>2.63</td>\n",
       "    </tr>\n",
       "    <tr>\n",
       "      <th>Strategy</th>\n",
       "      <td>0.98</td>\n",
       "    </tr>\n",
       "    <tr>\n",
       "      <th>Puzzle</th>\n",
       "      <td>0.65</td>\n",
       "    </tr>\n",
       "  </tbody>\n",
       "</table>\n",
       "</div>"
      ],
      "text/plain": [
       "                sum\n",
       "genre              \n",
       "Shooter       79.02\n",
       "Action        72.53\n",
       "Sports        46.13\n",
       "Role-Playing  33.47\n",
       "Misc          15.05\n",
       "Fighting      12.43\n",
       "Racing         8.74\n",
       "Platform       6.79\n",
       "Adventure      5.64\n",
       "Simulation     2.63\n",
       "Strategy       0.98\n",
       "Puzzle         0.65"
      ]
     },
     "metadata": {},
     "output_type": "display_data"
    },
    {
     "data": {
      "text/html": [
       "<div>\n",
       "<style scoped>\n",
       "    .dataframe tbody tr th:only-of-type {\n",
       "        vertical-align: middle;\n",
       "    }\n",
       "\n",
       "    .dataframe tbody tr th {\n",
       "        vertical-align: top;\n",
       "    }\n",
       "\n",
       "    .dataframe thead th {\n",
       "        text-align: right;\n",
       "    }\n",
       "</style>\n",
       "<table border=\"1\" class=\"dataframe\">\n",
       "  <thead>\n",
       "    <tr style=\"text-align: right;\">\n",
       "      <th></th>\n",
       "      <th>sum</th>\n",
       "    </tr>\n",
       "    <tr>\n",
       "      <th>genre</th>\n",
       "      <th></th>\n",
       "    </tr>\n",
       "  </thead>\n",
       "  <tbody>\n",
       "    <tr>\n",
       "      <th>Action</th>\n",
       "      <td>74.68</td>\n",
       "    </tr>\n",
       "    <tr>\n",
       "      <th>Shooter</th>\n",
       "      <td>65.52</td>\n",
       "    </tr>\n",
       "    <tr>\n",
       "      <th>Sports</th>\n",
       "      <td>45.73</td>\n",
       "    </tr>\n",
       "    <tr>\n",
       "      <th>Role-Playing</th>\n",
       "      <td>28.17</td>\n",
       "    </tr>\n",
       "    <tr>\n",
       "      <th>Racing</th>\n",
       "      <td>14.13</td>\n",
       "    </tr>\n",
       "    <tr>\n",
       "      <th>Misc</th>\n",
       "      <td>12.86</td>\n",
       "    </tr>\n",
       "    <tr>\n",
       "      <th>Simulation</th>\n",
       "      <td>7.30</td>\n",
       "    </tr>\n",
       "    <tr>\n",
       "      <th>Platform</th>\n",
       "      <td>6.80</td>\n",
       "    </tr>\n",
       "    <tr>\n",
       "      <th>Fighting</th>\n",
       "      <td>6.69</td>\n",
       "    </tr>\n",
       "    <tr>\n",
       "      <th>Adventure</th>\n",
       "      <td>6.49</td>\n",
       "    </tr>\n",
       "    <tr>\n",
       "      <th>Strategy</th>\n",
       "      <td>1.79</td>\n",
       "    </tr>\n",
       "    <tr>\n",
       "      <th>Puzzle</th>\n",
       "      <td>0.52</td>\n",
       "    </tr>\n",
       "  </tbody>\n",
       "</table>\n",
       "</div>"
      ],
      "text/plain": [
       "                sum\n",
       "genre              \n",
       "Action        74.68\n",
       "Shooter       65.52\n",
       "Sports        45.73\n",
       "Role-Playing  28.17\n",
       "Racing        14.13\n",
       "Misc          12.86\n",
       "Simulation     7.30\n",
       "Platform       6.80\n",
       "Fighting       6.69\n",
       "Adventure      6.49\n",
       "Strategy       1.79\n",
       "Puzzle         0.52"
      ]
     },
     "metadata": {},
     "output_type": "display_data"
    },
    {
     "data": {
      "text/html": [
       "<div>\n",
       "<style scoped>\n",
       "    .dataframe tbody tr th:only-of-type {\n",
       "        vertical-align: middle;\n",
       "    }\n",
       "\n",
       "    .dataframe tbody tr th {\n",
       "        vertical-align: top;\n",
       "    }\n",
       "\n",
       "    .dataframe thead th {\n",
       "        text-align: right;\n",
       "    }\n",
       "</style>\n",
       "<table border=\"1\" class=\"dataframe\">\n",
       "  <thead>\n",
       "    <tr style=\"text-align: right;\">\n",
       "      <th></th>\n",
       "      <th>sum</th>\n",
       "    </tr>\n",
       "    <tr>\n",
       "      <th>genre</th>\n",
       "      <th></th>\n",
       "    </tr>\n",
       "  </thead>\n",
       "  <tbody>\n",
       "    <tr>\n",
       "      <th>Role-Playing</th>\n",
       "      <td>31.16</td>\n",
       "    </tr>\n",
       "    <tr>\n",
       "      <th>Action</th>\n",
       "      <td>29.58</td>\n",
       "    </tr>\n",
       "    <tr>\n",
       "      <th>Fighting</th>\n",
       "      <td>6.37</td>\n",
       "    </tr>\n",
       "    <tr>\n",
       "      <th>Misc</th>\n",
       "      <td>5.61</td>\n",
       "    </tr>\n",
       "    <tr>\n",
       "      <th>Shooter</th>\n",
       "      <td>4.87</td>\n",
       "    </tr>\n",
       "    <tr>\n",
       "      <th>Adventure</th>\n",
       "      <td>3.60</td>\n",
       "    </tr>\n",
       "    <tr>\n",
       "      <th>Sports</th>\n",
       "      <td>3.26</td>\n",
       "    </tr>\n",
       "    <tr>\n",
       "      <th>Platform</th>\n",
       "      <td>2.69</td>\n",
       "    </tr>\n",
       "    <tr>\n",
       "      <th>Simulation</th>\n",
       "      <td>2.31</td>\n",
       "    </tr>\n",
       "    <tr>\n",
       "      <th>Racing</th>\n",
       "      <td>1.76</td>\n",
       "    </tr>\n",
       "    <tr>\n",
       "      <th>Strategy</th>\n",
       "      <td>0.95</td>\n",
       "    </tr>\n",
       "    <tr>\n",
       "      <th>Puzzle</th>\n",
       "      <td>0.93</td>\n",
       "    </tr>\n",
       "  </tbody>\n",
       "</table>\n",
       "</div>"
      ],
      "text/plain": [
       "                sum\n",
       "genre              \n",
       "Role-Playing  31.16\n",
       "Action        29.58\n",
       "Fighting       6.37\n",
       "Misc           5.61\n",
       "Shooter        4.87\n",
       "Adventure      3.60\n",
       "Sports         3.26\n",
       "Platform       2.69\n",
       "Simulation     2.31\n",
       "Racing         1.76\n",
       "Strategy       0.95\n",
       "Puzzle         0.93"
      ]
     },
     "execution_count": 63,
     "metadata": {},
     "output_type": "execute_result"
    }
   ],
   "source": [
    "NA_genre = new_data.groupby(['genre'])['NA_sales'].agg(['sum'])\n",
    "EU_genre = new_data.groupby(['genre'])['EU_sales'].agg(['sum'])\n",
    "JP_genre = new_data.groupby(['genre'])['JP_sales'].agg(['sum'])\n",
    "\n",
    "display(NA_genre.sort_values(ascending=False, by='sum'))\n",
    "display(EU_genre.sort_values(ascending=False, by='sum'))\n",
    "JP_genre.sort_values(ascending=False, by='sum')"
   ]
  },
  {
   "cell_type": "markdown",
   "metadata": {},
   "source": [
    "Вот и топ жанров по регионам. Посмотрим нагляднее"
   ]
  },
  {
   "cell_type": "code",
   "execution_count": 64,
   "metadata": {},
   "outputs": [
    {
     "data": {
      "text/html": [
       "<div>\n",
       "<style scoped>\n",
       "    .dataframe tbody tr th:only-of-type {\n",
       "        vertical-align: middle;\n",
       "    }\n",
       "\n",
       "    .dataframe tbody tr th {\n",
       "        vertical-align: top;\n",
       "    }\n",
       "\n",
       "    .dataframe thead th {\n",
       "        text-align: right;\n",
       "    }\n",
       "</style>\n",
       "<table border=\"1\" class=\"dataframe\">\n",
       "  <thead>\n",
       "    <tr style=\"text-align: right;\">\n",
       "      <th></th>\n",
       "      <th>NA_sales</th>\n",
       "      <th>EU_sales</th>\n",
       "      <th>JP_sales</th>\n",
       "    </tr>\n",
       "    <tr>\n",
       "      <th>genre</th>\n",
       "      <th></th>\n",
       "      <th></th>\n",
       "      <th></th>\n",
       "    </tr>\n",
       "  </thead>\n",
       "  <tbody>\n",
       "    <tr>\n",
       "      <th>Action</th>\n",
       "      <td>72.53</td>\n",
       "      <td>74.68</td>\n",
       "      <td>29.58</td>\n",
       "    </tr>\n",
       "    <tr>\n",
       "      <th>Adventure</th>\n",
       "      <td>5.64</td>\n",
       "      <td>6.49</td>\n",
       "      <td>3.60</td>\n",
       "    </tr>\n",
       "    <tr>\n",
       "      <th>Fighting</th>\n",
       "      <td>12.43</td>\n",
       "      <td>6.69</td>\n",
       "      <td>6.37</td>\n",
       "    </tr>\n",
       "    <tr>\n",
       "      <th>Misc</th>\n",
       "      <td>15.05</td>\n",
       "      <td>12.86</td>\n",
       "      <td>5.61</td>\n",
       "    </tr>\n",
       "    <tr>\n",
       "      <th>Platform</th>\n",
       "      <td>6.79</td>\n",
       "      <td>6.80</td>\n",
       "      <td>2.69</td>\n",
       "    </tr>\n",
       "    <tr>\n",
       "      <th>Puzzle</th>\n",
       "      <td>0.65</td>\n",
       "      <td>0.52</td>\n",
       "      <td>0.93</td>\n",
       "    </tr>\n",
       "    <tr>\n",
       "      <th>Racing</th>\n",
       "      <td>8.74</td>\n",
       "      <td>14.13</td>\n",
       "      <td>1.76</td>\n",
       "    </tr>\n",
       "    <tr>\n",
       "      <th>Role-Playing</th>\n",
       "      <td>33.47</td>\n",
       "      <td>28.17</td>\n",
       "      <td>31.16</td>\n",
       "    </tr>\n",
       "    <tr>\n",
       "      <th>Shooter</th>\n",
       "      <td>79.02</td>\n",
       "      <td>65.52</td>\n",
       "      <td>4.87</td>\n",
       "    </tr>\n",
       "    <tr>\n",
       "      <th>Simulation</th>\n",
       "      <td>2.63</td>\n",
       "      <td>7.30</td>\n",
       "      <td>2.31</td>\n",
       "    </tr>\n",
       "    <tr>\n",
       "      <th>Sports</th>\n",
       "      <td>46.13</td>\n",
       "      <td>45.73</td>\n",
       "      <td>3.26</td>\n",
       "    </tr>\n",
       "    <tr>\n",
       "      <th>Strategy</th>\n",
       "      <td>0.98</td>\n",
       "      <td>1.79</td>\n",
       "      <td>0.95</td>\n",
       "    </tr>\n",
       "  </tbody>\n",
       "</table>\n",
       "</div>"
      ],
      "text/plain": [
       "              NA_sales  EU_sales  JP_sales\n",
       "genre                                     \n",
       "Action           72.53     74.68     29.58\n",
       "Adventure         5.64      6.49      3.60\n",
       "Fighting         12.43      6.69      6.37\n",
       "Misc             15.05     12.86      5.61\n",
       "Platform          6.79      6.80      2.69\n",
       "Puzzle            0.65      0.52      0.93\n",
       "Racing            8.74     14.13      1.76\n",
       "Role-Playing     33.47     28.17     31.16\n",
       "Shooter          79.02     65.52      4.87\n",
       "Simulation        2.63      7.30      2.31\n",
       "Sports           46.13     45.73      3.26\n",
       "Strategy          0.98      1.79      0.95"
      ]
     },
     "metadata": {},
     "output_type": "display_data"
    },
    {
     "data": {
      "text/plain": [
       "Text(0, 0.5, 'Продажи, млн шт')"
      ]
     },
     "execution_count": 64,
     "metadata": {},
     "output_type": "execute_result"
    },
    {
     "data": {
      "image/png": "[encoded data removed]",
      "text/plain": [
       "<Figure size 864x720 with 1 Axes>"
      ]
     },
     "metadata": {
      "needs_background": "light"
     },
     "output_type": "display_data"
    }
   ],
   "source": [
    "All_reg = pd.merge(NA_genre, EU_genre, left_index=True, right_index=True)\n",
    "All_reg = All_reg.merge(JP_genre, left_index=True, right_index=True)\n",
    "All_reg = All_reg.rename(columns={'sum_x': 'NA_sales', 'sum_y': 'EU_sales', 'sum' : 'JP_sales'})\n",
    "display(All_reg)\n",
    "All_reg.plot.bar(figsize=(12,10))\n",
    "\n",
    "plt.title('Сравнение жанров в разных регионах', fontsize=14)\n",
    "plt.xlabel('Жанры', fontsize=12)\n",
    "plt.ylabel('Продажи, млн шт',fontsize=10)"
   ]
  },
  {
   "cell_type": "code",
   "execution_count": 65,
   "metadata": {
    "scrolled": true
   },
   "outputs": [
    {
     "data": {
      "image/png": "[encoded data removed]",
      "text/plain": [
       "<Figure size 576x576 with 1 Axes>"
      ]
     },
     "metadata": {},
     "output_type": "display_data"
    }
   ],
   "source": [
    "df_NA_top = new_data.groupby('genre').agg({'NA_sales': 'mean'}).sort_values(by='NA_sales', ascending=False).head(5)        \n",
    "df_NA_top.plot(kind='pie', y='NA_sales', autopct='%1.1f%%', figsize=(8, 8))\n",
    "plt.show()\n",
    "\n",
    "\n"
   ]
  },
  {
   "cell_type": "code",
   "execution_count": 66,
   "metadata": {
    "scrolled": true
   },
   "outputs": [
    {
     "data": {
      "image/png": "[encoded data removed]",
      "text/plain": [
       "<Figure size 576x576 with 1 Axes>"
      ]
     },
     "metadata": {},
     "output_type": "display_data"
    }
   ],
   "source": [
    "df_EU_top = new_data.groupby('genre').agg({'EU_sales': 'sum'}).sort_values(by='EU_sales', ascending=False).head(5)\n",
    "df_EU_top.plot(kind='pie', y='EU_sales', autopct='%1.1f%%', figsize=(8, 8))\n",
    "\n",
    "plt.show()"
   ]
  },
  {
   "cell_type": "code",
   "execution_count": 65,
   "metadata": {},
   "outputs": [
    {
     "data": {
      "image/png": "[encoded data removed]",
      "text/plain": [
       "<Figure size 576x576 with 1 Axes>"
      ]
     },
     "metadata": {},
     "output_type": "display_data"
    }
   ],
   "source": [
    "df_JP_top = new_data.groupby('genre').agg({'JP_sales': 'sum'}).sort_values(by='JP_sales', ascending=False).head(5)\n",
    "df_JP_top.plot(kind='pie', y='JP_sales', autopct='%1.1f%%', figsize=(8, 8))\n",
    "\n",
    "plt.show()"
   ]
  },
  {
   "cell_type": "markdown",
   "metadata": {},
   "source": [
    "Собственно, вот и график. Тут отлично видно, как покупаются игры разного жанра:\n",
    "\n",
    "- Северной Америке ледируют шутеры, ролевки, файтинги и спортивные симуляторы, последний жанр на ровне с европейами.\n",
    "- В европе Action\n",
    "- В Японии нет какого-то лидера, но популярны Action и Role-Playing\n",
    "\n",
    "Если состовлять список сапых популярных жанров, то:\n",
    "\n",
    "- Северная америка Shooter Action\tSports\tRole-Playing  Misc\n",
    "- Европа Action\tShooter\tSports Role-Playing Racing\t\n",
    "- Япония Role-Playing\tAction Fighting Misc Shooter\tAdventure"
   ]
  },
  {
   "cell_type": "markdown",
   "metadata": {},
   "source": [
    "**Платформа**"
   ]
  },
  {
   "cell_type": "code",
   "execution_count": 68,
   "metadata": {},
   "outputs": [
    {
     "data": {
      "text/html": [
       "<div>\n",
       "<style scoped>\n",
       "    .dataframe tbody tr th:only-of-type {\n",
       "        vertical-align: middle;\n",
       "    }\n",
       "\n",
       "    .dataframe tbody tr th {\n",
       "        vertical-align: top;\n",
       "    }\n",
       "\n",
       "    .dataframe thead th {\n",
       "        text-align: right;\n",
       "    }\n",
       "</style>\n",
       "<table border=\"1\" class=\"dataframe\">\n",
       "  <thead>\n",
       "    <tr style=\"text-align: right;\">\n",
       "      <th></th>\n",
       "      <th>sum</th>\n",
       "    </tr>\n",
       "    <tr>\n",
       "      <th>platform</th>\n",
       "      <th></th>\n",
       "    </tr>\n",
       "  </thead>\n",
       "  <tbody>\n",
       "    <tr>\n",
       "      <th>PS4</th>\n",
       "      <td>98.61</td>\n",
       "    </tr>\n",
       "    <tr>\n",
       "      <th>XOne</th>\n",
       "      <td>81.27</td>\n",
       "    </tr>\n",
       "    <tr>\n",
       "      <th>X360</th>\n",
       "      <td>28.30</td>\n",
       "    </tr>\n",
       "    <tr>\n",
       "      <th>3DS</th>\n",
       "      <td>22.64</td>\n",
       "    </tr>\n",
       "    <tr>\n",
       "      <th>PS3</th>\n",
       "      <td>22.05</td>\n",
       "    </tr>\n",
       "    <tr>\n",
       "      <th>WiiU</th>\n",
       "      <td>19.36</td>\n",
       "    </tr>\n",
       "    <tr>\n",
       "      <th>PC</th>\n",
       "      <td>7.23</td>\n",
       "    </tr>\n",
       "    <tr>\n",
       "      <th>PSV</th>\n",
       "      <td>2.52</td>\n",
       "    </tr>\n",
       "    <tr>\n",
       "      <th>Wii</th>\n",
       "      <td>2.08</td>\n",
       "    </tr>\n",
       "    <tr>\n",
       "      <th>PSP</th>\n",
       "      <td>0.00</td>\n",
       "    </tr>\n",
       "  </tbody>\n",
       "</table>\n",
       "</div>"
      ],
      "text/plain": [
       "            sum\n",
       "platform       \n",
       "PS4       98.61\n",
       "XOne      81.27\n",
       "X360      28.30\n",
       "3DS       22.64\n",
       "PS3       22.05\n",
       "WiiU      19.36\n",
       "PC         7.23\n",
       "PSV        2.52\n",
       "Wii        2.08\n",
       "PSP        0.00"
      ]
     },
     "metadata": {},
     "output_type": "display_data"
    },
    {
     "data": {
      "text/html": [
       "<div>\n",
       "<style scoped>\n",
       "    .dataframe tbody tr th:only-of-type {\n",
       "        vertical-align: middle;\n",
       "    }\n",
       "\n",
       "    .dataframe tbody tr th {\n",
       "        vertical-align: top;\n",
       "    }\n",
       "\n",
       "    .dataframe thead th {\n",
       "        text-align: right;\n",
       "    }\n",
       "</style>\n",
       "<table border=\"1\" class=\"dataframe\">\n",
       "  <thead>\n",
       "    <tr style=\"text-align: right;\">\n",
       "      <th></th>\n",
       "      <th>sum</th>\n",
       "    </tr>\n",
       "    <tr>\n",
       "      <th>platform</th>\n",
       "      <th></th>\n",
       "    </tr>\n",
       "  </thead>\n",
       "  <tbody>\n",
       "    <tr>\n",
       "      <th>PS4</th>\n",
       "      <td>130.04</td>\n",
       "    </tr>\n",
       "    <tr>\n",
       "      <th>XOne</th>\n",
       "      <td>46.25</td>\n",
       "    </tr>\n",
       "    <tr>\n",
       "      <th>PS3</th>\n",
       "      <td>25.54</td>\n",
       "    </tr>\n",
       "    <tr>\n",
       "      <th>PC</th>\n",
       "      <td>17.97</td>\n",
       "    </tr>\n",
       "    <tr>\n",
       "      <th>3DS</th>\n",
       "      <td>16.12</td>\n",
       "    </tr>\n",
       "    <tr>\n",
       "      <th>X360</th>\n",
       "      <td>15.49</td>\n",
       "    </tr>\n",
       "    <tr>\n",
       "      <th>WiiU</th>\n",
       "      <td>13.15</td>\n",
       "    </tr>\n",
       "    <tr>\n",
       "      <th>PSV</th>\n",
       "      <td>3.53</td>\n",
       "    </tr>\n",
       "    <tr>\n",
       "      <th>Wii</th>\n",
       "      <td>2.59</td>\n",
       "    </tr>\n",
       "    <tr>\n",
       "      <th>PSP</th>\n",
       "      <td>0.00</td>\n",
       "    </tr>\n",
       "  </tbody>\n",
       "</table>\n",
       "</div>"
      ],
      "text/plain": [
       "             sum\n",
       "platform        \n",
       "PS4       130.04\n",
       "XOne       46.25\n",
       "PS3        25.54\n",
       "PC         17.97\n",
       "3DS        16.12\n",
       "X360       15.49\n",
       "WiiU       13.15\n",
       "PSV         3.53\n",
       "Wii         2.59\n",
       "PSP         0.00"
      ]
     },
     "metadata": {},
     "output_type": "display_data"
    },
    {
     "data": {
      "text/html": [
       "<div>\n",
       "<style scoped>\n",
       "    .dataframe tbody tr th:only-of-type {\n",
       "        vertical-align: middle;\n",
       "    }\n",
       "\n",
       "    .dataframe tbody tr th {\n",
       "        vertical-align: top;\n",
       "    }\n",
       "\n",
       "    .dataframe thead th {\n",
       "        text-align: right;\n",
       "    }\n",
       "</style>\n",
       "<table border=\"1\" class=\"dataframe\">\n",
       "  <thead>\n",
       "    <tr style=\"text-align: right;\">\n",
       "      <th></th>\n",
       "      <th>sum</th>\n",
       "    </tr>\n",
       "    <tr>\n",
       "      <th>platform</th>\n",
       "      <th></th>\n",
       "    </tr>\n",
       "  </thead>\n",
       "  <tbody>\n",
       "    <tr>\n",
       "      <th>3DS</th>\n",
       "      <td>44.24</td>\n",
       "    </tr>\n",
       "    <tr>\n",
       "      <th>PS4</th>\n",
       "      <td>15.02</td>\n",
       "    </tr>\n",
       "    <tr>\n",
       "      <th>PSV</th>\n",
       "      <td>14.54</td>\n",
       "    </tr>\n",
       "    <tr>\n",
       "      <th>PS3</th>\n",
       "      <td>11.22</td>\n",
       "    </tr>\n",
       "    <tr>\n",
       "      <th>WiiU</th>\n",
       "      <td>7.31</td>\n",
       "    </tr>\n",
       "    <tr>\n",
       "      <th>PSP</th>\n",
       "      <td>0.36</td>\n",
       "    </tr>\n",
       "    <tr>\n",
       "      <th>XOne</th>\n",
       "      <td>0.32</td>\n",
       "    </tr>\n",
       "    <tr>\n",
       "      <th>X360</th>\n",
       "      <td>0.08</td>\n",
       "    </tr>\n",
       "    <tr>\n",
       "      <th>PC</th>\n",
       "      <td>0.00</td>\n",
       "    </tr>\n",
       "    <tr>\n",
       "      <th>Wii</th>\n",
       "      <td>0.00</td>\n",
       "    </tr>\n",
       "  </tbody>\n",
       "</table>\n",
       "</div>"
      ],
      "text/plain": [
       "            sum\n",
       "platform       \n",
       "3DS       44.24\n",
       "PS4       15.02\n",
       "PSV       14.54\n",
       "PS3       11.22\n",
       "WiiU       7.31\n",
       "PSP        0.36\n",
       "XOne       0.32\n",
       "X360       0.08\n",
       "PC         0.00\n",
       "Wii        0.00"
      ]
     },
     "execution_count": 68,
     "metadata": {},
     "output_type": "execute_result"
    }
   ],
   "source": [
    "NA_platform = new_data.groupby(['platform'])['NA_sales'].agg(['sum'])\n",
    "EU_platform = new_data.groupby(['platform'])['EU_sales'].agg(['sum'])\n",
    "JP_platform = new_data.groupby(['platform'])['JP_sales'].agg(['sum'])\n",
    "\n",
    "display(NA_platform.sort_values(ascending=False, by='sum'))\n",
    "display(EU_platform.sort_values(ascending=False, by='sum'))\n",
    "JP_platform.sort_values(ascending=False, by='sum')"
   ]
  },
  {
   "cell_type": "code",
   "execution_count": 69,
   "metadata": {},
   "outputs": [
    {
     "data": {
      "text/html": [
       "<div>\n",
       "<style scoped>\n",
       "    .dataframe tbody tr th:only-of-type {\n",
       "        vertical-align: middle;\n",
       "    }\n",
       "\n",
       "    .dataframe tbody tr th {\n",
       "        vertical-align: top;\n",
       "    }\n",
       "\n",
       "    .dataframe thead th {\n",
       "        text-align: right;\n",
       "    }\n",
       "</style>\n",
       "<table border=\"1\" class=\"dataframe\">\n",
       "  <thead>\n",
       "    <tr style=\"text-align: right;\">\n",
       "      <th></th>\n",
       "      <th>NA_sales</th>\n",
       "      <th>EU_sales</th>\n",
       "      <th>JP_sales</th>\n",
       "    </tr>\n",
       "    <tr>\n",
       "      <th>platform</th>\n",
       "      <th></th>\n",
       "      <th></th>\n",
       "      <th></th>\n",
       "    </tr>\n",
       "  </thead>\n",
       "  <tbody>\n",
       "    <tr>\n",
       "      <th>3DS</th>\n",
       "      <td>22.64</td>\n",
       "      <td>16.12</td>\n",
       "      <td>44.24</td>\n",
       "    </tr>\n",
       "    <tr>\n",
       "      <th>PC</th>\n",
       "      <td>7.23</td>\n",
       "      <td>17.97</td>\n",
       "      <td>0.00</td>\n",
       "    </tr>\n",
       "    <tr>\n",
       "      <th>PS3</th>\n",
       "      <td>22.05</td>\n",
       "      <td>25.54</td>\n",
       "      <td>11.22</td>\n",
       "    </tr>\n",
       "    <tr>\n",
       "      <th>PS4</th>\n",
       "      <td>98.61</td>\n",
       "      <td>130.04</td>\n",
       "      <td>15.02</td>\n",
       "    </tr>\n",
       "    <tr>\n",
       "      <th>PSP</th>\n",
       "      <td>0.00</td>\n",
       "      <td>0.00</td>\n",
       "      <td>0.36</td>\n",
       "    </tr>\n",
       "    <tr>\n",
       "      <th>PSV</th>\n",
       "      <td>2.52</td>\n",
       "      <td>3.53</td>\n",
       "      <td>14.54</td>\n",
       "    </tr>\n",
       "    <tr>\n",
       "      <th>Wii</th>\n",
       "      <td>2.08</td>\n",
       "      <td>2.59</td>\n",
       "      <td>0.00</td>\n",
       "    </tr>\n",
       "    <tr>\n",
       "      <th>WiiU</th>\n",
       "      <td>19.36</td>\n",
       "      <td>13.15</td>\n",
       "      <td>7.31</td>\n",
       "    </tr>\n",
       "    <tr>\n",
       "      <th>X360</th>\n",
       "      <td>28.30</td>\n",
       "      <td>15.49</td>\n",
       "      <td>0.08</td>\n",
       "    </tr>\n",
       "    <tr>\n",
       "      <th>XOne</th>\n",
       "      <td>81.27</td>\n",
       "      <td>46.25</td>\n",
       "      <td>0.32</td>\n",
       "    </tr>\n",
       "  </tbody>\n",
       "</table>\n",
       "</div>"
      ],
      "text/plain": [
       "          NA_sales  EU_sales  JP_sales\n",
       "platform                              \n",
       "3DS          22.64     16.12     44.24\n",
       "PC            7.23     17.97      0.00\n",
       "PS3          22.05     25.54     11.22\n",
       "PS4          98.61    130.04     15.02\n",
       "PSP           0.00      0.00      0.36\n",
       "PSV           2.52      3.53     14.54\n",
       "Wii           2.08      2.59      0.00\n",
       "WiiU         19.36     13.15      7.31\n",
       "X360         28.30     15.49      0.08\n",
       "XOne         81.27     46.25      0.32"
      ]
     },
     "metadata": {},
     "output_type": "display_data"
    },
    {
     "data": {
      "text/plain": [
       "Text(0, 0.5, 'Продажи, млн шт')"
      ]
     },
     "execution_count": 69,
     "metadata": {},
     "output_type": "execute_result"
    },
    {
     "data": {
      "image/png": "[encoded data removed]",
      "text/plain": [
       "<Figure size 864x720 with 1 Axes>"
      ]
     },
     "metadata": {
      "needs_background": "light"
     },
     "output_type": "display_data"
    }
   ],
   "source": [
    "All_reg_pl = pd.merge(NA_platform, EU_platform, left_index=True, right_index=True)\n",
    "All_reg_pl = All_reg_pl.merge(JP_platform, left_index=True, right_index=True)\n",
    "All_reg_pl = All_reg_pl.rename(columns={'sum_x': 'NA_sales', 'sum_y': 'EU_sales', 'sum' : 'JP_sales'})\n",
    "display(All_reg_pl)\n",
    "All_reg_pl.plot.bar(figsize=(12,10))\n",
    "\n",
    "plt.title('Сравнение платформ в разных регионах', fontsize=14)\n",
    "plt.xlabel('Платформы', fontsize=12)\n",
    "plt.ylabel('Продажи, млн шт',fontsize=10)"
   ]
  },
  {
   "cell_type": "markdown",
   "metadata": {},
   "source": [
    "Отчетливо видно, что PS4 занимет лидирующее место у европейцов и американцев, у американцев также популярен xbox One, состоавляющий конкуренцию PS4, что касается Японии - фаворит 3DS и PSV с PS4, но в меньших масштабах, но это связано с размером населения в этих регионах"
   ]
  },
  {
   "cell_type": "code",
   "execution_count": 68,
   "metadata": {},
   "outputs": [
    {
     "data": {
      "text/html": [
       "<div>\n",
       "<style scoped>\n",
       "    .dataframe tbody tr th:only-of-type {\n",
       "        vertical-align: middle;\n",
       "    }\n",
       "\n",
       "    .dataframe tbody tr th {\n",
       "        vertical-align: top;\n",
       "    }\n",
       "\n",
       "    .dataframe thead th {\n",
       "        text-align: right;\n",
       "    }\n",
       "</style>\n",
       "<table border=\"1\" class=\"dataframe\">\n",
       "  <thead>\n",
       "    <tr style=\"text-align: right;\">\n",
       "      <th></th>\n",
       "      <th>NA_sales</th>\n",
       "      <th>EU_sales</th>\n",
       "      <th>JP_sales</th>\n",
       "    </tr>\n",
       "    <tr>\n",
       "      <th>rating</th>\n",
       "      <th></th>\n",
       "      <th></th>\n",
       "      <th></th>\n",
       "    </tr>\n",
       "  </thead>\n",
       "  <tbody>\n",
       "    <tr>\n",
       "      <th>E</th>\n",
       "      <td>50.74</td>\n",
       "      <td>58.06</td>\n",
       "      <td>8.94</td>\n",
       "    </tr>\n",
       "    <tr>\n",
       "      <th>E10+</th>\n",
       "      <td>33.23</td>\n",
       "      <td>26.16</td>\n",
       "      <td>4.46</td>\n",
       "    </tr>\n",
       "    <tr>\n",
       "      <th>M</th>\n",
       "      <td>96.42</td>\n",
       "      <td>93.44</td>\n",
       "      <td>8.01</td>\n",
       "    </tr>\n",
       "    <tr>\n",
       "      <th>T</th>\n",
       "      <td>38.95</td>\n",
       "      <td>34.07</td>\n",
       "      <td>14.78</td>\n",
       "    </tr>\n",
       "    <tr>\n",
       "      <th>Unknown</th>\n",
       "      <td>64.72</td>\n",
       "      <td>58.95</td>\n",
       "      <td>56.90</td>\n",
       "    </tr>\n",
       "  </tbody>\n",
       "</table>\n",
       "</div>"
      ],
      "text/plain": [
       "         NA_sales  EU_sales  JP_sales\n",
       "rating                               \n",
       "E           50.74     58.06      8.94\n",
       "E10+        33.23     26.16      4.46\n",
       "M           96.42     93.44      8.01\n",
       "T           38.95     34.07     14.78\n",
       "Unknown     64.72     58.95     56.90"
      ]
     },
     "metadata": {},
     "output_type": "display_data"
    },
    {
     "data": {
      "text/plain": [
       "Text(0, 0.5, 'Продажи, млн шт')"
      ]
     },
     "execution_count": 68,
     "metadata": {},
     "output_type": "execute_result"
    },
    {
     "data": {
      "image/png": "[encoded data removed]",
      "text/plain": [
       "<Figure size 864x720 with 1 Axes>"
      ]
     },
     "metadata": {
      "needs_background": "light"
     },
     "output_type": "display_data"
    }
   ],
   "source": [
    "NA_rating = new_data.groupby(['rating'])['NA_sales'].agg(['sum'])\n",
    "EU_rating = new_data.groupby(['rating'])['EU_sales'].agg(['sum'])\n",
    "JP_rating = new_data.groupby(['rating'])['JP_sales'].agg(['sum'])\n",
    "\n",
    "\n",
    "All_reg_ra = pd.merge(NA_rating, EU_rating, left_index=True, right_index=True)\n",
    "All_reg_ra = All_reg_ra.merge(JP_rating, left_index=True, right_index=True)\n",
    "All_reg_ra = All_reg_ra.rename(columns={'sum_x': 'NA_sales', 'sum_y': 'EU_sales', 'sum' : 'JP_sales'})\n",
    "display(All_reg_ra)\n",
    "All_reg_ra.plot.bar(figsize=(12,10))\n",
    "\n",
    "plt.title('Сравнение возратсных рейтингов в разных регионах', fontsize=14)\n",
    "plt.xlabel('Рейтинг', fontsize=12)\n",
    "plt.ylabel('Продажи, млн шт',fontsize=10)\n",
    "\n",
    "\n",
    "\n"
   ]
  },
  {
   "cell_type": "markdown",
   "metadata": {},
   "source": [
    "График показывает:\n",
    "\n",
    "- Пользователей Северой Америки и Европы предпочитают рейтинг М,  потом идет Unknown.\n",
    "- Видно, что и в Америке и в Европе игроки отдают одинаковое редпочтение играм как по жанру, так по рейтингу.\n",
    "- В Японии как всегда ситуация иная. Самыми популярными являются игры с рейтингом Unknown, затем с рейтингом Т, Е, М и Е10"
   ]
  },
  {
   "cell_type": "markdown",
   "metadata": {},
   "source": [
    "**Итог**\n",
    "\n",
    "\n",
    "- После проведеных исследований для определения портрета пользователя каждого региона. Могу сказать, что предпочтения игроков Северной Америки и Европы похожи, самыми популярными платформами являются PS4 и XOne, а любимые жанры игр - Shooter и Action, игры с рейтингом М и Unknown. Стоит уделить повышенное внимание этим регионам.\n",
    "\n",
    "\n",
    "- Пользователи Японии существенно отличаются, топ платформа - 3DS, любимые жанры - Role-Playing и Action и игры с рейтингом Unknown."
   ]
  },
  {
   "cell_type": "markdown",
   "metadata": {},
   "source": [
    "<h2>Гипотезы</h2>"
   ]
  },
  {
   "cell_type": "markdown",
   "metadata": {},
   "source": [
    "<h3>Средние пользовательские рейтинги платформ Xbox One и PC одинаковые</h3>"
   ]
  },
  {
   "cell_type": "markdown",
   "metadata": {},
   "source": [
    "Нулевая гипотеза: Средние пользовательские рейтинги платформ Xbox One и PC одинаковые.\n",
    "\n",
    "\n",
    "Альтернативная гипотеза: Средние пользовательские рейтинги платформ Xbox One и PC различаются.\n",
    "\n",
    "Нулевая гипотеза всегда гласит о равенсве между двумя средними, тк из задания:\n",
    "- Проверьте гипотезы Средние пользовательские рейтинги платформ Xbox One и PC одинаковые, следует, что нас не интересует отличие в большую или меньшую сторону, альт гипотеза будет двухсторонней "
   ]
  },
  {
   "cell_type": "code",
   "execution_count": 71,
   "metadata": {},
   "outputs": [
    {
     "name": "stdout",
     "output_type": "stream",
     "text": [
      "p-значение: 0.10450507919348415\n",
      "Не получилось отвергнуть нулевую гипотезу\n"
     ]
    }
   ],
   "source": [
    "new_data = new_data[~(new_data['user_score'].isna())]\n",
    "results = st.ttest_ind(new_data.query('platform == \"XOne\"')['user_score'], new_data.query('platform == \"PC\"')['user_score'])\n",
    "\n",
    "alpha = 0.05\n",
    "print('p-значение:', results.pvalue)\n",
    "\n",
    "if results.pvalue < alpha:\n",
    "    print(\"Отвергаем нулевую гипотезу\")\n",
    "else:\n",
    "    print(\"Не получилось отвергнуть нулевую гипотезу\")"
   ]
  },
  {
   "cell_type": "markdown",
   "metadata": {},
   "source": [
    "Выходит, мы не можем отвергнуть гипотезу, значит, у нас нет основании пологать, что оценки на двух данных платформах сильно отличаются\n",
    "\n",
    "<h3>Средние пользовательские рейтинги жанров Action и Sports разные</h3>\n",
    "Нулевая гипотеза: Средние пользовательские рейтинги жанров Action и Sports одинаковые.\n",
    "\n",
    "Альтернативная гипотеза: Средние пользовательские рейтинги жанров Action и Sports различаются.\n",
    "\n",
    "Нулевая гипотеза всегда связана с равенством двух средних. Из самого задания следует, что нам нужно проверить это равенство, знаичт альт гипотеза будет двухсторонней, интересует равны или нет, не более"
   ]
  },
  {
   "cell_type": "code",
   "execution_count": 72,
   "metadata": {},
   "outputs": [
    {
     "name": "stdout",
     "output_type": "stream",
     "text": [
      "p-значение: 2.8711147985105864e-19\n",
      "Отвергаем нулевую гипотезу\n"
     ]
    }
   ],
   "source": [
    "results = st.ttest_ind(new_data.query('genre == \"Action\"')['user_score'], new_data.query('genre == \"Sports\"')['user_score'])\n",
    "\n",
    "alpha = 0.05 # критический уровень статистической значимости\n",
    "# если p-value окажется меньше него - отвегнем гипотезу\n",
    "\n",
    "print('p-значение:', results.pvalue)\n",
    "\n",
    "if results.pvalue < alpha:\n",
    "    print(\"Отвергаем нулевую гипотезу\")\n",
    "else:\n",
    "    print(\"Не получилось отвергнуть нулевую гипотезу\")"
   ]
  },
  {
   "cell_type": "markdown",
   "metadata": {},
   "source": [
    "Исходя их результата, могу сказать, что оснований пологать, чо оценки у двух данных жанров одинаковые нет"
   ]
  },
  {
   "cell_type": "markdown",
   "metadata": {},
   "source": [
    "<h2>Вывод</h2>"
   ]
  },
  {
   "cell_type": "markdown",
   "metadata": {},
   "source": [
    "- С 2000 года виден рост выпуска игр, затем еще один скачок до 20010г, после чего спад до 2016г.\n",
    "- Платформы с наибольшими суммарными продажами, PS2, X360, PS3, Wii, DS, PS. Если рассматривать данные с 2014 года, что следует делать для прогнозов на 2017, то там лидеры -PS4, XboxOne, 3DS.\n",
    "- Как было сказано выше, для проноза я бы брал последние 3 года из таблицы\n",
    "- По графику видно, что популярность идет вверх у PS4, WiiU и XOne, у них практический одинаковая медиана продаж \n",
    "- Оценки игроков никак не влияют на итоговые продажи игры, оценки критиков для некоторым платформ(PS4, XOne) очень слабы влияют, в остальном они не влияют\n",
    "- Япония отличается любовью к жанру, если в Америке и европе любят шутеры и экш, но в Японии отдают предпочтений ролевке.\n",
    "- Не смотря на это, самые большие сборы у экш игр и шутеров\n",
    "- Во время анализа пришлось проверить 2 гипотезы, о равенсве пользовательских одценок у PC и XOne, гипоетеза не отвергнута и о значимых отличии пользовательских оценок у экш и спортивных игр, гипотеза отвергнута."
   ]
  }
 ],
 "metadata": {
  "ExecuteTimeLog": [
   {
    "duration": 455,
    "start_time": "2023-05-01T07:16:38.705Z"
   },
   {
    "duration": 125,
    "start_time": "2023-05-01T07:16:57.525Z"
   },
   {
    "duration": 74,
    "start_time": "2023-05-01T07:17:40.878Z"
   },
   {
    "duration": 84,
    "start_time": "2023-05-01T07:19:03.492Z"
   },
   {
    "duration": 63,
    "start_time": "2023-05-01T07:20:40.488Z"
   },
   {
    "duration": 55,
    "start_time": "2023-05-01T07:36:48.615Z"
   },
   {
    "duration": 71,
    "start_time": "2023-05-01T07:47:20.177Z"
   },
   {
    "duration": 72,
    "start_time": "2023-05-01T07:47:39.505Z"
   },
   {
    "duration": 20,
    "start_time": "2023-05-01T07:47:48.298Z"
   },
   {
    "duration": 21,
    "start_time": "2023-05-01T07:48:36.434Z"
   },
   {
    "duration": 14,
    "start_time": "2023-05-01T07:49:36.244Z"
   },
   {
    "duration": 17,
    "start_time": "2023-05-01T08:00:29.402Z"
   },
   {
    "duration": 13,
    "start_time": "2023-05-01T08:00:42.691Z"
   },
   {
    "duration": 15,
    "start_time": "2023-05-01T08:01:04.318Z"
   },
   {
    "duration": 14,
    "start_time": "2023-05-01T08:01:15.129Z"
   },
   {
    "duration": 15,
    "start_time": "2023-05-01T08:01:37.722Z"
   },
   {
    "duration": 14,
    "start_time": "2023-05-01T08:01:46.754Z"
   },
   {
    "duration": 14,
    "start_time": "2023-05-01T08:02:01.908Z"
   },
   {
    "duration": 67,
    "start_time": "2023-05-01T10:32:11.311Z"
   },
   {
    "duration": 23,
    "start_time": "2023-05-01T10:32:20.615Z"
   },
   {
    "duration": 12,
    "start_time": "2023-05-01T10:32:52.413Z"
   },
   {
    "duration": 14,
    "start_time": "2023-05-01T10:33:14.511Z"
   },
   {
    "duration": 47,
    "start_time": "2023-05-01T10:33:55.024Z"
   },
   {
    "duration": 11,
    "start_time": "2023-05-01T10:35:03.915Z"
   },
   {
    "duration": 12,
    "start_time": "2023-05-01T10:35:15.358Z"
   },
   {
    "duration": 20,
    "start_time": "2023-05-01T10:35:32.362Z"
   },
   {
    "duration": 465,
    "start_time": "2023-05-01T10:36:32.016Z"
   },
   {
    "duration": 79,
    "start_time": "2023-05-01T10:36:32.483Z"
   },
   {
    "duration": 18,
    "start_time": "2023-05-01T10:36:32.564Z"
   },
   {
    "duration": 24,
    "start_time": "2023-05-01T10:36:32.584Z"
   },
   {
    "duration": 27,
    "start_time": "2023-05-01T10:36:32.610Z"
   },
   {
    "duration": 22,
    "start_time": "2023-05-01T10:36:32.638Z"
   },
   {
    "duration": 20,
    "start_time": "2023-05-01T10:36:32.662Z"
   },
   {
    "duration": 37,
    "start_time": "2023-05-01T10:36:32.683Z"
   },
   {
    "duration": 28,
    "start_time": "2023-05-01T10:36:32.722Z"
   },
   {
    "duration": 40,
    "start_time": "2023-05-01T10:36:32.751Z"
   },
   {
    "duration": 34,
    "start_time": "2023-05-01T10:36:32.793Z"
   },
   {
    "duration": 15,
    "start_time": "2023-05-01T10:37:47.715Z"
   },
   {
    "duration": 14,
    "start_time": "2023-05-01T10:38:12.922Z"
   },
   {
    "duration": 9,
    "start_time": "2023-05-01T10:40:26.858Z"
   },
   {
    "duration": 14,
    "start_time": "2023-05-01T10:40:33.259Z"
   },
   {
    "duration": 8,
    "start_time": "2023-05-01T10:45:49.931Z"
   },
   {
    "duration": 14,
    "start_time": "2023-05-01T10:45:58.307Z"
   },
   {
    "duration": 46,
    "start_time": "2023-05-01T10:54:54.351Z"
   },
   {
    "duration": 59,
    "start_time": "2023-05-01T10:54:58.056Z"
   },
   {
    "duration": 12,
    "start_time": "2023-05-01T10:55:52.214Z"
   },
   {
    "duration": 6,
    "start_time": "2023-05-01T10:58:03.520Z"
   },
   {
    "duration": 7,
    "start_time": "2023-05-01T10:58:14.444Z"
   },
   {
    "duration": 7,
    "start_time": "2023-05-01T11:00:07.025Z"
   },
   {
    "duration": 12,
    "start_time": "2023-05-01T11:00:13.518Z"
   },
   {
    "duration": 14,
    "start_time": "2023-05-01T11:00:24.005Z"
   },
   {
    "duration": 412,
    "start_time": "2023-05-01T11:01:01.356Z"
   },
   {
    "duration": 84,
    "start_time": "2023-05-01T11:01:01.770Z"
   },
   {
    "duration": 18,
    "start_time": "2023-05-01T11:01:01.856Z"
   },
   {
    "duration": 33,
    "start_time": "2023-05-01T11:01:01.876Z"
   },
   {
    "duration": 27,
    "start_time": "2023-05-01T11:01:01.911Z"
   },
   {
    "duration": 36,
    "start_time": "2023-05-01T11:01:01.939Z"
   },
   {
    "duration": 42,
    "start_time": "2023-05-01T11:01:01.977Z"
   },
   {
    "duration": 42,
    "start_time": "2023-05-01T11:01:02.022Z"
   },
   {
    "duration": 26,
    "start_time": "2023-05-01T11:01:02.066Z"
   },
   {
    "duration": 26,
    "start_time": "2023-05-01T11:01:02.094Z"
   },
   {
    "duration": 45,
    "start_time": "2023-05-01T11:01:02.122Z"
   },
   {
    "duration": 45,
    "start_time": "2023-05-01T11:01:02.169Z"
   },
   {
    "duration": 15,
    "start_time": "2023-05-01T11:01:02.215Z"
   },
   {
    "duration": 20,
    "start_time": "2023-05-01T11:01:02.233Z"
   },
   {
    "duration": 25,
    "start_time": "2023-05-01T11:01:02.255Z"
   },
   {
    "duration": 29,
    "start_time": "2023-05-01T11:01:02.281Z"
   },
   {
    "duration": 15,
    "start_time": "2023-05-01T11:04:14.006Z"
   },
   {
    "duration": 13,
    "start_time": "2023-05-01T11:04:46.340Z"
   },
   {
    "duration": 435,
    "start_time": "2023-05-01T11:08:30.306Z"
   },
   {
    "duration": 76,
    "start_time": "2023-05-01T11:08:30.743Z"
   },
   {
    "duration": 17,
    "start_time": "2023-05-01T11:08:30.821Z"
   },
   {
    "duration": 52,
    "start_time": "2023-05-01T11:08:30.839Z"
   },
   {
    "duration": 33,
    "start_time": "2023-05-01T11:08:30.893Z"
   },
   {
    "duration": 31,
    "start_time": "2023-05-01T11:08:30.928Z"
   },
   {
    "duration": 23,
    "start_time": "2023-05-01T11:08:30.960Z"
   },
   {
    "duration": 35,
    "start_time": "2023-05-01T11:08:30.985Z"
   },
   {
    "duration": 43,
    "start_time": "2023-05-01T11:08:31.022Z"
   },
   {
    "duration": 29,
    "start_time": "2023-05-01T11:08:31.067Z"
   },
   {
    "duration": 34,
    "start_time": "2023-05-01T11:08:31.098Z"
   },
   {
    "duration": 24,
    "start_time": "2023-05-01T11:08:31.134Z"
   },
   {
    "duration": 24,
    "start_time": "2023-05-01T11:08:31.159Z"
   },
   {
    "duration": 12,
    "start_time": "2023-05-01T11:08:31.186Z"
   },
   {
    "duration": 24,
    "start_time": "2023-05-01T11:08:31.199Z"
   },
   {
    "duration": 18,
    "start_time": "2023-05-01T11:08:31.224Z"
   },
   {
    "duration": 45,
    "start_time": "2023-05-01T11:08:31.244Z"
   },
   {
    "duration": 353,
    "start_time": "2023-05-01T11:08:46.077Z"
   },
   {
    "duration": 72,
    "start_time": "2023-05-01T11:08:46.431Z"
   },
   {
    "duration": 16,
    "start_time": "2023-05-01T11:08:46.505Z"
   },
   {
    "duration": 29,
    "start_time": "2023-05-01T11:08:46.522Z"
   },
   {
    "duration": 27,
    "start_time": "2023-05-01T11:08:46.553Z"
   },
   {
    "duration": 18,
    "start_time": "2023-05-01T11:08:46.582Z"
   },
   {
    "duration": 16,
    "start_time": "2023-05-01T11:08:46.602Z"
   },
   {
    "duration": 13,
    "start_time": "2023-05-01T11:08:46.619Z"
   },
   {
    "duration": 14,
    "start_time": "2023-05-01T11:08:46.634Z"
   },
   {
    "duration": 23,
    "start_time": "2023-05-01T11:08:46.650Z"
   },
   {
    "duration": 30,
    "start_time": "2023-05-01T11:08:46.675Z"
   },
   {
    "duration": 17,
    "start_time": "2023-05-01T11:08:46.707Z"
   },
   {
    "duration": 11,
    "start_time": "2023-05-01T11:08:46.726Z"
   },
   {
    "duration": 6,
    "start_time": "2023-05-01T11:08:46.739Z"
   },
   {
    "duration": 23,
    "start_time": "2023-05-01T11:08:46.746Z"
   },
   {
    "duration": 26,
    "start_time": "2023-05-01T11:08:46.771Z"
   },
   {
    "duration": 15,
    "start_time": "2023-05-01T11:08:46.798Z"
   },
   {
    "duration": 81,
    "start_time": "2023-05-01T11:21:42.797Z"
   },
   {
    "duration": 3965,
    "start_time": "2023-05-01T11:23:19.664Z"
   },
   {
    "duration": 3998,
    "start_time": "2023-05-01T11:23:26.003Z"
   },
   {
    "duration": 4007,
    "start_time": "2023-05-01T11:23:40.228Z"
   },
   {
    "duration": 413,
    "start_time": "2023-05-01T11:26:35.406Z"
   },
   {
    "duration": 91,
    "start_time": "2023-05-01T11:26:35.821Z"
   },
   {
    "duration": 21,
    "start_time": "2023-05-01T11:26:35.914Z"
   },
   {
    "duration": 27,
    "start_time": "2023-05-01T11:26:35.945Z"
   },
   {
    "duration": 23,
    "start_time": "2023-05-01T11:26:35.974Z"
   },
   {
    "duration": 24,
    "start_time": "2023-05-01T11:26:35.999Z"
   },
   {
    "duration": 18,
    "start_time": "2023-05-01T11:26:36.024Z"
   },
   {
    "duration": 44,
    "start_time": "2023-05-01T11:26:36.043Z"
   },
   {
    "duration": 13,
    "start_time": "2023-05-01T11:26:36.089Z"
   },
   {
    "duration": 12,
    "start_time": "2023-05-01T11:26:36.103Z"
   },
   {
    "duration": 31,
    "start_time": "2023-05-01T11:26:36.117Z"
   },
   {
    "duration": 14,
    "start_time": "2023-05-01T11:26:36.150Z"
   },
   {
    "duration": 11,
    "start_time": "2023-05-01T11:26:36.165Z"
   },
   {
    "duration": 6,
    "start_time": "2023-05-01T11:26:36.178Z"
   },
   {
    "duration": 13,
    "start_time": "2023-05-01T11:26:36.186Z"
   },
   {
    "duration": 13,
    "start_time": "2023-05-01T11:26:36.200Z"
   },
   {
    "duration": 4459,
    "start_time": "2023-05-01T11:26:36.245Z"
   },
   {
    "duration": 17,
    "start_time": "2023-05-01T11:26:40.705Z"
   },
   {
    "duration": 11,
    "start_time": "2023-05-01T11:30:13.150Z"
   },
   {
    "duration": 16,
    "start_time": "2023-05-01T11:30:15.963Z"
   },
   {
    "duration": 8,
    "start_time": "2023-05-01T11:31:26.460Z"
   },
   {
    "duration": 18,
    "start_time": "2023-05-01T11:32:33.255Z"
   },
   {
    "duration": 10,
    "start_time": "2023-05-01T11:32:46.505Z"
   },
   {
    "duration": 10,
    "start_time": "2023-05-01T11:33:01.338Z"
   },
   {
    "duration": 9,
    "start_time": "2023-05-01T11:33:05.112Z"
   },
   {
    "duration": 9,
    "start_time": "2023-05-01T11:33:07.034Z"
   },
   {
    "duration": 11,
    "start_time": "2023-05-01T11:34:04.896Z"
   },
   {
    "duration": 18,
    "start_time": "2023-05-01T11:34:49.342Z"
   },
   {
    "duration": 8,
    "start_time": "2023-05-01T11:35:22.496Z"
   },
   {
    "duration": 8,
    "start_time": "2023-05-01T11:35:44.724Z"
   },
   {
    "duration": 48,
    "start_time": "2023-05-01T12:28:17.821Z"
   },
   {
    "duration": 56,
    "start_time": "2023-05-01T12:28:42.122Z"
   },
   {
    "duration": 14,
    "start_time": "2023-05-01T12:28:47.332Z"
   },
   {
    "duration": 12,
    "start_time": "2023-05-01T12:28:47.535Z"
   },
   {
    "duration": 7,
    "start_time": "2023-05-01T12:28:47.925Z"
   },
   {
    "duration": 8,
    "start_time": "2023-05-01T12:28:48.110Z"
   },
   {
    "duration": 8,
    "start_time": "2023-05-01T12:28:51.049Z"
   },
   {
    "duration": 404,
    "start_time": "2023-05-01T12:29:00.173Z"
   },
   {
    "duration": 96,
    "start_time": "2023-05-01T12:29:00.579Z"
   },
   {
    "duration": 19,
    "start_time": "2023-05-01T12:29:00.677Z"
   },
   {
    "duration": 48,
    "start_time": "2023-05-01T12:29:00.699Z"
   },
   {
    "duration": 39,
    "start_time": "2023-05-01T12:29:00.750Z"
   },
   {
    "duration": 47,
    "start_time": "2023-05-01T12:29:00.791Z"
   },
   {
    "duration": 56,
    "start_time": "2023-05-01T12:29:00.841Z"
   },
   {
    "duration": 64,
    "start_time": "2023-05-01T12:29:00.898Z"
   },
   {
    "duration": 40,
    "start_time": "2023-05-01T12:29:00.964Z"
   },
   {
    "duration": 49,
    "start_time": "2023-05-01T12:29:01.006Z"
   },
   {
    "duration": 36,
    "start_time": "2023-05-01T12:29:01.056Z"
   },
   {
    "duration": 54,
    "start_time": "2023-05-01T12:29:01.094Z"
   },
   {
    "duration": 53,
    "start_time": "2023-05-01T12:29:01.151Z"
   },
   {
    "duration": 24,
    "start_time": "2023-05-01T12:29:01.205Z"
   },
   {
    "duration": 58,
    "start_time": "2023-05-01T12:29:01.231Z"
   },
   {
    "duration": 29,
    "start_time": "2023-05-01T12:29:01.290Z"
   },
   {
    "duration": 4111,
    "start_time": "2023-05-01T12:29:01.320Z"
   },
   {
    "duration": 12,
    "start_time": "2023-05-01T12:29:05.432Z"
   },
   {
    "duration": 43,
    "start_time": "2023-05-01T12:29:05.445Z"
   },
   {
    "duration": 7,
    "start_time": "2023-05-01T12:29:05.490Z"
   },
   {
    "duration": 10,
    "start_time": "2023-05-01T12:29:05.498Z"
   },
   {
    "duration": 7,
    "start_time": "2023-05-01T12:29:05.509Z"
   },
   {
    "duration": 13,
    "start_time": "2023-05-01T12:29:05.517Z"
   },
   {
    "duration": 13,
    "start_time": "2023-05-01T12:29:05.531Z"
   },
   {
    "duration": 14,
    "start_time": "2023-05-01T12:29:05.545Z"
   },
   {
    "duration": 23,
    "start_time": "2023-05-01T12:29:05.560Z"
   },
   {
    "duration": 72,
    "start_time": "2023-05-01T12:30:22.599Z"
   },
   {
    "duration": 9,
    "start_time": "2023-05-01T12:30:48.764Z"
   },
   {
    "duration": 12,
    "start_time": "2023-05-01T12:31:08.400Z"
   },
   {
    "duration": 13,
    "start_time": "2023-05-01T12:31:52.052Z"
   },
   {
    "duration": 416,
    "start_time": "2023-05-01T12:32:01.707Z"
   },
   {
    "duration": 83,
    "start_time": "2023-05-01T12:32:02.125Z"
   },
   {
    "duration": 17,
    "start_time": "2023-05-01T12:32:02.212Z"
   },
   {
    "duration": 35,
    "start_time": "2023-05-01T12:32:02.231Z"
   },
   {
    "duration": 24,
    "start_time": "2023-05-01T12:32:02.268Z"
   },
   {
    "duration": 35,
    "start_time": "2023-05-01T12:32:02.293Z"
   },
   {
    "duration": 152,
    "start_time": "2023-05-01T12:32:02.329Z"
   },
   {
    "duration": 13,
    "start_time": "2023-05-01T12:32:02.483Z"
   },
   {
    "duration": 12,
    "start_time": "2023-05-01T12:32:02.499Z"
   },
   {
    "duration": 25,
    "start_time": "2023-05-01T12:32:02.513Z"
   },
   {
    "duration": 38,
    "start_time": "2023-05-01T12:32:02.540Z"
   },
   {
    "duration": 21,
    "start_time": "2023-05-01T12:32:02.581Z"
   },
   {
    "duration": 20,
    "start_time": "2023-05-01T12:32:02.604Z"
   },
   {
    "duration": 77,
    "start_time": "2023-05-01T12:32:02.626Z"
   },
   {
    "duration": 0,
    "start_time": "2023-05-01T12:32:02.705Z"
   },
   {
    "duration": 0,
    "start_time": "2023-05-01T12:32:02.707Z"
   },
   {
    "duration": 0,
    "start_time": "2023-05-01T12:32:02.708Z"
   },
   {
    "duration": 0,
    "start_time": "2023-05-01T12:32:02.709Z"
   },
   {
    "duration": 0,
    "start_time": "2023-05-01T12:32:02.711Z"
   },
   {
    "duration": 0,
    "start_time": "2023-05-01T12:32:02.712Z"
   },
   {
    "duration": 0,
    "start_time": "2023-05-01T12:32:02.713Z"
   },
   {
    "duration": 2,
    "start_time": "2023-05-01T12:35:59.110Z"
   },
   {
    "duration": 4,
    "start_time": "2023-05-01T12:36:04.823Z"
   },
   {
    "duration": 14,
    "start_time": "2023-05-01T12:36:13.744Z"
   },
   {
    "duration": 26,
    "start_time": "2023-05-01T12:36:20.606Z"
   },
   {
    "duration": 11,
    "start_time": "2023-05-01T12:36:31.698Z"
   },
   {
    "duration": 15,
    "start_time": "2023-05-01T12:36:50.525Z"
   },
   {
    "duration": 14,
    "start_time": "2023-05-01T12:37:11.832Z"
   },
   {
    "duration": 11,
    "start_time": "2023-05-01T13:05:43.131Z"
   },
   {
    "duration": 9,
    "start_time": "2023-05-01T13:07:47.592Z"
   },
   {
    "duration": 7,
    "start_time": "2023-05-01T13:09:07.202Z"
   },
   {
    "duration": 5,
    "start_time": "2023-05-01T13:09:26.273Z"
   },
   {
    "duration": 11,
    "start_time": "2023-05-01T13:10:22.698Z"
   },
   {
    "duration": 11,
    "start_time": "2023-05-01T13:10:59.856Z"
   },
   {
    "duration": 9,
    "start_time": "2023-05-01T13:11:59.843Z"
   },
   {
    "duration": 22,
    "start_time": "2023-05-01T13:12:35.277Z"
   },
   {
    "duration": 11,
    "start_time": "2023-05-01T13:15:42.327Z"
   },
   {
    "duration": 11,
    "start_time": "2023-05-01T13:16:27.897Z"
   },
   {
    "duration": 11,
    "start_time": "2023-05-01T13:16:32.763Z"
   },
   {
    "duration": 10,
    "start_time": "2023-05-01T13:16:42.002Z"
   },
   {
    "duration": 10,
    "start_time": "2023-05-01T13:16:47.099Z"
   },
   {
    "duration": 8,
    "start_time": "2023-05-01T13:17:22.746Z"
   },
   {
    "duration": 21,
    "start_time": "2023-05-01T13:17:36.028Z"
   },
   {
    "duration": 10,
    "start_time": "2023-05-01T13:17:58.811Z"
   },
   {
    "duration": 9,
    "start_time": "2023-05-01T13:18:29.364Z"
   },
   {
    "duration": 8,
    "start_time": "2023-05-01T13:18:45.593Z"
   },
   {
    "duration": 10,
    "start_time": "2023-05-01T13:18:46.493Z"
   },
   {
    "duration": 6,
    "start_time": "2023-05-01T13:21:07.351Z"
   },
   {
    "duration": 6,
    "start_time": "2023-05-01T13:21:26.787Z"
   },
   {
    "duration": 54,
    "start_time": "2023-05-01T13:24:00.794Z"
   },
   {
    "duration": 62,
    "start_time": "2023-05-02T06:57:12.266Z"
   },
   {
    "duration": 368,
    "start_time": "2023-05-02T06:57:18.121Z"
   },
   {
    "duration": 123,
    "start_time": "2023-05-02T06:57:18.490Z"
   },
   {
    "duration": 17,
    "start_time": "2023-05-02T06:57:18.615Z"
   },
   {
    "duration": 27,
    "start_time": "2023-05-02T06:57:18.634Z"
   },
   {
    "duration": 22,
    "start_time": "2023-05-02T06:57:18.668Z"
   },
   {
    "duration": 17,
    "start_time": "2023-05-02T06:57:18.692Z"
   },
   {
    "duration": 21,
    "start_time": "2023-05-02T06:57:18.710Z"
   },
   {
    "duration": 17,
    "start_time": "2023-05-02T06:57:18.733Z"
   },
   {
    "duration": 26,
    "start_time": "2023-05-02T06:57:18.752Z"
   },
   {
    "duration": 13,
    "start_time": "2023-05-02T06:57:18.781Z"
   },
   {
    "duration": 28,
    "start_time": "2023-05-02T06:57:18.795Z"
   },
   {
    "duration": 23,
    "start_time": "2023-05-02T06:57:18.825Z"
   },
   {
    "duration": 22,
    "start_time": "2023-05-02T06:57:18.850Z"
   },
   {
    "duration": 11,
    "start_time": "2023-05-02T06:57:18.884Z"
   },
   {
    "duration": 17,
    "start_time": "2023-05-02T06:57:18.896Z"
   },
   {
    "duration": 15,
    "start_time": "2023-05-02T06:57:18.915Z"
   },
   {
    "duration": 6,
    "start_time": "2023-05-02T06:57:18.932Z"
   },
   {
    "duration": 29,
    "start_time": "2023-05-02T06:57:18.939Z"
   },
   {
    "duration": 10,
    "start_time": "2023-05-02T06:57:18.969Z"
   },
   {
    "duration": 13,
    "start_time": "2023-05-02T06:57:18.981Z"
   },
   {
    "duration": 25,
    "start_time": "2023-05-02T06:57:18.995Z"
   },
   {
    "duration": 8,
    "start_time": "2023-05-02T06:57:19.022Z"
   },
   {
    "duration": 34,
    "start_time": "2023-05-02T06:57:19.031Z"
   },
   {
    "duration": 14,
    "start_time": "2023-05-02T06:57:19.070Z"
   },
   {
    "duration": 20,
    "start_time": "2023-05-02T06:57:19.086Z"
   },
   {
    "duration": 29,
    "start_time": "2023-05-02T06:57:19.107Z"
   },
   {
    "duration": 15,
    "start_time": "2023-05-02T06:57:19.138Z"
   },
   {
    "duration": 21,
    "start_time": "2023-05-02T06:57:19.160Z"
   },
   {
    "duration": 1431,
    "start_time": "2023-05-02T06:57:19.183Z"
   },
   {
    "duration": 455,
    "start_time": "2023-05-02T06:57:42.125Z"
   },
   {
    "duration": 82,
    "start_time": "2023-05-02T06:57:42.592Z"
   },
   {
    "duration": 28,
    "start_time": "2023-05-02T06:57:42.683Z"
   },
   {
    "duration": 30,
    "start_time": "2023-05-02T06:57:42.713Z"
   },
   {
    "duration": 44,
    "start_time": "2023-05-02T06:57:42.746Z"
   },
   {
    "duration": 15,
    "start_time": "2023-05-02T06:57:42.794Z"
   },
   {
    "duration": 8,
    "start_time": "2023-05-02T06:57:42.810Z"
   },
   {
    "duration": 30,
    "start_time": "2023-05-02T06:57:42.820Z"
   },
   {
    "duration": 21,
    "start_time": "2023-05-02T06:57:42.851Z"
   },
   {
    "duration": 44,
    "start_time": "2023-05-02T06:57:42.874Z"
   },
   {
    "duration": 86,
    "start_time": "2023-05-02T06:57:42.919Z"
   },
   {
    "duration": 13,
    "start_time": "2023-05-02T06:57:43.007Z"
   },
   {
    "duration": 27,
    "start_time": "2023-05-02T06:57:43.022Z"
   },
   {
    "duration": 38,
    "start_time": "2023-05-02T06:57:43.052Z"
   },
   {
    "duration": 20,
    "start_time": "2023-05-02T06:57:43.092Z"
   },
   {
    "duration": 29,
    "start_time": "2023-05-02T06:57:43.114Z"
   },
   {
    "duration": 5,
    "start_time": "2023-05-02T06:57:43.145Z"
   },
   {
    "duration": 24,
    "start_time": "2023-05-02T06:57:43.153Z"
   },
   {
    "duration": 24,
    "start_time": "2023-05-02T06:57:43.179Z"
   },
   {
    "duration": 12,
    "start_time": "2023-05-02T06:57:43.204Z"
   },
   {
    "duration": 16,
    "start_time": "2023-05-02T06:57:43.218Z"
   },
   {
    "duration": 23,
    "start_time": "2023-05-02T06:57:43.236Z"
   },
   {
    "duration": 11,
    "start_time": "2023-05-02T06:57:43.262Z"
   },
   {
    "duration": 34,
    "start_time": "2023-05-02T06:57:43.274Z"
   },
   {
    "duration": 21,
    "start_time": "2023-05-02T06:57:43.310Z"
   },
   {
    "duration": 15,
    "start_time": "2023-05-02T06:57:43.333Z"
   },
   {
    "duration": 10,
    "start_time": "2023-05-02T06:57:43.350Z"
   },
   {
    "duration": 22,
    "start_time": "2023-05-02T06:57:43.361Z"
   },
   {
    "duration": 1964,
    "start_time": "2023-05-02T06:57:43.385Z"
   },
   {
    "duration": 11,
    "start_time": "2023-05-02T06:58:08.443Z"
   },
   {
    "duration": 4,
    "start_time": "2023-05-02T07:10:41.041Z"
   },
   {
    "duration": 32,
    "start_time": "2023-05-02T07:10:51.640Z"
   },
   {
    "duration": 13,
    "start_time": "2023-05-02T07:11:21.522Z"
   },
   {
    "duration": 596,
    "start_time": "2023-05-02T07:12:10.772Z"
   },
   {
    "duration": 10,
    "start_time": "2023-05-02T07:13:04.920Z"
   },
   {
    "duration": 618,
    "start_time": "2023-05-02T07:14:54.222Z"
   },
   {
    "duration": 11,
    "start_time": "2023-05-02T07:15:05.329Z"
   },
   {
    "duration": 271,
    "start_time": "2023-05-02T07:18:12.334Z"
   },
   {
    "duration": 10,
    "start_time": "2023-05-02T07:18:37.221Z"
   },
   {
    "duration": 229,
    "start_time": "2023-05-02T07:19:02.418Z"
   },
   {
    "duration": 12,
    "start_time": "2023-05-02T07:19:10.917Z"
   },
   {
    "duration": 311,
    "start_time": "2023-05-02T07:19:32.689Z"
   },
   {
    "duration": 17,
    "start_time": "2023-05-02T07:29:07.295Z"
   },
   {
    "duration": 14,
    "start_time": "2023-05-02T07:29:14.993Z"
   },
   {
    "duration": 11,
    "start_time": "2023-05-02T07:29:55.212Z"
   },
   {
    "duration": 12,
    "start_time": "2023-05-02T07:30:00.742Z"
   },
   {
    "duration": 257,
    "start_time": "2023-05-02T07:33:43.313Z"
   },
   {
    "duration": 18,
    "start_time": "2023-05-02T09:07:15.502Z"
   },
   {
    "duration": 234,
    "start_time": "2023-05-02T09:08:35.657Z"
   },
   {
    "duration": 309,
    "start_time": "2023-05-02T09:09:04.210Z"
   },
   {
    "duration": 6,
    "start_time": "2023-05-02T09:11:33.089Z"
   },
   {
    "duration": 15,
    "start_time": "2023-05-02T09:11:54.724Z"
   },
   {
    "duration": 24,
    "start_time": "2023-05-02T09:13:04.323Z"
   },
   {
    "duration": 352,
    "start_time": "2023-05-02T09:13:44.186Z"
   },
   {
    "duration": 6,
    "start_time": "2023-05-02T09:13:53.893Z"
   },
   {
    "duration": 11,
    "start_time": "2023-05-02T09:15:09.503Z"
   },
   {
    "duration": 294,
    "start_time": "2023-05-02T09:18:18.939Z"
   },
   {
    "duration": 54,
    "start_time": "2023-05-02T09:22:07.540Z"
   },
   {
    "duration": 323,
    "start_time": "2023-05-02T09:22:40.149Z"
   },
   {
    "duration": 101,
    "start_time": "2023-05-02T09:30:37.499Z"
   },
   {
    "duration": 206,
    "start_time": "2023-05-02T09:31:42.720Z"
   },
   {
    "duration": 184,
    "start_time": "2023-05-02T09:33:35.411Z"
   },
   {
    "duration": 249,
    "start_time": "2023-05-02T09:40:41.498Z"
   },
   {
    "duration": 6,
    "start_time": "2023-05-02T09:59:56.540Z"
   },
   {
    "duration": 98,
    "start_time": "2023-05-02T10:06:08.795Z"
   },
   {
    "duration": 11,
    "start_time": "2023-05-02T10:06:32.052Z"
   },
   {
    "duration": 324,
    "start_time": "2023-05-02T10:06:39.694Z"
   },
   {
    "duration": 14,
    "start_time": "2023-05-02T10:26:02.637Z"
   },
   {
    "duration": 496,
    "start_time": "2023-05-02T10:26:34.280Z"
   },
   {
    "duration": 352,
    "start_time": "2023-05-02T10:26:43.036Z"
   },
   {
    "duration": 499,
    "start_time": "2023-05-02T10:27:44.797Z"
   },
   {
    "duration": 331,
    "start_time": "2023-05-02T10:28:15.998Z"
   },
   {
    "duration": 1372,
    "start_time": "2023-05-02T12:50:03.016Z"
   },
   {
    "duration": 140,
    "start_time": "2023-05-02T12:50:09.637Z"
   },
   {
    "duration": 1227,
    "start_time": "2023-05-02T12:50:17.346Z"
   },
   {
    "duration": 109,
    "start_time": "2023-05-02T12:50:18.575Z"
   },
   {
    "duration": 17,
    "start_time": "2023-05-02T12:50:18.686Z"
   },
   {
    "duration": 22,
    "start_time": "2023-05-02T12:50:18.705Z"
   },
   {
    "duration": 36,
    "start_time": "2023-05-02T12:50:18.729Z"
   },
   {
    "duration": 14,
    "start_time": "2023-05-02T12:50:18.766Z"
   },
   {
    "duration": 9,
    "start_time": "2023-05-02T12:50:18.782Z"
   },
   {
    "duration": 15,
    "start_time": "2023-05-02T12:50:18.793Z"
   },
   {
    "duration": 11,
    "start_time": "2023-05-02T12:50:18.809Z"
   },
   {
    "duration": 37,
    "start_time": "2023-05-02T12:50:18.823Z"
   },
   {
    "duration": 21,
    "start_time": "2023-05-02T12:50:18.863Z"
   },
   {
    "duration": 13,
    "start_time": "2023-05-02T12:50:18.886Z"
   },
   {
    "duration": 6,
    "start_time": "2023-05-02T12:50:18.901Z"
   },
   {
    "duration": 41,
    "start_time": "2023-05-02T12:50:18.910Z"
   },
   {
    "duration": 20,
    "start_time": "2023-05-02T12:50:18.953Z"
   },
   {
    "duration": 20,
    "start_time": "2023-05-02T12:50:18.975Z"
   },
   {
    "duration": 13,
    "start_time": "2023-05-02T12:50:18.998Z"
   },
   {
    "duration": 16,
    "start_time": "2023-05-02T12:50:19.013Z"
   },
   {
    "duration": 30,
    "start_time": "2023-05-02T12:50:19.030Z"
   },
   {
    "duration": 15,
    "start_time": "2023-05-02T12:50:19.063Z"
   },
   {
    "duration": 24,
    "start_time": "2023-05-02T12:50:19.080Z"
   },
   {
    "duration": 9,
    "start_time": "2023-05-02T12:50:19.106Z"
   },
   {
    "duration": 8,
    "start_time": "2023-05-02T12:50:19.116Z"
   },
   {
    "duration": 40,
    "start_time": "2023-05-02T12:50:19.126Z"
   },
   {
    "duration": 10,
    "start_time": "2023-05-02T12:50:19.169Z"
   },
   {
    "duration": 13,
    "start_time": "2023-05-02T12:50:19.181Z"
   },
   {
    "duration": 8,
    "start_time": "2023-05-02T12:50:19.195Z"
   },
   {
    "duration": 9,
    "start_time": "2023-05-02T12:50:19.207Z"
   },
   {
    "duration": 260,
    "start_time": "2023-05-02T12:50:19.217Z"
   },
   {
    "duration": 6,
    "start_time": "2023-05-02T12:50:19.478Z"
   },
   {
    "duration": 37,
    "start_time": "2023-05-02T12:50:19.485Z"
   },
   {
    "duration": 313,
    "start_time": "2023-05-02T12:50:19.524Z"
   },
   {
    "duration": 283,
    "start_time": "2023-05-02T12:50:19.840Z"
   },
   {
    "duration": 204,
    "start_time": "2023-05-02T12:50:20.126Z"
   },
   {
    "duration": 202,
    "start_time": "2023-05-02T12:50:20.332Z"
   },
   {
    "duration": 197,
    "start_time": "2023-05-02T12:50:20.536Z"
   },
   {
    "duration": 273,
    "start_time": "2023-05-02T12:50:20.735Z"
   },
   {
    "duration": 7,
    "start_time": "2023-05-02T12:50:21.010Z"
   },
   {
    "duration": 182,
    "start_time": "2023-05-02T12:50:21.019Z"
   },
   {
    "duration": 315,
    "start_time": "2023-05-02T12:50:21.202Z"
   },
   {
    "duration": 309,
    "start_time": "2023-05-02T12:51:05.715Z"
   },
   {
    "duration": 115,
    "start_time": "2023-05-02T16:21:45.835Z"
   },
   {
    "duration": 21,
    "start_time": "2023-05-02T16:22:15.948Z"
   },
   {
    "duration": 87,
    "start_time": "2023-05-02T16:23:01.044Z"
   },
   {
    "duration": 76,
    "start_time": "2023-05-02T16:23:16.864Z"
   },
   {
    "duration": 283,
    "start_time": "2023-05-02T16:23:29.256Z"
   },
   {
    "duration": 9,
    "start_time": "2023-05-02T16:27:25.048Z"
   },
   {
    "duration": 5,
    "start_time": "2023-05-02T16:27:32.560Z"
   },
   {
    "duration": 6,
    "start_time": "2023-05-02T16:27:40.735Z"
   },
   {
    "duration": 286,
    "start_time": "2023-05-02T16:29:02.378Z"
   },
   {
    "duration": 6,
    "start_time": "2023-05-02T16:29:13.962Z"
   },
   {
    "duration": 6,
    "start_time": "2023-05-02T16:29:23.324Z"
   },
   {
    "duration": 292,
    "start_time": "2023-05-02T16:32:47.070Z"
   },
   {
    "duration": 286,
    "start_time": "2023-05-02T16:33:57.122Z"
   },
   {
    "duration": 301,
    "start_time": "2023-05-02T16:34:34.605Z"
   },
   {
    "duration": 6,
    "start_time": "2023-05-02T16:34:45.228Z"
   },
   {
    "duration": 7,
    "start_time": "2023-05-02T16:35:03.780Z"
   },
   {
    "duration": 5,
    "start_time": "2023-05-02T16:35:04.505Z"
   },
   {
    "duration": 308,
    "start_time": "2023-05-02T16:36:41.375Z"
   },
   {
    "duration": 5,
    "start_time": "2023-05-02T16:36:48.570Z"
   },
   {
    "duration": 6,
    "start_time": "2023-05-02T16:36:59.164Z"
   },
   {
    "duration": 6,
    "start_time": "2023-05-02T16:36:59.444Z"
   },
   {
    "duration": 4,
    "start_time": "2023-05-02T16:44:23.466Z"
   },
   {
    "duration": 7,
    "start_time": "2023-05-02T16:44:50.871Z"
   },
   {
    "duration": 6,
    "start_time": "2023-05-02T16:45:11.831Z"
   },
   {
    "duration": 7,
    "start_time": "2023-05-02T16:45:29.306Z"
   },
   {
    "duration": 7,
    "start_time": "2023-05-02T16:45:48.098Z"
   },
   {
    "duration": 7,
    "start_time": "2023-05-02T16:50:28.725Z"
   },
   {
    "duration": 11,
    "start_time": "2023-05-02T16:51:01.553Z"
   },
   {
    "duration": 8,
    "start_time": "2023-05-02T16:51:09.237Z"
   },
   {
    "duration": 9,
    "start_time": "2023-05-02T16:51:23.229Z"
   },
   {
    "duration": 66,
    "start_time": "2023-05-02T16:59:27.564Z"
   },
   {
    "duration": 5,
    "start_time": "2023-05-02T17:47:45.053Z"
   },
   {
    "duration": 12,
    "start_time": "2023-05-02T17:50:54.794Z"
   },
   {
    "duration": 17,
    "start_time": "2023-05-02T17:51:00.638Z"
   },
   {
    "duration": 25,
    "start_time": "2023-05-02T17:51:39.134Z"
   },
   {
    "duration": 23,
    "start_time": "2023-05-02T17:51:42.780Z"
   },
   {
    "duration": 17,
    "start_time": "2023-05-02T17:51:55.100Z"
   },
   {
    "duration": 23,
    "start_time": "2023-05-02T17:52:11.498Z"
   },
   {
    "duration": 113,
    "start_time": "2023-05-02T17:52:28.270Z"
   },
   {
    "duration": 28,
    "start_time": "2023-05-02T17:52:45.896Z"
   },
   {
    "duration": 11,
    "start_time": "2023-05-02T17:56:04.541Z"
   },
   {
    "duration": 14,
    "start_time": "2023-05-02T17:56:20.761Z"
   },
   {
    "duration": 4,
    "start_time": "2023-05-02T17:56:27.330Z"
   },
   {
    "duration": 9,
    "start_time": "2023-05-02T17:56:32.261Z"
   },
   {
    "duration": 15,
    "start_time": "2023-05-02T17:57:16.956Z"
   },
   {
    "duration": 12,
    "start_time": "2023-05-02T17:57:28.512Z"
   },
   {
    "duration": 10,
    "start_time": "2023-05-02T17:57:36.312Z"
   },
   {
    "duration": 12,
    "start_time": "2023-05-02T17:57:46.538Z"
   },
   {
    "duration": 1113,
    "start_time": "2023-05-02T17:58:39.930Z"
   },
   {
    "duration": 256,
    "start_time": "2023-05-02T17:58:47.856Z"
   },
   {
    "duration": 13,
    "start_time": "2023-05-02T17:59:51.167Z"
   },
   {
    "duration": 14,
    "start_time": "2023-05-02T18:00:06.204Z"
   },
   {
    "duration": 11,
    "start_time": "2023-05-02T18:00:10.177Z"
   },
   {
    "duration": 11,
    "start_time": "2023-05-02T18:00:14.849Z"
   },
   {
    "duration": 172,
    "start_time": "2023-05-02T18:00:46.197Z"
   },
   {
    "duration": 240,
    "start_time": "2023-05-02T18:01:06.098Z"
   },
   {
    "duration": 240,
    "start_time": "2023-05-02T18:01:53.881Z"
   },
   {
    "duration": 1435,
    "start_time": "2023-05-02T18:02:13.956Z"
   },
   {
    "duration": 95,
    "start_time": "2023-05-02T18:02:15.393Z"
   },
   {
    "duration": 18,
    "start_time": "2023-05-02T18:02:15.489Z"
   },
   {
    "duration": 41,
    "start_time": "2023-05-02T18:02:15.509Z"
   },
   {
    "duration": 37,
    "start_time": "2023-05-02T18:02:15.552Z"
   },
   {
    "duration": 15,
    "start_time": "2023-05-02T18:02:15.591Z"
   },
   {
    "duration": 12,
    "start_time": "2023-05-02T18:02:15.608Z"
   },
   {
    "duration": 21,
    "start_time": "2023-05-02T18:02:15.622Z"
   },
   {
    "duration": 10,
    "start_time": "2023-05-02T18:02:15.645Z"
   },
   {
    "duration": 15,
    "start_time": "2023-05-02T18:02:15.660Z"
   },
   {
    "duration": 30,
    "start_time": "2023-05-02T18:02:15.676Z"
   },
   {
    "duration": 12,
    "start_time": "2023-05-02T18:02:15.708Z"
   },
   {
    "duration": 18,
    "start_time": "2023-05-02T18:02:15.722Z"
   },
   {
    "duration": 19,
    "start_time": "2023-05-02T18:02:15.741Z"
   },
   {
    "duration": 17,
    "start_time": "2023-05-02T18:02:15.761Z"
   },
   {
    "duration": 23,
    "start_time": "2023-05-02T18:02:15.780Z"
   },
   {
    "duration": 7,
    "start_time": "2023-05-02T18:02:15.805Z"
   },
   {
    "duration": 17,
    "start_time": "2023-05-02T18:02:15.814Z"
   },
   {
    "duration": 8,
    "start_time": "2023-05-02T18:02:15.832Z"
   },
   {
    "duration": 23,
    "start_time": "2023-05-02T18:02:15.841Z"
   },
   {
    "duration": 19,
    "start_time": "2023-05-02T18:02:15.866Z"
   },
   {
    "duration": 24,
    "start_time": "2023-05-02T18:02:15.887Z"
   },
   {
    "duration": 17,
    "start_time": "2023-05-02T18:02:15.913Z"
   },
   {
    "duration": 13,
    "start_time": "2023-05-02T18:02:15.931Z"
   },
   {
    "duration": 20,
    "start_time": "2023-05-02T18:02:15.945Z"
   },
   {
    "duration": 19,
    "start_time": "2023-05-02T18:02:15.967Z"
   },
   {
    "duration": 9,
    "start_time": "2023-05-02T18:02:15.988Z"
   },
   {
    "duration": 12,
    "start_time": "2023-05-02T18:02:16.000Z"
   },
   {
    "duration": 248,
    "start_time": "2023-05-02T18:02:16.013Z"
   },
   {
    "duration": 5,
    "start_time": "2023-05-02T18:02:16.263Z"
   },
   {
    "duration": 32,
    "start_time": "2023-05-02T18:02:16.270Z"
   },
   {
    "duration": 281,
    "start_time": "2023-05-02T18:02:16.304Z"
   },
   {
    "duration": 194,
    "start_time": "2023-05-02T18:02:16.586Z"
   },
   {
    "duration": 195,
    "start_time": "2023-05-02T18:02:16.782Z"
   },
   {
    "duration": 190,
    "start_time": "2023-05-02T18:02:16.978Z"
   },
   {
    "duration": 199,
    "start_time": "2023-05-02T18:02:17.170Z"
   },
   {
    "duration": 258,
    "start_time": "2023-05-02T18:02:17.371Z"
   },
   {
    "duration": 6,
    "start_time": "2023-05-02T18:02:17.630Z"
   },
   {
    "duration": 180,
    "start_time": "2023-05-02T18:02:17.637Z"
   },
   {
    "duration": 306,
    "start_time": "2023-05-02T18:02:17.819Z"
   },
   {
    "duration": 293,
    "start_time": "2023-05-02T18:02:18.126Z"
   },
   {
    "duration": 5,
    "start_time": "2023-05-02T18:02:18.421Z"
   },
   {
    "duration": 8,
    "start_time": "2023-05-02T18:02:18.427Z"
   },
   {
    "duration": 287,
    "start_time": "2023-05-02T18:02:18.436Z"
   },
   {
    "duration": 5,
    "start_time": "2023-05-02T18:02:18.725Z"
   },
   {
    "duration": 15,
    "start_time": "2023-05-02T18:02:18.732Z"
   },
   {
    "duration": 304,
    "start_time": "2023-05-02T18:02:18.749Z"
   },
   {
    "duration": 4,
    "start_time": "2023-05-02T18:02:19.059Z"
   },
   {
    "duration": 12,
    "start_time": "2023-05-02T18:02:19.064Z"
   },
   {
    "duration": 274,
    "start_time": "2023-05-02T18:02:19.078Z"
   },
   {
    "duration": 5,
    "start_time": "2023-05-02T18:02:19.358Z"
   },
   {
    "duration": 22,
    "start_time": "2023-05-02T18:02:19.364Z"
   },
   {
    "duration": 14,
    "start_time": "2023-05-02T18:02:19.388Z"
   },
   {
    "duration": 21,
    "start_time": "2023-05-02T18:02:19.404Z"
   },
   {
    "duration": 34,
    "start_time": "2023-05-02T18:02:19.426Z"
   },
   {
    "duration": 257,
    "start_time": "2023-05-02T18:02:19.462Z"
   },
   {
    "duration": 105,
    "start_time": "2023-05-02T18:02:19.720Z"
   },
   {
    "duration": 0,
    "start_time": "2023-05-02T18:02:19.827Z"
   },
   {
    "duration": 252,
    "start_time": "2023-05-02T18:03:06.038Z"
   },
   {
    "duration": 277,
    "start_time": "2023-05-02T18:03:29.114Z"
   },
   {
    "duration": 400,
    "start_time": "2023-05-02T18:07:17.598Z"
   },
   {
    "duration": 313,
    "start_time": "2023-05-02T18:07:45.603Z"
   },
   {
    "duration": 25,
    "start_time": "2023-05-02T18:12:20.127Z"
   },
   {
    "duration": 268,
    "start_time": "2023-05-02T18:13:53.611Z"
   },
   {
    "duration": 267,
    "start_time": "2023-05-02T18:14:25.607Z"
   },
   {
    "duration": 1632,
    "start_time": "2023-05-03T07:15:53.227Z"
   },
   {
    "duration": 303,
    "start_time": "2023-05-03T07:15:54.862Z"
   },
   {
    "duration": 33,
    "start_time": "2023-05-03T07:15:55.167Z"
   },
   {
    "duration": 26,
    "start_time": "2023-05-03T07:15:55.203Z"
   },
   {
    "duration": 22,
    "start_time": "2023-05-03T07:15:55.231Z"
   },
   {
    "duration": 18,
    "start_time": "2023-05-03T07:15:55.255Z"
   },
   {
    "duration": 19,
    "start_time": "2023-05-03T07:15:55.283Z"
   },
   {
    "duration": 38,
    "start_time": "2023-05-03T07:15:55.304Z"
   },
   {
    "duration": 23,
    "start_time": "2023-05-03T07:15:55.344Z"
   },
   {
    "duration": 17,
    "start_time": "2023-05-03T07:15:55.371Z"
   },
   {
    "duration": 36,
    "start_time": "2023-05-03T07:15:55.389Z"
   },
   {
    "duration": 14,
    "start_time": "2023-05-03T07:15:55.427Z"
   },
   {
    "duration": 6,
    "start_time": "2023-05-03T07:15:55.443Z"
   },
   {
    "duration": 47,
    "start_time": "2023-05-03T07:15:55.451Z"
   },
   {
    "duration": 21,
    "start_time": "2023-05-03T07:15:55.500Z"
   },
   {
    "duration": 16,
    "start_time": "2023-05-03T07:15:55.523Z"
   },
   {
    "duration": 21,
    "start_time": "2023-05-03T07:15:55.541Z"
   },
   {
    "duration": 45,
    "start_time": "2023-05-03T07:15:55.564Z"
   },
   {
    "duration": 23,
    "start_time": "2023-05-03T07:15:55.610Z"
   },
   {
    "duration": 46,
    "start_time": "2023-05-03T07:15:55.635Z"
   },
   {
    "duration": 53,
    "start_time": "2023-05-03T07:15:55.683Z"
   },
   {
    "duration": 35,
    "start_time": "2023-05-03T07:15:55.738Z"
   },
   {
    "duration": 30,
    "start_time": "2023-05-03T07:15:55.775Z"
   },
   {
    "duration": 20,
    "start_time": "2023-05-03T07:15:55.807Z"
   },
   {
    "duration": 26,
    "start_time": "2023-05-03T07:15:55.829Z"
   },
   {
    "duration": 20,
    "start_time": "2023-05-03T07:15:55.857Z"
   },
   {
    "duration": 36,
    "start_time": "2023-05-03T07:15:55.879Z"
   },
   {
    "duration": 32,
    "start_time": "2023-05-03T07:15:55.920Z"
   },
   {
    "duration": 281,
    "start_time": "2023-05-03T07:15:55.954Z"
   },
   {
    "duration": 5,
    "start_time": "2023-05-03T07:15:56.237Z"
   },
   {
    "duration": 41,
    "start_time": "2023-05-03T07:15:56.244Z"
   },
   {
    "duration": 382,
    "start_time": "2023-05-03T07:15:56.290Z"
   },
   {
    "duration": 240,
    "start_time": "2023-05-03T07:15:56.676Z"
   },
   {
    "duration": 208,
    "start_time": "2023-05-03T07:15:56.918Z"
   },
   {
    "duration": 228,
    "start_time": "2023-05-03T07:15:57.128Z"
   },
   {
    "duration": 201,
    "start_time": "2023-05-03T07:15:57.358Z"
   },
   {
    "duration": 266,
    "start_time": "2023-05-03T07:15:57.561Z"
   },
   {
    "duration": 6,
    "start_time": "2023-05-03T07:15:57.828Z"
   },
   {
    "duration": 226,
    "start_time": "2023-05-03T07:15:57.836Z"
   },
   {
    "duration": 343,
    "start_time": "2023-05-03T07:15:58.064Z"
   },
   {
    "duration": 333,
    "start_time": "2023-05-03T07:15:58.409Z"
   },
   {
    "duration": 6,
    "start_time": "2023-05-03T07:15:58.744Z"
   },
   {
    "duration": 66,
    "start_time": "2023-05-03T07:15:58.751Z"
   },
   {
    "duration": 308,
    "start_time": "2023-05-03T07:15:58.819Z"
   },
   {
    "duration": 4,
    "start_time": "2023-05-03T07:15:59.129Z"
   },
   {
    "duration": 11,
    "start_time": "2023-05-03T07:15:59.135Z"
   },
   {
    "duration": 306,
    "start_time": "2023-05-03T07:15:59.148Z"
   },
   {
    "duration": 5,
    "start_time": "2023-05-03T07:15:59.456Z"
   },
   {
    "duration": 166,
    "start_time": "2023-05-03T07:15:59.462Z"
   },
   {
    "duration": 312,
    "start_time": "2023-05-03T07:15:59.630Z"
   },
   {
    "duration": 5,
    "start_time": "2023-05-03T07:15:59.943Z"
   },
   {
    "duration": 18,
    "start_time": "2023-05-03T07:15:59.950Z"
   },
   {
    "duration": 23,
    "start_time": "2023-05-03T07:15:59.969Z"
   },
   {
    "duration": 70,
    "start_time": "2023-05-03T07:15:59.994Z"
   },
   {
    "duration": 69,
    "start_time": "2023-05-03T07:16:00.066Z"
   },
   {
    "duration": 431,
    "start_time": "2023-05-03T07:16:00.137Z"
   },
   {
    "duration": 45,
    "start_time": "2023-05-03T07:16:00.571Z"
   },
   {
    "duration": 424,
    "start_time": "2023-05-03T07:16:00.618Z"
   },
   {
    "duration": 1422,
    "start_time": "2023-05-03T07:17:46.620Z"
   },
   {
    "duration": 349,
    "start_time": "2023-05-03T07:17:54.414Z"
   },
   {
    "duration": 5,
    "start_time": "2023-05-03T07:19:05.501Z"
   },
   {
    "duration": 1308,
    "start_time": "2023-05-03T07:25:33.547Z"
   },
   {
    "duration": 88,
    "start_time": "2023-05-03T07:25:34.857Z"
   },
   {
    "duration": 44,
    "start_time": "2023-05-03T07:25:34.947Z"
   },
   {
    "duration": 154,
    "start_time": "2023-05-03T07:25:34.994Z"
   },
   {
    "duration": 29,
    "start_time": "2023-05-03T07:25:35.149Z"
   },
   {
    "duration": 52,
    "start_time": "2023-05-03T07:25:35.179Z"
   },
   {
    "duration": 20,
    "start_time": "2023-05-03T07:25:35.233Z"
   },
   {
    "duration": 71,
    "start_time": "2023-05-03T07:25:35.255Z"
   },
   {
    "duration": 40,
    "start_time": "2023-05-03T07:25:35.328Z"
   },
   {
    "duration": 70,
    "start_time": "2023-05-03T07:25:35.370Z"
   },
   {
    "duration": 31,
    "start_time": "2023-05-03T07:25:35.442Z"
   },
   {
    "duration": 47,
    "start_time": "2023-05-03T07:25:35.475Z"
   },
   {
    "duration": 21,
    "start_time": "2023-05-03T07:25:35.524Z"
   },
   {
    "duration": 23,
    "start_time": "2023-05-03T07:25:35.549Z"
   },
   {
    "duration": 30,
    "start_time": "2023-05-03T07:25:35.574Z"
   },
   {
    "duration": 56,
    "start_time": "2023-05-03T07:25:35.606Z"
   },
   {
    "duration": 5,
    "start_time": "2023-05-03T07:25:35.664Z"
   },
   {
    "duration": 66,
    "start_time": "2023-05-03T07:25:35.671Z"
   },
   {
    "duration": 8,
    "start_time": "2023-05-03T07:25:35.739Z"
   },
   {
    "duration": 14,
    "start_time": "2023-05-03T07:25:35.749Z"
   },
   {
    "duration": 51,
    "start_time": "2023-05-03T07:25:35.765Z"
   },
   {
    "duration": 15,
    "start_time": "2023-05-03T07:25:35.819Z"
   },
   {
    "duration": 18,
    "start_time": "2023-05-03T07:25:35.836Z"
   },
   {
    "duration": 22,
    "start_time": "2023-05-03T07:25:35.856Z"
   },
   {
    "duration": 37,
    "start_time": "2023-05-03T07:25:35.879Z"
   },
   {
    "duration": 27,
    "start_time": "2023-05-03T07:25:35.918Z"
   },
   {
    "duration": 11,
    "start_time": "2023-05-03T07:25:35.947Z"
   },
   {
    "duration": 11,
    "start_time": "2023-05-03T07:25:35.960Z"
   },
   {
    "duration": 307,
    "start_time": "2023-05-03T07:25:35.972Z"
   },
   {
    "duration": 14,
    "start_time": "2023-05-03T07:25:36.289Z"
   },
   {
    "duration": 31,
    "start_time": "2023-05-03T07:25:36.306Z"
   },
   {
    "duration": 315,
    "start_time": "2023-05-03T07:25:36.338Z"
   },
   {
    "duration": 212,
    "start_time": "2023-05-03T07:25:36.655Z"
   },
   {
    "duration": 235,
    "start_time": "2023-05-03T07:25:36.870Z"
   },
   {
    "duration": 218,
    "start_time": "2023-05-03T07:25:37.106Z"
   },
   {
    "duration": 221,
    "start_time": "2023-05-03T07:25:37.326Z"
   },
   {
    "duration": 295,
    "start_time": "2023-05-03T07:25:37.549Z"
   },
   {
    "duration": 7,
    "start_time": "2023-05-03T07:25:37.845Z"
   },
   {
    "duration": 201,
    "start_time": "2023-05-03T07:25:37.854Z"
   },
   {
    "duration": 386,
    "start_time": "2023-05-03T07:25:38.057Z"
   },
   {
    "duration": 373,
    "start_time": "2023-05-03T07:25:38.447Z"
   },
   {
    "duration": 6,
    "start_time": "2023-05-03T07:25:38.822Z"
   },
   {
    "duration": 11,
    "start_time": "2023-05-03T07:25:38.830Z"
   },
   {
    "duration": 359,
    "start_time": "2023-05-03T07:25:38.843Z"
   },
   {
    "duration": 6,
    "start_time": "2023-05-03T07:25:39.205Z"
   },
   {
    "duration": 27,
    "start_time": "2023-05-03T07:25:39.213Z"
   },
   {
    "duration": 360,
    "start_time": "2023-05-03T07:25:39.243Z"
   },
   {
    "duration": 6,
    "start_time": "2023-05-03T07:25:39.612Z"
   },
   {
    "duration": 51,
    "start_time": "2023-05-03T07:25:39.620Z"
   },
   {
    "duration": 366,
    "start_time": "2023-05-03T07:25:39.673Z"
   },
   {
    "duration": 7,
    "start_time": "2023-05-03T07:25:40.041Z"
   },
   {
    "duration": 48,
    "start_time": "2023-05-03T07:25:40.049Z"
   },
   {
    "duration": 24,
    "start_time": "2023-05-03T07:25:40.099Z"
   },
   {
    "duration": 31,
    "start_time": "2023-05-03T07:25:40.125Z"
   },
   {
    "duration": 47,
    "start_time": "2023-05-03T07:25:40.158Z"
   },
   {
    "duration": 345,
    "start_time": "2023-05-03T07:25:40.208Z"
   },
   {
    "duration": 42,
    "start_time": "2023-05-03T07:25:40.554Z"
   },
   {
    "duration": 295,
    "start_time": "2023-05-03T07:25:40.604Z"
   },
   {
    "duration": 130,
    "start_time": "2023-05-03T07:25:40.900Z"
   },
   {
    "duration": 6,
    "start_time": "2023-05-03T07:26:24.560Z"
   },
   {
    "duration": 8,
    "start_time": "2023-05-03T07:26:33.879Z"
   },
   {
    "duration": 4,
    "start_time": "2023-05-03T07:26:53.638Z"
   },
   {
    "duration": 5,
    "start_time": "2023-05-03T07:27:07.801Z"
   },
   {
    "duration": 5,
    "start_time": "2023-05-03T07:27:12.758Z"
   },
   {
    "duration": 1196,
    "start_time": "2023-05-03T07:27:53.715Z"
   },
   {
    "duration": 78,
    "start_time": "2023-05-03T07:27:54.914Z"
   },
   {
    "duration": 28,
    "start_time": "2023-05-03T07:27:54.993Z"
   },
   {
    "duration": 26,
    "start_time": "2023-05-03T07:27:55.024Z"
   },
   {
    "duration": 44,
    "start_time": "2023-05-03T07:27:55.053Z"
   },
   {
    "duration": 15,
    "start_time": "2023-05-03T07:27:55.100Z"
   },
   {
    "duration": 11,
    "start_time": "2023-05-03T07:27:55.117Z"
   },
   {
    "duration": 13,
    "start_time": "2023-05-03T07:27:55.129Z"
   },
   {
    "duration": 10,
    "start_time": "2023-05-03T07:27:55.143Z"
   },
   {
    "duration": 10,
    "start_time": "2023-05-03T07:27:55.154Z"
   },
   {
    "duration": 41,
    "start_time": "2023-05-03T07:27:55.165Z"
   },
   {
    "duration": 14,
    "start_time": "2023-05-03T07:27:55.207Z"
   },
   {
    "duration": 5,
    "start_time": "2023-05-03T07:27:55.223Z"
   },
   {
    "duration": 14,
    "start_time": "2023-05-03T07:27:55.231Z"
   },
   {
    "duration": 51,
    "start_time": "2023-05-03T07:27:55.247Z"
   },
   {
    "duration": 15,
    "start_time": "2023-05-03T07:27:55.300Z"
   },
   {
    "duration": 4,
    "start_time": "2023-05-03T07:27:55.317Z"
   },
   {
    "duration": 7,
    "start_time": "2023-05-03T07:27:55.323Z"
   },
   {
    "duration": 7,
    "start_time": "2023-05-03T07:27:55.332Z"
   },
   {
    "duration": 15,
    "start_time": "2023-05-03T07:27:55.340Z"
   },
   {
    "duration": 49,
    "start_time": "2023-05-03T07:27:55.356Z"
   },
   {
    "duration": 19,
    "start_time": "2023-05-03T07:27:55.407Z"
   },
   {
    "duration": 26,
    "start_time": "2023-05-03T07:27:55.428Z"
   },
   {
    "duration": 18,
    "start_time": "2023-05-03T07:27:55.456Z"
   },
   {
    "duration": 15,
    "start_time": "2023-05-03T07:27:55.476Z"
   },
   {
    "duration": 21,
    "start_time": "2023-05-03T07:27:55.493Z"
   },
   {
    "duration": 9,
    "start_time": "2023-05-03T07:27:55.515Z"
   },
   {
    "duration": 14,
    "start_time": "2023-05-03T07:27:55.526Z"
   },
   {
    "duration": 231,
    "start_time": "2023-05-03T07:27:55.542Z"
   },
   {
    "duration": 22,
    "start_time": "2023-05-03T07:27:55.775Z"
   },
   {
    "duration": 20,
    "start_time": "2023-05-03T07:27:55.799Z"
   },
   {
    "duration": 301,
    "start_time": "2023-05-03T07:27:55.821Z"
   },
   {
    "duration": 206,
    "start_time": "2023-05-03T07:27:56.124Z"
   },
   {
    "duration": 210,
    "start_time": "2023-05-03T07:27:56.332Z"
   },
   {
    "duration": 216,
    "start_time": "2023-05-03T07:27:56.543Z"
   },
   {
    "duration": 239,
    "start_time": "2023-05-03T07:27:56.761Z"
   },
   {
    "duration": 260,
    "start_time": "2023-05-03T07:27:57.004Z"
   },
   {
    "duration": 6,
    "start_time": "2023-05-03T07:27:57.266Z"
   },
   {
    "duration": 178,
    "start_time": "2023-05-03T07:27:57.288Z"
   },
   {
    "duration": 326,
    "start_time": "2023-05-03T07:27:57.468Z"
   },
   {
    "duration": 288,
    "start_time": "2023-05-03T07:27:57.801Z"
   },
   {
    "duration": 6,
    "start_time": "2023-05-03T07:27:58.095Z"
   },
   {
    "duration": 18,
    "start_time": "2023-05-03T07:27:58.103Z"
   },
   {
    "duration": 373,
    "start_time": "2023-05-03T07:27:58.123Z"
   },
   {
    "duration": 10,
    "start_time": "2023-05-03T07:27:58.497Z"
   },
   {
    "duration": 27,
    "start_time": "2023-05-03T07:27:58.509Z"
   },
   {
    "duration": 299,
    "start_time": "2023-05-03T07:27:58.538Z"
   },
   {
    "duration": 5,
    "start_time": "2023-05-03T07:27:58.839Z"
   },
   {
    "duration": 34,
    "start_time": "2023-05-03T07:27:58.846Z"
   },
   {
    "duration": 284,
    "start_time": "2023-05-03T07:27:58.882Z"
   },
   {
    "duration": 6,
    "start_time": "2023-05-03T07:27:59.168Z"
   },
   {
    "duration": 7,
    "start_time": "2023-05-03T07:27:59.184Z"
   },
   {
    "duration": 19,
    "start_time": "2023-05-03T07:27:59.194Z"
   },
   {
    "duration": 7,
    "start_time": "2023-05-03T07:27:59.214Z"
   },
   {
    "duration": 30,
    "start_time": "2023-05-03T07:27:59.222Z"
   },
   {
    "duration": 337,
    "start_time": "2023-05-03T07:27:59.254Z"
   },
   {
    "duration": 22,
    "start_time": "2023-05-03T07:27:59.601Z"
   },
   {
    "duration": 295,
    "start_time": "2023-05-03T07:27:59.625Z"
   },
   {
    "duration": 153,
    "start_time": "2023-05-03T07:27:59.922Z"
   },
   {
    "duration": 11,
    "start_time": "2023-05-03T07:28:00.077Z"
   },
   {
    "duration": 1321,
    "start_time": "2023-05-03T07:30:29.483Z"
   },
   {
    "duration": 72,
    "start_time": "2023-05-03T07:30:30.806Z"
   },
   {
    "duration": 24,
    "start_time": "2023-05-03T07:30:30.880Z"
   },
   {
    "duration": 62,
    "start_time": "2023-05-03T07:30:30.907Z"
   },
   {
    "duration": 77,
    "start_time": "2023-05-03T07:30:30.973Z"
   },
   {
    "duration": 58,
    "start_time": "2023-05-03T07:30:31.053Z"
   },
   {
    "duration": 44,
    "start_time": "2023-05-03T07:30:31.113Z"
   },
   {
    "duration": 35,
    "start_time": "2023-05-03T07:30:31.159Z"
   },
   {
    "duration": 77,
    "start_time": "2023-05-03T07:30:31.199Z"
   },
   {
    "duration": 83,
    "start_time": "2023-05-03T07:30:31.278Z"
   },
   {
    "duration": 98,
    "start_time": "2023-05-03T07:30:31.363Z"
   },
   {
    "duration": 33,
    "start_time": "2023-05-03T07:30:31.462Z"
   },
   {
    "duration": 39,
    "start_time": "2023-05-03T07:30:31.499Z"
   },
   {
    "duration": 62,
    "start_time": "2023-05-03T07:30:31.542Z"
   },
   {
    "duration": 37,
    "start_time": "2023-05-03T07:30:31.606Z"
   },
   {
    "duration": 31,
    "start_time": "2023-05-03T07:30:31.645Z"
   },
   {
    "duration": 29,
    "start_time": "2023-05-03T07:30:31.678Z"
   },
   {
    "duration": 36,
    "start_time": "2023-05-03T07:30:31.709Z"
   },
   {
    "duration": 40,
    "start_time": "2023-05-03T07:30:31.746Z"
   },
   {
    "duration": 73,
    "start_time": "2023-05-03T07:30:31.788Z"
   },
   {
    "duration": 61,
    "start_time": "2023-05-03T07:30:31.863Z"
   },
   {
    "duration": 35,
    "start_time": "2023-05-03T07:30:31.926Z"
   },
   {
    "duration": 48,
    "start_time": "2023-05-03T07:30:31.963Z"
   },
   {
    "duration": 55,
    "start_time": "2023-05-03T07:30:32.013Z"
   },
   {
    "duration": 50,
    "start_time": "2023-05-03T07:30:32.070Z"
   },
   {
    "duration": 29,
    "start_time": "2023-05-03T07:30:32.121Z"
   },
   {
    "duration": 12,
    "start_time": "2023-05-03T07:30:32.152Z"
   },
   {
    "duration": 37,
    "start_time": "2023-05-03T07:30:32.166Z"
   },
   {
    "duration": 276,
    "start_time": "2023-05-03T07:30:32.205Z"
   },
   {
    "duration": 11,
    "start_time": "2023-05-03T07:30:32.482Z"
   },
   {
    "duration": 56,
    "start_time": "2023-05-03T07:30:32.495Z"
   },
   {
    "duration": 304,
    "start_time": "2023-05-03T07:30:32.553Z"
   },
   {
    "duration": 219,
    "start_time": "2023-05-03T07:30:32.858Z"
   },
   {
    "duration": 244,
    "start_time": "2023-05-03T07:30:33.084Z"
   },
   {
    "duration": 219,
    "start_time": "2023-05-03T07:30:33.329Z"
   },
   {
    "duration": 210,
    "start_time": "2023-05-03T07:30:33.550Z"
   },
   {
    "duration": 330,
    "start_time": "2023-05-03T07:30:33.762Z"
   },
   {
    "duration": 10,
    "start_time": "2023-05-03T07:30:34.095Z"
   },
   {
    "duration": 206,
    "start_time": "2023-05-03T07:30:34.111Z"
   },
   {
    "duration": 332,
    "start_time": "2023-05-03T07:30:34.319Z"
   },
   {
    "duration": 316,
    "start_time": "2023-05-03T07:30:34.654Z"
   },
   {
    "duration": 29,
    "start_time": "2023-05-03T07:30:34.972Z"
   },
   {
    "duration": 46,
    "start_time": "2023-05-03T07:30:35.003Z"
   },
   {
    "duration": 381,
    "start_time": "2023-05-03T07:30:35.051Z"
   },
   {
    "duration": 4,
    "start_time": "2023-05-03T07:30:35.434Z"
   },
   {
    "duration": 65,
    "start_time": "2023-05-03T07:30:35.440Z"
   },
   {
    "duration": 349,
    "start_time": "2023-05-03T07:30:35.507Z"
   },
   {
    "duration": 5,
    "start_time": "2023-05-03T07:30:35.858Z"
   },
   {
    "duration": 50,
    "start_time": "2023-05-03T07:30:35.865Z"
   },
   {
    "duration": 298,
    "start_time": "2023-05-03T07:30:35.917Z"
   },
   {
    "duration": 5,
    "start_time": "2023-05-03T07:30:36.217Z"
   },
   {
    "duration": 29,
    "start_time": "2023-05-03T07:30:36.224Z"
   },
   {
    "duration": 55,
    "start_time": "2023-05-03T07:30:36.254Z"
   },
   {
    "duration": 33,
    "start_time": "2023-05-03T07:30:36.311Z"
   },
   {
    "duration": 64,
    "start_time": "2023-05-03T07:30:36.346Z"
   },
   {
    "duration": 318,
    "start_time": "2023-05-03T07:30:36.412Z"
   },
   {
    "duration": 37,
    "start_time": "2023-05-03T07:30:36.732Z"
   },
   {
    "duration": 266,
    "start_time": "2023-05-03T07:30:36.787Z"
   },
   {
    "duration": 128,
    "start_time": "2023-05-03T07:30:37.055Z"
   },
   {
    "duration": 15,
    "start_time": "2023-05-03T07:30:37.185Z"
   },
   {
    "duration": 1212,
    "start_time": "2023-05-03T07:34:02.948Z"
   },
   {
    "duration": 80,
    "start_time": "2023-05-03T07:34:04.162Z"
   },
   {
    "duration": 21,
    "start_time": "2023-05-03T07:34:04.243Z"
   },
   {
    "duration": 36,
    "start_time": "2023-05-03T07:34:04.265Z"
   },
   {
    "duration": 19,
    "start_time": "2023-05-03T07:34:04.303Z"
   },
   {
    "duration": 14,
    "start_time": "2023-05-03T07:34:04.324Z"
   },
   {
    "duration": 37,
    "start_time": "2023-05-03T07:34:04.340Z"
   },
   {
    "duration": 26,
    "start_time": "2023-05-03T07:34:04.378Z"
   },
   {
    "duration": 16,
    "start_time": "2023-05-03T07:34:04.406Z"
   },
   {
    "duration": 18,
    "start_time": "2023-05-03T07:34:04.424Z"
   },
   {
    "duration": 34,
    "start_time": "2023-05-03T07:34:04.444Z"
   },
   {
    "duration": 39,
    "start_time": "2023-05-03T07:34:04.480Z"
   },
   {
    "duration": 21,
    "start_time": "2023-05-03T07:34:04.521Z"
   },
   {
    "duration": 48,
    "start_time": "2023-05-03T07:34:04.545Z"
   },
   {
    "duration": 22,
    "start_time": "2023-05-03T07:34:04.599Z"
   },
   {
    "duration": 23,
    "start_time": "2023-05-03T07:34:04.622Z"
   },
   {
    "duration": 5,
    "start_time": "2023-05-03T07:34:04.647Z"
   },
   {
    "duration": 26,
    "start_time": "2023-05-03T07:34:04.654Z"
   },
   {
    "duration": 36,
    "start_time": "2023-05-03T07:34:04.682Z"
   },
   {
    "duration": 27,
    "start_time": "2023-05-03T07:34:04.720Z"
   },
   {
    "duration": 45,
    "start_time": "2023-05-03T07:34:04.749Z"
   },
   {
    "duration": 35,
    "start_time": "2023-05-03T07:34:04.796Z"
   },
   {
    "duration": 42,
    "start_time": "2023-05-03T07:34:04.833Z"
   },
   {
    "duration": 31,
    "start_time": "2023-05-03T07:34:04.877Z"
   },
   {
    "duration": 33,
    "start_time": "2023-05-03T07:34:04.910Z"
   },
   {
    "duration": 80,
    "start_time": "2023-05-03T07:34:04.944Z"
   },
   {
    "duration": 32,
    "start_time": "2023-05-03T07:34:05.026Z"
   },
   {
    "duration": 48,
    "start_time": "2023-05-03T07:34:05.060Z"
   },
   {
    "duration": 277,
    "start_time": "2023-05-03T07:34:05.110Z"
   },
   {
    "duration": 6,
    "start_time": "2023-05-03T07:34:05.388Z"
   },
   {
    "duration": 70,
    "start_time": "2023-05-03T07:34:05.396Z"
   },
   {
    "duration": 310,
    "start_time": "2023-05-03T07:34:05.468Z"
   },
   {
    "duration": 188,
    "start_time": "2023-05-03T07:34:05.779Z"
   },
   {
    "duration": 190,
    "start_time": "2023-05-03T07:34:05.968Z"
   },
   {
    "duration": 180,
    "start_time": "2023-05-03T07:34:06.160Z"
   },
   {
    "duration": 180,
    "start_time": "2023-05-03T07:34:06.342Z"
   },
   {
    "duration": 240,
    "start_time": "2023-05-03T07:34:06.525Z"
   },
   {
    "duration": 6,
    "start_time": "2023-05-03T07:34:06.767Z"
   },
   {
    "duration": 168,
    "start_time": "2023-05-03T07:34:06.774Z"
   },
   {
    "duration": 303,
    "start_time": "2023-05-03T07:34:06.943Z"
   },
   {
    "duration": 277,
    "start_time": "2023-05-03T07:34:07.250Z"
   },
   {
    "duration": 5,
    "start_time": "2023-05-03T07:34:07.529Z"
   },
   {
    "duration": 17,
    "start_time": "2023-05-03T07:34:07.536Z"
   },
   {
    "duration": 302,
    "start_time": "2023-05-03T07:34:07.555Z"
   },
   {
    "duration": 5,
    "start_time": "2023-05-03T07:34:07.859Z"
   },
   {
    "duration": 38,
    "start_time": "2023-05-03T07:34:07.866Z"
   },
   {
    "duration": 335,
    "start_time": "2023-05-03T07:34:07.905Z"
   },
   {
    "duration": 5,
    "start_time": "2023-05-03T07:34:08.242Z"
   },
   {
    "duration": 33,
    "start_time": "2023-05-03T07:34:08.249Z"
   },
   {
    "duration": 305,
    "start_time": "2023-05-03T07:34:08.288Z"
   },
   {
    "duration": 6,
    "start_time": "2023-05-03T07:34:08.598Z"
   },
   {
    "duration": 6,
    "start_time": "2023-05-03T07:34:08.606Z"
   },
   {
    "duration": 7,
    "start_time": "2023-05-03T07:34:08.614Z"
   },
   {
    "duration": 6,
    "start_time": "2023-05-03T07:34:08.623Z"
   },
   {
    "duration": 24,
    "start_time": "2023-05-03T07:34:08.630Z"
   },
   {
    "duration": 317,
    "start_time": "2023-05-03T07:34:08.656Z"
   },
   {
    "duration": 34,
    "start_time": "2023-05-03T07:34:08.975Z"
   },
   {
    "duration": 278,
    "start_time": "2023-05-03T07:34:09.011Z"
   },
   {
    "duration": 32,
    "start_time": "2023-05-03T07:39:25.876Z"
   },
   {
    "duration": 1204,
    "start_time": "2023-05-03T07:44:24.130Z"
   },
   {
    "duration": 81,
    "start_time": "2023-05-03T07:44:25.336Z"
   },
   {
    "duration": 17,
    "start_time": "2023-05-03T07:44:25.418Z"
   },
   {
    "duration": 26,
    "start_time": "2023-05-03T07:44:25.437Z"
   },
   {
    "duration": 57,
    "start_time": "2023-05-03T07:44:25.465Z"
   },
   {
    "duration": 14,
    "start_time": "2023-05-03T07:44:25.525Z"
   },
   {
    "duration": 26,
    "start_time": "2023-05-03T07:44:25.541Z"
   },
   {
    "duration": 43,
    "start_time": "2023-05-03T07:44:25.569Z"
   },
   {
    "duration": 34,
    "start_time": "2023-05-03T07:44:25.614Z"
   },
   {
    "duration": 37,
    "start_time": "2023-05-03T07:44:25.649Z"
   },
   {
    "duration": 47,
    "start_time": "2023-05-03T07:44:25.688Z"
   },
   {
    "duration": 19,
    "start_time": "2023-05-03T07:44:25.737Z"
   },
   {
    "duration": 14,
    "start_time": "2023-05-03T07:44:25.757Z"
   },
   {
    "duration": 28,
    "start_time": "2023-05-03T07:44:25.775Z"
   },
   {
    "duration": 24,
    "start_time": "2023-05-03T07:44:25.805Z"
   },
   {
    "duration": 14,
    "start_time": "2023-05-03T07:44:25.831Z"
   },
   {
    "duration": 11,
    "start_time": "2023-05-03T07:44:25.846Z"
   },
   {
    "duration": 12,
    "start_time": "2023-05-03T07:44:25.858Z"
   },
   {
    "duration": 38,
    "start_time": "2023-05-03T07:44:25.871Z"
   },
   {
    "duration": 16,
    "start_time": "2023-05-03T07:44:25.911Z"
   },
   {
    "duration": 18,
    "start_time": "2023-05-03T07:44:25.928Z"
   },
   {
    "duration": 17,
    "start_time": "2023-05-03T07:44:25.948Z"
   },
   {
    "duration": 15,
    "start_time": "2023-05-03T07:44:25.967Z"
   },
   {
    "duration": 23,
    "start_time": "2023-05-03T07:44:25.987Z"
   },
   {
    "duration": 38,
    "start_time": "2023-05-03T07:44:26.012Z"
   },
   {
    "duration": 26,
    "start_time": "2023-05-03T07:44:26.052Z"
   },
   {
    "duration": 31,
    "start_time": "2023-05-03T07:44:26.080Z"
   },
   {
    "duration": 43,
    "start_time": "2023-05-03T07:44:26.114Z"
   },
   {
    "duration": 240,
    "start_time": "2023-05-03T07:44:26.159Z"
   },
   {
    "duration": 5,
    "start_time": "2023-05-03T07:44:26.402Z"
   },
   {
    "duration": 19,
    "start_time": "2023-05-03T07:44:26.408Z"
   },
   {
    "duration": 277,
    "start_time": "2023-05-03T07:44:26.429Z"
   },
   {
    "duration": 212,
    "start_time": "2023-05-03T07:44:26.708Z"
   },
   {
    "duration": 209,
    "start_time": "2023-05-03T07:44:26.922Z"
   },
   {
    "duration": 230,
    "start_time": "2023-05-03T07:44:27.133Z"
   },
   {
    "duration": 191,
    "start_time": "2023-05-03T07:44:27.365Z"
   },
   {
    "duration": 262,
    "start_time": "2023-05-03T07:44:27.558Z"
   },
   {
    "duration": 6,
    "start_time": "2023-05-03T07:44:27.822Z"
   },
   {
    "duration": 193,
    "start_time": "2023-05-03T07:44:27.829Z"
   },
   {
    "duration": 343,
    "start_time": "2023-05-03T07:44:28.024Z"
   },
   {
    "duration": 319,
    "start_time": "2023-05-03T07:44:28.372Z"
   },
   {
    "duration": 11,
    "start_time": "2023-05-03T07:44:28.694Z"
   },
   {
    "duration": 40,
    "start_time": "2023-05-03T07:44:28.706Z"
   },
   {
    "duration": 309,
    "start_time": "2023-05-03T07:44:28.747Z"
   },
   {
    "duration": 5,
    "start_time": "2023-05-03T07:44:29.058Z"
   },
   {
    "duration": 48,
    "start_time": "2023-05-03T07:44:29.065Z"
   },
   {
    "duration": 308,
    "start_time": "2023-05-03T07:44:29.115Z"
   },
   {
    "duration": 6,
    "start_time": "2023-05-03T07:44:29.424Z"
   },
   {
    "duration": 34,
    "start_time": "2023-05-03T07:44:29.432Z"
   },
   {
    "duration": 362,
    "start_time": "2023-05-03T07:44:29.468Z"
   },
   {
    "duration": 6,
    "start_time": "2023-05-03T07:44:29.832Z"
   },
   {
    "duration": 63,
    "start_time": "2023-05-03T07:44:29.841Z"
   },
   {
    "duration": 36,
    "start_time": "2023-05-03T07:44:29.906Z"
   },
   {
    "duration": 33,
    "start_time": "2023-05-03T07:44:29.944Z"
   },
   {
    "duration": 114,
    "start_time": "2023-05-03T07:44:29.979Z"
   },
   {
    "duration": 418,
    "start_time": "2023-05-03T07:44:30.097Z"
   },
   {
    "duration": 25,
    "start_time": "2023-05-03T07:44:30.517Z"
   },
   {
    "duration": 325,
    "start_time": "2023-05-03T07:44:30.544Z"
   },
   {
    "duration": 146,
    "start_time": "2023-05-03T07:44:30.872Z"
   },
   {
    "duration": 17,
    "start_time": "2023-05-03T07:45:06.451Z"
   },
   {
    "duration": 308,
    "start_time": "2023-05-03T07:45:19.643Z"
   },
   {
    "duration": 1218,
    "start_time": "2023-05-03T07:50:18.869Z"
   },
   {
    "duration": 76,
    "start_time": "2023-05-03T07:50:20.095Z"
   },
   {
    "duration": 29,
    "start_time": "2023-05-03T07:50:20.172Z"
   },
   {
    "duration": 22,
    "start_time": "2023-05-03T07:50:20.203Z"
   },
   {
    "duration": 40,
    "start_time": "2023-05-03T07:50:20.227Z"
   },
   {
    "duration": 23,
    "start_time": "2023-05-03T07:50:20.268Z"
   },
   {
    "duration": 18,
    "start_time": "2023-05-03T07:50:20.295Z"
   },
   {
    "duration": 23,
    "start_time": "2023-05-03T07:50:20.314Z"
   },
   {
    "duration": 13,
    "start_time": "2023-05-03T07:50:20.338Z"
   },
   {
    "duration": 8,
    "start_time": "2023-05-03T07:50:20.353Z"
   },
   {
    "duration": 35,
    "start_time": "2023-05-03T07:50:20.363Z"
   },
   {
    "duration": 15,
    "start_time": "2023-05-03T07:50:20.400Z"
   },
   {
    "duration": 6,
    "start_time": "2023-05-03T07:50:20.417Z"
   },
   {
    "duration": 28,
    "start_time": "2023-05-03T07:50:20.427Z"
   },
   {
    "duration": 35,
    "start_time": "2023-05-03T07:50:20.457Z"
   },
   {
    "duration": 16,
    "start_time": "2023-05-03T07:50:20.493Z"
   },
   {
    "duration": 6,
    "start_time": "2023-05-03T07:50:20.511Z"
   },
   {
    "duration": 21,
    "start_time": "2023-05-03T07:50:20.519Z"
   },
   {
    "duration": 14,
    "start_time": "2023-05-03T07:50:20.541Z"
   },
   {
    "duration": 13,
    "start_time": "2023-05-03T07:50:20.557Z"
   },
   {
    "duration": 32,
    "start_time": "2023-05-03T07:50:20.572Z"
   },
   {
    "duration": 11,
    "start_time": "2023-05-03T07:50:20.605Z"
   },
   {
    "duration": 16,
    "start_time": "2023-05-03T07:50:20.617Z"
   },
   {
    "duration": 8,
    "start_time": "2023-05-03T07:50:20.634Z"
   },
   {
    "duration": 8,
    "start_time": "2023-05-03T07:50:20.643Z"
   },
   {
    "duration": 45,
    "start_time": "2023-05-03T07:50:20.653Z"
   },
   {
    "duration": 10,
    "start_time": "2023-05-03T07:50:20.700Z"
   },
   {
    "duration": 16,
    "start_time": "2023-05-03T07:50:20.712Z"
   },
   {
    "duration": 243,
    "start_time": "2023-05-03T07:50:20.730Z"
   },
   {
    "duration": 18,
    "start_time": "2023-05-03T07:50:20.975Z"
   },
   {
    "duration": 20,
    "start_time": "2023-05-03T07:50:20.999Z"
   },
   {
    "duration": 292,
    "start_time": "2023-05-03T07:50:21.021Z"
   },
   {
    "duration": 200,
    "start_time": "2023-05-03T07:50:21.315Z"
   },
   {
    "duration": 207,
    "start_time": "2023-05-03T07:50:21.517Z"
   },
   {
    "duration": 183,
    "start_time": "2023-05-03T07:50:21.726Z"
   },
   {
    "duration": 188,
    "start_time": "2023-05-03T07:50:21.910Z"
   },
   {
    "duration": 253,
    "start_time": "2023-05-03T07:50:22.100Z"
   },
   {
    "duration": 7,
    "start_time": "2023-05-03T07:50:22.356Z"
   },
   {
    "duration": 168,
    "start_time": "2023-05-03T07:50:22.364Z"
   },
   {
    "duration": 331,
    "start_time": "2023-05-03T07:50:22.534Z"
   },
   {
    "duration": 323,
    "start_time": "2023-05-03T07:50:22.868Z"
   },
   {
    "duration": 5,
    "start_time": "2023-05-03T07:50:23.200Z"
   },
   {
    "duration": 32,
    "start_time": "2023-05-03T07:50:23.206Z"
   },
   {
    "duration": 326,
    "start_time": "2023-05-03T07:50:23.240Z"
   },
   {
    "duration": 5,
    "start_time": "2023-05-03T07:50:23.568Z"
   },
   {
    "duration": 35,
    "start_time": "2023-05-03T07:50:23.575Z"
   },
   {
    "duration": 310,
    "start_time": "2023-05-03T07:50:23.612Z"
   },
   {
    "duration": 5,
    "start_time": "2023-05-03T07:50:23.925Z"
   },
   {
    "duration": 21,
    "start_time": "2023-05-03T07:50:23.932Z"
   },
   {
    "duration": 305,
    "start_time": "2023-05-03T07:50:23.955Z"
   },
   {
    "duration": 5,
    "start_time": "2023-05-03T07:50:24.261Z"
   },
   {
    "duration": 23,
    "start_time": "2023-05-03T07:50:24.267Z"
   },
   {
    "duration": 22,
    "start_time": "2023-05-03T07:50:24.291Z"
   },
   {
    "duration": 15,
    "start_time": "2023-05-03T07:50:24.315Z"
   },
   {
    "duration": 28,
    "start_time": "2023-05-03T07:50:24.332Z"
   },
   {
    "duration": 341,
    "start_time": "2023-05-03T07:50:24.361Z"
   },
   {
    "duration": 29,
    "start_time": "2023-05-03T07:50:24.704Z"
   },
   {
    "duration": 89,
    "start_time": "2023-05-03T07:50:24.739Z"
   },
   {
    "duration": 0,
    "start_time": "2023-05-03T07:50:24.829Z"
   },
   {
    "duration": 349,
    "start_time": "2023-05-03T07:50:45.497Z"
   },
   {
    "duration": 281,
    "start_time": "2023-05-03T07:50:50.055Z"
   },
   {
    "duration": 351,
    "start_time": "2023-05-03T07:52:29.415Z"
   },
   {
    "duration": 287,
    "start_time": "2023-05-03T07:52:47.017Z"
   },
   {
    "duration": 250,
    "start_time": "2023-05-03T07:53:55.416Z"
   },
   {
    "duration": 205,
    "start_time": "2023-05-03T07:57:07.325Z"
   },
   {
    "duration": 106,
    "start_time": "2023-05-03T08:16:13.416Z"
   },
   {
    "duration": 3,
    "start_time": "2023-05-03T08:16:58.777Z"
   },
   {
    "duration": 12,
    "start_time": "2023-05-03T08:18:24.054Z"
   },
   {
    "duration": 10,
    "start_time": "2023-05-03T08:18:31.417Z"
   },
   {
    "duration": 13,
    "start_time": "2023-05-03T08:20:00.213Z"
   },
   {
    "duration": 11,
    "start_time": "2023-05-03T08:20:48.064Z"
   },
   {
    "duration": 9,
    "start_time": "2023-05-03T08:21:49.106Z"
   },
   {
    "duration": 30,
    "start_time": "2023-05-03T09:23:02.531Z"
   },
   {
    "duration": 55,
    "start_time": "2023-05-03T09:23:52.139Z"
   },
   {
    "duration": 1658,
    "start_time": "2023-05-03T09:41:11.323Z"
   },
   {
    "duration": 80,
    "start_time": "2023-05-03T09:41:12.984Z"
   },
   {
    "duration": 17,
    "start_time": "2023-05-03T09:41:13.065Z"
   },
   {
    "duration": 33,
    "start_time": "2023-05-03T09:41:13.089Z"
   },
   {
    "duration": 17,
    "start_time": "2023-05-03T09:41:13.125Z"
   },
   {
    "duration": 19,
    "start_time": "2023-05-03T09:41:13.144Z"
   },
   {
    "duration": 28,
    "start_time": "2023-05-03T09:41:13.166Z"
   },
   {
    "duration": 32,
    "start_time": "2023-05-03T09:41:13.197Z"
   },
   {
    "duration": 13,
    "start_time": "2023-05-03T09:41:13.230Z"
   },
   {
    "duration": 10,
    "start_time": "2023-05-03T09:41:13.245Z"
   },
   {
    "duration": 58,
    "start_time": "2023-05-03T09:41:13.256Z"
   },
   {
    "duration": 15,
    "start_time": "2023-05-03T09:41:13.316Z"
   },
   {
    "duration": 6,
    "start_time": "2023-05-03T09:41:13.332Z"
   },
   {
    "duration": 11,
    "start_time": "2023-05-03T09:41:13.342Z"
   },
   {
    "duration": 58,
    "start_time": "2023-05-03T09:41:13.354Z"
   },
   {
    "duration": 22,
    "start_time": "2023-05-03T09:41:13.414Z"
   },
   {
    "duration": 7,
    "start_time": "2023-05-03T09:41:13.438Z"
   },
   {
    "duration": 11,
    "start_time": "2023-05-03T09:41:13.447Z"
   },
   {
    "duration": 28,
    "start_time": "2023-05-03T09:41:13.461Z"
   },
   {
    "duration": 29,
    "start_time": "2023-05-03T09:41:13.491Z"
   },
   {
    "duration": 21,
    "start_time": "2023-05-03T09:41:13.522Z"
   },
   {
    "duration": 9,
    "start_time": "2023-05-03T09:41:13.545Z"
   },
   {
    "duration": 29,
    "start_time": "2023-05-03T09:41:13.556Z"
   },
   {
    "duration": 15,
    "start_time": "2023-05-03T09:41:13.588Z"
   },
   {
    "duration": 14,
    "start_time": "2023-05-03T09:41:13.606Z"
   },
   {
    "duration": 9,
    "start_time": "2023-05-03T09:41:13.622Z"
   },
   {
    "duration": 12,
    "start_time": "2023-05-03T09:41:13.633Z"
   },
   {
    "duration": 48,
    "start_time": "2023-05-03T09:41:13.647Z"
   },
   {
    "duration": 268,
    "start_time": "2023-05-03T09:41:13.697Z"
   },
   {
    "duration": 5,
    "start_time": "2023-05-03T09:41:13.967Z"
   },
   {
    "duration": 22,
    "start_time": "2023-05-03T09:41:13.984Z"
   },
   {
    "duration": 296,
    "start_time": "2023-05-03T09:41:14.008Z"
   },
   {
    "duration": 192,
    "start_time": "2023-05-03T09:41:14.306Z"
   },
   {
    "duration": 191,
    "start_time": "2023-05-03T09:41:14.500Z"
   },
   {
    "duration": 236,
    "start_time": "2023-05-03T09:41:14.693Z"
   },
   {
    "duration": 227,
    "start_time": "2023-05-03T09:41:14.932Z"
   },
   {
    "duration": 292,
    "start_time": "2023-05-03T09:41:15.161Z"
   },
   {
    "duration": 5,
    "start_time": "2023-05-03T09:41:15.455Z"
   },
   {
    "duration": 191,
    "start_time": "2023-05-03T09:41:15.462Z"
   },
   {
    "duration": 347,
    "start_time": "2023-05-03T09:41:15.655Z"
   },
   {
    "duration": 354,
    "start_time": "2023-05-03T09:41:16.008Z"
   },
   {
    "duration": 4,
    "start_time": "2023-05-03T09:41:16.364Z"
   },
   {
    "duration": 14,
    "start_time": "2023-05-03T09:41:16.370Z"
   },
   {
    "duration": 327,
    "start_time": "2023-05-03T09:41:16.387Z"
   },
   {
    "duration": 5,
    "start_time": "2023-05-03T09:41:16.716Z"
   },
   {
    "duration": 15,
    "start_time": "2023-05-03T09:41:16.723Z"
   },
   {
    "duration": 322,
    "start_time": "2023-05-03T09:41:16.740Z"
   },
   {
    "duration": 5,
    "start_time": "2023-05-03T09:41:17.063Z"
   },
   {
    "duration": 26,
    "start_time": "2023-05-03T09:41:17.070Z"
   },
   {
    "duration": 290,
    "start_time": "2023-05-03T09:41:17.097Z"
   },
   {
    "duration": 6,
    "start_time": "2023-05-03T09:41:17.388Z"
   },
   {
    "duration": 61,
    "start_time": "2023-05-03T09:41:17.395Z"
   },
   {
    "duration": 47,
    "start_time": "2023-05-03T09:41:17.458Z"
   },
   {
    "duration": 35,
    "start_time": "2023-05-03T09:41:17.507Z"
   },
   {
    "duration": 96,
    "start_time": "2023-05-03T09:41:17.544Z"
   },
   {
    "duration": 373,
    "start_time": "2023-05-03T09:41:17.642Z"
   },
   {
    "duration": 44,
    "start_time": "2023-05-03T09:41:18.018Z"
   },
   {
    "duration": 313,
    "start_time": "2023-05-03T09:41:18.064Z"
   },
   {
    "duration": 241,
    "start_time": "2023-05-03T09:41:18.378Z"
   },
   {
    "duration": 11,
    "start_time": "2023-05-03T09:41:18.621Z"
   },
   {
    "duration": 20,
    "start_time": "2023-05-03T09:41:18.634Z"
   },
   {
    "duration": 1259,
    "start_time": "2023-05-03T10:01:10.113Z"
   },
   {
    "duration": 219,
    "start_time": "2023-05-03T10:01:11.374Z"
   },
   {
    "duration": 15,
    "start_time": "2023-05-03T10:01:11.594Z"
   },
   {
    "duration": 32,
    "start_time": "2023-05-03T10:01:11.610Z"
   },
   {
    "duration": 22,
    "start_time": "2023-05-03T10:01:11.645Z"
   },
   {
    "duration": 24,
    "start_time": "2023-05-03T10:01:11.668Z"
   },
   {
    "duration": 23,
    "start_time": "2023-05-03T10:01:11.693Z"
   },
   {
    "duration": 23,
    "start_time": "2023-05-03T10:01:11.718Z"
   },
   {
    "duration": 12,
    "start_time": "2023-05-03T10:01:11.743Z"
   },
   {
    "duration": 12,
    "start_time": "2023-05-03T10:01:11.757Z"
   },
   {
    "duration": 32,
    "start_time": "2023-05-03T10:01:11.770Z"
   },
   {
    "duration": 19,
    "start_time": "2023-05-03T10:01:11.803Z"
   },
   {
    "duration": 5,
    "start_time": "2023-05-03T10:01:11.824Z"
   },
   {
    "duration": 31,
    "start_time": "2023-05-03T10:01:11.831Z"
   },
   {
    "duration": 28,
    "start_time": "2023-05-03T10:01:11.864Z"
   },
   {
    "duration": 14,
    "start_time": "2023-05-03T10:01:11.893Z"
   },
   {
    "duration": 11,
    "start_time": "2023-05-03T10:01:11.908Z"
   },
   {
    "duration": 12,
    "start_time": "2023-05-03T10:01:11.921Z"
   },
   {
    "duration": 11,
    "start_time": "2023-05-03T10:01:11.934Z"
   },
   {
    "duration": 26,
    "start_time": "2023-05-03T10:01:11.946Z"
   },
   {
    "duration": 30,
    "start_time": "2023-05-03T10:01:11.978Z"
   },
   {
    "duration": 19,
    "start_time": "2023-05-03T10:01:12.009Z"
   },
   {
    "duration": 16,
    "start_time": "2023-05-03T10:01:12.029Z"
   },
   {
    "duration": 31,
    "start_time": "2023-05-03T10:01:12.046Z"
   },
   {
    "duration": 29,
    "start_time": "2023-05-03T10:01:12.078Z"
   },
   {
    "duration": 22,
    "start_time": "2023-05-03T10:01:12.108Z"
   },
   {
    "duration": 17,
    "start_time": "2023-05-03T10:01:12.132Z"
   },
   {
    "duration": 7,
    "start_time": "2023-05-03T10:01:12.150Z"
   },
   {
    "duration": 223,
    "start_time": "2023-05-03T10:01:12.158Z"
   },
   {
    "duration": 4,
    "start_time": "2023-05-03T10:01:12.383Z"
   },
   {
    "duration": 16,
    "start_time": "2023-05-03T10:01:12.389Z"
   },
   {
    "duration": 241,
    "start_time": "2023-05-03T10:01:12.407Z"
   },
   {
    "duration": 171,
    "start_time": "2023-05-03T10:01:12.650Z"
   },
   {
    "duration": 180,
    "start_time": "2023-05-03T10:01:12.822Z"
   },
   {
    "duration": 164,
    "start_time": "2023-05-03T10:01:13.004Z"
   },
   {
    "duration": 164,
    "start_time": "2023-05-03T10:01:13.171Z"
   },
   {
    "duration": 211,
    "start_time": "2023-05-03T10:01:13.336Z"
   },
   {
    "duration": 4,
    "start_time": "2023-05-03T10:01:13.549Z"
   },
   {
    "duration": 218,
    "start_time": "2023-05-03T10:01:13.555Z"
   },
   {
    "duration": 278,
    "start_time": "2023-05-03T10:01:13.775Z"
   },
   {
    "duration": 250,
    "start_time": "2023-05-03T10:01:14.056Z"
   },
   {
    "duration": 5,
    "start_time": "2023-05-03T10:01:14.308Z"
   },
   {
    "duration": 22,
    "start_time": "2023-05-03T10:01:14.314Z"
   },
   {
    "duration": 264,
    "start_time": "2023-05-03T10:01:14.338Z"
   },
   {
    "duration": 4,
    "start_time": "2023-05-03T10:01:14.603Z"
   },
   {
    "duration": 16,
    "start_time": "2023-05-03T10:01:14.609Z"
   },
   {
    "duration": 274,
    "start_time": "2023-05-03T10:01:14.626Z"
   },
   {
    "duration": 4,
    "start_time": "2023-05-03T10:01:14.901Z"
   },
   {
    "duration": 23,
    "start_time": "2023-05-03T10:01:14.906Z"
   },
   {
    "duration": 238,
    "start_time": "2023-05-03T10:01:14.930Z"
   },
   {
    "duration": 5,
    "start_time": "2023-05-03T10:01:15.171Z"
   },
   {
    "duration": 28,
    "start_time": "2023-05-03T10:01:15.177Z"
   },
   {
    "duration": 27,
    "start_time": "2023-05-03T10:01:15.206Z"
   },
   {
    "duration": 22,
    "start_time": "2023-05-03T10:01:15.235Z"
   },
   {
    "duration": 61,
    "start_time": "2023-05-03T10:01:15.258Z"
   },
   {
    "duration": 262,
    "start_time": "2023-05-03T10:01:15.320Z"
   },
   {
    "duration": 26,
    "start_time": "2023-05-03T10:01:15.583Z"
   },
   {
    "duration": 280,
    "start_time": "2023-05-03T10:01:15.610Z"
   },
   {
    "duration": 195,
    "start_time": "2023-05-03T10:01:15.892Z"
   },
   {
    "duration": 11,
    "start_time": "2023-05-03T10:01:16.089Z"
   },
   {
    "duration": 34,
    "start_time": "2023-05-03T10:01:16.103Z"
   },
   {
    "duration": 1115,
    "start_time": "2023-05-03T10:18:42.805Z"
   },
   {
    "duration": 65,
    "start_time": "2023-05-03T10:18:43.921Z"
   },
   {
    "duration": 14,
    "start_time": "2023-05-03T10:18:43.988Z"
   },
   {
    "duration": 31,
    "start_time": "2023-05-03T10:18:44.003Z"
   },
   {
    "duration": 16,
    "start_time": "2023-05-03T10:18:44.035Z"
   },
   {
    "duration": 15,
    "start_time": "2023-05-03T10:18:44.052Z"
   },
   {
    "duration": 10,
    "start_time": "2023-05-03T10:18:44.072Z"
   },
   {
    "duration": 25,
    "start_time": "2023-05-03T10:18:44.083Z"
   },
   {
    "duration": 18,
    "start_time": "2023-05-03T10:18:44.110Z"
   },
   {
    "duration": 6,
    "start_time": "2023-05-03T10:18:44.131Z"
   },
   {
    "duration": 25,
    "start_time": "2023-05-03T10:18:44.139Z"
   },
   {
    "duration": 10,
    "start_time": "2023-05-03T10:18:44.166Z"
   },
   {
    "duration": 6,
    "start_time": "2023-05-03T10:18:44.177Z"
   },
   {
    "duration": 18,
    "start_time": "2023-05-03T10:18:44.185Z"
   },
   {
    "duration": 27,
    "start_time": "2023-05-03T10:18:44.204Z"
   },
   {
    "duration": 32,
    "start_time": "2023-05-03T10:18:44.233Z"
   },
   {
    "duration": 15,
    "start_time": "2023-05-03T10:18:44.267Z"
   },
   {
    "duration": 5,
    "start_time": "2023-05-03T10:18:44.284Z"
   },
   {
    "duration": 12,
    "start_time": "2023-05-03T10:18:44.290Z"
   },
   {
    "duration": 15,
    "start_time": "2023-05-03T10:18:44.303Z"
   },
   {
    "duration": 21,
    "start_time": "2023-05-03T10:18:44.319Z"
   },
   {
    "duration": 6,
    "start_time": "2023-05-03T10:18:44.341Z"
   },
   {
    "duration": 15,
    "start_time": "2023-05-03T10:18:44.349Z"
   },
   {
    "duration": 7,
    "start_time": "2023-05-03T10:18:44.365Z"
   },
   {
    "duration": 14,
    "start_time": "2023-05-03T10:18:44.373Z"
   },
   {
    "duration": 6,
    "start_time": "2023-05-03T10:18:44.388Z"
   },
   {
    "duration": 19,
    "start_time": "2023-05-03T10:18:44.395Z"
   },
   {
    "duration": 16,
    "start_time": "2023-05-03T10:18:44.417Z"
   },
   {
    "duration": 191,
    "start_time": "2023-05-03T10:18:44.434Z"
   },
   {
    "duration": 4,
    "start_time": "2023-05-03T10:18:44.627Z"
   },
   {
    "duration": 18,
    "start_time": "2023-05-03T10:18:44.632Z"
   },
   {
    "duration": 228,
    "start_time": "2023-05-03T10:18:44.651Z"
   },
   {
    "duration": 155,
    "start_time": "2023-05-03T10:18:44.880Z"
   },
   {
    "duration": 164,
    "start_time": "2023-05-03T10:18:45.037Z"
   },
   {
    "duration": 152,
    "start_time": "2023-05-03T10:18:45.202Z"
   },
   {
    "duration": 151,
    "start_time": "2023-05-03T10:18:45.355Z"
   },
   {
    "duration": 217,
    "start_time": "2023-05-03T10:18:45.507Z"
   },
   {
    "duration": 6,
    "start_time": "2023-05-03T10:18:45.725Z"
   },
   {
    "duration": 145,
    "start_time": "2023-05-03T10:18:45.733Z"
   },
   {
    "duration": 263,
    "start_time": "2023-05-03T10:18:45.880Z"
   },
   {
    "duration": 289,
    "start_time": "2023-05-03T10:18:46.144Z"
   },
   {
    "duration": 5,
    "start_time": "2023-05-03T10:18:46.434Z"
   },
   {
    "duration": 6,
    "start_time": "2023-05-03T10:18:46.440Z"
   },
   {
    "duration": 236,
    "start_time": "2023-05-03T10:18:46.447Z"
   },
   {
    "duration": 4,
    "start_time": "2023-05-03T10:18:46.685Z"
   },
   {
    "duration": 33,
    "start_time": "2023-05-03T10:18:46.690Z"
   },
   {
    "duration": 236,
    "start_time": "2023-05-03T10:18:46.724Z"
   },
   {
    "duration": 11,
    "start_time": "2023-05-03T10:18:46.961Z"
   },
   {
    "duration": 9,
    "start_time": "2023-05-03T10:18:46.974Z"
   },
   {
    "duration": 221,
    "start_time": "2023-05-03T10:18:46.984Z"
   },
   {
    "duration": 4,
    "start_time": "2023-05-03T10:18:47.206Z"
   },
   {
    "duration": 17,
    "start_time": "2023-05-03T10:18:47.212Z"
   },
   {
    "duration": 9,
    "start_time": "2023-05-03T10:18:47.230Z"
   },
   {
    "duration": 7,
    "start_time": "2023-05-03T10:18:47.241Z"
   },
   {
    "duration": 32,
    "start_time": "2023-05-03T10:18:47.249Z"
   },
   {
    "duration": 261,
    "start_time": "2023-05-03T10:18:47.283Z"
   },
   {
    "duration": 27,
    "start_time": "2023-05-03T10:18:47.545Z"
   },
   {
    "duration": 231,
    "start_time": "2023-05-03T10:18:47.574Z"
   },
   {
    "duration": 193,
    "start_time": "2023-05-03T10:18:47.806Z"
   },
   {
    "duration": 10,
    "start_time": "2023-05-03T10:18:48.000Z"
   },
   {
    "duration": 12,
    "start_time": "2023-05-03T10:18:48.011Z"
   },
   {
    "duration": 68,
    "start_time": "2023-05-03T10:52:45.676Z"
   },
   {
    "duration": 1059,
    "start_time": "2023-05-03T10:53:11.474Z"
   },
   {
    "duration": 69,
    "start_time": "2023-05-03T10:53:12.535Z"
   },
   {
    "duration": 15,
    "start_time": "2023-05-03T10:53:12.606Z"
   },
   {
    "duration": 47,
    "start_time": "2023-05-03T10:53:12.623Z"
   },
   {
    "duration": 19,
    "start_time": "2023-05-03T10:53:12.673Z"
   },
   {
    "duration": 11,
    "start_time": "2023-05-03T10:53:12.694Z"
   },
   {
    "duration": 9,
    "start_time": "2023-05-03T10:53:12.706Z"
   },
   {
    "duration": 12,
    "start_time": "2023-05-03T10:53:12.717Z"
   },
   {
    "duration": 9,
    "start_time": "2023-05-03T10:53:12.730Z"
   },
   {
    "duration": 7,
    "start_time": "2023-05-03T10:53:12.741Z"
   },
   {
    "duration": 37,
    "start_time": "2023-05-03T10:53:12.749Z"
   },
   {
    "duration": 11,
    "start_time": "2023-05-03T10:53:12.787Z"
   },
   {
    "duration": 5,
    "start_time": "2023-05-03T10:53:12.799Z"
   },
   {
    "duration": 12,
    "start_time": "2023-05-03T10:53:12.806Z"
   },
   {
    "duration": 13,
    "start_time": "2023-05-03T10:53:12.819Z"
   },
   {
    "duration": 38,
    "start_time": "2023-05-03T10:53:12.834Z"
   },
   {
    "duration": 5,
    "start_time": "2023-05-03T10:53:12.874Z"
   },
   {
    "duration": 9,
    "start_time": "2023-05-03T10:53:12.880Z"
   },
   {
    "duration": 8,
    "start_time": "2023-05-03T10:53:12.890Z"
   },
   {
    "duration": 13,
    "start_time": "2023-05-03T10:53:12.900Z"
   },
   {
    "duration": 19,
    "start_time": "2023-05-03T10:53:12.915Z"
   },
   {
    "duration": 6,
    "start_time": "2023-05-03T10:53:12.936Z"
   },
   {
    "duration": 29,
    "start_time": "2023-05-03T10:53:12.944Z"
   },
   {
    "duration": 9,
    "start_time": "2023-05-03T10:53:12.974Z"
   },
   {
    "duration": 8,
    "start_time": "2023-05-03T10:53:12.985Z"
   },
   {
    "duration": 8,
    "start_time": "2023-05-03T10:53:12.994Z"
   },
   {
    "duration": 13,
    "start_time": "2023-05-03T10:53:13.003Z"
   },
   {
    "duration": 9,
    "start_time": "2023-05-03T10:53:13.018Z"
   },
   {
    "duration": 102,
    "start_time": "2023-05-03T10:53:13.029Z"
   },
   {
    "duration": 195,
    "start_time": "2023-05-03T10:53:13.133Z"
   },
   {
    "duration": 4,
    "start_time": "2023-05-03T10:53:13.329Z"
   },
   {
    "duration": 24,
    "start_time": "2023-05-03T10:53:13.334Z"
   },
   {
    "duration": 236,
    "start_time": "2023-05-03T10:53:13.359Z"
   },
   {
    "duration": 161,
    "start_time": "2023-05-03T10:53:13.596Z"
   },
   {
    "duration": 153,
    "start_time": "2023-05-03T10:53:13.758Z"
   },
   {
    "duration": 152,
    "start_time": "2023-05-03T10:53:13.912Z"
   },
   {
    "duration": 314,
    "start_time": "2023-05-03T10:53:14.072Z"
   },
   {
    "duration": 418,
    "start_time": "2023-05-03T10:53:14.387Z"
   },
   {
    "duration": 5,
    "start_time": "2023-05-03T10:53:14.806Z"
   },
   {
    "duration": 286,
    "start_time": "2023-05-03T10:53:14.812Z"
   },
   {
    "duration": 572,
    "start_time": "2023-05-03T10:53:15.101Z"
   },
   {
    "duration": 314,
    "start_time": "2023-05-03T10:53:15.675Z"
   },
   {
    "duration": 4,
    "start_time": "2023-05-03T10:53:15.991Z"
   },
   {
    "duration": 7,
    "start_time": "2023-05-03T10:53:15.996Z"
   },
   {
    "duration": 310,
    "start_time": "2023-05-03T10:53:16.004Z"
   },
   {
    "duration": 5,
    "start_time": "2023-05-03T10:53:16.316Z"
   },
   {
    "duration": 11,
    "start_time": "2023-05-03T10:53:16.322Z"
   },
   {
    "duration": 255,
    "start_time": "2023-05-03T10:53:16.335Z"
   },
   {
    "duration": 4,
    "start_time": "2023-05-03T10:53:16.591Z"
   },
   {
    "duration": 8,
    "start_time": "2023-05-03T10:53:16.597Z"
   },
   {
    "duration": 236,
    "start_time": "2023-05-03T10:53:16.606Z"
   },
   {
    "duration": 5,
    "start_time": "2023-05-03T10:53:16.843Z"
   },
   {
    "duration": 8,
    "start_time": "2023-05-03T10:53:16.849Z"
   },
   {
    "duration": 21,
    "start_time": "2023-05-03T10:53:16.858Z"
   },
   {
    "duration": 8,
    "start_time": "2023-05-03T10:53:16.881Z"
   },
   {
    "duration": 31,
    "start_time": "2023-05-03T10:53:16.890Z"
   },
   {
    "duration": 288,
    "start_time": "2023-05-03T10:53:16.923Z"
   },
   {
    "duration": 21,
    "start_time": "2023-05-03T10:53:17.213Z"
   },
   {
    "duration": 227,
    "start_time": "2023-05-03T10:53:17.235Z"
   },
   {
    "duration": 195,
    "start_time": "2023-05-03T10:53:17.463Z"
   },
   {
    "duration": 13,
    "start_time": "2023-05-03T10:53:17.660Z"
   },
   {
    "duration": 11,
    "start_time": "2023-05-03T10:53:17.675Z"
   },
   {
    "duration": 8,
    "start_time": "2023-05-03T11:17:43.740Z"
   },
   {
    "duration": 1092,
    "start_time": "2023-05-03T11:17:54.521Z"
   },
   {
    "duration": 66,
    "start_time": "2023-05-03T11:17:55.614Z"
   },
   {
    "duration": 17,
    "start_time": "2023-05-03T11:17:55.681Z"
   },
   {
    "duration": 25,
    "start_time": "2023-05-03T11:17:55.699Z"
   },
   {
    "duration": 13,
    "start_time": "2023-05-03T11:17:55.726Z"
   },
   {
    "duration": 34,
    "start_time": "2023-05-03T11:17:55.741Z"
   },
   {
    "duration": 11,
    "start_time": "2023-05-03T11:17:55.777Z"
   },
   {
    "duration": 31,
    "start_time": "2023-05-03T11:17:55.790Z"
   },
   {
    "duration": 12,
    "start_time": "2023-05-03T11:17:55.823Z"
   },
   {
    "duration": 10,
    "start_time": "2023-05-03T11:17:55.836Z"
   },
   {
    "duration": 19,
    "start_time": "2023-05-03T11:17:55.847Z"
   },
   {
    "duration": 15,
    "start_time": "2023-05-03T11:17:55.867Z"
   },
   {
    "duration": 7,
    "start_time": "2023-05-03T11:17:55.883Z"
   },
   {
    "duration": 38,
    "start_time": "2023-05-03T11:17:55.892Z"
   },
   {
    "duration": 14,
    "start_time": "2023-05-03T11:17:55.931Z"
   },
   {
    "duration": 19,
    "start_time": "2023-05-03T11:17:55.946Z"
   },
   {
    "duration": 6,
    "start_time": "2023-05-03T11:17:55.966Z"
   },
   {
    "duration": 43,
    "start_time": "2023-05-03T11:17:55.974Z"
   },
   {
    "duration": 32,
    "start_time": "2023-05-03T11:17:56.021Z"
   },
   {
    "duration": 60,
    "start_time": "2023-05-03T11:17:56.055Z"
   },
   {
    "duration": 44,
    "start_time": "2023-05-03T11:17:56.117Z"
   },
   {
    "duration": 10,
    "start_time": "2023-05-03T11:17:56.163Z"
   },
   {
    "duration": 14,
    "start_time": "2023-05-03T11:17:56.175Z"
   },
   {
    "duration": 8,
    "start_time": "2023-05-03T11:17:56.191Z"
   },
   {
    "duration": 12,
    "start_time": "2023-05-03T11:17:56.200Z"
   },
   {
    "duration": 10,
    "start_time": "2023-05-03T11:17:56.214Z"
   },
   {
    "duration": 40,
    "start_time": "2023-05-03T11:17:56.225Z"
   },
   {
    "duration": 18,
    "start_time": "2023-05-03T11:17:56.266Z"
   },
   {
    "duration": 68,
    "start_time": "2023-05-03T11:17:56.286Z"
   },
   {
    "duration": 188,
    "start_time": "2023-05-03T11:17:56.356Z"
   },
   {
    "duration": 4,
    "start_time": "2023-05-03T11:17:56.546Z"
   },
   {
    "duration": 26,
    "start_time": "2023-05-03T11:17:56.551Z"
   },
   {
    "duration": 221,
    "start_time": "2023-05-03T11:17:56.578Z"
   },
   {
    "duration": 154,
    "start_time": "2023-05-03T11:17:56.801Z"
   },
   {
    "duration": 155,
    "start_time": "2023-05-03T11:17:56.957Z"
   },
   {
    "duration": 151,
    "start_time": "2023-05-03T11:17:57.113Z"
   },
   {
    "duration": 153,
    "start_time": "2023-05-03T11:17:57.265Z"
   },
   {
    "duration": 197,
    "start_time": "2023-05-03T11:17:57.420Z"
   },
   {
    "duration": 6,
    "start_time": "2023-05-03T11:17:57.618Z"
   },
   {
    "duration": 133,
    "start_time": "2023-05-03T11:17:57.625Z"
   },
   {
    "duration": 266,
    "start_time": "2023-05-03T11:17:57.762Z"
   },
   {
    "duration": 231,
    "start_time": "2023-05-03T11:17:58.030Z"
   },
   {
    "duration": 11,
    "start_time": "2023-05-03T11:17:58.263Z"
   },
   {
    "duration": 6,
    "start_time": "2023-05-03T11:17:58.276Z"
   },
   {
    "duration": 232,
    "start_time": "2023-05-03T11:17:58.283Z"
   },
   {
    "duration": 6,
    "start_time": "2023-05-03T11:17:58.516Z"
   },
   {
    "duration": 6,
    "start_time": "2023-05-03T11:17:58.523Z"
   },
   {
    "duration": 243,
    "start_time": "2023-05-03T11:17:58.531Z"
   },
   {
    "duration": 5,
    "start_time": "2023-05-03T11:17:58.776Z"
   },
   {
    "duration": 13,
    "start_time": "2023-05-03T11:17:58.782Z"
   },
   {
    "duration": 224,
    "start_time": "2023-05-03T11:17:58.796Z"
   },
   {
    "duration": 4,
    "start_time": "2023-05-03T11:17:59.021Z"
   },
   {
    "duration": 5,
    "start_time": "2023-05-03T11:17:59.027Z"
   },
   {
    "duration": 15,
    "start_time": "2023-05-03T11:17:59.033Z"
   },
   {
    "duration": 6,
    "start_time": "2023-05-03T11:17:59.049Z"
   },
   {
    "duration": 36,
    "start_time": "2023-05-03T11:17:59.057Z"
   },
   {
    "duration": 254,
    "start_time": "2023-05-03T11:17:59.094Z"
   },
   {
    "duration": 27,
    "start_time": "2023-05-03T11:17:59.350Z"
   },
   {
    "duration": 230,
    "start_time": "2023-05-03T11:17:59.378Z"
   },
   {
    "duration": 187,
    "start_time": "2023-05-03T11:17:59.610Z"
   },
   {
    "duration": 8,
    "start_time": "2023-05-03T11:17:59.798Z"
   },
   {
    "duration": 11,
    "start_time": "2023-05-03T11:17:59.807Z"
   },
   {
    "duration": 11,
    "start_time": "2023-05-03T11:17:59.819Z"
   },
   {
    "duration": 1533,
    "start_time": "2023-05-04T06:11:00.215Z"
   },
   {
    "duration": 109,
    "start_time": "2023-05-04T06:11:01.750Z"
   },
   {
    "duration": 18,
    "start_time": "2023-05-04T06:11:01.861Z"
   },
   {
    "duration": 53,
    "start_time": "2023-05-04T06:11:01.881Z"
   },
   {
    "duration": 48,
    "start_time": "2023-05-04T06:11:01.936Z"
   },
   {
    "duration": 52,
    "start_time": "2023-05-04T06:11:01.985Z"
   },
   {
    "duration": 45,
    "start_time": "2023-05-04T06:11:02.039Z"
   },
   {
    "duration": 43,
    "start_time": "2023-05-04T06:11:02.085Z"
   },
   {
    "duration": 59,
    "start_time": "2023-05-04T06:11:02.129Z"
   },
   {
    "duration": 33,
    "start_time": "2023-05-04T06:11:02.189Z"
   },
   {
    "duration": 64,
    "start_time": "2023-05-04T06:11:02.224Z"
   },
   {
    "duration": 37,
    "start_time": "2023-05-04T06:11:02.290Z"
   },
   {
    "duration": 19,
    "start_time": "2023-05-04T06:11:02.329Z"
   },
   {
    "duration": 34,
    "start_time": "2023-05-04T06:11:02.351Z"
   },
   {
    "duration": 32,
    "start_time": "2023-05-04T06:11:02.387Z"
   },
   {
    "duration": 31,
    "start_time": "2023-05-04T06:11:02.421Z"
   },
   {
    "duration": 33,
    "start_time": "2023-05-04T06:11:02.454Z"
   },
   {
    "duration": 12,
    "start_time": "2023-05-04T06:11:02.489Z"
   },
   {
    "duration": 10,
    "start_time": "2023-05-04T06:11:02.502Z"
   },
   {
    "duration": 18,
    "start_time": "2023-05-04T06:11:02.513Z"
   },
   {
    "duration": 18,
    "start_time": "2023-05-04T06:11:02.532Z"
   },
   {
    "duration": 31,
    "start_time": "2023-05-04T06:11:02.552Z"
   },
   {
    "duration": 8,
    "start_time": "2023-05-04T06:11:02.585Z"
   },
   {
    "duration": 8,
    "start_time": "2023-05-04T06:11:02.595Z"
   },
   {
    "duration": 11,
    "start_time": "2023-05-04T06:11:02.605Z"
   },
   {
    "duration": 39,
    "start_time": "2023-05-04T06:11:02.618Z"
   },
   {
    "duration": 11,
    "start_time": "2023-05-04T06:11:02.660Z"
   },
   {
    "duration": 9,
    "start_time": "2023-05-04T06:11:02.673Z"
   },
   {
    "duration": 11,
    "start_time": "2023-05-04T06:11:02.683Z"
   },
   {
    "duration": 106,
    "start_time": "2023-05-04T06:11:02.696Z"
   },
   {
    "duration": 232,
    "start_time": "2023-05-04T06:11:02.804Z"
   },
   {
    "duration": 5,
    "start_time": "2023-05-04T06:11:03.038Z"
   },
   {
    "duration": 37,
    "start_time": "2023-05-04T06:11:03.055Z"
   },
   {
    "duration": 295,
    "start_time": "2023-05-04T06:11:03.094Z"
   },
   {
    "duration": 224,
    "start_time": "2023-05-04T06:11:03.391Z"
   },
   {
    "duration": 207,
    "start_time": "2023-05-04T06:11:03.617Z"
   },
   {
    "duration": 305,
    "start_time": "2023-05-04T06:11:03.825Z"
   },
   {
    "duration": 266,
    "start_time": "2023-05-04T06:11:04.133Z"
   },
   {
    "duration": 312,
    "start_time": "2023-05-04T06:11:04.401Z"
   },
   {
    "duration": 7,
    "start_time": "2023-05-04T06:11:04.715Z"
   },
   {
    "duration": 244,
    "start_time": "2023-05-04T06:11:04.727Z"
   },
   {
    "duration": 349,
    "start_time": "2023-05-04T06:11:04.973Z"
   },
   {
    "duration": 368,
    "start_time": "2023-05-04T06:11:05.325Z"
   },
   {
    "duration": 7,
    "start_time": "2023-05-04T06:11:05.695Z"
   },
   {
    "duration": 12,
    "start_time": "2023-05-04T06:11:05.704Z"
   },
   {
    "duration": 369,
    "start_time": "2023-05-04T06:11:05.718Z"
   },
   {
    "duration": 6,
    "start_time": "2023-05-04T06:11:06.090Z"
   },
   {
    "duration": 14,
    "start_time": "2023-05-04T06:11:06.098Z"
   },
   {
    "duration": 323,
    "start_time": "2023-05-04T06:11:06.113Z"
   },
   {
    "duration": 6,
    "start_time": "2023-05-04T06:11:06.438Z"
   },
   {
    "duration": 9,
    "start_time": "2023-05-04T06:11:06.457Z"
   },
   {
    "duration": 330,
    "start_time": "2023-05-04T06:11:06.469Z"
   },
   {
    "duration": 6,
    "start_time": "2023-05-04T06:11:06.802Z"
   },
   {
    "duration": 9,
    "start_time": "2023-05-04T06:11:06.810Z"
   },
   {
    "duration": 14,
    "start_time": "2023-05-04T06:11:06.821Z"
   },
   {
    "duration": 20,
    "start_time": "2023-05-04T06:11:06.837Z"
   },
   {
    "duration": 40,
    "start_time": "2023-05-04T06:11:06.860Z"
   },
   {
    "duration": 471,
    "start_time": "2023-05-04T06:11:06.902Z"
   },
   {
    "duration": 32,
    "start_time": "2023-05-04T06:11:07.375Z"
   },
   {
    "duration": 392,
    "start_time": "2023-05-04T06:11:07.409Z"
   },
   {
    "duration": 460,
    "start_time": "2023-05-04T06:11:07.803Z"
   },
   {
    "duration": 10,
    "start_time": "2023-05-04T06:11:08.265Z"
   },
   {
    "duration": 81,
    "start_time": "2023-05-04T06:11:08.277Z"
   },
   {
    "duration": 17,
    "start_time": "2023-05-04T06:11:08.360Z"
   },
   {
    "duration": 25,
    "start_time": "2023-05-04T06:11:20.615Z"
   },
   {
    "duration": 30,
    "start_time": "2023-05-04T06:11:27.347Z"
   },
   {
    "duration": 1229,
    "start_time": "2023-05-04T06:20:18.539Z"
   },
   {
    "duration": 65,
    "start_time": "2023-05-04T06:20:19.770Z"
   },
   {
    "duration": 19,
    "start_time": "2023-05-04T06:20:19.836Z"
   },
   {
    "duration": 43,
    "start_time": "2023-05-04T06:20:19.857Z"
   },
   {
    "duration": 33,
    "start_time": "2023-05-04T06:20:19.902Z"
   },
   {
    "duration": 20,
    "start_time": "2023-05-04T06:20:19.937Z"
   },
   {
    "duration": 14,
    "start_time": "2023-05-04T06:20:19.959Z"
   },
   {
    "duration": 16,
    "start_time": "2023-05-04T06:20:19.975Z"
   },
   {
    "duration": 9,
    "start_time": "2023-05-04T06:20:19.993Z"
   },
   {
    "duration": 10,
    "start_time": "2023-05-04T06:20:20.004Z"
   },
   {
    "duration": 50,
    "start_time": "2023-05-04T06:20:20.016Z"
   },
   {
    "duration": 21,
    "start_time": "2023-05-04T06:20:20.068Z"
   },
   {
    "duration": 8,
    "start_time": "2023-05-04T06:20:20.091Z"
   },
   {
    "duration": 14,
    "start_time": "2023-05-04T06:20:20.104Z"
   },
   {
    "duration": 54,
    "start_time": "2023-05-04T06:20:20.121Z"
   },
   {
    "duration": 14,
    "start_time": "2023-05-04T06:20:20.177Z"
   },
   {
    "duration": 6,
    "start_time": "2023-05-04T06:20:20.192Z"
   },
   {
    "duration": 8,
    "start_time": "2023-05-04T06:20:20.200Z"
   },
   {
    "duration": 10,
    "start_time": "2023-05-04T06:20:20.210Z"
   },
   {
    "duration": 39,
    "start_time": "2023-05-04T06:20:20.222Z"
   },
   {
    "duration": 17,
    "start_time": "2023-05-04T06:20:20.263Z"
   },
   {
    "duration": 44,
    "start_time": "2023-05-04T06:20:20.282Z"
   },
   {
    "duration": 9,
    "start_time": "2023-05-04T06:20:20.328Z"
   },
   {
    "duration": 12,
    "start_time": "2023-05-04T06:20:20.355Z"
   },
   {
    "duration": 11,
    "start_time": "2023-05-04T06:20:20.369Z"
   },
   {
    "duration": 13,
    "start_time": "2023-05-04T06:20:20.382Z"
   },
   {
    "duration": 10,
    "start_time": "2023-05-04T06:20:20.398Z"
   },
   {
    "duration": 45,
    "start_time": "2023-05-04T06:20:20.411Z"
   },
   {
    "duration": 11,
    "start_time": "2023-05-04T06:20:20.458Z"
   },
   {
    "duration": 99,
    "start_time": "2023-05-04T06:20:20.471Z"
   },
   {
    "duration": 249,
    "start_time": "2023-05-04T06:20:20.573Z"
   },
   {
    "duration": 5,
    "start_time": "2023-05-04T06:20:20.824Z"
   },
   {
    "duration": 31,
    "start_time": "2023-05-04T06:20:20.830Z"
   },
   {
    "duration": 277,
    "start_time": "2023-05-04T06:20:20.863Z"
   },
   {
    "duration": 191,
    "start_time": "2023-05-04T06:20:21.142Z"
   },
   {
    "duration": 211,
    "start_time": "2023-05-04T06:20:21.335Z"
   },
   {
    "duration": 199,
    "start_time": "2023-05-04T06:20:21.548Z"
   },
   {
    "duration": 194,
    "start_time": "2023-05-04T06:20:21.749Z"
   },
   {
    "duration": 256,
    "start_time": "2023-05-04T06:20:21.944Z"
   },
   {
    "duration": 7,
    "start_time": "2023-05-04T06:20:22.202Z"
   },
   {
    "duration": 175,
    "start_time": "2023-05-04T06:20:22.216Z"
   },
   {
    "duration": 311,
    "start_time": "2023-05-04T06:20:22.393Z"
   },
   {
    "duration": 285,
    "start_time": "2023-05-04T06:20:22.706Z"
   },
   {
    "duration": 6,
    "start_time": "2023-05-04T06:20:22.993Z"
   },
   {
    "duration": 8,
    "start_time": "2023-05-04T06:20:23.000Z"
   },
   {
    "duration": 303,
    "start_time": "2023-05-04T06:20:23.009Z"
   },
   {
    "duration": 7,
    "start_time": "2023-05-04T06:20:23.313Z"
   },
   {
    "duration": 9,
    "start_time": "2023-05-04T06:20:23.322Z"
   },
   {
    "duration": 322,
    "start_time": "2023-05-04T06:20:23.334Z"
   },
   {
    "duration": 6,
    "start_time": "2023-05-04T06:20:23.657Z"
   },
   {
    "duration": 16,
    "start_time": "2023-05-04T06:20:23.665Z"
   },
   {
    "duration": 317,
    "start_time": "2023-05-04T06:20:23.683Z"
   },
   {
    "duration": 8,
    "start_time": "2023-05-04T06:20:24.002Z"
   },
   {
    "duration": 7,
    "start_time": "2023-05-04T06:20:24.012Z"
   },
   {
    "duration": 11,
    "start_time": "2023-05-04T06:20:24.021Z"
   },
   {
    "duration": 9,
    "start_time": "2023-05-04T06:20:24.057Z"
   },
   {
    "duration": 35,
    "start_time": "2023-05-04T06:20:24.069Z"
   },
   {
    "duration": 389,
    "start_time": "2023-05-04T06:20:24.106Z"
   },
   {
    "duration": 27,
    "start_time": "2023-05-04T06:20:24.497Z"
   },
   {
    "duration": 360,
    "start_time": "2023-05-04T06:20:24.526Z"
   },
   {
    "duration": 314,
    "start_time": "2023-05-04T06:20:24.888Z"
   },
   {
    "duration": 10,
    "start_time": "2023-05-04T06:20:25.204Z"
   },
   {
    "duration": 51,
    "start_time": "2023-05-04T06:20:25.216Z"
   },
   {
    "duration": 14,
    "start_time": "2023-05-04T06:20:25.270Z"
   },
   {
    "duration": 40,
    "start_time": "2023-05-04T06:20:37.265Z"
   },
   {
    "duration": 27,
    "start_time": "2023-05-04T06:24:30.386Z"
   },
   {
    "duration": 4,
    "start_time": "2023-05-04T06:24:41.059Z"
   },
   {
    "duration": 10,
    "start_time": "2023-05-04T06:24:44.695Z"
   },
   {
    "duration": 16,
    "start_time": "2023-05-04T06:24:59.495Z"
   },
   {
    "duration": 20,
    "start_time": "2023-05-04T06:25:12.535Z"
   },
   {
    "duration": 11,
    "start_time": "2023-05-04T06:25:19.415Z"
   },
   {
    "duration": 1335,
    "start_time": "2023-05-04T06:25:25.905Z"
   },
   {
    "duration": 67,
    "start_time": "2023-05-04T06:25:27.243Z"
   },
   {
    "duration": 32,
    "start_time": "2023-05-04T06:25:27.313Z"
   },
   {
    "duration": 42,
    "start_time": "2023-05-04T06:25:27.355Z"
   },
   {
    "duration": 20,
    "start_time": "2023-05-04T06:25:27.401Z"
   },
   {
    "duration": 33,
    "start_time": "2023-05-04T06:25:27.423Z"
   },
   {
    "duration": 25,
    "start_time": "2023-05-04T06:25:27.458Z"
   },
   {
    "duration": 20,
    "start_time": "2023-05-04T06:25:27.488Z"
   },
   {
    "duration": 27,
    "start_time": "2023-05-04T06:25:27.510Z"
   },
   {
    "duration": 26,
    "start_time": "2023-05-04T06:25:27.539Z"
   },
   {
    "duration": 42,
    "start_time": "2023-05-04T06:25:27.567Z"
   },
   {
    "duration": 27,
    "start_time": "2023-05-04T06:25:27.611Z"
   },
   {
    "duration": 16,
    "start_time": "2023-05-04T06:25:27.641Z"
   },
   {
    "duration": 17,
    "start_time": "2023-05-04T06:25:27.661Z"
   },
   {
    "duration": 31,
    "start_time": "2023-05-04T06:25:27.680Z"
   },
   {
    "duration": 44,
    "start_time": "2023-05-04T06:25:27.713Z"
   },
   {
    "duration": 6,
    "start_time": "2023-05-04T06:25:27.759Z"
   },
   {
    "duration": 9,
    "start_time": "2023-05-04T06:25:27.768Z"
   },
   {
    "duration": 15,
    "start_time": "2023-05-04T06:25:27.780Z"
   },
   {
    "duration": 22,
    "start_time": "2023-05-04T06:25:27.798Z"
   },
   {
    "duration": 57,
    "start_time": "2023-05-04T06:25:27.823Z"
   },
   {
    "duration": 34,
    "start_time": "2023-05-04T06:25:27.882Z"
   },
   {
    "duration": 40,
    "start_time": "2023-05-04T06:25:27.917Z"
   },
   {
    "duration": 12,
    "start_time": "2023-05-04T06:25:27.960Z"
   },
   {
    "duration": 11,
    "start_time": "2023-05-04T06:25:27.975Z"
   },
   {
    "duration": 12,
    "start_time": "2023-05-04T06:25:27.989Z"
   },
   {
    "duration": 12,
    "start_time": "2023-05-04T06:25:28.004Z"
   },
   {
    "duration": 44,
    "start_time": "2023-05-04T06:25:28.020Z"
   },
   {
    "duration": 14,
    "start_time": "2023-05-04T06:25:28.066Z"
   },
   {
    "duration": 157,
    "start_time": "2023-05-04T06:25:28.083Z"
   },
   {
    "duration": 326,
    "start_time": "2023-05-04T06:25:28.242Z"
   },
   {
    "duration": 8,
    "start_time": "2023-05-04T06:25:28.570Z"
   },
   {
    "duration": 36,
    "start_time": "2023-05-04T06:25:28.581Z"
   },
   {
    "duration": 443,
    "start_time": "2023-05-04T06:25:28.619Z"
   },
   {
    "duration": 290,
    "start_time": "2023-05-04T06:25:29.064Z"
   },
   {
    "duration": 270,
    "start_time": "2023-05-04T06:25:29.356Z"
   },
   {
    "duration": 215,
    "start_time": "2023-05-04T06:25:29.628Z"
   },
   {
    "duration": 218,
    "start_time": "2023-05-04T06:25:29.845Z"
   },
   {
    "duration": 282,
    "start_time": "2023-05-04T06:25:30.066Z"
   },
   {
    "duration": 11,
    "start_time": "2023-05-04T06:25:30.357Z"
   },
   {
    "duration": 213,
    "start_time": "2023-05-04T06:25:30.375Z"
   },
   {
    "duration": 423,
    "start_time": "2023-05-04T06:25:30.592Z"
   },
   {
    "duration": 374,
    "start_time": "2023-05-04T06:25:31.018Z"
   },
   {
    "duration": 8,
    "start_time": "2023-05-04T06:25:31.394Z"
   },
   {
    "duration": 40,
    "start_time": "2023-05-04T06:25:31.403Z"
   },
   {
    "duration": 458,
    "start_time": "2023-05-04T06:25:31.445Z"
   },
   {
    "duration": 6,
    "start_time": "2023-05-04T06:25:31.906Z"
   },
   {
    "duration": 52,
    "start_time": "2023-05-04T06:25:31.914Z"
   },
   {
    "duration": 494,
    "start_time": "2023-05-04T06:25:31.970Z"
   },
   {
    "duration": 9,
    "start_time": "2023-05-04T06:25:32.466Z"
   },
   {
    "duration": 25,
    "start_time": "2023-05-04T06:25:32.477Z"
   },
   {
    "duration": 344,
    "start_time": "2023-05-04T06:25:32.504Z"
   },
   {
    "duration": 7,
    "start_time": "2023-05-04T06:25:32.857Z"
   },
   {
    "duration": 264,
    "start_time": "2023-05-04T06:25:32.865Z"
   },
   {
    "duration": 59,
    "start_time": "2023-05-04T06:25:33.131Z"
   },
   {
    "duration": 16,
    "start_time": "2023-05-04T06:25:33.193Z"
   },
   {
    "duration": 81,
    "start_time": "2023-05-04T06:25:33.211Z"
   },
   {
    "duration": 695,
    "start_time": "2023-05-04T06:25:33.294Z"
   },
   {
    "duration": 86,
    "start_time": "2023-05-04T06:25:33.991Z"
   },
   {
    "duration": 877,
    "start_time": "2023-05-04T06:25:34.079Z"
   },
   {
    "duration": 396,
    "start_time": "2023-05-04T06:25:34.958Z"
   },
   {
    "duration": 16,
    "start_time": "2023-05-04T06:25:35.357Z"
   },
   {
    "duration": 38,
    "start_time": "2023-05-04T06:25:35.375Z"
   },
   {
    "duration": 17,
    "start_time": "2023-05-04T06:25:35.415Z"
   },
   {
    "duration": 36,
    "start_time": "2023-05-04T06:26:07.509Z"
   },
   {
    "duration": 30,
    "start_time": "2023-05-04T06:26:58.576Z"
   },
   {
    "duration": 44,
    "start_time": "2023-05-04T06:27:02.782Z"
   },
   {
    "duration": 1156,
    "start_time": "2023-05-04T06:31:32.296Z"
   },
   {
    "duration": 71,
    "start_time": "2023-05-04T06:31:33.455Z"
   },
   {
    "duration": 30,
    "start_time": "2023-05-04T06:31:33.528Z"
   },
   {
    "duration": 19,
    "start_time": "2023-05-04T06:31:33.560Z"
   },
   {
    "duration": 19,
    "start_time": "2023-05-04T06:31:33.582Z"
   },
   {
    "duration": 21,
    "start_time": "2023-05-04T06:31:33.603Z"
   },
   {
    "duration": 31,
    "start_time": "2023-05-04T06:31:33.626Z"
   },
   {
    "duration": 17,
    "start_time": "2023-05-04T06:31:33.659Z"
   },
   {
    "duration": 9,
    "start_time": "2023-05-04T06:31:33.677Z"
   },
   {
    "duration": 13,
    "start_time": "2023-05-04T06:31:33.688Z"
   },
   {
    "duration": 54,
    "start_time": "2023-05-04T06:31:33.703Z"
   },
   {
    "duration": 18,
    "start_time": "2023-05-04T06:31:33.759Z"
   },
   {
    "duration": 9,
    "start_time": "2023-05-04T06:31:33.779Z"
   },
   {
    "duration": 12,
    "start_time": "2023-05-04T06:31:33.791Z"
   },
   {
    "duration": 52,
    "start_time": "2023-05-04T06:31:33.804Z"
   },
   {
    "duration": 14,
    "start_time": "2023-05-04T06:31:33.858Z"
   },
   {
    "duration": 7,
    "start_time": "2023-05-04T06:31:33.875Z"
   },
   {
    "duration": 15,
    "start_time": "2023-05-04T06:31:33.885Z"
   },
   {
    "duration": 15,
    "start_time": "2023-05-04T06:31:33.903Z"
   },
   {
    "duration": 39,
    "start_time": "2023-05-04T06:31:33.920Z"
   },
   {
    "duration": 21,
    "start_time": "2023-05-04T06:31:33.962Z"
   },
   {
    "duration": 41,
    "start_time": "2023-05-04T06:31:33.986Z"
   },
   {
    "duration": 27,
    "start_time": "2023-05-04T06:31:34.029Z"
   },
   {
    "duration": 12,
    "start_time": "2023-05-04T06:31:34.059Z"
   },
   {
    "duration": 11,
    "start_time": "2023-05-04T06:31:34.073Z"
   },
   {
    "duration": 14,
    "start_time": "2023-05-04T06:31:34.086Z"
   },
   {
    "duration": 21,
    "start_time": "2023-05-04T06:31:34.102Z"
   },
   {
    "duration": 39,
    "start_time": "2023-05-04T06:31:34.126Z"
   },
   {
    "duration": 16,
    "start_time": "2023-05-04T06:31:34.167Z"
   },
   {
    "duration": 22,
    "start_time": "2023-05-04T06:31:34.184Z"
   },
   {
    "duration": 79,
    "start_time": "2023-05-04T06:31:34.208Z"
   },
   {
    "duration": 283,
    "start_time": "2023-05-04T06:31:34.289Z"
   },
   {
    "duration": 7,
    "start_time": "2023-05-04T06:31:34.574Z"
   },
   {
    "duration": 32,
    "start_time": "2023-05-04T06:31:34.583Z"
   },
   {
    "duration": 313,
    "start_time": "2023-05-04T06:31:34.618Z"
   },
   {
    "duration": 193,
    "start_time": "2023-05-04T06:31:34.932Z"
   },
   {
    "duration": 187,
    "start_time": "2023-05-04T06:31:35.127Z"
   },
   {
    "duration": 182,
    "start_time": "2023-05-04T06:31:35.316Z"
   },
   {
    "duration": 190,
    "start_time": "2023-05-04T06:31:35.500Z"
   },
   {
    "duration": 257,
    "start_time": "2023-05-04T06:31:35.692Z"
   },
   {
    "duration": 7,
    "start_time": "2023-05-04T06:31:35.955Z"
   },
   {
    "duration": 171,
    "start_time": "2023-05-04T06:31:35.963Z"
   },
   {
    "duration": 307,
    "start_time": "2023-05-04T06:31:36.136Z"
   },
   {
    "duration": 296,
    "start_time": "2023-05-04T06:31:36.445Z"
   },
   {
    "duration": 14,
    "start_time": "2023-05-04T06:31:36.743Z"
   },
   {
    "duration": 8,
    "start_time": "2023-05-04T06:31:36.759Z"
   },
   {
    "duration": 303,
    "start_time": "2023-05-04T06:31:36.770Z"
   },
   {
    "duration": 6,
    "start_time": "2023-05-04T06:31:37.074Z"
   },
   {
    "duration": 20,
    "start_time": "2023-05-04T06:31:37.082Z"
   },
   {
    "duration": 303,
    "start_time": "2023-05-04T06:31:37.103Z"
   },
   {
    "duration": 7,
    "start_time": "2023-05-04T06:31:37.408Z"
   },
   {
    "duration": 17,
    "start_time": "2023-05-04T06:31:37.417Z"
   },
   {
    "duration": 292,
    "start_time": "2023-05-04T06:31:37.436Z"
   },
   {
    "duration": 6,
    "start_time": "2023-05-04T06:31:37.730Z"
   },
   {
    "duration": 22,
    "start_time": "2023-05-04T06:31:37.737Z"
   },
   {
    "duration": 8,
    "start_time": "2023-05-04T06:31:37.760Z"
   },
   {
    "duration": 26,
    "start_time": "2023-05-04T06:31:37.770Z"
   },
   {
    "duration": 30,
    "start_time": "2023-05-04T06:31:37.799Z"
   },
   {
    "duration": 320,
    "start_time": "2023-05-04T06:31:37.831Z"
   },
   {
    "duration": 40,
    "start_time": "2023-05-04T06:31:38.155Z"
   },
   {
    "duration": 295,
    "start_time": "2023-05-04T06:31:38.197Z"
   },
   {
    "duration": 227,
    "start_time": "2023-05-04T06:31:38.494Z"
   },
   {
    "duration": 12,
    "start_time": "2023-05-04T06:31:38.724Z"
   },
   {
    "duration": 30,
    "start_time": "2023-05-04T06:31:38.738Z"
   },
   {
    "duration": 10,
    "start_time": "2023-05-04T06:31:38.770Z"
   },
   {
    "duration": 7,
    "start_time": "2023-05-04T06:36:29.183Z"
   },
   {
    "duration": 117,
    "start_time": "2023-05-04T06:36:42.376Z"
   },
   {
    "duration": 14,
    "start_time": "2023-05-04T06:36:48.375Z"
   },
   {
    "duration": 45,
    "start_time": "2023-05-04T06:36:56.784Z"
   },
   {
    "duration": 1185,
    "start_time": "2023-05-04T06:37:33.015Z"
   },
   {
    "duration": 14,
    "start_time": "2023-05-04T06:38:38.775Z"
   },
   {
    "duration": 8,
    "start_time": "2023-05-04T06:38:45.086Z"
   },
   {
    "duration": 7,
    "start_time": "2023-05-04T06:39:03.814Z"
   },
   {
    "duration": 6,
    "start_time": "2023-05-04T06:39:13.343Z"
   },
   {
    "duration": 1133,
    "start_time": "2023-05-04T06:39:35.826Z"
   },
   {
    "duration": 63,
    "start_time": "2023-05-04T06:39:36.961Z"
   },
   {
    "duration": 18,
    "start_time": "2023-05-04T06:39:37.026Z"
   },
   {
    "duration": 26,
    "start_time": "2023-05-04T06:39:37.046Z"
   },
   {
    "duration": 19,
    "start_time": "2023-05-04T06:39:37.074Z"
   },
   {
    "duration": 25,
    "start_time": "2023-05-04T06:39:37.095Z"
   },
   {
    "duration": 21,
    "start_time": "2023-05-04T06:39:37.122Z"
   },
   {
    "duration": 14,
    "start_time": "2023-05-04T06:39:37.145Z"
   },
   {
    "duration": 14,
    "start_time": "2023-05-04T06:39:37.160Z"
   },
   {
    "duration": 11,
    "start_time": "2023-05-04T06:39:37.176Z"
   },
   {
    "duration": 19,
    "start_time": "2023-05-04T06:39:37.189Z"
   },
   {
    "duration": 13,
    "start_time": "2023-05-04T06:39:37.210Z"
   },
   {
    "duration": 33,
    "start_time": "2023-05-04T06:39:37.225Z"
   },
   {
    "duration": 11,
    "start_time": "2023-05-04T06:39:37.261Z"
   },
   {
    "duration": 16,
    "start_time": "2023-05-04T06:39:37.274Z"
   },
   {
    "duration": 15,
    "start_time": "2023-05-04T06:39:37.292Z"
   },
   {
    "duration": 6,
    "start_time": "2023-05-04T06:39:37.309Z"
   },
   {
    "duration": 41,
    "start_time": "2023-05-04T06:39:37.316Z"
   },
   {
    "duration": 5,
    "start_time": "2023-05-04T06:39:37.359Z"
   },
   {
    "duration": 11,
    "start_time": "2023-05-04T06:39:37.365Z"
   },
   {
    "duration": 18,
    "start_time": "2023-05-04T06:39:37.378Z"
   },
   {
    "duration": 30,
    "start_time": "2023-05-04T06:39:37.397Z"
   },
   {
    "duration": 35,
    "start_time": "2023-05-04T06:39:37.428Z"
   },
   {
    "duration": 9,
    "start_time": "2023-05-04T06:39:37.465Z"
   },
   {
    "duration": 8,
    "start_time": "2023-05-04T06:39:37.476Z"
   },
   {
    "duration": 8,
    "start_time": "2023-05-04T06:39:37.486Z"
   },
   {
    "duration": 15,
    "start_time": "2023-05-04T06:39:37.495Z"
   },
   {
    "duration": 12,
    "start_time": "2023-05-04T06:39:37.512Z"
   },
   {
    "duration": 9,
    "start_time": "2023-05-04T06:39:37.555Z"
   },
   {
    "duration": 65,
    "start_time": "2023-05-04T06:39:37.566Z"
   },
   {
    "duration": 239,
    "start_time": "2023-05-04T06:39:37.656Z"
   },
   {
    "duration": 5,
    "start_time": "2023-05-04T06:39:37.896Z"
   },
   {
    "duration": 17,
    "start_time": "2023-05-04T06:39:37.903Z"
   },
   {
    "duration": 301,
    "start_time": "2023-05-04T06:39:37.922Z"
   },
   {
    "duration": 194,
    "start_time": "2023-05-04T06:39:38.224Z"
   },
   {
    "duration": 191,
    "start_time": "2023-05-04T06:39:38.419Z"
   },
   {
    "duration": 188,
    "start_time": "2023-05-04T06:39:38.612Z"
   },
   {
    "duration": 188,
    "start_time": "2023-05-04T06:39:38.802Z"
   },
   {
    "duration": 244,
    "start_time": "2023-05-04T06:39:38.991Z"
   },
   {
    "duration": 7,
    "start_time": "2023-05-04T06:39:39.237Z"
   },
   {
    "duration": 182,
    "start_time": "2023-05-04T06:39:39.258Z"
   },
   {
    "duration": 310,
    "start_time": "2023-05-04T06:39:39.442Z"
   },
   {
    "duration": 293,
    "start_time": "2023-05-04T06:39:39.755Z"
   },
   {
    "duration": 8,
    "start_time": "2023-05-04T06:39:40.049Z"
   },
   {
    "duration": 13,
    "start_time": "2023-05-04T06:39:40.058Z"
   },
   {
    "duration": 302,
    "start_time": "2023-05-04T06:39:40.073Z"
   },
   {
    "duration": 5,
    "start_time": "2023-05-04T06:39:40.377Z"
   },
   {
    "duration": 7,
    "start_time": "2023-05-04T06:39:40.384Z"
   },
   {
    "duration": 314,
    "start_time": "2023-05-04T06:39:40.392Z"
   },
   {
    "duration": 5,
    "start_time": "2023-05-04T06:39:40.707Z"
   },
   {
    "duration": 10,
    "start_time": "2023-05-04T06:39:40.714Z"
   },
   {
    "duration": 290,
    "start_time": "2023-05-04T06:39:40.726Z"
   },
   {
    "duration": 5,
    "start_time": "2023-05-04T06:39:41.018Z"
   },
   {
    "duration": 6,
    "start_time": "2023-05-04T06:39:41.024Z"
   },
   {
    "duration": 27,
    "start_time": "2023-05-04T06:39:41.032Z"
   },
   {
    "duration": 6,
    "start_time": "2023-05-04T06:39:41.061Z"
   },
   {
    "duration": 27,
    "start_time": "2023-05-04T06:39:41.068Z"
   },
   {
    "duration": 310,
    "start_time": "2023-05-04T06:39:41.097Z"
   },
   {
    "duration": 29,
    "start_time": "2023-05-04T06:39:41.409Z"
   },
   {
    "duration": 253,
    "start_time": "2023-05-04T06:39:41.456Z"
   },
   {
    "duration": 224,
    "start_time": "2023-05-04T06:39:41.711Z"
   },
   {
    "duration": 19,
    "start_time": "2023-05-04T06:39:41.937Z"
   },
   {
    "duration": 13,
    "start_time": "2023-05-04T06:39:41.958Z"
   },
   {
    "duration": 10,
    "start_time": "2023-05-04T06:39:41.973Z"
   },
   {
    "duration": 1352,
    "start_time": "2023-05-04T06:51:26.536Z"
   },
   {
    "duration": 69,
    "start_time": "2023-05-04T06:51:27.890Z"
   },
   {
    "duration": 21,
    "start_time": "2023-05-04T06:51:27.961Z"
   },
   {
    "duration": 23,
    "start_time": "2023-05-04T06:51:27.983Z"
   },
   {
    "duration": 19,
    "start_time": "2023-05-04T06:51:28.009Z"
   },
   {
    "duration": 45,
    "start_time": "2023-05-04T06:51:28.030Z"
   },
   {
    "duration": 13,
    "start_time": "2023-05-04T06:51:28.078Z"
   },
   {
    "duration": 16,
    "start_time": "2023-05-04T06:51:28.093Z"
   },
   {
    "duration": 10,
    "start_time": "2023-05-04T06:51:28.111Z"
   },
   {
    "duration": 40,
    "start_time": "2023-05-04T06:51:28.123Z"
   },
   {
    "duration": 38,
    "start_time": "2023-05-04T06:51:28.166Z"
   },
   {
    "duration": 21,
    "start_time": "2023-05-04T06:51:28.206Z"
   },
   {
    "duration": 6,
    "start_time": "2023-05-04T06:51:28.230Z"
   },
   {
    "duration": 22,
    "start_time": "2023-05-04T06:51:28.256Z"
   },
   {
    "duration": 19,
    "start_time": "2023-05-04T06:51:28.280Z"
   },
   {
    "duration": 14,
    "start_time": "2023-05-04T06:51:28.301Z"
   },
   {
    "duration": 41,
    "start_time": "2023-05-04T06:51:28.317Z"
   },
   {
    "duration": 9,
    "start_time": "2023-05-04T06:51:28.362Z"
   },
   {
    "duration": 13,
    "start_time": "2023-05-04T06:51:28.373Z"
   },
   {
    "duration": 21,
    "start_time": "2023-05-04T06:51:28.388Z"
   },
   {
    "duration": 52,
    "start_time": "2023-05-04T06:51:28.411Z"
   },
   {
    "duration": 33,
    "start_time": "2023-05-04T06:51:28.465Z"
   },
   {
    "duration": 126,
    "start_time": "2023-05-04T06:51:28.500Z"
   },
   {
    "duration": 0,
    "start_time": "2023-05-04T06:51:28.629Z"
   },
   {
    "duration": 0,
    "start_time": "2023-05-04T06:51:28.631Z"
   },
   {
    "duration": 0,
    "start_time": "2023-05-04T06:51:28.632Z"
   },
   {
    "duration": 0,
    "start_time": "2023-05-04T06:51:28.634Z"
   },
   {
    "duration": 0,
    "start_time": "2023-05-04T06:51:28.635Z"
   },
   {
    "duration": 0,
    "start_time": "2023-05-04T06:51:28.636Z"
   },
   {
    "duration": 0,
    "start_time": "2023-05-04T06:51:28.637Z"
   },
   {
    "duration": 0,
    "start_time": "2023-05-04T06:51:28.662Z"
   },
   {
    "duration": 0,
    "start_time": "2023-05-04T06:51:28.664Z"
   },
   {
    "duration": 0,
    "start_time": "2023-05-04T06:51:28.665Z"
   },
   {
    "duration": 0,
    "start_time": "2023-05-04T06:51:28.667Z"
   },
   {
    "duration": 0,
    "start_time": "2023-05-04T06:51:28.669Z"
   },
   {
    "duration": 0,
    "start_time": "2023-05-04T06:51:28.670Z"
   },
   {
    "duration": 0,
    "start_time": "2023-05-04T06:51:28.672Z"
   },
   {
    "duration": 0,
    "start_time": "2023-05-04T06:51:28.674Z"
   },
   {
    "duration": 0,
    "start_time": "2023-05-04T06:51:28.676Z"
   },
   {
    "duration": 0,
    "start_time": "2023-05-04T06:51:28.678Z"
   },
   {
    "duration": 0,
    "start_time": "2023-05-04T06:51:28.680Z"
   },
   {
    "duration": 0,
    "start_time": "2023-05-04T06:51:28.682Z"
   },
   {
    "duration": 0,
    "start_time": "2023-05-04T06:51:28.684Z"
   },
   {
    "duration": 0,
    "start_time": "2023-05-04T06:51:28.685Z"
   },
   {
    "duration": 0,
    "start_time": "2023-05-04T06:51:28.686Z"
   },
   {
    "duration": 0,
    "start_time": "2023-05-04T06:51:28.687Z"
   },
   {
    "duration": 0,
    "start_time": "2023-05-04T06:51:28.688Z"
   },
   {
    "duration": 0,
    "start_time": "2023-05-04T06:51:28.690Z"
   },
   {
    "duration": 0,
    "start_time": "2023-05-04T06:51:28.691Z"
   },
   {
    "duration": 0,
    "start_time": "2023-05-04T06:51:28.692Z"
   },
   {
    "duration": 0,
    "start_time": "2023-05-04T06:51:28.693Z"
   },
   {
    "duration": 0,
    "start_time": "2023-05-04T06:51:28.695Z"
   },
   {
    "duration": 0,
    "start_time": "2023-05-04T06:51:28.695Z"
   },
   {
    "duration": 0,
    "start_time": "2023-05-04T06:51:28.698Z"
   },
   {
    "duration": 0,
    "start_time": "2023-05-04T06:51:28.699Z"
   },
   {
    "duration": 0,
    "start_time": "2023-05-04T06:51:28.700Z"
   },
   {
    "duration": 0,
    "start_time": "2023-05-04T06:51:28.701Z"
   },
   {
    "duration": 0,
    "start_time": "2023-05-04T06:51:28.703Z"
   },
   {
    "duration": 0,
    "start_time": "2023-05-04T06:51:28.703Z"
   },
   {
    "duration": 0,
    "start_time": "2023-05-04T06:51:28.762Z"
   },
   {
    "duration": 0,
    "start_time": "2023-05-04T06:51:28.763Z"
   },
   {
    "duration": 0,
    "start_time": "2023-05-04T06:51:28.765Z"
   },
   {
    "duration": 0,
    "start_time": "2023-05-04T06:51:28.767Z"
   },
   {
    "duration": 0,
    "start_time": "2023-05-04T06:51:28.770Z"
   },
   {
    "duration": 0,
    "start_time": "2023-05-04T06:51:28.772Z"
   },
   {
    "duration": 14,
    "start_time": "2023-05-04T06:52:25.583Z"
   },
   {
    "duration": 32,
    "start_time": "2023-05-04T06:52:34.285Z"
   },
   {
    "duration": 13,
    "start_time": "2023-05-04T06:52:43.660Z"
   },
   {
    "duration": 1339,
    "start_time": "2023-05-04T06:53:00.557Z"
   },
   {
    "duration": 71,
    "start_time": "2023-05-04T06:53:01.898Z"
   },
   {
    "duration": 92,
    "start_time": "2023-05-04T06:53:01.972Z"
   },
   {
    "duration": 61,
    "start_time": "2023-05-04T06:53:02.067Z"
   },
   {
    "duration": 60,
    "start_time": "2023-05-04T06:53:02.132Z"
   },
   {
    "duration": 66,
    "start_time": "2023-05-04T06:53:02.194Z"
   },
   {
    "duration": 24,
    "start_time": "2023-05-04T06:53:02.268Z"
   },
   {
    "duration": 43,
    "start_time": "2023-05-04T06:53:02.294Z"
   },
   {
    "duration": 31,
    "start_time": "2023-05-04T06:53:02.339Z"
   },
   {
    "duration": 10,
    "start_time": "2023-05-04T06:53:02.373Z"
   },
   {
    "duration": 27,
    "start_time": "2023-05-04T06:53:02.385Z"
   },
   {
    "duration": 14,
    "start_time": "2023-05-04T06:53:02.414Z"
   },
   {
    "duration": 7,
    "start_time": "2023-05-04T06:53:02.429Z"
   },
   {
    "duration": 37,
    "start_time": "2023-05-04T06:53:02.456Z"
   },
   {
    "duration": 27,
    "start_time": "2023-05-04T06:53:02.495Z"
   },
   {
    "duration": 14,
    "start_time": "2023-05-04T06:53:02.524Z"
   },
   {
    "duration": 28,
    "start_time": "2023-05-04T06:53:02.540Z"
   },
   {
    "duration": 8,
    "start_time": "2023-05-04T06:53:02.572Z"
   },
   {
    "duration": 7,
    "start_time": "2023-05-04T06:53:02.583Z"
   },
   {
    "duration": 18,
    "start_time": "2023-05-04T06:53:02.592Z"
   },
   {
    "duration": 33,
    "start_time": "2023-05-04T06:53:02.612Z"
   },
   {
    "duration": 36,
    "start_time": "2023-05-04T06:53:02.658Z"
   },
   {
    "duration": 4,
    "start_time": "2023-05-04T06:53:02.696Z"
   },
   {
    "duration": 25,
    "start_time": "2023-05-04T06:53:02.702Z"
   },
   {
    "duration": 31,
    "start_time": "2023-05-04T06:53:02.730Z"
   },
   {
    "duration": 13,
    "start_time": "2023-05-04T06:53:02.764Z"
   },
   {
    "duration": 9,
    "start_time": "2023-05-04T06:53:02.779Z"
   },
   {
    "duration": 9,
    "start_time": "2023-05-04T06:53:02.791Z"
   },
   {
    "duration": 9,
    "start_time": "2023-05-04T06:53:02.801Z"
   },
   {
    "duration": 46,
    "start_time": "2023-05-04T06:53:02.812Z"
   },
   {
    "duration": 18,
    "start_time": "2023-05-04T06:53:02.860Z"
   },
   {
    "duration": 111,
    "start_time": "2023-05-04T06:53:02.881Z"
   },
   {
    "duration": 288,
    "start_time": "2023-05-04T06:53:02.994Z"
   },
   {
    "duration": 6,
    "start_time": "2023-05-04T06:53:03.283Z"
   },
   {
    "duration": 25,
    "start_time": "2023-05-04T06:53:03.290Z"
   },
   {
    "duration": 347,
    "start_time": "2023-05-04T06:53:03.317Z"
   },
   {
    "duration": 231,
    "start_time": "2023-05-04T06:53:03.666Z"
   },
   {
    "duration": 275,
    "start_time": "2023-05-04T06:53:03.900Z"
   },
   {
    "duration": 239,
    "start_time": "2023-05-04T06:53:04.178Z"
   },
   {
    "duration": 222,
    "start_time": "2023-05-04T06:53:04.420Z"
   },
   {
    "duration": 267,
    "start_time": "2023-05-04T06:53:04.643Z"
   },
   {
    "duration": 6,
    "start_time": "2023-05-04T06:53:04.911Z"
   },
   {
    "duration": 190,
    "start_time": "2023-05-04T06:53:04.919Z"
   },
   {
    "duration": 360,
    "start_time": "2023-05-04T06:53:05.111Z"
   },
   {
    "duration": 333,
    "start_time": "2023-05-04T06:53:05.473Z"
   },
   {
    "duration": 6,
    "start_time": "2023-05-04T06:53:05.807Z"
   },
   {
    "duration": 7,
    "start_time": "2023-05-04T06:53:05.814Z"
   },
   {
    "duration": 315,
    "start_time": "2023-05-04T06:53:05.823Z"
   },
   {
    "duration": 5,
    "start_time": "2023-05-04T06:53:06.140Z"
   },
   {
    "duration": 14,
    "start_time": "2023-05-04T06:53:06.157Z"
   },
   {
    "duration": 334,
    "start_time": "2023-05-04T06:53:06.174Z"
   },
   {
    "duration": 5,
    "start_time": "2023-05-04T06:53:06.509Z"
   },
   {
    "duration": 13,
    "start_time": "2023-05-04T06:53:06.515Z"
   },
   {
    "duration": 289,
    "start_time": "2023-05-04T06:53:06.530Z"
   },
   {
    "duration": 5,
    "start_time": "2023-05-04T06:53:06.821Z"
   },
   {
    "duration": 10,
    "start_time": "2023-05-04T06:53:06.827Z"
   },
   {
    "duration": 22,
    "start_time": "2023-05-04T06:53:06.839Z"
   },
   {
    "duration": 22,
    "start_time": "2023-05-04T06:53:06.864Z"
   },
   {
    "duration": 31,
    "start_time": "2023-05-04T06:53:06.888Z"
   },
   {
    "duration": 342,
    "start_time": "2023-05-04T06:53:06.922Z"
   },
   {
    "duration": 28,
    "start_time": "2023-05-04T06:53:07.266Z"
   },
   {
    "duration": 301,
    "start_time": "2023-05-04T06:53:07.296Z"
   },
   {
    "duration": 244,
    "start_time": "2023-05-04T06:53:07.599Z"
   },
   {
    "duration": 19,
    "start_time": "2023-05-04T06:53:07.845Z"
   },
   {
    "duration": 14,
    "start_time": "2023-05-04T06:53:07.866Z"
   },
   {
    "duration": 15,
    "start_time": "2023-05-04T06:53:07.882Z"
   },
   {
    "duration": 1191,
    "start_time": "2023-05-04T07:01:37.335Z"
   },
   {
    "duration": 80,
    "start_time": "2023-05-04T07:01:38.528Z"
   },
   {
    "duration": 17,
    "start_time": "2023-05-04T07:01:38.609Z"
   },
   {
    "duration": 31,
    "start_time": "2023-05-04T07:01:38.627Z"
   },
   {
    "duration": 27,
    "start_time": "2023-05-04T07:01:38.662Z"
   },
   {
    "duration": 14,
    "start_time": "2023-05-04T07:01:38.690Z"
   },
   {
    "duration": 11,
    "start_time": "2023-05-04T07:01:38.706Z"
   },
   {
    "duration": 45,
    "start_time": "2023-05-04T07:01:38.719Z"
   },
   {
    "duration": 12,
    "start_time": "2023-05-04T07:01:38.767Z"
   },
   {
    "duration": 8,
    "start_time": "2023-05-04T07:01:39.343Z"
   },
   {
    "duration": 27,
    "start_time": "2023-05-04T07:01:39.353Z"
   },
   {
    "duration": 25,
    "start_time": "2023-05-04T07:01:39.383Z"
   },
   {
    "duration": 22,
    "start_time": "2023-05-04T07:01:39.410Z"
   },
   {
    "duration": 35,
    "start_time": "2023-05-04T07:01:39.435Z"
   },
   {
    "duration": 26,
    "start_time": "2023-05-04T07:01:39.472Z"
   },
   {
    "duration": 12,
    "start_time": "2023-05-04T07:01:39.500Z"
   },
   {
    "duration": 25,
    "start_time": "2023-05-04T07:01:39.513Z"
   },
   {
    "duration": 16,
    "start_time": "2023-05-04T07:01:39.540Z"
   },
   {
    "duration": 25,
    "start_time": "2023-05-04T07:01:39.558Z"
   },
   {
    "duration": 33,
    "start_time": "2023-05-04T07:01:39.584Z"
   },
   {
    "duration": 17,
    "start_time": "2023-05-04T07:01:39.619Z"
   },
   {
    "duration": 27,
    "start_time": "2023-05-04T07:01:39.698Z"
   },
   {
    "duration": 6,
    "start_time": "2023-05-04T07:01:40.268Z"
   },
   {
    "duration": 19,
    "start_time": "2023-05-04T07:01:40.278Z"
   },
   {
    "duration": 9,
    "start_time": "2023-05-04T07:01:40.299Z"
   },
   {
    "duration": 26,
    "start_time": "2023-05-04T07:01:40.309Z"
   },
   {
    "duration": 11,
    "start_time": "2023-05-04T07:01:40.337Z"
   },
   {
    "duration": 20,
    "start_time": "2023-05-04T07:01:40.350Z"
   },
   {
    "duration": 12,
    "start_time": "2023-05-04T07:01:40.373Z"
   },
   {
    "duration": 9,
    "start_time": "2023-05-04T07:01:40.387Z"
   },
   {
    "duration": 8,
    "start_time": "2023-05-04T07:01:40.398Z"
   },
   {
    "duration": 104,
    "start_time": "2023-05-04T07:01:40.408Z"
   },
   {
    "duration": 260,
    "start_time": "2023-05-04T07:01:40.514Z"
   },
   {
    "duration": 6,
    "start_time": "2023-05-04T07:01:40.779Z"
   },
   {
    "duration": 31,
    "start_time": "2023-05-04T07:01:40.786Z"
   },
   {
    "duration": 308,
    "start_time": "2023-05-04T07:01:40.820Z"
   },
   {
    "duration": 217,
    "start_time": "2023-05-04T07:01:41.130Z"
   },
   {
    "duration": 225,
    "start_time": "2023-05-04T07:01:41.349Z"
   },
   {
    "duration": 212,
    "start_time": "2023-05-04T07:01:41.578Z"
   },
   {
    "duration": 215,
    "start_time": "2023-05-04T07:01:41.792Z"
   },
   {
    "duration": 289,
    "start_time": "2023-05-04T07:01:42.009Z"
   },
   {
    "duration": 7,
    "start_time": "2023-05-04T07:01:42.300Z"
   },
   {
    "duration": 191,
    "start_time": "2023-05-04T07:01:42.309Z"
   },
   {
    "duration": 354,
    "start_time": "2023-05-04T07:01:42.501Z"
   },
   {
    "duration": 345,
    "start_time": "2023-05-04T07:01:42.864Z"
   },
   {
    "duration": 5,
    "start_time": "2023-05-04T07:01:43.210Z"
   },
   {
    "duration": 24,
    "start_time": "2023-05-04T07:01:43.217Z"
   },
   {
    "duration": 356,
    "start_time": "2023-05-04T07:01:43.243Z"
   },
   {
    "duration": 4,
    "start_time": "2023-05-04T07:01:43.601Z"
   },
   {
    "duration": 14,
    "start_time": "2023-05-04T07:01:43.607Z"
   },
   {
    "duration": 315,
    "start_time": "2023-05-04T07:01:43.622Z"
   },
   {
    "duration": 7,
    "start_time": "2023-05-04T07:01:43.939Z"
   },
   {
    "duration": 7,
    "start_time": "2023-05-04T07:01:43.956Z"
   },
   {
    "duration": 358,
    "start_time": "2023-05-04T07:01:43.964Z"
   },
   {
    "duration": 6,
    "start_time": "2023-05-04T07:01:44.324Z"
   },
   {
    "duration": 30,
    "start_time": "2023-05-04T07:01:44.331Z"
   },
   {
    "duration": 23,
    "start_time": "2023-05-04T07:01:44.363Z"
   },
   {
    "duration": 20,
    "start_time": "2023-05-04T07:01:44.388Z"
   },
   {
    "duration": 35,
    "start_time": "2023-05-04T07:01:44.410Z"
   },
   {
    "duration": 351,
    "start_time": "2023-05-04T07:01:44.448Z"
   },
   {
    "duration": 56,
    "start_time": "2023-05-04T07:01:44.801Z"
   },
   {
    "duration": 320,
    "start_time": "2023-05-04T07:01:44.861Z"
   },
   {
    "duration": 356,
    "start_time": "2023-05-04T07:01:45.184Z"
   },
   {
    "duration": 20,
    "start_time": "2023-05-04T07:01:45.541Z"
   },
   {
    "duration": 20,
    "start_time": "2023-05-04T07:01:45.564Z"
   },
   {
    "duration": 13,
    "start_time": "2023-05-04T07:01:45.586Z"
   },
   {
    "duration": 356,
    "start_time": "2023-05-04T07:03:54.854Z"
   },
   {
    "duration": 1217,
    "start_time": "2023-05-04T07:04:45.565Z"
   },
   {
    "duration": 63,
    "start_time": "2023-05-04T07:04:46.784Z"
   },
   {
    "duration": 31,
    "start_time": "2023-05-04T07:04:46.849Z"
   },
   {
    "duration": 24,
    "start_time": "2023-05-04T07:04:46.883Z"
   },
   {
    "duration": 15,
    "start_time": "2023-05-04T07:04:46.908Z"
   },
   {
    "duration": 34,
    "start_time": "2023-05-04T07:04:46.925Z"
   },
   {
    "duration": 14,
    "start_time": "2023-05-04T07:04:46.960Z"
   },
   {
    "duration": 19,
    "start_time": "2023-05-04T07:04:46.975Z"
   },
   {
    "duration": 15,
    "start_time": "2023-05-04T07:04:46.995Z"
   },
   {
    "duration": 8,
    "start_time": "2023-05-04T07:04:47.014Z"
   },
   {
    "duration": 51,
    "start_time": "2023-05-04T07:04:47.024Z"
   },
   {
    "duration": 17,
    "start_time": "2023-05-04T07:04:47.076Z"
   },
   {
    "duration": 6,
    "start_time": "2023-05-04T07:04:47.095Z"
   },
   {
    "duration": 12,
    "start_time": "2023-05-04T07:04:47.103Z"
   },
   {
    "duration": 50,
    "start_time": "2023-05-04T07:04:47.117Z"
   },
   {
    "duration": 16,
    "start_time": "2023-05-04T07:04:47.169Z"
   },
   {
    "duration": 19,
    "start_time": "2023-05-04T07:04:47.187Z"
   },
   {
    "duration": 6,
    "start_time": "2023-05-04T07:04:47.209Z"
   },
   {
    "duration": 7,
    "start_time": "2023-05-04T07:04:47.217Z"
   },
   {
    "duration": 34,
    "start_time": "2023-05-04T07:04:47.226Z"
   },
   {
    "duration": 24,
    "start_time": "2023-05-04T07:04:47.263Z"
   },
   {
    "duration": 37,
    "start_time": "2023-05-04T07:04:47.288Z"
   },
   {
    "duration": 5,
    "start_time": "2023-05-04T07:04:47.326Z"
   },
   {
    "duration": 40,
    "start_time": "2023-05-04T07:04:47.333Z"
   },
   {
    "duration": 11,
    "start_time": "2023-05-04T07:04:47.375Z"
   },
   {
    "duration": 13,
    "start_time": "2023-05-04T07:04:47.387Z"
   },
   {
    "duration": 14,
    "start_time": "2023-05-04T07:04:47.402Z"
   },
   {
    "duration": 13,
    "start_time": "2023-05-04T07:04:47.421Z"
   },
   {
    "duration": 46,
    "start_time": "2023-05-04T07:04:47.435Z"
   },
   {
    "duration": 10,
    "start_time": "2023-05-04T07:04:47.483Z"
   },
   {
    "duration": 9,
    "start_time": "2023-05-04T07:04:47.495Z"
   },
   {
    "duration": 89,
    "start_time": "2023-05-04T07:04:47.506Z"
   },
   {
    "duration": 269,
    "start_time": "2023-05-04T07:04:47.596Z"
   },
   {
    "duration": 12,
    "start_time": "2023-05-04T07:04:47.869Z"
   },
   {
    "duration": 23,
    "start_time": "2023-05-04T07:04:47.883Z"
   },
   {
    "duration": 320,
    "start_time": "2023-05-04T07:04:47.908Z"
   },
   {
    "duration": 250,
    "start_time": "2023-05-04T07:04:48.231Z"
   },
   {
    "duration": 232,
    "start_time": "2023-05-04T07:04:48.483Z"
   },
   {
    "duration": 227,
    "start_time": "2023-05-04T07:04:48.717Z"
   },
   {
    "duration": 228,
    "start_time": "2023-05-04T07:04:48.946Z"
   },
   {
    "duration": 287,
    "start_time": "2023-05-04T07:04:49.177Z"
   },
   {
    "duration": 8,
    "start_time": "2023-05-04T07:04:49.467Z"
   },
   {
    "duration": 213,
    "start_time": "2023-05-04T07:04:49.478Z"
   },
   {
    "duration": 343,
    "start_time": "2023-05-04T07:04:49.692Z"
   },
   {
    "duration": 367,
    "start_time": "2023-05-04T07:04:50.036Z"
   },
   {
    "duration": 5,
    "start_time": "2023-05-04T07:04:50.405Z"
   },
   {
    "duration": 21,
    "start_time": "2023-05-04T07:04:50.412Z"
   },
   {
    "duration": 348,
    "start_time": "2023-05-04T07:04:50.435Z"
   },
   {
    "duration": 6,
    "start_time": "2023-05-04T07:04:50.785Z"
   },
   {
    "duration": 28,
    "start_time": "2023-05-04T07:04:50.793Z"
   },
   {
    "duration": 344,
    "start_time": "2023-05-04T07:04:50.823Z"
   },
   {
    "duration": 11,
    "start_time": "2023-05-04T07:04:51.170Z"
   },
   {
    "duration": 26,
    "start_time": "2023-05-04T07:04:51.182Z"
   },
   {
    "duration": 746,
    "start_time": "2023-05-04T07:04:51.210Z"
   },
   {
    "duration": 7,
    "start_time": "2023-05-04T07:04:51.959Z"
   },
   {
    "duration": 16,
    "start_time": "2023-05-04T07:04:51.968Z"
   },
   {
    "duration": 70,
    "start_time": "2023-05-04T07:04:51.986Z"
   },
   {
    "duration": 6,
    "start_time": "2023-05-04T07:04:52.058Z"
   },
   {
    "duration": 32,
    "start_time": "2023-05-04T07:04:52.066Z"
   },
   {
    "duration": 791,
    "start_time": "2023-05-04T07:04:52.100Z"
   },
   {
    "duration": 85,
    "start_time": "2023-05-04T07:04:52.893Z"
   },
   {
    "duration": 693,
    "start_time": "2023-05-04T07:04:52.979Z"
   },
   {
    "duration": 264,
    "start_time": "2023-05-04T07:04:53.674Z"
   },
   {
    "duration": 34,
    "start_time": "2023-05-04T07:04:53.941Z"
   },
   {
    "duration": 40,
    "start_time": "2023-05-04T07:04:53.977Z"
   },
   {
    "duration": 17,
    "start_time": "2023-05-04T07:04:54.019Z"
   },
   {
    "duration": 385,
    "start_time": "2023-05-04T07:05:32.955Z"
   },
   {
    "duration": 458,
    "start_time": "2023-05-04T07:07:23.747Z"
   },
   {
    "duration": 242,
    "start_time": "2023-05-04T07:08:22.344Z"
   },
   {
    "duration": 265,
    "start_time": "2023-05-04T07:10:23.094Z"
   },
   {
    "duration": 327,
    "start_time": "2023-05-04T07:10:50.850Z"
   },
   {
    "duration": 425,
    "start_time": "2023-05-04T07:13:04.708Z"
   },
   {
    "duration": 412,
    "start_time": "2023-05-04T07:13:39.200Z"
   },
   {
    "duration": 402,
    "start_time": "2023-05-04T07:13:50.386Z"
   },
   {
    "duration": 381,
    "start_time": "2023-05-04T07:13:59.571Z"
   },
   {
    "duration": 279,
    "start_time": "2023-05-04T07:14:26.930Z"
   },
   {
    "duration": 223,
    "start_time": "2023-05-04T07:16:24.500Z"
   },
   {
    "duration": 184,
    "start_time": "2023-05-04T07:16:49.906Z"
   },
   {
    "duration": 1142,
    "start_time": "2023-05-04T07:32:55.161Z"
   },
   {
    "duration": 67,
    "start_time": "2023-05-04T07:32:56.305Z"
   },
   {
    "duration": 18,
    "start_time": "2023-05-04T07:32:56.373Z"
   },
   {
    "duration": 26,
    "start_time": "2023-05-04T07:32:56.392Z"
   },
   {
    "duration": 18,
    "start_time": "2023-05-04T07:32:56.420Z"
   },
   {
    "duration": 24,
    "start_time": "2023-05-04T07:32:56.439Z"
   },
   {
    "duration": 18,
    "start_time": "2023-05-04T07:32:56.464Z"
   },
   {
    "duration": 14,
    "start_time": "2023-05-04T07:32:56.483Z"
   },
   {
    "duration": 9,
    "start_time": "2023-05-04T07:32:56.498Z"
   },
   {
    "duration": 7,
    "start_time": "2023-05-04T07:32:56.509Z"
   },
   {
    "duration": 41,
    "start_time": "2023-05-04T07:32:56.518Z"
   },
   {
    "duration": 12,
    "start_time": "2023-05-04T07:32:56.561Z"
   },
   {
    "duration": 12,
    "start_time": "2023-05-04T07:32:56.575Z"
   },
   {
    "duration": 12,
    "start_time": "2023-05-04T07:32:56.590Z"
   },
   {
    "duration": 35,
    "start_time": "2023-05-04T07:32:56.604Z"
   },
   {
    "duration": 15,
    "start_time": "2023-05-04T07:32:56.641Z"
   },
   {
    "duration": 5,
    "start_time": "2023-05-04T07:32:56.658Z"
   },
   {
    "duration": 28,
    "start_time": "2023-05-04T07:32:56.665Z"
   },
   {
    "duration": 25,
    "start_time": "2023-05-04T07:32:56.695Z"
   },
   {
    "duration": 13,
    "start_time": "2023-05-04T07:32:56.722Z"
   },
   {
    "duration": 18,
    "start_time": "2023-05-04T07:32:56.737Z"
   },
   {
    "duration": 30,
    "start_time": "2023-05-04T07:32:56.757Z"
   },
   {
    "duration": 4,
    "start_time": "2023-05-04T07:32:56.790Z"
   },
   {
    "duration": 29,
    "start_time": "2023-05-04T07:32:56.796Z"
   },
   {
    "duration": 18,
    "start_time": "2023-05-04T07:32:56.827Z"
   },
   {
    "duration": 8,
    "start_time": "2023-05-04T07:32:56.847Z"
   },
   {
    "duration": 8,
    "start_time": "2023-05-04T07:32:56.857Z"
   },
   {
    "duration": 8,
    "start_time": "2023-05-04T07:32:56.868Z"
   },
   {
    "duration": 8,
    "start_time": "2023-05-04T07:32:56.877Z"
   },
   {
    "duration": 15,
    "start_time": "2023-05-04T07:32:56.886Z"
   },
   {
    "duration": 10,
    "start_time": "2023-05-04T07:32:56.902Z"
   },
   {
    "duration": 85,
    "start_time": "2023-05-04T07:32:56.914Z"
   },
   {
    "duration": 221,
    "start_time": "2023-05-04T07:32:57.000Z"
   },
   {
    "duration": 6,
    "start_time": "2023-05-04T07:32:57.222Z"
   },
   {
    "duration": 30,
    "start_time": "2023-05-04T07:32:57.229Z"
   },
   {
    "duration": 330,
    "start_time": "2023-05-04T07:32:57.261Z"
   },
   {
    "duration": 208,
    "start_time": "2023-05-04T07:32:57.592Z"
   },
   {
    "duration": 205,
    "start_time": "2023-05-04T07:32:57.801Z"
   },
   {
    "duration": 189,
    "start_time": "2023-05-04T07:32:58.008Z"
   },
   {
    "duration": 176,
    "start_time": "2023-05-04T07:32:58.198Z"
   },
   {
    "duration": 240,
    "start_time": "2023-05-04T07:32:58.377Z"
   },
   {
    "duration": 82,
    "start_time": "2023-05-04T07:32:58.618Z"
   },
   {
    "duration": 0,
    "start_time": "2023-05-04T07:32:58.701Z"
   },
   {
    "duration": 0,
    "start_time": "2023-05-04T07:32:58.702Z"
   },
   {
    "duration": 0,
    "start_time": "2023-05-04T07:32:58.703Z"
   },
   {
    "duration": 0,
    "start_time": "2023-05-04T07:32:58.704Z"
   },
   {
    "duration": 0,
    "start_time": "2023-05-04T07:32:58.704Z"
   },
   {
    "duration": 0,
    "start_time": "2023-05-04T07:32:58.705Z"
   },
   {
    "duration": 0,
    "start_time": "2023-05-04T07:32:58.706Z"
   },
   {
    "duration": 0,
    "start_time": "2023-05-04T07:32:58.707Z"
   },
   {
    "duration": 0,
    "start_time": "2023-05-04T07:32:58.708Z"
   },
   {
    "duration": 0,
    "start_time": "2023-05-04T07:32:58.709Z"
   },
   {
    "duration": 0,
    "start_time": "2023-05-04T07:32:58.710Z"
   },
   {
    "duration": 0,
    "start_time": "2023-05-04T07:32:58.711Z"
   },
   {
    "duration": 0,
    "start_time": "2023-05-04T07:32:58.712Z"
   },
   {
    "duration": 0,
    "start_time": "2023-05-04T07:32:58.713Z"
   },
   {
    "duration": 0,
    "start_time": "2023-05-04T07:32:58.714Z"
   },
   {
    "duration": 0,
    "start_time": "2023-05-04T07:32:58.715Z"
   },
   {
    "duration": 0,
    "start_time": "2023-05-04T07:32:58.716Z"
   },
   {
    "duration": 0,
    "start_time": "2023-05-04T07:32:58.717Z"
   },
   {
    "duration": 0,
    "start_time": "2023-05-04T07:32:58.718Z"
   },
   {
    "duration": 0,
    "start_time": "2023-05-04T07:32:58.719Z"
   },
   {
    "duration": 0,
    "start_time": "2023-05-04T07:32:58.719Z"
   },
   {
    "duration": 0,
    "start_time": "2023-05-04T07:32:58.755Z"
   },
   {
    "duration": 0,
    "start_time": "2023-05-04T07:32:58.756Z"
   },
   {
    "duration": 0,
    "start_time": "2023-05-04T07:32:58.757Z"
   },
   {
    "duration": 0,
    "start_time": "2023-05-04T07:32:58.758Z"
   },
   {
    "duration": 21,
    "start_time": "2023-05-04T07:34:08.956Z"
   },
   {
    "duration": 24,
    "start_time": "2023-05-04T07:35:00.453Z"
   },
   {
    "duration": 4,
    "start_time": "2023-05-04T07:35:10.631Z"
   },
   {
    "duration": 3,
    "start_time": "2023-05-04T07:35:17.220Z"
   },
   {
    "duration": 6,
    "start_time": "2023-05-04T07:35:28.184Z"
   },
   {
    "duration": 27,
    "start_time": "2023-05-04T07:36:26.999Z"
   },
   {
    "duration": 215,
    "start_time": "2023-05-04T07:36:56.527Z"
   },
   {
    "duration": 1086,
    "start_time": "2023-05-04T07:37:13.800Z"
   },
   {
    "duration": 1214,
    "start_time": "2023-05-04T07:42:34.647Z"
   },
   {
    "duration": 67,
    "start_time": "2023-05-04T07:42:35.863Z"
   },
   {
    "duration": 18,
    "start_time": "2023-05-04T07:42:35.932Z"
   },
   {
    "duration": 35,
    "start_time": "2023-05-04T07:42:35.952Z"
   },
   {
    "duration": 20,
    "start_time": "2023-05-04T07:42:35.989Z"
   },
   {
    "duration": 22,
    "start_time": "2023-05-04T07:42:36.011Z"
   },
   {
    "duration": 15,
    "start_time": "2023-05-04T07:42:36.035Z"
   },
   {
    "duration": 21,
    "start_time": "2023-05-04T07:42:36.056Z"
   },
   {
    "duration": 21,
    "start_time": "2023-05-04T07:42:36.079Z"
   },
   {
    "duration": 15,
    "start_time": "2023-05-04T07:42:36.103Z"
   },
   {
    "duration": 23,
    "start_time": "2023-05-04T07:42:36.119Z"
   },
   {
    "duration": 19,
    "start_time": "2023-05-04T07:42:36.155Z"
   },
   {
    "duration": 11,
    "start_time": "2023-05-04T07:42:36.176Z"
   },
   {
    "duration": 15,
    "start_time": "2023-05-04T07:42:36.189Z"
   },
   {
    "duration": 42,
    "start_time": "2023-05-04T07:42:36.206Z"
   },
   {
    "duration": 15,
    "start_time": "2023-05-04T07:42:36.250Z"
   },
   {
    "duration": 6,
    "start_time": "2023-05-04T07:42:36.267Z"
   },
   {
    "duration": 17,
    "start_time": "2023-05-04T07:42:36.275Z"
   },
   {
    "duration": 9,
    "start_time": "2023-05-04T07:42:36.294Z"
   },
   {
    "duration": 13,
    "start_time": "2023-05-04T07:42:36.305Z"
   },
   {
    "duration": 38,
    "start_time": "2023-05-04T07:42:36.320Z"
   },
   {
    "duration": 28,
    "start_time": "2023-05-04T07:42:36.360Z"
   },
   {
    "duration": 5,
    "start_time": "2023-05-04T07:42:36.389Z"
   },
   {
    "duration": 18,
    "start_time": "2023-05-04T07:42:36.396Z"
   },
   {
    "duration": 14,
    "start_time": "2023-05-04T07:42:36.415Z"
   },
   {
    "duration": 30,
    "start_time": "2023-05-04T07:42:36.430Z"
   },
   {
    "duration": 10,
    "start_time": "2023-05-04T07:42:36.462Z"
   },
   {
    "duration": 10,
    "start_time": "2023-05-04T07:42:36.478Z"
   },
   {
    "duration": 9,
    "start_time": "2023-05-04T07:42:36.490Z"
   },
   {
    "duration": 18,
    "start_time": "2023-05-04T07:42:36.501Z"
   },
   {
    "duration": 36,
    "start_time": "2023-05-04T07:42:36.521Z"
   },
   {
    "duration": 83,
    "start_time": "2023-05-04T07:42:36.559Z"
   },
   {
    "duration": 236,
    "start_time": "2023-05-04T07:42:36.656Z"
   },
   {
    "duration": 6,
    "start_time": "2023-05-04T07:42:36.894Z"
   },
   {
    "duration": 22,
    "start_time": "2023-05-04T07:42:36.902Z"
   },
   {
    "duration": 305,
    "start_time": "2023-05-04T07:42:36.926Z"
   },
   {
    "duration": 1072,
    "start_time": "2023-05-04T07:42:37.233Z"
   },
   {
    "duration": 17,
    "start_time": "2023-05-04T07:42:38.355Z"
   },
   {
    "duration": 10,
    "start_time": "2023-05-04T07:42:38.374Z"
   },
   {
    "duration": 378,
    "start_time": "2023-05-04T07:42:38.386Z"
   },
   {
    "duration": 619,
    "start_time": "2023-05-04T07:42:38.767Z"
   },
   {
    "duration": 613,
    "start_time": "2023-05-04T07:42:39.388Z"
   },
   {
    "duration": 52,
    "start_time": "2023-05-04T07:42:40.004Z"
   },
   {
    "duration": 23,
    "start_time": "2023-05-04T07:42:40.058Z"
   },
   {
    "duration": 337,
    "start_time": "2023-05-04T07:42:40.083Z"
   },
   {
    "duration": 5,
    "start_time": "2023-05-04T07:42:40.422Z"
   },
   {
    "duration": 18,
    "start_time": "2023-05-04T07:42:40.428Z"
   },
   {
    "duration": 318,
    "start_time": "2023-05-04T07:42:40.448Z"
   },
   {
    "duration": 6,
    "start_time": "2023-05-04T07:42:40.768Z"
   },
   {
    "duration": 7,
    "start_time": "2023-05-04T07:42:40.776Z"
   },
   {
    "duration": 313,
    "start_time": "2023-05-04T07:42:40.785Z"
   },
   {
    "duration": 5,
    "start_time": "2023-05-04T07:42:41.100Z"
   },
   {
    "duration": 9,
    "start_time": "2023-05-04T07:42:41.107Z"
   },
   {
    "duration": 19,
    "start_time": "2023-05-04T07:42:41.118Z"
   },
   {
    "duration": 22,
    "start_time": "2023-05-04T07:42:41.139Z"
   },
   {
    "duration": 38,
    "start_time": "2023-05-04T07:42:41.164Z"
   },
   {
    "duration": 322,
    "start_time": "2023-05-04T07:42:41.204Z"
   },
   {
    "duration": 38,
    "start_time": "2023-05-04T07:42:41.529Z"
   },
   {
    "duration": 281,
    "start_time": "2023-05-04T07:42:41.568Z"
   },
   {
    "duration": 212,
    "start_time": "2023-05-04T07:42:41.850Z"
   },
   {
    "duration": 8,
    "start_time": "2023-05-04T07:42:42.063Z"
   },
   {
    "duration": 20,
    "start_time": "2023-05-04T07:42:42.073Z"
   },
   {
    "duration": 19,
    "start_time": "2023-05-04T07:42:42.095Z"
   },
   {
    "duration": 15,
    "start_time": "2023-05-04T07:43:17.130Z"
   },
   {
    "duration": 5,
    "start_time": "2023-05-04T07:44:00.008Z"
   },
   {
    "duration": 104,
    "start_time": "2023-05-04T07:44:05.287Z"
   },
   {
    "duration": 13,
    "start_time": "2023-05-04T07:45:04.817Z"
   },
   {
    "duration": 944,
    "start_time": "2023-05-04T07:45:19.607Z"
   },
   {
    "duration": 1238,
    "start_time": "2023-05-04T07:45:58.728Z"
   },
   {
    "duration": 67,
    "start_time": "2023-05-04T07:45:59.968Z"
   },
   {
    "duration": 19,
    "start_time": "2023-05-04T07:46:00.037Z"
   },
   {
    "duration": 28,
    "start_time": "2023-05-04T07:46:00.059Z"
   },
   {
    "duration": 33,
    "start_time": "2023-05-04T07:46:00.089Z"
   },
   {
    "duration": 41,
    "start_time": "2023-05-04T07:46:00.124Z"
   },
   {
    "duration": 14,
    "start_time": "2023-05-04T07:46:00.166Z"
   },
   {
    "duration": 23,
    "start_time": "2023-05-04T07:46:00.181Z"
   },
   {
    "duration": 24,
    "start_time": "2023-05-04T07:46:00.206Z"
   },
   {
    "duration": 23,
    "start_time": "2023-05-04T07:46:00.232Z"
   },
   {
    "duration": 50,
    "start_time": "2023-05-04T07:46:00.256Z"
   },
   {
    "duration": 46,
    "start_time": "2023-05-04T07:46:00.308Z"
   },
   {
    "duration": 25,
    "start_time": "2023-05-04T07:46:00.356Z"
   },
   {
    "duration": 30,
    "start_time": "2023-05-04T07:46:00.386Z"
   },
   {
    "duration": 43,
    "start_time": "2023-05-04T07:46:00.418Z"
   },
   {
    "duration": 43,
    "start_time": "2023-05-04T07:46:00.463Z"
   },
   {
    "duration": 18,
    "start_time": "2023-05-04T07:46:00.508Z"
   },
   {
    "duration": 17,
    "start_time": "2023-05-04T07:46:00.528Z"
   },
   {
    "duration": 31,
    "start_time": "2023-05-04T07:46:00.547Z"
   },
   {
    "duration": 39,
    "start_time": "2023-05-04T07:46:00.580Z"
   },
   {
    "duration": 67,
    "start_time": "2023-05-04T07:46:00.622Z"
   },
   {
    "duration": 57,
    "start_time": "2023-05-04T07:46:00.691Z"
   },
   {
    "duration": 4,
    "start_time": "2023-05-04T07:46:00.751Z"
   },
   {
    "duration": 56,
    "start_time": "2023-05-04T07:46:00.758Z"
   },
   {
    "duration": 44,
    "start_time": "2023-05-04T07:46:00.816Z"
   },
   {
    "duration": 35,
    "start_time": "2023-05-04T07:46:00.862Z"
   },
   {
    "duration": 48,
    "start_time": "2023-05-04T07:46:00.900Z"
   },
   {
    "duration": 60,
    "start_time": "2023-05-04T07:46:00.950Z"
   },
   {
    "duration": 65,
    "start_time": "2023-05-04T07:46:01.012Z"
   },
   {
    "duration": 44,
    "start_time": "2023-05-04T07:46:01.080Z"
   },
   {
    "duration": 86,
    "start_time": "2023-05-04T07:46:01.127Z"
   },
   {
    "duration": 141,
    "start_time": "2023-05-04T07:46:01.215Z"
   },
   {
    "duration": 267,
    "start_time": "2023-05-04T07:46:01.359Z"
   },
   {
    "duration": 7,
    "start_time": "2023-05-04T07:46:01.628Z"
   },
   {
    "duration": 72,
    "start_time": "2023-05-04T07:46:01.636Z"
   },
   {
    "duration": 338,
    "start_time": "2023-05-04T07:46:01.709Z"
   },
   {
    "duration": 1119,
    "start_time": "2023-05-04T07:46:02.055Z"
   },
   {
    "duration": 27,
    "start_time": "2023-05-04T07:46:03.177Z"
   },
   {
    "duration": 12,
    "start_time": "2023-05-04T07:46:03.206Z"
   },
   {
    "duration": 204,
    "start_time": "2023-05-04T07:46:03.220Z"
   },
   {
    "duration": 314,
    "start_time": "2023-05-04T07:46:03.430Z"
   },
   {
    "duration": 375,
    "start_time": "2023-05-04T07:46:03.745Z"
   },
   {
    "duration": 7,
    "start_time": "2023-05-04T07:46:04.122Z"
   },
   {
    "duration": 31,
    "start_time": "2023-05-04T07:46:04.131Z"
   },
   {
    "duration": 281,
    "start_time": "2023-05-04T07:46:04.165Z"
   },
   {
    "duration": 10,
    "start_time": "2023-05-04T07:46:04.447Z"
   },
   {
    "duration": 6,
    "start_time": "2023-05-04T07:46:04.460Z"
   },
   {
    "duration": 337,
    "start_time": "2023-05-04T07:46:04.468Z"
   },
   {
    "duration": 6,
    "start_time": "2023-05-04T07:46:04.806Z"
   },
   {
    "duration": 18,
    "start_time": "2023-05-04T07:46:04.813Z"
   },
   {
    "duration": 281,
    "start_time": "2023-05-04T07:46:04.833Z"
   },
   {
    "duration": 5,
    "start_time": "2023-05-04T07:46:05.116Z"
   },
   {
    "duration": 11,
    "start_time": "2023-05-04T07:46:05.123Z"
   },
   {
    "duration": 26,
    "start_time": "2023-05-04T07:46:05.135Z"
   },
   {
    "duration": 8,
    "start_time": "2023-05-04T07:46:05.163Z"
   },
   {
    "duration": 29,
    "start_time": "2023-05-04T07:46:05.173Z"
   },
   {
    "duration": 340,
    "start_time": "2023-05-04T07:46:05.204Z"
   },
   {
    "duration": 30,
    "start_time": "2023-05-04T07:46:05.545Z"
   },
   {
    "duration": 288,
    "start_time": "2023-05-04T07:46:05.577Z"
   },
   {
    "duration": 213,
    "start_time": "2023-05-04T07:46:05.867Z"
   },
   {
    "duration": 10,
    "start_time": "2023-05-04T07:46:06.082Z"
   },
   {
    "duration": 18,
    "start_time": "2023-05-04T07:46:06.093Z"
   },
   {
    "duration": 12,
    "start_time": "2023-05-04T07:46:06.113Z"
   },
   {
    "duration": 1161,
    "start_time": "2023-05-04T07:54:24.009Z"
   },
   {
    "duration": 71,
    "start_time": "2023-05-04T07:54:25.172Z"
   },
   {
    "duration": 30,
    "start_time": "2023-05-04T07:54:25.246Z"
   },
   {
    "duration": 29,
    "start_time": "2023-05-04T07:54:25.278Z"
   },
   {
    "duration": 17,
    "start_time": "2023-05-04T07:54:25.311Z"
   },
   {
    "duration": 33,
    "start_time": "2023-05-04T07:54:25.330Z"
   },
   {
    "duration": 10,
    "start_time": "2023-05-04T07:54:25.365Z"
   },
   {
    "duration": 38,
    "start_time": "2023-05-04T07:54:25.378Z"
   },
   {
    "duration": 11,
    "start_time": "2023-05-04T07:54:25.418Z"
   },
   {
    "duration": 15,
    "start_time": "2023-05-04T07:54:25.431Z"
   },
   {
    "duration": 32,
    "start_time": "2023-05-04T07:54:25.448Z"
   },
   {
    "duration": 18,
    "start_time": "2023-05-04T07:54:25.482Z"
   },
   {
    "duration": 7,
    "start_time": "2023-05-04T07:54:25.502Z"
   },
   {
    "duration": 52,
    "start_time": "2023-05-04T07:54:25.514Z"
   },
   {
    "duration": 28,
    "start_time": "2023-05-04T07:54:25.569Z"
   },
   {
    "duration": 14,
    "start_time": "2023-05-04T07:54:25.599Z"
   },
   {
    "duration": 6,
    "start_time": "2023-05-04T07:54:25.615Z"
   },
   {
    "duration": 34,
    "start_time": "2023-05-04T07:54:25.623Z"
   },
   {
    "duration": 5,
    "start_time": "2023-05-04T07:54:25.658Z"
   },
   {
    "duration": 13,
    "start_time": "2023-05-04T07:54:25.665Z"
   },
   {
    "duration": 25,
    "start_time": "2023-05-04T07:54:25.679Z"
   },
   {
    "duration": 51,
    "start_time": "2023-05-04T07:54:25.706Z"
   },
   {
    "duration": 5,
    "start_time": "2023-05-04T07:54:25.758Z"
   },
   {
    "duration": 28,
    "start_time": "2023-05-04T07:54:25.765Z"
   },
   {
    "duration": 10,
    "start_time": "2023-05-04T07:54:25.796Z"
   },
   {
    "duration": 27,
    "start_time": "2023-05-04T07:54:25.808Z"
   },
   {
    "duration": 25,
    "start_time": "2023-05-04T07:54:25.837Z"
   },
   {
    "duration": 14,
    "start_time": "2023-05-04T07:54:25.863Z"
   },
   {
    "duration": 18,
    "start_time": "2023-05-04T07:54:25.879Z"
   },
   {
    "duration": 9,
    "start_time": "2023-05-04T07:54:25.899Z"
   },
   {
    "duration": 11,
    "start_time": "2023-05-04T07:54:25.910Z"
   },
   {
    "duration": 119,
    "start_time": "2023-05-04T07:54:25.923Z"
   },
   {
    "duration": 220,
    "start_time": "2023-05-04T07:54:26.055Z"
   },
   {
    "duration": 5,
    "start_time": "2023-05-04T07:54:26.277Z"
   },
   {
    "duration": 28,
    "start_time": "2023-05-04T07:54:26.283Z"
   },
   {
    "duration": 338,
    "start_time": "2023-05-04T07:54:26.313Z"
   },
   {
    "duration": 1171,
    "start_time": "2023-05-04T07:54:26.653Z"
   },
   {
    "duration": 20,
    "start_time": "2023-05-04T07:54:27.826Z"
   },
   {
    "duration": 6,
    "start_time": "2023-05-04T07:54:27.855Z"
   },
   {
    "duration": 12,
    "start_time": "2023-05-04T07:54:27.863Z"
   },
   {
    "duration": 196,
    "start_time": "2023-05-04T07:54:27.880Z"
   },
   {
    "duration": 341,
    "start_time": "2023-05-04T07:54:28.078Z"
   },
   {
    "duration": 332,
    "start_time": "2023-05-04T07:54:28.421Z"
   },
   {
    "duration": 8,
    "start_time": "2023-05-04T07:54:28.755Z"
   },
   {
    "duration": 22,
    "start_time": "2023-05-04T07:54:28.765Z"
   },
   {
    "duration": 323,
    "start_time": "2023-05-04T07:54:28.790Z"
   },
   {
    "duration": 5,
    "start_time": "2023-05-04T07:54:29.115Z"
   },
   {
    "duration": 8,
    "start_time": "2023-05-04T07:54:29.122Z"
   },
   {
    "duration": 361,
    "start_time": "2023-05-04T07:54:29.131Z"
   },
   {
    "duration": 7,
    "start_time": "2023-05-04T07:54:29.494Z"
   },
   {
    "duration": 25,
    "start_time": "2023-05-04T07:54:29.504Z"
   },
   {
    "duration": 328,
    "start_time": "2023-05-04T07:54:29.532Z"
   },
   {
    "duration": 5,
    "start_time": "2023-05-04T07:54:29.862Z"
   },
   {
    "duration": 44,
    "start_time": "2023-05-04T07:54:29.869Z"
   },
   {
    "duration": 38,
    "start_time": "2023-05-04T07:54:29.915Z"
   },
   {
    "duration": 33,
    "start_time": "2023-05-04T07:54:29.956Z"
   },
   {
    "duration": 41,
    "start_time": "2023-05-04T07:54:29.992Z"
   },
   {
    "duration": 322,
    "start_time": "2023-05-04T07:54:30.036Z"
   },
   {
    "duration": 26,
    "start_time": "2023-05-04T07:54:30.360Z"
   },
   {
    "duration": 295,
    "start_time": "2023-05-04T07:54:30.387Z"
   },
   {
    "duration": 312,
    "start_time": "2023-05-04T07:54:30.684Z"
   },
   {
    "duration": 12,
    "start_time": "2023-05-04T07:54:30.999Z"
   },
   {
    "duration": 62,
    "start_time": "2023-05-04T07:54:31.014Z"
   },
   {
    "duration": 51,
    "start_time": "2023-05-04T07:54:31.078Z"
   },
   {
    "duration": 117,
    "start_time": "2023-05-04T07:55:13.443Z"
   },
   {
    "duration": 16,
    "start_time": "2023-05-04T07:55:28.405Z"
   },
   {
    "duration": 1219,
    "start_time": "2023-05-04T07:55:35.846Z"
   },
   {
    "duration": 72,
    "start_time": "2023-05-04T07:55:37.067Z"
   },
   {
    "duration": 29,
    "start_time": "2023-05-04T07:55:37.141Z"
   },
   {
    "duration": 30,
    "start_time": "2023-05-04T07:55:37.173Z"
   },
   {
    "duration": 17,
    "start_time": "2023-05-04T07:55:37.205Z"
   },
   {
    "duration": 33,
    "start_time": "2023-05-04T07:55:37.224Z"
   },
   {
    "duration": 10,
    "start_time": "2023-05-04T07:55:37.259Z"
   },
   {
    "duration": 15,
    "start_time": "2023-05-04T07:55:37.271Z"
   },
   {
    "duration": 14,
    "start_time": "2023-05-04T07:55:37.288Z"
   },
   {
    "duration": 14,
    "start_time": "2023-05-04T07:55:37.304Z"
   },
   {
    "duration": 58,
    "start_time": "2023-05-04T07:55:37.321Z"
   },
   {
    "duration": 14,
    "start_time": "2023-05-04T07:55:37.381Z"
   },
   {
    "duration": 21,
    "start_time": "2023-05-04T07:55:37.397Z"
   },
   {
    "duration": 33,
    "start_time": "2023-05-04T07:55:37.423Z"
   },
   {
    "duration": 18,
    "start_time": "2023-05-04T07:55:37.457Z"
   },
   {
    "duration": 18,
    "start_time": "2023-05-04T07:55:37.477Z"
   },
   {
    "duration": 10,
    "start_time": "2023-05-04T07:55:37.497Z"
   },
   {
    "duration": 12,
    "start_time": "2023-05-04T07:55:37.508Z"
   },
   {
    "duration": 11,
    "start_time": "2023-05-04T07:55:37.522Z"
   },
   {
    "duration": 34,
    "start_time": "2023-05-04T07:55:37.535Z"
   },
   {
    "duration": 30,
    "start_time": "2023-05-04T07:55:37.571Z"
   },
   {
    "duration": 29,
    "start_time": "2023-05-04T07:55:37.603Z"
   },
   {
    "duration": 6,
    "start_time": "2023-05-04T07:55:37.634Z"
   },
   {
    "duration": 35,
    "start_time": "2023-05-04T07:55:37.656Z"
   },
   {
    "duration": 12,
    "start_time": "2023-05-04T07:55:37.693Z"
   },
   {
    "duration": 11,
    "start_time": "2023-05-04T07:55:37.708Z"
   },
   {
    "duration": 11,
    "start_time": "2023-05-04T07:55:37.722Z"
   },
   {
    "duration": 29,
    "start_time": "2023-05-04T07:55:37.735Z"
   },
   {
    "duration": 11,
    "start_time": "2023-05-04T07:55:37.766Z"
   },
   {
    "duration": 21,
    "start_time": "2023-05-04T07:55:37.779Z"
   },
   {
    "duration": 13,
    "start_time": "2023-05-04T07:55:37.802Z"
   },
   {
    "duration": 146,
    "start_time": "2023-05-04T07:55:37.817Z"
   },
   {
    "duration": 229,
    "start_time": "2023-05-04T07:55:37.965Z"
   },
   {
    "duration": 6,
    "start_time": "2023-05-04T07:55:38.196Z"
   },
   {
    "duration": 44,
    "start_time": "2023-05-04T07:55:38.203Z"
   },
   {
    "duration": 292,
    "start_time": "2023-05-04T07:55:38.249Z"
   },
   {
    "duration": 1848,
    "start_time": "2023-05-04T07:55:38.542Z"
   },
   {
    "duration": 68,
    "start_time": "2023-05-04T07:55:40.392Z"
   },
   {
    "duration": 6,
    "start_time": "2023-05-04T07:55:40.462Z"
   },
   {
    "duration": 6,
    "start_time": "2023-05-04T07:55:40.470Z"
   },
   {
    "duration": 244,
    "start_time": "2023-05-04T07:55:40.480Z"
   },
   {
    "duration": 285,
    "start_time": "2023-05-04T07:55:40.726Z"
   },
   {
    "duration": 272,
    "start_time": "2023-05-04T07:55:41.013Z"
   },
   {
    "duration": 4,
    "start_time": "2023-05-04T07:55:41.287Z"
   },
   {
    "duration": 10,
    "start_time": "2023-05-04T07:55:41.293Z"
   },
   {
    "duration": 267,
    "start_time": "2023-05-04T07:55:41.305Z"
   },
   {
    "duration": 5,
    "start_time": "2023-05-04T07:55:41.574Z"
   },
   {
    "duration": 5,
    "start_time": "2023-05-04T07:55:41.580Z"
   },
   {
    "duration": 291,
    "start_time": "2023-05-04T07:55:41.587Z"
   },
   {
    "duration": 6,
    "start_time": "2023-05-04T07:55:41.880Z"
   },
   {
    "duration": 7,
    "start_time": "2023-05-04T07:55:41.888Z"
   },
   {
    "duration": 294,
    "start_time": "2023-05-04T07:55:41.897Z"
   },
   {
    "duration": 7,
    "start_time": "2023-05-04T07:55:42.194Z"
   },
   {
    "duration": 10,
    "start_time": "2023-05-04T07:55:42.204Z"
   },
   {
    "duration": 8,
    "start_time": "2023-05-04T07:55:42.217Z"
   },
   {
    "duration": 33,
    "start_time": "2023-05-04T07:55:42.227Z"
   },
   {
    "duration": 37,
    "start_time": "2023-05-04T07:55:42.262Z"
   },
   {
    "duration": 328,
    "start_time": "2023-05-04T07:55:42.302Z"
   },
   {
    "duration": 36,
    "start_time": "2023-05-04T07:55:42.632Z"
   },
   {
    "duration": 274,
    "start_time": "2023-05-04T07:55:42.670Z"
   },
   {
    "duration": 218,
    "start_time": "2023-05-04T07:55:42.946Z"
   },
   {
    "duration": 9,
    "start_time": "2023-05-04T07:55:43.166Z"
   },
   {
    "duration": 19,
    "start_time": "2023-05-04T07:55:43.176Z"
   },
   {
    "duration": 12,
    "start_time": "2023-05-04T07:55:43.197Z"
   },
   {
    "duration": 12,
    "start_time": "2023-05-04T07:55:51.453Z"
   },
   {
    "duration": 72,
    "start_time": "2023-05-04T07:57:19.444Z"
   },
   {
    "duration": 251,
    "start_time": "2023-05-04T08:00:00.245Z"
   },
   {
    "duration": 166,
    "start_time": "2023-05-04T08:00:25.692Z"
   },
   {
    "duration": 1135,
    "start_time": "2023-05-04T08:03:38.323Z"
   },
   {
    "duration": 64,
    "start_time": "2023-05-04T08:03:39.460Z"
   },
   {
    "duration": 17,
    "start_time": "2023-05-04T08:03:39.526Z"
   },
   {
    "duration": 26,
    "start_time": "2023-05-04T08:03:39.545Z"
   },
   {
    "duration": 22,
    "start_time": "2023-05-04T08:03:39.572Z"
   },
   {
    "duration": 14,
    "start_time": "2023-05-04T08:03:39.596Z"
   },
   {
    "duration": 9,
    "start_time": "2023-05-04T08:03:39.611Z"
   },
   {
    "duration": 39,
    "start_time": "2023-05-04T08:03:39.621Z"
   },
   {
    "duration": 27,
    "start_time": "2023-05-04T08:03:39.662Z"
   },
   {
    "duration": 12,
    "start_time": "2023-05-04T08:03:39.691Z"
   },
   {
    "duration": 35,
    "start_time": "2023-05-04T08:03:39.705Z"
   },
   {
    "duration": 13,
    "start_time": "2023-05-04T08:03:39.741Z"
   },
   {
    "duration": 6,
    "start_time": "2023-05-04T08:03:39.756Z"
   },
   {
    "duration": 41,
    "start_time": "2023-05-04T08:03:39.764Z"
   },
   {
    "duration": 19,
    "start_time": "2023-05-04T08:03:39.807Z"
   },
   {
    "duration": 14,
    "start_time": "2023-05-04T08:03:39.828Z"
   },
   {
    "duration": 5,
    "start_time": "2023-05-04T08:03:39.844Z"
   },
   {
    "duration": 5,
    "start_time": "2023-05-04T08:03:39.855Z"
   },
   {
    "duration": 23,
    "start_time": "2023-05-04T08:03:39.863Z"
   },
   {
    "duration": 12,
    "start_time": "2023-05-04T08:03:39.888Z"
   },
   {
    "duration": 16,
    "start_time": "2023-05-04T08:03:39.901Z"
   },
   {
    "duration": 51,
    "start_time": "2023-05-04T08:03:39.919Z"
   },
   {
    "duration": 4,
    "start_time": "2023-05-04T08:03:39.973Z"
   },
   {
    "duration": 25,
    "start_time": "2023-05-04T08:03:39.979Z"
   },
   {
    "duration": 29,
    "start_time": "2023-05-04T08:03:40.005Z"
   },
   {
    "duration": 21,
    "start_time": "2023-05-04T08:03:40.036Z"
   },
   {
    "duration": 33,
    "start_time": "2023-05-04T08:03:40.059Z"
   },
   {
    "duration": 31,
    "start_time": "2023-05-04T08:03:40.097Z"
   },
   {
    "duration": 20,
    "start_time": "2023-05-04T08:03:40.130Z"
   },
   {
    "duration": 27,
    "start_time": "2023-05-04T08:03:40.152Z"
   },
   {
    "duration": 23,
    "start_time": "2023-05-04T08:03:40.181Z"
   },
   {
    "duration": 102,
    "start_time": "2023-05-04T08:03:40.206Z"
   },
   {
    "duration": 218,
    "start_time": "2023-05-04T08:03:40.310Z"
   },
   {
    "duration": 6,
    "start_time": "2023-05-04T08:03:40.530Z"
   },
   {
    "duration": 27,
    "start_time": "2023-05-04T08:03:40.537Z"
   },
   {
    "duration": 277,
    "start_time": "2023-05-04T08:03:40.565Z"
   },
   {
    "duration": 972,
    "start_time": "2023-05-04T08:03:40.844Z"
   },
   {
    "duration": 15,
    "start_time": "2023-05-04T08:03:41.818Z"
   },
   {
    "duration": 7,
    "start_time": "2023-05-04T08:03:41.834Z"
   },
   {
    "duration": 10,
    "start_time": "2023-05-04T08:03:41.855Z"
   },
   {
    "duration": 13,
    "start_time": "2023-05-04T08:03:41.867Z"
   },
   {
    "duration": 186,
    "start_time": "2023-05-04T08:03:41.881Z"
   },
   {
    "duration": 326,
    "start_time": "2023-05-04T08:03:42.069Z"
   },
   {
    "duration": 295,
    "start_time": "2023-05-04T08:03:42.397Z"
   },
   {
    "duration": 6,
    "start_time": "2023-05-04T08:03:42.693Z"
   },
   {
    "duration": 33,
    "start_time": "2023-05-04T08:03:42.700Z"
   },
   {
    "duration": 269,
    "start_time": "2023-05-04T08:03:42.734Z"
   },
   {
    "duration": 6,
    "start_time": "2023-05-04T08:03:43.005Z"
   },
   {
    "duration": 14,
    "start_time": "2023-05-04T08:03:43.013Z"
   },
   {
    "duration": 297,
    "start_time": "2023-05-04T08:03:43.029Z"
   },
   {
    "duration": 5,
    "start_time": "2023-05-04T08:03:43.328Z"
   },
   {
    "duration": 13,
    "start_time": "2023-05-04T08:03:43.335Z"
   },
   {
    "duration": 299,
    "start_time": "2023-05-04T08:03:43.356Z"
   },
   {
    "duration": 6,
    "start_time": "2023-05-04T08:03:43.657Z"
   },
   {
    "duration": 24,
    "start_time": "2023-05-04T08:03:43.664Z"
   },
   {
    "duration": 36,
    "start_time": "2023-05-04T08:03:43.690Z"
   },
   {
    "duration": 23,
    "start_time": "2023-05-04T08:03:43.727Z"
   },
   {
    "duration": 42,
    "start_time": "2023-05-04T08:03:43.752Z"
   },
   {
    "duration": 427,
    "start_time": "2023-05-04T08:03:43.796Z"
   },
   {
    "duration": 37,
    "start_time": "2023-05-04T08:03:44.225Z"
   },
   {
    "duration": 287,
    "start_time": "2023-05-04T08:03:44.264Z"
   },
   {
    "duration": 239,
    "start_time": "2023-05-04T08:03:44.553Z"
   },
   {
    "duration": 9,
    "start_time": "2023-05-04T08:03:44.794Z"
   },
   {
    "duration": 21,
    "start_time": "2023-05-04T08:03:44.804Z"
   },
   {
    "duration": 31,
    "start_time": "2023-05-04T08:03:44.827Z"
   },
   {
    "duration": 74,
    "start_time": "2023-05-04T08:06:58.484Z"
   },
   {
    "duration": 414,
    "start_time": "2023-05-04T08:07:13.046Z"
   },
   {
    "duration": 301,
    "start_time": "2023-05-04T08:07:27.435Z"
   },
   {
    "duration": 277,
    "start_time": "2023-05-04T08:07:32.725Z"
   },
   {
    "duration": 1271,
    "start_time": "2023-05-04T08:10:27.307Z"
   },
   {
    "duration": 73,
    "start_time": "2023-05-04T08:10:28.581Z"
   },
   {
    "duration": 27,
    "start_time": "2023-05-04T08:10:28.657Z"
   },
   {
    "duration": 57,
    "start_time": "2023-05-04T08:10:28.687Z"
   },
   {
    "duration": 42,
    "start_time": "2023-05-04T08:10:28.746Z"
   },
   {
    "duration": 20,
    "start_time": "2023-05-04T08:10:28.792Z"
   },
   {
    "duration": 15,
    "start_time": "2023-05-04T08:10:28.814Z"
   },
   {
    "duration": 17,
    "start_time": "2023-05-04T08:10:28.831Z"
   },
   {
    "duration": 9,
    "start_time": "2023-05-04T08:10:28.856Z"
   },
   {
    "duration": 40,
    "start_time": "2023-05-04T08:10:28.867Z"
   },
   {
    "duration": 40,
    "start_time": "2023-05-04T08:10:28.910Z"
   },
   {
    "duration": 17,
    "start_time": "2023-05-04T08:10:28.951Z"
   },
   {
    "duration": 36,
    "start_time": "2023-05-04T08:10:28.969Z"
   },
   {
    "duration": 22,
    "start_time": "2023-05-04T08:10:29.009Z"
   },
   {
    "duration": 22,
    "start_time": "2023-05-04T08:10:29.033Z"
   },
   {
    "duration": 17,
    "start_time": "2023-05-04T08:10:29.057Z"
   },
   {
    "duration": 7,
    "start_time": "2023-05-04T08:10:29.075Z"
   },
   {
    "duration": 17,
    "start_time": "2023-05-04T08:10:29.084Z"
   },
   {
    "duration": 16,
    "start_time": "2023-05-04T08:10:29.103Z"
   },
   {
    "duration": 39,
    "start_time": "2023-05-04T08:10:29.121Z"
   },
   {
    "duration": 30,
    "start_time": "2023-05-04T08:10:29.163Z"
   },
   {
    "duration": 44,
    "start_time": "2023-05-04T08:10:29.195Z"
   },
   {
    "duration": 6,
    "start_time": "2023-05-04T08:10:29.241Z"
   },
   {
    "duration": 28,
    "start_time": "2023-05-04T08:10:29.256Z"
   },
   {
    "duration": 18,
    "start_time": "2023-05-04T08:10:29.286Z"
   },
   {
    "duration": 9,
    "start_time": "2023-05-04T08:10:29.305Z"
   },
   {
    "duration": 13,
    "start_time": "2023-05-04T08:10:29.317Z"
   },
   {
    "duration": 25,
    "start_time": "2023-05-04T08:10:29.332Z"
   },
   {
    "duration": 10,
    "start_time": "2023-05-04T08:10:29.359Z"
   },
   {
    "duration": 13,
    "start_time": "2023-05-04T08:10:29.371Z"
   },
   {
    "duration": 13,
    "start_time": "2023-05-04T08:10:29.387Z"
   },
   {
    "duration": 147,
    "start_time": "2023-05-04T08:10:29.414Z"
   },
   {
    "duration": 282,
    "start_time": "2023-05-04T08:10:29.563Z"
   },
   {
    "duration": 14,
    "start_time": "2023-05-04T08:10:29.847Z"
   },
   {
    "duration": 44,
    "start_time": "2023-05-04T08:10:29.862Z"
   },
   {
    "duration": 749,
    "start_time": "2023-05-04T08:10:29.908Z"
   },
   {
    "duration": 2283,
    "start_time": "2023-05-04T08:10:30.660Z"
   },
   {
    "duration": 25,
    "start_time": "2023-05-04T08:10:32.944Z"
   },
   {
    "duration": 21,
    "start_time": "2023-05-04T08:10:32.971Z"
   },
   {
    "duration": 13,
    "start_time": "2023-05-04T08:10:32.995Z"
   },
   {
    "duration": 10,
    "start_time": "2023-05-04T08:10:33.015Z"
   },
   {
    "duration": 209,
    "start_time": "2023-05-04T08:10:33.026Z"
   },
   {
    "duration": 333,
    "start_time": "2023-05-04T08:10:33.237Z"
   },
   {
    "duration": 313,
    "start_time": "2023-05-04T08:10:33.572Z"
   },
   {
    "duration": 373,
    "start_time": "2023-05-04T08:10:33.886Z"
   },
   {
    "duration": 7,
    "start_time": "2023-05-04T08:10:34.261Z"
   },
   {
    "duration": 8,
    "start_time": "2023-05-04T08:10:34.270Z"
   },
   {
    "duration": 316,
    "start_time": "2023-05-04T08:10:34.280Z"
   },
   {
    "duration": 7,
    "start_time": "2023-05-04T08:10:34.598Z"
   },
   {
    "duration": 7,
    "start_time": "2023-05-04T08:10:34.607Z"
   },
   {
    "duration": 362,
    "start_time": "2023-05-04T08:10:34.617Z"
   },
   {
    "duration": 7,
    "start_time": "2023-05-04T08:10:34.981Z"
   },
   {
    "duration": 21,
    "start_time": "2023-05-04T08:10:34.990Z"
   },
   {
    "duration": 292,
    "start_time": "2023-05-04T08:10:35.013Z"
   },
   {
    "duration": 6,
    "start_time": "2023-05-04T08:10:35.307Z"
   },
   {
    "duration": 65,
    "start_time": "2023-05-04T08:10:35.314Z"
   },
   {
    "duration": 29,
    "start_time": "2023-05-04T08:10:35.381Z"
   },
   {
    "duration": 33,
    "start_time": "2023-05-04T08:10:35.413Z"
   },
   {
    "duration": 48,
    "start_time": "2023-05-04T08:10:35.448Z"
   },
   {
    "duration": 328,
    "start_time": "2023-05-04T08:10:35.499Z"
   },
   {
    "duration": 43,
    "start_time": "2023-05-04T08:10:35.829Z"
   },
   {
    "duration": 384,
    "start_time": "2023-05-04T08:10:35.874Z"
   },
   {
    "duration": 220,
    "start_time": "2023-05-04T08:10:36.260Z"
   },
   {
    "duration": 9,
    "start_time": "2023-05-04T08:10:36.482Z"
   },
   {
    "duration": 12,
    "start_time": "2023-05-04T08:10:36.494Z"
   },
   {
    "duration": 23,
    "start_time": "2023-05-04T08:10:36.508Z"
   },
   {
    "duration": 325,
    "start_time": "2023-05-04T08:10:44.022Z"
   },
   {
    "duration": 331,
    "start_time": "2023-05-04T08:10:52.173Z"
   },
   {
    "duration": 293,
    "start_time": "2023-05-04T08:10:59.067Z"
   },
   {
    "duration": 834,
    "start_time": "2023-05-04T08:11:22.732Z"
   },
   {
    "duration": 487,
    "start_time": "2023-05-04T08:11:42.415Z"
   },
   {
    "duration": 415,
    "start_time": "2023-05-04T08:12:01.876Z"
   },
   {
    "duration": 361,
    "start_time": "2023-05-04T08:12:27.871Z"
   },
   {
    "duration": 284,
    "start_time": "2023-05-04T08:12:59.221Z"
   },
   {
    "duration": 328,
    "start_time": "2023-05-04T08:13:42.343Z"
   },
   {
    "duration": 1291,
    "start_time": "2023-05-04T08:17:06.348Z"
   },
   {
    "duration": 86,
    "start_time": "2023-05-04T08:17:07.641Z"
   },
   {
    "duration": 36,
    "start_time": "2023-05-04T08:17:07.730Z"
   },
   {
    "duration": 31,
    "start_time": "2023-05-04T08:17:07.775Z"
   },
   {
    "duration": 22,
    "start_time": "2023-05-04T08:17:07.809Z"
   },
   {
    "duration": 29,
    "start_time": "2023-05-04T08:17:07.833Z"
   },
   {
    "duration": 10,
    "start_time": "2023-05-04T08:17:07.874Z"
   },
   {
    "duration": 26,
    "start_time": "2023-05-04T08:17:07.887Z"
   },
   {
    "duration": 24,
    "start_time": "2023-05-04T08:17:07.915Z"
   },
   {
    "duration": 19,
    "start_time": "2023-05-04T08:17:07.943Z"
   },
   {
    "duration": 40,
    "start_time": "2023-05-04T08:17:07.964Z"
   },
   {
    "duration": 30,
    "start_time": "2023-05-04T08:17:08.006Z"
   },
   {
    "duration": 8,
    "start_time": "2023-05-04T08:17:08.038Z"
   },
   {
    "duration": 19,
    "start_time": "2023-05-04T08:17:08.058Z"
   },
   {
    "duration": 36,
    "start_time": "2023-05-04T08:17:08.079Z"
   },
   {
    "duration": 16,
    "start_time": "2023-05-04T08:17:08.117Z"
   },
   {
    "duration": 7,
    "start_time": "2023-05-04T08:17:08.135Z"
   },
   {
    "duration": 27,
    "start_time": "2023-05-04T08:17:08.143Z"
   },
   {
    "duration": 7,
    "start_time": "2023-05-04T08:17:08.175Z"
   },
   {
    "duration": 15,
    "start_time": "2023-05-04T08:17:08.184Z"
   },
   {
    "duration": 23,
    "start_time": "2023-05-04T08:17:08.201Z"
   },
   {
    "duration": 55,
    "start_time": "2023-05-04T08:17:08.226Z"
   },
   {
    "duration": 5,
    "start_time": "2023-05-04T08:17:08.284Z"
   },
   {
    "duration": 16,
    "start_time": "2023-05-04T08:17:08.290Z"
   },
   {
    "duration": 9,
    "start_time": "2023-05-04T08:17:08.308Z"
   },
   {
    "duration": 41,
    "start_time": "2023-05-04T08:17:08.319Z"
   },
   {
    "duration": 17,
    "start_time": "2023-05-04T08:17:08.368Z"
   },
   {
    "duration": 19,
    "start_time": "2023-05-04T08:17:08.388Z"
   },
   {
    "duration": 18,
    "start_time": "2023-05-04T08:17:08.409Z"
   },
   {
    "duration": 12,
    "start_time": "2023-05-04T08:17:08.429Z"
   },
   {
    "duration": 13,
    "start_time": "2023-05-04T08:17:08.444Z"
   },
   {
    "duration": 129,
    "start_time": "2023-05-04T08:17:08.459Z"
   },
   {
    "duration": 234,
    "start_time": "2023-05-04T08:17:08.589Z"
   },
   {
    "duration": 6,
    "start_time": "2023-05-04T08:17:08.825Z"
   },
   {
    "duration": 52,
    "start_time": "2023-05-04T08:17:08.833Z"
   },
   {
    "duration": 336,
    "start_time": "2023-05-04T08:17:08.887Z"
   },
   {
    "duration": 1169,
    "start_time": "2023-05-04T08:17:09.225Z"
   },
   {
    "duration": 15,
    "start_time": "2023-05-04T08:17:10.396Z"
   },
   {
    "duration": 17,
    "start_time": "2023-05-04T08:17:10.412Z"
   },
   {
    "duration": 21,
    "start_time": "2023-05-04T08:17:10.430Z"
   },
   {
    "duration": 9,
    "start_time": "2023-05-04T08:17:10.455Z"
   },
   {
    "duration": 189,
    "start_time": "2023-05-04T08:17:10.466Z"
   },
   {
    "duration": 314,
    "start_time": "2023-05-04T08:17:10.657Z"
   },
   {
    "duration": 262,
    "start_time": "2023-05-04T08:17:10.976Z"
   },
   {
    "duration": 314,
    "start_time": "2023-05-04T08:17:11.239Z"
   },
   {
    "duration": 13,
    "start_time": "2023-05-04T08:17:11.561Z"
   },
   {
    "duration": 45,
    "start_time": "2023-05-04T08:17:11.578Z"
   },
   {
    "duration": 320,
    "start_time": "2023-05-04T08:17:11.625Z"
   },
   {
    "duration": 11,
    "start_time": "2023-05-04T08:17:11.948Z"
   },
   {
    "duration": 19,
    "start_time": "2023-05-04T08:17:11.961Z"
   },
   {
    "duration": 422,
    "start_time": "2023-05-04T08:17:11.982Z"
   },
   {
    "duration": 7,
    "start_time": "2023-05-04T08:17:12.406Z"
   },
   {
    "duration": 10,
    "start_time": "2023-05-04T08:17:12.415Z"
   },
   {
    "duration": 376,
    "start_time": "2023-05-04T08:17:12.427Z"
   },
   {
    "duration": 7,
    "start_time": "2023-05-04T08:17:12.806Z"
   },
   {
    "duration": 15,
    "start_time": "2023-05-04T08:17:12.817Z"
   },
   {
    "duration": 25,
    "start_time": "2023-05-04T08:17:12.834Z"
   },
   {
    "duration": 23,
    "start_time": "2023-05-04T08:17:12.863Z"
   },
   {
    "duration": 560,
    "start_time": "2023-05-04T08:17:12.888Z"
   },
   {
    "duration": 49,
    "start_time": "2023-05-04T08:17:13.456Z"
   },
   {
    "duration": 336,
    "start_time": "2023-05-04T08:17:13.507Z"
   },
   {
    "duration": 38,
    "start_time": "2023-05-04T08:17:13.845Z"
   },
   {
    "duration": 374,
    "start_time": "2023-05-04T08:17:13.885Z"
   },
   {
    "duration": 281,
    "start_time": "2023-05-04T08:17:14.267Z"
   },
   {
    "duration": 17,
    "start_time": "2023-05-04T08:17:14.555Z"
   },
   {
    "duration": 68,
    "start_time": "2023-05-04T08:17:14.575Z"
   },
   {
    "duration": 14,
    "start_time": "2023-05-04T08:17:14.645Z"
   },
   {
    "duration": 486,
    "start_time": "2023-05-04T08:23:15.776Z"
   },
   {
    "duration": 377,
    "start_time": "2023-05-04T08:23:31.207Z"
   },
   {
    "duration": 13,
    "start_time": "2023-05-04T08:23:35.933Z"
   },
   {
    "duration": 15,
    "start_time": "2023-05-04T08:23:49.052Z"
   },
   {
    "duration": 269,
    "start_time": "2023-05-04T08:23:55.609Z"
   },
   {
    "duration": 15,
    "start_time": "2023-05-04T08:27:24.663Z"
   },
   {
    "duration": 442,
    "start_time": "2023-05-04T08:27:27.616Z"
   },
   {
    "duration": 308,
    "start_time": "2023-05-04T08:28:50.723Z"
   },
   {
    "duration": 10,
    "start_time": "2023-05-04T08:29:07.454Z"
   },
   {
    "duration": 335,
    "start_time": "2023-05-04T08:29:13.548Z"
   },
   {
    "duration": 9,
    "start_time": "2023-05-04T08:29:15.368Z"
   },
   {
    "duration": 1136,
    "start_time": "2023-05-04T10:07:08.043Z"
   },
   {
    "duration": 1167,
    "start_time": "2023-05-04T10:07:20.205Z"
   },
   {
    "duration": 1279,
    "start_time": "2023-05-04T10:07:59.652Z"
   },
   {
    "duration": 399,
    "start_time": "2023-05-04T10:08:04.523Z"
   },
   {
    "duration": 70,
    "start_time": "2023-05-04T10:09:28.693Z"
   },
   {
    "duration": 351,
    "start_time": "2023-05-04T10:09:33.570Z"
   },
   {
    "duration": 245,
    "start_time": "2023-05-04T10:10:00.606Z"
   },
   {
    "duration": 17,
    "start_time": "2023-05-04T10:10:15.244Z"
   },
   {
    "duration": 228,
    "start_time": "2023-05-04T10:10:27.575Z"
   },
   {
    "duration": 247,
    "start_time": "2023-05-04T10:13:15.323Z"
   },
   {
    "duration": 311,
    "start_time": "2023-05-04T10:13:38.204Z"
   },
   {
    "duration": 17,
    "start_time": "2023-05-04T10:13:52.603Z"
   },
   {
    "duration": 14,
    "start_time": "2023-05-04T10:13:56.924Z"
   },
   {
    "duration": 214,
    "start_time": "2023-05-04T10:14:06.932Z"
   },
   {
    "duration": 249,
    "start_time": "2023-05-04T10:14:27.324Z"
   },
   {
    "duration": 229,
    "start_time": "2023-05-04T10:14:51.884Z"
   },
   {
    "duration": 208,
    "start_time": "2023-05-04T10:14:56.539Z"
   },
   {
    "duration": 209,
    "start_time": "2023-05-04T10:14:59.083Z"
   },
   {
    "duration": 1258,
    "start_time": "2023-05-04T10:15:24.044Z"
   },
   {
    "duration": 240,
    "start_time": "2023-05-04T10:15:34.534Z"
   },
   {
    "duration": 76,
    "start_time": "2023-05-04T11:34:06.498Z"
   },
   {
    "duration": 1250,
    "start_time": "2023-05-04T11:34:53.048Z"
   },
   {
    "duration": 73,
    "start_time": "2023-05-04T11:34:54.302Z"
   },
   {
    "duration": 24,
    "start_time": "2023-05-04T11:34:54.376Z"
   },
   {
    "duration": 69,
    "start_time": "2023-05-04T11:34:54.403Z"
   },
   {
    "duration": 39,
    "start_time": "2023-05-04T11:34:54.478Z"
   },
   {
    "duration": 25,
    "start_time": "2023-05-04T11:34:54.519Z"
   },
   {
    "duration": 19,
    "start_time": "2023-05-04T11:34:54.546Z"
   },
   {
    "duration": 30,
    "start_time": "2023-05-04T11:34:54.571Z"
   },
   {
    "duration": 18,
    "start_time": "2023-05-04T11:34:54.603Z"
   },
   {
    "duration": 11,
    "start_time": "2023-05-04T11:34:54.623Z"
   },
   {
    "duration": 35,
    "start_time": "2023-05-04T11:34:54.636Z"
   },
   {
    "duration": 14,
    "start_time": "2023-05-04T11:34:54.675Z"
   },
   {
    "duration": 26,
    "start_time": "2023-05-04T11:34:54.693Z"
   },
   {
    "duration": 24,
    "start_time": "2023-05-04T11:34:54.720Z"
   },
   {
    "duration": 21,
    "start_time": "2023-05-04T11:34:54.746Z"
   },
   {
    "duration": 22,
    "start_time": "2023-05-04T11:34:54.772Z"
   },
   {
    "duration": 29,
    "start_time": "2023-05-04T11:34:54.795Z"
   },
   {
    "duration": 23,
    "start_time": "2023-05-04T11:34:54.826Z"
   },
   {
    "duration": 24,
    "start_time": "2023-05-04T11:34:54.852Z"
   },
   {
    "duration": 38,
    "start_time": "2023-05-04T11:34:54.879Z"
   },
   {
    "duration": 47,
    "start_time": "2023-05-04T11:34:54.919Z"
   },
   {
    "duration": 72,
    "start_time": "2023-05-04T11:34:54.968Z"
   },
   {
    "duration": 4,
    "start_time": "2023-05-04T11:34:55.042Z"
   },
   {
    "duration": 22,
    "start_time": "2023-05-04T11:34:55.048Z"
   },
   {
    "duration": 47,
    "start_time": "2023-05-04T11:34:55.073Z"
   },
   {
    "duration": 26,
    "start_time": "2023-05-04T11:34:55.123Z"
   },
   {
    "duration": 33,
    "start_time": "2023-05-04T11:34:55.150Z"
   },
   {
    "duration": 22,
    "start_time": "2023-05-04T11:34:55.186Z"
   },
   {
    "duration": 31,
    "start_time": "2023-05-04T11:34:55.209Z"
   },
   {
    "duration": 30,
    "start_time": "2023-05-04T11:34:55.242Z"
   },
   {
    "duration": 10,
    "start_time": "2023-05-04T11:34:55.274Z"
   },
   {
    "duration": 103,
    "start_time": "2023-05-04T11:34:55.286Z"
   },
   {
    "duration": 238,
    "start_time": "2023-05-04T11:34:55.390Z"
   },
   {
    "duration": 6,
    "start_time": "2023-05-04T11:34:55.630Z"
   },
   {
    "duration": 41,
    "start_time": "2023-05-04T11:34:55.638Z"
   },
   {
    "duration": 385,
    "start_time": "2023-05-04T11:34:55.681Z"
   },
   {
    "duration": 2091,
    "start_time": "2023-05-04T11:34:56.068Z"
   },
   {
    "duration": 23,
    "start_time": "2023-05-04T11:34:58.162Z"
   },
   {
    "duration": 4,
    "start_time": "2023-05-04T11:34:58.187Z"
   },
   {
    "duration": 10,
    "start_time": "2023-05-04T11:34:58.196Z"
   },
   {
    "duration": 18,
    "start_time": "2023-05-04T11:34:58.208Z"
   },
   {
    "duration": 198,
    "start_time": "2023-05-04T11:34:58.227Z"
   },
   {
    "duration": 346,
    "start_time": "2023-05-04T11:34:58.426Z"
   },
   {
    "duration": 252,
    "start_time": "2023-05-04T11:34:58.774Z"
   },
   {
    "duration": 312,
    "start_time": "2023-05-04T11:34:59.027Z"
   },
   {
    "duration": 6,
    "start_time": "2023-05-04T11:34:59.341Z"
   },
   {
    "duration": 28,
    "start_time": "2023-05-04T11:34:59.348Z"
   },
   {
    "duration": 313,
    "start_time": "2023-05-04T11:34:59.378Z"
   },
   {
    "duration": 5,
    "start_time": "2023-05-04T11:34:59.694Z"
   },
   {
    "duration": 6,
    "start_time": "2023-05-04T11:34:59.701Z"
   },
   {
    "duration": 336,
    "start_time": "2023-05-04T11:34:59.708Z"
   },
   {
    "duration": 26,
    "start_time": "2023-05-04T11:35:00.046Z"
   },
   {
    "duration": 5,
    "start_time": "2023-05-04T11:35:00.074Z"
   },
   {
    "duration": 339,
    "start_time": "2023-05-04T11:35:00.081Z"
   },
   {
    "duration": 6,
    "start_time": "2023-05-04T11:35:00.422Z"
   },
   {
    "duration": 26,
    "start_time": "2023-05-04T11:35:00.429Z"
   },
   {
    "duration": 43,
    "start_time": "2023-05-04T11:35:00.457Z"
   },
   {
    "duration": 29,
    "start_time": "2023-05-04T11:35:00.502Z"
   },
   {
    "duration": 499,
    "start_time": "2023-05-04T11:35:00.532Z"
   },
   {
    "duration": 44,
    "start_time": "2023-05-04T11:35:01.033Z"
   },
   {
    "duration": 353,
    "start_time": "2023-05-04T11:35:01.079Z"
   },
   {
    "duration": 213,
    "start_time": "2023-05-04T11:35:01.434Z"
   },
   {
    "duration": 217,
    "start_time": "2023-05-04T11:35:01.655Z"
   },
   {
    "duration": 215,
    "start_time": "2023-05-04T11:35:01.874Z"
   },
   {
    "duration": 27,
    "start_time": "2023-05-04T11:35:02.090Z"
   },
   {
    "duration": 358,
    "start_time": "2023-05-04T11:35:02.118Z"
   },
   {
    "duration": 216,
    "start_time": "2023-05-04T11:35:02.478Z"
   },
   {
    "duration": 9,
    "start_time": "2023-05-04T11:35:02.695Z"
   },
   {
    "duration": 48,
    "start_time": "2023-05-04T11:35:02.705Z"
   },
   {
    "duration": 27,
    "start_time": "2023-05-04T11:35:02.754Z"
   },
   {
    "duration": 385,
    "start_time": "2023-05-04T11:35:53.999Z"
   },
   {
    "duration": 224,
    "start_time": "2023-05-04T11:36:51.087Z"
   },
   {
    "duration": 301,
    "start_time": "2023-05-04T11:37:17.628Z"
   },
   {
    "duration": 367,
    "start_time": "2023-05-04T11:37:34.855Z"
   },
   {
    "duration": 298,
    "start_time": "2023-05-04T11:37:50.252Z"
   },
   {
    "duration": 335,
    "start_time": "2023-05-04T11:37:56.279Z"
   },
   {
    "duration": 1268,
    "start_time": "2023-05-04T11:38:47.549Z"
   },
   {
    "duration": 79,
    "start_time": "2023-05-04T11:38:48.820Z"
   },
   {
    "duration": 20,
    "start_time": "2023-05-04T11:38:48.901Z"
   },
   {
    "duration": 42,
    "start_time": "2023-05-04T11:38:48.923Z"
   },
   {
    "duration": 19,
    "start_time": "2023-05-04T11:38:48.967Z"
   },
   {
    "duration": 15,
    "start_time": "2023-05-04T11:38:48.988Z"
   },
   {
    "duration": 24,
    "start_time": "2023-05-04T11:38:49.005Z"
   },
   {
    "duration": 46,
    "start_time": "2023-05-04T11:38:49.031Z"
   },
   {
    "duration": 10,
    "start_time": "2023-05-04T11:38:49.079Z"
   },
   {
    "duration": 10,
    "start_time": "2023-05-04T11:38:49.092Z"
   },
   {
    "duration": 24,
    "start_time": "2023-05-04T11:38:49.103Z"
   },
   {
    "duration": 31,
    "start_time": "2023-05-04T11:38:49.129Z"
   },
   {
    "duration": 7,
    "start_time": "2023-05-04T11:38:49.161Z"
   },
   {
    "duration": 14,
    "start_time": "2023-05-04T11:38:49.170Z"
   },
   {
    "duration": 14,
    "start_time": "2023-05-04T11:38:49.187Z"
   },
   {
    "duration": 16,
    "start_time": "2023-05-04T11:38:49.203Z"
   },
   {
    "duration": 5,
    "start_time": "2023-05-04T11:38:49.221Z"
   },
   {
    "duration": 13,
    "start_time": "2023-05-04T11:38:49.255Z"
   },
   {
    "duration": 13,
    "start_time": "2023-05-04T11:38:49.271Z"
   },
   {
    "duration": 19,
    "start_time": "2023-05-04T11:38:49.286Z"
   },
   {
    "duration": 19,
    "start_time": "2023-05-04T11:38:49.307Z"
   },
   {
    "duration": 25,
    "start_time": "2023-05-04T11:38:49.328Z"
   },
   {
    "duration": 8,
    "start_time": "2023-05-04T11:38:49.354Z"
   },
   {
    "duration": 17,
    "start_time": "2023-05-04T11:38:49.366Z"
   },
   {
    "duration": 8,
    "start_time": "2023-05-04T11:38:49.385Z"
   },
   {
    "duration": 10,
    "start_time": "2023-05-04T11:38:49.395Z"
   },
   {
    "duration": 10,
    "start_time": "2023-05-04T11:38:49.406Z"
   },
   {
    "duration": 45,
    "start_time": "2023-05-04T11:38:49.421Z"
   },
   {
    "duration": 19,
    "start_time": "2023-05-04T11:38:49.467Z"
   },
   {
    "duration": 16,
    "start_time": "2023-05-04T11:38:49.488Z"
   },
   {
    "duration": 9,
    "start_time": "2023-05-04T11:38:49.506Z"
   },
   {
    "duration": 75,
    "start_time": "2023-05-04T11:38:49.517Z"
   },
   {
    "duration": 248,
    "start_time": "2023-05-04T11:38:49.594Z"
   },
   {
    "duration": 6,
    "start_time": "2023-05-04T11:38:49.844Z"
   },
   {
    "duration": 23,
    "start_time": "2023-05-04T11:38:49.862Z"
   },
   {
    "duration": 324,
    "start_time": "2023-05-04T11:38:49.887Z"
   },
   {
    "duration": 1035,
    "start_time": "2023-05-04T11:38:50.213Z"
   },
   {
    "duration": 24,
    "start_time": "2023-05-04T11:38:51.250Z"
   },
   {
    "duration": 18,
    "start_time": "2023-05-04T11:38:51.278Z"
   },
   {
    "duration": 17,
    "start_time": "2023-05-04T11:38:51.298Z"
   },
   {
    "duration": 26,
    "start_time": "2023-05-04T11:38:51.317Z"
   },
   {
    "duration": 198,
    "start_time": "2023-05-04T11:38:51.344Z"
   },
   {
    "duration": 653,
    "start_time": "2023-05-04T11:38:51.544Z"
   },
   {
    "duration": 574,
    "start_time": "2023-05-04T11:38:52.199Z"
   },
   {
    "duration": 686,
    "start_time": "2023-05-04T11:38:52.775Z"
   },
   {
    "duration": 6,
    "start_time": "2023-05-04T11:38:53.462Z"
   },
   {
    "duration": 34,
    "start_time": "2023-05-04T11:38:53.470Z"
   },
   {
    "duration": 515,
    "start_time": "2023-05-04T11:38:53.505Z"
   },
   {
    "duration": 6,
    "start_time": "2023-05-04T11:38:54.022Z"
   },
   {
    "duration": 19,
    "start_time": "2023-05-04T11:38:54.029Z"
   },
   {
    "duration": 352,
    "start_time": "2023-05-04T11:38:54.058Z"
   },
   {
    "duration": 5,
    "start_time": "2023-05-04T11:38:54.411Z"
   },
   {
    "duration": 12,
    "start_time": "2023-05-04T11:38:54.418Z"
   },
   {
    "duration": 306,
    "start_time": "2023-05-04T11:38:54.431Z"
   },
   {
    "duration": 6,
    "start_time": "2023-05-04T11:38:54.739Z"
   },
   {
    "duration": 7,
    "start_time": "2023-05-04T11:38:54.755Z"
   },
   {
    "duration": 24,
    "start_time": "2023-05-04T11:38:54.763Z"
   },
   {
    "duration": 37,
    "start_time": "2023-05-04T11:38:54.789Z"
   },
   {
    "duration": 483,
    "start_time": "2023-05-04T11:38:54.828Z"
   },
   {
    "duration": 27,
    "start_time": "2023-05-04T11:38:55.313Z"
   },
   {
    "duration": 295,
    "start_time": "2023-05-04T11:38:55.366Z"
   },
   {
    "duration": 334,
    "start_time": "2023-05-04T11:38:55.664Z"
   },
   {
    "duration": 0,
    "start_time": "2023-05-04T11:38:55.999Z"
   },
   {
    "duration": 0,
    "start_time": "2023-05-04T11:38:56.001Z"
   },
   {
    "duration": 0,
    "start_time": "2023-05-04T11:38:56.002Z"
   },
   {
    "duration": 0,
    "start_time": "2023-05-04T11:38:56.004Z"
   },
   {
    "duration": 0,
    "start_time": "2023-05-04T11:38:56.005Z"
   },
   {
    "duration": 0,
    "start_time": "2023-05-04T11:38:56.006Z"
   },
   {
    "duration": 0,
    "start_time": "2023-05-04T11:38:56.007Z"
   },
   {
    "duration": 0,
    "start_time": "2023-05-04T11:38:56.008Z"
   },
   {
    "duration": 1241,
    "start_time": "2023-05-04T11:40:11.586Z"
   },
   {
    "duration": 80,
    "start_time": "2023-05-04T11:40:12.829Z"
   },
   {
    "duration": 21,
    "start_time": "2023-05-04T11:40:12.911Z"
   },
   {
    "duration": 40,
    "start_time": "2023-05-04T11:40:12.934Z"
   },
   {
    "duration": 33,
    "start_time": "2023-05-04T11:40:12.978Z"
   },
   {
    "duration": 19,
    "start_time": "2023-05-04T11:40:13.014Z"
   },
   {
    "duration": 14,
    "start_time": "2023-05-04T11:40:13.061Z"
   },
   {
    "duration": 28,
    "start_time": "2023-05-04T11:40:13.078Z"
   },
   {
    "duration": 13,
    "start_time": "2023-05-04T11:40:13.109Z"
   },
   {
    "duration": 14,
    "start_time": "2023-05-04T11:40:13.125Z"
   },
   {
    "duration": 38,
    "start_time": "2023-05-04T11:40:13.158Z"
   },
   {
    "duration": 24,
    "start_time": "2023-05-04T11:40:13.198Z"
   },
   {
    "duration": 34,
    "start_time": "2023-05-04T11:40:13.225Z"
   },
   {
    "duration": 37,
    "start_time": "2023-05-04T11:40:13.266Z"
   },
   {
    "duration": 25,
    "start_time": "2023-05-04T11:40:13.305Z"
   },
   {
    "duration": 16,
    "start_time": "2023-05-04T11:40:13.332Z"
   },
   {
    "duration": 15,
    "start_time": "2023-05-04T11:40:13.362Z"
   },
   {
    "duration": 12,
    "start_time": "2023-05-04T11:40:13.379Z"
   },
   {
    "duration": 31,
    "start_time": "2023-05-04T11:40:13.393Z"
   },
   {
    "duration": 27,
    "start_time": "2023-05-04T11:40:13.426Z"
   },
   {
    "duration": 38,
    "start_time": "2023-05-04T11:40:13.455Z"
   },
   {
    "duration": 43,
    "start_time": "2023-05-04T11:40:13.495Z"
   },
   {
    "duration": 5,
    "start_time": "2023-05-04T11:40:13.541Z"
   },
   {
    "duration": 37,
    "start_time": "2023-05-04T11:40:13.547Z"
   },
   {
    "duration": 25,
    "start_time": "2023-05-04T11:40:13.586Z"
   },
   {
    "duration": 12,
    "start_time": "2023-05-04T11:40:13.613Z"
   },
   {
    "duration": 25,
    "start_time": "2023-05-04T11:40:13.628Z"
   },
   {
    "duration": 39,
    "start_time": "2023-05-04T11:40:13.655Z"
   },
   {
    "duration": 51,
    "start_time": "2023-05-04T11:40:13.697Z"
   },
   {
    "duration": 31,
    "start_time": "2023-05-04T11:40:13.750Z"
   },
   {
    "duration": 17,
    "start_time": "2023-05-04T11:40:13.783Z"
   },
   {
    "duration": 107,
    "start_time": "2023-05-04T11:40:13.802Z"
   },
   {
    "duration": 322,
    "start_time": "2023-05-04T11:40:13.911Z"
   },
   {
    "duration": 7,
    "start_time": "2023-05-04T11:40:14.234Z"
   },
   {
    "duration": 38,
    "start_time": "2023-05-04T11:40:14.244Z"
   },
   {
    "duration": 390,
    "start_time": "2023-05-04T11:40:14.283Z"
   },
   {
    "duration": 1240,
    "start_time": "2023-05-04T11:40:14.675Z"
   },
   {
    "duration": 17,
    "start_time": "2023-05-04T11:40:15.918Z"
   },
   {
    "duration": 11,
    "start_time": "2023-05-04T11:40:15.956Z"
   },
   {
    "duration": 79,
    "start_time": "2023-05-04T11:40:15.969Z"
   },
   {
    "duration": 30,
    "start_time": "2023-05-04T11:40:16.053Z"
   },
   {
    "duration": 224,
    "start_time": "2023-05-04T11:40:16.085Z"
   },
   {
    "duration": 356,
    "start_time": "2023-05-04T11:40:16.311Z"
   },
   {
    "duration": 279,
    "start_time": "2023-05-04T11:40:16.669Z"
   },
   {
    "duration": 313,
    "start_time": "2023-05-04T11:40:16.950Z"
   },
   {
    "duration": 6,
    "start_time": "2023-05-04T11:40:17.268Z"
   },
   {
    "duration": 11,
    "start_time": "2023-05-04T11:40:17.276Z"
   },
   {
    "duration": 299,
    "start_time": "2023-05-04T11:40:17.289Z"
   },
   {
    "duration": 6,
    "start_time": "2023-05-04T11:40:17.590Z"
   },
   {
    "duration": 15,
    "start_time": "2023-05-04T11:40:17.599Z"
   },
   {
    "duration": 318,
    "start_time": "2023-05-04T11:40:17.616Z"
   },
   {
    "duration": 5,
    "start_time": "2023-05-04T11:40:17.936Z"
   },
   {
    "duration": 16,
    "start_time": "2023-05-04T11:40:17.942Z"
   },
   {
    "duration": 305,
    "start_time": "2023-05-04T11:40:17.965Z"
   },
   {
    "duration": 7,
    "start_time": "2023-05-04T11:40:18.272Z"
   },
   {
    "duration": 19,
    "start_time": "2023-05-04T11:40:18.281Z"
   },
   {
    "duration": 11,
    "start_time": "2023-05-04T11:40:18.302Z"
   },
   {
    "duration": 8,
    "start_time": "2023-05-04T11:40:18.315Z"
   },
   {
    "duration": 474,
    "start_time": "2023-05-04T11:40:18.325Z"
   },
   {
    "duration": 28,
    "start_time": "2023-05-04T11:40:18.800Z"
   },
   {
    "duration": 763,
    "start_time": "2023-05-04T11:40:18.830Z"
   },
   {
    "duration": 477,
    "start_time": "2023-05-04T11:40:19.595Z"
   },
   {
    "duration": 428,
    "start_time": "2023-05-04T11:40:20.074Z"
   },
   {
    "duration": 417,
    "start_time": "2023-05-04T11:40:20.563Z"
   },
   {
    "duration": 105,
    "start_time": "2023-05-04T11:40:20.982Z"
   },
   {
    "duration": 348,
    "start_time": "2023-05-04T11:40:21.088Z"
   },
   {
    "duration": 245,
    "start_time": "2023-05-04T11:40:21.438Z"
   },
   {
    "duration": 8,
    "start_time": "2023-05-04T11:40:21.685Z"
   },
   {
    "duration": 15,
    "start_time": "2023-05-04T11:40:21.695Z"
   },
   {
    "duration": 18,
    "start_time": "2023-05-04T11:40:21.711Z"
   },
   {
    "duration": 7,
    "start_time": "2023-05-04T11:40:41.730Z"
   },
   {
    "duration": 1386,
    "start_time": "2023-05-04T11:40:53.293Z"
   },
   {
    "duration": 5,
    "start_time": "2023-05-04T11:41:03.315Z"
   },
   {
    "duration": 76,
    "start_time": "2023-05-04T11:41:52.199Z"
   },
   {
    "duration": 77,
    "start_time": "2023-05-04T11:41:56.672Z"
   },
   {
    "duration": 36,
    "start_time": "2023-05-04T11:42:12.835Z"
   },
   {
    "duration": 90,
    "start_time": "2023-05-04T11:43:06.986Z"
   },
   {
    "duration": 132,
    "start_time": "2023-05-04T11:43:15.902Z"
   },
   {
    "duration": 91,
    "start_time": "2023-05-04T11:43:38.871Z"
   },
   {
    "duration": 147,
    "start_time": "2023-05-04T11:44:00.928Z"
   },
   {
    "duration": 90,
    "start_time": "2023-05-04T11:44:19.676Z"
   },
   {
    "duration": 1243,
    "start_time": "2023-05-04T11:44:31.872Z"
   },
   {
    "duration": 72,
    "start_time": "2023-05-04T11:44:33.117Z"
   },
   {
    "duration": 18,
    "start_time": "2023-05-04T11:44:33.190Z"
   },
   {
    "duration": 29,
    "start_time": "2023-05-04T11:44:33.209Z"
   },
   {
    "duration": 36,
    "start_time": "2023-05-04T11:44:33.240Z"
   },
   {
    "duration": 27,
    "start_time": "2023-05-04T11:44:33.279Z"
   },
   {
    "duration": 21,
    "start_time": "2023-05-04T11:44:33.308Z"
   },
   {
    "duration": 40,
    "start_time": "2023-05-04T11:44:33.331Z"
   },
   {
    "duration": 22,
    "start_time": "2023-05-04T11:44:33.373Z"
   },
   {
    "duration": 16,
    "start_time": "2023-05-04T11:44:33.396Z"
   },
   {
    "duration": 27,
    "start_time": "2023-05-04T11:44:33.414Z"
   },
   {
    "duration": 24,
    "start_time": "2023-05-04T11:44:33.442Z"
   },
   {
    "duration": 8,
    "start_time": "2023-05-04T11:44:33.468Z"
   },
   {
    "duration": 20,
    "start_time": "2023-05-04T11:44:33.480Z"
   },
   {
    "duration": 22,
    "start_time": "2023-05-04T11:44:33.502Z"
   },
   {
    "duration": 13,
    "start_time": "2023-05-04T11:44:33.526Z"
   },
   {
    "duration": 31,
    "start_time": "2023-05-04T11:44:33.541Z"
   },
   {
    "duration": 7,
    "start_time": "2023-05-04T11:44:33.574Z"
   },
   {
    "duration": 14,
    "start_time": "2023-05-04T11:44:33.582Z"
   },
   {
    "duration": 12,
    "start_time": "2023-05-04T11:44:33.598Z"
   },
   {
    "duration": 19,
    "start_time": "2023-05-04T11:44:33.612Z"
   },
   {
    "duration": 48,
    "start_time": "2023-05-04T11:44:33.633Z"
   },
   {
    "duration": 4,
    "start_time": "2023-05-04T11:44:33.683Z"
   },
   {
    "duration": 15,
    "start_time": "2023-05-04T11:44:33.689Z"
   },
   {
    "duration": 10,
    "start_time": "2023-05-04T11:44:33.706Z"
   },
   {
    "duration": 9,
    "start_time": "2023-05-04T11:44:33.717Z"
   },
   {
    "duration": 46,
    "start_time": "2023-05-04T11:44:33.728Z"
   },
   {
    "duration": 17,
    "start_time": "2023-05-04T11:44:33.776Z"
   },
   {
    "duration": 10,
    "start_time": "2023-05-04T11:44:33.795Z"
   },
   {
    "duration": 9,
    "start_time": "2023-05-04T11:44:33.807Z"
   },
   {
    "duration": 10,
    "start_time": "2023-05-04T11:44:33.818Z"
   },
   {
    "duration": 112,
    "start_time": "2023-05-04T11:44:33.829Z"
   },
   {
    "duration": 277,
    "start_time": "2023-05-04T11:44:33.943Z"
   },
   {
    "duration": 6,
    "start_time": "2023-05-04T11:44:34.223Z"
   },
   {
    "duration": 50,
    "start_time": "2023-05-04T11:44:34.231Z"
   },
   {
    "duration": 616,
    "start_time": "2023-05-04T11:44:34.283Z"
   },
   {
    "duration": 1837,
    "start_time": "2023-05-04T11:44:34.901Z"
   },
   {
    "duration": 22,
    "start_time": "2023-05-04T11:44:36.739Z"
   },
   {
    "duration": 7,
    "start_time": "2023-05-04T11:44:36.763Z"
   },
   {
    "duration": 12,
    "start_time": "2023-05-04T11:44:36.772Z"
   },
   {
    "duration": 7,
    "start_time": "2023-05-04T11:44:36.789Z"
   },
   {
    "duration": 203,
    "start_time": "2023-05-04T11:44:36.798Z"
   },
   {
    "duration": 350,
    "start_time": "2023-05-04T11:44:37.003Z"
   },
   {
    "duration": 317,
    "start_time": "2023-05-04T11:44:37.354Z"
   },
   {
    "duration": 365,
    "start_time": "2023-05-04T11:44:37.672Z"
   },
   {
    "duration": 17,
    "start_time": "2023-05-04T11:44:38.040Z"
   },
   {
    "duration": 11,
    "start_time": "2023-05-04T11:44:38.061Z"
   },
   {
    "duration": 345,
    "start_time": "2023-05-04T11:44:38.075Z"
   },
   {
    "duration": 6,
    "start_time": "2023-05-04T11:44:38.422Z"
   },
   {
    "duration": 7,
    "start_time": "2023-05-04T11:44:38.430Z"
   },
   {
    "duration": 342,
    "start_time": "2023-05-04T11:44:38.439Z"
   },
   {
    "duration": 6,
    "start_time": "2023-05-04T11:44:38.782Z"
   },
   {
    "duration": 7,
    "start_time": "2023-05-04T11:44:38.791Z"
   },
   {
    "duration": 298,
    "start_time": "2023-05-04T11:44:38.799Z"
   },
   {
    "duration": 5,
    "start_time": "2023-05-04T11:44:39.099Z"
   },
   {
    "duration": 17,
    "start_time": "2023-05-04T11:44:39.106Z"
   },
   {
    "duration": 67,
    "start_time": "2023-05-04T11:44:39.126Z"
   },
   {
    "duration": 48,
    "start_time": "2023-05-04T11:44:39.195Z"
   },
   {
    "duration": 479,
    "start_time": "2023-05-04T11:44:39.245Z"
   },
   {
    "duration": 49,
    "start_time": "2023-05-04T11:44:39.725Z"
   },
   {
    "duration": 328,
    "start_time": "2023-05-04T11:44:39.775Z"
   },
   {
    "duration": 227,
    "start_time": "2023-05-04T11:44:40.104Z"
   },
   {
    "duration": 153,
    "start_time": "2023-05-04T11:44:40.333Z"
   },
   {
    "duration": 231,
    "start_time": "2023-05-04T11:44:40.488Z"
   },
   {
    "duration": 251,
    "start_time": "2023-05-04T11:44:40.721Z"
   },
   {
    "duration": 28,
    "start_time": "2023-05-04T11:44:40.974Z"
   },
   {
    "duration": 294,
    "start_time": "2023-05-04T11:44:41.004Z"
   },
   {
    "duration": 264,
    "start_time": "2023-05-04T11:44:41.300Z"
   },
   {
    "duration": 9,
    "start_time": "2023-05-04T11:44:41.565Z"
   },
   {
    "duration": 22,
    "start_time": "2023-05-04T11:44:41.576Z"
   },
   {
    "duration": 10,
    "start_time": "2023-05-04T11:44:41.600Z"
   },
   {
    "duration": 96,
    "start_time": "2023-05-04T11:44:59.278Z"
   },
   {
    "duration": 103,
    "start_time": "2023-05-04T11:45:05.274Z"
   },
   {
    "duration": 111,
    "start_time": "2023-05-04T11:45:26.021Z"
   },
   {
    "duration": 96,
    "start_time": "2023-05-04T11:46:14.919Z"
   },
   {
    "duration": 1324,
    "start_time": "2023-05-04T11:46:35.104Z"
   },
   {
    "duration": 77,
    "start_time": "2023-05-04T11:46:36.430Z"
   },
   {
    "duration": 18,
    "start_time": "2023-05-04T11:46:36.508Z"
   },
   {
    "duration": 46,
    "start_time": "2023-05-04T11:46:36.528Z"
   },
   {
    "duration": 35,
    "start_time": "2023-05-04T11:46:36.575Z"
   },
   {
    "duration": 16,
    "start_time": "2023-05-04T11:46:36.611Z"
   },
   {
    "duration": 9,
    "start_time": "2023-05-04T11:46:36.629Z"
   },
   {
    "duration": 39,
    "start_time": "2023-05-04T11:46:36.639Z"
   },
   {
    "duration": 16,
    "start_time": "2023-05-04T11:46:36.681Z"
   },
   {
    "duration": 9,
    "start_time": "2023-05-04T11:46:36.700Z"
   },
   {
    "duration": 34,
    "start_time": "2023-05-04T11:46:36.710Z"
   },
   {
    "duration": 23,
    "start_time": "2023-05-04T11:46:36.746Z"
   },
   {
    "duration": 21,
    "start_time": "2023-05-04T11:46:36.773Z"
   },
   {
    "duration": 12,
    "start_time": "2023-05-04T11:46:36.796Z"
   },
   {
    "duration": 15,
    "start_time": "2023-05-04T11:46:36.811Z"
   },
   {
    "duration": 13,
    "start_time": "2023-05-04T11:46:36.828Z"
   },
   {
    "duration": 5,
    "start_time": "2023-05-04T11:46:36.843Z"
   },
   {
    "duration": 13,
    "start_time": "2023-05-04T11:46:36.865Z"
   },
   {
    "duration": 7,
    "start_time": "2023-05-04T11:46:36.879Z"
   },
   {
    "duration": 13,
    "start_time": "2023-05-04T11:46:36.888Z"
   },
   {
    "duration": 23,
    "start_time": "2023-05-04T11:46:36.903Z"
   },
   {
    "duration": 61,
    "start_time": "2023-05-04T11:46:36.928Z"
   },
   {
    "duration": 5,
    "start_time": "2023-05-04T11:46:36.991Z"
   },
   {
    "duration": 17,
    "start_time": "2023-05-04T11:46:36.998Z"
   },
   {
    "duration": 10,
    "start_time": "2023-05-04T11:46:37.017Z"
   },
   {
    "duration": 9,
    "start_time": "2023-05-04T11:46:37.029Z"
   },
   {
    "duration": 11,
    "start_time": "2023-05-04T11:46:37.062Z"
   },
   {
    "duration": 10,
    "start_time": "2023-05-04T11:46:37.077Z"
   },
   {
    "duration": 11,
    "start_time": "2023-05-04T11:46:37.089Z"
   },
   {
    "duration": 12,
    "start_time": "2023-05-04T11:46:37.102Z"
   },
   {
    "duration": 11,
    "start_time": "2023-05-04T11:46:37.116Z"
   },
   {
    "duration": 103,
    "start_time": "2023-05-04T11:46:37.129Z"
   },
   {
    "duration": 237,
    "start_time": "2023-05-04T11:46:37.234Z"
   },
   {
    "duration": 5,
    "start_time": "2023-05-04T11:46:37.473Z"
   },
   {
    "duration": 26,
    "start_time": "2023-05-04T11:46:37.480Z"
   },
   {
    "duration": 326,
    "start_time": "2023-05-04T11:46:37.510Z"
   },
   {
    "duration": 1159,
    "start_time": "2023-05-04T11:46:37.838Z"
   },
   {
    "duration": 69,
    "start_time": "2023-05-04T11:46:38.999Z"
   },
   {
    "duration": 12,
    "start_time": "2023-05-04T11:46:39.070Z"
   },
   {
    "duration": 19,
    "start_time": "2023-05-04T11:46:39.084Z"
   },
   {
    "duration": 63,
    "start_time": "2023-05-04T11:46:39.105Z"
   },
   {
    "duration": 426,
    "start_time": "2023-05-04T11:46:39.173Z"
   },
   {
    "duration": 793,
    "start_time": "2023-05-04T11:46:39.600Z"
   },
   {
    "duration": 665,
    "start_time": "2023-05-04T11:46:40.397Z"
   },
   {
    "duration": 460,
    "start_time": "2023-05-04T11:46:41.066Z"
   },
   {
    "duration": 5,
    "start_time": "2023-05-04T11:46:41.528Z"
   },
   {
    "duration": 34,
    "start_time": "2023-05-04T11:46:41.535Z"
   },
   {
    "duration": 287,
    "start_time": "2023-05-04T11:46:41.572Z"
   },
   {
    "duration": 16,
    "start_time": "2023-05-04T11:46:41.863Z"
   },
   {
    "duration": 15,
    "start_time": "2023-05-04T11:46:41.882Z"
   },
   {
    "duration": 313,
    "start_time": "2023-05-04T11:46:41.898Z"
   },
   {
    "duration": 8,
    "start_time": "2023-05-04T11:46:42.214Z"
   },
   {
    "duration": 13,
    "start_time": "2023-05-04T11:46:42.224Z"
   },
   {
    "duration": 307,
    "start_time": "2023-05-04T11:46:42.239Z"
   },
   {
    "duration": 16,
    "start_time": "2023-05-04T11:46:42.549Z"
   },
   {
    "duration": 16,
    "start_time": "2023-05-04T11:46:42.567Z"
   },
   {
    "duration": 25,
    "start_time": "2023-05-04T11:46:42.587Z"
   },
   {
    "duration": 11,
    "start_time": "2023-05-04T11:46:42.614Z"
   },
   {
    "duration": 465,
    "start_time": "2023-05-04T11:46:42.626Z"
   },
   {
    "duration": 28,
    "start_time": "2023-05-04T11:46:43.094Z"
   },
   {
    "duration": 362,
    "start_time": "2023-05-04T11:46:43.124Z"
   },
   {
    "duration": 233,
    "start_time": "2023-05-04T11:46:43.490Z"
   },
   {
    "duration": 108,
    "start_time": "2023-05-04T11:46:43.724Z"
   },
   {
    "duration": 177,
    "start_time": "2023-05-04T11:46:43.834Z"
   },
   {
    "duration": 222,
    "start_time": "2023-05-04T11:46:44.013Z"
   },
   {
    "duration": 50,
    "start_time": "2023-05-04T11:46:44.238Z"
   },
   {
    "duration": 293,
    "start_time": "2023-05-04T11:46:44.291Z"
   },
   {
    "duration": 243,
    "start_time": "2023-05-04T11:46:44.586Z"
   },
   {
    "duration": 9,
    "start_time": "2023-05-04T11:46:44.830Z"
   },
   {
    "duration": 31,
    "start_time": "2023-05-04T11:46:44.841Z"
   },
   {
    "duration": 14,
    "start_time": "2023-05-04T11:46:44.876Z"
   },
   {
    "duration": 97,
    "start_time": "2023-05-04T11:47:03.609Z"
   },
   {
    "duration": 103,
    "start_time": "2023-05-04T11:47:23.118Z"
   },
   {
    "duration": 1306,
    "start_time": "2023-05-04T11:47:29.073Z"
   },
   {
    "duration": 88,
    "start_time": "2023-05-04T11:47:30.381Z"
   },
   {
    "duration": 29,
    "start_time": "2023-05-04T11:47:30.473Z"
   },
   {
    "duration": 20,
    "start_time": "2023-05-04T11:47:30.505Z"
   },
   {
    "duration": 26,
    "start_time": "2023-05-04T11:47:30.527Z"
   },
   {
    "duration": 49,
    "start_time": "2023-05-04T11:47:30.555Z"
   },
   {
    "duration": 10,
    "start_time": "2023-05-04T11:47:30.606Z"
   },
   {
    "duration": 33,
    "start_time": "2023-05-04T11:47:30.618Z"
   },
   {
    "duration": 36,
    "start_time": "2023-05-04T11:47:30.653Z"
   },
   {
    "duration": 25,
    "start_time": "2023-05-04T11:47:30.691Z"
   },
   {
    "duration": 54,
    "start_time": "2023-05-04T11:47:30.718Z"
   },
   {
    "duration": 53,
    "start_time": "2023-05-04T11:47:30.773Z"
   },
   {
    "duration": 34,
    "start_time": "2023-05-04T11:47:30.828Z"
   },
   {
    "duration": 71,
    "start_time": "2023-05-04T11:47:30.866Z"
   },
   {
    "duration": 49,
    "start_time": "2023-05-04T11:47:30.938Z"
   },
   {
    "duration": 36,
    "start_time": "2023-05-04T11:47:30.989Z"
   },
   {
    "duration": 23,
    "start_time": "2023-05-04T11:47:31.027Z"
   },
   {
    "duration": 51,
    "start_time": "2023-05-04T11:47:31.052Z"
   },
   {
    "duration": 74,
    "start_time": "2023-05-04T11:47:31.108Z"
   },
   {
    "duration": 37,
    "start_time": "2023-05-04T11:47:31.183Z"
   },
   {
    "duration": 83,
    "start_time": "2023-05-04T11:47:31.222Z"
   },
   {
    "duration": 52,
    "start_time": "2023-05-04T11:47:31.307Z"
   },
   {
    "duration": 10,
    "start_time": "2023-05-04T11:47:31.361Z"
   },
   {
    "duration": 62,
    "start_time": "2023-05-04T11:47:31.373Z"
   },
   {
    "duration": 50,
    "start_time": "2023-05-04T11:47:31.436Z"
   },
   {
    "duration": 26,
    "start_time": "2023-05-04T11:47:31.488Z"
   },
   {
    "duration": 52,
    "start_time": "2023-05-04T11:47:31.516Z"
   },
   {
    "duration": 33,
    "start_time": "2023-05-04T11:47:31.569Z"
   },
   {
    "duration": 23,
    "start_time": "2023-05-04T11:47:31.604Z"
   },
   {
    "duration": 26,
    "start_time": "2023-05-04T11:47:31.629Z"
   },
   {
    "duration": 40,
    "start_time": "2023-05-04T11:47:31.657Z"
   },
   {
    "duration": 101,
    "start_time": "2023-05-04T11:47:31.698Z"
   },
   {
    "duration": 240,
    "start_time": "2023-05-04T11:47:31.801Z"
   },
   {
    "duration": 5,
    "start_time": "2023-05-04T11:47:32.042Z"
   },
   {
    "duration": 34,
    "start_time": "2023-05-04T11:47:32.055Z"
   },
   {
    "duration": 348,
    "start_time": "2023-05-04T11:47:32.091Z"
   },
   {
    "duration": 2247,
    "start_time": "2023-05-04T11:47:32.441Z"
   },
   {
    "duration": 17,
    "start_time": "2023-05-04T11:47:34.692Z"
   },
   {
    "duration": 89,
    "start_time": "2023-05-04T11:47:34.711Z"
   },
   {
    "duration": 20,
    "start_time": "2023-05-04T11:47:34.802Z"
   },
   {
    "duration": 14,
    "start_time": "2023-05-04T11:47:34.858Z"
   },
   {
    "duration": 420,
    "start_time": "2023-05-04T11:47:34.874Z"
   },
   {
    "duration": 325,
    "start_time": "2023-05-04T11:47:35.296Z"
   },
   {
    "duration": 273,
    "start_time": "2023-05-04T11:47:35.624Z"
   },
   {
    "duration": 314,
    "start_time": "2023-05-04T11:47:35.898Z"
   },
   {
    "duration": 5,
    "start_time": "2023-05-04T11:47:36.214Z"
   },
   {
    "duration": 5,
    "start_time": "2023-05-04T11:47:36.221Z"
   },
   {
    "duration": 307,
    "start_time": "2023-05-04T11:47:36.228Z"
   },
   {
    "duration": 4,
    "start_time": "2023-05-04T11:47:36.537Z"
   },
   {
    "duration": 28,
    "start_time": "2023-05-04T11:47:36.543Z"
   },
   {
    "duration": 324,
    "start_time": "2023-05-04T11:47:36.574Z"
   },
   {
    "duration": 7,
    "start_time": "2023-05-04T11:47:36.900Z"
   },
   {
    "duration": 10,
    "start_time": "2023-05-04T11:47:36.909Z"
   },
   {
    "duration": 292,
    "start_time": "2023-05-04T11:47:36.920Z"
   },
   {
    "duration": 5,
    "start_time": "2023-05-04T11:47:37.214Z"
   },
   {
    "duration": 5,
    "start_time": "2023-05-04T11:47:37.221Z"
   },
   {
    "duration": 23,
    "start_time": "2023-05-04T11:47:37.228Z"
   },
   {
    "duration": 17,
    "start_time": "2023-05-04T11:47:37.265Z"
   },
   {
    "duration": 437,
    "start_time": "2023-05-04T11:47:37.285Z"
   },
   {
    "duration": 41,
    "start_time": "2023-05-04T11:47:37.723Z"
   },
   {
    "duration": 321,
    "start_time": "2023-05-04T11:47:37.783Z"
   },
   {
    "duration": 239,
    "start_time": "2023-05-04T11:47:38.106Z"
   },
   {
    "duration": 153,
    "start_time": "2023-05-04T11:47:38.347Z"
   },
   {
    "duration": 183,
    "start_time": "2023-05-04T11:47:38.502Z"
   },
   {
    "duration": 152,
    "start_time": "2023-05-04T11:47:38.687Z"
   },
   {
    "duration": 45,
    "start_time": "2023-05-04T11:47:38.841Z"
   },
   {
    "duration": 357,
    "start_time": "2023-05-04T11:47:38.888Z"
   },
   {
    "duration": 249,
    "start_time": "2023-05-04T11:47:39.247Z"
   },
   {
    "duration": 9,
    "start_time": "2023-05-04T11:47:39.498Z"
   },
   {
    "duration": 14,
    "start_time": "2023-05-04T11:47:39.509Z"
   },
   {
    "duration": 40,
    "start_time": "2023-05-04T11:47:39.525Z"
   },
   {
    "duration": 118,
    "start_time": "2023-05-04T11:47:51.398Z"
   },
   {
    "duration": 109,
    "start_time": "2023-05-04T11:48:45.302Z"
   },
   {
    "duration": 1425,
    "start_time": "2023-05-04T11:48:53.098Z"
   },
   {
    "duration": 98,
    "start_time": "2023-05-04T11:48:54.525Z"
   },
   {
    "duration": 24,
    "start_time": "2023-05-04T11:48:54.625Z"
   },
   {
    "duration": 42,
    "start_time": "2023-05-04T11:48:54.656Z"
   },
   {
    "duration": 16,
    "start_time": "2023-05-04T11:48:54.700Z"
   },
   {
    "duration": 184,
    "start_time": "2023-05-04T11:48:54.719Z"
   },
   {
    "duration": 18,
    "start_time": "2023-05-04T11:48:54.905Z"
   },
   {
    "duration": 23,
    "start_time": "2023-05-04T11:48:54.925Z"
   },
   {
    "duration": 49,
    "start_time": "2023-05-04T11:48:54.950Z"
   },
   {
    "duration": 31,
    "start_time": "2023-05-04T11:48:55.002Z"
   },
   {
    "duration": 45,
    "start_time": "2023-05-04T11:48:55.035Z"
   },
   {
    "duration": 27,
    "start_time": "2023-05-04T11:48:55.082Z"
   },
   {
    "duration": 7,
    "start_time": "2023-05-04T11:48:55.111Z"
   },
   {
    "duration": 40,
    "start_time": "2023-05-04T11:48:55.120Z"
   },
   {
    "duration": 32,
    "start_time": "2023-05-04T11:48:55.162Z"
   },
   {
    "duration": 14,
    "start_time": "2023-05-04T11:48:55.196Z"
   },
   {
    "duration": 12,
    "start_time": "2023-05-04T11:48:55.212Z"
   },
   {
    "duration": 36,
    "start_time": "2023-05-04T11:48:55.226Z"
   },
   {
    "duration": 11,
    "start_time": "2023-05-04T11:48:55.268Z"
   },
   {
    "duration": 28,
    "start_time": "2023-05-04T11:48:55.281Z"
   },
   {
    "duration": 29,
    "start_time": "2023-05-04T11:48:55.312Z"
   },
   {
    "duration": 51,
    "start_time": "2023-05-04T11:48:55.343Z"
   },
   {
    "duration": 5,
    "start_time": "2023-05-04T11:48:55.398Z"
   },
   {
    "duration": 25,
    "start_time": "2023-05-04T11:48:55.406Z"
   },
   {
    "duration": 11,
    "start_time": "2023-05-04T11:48:55.433Z"
   },
   {
    "duration": 31,
    "start_time": "2023-05-04T11:48:55.446Z"
   },
   {
    "duration": 24,
    "start_time": "2023-05-04T11:48:55.479Z"
   },
   {
    "duration": 9,
    "start_time": "2023-05-04T11:48:55.509Z"
   },
   {
    "duration": 15,
    "start_time": "2023-05-04T11:48:55.519Z"
   },
   {
    "duration": 12,
    "start_time": "2023-05-04T11:48:55.536Z"
   },
   {
    "duration": 19,
    "start_time": "2023-05-04T11:48:55.551Z"
   },
   {
    "duration": 116,
    "start_time": "2023-05-04T11:48:55.574Z"
   },
   {
    "duration": 393,
    "start_time": "2023-05-04T11:48:55.692Z"
   },
   {
    "duration": 7,
    "start_time": "2023-05-04T11:48:56.088Z"
   },
   {
    "duration": 28,
    "start_time": "2023-05-04T11:48:56.098Z"
   },
   {
    "duration": 864,
    "start_time": "2023-05-04T11:48:56.128Z"
   },
   {
    "duration": 2335,
    "start_time": "2023-05-04T11:48:56.994Z"
   },
   {
    "duration": 31,
    "start_time": "2023-05-04T11:48:59.331Z"
   },
   {
    "duration": 8,
    "start_time": "2023-05-04T11:48:59.364Z"
   },
   {
    "duration": 23,
    "start_time": "2023-05-04T11:48:59.374Z"
   },
   {
    "duration": 8,
    "start_time": "2023-05-04T11:48:59.398Z"
   },
   {
    "duration": 239,
    "start_time": "2023-05-04T11:48:59.408Z"
   },
   {
    "duration": 348,
    "start_time": "2023-05-04T11:48:59.649Z"
   },
   {
    "duration": 293,
    "start_time": "2023-05-04T11:48:59.999Z"
   },
   {
    "duration": 382,
    "start_time": "2023-05-04T11:49:00.297Z"
   },
   {
    "duration": 6,
    "start_time": "2023-05-04T11:49:00.684Z"
   },
   {
    "duration": 36,
    "start_time": "2023-05-04T11:49:00.692Z"
   },
   {
    "duration": 396,
    "start_time": "2023-05-04T11:49:00.730Z"
   },
   {
    "duration": 5,
    "start_time": "2023-05-04T11:49:01.129Z"
   },
   {
    "duration": 52,
    "start_time": "2023-05-04T11:49:01.136Z"
   },
   {
    "duration": 382,
    "start_time": "2023-05-04T11:49:01.190Z"
   },
   {
    "duration": 5,
    "start_time": "2023-05-04T11:49:01.574Z"
   },
   {
    "duration": 36,
    "start_time": "2023-05-04T11:49:01.581Z"
   },
   {
    "duration": 356,
    "start_time": "2023-05-04T11:49:01.619Z"
   },
   {
    "duration": 10,
    "start_time": "2023-05-04T11:49:01.982Z"
   },
   {
    "duration": 47,
    "start_time": "2023-05-04T11:49:01.998Z"
   },
   {
    "duration": 46,
    "start_time": "2023-05-04T11:49:02.047Z"
   },
   {
    "duration": 31,
    "start_time": "2023-05-04T11:49:02.095Z"
   },
   {
    "duration": 613,
    "start_time": "2023-05-04T11:49:02.128Z"
   },
   {
    "duration": 48,
    "start_time": "2023-05-04T11:49:02.743Z"
   },
   {
    "duration": 375,
    "start_time": "2023-05-04T11:49:02.798Z"
   },
   {
    "duration": 232,
    "start_time": "2023-05-04T11:49:03.174Z"
   },
   {
    "duration": 160,
    "start_time": "2023-05-04T11:49:03.407Z"
   },
   {
    "duration": 209,
    "start_time": "2023-05-04T11:49:03.569Z"
   },
   {
    "duration": 183,
    "start_time": "2023-05-04T11:49:03.780Z"
   },
   {
    "duration": 64,
    "start_time": "2023-05-04T11:49:03.967Z"
   },
   {
    "duration": 371,
    "start_time": "2023-05-04T11:49:04.033Z"
   },
   {
    "duration": 283,
    "start_time": "2023-05-04T11:49:04.407Z"
   },
   {
    "duration": 12,
    "start_time": "2023-05-04T11:49:04.693Z"
   },
   {
    "duration": 35,
    "start_time": "2023-05-04T11:49:04.708Z"
   },
   {
    "duration": 37,
    "start_time": "2023-05-04T11:49:04.745Z"
   },
   {
    "duration": 1735,
    "start_time": "2023-05-04T11:49:53.196Z"
   },
   {
    "duration": 81,
    "start_time": "2023-05-04T11:49:54.933Z"
   },
   {
    "duration": 22,
    "start_time": "2023-05-04T11:49:55.016Z"
   },
   {
    "duration": 43,
    "start_time": "2023-05-04T11:49:55.039Z"
   },
   {
    "duration": 17,
    "start_time": "2023-05-04T11:49:55.089Z"
   },
   {
    "duration": 30,
    "start_time": "2023-05-04T11:49:55.108Z"
   },
   {
    "duration": 13,
    "start_time": "2023-05-04T11:49:55.140Z"
   },
   {
    "duration": 29,
    "start_time": "2023-05-04T11:49:55.158Z"
   },
   {
    "duration": 18,
    "start_time": "2023-05-04T11:49:55.192Z"
   },
   {
    "duration": 31,
    "start_time": "2023-05-04T11:49:55.212Z"
   },
   {
    "duration": 51,
    "start_time": "2023-05-04T11:49:55.245Z"
   },
   {
    "duration": 16,
    "start_time": "2023-05-04T11:49:55.298Z"
   },
   {
    "duration": 21,
    "start_time": "2023-05-04T11:49:55.317Z"
   },
   {
    "duration": 30,
    "start_time": "2023-05-04T11:49:55.343Z"
   },
   {
    "duration": 32,
    "start_time": "2023-05-04T11:49:55.376Z"
   },
   {
    "duration": 54,
    "start_time": "2023-05-04T11:49:55.411Z"
   },
   {
    "duration": 8,
    "start_time": "2023-05-04T11:49:55.478Z"
   },
   {
    "duration": 20,
    "start_time": "2023-05-04T11:49:55.488Z"
   },
   {
    "duration": 24,
    "start_time": "2023-05-04T11:49:55.511Z"
   },
   {
    "duration": 18,
    "start_time": "2023-05-04T11:49:55.536Z"
   },
   {
    "duration": 33,
    "start_time": "2023-05-04T11:49:55.557Z"
   },
   {
    "duration": 52,
    "start_time": "2023-05-04T11:49:55.594Z"
   },
   {
    "duration": 5,
    "start_time": "2023-05-04T11:49:55.648Z"
   },
   {
    "duration": 40,
    "start_time": "2023-05-04T11:49:55.655Z"
   },
   {
    "duration": 24,
    "start_time": "2023-05-04T11:49:55.698Z"
   },
   {
    "duration": 28,
    "start_time": "2023-05-04T11:49:55.725Z"
   },
   {
    "duration": 39,
    "start_time": "2023-05-04T11:49:55.755Z"
   },
   {
    "duration": 9,
    "start_time": "2023-05-04T11:49:55.796Z"
   },
   {
    "duration": 10,
    "start_time": "2023-05-04T11:49:55.807Z"
   },
   {
    "duration": 23,
    "start_time": "2023-05-04T11:49:55.819Z"
   },
   {
    "duration": 17,
    "start_time": "2023-05-04T11:49:55.844Z"
   },
   {
    "duration": 116,
    "start_time": "2023-05-04T11:49:55.866Z"
   },
   {
    "duration": 319,
    "start_time": "2023-05-04T11:49:55.987Z"
   },
   {
    "duration": 6,
    "start_time": "2023-05-04T11:49:56.308Z"
   },
   {
    "duration": 24,
    "start_time": "2023-05-04T11:49:56.315Z"
   },
   {
    "duration": 350,
    "start_time": "2023-05-04T11:49:56.341Z"
   },
   {
    "duration": 1157,
    "start_time": "2023-05-04T11:49:56.693Z"
   },
   {
    "duration": 33,
    "start_time": "2023-05-04T11:49:57.851Z"
   },
   {
    "duration": 6,
    "start_time": "2023-05-04T11:49:57.886Z"
   },
   {
    "duration": 59,
    "start_time": "2023-05-04T11:49:57.897Z"
   },
   {
    "duration": 15,
    "start_time": "2023-05-04T11:49:57.960Z"
   },
   {
    "duration": 215,
    "start_time": "2023-05-04T11:49:57.985Z"
   },
   {
    "duration": 595,
    "start_time": "2023-05-04T11:49:58.202Z"
   },
   {
    "duration": 659,
    "start_time": "2023-05-04T11:49:58.799Z"
   },
   {
    "duration": 702,
    "start_time": "2023-05-04T11:49:59.460Z"
   },
   {
    "duration": 12,
    "start_time": "2023-05-04T11:50:00.164Z"
   },
   {
    "duration": 22,
    "start_time": "2023-05-04T11:50:00.180Z"
   },
   {
    "duration": 648,
    "start_time": "2023-05-04T11:50:00.205Z"
   },
   {
    "duration": 5,
    "start_time": "2023-05-04T11:50:00.856Z"
   },
   {
    "duration": 84,
    "start_time": "2023-05-04T11:50:00.863Z"
   },
   {
    "duration": 467,
    "start_time": "2023-05-04T11:50:00.949Z"
   },
   {
    "duration": 7,
    "start_time": "2023-05-04T11:50:01.419Z"
   },
   {
    "duration": 94,
    "start_time": "2023-05-04T11:50:01.428Z"
   },
   {
    "duration": 342,
    "start_time": "2023-05-04T11:50:01.524Z"
   },
   {
    "duration": 9,
    "start_time": "2023-05-04T11:50:01.868Z"
   },
   {
    "duration": 5,
    "start_time": "2023-05-04T11:50:01.881Z"
   },
   {
    "duration": 75,
    "start_time": "2023-05-04T11:50:01.891Z"
   },
   {
    "duration": 182,
    "start_time": "2023-05-04T11:50:01.968Z"
   },
   {
    "duration": 490,
    "start_time": "2023-05-04T11:50:02.152Z"
   },
   {
    "duration": 45,
    "start_time": "2023-05-04T11:50:02.643Z"
   },
   {
    "duration": 340,
    "start_time": "2023-05-04T11:50:02.693Z"
   },
   {
    "duration": 224,
    "start_time": "2023-05-04T11:50:03.035Z"
   },
   {
    "duration": 147,
    "start_time": "2023-05-04T11:50:03.264Z"
   },
   {
    "duration": 180,
    "start_time": "2023-05-04T11:50:03.413Z"
   },
   {
    "duration": 167,
    "start_time": "2023-05-04T11:50:03.596Z"
   },
   {
    "duration": 30,
    "start_time": "2023-05-04T11:50:03.765Z"
   },
   {
    "duration": 375,
    "start_time": "2023-05-04T11:50:03.797Z"
   },
   {
    "duration": 272,
    "start_time": "2023-05-04T11:50:04.177Z"
   },
   {
    "duration": 19,
    "start_time": "2023-05-04T11:50:04.451Z"
   },
   {
    "duration": 24,
    "start_time": "2023-05-04T11:50:04.473Z"
   },
   {
    "duration": 10,
    "start_time": "2023-05-04T11:50:04.499Z"
   },
   {
    "duration": 85,
    "start_time": "2023-05-04T11:50:37.735Z"
   },
   {
    "duration": 99,
    "start_time": "2023-05-04T11:50:57.523Z"
   },
   {
    "duration": 1189,
    "start_time": "2023-05-04T11:53:02.319Z"
   },
   {
    "duration": 78,
    "start_time": "2023-05-04T11:53:03.510Z"
   },
   {
    "duration": 20,
    "start_time": "2023-05-04T11:53:03.590Z"
   },
   {
    "duration": 20,
    "start_time": "2023-05-04T11:53:03.612Z"
   },
   {
    "duration": 66,
    "start_time": "2023-05-04T11:53:03.634Z"
   },
   {
    "duration": 24,
    "start_time": "2023-05-04T11:53:03.702Z"
   },
   {
    "duration": 20,
    "start_time": "2023-05-04T11:53:03.729Z"
   },
   {
    "duration": 30,
    "start_time": "2023-05-04T11:53:03.751Z"
   },
   {
    "duration": 18,
    "start_time": "2023-05-04T11:53:03.784Z"
   },
   {
    "duration": 9,
    "start_time": "2023-05-04T11:53:03.806Z"
   },
   {
    "duration": 34,
    "start_time": "2023-05-04T11:53:03.817Z"
   },
   {
    "duration": 30,
    "start_time": "2023-05-04T11:53:03.853Z"
   },
   {
    "duration": 8,
    "start_time": "2023-05-04T11:53:03.885Z"
   },
   {
    "duration": 17,
    "start_time": "2023-05-04T11:53:03.895Z"
   },
   {
    "duration": 21,
    "start_time": "2023-05-04T11:53:03.914Z"
   },
   {
    "duration": 41,
    "start_time": "2023-05-04T11:53:03.938Z"
   },
   {
    "duration": 12,
    "start_time": "2023-05-04T11:53:03.983Z"
   },
   {
    "duration": 21,
    "start_time": "2023-05-04T11:53:03.996Z"
   },
   {
    "duration": 8,
    "start_time": "2023-05-04T11:53:04.023Z"
   },
   {
    "duration": 14,
    "start_time": "2023-05-04T11:53:04.033Z"
   },
   {
    "duration": 43,
    "start_time": "2023-05-04T11:53:04.049Z"
   },
   {
    "duration": 44,
    "start_time": "2023-05-04T11:53:04.094Z"
   },
   {
    "duration": 5,
    "start_time": "2023-05-04T11:53:04.140Z"
   },
   {
    "duration": 33,
    "start_time": "2023-05-04T11:53:04.147Z"
   },
   {
    "duration": 15,
    "start_time": "2023-05-04T11:53:04.182Z"
   },
   {
    "duration": 11,
    "start_time": "2023-05-04T11:53:04.205Z"
   },
   {
    "duration": 12,
    "start_time": "2023-05-04T11:53:04.219Z"
   },
   {
    "duration": 29,
    "start_time": "2023-05-04T11:53:04.235Z"
   },
   {
    "duration": 12,
    "start_time": "2023-05-04T11:53:04.274Z"
   },
   {
    "duration": 22,
    "start_time": "2023-05-04T11:53:04.288Z"
   },
   {
    "duration": 11,
    "start_time": "2023-05-04T11:53:04.312Z"
   },
   {
    "duration": 178,
    "start_time": "2023-05-04T11:53:04.325Z"
   },
   {
    "duration": 748,
    "start_time": "2023-05-04T11:53:04.510Z"
   },
   {
    "duration": 6,
    "start_time": "2023-05-04T11:53:05.260Z"
   },
   {
    "duration": 42,
    "start_time": "2023-05-04T11:53:05.269Z"
   },
   {
    "duration": 889,
    "start_time": "2023-05-04T11:53:05.313Z"
   },
   {
    "duration": 1442,
    "start_time": "2023-05-04T11:53:06.206Z"
   },
   {
    "duration": 48,
    "start_time": "2023-05-04T11:53:07.650Z"
   },
   {
    "duration": 6,
    "start_time": "2023-05-04T11:53:07.700Z"
   },
   {
    "duration": 19,
    "start_time": "2023-05-04T11:53:07.708Z"
   },
   {
    "duration": 23,
    "start_time": "2023-05-04T11:53:07.730Z"
   },
   {
    "duration": 206,
    "start_time": "2023-05-04T11:53:07.759Z"
   },
   {
    "duration": 349,
    "start_time": "2023-05-04T11:53:07.967Z"
   },
   {
    "duration": 421,
    "start_time": "2023-05-04T11:53:08.318Z"
   },
   {
    "duration": 386,
    "start_time": "2023-05-04T11:53:08.742Z"
   },
   {
    "duration": 8,
    "start_time": "2023-05-04T11:53:09.130Z"
   },
   {
    "duration": 27,
    "start_time": "2023-05-04T11:53:09.140Z"
   },
   {
    "duration": 318,
    "start_time": "2023-05-04T11:53:09.172Z"
   },
   {
    "duration": 8,
    "start_time": "2023-05-04T11:53:09.492Z"
   },
   {
    "duration": 10,
    "start_time": "2023-05-04T11:53:09.501Z"
   },
   {
    "duration": 331,
    "start_time": "2023-05-04T11:53:09.514Z"
   },
   {
    "duration": 25,
    "start_time": "2023-05-04T11:53:09.847Z"
   },
   {
    "duration": 5,
    "start_time": "2023-05-04T11:53:09.878Z"
   },
   {
    "duration": 292,
    "start_time": "2023-05-04T11:53:09.886Z"
   },
   {
    "duration": 5,
    "start_time": "2023-05-04T11:53:10.180Z"
   },
   {
    "duration": 20,
    "start_time": "2023-05-04T11:53:10.194Z"
   },
   {
    "duration": 29,
    "start_time": "2023-05-04T11:53:10.216Z"
   },
   {
    "duration": 18,
    "start_time": "2023-05-04T11:53:10.247Z"
   },
   {
    "duration": 524,
    "start_time": "2023-05-04T11:53:10.268Z"
   },
   {
    "duration": 36,
    "start_time": "2023-05-04T11:53:10.794Z"
   },
   {
    "duration": 353,
    "start_time": "2023-05-04T11:53:10.833Z"
   },
   {
    "duration": 232,
    "start_time": "2023-05-04T11:53:11.187Z"
   },
   {
    "duration": 359,
    "start_time": "2023-05-04T11:53:11.426Z"
   },
   {
    "duration": 232,
    "start_time": "2023-05-04T11:53:11.793Z"
   },
   {
    "duration": 285,
    "start_time": "2023-05-04T11:53:12.027Z"
   },
   {
    "duration": 57,
    "start_time": "2023-05-04T11:53:12.315Z"
   },
   {
    "duration": 346,
    "start_time": "2023-05-04T11:53:12.379Z"
   },
   {
    "duration": 298,
    "start_time": "2023-05-04T11:53:12.728Z"
   },
   {
    "duration": 11,
    "start_time": "2023-05-04T11:53:13.028Z"
   },
   {
    "duration": 31,
    "start_time": "2023-05-04T11:53:13.041Z"
   },
   {
    "duration": 26,
    "start_time": "2023-05-04T11:53:13.074Z"
   },
   {
    "duration": 144,
    "start_time": "2023-05-04T11:53:40.235Z"
   },
   {
    "duration": 146,
    "start_time": "2023-05-04T11:53:52.480Z"
   },
   {
    "duration": 350,
    "start_time": "2023-05-04T11:54:22.703Z"
   },
   {
    "duration": 263,
    "start_time": "2023-05-04T11:55:32.610Z"
   },
   {
    "duration": 1259,
    "start_time": "2023-05-04T11:55:41.347Z"
   },
   {
    "duration": 78,
    "start_time": "2023-05-04T11:55:42.609Z"
   },
   {
    "duration": 38,
    "start_time": "2023-05-04T11:55:42.688Z"
   },
   {
    "duration": 29,
    "start_time": "2023-05-04T11:55:42.730Z"
   },
   {
    "duration": 30,
    "start_time": "2023-05-04T11:55:42.761Z"
   },
   {
    "duration": 18,
    "start_time": "2023-05-04T11:55:42.793Z"
   },
   {
    "duration": 15,
    "start_time": "2023-05-04T11:55:42.813Z"
   },
   {
    "duration": 20,
    "start_time": "2023-05-04T11:55:42.830Z"
   },
   {
    "duration": 12,
    "start_time": "2023-05-04T11:55:42.852Z"
   },
   {
    "duration": 10,
    "start_time": "2023-05-04T11:55:42.867Z"
   },
   {
    "duration": 22,
    "start_time": "2023-05-04T11:55:42.880Z"
   },
   {
    "duration": 12,
    "start_time": "2023-05-04T11:55:42.904Z"
   },
   {
    "duration": 10,
    "start_time": "2023-05-04T11:55:42.918Z"
   },
   {
    "duration": 55,
    "start_time": "2023-05-04T11:55:42.930Z"
   },
   {
    "duration": 21,
    "start_time": "2023-05-04T11:55:42.989Z"
   },
   {
    "duration": 15,
    "start_time": "2023-05-04T11:55:43.011Z"
   },
   {
    "duration": 12,
    "start_time": "2023-05-04T11:55:43.028Z"
   },
   {
    "duration": 14,
    "start_time": "2023-05-04T11:55:43.042Z"
   },
   {
    "duration": 15,
    "start_time": "2023-05-04T11:55:43.059Z"
   },
   {
    "duration": 22,
    "start_time": "2023-05-04T11:55:43.077Z"
   },
   {
    "duration": 18,
    "start_time": "2023-05-04T11:55:43.101Z"
   },
   {
    "duration": 31,
    "start_time": "2023-05-04T11:55:43.120Z"
   },
   {
    "duration": 18,
    "start_time": "2023-05-04T11:55:43.153Z"
   },
   {
    "duration": 18,
    "start_time": "2023-05-04T11:55:43.175Z"
   },
   {
    "duration": 17,
    "start_time": "2023-05-04T11:55:43.194Z"
   },
   {
    "duration": 8,
    "start_time": "2023-05-04T11:55:43.213Z"
   },
   {
    "duration": 11,
    "start_time": "2023-05-04T11:55:43.223Z"
   },
   {
    "duration": 26,
    "start_time": "2023-05-04T11:55:43.238Z"
   },
   {
    "duration": 10,
    "start_time": "2023-05-04T11:55:43.268Z"
   },
   {
    "duration": 40,
    "start_time": "2023-05-04T11:55:43.280Z"
   },
   {
    "duration": 14,
    "start_time": "2023-05-04T11:55:43.322Z"
   },
   {
    "duration": 91,
    "start_time": "2023-05-04T11:55:43.338Z"
   },
   {
    "duration": 235,
    "start_time": "2023-05-04T11:55:43.431Z"
   },
   {
    "duration": 4,
    "start_time": "2023-05-04T11:55:43.668Z"
   },
   {
    "duration": 17,
    "start_time": "2023-05-04T11:55:43.674Z"
   },
   {
    "duration": 366,
    "start_time": "2023-05-04T11:55:43.694Z"
   },
   {
    "duration": 1919,
    "start_time": "2023-05-04T11:55:44.065Z"
   },
   {
    "duration": 75,
    "start_time": "2023-05-04T11:55:45.986Z"
   },
   {
    "duration": 10,
    "start_time": "2023-05-04T11:55:46.064Z"
   },
   {
    "duration": 20,
    "start_time": "2023-05-04T11:55:46.077Z"
   },
   {
    "duration": 61,
    "start_time": "2023-05-04T11:55:46.099Z"
   },
   {
    "duration": 518,
    "start_time": "2023-05-04T11:55:46.162Z"
   },
   {
    "duration": 449,
    "start_time": "2023-05-04T11:55:46.682Z"
   },
   {
    "duration": 286,
    "start_time": "2023-05-04T11:55:47.133Z"
   },
   {
    "duration": 336,
    "start_time": "2023-05-04T11:55:47.421Z"
   },
   {
    "duration": 11,
    "start_time": "2023-05-04T11:55:47.759Z"
   },
   {
    "duration": 14,
    "start_time": "2023-05-04T11:55:47.773Z"
   },
   {
    "duration": 314,
    "start_time": "2023-05-04T11:55:47.789Z"
   },
   {
    "duration": 5,
    "start_time": "2023-05-04T11:55:48.105Z"
   },
   {
    "duration": 8,
    "start_time": "2023-05-04T11:55:48.112Z"
   },
   {
    "duration": 357,
    "start_time": "2023-05-04T11:55:48.122Z"
   },
   {
    "duration": 10,
    "start_time": "2023-05-04T11:55:48.480Z"
   },
   {
    "duration": 7,
    "start_time": "2023-05-04T11:55:48.492Z"
   },
   {
    "duration": 321,
    "start_time": "2023-05-04T11:55:48.501Z"
   },
   {
    "duration": 6,
    "start_time": "2023-05-04T11:55:48.824Z"
   },
   {
    "duration": 7,
    "start_time": "2023-05-04T11:55:48.831Z"
   },
   {
    "duration": 22,
    "start_time": "2023-05-04T11:55:48.856Z"
   },
   {
    "duration": 14,
    "start_time": "2023-05-04T11:55:48.882Z"
   },
   {
    "duration": 466,
    "start_time": "2023-05-04T11:55:48.899Z"
   },
   {
    "duration": 32,
    "start_time": "2023-05-04T11:55:49.367Z"
   },
   {
    "duration": 343,
    "start_time": "2023-05-04T11:55:49.401Z"
   },
   {
    "duration": 228,
    "start_time": "2023-05-04T11:55:49.746Z"
   },
   {
    "duration": 127,
    "start_time": "2023-05-04T11:55:49.982Z"
   },
   {
    "duration": 1,
    "start_time": "2023-05-04T11:55:50.110Z"
   },
   {
    "duration": 0,
    "start_time": "2023-05-04T11:55:50.112Z"
   },
   {
    "duration": 0,
    "start_time": "2023-05-04T11:55:50.113Z"
   },
   {
    "duration": 0,
    "start_time": "2023-05-04T11:55:50.115Z"
   },
   {
    "duration": 0,
    "start_time": "2023-05-04T11:55:50.117Z"
   },
   {
    "duration": 0,
    "start_time": "2023-05-04T11:55:50.118Z"
   },
   {
    "duration": 0,
    "start_time": "2023-05-04T11:55:50.119Z"
   },
   {
    "duration": 0,
    "start_time": "2023-05-04T11:55:50.121Z"
   },
   {
    "duration": 207,
    "start_time": "2023-05-04T11:56:36.143Z"
   },
   {
    "duration": 219,
    "start_time": "2023-05-04T11:56:36.514Z"
   },
   {
    "duration": 27,
    "start_time": "2023-05-04T11:56:38.809Z"
   },
   {
    "duration": 309,
    "start_time": "2023-05-04T11:56:38.915Z"
   },
   {
    "duration": 270,
    "start_time": "2023-05-04T11:56:39.227Z"
   },
   {
    "duration": 9,
    "start_time": "2023-05-04T11:56:41.743Z"
   },
   {
    "duration": 11,
    "start_time": "2023-05-04T11:56:46.712Z"
   },
   {
    "duration": 11,
    "start_time": "2023-05-04T11:56:47.220Z"
   },
   {
    "duration": 9,
    "start_time": "2023-05-04T12:00:20.814Z"
   },
   {
    "duration": 1419,
    "start_time": "2023-05-04T12:02:42.997Z"
   },
   {
    "duration": 83,
    "start_time": "2023-05-04T12:02:44.419Z"
   },
   {
    "duration": 19,
    "start_time": "2023-05-04T12:02:44.504Z"
   },
   {
    "duration": 34,
    "start_time": "2023-05-04T12:02:44.525Z"
   },
   {
    "duration": 28,
    "start_time": "2023-05-04T12:02:44.563Z"
   },
   {
    "duration": 16,
    "start_time": "2023-05-04T12:02:44.593Z"
   },
   {
    "duration": 14,
    "start_time": "2023-05-04T12:02:44.611Z"
   },
   {
    "duration": 49,
    "start_time": "2023-05-04T12:02:44.627Z"
   },
   {
    "duration": 15,
    "start_time": "2023-05-04T12:02:44.689Z"
   },
   {
    "duration": 10,
    "start_time": "2023-05-04T12:02:44.706Z"
   },
   {
    "duration": 25,
    "start_time": "2023-05-04T12:02:44.718Z"
   },
   {
    "duration": 39,
    "start_time": "2023-05-04T12:02:44.744Z"
   },
   {
    "duration": 17,
    "start_time": "2023-05-04T12:02:44.785Z"
   },
   {
    "duration": 27,
    "start_time": "2023-05-04T12:02:44.807Z"
   },
   {
    "duration": 30,
    "start_time": "2023-05-04T12:02:44.836Z"
   },
   {
    "duration": 24,
    "start_time": "2023-05-04T12:02:44.869Z"
   },
   {
    "duration": 8,
    "start_time": "2023-05-04T12:02:44.895Z"
   },
   {
    "duration": 11,
    "start_time": "2023-05-04T12:02:44.905Z"
   },
   {
    "duration": 12,
    "start_time": "2023-05-04T12:02:44.918Z"
   },
   {
    "duration": 41,
    "start_time": "2023-05-04T12:02:44.932Z"
   },
   {
    "duration": 32,
    "start_time": "2023-05-04T12:02:44.975Z"
   },
   {
    "duration": 83,
    "start_time": "2023-05-04T12:02:45.010Z"
   },
   {
    "duration": 4,
    "start_time": "2023-05-04T12:02:45.095Z"
   },
   {
    "duration": 19,
    "start_time": "2023-05-04T12:02:45.101Z"
   },
   {
    "duration": 44,
    "start_time": "2023-05-04T12:02:45.123Z"
   },
   {
    "duration": 10,
    "start_time": "2023-05-04T12:02:45.169Z"
   },
   {
    "duration": 13,
    "start_time": "2023-05-04T12:02:45.182Z"
   },
   {
    "duration": 10,
    "start_time": "2023-05-04T12:02:45.197Z"
   },
   {
    "duration": 10,
    "start_time": "2023-05-04T12:02:45.209Z"
   },
   {
    "duration": 14,
    "start_time": "2023-05-04T12:02:45.257Z"
   },
   {
    "duration": 18,
    "start_time": "2023-05-04T12:02:45.274Z"
   },
   {
    "duration": 118,
    "start_time": "2023-05-04T12:02:45.294Z"
   },
   {
    "duration": 12,
    "start_time": "2023-05-04T12:02:45.414Z"
   },
   {
    "duration": 298,
    "start_time": "2023-05-04T12:02:45.428Z"
   },
   {
    "duration": 5,
    "start_time": "2023-05-04T12:02:45.728Z"
   },
   {
    "duration": 35,
    "start_time": "2023-05-04T12:02:45.735Z"
   },
   {
    "duration": 333,
    "start_time": "2023-05-04T12:02:45.774Z"
   },
   {
    "duration": 1451,
    "start_time": "2023-05-04T12:02:46.110Z"
   },
   {
    "duration": 22,
    "start_time": "2023-05-04T12:02:47.566Z"
   },
   {
    "duration": 9,
    "start_time": "2023-05-04T12:02:47.590Z"
   },
   {
    "duration": 57,
    "start_time": "2023-05-04T12:02:47.606Z"
   },
   {
    "duration": 15,
    "start_time": "2023-05-04T12:02:47.667Z"
   },
   {
    "duration": 240,
    "start_time": "2023-05-04T12:02:47.686Z"
   },
   {
    "duration": 397,
    "start_time": "2023-05-04T12:02:47.928Z"
   },
   {
    "duration": 313,
    "start_time": "2023-05-04T12:02:48.328Z"
   },
   {
    "duration": 382,
    "start_time": "2023-05-04T12:02:48.643Z"
   },
   {
    "duration": 8,
    "start_time": "2023-05-04T12:02:49.027Z"
   },
   {
    "duration": 34,
    "start_time": "2023-05-04T12:02:49.037Z"
   },
   {
    "duration": 351,
    "start_time": "2023-05-04T12:02:49.080Z"
   },
   {
    "duration": 6,
    "start_time": "2023-05-04T12:02:49.434Z"
   },
   {
    "duration": 24,
    "start_time": "2023-05-04T12:02:49.442Z"
   },
   {
    "duration": 338,
    "start_time": "2023-05-04T12:02:49.468Z"
   },
   {
    "duration": 5,
    "start_time": "2023-05-04T12:02:49.808Z"
   },
   {
    "duration": 17,
    "start_time": "2023-05-04T12:02:49.816Z"
   },
   {
    "duration": 419,
    "start_time": "2023-05-04T12:02:49.835Z"
   },
   {
    "duration": 11,
    "start_time": "2023-05-04T12:02:50.255Z"
   },
   {
    "duration": 49,
    "start_time": "2023-05-04T12:02:50.267Z"
   },
   {
    "duration": 21,
    "start_time": "2023-05-04T12:02:50.319Z"
   },
   {
    "duration": 25,
    "start_time": "2023-05-04T12:02:50.342Z"
   },
   {
    "duration": 468,
    "start_time": "2023-05-04T12:02:50.371Z"
   },
   {
    "duration": 55,
    "start_time": "2023-05-04T12:02:50.841Z"
   },
   {
    "duration": 326,
    "start_time": "2023-05-04T12:02:50.898Z"
   },
   {
    "duration": 253,
    "start_time": "2023-05-04T12:02:51.227Z"
   },
   {
    "duration": 233,
    "start_time": "2023-05-04T12:02:51.482Z"
   },
   {
    "duration": 227,
    "start_time": "2023-05-04T12:02:51.717Z"
   },
   {
    "duration": 43,
    "start_time": "2023-05-04T12:02:51.946Z"
   },
   {
    "duration": 345,
    "start_time": "2023-05-04T12:02:51.993Z"
   },
   {
    "duration": 291,
    "start_time": "2023-05-04T12:02:52.340Z"
   },
   {
    "duration": 10,
    "start_time": "2023-05-04T12:02:52.633Z"
   },
   {
    "duration": 37,
    "start_time": "2023-05-04T12:02:52.656Z"
   },
   {
    "duration": 20,
    "start_time": "2023-05-04T12:02:52.695Z"
   },
   {
    "duration": 40,
    "start_time": "2023-05-04T12:14:29.512Z"
   },
   {
    "duration": 381,
    "start_time": "2023-05-04T12:14:35.106Z"
   },
   {
    "duration": 1528,
    "start_time": "2023-05-04T12:15:37.943Z"
   },
   {
    "duration": 88,
    "start_time": "2023-05-04T12:15:39.480Z"
   },
   {
    "duration": 35,
    "start_time": "2023-05-04T12:15:39.570Z"
   },
   {
    "duration": 24,
    "start_time": "2023-05-04T12:15:39.612Z"
   },
   {
    "duration": 43,
    "start_time": "2023-05-04T12:15:39.638Z"
   },
   {
    "duration": 38,
    "start_time": "2023-05-04T12:15:39.688Z"
   },
   {
    "duration": 16,
    "start_time": "2023-05-04T12:15:39.729Z"
   },
   {
    "duration": 37,
    "start_time": "2023-05-04T12:15:39.747Z"
   },
   {
    "duration": 22,
    "start_time": "2023-05-04T12:15:39.786Z"
   },
   {
    "duration": 15,
    "start_time": "2023-05-04T12:15:39.814Z"
   },
   {
    "duration": 28,
    "start_time": "2023-05-04T12:15:39.831Z"
   },
   {
    "duration": 23,
    "start_time": "2023-05-04T12:15:39.861Z"
   },
   {
    "duration": 12,
    "start_time": "2023-05-04T12:15:39.886Z"
   },
   {
    "duration": 38,
    "start_time": "2023-05-04T12:15:39.901Z"
   },
   {
    "duration": 32,
    "start_time": "2023-05-04T12:15:39.941Z"
   },
   {
    "duration": 29,
    "start_time": "2023-05-04T12:15:39.975Z"
   },
   {
    "duration": 12,
    "start_time": "2023-05-04T12:15:40.007Z"
   },
   {
    "duration": 16,
    "start_time": "2023-05-04T12:15:40.022Z"
   },
   {
    "duration": 38,
    "start_time": "2023-05-04T12:15:40.040Z"
   },
   {
    "duration": 33,
    "start_time": "2023-05-04T12:15:40.082Z"
   },
   {
    "duration": 20,
    "start_time": "2023-05-04T12:15:40.119Z"
   },
   {
    "duration": 43,
    "start_time": "2023-05-04T12:15:40.142Z"
   },
   {
    "duration": 9,
    "start_time": "2023-05-04T12:15:40.189Z"
   },
   {
    "duration": 34,
    "start_time": "2023-05-04T12:15:40.200Z"
   },
   {
    "duration": 10,
    "start_time": "2023-05-04T12:15:40.236Z"
   },
   {
    "duration": 23,
    "start_time": "2023-05-04T12:15:40.248Z"
   },
   {
    "duration": 28,
    "start_time": "2023-05-04T12:15:40.276Z"
   },
   {
    "duration": 13,
    "start_time": "2023-05-04T12:15:40.324Z"
   },
   {
    "duration": 14,
    "start_time": "2023-05-04T12:15:40.339Z"
   },
   {
    "duration": 23,
    "start_time": "2023-05-04T12:15:40.355Z"
   },
   {
    "duration": 25,
    "start_time": "2023-05-04T12:15:40.380Z"
   },
   {
    "duration": 116,
    "start_time": "2023-05-04T12:15:40.407Z"
   },
   {
    "duration": 11,
    "start_time": "2023-05-04T12:15:40.528Z"
   },
   {
    "duration": 310,
    "start_time": "2023-05-04T12:15:40.541Z"
   },
   {
    "duration": 8,
    "start_time": "2023-05-04T12:15:40.853Z"
   },
   {
    "duration": 32,
    "start_time": "2023-05-04T12:15:40.863Z"
   },
   {
    "duration": 437,
    "start_time": "2023-05-04T12:15:40.899Z"
   },
   {
    "duration": 1574,
    "start_time": "2023-05-04T12:15:41.338Z"
   },
   {
    "duration": 29,
    "start_time": "2023-05-04T12:15:42.919Z"
   },
   {
    "duration": 58,
    "start_time": "2023-05-04T12:15:42.950Z"
   },
   {
    "duration": 19,
    "start_time": "2023-05-04T12:15:43.014Z"
   },
   {
    "duration": 14,
    "start_time": "2023-05-04T12:15:43.035Z"
   },
   {
    "duration": 284,
    "start_time": "2023-05-04T12:15:43.051Z"
   },
   {
    "duration": 381,
    "start_time": "2023-05-04T12:15:43.337Z"
   },
   {
    "duration": 359,
    "start_time": "2023-05-04T12:15:43.720Z"
   },
   {
    "duration": 423,
    "start_time": "2023-05-04T12:15:44.090Z"
   },
   {
    "duration": 21,
    "start_time": "2023-05-04T12:15:44.519Z"
   },
   {
    "duration": 16,
    "start_time": "2023-05-04T12:15:44.545Z"
   },
   {
    "duration": 401,
    "start_time": "2023-05-04T12:15:44.565Z"
   },
   {
    "duration": 10,
    "start_time": "2023-05-04T12:15:44.973Z"
   },
   {
    "duration": 9,
    "start_time": "2023-05-04T12:15:44.990Z"
   },
   {
    "duration": 534,
    "start_time": "2023-05-04T12:15:45.005Z"
   },
   {
    "duration": 28,
    "start_time": "2023-05-04T12:15:45.544Z"
   },
   {
    "duration": 8,
    "start_time": "2023-05-04T12:15:45.573Z"
   },
   {
    "duration": 408,
    "start_time": "2023-05-04T12:15:45.586Z"
   },
   {
    "duration": 10,
    "start_time": "2023-05-04T12:15:46.000Z"
   },
   {
    "duration": 6,
    "start_time": "2023-05-04T12:15:46.016Z"
   },
   {
    "duration": 10,
    "start_time": "2023-05-04T12:15:46.027Z"
   },
   {
    "duration": 59,
    "start_time": "2023-05-04T12:15:46.039Z"
   },
   {
    "duration": 524,
    "start_time": "2023-05-04T12:15:46.101Z"
   },
   {
    "duration": 57,
    "start_time": "2023-05-04T12:15:46.629Z"
   },
   {
    "duration": 439,
    "start_time": "2023-05-04T12:15:46.689Z"
   },
   {
    "duration": 338,
    "start_time": "2023-05-04T12:15:47.130Z"
   },
   {
    "duration": 332,
    "start_time": "2023-05-04T12:15:47.474Z"
   },
   {
    "duration": 274,
    "start_time": "2023-05-04T12:15:47.812Z"
   },
   {
    "duration": 37,
    "start_time": "2023-05-04T12:15:48.097Z"
   },
   {
    "duration": 440,
    "start_time": "2023-05-04T12:15:48.136Z"
   },
   {
    "duration": 330,
    "start_time": "2023-05-04T12:15:48.579Z"
   },
   {
    "duration": 14,
    "start_time": "2023-05-04T12:15:48.911Z"
   },
   {
    "duration": 41,
    "start_time": "2023-05-04T12:15:48.928Z"
   },
   {
    "duration": 27,
    "start_time": "2023-05-04T12:15:48.971Z"
   },
   {
    "duration": 10,
    "start_time": "2023-05-04T12:19:53.593Z"
   },
   {
    "duration": 1407,
    "start_time": "2023-05-04T22:54:56.356Z"
   },
   {
    "duration": 236,
    "start_time": "2023-05-04T22:54:57.765Z"
   },
   {
    "duration": 17,
    "start_time": "2023-05-04T22:54:58.002Z"
   },
   {
    "duration": 30,
    "start_time": "2023-05-04T22:54:58.021Z"
   },
   {
    "duration": 37,
    "start_time": "2023-05-04T22:54:58.053Z"
   },
   {
    "duration": 12,
    "start_time": "2023-05-04T22:54:58.092Z"
   },
   {
    "duration": 13,
    "start_time": "2023-05-04T22:54:58.106Z"
   },
   {
    "duration": 27,
    "start_time": "2023-05-04T22:54:58.121Z"
   },
   {
    "duration": 10,
    "start_time": "2023-05-04T22:54:58.150Z"
   },
   {
    "duration": 12,
    "start_time": "2023-05-04T22:54:58.162Z"
   },
   {
    "duration": 44,
    "start_time": "2023-05-04T22:54:58.176Z"
   },
   {
    "duration": 14,
    "start_time": "2023-05-04T22:54:58.222Z"
   },
   {
    "duration": 28,
    "start_time": "2023-05-04T22:54:58.237Z"
   },
   {
    "duration": 26,
    "start_time": "2023-05-04T22:54:58.267Z"
   },
   {
    "duration": 43,
    "start_time": "2023-05-04T22:54:58.294Z"
   },
   {
    "duration": 25,
    "start_time": "2023-05-04T22:54:58.339Z"
   },
   {
    "duration": 5,
    "start_time": "2023-05-04T22:54:58.366Z"
   },
   {
    "duration": 17,
    "start_time": "2023-05-04T22:54:58.373Z"
   },
   {
    "duration": 11,
    "start_time": "2023-05-04T22:54:58.391Z"
   },
   {
    "duration": 17,
    "start_time": "2023-05-04T22:54:58.403Z"
   },
   {
    "duration": 14,
    "start_time": "2023-05-04T22:54:58.422Z"
   },
   {
    "duration": 33,
    "start_time": "2023-05-04T22:54:58.438Z"
   },
   {
    "duration": 3,
    "start_time": "2023-05-04T22:54:58.473Z"
   },
   {
    "duration": 13,
    "start_time": "2023-05-04T22:54:58.478Z"
   },
   {
    "duration": 8,
    "start_time": "2023-05-04T22:54:58.493Z"
   },
   {
    "duration": 12,
    "start_time": "2023-05-04T22:54:58.503Z"
   },
   {
    "duration": 9,
    "start_time": "2023-05-04T22:54:58.516Z"
   },
   {
    "duration": 33,
    "start_time": "2023-05-04T22:54:58.527Z"
   },
   {
    "duration": 21,
    "start_time": "2023-05-04T22:54:58.561Z"
   },
   {
    "duration": 42,
    "start_time": "2023-05-04T22:54:58.583Z"
   },
   {
    "duration": 24,
    "start_time": "2023-05-04T22:54:58.627Z"
   },
   {
    "duration": 110,
    "start_time": "2023-05-04T22:54:58.653Z"
   },
   {
    "duration": 7,
    "start_time": "2023-05-04T22:54:58.765Z"
   },
   {
    "duration": 202,
    "start_time": "2023-05-04T22:54:58.773Z"
   },
   {
    "duration": 5,
    "start_time": "2023-05-04T22:54:58.977Z"
   },
   {
    "duration": 28,
    "start_time": "2023-05-04T22:54:58.983Z"
   },
   {
    "duration": 275,
    "start_time": "2023-05-04T22:54:59.012Z"
   },
   {
    "duration": 917,
    "start_time": "2023-05-04T22:54:59.288Z"
   },
   {
    "duration": 13,
    "start_time": "2023-05-04T22:55:00.207Z"
   },
   {
    "duration": 25,
    "start_time": "2023-05-04T22:55:00.222Z"
   },
   {
    "duration": 28,
    "start_time": "2023-05-04T22:55:00.252Z"
   },
   {
    "duration": 65,
    "start_time": "2023-05-04T22:55:00.281Z"
   },
   {
    "duration": 173,
    "start_time": "2023-05-04T22:55:00.347Z"
   },
   {
    "duration": 291,
    "start_time": "2023-05-04T22:55:00.521Z"
   },
   {
    "duration": 246,
    "start_time": "2023-05-04T22:55:00.813Z"
   },
   {
    "duration": 291,
    "start_time": "2023-05-04T22:55:01.060Z"
   },
   {
    "duration": 5,
    "start_time": "2023-05-04T22:55:01.353Z"
   },
   {
    "duration": 63,
    "start_time": "2023-05-04T22:55:01.359Z"
   },
   {
    "duration": 266,
    "start_time": "2023-05-04T22:55:01.424Z"
   },
   {
    "duration": 4,
    "start_time": "2023-05-04T22:55:01.692Z"
   },
   {
    "duration": 170,
    "start_time": "2023-05-04T22:55:01.698Z"
   },
   {
    "duration": 308,
    "start_time": "2023-05-04T22:55:01.870Z"
   },
   {
    "duration": 5,
    "start_time": "2023-05-04T22:55:02.180Z"
   },
   {
    "duration": 32,
    "start_time": "2023-05-04T22:55:02.186Z"
   },
   {
    "duration": 293,
    "start_time": "2023-05-04T22:55:02.220Z"
   },
   {
    "duration": 4,
    "start_time": "2023-05-04T22:55:02.515Z"
   },
   {
    "duration": 54,
    "start_time": "2023-05-04T22:55:02.521Z"
   },
   {
    "duration": 22,
    "start_time": "2023-05-04T22:55:02.577Z"
   },
   {
    "duration": 19,
    "start_time": "2023-05-04T22:55:02.601Z"
   },
   {
    "duration": 396,
    "start_time": "2023-05-04T22:55:02.622Z"
   },
   {
    "duration": 41,
    "start_time": "2023-05-04T22:55:03.020Z"
   },
   {
    "duration": 313,
    "start_time": "2023-05-04T22:55:03.062Z"
   },
   {
    "duration": 203,
    "start_time": "2023-05-04T22:55:03.376Z"
   },
   {
    "duration": 199,
    "start_time": "2023-05-04T22:55:03.580Z"
   },
   {
    "duration": 193,
    "start_time": "2023-05-04T22:55:03.781Z"
   },
   {
    "duration": 31,
    "start_time": "2023-05-04T22:55:03.976Z"
   },
   {
    "duration": 291,
    "start_time": "2023-05-04T22:55:04.009Z"
   },
   {
    "duration": 264,
    "start_time": "2023-05-04T22:55:04.301Z"
   },
   {
    "duration": 14,
    "start_time": "2023-05-04T22:55:04.567Z"
   },
   {
    "duration": 51,
    "start_time": "2023-05-04T22:55:04.583Z"
   },
   {
    "duration": 43,
    "start_time": "2023-05-04T22:55:04.636Z"
   },
   {
    "duration": 114,
    "start_time": "2023-05-04T23:03:40.403Z"
   },
   {
    "duration": 30,
    "start_time": "2023-05-04T23:03:55.123Z"
   },
   {
    "duration": 1216,
    "start_time": "2023-10-19T06:36:29.527Z"
   },
   {
    "duration": 192,
    "start_time": "2023-10-19T06:36:35.256Z"
   },
   {
    "duration": 20,
    "start_time": "2023-10-19T06:36:52.276Z"
   },
   {
    "duration": 1574,
    "start_time": "2023-10-19T13:45:03.382Z"
   },
   {
    "duration": 112,
    "start_time": "2023-10-19T13:58:54.493Z"
   },
   {
    "duration": 3,
    "start_time": "2023-10-19T13:58:57.770Z"
   },
   {
    "duration": 222,
    "start_time": "2023-10-19T13:58:58.330Z"
   },
   {
    "duration": 24,
    "start_time": "2023-10-19T13:58:59.570Z"
   },
   {
    "duration": 21,
    "start_time": "2023-10-19T13:59:02.292Z"
   },
   {
    "duration": 19,
    "start_time": "2023-10-19T13:59:04.567Z"
   },
   {
    "duration": 11,
    "start_time": "2023-10-19T13:59:11.697Z"
   },
   {
    "duration": 19,
    "start_time": "2023-10-19T13:59:18.983Z"
   },
   {
    "duration": 21,
    "start_time": "2023-10-19T13:59:25.270Z"
   },
   {
    "duration": 16,
    "start_time": "2023-10-19T13:59:28.948Z"
   },
   {
    "duration": 24,
    "start_time": "2023-10-19T13:59:37.078Z"
   },
   {
    "duration": 16,
    "start_time": "2023-10-19T14:00:14.712Z"
   },
   {
    "duration": 7,
    "start_time": "2023-10-19T14:00:38.524Z"
   },
   {
    "duration": 13,
    "start_time": "2023-10-19T14:00:39.391Z"
   },
   {
    "duration": 14,
    "start_time": "2023-10-19T14:00:46.685Z"
   },
   {
    "duration": 33,
    "start_time": "2023-10-19T14:01:08.036Z"
   },
   {
    "duration": 30,
    "start_time": "2023-10-19T14:01:16.341Z"
   },
   {
    "duration": 5,
    "start_time": "2023-10-19T14:01:18.446Z"
   },
   {
    "duration": 6,
    "start_time": "2023-10-19T14:01:22.505Z"
   },
   {
    "duration": 5,
    "start_time": "2023-10-19T14:01:22.683Z"
   },
   {
    "duration": 12,
    "start_time": "2023-10-19T14:01:24.699Z"
   },
   {
    "duration": 19,
    "start_time": "2023-10-19T14:01:25.131Z"
   },
   {
    "duration": 32,
    "start_time": "2023-10-19T14:01:51.074Z"
   },
   {
    "duration": 13,
    "start_time": "2023-10-19T14:02:54.437Z"
   },
   {
    "duration": 9,
    "start_time": "2023-10-19T14:03:12.922Z"
   },
   {
    "duration": 10,
    "start_time": "2023-10-19T14:03:15.060Z"
   },
   {
    "duration": 10,
    "start_time": "2023-10-19T14:03:16.019Z"
   },
   {
    "duration": 10,
    "start_time": "2023-10-19T14:03:16.457Z"
   },
   {
    "duration": 9,
    "start_time": "2023-10-19T14:03:16.668Z"
   },
   {
    "duration": 10,
    "start_time": "2023-10-19T14:03:17.535Z"
   },
   {
    "duration": 10,
    "start_time": "2023-10-19T14:03:17.944Z"
   },
   {
    "duration": 88,
    "start_time": "2023-10-19T14:03:27.258Z"
   },
   {
    "duration": 11,
    "start_time": "2023-10-19T14:03:53.982Z"
   },
   {
    "duration": 229,
    "start_time": "2023-10-19T14:03:56.265Z"
   },
   {
    "duration": 6,
    "start_time": "2023-10-19T14:04:05.708Z"
   },
   {
    "duration": 18,
    "start_time": "2023-10-19T14:04:07.252Z"
   },
   {
    "duration": 325,
    "start_time": "2023-10-19T14:04:08.525Z"
   },
   {
    "duration": 1133,
    "start_time": "2023-10-19T14:04:14.536Z"
   },
   {
    "duration": 18,
    "start_time": "2023-10-19T14:04:25.948Z"
   },
   {
    "duration": 5,
    "start_time": "2023-10-19T14:04:29.179Z"
   },
   {
    "duration": 12,
    "start_time": "2023-10-19T14:04:29.529Z"
   },
   {
    "duration": 39,
    "start_time": "2023-10-19T14:04:38.969Z"
   },
   {
    "duration": 7,
    "start_time": "2023-10-19T14:05:24.813Z"
   },
   {
    "duration": 199,
    "start_time": "2023-10-19T14:05:25.652Z"
   },
   {
    "duration": 337,
    "start_time": "2023-10-19T14:05:30.529Z"
   },
   {
    "duration": 284,
    "start_time": "2023-10-19T14:05:33.102Z"
   },
   {
    "duration": 309,
    "start_time": "2023-10-19T14:05:38.183Z"
   },
   {
    "duration": 7,
    "start_time": "2023-10-19T14:05:40.974Z"
   },
   {
    "duration": 5,
    "start_time": "2023-10-19T14:05:41.077Z"
   },
   {
    "duration": 301,
    "start_time": "2023-10-19T14:05:41.307Z"
   },
   {
    "duration": 7,
    "start_time": "2023-10-19T14:05:44.074Z"
   },
   {
    "duration": 6,
    "start_time": "2023-10-19T14:05:44.236Z"
   },
   {
    "duration": 317,
    "start_time": "2023-10-19T14:05:44.826Z"
   },
   {
    "duration": 6,
    "start_time": "2023-10-19T14:05:46.755Z"
   },
   {
    "duration": 5,
    "start_time": "2023-10-19T14:05:46.850Z"
   },
   {
    "duration": 310,
    "start_time": "2023-10-19T14:05:47.059Z"
   },
   {
    "duration": 6,
    "start_time": "2023-10-19T14:05:47.371Z"
   },
   {
    "duration": 6,
    "start_time": "2023-10-19T14:05:51.509Z"
   },
   {
    "duration": 9,
    "start_time": "2023-10-19T14:05:55.088Z"
   },
   {
    "duration": 8,
    "start_time": "2023-10-19T14:05:55.565Z"
   },
   {
    "duration": 467,
    "start_time": "2023-10-19T14:05:57.142Z"
   },
   {
    "duration": 31,
    "start_time": "2023-10-19T14:06:09.164Z"
   },
   {
    "duration": 356,
    "start_time": "2023-10-19T14:06:12.747Z"
   },
   {
    "duration": 266,
    "start_time": "2023-10-19T14:06:19.216Z"
   },
   {
    "duration": 259,
    "start_time": "2023-10-19T14:06:21.104Z"
   },
   {
    "duration": 29,
    "start_time": "2023-10-19T14:06:26.883Z"
   },
   {
    "duration": 29,
    "start_time": "2023-10-19T14:06:30.621Z"
   },
   {
    "duration": 300,
    "start_time": "2023-10-19T14:06:32.625Z"
   },
   {
    "duration": 10,
    "start_time": "2023-10-19T14:06:46.122Z"
   },
   {
    "duration": 15,
    "start_time": "2023-10-19T14:07:02.599Z"
   },
   {
    "duration": 11,
    "start_time": "2023-10-19T14:07:10.451Z"
   }
  ],
  "kernelspec": {
   "display_name": "Python 3 (ipykernel)",
   "language": "python",
   "name": "python3"
  },
  "language_info": {
   "codemirror_mode": {
    "name": "ipython",
    "version": 3
   },
   "file_extension": ".py",
   "mimetype": "text/x-python",
   "name": "python",
   "nbconvert_exporter": "python",
   "pygments_lexer": "ipython3",
   "version": "3.9.5"
  },
  "toc": {
   "base_numbering": 1,
   "nav_menu": {},
   "number_sections": true,
   "sideBar": true,
   "skip_h1_title": true,
   "title_cell": "Table of Contents",
   "title_sidebar": "Contents",
   "toc_cell": false,
   "toc_position": {
    "height": "calc(100% - 180px)",
    "left": "10px",
    "top": "150px",
    "width": "203.938px"
   },
   "toc_section_display": true,
   "toc_window_display": true
  }
 },
 "nbformat": 4,
 "nbformat_minor": 2
}
