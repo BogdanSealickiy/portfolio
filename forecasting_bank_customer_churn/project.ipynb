{
 "cells": [
  {
   "cell_type": "markdown",
   "metadata": {
    "toc": true
   },
   "source": [
    "<h1>Содержание<span class=\"tocSkip\"></span></h1>\n",
    "<div class=\"toc\"><ul class=\"toc-item\"><li><span><a href=\"#Подготовка-данных\" data-toc-modified-id=\"Подготовка-данных-1\"><span class=\"toc-item-num\">1&nbsp;&nbsp;</span>Подготовка данных</a></span></li><li><span><a href=\"#Исследование-задачи\" data-toc-modified-id=\"Исследование-задачи-2\"><span class=\"toc-item-num\">2&nbsp;&nbsp;</span>Исследование задачи</a></span></li><li><span><a href=\"#Борьба-с-дисбалансом\" data-toc-modified-id=\"Борьба-с-дисбалансом-3\"><span class=\"toc-item-num\">3&nbsp;&nbsp;</span>Борьба с дисбалансом</a></span></li><li><span><a href=\"#Тестирование-модели\" data-toc-modified-id=\"Тестирование-модели-4\"><span class=\"toc-item-num\">4&nbsp;&nbsp;</span>Тестирование модели</a></span></li><li><span><a href=\"#Чек-лист-готовности-проекта\" data-toc-modified-id=\"Чек-лист-готовности-проекта-5\"><span class=\"toc-item-num\">5&nbsp;&nbsp;</span>Чек-лист готовности проекта</a></span></li></ul></div>"
   ]
  },
  {
   "cell_type": "markdown",
   "metadata": {},
   "source": [
    "# Отток клиентов"
   ]
  },
  {
   "cell_type": "markdown",
   "metadata": {},
   "source": [
    "Из «Бета-Банка» стали уходить клиенты. Каждый месяц. Немного, но заметно. Банковские маркетологи посчитали: сохранять текущих клиентов дешевле, чем привлекать новых.\n",
    "\n",
    "Нужно спрогнозировать, уйдёт клиент из банка в ближайшее время или нет. Вам предоставлены исторические данные о поведении клиентов и расторжении договоров с банком. \n",
    "\n",
    "Постройте модель с предельно большим значением *F1*-меры. Чтобы сдать проект успешно, нужно довести метрику до 0.59. Проверьте *F1*-меру на тестовой выборке самостоятельно.\n",
    "\n",
    "Дополнительно измеряйте *AUC-ROC*, сравнивайте её значение с *F1*-мерой.\n",
    "\n",
    "Источник данных: [https://www.kaggle.com/barelydedicated/bank-customer-churn-modeling](https://www.kaggle.com/barelydedicated/bank-customer-churn-modeling)"
   ]
  },
  {
   "cell_type": "markdown",
   "metadata": {},
   "source": [
    "## Подготовка данных"
   ]
  },
  {
   "cell_type": "markdown",
   "metadata": {},
   "source": [
    "**Импорт библиотек**"
   ]
  },
  {
   "cell_type": "code",
   "execution_count": 1,
   "metadata": {},
   "outputs": [],
   "source": [
    "import pandas as pd\n",
    "import matplotlib.pyplot as plt\n",
    "\n",
    "\n",
    "from sklearn.preprocessing import OrdinalEncoder\n",
    "from sklearn.preprocessing import StandardScaler\n",
    "from sklearn.model_selection import train_test_split\n",
    "from sklearn.tree import DecisionTreeClassifier\n",
    "from sklearn.ensemble import RandomForestClassifier\n",
    "from sklearn.linear_model import LogisticRegression\n",
    "\n",
    "\n",
    "from sklearn.metrics import accuracy_score\n",
    "from sklearn.metrics import confusion_matrix\n",
    "from sklearn.metrics import f1_score\n",
    "from sklearn.metrics import roc_curve\n",
    "from sklearn.metrics import roc_auc_score \n",
    "\n",
    "\n",
    "import numpy as np"
   ]
  },
  {
   "cell_type": "code",
   "execution_count": 2,
   "metadata": {},
   "outputs": [],
   "source": [
    "data = pd.read_csv('/datasets/Churn.csv')"
   ]
  },
  {
   "cell_type": "markdown",
   "metadata": {},
   "source": [
    "Вывод данных."
   ]
  },
  {
   "cell_type": "code",
   "execution_count": 3,
   "metadata": {},
   "outputs": [
    {
     "data": {
      "text/html": [
       "<div>\n",
       "<style scoped>\n",
       "    .dataframe tbody tr th:only-of-type {\n",
       "        vertical-align: middle;\n",
       "    }\n",
       "\n",
       "    .dataframe tbody tr th {\n",
       "        vertical-align: top;\n",
       "    }\n",
       "\n",
       "    .dataframe thead th {\n",
       "        text-align: right;\n",
       "    }\n",
       "</style>\n",
       "<table border=\"1\" class=\"dataframe\">\n",
       "  <thead>\n",
       "    <tr style=\"text-align: right;\">\n",
       "      <th></th>\n",
       "      <th>RowNumber</th>\n",
       "      <th>CustomerId</th>\n",
       "      <th>Surname</th>\n",
       "      <th>CreditScore</th>\n",
       "      <th>Geography</th>\n",
       "      <th>Gender</th>\n",
       "      <th>Age</th>\n",
       "      <th>Tenure</th>\n",
       "      <th>Balance</th>\n",
       "      <th>NumOfProducts</th>\n",
       "      <th>HasCrCard</th>\n",
       "      <th>IsActiveMember</th>\n",
       "      <th>EstimatedSalary</th>\n",
       "      <th>Exited</th>\n",
       "    </tr>\n",
       "  </thead>\n",
       "  <tbody>\n",
       "    <tr>\n",
       "      <th>8797</th>\n",
       "      <td>8798</td>\n",
       "      <td>15630466</td>\n",
       "      <td>Maclean</td>\n",
       "      <td>797</td>\n",
       "      <td>France</td>\n",
       "      <td>Male</td>\n",
       "      <td>45</td>\n",
       "      <td>8.0</td>\n",
       "      <td>0.00</td>\n",
       "      <td>1</td>\n",
       "      <td>0</td>\n",
       "      <td>0</td>\n",
       "      <td>125110.02</td>\n",
       "      <td>0</td>\n",
       "    </tr>\n",
       "    <tr>\n",
       "      <th>8483</th>\n",
       "      <td>8484</td>\n",
       "      <td>15589949</td>\n",
       "      <td>Maclean</td>\n",
       "      <td>433</td>\n",
       "      <td>Spain</td>\n",
       "      <td>Male</td>\n",
       "      <td>34</td>\n",
       "      <td>9.0</td>\n",
       "      <td>152806.74</td>\n",
       "      <td>1</td>\n",
       "      <td>1</td>\n",
       "      <td>0</td>\n",
       "      <td>19687.99</td>\n",
       "      <td>0</td>\n",
       "    </tr>\n",
       "    <tr>\n",
       "      <th>9601</th>\n",
       "      <td>9602</td>\n",
       "      <td>15797692</td>\n",
       "      <td>Volkova</td>\n",
       "      <td>659</td>\n",
       "      <td>France</td>\n",
       "      <td>Female</td>\n",
       "      <td>33</td>\n",
       "      <td>7.0</td>\n",
       "      <td>89939.62</td>\n",
       "      <td>1</td>\n",
       "      <td>1</td>\n",
       "      <td>0</td>\n",
       "      <td>136540.09</td>\n",
       "      <td>0</td>\n",
       "    </tr>\n",
       "    <tr>\n",
       "      <th>1855</th>\n",
       "      <td>1856</td>\n",
       "      <td>15570601</td>\n",
       "      <td>Cheng</td>\n",
       "      <td>785</td>\n",
       "      <td>France</td>\n",
       "      <td>Female</td>\n",
       "      <td>47</td>\n",
       "      <td>9.0</td>\n",
       "      <td>122031.55</td>\n",
       "      <td>1</td>\n",
       "      <td>1</td>\n",
       "      <td>1</td>\n",
       "      <td>33823.50</td>\n",
       "      <td>1</td>\n",
       "    </tr>\n",
       "    <tr>\n",
       "      <th>1464</th>\n",
       "      <td>1465</td>\n",
       "      <td>15595067</td>\n",
       "      <td>Zhirov</td>\n",
       "      <td>637</td>\n",
       "      <td>Spain</td>\n",
       "      <td>Female</td>\n",
       "      <td>40</td>\n",
       "      <td>6.0</td>\n",
       "      <td>0.00</td>\n",
       "      <td>2</td>\n",
       "      <td>1</td>\n",
       "      <td>1</td>\n",
       "      <td>181610.60</td>\n",
       "      <td>0</td>\n",
       "    </tr>\n",
       "    <tr>\n",
       "      <th>5545</th>\n",
       "      <td>5546</td>\n",
       "      <td>15806709</td>\n",
       "      <td>Hao</td>\n",
       "      <td>609</td>\n",
       "      <td>Germany</td>\n",
       "      <td>Male</td>\n",
       "      <td>33</td>\n",
       "      <td>6.0</td>\n",
       "      <td>94126.67</td>\n",
       "      <td>1</td>\n",
       "      <td>0</td>\n",
       "      <td>0</td>\n",
       "      <td>93718.16</td>\n",
       "      <td>0</td>\n",
       "    </tr>\n",
       "    <tr>\n",
       "      <th>5908</th>\n",
       "      <td>5909</td>\n",
       "      <td>15641934</td>\n",
       "      <td>Manna</td>\n",
       "      <td>749</td>\n",
       "      <td>Spain</td>\n",
       "      <td>Female</td>\n",
       "      <td>46</td>\n",
       "      <td>9.0</td>\n",
       "      <td>66582.81</td>\n",
       "      <td>1</td>\n",
       "      <td>1</td>\n",
       "      <td>0</td>\n",
       "      <td>78753.12</td>\n",
       "      <td>1</td>\n",
       "    </tr>\n",
       "    <tr>\n",
       "      <th>749</th>\n",
       "      <td>750</td>\n",
       "      <td>15698839</td>\n",
       "      <td>Okwudilichukwu</td>\n",
       "      <td>460</td>\n",
       "      <td>Germany</td>\n",
       "      <td>Male</td>\n",
       "      <td>46</td>\n",
       "      <td>NaN</td>\n",
       "      <td>127559.97</td>\n",
       "      <td>2</td>\n",
       "      <td>1</td>\n",
       "      <td>1</td>\n",
       "      <td>126952.50</td>\n",
       "      <td>0</td>\n",
       "    </tr>\n",
       "    <tr>\n",
       "      <th>2863</th>\n",
       "      <td>2864</td>\n",
       "      <td>15659175</td>\n",
       "      <td>Severson</td>\n",
       "      <td>755</td>\n",
       "      <td>France</td>\n",
       "      <td>Female</td>\n",
       "      <td>43</td>\n",
       "      <td>9.0</td>\n",
       "      <td>0.00</td>\n",
       "      <td>2</td>\n",
       "      <td>1</td>\n",
       "      <td>0</td>\n",
       "      <td>18066.69</td>\n",
       "      <td>0</td>\n",
       "    </tr>\n",
       "    <tr>\n",
       "      <th>6481</th>\n",
       "      <td>6482</td>\n",
       "      <td>15664752</td>\n",
       "      <td>Jack</td>\n",
       "      <td>606</td>\n",
       "      <td>Germany</td>\n",
       "      <td>Male</td>\n",
       "      <td>39</td>\n",
       "      <td>8.0</td>\n",
       "      <td>136000.45</td>\n",
       "      <td>2</td>\n",
       "      <td>1</td>\n",
       "      <td>0</td>\n",
       "      <td>31708.53</td>\n",
       "      <td>0</td>\n",
       "    </tr>\n",
       "    <tr>\n",
       "      <th>4014</th>\n",
       "      <td>4015</td>\n",
       "      <td>15597914</td>\n",
       "      <td>Evdokimov</td>\n",
       "      <td>641</td>\n",
       "      <td>Germany</td>\n",
       "      <td>Female</td>\n",
       "      <td>51</td>\n",
       "      <td>2.0</td>\n",
       "      <td>117306.69</td>\n",
       "      <td>4</td>\n",
       "      <td>1</td>\n",
       "      <td>1</td>\n",
       "      <td>26912.72</td>\n",
       "      <td>1</td>\n",
       "    </tr>\n",
       "    <tr>\n",
       "      <th>5045</th>\n",
       "      <td>5046</td>\n",
       "      <td>15744691</td>\n",
       "      <td>Tsai</td>\n",
       "      <td>755</td>\n",
       "      <td>France</td>\n",
       "      <td>Female</td>\n",
       "      <td>29</td>\n",
       "      <td>3.0</td>\n",
       "      <td>0.00</td>\n",
       "      <td>3</td>\n",
       "      <td>1</td>\n",
       "      <td>0</td>\n",
       "      <td>4733.94</td>\n",
       "      <td>0</td>\n",
       "    </tr>\n",
       "    <tr>\n",
       "      <th>2081</th>\n",
       "      <td>2082</td>\n",
       "      <td>15809143</td>\n",
       "      <td>White</td>\n",
       "      <td>456</td>\n",
       "      <td>Germany</td>\n",
       "      <td>Male</td>\n",
       "      <td>32</td>\n",
       "      <td>9.0</td>\n",
       "      <td>133060.63</td>\n",
       "      <td>1</td>\n",
       "      <td>1</td>\n",
       "      <td>1</td>\n",
       "      <td>125167.92</td>\n",
       "      <td>0</td>\n",
       "    </tr>\n",
       "    <tr>\n",
       "      <th>6709</th>\n",
       "      <td>6710</td>\n",
       "      <td>15587647</td>\n",
       "      <td>Browne</td>\n",
       "      <td>850</td>\n",
       "      <td>Germany</td>\n",
       "      <td>Female</td>\n",
       "      <td>66</td>\n",
       "      <td>0.0</td>\n",
       "      <td>127120.62</td>\n",
       "      <td>1</td>\n",
       "      <td>0</td>\n",
       "      <td>1</td>\n",
       "      <td>118929.64</td>\n",
       "      <td>1</td>\n",
       "    </tr>\n",
       "    <tr>\n",
       "      <th>9081</th>\n",
       "      <td>9082</td>\n",
       "      <td>15741078</td>\n",
       "      <td>Greece</td>\n",
       "      <td>736</td>\n",
       "      <td>France</td>\n",
       "      <td>Male</td>\n",
       "      <td>54</td>\n",
       "      <td>7.0</td>\n",
       "      <td>111729.47</td>\n",
       "      <td>2</td>\n",
       "      <td>0</td>\n",
       "      <td>1</td>\n",
       "      <td>84920.49</td>\n",
       "      <td>0</td>\n",
       "    </tr>\n",
       "  </tbody>\n",
       "</table>\n",
       "</div>"
      ],
      "text/plain": [
       "      RowNumber  CustomerId         Surname  CreditScore Geography  Gender  \\\n",
       "8797       8798    15630466         Maclean          797    France    Male   \n",
       "8483       8484    15589949         Maclean          433     Spain    Male   \n",
       "9601       9602    15797692         Volkova          659    France  Female   \n",
       "1855       1856    15570601           Cheng          785    France  Female   \n",
       "1464       1465    15595067          Zhirov          637     Spain  Female   \n",
       "5545       5546    15806709             Hao          609   Germany    Male   \n",
       "5908       5909    15641934           Manna          749     Spain  Female   \n",
       "749         750    15698839  Okwudilichukwu          460   Germany    Male   \n",
       "2863       2864    15659175        Severson          755    France  Female   \n",
       "6481       6482    15664752            Jack          606   Germany    Male   \n",
       "4014       4015    15597914       Evdokimov          641   Germany  Female   \n",
       "5045       5046    15744691            Tsai          755    France  Female   \n",
       "2081       2082    15809143           White          456   Germany    Male   \n",
       "6709       6710    15587647          Browne          850   Germany  Female   \n",
       "9081       9082    15741078          Greece          736    France    Male   \n",
       "\n",
       "      Age  Tenure    Balance  NumOfProducts  HasCrCard  IsActiveMember  \\\n",
       "8797   45     8.0       0.00              1          0               0   \n",
       "8483   34     9.0  152806.74              1          1               0   \n",
       "9601   33     7.0   89939.62              1          1               0   \n",
       "1855   47     9.0  122031.55              1          1               1   \n",
       "1464   40     6.0       0.00              2          1               1   \n",
       "5545   33     6.0   94126.67              1          0               0   \n",
       "5908   46     9.0   66582.81              1          1               0   \n",
       "749    46     NaN  127559.97              2          1               1   \n",
       "2863   43     9.0       0.00              2          1               0   \n",
       "6481   39     8.0  136000.45              2          1               0   \n",
       "4014   51     2.0  117306.69              4          1               1   \n",
       "5045   29     3.0       0.00              3          1               0   \n",
       "2081   32     9.0  133060.63              1          1               1   \n",
       "6709   66     0.0  127120.62              1          0               1   \n",
       "9081   54     7.0  111729.47              2          0               1   \n",
       "\n",
       "      EstimatedSalary  Exited  \n",
       "8797        125110.02       0  \n",
       "8483         19687.99       0  \n",
       "9601        136540.09       0  \n",
       "1855         33823.50       1  \n",
       "1464        181610.60       0  \n",
       "5545         93718.16       0  \n",
       "5908         78753.12       1  \n",
       "749         126952.50       0  \n",
       "2863         18066.69       0  \n",
       "6481         31708.53       0  \n",
       "4014         26912.72       1  \n",
       "5045          4733.94       0  \n",
       "2081        125167.92       0  \n",
       "6709        118929.64       1  \n",
       "9081         84920.49       0  "
      ]
     },
     "execution_count": 3,
     "metadata": {},
     "output_type": "execute_result"
    }
   ],
   "source": [
    "data.sample(15)"
   ]
  },
  {
   "cell_type": "markdown",
   "metadata": {},
   "source": [
    "**Признаки**\n",
    "- RowNumber — индекс строки в данных (не ясно зачем он нужен, оставлю как есть)\n",
    "- CustomerId — уникальный идентификатор клиента\n",
    "- Surname — фамилия\n",
    "- CreditScore — кредитный рейтинг\n",
    "- Geography — страна проживания\n",
    "- Gender — пол\n",
    "- Age — возраст\n",
    "- Tenure — сколько лет человек является клиентом банка\n",
    "- Balance — баланс на счёте\n",
    "- NumOfProducts — количество продуктов банка, используемых клиентом\n",
    "- HasCrCard — наличие кредитной карты\n",
    "- IsActiveMember — активность клиента\n",
    "- EstimatedSalary — предполагаемая зарплата\n",
    "\n",
    "**Целевой признак**\n",
    "- Exited — факт ухода клиента"
   ]
  },
  {
   "cell_type": "code",
   "execution_count": 4,
   "metadata": {},
   "outputs": [
    {
     "name": "stdout",
     "output_type": "stream",
     "text": [
      "<class 'pandas.core.frame.DataFrame'>\n",
      "RangeIndex: 10000 entries, 0 to 9999\n",
      "Data columns (total 14 columns):\n",
      " #   Column           Non-Null Count  Dtype  \n",
      "---  ------           --------------  -----  \n",
      " 0   RowNumber        10000 non-null  int64  \n",
      " 1   CustomerId       10000 non-null  int64  \n",
      " 2   Surname          10000 non-null  object \n",
      " 3   CreditScore      10000 non-null  int64  \n",
      " 4   Geography        10000 non-null  object \n",
      " 5   Gender           10000 non-null  object \n",
      " 6   Age              10000 non-null  int64  \n",
      " 7   Tenure           9091 non-null   float64\n",
      " 8   Balance          10000 non-null  float64\n",
      " 9   NumOfProducts    10000 non-null  int64  \n",
      " 10  HasCrCard        10000 non-null  int64  \n",
      " 11  IsActiveMember   10000 non-null  int64  \n",
      " 12  EstimatedSalary  10000 non-null  float64\n",
      " 13  Exited           10000 non-null  int64  \n",
      "dtypes: float64(3), int64(8), object(3)\n",
      "memory usage: 1.1+ MB\n"
     ]
    }
   ],
   "source": [
    "data.info()"
   ]
  },
  {
   "cell_type": "markdown",
   "metadata": {},
   "source": [
    "В этом столбце хранятся только целые значения в float типе данных, для экономии места изменю на int, так же только в этом столбце есть пропуски\n",
    "\n",
    "А переименовать столбцы я не буду, они все названы в одном стиле"
   ]
  },
  {
   "cell_type": "code",
   "execution_count": 5,
   "metadata": {
    "scrolled": false
   },
   "outputs": [
    {
     "data": {
      "text/html": [
       "<div>\n",
       "<style scoped>\n",
       "    .dataframe tbody tr th:only-of-type {\n",
       "        vertical-align: middle;\n",
       "    }\n",
       "\n",
       "    .dataframe tbody tr th {\n",
       "        vertical-align: top;\n",
       "    }\n",
       "\n",
       "    .dataframe thead th {\n",
       "        text-align: right;\n",
       "    }\n",
       "</style>\n",
       "<table border=\"1\" class=\"dataframe\">\n",
       "  <thead>\n",
       "    <tr style=\"text-align: right;\">\n",
       "      <th></th>\n",
       "      <th>RowNumber</th>\n",
       "      <th>CustomerId</th>\n",
       "      <th>CreditScore</th>\n",
       "      <th>Age</th>\n",
       "      <th>Tenure</th>\n",
       "      <th>Balance</th>\n",
       "      <th>NumOfProducts</th>\n",
       "      <th>HasCrCard</th>\n",
       "      <th>IsActiveMember</th>\n",
       "      <th>EstimatedSalary</th>\n",
       "      <th>Exited</th>\n",
       "    </tr>\n",
       "  </thead>\n",
       "  <tbody>\n",
       "    <tr>\n",
       "      <th>count</th>\n",
       "      <td>10000.00000</td>\n",
       "      <td>1.000000e+04</td>\n",
       "      <td>10000.000000</td>\n",
       "      <td>10000.000000</td>\n",
       "      <td>9091.000000</td>\n",
       "      <td>10000.000000</td>\n",
       "      <td>10000.000000</td>\n",
       "      <td>10000.00000</td>\n",
       "      <td>10000.000000</td>\n",
       "      <td>10000.000000</td>\n",
       "      <td>10000.000000</td>\n",
       "    </tr>\n",
       "    <tr>\n",
       "      <th>mean</th>\n",
       "      <td>5000.50000</td>\n",
       "      <td>1.569094e+07</td>\n",
       "      <td>650.528800</td>\n",
       "      <td>38.921800</td>\n",
       "      <td>4.997690</td>\n",
       "      <td>76485.889288</td>\n",
       "      <td>1.530200</td>\n",
       "      <td>0.70550</td>\n",
       "      <td>0.515100</td>\n",
       "      <td>100090.239881</td>\n",
       "      <td>0.203700</td>\n",
       "    </tr>\n",
       "    <tr>\n",
       "      <th>std</th>\n",
       "      <td>2886.89568</td>\n",
       "      <td>7.193619e+04</td>\n",
       "      <td>96.653299</td>\n",
       "      <td>10.487806</td>\n",
       "      <td>2.894723</td>\n",
       "      <td>62397.405202</td>\n",
       "      <td>0.581654</td>\n",
       "      <td>0.45584</td>\n",
       "      <td>0.499797</td>\n",
       "      <td>57510.492818</td>\n",
       "      <td>0.402769</td>\n",
       "    </tr>\n",
       "    <tr>\n",
       "      <th>min</th>\n",
       "      <td>1.00000</td>\n",
       "      <td>1.556570e+07</td>\n",
       "      <td>350.000000</td>\n",
       "      <td>18.000000</td>\n",
       "      <td>0.000000</td>\n",
       "      <td>0.000000</td>\n",
       "      <td>1.000000</td>\n",
       "      <td>0.00000</td>\n",
       "      <td>0.000000</td>\n",
       "      <td>11.580000</td>\n",
       "      <td>0.000000</td>\n",
       "    </tr>\n",
       "    <tr>\n",
       "      <th>25%</th>\n",
       "      <td>2500.75000</td>\n",
       "      <td>1.562853e+07</td>\n",
       "      <td>584.000000</td>\n",
       "      <td>32.000000</td>\n",
       "      <td>2.000000</td>\n",
       "      <td>0.000000</td>\n",
       "      <td>1.000000</td>\n",
       "      <td>0.00000</td>\n",
       "      <td>0.000000</td>\n",
       "      <td>51002.110000</td>\n",
       "      <td>0.000000</td>\n",
       "    </tr>\n",
       "    <tr>\n",
       "      <th>50%</th>\n",
       "      <td>5000.50000</td>\n",
       "      <td>1.569074e+07</td>\n",
       "      <td>652.000000</td>\n",
       "      <td>37.000000</td>\n",
       "      <td>5.000000</td>\n",
       "      <td>97198.540000</td>\n",
       "      <td>1.000000</td>\n",
       "      <td>1.00000</td>\n",
       "      <td>1.000000</td>\n",
       "      <td>100193.915000</td>\n",
       "      <td>0.000000</td>\n",
       "    </tr>\n",
       "    <tr>\n",
       "      <th>75%</th>\n",
       "      <td>7500.25000</td>\n",
       "      <td>1.575323e+07</td>\n",
       "      <td>718.000000</td>\n",
       "      <td>44.000000</td>\n",
       "      <td>7.000000</td>\n",
       "      <td>127644.240000</td>\n",
       "      <td>2.000000</td>\n",
       "      <td>1.00000</td>\n",
       "      <td>1.000000</td>\n",
       "      <td>149388.247500</td>\n",
       "      <td>0.000000</td>\n",
       "    </tr>\n",
       "    <tr>\n",
       "      <th>max</th>\n",
       "      <td>10000.00000</td>\n",
       "      <td>1.581569e+07</td>\n",
       "      <td>850.000000</td>\n",
       "      <td>92.000000</td>\n",
       "      <td>10.000000</td>\n",
       "      <td>250898.090000</td>\n",
       "      <td>4.000000</td>\n",
       "      <td>1.00000</td>\n",
       "      <td>1.000000</td>\n",
       "      <td>199992.480000</td>\n",
       "      <td>1.000000</td>\n",
       "    </tr>\n",
       "  </tbody>\n",
       "</table>\n",
       "</div>"
      ],
      "text/plain": [
       "         RowNumber    CustomerId   CreditScore           Age       Tenure  \\\n",
       "count  10000.00000  1.000000e+04  10000.000000  10000.000000  9091.000000   \n",
       "mean    5000.50000  1.569094e+07    650.528800     38.921800     4.997690   \n",
       "std     2886.89568  7.193619e+04     96.653299     10.487806     2.894723   \n",
       "min        1.00000  1.556570e+07    350.000000     18.000000     0.000000   \n",
       "25%     2500.75000  1.562853e+07    584.000000     32.000000     2.000000   \n",
       "50%     5000.50000  1.569074e+07    652.000000     37.000000     5.000000   \n",
       "75%     7500.25000  1.575323e+07    718.000000     44.000000     7.000000   \n",
       "max    10000.00000  1.581569e+07    850.000000     92.000000    10.000000   \n",
       "\n",
       "             Balance  NumOfProducts    HasCrCard  IsActiveMember  \\\n",
       "count   10000.000000   10000.000000  10000.00000    10000.000000   \n",
       "mean    76485.889288       1.530200      0.70550        0.515100   \n",
       "std     62397.405202       0.581654      0.45584        0.499797   \n",
       "min         0.000000       1.000000      0.00000        0.000000   \n",
       "25%         0.000000       1.000000      0.00000        0.000000   \n",
       "50%     97198.540000       1.000000      1.00000        1.000000   \n",
       "75%    127644.240000       2.000000      1.00000        1.000000   \n",
       "max    250898.090000       4.000000      1.00000        1.000000   \n",
       "\n",
       "       EstimatedSalary        Exited  \n",
       "count     10000.000000  10000.000000  \n",
       "mean     100090.239881      0.203700  \n",
       "std       57510.492818      0.402769  \n",
       "min          11.580000      0.000000  \n",
       "25%       51002.110000      0.000000  \n",
       "50%      100193.915000      0.000000  \n",
       "75%      149388.247500      0.000000  \n",
       "max      199992.480000      1.000000  "
      ]
     },
     "execution_count": 5,
     "metadata": {},
     "output_type": "execute_result"
    }
   ],
   "source": [
    "data.describe()"
   ]
  },
  {
   "cell_type": "markdown",
   "metadata": {},
   "source": [
    "Никаких аномальных значений не выявленно\n",
    "\n",
    "Теперь надо заняться пропусками, они есть только в 1 столбце. В данном случае можно заменить их просто средним или медианным значением, не прибегая к группировке данных"
   ]
  },
  {
   "cell_type": "code",
   "execution_count": 6,
   "metadata": {},
   "outputs": [
    {
     "data": {
      "image/png": "[encoded data removed]",
      "text/plain": [
       "<Figure size 432x288 with 1 Axes>"
      ]
     },
     "metadata": {
      "needs_background": "light"
     },
     "output_type": "display_data"
    }
   ],
   "source": [
    "plt.hist(data['Tenure'], bins=11)\n",
    "plt.xlabel('Количество лет')\n",
    "plt.ylabel('Количество клиентов')\n",
    "plt.title('Гистограмма использования услуг банка')\n",
    "plt.show()"
   ]
  },
  {
   "cell_type": "markdown",
   "metadata": {},
   "source": [
    "Распределение тут похожу на нормальное, значит заполним средним значением"
   ]
  },
  {
   "cell_type": "code",
   "execution_count": 7,
   "metadata": {},
   "outputs": [],
   "source": [
    "data['Tenure'].fillna(data['Tenure'].median(), inplace=True)"
   ]
  },
  {
   "cell_type": "code",
   "execution_count": 8,
   "metadata": {},
   "outputs": [
    {
     "data": {
      "text/plain": [
       "5.0     1836\n",
       "1.0      952\n",
       "2.0      950\n",
       "8.0      933\n",
       "3.0      928\n",
       "7.0      925\n",
       "4.0      885\n",
       "9.0      882\n",
       "6.0      881\n",
       "10.0     446\n",
       "0.0      382\n",
       "Name: Tenure, dtype: int64"
      ]
     },
     "execution_count": 8,
     "metadata": {},
     "output_type": "execute_result"
    }
   ],
   "source": [
    "data.Tenure.value_counts()"
   ]
  },
  {
   "cell_type": "markdown",
   "metadata": {},
   "source": [
    "Когда пропусков нет, удобно заменить тип данных где нужно"
   ]
  },
  {
   "cell_type": "code",
   "execution_count": 9,
   "metadata": {},
   "outputs": [],
   "source": [
    "data['Tenure'] = data['Tenure'].astype(int)"
   ]
  },
  {
   "cell_type": "code",
   "execution_count": 10,
   "metadata": {},
   "outputs": [
    {
     "name": "stdout",
     "output_type": "stream",
     "text": [
      "<class 'pandas.core.frame.DataFrame'>\n",
      "RangeIndex: 10000 entries, 0 to 9999\n",
      "Data columns (total 14 columns):\n",
      " #   Column           Non-Null Count  Dtype  \n",
      "---  ------           --------------  -----  \n",
      " 0   RowNumber        10000 non-null  int64  \n",
      " 1   CustomerId       10000 non-null  int64  \n",
      " 2   Surname          10000 non-null  object \n",
      " 3   CreditScore      10000 non-null  int64  \n",
      " 4   Geography        10000 non-null  object \n",
      " 5   Gender           10000 non-null  object \n",
      " 6   Age              10000 non-null  int64  \n",
      " 7   Tenure           10000 non-null  int64  \n",
      " 8   Balance          10000 non-null  float64\n",
      " 9   NumOfProducts    10000 non-null  int64  \n",
      " 10  HasCrCard        10000 non-null  int64  \n",
      " 11  IsActiveMember   10000 non-null  int64  \n",
      " 12  EstimatedSalary  10000 non-null  float64\n",
      " 13  Exited           10000 non-null  int64  \n",
      "dtypes: float64(2), int64(9), object(3)\n",
      "memory usage: 1.1+ MB\n"
     ]
    }
   ],
   "source": [
    "data.info()"
   ]
  },
  {
   "cell_type": "markdown",
   "metadata": {},
   "source": [
    "Осталось посмотреть на наличие дубликатов"
   ]
  },
  {
   "cell_type": "markdown",
   "metadata": {},
   "source": [
    "Явные:"
   ]
  },
  {
   "cell_type": "code",
   "execution_count": 11,
   "metadata": {},
   "outputs": [
    {
     "data": {
      "text/plain": [
       "0"
      ]
     },
     "execution_count": 11,
     "metadata": {},
     "output_type": "execute_result"
    }
   ],
   "source": [
    "data.duplicated().sum()"
   ]
  },
  {
   "cell_type": "markdown",
   "metadata": {},
   "source": [
    "Не явные:"
   ]
  },
  {
   "cell_type": "markdown",
   "metadata": {},
   "source": [
    "Проверка по совпадению фамилии"
   ]
  },
  {
   "cell_type": "code",
   "execution_count": 12,
   "metadata": {},
   "outputs": [
    {
     "data": {
      "text/plain": [
       "0"
      ]
     },
     "execution_count": 12,
     "metadata": {},
     "output_type": "execute_result"
    }
   ],
   "source": [
    "data['CustomerId'].duplicated().sum()"
   ]
  },
  {
   "cell_type": "code",
   "execution_count": 13,
   "metadata": {},
   "outputs": [
    {
     "data": {
      "text/plain": [
       "596"
      ]
     },
     "execution_count": 13,
     "metadata": {},
     "output_type": "execute_result"
    }
   ],
   "source": [
    "data[['Surname', 'Age', 'Gender']].duplicated().sum()\n"
   ]
  },
  {
   "cell_type": "markdown",
   "metadata": {},
   "source": [
    "Это возможноные дубликаты, однако, буду придерживаться данным и признаку ID. Оставлю без изменений. Но показать на возможность должен"
   ]
  },
  {
   "cell_type": "markdown",
   "metadata": {},
   "source": [
    "Теперь данные готовы к анализу"
   ]
  },
  {
   "cell_type": "markdown",
   "metadata": {},
   "source": [
    "У нас явная задачи классификации. Перед обучением модели следует заняться подготовкой признаков\n",
    "\n",
    "Тк у нас есть категориальные признаки, займемся преобразованием их в численные\n",
    "\n",
    "Я буду использовать технику прямого кодрирования, тк я собираюсь найти лучшую модель из 3 - логистическая регрессия, дерево и случайный лес. для логистической регрессии нужно прямое кодирование, чтобы не было линейнозависых переменных и так она признаки вставляет в формулу. а для других моделей выше не важно, какая техника будет использована\n"
   ]
  },
  {
   "cell_type": "markdown",
   "metadata": {},
   "source": [
    "Но перед этим я уберу столбцы с ID, фамилией и номером строки, они никак не помогут"
   ]
  },
  {
   "cell_type": "code",
   "execution_count": 14,
   "metadata": {},
   "outputs": [],
   "source": [
    "data.drop(['RowNumber', 'CustomerId', 'Surname'], axis=1, inplace=True)"
   ]
  },
  {
   "cell_type": "markdown",
   "metadata": {},
   "source": [
    "**Создаю выборки**"
   ]
  },
  {
   "cell_type": "code",
   "execution_count": 15,
   "metadata": {},
   "outputs": [
    {
     "name": "stdout",
     "output_type": "stream",
     "text": [
      "      CreditScore  Geography  Gender  Age  Tenure    Balance  NumOfProducts  \\\n",
      "6331          629        1.0     1.0   35       8  112330.83              1   \n",
      "8201          718        2.0     0.0   49      10   82321.88              1   \n",
      "3109          850        1.0     0.0   47      10  134381.52              1   \n",
      "4773          646        1.0     0.0   35       1  121952.75              2   \n",
      "8881          744        0.0     1.0   29       1   43504.42              1   \n",
      "\n",
      "      HasCrCard  IsActiveMember  EstimatedSalary  \n",
      "6331          1               1         91001.02  \n",
      "8201          0               1         11144.40  \n",
      "3109          0               0         26812.89  \n",
      "4773          1               1        142839.82  \n",
      "8881          1               1        119327.75  \n"
     ]
    },
    {
     "name": "stderr",
     "output_type": "stream",
     "text": [
      "/tmp/ipykernel_108/3678599840.py:14: SettingWithCopyWarning: \n",
      "A value is trying to be set on a copy of a slice from a DataFrame.\n",
      "Try using .loc[row_indexer,col_indexer] = value instead\n",
      "\n",
      "See the caveats in the documentation: https://pandas.pydata.org/pandas-docs/stable/user_guide/indexing.html#returning-a-view-versus-a-copy\n",
      "  features_train[['Gender', 'Geography']] = encoder.transform(features_train[['Gender', 'Geography']])\n",
      "/opt/conda/lib/python3.9/site-packages/pandas/core/indexing.py:1738: SettingWithCopyWarning: \n",
      "A value is trying to be set on a copy of a slice from a DataFrame.\n",
      "Try using .loc[row_indexer,col_indexer] = value instead\n",
      "\n",
      "See the caveats in the documentation: https://pandas.pydata.org/pandas-docs/stable/user_guide/indexing.html#returning-a-view-versus-a-copy\n",
      "  self._setitem_single_column(loc, value[:, i].tolist(), pi)\n",
      "/tmp/ipykernel_108/3678599840.py:15: SettingWithCopyWarning: \n",
      "A value is trying to be set on a copy of a slice from a DataFrame.\n",
      "Try using .loc[row_indexer,col_indexer] = value instead\n",
      "\n",
      "See the caveats in the documentation: https://pandas.pydata.org/pandas-docs/stable/user_guide/indexing.html#returning-a-view-versus-a-copy\n",
      "  features_valid[['Gender', 'Geography']] = encoder.transform(features_valid[['Gender', 'Geography']])\n",
      "/opt/conda/lib/python3.9/site-packages/pandas/core/indexing.py:1738: SettingWithCopyWarning: \n",
      "A value is trying to be set on a copy of a slice from a DataFrame.\n",
      "Try using .loc[row_indexer,col_indexer] = value instead\n",
      "\n",
      "See the caveats in the documentation: https://pandas.pydata.org/pandas-docs/stable/user_guide/indexing.html#returning-a-view-versus-a-copy\n",
      "  self._setitem_single_column(loc, value[:, i].tolist(), pi)\n",
      "/tmp/ipykernel_108/3678599840.py:16: SettingWithCopyWarning: \n",
      "A value is trying to be set on a copy of a slice from a DataFrame.\n",
      "Try using .loc[row_indexer,col_indexer] = value instead\n",
      "\n",
      "See the caveats in the documentation: https://pandas.pydata.org/pandas-docs/stable/user_guide/indexing.html#returning-a-view-versus-a-copy\n",
      "  features_test[['Gender', 'Geography']] = encoder.transform(features_test[['Gender', 'Geography']])\n",
      "/opt/conda/lib/python3.9/site-packages/pandas/core/indexing.py:1738: SettingWithCopyWarning: \n",
      "A value is trying to be set on a copy of a slice from a DataFrame.\n",
      "Try using .loc[row_indexer,col_indexer] = value instead\n",
      "\n",
      "See the caveats in the documentation: https://pandas.pydata.org/pandas-docs/stable/user_guide/indexing.html#returning-a-view-versus-a-copy\n",
      "  self._setitem_single_column(loc, value[:, i].tolist(), pi)\n"
     ]
    }
   ],
   "source": [
    "\n",
    "\n",
    "target = data['Exited']\n",
    "features = data.drop('Exited', axis=1)\n",
    "features_train, features_new, target_train, target_new = train_test_split(\n",
    "    features, target, test_size=0.5, random_state=12345)\n",
    "\n",
    "features_valid, features_test, target_valid, target_test = train_test_split(\n",
    "    features_new, target_new, test_size=0.5, random_state=12345)\n",
    "\n",
    "\n",
    "encoder = OrdinalEncoder()\n",
    "encoder.fit(features_train[['Gender', 'Geography']])\n",
    "\n",
    "\n",
    "features_train[['Gender', 'Geography']] = encoder.transform(features_train[['Gender', 'Geography']])\n",
    "features_valid[['Gender', 'Geography']] = encoder.transform(features_valid[['Gender', 'Geography']])\n",
    "features_test[['Gender', 'Geography']] = encoder.transform(features_test[['Gender', 'Geography']])\n",
    "print(features_train.head())\n",
    "scaler = StandardScaler()"
   ]
  },
  {
   "cell_type": "code",
   "execution_count": 16,
   "metadata": {},
   "outputs": [
    {
     "name": "stdout",
     "output_type": "stream",
     "text": [
      "<class 'pandas.core.frame.DataFrame'>\n",
      "RangeIndex: 10000 entries, 0 to 9999\n",
      "Data columns (total 11 columns):\n",
      " #   Column           Non-Null Count  Dtype  \n",
      "---  ------           --------------  -----  \n",
      " 0   CreditScore      10000 non-null  int64  \n",
      " 1   Geography        10000 non-null  object \n",
      " 2   Gender           10000 non-null  object \n",
      " 3   Age              10000 non-null  int64  \n",
      " 4   Tenure           10000 non-null  int64  \n",
      " 5   Balance          10000 non-null  float64\n",
      " 6   NumOfProducts    10000 non-null  int64  \n",
      " 7   HasCrCard        10000 non-null  int64  \n",
      " 8   IsActiveMember   10000 non-null  int64  \n",
      " 9   EstimatedSalary  10000 non-null  float64\n",
      " 10  Exited           10000 non-null  int64  \n",
      "dtypes: float64(2), int64(7), object(2)\n",
      "memory usage: 859.5+ KB\n"
     ]
    }
   ],
   "source": [
    "data.info()"
   ]
  },
  {
   "cell_type": "code",
   "execution_count": 17,
   "metadata": {
    "scrolled": true
   },
   "outputs": [
    {
     "data": {
      "text/html": [
       "<div>\n",
       "<style scoped>\n",
       "    .dataframe tbody tr th:only-of-type {\n",
       "        vertical-align: middle;\n",
       "    }\n",
       "\n",
       "    .dataframe tbody tr th {\n",
       "        vertical-align: top;\n",
       "    }\n",
       "\n",
       "    .dataframe thead th {\n",
       "        text-align: right;\n",
       "    }\n",
       "</style>\n",
       "<table border=\"1\" class=\"dataframe\">\n",
       "  <thead>\n",
       "    <tr style=\"text-align: right;\">\n",
       "      <th></th>\n",
       "      <th>CreditScore</th>\n",
       "      <th>Geography</th>\n",
       "      <th>Gender</th>\n",
       "      <th>Age</th>\n",
       "      <th>Tenure</th>\n",
       "      <th>Balance</th>\n",
       "      <th>NumOfProducts</th>\n",
       "      <th>HasCrCard</th>\n",
       "      <th>IsActiveMember</th>\n",
       "      <th>EstimatedSalary</th>\n",
       "    </tr>\n",
       "  </thead>\n",
       "  <tbody>\n",
       "    <tr>\n",
       "      <th>6331</th>\n",
       "      <td>-0.239180</td>\n",
       "      <td>1.0</td>\n",
       "      <td>1.0</td>\n",
       "      <td>-0.374637</td>\n",
       "      <td>1.091632</td>\n",
       "      <td>0.572035</td>\n",
       "      <td>-0.885763</td>\n",
       "      <td>1</td>\n",
       "      <td>1</td>\n",
       "      <td>-0.140281</td>\n",
       "    </tr>\n",
       "    <tr>\n",
       "      <th>8201</th>\n",
       "      <td>0.685393</td>\n",
       "      <td>2.0</td>\n",
       "      <td>0.0</td>\n",
       "      <td>0.953729</td>\n",
       "      <td>1.823289</td>\n",
       "      <td>0.089503</td>\n",
       "      <td>-0.885763</td>\n",
       "      <td>0</td>\n",
       "      <td>1</td>\n",
       "      <td>-1.526589</td>\n",
       "    </tr>\n",
       "    <tr>\n",
       "      <th>3109</th>\n",
       "      <td>2.056669</td>\n",
       "      <td>1.0</td>\n",
       "      <td>0.0</td>\n",
       "      <td>0.763962</td>\n",
       "      <td>1.823289</td>\n",
       "      <td>0.926601</td>\n",
       "      <td>-0.885763</td>\n",
       "      <td>0</td>\n",
       "      <td>0</td>\n",
       "      <td>-1.254584</td>\n",
       "    </tr>\n",
       "    <tr>\n",
       "      <th>4773</th>\n",
       "      <td>-0.062576</td>\n",
       "      <td>1.0</td>\n",
       "      <td>0.0</td>\n",
       "      <td>-0.374637</td>\n",
       "      <td>-1.469167</td>\n",
       "      <td>0.726751</td>\n",
       "      <td>0.844919</td>\n",
       "      <td>1</td>\n",
       "      <td>1</td>\n",
       "      <td>0.759638</td>\n",
       "    </tr>\n",
       "    <tr>\n",
       "      <th>8881</th>\n",
       "      <td>0.955493</td>\n",
       "      <td>0.0</td>\n",
       "      <td>1.0</td>\n",
       "      <td>-0.943937</td>\n",
       "      <td>-1.469167</td>\n",
       "      <td>-0.534666</td>\n",
       "      <td>-0.885763</td>\n",
       "      <td>1</td>\n",
       "      <td>1</td>\n",
       "      <td>0.351470</td>\n",
       "    </tr>\n",
       "    <tr>\n",
       "      <th>...</th>\n",
       "      <td>...</td>\n",
       "      <td>...</td>\n",
       "      <td>...</td>\n",
       "      <td>...</td>\n",
       "      <td>...</td>\n",
       "      <td>...</td>\n",
       "      <td>...</td>\n",
       "      <td>...</td>\n",
       "      <td>...</td>\n",
       "      <td>...</td>\n",
       "    </tr>\n",
       "    <tr>\n",
       "      <th>4478</th>\n",
       "      <td>-1.070256</td>\n",
       "      <td>0.0</td>\n",
       "      <td>1.0</td>\n",
       "      <td>-0.754170</td>\n",
       "      <td>-0.371682</td>\n",
       "      <td>-1.234200</td>\n",
       "      <td>0.844919</td>\n",
       "      <td>0</td>\n",
       "      <td>1</td>\n",
       "      <td>-1.274167</td>\n",
       "    </tr>\n",
       "    <tr>\n",
       "      <th>4094</th>\n",
       "      <td>-1.444241</td>\n",
       "      <td>0.0</td>\n",
       "      <td>1.0</td>\n",
       "      <td>-0.943937</td>\n",
       "      <td>1.823289</td>\n",
       "      <td>-1.234200</td>\n",
       "      <td>0.844919</td>\n",
       "      <td>0</td>\n",
       "      <td>1</td>\n",
       "      <td>-1.277120</td>\n",
       "    </tr>\n",
       "    <tr>\n",
       "      <th>3492</th>\n",
       "      <td>0.030920</td>\n",
       "      <td>0.0</td>\n",
       "      <td>0.0</td>\n",
       "      <td>0.574196</td>\n",
       "      <td>-0.005853</td>\n",
       "      <td>-0.312404</td>\n",
       "      <td>-0.885763</td>\n",
       "      <td>0</td>\n",
       "      <td>1</td>\n",
       "      <td>-0.898078</td>\n",
       "    </tr>\n",
       "    <tr>\n",
       "      <th>2177</th>\n",
       "      <td>0.155582</td>\n",
       "      <td>0.0</td>\n",
       "      <td>0.0</td>\n",
       "      <td>-1.418353</td>\n",
       "      <td>-0.371682</td>\n",
       "      <td>-1.234200</td>\n",
       "      <td>0.844919</td>\n",
       "      <td>0</td>\n",
       "      <td>1</td>\n",
       "      <td>-1.123991</td>\n",
       "    </tr>\n",
       "    <tr>\n",
       "      <th>4578</th>\n",
       "      <td>0.404905</td>\n",
       "      <td>0.0</td>\n",
       "      <td>1.0</td>\n",
       "      <td>-0.089987</td>\n",
       "      <td>-1.469167</td>\n",
       "      <td>-1.234200</td>\n",
       "      <td>0.844919</td>\n",
       "      <td>0</td>\n",
       "      <td>0</td>\n",
       "      <td>-0.944872</td>\n",
       "    </tr>\n",
       "  </tbody>\n",
       "</table>\n",
       "<p>5000 rows × 10 columns</p>\n",
       "</div>"
      ],
      "text/plain": [
       "      CreditScore  Geography  Gender       Age    Tenure   Balance  \\\n",
       "6331    -0.239180        1.0     1.0 -0.374637  1.091632  0.572035   \n",
       "8201     0.685393        2.0     0.0  0.953729  1.823289  0.089503   \n",
       "3109     2.056669        1.0     0.0  0.763962  1.823289  0.926601   \n",
       "4773    -0.062576        1.0     0.0 -0.374637 -1.469167  0.726751   \n",
       "8881     0.955493        0.0     1.0 -0.943937 -1.469167 -0.534666   \n",
       "...           ...        ...     ...       ...       ...       ...   \n",
       "4478    -1.070256        0.0     1.0 -0.754170 -0.371682 -1.234200   \n",
       "4094    -1.444241        0.0     1.0 -0.943937  1.823289 -1.234200   \n",
       "3492     0.030920        0.0     0.0  0.574196 -0.005853 -0.312404   \n",
       "2177     0.155582        0.0     0.0 -1.418353 -0.371682 -1.234200   \n",
       "4578     0.404905        0.0     1.0 -0.089987 -1.469167 -1.234200   \n",
       "\n",
       "      NumOfProducts  HasCrCard  IsActiveMember  EstimatedSalary  \n",
       "6331      -0.885763          1               1        -0.140281  \n",
       "8201      -0.885763          0               1        -1.526589  \n",
       "3109      -0.885763          0               0        -1.254584  \n",
       "4773       0.844919          1               1         0.759638  \n",
       "8881      -0.885763          1               1         0.351470  \n",
       "...             ...        ...             ...              ...  \n",
       "4478       0.844919          0               1        -1.274167  \n",
       "4094       0.844919          0               1        -1.277120  \n",
       "3492      -0.885763          0               1        -0.898078  \n",
       "2177       0.844919          0               1        -1.123991  \n",
       "4578       0.844919          0               0        -0.944872  \n",
       "\n",
       "[5000 rows x 10 columns]"
      ]
     },
     "metadata": {},
     "output_type": "display_data"
    }
   ],
   "source": [
    "numeric = ['CreditScore', 'Age', 'Tenure', 'Balance', 'NumOfProducts', 'EstimatedSalary']\n",
    "scaler.fit(features_train[numeric])\n",
    "\n",
    "pd.options.mode.chained_assignment = None \n",
    "features_train.loc[:, numeric] = scaler.transform(features_train.loc[:, numeric])\n",
    "features_valid.loc[:, numeric] = scaler.transform(features_valid.loc[:, numeric])\n",
    "features_test.loc[:, numeric] = scaler.transform(features_test.loc[:, numeric])\n",
    "\n",
    "# Масштабирование числовых признаков в обучающей выборке\n",
    "\n",
    "display(features_train)"
   ]
  },
  {
   "cell_type": "markdown",
   "metadata": {},
   "source": [
    "## Исследование задачи"
   ]
  },
  {
   "cell_type": "code",
   "execution_count": 18,
   "metadata": {},
   "outputs": [
    {
     "data": {
      "text/plain": [
       "1016"
      ]
     },
     "execution_count": 18,
     "metadata": {},
     "output_type": "execute_result"
    }
   ],
   "source": [
    "\n",
    "target_train[target_train == 1].count()"
   ]
  },
  {
   "cell_type": "code",
   "execution_count": 19,
   "metadata": {},
   "outputs": [
    {
     "data": {
      "text/plain": [
       "3984"
      ]
     },
     "execution_count": 19,
     "metadata": {},
     "output_type": "execute_result"
    }
   ],
   "source": [
    "target_train[target_train == 0].count()"
   ]
  },
  {
   "cell_type": "markdown",
   "metadata": {},
   "source": [
    "Виден диссбаланс классов. для начала обучу модели игнорируя его\n",
    "\n",
    "Буду использовать три модели\n",
    "- Дерево решений\n",
    "- Случайный лес\n",
    "- Логистическая регрессия.\n"
   ]
  },
  {
   "cell_type": "markdown",
   "metadata": {},
   "source": [
    "Начну с решающего дерева и подбора ему гиперпараметра глубины"
   ]
  },
  {
   "cell_type": "code",
   "execution_count": 20,
   "metadata": {},
   "outputs": [
    {
     "name": "stdout",
     "output_type": "stream",
     "text": [
      "Лучшая F1-мера: 0.5264452644526445\n",
      "Лучшее значение max_depth: 5\n"
     ]
    },
    {
     "data": {
      "text/plain": [
       "array([[1705,  287],\n",
       "       [ 251,  257]])"
      ]
     },
     "execution_count": 20,
     "metadata": {},
     "output_type": "execute_result"
    }
   ],
   "source": [
    "best_f1_score = 0\n",
    "best_max_depth = 0\n",
    "\n",
    "for max_depth in range(1, 21):  \n",
    "    model = DecisionTreeClassifier(max_depth=max_depth, random_state=12345)\n",
    "    model.fit(features_train, target_train)\n",
    "    predictions = model.predict(features_valid)\n",
    "    f1 = f1_score(target_valid, predictions)\n",
    "    \n",
    "    if f1 > best_f1_score:\n",
    "        best_f1_score = f1\n",
    "        best_max_depth = max_depth\n",
    "\n",
    "print(\"Лучшая F1-мера:\", best_f1_score)\n",
    "print(\"Лучшее значение max_depth:\", best_max_depth)\n",
    "confusion_matrix(target_valid, predictions)"
   ]
  },
  {
   "cell_type": "markdown",
   "metadata": {},
   "source": [
    "0.52, мало, но это еще не все. Вдабаок вывел матрицу ошибок для сравнения с моделью учитывающей баланс классов"
   ]
  },
  {
   "cell_type": "code",
   "execution_count": 21,
   "metadata": {},
   "outputs": [
    {
     "name": "stdout",
     "output_type": "stream",
     "text": [
      "Лучшая F1-мера: 0.5440414507772021\n",
      "Лучшее количество деревьев (n_estimators): 90\n",
      "Лучшая максимальная глубина деревьев (max_depth): 10\n"
     ]
    },
    {
     "data": {
      "text/plain": [
       "array([[1938,   54],\n",
       "       [ 299,  209]])"
      ]
     },
     "execution_count": 21,
     "metadata": {},
     "output_type": "execute_result"
    }
   ],
   "source": [
    "best_f1_score = 0\n",
    "best_n_estimators = 0\n",
    "best_max_depth = 0\n",
    "\n",
    "for n_estimators in range(10, 101, 10):  \n",
    "    for max_depth in range(1, 11):  \n",
    "        model = RandomForestClassifier(n_estimators=n_estimators, max_depth=max_depth, random_state=12345)\n",
    "        model.fit(features_train, target_train)\n",
    "        predictions = model.predict(features_valid)\n",
    "        f1 = f1_score(target_valid, predictions)\n",
    "        \n",
    "        if f1 > best_f1_score:\n",
    "            best_f1_score = f1\n",
    "            best_n_estimators = n_estimators\n",
    "            best_max_depth = max_depth\n",
    "\n",
    "print(\"Лучшая F1-мера:\", best_f1_score)\n",
    "print(\"Лучшее количество деревьев (n_estimators):\", best_n_estimators)\n",
    "print(\"Лучшая максимальная глубина деревьев (max_depth):\", best_max_depth)\n",
    "confusion_matrix(target_valid, predictions)"
   ]
  },
  {
   "cell_type": "markdown",
   "metadata": {},
   "source": [
    "В случаном лесе ситуация получше, но не сильно. FP намного меньше, но немного больше FN"
   ]
  },
  {
   "cell_type": "markdown",
   "metadata": {},
   "source": [
    "Тут совсем ужас, буду держать внимание на лесе"
   ]
  },
  {
   "cell_type": "markdown",
   "metadata": {},
   "source": [
    "Пора заняться баансом классов\n",
    "\n",
    "**Итог**\n",
    "\n",
    "Ожидаемо, при дисбалансе видим низкий показатель F-1 меры для моделей, несмотря на подбор гиперпараметров для разных моеделй и на масштабированные признаки для всего датафрейма. Accuracy я не смотрел, тк она плохо работает с несбалансированными классами. теперь нужно их сбалансировать."
   ]
  },
  {
   "cell_type": "markdown",
   "metadata": {},
   "source": [
    "## Борьба с дисбалансом"
   ]
  },
  {
   "cell_type": "code",
   "execution_count": 22,
   "metadata": {},
   "outputs": [
    {
     "name": "stdout",
     "output_type": "stream",
     "text": [
      "Лучшая F1-мера: 0.5421511627906976\n",
      "Лучшее значение max_depth: 5\n"
     ]
    },
    {
     "data": {
      "text/plain": [
       "array([[1713,  279],\n",
       "       [ 274,  234]])"
      ]
     },
     "execution_count": 22,
     "metadata": {},
     "output_type": "execute_result"
    }
   ],
   "source": [
    "\n",
    "best_f1_score = 0\n",
    "best_max_depth = 0\n",
    "\n",
    "for max_depth in range(1, 21):\n",
    "    model = DecisionTreeClassifier(class_weight='balanced', max_depth=max_depth, random_state=12345)\n",
    "    model.fit(features_train, target_train)\n",
    "    predictions = model.predict(features_valid)\n",
    "    f1 = f1_score(target_valid, predictions)\n",
    "    \n",
    "    if f1 > best_f1_score:\n",
    "        best_f1_score = f1\n",
    "        best_max_depth = max_depth\n",
    "\n",
    "print(\"Лучшая F1-мера:\", best_f1_score)\n",
    "print(\"Лучшее значение max_depth:\", best_max_depth)\n",
    "confusion_matrix(target_valid, predictions)\n",
    "\n"
   ]
  },
  {
   "cell_type": "markdown",
   "metadata": {},
   "source": [
    "Теперь дерево работает лучше, чем несбалансированный лес. FP упал, но PN поднялся, это понятно. они взаимосвязаный и не могут быть низкими вместе"
   ]
  },
  {
   "cell_type": "code",
   "execution_count": 23,
   "metadata": {},
   "outputs": [
    {
     "name": "stdout",
     "output_type": "stream",
     "text": [
      "Лучшая F1-мера: 0.5922920892494928\n",
      "Лучшее количество деревьев (n_estimators): 100\n",
      "Лучшая максимальная глубина деревьев (max_depth): 10\n"
     ]
    },
    {
     "data": {
      "text/plain": [
       "array([[1806,  186],\n",
       "       [ 216,  292]])"
      ]
     },
     "execution_count": 23,
     "metadata": {},
     "output_type": "execute_result"
    }
   ],
   "source": [
    "best_f1_score = 0\n",
    "best_n_estimators = 0\n",
    "best_max_depth = 0\n",
    "\n",
    "for n_estimators in range(10, 101, 10):  \n",
    "    for max_depth in range(1, 11): \n",
    "        model = RandomForestClassifier(class_weight='balanced',n_estimators=n_estimators, max_depth=max_depth, random_state=12345)\n",
    "        model.fit(features_train, target_train)\n",
    "        predictions = model.predict(features_valid)\n",
    "        f1 = f1_score(target_valid, predictions)\n",
    "        \n",
    "        if f1 > best_f1_score:\n",
    "            best_f1_score = f1\n",
    "            best_n_estimators = n_estimators\n",
    "            best_max_depth = max_depth\n",
    "\n",
    "print(\"Лучшая F1-мера:\", best_f1_score)\n",
    "print(\"Лучшее количество деревьев (n_estimators):\", best_n_estimators)\n",
    "print(\"Лучшая максимальная глубина деревьев (max_depth):\", best_max_depth)\n",
    "confusion_matrix(target_valid, predictions)\n"
   ]
  },
  {
   "cell_type": "markdown",
   "metadata": {},
   "source": [
    "Определенно снова фаворит. далеко не идеальная и не отличная точность, но требуют чуть меньше этой, так что подходит"
   ]
  },
  {
   "cell_type": "markdown",
   "metadata": {},
   "source": [
    "Хорошо, попробую другие методы"
   ]
  },
  {
   "cell_type": "code",
   "execution_count": 24,
   "metadata": {},
   "outputs": [],
   "source": [
    "def upsample(features, target, repeat):\n",
    "    features_zeros = features[target == 0]\n",
    "    features_ones = features[target == 1]\n",
    "    target_zeros = target[target == 0]\n",
    "    target_ones = target[target == 1]\n",
    "\n",
    "    features_upsampled = pd.concat([features_zeros] + [features_ones] * repeat)\n",
    "    target_upsampled = pd.concat([target_zeros] + [target_ones] * repeat)\n",
    "    \n",
    "    features_upsampled, target_upsampled = shuffle(\n",
    "        features_upsampled, target_upsampled, random_state=12345)\n",
    "    \n",
    "    return features_upsampled, target_upsampled"
   ]
  },
  {
   "cell_type": "code",
   "execution_count": 25,
   "metadata": {},
   "outputs": [
    {
     "name": "stdout",
     "output_type": "stream",
     "text": [
      "Лучшая F1-мера: 0.5922920892494928\n",
      "Лучшее количество деревьев (n_estimators): 100\n",
      "Лучшая максимальная глубина деревьев (max_depth): 10\n"
     ]
    },
    {
     "data": {
      "text/plain": [
       "array([[ 350, 1642],\n",
       "       [  19,  489]])"
      ]
     },
     "execution_count": 25,
     "metadata": {},
     "output_type": "execute_result"
    }
   ],
   "source": [
    "from sklearn.utils import shuffle\n",
    "features_upsampled, target_upsampled = upsample(features_train, target_train, 400)\n",
    "\n",
    "# < напишите код здесь >\n",
    "for n_estimators in range(10, 101, 10):  \n",
    "    for max_depth in range(1, 11): \n",
    "        model = RandomForestClassifier(n_estimators=n_estimators, max_depth=max_depth, random_state=12345)\n",
    "        model.fit(features_upsampled, target_upsampled)\n",
    "        predictions = model.predict(features_valid)\n",
    "        f1 = f1_score(target_valid, predictions)\n",
    "        \n",
    "        if f1 > best_f1_score:\n",
    "            best_f1_score = f1\n",
    "            best_n_estimators = n_estimators\n",
    "            best_max_depth = max_depth\n",
    "\n",
    "print(\"Лучшая F1-мера:\", best_f1_score)\n",
    "print(\"Лучшее количество деревьев (n_estimators):\", best_n_estimators)\n",
    "print(\"Лучшая максимальная глубина деревьев (max_depth):\", best_max_depth)\n",
    "confusion_matrix(target_valid, predictions)"
   ]
  },
  {
   "cell_type": "code",
   "execution_count": 26,
   "metadata": {},
   "outputs": [
    {
     "data": {
      "text/plain": [
       "406400"
      ]
     },
     "execution_count": 26,
     "metadata": {},
     "output_type": "execute_result"
    }
   ],
   "source": [
    "target_upsampled[target_upsampled == 1].count()"
   ]
  },
  {
   "cell_type": "code",
   "execution_count": 27,
   "metadata": {},
   "outputs": [
    {
     "data": {
      "text/plain": [
       "3984"
      ]
     },
     "execution_count": 27,
     "metadata": {},
     "output_type": "execute_result"
    }
   ],
   "source": [
    "target_upsampled[target_upsampled == 0].count()"
   ]
  },
  {
   "cell_type": "markdown",
   "metadata": {},
   "source": [
    "## Тестирование модели"
   ]
  },
  {
   "cell_type": "code",
   "execution_count": 28,
   "metadata": {},
   "outputs": [
    {
     "name": "stdout",
     "output_type": "stream",
     "text": [
      "Лучшая F1-мера: 0.6195761856710394\n"
     ]
    },
    {
     "data": {
      "text/plain": [
       "array([[1816,  171],\n",
       "       [ 206,  307]])"
      ]
     },
     "execution_count": 28,
     "metadata": {},
     "output_type": "execute_result"
    }
   ],
   "source": [
    "forest = RandomForestClassifier(class_weight='balanced',n_estimators=best_n_estimators, max_depth=best_max_depth, random_state=12345)\n",
    "forest.fit(features_train, target_train)\n",
    "predictions = forest.predict(features_test)\n",
    "f1 = f1_score(target_test, predictions)\n",
    "        \n",
    "print(\"Лучшая F1-мера:\", f1)\n",
    "\n",
    "confusion_matrix(target_test, predictions)\n"
   ]
  },
  {
   "cell_type": "markdown",
   "metadata": {},
   "source": [
    "Да, то что нужно, лес справился. потребовалось многое сделать для достижения результата, но в итоге получили ожидаемый результат"
   ]
  },
  {
   "cell_type": "markdown",
   "metadata": {},
   "source": [
    "**Итог**\n",
    "\n",
    "- Обнаружил пропуски в признаке Tenure и заполнил средним, тк данные расположены примерно нормально\n",
    "- Заменил тип данных в этом столбце для экономии памяти\n",
    "- Масштабировал признаки, чтобы не сбивать модели разным диапазоном разных признаков \n",
    "- Проверил точность моделей с помощью F-1 для несбалансированных классов, результат ожидаемо плох\n",
    "- Сбалансировал классы, для повышения точности модели\n",
    "- Подобрал гиперпарамтры для повышения точности модели\n",
    "- На тестовой выборе добился требуемого результата с помощью модели случайного леса с гиперпараметрами - глубина 8 и со 100 деревьями"
   ]
  }
 ],
 "metadata": {
  "ExecuteTimeLog": [
   {
    "duration": 42,
    "start_time": "2023-06-07T11:29:47.263Z"
   },
   {
    "duration": 348,
    "start_time": "2023-06-07T11:29:51.422Z"
   },
   {
    "duration": 207,
    "start_time": "2023-06-07T11:29:51.884Z"
   },
   {
    "duration": 67,
    "start_time": "2023-06-07T11:30:01.256Z"
   },
   {
    "duration": 65,
    "start_time": "2023-06-07T11:30:07.165Z"
   },
   {
    "duration": 3,
    "start_time": "2023-06-07T11:30:34.399Z"
   },
   {
    "duration": 2,
    "start_time": "2023-06-07T11:30:38.902Z"
   },
   {
    "duration": 4,
    "start_time": "2023-06-07T11:32:26.098Z"
   },
   {
    "duration": 13,
    "start_time": "2023-06-07T11:33:39.748Z"
   },
   {
    "duration": 9,
    "start_time": "2023-06-07T11:46:41.077Z"
   },
   {
    "duration": 1256,
    "start_time": "2023-06-07T11:49:48.294Z"
   },
   {
    "duration": 6,
    "start_time": "2023-06-07T11:50:08.759Z"
   },
   {
    "duration": 8,
    "start_time": "2023-06-07T11:50:18.439Z"
   },
   {
    "duration": 7,
    "start_time": "2023-06-07T11:50:24.293Z"
   },
   {
    "duration": 7,
    "start_time": "2023-06-07T11:50:51.099Z"
   },
   {
    "duration": 4,
    "start_time": "2023-06-07T11:51:15.245Z"
   },
   {
    "duration": 5,
    "start_time": "2023-06-07T11:59:47.708Z"
   },
   {
    "duration": 5,
    "start_time": "2023-06-07T11:59:55.114Z"
   },
   {
    "duration": 5,
    "start_time": "2023-06-07T11:59:57.745Z"
   },
   {
    "duration": 4,
    "start_time": "2023-06-07T12:00:16.801Z"
   },
   {
    "duration": 12,
    "start_time": "2023-06-07T12:04:26.271Z"
   },
   {
    "duration": 12,
    "start_time": "2023-06-07T12:04:33.952Z"
   },
   {
    "duration": 4,
    "start_time": "2023-06-07T12:10:42.705Z"
   },
   {
    "duration": 14,
    "start_time": "2023-06-07T12:10:48.752Z"
   },
   {
    "duration": 391,
    "start_time": "2023-06-07T12:20:37.134Z"
   },
   {
    "duration": 106,
    "start_time": "2023-06-07T12:20:37.528Z"
   },
   {
    "duration": 16,
    "start_time": "2023-06-07T12:20:37.636Z"
   },
   {
    "duration": 5,
    "start_time": "2023-06-07T12:20:37.654Z"
   },
   {
    "duration": 432,
    "start_time": "2023-06-07T12:21:06.666Z"
   },
   {
    "duration": 90,
    "start_time": "2023-06-07T12:21:07.102Z"
   },
   {
    "duration": 14,
    "start_time": "2023-06-07T12:21:07.199Z"
   },
   {
    "duration": 45,
    "start_time": "2023-06-07T12:21:07.215Z"
   },
   {
    "duration": 43,
    "start_time": "2023-06-07T12:24:58.688Z"
   },
   {
    "duration": 52,
    "start_time": "2023-06-09T05:35:36.037Z"
   },
   {
    "duration": 434,
    "start_time": "2023-06-09T05:35:44.845Z"
   },
   {
    "duration": 205,
    "start_time": "2023-06-09T05:35:45.283Z"
   },
   {
    "duration": 16,
    "start_time": "2023-06-09T05:35:48.764Z"
   },
   {
    "duration": 41,
    "start_time": "2023-06-09T05:35:49.969Z"
   },
   {
    "duration": 59,
    "start_time": "2023-06-09T07:08:38.910Z"
   },
   {
    "duration": 362,
    "start_time": "2023-06-09T07:08:44.416Z"
   },
   {
    "duration": 111,
    "start_time": "2023-06-09T07:08:44.939Z"
   },
   {
    "duration": 11,
    "start_time": "2023-06-09T07:08:45.051Z"
   },
   {
    "duration": 61,
    "start_time": "2023-06-09T07:08:45.110Z"
   },
   {
    "duration": 27,
    "start_time": "2023-06-09T07:08:45.173Z"
   },
   {
    "duration": 393,
    "start_time": "2023-06-09T07:10:01.920Z"
   },
   {
    "duration": 16,
    "start_time": "2023-06-09T07:10:19.051Z"
   },
   {
    "duration": 156,
    "start_time": "2023-06-09T07:12:01.043Z"
   },
   {
    "duration": 94,
    "start_time": "2023-06-09T07:13:32.536Z"
   },
   {
    "duration": 99,
    "start_time": "2023-06-09T07:13:38.777Z"
   },
   {
    "duration": 95,
    "start_time": "2023-06-09T07:13:45.525Z"
   },
   {
    "duration": 146,
    "start_time": "2023-06-09T07:14:10.078Z"
   },
   {
    "duration": 1219,
    "start_time": "2023-06-09T07:15:48.466Z"
   },
   {
    "duration": 5,
    "start_time": "2023-06-09T07:15:54.705Z"
   },
   {
    "duration": 33,
    "start_time": "2023-06-09T07:16:07.270Z"
   },
   {
    "duration": 3,
    "start_time": "2023-06-09T07:16:14.954Z"
   },
   {
    "duration": 34,
    "start_time": "2023-06-09T07:16:18.153Z"
   },
   {
    "duration": 3,
    "start_time": "2023-06-09T07:23:07.079Z"
   },
   {
    "duration": 12,
    "start_time": "2023-06-09T07:23:18.650Z"
   },
   {
    "duration": 7,
    "start_time": "2023-06-09T07:24:17.188Z"
   },
   {
    "duration": 11,
    "start_time": "2023-06-09T07:24:57.548Z"
   },
   {
    "duration": 244,
    "start_time": "2023-06-09T07:25:22.440Z"
   },
   {
    "duration": 10,
    "start_time": "2023-06-09T07:25:27.246Z"
   },
   {
    "duration": 56,
    "start_time": "2023-06-09T07:27:38.597Z"
   },
   {
    "duration": 4,
    "start_time": "2023-06-09T07:28:52.634Z"
   },
   {
    "duration": 8,
    "start_time": "2023-06-09T07:29:14.003Z"
   },
   {
    "duration": 6,
    "start_time": "2023-06-09T07:29:20.789Z"
   },
   {
    "duration": 5,
    "start_time": "2023-06-09T07:29:32.507Z"
   },
   {
    "duration": 5,
    "start_time": "2023-06-09T07:29:40.176Z"
   },
   {
    "duration": 6,
    "start_time": "2023-06-09T07:30:17.556Z"
   },
   {
    "duration": 6,
    "start_time": "2023-06-09T07:30:22.994Z"
   },
   {
    "duration": 10,
    "start_time": "2023-06-09T07:30:36.059Z"
   },
   {
    "duration": 7,
    "start_time": "2023-06-09T07:30:59.834Z"
   },
   {
    "duration": 7,
    "start_time": "2023-06-09T07:31:05.274Z"
   },
   {
    "duration": 6,
    "start_time": "2023-06-09T07:31:12.967Z"
   },
   {
    "duration": 603,
    "start_time": "2023-06-09T07:31:40.086Z"
   },
   {
    "duration": 65,
    "start_time": "2023-06-09T07:31:40.691Z"
   },
   {
    "duration": 10,
    "start_time": "2023-06-09T07:31:40.757Z"
   },
   {
    "duration": 30,
    "start_time": "2023-06-09T07:31:40.769Z"
   },
   {
    "duration": 109,
    "start_time": "2023-06-09T07:31:40.800Z"
   },
   {
    "duration": 3,
    "start_time": "2023-06-09T07:31:40.911Z"
   },
   {
    "duration": 12,
    "start_time": "2023-06-09T07:31:40.915Z"
   },
   {
    "duration": 12,
    "start_time": "2023-06-09T07:31:40.929Z"
   },
   {
    "duration": 9,
    "start_time": "2023-06-09T07:31:40.943Z"
   },
   {
    "duration": 15,
    "start_time": "2023-06-09T07:31:40.953Z"
   },
   {
    "duration": 6,
    "start_time": "2023-06-09T07:31:57.250Z"
   },
   {
    "duration": 64,
    "start_time": "2023-06-09T07:32:49.381Z"
   },
   {
    "duration": 7,
    "start_time": "2023-06-09T07:32:55.671Z"
   },
   {
    "duration": 108,
    "start_time": "2023-06-09T07:33:08.751Z"
   },
   {
    "duration": 9,
    "start_time": "2023-06-09T07:33:14.306Z"
   },
   {
    "duration": 7,
    "start_time": "2023-06-09T07:33:20.381Z"
   },
   {
    "duration": 6,
    "start_time": "2023-06-09T07:38:37.356Z"
   },
   {
    "duration": 7,
    "start_time": "2023-06-09T07:38:47.996Z"
   },
   {
    "duration": 12,
    "start_time": "2023-06-09T07:38:58.715Z"
   },
   {
    "duration": 7,
    "start_time": "2023-06-09T07:39:11.357Z"
   },
   {
    "duration": 6,
    "start_time": "2023-06-09T07:41:09.915Z"
   },
   {
    "duration": 5,
    "start_time": "2023-06-09T07:46:24.975Z"
   },
   {
    "duration": 6,
    "start_time": "2023-06-09T07:46:49.439Z"
   },
   {
    "duration": 7,
    "start_time": "2023-06-09T07:53:38.713Z"
   },
   {
    "duration": 12,
    "start_time": "2023-06-09T07:53:48.406Z"
   },
   {
    "duration": 8,
    "start_time": "2023-06-09T07:53:53.998Z"
   },
   {
    "duration": 610,
    "start_time": "2023-06-09T08:03:45.474Z"
   },
   {
    "duration": 82,
    "start_time": "2023-06-09T08:03:46.086Z"
   },
   {
    "duration": 12,
    "start_time": "2023-06-09T08:03:46.170Z"
   },
   {
    "duration": 70,
    "start_time": "2023-06-09T08:03:46.183Z"
   },
   {
    "duration": 134,
    "start_time": "2023-06-09T08:03:46.256Z"
   },
   {
    "duration": 5,
    "start_time": "2023-06-09T08:03:46.391Z"
   },
   {
    "duration": 28,
    "start_time": "2023-06-09T08:03:46.397Z"
   },
   {
    "duration": 26,
    "start_time": "2023-06-09T08:03:46.426Z"
   },
   {
    "duration": 15,
    "start_time": "2023-06-09T08:03:46.453Z"
   },
   {
    "duration": 13,
    "start_time": "2023-06-09T08:03:46.469Z"
   },
   {
    "duration": 43,
    "start_time": "2023-06-09T08:03:46.483Z"
   },
   {
    "duration": 16,
    "start_time": "2023-06-09T08:03:46.528Z"
   },
   {
    "duration": 4,
    "start_time": "2023-06-09T08:16:58.430Z"
   },
   {
    "duration": 4,
    "start_time": "2023-06-09T08:17:06.675Z"
   },
   {
    "duration": 1794,
    "start_time": "2023-06-09T08:17:27.467Z"
   },
   {
    "duration": 628,
    "start_time": "2023-06-09T08:18:04.669Z"
   },
   {
    "duration": 67,
    "start_time": "2023-06-09T08:18:05.299Z"
   },
   {
    "duration": 11,
    "start_time": "2023-06-09T08:18:05.367Z"
   },
   {
    "duration": 80,
    "start_time": "2023-06-09T08:18:05.379Z"
   },
   {
    "duration": 118,
    "start_time": "2023-06-09T08:18:05.461Z"
   },
   {
    "duration": 4,
    "start_time": "2023-06-09T08:18:05.580Z"
   },
   {
    "duration": 56,
    "start_time": "2023-06-09T08:18:05.585Z"
   },
   {
    "duration": 31,
    "start_time": "2023-06-09T08:18:05.642Z"
   },
   {
    "duration": 54,
    "start_time": "2023-06-09T08:18:05.675Z"
   },
   {
    "duration": 27,
    "start_time": "2023-06-09T08:18:05.730Z"
   },
   {
    "duration": 18,
    "start_time": "2023-06-09T08:18:05.758Z"
   },
   {
    "duration": 1265,
    "start_time": "2023-06-09T08:18:05.777Z"
   },
   {
    "duration": 4,
    "start_time": "2023-06-09T08:18:15.308Z"
   },
   {
    "duration": 569,
    "start_time": "2023-06-09T08:18:33.212Z"
   },
   {
    "duration": 66,
    "start_time": "2023-06-09T08:18:33.783Z"
   },
   {
    "duration": 10,
    "start_time": "2023-06-09T08:18:33.850Z"
   },
   {
    "duration": 149,
    "start_time": "2023-06-09T08:18:33.862Z"
   },
   {
    "duration": 122,
    "start_time": "2023-06-09T08:18:34.012Z"
   },
   {
    "duration": 4,
    "start_time": "2023-06-09T08:18:34.135Z"
   },
   {
    "duration": 68,
    "start_time": "2023-06-09T08:18:34.140Z"
   },
   {
    "duration": 35,
    "start_time": "2023-06-09T08:18:34.210Z"
   },
   {
    "duration": 27,
    "start_time": "2023-06-09T08:18:34.247Z"
   },
   {
    "duration": 78,
    "start_time": "2023-06-09T08:18:34.276Z"
   },
   {
    "duration": 0,
    "start_time": "2023-06-09T08:18:34.356Z"
   },
   {
    "duration": 0,
    "start_time": "2023-06-09T08:18:34.357Z"
   },
   {
    "duration": 4,
    "start_time": "2023-06-09T08:20:36.752Z"
   },
   {
    "duration": 4,
    "start_time": "2023-06-09T08:23:15.852Z"
   },
   {
    "duration": 4,
    "start_time": "2023-06-09T08:23:20.635Z"
   },
   {
    "duration": 5,
    "start_time": "2023-06-09T08:23:48.756Z"
   },
   {
    "duration": 6,
    "start_time": "2023-06-09T08:23:59.383Z"
   },
   {
    "duration": 4,
    "start_time": "2023-06-09T08:24:08.652Z"
   },
   {
    "duration": 4,
    "start_time": "2023-06-09T08:24:14.432Z"
   },
   {
    "duration": 7,
    "start_time": "2023-06-09T08:26:06.982Z"
   },
   {
    "duration": 7,
    "start_time": "2023-06-09T08:31:27.316Z"
   },
   {
    "duration": 7,
    "start_time": "2023-06-09T08:31:44.676Z"
   },
   {
    "duration": 8,
    "start_time": "2023-06-09T08:32:22.673Z"
   },
   {
    "duration": 8,
    "start_time": "2023-06-09T08:32:39.141Z"
   },
   {
    "duration": 6,
    "start_time": "2023-06-09T08:35:05.700Z"
   },
   {
    "duration": 6,
    "start_time": "2023-06-09T08:35:15.774Z"
   },
   {
    "duration": 240,
    "start_time": "2023-06-09T08:37:01.300Z"
   },
   {
    "duration": 4,
    "start_time": "2023-06-09T08:37:35.852Z"
   },
   {
    "duration": 613,
    "start_time": "2023-06-09T08:37:49.060Z"
   },
   {
    "duration": 65,
    "start_time": "2023-06-09T08:37:49.675Z"
   },
   {
    "duration": 10,
    "start_time": "2023-06-09T08:37:49.741Z"
   },
   {
    "duration": 34,
    "start_time": "2023-06-09T08:37:49.752Z"
   },
   {
    "duration": 114,
    "start_time": "2023-06-09T08:37:49.789Z"
   },
   {
    "duration": 3,
    "start_time": "2023-06-09T08:37:49.905Z"
   },
   {
    "duration": 15,
    "start_time": "2023-06-09T08:37:49.909Z"
   },
   {
    "duration": 17,
    "start_time": "2023-06-09T08:37:49.925Z"
   },
   {
    "duration": 21,
    "start_time": "2023-06-09T08:37:49.943Z"
   },
   {
    "duration": 9,
    "start_time": "2023-06-09T08:37:49.965Z"
   },
   {
    "duration": 7,
    "start_time": "2023-06-09T08:37:49.975Z"
   },
   {
    "duration": 11,
    "start_time": "2023-06-09T08:37:49.983Z"
   },
   {
    "duration": 12,
    "start_time": "2023-06-09T08:37:49.995Z"
   },
   {
    "duration": 25,
    "start_time": "2023-06-09T08:37:50.009Z"
   },
   {
    "duration": 21,
    "start_time": "2023-06-09T08:37:50.036Z"
   },
   {
    "duration": 610,
    "start_time": "2023-06-09T09:21:36.378Z"
   },
   {
    "duration": 70,
    "start_time": "2023-06-09T09:21:36.990Z"
   },
   {
    "duration": 10,
    "start_time": "2023-06-09T09:21:37.062Z"
   },
   {
    "duration": 32,
    "start_time": "2023-06-09T09:21:37.074Z"
   },
   {
    "duration": 121,
    "start_time": "2023-06-09T09:21:37.108Z"
   },
   {
    "duration": 3,
    "start_time": "2023-06-09T09:21:37.230Z"
   },
   {
    "duration": 22,
    "start_time": "2023-06-09T09:21:37.235Z"
   },
   {
    "duration": 20,
    "start_time": "2023-06-09T09:21:37.259Z"
   },
   {
    "duration": 11,
    "start_time": "2023-06-09T09:21:37.281Z"
   },
   {
    "duration": 4,
    "start_time": "2023-06-09T09:21:37.293Z"
   },
   {
    "duration": 14,
    "start_time": "2023-06-09T09:21:37.298Z"
   },
   {
    "duration": 11,
    "start_time": "2023-06-09T09:21:37.313Z"
   },
   {
    "duration": 6,
    "start_time": "2023-06-09T09:21:37.325Z"
   },
   {
    "duration": 9,
    "start_time": "2023-06-09T09:21:37.333Z"
   },
   {
    "duration": 7,
    "start_time": "2023-06-09T09:21:37.343Z"
   },
   {
    "duration": 18,
    "start_time": "2023-06-09T09:21:37.351Z"
   },
   {
    "duration": 8,
    "start_time": "2023-06-09T09:30:40.287Z"
   },
   {
    "duration": 775,
    "start_time": "2023-06-09T09:32:45.798Z"
   },
   {
    "duration": 1300,
    "start_time": "2023-06-09T09:39:56.200Z"
   },
   {
    "duration": 72,
    "start_time": "2023-06-09T09:39:57.502Z"
   },
   {
    "duration": 13,
    "start_time": "2023-06-09T09:39:57.576Z"
   },
   {
    "duration": 56,
    "start_time": "2023-06-09T09:39:57.591Z"
   },
   {
    "duration": 126,
    "start_time": "2023-06-09T09:39:57.649Z"
   },
   {
    "duration": 10,
    "start_time": "2023-06-09T09:39:57.776Z"
   },
   {
    "duration": 18,
    "start_time": "2023-06-09T09:39:57.787Z"
   },
   {
    "duration": 22,
    "start_time": "2023-06-09T09:39:57.807Z"
   },
   {
    "duration": 25,
    "start_time": "2023-06-09T09:39:57.831Z"
   },
   {
    "duration": 30,
    "start_time": "2023-06-09T09:39:57.857Z"
   },
   {
    "duration": 45,
    "start_time": "2023-06-09T09:39:57.888Z"
   },
   {
    "duration": 23,
    "start_time": "2023-06-09T09:39:57.935Z"
   },
   {
    "duration": 14,
    "start_time": "2023-06-09T09:39:57.959Z"
   },
   {
    "duration": 17,
    "start_time": "2023-06-09T09:39:57.976Z"
   },
   {
    "duration": 39,
    "start_time": "2023-06-09T09:39:57.994Z"
   },
   {
    "duration": 177,
    "start_time": "2023-06-09T09:39:58.034Z"
   },
   {
    "duration": 627,
    "start_time": "2023-06-09T09:40:24.198Z"
   },
   {
    "duration": 16,
    "start_time": "2023-06-09T09:42:41.959Z"
   },
   {
    "duration": 43,
    "start_time": "2023-06-09T09:42:50.438Z"
   },
   {
    "duration": 1462,
    "start_time": "2023-06-09T10:16:47.353Z"
   },
   {
    "duration": 69,
    "start_time": "2023-06-09T10:16:48.817Z"
   },
   {
    "duration": 12,
    "start_time": "2023-06-09T10:16:48.887Z"
   },
   {
    "duration": 51,
    "start_time": "2023-06-09T10:16:48.900Z"
   },
   {
    "duration": 123,
    "start_time": "2023-06-09T10:16:48.953Z"
   },
   {
    "duration": 10,
    "start_time": "2023-06-09T10:16:49.077Z"
   },
   {
    "duration": 14,
    "start_time": "2023-06-09T10:16:49.089Z"
   },
   {
    "duration": 24,
    "start_time": "2023-06-09T10:16:49.104Z"
   },
   {
    "duration": 9,
    "start_time": "2023-06-09T10:16:49.130Z"
   },
   {
    "duration": 34,
    "start_time": "2023-06-09T10:16:49.141Z"
   },
   {
    "duration": 33,
    "start_time": "2023-06-09T10:16:49.176Z"
   },
   {
    "duration": 14,
    "start_time": "2023-06-09T10:16:49.211Z"
   },
   {
    "duration": 60,
    "start_time": "2023-06-09T10:16:49.227Z"
   },
   {
    "duration": 46,
    "start_time": "2023-06-09T10:16:49.289Z"
   },
   {
    "duration": 20,
    "start_time": "2023-06-09T10:16:49.336Z"
   },
   {
    "duration": 24,
    "start_time": "2023-06-09T10:16:49.357Z"
   },
   {
    "duration": 2,
    "start_time": "2023-06-09T10:25:16.853Z"
   },
   {
    "duration": 3,
    "start_time": "2023-06-09T10:29:45.084Z"
   },
   {
    "duration": 1343,
    "start_time": "2023-06-09T11:28:05.534Z"
   },
   {
    "duration": 80,
    "start_time": "2023-06-09T11:28:06.880Z"
   },
   {
    "duration": 10,
    "start_time": "2023-06-09T11:28:06.961Z"
   },
   {
    "duration": 37,
    "start_time": "2023-06-09T11:28:06.973Z"
   },
   {
    "duration": 136,
    "start_time": "2023-06-09T11:28:07.012Z"
   },
   {
    "duration": 5,
    "start_time": "2023-06-09T11:28:07.150Z"
   },
   {
    "duration": 14,
    "start_time": "2023-06-09T11:28:07.156Z"
   },
   {
    "duration": 16,
    "start_time": "2023-06-09T11:28:07.171Z"
   },
   {
    "duration": 10,
    "start_time": "2023-06-09T11:28:07.189Z"
   },
   {
    "duration": 3,
    "start_time": "2023-06-09T11:28:07.201Z"
   },
   {
    "duration": 13,
    "start_time": "2023-06-09T11:28:07.205Z"
   },
   {
    "duration": 9,
    "start_time": "2023-06-09T11:28:07.219Z"
   },
   {
    "duration": 6,
    "start_time": "2023-06-09T11:28:07.229Z"
   },
   {
    "duration": 8,
    "start_time": "2023-06-09T11:28:07.237Z"
   },
   {
    "duration": 38,
    "start_time": "2023-06-09T11:28:07.246Z"
   },
   {
    "duration": 17,
    "start_time": "2023-06-09T11:28:07.286Z"
   },
   {
    "duration": 7,
    "start_time": "2023-06-09T11:28:07.304Z"
   },
   {
    "duration": 86,
    "start_time": "2023-06-09T11:28:07.312Z"
   },
   {
    "duration": 22,
    "start_time": "2023-06-09T11:31:07.529Z"
   },
   {
    "duration": 13,
    "start_time": "2023-06-09T11:31:12.399Z"
   },
   {
    "duration": 21,
    "start_time": "2023-06-09T11:31:49.356Z"
   },
   {
    "duration": 1234,
    "start_time": "2023-06-09T11:35:32.096Z"
   },
   {
    "duration": 70,
    "start_time": "2023-06-09T11:35:33.332Z"
   },
   {
    "duration": 13,
    "start_time": "2023-06-09T11:35:33.404Z"
   },
   {
    "duration": 46,
    "start_time": "2023-06-09T11:35:33.418Z"
   },
   {
    "duration": 152,
    "start_time": "2023-06-09T11:35:33.466Z"
   },
   {
    "duration": 3,
    "start_time": "2023-06-09T11:35:33.620Z"
   },
   {
    "duration": 16,
    "start_time": "2023-06-09T11:35:33.624Z"
   },
   {
    "duration": 17,
    "start_time": "2023-06-09T11:35:33.641Z"
   },
   {
    "duration": 9,
    "start_time": "2023-06-09T11:35:33.659Z"
   },
   {
    "duration": 3,
    "start_time": "2023-06-09T11:35:33.670Z"
   },
   {
    "duration": 15,
    "start_time": "2023-06-09T11:35:33.674Z"
   },
   {
    "duration": 15,
    "start_time": "2023-06-09T11:35:33.690Z"
   },
   {
    "duration": 18,
    "start_time": "2023-06-09T11:35:33.707Z"
   },
   {
    "duration": 13,
    "start_time": "2023-06-09T11:35:33.728Z"
   },
   {
    "duration": 8,
    "start_time": "2023-06-09T11:35:33.742Z"
   },
   {
    "duration": 18,
    "start_time": "2023-06-09T11:35:33.751Z"
   },
   {
    "duration": 3,
    "start_time": "2023-06-09T11:35:33.770Z"
   },
   {
    "duration": 17,
    "start_time": "2023-06-09T11:35:33.774Z"
   },
   {
    "duration": 117,
    "start_time": "2023-06-09T11:35:33.792Z"
   },
   {
    "duration": 1415,
    "start_time": "2023-06-09T12:08:36.071Z"
   },
   {
    "duration": 68,
    "start_time": "2023-06-09T12:08:37.488Z"
   },
   {
    "duration": 10,
    "start_time": "2023-06-09T12:08:37.557Z"
   },
   {
    "duration": 44,
    "start_time": "2023-06-09T12:08:37.569Z"
   },
   {
    "duration": 119,
    "start_time": "2023-06-09T12:08:37.615Z"
   },
   {
    "duration": 4,
    "start_time": "2023-06-09T12:08:37.736Z"
   },
   {
    "duration": 18,
    "start_time": "2023-06-09T12:08:37.741Z"
   },
   {
    "duration": 26,
    "start_time": "2023-06-09T12:08:37.760Z"
   },
   {
    "duration": 18,
    "start_time": "2023-06-09T12:08:37.788Z"
   },
   {
    "duration": 8,
    "start_time": "2023-06-09T12:08:37.808Z"
   },
   {
    "duration": 20,
    "start_time": "2023-06-09T12:08:37.817Z"
   },
   {
    "duration": 21,
    "start_time": "2023-06-09T12:08:37.838Z"
   },
   {
    "duration": 19,
    "start_time": "2023-06-09T12:08:37.861Z"
   },
   {
    "duration": 18,
    "start_time": "2023-06-09T12:08:37.881Z"
   },
   {
    "duration": 22,
    "start_time": "2023-06-09T12:08:37.901Z"
   },
   {
    "duration": 21,
    "start_time": "2023-06-09T12:08:37.924Z"
   },
   {
    "duration": 37,
    "start_time": "2023-06-09T12:08:37.947Z"
   },
   {
    "duration": 3,
    "start_time": "2023-06-09T12:08:37.985Z"
   },
   {
    "duration": 8,
    "start_time": "2023-06-09T12:08:37.990Z"
   },
   {
    "duration": 9,
    "start_time": "2023-06-09T12:08:37.999Z"
   },
   {
    "duration": 113,
    "start_time": "2023-06-09T12:18:53.647Z"
   },
   {
    "duration": 7,
    "start_time": "2023-06-09T12:23:23.107Z"
   },
   {
    "duration": 13,
    "start_time": "2023-06-09T12:23:27.249Z"
   },
   {
    "duration": 26,
    "start_time": "2023-06-09T12:23:58.355Z"
   },
   {
    "duration": 10,
    "start_time": "2023-06-09T12:28:07.040Z"
   },
   {
    "duration": 11,
    "start_time": "2023-06-09T12:28:48.519Z"
   },
   {
    "duration": 9,
    "start_time": "2023-06-09T12:35:20.340Z"
   },
   {
    "duration": 10,
    "start_time": "2023-06-09T12:35:24.921Z"
   },
   {
    "duration": 13,
    "start_time": "2023-06-09T12:35:37.795Z"
   },
   {
    "duration": 1235,
    "start_time": "2023-06-09T14:20:50.995Z"
   },
   {
    "duration": 68,
    "start_time": "2023-06-09T14:20:52.232Z"
   },
   {
    "duration": 12,
    "start_time": "2023-06-09T14:20:52.302Z"
   },
   {
    "duration": 74,
    "start_time": "2023-06-09T14:20:52.316Z"
   },
   {
    "duration": 126,
    "start_time": "2023-06-09T14:20:52.391Z"
   },
   {
    "duration": 4,
    "start_time": "2023-06-09T14:20:52.518Z"
   },
   {
    "duration": 21,
    "start_time": "2023-06-09T14:20:52.523Z"
   },
   {
    "duration": 29,
    "start_time": "2023-06-09T14:20:52.545Z"
   },
   {
    "duration": 21,
    "start_time": "2023-06-09T14:20:52.575Z"
   },
   {
    "duration": 10,
    "start_time": "2023-06-09T14:20:52.598Z"
   },
   {
    "duration": 14,
    "start_time": "2023-06-09T14:20:52.610Z"
   },
   {
    "duration": 26,
    "start_time": "2023-06-09T14:20:52.625Z"
   },
   {
    "duration": 16,
    "start_time": "2023-06-09T14:20:52.652Z"
   },
   {
    "duration": 26,
    "start_time": "2023-06-09T14:20:52.669Z"
   },
   {
    "duration": 8,
    "start_time": "2023-06-09T14:20:52.697Z"
   },
   {
    "duration": 6,
    "start_time": "2023-06-09T14:20:52.707Z"
   },
   {
    "duration": 28,
    "start_time": "2023-06-09T14:20:52.714Z"
   },
   {
    "duration": 2,
    "start_time": "2023-06-09T14:20:52.744Z"
   },
   {
    "duration": 21,
    "start_time": "2023-06-09T14:20:52.748Z"
   },
   {
    "duration": 28,
    "start_time": "2023-06-09T14:20:52.771Z"
   },
   {
    "duration": 12,
    "start_time": "2023-06-09T14:20:52.800Z"
   },
   {
    "duration": 19,
    "start_time": "2023-06-09T14:21:20.999Z"
   },
   {
    "duration": 7,
    "start_time": "2023-06-09T14:21:25.357Z"
   },
   {
    "duration": 1202,
    "start_time": "2023-06-09T14:23:21.224Z"
   },
   {
    "duration": 68,
    "start_time": "2023-06-09T14:23:22.427Z"
   },
   {
    "duration": 10,
    "start_time": "2023-06-09T14:23:22.496Z"
   },
   {
    "duration": 46,
    "start_time": "2023-06-09T14:23:22.508Z"
   },
   {
    "duration": 118,
    "start_time": "2023-06-09T14:23:22.555Z"
   },
   {
    "duration": 4,
    "start_time": "2023-06-09T14:23:22.674Z"
   },
   {
    "duration": 28,
    "start_time": "2023-06-09T14:23:22.684Z"
   },
   {
    "duration": 30,
    "start_time": "2023-06-09T14:23:22.714Z"
   },
   {
    "duration": 13,
    "start_time": "2023-06-09T14:23:22.745Z"
   },
   {
    "duration": 3,
    "start_time": "2023-06-09T14:23:22.761Z"
   },
   {
    "duration": 11,
    "start_time": "2023-06-09T14:23:22.765Z"
   },
   {
    "duration": 16,
    "start_time": "2023-06-09T14:23:22.777Z"
   },
   {
    "duration": 21,
    "start_time": "2023-06-09T14:23:22.794Z"
   },
   {
    "duration": 21,
    "start_time": "2023-06-09T14:23:22.816Z"
   },
   {
    "duration": 24,
    "start_time": "2023-06-09T14:23:22.838Z"
   },
   {
    "duration": 9,
    "start_time": "2023-06-09T14:23:22.864Z"
   },
   {
    "duration": 27,
    "start_time": "2023-06-09T14:23:22.874Z"
   },
   {
    "duration": 3,
    "start_time": "2023-06-09T14:23:22.902Z"
   },
   {
    "duration": 26,
    "start_time": "2023-06-09T14:23:22.906Z"
   },
   {
    "duration": 10,
    "start_time": "2023-06-09T14:23:22.933Z"
   },
   {
    "duration": 10,
    "start_time": "2023-06-09T14:23:27.861Z"
   },
   {
    "duration": 11,
    "start_time": "2023-06-09T14:31:08.099Z"
   },
   {
    "duration": 24,
    "start_time": "2023-06-09T14:31:22.991Z"
   },
   {
    "duration": 1263,
    "start_time": "2023-06-09T14:31:30.357Z"
   },
   {
    "duration": 79,
    "start_time": "2023-06-09T14:31:31.621Z"
   },
   {
    "duration": 18,
    "start_time": "2023-06-09T14:31:31.701Z"
   },
   {
    "duration": 115,
    "start_time": "2023-06-09T14:31:31.721Z"
   },
   {
    "duration": 137,
    "start_time": "2023-06-09T14:31:31.838Z"
   },
   {
    "duration": 4,
    "start_time": "2023-06-09T14:31:31.976Z"
   },
   {
    "duration": 13,
    "start_time": "2023-06-09T14:31:31.984Z"
   },
   {
    "duration": 22,
    "start_time": "2023-06-09T14:31:31.999Z"
   },
   {
    "duration": 45,
    "start_time": "2023-06-09T14:31:32.022Z"
   },
   {
    "duration": 5,
    "start_time": "2023-06-09T14:31:32.070Z"
   },
   {
    "duration": 26,
    "start_time": "2023-06-09T14:31:32.076Z"
   },
   {
    "duration": 33,
    "start_time": "2023-06-09T14:31:32.104Z"
   },
   {
    "duration": 21,
    "start_time": "2023-06-09T14:31:32.139Z"
   },
   {
    "duration": 18,
    "start_time": "2023-06-09T14:31:32.161Z"
   },
   {
    "duration": 23,
    "start_time": "2023-06-09T14:31:32.181Z"
   },
   {
    "duration": 14,
    "start_time": "2023-06-09T14:31:32.205Z"
   },
   {
    "duration": 29,
    "start_time": "2023-06-09T14:31:32.221Z"
   },
   {
    "duration": 16,
    "start_time": "2023-06-09T14:31:32.252Z"
   },
   {
    "duration": 12,
    "start_time": "2023-06-09T14:31:32.269Z"
   },
   {
    "duration": 14,
    "start_time": "2023-06-09T14:31:32.283Z"
   },
   {
    "duration": 15,
    "start_time": "2023-06-09T14:32:19.041Z"
   },
   {
    "duration": 6,
    "start_time": "2023-06-09T14:42:40.630Z"
   },
   {
    "duration": 8,
    "start_time": "2023-06-09T14:43:23.528Z"
   },
   {
    "duration": 2,
    "start_time": "2023-06-09T14:43:57.275Z"
   },
   {
    "duration": 3,
    "start_time": "2023-06-09T14:44:05.468Z"
   },
   {
    "duration": 2,
    "start_time": "2023-06-09T14:44:19.253Z"
   },
   {
    "duration": 1236,
    "start_time": "2023-06-09T14:44:34.799Z"
   },
   {
    "duration": 83,
    "start_time": "2023-06-09T14:44:36.038Z"
   },
   {
    "duration": 15,
    "start_time": "2023-06-09T14:44:36.123Z"
   },
   {
    "duration": 54,
    "start_time": "2023-06-09T14:44:36.140Z"
   },
   {
    "duration": 119,
    "start_time": "2023-06-09T14:44:36.197Z"
   },
   {
    "duration": 4,
    "start_time": "2023-06-09T14:44:36.317Z"
   },
   {
    "duration": 22,
    "start_time": "2023-06-09T14:44:36.322Z"
   },
   {
    "duration": 29,
    "start_time": "2023-06-09T14:44:36.345Z"
   },
   {
    "duration": 9,
    "start_time": "2023-06-09T14:44:36.375Z"
   },
   {
    "duration": 6,
    "start_time": "2023-06-09T14:44:36.385Z"
   },
   {
    "duration": 22,
    "start_time": "2023-06-09T14:44:36.392Z"
   },
   {
    "duration": 28,
    "start_time": "2023-06-09T14:44:36.415Z"
   },
   {
    "duration": 21,
    "start_time": "2023-06-09T14:44:36.444Z"
   },
   {
    "duration": 15,
    "start_time": "2023-06-09T14:44:36.467Z"
   },
   {
    "duration": 17,
    "start_time": "2023-06-09T14:44:36.483Z"
   },
   {
    "duration": 24,
    "start_time": "2023-06-09T14:44:36.501Z"
   },
   {
    "duration": 38,
    "start_time": "2023-06-09T14:44:36.526Z"
   },
   {
    "duration": 8,
    "start_time": "2023-06-09T14:44:36.566Z"
   },
   {
    "duration": 21,
    "start_time": "2023-06-09T14:44:36.575Z"
   },
   {
    "duration": 17,
    "start_time": "2023-06-09T14:44:36.597Z"
   },
   {
    "duration": 109,
    "start_time": "2023-06-09T14:44:36.615Z"
   },
   {
    "duration": 0,
    "start_time": "2023-06-09T14:44:36.726Z"
   },
   {
    "duration": 3,
    "start_time": "2023-06-09T14:44:51.071Z"
   },
   {
    "duration": 3,
    "start_time": "2023-06-09T14:45:05.752Z"
   },
   {
    "duration": 10,
    "start_time": "2023-06-09T14:45:21.609Z"
   },
   {
    "duration": 13,
    "start_time": "2023-06-09T14:47:17.236Z"
   },
   {
    "duration": 9,
    "start_time": "2023-06-09T14:51:38.447Z"
   },
   {
    "duration": 14,
    "start_time": "2023-06-09T14:51:45.613Z"
   },
   {
    "duration": 1196,
    "start_time": "2023-06-09T14:51:52.218Z"
   },
   {
    "duration": 68,
    "start_time": "2023-06-09T14:51:53.416Z"
   },
   {
    "duration": 12,
    "start_time": "2023-06-09T14:51:53.485Z"
   },
   {
    "duration": 45,
    "start_time": "2023-06-09T14:51:53.499Z"
   },
   {
    "duration": 117,
    "start_time": "2023-06-09T14:51:53.545Z"
   },
   {
    "duration": 3,
    "start_time": "2023-06-09T14:51:53.664Z"
   },
   {
    "duration": 19,
    "start_time": "2023-06-09T14:51:53.668Z"
   },
   {
    "duration": 15,
    "start_time": "2023-06-09T14:51:53.688Z"
   },
   {
    "duration": 49,
    "start_time": "2023-06-09T14:51:53.704Z"
   },
   {
    "duration": 10,
    "start_time": "2023-06-09T14:51:53.755Z"
   },
   {
    "duration": 20,
    "start_time": "2023-06-09T14:51:53.767Z"
   },
   {
    "duration": 22,
    "start_time": "2023-06-09T14:51:53.788Z"
   },
   {
    "duration": 11,
    "start_time": "2023-06-09T14:51:53.812Z"
   },
   {
    "duration": 15,
    "start_time": "2023-06-09T14:51:53.824Z"
   },
   {
    "duration": 12,
    "start_time": "2023-06-09T14:51:53.841Z"
   },
   {
    "duration": 6,
    "start_time": "2023-06-09T14:51:53.854Z"
   },
   {
    "duration": 28,
    "start_time": "2023-06-09T14:51:53.861Z"
   },
   {
    "duration": 11,
    "start_time": "2023-06-09T14:51:53.890Z"
   },
   {
    "duration": 13,
    "start_time": "2023-06-09T14:51:53.903Z"
   },
   {
    "duration": 16,
    "start_time": "2023-06-09T14:51:53.917Z"
   },
   {
    "duration": 20,
    "start_time": "2023-06-09T14:51:53.935Z"
   },
   {
    "duration": 110,
    "start_time": "2023-06-09T14:51:53.956Z"
   },
   {
    "duration": 26,
    "start_time": "2023-06-09T14:52:06.895Z"
   },
   {
    "duration": 27,
    "start_time": "2023-06-09T14:52:12.166Z"
   },
   {
    "duration": 1258,
    "start_time": "2023-06-09T14:54:21.399Z"
   },
   {
    "duration": 66,
    "start_time": "2023-06-09T14:54:22.659Z"
   },
   {
    "duration": 10,
    "start_time": "2023-06-09T14:54:22.727Z"
   },
   {
    "duration": 34,
    "start_time": "2023-06-09T14:54:22.739Z"
   },
   {
    "duration": 125,
    "start_time": "2023-06-09T14:54:22.774Z"
   },
   {
    "duration": 4,
    "start_time": "2023-06-09T14:54:22.900Z"
   },
   {
    "duration": 9,
    "start_time": "2023-06-09T14:54:22.905Z"
   },
   {
    "duration": 20,
    "start_time": "2023-06-09T14:54:22.915Z"
   },
   {
    "duration": 11,
    "start_time": "2023-06-09T14:54:22.936Z"
   },
   {
    "duration": 3,
    "start_time": "2023-06-09T14:54:22.950Z"
   },
   {
    "duration": 10,
    "start_time": "2023-06-09T14:54:22.954Z"
   },
   {
    "duration": 10,
    "start_time": "2023-06-09T14:54:22.965Z"
   },
   {
    "duration": 12,
    "start_time": "2023-06-09T14:54:22.977Z"
   },
   {
    "duration": 23,
    "start_time": "2023-06-09T14:54:22.990Z"
   },
   {
    "duration": 22,
    "start_time": "2023-06-09T14:54:23.014Z"
   },
   {
    "duration": 25,
    "start_time": "2023-06-09T14:54:23.038Z"
   },
   {
    "duration": 39,
    "start_time": "2023-06-09T14:54:23.064Z"
   },
   {
    "duration": 11,
    "start_time": "2023-06-09T14:54:23.104Z"
   },
   {
    "duration": 24,
    "start_time": "2023-06-09T14:54:23.117Z"
   },
   {
    "duration": 40,
    "start_time": "2023-06-09T14:54:23.142Z"
   },
   {
    "duration": 20,
    "start_time": "2023-06-09T14:54:23.183Z"
   },
   {
    "duration": 147,
    "start_time": "2023-06-09T14:54:23.204Z"
   },
   {
    "duration": 1479,
    "start_time": "2023-06-09T14:55:04.187Z"
   },
   {
    "duration": 72,
    "start_time": "2023-06-09T14:55:05.669Z"
   },
   {
    "duration": 309,
    "start_time": "2023-06-09T14:55:05.743Z"
   },
   {
    "duration": 81,
    "start_time": "2023-06-09T14:55:06.055Z"
   },
   {
    "duration": 122,
    "start_time": "2023-06-09T14:55:06.137Z"
   },
   {
    "duration": 4,
    "start_time": "2023-06-09T14:55:06.260Z"
   },
   {
    "duration": 22,
    "start_time": "2023-06-09T14:55:06.266Z"
   },
   {
    "duration": 29,
    "start_time": "2023-06-09T14:55:06.290Z"
   },
   {
    "duration": 9,
    "start_time": "2023-06-09T14:55:06.320Z"
   },
   {
    "duration": 4,
    "start_time": "2023-06-09T14:55:06.331Z"
   },
   {
    "duration": 8,
    "start_time": "2023-06-09T14:55:06.336Z"
   },
   {
    "duration": 11,
    "start_time": "2023-06-09T14:55:06.345Z"
   },
   {
    "duration": 6,
    "start_time": "2023-06-09T14:55:06.357Z"
   },
   {
    "duration": 23,
    "start_time": "2023-06-09T14:55:06.364Z"
   },
   {
    "duration": 13,
    "start_time": "2023-06-09T14:55:06.388Z"
   },
   {
    "duration": 30,
    "start_time": "2023-06-09T14:55:06.402Z"
   },
   {
    "duration": 25,
    "start_time": "2023-06-09T14:55:06.433Z"
   },
   {
    "duration": 2,
    "start_time": "2023-06-09T14:55:06.460Z"
   },
   {
    "duration": 11,
    "start_time": "2023-06-09T14:55:06.463Z"
   },
   {
    "duration": 27,
    "start_time": "2023-06-09T14:55:06.475Z"
   },
   {
    "duration": 16,
    "start_time": "2023-06-09T14:55:06.503Z"
   },
   {
    "duration": 47,
    "start_time": "2023-06-09T14:55:06.521Z"
   },
   {
    "duration": 104,
    "start_time": "2023-06-09T14:55:27.682Z"
   },
   {
    "duration": 1282,
    "start_time": "2023-06-09T14:55:35.358Z"
   },
   {
    "duration": 67,
    "start_time": "2023-06-09T14:55:36.641Z"
   },
   {
    "duration": 10,
    "start_time": "2023-06-09T14:55:36.709Z"
   },
   {
    "duration": 34,
    "start_time": "2023-06-09T14:55:36.721Z"
   },
   {
    "duration": 131,
    "start_time": "2023-06-09T14:55:36.756Z"
   },
   {
    "duration": 4,
    "start_time": "2023-06-09T14:55:36.889Z"
   },
   {
    "duration": 13,
    "start_time": "2023-06-09T14:55:36.895Z"
   },
   {
    "duration": 16,
    "start_time": "2023-06-09T14:55:36.910Z"
   },
   {
    "duration": 17,
    "start_time": "2023-06-09T14:55:36.927Z"
   },
   {
    "duration": 10,
    "start_time": "2023-06-09T14:55:36.945Z"
   },
   {
    "duration": 14,
    "start_time": "2023-06-09T14:55:36.956Z"
   },
   {
    "duration": 9,
    "start_time": "2023-06-09T14:55:36.971Z"
   },
   {
    "duration": 10,
    "start_time": "2023-06-09T14:55:36.981Z"
   },
   {
    "duration": 7,
    "start_time": "2023-06-09T14:55:36.992Z"
   },
   {
    "duration": 13,
    "start_time": "2023-06-09T14:55:37.001Z"
   },
   {
    "duration": 5,
    "start_time": "2023-06-09T14:55:37.015Z"
   },
   {
    "duration": 27,
    "start_time": "2023-06-09T14:55:37.021Z"
   },
   {
    "duration": 2,
    "start_time": "2023-06-09T14:55:37.049Z"
   },
   {
    "duration": 13,
    "start_time": "2023-06-09T14:55:37.052Z"
   },
   {
    "duration": 26,
    "start_time": "2023-06-09T14:55:37.066Z"
   },
   {
    "duration": 5,
    "start_time": "2023-06-09T14:55:37.094Z"
   },
   {
    "duration": 53,
    "start_time": "2023-06-09T14:55:37.100Z"
   },
   {
    "duration": 27,
    "start_time": "2023-06-09T14:56:03.847Z"
   },
   {
    "duration": 29,
    "start_time": "2023-06-09T14:56:59.312Z"
   },
   {
    "duration": 1217,
    "start_time": "2023-06-09T14:57:25.922Z"
   },
   {
    "duration": 76,
    "start_time": "2023-06-09T14:57:27.142Z"
   },
   {
    "duration": 12,
    "start_time": "2023-06-09T14:57:27.219Z"
   },
   {
    "duration": 33,
    "start_time": "2023-06-09T14:57:27.233Z"
   },
   {
    "duration": 140,
    "start_time": "2023-06-09T14:57:27.268Z"
   },
   {
    "duration": 4,
    "start_time": "2023-06-09T14:57:27.410Z"
   },
   {
    "duration": 41,
    "start_time": "2023-06-09T14:57:27.415Z"
   },
   {
    "duration": 17,
    "start_time": "2023-06-09T14:57:27.458Z"
   },
   {
    "duration": 19,
    "start_time": "2023-06-09T14:57:27.476Z"
   },
   {
    "duration": 7,
    "start_time": "2023-06-09T14:57:27.497Z"
   },
   {
    "duration": 16,
    "start_time": "2023-06-09T14:57:27.505Z"
   },
   {
    "duration": 9,
    "start_time": "2023-06-09T14:57:27.523Z"
   },
   {
    "duration": 7,
    "start_time": "2023-06-09T14:57:27.533Z"
   },
   {
    "duration": 11,
    "start_time": "2023-06-09T14:57:27.541Z"
   },
   {
    "duration": 6,
    "start_time": "2023-06-09T14:57:27.553Z"
   },
   {
    "duration": 3,
    "start_time": "2023-06-09T14:57:27.561Z"
   },
   {
    "duration": 34,
    "start_time": "2023-06-09T14:57:27.566Z"
   },
   {
    "duration": 2,
    "start_time": "2023-06-09T14:57:27.602Z"
   },
   {
    "duration": 10,
    "start_time": "2023-06-09T14:57:27.605Z"
   },
   {
    "duration": 11,
    "start_time": "2023-06-09T14:57:27.617Z"
   },
   {
    "duration": 2,
    "start_time": "2023-06-09T14:57:27.629Z"
   },
   {
    "duration": 78,
    "start_time": "2023-06-09T14:57:27.633Z"
   },
   {
    "duration": 1236,
    "start_time": "2023-06-09T14:57:48.590Z"
   },
   {
    "duration": 70,
    "start_time": "2023-06-09T14:57:49.828Z"
   },
   {
    "duration": 11,
    "start_time": "2023-06-09T14:57:49.899Z"
   },
   {
    "duration": 31,
    "start_time": "2023-06-09T14:57:49.912Z"
   },
   {
    "duration": 131,
    "start_time": "2023-06-09T14:57:49.945Z"
   },
   {
    "duration": 8,
    "start_time": "2023-06-09T14:57:50.077Z"
   },
   {
    "duration": 14,
    "start_time": "2023-06-09T14:57:50.086Z"
   },
   {
    "duration": 15,
    "start_time": "2023-06-09T14:57:50.101Z"
   },
   {
    "duration": 11,
    "start_time": "2023-06-09T14:57:50.117Z"
   },
   {
    "duration": 4,
    "start_time": "2023-06-09T14:57:50.130Z"
   },
   {
    "duration": 8,
    "start_time": "2023-06-09T14:57:50.136Z"
   },
   {
    "duration": 12,
    "start_time": "2023-06-09T14:57:50.145Z"
   },
   {
    "duration": 28,
    "start_time": "2023-06-09T14:57:50.158Z"
   },
   {
    "duration": 11,
    "start_time": "2023-06-09T14:57:50.187Z"
   },
   {
    "duration": 7,
    "start_time": "2023-06-09T14:57:50.200Z"
   },
   {
    "duration": 4,
    "start_time": "2023-06-09T14:57:50.208Z"
   },
   {
    "duration": 17,
    "start_time": "2023-06-09T14:57:50.214Z"
   },
   {
    "duration": 2,
    "start_time": "2023-06-09T14:57:50.233Z"
   },
   {
    "duration": 10,
    "start_time": "2023-06-09T14:57:50.236Z"
   },
   {
    "duration": 41,
    "start_time": "2023-06-09T14:57:50.248Z"
   },
   {
    "duration": 2,
    "start_time": "2023-06-09T14:57:50.290Z"
   },
   {
    "duration": 32,
    "start_time": "2023-06-09T14:57:50.294Z"
   },
   {
    "duration": 29,
    "start_time": "2023-06-09T15:02:42.228Z"
   },
   {
    "duration": 26,
    "start_time": "2023-06-09T15:02:51.566Z"
   },
   {
    "duration": 1516,
    "start_time": "2023-06-09T15:05:08.375Z"
   },
   {
    "duration": 5,
    "start_time": "2023-06-09T15:05:24.515Z"
   },
   {
    "duration": 3,
    "start_time": "2023-06-09T15:05:35.351Z"
   },
   {
    "duration": 6,
    "start_time": "2023-06-09T15:05:46.299Z"
   },
   {
    "duration": 4,
    "start_time": "2023-06-09T15:05:54.335Z"
   },
   {
    "duration": 5,
    "start_time": "2023-06-09T15:06:02.723Z"
   },
   {
    "duration": 42,
    "start_time": "2023-06-09T15:11:19.782Z"
   },
   {
    "duration": 2,
    "start_time": "2023-06-09T15:11:50.602Z"
   },
   {
    "duration": 13,
    "start_time": "2023-06-09T15:12:24.013Z"
   },
   {
    "duration": 28,
    "start_time": "2023-06-09T15:12:28.577Z"
   },
   {
    "duration": 24,
    "start_time": "2023-06-09T15:12:53.467Z"
   },
   {
    "duration": 30,
    "start_time": "2023-06-09T15:12:56.815Z"
   },
   {
    "duration": 4,
    "start_time": "2023-06-09T15:13:36.049Z"
   },
   {
    "duration": 26,
    "start_time": "2023-06-09T15:14:14.284Z"
   },
   {
    "duration": 3,
    "start_time": "2023-06-09T15:17:44.049Z"
   },
   {
    "duration": 28,
    "start_time": "2023-06-09T15:18:18.044Z"
   },
   {
    "duration": 34,
    "start_time": "2023-06-09T15:19:26.726Z"
   },
   {
    "duration": 29,
    "start_time": "2023-06-09T15:19:41.099Z"
   },
   {
    "duration": 28,
    "start_time": "2023-06-09T15:19:47.860Z"
   },
   {
    "duration": 4,
    "start_time": "2023-06-09T15:24:04.678Z"
   },
   {
    "duration": 30,
    "start_time": "2023-06-09T15:24:30.724Z"
   },
   {
    "duration": 355,
    "start_time": "2023-06-09T15:26:07.243Z"
   },
   {
    "duration": 20218,
    "start_time": "2023-06-09T15:27:20.189Z"
   },
   {
    "duration": 172,
    "start_time": "2023-06-09T15:30:13.618Z"
   },
   {
    "duration": 64,
    "start_time": "2023-06-09T15:30:28.223Z"
   },
   {
    "duration": 801,
    "start_time": "2023-06-09T15:30:44.687Z"
   },
   {
    "duration": 102,
    "start_time": "2023-06-10T05:32:38.258Z"
   },
   {
    "duration": 41,
    "start_time": "2023-06-10T05:32:59.138Z"
   },
   {
    "duration": 1415,
    "start_time": "2023-06-10T05:33:05.698Z"
   },
   {
    "duration": 106,
    "start_time": "2023-06-10T05:33:07.115Z"
   },
   {
    "duration": 12,
    "start_time": "2023-06-10T05:33:07.222Z"
   },
   {
    "duration": 72,
    "start_time": "2023-06-10T05:33:07.236Z"
   },
   {
    "duration": 119,
    "start_time": "2023-06-10T05:33:07.309Z"
   },
   {
    "duration": 3,
    "start_time": "2023-06-10T05:33:07.430Z"
   },
   {
    "duration": 15,
    "start_time": "2023-06-10T05:33:07.435Z"
   },
   {
    "duration": 24,
    "start_time": "2023-06-10T05:33:07.452Z"
   },
   {
    "duration": 30,
    "start_time": "2023-06-10T05:33:07.477Z"
   },
   {
    "duration": 19,
    "start_time": "2023-06-10T05:33:07.509Z"
   },
   {
    "duration": 15,
    "start_time": "2023-06-10T05:33:07.529Z"
   },
   {
    "duration": 16,
    "start_time": "2023-06-10T05:33:07.545Z"
   },
   {
    "duration": 8,
    "start_time": "2023-06-10T05:33:07.562Z"
   },
   {
    "duration": 6,
    "start_time": "2023-06-10T05:33:07.572Z"
   },
   {
    "duration": 14,
    "start_time": "2023-06-10T05:33:07.580Z"
   },
   {
    "duration": 14,
    "start_time": "2023-06-10T05:33:07.596Z"
   },
   {
    "duration": 34,
    "start_time": "2023-06-10T05:33:07.611Z"
   },
   {
    "duration": 3,
    "start_time": "2023-06-10T05:33:07.646Z"
   },
   {
    "duration": 11,
    "start_time": "2023-06-10T05:33:07.650Z"
   },
   {
    "duration": 15,
    "start_time": "2023-06-10T05:33:07.662Z"
   },
   {
    "duration": 10,
    "start_time": "2023-06-10T05:33:07.678Z"
   },
   {
    "duration": 36,
    "start_time": "2023-06-10T05:33:07.689Z"
   },
   {
    "duration": 5,
    "start_time": "2023-06-10T05:33:07.726Z"
   },
   {
    "duration": 8,
    "start_time": "2023-06-10T05:33:07.732Z"
   },
   {
    "duration": 337,
    "start_time": "2023-06-10T05:33:07.741Z"
   },
   {
    "duration": 18712,
    "start_time": "2023-06-10T05:33:08.079Z"
   },
   {
    "duration": 334,
    "start_time": "2023-06-10T05:33:26.793Z"
   },
   {
    "duration": 453,
    "start_time": "2023-06-10T05:33:27.131Z"
   },
   {
    "duration": 19164,
    "start_time": "2023-06-10T05:33:51.616Z"
   },
   {
    "duration": 152,
    "start_time": "2023-06-10T05:34:37.374Z"
   },
   {
    "duration": 338,
    "start_time": "2023-06-10T05:36:35.535Z"
   },
   {
    "duration": 18562,
    "start_time": "2023-06-10T05:36:44.816Z"
   },
   {
    "duration": 405,
    "start_time": "2023-06-10T05:37:03.379Z"
   },
   {
    "duration": 231,
    "start_time": "2023-06-10T05:37:16.494Z"
   },
   {
    "duration": 18666,
    "start_time": "2023-06-10T05:37:50.184Z"
   },
   {
    "duration": 191,
    "start_time": "2023-06-10T05:38:18.735Z"
   },
   {
    "duration": 2,
    "start_time": "2023-06-10T05:38:55.935Z"
   },
   {
    "duration": 4,
    "start_time": "2023-06-10T05:45:09.663Z"
   },
   {
    "duration": 511,
    "start_time": "2023-06-10T05:48:24.321Z"
   },
   {
    "duration": 20363,
    "start_time": "2023-06-10T05:48:45.799Z"
   },
   {
    "duration": 432,
    "start_time": "2023-06-10T05:49:16.880Z"
   },
   {
    "duration": 4,
    "start_time": "2023-06-10T05:50:49.258Z"
   },
   {
    "duration": 634,
    "start_time": "2023-06-10T05:51:01.450Z"
   },
   {
    "duration": 511,
    "start_time": "2023-06-10T05:51:50.069Z"
   },
   {
    "duration": 114,
    "start_time": "2023-06-10T06:21:33.310Z"
   },
   {
    "duration": 493,
    "start_time": "2023-06-10T06:21:44.666Z"
   },
   {
    "duration": 3,
    "start_time": "2023-06-10T06:22:06.268Z"
   },
   {
    "duration": 4,
    "start_time": "2023-06-10T06:22:10.106Z"
   },
   {
    "duration": 406,
    "start_time": "2023-06-10T06:22:28.667Z"
   },
   {
    "duration": 427,
    "start_time": "2023-06-10T06:22:48.181Z"
   },
   {
    "duration": 372,
    "start_time": "2023-06-10T06:22:54.270Z"
   },
   {
    "duration": 4,
    "start_time": "2023-06-10T06:23:04.579Z"
   },
   {
    "duration": 365,
    "start_time": "2023-06-10T06:23:21.948Z"
   },
   {
    "duration": 364,
    "start_time": "2023-06-10T06:23:43.951Z"
   },
   {
    "duration": 19144,
    "start_time": "2023-06-10T06:24:02.830Z"
   },
   {
    "duration": 19903,
    "start_time": "2023-06-10T06:25:01.232Z"
   },
   {
    "duration": 19065,
    "start_time": "2023-06-10T06:27:01.629Z"
   },
   {
    "duration": 1481,
    "start_time": "2023-06-10T06:39:53.523Z"
   },
   {
    "duration": 80,
    "start_time": "2023-06-10T06:39:55.006Z"
   },
   {
    "duration": 11,
    "start_time": "2023-06-10T06:39:55.087Z"
   },
   {
    "duration": 78,
    "start_time": "2023-06-10T06:39:55.100Z"
   },
   {
    "duration": 134,
    "start_time": "2023-06-10T06:39:55.181Z"
   },
   {
    "duration": 10,
    "start_time": "2023-06-10T06:39:55.317Z"
   },
   {
    "duration": 38,
    "start_time": "2023-06-10T06:39:55.330Z"
   },
   {
    "duration": 17,
    "start_time": "2023-06-10T06:39:55.370Z"
   },
   {
    "duration": 31,
    "start_time": "2023-06-10T06:39:55.389Z"
   },
   {
    "duration": 34,
    "start_time": "2023-06-10T06:39:55.422Z"
   },
   {
    "duration": 30,
    "start_time": "2023-06-10T06:39:55.458Z"
   },
   {
    "duration": 23,
    "start_time": "2023-06-10T06:39:55.490Z"
   },
   {
    "duration": 8,
    "start_time": "2023-06-10T06:39:55.514Z"
   },
   {
    "duration": 24,
    "start_time": "2023-06-10T06:39:55.525Z"
   },
   {
    "duration": 29,
    "start_time": "2023-06-10T06:39:55.551Z"
   },
   {
    "duration": 13,
    "start_time": "2023-06-10T06:39:55.581Z"
   },
   {
    "duration": 20,
    "start_time": "2023-06-10T06:39:55.595Z"
   },
   {
    "duration": 13,
    "start_time": "2023-06-10T06:39:55.617Z"
   },
   {
    "duration": 19,
    "start_time": "2023-06-10T06:39:55.631Z"
   },
   {
    "duration": 27,
    "start_time": "2023-06-10T06:39:55.652Z"
   },
   {
    "duration": 4,
    "start_time": "2023-06-10T06:39:55.681Z"
   },
   {
    "duration": 57,
    "start_time": "2023-06-10T06:39:55.686Z"
   },
   {
    "duration": 7,
    "start_time": "2023-06-10T06:39:55.745Z"
   },
   {
    "duration": 12,
    "start_time": "2023-06-10T06:39:55.754Z"
   },
   {
    "duration": 388,
    "start_time": "2023-06-10T06:39:55.768Z"
   },
   {
    "duration": 19861,
    "start_time": "2023-06-10T06:39:56.158Z"
   },
   {
    "duration": 601,
    "start_time": "2023-06-10T06:40:16.024Z"
   },
   {
    "duration": 480,
    "start_time": "2023-06-10T06:40:16.628Z"
   },
   {
    "duration": 19823,
    "start_time": "2023-06-10T06:40:17.109Z"
   },
   {
    "duration": 641,
    "start_time": "2023-06-10T06:40:36.934Z"
   },
   {
    "duration": 0,
    "start_time": "2023-06-10T06:40:37.577Z"
   },
   {
    "duration": 394,
    "start_time": "2023-06-10T06:53:26.842Z"
   },
   {
    "duration": 22,
    "start_time": "2023-06-10T06:53:29.876Z"
   },
   {
    "duration": 30,
    "start_time": "2023-06-10T06:54:20.209Z"
   },
   {
    "duration": 484,
    "start_time": "2023-06-10T06:56:04.166Z"
   },
   {
    "duration": 486,
    "start_time": "2023-06-10T06:56:26.775Z"
   },
   {
    "duration": 21,
    "start_time": "2023-06-10T06:56:31.969Z"
   },
   {
    "duration": 57,
    "start_time": "2023-06-10T07:34:19.844Z"
   },
   {
    "duration": 475,
    "start_time": "2023-06-10T07:34:29.853Z"
   },
   {
    "duration": 162,
    "start_time": "2023-06-10T07:34:39.373Z"
   },
   {
    "duration": 413,
    "start_time": "2023-06-10T07:35:20.813Z"
   },
   {
    "duration": 319,
    "start_time": "2023-06-10T07:37:41.614Z"
   },
   {
    "duration": 29,
    "start_time": "2023-06-10T07:38:23.612Z"
   },
   {
    "duration": 504,
    "start_time": "2023-06-10T07:42:34.095Z"
   },
   {
    "duration": 1445,
    "start_time": "2023-06-11T07:23:51.751Z"
   },
   {
    "duration": 70,
    "start_time": "2023-06-11T07:24:18.744Z"
   },
   {
    "duration": 11,
    "start_time": "2023-06-11T07:24:23.135Z"
   },
   {
    "duration": 33,
    "start_time": "2023-06-11T07:24:24.634Z"
   },
   {
    "duration": 124,
    "start_time": "2023-06-11T07:24:25.903Z"
   },
   {
    "duration": 3,
    "start_time": "2023-06-11T07:24:32.754Z"
   },
   {
    "duration": 6,
    "start_time": "2023-06-11T07:25:10.454Z"
   },
   {
    "duration": 4,
    "start_time": "2023-06-11T07:26:49.246Z"
   },
   {
    "duration": 6,
    "start_time": "2023-06-11T07:26:51.706Z"
   },
   {
    "duration": 1487,
    "start_time": "2023-06-11T07:28:14.000Z"
   },
   {
    "duration": 76,
    "start_time": "2023-06-11T07:28:15.489Z"
   },
   {
    "duration": 12,
    "start_time": "2023-06-11T07:28:16.688Z"
   },
   {
    "duration": 35,
    "start_time": "2023-06-11T07:28:18.202Z"
   },
   {
    "duration": 122,
    "start_time": "2023-06-11T07:28:20.457Z"
   },
   {
    "duration": 4,
    "start_time": "2023-06-11T07:28:20.866Z"
   },
   {
    "duration": 5,
    "start_time": "2023-06-11T07:28:21.545Z"
   },
   {
    "duration": 5,
    "start_time": "2023-06-11T07:28:23.922Z"
   },
   {
    "duration": 6,
    "start_time": "2023-06-11T07:28:30.476Z"
   },
   {
    "duration": 14,
    "start_time": "2023-06-11T07:28:33.312Z"
   },
   {
    "duration": 10,
    "start_time": "2023-06-11T07:28:35.948Z"
   },
   {
    "duration": 5,
    "start_time": "2023-06-11T07:28:37.387Z"
   },
   {
    "duration": 5,
    "start_time": "2023-06-11T07:28:40.345Z"
   },
   {
    "duration": 10,
    "start_time": "2023-06-11T07:29:10.380Z"
   },
   {
    "duration": 21,
    "start_time": "2023-06-11T07:29:19.093Z"
   },
   {
    "duration": 24,
    "start_time": "2023-06-11T07:29:49.667Z"
   },
   {
    "duration": 9,
    "start_time": "2023-06-11T07:32:09.988Z"
   },
   {
    "duration": 8,
    "start_time": "2023-06-11T07:32:12.771Z"
   },
   {
    "duration": 7,
    "start_time": "2023-06-11T07:32:14.056Z"
   },
   {
    "duration": 7,
    "start_time": "2023-06-11T07:32:17.601Z"
   },
   {
    "duration": 5,
    "start_time": "2023-06-11T07:32:21.216Z"
   },
   {
    "duration": 59,
    "start_time": "2023-06-11T12:18:12.274Z"
   },
   {
    "duration": 1789,
    "start_time": "2023-06-11T12:18:18.671Z"
   },
   {
    "duration": 141,
    "start_time": "2023-06-11T12:18:20.467Z"
   },
   {
    "duration": 16,
    "start_time": "2023-06-11T12:18:20.610Z"
   },
   {
    "duration": 58,
    "start_time": "2023-06-11T12:18:20.629Z"
   },
   {
    "duration": 162,
    "start_time": "2023-06-11T12:18:23.565Z"
   },
   {
    "duration": 5,
    "start_time": "2023-06-11T12:18:25.275Z"
   },
   {
    "duration": 10,
    "start_time": "2023-06-11T12:18:27.972Z"
   },
   {
    "duration": 7,
    "start_time": "2023-06-11T12:23:14.501Z"
   },
   {
    "duration": 153,
    "start_time": "2023-06-11T12:23:26.179Z"
   },
   {
    "duration": 4,
    "start_time": "2023-06-11T12:23:27.330Z"
   },
   {
    "duration": 8,
    "start_time": "2023-06-11T12:23:27.468Z"
   },
   {
    "duration": 5,
    "start_time": "2023-06-11T12:23:31.094Z"
   },
   {
    "duration": 7,
    "start_time": "2023-06-11T12:23:31.521Z"
   },
   {
    "duration": 14,
    "start_time": "2023-06-11T12:23:34.573Z"
   },
   {
    "duration": 12,
    "start_time": "2023-06-11T12:23:37.173Z"
   },
   {
    "duration": 7,
    "start_time": "2023-06-11T12:23:39.975Z"
   },
   {
    "duration": 8,
    "start_time": "2023-06-11T12:23:40.677Z"
   },
   {
    "duration": 10,
    "start_time": "2023-06-11T12:23:42.613Z"
   },
   {
    "duration": 3,
    "start_time": "2023-06-11T12:23:55.473Z"
   },
   {
    "duration": 9,
    "start_time": "2023-06-11T12:25:46.007Z"
   },
   {
    "duration": 9,
    "start_time": "2023-06-11T12:25:46.365Z"
   },
   {
    "duration": 6,
    "start_time": "2023-06-11T12:25:47.022Z"
   },
   {
    "duration": 93,
    "start_time": "2023-06-11T12:27:53.813Z"
   },
   {
    "duration": 91,
    "start_time": "2023-06-11T12:29:34.087Z"
   },
   {
    "duration": 10,
    "start_time": "2023-06-11T12:30:04.898Z"
   },
   {
    "duration": 23,
    "start_time": "2023-06-11T12:30:43.075Z"
   },
   {
    "duration": 22,
    "start_time": "2023-06-11T12:33:01.477Z"
   },
   {
    "duration": 11,
    "start_time": "2023-06-11T12:33:52.199Z"
   },
   {
    "duration": 3,
    "start_time": "2023-06-11T12:33:52.298Z"
   },
   {
    "duration": 49,
    "start_time": "2023-06-11T12:33:52.405Z"
   },
   {
    "duration": 8,
    "start_time": "2023-06-11T12:36:27.997Z"
   },
   {
    "duration": 5,
    "start_time": "2023-06-11T12:36:28.650Z"
   },
   {
    "duration": 29,
    "start_time": "2023-06-11T12:36:29.516Z"
   },
   {
    "duration": 36,
    "start_time": "2023-06-11T12:39:46.601Z"
   },
   {
    "duration": 1469,
    "start_time": "2023-06-11T12:47:33.414Z"
   },
   {
    "duration": 85,
    "start_time": "2023-06-11T12:47:34.885Z"
   },
   {
    "duration": 12,
    "start_time": "2023-06-11T12:47:34.971Z"
   },
   {
    "duration": 109,
    "start_time": "2023-06-11T12:47:34.985Z"
   },
   {
    "duration": 227,
    "start_time": "2023-06-11T12:47:35.095Z"
   },
   {
    "duration": 5,
    "start_time": "2023-06-11T12:47:35.323Z"
   },
   {
    "duration": 30,
    "start_time": "2023-06-11T12:47:35.330Z"
   },
   {
    "duration": 30,
    "start_time": "2023-06-11T12:47:35.362Z"
   },
   {
    "duration": 12,
    "start_time": "2023-06-11T12:47:35.394Z"
   },
   {
    "duration": 20,
    "start_time": "2023-06-11T12:47:35.408Z"
   },
   {
    "duration": 29,
    "start_time": "2023-06-11T12:47:35.429Z"
   },
   {
    "duration": 13,
    "start_time": "2023-06-11T12:47:35.460Z"
   },
   {
    "duration": 23,
    "start_time": "2023-06-11T12:47:35.475Z"
   },
   {
    "duration": 15,
    "start_time": "2023-06-11T12:47:35.500Z"
   },
   {
    "duration": 4,
    "start_time": "2023-06-11T12:47:35.516Z"
   },
   {
    "duration": 13,
    "start_time": "2023-06-11T12:47:35.521Z"
   },
   {
    "duration": 17,
    "start_time": "2023-06-11T12:47:35.536Z"
   },
   {
    "duration": 16,
    "start_time": "2023-06-11T12:47:35.555Z"
   },
   {
    "duration": 139,
    "start_time": "2023-06-11T12:47:35.573Z"
   },
   {
    "duration": 0,
    "start_time": "2023-06-11T12:47:35.714Z"
   },
   {
    "duration": 0,
    "start_time": "2023-06-11T12:47:35.716Z"
   },
   {
    "duration": 0,
    "start_time": "2023-06-11T12:47:35.717Z"
   },
   {
    "duration": 0,
    "start_time": "2023-06-11T12:47:35.718Z"
   },
   {
    "duration": 0,
    "start_time": "2023-06-11T12:47:35.719Z"
   },
   {
    "duration": 0,
    "start_time": "2023-06-11T12:47:35.720Z"
   },
   {
    "duration": 0,
    "start_time": "2023-06-11T12:47:35.721Z"
   },
   {
    "duration": 0,
    "start_time": "2023-06-11T12:47:35.722Z"
   },
   {
    "duration": 0,
    "start_time": "2023-06-11T12:47:35.723Z"
   },
   {
    "duration": 0,
    "start_time": "2023-06-11T12:47:35.724Z"
   },
   {
    "duration": 0,
    "start_time": "2023-06-11T12:47:35.725Z"
   },
   {
    "duration": 0,
    "start_time": "2023-06-11T12:47:35.726Z"
   },
   {
    "duration": 0,
    "start_time": "2023-06-11T12:47:35.727Z"
   },
   {
    "duration": 25,
    "start_time": "2023-06-11T12:48:20.376Z"
   },
   {
    "duration": 14,
    "start_time": "2023-06-11T12:48:28.213Z"
   },
   {
    "duration": 3,
    "start_time": "2023-06-11T12:48:28.682Z"
   },
   {
    "duration": 50,
    "start_time": "2023-06-11T12:48:29.172Z"
   },
   {
    "duration": 7,
    "start_time": "2023-06-11T12:48:32.195Z"
   },
   {
    "duration": 6,
    "start_time": "2023-06-11T12:48:32.320Z"
   },
   {
    "duration": 27,
    "start_time": "2023-06-11T12:48:34.953Z"
   },
   {
    "duration": 46,
    "start_time": "2023-06-11T12:49:29.312Z"
   },
   {
    "duration": 34,
    "start_time": "2023-06-11T12:49:34.500Z"
   },
   {
    "duration": 40,
    "start_time": "2023-06-11T12:49:39.770Z"
   },
   {
    "duration": 31,
    "start_time": "2023-06-11T12:50:26.479Z"
   },
   {
    "duration": 12,
    "start_time": "2023-06-11T12:50:30.366Z"
   },
   {
    "duration": 3,
    "start_time": "2023-06-11T12:50:30.499Z"
   },
   {
    "duration": 43,
    "start_time": "2023-06-11T12:50:33.014Z"
   },
   {
    "duration": 7,
    "start_time": "2023-06-11T12:50:33.866Z"
   },
   {
    "duration": 6,
    "start_time": "2023-06-11T12:50:37.191Z"
   },
   {
    "duration": 433,
    "start_time": "2023-06-11T12:50:39.261Z"
   },
   {
    "duration": 21516,
    "start_time": "2023-06-11T12:50:46.004Z"
   },
   {
    "duration": 522,
    "start_time": "2023-06-11T12:51:07.522Z"
   },
   {
    "duration": 450,
    "start_time": "2023-06-11T13:17:49.107Z"
   },
   {
    "duration": 22153,
    "start_time": "2023-06-11T13:17:49.559Z"
   },
   {
    "duration": 529,
    "start_time": "2023-06-11T13:18:11.714Z"
   },
   {
    "duration": 518,
    "start_time": "2023-06-11T13:19:21.557Z"
   },
   {
    "duration": 638,
    "start_time": "2023-06-11T13:19:55.592Z"
   },
   {
    "duration": 4,
    "start_time": "2023-06-11T13:23:34.756Z"
   },
   {
    "duration": 21,
    "start_time": "2023-06-11T13:27:13.560Z"
   },
   {
    "duration": 10,
    "start_time": "2023-06-11T13:27:20.862Z"
   },
   {
    "duration": 6,
    "start_time": "2023-06-11T13:27:43.068Z"
   },
   {
    "duration": 6,
    "start_time": "2023-06-11T13:27:46.660Z"
   },
   {
    "duration": 23,
    "start_time": "2023-06-11T13:29:11.392Z"
   },
   {
    "duration": 25769,
    "start_time": "2023-06-11T13:29:28.565Z"
   },
   {
    "duration": 25898,
    "start_time": "2023-06-11T13:32:55.261Z"
   },
   {
    "duration": 1402,
    "start_time": "2023-06-11T13:33:39.304Z"
   },
   {
    "duration": 78,
    "start_time": "2023-06-11T13:33:40.708Z"
   },
   {
    "duration": 17,
    "start_time": "2023-06-11T13:33:40.788Z"
   },
   {
    "duration": 62,
    "start_time": "2023-06-11T13:33:40.808Z"
   },
   {
    "duration": 144,
    "start_time": "2023-06-11T13:33:40.872Z"
   },
   {
    "duration": 5,
    "start_time": "2023-06-11T13:33:41.018Z"
   },
   {
    "duration": 26,
    "start_time": "2023-06-11T13:33:41.025Z"
   },
   {
    "duration": 12,
    "start_time": "2023-06-11T13:33:41.056Z"
   },
   {
    "duration": 13,
    "start_time": "2023-06-11T13:33:41.070Z"
   },
   {
    "duration": 19,
    "start_time": "2023-06-11T13:33:41.086Z"
   },
   {
    "duration": 18,
    "start_time": "2023-06-11T13:33:41.106Z"
   },
   {
    "duration": 7,
    "start_time": "2023-06-11T13:33:41.125Z"
   },
   {
    "duration": 13,
    "start_time": "2023-06-11T13:33:41.134Z"
   },
   {
    "duration": 13,
    "start_time": "2023-06-11T13:33:41.152Z"
   },
   {
    "duration": 3,
    "start_time": "2023-06-11T13:33:41.166Z"
   },
   {
    "duration": 29,
    "start_time": "2023-06-11T13:33:41.170Z"
   },
   {
    "duration": 11,
    "start_time": "2023-06-11T13:33:41.200Z"
   },
   {
    "duration": 4,
    "start_time": "2023-06-11T13:33:41.213Z"
   },
   {
    "duration": 41,
    "start_time": "2023-06-11T13:33:41.218Z"
   },
   {
    "duration": 12,
    "start_time": "2023-06-11T13:33:41.261Z"
   },
   {
    "duration": 3,
    "start_time": "2023-06-11T13:33:41.275Z"
   },
   {
    "duration": 51,
    "start_time": "2023-06-11T13:33:41.280Z"
   },
   {
    "duration": 20,
    "start_time": "2023-06-11T13:33:41.332Z"
   },
   {
    "duration": 8,
    "start_time": "2023-06-11T13:33:41.360Z"
   },
   {
    "duration": 395,
    "start_time": "2023-06-11T13:33:41.370Z"
   },
   {
    "duration": 21990,
    "start_time": "2023-06-11T13:33:41.767Z"
   },
   {
    "duration": 463,
    "start_time": "2023-06-11T13:34:03.759Z"
   },
   {
    "duration": 21563,
    "start_time": "2023-06-11T13:34:04.226Z"
   },
   {
    "duration": 4,
    "start_time": "2023-06-11T13:34:25.790Z"
   },
   {
    "duration": 27100,
    "start_time": "2023-06-11T13:34:25.796Z"
   },
   {
    "duration": 590,
    "start_time": "2023-06-11T13:34:52.898Z"
   },
   {
    "duration": 7,
    "start_time": "2023-06-11T13:34:53.491Z"
   },
   {
    "duration": 7,
    "start_time": "2023-06-11T13:35:03.857Z"
   },
   {
    "duration": 39433,
    "start_time": "2023-06-11T13:35:18.997Z"
   },
   {
    "duration": 6,
    "start_time": "2023-06-11T13:36:13.002Z"
   },
   {
    "duration": 1438,
    "start_time": "2023-06-11T13:36:20.037Z"
   },
   {
    "duration": 90,
    "start_time": "2023-06-11T13:36:21.477Z"
   },
   {
    "duration": 13,
    "start_time": "2023-06-11T13:36:21.569Z"
   },
   {
    "duration": 44,
    "start_time": "2023-06-11T13:36:21.584Z"
   },
   {
    "duration": 159,
    "start_time": "2023-06-11T13:36:21.630Z"
   },
   {
    "duration": 5,
    "start_time": "2023-06-11T13:36:21.790Z"
   },
   {
    "duration": 16,
    "start_time": "2023-06-11T13:36:21.797Z"
   },
   {
    "duration": 10,
    "start_time": "2023-06-11T13:36:21.814Z"
   },
   {
    "duration": 10,
    "start_time": "2023-06-11T13:36:21.825Z"
   },
   {
    "duration": 34,
    "start_time": "2023-06-11T13:36:21.842Z"
   },
   {
    "duration": 16,
    "start_time": "2023-06-11T13:36:21.877Z"
   },
   {
    "duration": 5,
    "start_time": "2023-06-11T13:36:21.896Z"
   },
   {
    "duration": 11,
    "start_time": "2023-06-11T13:36:21.903Z"
   },
   {
    "duration": 11,
    "start_time": "2023-06-11T13:36:21.917Z"
   },
   {
    "duration": 2,
    "start_time": "2023-06-11T13:36:21.930Z"
   },
   {
    "duration": 24,
    "start_time": "2023-06-11T13:36:21.934Z"
   },
   {
    "duration": 17,
    "start_time": "2023-06-11T13:36:21.960Z"
   },
   {
    "duration": 6,
    "start_time": "2023-06-11T13:36:21.979Z"
   },
   {
    "duration": 36,
    "start_time": "2023-06-11T13:36:21.987Z"
   },
   {
    "duration": 41,
    "start_time": "2023-06-11T13:36:22.026Z"
   },
   {
    "duration": 7,
    "start_time": "2023-06-11T13:36:22.070Z"
   },
   {
    "duration": 45,
    "start_time": "2023-06-11T13:36:22.079Z"
   },
   {
    "duration": 5,
    "start_time": "2023-06-11T13:36:22.126Z"
   },
   {
    "duration": 14,
    "start_time": "2023-06-11T13:36:22.133Z"
   },
   {
    "duration": 423,
    "start_time": "2023-06-11T13:36:22.151Z"
   },
   {
    "duration": 22454,
    "start_time": "2023-06-11T13:36:22.575Z"
   },
   {
    "duration": 444,
    "start_time": "2023-06-11T13:36:45.031Z"
   },
   {
    "duration": 22142,
    "start_time": "2023-06-11T13:36:45.476Z"
   },
   {
    "duration": 5,
    "start_time": "2023-06-11T13:37:07.620Z"
   },
   {
    "duration": 38824,
    "start_time": "2023-06-11T13:37:07.626Z"
   },
   {
    "duration": 5,
    "start_time": "2023-06-11T13:37:46.458Z"
   },
   {
    "duration": 526,
    "start_time": "2023-06-11T13:37:46.464Z"
   },
   {
    "duration": 22075,
    "start_time": "2023-06-11T13:37:46.993Z"
   },
   {
    "duration": 1653,
    "start_time": "2023-06-12T15:58:27.420Z"
   },
   {
    "duration": 131,
    "start_time": "2023-06-12T15:58:29.075Z"
   },
   {
    "duration": 18,
    "start_time": "2023-06-12T15:58:29.208Z"
   },
   {
    "duration": 43,
    "start_time": "2023-06-12T15:58:29.228Z"
   },
   {
    "duration": 144,
    "start_time": "2023-06-12T15:58:29.273Z"
   },
   {
    "duration": 5,
    "start_time": "2023-06-12T15:58:29.419Z"
   },
   {
    "duration": 21,
    "start_time": "2023-06-12T15:58:29.425Z"
   },
   {
    "duration": 12,
    "start_time": "2023-06-12T15:58:29.448Z"
   },
   {
    "duration": 16,
    "start_time": "2023-06-12T15:58:29.461Z"
   },
   {
    "duration": 23,
    "start_time": "2023-06-12T15:58:29.480Z"
   },
   {
    "duration": 34,
    "start_time": "2023-06-12T15:58:29.505Z"
   },
   {
    "duration": 75,
    "start_time": "2023-06-12T15:58:29.541Z"
   },
   {
    "duration": 26,
    "start_time": "2023-06-12T15:58:29.618Z"
   },
   {
    "duration": 32,
    "start_time": "2023-06-12T15:58:29.646Z"
   },
   {
    "duration": 22,
    "start_time": "2023-06-12T15:58:29.680Z"
   },
   {
    "duration": 30,
    "start_time": "2023-06-12T15:58:29.704Z"
   },
   {
    "duration": 27,
    "start_time": "2023-06-12T15:58:29.736Z"
   },
   {
    "duration": 54,
    "start_time": "2023-06-12T15:58:29.764Z"
   },
   {
    "duration": 45,
    "start_time": "2023-06-12T15:58:29.820Z"
   },
   {
    "duration": 28,
    "start_time": "2023-06-12T15:58:29.868Z"
   },
   {
    "duration": 38,
    "start_time": "2023-06-12T15:58:29.898Z"
   },
   {
    "duration": 51,
    "start_time": "2023-06-12T15:58:29.938Z"
   },
   {
    "duration": 7,
    "start_time": "2023-06-12T15:58:29.990Z"
   },
   {
    "duration": 64,
    "start_time": "2023-06-12T15:58:29.999Z"
   },
   {
    "duration": 565,
    "start_time": "2023-06-12T15:58:30.065Z"
   },
   {
    "duration": 21468,
    "start_time": "2023-06-12T15:58:30.632Z"
   },
   {
    "duration": 481,
    "start_time": "2023-06-12T15:58:52.102Z"
   },
   {
    "duration": 22419,
    "start_time": "2023-06-12T15:58:52.587Z"
   },
   {
    "duration": 15,
    "start_time": "2023-06-12T15:59:15.008Z"
   },
   {
    "duration": 26901,
    "start_time": "2023-06-12T15:59:15.025Z"
   },
   {
    "duration": 8,
    "start_time": "2023-06-12T15:59:41.927Z"
   },
   {
    "duration": 12,
    "start_time": "2023-06-12T15:59:41.936Z"
   },
   {
    "duration": 580,
    "start_time": "2023-06-12T15:59:41.949Z"
   },
   {
    "duration": 1419,
    "start_time": "2023-06-12T16:01:04.677Z"
   },
   {
    "duration": 77,
    "start_time": "2023-06-12T16:01:06.099Z"
   },
   {
    "duration": 13,
    "start_time": "2023-06-12T16:01:06.178Z"
   },
   {
    "duration": 54,
    "start_time": "2023-06-12T16:01:06.194Z"
   },
   {
    "duration": 150,
    "start_time": "2023-06-12T16:01:06.251Z"
   },
   {
    "duration": 13,
    "start_time": "2023-06-12T16:01:06.403Z"
   },
   {
    "duration": 9,
    "start_time": "2023-06-12T16:01:06.418Z"
   },
   {
    "duration": 24,
    "start_time": "2023-06-12T16:01:06.429Z"
   },
   {
    "duration": 35,
    "start_time": "2023-06-12T16:01:06.455Z"
   },
   {
    "duration": 24,
    "start_time": "2023-06-12T16:01:06.492Z"
   },
   {
    "duration": 74,
    "start_time": "2023-06-12T16:01:06.518Z"
   },
   {
    "duration": 18,
    "start_time": "2023-06-12T16:01:06.594Z"
   },
   {
    "duration": 25,
    "start_time": "2023-06-12T16:01:06.614Z"
   },
   {
    "duration": 26,
    "start_time": "2023-06-12T16:01:06.643Z"
   },
   {
    "duration": 15,
    "start_time": "2023-06-12T16:01:06.672Z"
   },
   {
    "duration": 25,
    "start_time": "2023-06-12T16:01:06.689Z"
   },
   {
    "duration": 9,
    "start_time": "2023-06-12T16:01:06.717Z"
   },
   {
    "duration": 20,
    "start_time": "2023-06-12T16:01:06.728Z"
   },
   {
    "duration": 75,
    "start_time": "2023-06-12T16:01:06.750Z"
   },
   {
    "duration": 44,
    "start_time": "2023-06-12T16:01:06.827Z"
   },
   {
    "duration": 32,
    "start_time": "2023-06-12T16:01:06.873Z"
   },
   {
    "duration": 84,
    "start_time": "2023-06-12T16:01:06.907Z"
   },
   {
    "duration": 8,
    "start_time": "2023-06-12T16:01:06.992Z"
   },
   {
    "duration": 33,
    "start_time": "2023-06-12T16:01:07.003Z"
   },
   {
    "duration": 439,
    "start_time": "2023-06-12T16:01:07.037Z"
   },
   {
    "duration": 21892,
    "start_time": "2023-06-12T16:01:07.477Z"
   },
   {
    "duration": 480,
    "start_time": "2023-06-12T16:01:29.370Z"
   },
   {
    "duration": 22432,
    "start_time": "2023-06-12T16:01:29.852Z"
   },
   {
    "duration": 4,
    "start_time": "2023-06-12T16:01:52.286Z"
   },
   {
    "duration": 128,
    "start_time": "2023-06-12T16:01:52.293Z"
   },
   {
    "duration": 0,
    "start_time": "2023-06-12T16:01:52.423Z"
   },
   {
    "duration": 0,
    "start_time": "2023-06-12T16:01:52.424Z"
   },
   {
    "duration": 0,
    "start_time": "2023-06-12T16:01:52.426Z"
   },
   {
    "duration": 27,
    "start_time": "2023-06-12T16:02:51.044Z"
   },
   {
    "duration": 28015,
    "start_time": "2023-06-12T16:02:59.582Z"
   },
   {
    "duration": 4,
    "start_time": "2023-06-12T16:03:34.072Z"
   },
   {
    "duration": 5,
    "start_time": "2023-06-12T16:03:34.287Z"
   },
   {
    "duration": 650,
    "start_time": "2023-06-12T16:04:03.735Z"
   },
   {
    "duration": 1218,
    "start_time": "2023-06-13T13:50:08.748Z"
   },
   {
    "duration": 1868,
    "start_time": "2023-06-13T13:50:22.605Z"
   },
   {
    "duration": 180,
    "start_time": "2023-06-13T13:50:24.477Z"
   },
   {
    "duration": 20,
    "start_time": "2023-06-13T13:50:24.659Z"
   },
   {
    "duration": 75,
    "start_time": "2023-06-13T13:50:24.681Z"
   },
   {
    "duration": 163,
    "start_time": "2023-06-13T13:50:24.758Z"
   },
   {
    "duration": 6,
    "start_time": "2023-06-13T13:50:24.923Z"
   },
   {
    "duration": 28,
    "start_time": "2023-06-13T13:50:24.931Z"
   },
   {
    "duration": 52,
    "start_time": "2023-06-13T13:50:24.960Z"
   },
   {
    "duration": 10,
    "start_time": "2023-06-13T13:50:25.014Z"
   },
   {
    "duration": 20,
    "start_time": "2023-06-13T13:50:25.026Z"
   },
   {
    "duration": 12,
    "start_time": "2023-06-13T13:50:25.048Z"
   },
   {
    "duration": 7,
    "start_time": "2023-06-13T13:50:25.062Z"
   },
   {
    "duration": 69,
    "start_time": "2023-06-13T13:50:25.071Z"
   },
   {
    "duration": 20,
    "start_time": "2023-06-13T13:50:25.142Z"
   },
   {
    "duration": 28,
    "start_time": "2023-06-13T13:50:25.165Z"
   },
   {
    "duration": 24,
    "start_time": "2023-06-13T13:50:25.198Z"
   },
   {
    "duration": 9,
    "start_time": "2023-06-13T13:50:25.223Z"
   },
   {
    "duration": 16,
    "start_time": "2023-06-13T13:50:25.234Z"
   },
   {
    "duration": 96,
    "start_time": "2023-06-13T13:50:25.252Z"
   },
   {
    "duration": 13,
    "start_time": "2023-06-13T13:50:25.349Z"
   },
   {
    "duration": 5,
    "start_time": "2023-06-13T13:50:25.364Z"
   },
   {
    "duration": 69,
    "start_time": "2023-06-13T13:50:25.371Z"
   },
   {
    "duration": 6,
    "start_time": "2023-06-13T13:50:25.443Z"
   },
   {
    "duration": 15,
    "start_time": "2023-06-13T13:50:25.450Z"
   },
   {
    "duration": 543,
    "start_time": "2023-06-13T13:50:25.467Z"
   },
   {
    "duration": 23437,
    "start_time": "2023-06-13T13:50:26.011Z"
   },
   {
    "duration": 535,
    "start_time": "2023-06-13T13:50:49.450Z"
   },
   {
    "duration": 24498,
    "start_time": "2023-06-13T13:50:49.992Z"
   },
   {
    "duration": 10,
    "start_time": "2023-06-13T13:51:14.492Z"
   },
   {
    "duration": 2719,
    "start_time": "2023-06-14T11:56:27.688Z"
   },
   {
    "duration": 228,
    "start_time": "2023-06-14T11:56:30.410Z"
   },
   {
    "duration": 14,
    "start_time": "2023-06-14T11:56:30.641Z"
   },
   {
    "duration": 101,
    "start_time": "2023-06-14T11:56:30.657Z"
   },
   {
    "duration": 170,
    "start_time": "2023-06-14T11:56:30.761Z"
   },
   {
    "duration": 6,
    "start_time": "2023-06-14T11:56:30.933Z"
   },
   {
    "duration": 67,
    "start_time": "2023-06-14T11:56:30.941Z"
   },
   {
    "duration": 52,
    "start_time": "2023-06-14T11:56:31.009Z"
   },
   {
    "duration": 52,
    "start_time": "2023-06-14T11:56:31.068Z"
   },
   {
    "duration": 63,
    "start_time": "2023-06-14T11:56:31.122Z"
   },
   {
    "duration": 60,
    "start_time": "2023-06-14T11:56:31.187Z"
   },
   {
    "duration": 42,
    "start_time": "2023-06-14T11:56:31.249Z"
   },
   {
    "duration": 34,
    "start_time": "2023-06-14T11:56:31.293Z"
   },
   {
    "duration": 50,
    "start_time": "2023-06-14T11:56:31.331Z"
   },
   {
    "duration": 49,
    "start_time": "2023-06-14T11:56:31.382Z"
   },
   {
    "duration": 84,
    "start_time": "2023-06-14T11:56:31.433Z"
   },
   {
    "duration": 49,
    "start_time": "2023-06-14T11:56:31.519Z"
   },
   {
    "duration": 32,
    "start_time": "2023-06-14T11:56:31.570Z"
   },
   {
    "duration": 102,
    "start_time": "2023-06-14T11:56:31.604Z"
   },
   {
    "duration": 30,
    "start_time": "2023-06-14T11:56:31.708Z"
   },
   {
    "duration": 76,
    "start_time": "2023-06-14T11:56:31.740Z"
   },
   {
    "duration": 83,
    "start_time": "2023-06-14T11:56:31.818Z"
   },
   {
    "duration": 7,
    "start_time": "2023-06-14T11:56:31.902Z"
   },
   {
    "duration": 37,
    "start_time": "2023-06-14T11:56:31.910Z"
   },
   {
    "duration": 485,
    "start_time": "2023-06-14T11:56:31.949Z"
   },
   {
    "duration": 21589,
    "start_time": "2023-06-14T11:56:32.436Z"
   },
   {
    "duration": 421,
    "start_time": "2023-06-14T11:56:54.026Z"
   },
   {
    "duration": 21715,
    "start_time": "2023-06-14T11:56:54.457Z"
   },
   {
    "duration": 6,
    "start_time": "2023-06-14T11:57:16.174Z"
   },
   {
    "duration": 47,
    "start_time": "2023-06-19T06:11:38.259Z"
   },
   {
    "duration": 1482,
    "start_time": "2023-06-19T06:11:45.019Z"
   },
   {
    "duration": 107,
    "start_time": "2023-06-19T06:11:46.503Z"
   },
   {
    "duration": 12,
    "start_time": "2023-06-19T06:11:46.612Z"
   },
   {
    "duration": 63,
    "start_time": "2023-06-19T06:11:46.625Z"
   },
   {
    "duration": 116,
    "start_time": "2023-06-19T06:11:46.691Z"
   },
   {
    "duration": 11,
    "start_time": "2023-06-19T06:11:46.809Z"
   },
   {
    "duration": 10,
    "start_time": "2023-06-19T06:11:46.822Z"
   },
   {
    "duration": 7,
    "start_time": "2023-06-19T06:11:46.834Z"
   },
   {
    "duration": 6,
    "start_time": "2023-06-19T06:11:46.842Z"
   },
   {
    "duration": 12,
    "start_time": "2023-06-19T06:11:46.849Z"
   },
   {
    "duration": 16,
    "start_time": "2023-06-19T06:11:46.862Z"
   },
   {
    "duration": 4,
    "start_time": "2023-06-19T06:11:46.879Z"
   },
   {
    "duration": 5,
    "start_time": "2023-06-19T06:11:46.884Z"
   },
   {
    "duration": 34,
    "start_time": "2023-06-19T06:11:46.891Z"
   },
   {
    "duration": 3,
    "start_time": "2023-06-19T06:11:46.927Z"
   },
   {
    "duration": 18,
    "start_time": "2023-06-19T06:11:46.931Z"
   },
   {
    "duration": 12,
    "start_time": "2023-06-19T06:11:46.951Z"
   },
   {
    "duration": 25,
    "start_time": "2023-06-19T06:11:46.965Z"
   },
   {
    "duration": 31,
    "start_time": "2023-06-19T06:11:46.992Z"
   },
   {
    "duration": 9,
    "start_time": "2023-06-19T06:11:47.025Z"
   },
   {
    "duration": 16,
    "start_time": "2023-06-19T06:11:47.036Z"
   },
   {
    "duration": 44,
    "start_time": "2023-06-19T06:11:47.054Z"
   },
   {
    "duration": 4,
    "start_time": "2023-06-19T06:11:47.100Z"
   },
   {
    "duration": 28,
    "start_time": "2023-06-19T06:11:47.105Z"
   },
   {
    "duration": 801,
    "start_time": "2023-06-19T06:11:47.134Z"
   },
   {
    "duration": 21242,
    "start_time": "2023-06-19T06:11:47.936Z"
   },
   {
    "duration": 431,
    "start_time": "2023-06-19T06:12:09.180Z"
   },
   {
    "duration": 21538,
    "start_time": "2023-06-19T06:12:09.612Z"
   },
   {
    "duration": 4,
    "start_time": "2023-06-19T06:12:31.151Z"
   },
   {
    "duration": 734646,
    "start_time": "2023-06-19T06:12:31.156Z"
   },
   {
    "duration": 6,
    "start_time": "2023-06-19T06:24:45.804Z"
   },
   {
    "duration": 4,
    "start_time": "2023-06-19T06:24:45.820Z"
   },
   {
    "duration": 548,
    "start_time": "2023-06-19T06:24:45.826Z"
   },
   {
    "duration": 1427,
    "start_time": "2023-10-20T06:26:46.280Z"
   },
   {
    "duration": 4,
    "start_time": "2023-10-20T06:27:02.119Z"
   },
   {
    "duration": 84,
    "start_time": "2023-10-20T06:27:12.353Z"
   },
   {
    "duration": 33,
    "start_time": "2023-10-20T06:27:16.830Z"
   },
   {
    "duration": 14,
    "start_time": "2023-10-20T06:27:33.398Z"
   },
   {
    "duration": 48,
    "start_time": "2023-10-20T06:27:44.431Z"
   },
   {
    "duration": 127,
    "start_time": "2023-10-20T06:27:57.791Z"
   },
   {
    "duration": 5,
    "start_time": "2023-10-20T06:28:05.554Z"
   },
   {
    "duration": 7,
    "start_time": "2023-10-20T06:28:18.278Z"
   },
   {
    "duration": 4,
    "start_time": "2023-10-20T06:28:22.110Z"
   },
   {
    "duration": 11,
    "start_time": "2023-10-20T06:29:30.590Z"
   },
   {
    "duration": 9,
    "start_time": "2023-10-20T06:29:35.712Z"
   },
   {
    "duration": 5,
    "start_time": "2023-10-20T06:29:39.553Z"
   },
   {
    "duration": 5,
    "start_time": "2023-10-20T06:29:40.200Z"
   },
   {
    "duration": 6,
    "start_time": "2023-10-20T06:31:32.338Z"
   },
   {
    "duration": 35,
    "start_time": "2023-10-20T06:31:42.337Z"
   },
   {
    "duration": 134,
    "start_time": "2023-10-20T06:32:02.966Z"
   },
   {
    "duration": 1297,
    "start_time": "2023-10-20T06:33:22.177Z"
   },
   {
    "duration": 40,
    "start_time": "2023-10-20T06:33:23.475Z"
   },
   {
    "duration": 19,
    "start_time": "2023-10-20T06:33:23.516Z"
   },
   {
    "duration": 22,
    "start_time": "2023-10-20T06:33:23.536Z"
   },
   {
    "duration": 33,
    "start_time": "2023-10-20T06:33:23.561Z"
   },
   {
    "duration": 126,
    "start_time": "2023-10-20T06:33:23.596Z"
   },
   {
    "duration": 4,
    "start_time": "2023-10-20T06:33:23.723Z"
   },
   {
    "duration": 19,
    "start_time": "2023-10-20T06:33:23.729Z"
   },
   {
    "duration": 5,
    "start_time": "2023-10-20T06:33:23.749Z"
   },
   {
    "duration": 11,
    "start_time": "2023-10-20T06:33:23.756Z"
   },
   {
    "duration": 10,
    "start_time": "2023-10-20T06:33:23.768Z"
   },
   {
    "duration": 4,
    "start_time": "2023-10-20T06:33:23.779Z"
   },
   {
    "duration": 18,
    "start_time": "2023-10-20T06:33:23.784Z"
   },
   {
    "duration": 4,
    "start_time": "2023-10-20T06:33:23.805Z"
   },
   {
    "duration": 58,
    "start_time": "2023-10-20T06:33:23.810Z"
   },
   {
    "duration": 10,
    "start_time": "2023-10-20T06:33:23.869Z"
   },
   {
    "duration": 35,
    "start_time": "2023-10-20T06:33:23.880Z"
   },
   {
    "duration": 28,
    "start_time": "2023-10-20T06:33:23.916Z"
   },
   {
    "duration": 7,
    "start_time": "2023-10-20T06:33:23.945Z"
   },
   {
    "duration": 428,
    "start_time": "2023-10-20T06:33:23.953Z"
   },
   {
    "duration": 21547,
    "start_time": "2023-10-20T06:33:24.383Z"
   },
   {
    "duration": 474,
    "start_time": "2023-10-20T06:33:45.932Z"
   },
   {
    "duration": 21968,
    "start_time": "2023-10-20T06:33:46.407Z"
   },
   {
    "duration": 4,
    "start_time": "2023-10-20T06:34:08.377Z"
   },
   {
    "duration": 779565,
    "start_time": "2023-10-20T06:34:08.383Z"
   },
   {
    "duration": 7,
    "start_time": "2023-10-20T06:47:07.949Z"
   },
   {
    "duration": 6,
    "start_time": "2023-10-20T06:47:07.958Z"
   },
   {
    "duration": 592,
    "start_time": "2023-10-20T06:47:07.965Z"
   }
  ],
  "kernelspec": {
   "display_name": "Python 3 (ipykernel)",
   "language": "python",
   "name": "python3"
  },
  "language_info": {
   "codemirror_mode": {
    "name": "ipython",
    "version": 3
   },
   "file_extension": ".py",
   "mimetype": "text/x-python",
   "name": "python",
   "nbconvert_exporter": "python",
   "pygments_lexer": "ipython3",
   "version": "3.9.5"
  },
  "toc": {
   "base_numbering": 1,
   "nav_menu": {},
   "number_sections": true,
   "sideBar": true,
   "skip_h1_title": true,
   "title_cell": "Содержание",
   "title_sidebar": "Contents",
   "toc_cell": true,
   "toc_position": {
    "height": "calc(100% - 180px)",
    "left": "10px",
    "top": "150px",
    "width": "362.391px"
   },
   "toc_section_display": true,
   "toc_window_display": true
  }
 },
 "nbformat": 4,
 "nbformat_minor": 2
}
