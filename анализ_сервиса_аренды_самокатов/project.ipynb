{
 "cells": [
  {
   "cell_type": "markdown",
   "id": "f09105b2",
   "metadata": {},
   "source": [
    "<h1> GoFast  </h1>"
   ]
  },
  {
   "cell_type": "markdown",
   "id": "15ebaf5c",
   "metadata": {},
   "source": [
    "Будем анализировать популярный сервис аренды самокатов GoFast. У нас есть данные о некоторых пользователях из нескольких городов, а также об их поездках. Нужно проанализировать данные и провереть некоторые гипотезы, которые могут помочь бизнесу вырасти.\n",
    "\n",
    "Чтобы совершать поездки по городу, пользователи сервиса GoFast пользуются мобильным приложением. Сервисом можно пользоваться:\n",
    "\n",
    "\n",
    "без подписки\n",
    "- абонентская плата отсутствует;\n",
    "- стоимость одной минуты поездки - 8 рублей;\n",
    "- стоимость старта (начала поездки) 50 рублей;\n",
    "с подпиской Ultra\n",
    "\n",
    "\n",
    "абонентская плата — \n",
    "- 199 рублей в месяц;\n",
    "- стоимость одной минуты поездки — 6 рублей;\n",
    "- стоимость старта — бесплатно."
   ]
  },
  {
   "cell_type": "markdown",
   "id": "2e501dd9",
   "metadata": {},
   "source": [
    "Продакт-менеджеры сервиса хотят увеличить количество пользователей с подпиской. Для этого они будут проводить различные акции, но сначала нужно выяснить несколько важных моментов.\n",
    "\n",
    "\n",
    "- 1 Важно понять, тратят ли пользователи с подпиской больше времени на поездки? Если да, то пользователи с подпиской могут быть «выгоднее» для компании\n",
    "\n",
    "\n",
    "- 2 Расстояние одной поездки в 3130 метров — оптимальное с точки зрения износа самоката. Можно ли сказать, что среднее расстояние, которое проезжают пользователи с подпиской за одну поездку, не превышает его?\n",
    "\n",
    "\n",
    "- 3 Будет ли помесячная выручка от пользователей с подпиской по месяцам выше, чем выручка от пользователей без подписки. \n"
   ]
  },
  {
   "cell_type": "markdown",
   "id": "491ee29b",
   "metadata": {},
   "source": [
    "**Импорт библиотек**"
   ]
  },
  {
   "cell_type": "code",
   "execution_count": 1,
   "id": "72576667",
   "metadata": {},
   "outputs": [],
   "source": [
    "import pandas as pd\n",
    "from scipy import stats as st\n",
    "import numpy as np\n",
    "from scipy.stats import binom\n",
    "from matplotlib import pyplot as plt\n",
    "from math import factorial\n",
    "from math import sqrt"
   ]
  },
  {
   "cell_type": "markdown",
   "id": "c42cbe00",
   "metadata": {},
   "source": [
    "#### Загрузка данных"
   ]
  },
  {
   "cell_type": "markdown",
   "id": "4a822b17",
   "metadata": {},
   "source": [
    "Изучим датасет клиентов"
   ]
  },
  {
   "cell_type": "code",
   "execution_count": 2,
   "id": "eff9f206",
   "metadata": {},
   "outputs": [],
   "source": [
    "clients = pd.read_csv('/datasets/users_go.csv')"
   ]
  },
  {
   "cell_type": "code",
   "execution_count": 3,
   "id": "c94f57b1",
   "metadata": {},
   "outputs": [
    {
     "data": {
      "text/html": [
       "<div>\n",
       "<style scoped>\n",
       "    .dataframe tbody tr th:only-of-type {\n",
       "        vertical-align: middle;\n",
       "    }\n",
       "\n",
       "    .dataframe tbody tr th {\n",
       "        vertical-align: top;\n",
       "    }\n",
       "\n",
       "    .dataframe thead th {\n",
       "        text-align: right;\n",
       "    }\n",
       "</style>\n",
       "<table border=\"1\" class=\"dataframe\">\n",
       "  <thead>\n",
       "    <tr style=\"text-align: right;\">\n",
       "      <th></th>\n",
       "      <th>user_id</th>\n",
       "      <th>name</th>\n",
       "      <th>age</th>\n",
       "      <th>city</th>\n",
       "      <th>subscription_type</th>\n",
       "    </tr>\n",
       "  </thead>\n",
       "  <tbody>\n",
       "    <tr>\n",
       "      <th>554</th>\n",
       "      <td>555</td>\n",
       "      <td>Ксения</td>\n",
       "      <td>25</td>\n",
       "      <td>Сочи</td>\n",
       "      <td>ultra</td>\n",
       "    </tr>\n",
       "    <tr>\n",
       "      <th>1547</th>\n",
       "      <td>635</td>\n",
       "      <td>Герман</td>\n",
       "      <td>21</td>\n",
       "      <td>Москва</td>\n",
       "      <td>ultra</td>\n",
       "    </tr>\n",
       "    <tr>\n",
       "      <th>928</th>\n",
       "      <td>929</td>\n",
       "      <td>Василина</td>\n",
       "      <td>23</td>\n",
       "      <td>Краснодар</td>\n",
       "      <td>free</td>\n",
       "    </tr>\n",
       "    <tr>\n",
       "      <th>20</th>\n",
       "      <td>21</td>\n",
       "      <td>Святогор</td>\n",
       "      <td>14</td>\n",
       "      <td>Ростов-на-Дону</td>\n",
       "      <td>ultra</td>\n",
       "    </tr>\n",
       "    <tr>\n",
       "      <th>990</th>\n",
       "      <td>991</td>\n",
       "      <td>Вера</td>\n",
       "      <td>28</td>\n",
       "      <td>Тюмень</td>\n",
       "      <td>free</td>\n",
       "    </tr>\n",
       "    <tr>\n",
       "      <th>422</th>\n",
       "      <td>423</td>\n",
       "      <td>Дмитрий</td>\n",
       "      <td>23</td>\n",
       "      <td>Москва</td>\n",
       "      <td>ultra</td>\n",
       "    </tr>\n",
       "    <tr>\n",
       "      <th>487</th>\n",
       "      <td>488</td>\n",
       "      <td>Владимир</td>\n",
       "      <td>31</td>\n",
       "      <td>Пятигорск</td>\n",
       "      <td>ultra</td>\n",
       "    </tr>\n",
       "    <tr>\n",
       "      <th>400</th>\n",
       "      <td>401</td>\n",
       "      <td>Ян</td>\n",
       "      <td>23</td>\n",
       "      <td>Пятигорск</td>\n",
       "      <td>ultra</td>\n",
       "    </tr>\n",
       "    <tr>\n",
       "      <th>759</th>\n",
       "      <td>760</td>\n",
       "      <td>Иван</td>\n",
       "      <td>22</td>\n",
       "      <td>Ростов-на-Дону</td>\n",
       "      <td>free</td>\n",
       "    </tr>\n",
       "    <tr>\n",
       "      <th>33</th>\n",
       "      <td>34</td>\n",
       "      <td>Федор</td>\n",
       "      <td>17</td>\n",
       "      <td>Краснодар</td>\n",
       "      <td>ultra</td>\n",
       "    </tr>\n",
       "    <tr>\n",
       "      <th>664</th>\n",
       "      <td>665</td>\n",
       "      <td>Герман</td>\n",
       "      <td>12</td>\n",
       "      <td>Сочи</td>\n",
       "      <td>ultra</td>\n",
       "    </tr>\n",
       "    <tr>\n",
       "      <th>1491</th>\n",
       "      <td>1492</td>\n",
       "      <td>Григорий</td>\n",
       "      <td>36</td>\n",
       "      <td>Краснодар</td>\n",
       "      <td>free</td>\n",
       "    </tr>\n",
       "    <tr>\n",
       "      <th>87</th>\n",
       "      <td>88</td>\n",
       "      <td>Алла</td>\n",
       "      <td>29</td>\n",
       "      <td>Тюмень</td>\n",
       "      <td>ultra</td>\n",
       "    </tr>\n",
       "    <tr>\n",
       "      <th>930</th>\n",
       "      <td>931</td>\n",
       "      <td>Дамир</td>\n",
       "      <td>34</td>\n",
       "      <td>Москва</td>\n",
       "      <td>free</td>\n",
       "    </tr>\n",
       "    <tr>\n",
       "      <th>1259</th>\n",
       "      <td>1260</td>\n",
       "      <td>Одиссей</td>\n",
       "      <td>26</td>\n",
       "      <td>Москва</td>\n",
       "      <td>free</td>\n",
       "    </tr>\n",
       "  </tbody>\n",
       "</table>\n",
       "</div>"
      ],
      "text/plain": [
       "      user_id      name  age            city subscription_type\n",
       "554       555    Ксения   25            Сочи             ultra\n",
       "1547      635    Герман   21          Москва             ultra\n",
       "928       929  Василина   23       Краснодар              free\n",
       "20         21  Святогор   14  Ростов-на-Дону             ultra\n",
       "990       991      Вера   28          Тюмень              free\n",
       "422       423   Дмитрий   23          Москва             ultra\n",
       "487       488  Владимир   31       Пятигорск             ultra\n",
       "400       401        Ян   23       Пятигорск             ultra\n",
       "759       760      Иван   22  Ростов-на-Дону              free\n",
       "33         34     Федор   17       Краснодар             ultra\n",
       "664       665    Герман   12            Сочи             ultra\n",
       "1491     1492  Григорий   36       Краснодар              free\n",
       "87         88      Алла   29          Тюмень             ultra\n",
       "930       931     Дамир   34          Москва              free\n",
       "1259     1260   Одиссей   26          Москва              free"
      ]
     },
     "execution_count": 3,
     "metadata": {},
     "output_type": "execute_result"
    }
   ],
   "source": [
    "clients.sample(15)"
   ]
  },
  {
   "cell_type": "markdown",
   "id": "557441a9",
   "metadata": {},
   "source": [
    "- user_id\t- уникальный идентификатор пользователя\n",
    "- name - имя пользователя\n",
    "- age - возраст\n",
    "- city - город\n",
    "- subscription_type - тип подписки (free/ultra)"
   ]
  },
  {
   "cell_type": "markdown",
   "id": "03e6bd26",
   "metadata": {},
   "source": [
    "Посмотрим на общее описание данных"
   ]
  },
  {
   "cell_type": "code",
   "execution_count": 4,
   "id": "d6e3fc32",
   "metadata": {},
   "outputs": [
    {
     "name": "stdout",
     "output_type": "stream",
     "text": [
      "<class 'pandas.core.frame.DataFrame'>\n",
      "RangeIndex: 1565 entries, 0 to 1564\n",
      "Data columns (total 5 columns):\n",
      " #   Column             Non-Null Count  Dtype \n",
      "---  ------             --------------  ----- \n",
      " 0   user_id            1565 non-null   int64 \n",
      " 1   name               1565 non-null   object\n",
      " 2   age                1565 non-null   int64 \n",
      " 3   city               1565 non-null   object\n",
      " 4   subscription_type  1565 non-null   object\n",
      "dtypes: int64(2), object(3)\n",
      "memory usage: 61.3+ KB\n"
     ]
    }
   ],
   "source": [
    "clients.info()"
   ]
  },
  {
   "cell_type": "markdown",
   "id": "04c3fe0d",
   "metadata": {},
   "source": [
    "На удивление хороший результат, пропусков нет, типы данных соотнесены отлично, а название столбцов придерживаются одного хорошего стиля. Посмотрим касается ли это других фреймов."
   ]
  },
  {
   "cell_type": "code",
   "execution_count": 5,
   "id": "5a137e54",
   "metadata": {},
   "outputs": [],
   "source": [
    "rides = pd.read_csv('/datasets/rides_go.csv')"
   ]
  },
  {
   "cell_type": "code",
   "execution_count": 6,
   "id": "d3de5bbe",
   "metadata": {},
   "outputs": [
    {
     "data": {
      "text/html": [
       "<div>\n",
       "<style scoped>\n",
       "    .dataframe tbody tr th:only-of-type {\n",
       "        vertical-align: middle;\n",
       "    }\n",
       "\n",
       "    .dataframe tbody tr th {\n",
       "        vertical-align: top;\n",
       "    }\n",
       "\n",
       "    .dataframe thead th {\n",
       "        text-align: right;\n",
       "    }\n",
       "</style>\n",
       "<table border=\"1\" class=\"dataframe\">\n",
       "  <thead>\n",
       "    <tr style=\"text-align: right;\">\n",
       "      <th></th>\n",
       "      <th>user_id</th>\n",
       "      <th>distance</th>\n",
       "      <th>duration</th>\n",
       "      <th>date</th>\n",
       "    </tr>\n",
       "  </thead>\n",
       "  <tbody>\n",
       "    <tr>\n",
       "      <th>7118</th>\n",
       "      <td>742</td>\n",
       "      <td>3186.456788</td>\n",
       "      <td>10.647496</td>\n",
       "      <td>2021-06-15</td>\n",
       "    </tr>\n",
       "    <tr>\n",
       "      <th>8789</th>\n",
       "      <td>871</td>\n",
       "      <td>469.081346</td>\n",
       "      <td>15.407244</td>\n",
       "      <td>2021-06-26</td>\n",
       "    </tr>\n",
       "    <tr>\n",
       "      <th>465</th>\n",
       "      <td>50</td>\n",
       "      <td>3099.800071</td>\n",
       "      <td>15.940471</td>\n",
       "      <td>2021-11-21</td>\n",
       "    </tr>\n",
       "    <tr>\n",
       "      <th>11182</th>\n",
       "      <td>1042</td>\n",
       "      <td>2532.417107</td>\n",
       "      <td>24.813184</td>\n",
       "      <td>2021-06-20</td>\n",
       "    </tr>\n",
       "    <tr>\n",
       "      <th>15862</th>\n",
       "      <td>1380</td>\n",
       "      <td>3803.856631</td>\n",
       "      <td>24.556261</td>\n",
       "      <td>2021-12-03</td>\n",
       "    </tr>\n",
       "    <tr>\n",
       "      <th>14891</th>\n",
       "      <td>1309</td>\n",
       "      <td>5247.369257</td>\n",
       "      <td>27.311007</td>\n",
       "      <td>2021-08-31</td>\n",
       "    </tr>\n",
       "    <tr>\n",
       "      <th>8634</th>\n",
       "      <td>859</td>\n",
       "      <td>2777.896986</td>\n",
       "      <td>20.905273</td>\n",
       "      <td>2021-10-06</td>\n",
       "    </tr>\n",
       "    <tr>\n",
       "      <th>14404</th>\n",
       "      <td>1272</td>\n",
       "      <td>2855.501541</td>\n",
       "      <td>17.853204</td>\n",
       "      <td>2021-07-12</td>\n",
       "    </tr>\n",
       "    <tr>\n",
       "      <th>15238</th>\n",
       "      <td>1333</td>\n",
       "      <td>4720.637417</td>\n",
       "      <td>26.874466</td>\n",
       "      <td>2021-03-05</td>\n",
       "    </tr>\n",
       "    <tr>\n",
       "      <th>9163</th>\n",
       "      <td>898</td>\n",
       "      <td>5149.985202</td>\n",
       "      <td>28.071365</td>\n",
       "      <td>2021-10-21</td>\n",
       "    </tr>\n",
       "    <tr>\n",
       "      <th>9043</th>\n",
       "      <td>890</td>\n",
       "      <td>4418.324507</td>\n",
       "      <td>22.594086</td>\n",
       "      <td>2021-08-05</td>\n",
       "    </tr>\n",
       "    <tr>\n",
       "      <th>17022</th>\n",
       "      <td>1461</td>\n",
       "      <td>3396.112529</td>\n",
       "      <td>16.320375</td>\n",
       "      <td>2021-02-06</td>\n",
       "    </tr>\n",
       "    <tr>\n",
       "      <th>5717</th>\n",
       "      <td>611</td>\n",
       "      <td>3458.968221</td>\n",
       "      <td>13.412075</td>\n",
       "      <td>2021-05-11</td>\n",
       "    </tr>\n",
       "    <tr>\n",
       "      <th>7505</th>\n",
       "      <td>772</td>\n",
       "      <td>3402.954012</td>\n",
       "      <td>17.292044</td>\n",
       "      <td>2021-03-15</td>\n",
       "    </tr>\n",
       "    <tr>\n",
       "      <th>5447</th>\n",
       "      <td>582</td>\n",
       "      <td>2631.367195</td>\n",
       "      <td>19.788203</td>\n",
       "      <td>2021-06-15</td>\n",
       "    </tr>\n",
       "  </tbody>\n",
       "</table>\n",
       "</div>"
      ],
      "text/plain": [
       "       user_id     distance   duration        date\n",
       "7118       742  3186.456788  10.647496  2021-06-15\n",
       "8789       871   469.081346  15.407244  2021-06-26\n",
       "465         50  3099.800071  15.940471  2021-11-21\n",
       "11182     1042  2532.417107  24.813184  2021-06-20\n",
       "15862     1380  3803.856631  24.556261  2021-12-03\n",
       "14891     1309  5247.369257  27.311007  2021-08-31\n",
       "8634       859  2777.896986  20.905273  2021-10-06\n",
       "14404     1272  2855.501541  17.853204  2021-07-12\n",
       "15238     1333  4720.637417  26.874466  2021-03-05\n",
       "9163       898  5149.985202  28.071365  2021-10-21\n",
       "9043       890  4418.324507  22.594086  2021-08-05\n",
       "17022     1461  3396.112529  16.320375  2021-02-06\n",
       "5717       611  3458.968221  13.412075  2021-05-11\n",
       "7505       772  3402.954012  17.292044  2021-03-15\n",
       "5447       582  2631.367195  19.788203  2021-06-15"
      ]
     },
     "execution_count": 6,
     "metadata": {},
     "output_type": "execute_result"
    }
   ],
   "source": [
    "rides.sample(15)"
   ]
  },
  {
   "cell_type": "markdown",
   "id": "ac61aaa6",
   "metadata": {},
   "source": [
    "- user_id -\tуникальный идентификатор пользователя\n",
    "- distance - расстояние, которое пользователь проехал в текущей сессии (в метрах)\n",
    "- duration- продолжительность сессии (в минутах) — время с того момента, как пользователь нажал кнопку «Начать поездку» до момента, как он нажал кнопку «Завершить поездку»\n",
    "- date\tдата совершения поездки"
   ]
  },
  {
   "cell_type": "markdown",
   "id": "6c890274",
   "metadata": {},
   "source": [
    "Выглядит неплохо, что там по структуре таблицы? "
   ]
  },
  {
   "cell_type": "code",
   "execution_count": 7,
   "id": "25633ee0",
   "metadata": {},
   "outputs": [
    {
     "name": "stdout",
     "output_type": "stream",
     "text": [
      "<class 'pandas.core.frame.DataFrame'>\n",
      "RangeIndex: 18068 entries, 0 to 18067\n",
      "Data columns (total 4 columns):\n",
      " #   Column    Non-Null Count  Dtype  \n",
      "---  ------    --------------  -----  \n",
      " 0   user_id   18068 non-null  int64  \n",
      " 1   distance  18068 non-null  float64\n",
      " 2   duration  18068 non-null  float64\n",
      " 3   date      18068 non-null  object \n",
      "dtypes: float64(2), int64(1), object(1)\n",
      "memory usage: 564.8+ KB\n"
     ]
    }
   ],
   "source": [
    "rides.info()"
   ]
  },
  {
   "cell_type": "markdown",
   "id": "c7d05489",
   "metadata": {},
   "source": [
    "Предварительно, тут тоже все хорошо, только бы тип данных в date изменить, но лучше утвержать ничего не буду, может где-то длительнность поездки указана в дргуих измерениях и тд, проверю по мере изучения и обработки данных\n",
    "\n",
    "А пока посмотрим на оставшиюся таблицу"
   ]
  },
  {
   "cell_type": "code",
   "execution_count": 8,
   "id": "bf1ca39c",
   "metadata": {},
   "outputs": [],
   "source": [
    "subs = pd.read_csv('/datasets/subscriptions_go.csv')"
   ]
  },
  {
   "cell_type": "code",
   "execution_count": 13,
   "id": "d1aea301",
   "metadata": {
    "scrolled": true
   },
   "outputs": [
    {
     "data": {
      "text/html": [
       "<div>\n",
       "<style scoped>\n",
       "    .dataframe tbody tr th:only-of-type {\n",
       "        vertical-align: middle;\n",
       "    }\n",
       "\n",
       "    .dataframe tbody tr th {\n",
       "        vertical-align: top;\n",
       "    }\n",
       "\n",
       "    .dataframe thead th {\n",
       "        text-align: right;\n",
       "    }\n",
       "</style>\n",
       "<table border=\"1\" class=\"dataframe\">\n",
       "  <thead>\n",
       "    <tr style=\"text-align: right;\">\n",
       "      <th></th>\n",
       "      <th>subscription_type</th>\n",
       "      <th>minute_price</th>\n",
       "      <th>start_ride_price</th>\n",
       "      <th>subscription_fee</th>\n",
       "    </tr>\n",
       "  </thead>\n",
       "  <tbody>\n",
       "    <tr>\n",
       "      <th>0</th>\n",
       "      <td>free</td>\n",
       "      <td>8</td>\n",
       "      <td>50</td>\n",
       "      <td>0</td>\n",
       "    </tr>\n",
       "    <tr>\n",
       "      <th>1</th>\n",
       "      <td>ultra</td>\n",
       "      <td>6</td>\n",
       "      <td>0</td>\n",
       "      <td>199</td>\n",
       "    </tr>\n",
       "  </tbody>\n",
       "</table>\n",
       "</div>"
      ],
      "text/plain": [
       "  subscription_type  minute_price  start_ride_price  subscription_fee\n",
       "0              free             8                50                 0\n",
       "1             ultra             6                 0               199"
      ]
     },
     "execution_count": 13,
     "metadata": {},
     "output_type": "execute_result"
    }
   ],
   "source": [
    "subs"
   ]
  },
  {
   "cell_type": "markdown",
   "id": "00758193",
   "metadata": {},
   "source": [
    "- subscription_type\t- тип подписки\n",
    "- minute_price\t- стоимость одной минуты поездки по данной подписке\n",
    "- start_ride_price - стоимость начала поездки\n",
    "- subscription_fee - стоимость ежемесячного платежа"
   ]
  },
  {
   "cell_type": "code",
   "execution_count": 14,
   "id": "e14a45bc",
   "metadata": {},
   "outputs": [
    {
     "name": "stdout",
     "output_type": "stream",
     "text": [
      "<class 'pandas.core.frame.DataFrame'>\n",
      "RangeIndex: 2 entries, 0 to 1\n",
      "Data columns (total 4 columns):\n",
      " #   Column             Non-Null Count  Dtype \n",
      "---  ------             --------------  ----- \n",
      " 0   subscription_type  2 non-null      object\n",
      " 1   minute_price       2 non-null      int64 \n",
      " 2   start_ride_price   2 non-null      int64 \n",
      " 3   subscription_fee   2 non-null      int64 \n",
      "dtypes: int64(3), object(1)\n",
      "memory usage: 192.0+ bytes\n"
     ]
    }
   ],
   "source": [
    "subs.info()"
   ]
  },
  {
   "cell_type": "markdown",
   "id": "c317ede7",
   "metadata": {},
   "source": [
    "Неплохо, с данными познакомились, теперь преведем их в порядок"
   ]
  },
  {
   "cell_type": "markdown",
   "id": "79d46146",
   "metadata": {},
   "source": [
    "**Увидев** данные, можно сказать, что во-многом они выглялят отлично, столбцы названы корректно, типы данных, пропуски - все устравивает, таблица обширная, анализировать можно. "
   ]
  },
  {
   "cell_type": "markdown",
   "id": "e95ebca7",
   "metadata": {},
   "source": [
    "####  Предобработка данных"
   ]
  },
  {
   "cell_type": "markdown",
   "id": "ef402cf7",
   "metadata": {},
   "source": [
    "Итак, пропущенных значений, на наше счатье нет. А перед поиском и устранений дубликатов(надеюсь их тоже нет)), изменим тип данных date в rides"
   ]
  },
  {
   "cell_type": "code",
   "execution_count": 15,
   "id": "8228ef7f",
   "metadata": {},
   "outputs": [
    {
     "name": "stdout",
     "output_type": "stream",
     "text": [
      "<class 'pandas.core.frame.DataFrame'>\n",
      "RangeIndex: 18068 entries, 0 to 18067\n",
      "Data columns (total 4 columns):\n",
      " #   Column    Non-Null Count  Dtype         \n",
      "---  ------    --------------  -----         \n",
      " 0   user_id   18068 non-null  int64         \n",
      " 1   distance  18068 non-null  float64       \n",
      " 2   duration  18068 non-null  float64       \n",
      " 3   date      18068 non-null  datetime64[ns]\n",
      "dtypes: datetime64[ns](1), float64(2), int64(1)\n",
      "memory usage: 564.8 KB\n"
     ]
    }
   ],
   "source": [
    "rides['date'] = pd.to_datetime(\n",
    "    rides['date'], format='%Y.%m.%d'\n",
    ")\n",
    "rides.info()"
   ]
  },
  {
   "cell_type": "markdown",
   "id": "939ea038",
   "metadata": {},
   "source": [
    "Для информативность добавим столбец с месяцами\n"
   ]
  },
  {
   "cell_type": "code",
   "execution_count": 16,
   "id": "5d044e2f",
   "metadata": {},
   "outputs": [],
   "source": [
    "rides['month'] = rides['date'].dt.month\n"
   ]
  },
  {
   "cell_type": "code",
   "execution_count": 17,
   "id": "11ec6e1e",
   "metadata": {},
   "outputs": [],
   "source": [
    "rides['year'] = rides['date'].dt.year"
   ]
  },
  {
   "cell_type": "markdown",
   "id": "e885b19f",
   "metadata": {},
   "source": [
    "Настало время дубликатов"
   ]
  },
  {
   "cell_type": "code",
   "execution_count": 18,
   "id": "a24572b0",
   "metadata": {},
   "outputs": [
    {
     "name": "stdout",
     "output_type": "stream",
     "text": [
      "31\n",
      "0\n"
     ]
    },
    {
     "data": {
      "text/plain": [
       "0"
      ]
     },
     "execution_count": 18,
     "metadata": {},
     "output_type": "execute_result"
    }
   ],
   "source": [
    "print(clients.duplicated().sum())\n",
    "print(rides.duplicated().sum())\n",
    "subs.duplicated().sum()"
   ]
  },
  {
   "cell_type": "markdown",
   "id": "c0bf243e",
   "metadata": {},
   "source": [
    "не порадовала только таблица с клиентами"
   ]
  },
  {
   "cell_type": "code",
   "execution_count": 19,
   "id": "b1bdb096",
   "metadata": {},
   "outputs": [
    {
     "name": "stdout",
     "output_type": "stream",
     "text": [
      "0\n"
     ]
    }
   ],
   "source": [
    "clients = clients.drop_duplicates( keep='first')\n",
    "print(clients.duplicated().sum())"
   ]
  },
  {
   "cell_type": "code",
   "execution_count": 20,
   "id": "3c5eae1f",
   "metadata": {},
   "outputs": [
    {
     "data": {
      "text/plain": [
       "1       1\n",
       "5       1\n",
       "6       1\n",
       "7       1\n",
       "8       1\n",
       "       ..\n",
       "1532    1\n",
       "1533    1\n",
       "1524    1\n",
       "1525    1\n",
       "1534    1\n",
       "Name: user_id, Length: 1534, dtype: int64"
      ]
     },
     "execution_count": 20,
     "metadata": {},
     "output_type": "execute_result"
    }
   ],
   "source": [
    "clients['user_id'].value_counts().sort_values()"
   ]
  },
  {
   "cell_type": "code",
   "execution_count": 21,
   "id": "dc4a35f4",
   "metadata": {},
   "outputs": [
    {
     "data": {
      "text/plain": [
       "array(['Тюмень', 'Омск', 'Москва', 'Ростов-на-Дону', 'Краснодар',\n",
       "       'Пятигорск', 'Екатеринбург', 'Сочи'], dtype=object)"
      ]
     },
     "execution_count": 21,
     "metadata": {},
     "output_type": "execute_result"
    }
   ],
   "source": [
    "clients['city'].unique()"
   ]
  },
  {
   "cell_type": "code",
   "execution_count": 22,
   "id": "e9423001",
   "metadata": {},
   "outputs": [
    {
     "data": {
      "text/plain": [
       "array(['ultra', 'free'], dtype=object)"
      ]
     },
     "execution_count": 22,
     "metadata": {},
     "output_type": "execute_result"
    }
   ],
   "source": [
    "clients['subscription_type'].unique()"
   ]
  },
  {
   "cell_type": "markdown",
   "id": "0479c013",
   "metadata": {},
   "source": [
    "неявных дубликатов нет\n",
    "\n",
    "\n",
    "в дубликатами готово, идем дальше"
   ]
  },
  {
   "cell_type": "markdown",
   "id": "6d61336e",
   "metadata": {},
   "source": [
    "<div class=\"alert-success\" style=\"padding: 20px; border-radius: 10px\">\n",
    "<b>Комментарий ревьюера ✔️</b>\n",
    "\n",
    "Шаг предобработки выполнен правильно. 👌</div>"
   ]
  },
  {
   "cell_type": "markdown",
   "id": "e31a7804",
   "metadata": {},
   "source": [
    "Немного дубликатов все же было, сменил тип данных в столбце с датой, данные очищены и готовы для анализа, ничего не помешает"
   ]
  },
  {
   "cell_type": "markdown",
   "id": "0bb97470",
   "metadata": {},
   "source": [
    "####  Исследовательский анализ данных"
   ]
  },
  {
   "cell_type": "markdown",
   "id": "58227f8d",
   "metadata": {},
   "source": [
    "посмотрим как распределяются данные\n",
    "\n",
    "для начала рассмотрим описание"
   ]
  },
  {
   "cell_type": "code",
   "execution_count": 23,
   "id": "441e6e64",
   "metadata": {},
   "outputs": [
    {
     "data": {
      "text/html": [
       "<div>\n",
       "<style scoped>\n",
       "    .dataframe tbody tr th:only-of-type {\n",
       "        vertical-align: middle;\n",
       "    }\n",
       "\n",
       "    .dataframe tbody tr th {\n",
       "        vertical-align: top;\n",
       "    }\n",
       "\n",
       "    .dataframe thead th {\n",
       "        text-align: right;\n",
       "    }\n",
       "</style>\n",
       "<table border=\"1\" class=\"dataframe\">\n",
       "  <thead>\n",
       "    <tr style=\"text-align: right;\">\n",
       "      <th></th>\n",
       "      <th>user_id</th>\n",
       "      <th>age</th>\n",
       "    </tr>\n",
       "  </thead>\n",
       "  <tbody>\n",
       "    <tr>\n",
       "      <th>count</th>\n",
       "      <td>1534.000000</td>\n",
       "      <td>1534.000000</td>\n",
       "    </tr>\n",
       "    <tr>\n",
       "      <th>mean</th>\n",
       "      <td>767.500000</td>\n",
       "      <td>24.903520</td>\n",
       "    </tr>\n",
       "    <tr>\n",
       "      <th>std</th>\n",
       "      <td>442.971971</td>\n",
       "      <td>4.572367</td>\n",
       "    </tr>\n",
       "    <tr>\n",
       "      <th>min</th>\n",
       "      <td>1.000000</td>\n",
       "      <td>12.000000</td>\n",
       "    </tr>\n",
       "    <tr>\n",
       "      <th>25%</th>\n",
       "      <td>384.250000</td>\n",
       "      <td>22.000000</td>\n",
       "    </tr>\n",
       "    <tr>\n",
       "      <th>50%</th>\n",
       "      <td>767.500000</td>\n",
       "      <td>25.000000</td>\n",
       "    </tr>\n",
       "    <tr>\n",
       "      <th>75%</th>\n",
       "      <td>1150.750000</td>\n",
       "      <td>28.000000</td>\n",
       "    </tr>\n",
       "    <tr>\n",
       "      <th>max</th>\n",
       "      <td>1534.000000</td>\n",
       "      <td>43.000000</td>\n",
       "    </tr>\n",
       "  </tbody>\n",
       "</table>\n",
       "</div>"
      ],
      "text/plain": [
       "           user_id          age\n",
       "count  1534.000000  1534.000000\n",
       "mean    767.500000    24.903520\n",
       "std     442.971971     4.572367\n",
       "min       1.000000    12.000000\n",
       "25%     384.250000    22.000000\n",
       "50%     767.500000    25.000000\n",
       "75%    1150.750000    28.000000\n",
       "max    1534.000000    43.000000"
      ]
     },
     "execution_count": 23,
     "metadata": {},
     "output_type": "execute_result"
    }
   ],
   "source": [
    "clients.describe()"
   ]
  },
  {
   "cell_type": "markdown",
   "id": "1e19dc83",
   "metadata": {},
   "source": [
    "С возрастом все в порядке, аномальных значений нет"
   ]
  },
  {
   "cell_type": "code",
   "execution_count": 24,
   "id": "de9091bc",
   "metadata": {},
   "outputs": [
    {
     "data": {
      "text/html": [
       "<div>\n",
       "<style scoped>\n",
       "    .dataframe tbody tr th:only-of-type {\n",
       "        vertical-align: middle;\n",
       "    }\n",
       "\n",
       "    .dataframe tbody tr th {\n",
       "        vertical-align: top;\n",
       "    }\n",
       "\n",
       "    .dataframe thead th {\n",
       "        text-align: right;\n",
       "    }\n",
       "</style>\n",
       "<table border=\"1\" class=\"dataframe\">\n",
       "  <thead>\n",
       "    <tr style=\"text-align: right;\">\n",
       "      <th></th>\n",
       "      <th>user_id</th>\n",
       "      <th>distance</th>\n",
       "      <th>duration</th>\n",
       "      <th>month</th>\n",
       "      <th>year</th>\n",
       "    </tr>\n",
       "  </thead>\n",
       "  <tbody>\n",
       "    <tr>\n",
       "      <th>count</th>\n",
       "      <td>18068.000000</td>\n",
       "      <td>18068.000000</td>\n",
       "      <td>18068.000000</td>\n",
       "      <td>18068.000000</td>\n",
       "      <td>18068.0</td>\n",
       "    </tr>\n",
       "    <tr>\n",
       "      <th>mean</th>\n",
       "      <td>842.869936</td>\n",
       "      <td>3070.659976</td>\n",
       "      <td>17.805011</td>\n",
       "      <td>6.486772</td>\n",
       "      <td>2021.0</td>\n",
       "    </tr>\n",
       "    <tr>\n",
       "      <th>std</th>\n",
       "      <td>434.734317</td>\n",
       "      <td>1116.831209</td>\n",
       "      <td>6.091051</td>\n",
       "      <td>3.437410</td>\n",
       "      <td>0.0</td>\n",
       "    </tr>\n",
       "    <tr>\n",
       "      <th>min</th>\n",
       "      <td>1.000000</td>\n",
       "      <td>0.855683</td>\n",
       "      <td>0.500000</td>\n",
       "      <td>1.000000</td>\n",
       "      <td>2021.0</td>\n",
       "    </tr>\n",
       "    <tr>\n",
       "      <th>25%</th>\n",
       "      <td>487.000000</td>\n",
       "      <td>2543.226360</td>\n",
       "      <td>13.597563</td>\n",
       "      <td>4.000000</td>\n",
       "      <td>2021.0</td>\n",
       "    </tr>\n",
       "    <tr>\n",
       "      <th>50%</th>\n",
       "      <td>889.000000</td>\n",
       "      <td>3133.609994</td>\n",
       "      <td>17.678395</td>\n",
       "      <td>6.000000</td>\n",
       "      <td>2021.0</td>\n",
       "    </tr>\n",
       "    <tr>\n",
       "      <th>75%</th>\n",
       "      <td>1213.250000</td>\n",
       "      <td>3776.222735</td>\n",
       "      <td>21.724800</td>\n",
       "      <td>9.000000</td>\n",
       "      <td>2021.0</td>\n",
       "    </tr>\n",
       "    <tr>\n",
       "      <th>max</th>\n",
       "      <td>1534.000000</td>\n",
       "      <td>7211.007745</td>\n",
       "      <td>40.823963</td>\n",
       "      <td>12.000000</td>\n",
       "      <td>2021.0</td>\n",
       "    </tr>\n",
       "  </tbody>\n",
       "</table>\n",
       "</div>"
      ],
      "text/plain": [
       "            user_id      distance      duration         month     year\n",
       "count  18068.000000  18068.000000  18068.000000  18068.000000  18068.0\n",
       "mean     842.869936   3070.659976     17.805011      6.486772   2021.0\n",
       "std      434.734317   1116.831209      6.091051      3.437410      0.0\n",
       "min        1.000000      0.855683      0.500000      1.000000   2021.0\n",
       "25%      487.000000   2543.226360     13.597563      4.000000   2021.0\n",
       "50%      889.000000   3133.609994     17.678395      6.000000   2021.0\n",
       "75%     1213.250000   3776.222735     21.724800      9.000000   2021.0\n",
       "max     1534.000000   7211.007745     40.823963     12.000000   2021.0"
      ]
     },
     "execution_count": 24,
     "metadata": {},
     "output_type": "execute_result"
    }
   ],
   "source": [
    "rides.describe()"
   ]
  },
  {
   "cell_type": "markdown",
   "id": "cce3aa62",
   "metadata": {},
   "source": [
    "есть малое значении в длительности поездки, в остальном - все в порядке"
   ]
  },
  {
   "cell_type": "code",
   "execution_count": 25,
   "id": "554f0d41",
   "metadata": {},
   "outputs": [
    {
     "data": {
      "text/html": [
       "<div>\n",
       "<style scoped>\n",
       "    .dataframe tbody tr th:only-of-type {\n",
       "        vertical-align: middle;\n",
       "    }\n",
       "\n",
       "    .dataframe tbody tr th {\n",
       "        vertical-align: top;\n",
       "    }\n",
       "\n",
       "    .dataframe thead th {\n",
       "        text-align: right;\n",
       "    }\n",
       "</style>\n",
       "<table border=\"1\" class=\"dataframe\">\n",
       "  <thead>\n",
       "    <tr style=\"text-align: right;\">\n",
       "      <th></th>\n",
       "      <th>user_id</th>\n",
       "      <th>distance</th>\n",
       "      <th>duration</th>\n",
       "      <th>date</th>\n",
       "      <th>month</th>\n",
       "      <th>year</th>\n",
       "    </tr>\n",
       "  </thead>\n",
       "  <tbody>\n",
       "    <tr>\n",
       "      <th>6531</th>\n",
       "      <td>701</td>\n",
       "      <td>4196.445201</td>\n",
       "      <td>0.5</td>\n",
       "      <td>2021-08-31</td>\n",
       "      <td>8</td>\n",
       "      <td>2021</td>\n",
       "    </tr>\n",
       "    <tr>\n",
       "      <th>6570</th>\n",
       "      <td>704</td>\n",
       "      <td>4830.824371</td>\n",
       "      <td>0.5</td>\n",
       "      <td>2021-10-14</td>\n",
       "      <td>10</td>\n",
       "      <td>2021</td>\n",
       "    </tr>\n",
       "    <tr>\n",
       "      <th>6680</th>\n",
       "      <td>712</td>\n",
       "      <td>4684.004397</td>\n",
       "      <td>0.5</td>\n",
       "      <td>2021-03-04</td>\n",
       "      <td>3</td>\n",
       "      <td>2021</td>\n",
       "    </tr>\n",
       "    <tr>\n",
       "      <th>6695</th>\n",
       "      <td>713</td>\n",
       "      <td>5215.642710</td>\n",
       "      <td>0.5</td>\n",
       "      <td>2021-02-25</td>\n",
       "      <td>2</td>\n",
       "      <td>2021</td>\n",
       "    </tr>\n",
       "    <tr>\n",
       "      <th>6768</th>\n",
       "      <td>718</td>\n",
       "      <td>5197.436649</td>\n",
       "      <td>0.5</td>\n",
       "      <td>2021-02-11</td>\n",
       "      <td>2</td>\n",
       "      <td>2021</td>\n",
       "    </tr>\n",
       "    <tr>\n",
       "      <th>...</th>\n",
       "      <td>...</td>\n",
       "      <td>...</td>\n",
       "      <td>...</td>\n",
       "      <td>...</td>\n",
       "      <td>...</td>\n",
       "      <td>...</td>\n",
       "    </tr>\n",
       "    <tr>\n",
       "      <th>17004</th>\n",
       "      <td>1460</td>\n",
       "      <td>5531.335845</td>\n",
       "      <td>0.5</td>\n",
       "      <td>2021-01-19</td>\n",
       "      <td>1</td>\n",
       "      <td>2021</td>\n",
       "    </tr>\n",
       "    <tr>\n",
       "      <th>17242</th>\n",
       "      <td>1477</td>\n",
       "      <td>6724.932981</td>\n",
       "      <td>0.5</td>\n",
       "      <td>2021-01-12</td>\n",
       "      <td>1</td>\n",
       "      <td>2021</td>\n",
       "    </tr>\n",
       "    <tr>\n",
       "      <th>17314</th>\n",
       "      <td>1483</td>\n",
       "      <td>4445.481070</td>\n",
       "      <td>0.5</td>\n",
       "      <td>2021-03-06</td>\n",
       "      <td>3</td>\n",
       "      <td>2021</td>\n",
       "    </tr>\n",
       "    <tr>\n",
       "      <th>17505</th>\n",
       "      <td>1496</td>\n",
       "      <td>5722.551787</td>\n",
       "      <td>0.5</td>\n",
       "      <td>2021-02-14</td>\n",
       "      <td>2</td>\n",
       "      <td>2021</td>\n",
       "    </tr>\n",
       "    <tr>\n",
       "      <th>17909</th>\n",
       "      <td>1524</td>\n",
       "      <td>4103.998874</td>\n",
       "      <td>0.5</td>\n",
       "      <td>2021-06-18</td>\n",
       "      <td>6</td>\n",
       "      <td>2021</td>\n",
       "    </tr>\n",
       "  </tbody>\n",
       "</table>\n",
       "<p>95 rows × 6 columns</p>\n",
       "</div>"
      ],
      "text/plain": [
       "       user_id     distance  duration       date  month  year\n",
       "6531       701  4196.445201       0.5 2021-08-31      8  2021\n",
       "6570       704  4830.824371       0.5 2021-10-14     10  2021\n",
       "6680       712  4684.004397       0.5 2021-03-04      3  2021\n",
       "6695       713  5215.642710       0.5 2021-02-25      2  2021\n",
       "6768       718  5197.436649       0.5 2021-02-11      2  2021\n",
       "...        ...          ...       ...        ...    ...   ...\n",
       "17004     1460  5531.335845       0.5 2021-01-19      1  2021\n",
       "17242     1477  6724.932981       0.5 2021-01-12      1  2021\n",
       "17314     1483  4445.481070       0.5 2021-03-06      3  2021\n",
       "17505     1496  5722.551787       0.5 2021-02-14      2  2021\n",
       "17909     1524  4103.998874       0.5 2021-06-18      6  2021\n",
       "\n",
       "[95 rows x 6 columns]"
      ]
     },
     "metadata": {},
     "output_type": "display_data"
    },
    {
     "data": {
      "text/plain": [
       "5113.176548536017"
      ]
     },
     "execution_count": 25,
     "metadata": {},
     "output_type": "execute_result"
    }
   ],
   "source": [
    "display(rides[rides['duration'] < 2])\n",
    "rides[rides['duration'] < 2]['distance'].mean()"
   ]
  },
  {
   "cell_type": "markdown",
   "id": "3017d03a",
   "metadata": {},
   "source": [
    "95 коротхих поездок, странно, ведь расстояних приличное - может 0.5 это пол часа, или еще какая ошибка"
   ]
  },
  {
   "cell_type": "markdown",
   "id": "444cf20e",
   "metadata": {},
   "source": [
    "какие еще есть показатели малого времени использования?"
   ]
  },
  {
   "cell_type": "code",
   "execution_count": 26,
   "id": "2d259d81",
   "metadata": {},
   "outputs": [
    {
     "data": {
      "text/html": [
       "<div>\n",
       "<style scoped>\n",
       "    .dataframe tbody tr th:only-of-type {\n",
       "        vertical-align: middle;\n",
       "    }\n",
       "\n",
       "    .dataframe tbody tr th {\n",
       "        vertical-align: top;\n",
       "    }\n",
       "\n",
       "    .dataframe thead th {\n",
       "        text-align: right;\n",
       "    }\n",
       "</style>\n",
       "<table border=\"1\" class=\"dataframe\">\n",
       "  <thead>\n",
       "    <tr style=\"text-align: right;\">\n",
       "      <th></th>\n",
       "      <th>user_id</th>\n",
       "      <th>distance</th>\n",
       "      <th>duration</th>\n",
       "      <th>date</th>\n",
       "      <th>month</th>\n",
       "      <th>year</th>\n",
       "    </tr>\n",
       "  </thead>\n",
       "  <tbody>\n",
       "  </tbody>\n",
       "</table>\n",
       "</div>"
      ],
      "text/plain": [
       "Empty DataFrame\n",
       "Columns: [user_id, distance, duration, date, month, year]\n",
       "Index: []"
      ]
     },
     "execution_count": 26,
     "metadata": {},
     "output_type": "execute_result"
    }
   ],
   "source": [
    "rides[(rides['duration'] < 2) & (rides['duration'] != 0.5)]"
   ]
  },
  {
   "cell_type": "markdown",
   "id": "1fbfef36",
   "metadata": {},
   "source": [
    "Ничего, это только наталкивает на мысль, что 0.5 действительно может быть 30минутами"
   ]
  },
  {
   "cell_type": "markdown",
   "id": "f3cdda66",
   "metadata": {},
   "source": [
    "Найдем среднюю скорость самокатов, чтобы посмотреть что такое 0.5 - пол часа или ошибка"
   ]
  },
  {
   "cell_type": "code",
   "execution_count": 27,
   "id": "cb4e4d60",
   "metadata": {},
   "outputs": [],
   "source": [
    "rides['mean_speed'] = rides['distance'] / rides['duration']\n"
   ]
  },
  {
   "cell_type": "code",
   "execution_count": 28,
   "id": "631cdd48",
   "metadata": {},
   "outputs": [
    {
     "data": {
      "text/plain": [
       "134.17948918144756"
      ]
     },
     "execution_count": 28,
     "metadata": {},
     "output_type": "execute_result"
    }
   ],
   "source": [
    "rides[(rides['duration'] <= 31) & (rides['duration'] >= 30)]['mean_speed'].median()"
   ]
  },
  {
   "cell_type": "markdown",
   "id": "3d5dbdb4",
   "metadata": {},
   "source": [
    "Средняя скорость при поездке длительность в пол часа равна 134, конечно, могут быть разные значения, ведь проезжают разное рассояние, но какое-то предстваления получить можно"
   ]
  },
  {
   "cell_type": "markdown",
   "id": "c1cc74e6",
   "metadata": {},
   "source": [
    "Возьмем часть таблицы, где длительнность равно 0.5(в данном случае все равно, что меньше 2)"
   ]
  },
  {
   "cell_type": "code",
   "execution_count": 29,
   "id": "e7feb2d7",
   "metadata": {},
   "outputs": [
    {
     "data": {
      "text/plain": [
       "168.42564703309847"
      ]
     },
     "execution_count": 29,
     "metadata": {},
     "output_type": "execute_result"
    }
   ],
   "source": [
    "new = rides[rides['duration'] < 2]\n",
    "(new['distance'] / (new['duration'] * 60)).median() "
   ]
  },
  {
   "cell_type": "markdown",
   "id": "6b40cdd6",
   "metadata": {},
   "source": [
    "Получаем довольно близкое значени, но пока заявлять ничего не будем"
   ]
  },
  {
   "cell_type": "markdown",
   "id": "07f8ab2f",
   "metadata": {},
   "source": [
    "а что со средним расстоянием?"
   ]
  },
  {
   "cell_type": "code",
   "execution_count": 30,
   "id": "da9dba3d",
   "metadata": {},
   "outputs": [
    {
     "data": {
      "text/plain": [
       "4068.697105879327"
      ]
     },
     "execution_count": 30,
     "metadata": {},
     "output_type": "execute_result"
    }
   ],
   "source": [
    "rides[(rides['duration'] <= 31) & (rides['duration'] >= 30)]['distance'].median()"
   ]
  },
  {
   "cell_type": "markdown",
   "id": "f065fa6a",
   "metadata": {},
   "source": [
    "Если смотреть на среднее проехавшее растояние с 0.5 и с 30-32мин, то разница есть - (5113 и 4111), проведем тест чтобы понять, насколько она существенная"
   ]
  },
  {
   "cell_type": "markdown",
   "id": "628ebaab",
   "metadata": {},
   "source": [
    "Итак - у нас есть 2 нулевые гипотизы\n",
    "\n",
    "- Расстояние, которое проезжают люди с показателем продолжительности 0.5 равно расстоянию, которое люди проезжают с продолжительносью примерно 30мин. Для этой гипотизы подготовим альтернативную. Расстояния будут не равны, тк нам неважно в какую сторону они будут отличаться, если будет больше или меньше- это не пол часа, что-то другое\n",
    "\n",
    "- Вторая нулевая гипотеза - Скорость при длительности поездки 0.5 и примерно 30мин будут одинаковыми. Альтернативная - будут не равны"
   ]
  },
  {
   "cell_type": "code",
   "execution_count": 31,
   "id": "32655025",
   "metadata": {},
   "outputs": [
    {
     "name": "stdout",
     "output_type": "stream",
     "text": [
      "p-значение: 4.6436403134934645e-40\n",
      "Отвергаем нулевую гипотезу\n"
     ]
    }
   ],
   "source": [
    "# создадим дата-фрейм, где будем хранить 30минутные поездки\n",
    "\n",
    "rides_30_min = rides[(rides['duration'] <= 31) & (rides['duration'] >= 30)]['mean_speed']\n",
    "\n",
    "interested_value = 168 # средняя скорость при поездке в 0.5мин(предположительно, это пол часа)\n",
    "\n",
    "alpha = .05\n",
    "\n",
    "results = st.ttest_1samp(\n",
    "    rides_30_min, \n",
    "    interested_value)\n",
    "\n",
    "print('p-значение:', results.pvalue)\n",
    "\n",
    "if results.pvalue < alpha:\n",
    "    print('Отвергаем нулевую гипотезу')\n",
    "else:\n",
    "    print('Не получилось отвергнуть нулевую гипотезу')"
   ]
  },
  {
   "cell_type": "code",
   "execution_count": 32,
   "id": "0a5ebdc3",
   "metadata": {},
   "outputs": [
    {
     "name": "stdout",
     "output_type": "stream",
     "text": [
      "p-значение: 4.230235213470303e-40\n",
      "Отвергаем нулевую гипотезу\n"
     ]
    }
   ],
   "source": [
    "# создадим дата-фрейм, где будем хранить 30минутные поездки\n",
    "\n",
    "rides_30_min2 = rides[(rides['duration'] <= 31) & (rides['duration'] >= 30)]['distance']\n",
    "\n",
    "interested_value = 5113 # среднее растояние \n",
    "\n",
    "alpha = .05\n",
    "\n",
    "results = st.ttest_1samp(\n",
    "    rides_30_min2, \n",
    "    interested_value)\n",
    "\n",
    "print('p-значение:', results.pvalue)\n",
    "\n",
    "if results.pvalue < alpha:\n",
    "    print('Отвергаем нулевую гипотезу')\n",
    "else:\n",
    "    print('Не получилось отвергнуть нулевую гипотезу')"
   ]
  },
  {
   "cell_type": "markdown",
   "id": "e9b18182",
   "metadata": {},
   "source": [
    "Гипотезы не подтвердились"
   ]
  },
  {
   "cell_type": "markdown",
   "id": "d320ab41",
   "metadata": {},
   "source": [
    "Узнать причину таких поездок к сожалению не удалось, тогда удалим. Всего таких поездок 95, слишком мало, чтобы они изменили статистику"
   ]
  },
  {
   "cell_type": "code",
   "execution_count": 33,
   "id": "3c189b11",
   "metadata": {},
   "outputs": [
    {
     "data": {
      "text/html": [
       "<div>\n",
       "<style scoped>\n",
       "    .dataframe tbody tr th:only-of-type {\n",
       "        vertical-align: middle;\n",
       "    }\n",
       "\n",
       "    .dataframe tbody tr th {\n",
       "        vertical-align: top;\n",
       "    }\n",
       "\n",
       "    .dataframe thead th {\n",
       "        text-align: right;\n",
       "    }\n",
       "</style>\n",
       "<table border=\"1\" class=\"dataframe\">\n",
       "  <thead>\n",
       "    <tr style=\"text-align: right;\">\n",
       "      <th></th>\n",
       "      <th>user_id</th>\n",
       "      <th>distance</th>\n",
       "      <th>duration</th>\n",
       "      <th>month</th>\n",
       "      <th>year</th>\n",
       "      <th>mean_speed</th>\n",
       "    </tr>\n",
       "  </thead>\n",
       "  <tbody>\n",
       "    <tr>\n",
       "      <th>count</th>\n",
       "      <td>17973.000000</td>\n",
       "      <td>17973.000000</td>\n",
       "      <td>17973.000000</td>\n",
       "      <td>17973.000000</td>\n",
       "      <td>17973.0</td>\n",
       "      <td>17973.000000</td>\n",
       "    </tr>\n",
       "    <tr>\n",
       "      <th>mean</th>\n",
       "      <td>841.551995</td>\n",
       "      <td>3059.863833</td>\n",
       "      <td>17.896480</td>\n",
       "      <td>6.486786</td>\n",
       "      <td>2021.0</td>\n",
       "      <td>176.915267</td>\n",
       "    </tr>\n",
       "    <tr>\n",
       "      <th>std</th>\n",
       "      <td>435.144929</td>\n",
       "      <td>1108.814612</td>\n",
       "      <td>5.975424</td>\n",
       "      <td>3.436024</td>\n",
       "      <td>0.0</td>\n",
       "      <td>66.087355</td>\n",
       "    </tr>\n",
       "    <tr>\n",
       "      <th>min</th>\n",
       "      <td>1.000000</td>\n",
       "      <td>0.855683</td>\n",
       "      <td>2.035632</td>\n",
       "      <td>1.000000</td>\n",
       "      <td>2021.0</td>\n",
       "      <td>0.085552</td>\n",
       "    </tr>\n",
       "    <tr>\n",
       "      <th>25%</th>\n",
       "      <td>484.000000</td>\n",
       "      <td>2538.839628</td>\n",
       "      <td>13.670439</td>\n",
       "      <td>4.000000</td>\n",
       "      <td>2021.0</td>\n",
       "      <td>135.199373</td>\n",
       "    </tr>\n",
       "    <tr>\n",
       "      <th>50%</th>\n",
       "      <td>887.000000</td>\n",
       "      <td>3129.029255</td>\n",
       "      <td>17.714122</td>\n",
       "      <td>6.000000</td>\n",
       "      <td>2021.0</td>\n",
       "      <td>170.473913</td>\n",
       "    </tr>\n",
       "    <tr>\n",
       "      <th>75%</th>\n",
       "      <td>1213.000000</td>\n",
       "      <td>3762.636244</td>\n",
       "      <td>21.747016</td>\n",
       "      <td>9.000000</td>\n",
       "      <td>2021.0</td>\n",
       "      <td>214.549962</td>\n",
       "    </tr>\n",
       "    <tr>\n",
       "      <th>max</th>\n",
       "      <td>1534.000000</td>\n",
       "      <td>7066.003772</td>\n",
       "      <td>40.823963</td>\n",
       "      <td>12.000000</td>\n",
       "      <td>2021.0</td>\n",
       "      <td>423.171247</td>\n",
       "    </tr>\n",
       "  </tbody>\n",
       "</table>\n",
       "</div>"
      ],
      "text/plain": [
       "            user_id      distance      duration         month     year  \\\n",
       "count  17973.000000  17973.000000  17973.000000  17973.000000  17973.0   \n",
       "mean     841.551995   3059.863833     17.896480      6.486786   2021.0   \n",
       "std      435.144929   1108.814612      5.975424      3.436024      0.0   \n",
       "min        1.000000      0.855683      2.035632      1.000000   2021.0   \n",
       "25%      484.000000   2538.839628     13.670439      4.000000   2021.0   \n",
       "50%      887.000000   3129.029255     17.714122      6.000000   2021.0   \n",
       "75%     1213.000000   3762.636244     21.747016      9.000000   2021.0   \n",
       "max     1534.000000   7066.003772     40.823963     12.000000   2021.0   \n",
       "\n",
       "         mean_speed  \n",
       "count  17973.000000  \n",
       "mean     176.915267  \n",
       "std       66.087355  \n",
       "min        0.085552  \n",
       "25%      135.199373  \n",
       "50%      170.473913  \n",
       "75%      214.549962  \n",
       "max      423.171247  "
      ]
     },
     "execution_count": 33,
     "metadata": {},
     "output_type": "execute_result"
    }
   ],
   "source": [
    "rides = rides[rides['duration'] > 2]\n",
    "rides.describe()"
   ]
  },
  {
   "cell_type": "markdown",
   "id": "043db260",
   "metadata": {},
   "source": [
    "Можем идти дальше"
   ]
  },
  {
   "cell_type": "markdown",
   "id": "0fbc82d9",
   "metadata": {},
   "source": [
    "**Соотношение пользователей с подпиской и без**"
   ]
  },
  {
   "cell_type": "code",
   "execution_count": 34,
   "id": "051ad177",
   "metadata": {},
   "outputs": [
    {
     "data": {
      "text/plain": [
       "0.837125748502994"
      ]
     },
     "execution_count": 34,
     "metadata": {},
     "output_type": "execute_result"
    }
   ],
   "source": [
    "free_users = clients[clients['subscription_type'] == 'free']['subscription_type'].count() \n",
    "ultra_users = clients[clients['subscription_type'] == 'ultra']['subscription_type'].count()\n",
    "ultra_users / free_users"
   ]
  },
  {
   "cell_type": "code",
   "execution_count": 35,
   "id": "894e3dfe",
   "metadata": {},
   "outputs": [],
   "source": [
    "free_users = clients[clients['subscription_type'] == 'free']['subscription_type'].count() \n"
   ]
  },
  {
   "cell_type": "code",
   "execution_count": 36,
   "id": "225ee92c",
   "metadata": {},
   "outputs": [
    {
     "data": {
      "text/plain": [
       "<AxesSubplot:>"
      ]
     },
     "execution_count": 36,
     "metadata": {},
     "output_type": "execute_result"
    },
    {
     "data": {
      "image/png": "[encoded data removed]",
      "text/plain": [
       "<Figure size 432x288 with 1 Axes>"
      ]
     },
     "metadata": {
      "needs_background": "light"
     },
     "output_type": "display_data"
    }
   ],
   "source": [
    "counts = clients['subscription_type'].value_counts() # подсчитываем количество значений\n",
    "counts.plot(kind='bar')\n"
   ]
  },
  {
   "cell_type": "markdown",
   "id": "00fef3b4",
   "metadata": {},
   "source": [
    "Пользователей без подписки больше, однако не сильно, видимо условие подписки очень выгодное, и те кто ездит часто ее приобритает\n",
    "\n",
    "Для графика я выбрал биномиальное распределение, тк тут у нас независимые события, в которых есть 2 исхода\n"
   ]
  },
  {
   "cell_type": "markdown",
   "id": "644b8dbd",
   "metadata": {},
   "source": [
    "Здесь нужно просто взять всех уникальных пользователей и поделить на два лагеря: с подпиской и без.\n",
    "\n",
    "- Тк в clients хронятся долько уникальные пользователи, то в free_users и ultra_users я храню эти значения\n",
    "\n",
    "Далее посчитать какую долю от общего количества занимает каждый.\n",
    "\n"
   ]
  },
  {
   "cell_type": "code",
   "execution_count": 37,
   "id": "2a143712",
   "metadata": {},
   "outputs": [
    {
     "data": {
      "text/plain": [
       "0.5443285528031291"
      ]
     },
     "execution_count": 37,
     "metadata": {},
     "output_type": "execute_result"
    }
   ],
   "source": [
    "free_users / clients.shape[0]"
   ]
  },
  {
   "cell_type": "code",
   "execution_count": 38,
   "id": "a64f44ba",
   "metadata": {},
   "outputs": [
    {
     "data": {
      "text/plain": [
       "0.4556714471968709"
      ]
     },
     "execution_count": 38,
     "metadata": {},
     "output_type": "execute_result"
    }
   ],
   "source": [
    "ultra_users / clients.shape[0]"
   ]
  },
  {
   "cell_type": "markdown",
   "id": "4f92b521",
   "metadata": {},
   "source": [
    "А вот и доли, тут тоже видно, что пользователей без подписки на данный момент больше\n",
    "\n",
    "Отобразить это соотношение лучше на круговой диаграмме - она нагляднее показывает части целого.\n",
    "\n",
    "- Смотрим\n"
   ]
  },
  {
   "cell_type": "code",
   "execution_count": 39,
   "id": "33fd92e8",
   "metadata": {},
   "outputs": [
    {
     "data": {
      "text/plain": [
       "<AxesSubplot:ylabel='user_id'>"
      ]
     },
     "execution_count": 39,
     "metadata": {},
     "output_type": "execute_result"
    },
    {
     "data": {
      "image/png": "[encoded data removed]",
      "text/plain": [
       "<Figure size 576x576 with 1 Axes>"
      ]
     },
     "metadata": {},
     "output_type": "display_data"
    }
   ],
   "source": [
    "df_sub = clients.groupby('subscription_type').agg({'user_id': 'count'})\n",
    "df_sub.plot(kind='pie', y='user_id', autopct='%1.1f%%', figsize=(8, 8))"
   ]
  },
  {
   "cell_type": "markdown",
   "id": "6913166c",
   "metadata": {},
   "source": [
    "**Возраст пользователей**"
   ]
  },
  {
   "cell_type": "code",
   "execution_count": 40,
   "id": "7ac17427",
   "metadata": {},
   "outputs": [
    {
     "data": {
      "text/plain": [
       "<AxesSubplot:>"
      ]
     },
     "execution_count": 40,
     "metadata": {},
     "output_type": "execute_result"
    },
    {
     "data": {
      "image/png": "[encoded data removed]",
      "text/plain": [
       "<Figure size 432x288 with 1 Axes>"
      ]
     },
     "metadata": {
      "needs_background": "light"
     },
     "output_type": "display_data"
    }
   ],
   "source": [
    "clients['age'].hist(bins=43)"
   ]
  },
  {
   "cell_type": "markdown",
   "id": "b5cba16e",
   "metadata": {},
   "source": [
    "Для отображения информации о возрасте пользователей, я выбрал гистограмму, тк возрас - дискретная велечина, а гистрограмма хорошо покажет как часто встречаются такие велечины в таблице\n",
    "\n",
    "График выглядик похожим на нормальное распределение, но с пропусками в возрасте, как мы уже выяснили выше - средний возраст 24 года"
   ]
  },
  {
   "cell_type": "code",
   "execution_count": 41,
   "id": "3e641ec8",
   "metadata": {},
   "outputs": [
    {
     "data": {
      "text/plain": [
       "count    1534.000000\n",
       "mean       24.903520\n",
       "std         4.572367\n",
       "min        12.000000\n",
       "25%        22.000000\n",
       "50%        25.000000\n",
       "75%        28.000000\n",
       "max        43.000000\n",
       "Name: age, dtype: float64"
      ]
     },
     "execution_count": 41,
     "metadata": {},
     "output_type": "execute_result"
    }
   ],
   "source": [
    "clients['age'].describe()"
   ]
  },
  {
   "cell_type": "markdown",
   "id": "4e52b42a",
   "metadata": {},
   "source": [
    "Максимальный возраст - 45 года, а минимальный - 12, в этом диапозоне значения и лежат, медиан равна 25, а основной возраст пользователей 22 - 28 года"
   ]
  },
  {
   "cell_type": "markdown",
   "id": "84170bec",
   "metadata": {},
   "source": [
    "**Расстояние, которое пользователь проехал**"
   ]
  },
  {
   "cell_type": "markdown",
   "id": "366cf6c5",
   "metadata": {},
   "source": [
    "Тк это непрерывная велечина, то чтобы наглядно отобразить я использую box plot"
   ]
  },
  {
   "cell_type": "code",
   "execution_count": 42,
   "id": "86dfda76",
   "metadata": {},
   "outputs": [
    {
     "data": {
      "text/plain": [
       "<AxesSubplot:>"
      ]
     },
     "execution_count": 42,
     "metadata": {},
     "output_type": "execute_result"
    },
    {
     "data": {
      "image/png": "[encoded data removed]",
      "text/plain": [
       "<Figure size 432x288 with 1 Axes>"
      ]
     },
     "metadata": {
      "needs_background": "light"
     },
     "output_type": "display_data"
    }
   ],
   "source": [
    "rides['distance'].plot.box()"
   ]
  },
  {
   "cell_type": "code",
   "execution_count": 43,
   "id": "ceafa657",
   "metadata": {},
   "outputs": [
    {
     "data": {
      "text/plain": [
       "count    17973.000000\n",
       "mean      3059.863833\n",
       "std       1108.814612\n",
       "min          0.855683\n",
       "25%       2538.839628\n",
       "50%       3129.029255\n",
       "75%       3762.636244\n",
       "max       7066.003772\n",
       "Name: distance, dtype: float64"
      ]
     },
     "execution_count": 43,
     "metadata": {},
     "output_type": "execute_result"
    }
   ],
   "source": [
    "rides['distance'].describe()"
   ]
  },
  {
   "cell_type": "markdown",
   "id": "9f129548",
   "metadata": {},
   "source": [
    "Хорошо видно, что средняя дистанция это 3км, скорее всего это поездки, которые взяли от станции метро или остановки чтобы доехать до какого-то пункта быстрее или туда, куда не идет транспорт, долгие поездки чуть реже. Они есть, но менее популярны.\n",
    "\n",
    "Видно, что много выбросов, думаю, что можно от них избавиться в дальнейшем."
   ]
  },
  {
   "cell_type": "markdown",
   "id": "141634d7",
   "metadata": {},
   "source": [
    "**Время, которое пользователь проехал**"
   ]
  },
  {
   "cell_type": "code",
   "execution_count": 44,
   "id": "124ecdaa",
   "metadata": {},
   "outputs": [
    {
     "data": {
      "text/plain": [
       "<AxesSubplot:>"
      ]
     },
     "execution_count": 44,
     "metadata": {},
     "output_type": "execute_result"
    },
    {
     "data": {
      "image/png": "[encoded data removed]",
      "text/plain": [
       "<Figure size 432x288 with 1 Axes>"
      ]
     },
     "metadata": {
      "needs_background": "light"
     },
     "output_type": "display_data"
    }
   ],
   "source": [
    "rides['duration'].plot.box()"
   ]
  },
  {
   "cell_type": "code",
   "execution_count": 45,
   "id": "264f5f3f",
   "metadata": {},
   "outputs": [
    {
     "data": {
      "text/plain": [
       "count    17973.000000\n",
       "mean        17.896480\n",
       "std          5.975424\n",
       "min          2.035632\n",
       "25%         13.670439\n",
       "50%         17.714122\n",
       "75%         21.747016\n",
       "max         40.823963\n",
       "Name: duration, dtype: float64"
      ]
     },
     "execution_count": 45,
     "metadata": {},
     "output_type": "execute_result"
    }
   ],
   "source": [
    "rides['duration'].describe()"
   ]
  },
  {
   "cell_type": "markdown",
   "id": "fd9efef9",
   "metadata": {},
   "source": [
    "Обычно ездят 17мин, скорее всего это те самые 3км, по графику видно, что нормой считается поездка до 35мин, а максимум есть 40, не уверен что мы должны игнорировать эти данные в этом случае, но запомним, что можем попробовать их откинуть, если исследование потребует этого"
   ]
  },
  {
   "cell_type": "markdown",
   "id": "4b1d91af",
   "metadata": {},
   "source": [
    "<div class=\"alert-success\" style=\"padding: 20px; border-radius: 10px\">\n",
    "<b>Комментарий ревьюера ✔️</b>\n",
    "\n",
    "Дистанция и длительность поездок визуализированы и прокомментированы правильно.\n",
    "\n",
    "Можно также использовать гистограммы, чтобы посмотреть распределения.</div>"
   ]
  },
  {
   "cell_type": "markdown",
   "id": "e165f7a7",
   "metadata": {},
   "source": [
    "**Частота встречаемости городов**"
   ]
  },
  {
   "cell_type": "code",
   "execution_count": 46,
   "id": "6f2917f2",
   "metadata": {},
   "outputs": [
    {
     "data": {
      "text/plain": [
       "Пятигорск         0.142764\n",
       "Екатеринбург      0.132986\n",
       "Ростов-на-Дону    0.129074\n",
       "Краснодар         0.125815\n",
       "Сочи              0.123207\n",
       "Омск              0.119296\n",
       "Тюмень            0.117340\n",
       "Москва            0.109518\n",
       "Name: city, dtype: float64"
      ]
     },
     "metadata": {},
     "output_type": "display_data"
    },
    {
     "data": {
      "text/plain": [
       "1.0"
      ]
     },
     "execution_count": 46,
     "metadata": {},
     "output_type": "execute_result"
    }
   ],
   "source": [
    "frequency = clients['city'].value_counts() / clients.shape[0]\n",
    "display(frequency)\n",
    "#проверим\n",
    "frequency.sum()"
   ]
  },
  {
   "cell_type": "code",
   "execution_count": 47,
   "id": "398e9fa4",
   "metadata": {},
   "outputs": [
    {
     "data": {
      "text/plain": [
       "<AxesSubplot:>"
      ]
     },
     "execution_count": 47,
     "metadata": {},
     "output_type": "execute_result"
    },
    {
     "data": {
      "image/png": "[encoded data removed]",
      "text/plain": [
       "<Figure size 864x576 with 1 Axes>"
      ]
     },
     "metadata": {
      "needs_background": "light"
     },
     "output_type": "display_data"
    }
   ],
   "source": [
    "clients['city'].hist(figsize=(12,8) )"
   ]
  },
  {
   "cell_type": "code",
   "execution_count": 48,
   "id": "163d7b4f",
   "metadata": {},
   "outputs": [
    {
     "data": {
      "text/plain": [
       "Text(0, 0.5, 'Частота')"
      ]
     },
     "execution_count": 48,
     "metadata": {},
     "output_type": "execute_result"
    },
    {
     "data": {
      "image/png": "[encoded data removed]",
      "text/plain": [
       "<Figure size 864x576 with 1 Axes>"
      ]
     },
     "metadata": {
      "needs_background": "light"
     },
     "output_type": "display_data"
    }
   ],
   "source": [
    "frequency = clients['city'].value_counts(normalize=True)\n",
    "\n",
    "frequency.plot(kind='bar', figsize=(12,8))\n",
    "\n",
    "\n",
    "plt.title('Частота встречаемости городов')\n",
    "plt.xlabel('Город')\n",
    "plt.ylabel('Частота')"
   ]
  },
  {
   "cell_type": "markdown",
   "id": "cf9e2426",
   "metadata": {},
   "source": [
    "В целом, разница между городами не сильно велика, более-менее самокаты равномерно распределены, но Пятигорск в текущей таблице одирживает лидерство\n",
    "\n",
    "Что касается времени и дальности поездки - то никаких аномальных и странных значений нет, все данные имеет право ну существоание, осталось разобраться есть ли сущ. разница между пользователями с подпиской и без нее"
   ]
  },
  {
   "cell_type": "markdown",
   "id": "4ef51331",
   "metadata": {},
   "source": [
    "####  Объединение данных"
   ]
  },
  {
   "cell_type": "markdown",
   "id": "d4f2df0d",
   "metadata": {},
   "source": [
    "Объеденим датафреймы в один"
   ]
  },
  {
   "cell_type": "code",
   "execution_count": 49,
   "id": "5397d181",
   "metadata": {
    "scrolled": true
   },
   "outputs": [
    {
     "data": {
      "text/html": [
       "<div>\n",
       "<style scoped>\n",
       "    .dataframe tbody tr th:only-of-type {\n",
       "        vertical-align: middle;\n",
       "    }\n",
       "\n",
       "    .dataframe tbody tr th {\n",
       "        vertical-align: top;\n",
       "    }\n",
       "\n",
       "    .dataframe thead th {\n",
       "        text-align: right;\n",
       "    }\n",
       "</style>\n",
       "<table border=\"1\" class=\"dataframe\">\n",
       "  <thead>\n",
       "    <tr style=\"text-align: right;\">\n",
       "      <th></th>\n",
       "      <th>user_id</th>\n",
       "      <th>name</th>\n",
       "      <th>age</th>\n",
       "      <th>city</th>\n",
       "      <th>subscription_type</th>\n",
       "      <th>minute_price</th>\n",
       "      <th>start_ride_price</th>\n",
       "      <th>subscription_fee</th>\n",
       "      <th>distance</th>\n",
       "      <th>duration</th>\n",
       "      <th>date</th>\n",
       "      <th>month</th>\n",
       "      <th>year</th>\n",
       "      <th>mean_speed</th>\n",
       "    </tr>\n",
       "  </thead>\n",
       "  <tbody>\n",
       "    <tr>\n",
       "      <th>0</th>\n",
       "      <td>1</td>\n",
       "      <td>Кира</td>\n",
       "      <td>22</td>\n",
       "      <td>Тюмень</td>\n",
       "      <td>ultra</td>\n",
       "      <td>6</td>\n",
       "      <td>0</td>\n",
       "      <td>199</td>\n",
       "      <td>4409.919140</td>\n",
       "      <td>25.599769</td>\n",
       "      <td>2021-01-01</td>\n",
       "      <td>1</td>\n",
       "      <td>2021</td>\n",
       "      <td>172.264021</td>\n",
       "    </tr>\n",
       "    <tr>\n",
       "      <th>1</th>\n",
       "      <td>1</td>\n",
       "      <td>Кира</td>\n",
       "      <td>22</td>\n",
       "      <td>Тюмень</td>\n",
       "      <td>ultra</td>\n",
       "      <td>6</td>\n",
       "      <td>0</td>\n",
       "      <td>199</td>\n",
       "      <td>2617.592153</td>\n",
       "      <td>15.816871</td>\n",
       "      <td>2021-01-18</td>\n",
       "      <td>1</td>\n",
       "      <td>2021</td>\n",
       "      <td>165.493673</td>\n",
       "    </tr>\n",
       "    <tr>\n",
       "      <th>2</th>\n",
       "      <td>1</td>\n",
       "      <td>Кира</td>\n",
       "      <td>22</td>\n",
       "      <td>Тюмень</td>\n",
       "      <td>ultra</td>\n",
       "      <td>6</td>\n",
       "      <td>0</td>\n",
       "      <td>199</td>\n",
       "      <td>754.159807</td>\n",
       "      <td>6.232113</td>\n",
       "      <td>2021-04-20</td>\n",
       "      <td>4</td>\n",
       "      <td>2021</td>\n",
       "      <td>121.011887</td>\n",
       "    </tr>\n",
       "    <tr>\n",
       "      <th>3</th>\n",
       "      <td>1</td>\n",
       "      <td>Кира</td>\n",
       "      <td>22</td>\n",
       "      <td>Тюмень</td>\n",
       "      <td>ultra</td>\n",
       "      <td>6</td>\n",
       "      <td>0</td>\n",
       "      <td>199</td>\n",
       "      <td>2694.783254</td>\n",
       "      <td>18.511000</td>\n",
       "      <td>2021-08-11</td>\n",
       "      <td>8</td>\n",
       "      <td>2021</td>\n",
       "      <td>145.577402</td>\n",
       "    </tr>\n",
       "    <tr>\n",
       "      <th>4</th>\n",
       "      <td>1</td>\n",
       "      <td>Кира</td>\n",
       "      <td>22</td>\n",
       "      <td>Тюмень</td>\n",
       "      <td>ultra</td>\n",
       "      <td>6</td>\n",
       "      <td>0</td>\n",
       "      <td>199</td>\n",
       "      <td>4028.687306</td>\n",
       "      <td>26.265803</td>\n",
       "      <td>2021-08-28</td>\n",
       "      <td>8</td>\n",
       "      <td>2021</td>\n",
       "      <td>153.381465</td>\n",
       "    </tr>\n",
       "    <tr>\n",
       "      <th>...</th>\n",
       "      <td>...</td>\n",
       "      <td>...</td>\n",
       "      <td>...</td>\n",
       "      <td>...</td>\n",
       "      <td>...</td>\n",
       "      <td>...</td>\n",
       "      <td>...</td>\n",
       "      <td>...</td>\n",
       "      <td>...</td>\n",
       "      <td>...</td>\n",
       "      <td>...</td>\n",
       "      <td>...</td>\n",
       "      <td>...</td>\n",
       "      <td>...</td>\n",
       "    </tr>\n",
       "    <tr>\n",
       "      <th>17968</th>\n",
       "      <td>1534</td>\n",
       "      <td>Альберт</td>\n",
       "      <td>25</td>\n",
       "      <td>Краснодар</td>\n",
       "      <td>free</td>\n",
       "      <td>8</td>\n",
       "      <td>50</td>\n",
       "      <td>0</td>\n",
       "      <td>3781.098080</td>\n",
       "      <td>19.822962</td>\n",
       "      <td>2021-11-04</td>\n",
       "      <td>11</td>\n",
       "      <td>2021</td>\n",
       "      <td>190.743349</td>\n",
       "    </tr>\n",
       "    <tr>\n",
       "      <th>17969</th>\n",
       "      <td>1534</td>\n",
       "      <td>Альберт</td>\n",
       "      <td>25</td>\n",
       "      <td>Краснодар</td>\n",
       "      <td>free</td>\n",
       "      <td>8</td>\n",
       "      <td>50</td>\n",
       "      <td>0</td>\n",
       "      <td>2840.423057</td>\n",
       "      <td>21.409799</td>\n",
       "      <td>2021-11-16</td>\n",
       "      <td>11</td>\n",
       "      <td>2021</td>\n",
       "      <td>132.669299</td>\n",
       "    </tr>\n",
       "    <tr>\n",
       "      <th>17970</th>\n",
       "      <td>1534</td>\n",
       "      <td>Альберт</td>\n",
       "      <td>25</td>\n",
       "      <td>Краснодар</td>\n",
       "      <td>free</td>\n",
       "      <td>8</td>\n",
       "      <td>50</td>\n",
       "      <td>0</td>\n",
       "      <td>3826.185507</td>\n",
       "      <td>18.435051</td>\n",
       "      <td>2021-11-18</td>\n",
       "      <td>11</td>\n",
       "      <td>2021</td>\n",
       "      <td>207.549490</td>\n",
       "    </tr>\n",
       "    <tr>\n",
       "      <th>17971</th>\n",
       "      <td>1534</td>\n",
       "      <td>Альберт</td>\n",
       "      <td>25</td>\n",
       "      <td>Краснодар</td>\n",
       "      <td>free</td>\n",
       "      <td>8</td>\n",
       "      <td>50</td>\n",
       "      <td>0</td>\n",
       "      <td>2902.308661</td>\n",
       "      <td>16.674362</td>\n",
       "      <td>2021-11-27</td>\n",
       "      <td>11</td>\n",
       "      <td>2021</td>\n",
       "      <td>174.058151</td>\n",
       "    </tr>\n",
       "    <tr>\n",
       "      <th>17972</th>\n",
       "      <td>1534</td>\n",
       "      <td>Альберт</td>\n",
       "      <td>25</td>\n",
       "      <td>Краснодар</td>\n",
       "      <td>free</td>\n",
       "      <td>8</td>\n",
       "      <td>50</td>\n",
       "      <td>0</td>\n",
       "      <td>2371.711192</td>\n",
       "      <td>15.893917</td>\n",
       "      <td>2021-12-29</td>\n",
       "      <td>12</td>\n",
       "      <td>2021</td>\n",
       "      <td>149.221315</td>\n",
       "    </tr>\n",
       "  </tbody>\n",
       "</table>\n",
       "<p>17973 rows × 14 columns</p>\n",
       "</div>"
      ],
      "text/plain": [
       "       user_id     name  age       city subscription_type  minute_price  \\\n",
       "0            1     Кира   22     Тюмень             ultra             6   \n",
       "1            1     Кира   22     Тюмень             ultra             6   \n",
       "2            1     Кира   22     Тюмень             ultra             6   \n",
       "3            1     Кира   22     Тюмень             ultra             6   \n",
       "4            1     Кира   22     Тюмень             ultra             6   \n",
       "...        ...      ...  ...        ...               ...           ...   \n",
       "17968     1534  Альберт   25  Краснодар              free             8   \n",
       "17969     1534  Альберт   25  Краснодар              free             8   \n",
       "17970     1534  Альберт   25  Краснодар              free             8   \n",
       "17971     1534  Альберт   25  Краснодар              free             8   \n",
       "17972     1534  Альберт   25  Краснодар              free             8   \n",
       "\n",
       "       start_ride_price  subscription_fee     distance   duration       date  \\\n",
       "0                     0               199  4409.919140  25.599769 2021-01-01   \n",
       "1                     0               199  2617.592153  15.816871 2021-01-18   \n",
       "2                     0               199   754.159807   6.232113 2021-04-20   \n",
       "3                     0               199  2694.783254  18.511000 2021-08-11   \n",
       "4                     0               199  4028.687306  26.265803 2021-08-28   \n",
       "...                 ...               ...          ...        ...        ...   \n",
       "17968                50                 0  3781.098080  19.822962 2021-11-04   \n",
       "17969                50                 0  2840.423057  21.409799 2021-11-16   \n",
       "17970                50                 0  3826.185507  18.435051 2021-11-18   \n",
       "17971                50                 0  2902.308661  16.674362 2021-11-27   \n",
       "17972                50                 0  2371.711192  15.893917 2021-12-29   \n",
       "\n",
       "       month  year  mean_speed  \n",
       "0          1  2021  172.264021  \n",
       "1          1  2021  165.493673  \n",
       "2          4  2021  121.011887  \n",
       "3          8  2021  145.577402  \n",
       "4          8  2021  153.381465  \n",
       "...      ...   ...         ...  \n",
       "17968     11  2021  190.743349  \n",
       "17969     11  2021  132.669299  \n",
       "17970     11  2021  207.549490  \n",
       "17971     11  2021  174.058151  \n",
       "17972     12  2021  149.221315  \n",
       "\n",
       "[17973 rows x 14 columns]"
      ]
     },
     "execution_count": 49,
     "metadata": {},
     "output_type": "execute_result"
    }
   ],
   "source": [
    "merged_df = pd.merge(clients, subs, on='subscription_type')\n",
    "merged_df = pd.merge(merged_df, rides, on='user_id')\n",
    "merged_df"
   ]
  },
  {
   "cell_type": "markdown",
   "id": "542962fb",
   "metadata": {},
   "source": [
    "Отлично, теперь все в одном, но теперь снова делилм. Посмотрим на разницу между пользователями с подпиской и без нее. Для этого и разделим датафрейм на этой основе"
   ]
  },
  {
   "cell_type": "code",
   "execution_count": 50,
   "id": "cf63f131",
   "metadata": {},
   "outputs": [
    {
     "data": {
      "text/html": [
       "<div>\n",
       "<style scoped>\n",
       "    .dataframe tbody tr th:only-of-type {\n",
       "        vertical-align: middle;\n",
       "    }\n",
       "\n",
       "    .dataframe tbody tr th {\n",
       "        vertical-align: top;\n",
       "    }\n",
       "\n",
       "    .dataframe thead th {\n",
       "        text-align: right;\n",
       "    }\n",
       "</style>\n",
       "<table border=\"1\" class=\"dataframe\">\n",
       "  <thead>\n",
       "    <tr style=\"text-align: right;\">\n",
       "      <th></th>\n",
       "      <th>user_id</th>\n",
       "      <th>name</th>\n",
       "      <th>age</th>\n",
       "      <th>city</th>\n",
       "      <th>subscription_type</th>\n",
       "      <th>minute_price</th>\n",
       "      <th>start_ride_price</th>\n",
       "      <th>subscription_fee</th>\n",
       "      <th>distance</th>\n",
       "      <th>duration</th>\n",
       "      <th>date</th>\n",
       "      <th>month</th>\n",
       "      <th>year</th>\n",
       "      <th>mean_speed</th>\n",
       "    </tr>\n",
       "  </thead>\n",
       "  <tbody>\n",
       "    <tr>\n",
       "      <th>0</th>\n",
       "      <td>1</td>\n",
       "      <td>Кира</td>\n",
       "      <td>22</td>\n",
       "      <td>Тюмень</td>\n",
       "      <td>ultra</td>\n",
       "      <td>6</td>\n",
       "      <td>0</td>\n",
       "      <td>199</td>\n",
       "      <td>4409.919140</td>\n",
       "      <td>25.599769</td>\n",
       "      <td>2021-01-01</td>\n",
       "      <td>1</td>\n",
       "      <td>2021</td>\n",
       "      <td>172.264021</td>\n",
       "    </tr>\n",
       "    <tr>\n",
       "      <th>1</th>\n",
       "      <td>1</td>\n",
       "      <td>Кира</td>\n",
       "      <td>22</td>\n",
       "      <td>Тюмень</td>\n",
       "      <td>ultra</td>\n",
       "      <td>6</td>\n",
       "      <td>0</td>\n",
       "      <td>199</td>\n",
       "      <td>2617.592153</td>\n",
       "      <td>15.816871</td>\n",
       "      <td>2021-01-18</td>\n",
       "      <td>1</td>\n",
       "      <td>2021</td>\n",
       "      <td>165.493673</td>\n",
       "    </tr>\n",
       "    <tr>\n",
       "      <th>2</th>\n",
       "      <td>1</td>\n",
       "      <td>Кира</td>\n",
       "      <td>22</td>\n",
       "      <td>Тюмень</td>\n",
       "      <td>ultra</td>\n",
       "      <td>6</td>\n",
       "      <td>0</td>\n",
       "      <td>199</td>\n",
       "      <td>754.159807</td>\n",
       "      <td>6.232113</td>\n",
       "      <td>2021-04-20</td>\n",
       "      <td>4</td>\n",
       "      <td>2021</td>\n",
       "      <td>121.011887</td>\n",
       "    </tr>\n",
       "    <tr>\n",
       "      <th>3</th>\n",
       "      <td>1</td>\n",
       "      <td>Кира</td>\n",
       "      <td>22</td>\n",
       "      <td>Тюмень</td>\n",
       "      <td>ultra</td>\n",
       "      <td>6</td>\n",
       "      <td>0</td>\n",
       "      <td>199</td>\n",
       "      <td>2694.783254</td>\n",
       "      <td>18.511000</td>\n",
       "      <td>2021-08-11</td>\n",
       "      <td>8</td>\n",
       "      <td>2021</td>\n",
       "      <td>145.577402</td>\n",
       "    </tr>\n",
       "    <tr>\n",
       "      <th>4</th>\n",
       "      <td>1</td>\n",
       "      <td>Кира</td>\n",
       "      <td>22</td>\n",
       "      <td>Тюмень</td>\n",
       "      <td>ultra</td>\n",
       "      <td>6</td>\n",
       "      <td>0</td>\n",
       "      <td>199</td>\n",
       "      <td>4028.687306</td>\n",
       "      <td>26.265803</td>\n",
       "      <td>2021-08-28</td>\n",
       "      <td>8</td>\n",
       "      <td>2021</td>\n",
       "      <td>153.381465</td>\n",
       "    </tr>\n",
       "    <tr>\n",
       "      <th>...</th>\n",
       "      <td>...</td>\n",
       "      <td>...</td>\n",
       "      <td>...</td>\n",
       "      <td>...</td>\n",
       "      <td>...</td>\n",
       "      <td>...</td>\n",
       "      <td>...</td>\n",
       "      <td>...</td>\n",
       "      <td>...</td>\n",
       "      <td>...</td>\n",
       "      <td>...</td>\n",
       "      <td>...</td>\n",
       "      <td>...</td>\n",
       "      <td>...</td>\n",
       "    </tr>\n",
       "    <tr>\n",
       "      <th>17968</th>\n",
       "      <td>1534</td>\n",
       "      <td>Альберт</td>\n",
       "      <td>25</td>\n",
       "      <td>Краснодар</td>\n",
       "      <td>free</td>\n",
       "      <td>8</td>\n",
       "      <td>50</td>\n",
       "      <td>0</td>\n",
       "      <td>3781.098080</td>\n",
       "      <td>19.822962</td>\n",
       "      <td>2021-11-04</td>\n",
       "      <td>11</td>\n",
       "      <td>2021</td>\n",
       "      <td>190.743349</td>\n",
       "    </tr>\n",
       "    <tr>\n",
       "      <th>17969</th>\n",
       "      <td>1534</td>\n",
       "      <td>Альберт</td>\n",
       "      <td>25</td>\n",
       "      <td>Краснодар</td>\n",
       "      <td>free</td>\n",
       "      <td>8</td>\n",
       "      <td>50</td>\n",
       "      <td>0</td>\n",
       "      <td>2840.423057</td>\n",
       "      <td>21.409799</td>\n",
       "      <td>2021-11-16</td>\n",
       "      <td>11</td>\n",
       "      <td>2021</td>\n",
       "      <td>132.669299</td>\n",
       "    </tr>\n",
       "    <tr>\n",
       "      <th>17970</th>\n",
       "      <td>1534</td>\n",
       "      <td>Альберт</td>\n",
       "      <td>25</td>\n",
       "      <td>Краснодар</td>\n",
       "      <td>free</td>\n",
       "      <td>8</td>\n",
       "      <td>50</td>\n",
       "      <td>0</td>\n",
       "      <td>3826.185507</td>\n",
       "      <td>18.435051</td>\n",
       "      <td>2021-11-18</td>\n",
       "      <td>11</td>\n",
       "      <td>2021</td>\n",
       "      <td>207.549490</td>\n",
       "    </tr>\n",
       "    <tr>\n",
       "      <th>17971</th>\n",
       "      <td>1534</td>\n",
       "      <td>Альберт</td>\n",
       "      <td>25</td>\n",
       "      <td>Краснодар</td>\n",
       "      <td>free</td>\n",
       "      <td>8</td>\n",
       "      <td>50</td>\n",
       "      <td>0</td>\n",
       "      <td>2902.308661</td>\n",
       "      <td>16.674362</td>\n",
       "      <td>2021-11-27</td>\n",
       "      <td>11</td>\n",
       "      <td>2021</td>\n",
       "      <td>174.058151</td>\n",
       "    </tr>\n",
       "    <tr>\n",
       "      <th>17972</th>\n",
       "      <td>1534</td>\n",
       "      <td>Альберт</td>\n",
       "      <td>25</td>\n",
       "      <td>Краснодар</td>\n",
       "      <td>free</td>\n",
       "      <td>8</td>\n",
       "      <td>50</td>\n",
       "      <td>0</td>\n",
       "      <td>2371.711192</td>\n",
       "      <td>15.893917</td>\n",
       "      <td>2021-12-29</td>\n",
       "      <td>12</td>\n",
       "      <td>2021</td>\n",
       "      <td>149.221315</td>\n",
       "    </tr>\n",
       "  </tbody>\n",
       "</table>\n",
       "<p>17973 rows × 14 columns</p>\n",
       "</div>"
      ],
      "text/plain": [
       "       user_id     name  age       city subscription_type  minute_price  \\\n",
       "0            1     Кира   22     Тюмень             ultra             6   \n",
       "1            1     Кира   22     Тюмень             ultra             6   \n",
       "2            1     Кира   22     Тюмень             ultra             6   \n",
       "3            1     Кира   22     Тюмень             ultra             6   \n",
       "4            1     Кира   22     Тюмень             ultra             6   \n",
       "...        ...      ...  ...        ...               ...           ...   \n",
       "17968     1534  Альберт   25  Краснодар              free             8   \n",
       "17969     1534  Альберт   25  Краснодар              free             8   \n",
       "17970     1534  Альберт   25  Краснодар              free             8   \n",
       "17971     1534  Альберт   25  Краснодар              free             8   \n",
       "17972     1534  Альберт   25  Краснодар              free             8   \n",
       "\n",
       "       start_ride_price  subscription_fee     distance   duration       date  \\\n",
       "0                     0               199  4409.919140  25.599769 2021-01-01   \n",
       "1                     0               199  2617.592153  15.816871 2021-01-18   \n",
       "2                     0               199   754.159807   6.232113 2021-04-20   \n",
       "3                     0               199  2694.783254  18.511000 2021-08-11   \n",
       "4                     0               199  4028.687306  26.265803 2021-08-28   \n",
       "...                 ...               ...          ...        ...        ...   \n",
       "17968                50                 0  3781.098080  19.822962 2021-11-04   \n",
       "17969                50                 0  2840.423057  21.409799 2021-11-16   \n",
       "17970                50                 0  3826.185507  18.435051 2021-11-18   \n",
       "17971                50                 0  2902.308661  16.674362 2021-11-27   \n",
       "17972                50                 0  2371.711192  15.893917 2021-12-29   \n",
       "\n",
       "       month  year  mean_speed  \n",
       "0          1  2021  172.264021  \n",
       "1          1  2021  165.493673  \n",
       "2          4  2021  121.011887  \n",
       "3          8  2021  145.577402  \n",
       "4          8  2021  153.381465  \n",
       "...      ...   ...         ...  \n",
       "17968     11  2021  190.743349  \n",
       "17969     11  2021  132.669299  \n",
       "17970     11  2021  207.549490  \n",
       "17971     11  2021  174.058151  \n",
       "17972     12  2021  149.221315  \n",
       "\n",
       "[17973 rows x 14 columns]"
      ]
     },
     "execution_count": 50,
     "metadata": {},
     "output_type": "execute_result"
    }
   ],
   "source": [
    "merged_df"
   ]
  },
  {
   "cell_type": "code",
   "execution_count": 51,
   "id": "3400beaa",
   "metadata": {},
   "outputs": [
    {
     "data": {
      "text/plain": [
       "array(['ultra'], dtype=object)"
      ]
     },
     "execution_count": 51,
     "metadata": {},
     "output_type": "execute_result"
    }
   ],
   "source": [
    "subt = merged_df[merged_df['subscription_type'] == 'ultra']\n",
    "subt['subscription_type'].unique()"
   ]
  },
  {
   "cell_type": "code",
   "execution_count": 52,
   "id": "95f097f6",
   "metadata": {},
   "outputs": [
    {
     "data": {
      "text/plain": [
       "array(['free'], dtype=object)"
      ]
     },
     "execution_count": 52,
     "metadata": {},
     "output_type": "execute_result"
    }
   ],
   "source": [
    "subn = merged_df[merged_df['subscription_type'] == 'free']\n",
    "subn['subscription_type'].unique()"
   ]
  },
  {
   "cell_type": "markdown",
   "id": "3dd87062",
   "metadata": {},
   "source": [
    "Посмотрим на наших самокатеров"
   ]
  },
  {
   "cell_type": "code",
   "execution_count": 53,
   "id": "ab021325",
   "metadata": {
    "scrolled": true
   },
   "outputs": [
    {
     "data": {
      "text/html": [
       "<div>\n",
       "<style scoped>\n",
       "    .dataframe tbody tr th:only-of-type {\n",
       "        vertical-align: middle;\n",
       "    }\n",
       "\n",
       "    .dataframe tbody tr th {\n",
       "        vertical-align: top;\n",
       "    }\n",
       "\n",
       "    .dataframe thead th {\n",
       "        text-align: right;\n",
       "    }\n",
       "</style>\n",
       "<table border=\"1\" class=\"dataframe\">\n",
       "  <thead>\n",
       "    <tr style=\"text-align: right;\">\n",
       "      <th></th>\n",
       "      <th>user_id</th>\n",
       "      <th>name</th>\n",
       "      <th>age</th>\n",
       "      <th>city</th>\n",
       "      <th>subscription_type</th>\n",
       "      <th>minute_price</th>\n",
       "      <th>start_ride_price</th>\n",
       "      <th>subscription_fee</th>\n",
       "      <th>distance</th>\n",
       "      <th>duration</th>\n",
       "      <th>date</th>\n",
       "      <th>month</th>\n",
       "      <th>year</th>\n",
       "      <th>mean_speed</th>\n",
       "    </tr>\n",
       "  </thead>\n",
       "  <tbody>\n",
       "    <tr>\n",
       "      <th>0</th>\n",
       "      <td>1</td>\n",
       "      <td>Кира</td>\n",
       "      <td>22</td>\n",
       "      <td>Тюмень</td>\n",
       "      <td>ultra</td>\n",
       "      <td>6</td>\n",
       "      <td>0</td>\n",
       "      <td>199</td>\n",
       "      <td>4409.919140</td>\n",
       "      <td>25.599769</td>\n",
       "      <td>2021-01-01</td>\n",
       "      <td>1</td>\n",
       "      <td>2021</td>\n",
       "      <td>172.264021</td>\n",
       "    </tr>\n",
       "    <tr>\n",
       "      <th>1</th>\n",
       "      <td>1</td>\n",
       "      <td>Кира</td>\n",
       "      <td>22</td>\n",
       "      <td>Тюмень</td>\n",
       "      <td>ultra</td>\n",
       "      <td>6</td>\n",
       "      <td>0</td>\n",
       "      <td>199</td>\n",
       "      <td>2617.592153</td>\n",
       "      <td>15.816871</td>\n",
       "      <td>2021-01-18</td>\n",
       "      <td>1</td>\n",
       "      <td>2021</td>\n",
       "      <td>165.493673</td>\n",
       "    </tr>\n",
       "    <tr>\n",
       "      <th>2</th>\n",
       "      <td>1</td>\n",
       "      <td>Кира</td>\n",
       "      <td>22</td>\n",
       "      <td>Тюмень</td>\n",
       "      <td>ultra</td>\n",
       "      <td>6</td>\n",
       "      <td>0</td>\n",
       "      <td>199</td>\n",
       "      <td>754.159807</td>\n",
       "      <td>6.232113</td>\n",
       "      <td>2021-04-20</td>\n",
       "      <td>4</td>\n",
       "      <td>2021</td>\n",
       "      <td>121.011887</td>\n",
       "    </tr>\n",
       "    <tr>\n",
       "      <th>3</th>\n",
       "      <td>1</td>\n",
       "      <td>Кира</td>\n",
       "      <td>22</td>\n",
       "      <td>Тюмень</td>\n",
       "      <td>ultra</td>\n",
       "      <td>6</td>\n",
       "      <td>0</td>\n",
       "      <td>199</td>\n",
       "      <td>2694.783254</td>\n",
       "      <td>18.511000</td>\n",
       "      <td>2021-08-11</td>\n",
       "      <td>8</td>\n",
       "      <td>2021</td>\n",
       "      <td>145.577402</td>\n",
       "    </tr>\n",
       "    <tr>\n",
       "      <th>4</th>\n",
       "      <td>1</td>\n",
       "      <td>Кира</td>\n",
       "      <td>22</td>\n",
       "      <td>Тюмень</td>\n",
       "      <td>ultra</td>\n",
       "      <td>6</td>\n",
       "      <td>0</td>\n",
       "      <td>199</td>\n",
       "      <td>4028.687306</td>\n",
       "      <td>26.265803</td>\n",
       "      <td>2021-08-28</td>\n",
       "      <td>8</td>\n",
       "      <td>2021</td>\n",
       "      <td>153.381465</td>\n",
       "    </tr>\n",
       "    <tr>\n",
       "      <th>5</th>\n",
       "      <td>1</td>\n",
       "      <td>Кира</td>\n",
       "      <td>22</td>\n",
       "      <td>Тюмень</td>\n",
       "      <td>ultra</td>\n",
       "      <td>6</td>\n",
       "      <td>0</td>\n",
       "      <td>199</td>\n",
       "      <td>2770.890808</td>\n",
       "      <td>16.650138</td>\n",
       "      <td>2021-10-09</td>\n",
       "      <td>10</td>\n",
       "      <td>2021</td>\n",
       "      <td>166.418490</td>\n",
       "    </tr>\n",
       "    <tr>\n",
       "      <th>6</th>\n",
       "      <td>1</td>\n",
       "      <td>Кира</td>\n",
       "      <td>22</td>\n",
       "      <td>Тюмень</td>\n",
       "      <td>ultra</td>\n",
       "      <td>6</td>\n",
       "      <td>0</td>\n",
       "      <td>199</td>\n",
       "      <td>3039.020292</td>\n",
       "      <td>14.927879</td>\n",
       "      <td>2021-10-19</td>\n",
       "      <td>10</td>\n",
       "      <td>2021</td>\n",
       "      <td>203.580180</td>\n",
       "    </tr>\n",
       "    <tr>\n",
       "      <th>7</th>\n",
       "      <td>1</td>\n",
       "      <td>Кира</td>\n",
       "      <td>22</td>\n",
       "      <td>Тюмень</td>\n",
       "      <td>ultra</td>\n",
       "      <td>6</td>\n",
       "      <td>0</td>\n",
       "      <td>199</td>\n",
       "      <td>2842.118050</td>\n",
       "      <td>23.117468</td>\n",
       "      <td>2021-11-06</td>\n",
       "      <td>11</td>\n",
       "      <td>2021</td>\n",
       "      <td>122.942446</td>\n",
       "    </tr>\n",
       "    <tr>\n",
       "      <th>8</th>\n",
       "      <td>1</td>\n",
       "      <td>Кира</td>\n",
       "      <td>22</td>\n",
       "      <td>Тюмень</td>\n",
       "      <td>ultra</td>\n",
       "      <td>6</td>\n",
       "      <td>0</td>\n",
       "      <td>199</td>\n",
       "      <td>3412.690668</td>\n",
       "      <td>15.238072</td>\n",
       "      <td>2021-11-14</td>\n",
       "      <td>11</td>\n",
       "      <td>2021</td>\n",
       "      <td>223.958167</td>\n",
       "    </tr>\n",
       "    <tr>\n",
       "      <th>9</th>\n",
       "      <td>1</td>\n",
       "      <td>Кира</td>\n",
       "      <td>22</td>\n",
       "      <td>Тюмень</td>\n",
       "      <td>ultra</td>\n",
       "      <td>6</td>\n",
       "      <td>0</td>\n",
       "      <td>199</td>\n",
       "      <td>748.690645</td>\n",
       "      <td>15.041884</td>\n",
       "      <td>2021-11-22</td>\n",
       "      <td>11</td>\n",
       "      <td>2021</td>\n",
       "      <td>49.773730</td>\n",
       "    </tr>\n",
       "    <tr>\n",
       "      <th>10</th>\n",
       "      <td>1</td>\n",
       "      <td>Кира</td>\n",
       "      <td>22</td>\n",
       "      <td>Тюмень</td>\n",
       "      <td>ultra</td>\n",
       "      <td>6</td>\n",
       "      <td>0</td>\n",
       "      <td>199</td>\n",
       "      <td>4031.020195</td>\n",
       "      <td>17.674448</td>\n",
       "      <td>2021-12-14</td>\n",
       "      <td>12</td>\n",
       "      <td>2021</td>\n",
       "      <td>228.070494</td>\n",
       "    </tr>\n",
       "    <tr>\n",
       "      <th>11</th>\n",
       "      <td>1</td>\n",
       "      <td>Кира</td>\n",
       "      <td>22</td>\n",
       "      <td>Тюмень</td>\n",
       "      <td>ultra</td>\n",
       "      <td>6</td>\n",
       "      <td>0</td>\n",
       "      <td>199</td>\n",
       "      <td>2720.609748</td>\n",
       "      <td>9.529463</td>\n",
       "      <td>2021-12-22</td>\n",
       "      <td>12</td>\n",
       "      <td>2021</td>\n",
       "      <td>285.494538</td>\n",
       "    </tr>\n",
       "    <tr>\n",
       "      <th>12</th>\n",
       "      <td>2</td>\n",
       "      <td>Станислав</td>\n",
       "      <td>31</td>\n",
       "      <td>Омск</td>\n",
       "      <td>ultra</td>\n",
       "      <td>6</td>\n",
       "      <td>0</td>\n",
       "      <td>199</td>\n",
       "      <td>3105.086678</td>\n",
       "      <td>24.307514</td>\n",
       "      <td>2021-03-15</td>\n",
       "      <td>3</td>\n",
       "      <td>2021</td>\n",
       "      <td>127.741843</td>\n",
       "    </tr>\n",
       "    <tr>\n",
       "      <th>13</th>\n",
       "      <td>2</td>\n",
       "      <td>Станислав</td>\n",
       "      <td>31</td>\n",
       "      <td>Омск</td>\n",
       "      <td>ultra</td>\n",
       "      <td>6</td>\n",
       "      <td>0</td>\n",
       "      <td>199</td>\n",
       "      <td>3053.519401</td>\n",
       "      <td>11.543256</td>\n",
       "      <td>2021-03-18</td>\n",
       "      <td>3</td>\n",
       "      <td>2021</td>\n",
       "      <td>264.528434</td>\n",
       "    </tr>\n",
       "    <tr>\n",
       "      <th>14</th>\n",
       "      <td>2</td>\n",
       "      <td>Станислав</td>\n",
       "      <td>31</td>\n",
       "      <td>Омск</td>\n",
       "      <td>ultra</td>\n",
       "      <td>6</td>\n",
       "      <td>0</td>\n",
       "      <td>199</td>\n",
       "      <td>4029.116927</td>\n",
       "      <td>25.109188</td>\n",
       "      <td>2021-03-23</td>\n",
       "      <td>3</td>\n",
       "      <td>2021</td>\n",
       "      <td>160.463845</td>\n",
       "    </tr>\n",
       "  </tbody>\n",
       "</table>\n",
       "</div>"
      ],
      "text/plain": [
       "    user_id       name  age    city subscription_type  minute_price  \\\n",
       "0         1       Кира   22  Тюмень             ultra             6   \n",
       "1         1       Кира   22  Тюмень             ultra             6   \n",
       "2         1       Кира   22  Тюмень             ultra             6   \n",
       "3         1       Кира   22  Тюмень             ultra             6   \n",
       "4         1       Кира   22  Тюмень             ultra             6   \n",
       "5         1       Кира   22  Тюмень             ultra             6   \n",
       "6         1       Кира   22  Тюмень             ultra             6   \n",
       "7         1       Кира   22  Тюмень             ultra             6   \n",
       "8         1       Кира   22  Тюмень             ultra             6   \n",
       "9         1       Кира   22  Тюмень             ultra             6   \n",
       "10        1       Кира   22  Тюмень             ultra             6   \n",
       "11        1       Кира   22  Тюмень             ultra             6   \n",
       "12        2  Станислав   31    Омск             ultra             6   \n",
       "13        2  Станислав   31    Омск             ultra             6   \n",
       "14        2  Станислав   31    Омск             ultra             6   \n",
       "\n",
       "    start_ride_price  subscription_fee     distance   duration       date  \\\n",
       "0                  0               199  4409.919140  25.599769 2021-01-01   \n",
       "1                  0               199  2617.592153  15.816871 2021-01-18   \n",
       "2                  0               199   754.159807   6.232113 2021-04-20   \n",
       "3                  0               199  2694.783254  18.511000 2021-08-11   \n",
       "4                  0               199  4028.687306  26.265803 2021-08-28   \n",
       "5                  0               199  2770.890808  16.650138 2021-10-09   \n",
       "6                  0               199  3039.020292  14.927879 2021-10-19   \n",
       "7                  0               199  2842.118050  23.117468 2021-11-06   \n",
       "8                  0               199  3412.690668  15.238072 2021-11-14   \n",
       "9                  0               199   748.690645  15.041884 2021-11-22   \n",
       "10                 0               199  4031.020195  17.674448 2021-12-14   \n",
       "11                 0               199  2720.609748   9.529463 2021-12-22   \n",
       "12                 0               199  3105.086678  24.307514 2021-03-15   \n",
       "13                 0               199  3053.519401  11.543256 2021-03-18   \n",
       "14                 0               199  4029.116927  25.109188 2021-03-23   \n",
       "\n",
       "    month  year  mean_speed  \n",
       "0       1  2021  172.264021  \n",
       "1       1  2021  165.493673  \n",
       "2       4  2021  121.011887  \n",
       "3       8  2021  145.577402  \n",
       "4       8  2021  153.381465  \n",
       "5      10  2021  166.418490  \n",
       "6      10  2021  203.580180  \n",
       "7      11  2021  122.942446  \n",
       "8      11  2021  223.958167  \n",
       "9      11  2021   49.773730  \n",
       "10     12  2021  228.070494  \n",
       "11     12  2021  285.494538  \n",
       "12      3  2021  127.741843  \n",
       "13      3  2021  264.528434  \n",
       "14      3  2021  160.463845  "
      ]
     },
     "metadata": {},
     "output_type": "display_data"
    },
    {
     "data": {
      "text/html": [
       "<div>\n",
       "<style scoped>\n",
       "    .dataframe tbody tr th:only-of-type {\n",
       "        vertical-align: middle;\n",
       "    }\n",
       "\n",
       "    .dataframe tbody tr th {\n",
       "        vertical-align: top;\n",
       "    }\n",
       "\n",
       "    .dataframe thead th {\n",
       "        text-align: right;\n",
       "    }\n",
       "</style>\n",
       "<table border=\"1\" class=\"dataframe\">\n",
       "  <thead>\n",
       "    <tr style=\"text-align: right;\">\n",
       "      <th></th>\n",
       "      <th>user_id</th>\n",
       "      <th>name</th>\n",
       "      <th>age</th>\n",
       "      <th>city</th>\n",
       "      <th>subscription_type</th>\n",
       "      <th>minute_price</th>\n",
       "      <th>start_ride_price</th>\n",
       "      <th>subscription_fee</th>\n",
       "      <th>distance</th>\n",
       "      <th>duration</th>\n",
       "      <th>date</th>\n",
       "      <th>month</th>\n",
       "      <th>year</th>\n",
       "      <th>mean_speed</th>\n",
       "    </tr>\n",
       "  </thead>\n",
       "  <tbody>\n",
       "    <tr>\n",
       "      <th>6500</th>\n",
       "      <td>700</td>\n",
       "      <td>Айдар</td>\n",
       "      <td>22</td>\n",
       "      <td>Омск</td>\n",
       "      <td>free</td>\n",
       "      <td>8</td>\n",
       "      <td>50</td>\n",
       "      <td>0</td>\n",
       "      <td>2515.690719</td>\n",
       "      <td>14.944286</td>\n",
       "      <td>2021-01-02</td>\n",
       "      <td>1</td>\n",
       "      <td>2021</td>\n",
       "      <td>168.337961</td>\n",
       "    </tr>\n",
       "    <tr>\n",
       "      <th>6501</th>\n",
       "      <td>700</td>\n",
       "      <td>Айдар</td>\n",
       "      <td>22</td>\n",
       "      <td>Омск</td>\n",
       "      <td>free</td>\n",
       "      <td>8</td>\n",
       "      <td>50</td>\n",
       "      <td>0</td>\n",
       "      <td>846.932642</td>\n",
       "      <td>16.234663</td>\n",
       "      <td>2021-02-01</td>\n",
       "      <td>2</td>\n",
       "      <td>2021</td>\n",
       "      <td>52.168168</td>\n",
       "    </tr>\n",
       "    <tr>\n",
       "      <th>6502</th>\n",
       "      <td>700</td>\n",
       "      <td>Айдар</td>\n",
       "      <td>22</td>\n",
       "      <td>Омск</td>\n",
       "      <td>free</td>\n",
       "      <td>8</td>\n",
       "      <td>50</td>\n",
       "      <td>0</td>\n",
       "      <td>4004.434142</td>\n",
       "      <td>20.016628</td>\n",
       "      <td>2021-02-04</td>\n",
       "      <td>2</td>\n",
       "      <td>2021</td>\n",
       "      <td>200.055381</td>\n",
       "    </tr>\n",
       "    <tr>\n",
       "      <th>6503</th>\n",
       "      <td>700</td>\n",
       "      <td>Айдар</td>\n",
       "      <td>22</td>\n",
       "      <td>Омск</td>\n",
       "      <td>free</td>\n",
       "      <td>8</td>\n",
       "      <td>50</td>\n",
       "      <td>0</td>\n",
       "      <td>1205.911290</td>\n",
       "      <td>9.782872</td>\n",
       "      <td>2021-02-10</td>\n",
       "      <td>2</td>\n",
       "      <td>2021</td>\n",
       "      <td>123.267611</td>\n",
       "    </tr>\n",
       "    <tr>\n",
       "      <th>6504</th>\n",
       "      <td>700</td>\n",
       "      <td>Айдар</td>\n",
       "      <td>22</td>\n",
       "      <td>Омск</td>\n",
       "      <td>free</td>\n",
       "      <td>8</td>\n",
       "      <td>50</td>\n",
       "      <td>0</td>\n",
       "      <td>3047.379435</td>\n",
       "      <td>17.427673</td>\n",
       "      <td>2021-02-14</td>\n",
       "      <td>2</td>\n",
       "      <td>2021</td>\n",
       "      <td>174.858655</td>\n",
       "    </tr>\n",
       "    <tr>\n",
       "      <th>6505</th>\n",
       "      <td>700</td>\n",
       "      <td>Айдар</td>\n",
       "      <td>22</td>\n",
       "      <td>Омск</td>\n",
       "      <td>free</td>\n",
       "      <td>8</td>\n",
       "      <td>50</td>\n",
       "      <td>0</td>\n",
       "      <td>4342.002254</td>\n",
       "      <td>22.368009</td>\n",
       "      <td>2021-02-23</td>\n",
       "      <td>2</td>\n",
       "      <td>2021</td>\n",
       "      <td>194.116618</td>\n",
       "    </tr>\n",
       "    <tr>\n",
       "      <th>6506</th>\n",
       "      <td>700</td>\n",
       "      <td>Айдар</td>\n",
       "      <td>22</td>\n",
       "      <td>Омск</td>\n",
       "      <td>free</td>\n",
       "      <td>8</td>\n",
       "      <td>50</td>\n",
       "      <td>0</td>\n",
       "      <td>3798.334905</td>\n",
       "      <td>18.243756</td>\n",
       "      <td>2021-03-03</td>\n",
       "      <td>3</td>\n",
       "      <td>2021</td>\n",
       "      <td>208.199174</td>\n",
       "    </tr>\n",
       "    <tr>\n",
       "      <th>6507</th>\n",
       "      <td>700</td>\n",
       "      <td>Айдар</td>\n",
       "      <td>22</td>\n",
       "      <td>Омск</td>\n",
       "      <td>free</td>\n",
       "      <td>8</td>\n",
       "      <td>50</td>\n",
       "      <td>0</td>\n",
       "      <td>2984.551206</td>\n",
       "      <td>15.424899</td>\n",
       "      <td>2021-04-09</td>\n",
       "      <td>4</td>\n",
       "      <td>2021</td>\n",
       "      <td>193.489195</td>\n",
       "    </tr>\n",
       "    <tr>\n",
       "      <th>6508</th>\n",
       "      <td>700</td>\n",
       "      <td>Айдар</td>\n",
       "      <td>22</td>\n",
       "      <td>Омск</td>\n",
       "      <td>free</td>\n",
       "      <td>8</td>\n",
       "      <td>50</td>\n",
       "      <td>0</td>\n",
       "      <td>3360.107141</td>\n",
       "      <td>16.765497</td>\n",
       "      <td>2021-06-12</td>\n",
       "      <td>6</td>\n",
       "      <td>2021</td>\n",
       "      <td>200.417987</td>\n",
       "    </tr>\n",
       "    <tr>\n",
       "      <th>6509</th>\n",
       "      <td>700</td>\n",
       "      <td>Айдар</td>\n",
       "      <td>22</td>\n",
       "      <td>Омск</td>\n",
       "      <td>free</td>\n",
       "      <td>8</td>\n",
       "      <td>50</td>\n",
       "      <td>0</td>\n",
       "      <td>2567.543847</td>\n",
       "      <td>11.312160</td>\n",
       "      <td>2021-06-23</td>\n",
       "      <td>6</td>\n",
       "      <td>2021</td>\n",
       "      <td>226.972030</td>\n",
       "    </tr>\n",
       "    <tr>\n",
       "      <th>6510</th>\n",
       "      <td>700</td>\n",
       "      <td>Айдар</td>\n",
       "      <td>22</td>\n",
       "      <td>Омск</td>\n",
       "      <td>free</td>\n",
       "      <td>8</td>\n",
       "      <td>50</td>\n",
       "      <td>0</td>\n",
       "      <td>4110.232038</td>\n",
       "      <td>15.807640</td>\n",
       "      <td>2021-07-08</td>\n",
       "      <td>7</td>\n",
       "      <td>2021</td>\n",
       "      <td>260.015538</td>\n",
       "    </tr>\n",
       "    <tr>\n",
       "      <th>6511</th>\n",
       "      <td>700</td>\n",
       "      <td>Айдар</td>\n",
       "      <td>22</td>\n",
       "      <td>Омск</td>\n",
       "      <td>free</td>\n",
       "      <td>8</td>\n",
       "      <td>50</td>\n",
       "      <td>0</td>\n",
       "      <td>288.974241</td>\n",
       "      <td>4.788112</td>\n",
       "      <td>2021-07-18</td>\n",
       "      <td>7</td>\n",
       "      <td>2021</td>\n",
       "      <td>60.352445</td>\n",
       "    </tr>\n",
       "    <tr>\n",
       "      <th>6512</th>\n",
       "      <td>700</td>\n",
       "      <td>Айдар</td>\n",
       "      <td>22</td>\n",
       "      <td>Омск</td>\n",
       "      <td>free</td>\n",
       "      <td>8</td>\n",
       "      <td>50</td>\n",
       "      <td>0</td>\n",
       "      <td>4071.654669</td>\n",
       "      <td>16.370546</td>\n",
       "      <td>2021-08-17</td>\n",
       "      <td>8</td>\n",
       "      <td>2021</td>\n",
       "      <td>248.718320</td>\n",
       "    </tr>\n",
       "    <tr>\n",
       "      <th>6513</th>\n",
       "      <td>700</td>\n",
       "      <td>Айдар</td>\n",
       "      <td>22</td>\n",
       "      <td>Омск</td>\n",
       "      <td>free</td>\n",
       "      <td>8</td>\n",
       "      <td>50</td>\n",
       "      <td>0</td>\n",
       "      <td>1920.188901</td>\n",
       "      <td>9.608453</td>\n",
       "      <td>2021-10-08</td>\n",
       "      <td>10</td>\n",
       "      <td>2021</td>\n",
       "      <td>199.843703</td>\n",
       "    </tr>\n",
       "    <tr>\n",
       "      <th>6514</th>\n",
       "      <td>700</td>\n",
       "      <td>Айдар</td>\n",
       "      <td>22</td>\n",
       "      <td>Омск</td>\n",
       "      <td>free</td>\n",
       "      <td>8</td>\n",
       "      <td>50</td>\n",
       "      <td>0</td>\n",
       "      <td>4402.389717</td>\n",
       "      <td>33.013035</td>\n",
       "      <td>2021-10-15</td>\n",
       "      <td>10</td>\n",
       "      <td>2021</td>\n",
       "      <td>133.353075</td>\n",
       "    </tr>\n",
       "  </tbody>\n",
       "</table>\n",
       "</div>"
      ],
      "text/plain": [
       "      user_id   name  age  city subscription_type  minute_price  \\\n",
       "6500      700  Айдар   22  Омск              free             8   \n",
       "6501      700  Айдар   22  Омск              free             8   \n",
       "6502      700  Айдар   22  Омск              free             8   \n",
       "6503      700  Айдар   22  Омск              free             8   \n",
       "6504      700  Айдар   22  Омск              free             8   \n",
       "6505      700  Айдар   22  Омск              free             8   \n",
       "6506      700  Айдар   22  Омск              free             8   \n",
       "6507      700  Айдар   22  Омск              free             8   \n",
       "6508      700  Айдар   22  Омск              free             8   \n",
       "6509      700  Айдар   22  Омск              free             8   \n",
       "6510      700  Айдар   22  Омск              free             8   \n",
       "6511      700  Айдар   22  Омск              free             8   \n",
       "6512      700  Айдар   22  Омск              free             8   \n",
       "6513      700  Айдар   22  Омск              free             8   \n",
       "6514      700  Айдар   22  Омск              free             8   \n",
       "\n",
       "      start_ride_price  subscription_fee     distance   duration       date  \\\n",
       "6500                50                 0  2515.690719  14.944286 2021-01-02   \n",
       "6501                50                 0   846.932642  16.234663 2021-02-01   \n",
       "6502                50                 0  4004.434142  20.016628 2021-02-04   \n",
       "6503                50                 0  1205.911290   9.782872 2021-02-10   \n",
       "6504                50                 0  3047.379435  17.427673 2021-02-14   \n",
       "6505                50                 0  4342.002254  22.368009 2021-02-23   \n",
       "6506                50                 0  3798.334905  18.243756 2021-03-03   \n",
       "6507                50                 0  2984.551206  15.424899 2021-04-09   \n",
       "6508                50                 0  3360.107141  16.765497 2021-06-12   \n",
       "6509                50                 0  2567.543847  11.312160 2021-06-23   \n",
       "6510                50                 0  4110.232038  15.807640 2021-07-08   \n",
       "6511                50                 0   288.974241   4.788112 2021-07-18   \n",
       "6512                50                 0  4071.654669  16.370546 2021-08-17   \n",
       "6513                50                 0  1920.188901   9.608453 2021-10-08   \n",
       "6514                50                 0  4402.389717  33.013035 2021-10-15   \n",
       "\n",
       "      month  year  mean_speed  \n",
       "6500      1  2021  168.337961  \n",
       "6501      2  2021   52.168168  \n",
       "6502      2  2021  200.055381  \n",
       "6503      2  2021  123.267611  \n",
       "6504      2  2021  174.858655  \n",
       "6505      2  2021  194.116618  \n",
       "6506      3  2021  208.199174  \n",
       "6507      4  2021  193.489195  \n",
       "6508      6  2021  200.417987  \n",
       "6509      6  2021  226.972030  \n",
       "6510      7  2021  260.015538  \n",
       "6511      7  2021   60.352445  \n",
       "6512      8  2021  248.718320  \n",
       "6513     10  2021  199.843703  \n",
       "6514     10  2021  133.353075  "
      ]
     },
     "execution_count": 53,
     "metadata": {},
     "output_type": "execute_result"
    }
   ],
   "source": [
    "display(subt.head(15))\n",
    "subn.head(15)"
   ]
  },
  {
   "cell_type": "markdown",
   "id": "777978ee",
   "metadata": {},
   "source": [
    "Отлично, это нам понадобится для сравнительного анализа\n",
    "\n",
    "Сейчас посмотрим на метры и время использования самокатов от 2 разные категории и увидим, как сильно график будет отличаться от общих показателей двух категории"
   ]
  },
  {
   "cell_type": "code",
   "execution_count": 54,
   "id": "e4c67a2c",
   "metadata": {},
   "outputs": [
    {
     "data": {
      "text/plain": [
       "<AxesSubplot:>"
      ]
     },
     "execution_count": 54,
     "metadata": {},
     "output_type": "execute_result"
    },
    {
     "data": {
      "image/png": "[encoded data removed]",
      "text/plain": [
       "<Figure size 432x288 with 1 Axes>"
      ]
     },
     "metadata": {
      "needs_background": "light"
     },
     "output_type": "display_data"
    }
   ],
   "source": [
    "subt['distance'].plot.box()"
   ]
  },
  {
   "cell_type": "code",
   "execution_count": 55,
   "id": "cf384726",
   "metadata": {},
   "outputs": [
    {
     "data": {
      "text/plain": [
       "count    6500.000000\n",
       "mean     3115.445388\n",
       "std       836.895330\n",
       "min       244.210438\n",
       "25%      2785.444017\n",
       "50%      3148.637229\n",
       "75%      3560.574425\n",
       "max      5699.769662\n",
       "Name: distance, dtype: float64"
      ]
     },
     "execution_count": 55,
     "metadata": {},
     "output_type": "execute_result"
    }
   ],
   "source": [
    "subt['distance'].describe()"
   ]
  },
  {
   "cell_type": "code",
   "execution_count": 56,
   "id": "c68b2687",
   "metadata": {},
   "outputs": [
    {
     "data": {
      "text/plain": [
       "<AxesSubplot:>"
      ]
     },
     "execution_count": 56,
     "metadata": {},
     "output_type": "execute_result"
    },
    {
     "data": {
      "image/png": "[encoded data removed]",
      "text/plain": [
       "<Figure size 432x288 with 1 Axes>"
      ]
     },
     "metadata": {
      "needs_background": "light"
     },
     "output_type": "display_data"
    }
   ],
   "source": [
    "subn['distance'].plot.box()"
   ]
  },
  {
   "cell_type": "code",
   "execution_count": 57,
   "id": "a2695d0f",
   "metadata": {},
   "outputs": [
    {
     "data": {
      "text/plain": [
       "count    11473.000000\n",
       "mean      3028.374239\n",
       "std       1235.541051\n",
       "min          0.855683\n",
       "25%       2360.878149\n",
       "50%       3102.083025\n",
       "75%       3883.979311\n",
       "max       7066.003772\n",
       "Name: distance, dtype: float64"
      ]
     },
     "execution_count": 57,
     "metadata": {},
     "output_type": "execute_result"
    }
   ],
   "source": [
    "subn['distance'].describe()"
   ]
  },
  {
   "cell_type": "markdown",
   "id": "7baabf89",
   "metadata": {},
   "source": [
    "Не большая разница между пользователями с подпиской и без, среднее расстояние в районе 3000-3100м"
   ]
  },
  {
   "cell_type": "code",
   "execution_count": 58,
   "id": "047aa2a7",
   "metadata": {},
   "outputs": [
    {
     "data": {
      "text/plain": [
       "<AxesSubplot:>"
      ]
     },
     "execution_count": 58,
     "metadata": {},
     "output_type": "execute_result"
    },
    {
     "data": {
      "image/png": "[encoded data removed]",
      "text/plain": [
       "<Figure size 432x288 with 1 Axes>"
      ]
     },
     "metadata": {
      "needs_background": "light"
     },
     "output_type": "display_data"
    }
   ],
   "source": [
    "subt['duration'].plot.box()"
   ]
  },
  {
   "cell_type": "code",
   "execution_count": 59,
   "id": "2744849e",
   "metadata": {},
   "outputs": [
    {
     "data": {
      "text/plain": [
       "count    6500.000000\n",
       "mean       18.541985\n",
       "std         5.572048\n",
       "min         3.760353\n",
       "25%        14.524654\n",
       "50%        18.178153\n",
       "75%        21.884129\n",
       "max        40.823963\n",
       "Name: duration, dtype: float64"
      ]
     },
     "execution_count": 59,
     "metadata": {},
     "output_type": "execute_result"
    }
   ],
   "source": [
    "subt['duration'].describe()"
   ]
  },
  {
   "cell_type": "code",
   "execution_count": 60,
   "id": "7e3f5fa6",
   "metadata": {},
   "outputs": [
    {
     "data": {
      "text/plain": [
       "<AxesSubplot:>"
      ]
     },
     "execution_count": 60,
     "metadata": {},
     "output_type": "execute_result"
    },
    {
     "data": {
      "image/png": "[encoded data removed]",
      "text/plain": [
       "<Figure size 432x288 with 1 Axes>"
      ]
     },
     "metadata": {
      "needs_background": "light"
     },
     "output_type": "display_data"
    }
   ],
   "source": [
    "subn['duration'].plot.box()"
   ]
  },
  {
   "cell_type": "code",
   "execution_count": 61,
   "id": "7b0c3087",
   "metadata": {},
   "outputs": [
    {
     "data": {
      "text/plain": [
       "count    11473.000000\n",
       "mean        17.530771\n",
       "std          6.162609\n",
       "min          2.035632\n",
       "25%         13.085688\n",
       "50%         17.383807\n",
       "75%         21.638038\n",
       "max         34.948498\n",
       "Name: duration, dtype: float64"
      ]
     },
     "execution_count": 61,
     "metadata": {},
     "output_type": "execute_result"
    }
   ],
   "source": [
    "subn['duration'].describe()"
   ]
  },
  {
   "cell_type": "markdown",
   "id": "3529902c",
   "metadata": {},
   "source": [
    "Время тоже не сильно отличется, в среднем буквально на минуту, у не имеющих подписку людей - максимум по времени 35мин, у имеющих 40. Вряд ли тут дело в цене, разница не большая для максимального значения, это не закономерность"
   ]
  },
  {
   "cell_type": "code",
   "execution_count": 62,
   "id": "64190a00",
   "metadata": {},
   "outputs": [
    {
     "data": {
      "text/plain": [
       "(6500, 14)"
      ]
     },
     "execution_count": 62,
     "metadata": {},
     "output_type": "execute_result"
    }
   ],
   "source": [
    "subt.shape\n"
   ]
  },
  {
   "cell_type": "code",
   "execution_count": 63,
   "id": "50629450",
   "metadata": {},
   "outputs": [
    {
     "data": {
      "text/plain": [
       "(11473, 14)"
      ]
     },
     "execution_count": 63,
     "metadata": {},
     "output_type": "execute_result"
    }
   ],
   "source": [
    "subn.shape"
   ]
  },
  {
   "cell_type": "markdown",
   "id": "82996eb2",
   "metadata": {},
   "source": [
    "Забыл проверить раньше, пользователей без подписки прилично поменьше"
   ]
  },
  {
   "cell_type": "markdown",
   "id": "0d5b5d83",
   "metadata": {},
   "source": [
    "Хочу проверить, разнятся ли значения у пользователей с подпиской и без нее\n",
    "\n",
    "- Нулевая гипотеза - Время которое пользователи с подпиской и без подписки трятят на поездку одинаковое, тоже самое про дистанцию\n",
    "- Альтернативная - Оно разнится\n",
    "- Я указал equal_var=False -тк выборки очень разнятся по размеру и представляют собой две разные группы"
   ]
  },
  {
   "cell_type": "code",
   "execution_count": 64,
   "id": "fc8fd499",
   "metadata": {},
   "outputs": [
    {
     "name": "stdout",
     "output_type": "stream",
     "text": [
      "p-значение: 2.0426852749988446e-08\n",
      "Отвергаем нулевую гипотезу\n"
     ]
    }
   ],
   "source": [
    "\n",
    "alpha = .01 \n",
    "\n",
    "\n",
    "results = st.ttest_ind(subt['distance'], subn['distance'], equal_var=False)\n",
    "\n",
    "print('p-значение:', results.pvalue)\n",
    "\n",
    "if results.pvalue < alpha:\n",
    "    print('Отвергаем нулевую гипотезу')\n",
    "else:\n",
    "    print('Не получилось отвергнуть нулевую гипотезу') "
   ]
  },
  {
   "cell_type": "code",
   "execution_count": 65,
   "id": "3040be84",
   "metadata": {},
   "outputs": [
    {
     "name": "stdout",
     "output_type": "stream",
     "text": [
      "p-значение: 3.2324420390622126e-29\n",
      "Отвергаем нулевую гипотезу\n"
     ]
    }
   ],
   "source": [
    "alpha = .01 \n",
    "\n",
    "\n",
    "results = st.ttest_ind(subt['duration'], subn['duration'], equal_var=False)\n",
    "\n",
    "print('p-значение:', results.pvalue)\n",
    "\n",
    "if results.pvalue < alpha:\n",
    "    print('Отвергаем нулевую гипотезу')\n",
    "else:\n",
    "    print('Не получилось отвергнуть нулевую гипотезу') "
   ]
  },
  {
   "cell_type": "markdown",
   "id": "402d620f",
   "metadata": {},
   "source": [
    "####  Подсчёт выручки"
   ]
  },
  {
   "cell_type": "code",
   "execution_count": 66,
   "id": "53049e0a",
   "metadata": {
    "scrolled": true
   },
   "outputs": [
    {
     "data": {
      "text/html": [
       "<div>\n",
       "<style scoped>\n",
       "    .dataframe tbody tr th:only-of-type {\n",
       "        vertical-align: middle;\n",
       "    }\n",
       "\n",
       "    .dataframe tbody tr th {\n",
       "        vertical-align: top;\n",
       "    }\n",
       "\n",
       "    .dataframe thead th {\n",
       "        text-align: right;\n",
       "    }\n",
       "</style>\n",
       "<table border=\"1\" class=\"dataframe\">\n",
       "  <thead>\n",
       "    <tr style=\"text-align: right;\">\n",
       "      <th></th>\n",
       "      <th>user_id</th>\n",
       "      <th>name</th>\n",
       "      <th>age</th>\n",
       "      <th>city</th>\n",
       "      <th>subscription_type</th>\n",
       "      <th>minute_price</th>\n",
       "      <th>start_ride_price</th>\n",
       "      <th>subscription_fee</th>\n",
       "      <th>distance</th>\n",
       "      <th>duration</th>\n",
       "      <th>date</th>\n",
       "      <th>month</th>\n",
       "      <th>year</th>\n",
       "      <th>mean_speed</th>\n",
       "    </tr>\n",
       "  </thead>\n",
       "  <tbody>\n",
       "    <tr>\n",
       "      <th>0</th>\n",
       "      <td>1</td>\n",
       "      <td>Кира</td>\n",
       "      <td>22</td>\n",
       "      <td>Тюмень</td>\n",
       "      <td>ultra</td>\n",
       "      <td>6</td>\n",
       "      <td>0</td>\n",
       "      <td>199</td>\n",
       "      <td>4409.919140</td>\n",
       "      <td>25.599769</td>\n",
       "      <td>2021-01-01</td>\n",
       "      <td>1</td>\n",
       "      <td>2021</td>\n",
       "      <td>172.264021</td>\n",
       "    </tr>\n",
       "    <tr>\n",
       "      <th>1</th>\n",
       "      <td>1</td>\n",
       "      <td>Кира</td>\n",
       "      <td>22</td>\n",
       "      <td>Тюмень</td>\n",
       "      <td>ultra</td>\n",
       "      <td>6</td>\n",
       "      <td>0</td>\n",
       "      <td>199</td>\n",
       "      <td>2617.592153</td>\n",
       "      <td>15.816871</td>\n",
       "      <td>2021-01-18</td>\n",
       "      <td>1</td>\n",
       "      <td>2021</td>\n",
       "      <td>165.493673</td>\n",
       "    </tr>\n",
       "    <tr>\n",
       "      <th>2</th>\n",
       "      <td>1</td>\n",
       "      <td>Кира</td>\n",
       "      <td>22</td>\n",
       "      <td>Тюмень</td>\n",
       "      <td>ultra</td>\n",
       "      <td>6</td>\n",
       "      <td>0</td>\n",
       "      <td>199</td>\n",
       "      <td>754.159807</td>\n",
       "      <td>6.232113</td>\n",
       "      <td>2021-04-20</td>\n",
       "      <td>4</td>\n",
       "      <td>2021</td>\n",
       "      <td>121.011887</td>\n",
       "    </tr>\n",
       "    <tr>\n",
       "      <th>3</th>\n",
       "      <td>1</td>\n",
       "      <td>Кира</td>\n",
       "      <td>22</td>\n",
       "      <td>Тюмень</td>\n",
       "      <td>ultra</td>\n",
       "      <td>6</td>\n",
       "      <td>0</td>\n",
       "      <td>199</td>\n",
       "      <td>2694.783254</td>\n",
       "      <td>18.511000</td>\n",
       "      <td>2021-08-11</td>\n",
       "      <td>8</td>\n",
       "      <td>2021</td>\n",
       "      <td>145.577402</td>\n",
       "    </tr>\n",
       "    <tr>\n",
       "      <th>4</th>\n",
       "      <td>1</td>\n",
       "      <td>Кира</td>\n",
       "      <td>22</td>\n",
       "      <td>Тюмень</td>\n",
       "      <td>ultra</td>\n",
       "      <td>6</td>\n",
       "      <td>0</td>\n",
       "      <td>199</td>\n",
       "      <td>4028.687306</td>\n",
       "      <td>26.265803</td>\n",
       "      <td>2021-08-28</td>\n",
       "      <td>8</td>\n",
       "      <td>2021</td>\n",
       "      <td>153.381465</td>\n",
       "    </tr>\n",
       "    <tr>\n",
       "      <th>5</th>\n",
       "      <td>1</td>\n",
       "      <td>Кира</td>\n",
       "      <td>22</td>\n",
       "      <td>Тюмень</td>\n",
       "      <td>ultra</td>\n",
       "      <td>6</td>\n",
       "      <td>0</td>\n",
       "      <td>199</td>\n",
       "      <td>2770.890808</td>\n",
       "      <td>16.650138</td>\n",
       "      <td>2021-10-09</td>\n",
       "      <td>10</td>\n",
       "      <td>2021</td>\n",
       "      <td>166.418490</td>\n",
       "    </tr>\n",
       "    <tr>\n",
       "      <th>6</th>\n",
       "      <td>1</td>\n",
       "      <td>Кира</td>\n",
       "      <td>22</td>\n",
       "      <td>Тюмень</td>\n",
       "      <td>ultra</td>\n",
       "      <td>6</td>\n",
       "      <td>0</td>\n",
       "      <td>199</td>\n",
       "      <td>3039.020292</td>\n",
       "      <td>14.927879</td>\n",
       "      <td>2021-10-19</td>\n",
       "      <td>10</td>\n",
       "      <td>2021</td>\n",
       "      <td>203.580180</td>\n",
       "    </tr>\n",
       "    <tr>\n",
       "      <th>7</th>\n",
       "      <td>1</td>\n",
       "      <td>Кира</td>\n",
       "      <td>22</td>\n",
       "      <td>Тюмень</td>\n",
       "      <td>ultra</td>\n",
       "      <td>6</td>\n",
       "      <td>0</td>\n",
       "      <td>199</td>\n",
       "      <td>2842.118050</td>\n",
       "      <td>23.117468</td>\n",
       "      <td>2021-11-06</td>\n",
       "      <td>11</td>\n",
       "      <td>2021</td>\n",
       "      <td>122.942446</td>\n",
       "    </tr>\n",
       "    <tr>\n",
       "      <th>8</th>\n",
       "      <td>1</td>\n",
       "      <td>Кира</td>\n",
       "      <td>22</td>\n",
       "      <td>Тюмень</td>\n",
       "      <td>ultra</td>\n",
       "      <td>6</td>\n",
       "      <td>0</td>\n",
       "      <td>199</td>\n",
       "      <td>3412.690668</td>\n",
       "      <td>15.238072</td>\n",
       "      <td>2021-11-14</td>\n",
       "      <td>11</td>\n",
       "      <td>2021</td>\n",
       "      <td>223.958167</td>\n",
       "    </tr>\n",
       "    <tr>\n",
       "      <th>9</th>\n",
       "      <td>1</td>\n",
       "      <td>Кира</td>\n",
       "      <td>22</td>\n",
       "      <td>Тюмень</td>\n",
       "      <td>ultra</td>\n",
       "      <td>6</td>\n",
       "      <td>0</td>\n",
       "      <td>199</td>\n",
       "      <td>748.690645</td>\n",
       "      <td>15.041884</td>\n",
       "      <td>2021-11-22</td>\n",
       "      <td>11</td>\n",
       "      <td>2021</td>\n",
       "      <td>49.773730</td>\n",
       "    </tr>\n",
       "    <tr>\n",
       "      <th>10</th>\n",
       "      <td>1</td>\n",
       "      <td>Кира</td>\n",
       "      <td>22</td>\n",
       "      <td>Тюмень</td>\n",
       "      <td>ultra</td>\n",
       "      <td>6</td>\n",
       "      <td>0</td>\n",
       "      <td>199</td>\n",
       "      <td>4031.020195</td>\n",
       "      <td>17.674448</td>\n",
       "      <td>2021-12-14</td>\n",
       "      <td>12</td>\n",
       "      <td>2021</td>\n",
       "      <td>228.070494</td>\n",
       "    </tr>\n",
       "    <tr>\n",
       "      <th>11</th>\n",
       "      <td>1</td>\n",
       "      <td>Кира</td>\n",
       "      <td>22</td>\n",
       "      <td>Тюмень</td>\n",
       "      <td>ultra</td>\n",
       "      <td>6</td>\n",
       "      <td>0</td>\n",
       "      <td>199</td>\n",
       "      <td>2720.609748</td>\n",
       "      <td>9.529463</td>\n",
       "      <td>2021-12-22</td>\n",
       "      <td>12</td>\n",
       "      <td>2021</td>\n",
       "      <td>285.494538</td>\n",
       "    </tr>\n",
       "    <tr>\n",
       "      <th>12</th>\n",
       "      <td>2</td>\n",
       "      <td>Станислав</td>\n",
       "      <td>31</td>\n",
       "      <td>Омск</td>\n",
       "      <td>ultra</td>\n",
       "      <td>6</td>\n",
       "      <td>0</td>\n",
       "      <td>199</td>\n",
       "      <td>3105.086678</td>\n",
       "      <td>24.307514</td>\n",
       "      <td>2021-03-15</td>\n",
       "      <td>3</td>\n",
       "      <td>2021</td>\n",
       "      <td>127.741843</td>\n",
       "    </tr>\n",
       "    <tr>\n",
       "      <th>13</th>\n",
       "      <td>2</td>\n",
       "      <td>Станислав</td>\n",
       "      <td>31</td>\n",
       "      <td>Омск</td>\n",
       "      <td>ultra</td>\n",
       "      <td>6</td>\n",
       "      <td>0</td>\n",
       "      <td>199</td>\n",
       "      <td>3053.519401</td>\n",
       "      <td>11.543256</td>\n",
       "      <td>2021-03-18</td>\n",
       "      <td>3</td>\n",
       "      <td>2021</td>\n",
       "      <td>264.528434</td>\n",
       "    </tr>\n",
       "    <tr>\n",
       "      <th>14</th>\n",
       "      <td>2</td>\n",
       "      <td>Станислав</td>\n",
       "      <td>31</td>\n",
       "      <td>Омск</td>\n",
       "      <td>ultra</td>\n",
       "      <td>6</td>\n",
       "      <td>0</td>\n",
       "      <td>199</td>\n",
       "      <td>4029.116927</td>\n",
       "      <td>25.109188</td>\n",
       "      <td>2021-03-23</td>\n",
       "      <td>3</td>\n",
       "      <td>2021</td>\n",
       "      <td>160.463845</td>\n",
       "    </tr>\n",
       "  </tbody>\n",
       "</table>\n",
       "</div>"
      ],
      "text/plain": [
       "    user_id       name  age    city subscription_type  minute_price  \\\n",
       "0         1       Кира   22  Тюмень             ultra             6   \n",
       "1         1       Кира   22  Тюмень             ultra             6   \n",
       "2         1       Кира   22  Тюмень             ultra             6   \n",
       "3         1       Кира   22  Тюмень             ultra             6   \n",
       "4         1       Кира   22  Тюмень             ultra             6   \n",
       "5         1       Кира   22  Тюмень             ultra             6   \n",
       "6         1       Кира   22  Тюмень             ultra             6   \n",
       "7         1       Кира   22  Тюмень             ultra             6   \n",
       "8         1       Кира   22  Тюмень             ultra             6   \n",
       "9         1       Кира   22  Тюмень             ultra             6   \n",
       "10        1       Кира   22  Тюмень             ultra             6   \n",
       "11        1       Кира   22  Тюмень             ultra             6   \n",
       "12        2  Станислав   31    Омск             ultra             6   \n",
       "13        2  Станислав   31    Омск             ultra             6   \n",
       "14        2  Станислав   31    Омск             ultra             6   \n",
       "\n",
       "    start_ride_price  subscription_fee     distance   duration       date  \\\n",
       "0                  0               199  4409.919140  25.599769 2021-01-01   \n",
       "1                  0               199  2617.592153  15.816871 2021-01-18   \n",
       "2                  0               199   754.159807   6.232113 2021-04-20   \n",
       "3                  0               199  2694.783254  18.511000 2021-08-11   \n",
       "4                  0               199  4028.687306  26.265803 2021-08-28   \n",
       "5                  0               199  2770.890808  16.650138 2021-10-09   \n",
       "6                  0               199  3039.020292  14.927879 2021-10-19   \n",
       "7                  0               199  2842.118050  23.117468 2021-11-06   \n",
       "8                  0               199  3412.690668  15.238072 2021-11-14   \n",
       "9                  0               199   748.690645  15.041884 2021-11-22   \n",
       "10                 0               199  4031.020195  17.674448 2021-12-14   \n",
       "11                 0               199  2720.609748   9.529463 2021-12-22   \n",
       "12                 0               199  3105.086678  24.307514 2021-03-15   \n",
       "13                 0               199  3053.519401  11.543256 2021-03-18   \n",
       "14                 0               199  4029.116927  25.109188 2021-03-23   \n",
       "\n",
       "    month  year  mean_speed  \n",
       "0       1  2021  172.264021  \n",
       "1       1  2021  165.493673  \n",
       "2       4  2021  121.011887  \n",
       "3       8  2021  145.577402  \n",
       "4       8  2021  153.381465  \n",
       "5      10  2021  166.418490  \n",
       "6      10  2021  203.580180  \n",
       "7      11  2021  122.942446  \n",
       "8      11  2021  223.958167  \n",
       "9      11  2021   49.773730  \n",
       "10     12  2021  228.070494  \n",
       "11     12  2021  285.494538  \n",
       "12      3  2021  127.741843  \n",
       "13      3  2021  264.528434  \n",
       "14      3  2021  160.463845  "
      ]
     },
     "execution_count": 66,
     "metadata": {},
     "output_type": "execute_result"
    }
   ],
   "source": [
    "merged_df.head(15)"
   ]
  },
  {
   "cell_type": "code",
   "execution_count": 67,
   "id": "ffd3d793",
   "metadata": {},
   "outputs": [
    {
     "data": {
      "text/html": [
       "<div>\n",
       "<style scoped>\n",
       "    .dataframe tbody tr th:only-of-type {\n",
       "        vertical-align: middle;\n",
       "    }\n",
       "\n",
       "    .dataframe tbody tr th {\n",
       "        vertical-align: top;\n",
       "    }\n",
       "\n",
       "    .dataframe thead th {\n",
       "        text-align: right;\n",
       "    }\n",
       "</style>\n",
       "<table border=\"1\" class=\"dataframe\">\n",
       "  <thead>\n",
       "    <tr style=\"text-align: right;\">\n",
       "      <th></th>\n",
       "      <th></th>\n",
       "      <th>distance</th>\n",
       "      <th>duration</th>\n",
       "      <th>user_id</th>\n",
       "    </tr>\n",
       "    <tr>\n",
       "      <th>user_id</th>\n",
       "      <th>month</th>\n",
       "      <th></th>\n",
       "      <th></th>\n",
       "      <th></th>\n",
       "    </tr>\n",
       "  </thead>\n",
       "  <tbody>\n",
       "    <tr>\n",
       "      <th rowspan=\"5\" valign=\"top\">1</th>\n",
       "      <th>1</th>\n",
       "      <td>7027.511294</td>\n",
       "      <td>41.416640</td>\n",
       "      <td>2</td>\n",
       "    </tr>\n",
       "    <tr>\n",
       "      <th>4</th>\n",
       "      <td>754.159807</td>\n",
       "      <td>6.232113</td>\n",
       "      <td>1</td>\n",
       "    </tr>\n",
       "    <tr>\n",
       "      <th>8</th>\n",
       "      <td>6723.470560</td>\n",
       "      <td>44.776802</td>\n",
       "      <td>2</td>\n",
       "    </tr>\n",
       "    <tr>\n",
       "      <th>10</th>\n",
       "      <td>5809.911100</td>\n",
       "      <td>31.578017</td>\n",
       "      <td>2</td>\n",
       "    </tr>\n",
       "    <tr>\n",
       "      <th>11</th>\n",
       "      <td>7003.499363</td>\n",
       "      <td>53.397424</td>\n",
       "      <td>3</td>\n",
       "    </tr>\n",
       "    <tr>\n",
       "      <th>...</th>\n",
       "      <th>...</th>\n",
       "      <td>...</td>\n",
       "      <td>...</td>\n",
       "      <td>...</td>\n",
       "    </tr>\n",
       "    <tr>\n",
       "      <th rowspan=\"5\" valign=\"top\">699</th>\n",
       "      <th>6</th>\n",
       "      <td>4072.797406</td>\n",
       "      <td>16.575991</td>\n",
       "      <td>1</td>\n",
       "    </tr>\n",
       "    <tr>\n",
       "      <th>8</th>\n",
       "      <td>7018.324143</td>\n",
       "      <td>44.281768</td>\n",
       "      <td>2</td>\n",
       "    </tr>\n",
       "    <tr>\n",
       "      <th>9</th>\n",
       "      <td>6364.861911</td>\n",
       "      <td>30.282412</td>\n",
       "      <td>2</td>\n",
       "    </tr>\n",
       "    <tr>\n",
       "      <th>10</th>\n",
       "      <td>4707.845501</td>\n",
       "      <td>15.839579</td>\n",
       "      <td>1</td>\n",
       "    </tr>\n",
       "    <tr>\n",
       "      <th>12</th>\n",
       "      <td>3202.890770</td>\n",
       "      <td>25.217345</td>\n",
       "      <td>1</td>\n",
       "    </tr>\n",
       "  </tbody>\n",
       "</table>\n",
       "<p>4533 rows × 3 columns</p>\n",
       "</div>"
      ],
      "text/plain": [
       "                  distance   duration  user_id\n",
       "user_id month                                 \n",
       "1       1      7027.511294  41.416640        2\n",
       "        4       754.159807   6.232113        1\n",
       "        8      6723.470560  44.776802        2\n",
       "        10     5809.911100  31.578017        2\n",
       "        11     7003.499363  53.397424        3\n",
       "...                    ...        ...      ...\n",
       "699     6      4072.797406  16.575991        1\n",
       "        8      7018.324143  44.281768        2\n",
       "        9      6364.861911  30.282412        2\n",
       "        10     4707.845501  15.839579        1\n",
       "        12     3202.890770  25.217345        1\n",
       "\n",
       "[4533 rows x 3 columns]"
      ]
     },
     "execution_count": 67,
     "metadata": {},
     "output_type": "execute_result"
    }
   ],
   "source": [
    "groupedsubt = subt.groupby(['user_id', 'month']).agg({'distance': 'sum', 'duration': 'sum', 'user_id': 'count'})\n",
    "groupedsubt"
   ]
  },
  {
   "cell_type": "code",
   "execution_count": 68,
   "id": "efe59892",
   "metadata": {},
   "outputs": [
    {
     "data": {
      "text/html": [
       "<div>\n",
       "<style scoped>\n",
       "    .dataframe tbody tr th:only-of-type {\n",
       "        vertical-align: middle;\n",
       "    }\n",
       "\n",
       "    .dataframe tbody tr th {\n",
       "        vertical-align: top;\n",
       "    }\n",
       "\n",
       "    .dataframe thead th {\n",
       "        text-align: right;\n",
       "    }\n",
       "</style>\n",
       "<table border=\"1\" class=\"dataframe\">\n",
       "  <thead>\n",
       "    <tr style=\"text-align: right;\">\n",
       "      <th></th>\n",
       "      <th></th>\n",
       "      <th>distance</th>\n",
       "      <th>duration</th>\n",
       "      <th>user_id</th>\n",
       "    </tr>\n",
       "    <tr>\n",
       "      <th>user_id</th>\n",
       "      <th>month</th>\n",
       "      <th></th>\n",
       "      <th></th>\n",
       "      <th></th>\n",
       "    </tr>\n",
       "  </thead>\n",
       "  <tbody>\n",
       "    <tr>\n",
       "      <th rowspan=\"5\" valign=\"top\">700</th>\n",
       "      <th>1</th>\n",
       "      <td>2515.690719</td>\n",
       "      <td>14.944286</td>\n",
       "      <td>1</td>\n",
       "    </tr>\n",
       "    <tr>\n",
       "      <th>2</th>\n",
       "      <td>13446.659764</td>\n",
       "      <td>85.829845</td>\n",
       "      <td>5</td>\n",
       "    </tr>\n",
       "    <tr>\n",
       "      <th>3</th>\n",
       "      <td>3798.334905</td>\n",
       "      <td>18.243756</td>\n",
       "      <td>1</td>\n",
       "    </tr>\n",
       "    <tr>\n",
       "      <th>4</th>\n",
       "      <td>2984.551206</td>\n",
       "      <td>15.424899</td>\n",
       "      <td>1</td>\n",
       "    </tr>\n",
       "    <tr>\n",
       "      <th>6</th>\n",
       "      <td>5927.650988</td>\n",
       "      <td>28.077657</td>\n",
       "      <td>2</td>\n",
       "    </tr>\n",
       "    <tr>\n",
       "      <th>...</th>\n",
       "      <th>...</th>\n",
       "      <td>...</td>\n",
       "      <td>...</td>\n",
       "      <td>...</td>\n",
       "    </tr>\n",
       "    <tr>\n",
       "      <th rowspan=\"5\" valign=\"top\">1534</th>\n",
       "      <th>6</th>\n",
       "      <td>3409.468534</td>\n",
       "      <td>24.812678</td>\n",
       "      <td>2</td>\n",
       "    </tr>\n",
       "    <tr>\n",
       "      <th>8</th>\n",
       "      <td>7622.453034</td>\n",
       "      <td>47.205960</td>\n",
       "      <td>2</td>\n",
       "    </tr>\n",
       "    <tr>\n",
       "      <th>9</th>\n",
       "      <td>4928.173852</td>\n",
       "      <td>22.560373</td>\n",
       "      <td>1</td>\n",
       "    </tr>\n",
       "    <tr>\n",
       "      <th>11</th>\n",
       "      <td>13350.015305</td>\n",
       "      <td>76.342174</td>\n",
       "      <td>4</td>\n",
       "    </tr>\n",
       "    <tr>\n",
       "      <th>12</th>\n",
       "      <td>2371.711192</td>\n",
       "      <td>15.893917</td>\n",
       "      <td>1</td>\n",
       "    </tr>\n",
       "  </tbody>\n",
       "</table>\n",
       "<p>6767 rows × 3 columns</p>\n",
       "</div>"
      ],
      "text/plain": [
       "                   distance   duration  user_id\n",
       "user_id month                                  \n",
       "700     1       2515.690719  14.944286        1\n",
       "        2      13446.659764  85.829845        5\n",
       "        3       3798.334905  18.243756        1\n",
       "        4       2984.551206  15.424899        1\n",
       "        6       5927.650988  28.077657        2\n",
       "...                     ...        ...      ...\n",
       "1534    6       3409.468534  24.812678        2\n",
       "        8       7622.453034  47.205960        2\n",
       "        9       4928.173852  22.560373        1\n",
       "        11     13350.015305  76.342174        4\n",
       "        12      2371.711192  15.893917        1\n",
       "\n",
       "[6767 rows x 3 columns]"
      ]
     },
     "execution_count": 68,
     "metadata": {},
     "output_type": "execute_result"
    }
   ],
   "source": [
    "groupedsubn = subn.groupby(['user_id', 'month']).agg({'distance': 'sum', 'duration': 'sum', 'user_id': 'count'})\n",
    "groupedsubn"
   ]
  },
  {
   "cell_type": "markdown",
   "id": "6bdb75f8",
   "metadata": {},
   "source": [
    " Я сгруппировал сначала по id, чтобы выделить конкретного пользователя, а затем по месяцам, чтобы видеть общую статистику за каждый месяц, в котором конкретный пользователь использовал ваши самокаты. Теперь можно увидеть не только общее кол-во стартов, но и кол-во метров и минут в месяц"
   ]
  },
  {
   "cell_type": "markdown",
   "id": "eb08f398",
   "metadata": {},
   "source": [
    "**Выручка**\n",
    "\n",
    "Теперь посмотрим, сколько пользователь принес"
   ]
  },
  {
   "cell_type": "code",
   "execution_count": 69,
   "id": "706c951e",
   "metadata": {
    "scrolled": true
   },
   "outputs": [
    {
     "data": {
      "text/html": [
       "<div>\n",
       "<style scoped>\n",
       "    .dataframe tbody tr th:only-of-type {\n",
       "        vertical-align: middle;\n",
       "    }\n",
       "\n",
       "    .dataframe tbody tr th {\n",
       "        vertical-align: top;\n",
       "    }\n",
       "\n",
       "    .dataframe thead th {\n",
       "        text-align: right;\n",
       "    }\n",
       "</style>\n",
       "<table border=\"1\" class=\"dataframe\">\n",
       "  <thead>\n",
       "    <tr style=\"text-align: right;\">\n",
       "      <th></th>\n",
       "      <th></th>\n",
       "      <th>distance</th>\n",
       "      <th>duration</th>\n",
       "      <th>user_id</th>\n",
       "      <th>month_revenue</th>\n",
       "    </tr>\n",
       "    <tr>\n",
       "      <th>user_id</th>\n",
       "      <th>month</th>\n",
       "      <th></th>\n",
       "      <th></th>\n",
       "      <th></th>\n",
       "      <th></th>\n",
       "    </tr>\n",
       "  </thead>\n",
       "  <tbody>\n",
       "    <tr>\n",
       "      <th rowspan=\"5\" valign=\"top\">1</th>\n",
       "      <th>1</th>\n",
       "      <td>7027.511294</td>\n",
       "      <td>41.416640</td>\n",
       "      <td>2</td>\n",
       "      <td>445.0</td>\n",
       "    </tr>\n",
       "    <tr>\n",
       "      <th>4</th>\n",
       "      <td>754.159807</td>\n",
       "      <td>6.232113</td>\n",
       "      <td>1</td>\n",
       "      <td>235.0</td>\n",
       "    </tr>\n",
       "    <tr>\n",
       "      <th>8</th>\n",
       "      <td>6723.470560</td>\n",
       "      <td>44.776802</td>\n",
       "      <td>2</td>\n",
       "      <td>469.0</td>\n",
       "    </tr>\n",
       "    <tr>\n",
       "      <th>10</th>\n",
       "      <td>5809.911100</td>\n",
       "      <td>31.578017</td>\n",
       "      <td>2</td>\n",
       "      <td>391.0</td>\n",
       "    </tr>\n",
       "    <tr>\n",
       "      <th>11</th>\n",
       "      <td>7003.499363</td>\n",
       "      <td>53.397424</td>\n",
       "      <td>3</td>\n",
       "      <td>517.0</td>\n",
       "    </tr>\n",
       "    <tr>\n",
       "      <th>...</th>\n",
       "      <th>...</th>\n",
       "      <td>...</td>\n",
       "      <td>...</td>\n",
       "      <td>...</td>\n",
       "      <td>...</td>\n",
       "    </tr>\n",
       "    <tr>\n",
       "      <th rowspan=\"5\" valign=\"top\">699</th>\n",
       "      <th>6</th>\n",
       "      <td>4072.797406</td>\n",
       "      <td>16.575991</td>\n",
       "      <td>1</td>\n",
       "      <td>301.0</td>\n",
       "    </tr>\n",
       "    <tr>\n",
       "      <th>8</th>\n",
       "      <td>7018.324143</td>\n",
       "      <td>44.281768</td>\n",
       "      <td>2</td>\n",
       "      <td>463.0</td>\n",
       "    </tr>\n",
       "    <tr>\n",
       "      <th>9</th>\n",
       "      <td>6364.861911</td>\n",
       "      <td>30.282412</td>\n",
       "      <td>2</td>\n",
       "      <td>379.0</td>\n",
       "    </tr>\n",
       "    <tr>\n",
       "      <th>10</th>\n",
       "      <td>4707.845501</td>\n",
       "      <td>15.839579</td>\n",
       "      <td>1</td>\n",
       "      <td>295.0</td>\n",
       "    </tr>\n",
       "    <tr>\n",
       "      <th>12</th>\n",
       "      <td>3202.890770</td>\n",
       "      <td>25.217345</td>\n",
       "      <td>1</td>\n",
       "      <td>349.0</td>\n",
       "    </tr>\n",
       "  </tbody>\n",
       "</table>\n",
       "<p>4533 rows × 4 columns</p>\n",
       "</div>"
      ],
      "text/plain": [
       "                  distance   duration  user_id  month_revenue\n",
       "user_id month                                                \n",
       "1       1      7027.511294  41.416640        2          445.0\n",
       "        4       754.159807   6.232113        1          235.0\n",
       "        8      6723.470560  44.776802        2          469.0\n",
       "        10     5809.911100  31.578017        2          391.0\n",
       "        11     7003.499363  53.397424        3          517.0\n",
       "...                    ...        ...      ...            ...\n",
       "699     6      4072.797406  16.575991        1          301.0\n",
       "        8      7018.324143  44.281768        2          463.0\n",
       "        9      6364.861911  30.282412        2          379.0\n",
       "        10     4707.845501  15.839579        1          295.0\n",
       "        12     3202.890770  25.217345        1          349.0\n",
       "\n",
       "[4533 rows x 4 columns]"
      ]
     },
     "execution_count": 69,
     "metadata": {},
     "output_type": "execute_result"
    }
   ],
   "source": [
    "groupedsubt['month_revenue'] =  groupedsubt['duration'].round() * 6 + 199\n",
    "groupedsubt"
   ]
  },
  {
   "cell_type": "code",
   "execution_count": 70,
   "id": "c32df409",
   "metadata": {},
   "outputs": [
    {
     "data": {
      "text/html": [
       "<div>\n",
       "<style scoped>\n",
       "    .dataframe tbody tr th:only-of-type {\n",
       "        vertical-align: middle;\n",
       "    }\n",
       "\n",
       "    .dataframe tbody tr th {\n",
       "        vertical-align: top;\n",
       "    }\n",
       "\n",
       "    .dataframe thead th {\n",
       "        text-align: right;\n",
       "    }\n",
       "</style>\n",
       "<table border=\"1\" class=\"dataframe\">\n",
       "  <thead>\n",
       "    <tr style=\"text-align: right;\">\n",
       "      <th></th>\n",
       "      <th></th>\n",
       "      <th>distance</th>\n",
       "      <th>duration</th>\n",
       "      <th>user_id</th>\n",
       "      <th>month_revenue</th>\n",
       "    </tr>\n",
       "    <tr>\n",
       "      <th>user_id</th>\n",
       "      <th>month</th>\n",
       "      <th></th>\n",
       "      <th></th>\n",
       "      <th></th>\n",
       "      <th></th>\n",
       "    </tr>\n",
       "  </thead>\n",
       "  <tbody>\n",
       "    <tr>\n",
       "      <th rowspan=\"5\" valign=\"top\">700</th>\n",
       "      <th>1</th>\n",
       "      <td>2515.690719</td>\n",
       "      <td>14.944286</td>\n",
       "      <td>1</td>\n",
       "      <td>170.0</td>\n",
       "    </tr>\n",
       "    <tr>\n",
       "      <th>2</th>\n",
       "      <td>13446.659764</td>\n",
       "      <td>85.829845</td>\n",
       "      <td>5</td>\n",
       "      <td>938.0</td>\n",
       "    </tr>\n",
       "    <tr>\n",
       "      <th>3</th>\n",
       "      <td>3798.334905</td>\n",
       "      <td>18.243756</td>\n",
       "      <td>1</td>\n",
       "      <td>194.0</td>\n",
       "    </tr>\n",
       "    <tr>\n",
       "      <th>4</th>\n",
       "      <td>2984.551206</td>\n",
       "      <td>15.424899</td>\n",
       "      <td>1</td>\n",
       "      <td>170.0</td>\n",
       "    </tr>\n",
       "    <tr>\n",
       "      <th>6</th>\n",
       "      <td>5927.650988</td>\n",
       "      <td>28.077657</td>\n",
       "      <td>2</td>\n",
       "      <td>324.0</td>\n",
       "    </tr>\n",
       "    <tr>\n",
       "      <th>...</th>\n",
       "      <th>...</th>\n",
       "      <td>...</td>\n",
       "      <td>...</td>\n",
       "      <td>...</td>\n",
       "      <td>...</td>\n",
       "    </tr>\n",
       "    <tr>\n",
       "      <th rowspan=\"5\" valign=\"top\">1534</th>\n",
       "      <th>6</th>\n",
       "      <td>3409.468534</td>\n",
       "      <td>24.812678</td>\n",
       "      <td>2</td>\n",
       "      <td>300.0</td>\n",
       "    </tr>\n",
       "    <tr>\n",
       "      <th>8</th>\n",
       "      <td>7622.453034</td>\n",
       "      <td>47.205960</td>\n",
       "      <td>2</td>\n",
       "      <td>476.0</td>\n",
       "    </tr>\n",
       "    <tr>\n",
       "      <th>9</th>\n",
       "      <td>4928.173852</td>\n",
       "      <td>22.560373</td>\n",
       "      <td>1</td>\n",
       "      <td>234.0</td>\n",
       "    </tr>\n",
       "    <tr>\n",
       "      <th>11</th>\n",
       "      <td>13350.015305</td>\n",
       "      <td>76.342174</td>\n",
       "      <td>4</td>\n",
       "      <td>808.0</td>\n",
       "    </tr>\n",
       "    <tr>\n",
       "      <th>12</th>\n",
       "      <td>2371.711192</td>\n",
       "      <td>15.893917</td>\n",
       "      <td>1</td>\n",
       "      <td>178.0</td>\n",
       "    </tr>\n",
       "  </tbody>\n",
       "</table>\n",
       "<p>6767 rows × 4 columns</p>\n",
       "</div>"
      ],
      "text/plain": [
       "                   distance   duration  user_id  month_revenue\n",
       "user_id month                                                 \n",
       "700     1       2515.690719  14.944286        1          170.0\n",
       "        2      13446.659764  85.829845        5          938.0\n",
       "        3       3798.334905  18.243756        1          194.0\n",
       "        4       2984.551206  15.424899        1          170.0\n",
       "        6       5927.650988  28.077657        2          324.0\n",
       "...                     ...        ...      ...            ...\n",
       "1534    6       3409.468534  24.812678        2          300.0\n",
       "        8       7622.453034  47.205960        2          476.0\n",
       "        9       4928.173852  22.560373        1          234.0\n",
       "        11     13350.015305  76.342174        4          808.0\n",
       "        12      2371.711192  15.893917        1          178.0\n",
       "\n",
       "[6767 rows x 4 columns]"
      ]
     },
     "execution_count": 70,
     "metadata": {},
     "output_type": "execute_result"
    }
   ],
   "source": [
    "groupedsubn['month_revenue'] =  groupedsubn['duration'].round() * 8 + groupedsubn['user_id'] * 50\n",
    "groupedsubn"
   ]
  },
  {
   "cell_type": "code",
   "execution_count": 71,
   "id": "de9ee0c2",
   "metadata": {},
   "outputs": [
    {
     "name": "stdout",
     "output_type": "stream",
     "text": [
      "322.52312693955963\n",
      "358.5380542686962\n"
     ]
    }
   ],
   "source": [
    "# Код ревьюера\n",
    "print(groupedsubn['month_revenue'].mean())\n",
    "print(groupedsubt['month_revenue'].mean())"
   ]
  },
  {
   "cell_type": "markdown",
   "id": "e4bc23c6",
   "metadata": {},
   "source": [
    "В среднем в месяц пользователи с подпиской действительно приносят больше, скорее всего все хорошо - система выгодна"
   ]
  },
  {
   "cell_type": "markdown",
   "id": "41545ac0",
   "metadata": {},
   "source": [
    "####  Проверка гипотез"
   ]
  },
  {
   "cell_type": "markdown",
   "id": "e2df8ae6",
   "metadata": {},
   "source": [
    "**Проверим, тратят ли пользователи с подпиской больше времени на поездки**\n",
    "\n",
    "- Нулевую гипотезу составлю так - Пользователи с подпиской тратят на поездку столько же времени, сколько и пользователи без подписки\n",
    "\n",
    "- Альтернативную - Пользователи с подпиской тратят больше времени на поездку"
   ]
  },
  {
   "cell_type": "code",
   "execution_count": 72,
   "id": "b78c6cb8",
   "metadata": {},
   "outputs": [
    {
     "name": "stdout",
     "output_type": "stream",
     "text": [
      "p-значение: 1.6162210195311063e-29\n",
      "Отвергаем нулевую гипотезу\n"
     ]
    }
   ],
   "source": [
    "results = st.ttest_ind(subt['duration'], subn['duration'], equal_var=False, alternative='greater')\n",
    "\n",
    "print('p-значение:', results.pvalue)\n",
    "alpha = .05\n",
    "if results.pvalue < alpha:\n",
    "    print('Отвергаем нулевую гипотезу')\n",
    "else:\n",
    "    print('Не получилось отвергнуть нулевую гипотезу') "
   ]
  },
  {
   "cell_type": "markdown",
   "id": "f669a80f",
   "metadata": {},
   "source": [
    "**Итог**\n",
    "\n",
    "Получается, пользователи с подпиской, действительно тратят больше времени на поезду, чем пользователи без неё"
   ]
  },
  {
   "cell_type": "markdown",
   "id": "88dcd0ca",
   "metadata": {},
   "source": [
    "*Проверим расстояние поездки*\n",
    "\n",
    "Расстояние одной поездки в 3130 метров — оптимальное с точки зрения износа самоката. Проверим расстояние, которое проезжают пользователи с подпиской за одну поездку, меньше ли оно, чем 3130 метров?"
   ]
  },
  {
   "cell_type": "code",
   "execution_count": 73,
   "id": "3688f225",
   "metadata": {},
   "outputs": [
    {
     "name": "stdout",
     "output_type": "stream",
     "text": [
      "p-значение: 0.08046311521502146\n",
      "Не отвергаем нулевую гипотезу\n"
     ]
    }
   ],
   "source": [
    "value = 3130\n",
    "results = st.ttest_1samp(\n",
    "    subt['distance'], \n",
    "    value,\n",
    "    alternative='less')\n",
    "\n",
    "print('p-значение:', results.pvalue)\n",
    "\n",
    "if (results.pvalue < alpha):\n",
    "    print('Отвергаем нулевую гипотезу')\n",
    "else:\n",
    "    print('Не отвергаем нулевую гипотезу') "
   ]
  },
  {
   "cell_type": "markdown",
   "id": "723c290c",
   "metadata": {},
   "source": [
    "**Итог**\n",
    "\n",
    "Расстояние которое проезжают пользователи не меньше 3130(оптимального расстояния для одной поездки)"
   ]
  },
  {
   "cell_type": "markdown",
   "id": "04d9e9b1",
   "metadata": {},
   "source": [
    "**Проверим выручку**\n",
    "\n",
    "Будет ли выручка от пользователей с подпиской больше, чем у тех, кто ею не пользуется"
   ]
  },
  {
   "cell_type": "code",
   "execution_count": 74,
   "id": "71510139",
   "metadata": {},
   "outputs": [
    {
     "name": "stdout",
     "output_type": "stream",
     "text": [
      "p-значение: 1.2192607127486412e-45\n",
      "Отвергаем нулевую гипотезу\n"
     ]
    }
   ],
   "source": [
    "results = st.ttest_ind(groupedsubt['month_revenue'], groupedsubn['month_revenue'], equal_var=False, alternative='greater')\n",
    "\n",
    "\n",
    "print('p-значение:', results.pvalue)\n",
    "alpha = .05\n",
    "if results.pvalue < alpha:\n",
    "    print('Отвергаем нулевую гипотезу')\n",
    "else:\n",
    "    print('Не получилось отвергнуть нулевую гипотезу') "
   ]
  },
  {
   "cell_type": "markdown",
   "id": "6f00771d",
   "metadata": {},
   "source": [
    "**Итог**\n",
    "\n",
    "Да, выручка с подписки идет больше, чем от одноразовой системы проката"
   ]
  },
  {
   "cell_type": "markdown",
   "id": "61213c5e",
   "metadata": {},
   "source": [
    "# Шаг 7. Распределения"
   ]
  },
  {
   "cell_type": "markdown",
   "id": "6be542ee",
   "metadata": {},
   "source": [
    "7.1 Отделу маркетинга GoFast поставили задачу: нужно провести акцию с раздачей промокодов на один бесплатный месяц подписки, в рамках которой как минимум 100 существующих клиентов должны продлить эту подписку. То есть по завершении периода действия подписки пользователь может либо отказаться от неё, либо продлить, совершив соотвествующий платёж. \n",
    "Эта акция уже проводилась ранее и по итогу выяснилось, что после бесплатного пробного периода подписку продлевают 10% пользователей. Выясните, какое минимальное количество промокодов нужно разослать, чтобы вероятность не выполнить план была примерно 5%. Подберите параметры распределения, описывающего эту ситуацию, постройте график распределения и сформулируйте ответ на вопрос о количестве промокодов."
   ]
  },
  {
   "cell_type": "code",
   "execution_count": 75,
   "id": "f0dae444",
   "metadata": {},
   "outputs": [
    {
     "name": "stdout",
     "output_type": "stream",
     "text": [
      "0.95008\n"
     ]
    }
   ],
   "source": [
    "\n",
    "\n",
    "n = 1158\n",
    "p = 0.1\n",
    "mu = n*p\n",
    "sigma = sqrt(n * p * (1 - p))\n",
    "distr_M = st.norm(mu, sigma) \n",
    "\n",
    "#\n",
    "a = 99\n",
    "\n",
    "\n",
    "print( round(1- distr_M.cdf(a),5))\n"
   ]
  },
  {
   "cell_type": "markdown",
   "id": "b1426bba",
   "metadata": {},
   "source": [
    "7.2 Отдел маркетинга рассылает клиентам push-уведомления в мобильном приложении. Клиенты могут открыть его или не открывать. Известно, что уведомления открывают около 40% получивших клиентов. Отдел планирует разослать 1 млн уведомлений. С помощью аппроксимации постройте примерный график распределения и оцените вероятность того, что уведомление откроют не более 399,5 тыс. пользователей."
   ]
  },
  {
   "cell_type": "code",
   "execution_count": 76,
   "id": "74ae8983",
   "metadata": {},
   "outputs": [
    {
     "name": "stdout",
     "output_type": "stream",
     "text": [
      "0.15371708296369768\n"
     ]
    }
   ],
   "source": [
    "\n",
    "n = 1000000\n",
    "p = .4\n",
    "\n",
    "\n",
    "mu = n * p\n",
    "sigma = sqrt(n * p * (1 - p))\n",
    "\n",
    "\n",
    "distr = st.norm(mu, sigma) \n",
    "\n",
    "\n",
    "result = distr.cdf(399500)\n",
    "print(result)"
   ]
  },
  {
   "cell_type": "markdown",
   "id": "78377e38",
   "metadata": {},
   "source": [
    "вероятность того, что уведомление откроют не более 399,5 тыс. пользователей, равна 15,37%"
   ]
  },
  {
   "cell_type": "markdown",
   "id": "1b02640c",
   "metadata": {},
   "source": [
    "**Итог**\n",
    "\n",
    "- Пользоватлей без подписки почти в 2 больше, чем пользователей с подпиской\n",
    "- Прибыль с пользователей с подписой все же больше, чем с пользоваелей без нее, важный факт, учитывая кол-во пользователей с и без подписки\n",
    "- Пользователи с подпиской проезжают не меньше оптимального расстояния в 3130м\n",
    "- Группы пользоваетелей разнятся согласно Т-тесту по времени поездки и дальности, хоть, на первый взгляд это значения не кажется большим\n",
    "- 1158 - это оценка кол-во промокодов, после применения которых, с вероятность 95% 100 пользователей продолжат пользоваться выгодной для компании подпиской"
   ]
  }
 ],
 "metadata": {
  "ExecuteTimeLog": [
   {
    "duration": 43,
    "start_time": "2023-04-21T10:11:56.913Z"
   },
   {
    "duration": 364,
    "start_time": "2023-04-21T10:12:03.339Z"
   },
   {
    "duration": 68,
    "start_time": "2023-04-21T10:12:04.446Z"
   },
   {
    "duration": 85,
    "start_time": "2023-04-21T10:15:37.891Z"
   },
   {
    "duration": 26,
    "start_time": "2023-04-21T10:15:53.730Z"
   },
   {
    "duration": 3,
    "start_time": "2023-04-21T10:15:57.809Z"
   },
   {
    "duration": 27,
    "start_time": "2023-04-21T10:15:59.009Z"
   },
   {
    "duration": 321,
    "start_time": "2023-04-21T10:16:06.353Z"
   },
   {
    "duration": 28,
    "start_time": "2023-04-21T10:16:06.676Z"
   },
   {
    "duration": 38,
    "start_time": "2023-04-21T10:17:29.853Z"
   },
   {
    "duration": 37,
    "start_time": "2023-04-21T10:18:12.541Z"
   },
   {
    "duration": 2,
    "start_time": "2023-04-21T10:28:54.217Z"
   },
   {
    "duration": 37,
    "start_time": "2023-04-21T10:28:55.242Z"
   },
   {
    "duration": 47,
    "start_time": "2023-04-21T10:29:00.514Z"
   },
   {
    "duration": 380,
    "start_time": "2023-04-21T10:29:09.490Z"
   },
   {
    "duration": 51,
    "start_time": "2023-04-21T10:29:09.871Z"
   },
   {
    "duration": 434,
    "start_time": "2023-04-21T10:38:01.415Z"
   },
   {
    "duration": 54,
    "start_time": "2023-04-21T10:38:01.851Z"
   },
   {
    "duration": 15,
    "start_time": "2023-04-21T10:38:01.906Z"
   },
   {
    "duration": 401,
    "start_time": "2023-04-21T11:06:34.266Z"
   },
   {
    "duration": 51,
    "start_time": "2023-04-21T11:06:34.669Z"
   },
   {
    "duration": 14,
    "start_time": "2023-04-21T11:06:34.721Z"
   },
   {
    "duration": 56,
    "start_time": "2023-04-21T11:11:57.224Z"
   },
   {
    "duration": 6,
    "start_time": "2023-04-21T11:12:04.116Z"
   },
   {
    "duration": 387,
    "start_time": "2023-04-21T11:15:01.865Z"
   },
   {
    "duration": 52,
    "start_time": "2023-04-21T11:15:02.254Z"
   },
   {
    "duration": 17,
    "start_time": "2023-04-21T11:15:02.308Z"
   },
   {
    "duration": 80,
    "start_time": "2023-04-21T11:15:02.327Z"
   },
   {
    "duration": 1735,
    "start_time": "2023-04-21T11:15:13.392Z"
   },
   {
    "duration": 1186,
    "start_time": "2023-04-21T11:15:39.784Z"
   },
   {
    "duration": 371,
    "start_time": "2023-04-21T11:15:54.904Z"
   },
   {
    "duration": 53,
    "start_time": "2023-04-21T11:15:55.277Z"
   },
   {
    "duration": 13,
    "start_time": "2023-04-21T11:15:55.332Z"
   },
   {
    "duration": 207,
    "start_time": "2023-04-21T11:19:00.664Z"
   },
   {
    "duration": 9,
    "start_time": "2023-04-21T11:19:04.832Z"
   },
   {
    "duration": 25,
    "start_time": "2023-04-21T11:19:17.482Z"
   },
   {
    "duration": 22,
    "start_time": "2023-04-21T11:19:33.302Z"
   },
   {
    "duration": 15,
    "start_time": "2023-04-21T11:21:16.504Z"
   },
   {
    "duration": 319,
    "start_time": "2023-04-21T11:24:23.553Z"
   },
   {
    "duration": 127,
    "start_time": "2023-04-21T11:24:23.874Z"
   },
   {
    "duration": 11,
    "start_time": "2023-04-21T11:24:24.003Z"
   },
   {
    "duration": 21,
    "start_time": "2023-04-21T11:24:24.015Z"
   },
   {
    "duration": 10,
    "start_time": "2023-04-21T11:24:24.038Z"
   },
   {
    "duration": 409,
    "start_time": "2023-04-21T11:24:24.049Z"
   },
   {
    "duration": 7,
    "start_time": "2023-04-21T11:24:52.464Z"
   },
   {
    "duration": 15,
    "start_time": "2023-04-21T11:25:19.312Z"
   },
   {
    "duration": 12,
    "start_time": "2023-04-21T11:27:52.745Z"
   },
   {
    "duration": 582,
    "start_time": "2023-04-21T11:37:33.067Z"
   },
   {
    "duration": 579,
    "start_time": "2023-04-21T11:37:47.872Z"
   },
   {
    "duration": 88,
    "start_time": "2023-04-21T11:38:06.264Z"
   },
   {
    "duration": 582,
    "start_time": "2023-04-21T11:38:12.904Z"
   },
   {
    "duration": 11,
    "start_time": "2023-04-21T11:38:27.465Z"
   },
   {
    "duration": 60,
    "start_time": "2023-04-21T11:38:46.184Z"
   },
   {
    "duration": 9,
    "start_time": "2023-04-21T11:40:35.306Z"
   },
   {
    "duration": 11,
    "start_time": "2023-04-21T11:41:02.992Z"
   },
   {
    "duration": 5,
    "start_time": "2023-04-21T11:41:24.032Z"
   },
   {
    "duration": 11,
    "start_time": "2023-04-21T11:41:35.232Z"
   },
   {
    "duration": 15,
    "start_time": "2023-04-21T11:41:42.206Z"
   },
   {
    "duration": 6,
    "start_time": "2023-04-21T11:41:46.906Z"
   },
   {
    "duration": 13,
    "start_time": "2023-04-21T11:43:19.133Z"
   },
   {
    "duration": 6,
    "start_time": "2023-04-21T11:43:28.272Z"
   },
   {
    "duration": 6,
    "start_time": "2023-04-21T11:43:34.194Z"
   },
   {
    "duration": 10,
    "start_time": "2023-04-21T11:43:39.293Z"
   },
   {
    "duration": 6,
    "start_time": "2023-04-21T11:43:57.144Z"
   },
   {
    "duration": 10,
    "start_time": "2023-04-21T11:44:08.584Z"
   },
   {
    "duration": 11,
    "start_time": "2023-04-21T11:44:14.666Z"
   },
   {
    "duration": 11,
    "start_time": "2023-04-21T12:09:22.372Z"
   },
   {
    "duration": 8,
    "start_time": "2023-04-21T12:10:04.841Z"
   },
   {
    "duration": 16,
    "start_time": "2023-04-21T12:10:15.448Z"
   },
   {
    "duration": 13,
    "start_time": "2023-04-21T12:13:31.472Z"
   },
   {
    "duration": 7,
    "start_time": "2023-04-21T12:13:46.543Z"
   },
   {
    "duration": 8,
    "start_time": "2023-04-21T12:14:00.916Z"
   },
   {
    "duration": 7,
    "start_time": "2023-04-21T12:15:19.893Z"
   },
   {
    "duration": 5,
    "start_time": "2023-04-21T12:15:42.705Z"
   },
   {
    "duration": 13,
    "start_time": "2023-04-21T12:33:14.088Z"
   },
   {
    "duration": 5,
    "start_time": "2023-04-21T12:34:19.837Z"
   },
   {
    "duration": 9,
    "start_time": "2023-04-21T12:34:43.812Z"
   },
   {
    "duration": 73,
    "start_time": "2023-04-21T12:35:21.108Z"
   },
   {
    "duration": 13,
    "start_time": "2023-04-21T13:40:57.334Z"
   },
   {
    "duration": 1189,
    "start_time": "2023-04-21T13:43:03.085Z"
   },
   {
    "duration": 5,
    "start_time": "2023-04-21T13:43:11.102Z"
   },
   {
    "duration": 5,
    "start_time": "2023-04-21T13:43:36.070Z"
   },
   {
    "duration": 23,
    "start_time": "2023-04-21T13:45:07.412Z"
   },
   {
    "duration": 19,
    "start_time": "2023-04-21T13:46:09.781Z"
   },
   {
    "duration": 14,
    "start_time": "2023-04-21T13:48:41.697Z"
   },
   {
    "duration": 15,
    "start_time": "2023-04-21T13:49:01.489Z"
   },
   {
    "duration": 13,
    "start_time": "2023-04-21T13:49:05.567Z"
   },
   {
    "duration": 18,
    "start_time": "2023-04-21T13:49:12.731Z"
   },
   {
    "duration": 4,
    "start_time": "2023-04-21T13:52:23.407Z"
   },
   {
    "duration": 15,
    "start_time": "2023-04-21T13:52:40.588Z"
   },
   {
    "duration": 6,
    "start_time": "2023-04-21T13:52:49.258Z"
   },
   {
    "duration": 6,
    "start_time": "2023-04-21T13:53:00.982Z"
   },
   {
    "duration": 7,
    "start_time": "2023-04-21T13:53:12.043Z"
   },
   {
    "duration": 9,
    "start_time": "2023-04-21T13:53:15.565Z"
   },
   {
    "duration": 6,
    "start_time": "2023-04-21T13:53:24.885Z"
   },
   {
    "duration": 7,
    "start_time": "2023-04-21T13:53:39.480Z"
   },
   {
    "duration": 11,
    "start_time": "2023-04-21T13:54:26.166Z"
   },
   {
    "duration": 15,
    "start_time": "2023-04-21T13:54:58.568Z"
   },
   {
    "duration": 8,
    "start_time": "2023-04-21T13:55:18.001Z"
   },
   {
    "duration": 11,
    "start_time": "2023-04-21T13:55:28.607Z"
   },
   {
    "duration": 393,
    "start_time": "2023-04-21T13:58:22.453Z"
   },
   {
    "duration": 89,
    "start_time": "2023-04-21T13:58:22.847Z"
   },
   {
    "duration": 15,
    "start_time": "2023-04-21T13:58:22.938Z"
   },
   {
    "duration": 22,
    "start_time": "2023-04-21T13:58:22.955Z"
   },
   {
    "duration": 11,
    "start_time": "2023-04-21T13:58:22.993Z"
   },
   {
    "duration": 12,
    "start_time": "2023-04-21T13:58:23.006Z"
   },
   {
    "duration": 13,
    "start_time": "2023-04-21T13:58:23.020Z"
   },
   {
    "duration": 5,
    "start_time": "2023-04-21T13:58:23.035Z"
   },
   {
    "duration": 53,
    "start_time": "2023-04-21T13:58:23.042Z"
   },
   {
    "duration": 7,
    "start_time": "2023-04-21T13:58:23.097Z"
   },
   {
    "duration": 6,
    "start_time": "2023-04-21T13:58:23.106Z"
   },
   {
    "duration": 5,
    "start_time": "2023-04-21T13:58:23.113Z"
   },
   {
    "duration": 4,
    "start_time": "2023-04-21T13:58:23.120Z"
   },
   {
    "duration": 14,
    "start_time": "2023-04-21T13:58:23.126Z"
   },
   {
    "duration": 63,
    "start_time": "2023-04-21T13:58:23.141Z"
   },
   {
    "duration": 18,
    "start_time": "2023-04-21T13:58:23.206Z"
   },
   {
    "duration": 6,
    "start_time": "2023-04-21T14:00:41.889Z"
   },
   {
    "duration": 6,
    "start_time": "2023-04-21T14:00:56.077Z"
   },
   {
    "duration": 8,
    "start_time": "2023-04-21T14:02:14.031Z"
   },
   {
    "duration": 67,
    "start_time": "2023-04-21T14:02:39.400Z"
   },
   {
    "duration": 16,
    "start_time": "2023-04-21T14:02:52.557Z"
   },
   {
    "duration": 307,
    "start_time": "2023-04-21T14:03:19.714Z"
   },
   {
    "duration": 15,
    "start_time": "2023-04-21T14:03:39.039Z"
   },
   {
    "duration": 15,
    "start_time": "2023-04-21T14:04:08.872Z"
   },
   {
    "duration": 19,
    "start_time": "2023-04-21T14:04:35.207Z"
   },
   {
    "duration": 24,
    "start_time": "2023-04-21T14:04:44.743Z"
   },
   {
    "duration": 8,
    "start_time": "2023-04-21T14:04:56.869Z"
   },
   {
    "duration": 7,
    "start_time": "2023-04-21T14:05:01.433Z"
   },
   {
    "duration": 7,
    "start_time": "2023-04-21T14:05:29.631Z"
   },
   {
    "duration": 8,
    "start_time": "2023-04-21T14:05:45.987Z"
   },
   {
    "duration": 8,
    "start_time": "2023-04-21T14:05:57.665Z"
   },
   {
    "duration": 19,
    "start_time": "2023-04-21T14:07:30.813Z"
   },
   {
    "duration": 17,
    "start_time": "2023-04-21T14:07:36.721Z"
   },
   {
    "duration": 26,
    "start_time": "2023-04-21T14:07:45.585Z"
   },
   {
    "duration": 16,
    "start_time": "2023-04-21T14:07:57.123Z"
   },
   {
    "duration": 17,
    "start_time": "2023-04-21T14:08:39.020Z"
   },
   {
    "duration": 26,
    "start_time": "2023-04-21T14:08:54.050Z"
   },
   {
    "duration": 3,
    "start_time": "2023-04-21T14:09:05.463Z"
   },
   {
    "duration": 17,
    "start_time": "2023-04-21T14:09:11.046Z"
   },
   {
    "duration": 8,
    "start_time": "2023-04-21T14:11:56.394Z"
   },
   {
    "duration": 6,
    "start_time": "2023-04-21T14:15:10.332Z"
   },
   {
    "duration": 5,
    "start_time": "2023-04-21T14:15:29.111Z"
   },
   {
    "duration": 6,
    "start_time": "2023-04-21T14:16:14.653Z"
   },
   {
    "duration": 6,
    "start_time": "2023-04-21T14:16:20.243Z"
   },
   {
    "duration": 5,
    "start_time": "2023-04-21T14:17:44.575Z"
   },
   {
    "duration": 6,
    "start_time": "2023-04-21T14:18:56.975Z"
   },
   {
    "duration": 5,
    "start_time": "2023-04-21T14:19:24.816Z"
   },
   {
    "duration": 19,
    "start_time": "2023-04-21T14:19:36.789Z"
   },
   {
    "duration": 6,
    "start_time": "2023-04-21T14:19:47.252Z"
   },
   {
    "duration": 7,
    "start_time": "2023-04-21T14:19:53.459Z"
   },
   {
    "duration": 5,
    "start_time": "2023-04-21T14:20:02.225Z"
   },
   {
    "duration": 6,
    "start_time": "2023-04-21T14:20:39.741Z"
   },
   {
    "duration": 6,
    "start_time": "2023-04-21T14:20:53.558Z"
   },
   {
    "duration": 8,
    "start_time": "2023-04-21T14:21:04.290Z"
   },
   {
    "duration": 7,
    "start_time": "2023-04-21T14:26:27.413Z"
   },
   {
    "duration": 6,
    "start_time": "2023-04-21T14:26:31.675Z"
   },
   {
    "duration": 4,
    "start_time": "2023-04-21T14:26:55.280Z"
   },
   {
    "duration": 4,
    "start_time": "2023-04-21T14:27:47.824Z"
   },
   {
    "duration": 7,
    "start_time": "2023-04-21T14:27:54.934Z"
   },
   {
    "duration": 6,
    "start_time": "2023-04-21T14:28:02.404Z"
   },
   {
    "duration": 6,
    "start_time": "2023-04-21T14:28:29.856Z"
   },
   {
    "duration": 84,
    "start_time": "2023-04-21T14:30:47.169Z"
   },
   {
    "duration": 10,
    "start_time": "2023-04-21T14:31:36.541Z"
   },
   {
    "duration": 5,
    "start_time": "2023-04-21T14:32:54.107Z"
   },
   {
    "duration": 7,
    "start_time": "2023-04-21T14:33:01.701Z"
   },
   {
    "duration": 7,
    "start_time": "2023-04-21T14:33:04.032Z"
   },
   {
    "duration": 6,
    "start_time": "2023-04-21T14:33:35.331Z"
   },
   {
    "duration": 9,
    "start_time": "2023-04-21T14:45:38.231Z"
   },
   {
    "duration": 412,
    "start_time": "2023-04-21T14:46:34.171Z"
   },
   {
    "duration": 879,
    "start_time": "2023-04-21T14:46:41.408Z"
   },
   {
    "duration": 89,
    "start_time": "2023-04-21T14:46:42.289Z"
   },
   {
    "duration": 12,
    "start_time": "2023-04-21T14:46:42.379Z"
   },
   {
    "duration": 27,
    "start_time": "2023-04-21T14:46:42.393Z"
   },
   {
    "duration": 12,
    "start_time": "2023-04-21T14:46:42.422Z"
   },
   {
    "duration": 19,
    "start_time": "2023-04-21T14:46:42.436Z"
   },
   {
    "duration": 41,
    "start_time": "2023-04-21T14:46:42.456Z"
   },
   {
    "duration": 4,
    "start_time": "2023-04-21T14:46:42.499Z"
   },
   {
    "duration": 11,
    "start_time": "2023-04-21T14:46:42.504Z"
   },
   {
    "duration": 9,
    "start_time": "2023-04-21T14:46:42.518Z"
   },
   {
    "duration": 7,
    "start_time": "2023-04-21T14:46:42.528Z"
   },
   {
    "duration": 5,
    "start_time": "2023-04-21T14:46:42.537Z"
   },
   {
    "duration": 5,
    "start_time": "2023-04-21T14:46:42.544Z"
   },
   {
    "duration": 53,
    "start_time": "2023-04-21T14:46:42.550Z"
   },
   {
    "duration": 27,
    "start_time": "2023-04-21T14:46:42.604Z"
   },
   {
    "duration": 21,
    "start_time": "2023-04-21T14:46:42.633Z"
   },
   {
    "duration": 9,
    "start_time": "2023-04-21T14:46:42.656Z"
   },
   {
    "duration": 4,
    "start_time": "2023-04-21T14:46:42.694Z"
   },
   {
    "duration": 9,
    "start_time": "2023-04-21T14:46:42.700Z"
   },
   {
    "duration": 7,
    "start_time": "2023-04-21T14:46:42.711Z"
   },
   {
    "duration": 6,
    "start_time": "2023-04-21T14:46:42.720Z"
   },
   {
    "duration": 182,
    "start_time": "2023-04-21T14:46:42.727Z"
   },
   {
    "duration": 6,
    "start_time": "2023-04-21T14:47:30.107Z"
   },
   {
    "duration": 6,
    "start_time": "2023-04-21T14:47:44.148Z"
   },
   {
    "duration": 6,
    "start_time": "2023-04-21T14:48:57.027Z"
   },
   {
    "duration": 122,
    "start_time": "2023-04-21T14:49:15.203Z"
   },
   {
    "duration": 104,
    "start_time": "2023-04-21T14:49:45.298Z"
   },
   {
    "duration": 7,
    "start_time": "2023-04-21T14:49:59.159Z"
   },
   {
    "duration": 7,
    "start_time": "2023-04-21T14:50:05.926Z"
   },
   {
    "duration": 7,
    "start_time": "2023-04-21T14:52:05.521Z"
   },
   {
    "duration": 6,
    "start_time": "2023-04-21T14:52:10.332Z"
   },
   {
    "duration": 6,
    "start_time": "2023-04-21T14:52:15.733Z"
   },
   {
    "duration": 6,
    "start_time": "2023-04-21T14:52:26.776Z"
   },
   {
    "duration": 827,
    "start_time": "2023-04-21T14:52:40.793Z"
   },
   {
    "duration": 91,
    "start_time": "2023-04-21T14:52:41.622Z"
   },
   {
    "duration": 13,
    "start_time": "2023-04-21T14:52:41.715Z"
   },
   {
    "duration": 26,
    "start_time": "2023-04-21T14:52:41.730Z"
   },
   {
    "duration": 42,
    "start_time": "2023-04-21T14:52:41.757Z"
   },
   {
    "duration": 13,
    "start_time": "2023-04-21T14:52:41.802Z"
   },
   {
    "duration": 22,
    "start_time": "2023-04-21T14:52:41.816Z"
   },
   {
    "duration": 5,
    "start_time": "2023-04-21T14:52:41.840Z"
   },
   {
    "duration": 12,
    "start_time": "2023-04-21T14:52:41.846Z"
   },
   {
    "duration": 7,
    "start_time": "2023-04-21T14:52:41.860Z"
   },
   {
    "duration": 7,
    "start_time": "2023-04-21T14:52:41.895Z"
   },
   {
    "duration": 4,
    "start_time": "2023-04-21T14:52:41.904Z"
   },
   {
    "duration": 7,
    "start_time": "2023-04-21T14:52:41.910Z"
   },
   {
    "duration": 21,
    "start_time": "2023-04-21T14:52:41.919Z"
   },
   {
    "duration": 24,
    "start_time": "2023-04-21T14:52:41.942Z"
   },
   {
    "duration": 45,
    "start_time": "2023-04-21T14:52:41.968Z"
   },
   {
    "duration": 9,
    "start_time": "2023-04-21T14:52:42.014Z"
   },
   {
    "duration": 5,
    "start_time": "2023-04-21T14:52:42.024Z"
   },
   {
    "duration": 7,
    "start_time": "2023-04-21T14:52:42.030Z"
   },
   {
    "duration": 6,
    "start_time": "2023-04-21T14:52:42.039Z"
   },
   {
    "duration": 6,
    "start_time": "2023-04-21T14:52:42.047Z"
   },
   {
    "duration": 42,
    "start_time": "2023-04-21T14:52:42.055Z"
   },
   {
    "duration": 752,
    "start_time": "2023-04-21T14:52:55.546Z"
   },
   {
    "duration": 83,
    "start_time": "2023-04-21T14:52:56.300Z"
   },
   {
    "duration": 10,
    "start_time": "2023-04-21T14:52:56.384Z"
   },
   {
    "duration": 30,
    "start_time": "2023-04-21T14:52:56.395Z"
   },
   {
    "duration": 12,
    "start_time": "2023-04-21T14:52:56.427Z"
   },
   {
    "duration": 15,
    "start_time": "2023-04-21T14:52:56.441Z"
   },
   {
    "duration": 16,
    "start_time": "2023-04-21T14:52:56.457Z"
   },
   {
    "duration": 5,
    "start_time": "2023-04-21T14:52:56.494Z"
   },
   {
    "duration": 20,
    "start_time": "2023-04-21T14:52:56.501Z"
   },
   {
    "duration": 7,
    "start_time": "2023-04-21T14:52:56.523Z"
   },
   {
    "duration": 16,
    "start_time": "2023-04-21T14:52:56.532Z"
   },
   {
    "duration": 8,
    "start_time": "2023-04-21T14:52:56.550Z"
   },
   {
    "duration": 12,
    "start_time": "2023-04-21T14:52:56.559Z"
   },
   {
    "duration": 25,
    "start_time": "2023-04-21T14:52:56.573Z"
   },
   {
    "duration": 19,
    "start_time": "2023-04-21T14:52:56.599Z"
   },
   {
    "duration": 14,
    "start_time": "2023-04-21T14:52:56.619Z"
   },
   {
    "duration": 6,
    "start_time": "2023-04-21T14:52:56.635Z"
   },
   {
    "duration": 18,
    "start_time": "2023-04-21T14:52:56.643Z"
   },
   {
    "duration": 15,
    "start_time": "2023-04-21T14:52:56.663Z"
   },
   {
    "duration": 16,
    "start_time": "2023-04-21T14:52:56.680Z"
   },
   {
    "duration": 14,
    "start_time": "2023-04-21T14:52:56.698Z"
   },
   {
    "duration": 6,
    "start_time": "2023-04-21T14:52:56.714Z"
   },
   {
    "duration": 820,
    "start_time": "2023-04-21T14:53:12.898Z"
   },
   {
    "duration": 97,
    "start_time": "2023-04-21T14:53:13.720Z"
   },
   {
    "duration": 15,
    "start_time": "2023-04-21T14:53:13.823Z"
   },
   {
    "duration": 38,
    "start_time": "2023-04-21T14:53:13.840Z"
   },
   {
    "duration": 26,
    "start_time": "2023-04-21T14:53:13.880Z"
   },
   {
    "duration": 12,
    "start_time": "2023-04-21T14:53:13.907Z"
   },
   {
    "duration": 14,
    "start_time": "2023-04-21T14:53:13.921Z"
   },
   {
    "duration": 5,
    "start_time": "2023-04-21T14:53:13.936Z"
   },
   {
    "duration": 23,
    "start_time": "2023-04-21T14:53:13.943Z"
   },
   {
    "duration": 27,
    "start_time": "2023-04-21T14:53:13.967Z"
   },
   {
    "duration": 6,
    "start_time": "2023-04-21T14:53:13.995Z"
   },
   {
    "duration": 4,
    "start_time": "2023-04-21T14:53:14.002Z"
   },
   {
    "duration": 10,
    "start_time": "2023-04-21T14:53:14.007Z"
   },
   {
    "duration": 20,
    "start_time": "2023-04-21T14:53:14.019Z"
   },
   {
    "duration": 24,
    "start_time": "2023-04-21T14:53:14.041Z"
   },
   {
    "duration": 47,
    "start_time": "2023-04-21T14:53:14.067Z"
   },
   {
    "duration": 8,
    "start_time": "2023-04-21T14:53:14.116Z"
   },
   {
    "duration": 7,
    "start_time": "2023-04-21T14:53:14.127Z"
   },
   {
    "duration": 9,
    "start_time": "2023-04-21T14:53:14.136Z"
   },
   {
    "duration": 13,
    "start_time": "2023-04-21T14:53:14.147Z"
   },
   {
    "duration": 35,
    "start_time": "2023-04-21T14:53:14.163Z"
   },
   {
    "duration": 12,
    "start_time": "2023-04-21T14:53:14.200Z"
   },
   {
    "duration": 7,
    "start_time": "2023-04-21T14:55:05.255Z"
   },
   {
    "duration": 808,
    "start_time": "2023-04-21T14:55:28.803Z"
   },
   {
    "duration": 87,
    "start_time": "2023-04-21T14:55:29.613Z"
   },
   {
    "duration": 11,
    "start_time": "2023-04-21T14:55:29.702Z"
   },
   {
    "duration": 20,
    "start_time": "2023-04-21T14:55:29.716Z"
   },
   {
    "duration": 10,
    "start_time": "2023-04-21T14:55:29.737Z"
   },
   {
    "duration": 14,
    "start_time": "2023-04-21T14:55:29.748Z"
   },
   {
    "duration": 13,
    "start_time": "2023-04-21T14:55:29.795Z"
   },
   {
    "duration": 4,
    "start_time": "2023-04-21T14:55:29.809Z"
   },
   {
    "duration": 13,
    "start_time": "2023-04-21T14:55:29.815Z"
   },
   {
    "duration": 7,
    "start_time": "2023-04-21T14:55:29.830Z"
   },
   {
    "duration": 5,
    "start_time": "2023-04-21T14:55:29.839Z"
   },
   {
    "duration": 4,
    "start_time": "2023-04-21T14:55:29.846Z"
   },
   {
    "duration": 5,
    "start_time": "2023-04-21T14:55:29.851Z"
   },
   {
    "duration": 49,
    "start_time": "2023-04-21T14:55:29.857Z"
   },
   {
    "duration": 21,
    "start_time": "2023-04-21T14:55:29.907Z"
   },
   {
    "duration": 15,
    "start_time": "2023-04-21T14:55:29.929Z"
   },
   {
    "duration": 7,
    "start_time": "2023-04-21T14:55:29.946Z"
   },
   {
    "duration": 5,
    "start_time": "2023-04-21T14:55:29.955Z"
   },
   {
    "duration": 38,
    "start_time": "2023-04-21T14:55:29.961Z"
   },
   {
    "duration": 7,
    "start_time": "2023-04-21T14:55:30.001Z"
   },
   {
    "duration": 28,
    "start_time": "2023-04-21T14:55:30.009Z"
   },
   {
    "duration": 9,
    "start_time": "2023-04-21T14:55:30.039Z"
   },
   {
    "duration": 19,
    "start_time": "2023-04-21T14:55:30.049Z"
   },
   {
    "duration": 6,
    "start_time": "2023-04-21T14:56:08.651Z"
   },
   {
    "duration": 7,
    "start_time": "2023-04-21T14:56:25.147Z"
   },
   {
    "duration": 7,
    "start_time": "2023-04-21T14:56:32.382Z"
   },
   {
    "duration": 12,
    "start_time": "2023-04-21T14:56:58.424Z"
   },
   {
    "duration": 6,
    "start_time": "2023-04-21T14:57:16.701Z"
   },
   {
    "duration": 5,
    "start_time": "2023-04-21T14:57:29.339Z"
   },
   {
    "duration": 5,
    "start_time": "2023-04-21T14:57:41.680Z"
   },
   {
    "duration": 7,
    "start_time": "2023-04-21T14:58:29.695Z"
   },
   {
    "duration": 9,
    "start_time": "2023-04-21T14:58:37.020Z"
   },
   {
    "duration": 7,
    "start_time": "2023-04-21T14:58:49.531Z"
   },
   {
    "duration": 818,
    "start_time": "2023-04-21T14:58:53.785Z"
   },
   {
    "duration": 100,
    "start_time": "2023-04-21T14:58:54.605Z"
   },
   {
    "duration": 11,
    "start_time": "2023-04-21T14:58:54.707Z"
   },
   {
    "duration": 33,
    "start_time": "2023-04-21T14:58:54.721Z"
   },
   {
    "duration": 39,
    "start_time": "2023-04-21T14:58:54.756Z"
   },
   {
    "duration": 18,
    "start_time": "2023-04-21T14:58:54.797Z"
   },
   {
    "duration": 23,
    "start_time": "2023-04-21T14:58:54.816Z"
   },
   {
    "duration": 8,
    "start_time": "2023-04-21T14:58:54.841Z"
   },
   {
    "duration": 14,
    "start_time": "2023-04-21T14:58:54.851Z"
   },
   {
    "duration": 28,
    "start_time": "2023-04-21T14:58:54.869Z"
   },
   {
    "duration": 8,
    "start_time": "2023-04-21T14:58:54.899Z"
   },
   {
    "duration": 6,
    "start_time": "2023-04-21T14:58:54.909Z"
   },
   {
    "duration": 5,
    "start_time": "2023-04-21T14:58:54.917Z"
   },
   {
    "duration": 15,
    "start_time": "2023-04-21T14:58:54.924Z"
   },
   {
    "duration": 25,
    "start_time": "2023-04-21T14:58:54.941Z"
   },
   {
    "duration": 47,
    "start_time": "2023-04-21T14:58:54.967Z"
   },
   {
    "duration": 8,
    "start_time": "2023-04-21T14:58:55.016Z"
   },
   {
    "duration": 14,
    "start_time": "2023-04-21T14:58:55.025Z"
   },
   {
    "duration": 12,
    "start_time": "2023-04-21T14:58:55.041Z"
   },
   {
    "duration": 6,
    "start_time": "2023-04-21T14:58:55.055Z"
   },
   {
    "duration": 16,
    "start_time": "2023-04-21T14:58:55.062Z"
   },
   {
    "duration": 7,
    "start_time": "2023-04-21T14:58:55.095Z"
   },
   {
    "duration": 7,
    "start_time": "2023-04-21T14:58:55.104Z"
   },
   {
    "duration": 8,
    "start_time": "2023-04-21T14:59:15.772Z"
   },
   {
    "duration": 7,
    "start_time": "2023-04-21T14:59:22.979Z"
   },
   {
    "duration": 9,
    "start_time": "2023-04-21T15:00:49.359Z"
   },
   {
    "duration": 7,
    "start_time": "2023-04-21T15:00:55.880Z"
   },
   {
    "duration": 7,
    "start_time": "2023-04-21T15:01:14.396Z"
   },
   {
    "duration": 7,
    "start_time": "2023-04-21T15:01:24.608Z"
   },
   {
    "duration": 8,
    "start_time": "2023-04-21T15:01:30.195Z"
   },
   {
    "duration": 8,
    "start_time": "2023-04-21T15:04:32.336Z"
   },
   {
    "duration": 7,
    "start_time": "2023-04-21T15:04:49.081Z"
   },
   {
    "duration": 5,
    "start_time": "2023-04-21T15:09:04.114Z"
   },
   {
    "duration": 11,
    "start_time": "2023-04-21T15:09:12.437Z"
   },
   {
    "duration": 31,
    "start_time": "2023-04-21T15:09:26.208Z"
   },
   {
    "duration": 5,
    "start_time": "2023-04-21T15:11:24.276Z"
   },
   {
    "duration": 14,
    "start_time": "2023-04-21T15:11:32.336Z"
   },
   {
    "duration": 7,
    "start_time": "2023-04-21T15:11:41.183Z"
   },
   {
    "duration": 784,
    "start_time": "2023-04-21T15:11:46.031Z"
   },
   {
    "duration": 96,
    "start_time": "2023-04-21T15:11:46.818Z"
   },
   {
    "duration": 13,
    "start_time": "2023-04-21T15:11:46.915Z"
   },
   {
    "duration": 28,
    "start_time": "2023-04-21T15:11:46.929Z"
   },
   {
    "duration": 34,
    "start_time": "2023-04-21T15:11:46.960Z"
   },
   {
    "duration": 15,
    "start_time": "2023-04-21T15:11:46.997Z"
   },
   {
    "duration": 14,
    "start_time": "2023-04-21T15:11:47.014Z"
   },
   {
    "duration": 12,
    "start_time": "2023-04-21T15:11:47.030Z"
   },
   {
    "duration": 17,
    "start_time": "2023-04-21T15:11:47.044Z"
   },
   {
    "duration": 7,
    "start_time": "2023-04-21T15:11:47.063Z"
   },
   {
    "duration": 9,
    "start_time": "2023-04-21T15:11:47.095Z"
   },
   {
    "duration": 11,
    "start_time": "2023-04-21T15:11:47.106Z"
   },
   {
    "duration": 7,
    "start_time": "2023-04-21T15:11:47.119Z"
   },
   {
    "duration": 24,
    "start_time": "2023-04-21T15:11:47.130Z"
   },
   {
    "duration": 51,
    "start_time": "2023-04-21T15:11:47.156Z"
   },
   {
    "duration": 23,
    "start_time": "2023-04-21T15:11:47.209Z"
   },
   {
    "duration": 10,
    "start_time": "2023-04-21T15:11:47.235Z"
   },
   {
    "duration": 5,
    "start_time": "2023-04-21T15:11:47.246Z"
   },
   {
    "duration": 12,
    "start_time": "2023-04-21T15:11:47.253Z"
   },
   {
    "duration": 31,
    "start_time": "2023-04-21T15:11:47.267Z"
   },
   {
    "duration": 16,
    "start_time": "2023-04-21T15:11:47.300Z"
   },
   {
    "duration": 17,
    "start_time": "2023-04-21T15:11:47.318Z"
   },
   {
    "duration": 19,
    "start_time": "2023-04-21T15:11:47.338Z"
   },
   {
    "duration": 42,
    "start_time": "2023-04-21T15:11:47.359Z"
   },
   {
    "duration": 8,
    "start_time": "2023-04-21T15:11:47.404Z"
   },
   {
    "duration": 11,
    "start_time": "2023-04-21T15:11:58.171Z"
   },
   {
    "duration": 13,
    "start_time": "2023-04-21T15:12:09.327Z"
   },
   {
    "duration": 14,
    "start_time": "2023-04-21T15:12:13.526Z"
   },
   {
    "duration": 11,
    "start_time": "2023-04-21T15:12:19.448Z"
   },
   {
    "duration": 5,
    "start_time": "2023-04-21T15:14:00.470Z"
   },
   {
    "duration": 13,
    "start_time": "2023-04-21T15:14:08.967Z"
   },
   {
    "duration": 10,
    "start_time": "2023-04-21T15:14:17.966Z"
   },
   {
    "duration": 8,
    "start_time": "2023-04-21T15:14:28.909Z"
   },
   {
    "duration": 8,
    "start_time": "2023-04-21T15:14:54.132Z"
   },
   {
    "duration": 8,
    "start_time": "2023-04-21T15:14:59.217Z"
   },
   {
    "duration": 9,
    "start_time": "2023-04-21T15:15:02.883Z"
   },
   {
    "duration": 7,
    "start_time": "2023-04-21T15:15:44.732Z"
   },
   {
    "duration": 639,
    "start_time": "2023-04-21T15:24:29.501Z"
   },
   {
    "duration": 83,
    "start_time": "2023-04-21T16:10:42.653Z"
   },
   {
    "duration": 1430,
    "start_time": "2023-04-21T16:11:05.417Z"
   },
   {
    "duration": 1874,
    "start_time": "2023-04-21T16:11:17.509Z"
   },
   {
    "duration": 109,
    "start_time": "2023-04-21T16:11:22.910Z"
   },
   {
    "duration": 12,
    "start_time": "2023-04-21T16:11:51.166Z"
   },
   {
    "duration": 10,
    "start_time": "2023-04-21T16:11:56.238Z"
   },
   {
    "duration": 125,
    "start_time": "2023-04-21T16:16:21.339Z"
   },
   {
    "duration": 22,
    "start_time": "2023-04-21T16:16:37.388Z"
   },
   {
    "duration": 9,
    "start_time": "2023-04-21T16:29:20.207Z"
   },
   {
    "duration": 139,
    "start_time": "2023-04-21T16:29:29.429Z"
   },
   {
    "duration": 106,
    "start_time": "2023-04-21T16:29:49.436Z"
   },
   {
    "duration": 3,
    "start_time": "2023-04-21T16:32:38.789Z"
   },
   {
    "duration": 6,
    "start_time": "2023-04-21T16:32:41.913Z"
   },
   {
    "duration": 13,
    "start_time": "2023-04-21T16:33:04.790Z"
   },
   {
    "duration": 7,
    "start_time": "2023-04-21T16:33:12.347Z"
   },
   {
    "duration": 13,
    "start_time": "2023-04-21T16:33:29.393Z"
   },
   {
    "duration": 8,
    "start_time": "2023-04-21T16:33:55.381Z"
   },
   {
    "duration": 141,
    "start_time": "2023-04-21T16:34:37.126Z"
   },
   {
    "duration": 1247,
    "start_time": "2023-04-21T16:34:56.324Z"
   },
   {
    "duration": 13,
    "start_time": "2023-04-21T16:35:19.311Z"
   },
   {
    "duration": 22,
    "start_time": "2023-04-21T16:35:23.990Z"
   },
   {
    "duration": 13,
    "start_time": "2023-04-21T16:35:33.427Z"
   },
   {
    "duration": 8,
    "start_time": "2023-04-21T16:35:53.982Z"
   },
   {
    "duration": 174,
    "start_time": "2023-04-21T16:36:25.357Z"
   },
   {
    "duration": 160,
    "start_time": "2023-04-21T16:38:09.297Z"
   },
   {
    "duration": 249,
    "start_time": "2023-04-21T16:38:15.034Z"
   },
   {
    "duration": 32,
    "start_time": "2023-04-21T17:01:03.261Z"
   },
   {
    "duration": 784,
    "start_time": "2023-04-21T17:01:21.737Z"
   },
   {
    "duration": 96,
    "start_time": "2023-04-21T17:01:22.523Z"
   },
   {
    "duration": 13,
    "start_time": "2023-04-21T17:01:22.621Z"
   },
   {
    "duration": 40,
    "start_time": "2023-04-21T17:01:22.636Z"
   },
   {
    "duration": 43,
    "start_time": "2023-04-21T17:01:22.678Z"
   },
   {
    "duration": 17,
    "start_time": "2023-04-21T17:01:22.723Z"
   },
   {
    "duration": 17,
    "start_time": "2023-04-21T17:01:22.742Z"
   },
   {
    "duration": 5,
    "start_time": "2023-04-21T17:01:22.761Z"
   },
   {
    "duration": 17,
    "start_time": "2023-04-21T17:01:22.794Z"
   },
   {
    "duration": 8,
    "start_time": "2023-04-21T17:01:22.815Z"
   },
   {
    "duration": 8,
    "start_time": "2023-04-21T17:01:22.824Z"
   },
   {
    "duration": 8,
    "start_time": "2023-04-21T17:01:22.833Z"
   },
   {
    "duration": 7,
    "start_time": "2023-04-21T17:01:22.842Z"
   },
   {
    "duration": 48,
    "start_time": "2023-04-21T17:01:22.851Z"
   },
   {
    "duration": 36,
    "start_time": "2023-04-21T17:01:22.900Z"
   },
   {
    "duration": 20,
    "start_time": "2023-04-21T17:01:22.938Z"
   },
   {
    "duration": 7,
    "start_time": "2023-04-21T17:01:22.960Z"
   },
   {
    "duration": 6,
    "start_time": "2023-04-21T17:01:22.968Z"
   },
   {
    "duration": 9,
    "start_time": "2023-04-21T17:01:22.993Z"
   },
   {
    "duration": 7,
    "start_time": "2023-04-21T17:01:23.004Z"
   },
   {
    "duration": 6,
    "start_time": "2023-04-21T17:01:23.013Z"
   },
   {
    "duration": 8,
    "start_time": "2023-04-21T17:01:23.021Z"
   },
   {
    "duration": 8,
    "start_time": "2023-04-21T17:01:23.030Z"
   },
   {
    "duration": 56,
    "start_time": "2023-04-21T17:01:23.040Z"
   },
   {
    "duration": 8,
    "start_time": "2023-04-21T17:01:23.098Z"
   },
   {
    "duration": 409,
    "start_time": "2023-04-21T17:01:23.107Z"
   },
   {
    "duration": 173,
    "start_time": "2023-04-21T17:01:23.518Z"
   },
   {
    "duration": 116,
    "start_time": "2023-04-21T17:01:23.694Z"
   },
   {
    "duration": 9,
    "start_time": "2023-04-21T17:01:23.812Z"
   },
   {
    "duration": 116,
    "start_time": "2023-04-21T17:01:23.822Z"
   },
   {
    "duration": 10,
    "start_time": "2023-04-21T17:01:23.940Z"
   },
   {
    "duration": 11,
    "start_time": "2023-04-21T17:01:23.952Z"
   },
   {
    "duration": 224,
    "start_time": "2023-04-21T17:01:23.964Z"
   },
   {
    "duration": 1038,
    "start_time": "2023-04-25T09:05:11.691Z"
   },
   {
    "duration": 249,
    "start_time": "2023-04-25T09:05:12.731Z"
   },
   {
    "duration": 11,
    "start_time": "2023-04-25T09:05:12.982Z"
   },
   {
    "duration": 74,
    "start_time": "2023-04-25T09:05:12.995Z"
   },
   {
    "duration": 32,
    "start_time": "2023-04-25T09:05:13.073Z"
   },
   {
    "duration": 21,
    "start_time": "2023-04-25T09:05:13.107Z"
   },
   {
    "duration": 19,
    "start_time": "2023-04-25T09:05:13.130Z"
   },
   {
    "duration": 26,
    "start_time": "2023-04-25T09:05:13.151Z"
   },
   {
    "duration": 31,
    "start_time": "2023-04-25T09:05:13.179Z"
   },
   {
    "duration": 12,
    "start_time": "2023-04-25T09:05:13.212Z"
   },
   {
    "duration": 12,
    "start_time": "2023-04-25T09:05:13.226Z"
   },
   {
    "duration": 11,
    "start_time": "2023-04-25T09:05:13.239Z"
   },
   {
    "duration": 10,
    "start_time": "2023-04-25T09:05:13.252Z"
   },
   {
    "duration": 23,
    "start_time": "2023-04-25T09:05:13.265Z"
   },
   {
    "duration": 28,
    "start_time": "2023-04-25T09:05:13.291Z"
   },
   {
    "duration": 19,
    "start_time": "2023-04-25T09:05:13.322Z"
   },
   {
    "duration": 75,
    "start_time": "2023-04-25T09:05:13.343Z"
   },
   {
    "duration": 15,
    "start_time": "2023-04-25T09:05:13.420Z"
   },
   {
    "duration": 30,
    "start_time": "2023-04-25T09:05:13.437Z"
   },
   {
    "duration": 32,
    "start_time": "2023-04-25T09:05:13.469Z"
   },
   {
    "duration": 38,
    "start_time": "2023-04-25T09:05:13.503Z"
   },
   {
    "duration": 29,
    "start_time": "2023-04-25T09:05:13.543Z"
   },
   {
    "duration": 34,
    "start_time": "2023-04-25T09:05:13.574Z"
   },
   {
    "duration": 54,
    "start_time": "2023-04-25T09:05:13.610Z"
   },
   {
    "duration": 15,
    "start_time": "2023-04-25T09:05:13.666Z"
   },
   {
    "duration": 605,
    "start_time": "2023-04-25T09:05:13.683Z"
   },
   {
    "duration": 242,
    "start_time": "2023-04-25T09:05:14.290Z"
   },
   {
    "duration": 143,
    "start_time": "2023-04-25T09:05:14.534Z"
   },
   {
    "duration": 11,
    "start_time": "2023-04-25T09:05:14.680Z"
   },
   {
    "duration": 148,
    "start_time": "2023-04-25T09:05:14.693Z"
   },
   {
    "duration": 9,
    "start_time": "2023-04-25T09:05:14.843Z"
   },
   {
    "duration": 38,
    "start_time": "2023-04-25T09:05:14.853Z"
   },
   {
    "duration": 163,
    "start_time": "2023-04-25T09:05:14.893Z"
   },
   {
    "duration": 8,
    "start_time": "2023-04-25T09:08:49.446Z"
   },
   {
    "duration": 20,
    "start_time": "2023-04-25T09:08:59.812Z"
   },
   {
    "duration": 47,
    "start_time": "2023-04-25T09:11:02.201Z"
   },
   {
    "duration": 7,
    "start_time": "2023-04-25T09:13:23.113Z"
   },
   {
    "duration": 23,
    "start_time": "2023-04-25T09:13:28.381Z"
   },
   {
    "duration": 8,
    "start_time": "2023-04-25T09:13:46.629Z"
   },
   {
    "duration": 1325,
    "start_time": "2023-04-25T09:14:03.785Z"
   },
   {
    "duration": 9,
    "start_time": "2023-04-25T09:14:09.381Z"
   },
   {
    "duration": 37,
    "start_time": "2023-04-25T09:15:01.901Z"
   },
   {
    "duration": 105,
    "start_time": "2023-04-25T09:17:25.981Z"
   },
   {
    "duration": 17,
    "start_time": "2023-04-25T09:17:47.481Z"
   },
   {
    "duration": 11,
    "start_time": "2023-04-25T09:17:54.212Z"
   },
   {
    "duration": 115,
    "start_time": "2023-04-25T09:18:43.145Z"
   },
   {
    "duration": 9,
    "start_time": "2023-04-25T09:18:51.581Z"
   },
   {
    "duration": 110,
    "start_time": "2023-04-25T09:20:37.596Z"
   },
   {
    "duration": 8,
    "start_time": "2023-04-25T09:20:49.040Z"
   },
   {
    "duration": 109,
    "start_time": "2023-04-25T09:20:55.997Z"
   },
   {
    "duration": 11,
    "start_time": "2023-04-25T09:21:05.418Z"
   },
   {
    "duration": 6,
    "start_time": "2023-04-25T09:38:02.525Z"
   },
   {
    "duration": 9,
    "start_time": "2023-04-25T09:38:12.688Z"
   },
   {
    "duration": 4,
    "start_time": "2023-04-25T09:38:21.348Z"
   },
   {
    "duration": 6,
    "start_time": "2023-04-25T09:45:12.880Z"
   },
   {
    "duration": 6,
    "start_time": "2023-04-25T09:45:40.810Z"
   },
   {
    "duration": 6,
    "start_time": "2023-04-25T09:45:46.919Z"
   },
   {
    "duration": 6,
    "start_time": "2023-04-25T09:45:59.615Z"
   },
   {
    "duration": 6,
    "start_time": "2023-04-25T10:01:05.086Z"
   },
   {
    "duration": 5,
    "start_time": "2023-04-25T10:08:43.751Z"
   },
   {
    "duration": 6,
    "start_time": "2023-04-25T10:16:26.453Z"
   },
   {
    "duration": 6,
    "start_time": "2023-04-25T10:39:25.894Z"
   },
   {
    "duration": 12,
    "start_time": "2023-04-25T10:40:44.798Z"
   },
   {
    "duration": 5,
    "start_time": "2023-04-25T10:40:54.586Z"
   },
   {
    "duration": 5,
    "start_time": "2023-04-25T10:41:07.598Z"
   },
   {
    "duration": 21,
    "start_time": "2023-04-25T13:49:13.385Z"
   },
   {
    "duration": 15,
    "start_time": "2023-04-25T13:49:30.016Z"
   },
   {
    "duration": 25,
    "start_time": "2023-04-25T13:50:00.318Z"
   },
   {
    "duration": 6,
    "start_time": "2023-04-25T13:50:33.650Z"
   },
   {
    "duration": 9,
    "start_time": "2023-04-25T13:54:28.209Z"
   },
   {
    "duration": 6,
    "start_time": "2023-04-25T13:54:39.301Z"
   },
   {
    "duration": 11,
    "start_time": "2023-04-25T13:54:43.177Z"
   },
   {
    "duration": 10,
    "start_time": "2023-04-25T13:54:57.618Z"
   },
   {
    "duration": 12,
    "start_time": "2023-04-25T13:55:20.643Z"
   },
   {
    "duration": 10,
    "start_time": "2023-04-25T13:57:28.893Z"
   },
   {
    "duration": 77,
    "start_time": "2023-04-25T13:57:41.621Z"
   },
   {
    "duration": 15,
    "start_time": "2023-04-25T13:57:54.136Z"
   },
   {
    "duration": 28,
    "start_time": "2023-04-25T13:57:59.747Z"
   },
   {
    "duration": 25,
    "start_time": "2023-04-25T13:58:26.334Z"
   },
   {
    "duration": 116,
    "start_time": "2023-04-25T14:01:20.736Z"
   },
   {
    "duration": 106,
    "start_time": "2023-04-25T14:01:39.526Z"
   },
   {
    "duration": 20,
    "start_time": "2023-04-25T14:17:40.640Z"
   },
   {
    "duration": 434,
    "start_time": "2023-04-25T14:19:19.942Z"
   },
   {
    "duration": 51,
    "start_time": "2023-04-25T14:19:23.739Z"
   },
   {
    "duration": 24,
    "start_time": "2023-04-25T14:19:27.932Z"
   },
   {
    "duration": 880,
    "start_time": "2023-04-25T14:20:09.082Z"
   },
   {
    "duration": 99,
    "start_time": "2023-04-25T14:20:09.964Z"
   },
   {
    "duration": 13,
    "start_time": "2023-04-25T14:20:10.066Z"
   },
   {
    "duration": 42,
    "start_time": "2023-04-25T14:20:10.081Z"
   },
   {
    "duration": 12,
    "start_time": "2023-04-25T14:20:10.125Z"
   },
   {
    "duration": 15,
    "start_time": "2023-04-25T14:20:10.140Z"
   },
   {
    "duration": 15,
    "start_time": "2023-04-25T14:20:10.157Z"
   },
   {
    "duration": 5,
    "start_time": "2023-04-25T14:20:10.175Z"
   },
   {
    "duration": 45,
    "start_time": "2023-04-25T14:20:10.182Z"
   },
   {
    "duration": 7,
    "start_time": "2023-04-25T14:20:10.229Z"
   },
   {
    "duration": 11,
    "start_time": "2023-04-25T14:20:10.238Z"
   },
   {
    "duration": 6,
    "start_time": "2023-04-25T14:20:10.250Z"
   },
   {
    "duration": 8,
    "start_time": "2023-04-25T14:20:10.258Z"
   },
   {
    "duration": 19,
    "start_time": "2023-04-25T14:20:10.269Z"
   },
   {
    "duration": 30,
    "start_time": "2023-04-25T14:20:10.318Z"
   },
   {
    "duration": 19,
    "start_time": "2023-04-25T14:20:10.349Z"
   },
   {
    "duration": 22,
    "start_time": "2023-04-25T14:20:10.370Z"
   },
   {
    "duration": 13,
    "start_time": "2023-04-25T14:20:10.394Z"
   },
   {
    "duration": 22,
    "start_time": "2023-04-25T14:20:10.409Z"
   },
   {
    "duration": 14,
    "start_time": "2023-04-25T14:20:10.433Z"
   },
   {
    "duration": 11,
    "start_time": "2023-04-25T14:20:10.449Z"
   },
   {
    "duration": 12,
    "start_time": "2023-04-25T14:20:10.462Z"
   },
   {
    "duration": 19,
    "start_time": "2023-04-25T14:20:10.476Z"
   },
   {
    "duration": 36,
    "start_time": "2023-04-25T14:20:10.497Z"
   },
   {
    "duration": 7,
    "start_time": "2023-04-25T14:20:10.534Z"
   },
   {
    "duration": 392,
    "start_time": "2023-04-25T14:20:10.543Z"
   },
   {
    "duration": 200,
    "start_time": "2023-04-25T14:20:10.936Z"
   },
   {
    "duration": 125,
    "start_time": "2023-04-25T14:20:11.138Z"
   },
   {
    "duration": 9,
    "start_time": "2023-04-25T14:20:11.265Z"
   },
   {
    "duration": 130,
    "start_time": "2023-04-25T14:20:11.276Z"
   },
   {
    "duration": 17,
    "start_time": "2023-04-25T14:20:11.409Z"
   },
   {
    "duration": 9,
    "start_time": "2023-04-25T14:20:11.428Z"
   },
   {
    "duration": 187,
    "start_time": "2023-04-25T14:20:11.438Z"
   },
   {
    "duration": 32,
    "start_time": "2023-04-25T14:20:11.626Z"
   },
   {
    "duration": 10,
    "start_time": "2023-04-25T14:20:11.660Z"
   },
   {
    "duration": 21,
    "start_time": "2023-04-25T14:20:11.671Z"
   },
   {
    "duration": 39,
    "start_time": "2023-04-25T14:20:11.693Z"
   },
   {
    "duration": 122,
    "start_time": "2023-04-25T14:20:11.734Z"
   },
   {
    "duration": 12,
    "start_time": "2023-04-25T14:20:11.858Z"
   },
   {
    "duration": 167,
    "start_time": "2023-04-25T14:20:11.872Z"
   },
   {
    "duration": 9,
    "start_time": "2023-04-25T14:20:12.044Z"
   },
   {
    "duration": 133,
    "start_time": "2023-04-25T14:20:12.054Z"
   },
   {
    "duration": 8,
    "start_time": "2023-04-25T14:20:12.189Z"
   },
   {
    "duration": 123,
    "start_time": "2023-04-25T14:20:12.198Z"
   },
   {
    "duration": 9,
    "start_time": "2023-04-25T14:20:12.323Z"
   },
   {
    "duration": 8,
    "start_time": "2023-04-25T14:20:12.334Z"
   },
   {
    "duration": 8,
    "start_time": "2023-04-25T14:20:12.343Z"
   },
   {
    "duration": 20,
    "start_time": "2023-04-25T14:20:12.352Z"
   },
   {
    "duration": 19,
    "start_time": "2023-04-25T14:20:12.374Z"
   },
   {
    "duration": 29,
    "start_time": "2023-04-25T14:20:12.396Z"
   },
   {
    "duration": 42,
    "start_time": "2023-04-25T14:20:12.427Z"
   },
   {
    "duration": 115,
    "start_time": "2023-04-25T14:20:12.472Z"
   },
   {
    "duration": 108,
    "start_time": "2023-04-25T14:20:41.138Z"
   },
   {
    "duration": 11,
    "start_time": "2023-04-25T14:20:48.321Z"
   },
   {
    "duration": 21,
    "start_time": "2023-04-25T14:21:31.191Z"
   },
   {
    "duration": 19,
    "start_time": "2023-04-25T14:21:49.526Z"
   },
   {
    "duration": 19,
    "start_time": "2023-04-25T14:22:20.173Z"
   },
   {
    "duration": 22,
    "start_time": "2023-04-25T14:22:42.270Z"
   },
   {
    "duration": 19,
    "start_time": "2023-04-25T14:25:00.473Z"
   },
   {
    "duration": 69,
    "start_time": "2023-04-25T14:25:12.705Z"
   },
   {
    "duration": 9,
    "start_time": "2023-04-25T14:26:38.938Z"
   },
   {
    "duration": 3,
    "start_time": "2023-04-25T14:27:01.701Z"
   },
   {
    "duration": 22,
    "start_time": "2023-04-25T14:27:10.203Z"
   },
   {
    "duration": 22,
    "start_time": "2023-04-25T14:27:39.993Z"
   },
   {
    "duration": 16,
    "start_time": "2023-04-25T14:27:44.585Z"
   },
   {
    "duration": 21,
    "start_time": "2023-04-25T14:28:31.373Z"
   },
   {
    "duration": 20,
    "start_time": "2023-04-25T14:32:46.210Z"
   },
   {
    "duration": 13,
    "start_time": "2023-04-25T14:34:38.028Z"
   },
   {
    "duration": 14,
    "start_time": "2023-04-25T14:35:11.439Z"
   },
   {
    "duration": 22,
    "start_time": "2023-04-25T14:35:18.489Z"
   },
   {
    "duration": 871,
    "start_time": "2023-04-25T14:35:36.506Z"
   },
   {
    "duration": 1439,
    "start_time": "2023-04-25T14:35:44.005Z"
   },
   {
    "duration": 20,
    "start_time": "2023-04-25T14:35:48.081Z"
   },
   {
    "duration": 63,
    "start_time": "2023-04-25T14:36:34.624Z"
   },
   {
    "duration": 113,
    "start_time": "2023-04-25T14:36:43.124Z"
   },
   {
    "duration": 45,
    "start_time": "2023-04-25T14:36:52.422Z"
   },
   {
    "duration": 40,
    "start_time": "2023-04-25T14:37:06.993Z"
   },
   {
    "duration": 13,
    "start_time": "2023-04-25T14:37:54.961Z"
   },
   {
    "duration": 20,
    "start_time": "2023-04-25T14:39:01.008Z"
   },
   {
    "duration": 64,
    "start_time": "2023-04-25T14:39:07.863Z"
   },
   {
    "duration": 28,
    "start_time": "2023-04-25T14:42:39.770Z"
   },
   {
    "duration": 930,
    "start_time": "2023-04-25T14:43:55.981Z"
   },
   {
    "duration": 100,
    "start_time": "2023-04-25T14:43:56.914Z"
   },
   {
    "duration": 12,
    "start_time": "2023-04-25T14:43:57.016Z"
   },
   {
    "duration": 43,
    "start_time": "2023-04-25T14:43:57.031Z"
   },
   {
    "duration": 12,
    "start_time": "2023-04-25T14:43:57.077Z"
   },
   {
    "duration": 30,
    "start_time": "2023-04-25T14:43:57.091Z"
   },
   {
    "duration": 22,
    "start_time": "2023-04-25T14:43:57.123Z"
   },
   {
    "duration": 5,
    "start_time": "2023-04-25T14:43:57.147Z"
   },
   {
    "duration": 21,
    "start_time": "2023-04-25T14:43:57.154Z"
   },
   {
    "duration": 15,
    "start_time": "2023-04-25T14:43:57.176Z"
   },
   {
    "duration": 45,
    "start_time": "2023-04-25T14:43:57.193Z"
   },
   {
    "duration": 28,
    "start_time": "2023-04-25T14:43:57.239Z"
   },
   {
    "duration": 13,
    "start_time": "2023-04-25T14:43:57.269Z"
   },
   {
    "duration": 26,
    "start_time": "2023-04-25T14:43:57.285Z"
   },
   {
    "duration": 41,
    "start_time": "2023-04-25T14:43:57.312Z"
   },
   {
    "duration": 18,
    "start_time": "2023-04-25T14:43:57.355Z"
   },
   {
    "duration": 7,
    "start_time": "2023-04-25T14:43:57.375Z"
   },
   {
    "duration": 21,
    "start_time": "2023-04-25T14:43:57.384Z"
   },
   {
    "duration": 21,
    "start_time": "2023-04-25T14:43:57.408Z"
   },
   {
    "duration": 15,
    "start_time": "2023-04-25T14:43:57.431Z"
   },
   {
    "duration": 16,
    "start_time": "2023-04-25T14:43:57.448Z"
   },
   {
    "duration": 12,
    "start_time": "2023-04-25T14:43:57.466Z"
   },
   {
    "duration": 14,
    "start_time": "2023-04-25T14:43:57.480Z"
   },
   {
    "duration": 50,
    "start_time": "2023-04-25T14:43:57.496Z"
   },
   {
    "duration": 8,
    "start_time": "2023-04-25T14:43:57.548Z"
   },
   {
    "duration": 399,
    "start_time": "2023-04-25T14:43:57.557Z"
   },
   {
    "duration": 198,
    "start_time": "2023-04-25T14:43:57.958Z"
   },
   {
    "duration": 133,
    "start_time": "2023-04-25T14:43:58.158Z"
   },
   {
    "duration": 11,
    "start_time": "2023-04-25T14:43:58.293Z"
   },
   {
    "duration": 134,
    "start_time": "2023-04-25T14:43:58.305Z"
   },
   {
    "duration": 9,
    "start_time": "2023-04-25T14:43:58.441Z"
   },
   {
    "duration": 45,
    "start_time": "2023-04-25T14:43:58.451Z"
   },
   {
    "duration": 226,
    "start_time": "2023-04-25T14:43:58.497Z"
   },
   {
    "duration": 35,
    "start_time": "2023-04-25T14:43:58.725Z"
   },
   {
    "duration": 9,
    "start_time": "2023-04-25T14:43:58.762Z"
   },
   {
    "duration": 7,
    "start_time": "2023-04-25T14:43:58.773Z"
   },
   {
    "duration": 55,
    "start_time": "2023-04-25T14:43:58.782Z"
   },
   {
    "duration": 120,
    "start_time": "2023-04-25T14:43:58.839Z"
   },
   {
    "duration": 8,
    "start_time": "2023-04-25T14:43:58.961Z"
   },
   {
    "duration": 127,
    "start_time": "2023-04-25T14:43:58.971Z"
   },
   {
    "duration": 20,
    "start_time": "2023-04-25T14:43:59.102Z"
   },
   {
    "duration": 127,
    "start_time": "2023-04-25T14:43:59.124Z"
   },
   {
    "duration": 9,
    "start_time": "2023-04-25T14:43:59.252Z"
   },
   {
    "duration": 123,
    "start_time": "2023-04-25T14:43:59.263Z"
   },
   {
    "duration": 8,
    "start_time": "2023-04-25T14:43:59.388Z"
   },
   {
    "duration": 20,
    "start_time": "2023-04-25T14:43:59.398Z"
   },
   {
    "duration": 8,
    "start_time": "2023-04-25T14:43:59.420Z"
   },
   {
    "duration": 7,
    "start_time": "2023-04-25T14:43:59.430Z"
   },
   {
    "duration": 14,
    "start_time": "2023-04-25T14:43:59.439Z"
   },
   {
    "duration": 16,
    "start_time": "2023-04-25T14:43:59.455Z"
   },
   {
    "duration": 30,
    "start_time": "2023-04-25T14:43:59.473Z"
   },
   {
    "duration": 22,
    "start_time": "2023-04-25T14:45:37.185Z"
   },
   {
    "duration": 19,
    "start_time": "2023-04-25T14:45:53.417Z"
   },
   {
    "duration": 18,
    "start_time": "2023-04-25T14:47:20.651Z"
   },
   {
    "duration": 20,
    "start_time": "2023-04-25T14:48:36.195Z"
   },
   {
    "duration": 23,
    "start_time": "2023-04-25T14:51:52.594Z"
   },
   {
    "duration": 18,
    "start_time": "2023-04-25T14:52:44.555Z"
   },
   {
    "duration": 52,
    "start_time": "2023-04-27T05:35:57.133Z"
   },
   {
    "duration": 893,
    "start_time": "2023-04-27T05:36:13.936Z"
   },
   {
    "duration": 348,
    "start_time": "2023-04-27T05:36:14.831Z"
   },
   {
    "duration": 13,
    "start_time": "2023-04-27T05:36:15.181Z"
   },
   {
    "duration": 26,
    "start_time": "2023-04-27T05:36:15.196Z"
   },
   {
    "duration": 40,
    "start_time": "2023-04-27T05:36:15.224Z"
   },
   {
    "duration": 25,
    "start_time": "2023-04-27T05:36:15.266Z"
   },
   {
    "duration": 22,
    "start_time": "2023-04-27T05:36:15.293Z"
   },
   {
    "duration": 7,
    "start_time": "2023-04-27T05:36:15.317Z"
   },
   {
    "duration": 31,
    "start_time": "2023-04-27T05:36:15.326Z"
   },
   {
    "duration": 8,
    "start_time": "2023-04-27T05:36:15.359Z"
   },
   {
    "duration": 8,
    "start_time": "2023-04-27T05:36:15.368Z"
   },
   {
    "duration": 5,
    "start_time": "2023-04-27T05:36:15.377Z"
   },
   {
    "duration": 7,
    "start_time": "2023-04-27T05:36:15.384Z"
   },
   {
    "duration": 21,
    "start_time": "2023-04-27T05:36:15.394Z"
   },
   {
    "duration": 61,
    "start_time": "2023-04-27T05:36:15.417Z"
   },
   {
    "duration": 23,
    "start_time": "2023-04-27T05:36:15.480Z"
   },
   {
    "duration": 10,
    "start_time": "2023-04-27T05:36:15.505Z"
   },
   {
    "duration": 5,
    "start_time": "2023-04-27T05:36:15.517Z"
   },
   {
    "duration": 9,
    "start_time": "2023-04-27T05:36:15.556Z"
   },
   {
    "duration": 8,
    "start_time": "2023-04-27T05:36:15.567Z"
   },
   {
    "duration": 7,
    "start_time": "2023-04-27T05:36:15.577Z"
   },
   {
    "duration": 8,
    "start_time": "2023-04-27T05:36:15.586Z"
   },
   {
    "duration": 30,
    "start_time": "2023-04-27T05:36:15.596Z"
   },
   {
    "duration": 46,
    "start_time": "2023-04-27T05:36:15.628Z"
   },
   {
    "duration": 7,
    "start_time": "2023-04-27T05:36:15.676Z"
   },
   {
    "duration": 560,
    "start_time": "2023-04-27T05:36:15.685Z"
   },
   {
    "duration": 190,
    "start_time": "2023-04-27T05:36:16.246Z"
   },
   {
    "duration": 118,
    "start_time": "2023-04-27T05:36:16.438Z"
   },
   {
    "duration": 10,
    "start_time": "2023-04-27T05:36:16.557Z"
   },
   {
    "duration": 126,
    "start_time": "2023-04-27T05:36:16.568Z"
   },
   {
    "duration": 8,
    "start_time": "2023-04-27T05:36:16.696Z"
   },
   {
    "duration": 12,
    "start_time": "2023-04-27T05:36:16.706Z"
   },
   {
    "duration": 168,
    "start_time": "2023-04-27T05:36:16.720Z"
   },
   {
    "duration": 29,
    "start_time": "2023-04-27T05:36:16.890Z"
   },
   {
    "duration": 8,
    "start_time": "2023-04-27T05:36:16.921Z"
   },
   {
    "duration": 28,
    "start_time": "2023-04-27T05:36:16.930Z"
   },
   {
    "duration": 29,
    "start_time": "2023-04-27T05:36:16.959Z"
   },
   {
    "duration": 100,
    "start_time": "2023-04-27T05:36:16.989Z"
   },
   {
    "duration": 8,
    "start_time": "2023-04-27T05:36:17.090Z"
   },
   {
    "duration": 112,
    "start_time": "2023-04-27T05:36:17.100Z"
   },
   {
    "duration": 8,
    "start_time": "2023-04-27T05:36:17.215Z"
   },
   {
    "duration": 112,
    "start_time": "2023-04-27T05:36:17.225Z"
   },
   {
    "duration": 19,
    "start_time": "2023-04-27T05:36:17.339Z"
   },
   {
    "duration": 110,
    "start_time": "2023-04-27T05:36:17.359Z"
   },
   {
    "duration": 7,
    "start_time": "2023-04-27T05:36:17.471Z"
   },
   {
    "duration": 3,
    "start_time": "2023-04-27T05:36:17.480Z"
   },
   {
    "duration": 8,
    "start_time": "2023-04-27T05:36:17.485Z"
   },
   {
    "duration": 13,
    "start_time": "2023-04-27T05:36:17.494Z"
   },
   {
    "duration": 6,
    "start_time": "2023-04-27T05:36:17.509Z"
   },
   {
    "duration": 40,
    "start_time": "2023-04-27T05:36:17.517Z"
   },
   {
    "duration": 84,
    "start_time": "2023-04-27T05:36:17.559Z"
   },
   {
    "duration": 18,
    "start_time": "2023-04-27T05:36:17.655Z"
   },
   {
    "duration": 18,
    "start_time": "2023-04-27T05:36:17.675Z"
   },
   {
    "duration": 18,
    "start_time": "2023-04-27T05:36:17.694Z"
   },
   {
    "duration": 127,
    "start_time": "2023-04-27T05:36:17.714Z"
   },
   {
    "duration": 6,
    "start_time": "2023-04-27T05:37:02.014Z"
   },
   {
    "duration": 6,
    "start_time": "2023-04-27T05:40:38.017Z"
   },
   {
    "duration": 6,
    "start_time": "2023-04-27T05:54:03.539Z"
   },
   {
    "duration": 5,
    "start_time": "2023-04-27T05:58:40.580Z"
   },
   {
    "duration": 6,
    "start_time": "2023-04-27T05:58:47.536Z"
   },
   {
    "duration": 5,
    "start_time": "2023-04-27T05:59:00.256Z"
   },
   {
    "duration": 5,
    "start_time": "2023-04-27T06:02:02.577Z"
   },
   {
    "duration": 5,
    "start_time": "2023-04-27T06:02:17.780Z"
   },
   {
    "duration": 6,
    "start_time": "2023-04-27T06:02:26.416Z"
   },
   {
    "duration": 6,
    "start_time": "2023-04-27T06:04:15.060Z"
   },
   {
    "duration": 6,
    "start_time": "2023-04-27T06:04:56.816Z"
   },
   {
    "duration": 435,
    "start_time": "2023-04-27T06:05:55.778Z"
   },
   {
    "duration": 176,
    "start_time": "2023-04-27T06:06:11.537Z"
   },
   {
    "duration": 6,
    "start_time": "2023-04-27T06:07:08.016Z"
   },
   {
    "duration": 4,
    "start_time": "2023-04-27T06:07:12.337Z"
   },
   {
    "duration": 5,
    "start_time": "2023-04-27T06:14:09.456Z"
   },
   {
    "duration": 5,
    "start_time": "2023-04-27T06:18:19.380Z"
   },
   {
    "duration": 4,
    "start_time": "2023-04-27T06:18:32.736Z"
   },
   {
    "duration": 5,
    "start_time": "2023-04-27T06:20:11.536Z"
   },
   {
    "duration": 6,
    "start_time": "2023-04-27T06:23:21.629Z"
   },
   {
    "duration": 81,
    "start_time": "2023-04-27T06:24:20.977Z"
   },
   {
    "duration": 75,
    "start_time": "2023-04-27T06:24:58.180Z"
   },
   {
    "duration": 5,
    "start_time": "2023-04-27T06:25:12.337Z"
   },
   {
    "duration": 9,
    "start_time": "2023-04-27T06:37:55.863Z"
   },
   {
    "duration": 3,
    "start_time": "2023-04-27T06:38:10.989Z"
   },
   {
    "duration": 166,
    "start_time": "2023-04-27T06:38:18.576Z"
   },
   {
    "duration": 3,
    "start_time": "2023-04-27T06:38:36.101Z"
   },
   {
    "duration": 1406,
    "start_time": "2023-04-27T06:38:41.858Z"
   },
   {
    "duration": 105,
    "start_time": "2023-04-27T06:38:54.985Z"
   },
   {
    "duration": 240,
    "start_time": "2023-04-27T06:41:56.897Z"
   },
   {
    "duration": 1573,
    "start_time": "2023-04-27T06:42:13.057Z"
   },
   {
    "duration": 327,
    "start_time": "2023-04-27T06:42:29.136Z"
   },
   {
    "duration": 1670,
    "start_time": "2023-04-27T06:43:01.538Z"
   },
   {
    "duration": 246,
    "start_time": "2023-04-27T06:44:18.660Z"
   },
   {
    "duration": 1605,
    "start_time": "2023-04-27T06:44:44.816Z"
   },
   {
    "duration": 1654,
    "start_time": "2023-04-27T06:45:23.697Z"
   },
   {
    "duration": 13934,
    "start_time": "2023-04-27T06:45:56.176Z"
   },
   {
    "duration": 12,
    "start_time": "2023-04-27T07:17:23.297Z"
   },
   {
    "duration": 4,
    "start_time": "2023-04-27T07:17:32.497Z"
   },
   {
    "duration": 12,
    "start_time": "2023-04-27T07:20:33.938Z"
   },
   {
    "duration": 5,
    "start_time": "2023-04-27T07:20:40.975Z"
   },
   {
    "duration": 12,
    "start_time": "2023-04-27T07:33:53.154Z"
   },
   {
    "duration": 14,
    "start_time": "2023-04-27T07:33:57.857Z"
   },
   {
    "duration": 3,
    "start_time": "2023-04-27T07:34:18.896Z"
   },
   {
    "duration": 1644,
    "start_time": "2023-04-27T07:34:25.689Z"
   },
   {
    "duration": 489,
    "start_time": "2023-04-27T07:47:22.658Z"
   },
   {
    "duration": 1403,
    "start_time": "2023-04-27T07:47:32.270Z"
   },
   {
    "duration": 75,
    "start_time": "2023-04-27T07:48:06.416Z"
   },
   {
    "duration": 1894,
    "start_time": "2023-04-27T07:48:14.180Z"
   },
   {
    "duration": 1807,
    "start_time": "2023-04-27T07:48:55.696Z"
   },
   {
    "duration": 1446,
    "start_time": "2023-04-27T07:49:09.937Z"
   },
   {
    "duration": 2020,
    "start_time": "2023-04-27T07:49:33.216Z"
   },
   {
    "duration": 1514,
    "start_time": "2023-04-27T07:51:29.696Z"
   },
   {
    "duration": 2033,
    "start_time": "2023-04-27T07:51:35.537Z"
   },
   {
    "duration": 1460,
    "start_time": "2023-04-27T07:51:51.296Z"
   },
   {
    "duration": 2122,
    "start_time": "2023-04-27T07:52:54.816Z"
   },
   {
    "duration": 1549,
    "start_time": "2023-04-27T07:53:06.249Z"
   },
   {
    "duration": 50,
    "start_time": "2023-04-27T07:53:20.921Z"
   },
   {
    "duration": 2552,
    "start_time": "2023-04-27T07:53:31.070Z"
   },
   {
    "duration": 85,
    "start_time": "2023-04-27T07:53:35.621Z"
   },
   {
    "duration": 73,
    "start_time": "2023-04-27T07:53:45.538Z"
   },
   {
    "duration": 86,
    "start_time": "2023-04-27T07:53:55.298Z"
   },
   {
    "duration": 54,
    "start_time": "2023-04-27T07:54:04.177Z"
   },
   {
    "duration": 48,
    "start_time": "2023-04-27T07:54:06.736Z"
   },
   {
    "duration": 1513,
    "start_time": "2023-04-27T07:55:21.849Z"
   },
   {
    "duration": 44,
    "start_time": "2023-04-27T07:55:28.258Z"
   },
   {
    "duration": 2104,
    "start_time": "2023-04-27T07:55:33.616Z"
   },
   {
    "duration": 68,
    "start_time": "2023-04-27T07:55:38.416Z"
   },
   {
    "duration": 7,
    "start_time": "2023-04-27T07:56:12.656Z"
   },
   {
    "duration": 8,
    "start_time": "2023-04-27T07:56:54.736Z"
   },
   {
    "duration": 7,
    "start_time": "2023-04-27T07:57:07.856Z"
   },
   {
    "duration": 6,
    "start_time": "2023-04-27T07:57:17.936Z"
   },
   {
    "duration": 6,
    "start_time": "2023-04-27T07:57:25.617Z"
   },
   {
    "duration": 6,
    "start_time": "2023-04-27T07:57:33.457Z"
   },
   {
    "duration": 7,
    "start_time": "2023-04-27T07:57:56.336Z"
   },
   {
    "duration": 1497,
    "start_time": "2023-04-27T08:01:47.376Z"
   },
   {
    "duration": 925,
    "start_time": "2023-04-27T08:01:54.257Z"
   },
   {
    "duration": 1306,
    "start_time": "2023-04-27T08:02:01.937Z"
   },
   {
    "duration": 1430,
    "start_time": "2023-04-27T08:02:06.896Z"
   },
   {
    "duration": 3,
    "start_time": "2023-04-27T08:04:35.216Z"
   },
   {
    "duration": 2436,
    "start_time": "2023-04-27T08:04:55.057Z"
   },
   {
    "duration": 1627,
    "start_time": "2023-04-27T08:05:26.257Z"
   },
   {
    "duration": 31,
    "start_time": "2023-04-27T08:05:32.977Z"
   },
   {
    "duration": 22,
    "start_time": "2023-04-27T08:06:38.577Z"
   },
   {
    "duration": 3,
    "start_time": "2023-04-27T08:07:48.180Z"
   },
   {
    "duration": 3,
    "start_time": "2023-04-27T08:08:00.897Z"
   },
   {
    "duration": 12,
    "start_time": "2023-04-27T08:08:26.497Z"
   },
   {
    "duration": 12,
    "start_time": "2023-04-27T08:08:44.337Z"
   },
   {
    "duration": 12,
    "start_time": "2023-04-27T08:08:51.936Z"
   },
   {
    "duration": 4,
    "start_time": "2023-04-27T08:09:15.136Z"
   },
   {
    "duration": 4,
    "start_time": "2023-04-27T08:09:43.696Z"
   },
   {
    "duration": 3134,
    "start_time": "2023-04-27T08:10:08.896Z"
   },
   {
    "duration": 2458,
    "start_time": "2023-04-27T08:10:21.938Z"
   },
   {
    "duration": 11,
    "start_time": "2023-04-27T08:10:44.896Z"
   },
   {
    "duration": 57,
    "start_time": "2023-04-27T08:11:17.297Z"
   },
   {
    "duration": 2320,
    "start_time": "2023-04-27T08:11:35.056Z"
   },
   {
    "duration": 1479,
    "start_time": "2023-04-27T08:16:35.940Z"
   },
   {
    "duration": 2191,
    "start_time": "2023-04-27T08:16:43.768Z"
   },
   {
    "duration": 1457,
    "start_time": "2023-04-27T08:17:47.936Z"
   },
   {
    "duration": 2114,
    "start_time": "2023-04-27T08:18:25.377Z"
   },
   {
    "duration": 43,
    "start_time": "2023-04-27T08:18:30.817Z"
   },
   {
    "duration": 38,
    "start_time": "2023-04-27T08:18:35.376Z"
   },
   {
    "duration": 345,
    "start_time": "2023-04-27T08:18:37.952Z"
   },
   {
    "duration": 1433,
    "start_time": "2023-04-27T08:18:41.856Z"
   },
   {
    "duration": 231,
    "start_time": "2023-04-27T08:18:50.256Z"
   },
   {
    "duration": 46,
    "start_time": "2023-04-27T08:18:55.936Z"
   },
   {
    "duration": 2417,
    "start_time": "2023-04-27T08:19:00.896Z"
   },
   {
    "duration": 5,
    "start_time": "2023-04-27T08:19:59.861Z"
   },
   {
    "duration": 52,
    "start_time": "2023-04-27T08:20:07.220Z"
   },
   {
    "duration": 1103,
    "start_time": "2023-04-27T08:20:28.416Z"
   },
   {
    "duration": 153,
    "start_time": "2023-04-27T08:20:29.522Z"
   },
   {
    "duration": 13,
    "start_time": "2023-04-27T08:20:29.677Z"
   },
   {
    "duration": 27,
    "start_time": "2023-04-27T08:20:29.692Z"
   },
   {
    "duration": 38,
    "start_time": "2023-04-27T08:20:29.722Z"
   },
   {
    "duration": 18,
    "start_time": "2023-04-27T08:20:29.762Z"
   },
   {
    "duration": 16,
    "start_time": "2023-04-27T08:20:29.782Z"
   },
   {
    "duration": 7,
    "start_time": "2023-04-27T08:20:29.800Z"
   },
   {
    "duration": 48,
    "start_time": "2023-04-27T08:20:29.810Z"
   },
   {
    "duration": 8,
    "start_time": "2023-04-27T08:20:29.859Z"
   },
   {
    "duration": 7,
    "start_time": "2023-04-27T08:20:29.869Z"
   },
   {
    "duration": 6,
    "start_time": "2023-04-27T08:20:29.878Z"
   },
   {
    "duration": 5,
    "start_time": "2023-04-27T08:20:29.886Z"
   },
   {
    "duration": 25,
    "start_time": "2023-04-27T08:20:29.894Z"
   },
   {
    "duration": 67,
    "start_time": "2023-04-27T08:20:29.921Z"
   },
   {
    "duration": 19,
    "start_time": "2023-04-27T08:20:29.990Z"
   },
   {
    "duration": 9,
    "start_time": "2023-04-27T08:20:30.011Z"
   },
   {
    "duration": 20,
    "start_time": "2023-04-27T08:20:30.021Z"
   },
   {
    "duration": 14,
    "start_time": "2023-04-27T08:20:30.043Z"
   },
   {
    "duration": 21,
    "start_time": "2023-04-27T08:20:30.058Z"
   },
   {
    "duration": 21,
    "start_time": "2023-04-27T08:20:30.081Z"
   },
   {
    "duration": 21,
    "start_time": "2023-04-27T08:20:30.104Z"
   },
   {
    "duration": 25,
    "start_time": "2023-04-27T08:20:30.127Z"
   },
   {
    "duration": 64,
    "start_time": "2023-04-27T08:20:30.154Z"
   },
   {
    "duration": 8,
    "start_time": "2023-04-27T08:20:30.220Z"
   },
   {
    "duration": 191,
    "start_time": "2023-04-27T08:20:30.230Z"
   },
   {
    "duration": 196,
    "start_time": "2023-04-27T08:20:30.422Z"
   },
   {
    "duration": 138,
    "start_time": "2023-04-27T08:20:30.620Z"
   },
   {
    "duration": 11,
    "start_time": "2023-04-27T08:20:30.761Z"
   },
   {
    "duration": 138,
    "start_time": "2023-04-27T08:20:30.774Z"
   },
   {
    "duration": 11,
    "start_time": "2023-04-27T08:20:30.914Z"
   },
   {
    "duration": 46,
    "start_time": "2023-04-27T08:20:30.927Z"
   },
   {
    "duration": 199,
    "start_time": "2023-04-27T08:20:30.974Z"
   },
   {
    "duration": 31,
    "start_time": "2023-04-27T08:20:31.175Z"
   },
   {
    "duration": 39,
    "start_time": "2023-04-27T08:20:31.208Z"
   },
   {
    "duration": 41,
    "start_time": "2023-04-27T08:20:31.249Z"
   },
   {
    "duration": 58,
    "start_time": "2023-04-27T08:20:31.292Z"
   },
   {
    "duration": 150,
    "start_time": "2023-04-27T08:20:31.352Z"
   },
   {
    "duration": 9,
    "start_time": "2023-04-27T08:20:31.503Z"
   },
   {
    "duration": 128,
    "start_time": "2023-04-27T08:20:31.514Z"
   },
   {
    "duration": 11,
    "start_time": "2023-04-27T08:20:31.655Z"
   },
   {
    "duration": 138,
    "start_time": "2023-04-27T08:20:31.668Z"
   },
   {
    "duration": 7,
    "start_time": "2023-04-27T08:20:31.808Z"
   },
   {
    "duration": 136,
    "start_time": "2023-04-27T08:20:31.817Z"
   },
   {
    "duration": 9,
    "start_time": "2023-04-27T08:20:31.955Z"
   },
   {
    "duration": 19,
    "start_time": "2023-04-27T08:20:31.966Z"
   },
   {
    "duration": 40,
    "start_time": "2023-04-27T08:20:31.986Z"
   },
   {
    "duration": 33,
    "start_time": "2023-04-27T08:20:32.028Z"
   },
   {
    "duration": 39,
    "start_time": "2023-04-27T08:20:32.063Z"
   },
   {
    "duration": 44,
    "start_time": "2023-04-27T08:20:32.103Z"
   },
   {
    "duration": 22,
    "start_time": "2023-04-27T08:20:32.149Z"
   },
   {
    "duration": 37,
    "start_time": "2023-04-27T08:20:32.172Z"
   },
   {
    "duration": 24,
    "start_time": "2023-04-27T08:20:32.212Z"
   },
   {
    "duration": 29,
    "start_time": "2023-04-27T08:20:32.238Z"
   },
   {
    "duration": 16,
    "start_time": "2023-04-27T08:20:32.269Z"
   },
   {
    "duration": 6,
    "start_time": "2023-04-27T08:20:32.287Z"
   },
   {
    "duration": 8,
    "start_time": "2023-04-27T08:20:32.296Z"
   },
   {
    "duration": 158,
    "start_time": "2023-04-27T08:20:32.306Z"
   },
   {
    "duration": 10,
    "start_time": "2023-04-27T10:03:29.828Z"
   },
   {
    "duration": 9,
    "start_time": "2023-04-27T10:03:54.307Z"
   },
   {
    "duration": 3,
    "start_time": "2023-04-27T10:04:16.083Z"
   },
   {
    "duration": 3,
    "start_time": "2023-04-27T10:04:17.746Z"
   },
   {
    "duration": 10,
    "start_time": "2023-04-27T10:04:22.070Z"
   },
   {
    "duration": 6,
    "start_time": "2023-04-27T10:04:26.627Z"
   },
   {
    "duration": 5,
    "start_time": "2023-04-27T10:05:38.387Z"
   },
   {
    "duration": 5,
    "start_time": "2023-04-27T10:05:43.747Z"
   },
   {
    "duration": 67,
    "start_time": "2023-04-27T10:31:33.508Z"
   },
   {
    "duration": 1777,
    "start_time": "2023-04-27T10:31:43.277Z"
   },
   {
    "duration": 4,
    "start_time": "2023-04-27T10:32:57.427Z"
   },
   {
    "duration": 6,
    "start_time": "2023-04-27T10:33:57.102Z"
   },
   {
    "duration": 6,
    "start_time": "2023-04-27T10:34:05.426Z"
   },
   {
    "duration": 5,
    "start_time": "2023-04-27T10:34:11.827Z"
   },
   {
    "duration": 6,
    "start_time": "2023-04-27T10:34:20.378Z"
   },
   {
    "duration": 5,
    "start_time": "2023-04-27T10:34:27.747Z"
   },
   {
    "duration": 5,
    "start_time": "2023-04-27T10:34:33.904Z"
   },
   {
    "duration": 6,
    "start_time": "2023-04-27T10:34:38.547Z"
   },
   {
    "duration": 5,
    "start_time": "2023-04-27T10:34:43.502Z"
   },
   {
    "duration": 5,
    "start_time": "2023-04-27T10:34:50.708Z"
   },
   {
    "duration": 5,
    "start_time": "2023-04-27T10:34:55.115Z"
   },
   {
    "duration": 5,
    "start_time": "2023-04-27T10:35:09.603Z"
   },
   {
    "duration": 5,
    "start_time": "2023-04-27T10:35:15.502Z"
   },
   {
    "duration": 7,
    "start_time": "2023-04-27T10:35:19.579Z"
   },
   {
    "duration": 10,
    "start_time": "2023-04-27T10:53:27.074Z"
   },
   {
    "duration": 4,
    "start_time": "2023-04-27T10:53:35.475Z"
   },
   {
    "duration": 7,
    "start_time": "2023-04-27T11:53:24.634Z"
   },
   {
    "duration": 5,
    "start_time": "2023-04-27T11:53:43.541Z"
   },
   {
    "duration": 6,
    "start_time": "2023-04-27T11:53:49.606Z"
   },
   {
    "duration": 7,
    "start_time": "2023-04-27T11:58:19.071Z"
   },
   {
    "duration": 5,
    "start_time": "2023-04-27T11:59:48.644Z"
   },
   {
    "duration": 165,
    "start_time": "2023-04-27T11:59:57.852Z"
   },
   {
    "duration": 10,
    "start_time": "2023-04-27T12:00:25.048Z"
   },
   {
    "duration": 10,
    "start_time": "2023-04-27T12:02:55.830Z"
   },
   {
    "duration": 5,
    "start_time": "2023-04-27T12:03:01.463Z"
   },
   {
    "duration": 11,
    "start_time": "2023-04-27T12:07:40.622Z"
   },
   {
    "duration": 7,
    "start_time": "2023-04-27T12:07:52.814Z"
   },
   {
    "duration": 7,
    "start_time": "2023-04-27T12:08:00.819Z"
   },
   {
    "duration": 6,
    "start_time": "2023-04-27T12:08:03.639Z"
   },
   {
    "duration": 6,
    "start_time": "2023-04-27T12:08:34.238Z"
   },
   {
    "duration": 6,
    "start_time": "2023-04-27T12:08:45.183Z"
   },
   {
    "duration": 7,
    "start_time": "2023-04-27T12:08:48.906Z"
   },
   {
    "duration": 6,
    "start_time": "2023-04-27T12:08:52.798Z"
   },
   {
    "duration": 8,
    "start_time": "2023-04-27T12:08:55.757Z"
   },
   {
    "duration": 8,
    "start_time": "2023-04-27T12:09:00.108Z"
   },
   {
    "duration": 8,
    "start_time": "2023-04-27T12:09:03.575Z"
   },
   {
    "duration": 7,
    "start_time": "2023-04-27T12:09:07.429Z"
   },
   {
    "duration": 6,
    "start_time": "2023-04-27T12:09:10.831Z"
   },
   {
    "duration": 7,
    "start_time": "2023-04-27T12:09:16.737Z"
   },
   {
    "duration": 6,
    "start_time": "2023-04-27T12:09:18.949Z"
   },
   {
    "duration": 6,
    "start_time": "2023-04-27T12:09:21.736Z"
   },
   {
    "duration": 68,
    "start_time": "2023-04-27T12:09:46.875Z"
   },
   {
    "duration": 7,
    "start_time": "2023-04-27T12:09:50.148Z"
   },
   {
    "duration": 1059,
    "start_time": "2023-04-27T12:10:51.008Z"
   },
   {
    "duration": 171,
    "start_time": "2023-04-27T12:10:52.069Z"
   },
   {
    "duration": 14,
    "start_time": "2023-04-27T12:10:52.242Z"
   },
   {
    "duration": 28,
    "start_time": "2023-04-27T12:10:52.259Z"
   },
   {
    "duration": 11,
    "start_time": "2023-04-27T12:10:52.288Z"
   },
   {
    "duration": 40,
    "start_time": "2023-04-27T12:10:52.301Z"
   },
   {
    "duration": 24,
    "start_time": "2023-04-27T12:10:52.343Z"
   },
   {
    "duration": 12,
    "start_time": "2023-04-27T12:10:52.369Z"
   },
   {
    "duration": 21,
    "start_time": "2023-04-27T12:10:52.382Z"
   },
   {
    "duration": 11,
    "start_time": "2023-04-27T12:10:52.406Z"
   },
   {
    "duration": 13,
    "start_time": "2023-04-27T12:10:52.419Z"
   },
   {
    "duration": 6,
    "start_time": "2023-04-27T12:10:52.434Z"
   },
   {
    "duration": 25,
    "start_time": "2023-04-27T12:10:52.441Z"
   },
   {
    "duration": 33,
    "start_time": "2023-04-27T12:10:52.468Z"
   },
   {
    "duration": 49,
    "start_time": "2023-04-27T12:10:52.503Z"
   },
   {
    "duration": 26,
    "start_time": "2023-04-27T12:10:52.554Z"
   },
   {
    "duration": 13,
    "start_time": "2023-04-27T12:10:52.582Z"
   },
   {
    "duration": 16,
    "start_time": "2023-04-27T12:10:52.597Z"
   },
   {
    "duration": 16,
    "start_time": "2023-04-27T12:10:52.615Z"
   },
   {
    "duration": 6,
    "start_time": "2023-04-27T12:10:52.634Z"
   },
   {
    "duration": 14,
    "start_time": "2023-04-27T12:10:52.642Z"
   },
   {
    "duration": 39,
    "start_time": "2023-04-27T12:10:52.657Z"
   },
   {
    "duration": 15,
    "start_time": "2023-04-27T12:10:52.698Z"
   },
   {
    "duration": 30,
    "start_time": "2023-04-27T12:10:52.714Z"
   },
   {
    "duration": 7,
    "start_time": "2023-04-27T12:10:52.745Z"
   },
   {
    "duration": 122,
    "start_time": "2023-04-27T12:10:52.754Z"
   },
   {
    "duration": 183,
    "start_time": "2023-04-27T12:10:52.878Z"
   },
   {
    "duration": 134,
    "start_time": "2023-04-27T12:10:53.067Z"
   },
   {
    "duration": 8,
    "start_time": "2023-04-27T12:10:53.203Z"
   },
   {
    "duration": 112,
    "start_time": "2023-04-27T12:10:53.213Z"
   },
   {
    "duration": 9,
    "start_time": "2023-04-27T12:10:53.327Z"
   },
   {
    "duration": 22,
    "start_time": "2023-04-27T12:10:53.337Z"
   },
   {
    "duration": 181,
    "start_time": "2023-04-27T12:10:53.360Z"
   },
   {
    "duration": 40,
    "start_time": "2023-04-27T12:10:53.542Z"
   },
   {
    "duration": 9,
    "start_time": "2023-04-27T12:10:53.584Z"
   },
   {
    "duration": 7,
    "start_time": "2023-04-27T12:10:53.595Z"
   },
   {
    "duration": 29,
    "start_time": "2023-04-27T12:10:53.604Z"
   },
   {
    "duration": 122,
    "start_time": "2023-04-27T12:10:53.635Z"
   },
   {
    "duration": 9,
    "start_time": "2023-04-27T12:10:53.759Z"
   },
   {
    "duration": 144,
    "start_time": "2023-04-27T12:10:53.771Z"
   },
   {
    "duration": 10,
    "start_time": "2023-04-27T12:10:53.917Z"
   },
   {
    "duration": 161,
    "start_time": "2023-04-27T12:10:53.930Z"
   },
   {
    "duration": 14,
    "start_time": "2023-04-27T12:10:54.095Z"
   },
   {
    "duration": 130,
    "start_time": "2023-04-27T12:10:54.111Z"
   },
   {
    "duration": 15,
    "start_time": "2023-04-27T12:10:54.242Z"
   },
   {
    "duration": 4,
    "start_time": "2023-04-27T12:10:54.259Z"
   },
   {
    "duration": 6,
    "start_time": "2023-04-27T12:10:54.264Z"
   },
   {
    "duration": 7,
    "start_time": "2023-04-27T12:10:54.272Z"
   },
   {
    "duration": 6,
    "start_time": "2023-04-27T12:10:54.281Z"
   },
   {
    "duration": 27,
    "start_time": "2023-04-27T12:10:54.288Z"
   },
   {
    "duration": 49,
    "start_time": "2023-04-27T12:10:54.317Z"
   },
   {
    "duration": 19,
    "start_time": "2023-04-27T12:10:54.367Z"
   },
   {
    "duration": 18,
    "start_time": "2023-04-27T12:10:54.388Z"
   },
   {
    "duration": 19,
    "start_time": "2023-04-27T12:10:54.408Z"
   },
   {
    "duration": 7,
    "start_time": "2023-04-27T12:10:54.456Z"
   },
   {
    "duration": 6,
    "start_time": "2023-04-27T12:10:54.465Z"
   },
   {
    "duration": 8,
    "start_time": "2023-04-27T12:10:54.473Z"
   },
   {
    "duration": 6,
    "start_time": "2023-04-27T12:10:54.483Z"
   },
   {
    "duration": 8,
    "start_time": "2023-04-27T12:10:54.490Z"
   },
   {
    "duration": 1021,
    "start_time": "2023-04-28T06:11:29.507Z"
   },
   {
    "duration": 144,
    "start_time": "2023-04-28T06:11:30.530Z"
   },
   {
    "duration": 12,
    "start_time": "2023-04-28T06:11:30.675Z"
   },
   {
    "duration": 57,
    "start_time": "2023-04-28T06:11:30.690Z"
   },
   {
    "duration": 24,
    "start_time": "2023-04-28T06:11:30.749Z"
   },
   {
    "duration": 53,
    "start_time": "2023-04-28T06:11:30.775Z"
   },
   {
    "duration": 46,
    "start_time": "2023-04-28T06:11:30.830Z"
   },
   {
    "duration": 17,
    "start_time": "2023-04-28T06:11:30.877Z"
   },
   {
    "duration": 29,
    "start_time": "2023-04-28T06:11:30.896Z"
   },
   {
    "duration": 38,
    "start_time": "2023-04-28T06:11:30.928Z"
   },
   {
    "duration": 30,
    "start_time": "2023-04-28T06:11:30.967Z"
   },
   {
    "duration": 21,
    "start_time": "2023-04-28T06:11:30.999Z"
   },
   {
    "duration": 28,
    "start_time": "2023-04-28T06:11:31.022Z"
   },
   {
    "duration": 28,
    "start_time": "2023-04-28T06:11:31.053Z"
   },
   {
    "duration": 33,
    "start_time": "2023-04-28T06:11:31.083Z"
   },
   {
    "duration": 21,
    "start_time": "2023-04-28T06:11:31.118Z"
   },
   {
    "duration": 40,
    "start_time": "2023-04-28T06:11:31.141Z"
   },
   {
    "duration": 25,
    "start_time": "2023-04-28T06:11:31.183Z"
   },
   {
    "duration": 25,
    "start_time": "2023-04-28T06:11:31.210Z"
   },
   {
    "duration": 21,
    "start_time": "2023-04-28T06:11:31.237Z"
   },
   {
    "duration": 18,
    "start_time": "2023-04-28T06:11:31.260Z"
   },
   {
    "duration": 17,
    "start_time": "2023-04-28T06:11:31.280Z"
   },
   {
    "duration": 43,
    "start_time": "2023-04-28T06:11:31.299Z"
   },
   {
    "duration": 48,
    "start_time": "2023-04-28T06:11:31.343Z"
   },
   {
    "duration": 6,
    "start_time": "2023-04-28T06:11:31.393Z"
   },
   {
    "duration": 139,
    "start_time": "2023-04-28T06:11:31.400Z"
   },
   {
    "duration": 176,
    "start_time": "2023-04-28T06:11:31.541Z"
   },
   {
    "duration": 110,
    "start_time": "2023-04-28T06:11:31.720Z"
   },
   {
    "duration": 8,
    "start_time": "2023-04-28T06:11:31.832Z"
   },
   {
    "duration": 105,
    "start_time": "2023-04-28T06:11:31.841Z"
   },
   {
    "duration": 8,
    "start_time": "2023-04-28T06:11:31.948Z"
   },
   {
    "duration": 34,
    "start_time": "2023-04-28T06:11:31.957Z"
   },
   {
    "duration": 159,
    "start_time": "2023-04-28T06:11:31.992Z"
   },
   {
    "duration": 38,
    "start_time": "2023-04-28T06:11:32.152Z"
   },
   {
    "duration": 8,
    "start_time": "2023-04-28T06:11:32.192Z"
   },
   {
    "duration": 20,
    "start_time": "2023-04-28T06:11:32.201Z"
   },
   {
    "duration": 42,
    "start_time": "2023-04-28T06:11:32.223Z"
   },
   {
    "duration": 98,
    "start_time": "2023-04-28T06:11:32.267Z"
   },
   {
    "duration": 20,
    "start_time": "2023-04-28T06:11:32.367Z"
   },
   {
    "duration": 105,
    "start_time": "2023-04-28T06:11:32.389Z"
   },
   {
    "duration": 8,
    "start_time": "2023-04-28T06:11:32.497Z"
   },
   {
    "duration": 113,
    "start_time": "2023-04-28T06:11:32.507Z"
   },
   {
    "duration": 9,
    "start_time": "2023-04-28T06:11:32.622Z"
   },
   {
    "duration": 116,
    "start_time": "2023-04-28T06:11:32.632Z"
   },
   {
    "duration": 8,
    "start_time": "2023-04-28T06:11:32.749Z"
   },
   {
    "duration": 20,
    "start_time": "2023-04-28T06:11:32.758Z"
   },
   {
    "duration": 21,
    "start_time": "2023-04-28T06:11:32.779Z"
   },
   {
    "duration": 17,
    "start_time": "2023-04-28T06:11:32.802Z"
   },
   {
    "duration": 14,
    "start_time": "2023-04-28T06:11:32.820Z"
   },
   {
    "duration": 27,
    "start_time": "2023-04-28T06:11:32.835Z"
   },
   {
    "duration": 20,
    "start_time": "2023-04-28T06:11:32.863Z"
   },
   {
    "duration": 16,
    "start_time": "2023-04-28T06:11:32.884Z"
   },
   {
    "duration": 15,
    "start_time": "2023-04-28T06:11:32.901Z"
   },
   {
    "duration": 15,
    "start_time": "2023-04-28T06:11:32.918Z"
   },
   {
    "duration": 5,
    "start_time": "2023-04-28T06:11:32.935Z"
   },
   {
    "duration": 5,
    "start_time": "2023-04-28T06:11:32.941Z"
   },
   {
    "duration": 38,
    "start_time": "2023-04-28T06:11:32.947Z"
   },
   {
    "duration": 9,
    "start_time": "2023-04-28T06:11:32.987Z"
   },
   {
    "duration": 19,
    "start_time": "2023-04-28T06:11:32.997Z"
   },
   {
    "duration": 97,
    "start_time": "2023-04-28T06:18:02.122Z"
   },
   {
    "duration": 3,
    "start_time": "2023-04-28T06:26:38.051Z"
   },
   {
    "duration": 80,
    "start_time": "2023-04-28T06:30:52.159Z"
   },
   {
    "duration": 4,
    "start_time": "2023-04-28T06:34:24.186Z"
   },
   {
    "duration": 4,
    "start_time": "2023-04-28T06:35:05.848Z"
   },
   {
    "duration": 61,
    "start_time": "2023-04-30T08:20:45.573Z"
   },
   {
    "duration": 1286,
    "start_time": "2023-04-30T08:20:49.855Z"
   },
   {
    "duration": 405,
    "start_time": "2023-04-30T08:20:51.144Z"
   },
   {
    "duration": 11,
    "start_time": "2023-04-30T08:20:51.551Z"
   },
   {
    "duration": 76,
    "start_time": "2023-04-30T08:20:51.565Z"
   },
   {
    "duration": 10,
    "start_time": "2023-04-30T08:20:51.643Z"
   },
   {
    "duration": 17,
    "start_time": "2023-04-30T08:20:51.655Z"
   },
   {
    "duration": 27,
    "start_time": "2023-04-30T08:20:51.674Z"
   },
   {
    "duration": 10,
    "start_time": "2023-04-30T08:20:51.702Z"
   },
   {
    "duration": 16,
    "start_time": "2023-04-30T08:20:51.716Z"
   },
   {
    "duration": 14,
    "start_time": "2023-04-30T08:20:51.736Z"
   },
   {
    "duration": 16,
    "start_time": "2023-04-30T08:20:51.752Z"
   },
   {
    "duration": 18,
    "start_time": "2023-04-30T08:20:51.770Z"
   },
   {
    "duration": 15,
    "start_time": "2023-04-30T08:20:51.790Z"
   },
   {
    "duration": 20,
    "start_time": "2023-04-30T08:20:51.807Z"
   },
   {
    "duration": 21,
    "start_time": "2023-04-30T08:20:51.829Z"
   },
   {
    "duration": 38,
    "start_time": "2023-04-30T08:20:51.852Z"
   },
   {
    "duration": 11,
    "start_time": "2023-04-30T08:20:51.893Z"
   },
   {
    "duration": 4,
    "start_time": "2023-04-30T08:20:51.909Z"
   },
   {
    "duration": 10,
    "start_time": "2023-04-30T08:20:51.915Z"
   },
   {
    "duration": 7,
    "start_time": "2023-04-30T08:20:51.927Z"
   },
   {
    "duration": 14,
    "start_time": "2023-04-30T08:20:51.935Z"
   },
   {
    "duration": 7,
    "start_time": "2023-04-30T08:20:51.950Z"
   },
   {
    "duration": 13,
    "start_time": "2023-04-30T08:20:51.985Z"
   },
   {
    "duration": 29,
    "start_time": "2023-04-30T08:20:52.000Z"
   },
   {
    "duration": 6,
    "start_time": "2023-04-30T08:20:52.031Z"
   },
   {
    "duration": 156,
    "start_time": "2023-04-30T08:20:52.039Z"
   },
   {
    "duration": 204,
    "start_time": "2023-04-30T08:20:52.197Z"
   },
   {
    "duration": 148,
    "start_time": "2023-04-30T08:20:52.411Z"
   },
   {
    "duration": 10,
    "start_time": "2023-04-30T08:20:52.561Z"
   },
   {
    "duration": 143,
    "start_time": "2023-04-30T08:20:52.573Z"
   },
   {
    "duration": 10,
    "start_time": "2023-04-30T08:20:52.718Z"
   },
   {
    "duration": 10,
    "start_time": "2023-04-30T08:20:52.730Z"
   },
   {
    "duration": 214,
    "start_time": "2023-04-30T08:20:52.742Z"
   },
   {
    "duration": 49,
    "start_time": "2023-04-30T08:20:52.958Z"
   },
   {
    "duration": 11,
    "start_time": "2023-04-30T08:20:53.008Z"
   },
   {
    "duration": 9,
    "start_time": "2023-04-30T08:20:53.021Z"
   },
   {
    "duration": 32,
    "start_time": "2023-04-30T08:20:53.032Z"
   },
   {
    "duration": 129,
    "start_time": "2023-04-30T08:20:53.088Z"
   },
   {
    "duration": 9,
    "start_time": "2023-04-30T08:20:53.220Z"
   },
   {
    "duration": 150,
    "start_time": "2023-04-30T08:20:53.231Z"
   },
   {
    "duration": 22,
    "start_time": "2023-04-30T08:20:53.387Z"
   },
   {
    "duration": 134,
    "start_time": "2023-04-30T08:20:53.411Z"
   },
   {
    "duration": 10,
    "start_time": "2023-04-30T08:20:53.546Z"
   },
   {
    "duration": 147,
    "start_time": "2023-04-30T08:20:53.558Z"
   },
   {
    "duration": 9,
    "start_time": "2023-04-30T08:20:53.709Z"
   },
   {
    "duration": 11,
    "start_time": "2023-04-30T08:20:53.720Z"
   },
   {
    "duration": 14,
    "start_time": "2023-04-30T08:20:53.733Z"
   },
   {
    "duration": 15,
    "start_time": "2023-04-30T08:20:53.749Z"
   },
   {
    "duration": 9,
    "start_time": "2023-04-30T08:20:53.766Z"
   },
   {
    "duration": 26,
    "start_time": "2023-04-30T08:20:53.777Z"
   },
   {
    "duration": 27,
    "start_time": "2023-04-30T08:20:53.805Z"
   },
   {
    "duration": 17,
    "start_time": "2023-04-30T08:20:53.834Z"
   },
   {
    "duration": 39,
    "start_time": "2023-04-30T08:20:53.853Z"
   },
   {
    "duration": 18,
    "start_time": "2023-04-30T08:20:53.898Z"
   },
   {
    "duration": 6,
    "start_time": "2023-04-30T08:20:53.918Z"
   },
   {
    "duration": 6,
    "start_time": "2023-04-30T08:20:53.925Z"
   },
   {
    "duration": 12,
    "start_time": "2023-04-30T08:20:53.933Z"
   },
   {
    "duration": 7,
    "start_time": "2023-04-30T08:20:53.947Z"
   },
   {
    "duration": 6,
    "start_time": "2023-04-30T08:20:53.956Z"
   },
   {
    "duration": 7,
    "start_time": "2023-04-30T08:20:53.985Z"
   },
   {
    "duration": 5,
    "start_time": "2023-04-30T08:21:08.877Z"
   },
   {
    "duration": 5,
    "start_time": "2023-04-30T08:21:29.302Z"
   },
   {
    "duration": 8,
    "start_time": "2023-04-30T08:24:48.312Z"
   },
   {
    "duration": 7,
    "start_time": "2023-04-30T08:25:05.214Z"
   },
   {
    "duration": 1308,
    "start_time": "2023-04-30T08:25:15.699Z"
   },
   {
    "duration": 1315,
    "start_time": "2023-04-30T08:25:24.341Z"
   },
   {
    "duration": 11,
    "start_time": "2023-04-30T08:25:39.059Z"
   },
   {
    "duration": 4,
    "start_time": "2023-04-30T08:25:56.047Z"
   },
   {
    "duration": 6,
    "start_time": "2023-04-30T08:27:41.454Z"
   },
   {
    "duration": 4,
    "start_time": "2023-04-30T08:27:56.714Z"
   },
   {
    "duration": 115,
    "start_time": "2023-04-30T08:30:21.534Z"
   },
   {
    "duration": 250,
    "start_time": "2023-04-30T08:30:29.121Z"
   },
   {
    "duration": 4,
    "start_time": "2023-04-30T08:30:45.330Z"
   },
   {
    "duration": 117,
    "start_time": "2023-04-30T08:31:07.620Z"
   },
   {
    "duration": 114,
    "start_time": "2023-04-30T08:32:03.318Z"
   },
   {
    "duration": 122,
    "start_time": "2023-04-30T08:32:26.610Z"
   },
   {
    "duration": 5,
    "start_time": "2023-04-30T08:33:20.739Z"
   },
   {
    "duration": 5,
    "start_time": "2023-04-30T08:33:28.421Z"
   },
   {
    "duration": 9,
    "start_time": "2023-04-30T08:34:49.822Z"
   },
   {
    "duration": 179,
    "start_time": "2023-04-30T08:36:40.413Z"
   },
   {
    "duration": 113,
    "start_time": "2023-04-30T08:37:09.518Z"
   },
   {
    "duration": 104,
    "start_time": "2023-04-30T08:37:50.261Z"
   },
   {
    "duration": 9,
    "start_time": "2023-04-30T08:38:35.401Z"
   },
   {
    "duration": 7,
    "start_time": "2023-04-30T08:38:48.025Z"
   },
   {
    "duration": 202,
    "start_time": "2023-04-30T08:44:26.948Z"
   },
   {
    "duration": 190,
    "start_time": "2023-04-30T08:44:47.351Z"
   },
   {
    "duration": 15,
    "start_time": "2023-04-30T08:47:11.745Z"
   },
   {
    "duration": 26,
    "start_time": "2023-04-30T08:47:19.656Z"
   },
   {
    "duration": 33,
    "start_time": "2023-04-30T08:47:22.458Z"
   },
   {
    "duration": 6,
    "start_time": "2023-04-30T08:51:19.029Z"
   },
   {
    "duration": 7,
    "start_time": "2023-04-30T08:54:56.665Z"
   },
   {
    "duration": 9,
    "start_time": "2023-04-30T08:55:05.622Z"
   },
   {
    "duration": 8,
    "start_time": "2023-04-30T08:55:19.414Z"
   },
   {
    "duration": 6,
    "start_time": "2023-04-30T08:58:39.744Z"
   },
   {
    "duration": 6,
    "start_time": "2023-04-30T08:58:43.857Z"
   },
   {
    "duration": 5,
    "start_time": "2023-04-30T08:58:56.243Z"
   },
   {
    "duration": 90,
    "start_time": "2023-04-30T09:02:36.550Z"
   },
   {
    "duration": 17,
    "start_time": "2023-04-30T09:17:02.009Z"
   },
   {
    "duration": 16,
    "start_time": "2023-04-30T09:17:05.111Z"
   },
   {
    "duration": 6,
    "start_time": "2023-04-30T09:17:50.159Z"
   },
   {
    "duration": 248,
    "start_time": "2023-04-30T09:18:01.429Z"
   },
   {
    "duration": 16,
    "start_time": "2023-04-30T09:20:33.041Z"
   },
   {
    "duration": 243,
    "start_time": "2023-04-30T09:21:34.316Z"
   },
   {
    "duration": 1733,
    "start_time": "2023-05-01T06:49:47.327Z"
   },
   {
    "duration": 569,
    "start_time": "2023-05-01T06:49:49.064Z"
   },
   {
    "duration": 22,
    "start_time": "2023-05-01T06:49:49.639Z"
   },
   {
    "duration": 46,
    "start_time": "2023-05-01T06:49:49.663Z"
   },
   {
    "duration": 13,
    "start_time": "2023-05-01T06:49:49.712Z"
   },
   {
    "duration": 30,
    "start_time": "2023-05-01T06:49:49.727Z"
   },
   {
    "duration": 17,
    "start_time": "2023-05-01T06:49:49.759Z"
   },
   {
    "duration": 6,
    "start_time": "2023-05-01T06:49:49.779Z"
   },
   {
    "duration": 18,
    "start_time": "2023-05-01T06:49:49.787Z"
   },
   {
    "duration": 27,
    "start_time": "2023-05-01T06:49:49.807Z"
   },
   {
    "duration": 16,
    "start_time": "2023-05-01T06:49:49.836Z"
   },
   {
    "duration": 14,
    "start_time": "2023-05-01T06:49:49.854Z"
   },
   {
    "duration": 5,
    "start_time": "2023-05-01T06:49:49.871Z"
   },
   {
    "duration": 6,
    "start_time": "2023-05-01T06:49:49.879Z"
   },
   {
    "duration": 26,
    "start_time": "2023-05-01T06:49:49.888Z"
   },
   {
    "duration": 43,
    "start_time": "2023-05-01T06:49:49.922Z"
   },
   {
    "duration": 24,
    "start_time": "2023-05-01T06:49:49.966Z"
   },
   {
    "duration": 47,
    "start_time": "2023-05-01T06:49:50.000Z"
   },
   {
    "duration": 5,
    "start_time": "2023-05-01T06:49:50.052Z"
   },
   {
    "duration": 22,
    "start_time": "2023-05-01T06:49:50.059Z"
   },
   {
    "duration": 44,
    "start_time": "2023-05-01T06:49:50.083Z"
   },
   {
    "duration": 9,
    "start_time": "2023-05-01T06:49:50.129Z"
   },
   {
    "duration": 10,
    "start_time": "2023-05-01T06:49:50.141Z"
   },
   {
    "duration": 8,
    "start_time": "2023-05-01T06:49:50.157Z"
   },
   {
    "duration": 46,
    "start_time": "2023-05-01T06:49:50.167Z"
   },
   {
    "duration": 9,
    "start_time": "2023-05-01T06:49:50.216Z"
   },
   {
    "duration": 19,
    "start_time": "2023-05-01T06:49:50.231Z"
   },
   {
    "duration": 167,
    "start_time": "2023-05-01T06:49:50.252Z"
   },
   {
    "duration": 10,
    "start_time": "2023-05-01T06:49:50.421Z"
   },
   {
    "duration": 14,
    "start_time": "2023-05-01T06:49:50.433Z"
   },
   {
    "duration": 227,
    "start_time": "2023-05-01T06:49:50.457Z"
   },
   {
    "duration": 223,
    "start_time": "2023-05-01T06:49:50.698Z"
   },
   {
    "duration": 15,
    "start_time": "2023-05-01T06:49:50.923Z"
   },
   {
    "duration": 133,
    "start_time": "2023-05-01T06:49:50.940Z"
   },
   {
    "duration": 31,
    "start_time": "2023-05-01T06:49:51.076Z"
   },
   {
    "duration": 155,
    "start_time": "2023-05-01T06:49:51.113Z"
   },
   {
    "duration": 11,
    "start_time": "2023-05-01T06:49:51.270Z"
   },
   {
    "duration": 20,
    "start_time": "2023-05-01T06:49:51.285Z"
   },
   {
    "duration": 230,
    "start_time": "2023-05-01T06:49:51.307Z"
   },
   {
    "duration": 272,
    "start_time": "2023-05-01T06:49:51.540Z"
   },
   {
    "duration": 40,
    "start_time": "2023-05-01T06:49:51.817Z"
   },
   {
    "duration": 40,
    "start_time": "2023-05-01T06:49:51.859Z"
   },
   {
    "duration": 22,
    "start_time": "2023-05-01T06:49:51.908Z"
   },
   {
    "duration": 16,
    "start_time": "2023-05-01T06:49:51.946Z"
   },
   {
    "duration": 63,
    "start_time": "2023-05-01T06:49:51.964Z"
   },
   {
    "duration": 175,
    "start_time": "2023-05-01T06:49:52.035Z"
   },
   {
    "duration": 29,
    "start_time": "2023-05-01T06:49:52.219Z"
   },
   {
    "duration": 165,
    "start_time": "2023-05-01T06:49:52.250Z"
   },
   {
    "duration": 9,
    "start_time": "2023-05-01T06:49:52.421Z"
   },
   {
    "duration": 148,
    "start_time": "2023-05-01T06:49:52.433Z"
   },
   {
    "duration": 9,
    "start_time": "2023-05-01T06:49:52.584Z"
   },
   {
    "duration": 247,
    "start_time": "2023-05-01T06:49:52.594Z"
   },
   {
    "duration": 10,
    "start_time": "2023-05-01T06:49:52.843Z"
   },
   {
    "duration": 9,
    "start_time": "2023-05-01T06:49:52.855Z"
   },
   {
    "duration": 8,
    "start_time": "2023-05-01T06:49:52.866Z"
   },
   {
    "duration": 19,
    "start_time": "2023-05-01T06:49:52.875Z"
   },
   {
    "duration": 28,
    "start_time": "2023-05-01T06:49:52.896Z"
   },
   {
    "duration": 30,
    "start_time": "2023-05-01T06:49:52.925Z"
   },
   {
    "duration": 21,
    "start_time": "2023-05-01T06:49:52.957Z"
   },
   {
    "duration": 57,
    "start_time": "2023-05-01T06:49:52.980Z"
   },
   {
    "duration": 24,
    "start_time": "2023-05-01T06:49:53.040Z"
   },
   {
    "duration": 20,
    "start_time": "2023-05-01T06:49:53.066Z"
   },
   {
    "duration": 5,
    "start_time": "2023-05-01T06:49:53.089Z"
   },
   {
    "duration": 18,
    "start_time": "2023-05-01T06:49:53.095Z"
   },
   {
    "duration": 14,
    "start_time": "2023-05-01T06:49:53.116Z"
   },
   {
    "duration": 13,
    "start_time": "2023-05-01T06:49:53.132Z"
   },
   {
    "duration": 20,
    "start_time": "2023-05-01T06:49:53.147Z"
   },
   {
    "duration": 34,
    "start_time": "2023-05-01T06:49:53.169Z"
   },
   {
    "duration": 1009,
    "start_time": "2023-10-18T14:29:16.205Z"
   },
   {
    "duration": 139,
    "start_time": "2023-10-18T14:29:19.983Z"
   },
   {
    "duration": 14,
    "start_time": "2023-10-18T14:29:22.432Z"
   },
   {
    "duration": 13,
    "start_time": "2023-10-18T14:29:30.208Z"
   },
   {
    "duration": 176,
    "start_time": "2023-10-18T14:29:52.874Z"
   },
   {
    "duration": 10,
    "start_time": "2023-10-18T14:29:57.478Z"
   },
   {
    "duration": 12,
    "start_time": "2023-10-18T14:30:05.611Z"
   },
   {
    "duration": 69,
    "start_time": "2023-10-18T14:30:40.057Z"
   },
   {
    "duration": 749,
    "start_time": "2023-10-18T14:30:58.331Z"
   },
   {
    "duration": 12,
    "start_time": "2023-10-18T14:31:18.208Z"
   },
   {
    "duration": 10,
    "start_time": "2023-10-18T14:31:29.392Z"
   },
   {
    "duration": 8,
    "start_time": "2023-10-18T14:31:35.216Z"
   },
   {
    "duration": 8,
    "start_time": "2023-10-18T14:31:47.114Z"
   },
   {
    "duration": 11,
    "start_time": "2023-10-18T14:31:50.051Z"
   },
   {
    "duration": 14,
    "start_time": "2023-10-18T14:51:37.410Z"
   },
   {
    "duration": 6,
    "start_time": "2023-10-18T14:51:42.461Z"
   },
   {
    "duration": 5,
    "start_time": "2023-10-18T14:51:45.279Z"
   },
   {
    "duration": 12,
    "start_time": "2023-10-18T14:51:52.793Z"
   },
   {
    "duration": 7,
    "start_time": "2023-10-18T14:51:56.031Z"
   },
   {
    "duration": 6,
    "start_time": "2023-10-18T14:51:56.999Z"
   },
   {
    "duration": 4,
    "start_time": "2023-10-18T14:52:00.165Z"
   },
   {
    "duration": 4,
    "start_time": "2023-10-18T14:52:00.638Z"
   },
   {
    "duration": 15,
    "start_time": "2023-10-18T14:52:16.696Z"
   },
   {
    "duration": 844,
    "start_time": "2023-10-18T14:52:18.868Z"
   },
   {
    "duration": 20,
    "start_time": "2023-10-18T14:52:20.818Z"
   },
   {
    "duration": 8,
    "start_time": "2023-10-18T14:52:25.810Z"
   },
   {
    "duration": 69,
    "start_time": "2023-10-18T14:52:26.126Z"
   },
   {
    "duration": 26,
    "start_time": "2023-10-18T14:52:26.229Z"
   },
   {
    "duration": 6,
    "start_time": "2023-10-18T14:52:29.906Z"
   },
   {
    "duration": 7,
    "start_time": "2023-10-18T14:52:30.191Z"
   },
   {
    "duration": 7,
    "start_time": "2023-10-18T14:52:35.997Z"
   },
   {
    "duration": 7,
    "start_time": "2023-10-18T14:52:36.127Z"
   },
   {
    "duration": 32,
    "start_time": "2023-10-18T14:53:05.946Z"
   },
   {
    "duration": 8,
    "start_time": "2023-10-18T14:53:09.359Z"
   },
   {
    "duration": 4,
    "start_time": "2023-10-18T14:53:09.490Z"
   },
   {
    "duration": 123,
    "start_time": "2023-10-18T14:53:09.614Z"
   },
   {
    "duration": 6,
    "start_time": "2023-10-18T14:53:22.848Z"
   },
   {
    "duration": 5,
    "start_time": "2023-10-18T14:53:24.233Z"
   },
   {
    "duration": 153,
    "start_time": "2023-10-18T14:53:24.535Z"
   },
   {
    "duration": 187,
    "start_time": "2023-10-18T14:53:29.024Z"
   },
   {
    "duration": 8,
    "start_time": "2023-10-18T14:53:35.486Z"
   },
   {
    "duration": 108,
    "start_time": "2023-10-18T14:53:35.913Z"
   },
   {
    "duration": 8,
    "start_time": "2023-10-18T14:53:36.041Z"
   },
   {
    "duration": 111,
    "start_time": "2023-10-18T14:53:41.308Z"
   },
   {
    "duration": 9,
    "start_time": "2023-10-18T14:53:41.553Z"
   },
   {
    "duration": 8,
    "start_time": "2023-10-18T14:53:44.399Z"
   },
   {
    "duration": 161,
    "start_time": "2023-10-18T14:53:48.292Z"
   },
   {
    "duration": 197,
    "start_time": "2023-10-18T14:53:49.003Z"
   },
   {
    "duration": 31,
    "start_time": "2023-10-18T14:53:59.955Z"
   },
   {
    "duration": 27,
    "start_time": "2023-10-18T14:54:05.021Z"
   },
   {
    "duration": 10,
    "start_time": "2023-10-18T14:54:05.199Z"
   },
   {
    "duration": 8,
    "start_time": "2023-10-18T14:54:05.316Z"
   },
   {
    "duration": 30,
    "start_time": "2023-10-18T14:54:06.103Z"
   },
   {
    "duration": 112,
    "start_time": "2023-10-18T14:54:12.791Z"
   },
   {
    "duration": 9,
    "start_time": "2023-10-18T14:54:12.905Z"
   },
   {
    "duration": 122,
    "start_time": "2023-10-18T14:54:13.002Z"
   },
   {
    "duration": 22,
    "start_time": "2023-10-18T14:54:13.126Z"
   },
   {
    "duration": 118,
    "start_time": "2023-10-18T14:54:13.328Z"
   },
   {
    "duration": 10,
    "start_time": "2023-10-18T14:54:13.591Z"
   },
   {
    "duration": 222,
    "start_time": "2023-10-18T14:54:13.948Z"
   },
   {
    "duration": 13,
    "start_time": "2023-10-18T14:54:14.311Z"
   },
   {
    "duration": 4,
    "start_time": "2023-10-18T14:54:17.260Z"
   },
   {
    "duration": 4,
    "start_time": "2023-10-18T14:54:17.659Z"
   },
   {
    "duration": 6,
    "start_time": "2023-10-18T14:54:28.954Z"
   },
   {
    "duration": 6,
    "start_time": "2023-10-18T14:54:31.335Z"
   },
   {
    "duration": 17,
    "start_time": "2023-10-18T14:55:00.503Z"
   },
   {
    "duration": 21,
    "start_time": "2023-10-18T14:55:01.812Z"
   },
   {
    "duration": 42,
    "start_time": "2023-10-18T14:55:01.835Z"
   },
   {
    "duration": 18,
    "start_time": "2023-10-18T14:55:07.857Z"
   },
   {
    "duration": 17,
    "start_time": "2023-10-18T14:55:08.004Z"
   },
   {
    "duration": 5,
    "start_time": "2023-10-18T14:55:11.015Z"
   },
   {
    "duration": 5,
    "start_time": "2023-10-18T14:55:20.705Z"
   },
   {
    "duration": 6,
    "start_time": "2023-10-18T14:55:25.721Z"
   },
   {
    "duration": 7,
    "start_time": "2023-10-18T14:55:31.167Z"
   },
   {
    "duration": 6,
    "start_time": "2023-10-18T14:55:57.445Z"
   },
   {
    "duration": 6,
    "start_time": "2023-10-18T14:56:06.153Z"
   }
  ],
  "kernelspec": {
   "display_name": "Python 3 (ipykernel)",
   "language": "python",
   "name": "python3"
  },
  "language_info": {
   "codemirror_mode": {
    "name": "ipython",
    "version": 3
   },
   "file_extension": ".py",
   "mimetype": "text/x-python",
   "name": "python",
   "nbconvert_exporter": "python",
   "pygments_lexer": "ipython3",
   "version": "3.9.5"
  },
  "toc": {
   "base_numbering": 1,
   "nav_menu": {},
   "number_sections": true,
   "sideBar": true,
   "skip_h1_title": true,
   "title_cell": "Table of Contents",
   "title_sidebar": "Contents",
   "toc_cell": false,
   "toc_position": {},
   "toc_section_display": true,
   "toc_window_display": false
  }
 },
 "nbformat": 4,
 "nbformat_minor": 5
}
