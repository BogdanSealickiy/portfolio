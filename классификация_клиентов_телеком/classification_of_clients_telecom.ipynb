{
 "cells": [
  {
   "cell_type": "markdown",
   "metadata": {},
   "source": [
    "***"
   ]
  },
  {
   "cell_type": "markdown",
   "metadata": {},
   "source": [
    "# Рекомендация тарифов"
   ]
  },
  {
   "cell_type": "markdown",
   "metadata": {},
   "source": [
    "Оператор мобильной связи «Мегалайн» выяснил: многие клиенты пользуются архивными тарифами. Они хотят построить систему, способную проанализировать поведение клиентов и предложить пользователям новый тариф: «Смарт» или «Ультра»."
   ]
  },
  {
   "cell_type": "markdown",
   "metadata": {},
   "source": [
    "В вашем распоряжении данные о поведении клиентов, которые уже перешли на эти тарифы (из проекта курса «Статистический анализ данных»). Нужно построить модель для задачи классификации, которая выберет подходящий тариф. Предобработка данных не понадобится — вы её уже сделали.\n",
    "\n",
    "Постройте модель с максимально большим значением *accuracy*. Чтобы сдать проект успешно, нужно довести долю правильных ответов по крайней мере до 0.75. Проверьте *accuracy* на тестовой выборке самостоятельно."
   ]
  },
  {
   "cell_type": "markdown",
   "metadata": {},
   "source": [
    "## Открываю данные"
   ]
  },
  {
   "cell_type": "markdown",
   "metadata": {},
   "source": [
    "**Импорт библиотек**"
   ]
  },
  {
   "cell_type": "code",
   "execution_count": 1,
   "metadata": {},
   "outputs": [],
   "source": [
    "import pandas as pd #для вывода таблицы\n",
    "from sklearn.model_selection import train_test_split # для разделение оригинального датасета на выборки\n",
    "from sklearn.tree import DecisionTreeClassifier # Дерево решений\n",
    "from sklearn.ensemble import RandomForestClassifier #Случайный лес\n",
    "from sklearn.metrics import accuracy_score # для вычисления точности предсказаний \n",
    "from sklearn.linear_model import LogisticRegression # Логистическая регрессия\n",
    "from sklearn.dummy import DummyClassifier # модель для проверки на адекватность"
   ]
  },
  {
   "cell_type": "markdown",
   "metadata": {},
   "source": [
    "Считаваю датасет"
   ]
  },
  {
   "cell_type": "code",
   "execution_count": 2,
   "metadata": {},
   "outputs": [
    {
     "data": {
      "text/html": [
       "<div>\n",
       "<style scoped>\n",
       "    .dataframe tbody tr th:only-of-type {\n",
       "        vertical-align: middle;\n",
       "    }\n",
       "\n",
       "    .dataframe tbody tr th {\n",
       "        vertical-align: top;\n",
       "    }\n",
       "\n",
       "    .dataframe thead th {\n",
       "        text-align: right;\n",
       "    }\n",
       "</style>\n",
       "<table border=\"1\" class=\"dataframe\">\n",
       "  <thead>\n",
       "    <tr style=\"text-align: right;\">\n",
       "      <th></th>\n",
       "      <th>calls</th>\n",
       "      <th>minutes</th>\n",
       "      <th>messages</th>\n",
       "      <th>mb_used</th>\n",
       "      <th>is_ultra</th>\n",
       "    </tr>\n",
       "  </thead>\n",
       "  <tbody>\n",
       "    <tr>\n",
       "      <th>0</th>\n",
       "      <td>40.0</td>\n",
       "      <td>311.90</td>\n",
       "      <td>83.0</td>\n",
       "      <td>19915.42</td>\n",
       "      <td>0</td>\n",
       "    </tr>\n",
       "    <tr>\n",
       "      <th>1</th>\n",
       "      <td>85.0</td>\n",
       "      <td>516.75</td>\n",
       "      <td>56.0</td>\n",
       "      <td>22696.96</td>\n",
       "      <td>0</td>\n",
       "    </tr>\n",
       "    <tr>\n",
       "      <th>2</th>\n",
       "      <td>77.0</td>\n",
       "      <td>467.66</td>\n",
       "      <td>86.0</td>\n",
       "      <td>21060.45</td>\n",
       "      <td>0</td>\n",
       "    </tr>\n",
       "    <tr>\n",
       "      <th>3</th>\n",
       "      <td>106.0</td>\n",
       "      <td>745.53</td>\n",
       "      <td>81.0</td>\n",
       "      <td>8437.39</td>\n",
       "      <td>1</td>\n",
       "    </tr>\n",
       "    <tr>\n",
       "      <th>4</th>\n",
       "      <td>66.0</td>\n",
       "      <td>418.74</td>\n",
       "      <td>1.0</td>\n",
       "      <td>14502.75</td>\n",
       "      <td>0</td>\n",
       "    </tr>\n",
       "    <tr>\n",
       "      <th>5</th>\n",
       "      <td>58.0</td>\n",
       "      <td>344.56</td>\n",
       "      <td>21.0</td>\n",
       "      <td>15823.37</td>\n",
       "      <td>0</td>\n",
       "    </tr>\n",
       "    <tr>\n",
       "      <th>6</th>\n",
       "      <td>57.0</td>\n",
       "      <td>431.64</td>\n",
       "      <td>20.0</td>\n",
       "      <td>3738.90</td>\n",
       "      <td>1</td>\n",
       "    </tr>\n",
       "    <tr>\n",
       "      <th>7</th>\n",
       "      <td>15.0</td>\n",
       "      <td>132.40</td>\n",
       "      <td>6.0</td>\n",
       "      <td>21911.60</td>\n",
       "      <td>0</td>\n",
       "    </tr>\n",
       "    <tr>\n",
       "      <th>8</th>\n",
       "      <td>7.0</td>\n",
       "      <td>43.39</td>\n",
       "      <td>3.0</td>\n",
       "      <td>2538.67</td>\n",
       "      <td>1</td>\n",
       "    </tr>\n",
       "    <tr>\n",
       "      <th>9</th>\n",
       "      <td>90.0</td>\n",
       "      <td>665.41</td>\n",
       "      <td>38.0</td>\n",
       "      <td>17358.61</td>\n",
       "      <td>0</td>\n",
       "    </tr>\n",
       "  </tbody>\n",
       "</table>\n",
       "</div>"
      ],
      "text/plain": [
       "   calls  minutes  messages   mb_used  is_ultra\n",
       "0   40.0   311.90      83.0  19915.42         0\n",
       "1   85.0   516.75      56.0  22696.96         0\n",
       "2   77.0   467.66      86.0  21060.45         0\n",
       "3  106.0   745.53      81.0   8437.39         1\n",
       "4   66.0   418.74       1.0  14502.75         0\n",
       "5   58.0   344.56      21.0  15823.37         0\n",
       "6   57.0   431.64      20.0   3738.90         1\n",
       "7   15.0   132.40       6.0  21911.60         0\n",
       "8    7.0    43.39       3.0   2538.67         1\n",
       "9   90.0   665.41      38.0  17358.61         0"
      ]
     },
     "metadata": {},
     "output_type": "display_data"
    },
    {
     "data": {
      "text/html": [
       "<div>\n",
       "<style scoped>\n",
       "    .dataframe tbody tr th:only-of-type {\n",
       "        vertical-align: middle;\n",
       "    }\n",
       "\n",
       "    .dataframe tbody tr th {\n",
       "        vertical-align: top;\n",
       "    }\n",
       "\n",
       "    .dataframe thead th {\n",
       "        text-align: right;\n",
       "    }\n",
       "</style>\n",
       "<table border=\"1\" class=\"dataframe\">\n",
       "  <thead>\n",
       "    <tr style=\"text-align: right;\">\n",
       "      <th></th>\n",
       "      <th>calls</th>\n",
       "      <th>minutes</th>\n",
       "      <th>messages</th>\n",
       "      <th>mb_used</th>\n",
       "      <th>is_ultra</th>\n",
       "    </tr>\n",
       "  </thead>\n",
       "  <tbody>\n",
       "    <tr>\n",
       "      <th>3204</th>\n",
       "      <td>86.0</td>\n",
       "      <td>658.66</td>\n",
       "      <td>47.0</td>\n",
       "      <td>14153.10</td>\n",
       "      <td>0</td>\n",
       "    </tr>\n",
       "    <tr>\n",
       "      <th>3205</th>\n",
       "      <td>59.0</td>\n",
       "      <td>412.81</td>\n",
       "      <td>16.0</td>\n",
       "      <td>14105.03</td>\n",
       "      <td>0</td>\n",
       "    </tr>\n",
       "    <tr>\n",
       "      <th>3206</th>\n",
       "      <td>76.0</td>\n",
       "      <td>586.51</td>\n",
       "      <td>54.0</td>\n",
       "      <td>14345.74</td>\n",
       "      <td>0</td>\n",
       "    </tr>\n",
       "    <tr>\n",
       "      <th>3207</th>\n",
       "      <td>17.0</td>\n",
       "      <td>92.39</td>\n",
       "      <td>2.0</td>\n",
       "      <td>4299.25</td>\n",
       "      <td>0</td>\n",
       "    </tr>\n",
       "    <tr>\n",
       "      <th>3208</th>\n",
       "      <td>164.0</td>\n",
       "      <td>1016.98</td>\n",
       "      <td>71.0</td>\n",
       "      <td>17787.52</td>\n",
       "      <td>1</td>\n",
       "    </tr>\n",
       "    <tr>\n",
       "      <th>3209</th>\n",
       "      <td>122.0</td>\n",
       "      <td>910.98</td>\n",
       "      <td>20.0</td>\n",
       "      <td>35124.90</td>\n",
       "      <td>1</td>\n",
       "    </tr>\n",
       "    <tr>\n",
       "      <th>3210</th>\n",
       "      <td>25.0</td>\n",
       "      <td>190.36</td>\n",
       "      <td>0.0</td>\n",
       "      <td>3275.61</td>\n",
       "      <td>0</td>\n",
       "    </tr>\n",
       "    <tr>\n",
       "      <th>3211</th>\n",
       "      <td>97.0</td>\n",
       "      <td>634.44</td>\n",
       "      <td>70.0</td>\n",
       "      <td>13974.06</td>\n",
       "      <td>0</td>\n",
       "    </tr>\n",
       "    <tr>\n",
       "      <th>3212</th>\n",
       "      <td>64.0</td>\n",
       "      <td>462.32</td>\n",
       "      <td>90.0</td>\n",
       "      <td>31239.78</td>\n",
       "      <td>0</td>\n",
       "    </tr>\n",
       "    <tr>\n",
       "      <th>3213</th>\n",
       "      <td>80.0</td>\n",
       "      <td>566.09</td>\n",
       "      <td>6.0</td>\n",
       "      <td>29480.52</td>\n",
       "      <td>1</td>\n",
       "    </tr>\n",
       "  </tbody>\n",
       "</table>\n",
       "</div>"
      ],
      "text/plain": [
       "      calls  minutes  messages   mb_used  is_ultra\n",
       "3204   86.0   658.66      47.0  14153.10         0\n",
       "3205   59.0   412.81      16.0  14105.03         0\n",
       "3206   76.0   586.51      54.0  14345.74         0\n",
       "3207   17.0    92.39       2.0   4299.25         0\n",
       "3208  164.0  1016.98      71.0  17787.52         1\n",
       "3209  122.0   910.98      20.0  35124.90         1\n",
       "3210   25.0   190.36       0.0   3275.61         0\n",
       "3211   97.0   634.44      70.0  13974.06         0\n",
       "3212   64.0   462.32      90.0  31239.78         0\n",
       "3213   80.0   566.09       6.0  29480.52         1"
      ]
     },
     "metadata": {},
     "output_type": "display_data"
    },
    {
     "data": {
      "text/html": [
       "<div>\n",
       "<style scoped>\n",
       "    .dataframe tbody tr th:only-of-type {\n",
       "        vertical-align: middle;\n",
       "    }\n",
       "\n",
       "    .dataframe tbody tr th {\n",
       "        vertical-align: top;\n",
       "    }\n",
       "\n",
       "    .dataframe thead th {\n",
       "        text-align: right;\n",
       "    }\n",
       "</style>\n",
       "<table border=\"1\" class=\"dataframe\">\n",
       "  <thead>\n",
       "    <tr style=\"text-align: right;\">\n",
       "      <th></th>\n",
       "      <th>calls</th>\n",
       "      <th>minutes</th>\n",
       "      <th>messages</th>\n",
       "      <th>mb_used</th>\n",
       "      <th>is_ultra</th>\n",
       "    </tr>\n",
       "  </thead>\n",
       "  <tbody>\n",
       "    <tr>\n",
       "      <th>1447</th>\n",
       "      <td>51.0</td>\n",
       "      <td>454.46</td>\n",
       "      <td>0.0</td>\n",
       "      <td>22857.34</td>\n",
       "      <td>0</td>\n",
       "    </tr>\n",
       "    <tr>\n",
       "      <th>2668</th>\n",
       "      <td>73.0</td>\n",
       "      <td>474.41</td>\n",
       "      <td>65.0</td>\n",
       "      <td>7512.26</td>\n",
       "      <td>1</td>\n",
       "    </tr>\n",
       "    <tr>\n",
       "      <th>877</th>\n",
       "      <td>75.0</td>\n",
       "      <td>544.23</td>\n",
       "      <td>0.0</td>\n",
       "      <td>22924.79</td>\n",
       "      <td>1</td>\n",
       "    </tr>\n",
       "    <tr>\n",
       "      <th>1340</th>\n",
       "      <td>32.0</td>\n",
       "      <td>244.80</td>\n",
       "      <td>13.0</td>\n",
       "      <td>7213.58</td>\n",
       "      <td>0</td>\n",
       "    </tr>\n",
       "    <tr>\n",
       "      <th>612</th>\n",
       "      <td>65.0</td>\n",
       "      <td>456.96</td>\n",
       "      <td>0.0</td>\n",
       "      <td>41613.58</td>\n",
       "      <td>1</td>\n",
       "    </tr>\n",
       "    <tr>\n",
       "      <th>0</th>\n",
       "      <td>40.0</td>\n",
       "      <td>311.90</td>\n",
       "      <td>83.0</td>\n",
       "      <td>19915.42</td>\n",
       "      <td>0</td>\n",
       "    </tr>\n",
       "    <tr>\n",
       "      <th>2794</th>\n",
       "      <td>128.0</td>\n",
       "      <td>989.90</td>\n",
       "      <td>6.0</td>\n",
       "      <td>24999.74</td>\n",
       "      <td>0</td>\n",
       "    </tr>\n",
       "    <tr>\n",
       "      <th>2051</th>\n",
       "      <td>14.0</td>\n",
       "      <td>91.81</td>\n",
       "      <td>0.0</td>\n",
       "      <td>23242.01</td>\n",
       "      <td>0</td>\n",
       "    </tr>\n",
       "    <tr>\n",
       "      <th>294</th>\n",
       "      <td>69.0</td>\n",
       "      <td>512.46</td>\n",
       "      <td>6.0</td>\n",
       "      <td>20024.92</td>\n",
       "      <td>0</td>\n",
       "    </tr>\n",
       "    <tr>\n",
       "      <th>152</th>\n",
       "      <td>60.0</td>\n",
       "      <td>414.80</td>\n",
       "      <td>0.0</td>\n",
       "      <td>14945.34</td>\n",
       "      <td>0</td>\n",
       "    </tr>\n",
       "  </tbody>\n",
       "</table>\n",
       "</div>"
      ],
      "text/plain": [
       "      calls  minutes  messages   mb_used  is_ultra\n",
       "1447   51.0   454.46       0.0  22857.34         0\n",
       "2668   73.0   474.41      65.0   7512.26         1\n",
       "877    75.0   544.23       0.0  22924.79         1\n",
       "1340   32.0   244.80      13.0   7213.58         0\n",
       "612    65.0   456.96       0.0  41613.58         1\n",
       "0      40.0   311.90      83.0  19915.42         0\n",
       "2794  128.0   989.90       6.0  24999.74         0\n",
       "2051   14.0    91.81       0.0  23242.01         0\n",
       "294    69.0   512.46       6.0  20024.92         0\n",
       "152    60.0   414.80       0.0  14945.34         0"
      ]
     },
     "execution_count": 2,
     "metadata": {},
     "output_type": "execute_result"
    }
   ],
   "source": [
    "df = pd.read_csv('/datasets/users_behavior.csv')\n",
    "display(df.head(10))\n",
    "display(df.tail(10))\n",
    "df.sample(10)"
   ]
  },
  {
   "cell_type": "markdown",
   "metadata": {},
   "source": [
    "- сalls — количество звонков,\n",
    "- minutes — суммарная длительность звонков в минутах,\n",
    "- messages — количество sms-сообщений,\n",
    "- mb_used — израсходованный интернет-трафик в Мб,\n",
    "- is_ultra — каким тарифом пользовался в течение месяца («Ультра» — 1, «Смарт» — 0)."
   ]
  },
  {
   "cell_type": "code",
   "execution_count": 3,
   "metadata": {},
   "outputs": [
    {
     "name": "stdout",
     "output_type": "stream",
     "text": [
      "<class 'pandas.core.frame.DataFrame'>\n",
      "RangeIndex: 3214 entries, 0 to 3213\n",
      "Data columns (total 5 columns):\n",
      " #   Column    Non-Null Count  Dtype  \n",
      "---  ------    --------------  -----  \n",
      " 0   calls     3214 non-null   float64\n",
      " 1   minutes   3214 non-null   float64\n",
      " 2   messages  3214 non-null   float64\n",
      " 3   mb_used   3214 non-null   float64\n",
      " 4   is_ultra  3214 non-null   int64  \n",
      "dtypes: float64(4), int64(1)\n",
      "memory usage: 125.7 KB\n"
     ]
    }
   ],
   "source": [
    "df.info()"
   ]
  },
  {
   "cell_type": "code",
   "execution_count": 4,
   "metadata": {},
   "outputs": [
    {
     "data": {
      "text/plain": [
       "0"
      ]
     },
     "execution_count": 4,
     "metadata": {},
     "output_type": "execute_result"
    }
   ],
   "source": [
    "df.duplicated().sum()"
   ]
  },
  {
   "cell_type": "markdown",
   "metadata": {},
   "source": [
    "На всякий случай, проверил кое-что в датасете, чтобы убедиться, что он готов к работе\n",
    "\n",
    "Задача, данные и условия описаны. Можно приступать к работе"
   ]
  },
  {
   "cell_type": "markdown",
   "metadata": {},
   "source": [
    "## Создам выборки"
   ]
  },
  {
   "cell_type": "markdown",
   "metadata": {},
   "source": [
    "Из условия ясно - целевой признак тариф, уберем его из признаков и добавим как цель"
   ]
  },
  {
   "cell_type": "code",
   "execution_count": 5,
   "metadata": {},
   "outputs": [],
   "source": [
    "features = df.drop('is_ultra', axis=1)\n",
    "target = df['is_ultra']\n",
    "\n",
    "X_train, X_test_valid, y_train, y_test_valid = train_test_split(\n",
    "    features,  \n",
    "    target,  \n",
    "    test_size=0.4,  \n",
    "    random_state=12345  \n",
    ")\n",
    "\n",
    "X_valid, X_test, y_valid, y_test = train_test_split(\n",
    "    X_test_valid,  \n",
    "    y_test_valid,  \n",
    "    test_size=0.5,  \n",
    "    random_state=12345  \n",
    ")"
   ]
  },
  {
   "cell_type": "markdown",
   "metadata": {},
   "source": [
    "Теперь у нас есть разделение - 60, 20, 20 - обучающая, валидационная, тестовая"
   ]
  },
  {
   "cell_type": "markdown",
   "metadata": {},
   "source": [
    "## Исследую модели"
   ]
  },
  {
   "cell_type": "markdown",
   "metadata": {},
   "source": [
    "Тк у нас стоит задача определять вид тарифа - переменная качественная - задача классификации. Модели, которые попадут на исследование - дерево решений, случайный лес, логистическая регрессия"
   ]
  },
  {
   "cell_type": "code",
   "execution_count": 6,
   "metadata": {},
   "outputs": [
    {
     "name": "stdout",
     "output_type": "stream",
     "text": [
      "max_depth = 1 : 0.7542768273716952\n",
      "max_depth = 2 : 0.7822706065318819\n",
      "max_depth = 3 : 0.7853810264385692\n",
      "max_depth = 4 : 0.7791601866251944\n",
      "max_depth = 5 : 0.7791601866251944\n",
      "max_depth = 6 : 0.7838258164852255\n",
      "max_depth = 7 : 0.7822706065318819\n",
      "max_depth = 8 : 0.7791601866251944\n",
      "max_depth = 9 : 0.7822706065318819\n",
      "max_depth = 10 : 0.7744945567651633\n"
     ]
    }
   ],
   "source": [
    "for depth in range(1,11):\n",
    "    modelThree = DecisionTreeClassifier(random_state=12345, max_depth=depth)\n",
    "    modelThree.fit(X_train, y_train)\n",
    "    predictions_valid = modelThree.predict(X_valid)\n",
    "    print('max_depth =', depth, \":\", accuracy_score(y_valid, predictions_valid))"
   ]
  },
  {
   "cell_type": "markdown",
   "metadata": {},
   "source": [
    "Лучше всего работает с глубинной 3. Теперь посмотрю на целый лес"
   ]
  },
  {
   "cell_type": "code",
   "execution_count": 8,
   "metadata": {},
   "outputs": [
    {
     "name": "stdout",
     "output_type": "stream",
     "text": [
      "RMSE наилучшей модели на валидационной выборке: 0.7558320373250389 Количество деревьев: 10 Максимальная глубина: 10\n"
     ]
    }
   ],
   "source": [
    "best_model = None\n",
    "best_result = 10000\n",
    "best_est = 0\n",
    "best_depth = 0\n",
    "for est in range(10, 51, 10):\n",
    "    for depth in range (1, 11):\n",
    "        modelForest = RandomForestClassifier(random_state=12345, n_estimators=est, max_depth=depth) \n",
    "        modelForest.fit(X_train, y_train) \n",
    "        predictions_valid2 = modelForest.predict(X_valid) #\n",
    "        result = accuracy_score(y_valid, predictions_valid2)\n",
    "        if result < best_result:\n",
    "            best_model = modelForest\n",
    "            best_result = result\n",
    "            best_est = est\n",
    "            best_depth = depth\n",
    "print(\"RMSE наилучшей модели на валидационной выборке:\", best_result, \"Количество деревьев:\", best_est, \"Максимальная глубина:\", depth)"
   ]
  },
  {
   "cell_type": "markdown",
   "metadata": {},
   "source": [
    "Осталось посмотреть на логистическую регрессию"
   ]
  },
  {
   "cell_type": "code",
   "execution_count": 9,
   "metadata": {},
   "outputs": [
    {
     "data": {
      "text/plain": [
       "0.7107309486780715"
      ]
     },
     "execution_count": 9,
     "metadata": {},
     "output_type": "execute_result"
    }
   ],
   "source": [
    "modelLog = LogisticRegression(random_state=12345, solver='lbfgs', max_iter=1000) \n",
    "modelLog.fit(X_train, y_train)\n",
    "\n",
    "\n",
    "predictions_valid3 = modelLog.predict(X_valid) \n",
    "accuracy_score(y_valid, predictions_valid3)\n"
   ]
  },
  {
   "cell_type": "markdown",
   "metadata": {},
   "source": [
    "Лучше всего справилось дерево решение с глубиной 3"
   ]
  },
  {
   "cell_type": "markdown",
   "metadata": {},
   "source": [
    "## Проверка на тесте"
   ]
  },
  {
   "cell_type": "markdown",
   "metadata": {},
   "source": [
    "Проверю, как поведут себя модели на тестовых выборках"
   ]
  },
  {
   "cell_type": "code",
   "execution_count": 10,
   "metadata": {},
   "outputs": [
    {
     "data": {
      "text/plain": [
       "0.7884914463452566"
      ]
     },
     "execution_count": 10,
     "metadata": {},
     "output_type": "execute_result"
    }
   ],
   "source": [
    "accuracy_score(y_test, modelThree.predict(X_test))"
   ]
  },
  {
   "cell_type": "markdown",
   "metadata": {},
   "source": [
    "Даже чуть лучше, изменю глубину и посмотрю, как измениться точность"
   ]
  },
  {
   "cell_type": "code",
   "execution_count": 11,
   "metadata": {},
   "outputs": [
    {
     "name": "stdout",
     "output_type": "stream",
     "text": [
      "max_depth = 1 : 0.7356143079315708\n",
      "max_depth = 2 : 0.7744945567651633\n",
      "max_depth = 3 : 0.7791601866251944\n",
      "max_depth = 4 : 0.7744945567651633\n",
      "max_depth = 5 : 0.7838258164852255\n",
      "max_depth = 6 : 0.776049766718507\n",
      "max_depth = 7 : 0.7993779160186625\n",
      "max_depth = 8 : 0.7931570762052877\n",
      "max_depth = 9 : 0.7807153965785381\n",
      "max_depth = 10 : 0.7884914463452566\n"
     ]
    }
   ],
   "source": [
    "for depth in range(1,11):\n",
    "    modelThree = DecisionTreeClassifier(random_state=12345, max_depth=depth)\n",
    "    modelThree.fit(X_train, y_train)\n",
    "    print('max_depth =', depth, \":\", accuracy_score(y_test, modelThree.predict(X_test)))"
   ]
  },
  {
   "cell_type": "markdown",
   "metadata": {},
   "source": [
    "Теперь лучше всего справляется дерево с глубиной 8"
   ]
  },
  {
   "cell_type": "code",
   "execution_count": 12,
   "metadata": {},
   "outputs": [
    {
     "name": "stdout",
     "output_type": "stream",
     "text": [
      "RMSE наилучшей модели на валидационной выборке: 0.7402799377916018 Количество деревьев: 10 Максимальная глубина: 10\n"
     ]
    }
   ],
   "source": [
    "best_model = None\n",
    "best_result = 10000\n",
    "best_est = 0\n",
    "best_depth = 0\n",
    "for est in range(10, 51, 10):\n",
    "    for depth in range (1, 11):\n",
    "        modelForest = RandomForestClassifier(random_state=12345, n_estimators=est, max_depth=depth) =est и max_depth=depth\n",
    "        modelForest.fit(X_train, y_train) \n",
    "        predictions_valid2 = modelForest.predict(X_test) \n",
    "        result = accuracy_score(y_test, predictions_valid2)\n",
    "        if result < best_result:\n",
    "            best_model = modelForest\n",
    "            best_result = result\n",
    "            best_est = est\n",
    "            best_depth = depth\n",
    "print(\"RMSE наилучшей модели на валидационной выборке:\", best_result, \"Количество деревьев:\", best_est, \"Максимальная глубина:\", depth)"
   ]
  },
  {
   "cell_type": "markdown",
   "metadata": {},
   "source": [
    "При использовании модели случайного леса, результат лучших гиперпараметров не поменялся"
   ]
  },
  {
   "cell_type": "code",
   "execution_count": 13,
   "metadata": {},
   "outputs": [
    {
     "data": {
      "text/plain": [
       "0.6842923794712286"
      ]
     },
     "execution_count": 13,
     "metadata": {},
     "output_type": "execute_result"
    }
   ],
   "source": [
    "predictions_valid3 = modelLog.predict(X_test) \n",
    "accuracy_score(y_test, predictions_valid3)\n"
   ]
  },
  {
   "cell_type": "markdown",
   "metadata": {},
   "source": [
    "Тут, ситуация явно хуже"
   ]
  },
  {
   "cell_type": "markdown",
   "metadata": {},
   "source": [
    "**Итог**\n",
    "\n",
    "- При улучшении модели и проверки ее на валидационной выборке, можно было заметить, что лучше всего справляется модель дерева решений, при проверки этих моделей на тестовых выборках, это подтвердилось, но изменился гиперпараметр для нее, глубина со значения 3 изменилась на 4.\n",
    "\n",
    "- Случайный лес показал себя одинаково на двух выборках, с гиперпараметрами: кол-во деревьев 10, их глубина 10\n",
    "\n",
    "- Логистическая регрессия показала себя хуже всего при решении этого вопроса"
   ]
  },
  {
   "cell_type": "markdown",
   "metadata": {},
   "source": [
    "## Сравню на адекватность"
   ]
  },
  {
   "cell_type": "code",
   "execution_count": 14,
   "metadata": {},
   "outputs": [
    {
     "name": "stdout",
     "output_type": "stream",
     "text": [
      "0.6842923794712286\n"
     ]
    }
   ],
   "source": [
    "modelDUM = DummyClassifier(strategy=\"most_frequent\")\\\n",
    "\n",
    "modelDUM.fit(X_train, y_train)\n",
    "\n",
    "print(accuracy_score(y_test, modelDUM.predict(X_test))) "
   ]
  },
  {
   "cell_type": "markdown",
   "metadata": {},
   "source": [
    "**Итог**\n",
    "\n",
    "Модель дерева решений показала точность выше, чем у этой модели(Для задачи классификации лучшей константной моделью является модель, которая для любого входа предсказывает метку наибольшего класса)"
   ]
  },
  {
   "cell_type": "markdown",
   "metadata": {},
   "source": [
    "**Итоговый вывод**\n",
    "\n",
    "- Цель. Нужно построить модель для задачи классификации, которая выберет подходящий тариф\n",
    "- Я рассмтаривал дерево решений, случаный лес и логистическую ресгрессию.\n",
    "- Лучшей оказалась первая модель - случайный лес с глубинной 4\n",
    "- Она показала лучший результат на тестовой выборки, точно почти 80\n",
    "- Однако, на валидационной выборке лучше справилась та же модель, но с глубинной 3"
   ]
  }
 ],
 "metadata": {
  "ExecuteTimeLog": [
   {
    "duration": 534,
    "start_time": "2023-05-18T07:49:47.558Z"
   },
   {
    "duration": 171,
    "start_time": "2023-05-18T07:49:55.558Z"
   },
   {
    "duration": 66,
    "start_time": "2023-05-18T08:03:21.173Z"
   },
   {
    "duration": 14,
    "start_time": "2023-05-18T08:05:47.318Z"
   },
   {
    "duration": 10,
    "start_time": "2023-05-18T08:06:23.885Z"
   },
   {
    "duration": 9,
    "start_time": "2023-05-18T08:06:27.086Z"
   },
   {
    "duration": 9,
    "start_time": "2023-05-18T08:06:32.685Z"
   },
   {
    "duration": 139,
    "start_time": "2023-05-18T08:06:58.773Z"
   },
   {
    "duration": 976,
    "start_time": "2023-05-18T08:17:02.772Z"
   },
   {
    "duration": 63,
    "start_time": "2023-05-18T08:17:03.750Z"
   },
   {
    "duration": 4,
    "start_time": "2023-05-18T08:17:55.972Z"
   },
   {
    "duration": 59,
    "start_time": "2023-05-18T08:17:56.172Z"
   },
   {
    "duration": 14,
    "start_time": "2023-05-18T08:17:58.972Z"
   },
   {
    "duration": 7,
    "start_time": "2023-05-18T08:17:59.073Z"
   },
   {
    "duration": 51,
    "start_time": "2023-05-18T08:18:01.470Z"
   },
   {
    "duration": 18,
    "start_time": "2023-05-18T08:19:56.177Z"
   },
   {
    "duration": 14,
    "start_time": "2023-05-18T08:20:03.109Z"
   },
   {
    "duration": 10,
    "start_time": "2023-05-18T08:20:34.068Z"
   },
   {
    "duration": 11,
    "start_time": "2023-05-18T08:20:35.760Z"
   },
   {
    "duration": 13,
    "start_time": "2023-05-18T08:30:14.877Z"
   },
   {
    "duration": 56,
    "start_time": "2023-05-18T08:30:43.063Z"
   },
   {
    "duration": 24,
    "start_time": "2023-05-18T08:30:46.551Z"
   },
   {
    "duration": 21,
    "start_time": "2023-05-18T08:31:00.497Z"
   },
   {
    "duration": 1282,
    "start_time": "2023-05-18T09:03:32.517Z"
   },
   {
    "duration": 89,
    "start_time": "2023-05-18T09:03:33.801Z"
   },
   {
    "duration": 15,
    "start_time": "2023-05-18T09:03:33.892Z"
   },
   {
    "duration": 25,
    "start_time": "2023-05-18T09:03:33.910Z"
   },
   {
    "duration": 15,
    "start_time": "2023-05-18T09:03:33.938Z"
   },
   {
    "duration": 194,
    "start_time": "2023-05-18T09:03:33.972Z"
   },
   {
    "duration": 30,
    "start_time": "2023-05-18T09:04:01.086Z"
   },
   {
    "duration": 21,
    "start_time": "2023-05-18T09:04:15.656Z"
   },
   {
    "duration": 20,
    "start_time": "2023-05-18T09:04:27.807Z"
   },
   {
    "duration": 18,
    "start_time": "2023-05-18T09:04:32.607Z"
   },
   {
    "duration": 16,
    "start_time": "2023-05-18T09:04:39.501Z"
   },
   {
    "duration": 16,
    "start_time": "2023-05-18T09:04:43.717Z"
   },
   {
    "duration": 18,
    "start_time": "2023-05-18T09:06:11.363Z"
   },
   {
    "duration": 19,
    "start_time": "2023-05-18T09:06:17.416Z"
   },
   {
    "duration": 17,
    "start_time": "2023-05-18T09:06:22.284Z"
   },
   {
    "duration": 18,
    "start_time": "2023-05-18T09:06:29.892Z"
   },
   {
    "duration": 18,
    "start_time": "2023-05-18T09:06:46.380Z"
   },
   {
    "duration": 61,
    "start_time": "2023-05-18T09:17:37.103Z"
   },
   {
    "duration": 60,
    "start_time": "2023-05-18T09:17:49.264Z"
   },
   {
    "duration": 50,
    "start_time": "2023-05-18T09:18:07.190Z"
   },
   {
    "duration": 98,
    "start_time": "2023-05-18T09:18:19.259Z"
   },
   {
    "duration": 12,
    "start_time": "2023-05-18T09:20:21.668Z"
   },
   {
    "duration": 36,
    "start_time": "2023-05-18T09:48:33.008Z"
   },
   {
    "duration": 36,
    "start_time": "2023-05-18T09:48:49.908Z"
   },
   {
    "duration": 4148,
    "start_time": "2023-05-18T09:49:01.259Z"
   },
   {
    "duration": 5,
    "start_time": "2023-05-18T11:41:58.789Z"
   },
   {
    "duration": 47,
    "start_time": "2023-05-18T11:47:17.754Z"
   },
   {
    "duration": 1307,
    "start_time": "2023-05-18T11:48:22.495Z"
   },
   {
    "duration": 75,
    "start_time": "2023-05-18T11:48:23.804Z"
   },
   {
    "duration": 14,
    "start_time": "2023-05-18T11:48:23.885Z"
   },
   {
    "duration": 17,
    "start_time": "2023-05-18T11:48:23.901Z"
   },
   {
    "duration": 17,
    "start_time": "2023-05-18T11:48:23.920Z"
   },
   {
    "duration": 101,
    "start_time": "2023-05-18T11:48:23.939Z"
   },
   {
    "duration": 4610,
    "start_time": "2023-05-18T11:48:24.042Z"
   },
   {
    "duration": 174,
    "start_time": "2023-05-18T11:48:28.654Z"
   },
   {
    "duration": 35,
    "start_time": "2023-05-18T11:50:49.241Z"
   },
   {
    "duration": 35,
    "start_time": "2023-05-18T11:50:57.362Z"
   },
   {
    "duration": 790,
    "start_time": "2023-05-18T11:52:10.100Z"
   },
   {
    "duration": 10,
    "start_time": "2023-05-18T11:54:04.476Z"
   },
   {
    "duration": 11,
    "start_time": "2023-05-18T11:54:27.104Z"
   },
   {
    "duration": 7,
    "start_time": "2023-05-18T11:54:39.096Z"
   },
   {
    "duration": 7,
    "start_time": "2023-05-18T11:54:57.858Z"
   },
   {
    "duration": 111,
    "start_time": "2023-05-18T11:56:26.731Z"
   },
   {
    "duration": 82,
    "start_time": "2023-05-18T11:57:57.505Z"
   },
   {
    "duration": 10,
    "start_time": "2023-05-18T11:58:10.801Z"
   },
   {
    "duration": 83,
    "start_time": "2023-05-18T11:58:57.269Z"
   },
   {
    "duration": 186,
    "start_time": "2023-05-18T11:59:26.485Z"
   },
   {
    "duration": 4293,
    "start_time": "2023-05-18T11:59:47.977Z"
   },
   {
    "duration": 11,
    "start_time": "2023-05-18T12:00:55.840Z"
   },
   {
    "duration": 81,
    "start_time": "2023-05-18T12:02:09.555Z"
   },
   {
    "duration": 4704,
    "start_time": "2023-05-18T12:11:27.295Z"
   },
   {
    "duration": 209,
    "start_time": "2023-05-18T12:12:20.946Z"
   },
   {
    "duration": 1492,
    "start_time": "2023-05-18T12:12:30.700Z"
   },
   {
    "duration": 69,
    "start_time": "2023-05-18T12:12:32.195Z"
   },
   {
    "duration": 18,
    "start_time": "2023-05-18T12:12:32.265Z"
   },
   {
    "duration": 27,
    "start_time": "2023-05-18T12:12:32.286Z"
   },
   {
    "duration": 21,
    "start_time": "2023-05-18T12:12:32.315Z"
   },
   {
    "duration": 107,
    "start_time": "2023-05-18T12:12:32.338Z"
   },
   {
    "duration": 4818,
    "start_time": "2023-05-18T12:12:32.447Z"
   },
   {
    "duration": 34,
    "start_time": "2023-05-18T12:12:37.271Z"
   },
   {
    "duration": 9,
    "start_time": "2023-05-18T12:12:37.307Z"
   },
   {
    "duration": 124,
    "start_time": "2023-05-18T12:12:37.318Z"
   },
   {
    "duration": 4646,
    "start_time": "2023-05-18T12:12:37.445Z"
   },
   {
    "duration": 13,
    "start_time": "2023-05-18T12:12:42.094Z"
   },
   {
    "duration": 188,
    "start_time": "2023-05-18T12:19:57.652Z"
   },
   {
    "duration": 5,
    "start_time": "2023-05-18T12:20:11.712Z"
   },
   {
    "duration": 7,
    "start_time": "2023-05-18T12:20:15.056Z"
   },
   {
    "duration": 1274,
    "start_time": "2023-05-18T12:33:16.979Z"
   },
   {
    "duration": 107,
    "start_time": "2023-05-18T12:33:18.256Z"
   },
   {
    "duration": 13,
    "start_time": "2023-05-18T12:33:18.365Z"
   },
   {
    "duration": 6,
    "start_time": "2023-05-18T12:33:18.379Z"
   },
   {
    "duration": 11,
    "start_time": "2023-05-18T12:33:18.387Z"
   },
   {
    "duration": 68,
    "start_time": "2023-05-18T12:33:18.399Z"
   },
   {
    "duration": 3433,
    "start_time": "2023-05-18T12:33:18.469Z"
   },
   {
    "duration": 23,
    "start_time": "2023-05-18T12:33:21.904Z"
   },
   {
    "duration": 5,
    "start_time": "2023-05-18T12:33:21.929Z"
   },
   {
    "duration": 79,
    "start_time": "2023-05-18T12:33:21.936Z"
   },
   {
    "duration": 3391,
    "start_time": "2023-05-18T12:33:22.016Z"
   },
   {
    "duration": 7,
    "start_time": "2023-05-18T12:33:25.408Z"
   },
   {
    "duration": 10,
    "start_time": "2023-05-18T12:33:25.416Z"
   },
   {
    "duration": 92,
    "start_time": "2023-05-19T07:36:23.317Z"
   },
   {
    "duration": 1159,
    "start_time": "2023-10-19T14:33:24.505Z"
   },
   {
    "duration": 124,
    "start_time": "2023-10-19T14:33:46.495Z"
   },
   {
    "duration": 14,
    "start_time": "2023-10-19T14:33:51.892Z"
   },
   {
    "duration": 7,
    "start_time": "2023-10-19T14:33:58.418Z"
   },
   {
    "duration": 9,
    "start_time": "2023-10-19T14:34:20.528Z"
   },
   {
    "duration": 88,
    "start_time": "2023-10-19T14:34:30.370Z"
   },
   {
    "duration": 4343,
    "start_time": "2023-10-19T14:34:33.403Z"
   },
   {
    "duration": 4359,
    "start_time": "2023-10-19T14:34:44.821Z"
   },
   {
    "duration": 29,
    "start_time": "2023-10-19T14:34:49.183Z"
   },
   {
    "duration": 10,
    "start_time": "2023-10-19T14:34:57.001Z"
   },
   {
    "duration": 83,
    "start_time": "2023-10-19T14:34:57.878Z"
   },
   {
    "duration": 4206,
    "start_time": "2023-10-19T14:34:58.451Z"
   },
   {
    "duration": 8,
    "start_time": "2023-10-19T14:35:14.017Z"
   },
   {
    "duration": 6,
    "start_time": "2023-10-19T14:35:41.582Z"
   }
  ],
  "kernelspec": {
   "display_name": "Python 3 (ipykernel)",
   "language": "python",
   "name": "python3"
  },
  "language_info": {
   "codemirror_mode": {
    "name": "ipython",
    "version": 3
   },
   "file_extension": ".py",
   "mimetype": "text/x-python",
   "name": "python",
   "nbconvert_exporter": "python",
   "pygments_lexer": "ipython3",
   "version": "3.9.5"
  },
  "toc": {
   "base_numbering": 1,
   "nav_menu": {},
   "number_sections": true,
   "sideBar": true,
   "skip_h1_title": true,
   "title_cell": "Table of Contents",
   "title_sidebar": "Contents",
   "toc_cell": false,
   "toc_position": {},
   "toc_section_display": true,
   "toc_window_display": false
  }
 },
 "nbformat": 4,
 "nbformat_minor": 2
}
