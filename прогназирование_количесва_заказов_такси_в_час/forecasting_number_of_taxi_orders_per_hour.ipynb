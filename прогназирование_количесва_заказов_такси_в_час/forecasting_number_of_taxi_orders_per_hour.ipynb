{
 "cells": [
  {
   "cell_type": "markdown",
   "metadata": {
    "toc": true
   },
   "source": [
    "<h1>Содержание<span class=\"tocSkip\"></span></h1>\n",
    "<div class=\"toc\"><ul class=\"toc-item\"><li><span><a href=\"#Линейная-регресися\" data-toc-modified-id=\"Линейная-регресися-1\"><span class=\"toc-item-num\">1&nbsp;&nbsp;</span>Линейная регресися</a></span></li><li><span><a href=\"#Дерево-решений\" data-toc-modified-id=\"Дерево-решений-2\"><span class=\"toc-item-num\">2&nbsp;&nbsp;</span>Дерево решений</a></span></li><li><span><a href=\"#Случайный-лес\" data-toc-modified-id=\"Случайный-лес-3\"><span class=\"toc-item-num\">3&nbsp;&nbsp;</span>Случайный лес</a></span></li><li><span><a href=\"#CatBoostRegressor\" data-toc-modified-id=\"CatBoostRegressor-4\"><span class=\"toc-item-num\">4&nbsp;&nbsp;</span>CatBoostRegressor</a></span></li></ul></div>"
   ]
  },
  {
   "cell_type": "markdown",
   "metadata": {},
   "source": [
    "#  Прогнозирование заказов такси"
   ]
  },
  {
   "cell_type": "markdown",
   "metadata": {},
   "source": [
    "Компания «Чётенькое такси» собрала исторические данные о заказах такси в аэропортах. Чтобы привлекать больше водителей в период пиковой нагрузки, нужно спрогнозировать количество заказов такси на следующий час. Постройте модель для такого предсказания.\n",
    "\n",
    "Значение метрики *RMSE* на тестовой выборке должно быть не больше 48.\n",
    "\n",
    "Вам нужно:\n",
    "\n",
    "1. Загрузить данные и выполнить их ресемплирование по одному часу.\n",
    "2. Проанализировать данные.\n",
    "3. Обучить разные модели с различными гиперпараметрами. Сделать тестовую выборку размером 10% от исходных данных.\n",
    "4. Проверить данные на тестовой выборке и сделать выводы.\n",
    "\n",
    "\n",
    "Данные лежат в файле `taxi.csv`. Количество заказов находится в столбце `num_orders` (от англ. *number of orders*, «число заказов»)."
   ]
  },
  {
   "cell_type": "markdown",
   "metadata": {},
   "source": [
    "# 1 Подготовка"
   ]
  },
  {
   "cell_type": "markdown",
   "metadata": {},
   "source": [
    "импорт библиотек"
   ]
  },
  {
   "cell_type": "code",
   "execution_count": 1,
   "metadata": {},
   "outputs": [],
   "source": [
    "import pandas as pd\n",
    "import matplotlib.pyplot as plt\n",
    "import seaborn as sns\n",
    "from statsmodels.tsa.seasonal import seasonal_decompose\n",
    "from sklearn.model_selection import train_test_split\n",
    "from sklearn.metrics import mean_squared_error\n",
    "import numpy as np\n",
    "from sklearn.linear_model import LinearRegression\n",
    "from sklearn.model_selection import cross_val_score\n",
    "from sklearn.tree import DecisionTreeRegressor\n",
    "from sklearn.ensemble import RandomForestRegressor\n",
    "from sklearn.model_selection import GridSearchCV\n",
    "import lightgbm as lgb\n",
    "from sklearn.model_selection import TimeSeriesSplit\n",
    "from sklearn.linear_model import Lasso, Ridge\n"
   ]
  },
  {
   "cell_type": "markdown",
   "metadata": {},
   "source": [
    "\n",
    "Загружаем датасет, предварительно сделам столбец с датами и временем индексовым"
   ]
  },
  {
   "cell_type": "code",
   "execution_count": 2,
   "metadata": {},
   "outputs": [],
   "source": [
    "df = pd.read_csv('/datasets/taxi.csv',  parse_dates=[0], index_col=0)"
   ]
  },
  {
   "cell_type": "markdown",
   "metadata": {},
   "source": [
    "Посмотрим на данные"
   ]
  },
  {
   "cell_type": "code",
   "execution_count": 3,
   "metadata": {},
   "outputs": [
    {
     "data": {
      "text/html": [
       "<div>\n",
       "<style scoped>\n",
       "    .dataframe tbody tr th:only-of-type {\n",
       "        vertical-align: middle;\n",
       "    }\n",
       "\n",
       "    .dataframe tbody tr th {\n",
       "        vertical-align: top;\n",
       "    }\n",
       "\n",
       "    .dataframe thead th {\n",
       "        text-align: right;\n",
       "    }\n",
       "</style>\n",
       "<table border=\"1\" class=\"dataframe\">\n",
       "  <thead>\n",
       "    <tr style=\"text-align: right;\">\n",
       "      <th></th>\n",
       "      <th>num_orders</th>\n",
       "    </tr>\n",
       "    <tr>\n",
       "      <th>datetime</th>\n",
       "      <th></th>\n",
       "    </tr>\n",
       "  </thead>\n",
       "  <tbody>\n",
       "    <tr>\n",
       "      <th>2018-03-01 00:00:00</th>\n",
       "      <td>9</td>\n",
       "    </tr>\n",
       "    <tr>\n",
       "      <th>2018-03-01 00:10:00</th>\n",
       "      <td>14</td>\n",
       "    </tr>\n",
       "    <tr>\n",
       "      <th>2018-03-01 00:20:00</th>\n",
       "      <td>28</td>\n",
       "    </tr>\n",
       "    <tr>\n",
       "      <th>2018-03-01 00:30:00</th>\n",
       "      <td>20</td>\n",
       "    </tr>\n",
       "    <tr>\n",
       "      <th>2018-03-01 00:40:00</th>\n",
       "      <td>32</td>\n",
       "    </tr>\n",
       "  </tbody>\n",
       "</table>\n",
       "</div>"
      ],
      "text/plain": [
       "                     num_orders\n",
       "datetime                       \n",
       "2018-03-01 00:00:00           9\n",
       "2018-03-01 00:10:00          14\n",
       "2018-03-01 00:20:00          28\n",
       "2018-03-01 00:30:00          20\n",
       "2018-03-01 00:40:00          32"
      ]
     },
     "execution_count": 3,
     "metadata": {},
     "output_type": "execute_result"
    }
   ],
   "source": [
    "df.head()"
   ]
  },
  {
   "cell_type": "code",
   "execution_count": 4,
   "metadata": {
    "scrolled": true
   },
   "outputs": [
    {
     "data": {
      "text/html": [
       "<div>\n",
       "<style scoped>\n",
       "    .dataframe tbody tr th:only-of-type {\n",
       "        vertical-align: middle;\n",
       "    }\n",
       "\n",
       "    .dataframe tbody tr th {\n",
       "        vertical-align: top;\n",
       "    }\n",
       "\n",
       "    .dataframe thead th {\n",
       "        text-align: right;\n",
       "    }\n",
       "</style>\n",
       "<table border=\"1\" class=\"dataframe\">\n",
       "  <thead>\n",
       "    <tr style=\"text-align: right;\">\n",
       "      <th></th>\n",
       "      <th>num_orders</th>\n",
       "    </tr>\n",
       "    <tr>\n",
       "      <th>datetime</th>\n",
       "      <th></th>\n",
       "    </tr>\n",
       "  </thead>\n",
       "  <tbody>\n",
       "    <tr>\n",
       "      <th>2018-08-31 23:10:00</th>\n",
       "      <td>32</td>\n",
       "    </tr>\n",
       "    <tr>\n",
       "      <th>2018-08-31 23:20:00</th>\n",
       "      <td>24</td>\n",
       "    </tr>\n",
       "    <tr>\n",
       "      <th>2018-08-31 23:30:00</th>\n",
       "      <td>27</td>\n",
       "    </tr>\n",
       "    <tr>\n",
       "      <th>2018-08-31 23:40:00</th>\n",
       "      <td>39</td>\n",
       "    </tr>\n",
       "    <tr>\n",
       "      <th>2018-08-31 23:50:00</th>\n",
       "      <td>53</td>\n",
       "    </tr>\n",
       "  </tbody>\n",
       "</table>\n",
       "</div>"
      ],
      "text/plain": [
       "                     num_orders\n",
       "datetime                       \n",
       "2018-08-31 23:10:00          32\n",
       "2018-08-31 23:20:00          24\n",
       "2018-08-31 23:30:00          27\n",
       "2018-08-31 23:40:00          39\n",
       "2018-08-31 23:50:00          53"
      ]
     },
     "execution_count": 4,
     "metadata": {},
     "output_type": "execute_result"
    }
   ],
   "source": [
    "df.tail()"
   ]
  },
  {
   "cell_type": "code",
   "execution_count": 5,
   "metadata": {
    "scrolled": false
   },
   "outputs": [
    {
     "name": "stdout",
     "output_type": "stream",
     "text": [
      "<class 'pandas.core.frame.DataFrame'>\n",
      "DatetimeIndex: 26496 entries, 2018-03-01 00:00:00 to 2018-08-31 23:50:00\n",
      "Data columns (total 1 columns):\n",
      " #   Column      Non-Null Count  Dtype\n",
      "---  ------      --------------  -----\n",
      " 0   num_orders  26496 non-null  int64\n",
      "dtypes: int64(1)\n",
      "memory usage: 414.0 KB\n"
     ]
    }
   ],
   "source": [
    "df.info()"
   ]
  },
  {
   "cell_type": "markdown",
   "metadata": {},
   "source": [
    "Предварительно можно сказать, что данные хранятся в диапазоне 2018-03-01 - 2018-08-31, это можно проверить. Для этого отсортируем индексы и посмотрим на крайние значения, также посмотрим сохраняется ли непрерывный хронологический порядок - посмотрим на монотонность"
   ]
  },
  {
   "cell_type": "code",
   "execution_count": 6,
   "metadata": {},
   "outputs": [],
   "source": [
    "df = df.sort_index()"
   ]
  },
  {
   "cell_type": "code",
   "execution_count": 7,
   "metadata": {},
   "outputs": [
    {
     "data": {
      "text/plain": [
       "DatetimeIndex(['2018-03-01 00:00:00', '2018-03-01 00:10:00',\n",
       "               '2018-03-01 00:20:00', '2018-03-01 00:30:00',\n",
       "               '2018-03-01 00:40:00', '2018-03-01 00:50:00',\n",
       "               '2018-03-01 01:00:00', '2018-03-01 01:10:00',\n",
       "               '2018-03-01 01:20:00', '2018-03-01 01:30:00',\n",
       "               ...\n",
       "               '2018-08-31 22:20:00', '2018-08-31 22:30:00',\n",
       "               '2018-08-31 22:40:00', '2018-08-31 22:50:00',\n",
       "               '2018-08-31 23:00:00', '2018-08-31 23:10:00',\n",
       "               '2018-08-31 23:20:00', '2018-08-31 23:30:00',\n",
       "               '2018-08-31 23:40:00', '2018-08-31 23:50:00'],\n",
       "              dtype='datetime64[ns]', name='datetime', length=26496, freq=None)"
      ]
     },
     "execution_count": 7,
     "metadata": {},
     "output_type": "execute_result"
    }
   ],
   "source": [
    "df.index.unique()"
   ]
  },
  {
   "cell_type": "code",
   "execution_count": 8,
   "metadata": {
    "scrolled": true
   },
   "outputs": [
    {
     "data": {
      "text/plain": [
       "True"
      ]
     },
     "execution_count": 8,
     "metadata": {},
     "output_type": "execute_result"
    }
   ],
   "source": [
    "df.index.is_monotonic"
   ]
  },
  {
   "cell_type": "code",
   "execution_count": 9,
   "metadata": {
    "scrolled": true
   },
   "outputs": [
    {
     "data": {
      "text/plain": [
       "<AxesSubplot:xlabel='datetime'>"
      ]
     },
     "execution_count": 9,
     "metadata": {},
     "output_type": "execute_result"
    },
    {
     "data": {
      "image/png": "[encoded data removed]",
      "text/plain": [
       "<Figure size 432x288 with 1 Axes>"
      ]
     },
     "metadata": {
      "needs_background": "light"
     },
     "output_type": "display_data"
    }
   ],
   "source": [
    "df.plot()"
   ]
  },
  {
   "cell_type": "markdown",
   "metadata": {},
   "source": [
    "Все верно, теперь тк нас интересует кол-во действий на след час, группируем выборку по 1 часу"
   ]
  },
  {
   "cell_type": "code",
   "execution_count": 10,
   "metadata": {},
   "outputs": [],
   "source": [
    "df = df.resample('1H').sum()"
   ]
  },
  {
   "cell_type": "code",
   "execution_count": 11,
   "metadata": {},
   "outputs": [
    {
     "data": {
      "text/plain": [
       "<AxesSubplot:xlabel='datetime'>"
      ]
     },
     "execution_count": 11,
     "metadata": {},
     "output_type": "execute_result"
    },
    {
     "data": {
      "image/png": "[encoded data removed]",
      "text/plain": [
       "<Figure size 432x288 with 1 Axes>"
      ]
     },
     "metadata": {
      "needs_background": "light"
     },
     "output_type": "display_data"
    }
   ],
   "source": [
    "df.plot()"
   ]
  },
  {
   "cell_type": "code",
   "execution_count": 12,
   "metadata": {},
   "outputs": [
    {
     "data": {
      "text/html": [
       "<div>\n",
       "<style scoped>\n",
       "    .dataframe tbody tr th:only-of-type {\n",
       "        vertical-align: middle;\n",
       "    }\n",
       "\n",
       "    .dataframe tbody tr th {\n",
       "        vertical-align: top;\n",
       "    }\n",
       "\n",
       "    .dataframe thead th {\n",
       "        text-align: right;\n",
       "    }\n",
       "</style>\n",
       "<table border=\"1\" class=\"dataframe\">\n",
       "  <thead>\n",
       "    <tr style=\"text-align: right;\">\n",
       "      <th></th>\n",
       "      <th>num_orders</th>\n",
       "    </tr>\n",
       "    <tr>\n",
       "      <th>datetime</th>\n",
       "      <th></th>\n",
       "    </tr>\n",
       "  </thead>\n",
       "  <tbody>\n",
       "    <tr>\n",
       "      <th>2018-03-01 00:00:00</th>\n",
       "      <td>124</td>\n",
       "    </tr>\n",
       "    <tr>\n",
       "      <th>2018-03-01 01:00:00</th>\n",
       "      <td>85</td>\n",
       "    </tr>\n",
       "    <tr>\n",
       "      <th>2018-03-01 02:00:00</th>\n",
       "      <td>71</td>\n",
       "    </tr>\n",
       "    <tr>\n",
       "      <th>2018-03-01 03:00:00</th>\n",
       "      <td>66</td>\n",
       "    </tr>\n",
       "    <tr>\n",
       "      <th>2018-03-01 04:00:00</th>\n",
       "      <td>43</td>\n",
       "    </tr>\n",
       "  </tbody>\n",
       "</table>\n",
       "</div>"
      ],
      "text/plain": [
       "                     num_orders\n",
       "datetime                       \n",
       "2018-03-01 00:00:00         124\n",
       "2018-03-01 01:00:00          85\n",
       "2018-03-01 02:00:00          71\n",
       "2018-03-01 03:00:00          66\n",
       "2018-03-01 04:00:00          43"
      ]
     },
     "execution_count": 12,
     "metadata": {},
     "output_type": "execute_result"
    }
   ],
   "source": [
    "df.head()"
   ]
  },
  {
   "cell_type": "code",
   "execution_count": 13,
   "metadata": {
    "scrolled": true
   },
   "outputs": [
    {
     "data": {
      "text/html": [
       "<div>\n",
       "<style scoped>\n",
       "    .dataframe tbody tr th:only-of-type {\n",
       "        vertical-align: middle;\n",
       "    }\n",
       "\n",
       "    .dataframe tbody tr th {\n",
       "        vertical-align: top;\n",
       "    }\n",
       "\n",
       "    .dataframe thead th {\n",
       "        text-align: right;\n",
       "    }\n",
       "</style>\n",
       "<table border=\"1\" class=\"dataframe\">\n",
       "  <thead>\n",
       "    <tr style=\"text-align: right;\">\n",
       "      <th></th>\n",
       "      <th>num_orders</th>\n",
       "    </tr>\n",
       "    <tr>\n",
       "      <th>datetime</th>\n",
       "      <th></th>\n",
       "    </tr>\n",
       "  </thead>\n",
       "  <tbody>\n",
       "    <tr>\n",
       "      <th>2018-08-31 19:00:00</th>\n",
       "      <td>136</td>\n",
       "    </tr>\n",
       "    <tr>\n",
       "      <th>2018-08-31 20:00:00</th>\n",
       "      <td>154</td>\n",
       "    </tr>\n",
       "    <tr>\n",
       "      <th>2018-08-31 21:00:00</th>\n",
       "      <td>159</td>\n",
       "    </tr>\n",
       "    <tr>\n",
       "      <th>2018-08-31 22:00:00</th>\n",
       "      <td>223</td>\n",
       "    </tr>\n",
       "    <tr>\n",
       "      <th>2018-08-31 23:00:00</th>\n",
       "      <td>205</td>\n",
       "    </tr>\n",
       "  </tbody>\n",
       "</table>\n",
       "</div>"
      ],
      "text/plain": [
       "                     num_orders\n",
       "datetime                       \n",
       "2018-08-31 19:00:00         136\n",
       "2018-08-31 20:00:00         154\n",
       "2018-08-31 21:00:00         159\n",
       "2018-08-31 22:00:00         223\n",
       "2018-08-31 23:00:00         205"
      ]
     },
     "execution_count": 13,
     "metadata": {},
     "output_type": "execute_result"
    }
   ],
   "source": [
    "df.tail()"
   ]
  },
  {
   "cell_type": "markdown",
   "metadata": {},
   "source": [
    "**Итог**\n",
    "\n",
    "В данных не было обнаружено ошибок(пропусков, не верного типа данных). Применил ресемплирование по 1 часу и обозначил почему"
   ]
  },
  {
   "cell_type": "markdown",
   "metadata": {},
   "source": [
    "# Анализ"
   ]
  },
  {
   "cell_type": "markdown",
   "metadata": {},
   "source": [
    "Изучим данные для выявления закономерностей, таких как тренд или сезон"
   ]
  },
  {
   "cell_type": "markdown",
   "metadata": {},
   "source": [
    "Отельно посмотрю, как показывают себя данные в разбивке по месяцам"
   ]
  },
  {
   "cell_type": "code",
   "execution_count": 14,
   "metadata": {
    "scrolled": true
   },
   "outputs": [
    {
     "data": {
      "image/png": "[encoded data removed]",
      "text/plain": [
       "<Figure size 720x432 with 1 Axes>"
      ]
     },
     "metadata": {
      "needs_background": "light"
     },
     "output_type": "display_data"
    }
   ],
   "source": [
    "monthly_df = df.resample('1M').mean()\n",
    "\n",
    "# Оформление графика с помощью библиотеки Seaborn\n",
    "plt.figure(figsize=(10, 6))\n",
    "sns.lineplot(data=monthly_df, x=monthly_df.index, y='num_orders', marker='o')\n",
    "\n",
    "plt.title('Среднее потребление энергии по месяцам')\n",
    "plt.xlabel('Дата')\n",
    "plt.ylabel('Среднее потребление энергии')\n",
    "plt.xticks(rotation=45)\n",
    "plt.tight_layout()\n",
    "\n",
    "plt.show()"
   ]
  },
  {
   "cell_type": "markdown",
   "metadata": {},
   "source": [
    "Виден непрерывный рост, похоже на тренд, точно сказать сезонность или нет нельзя, тк у нас данные только за 1 не полный год"
   ]
  },
  {
   "cell_type": "code",
   "execution_count": 15,
   "metadata": {},
   "outputs": [],
   "source": [
    "decomposed = seasonal_decompose(df) "
   ]
  },
  {
   "cell_type": "code",
   "execution_count": 16,
   "metadata": {
    "scrolled": true
   },
   "outputs": [
    {
     "data": {
      "text/plain": [
       "Text(0.5, 1.0, 'Seasonality')"
      ]
     },
     "execution_count": 16,
     "metadata": {},
     "output_type": "execute_result"
    },
    {
     "data": {
      "image/png": "[encoded data removed]",
      "text/plain": [
       "<Figure size 1152x1296 with 2 Axes>"
      ]
     },
     "metadata": {
      "needs_background": "light"
     },
     "output_type": "display_data"
    }
   ],
   "source": [
    "plt.figure(figsize=(16, 18))\n",
    "plt.subplot(311)\n",
    "\n",
    "decomposed.trend.plot(ax=plt.gca())\n",
    "plt.title('Trend')\n",
    "plt.subplot(312)\n",
    "decomposed.seasonal.plot(ax=plt.gca())\n",
    "plt.title('Seasonality')\n"
   ]
  },
  {
   "cell_type": "markdown",
   "metadata": {},
   "source": [
    "С первым графиком все ясно, действительно похоже на тренд, с каждым годом обычно все больше людей находятся в аэропортах, многим нужно такси\n",
    "\n",
    "Со втрым не ясно, нужно рассмотреть ближе"
   ]
  },
  {
   "cell_type": "code",
   "execution_count": 17,
   "metadata": {},
   "outputs": [
    {
     "data": {
      "text/plain": [
       "<AxesSubplot:xlabel='datetime'>"
      ]
     },
     "execution_count": 17,
     "metadata": {},
     "output_type": "execute_result"
    },
    {
     "data": {
      "image/png": "[encoded data removed]",
      "text/plain": [
       "<Figure size 432x288 with 1 Axes>"
      ]
     },
     "metadata": {
      "needs_background": "light"
     },
     "output_type": "display_data"
    }
   ],
   "source": [
    "decomposed.seasonal['2018-04-01': '2018-04-1'].plot()"
   ]
  },
  {
   "cell_type": "markdown",
   "metadata": {},
   "source": [
    "Видно, что каждый день появляются большие колебания. Самый пик в 00, 3, 10 и 16-17 часов, спрос в 6 часов самый маленький"
   ]
  },
  {
   "cell_type": "markdown",
   "metadata": {},
   "source": [
    "# Обучение"
   ]
  },
  {
   "cell_type": "markdown",
   "metadata": {},
   "source": [
    "Перед обучением создадим признаки необходимые для обучения"
   ]
  },
  {
   "cell_type": "code",
   "execution_count": 18,
   "metadata": {},
   "outputs": [],
   "source": [
    "def make_features(data, max_lag, rolling_mean_size):\n",
    "    data['year'] = data.index.year\n",
    "    data['month'] = data.index.month\n",
    "    data['day'] = data.index.day\n",
    "    data['dayofweek'] = data.index.dayofweek\n",
    "    \n",
    "    for lag in range(1, max_lag + 1):\n",
    "        data['lag_{}'.format(lag)] = data['num_orders'].shift(lag)\n",
    "\n",
    "    data['rolling_mean'] = data['num_orders'].shift().rolling(rolling_mean_size).mean()\n"
   ]
  },
  {
   "cell_type": "code",
   "execution_count": 19,
   "metadata": {},
   "outputs": [],
   "source": [
    "make_features(df,24,24)"
   ]
  },
  {
   "cell_type": "markdown",
   "metadata": {},
   "source": [
    "Сделал так, потому что у нас есть повторы горячих точке каждые 24 часа,а нам надо предсказать на день, разбив по дням данные, значит значение должно быть 24"
   ]
  },
  {
   "cell_type": "markdown",
   "metadata": {},
   "source": [
    "создание выборок для обучения"
   ]
  },
  {
   "cell_type": "code",
   "execution_count": 20,
   "metadata": {},
   "outputs": [],
   "source": [
    "train, test = train_test_split(df, shuffle=False, test_size=0.1)\n",
    "train = train.dropna()"
   ]
  },
  {
   "cell_type": "markdown",
   "metadata": {},
   "source": [
    "разделение признаков от целевого признака"
   ]
  },
  {
   "cell_type": "code",
   "execution_count": 21,
   "metadata": {
    "scrolled": true
   },
   "outputs": [],
   "source": [
    "\n",
    "train_f = train.drop('num_orders', axis=1)\n",
    "train_t = train['num_orders']\n",
    "\n",
    "test_f = test.drop('num_orders', axis=1)\n",
    "test_t = test['num_orders']\n",
    "\n"
   ]
  },
  {
   "cell_type": "markdown",
   "metadata": {},
   "source": [
    "Создаем линейную регрессию и обучаем ее кроссом"
   ]
  },
  {
   "cell_type": "markdown",
   "metadata": {},
   "source": [
    "## Линейная регресися"
   ]
  },
  {
   "cell_type": "code",
   "execution_count": 22,
   "metadata": {},
   "outputs": [],
   "source": [
    "model = LinearRegression()\n",
    "model.fit(train_f, train_t)\n",
    "predictions = model.predict(train_f)"
   ]
  },
  {
   "cell_type": "code",
   "execution_count": 23,
   "metadata": {},
   "outputs": [
    {
     "data": {
      "text/plain": [
       "25.818602103995378"
      ]
     },
     "execution_count": 23,
     "metadata": {},
     "output_type": "execute_result"
    }
   ],
   "source": [
    "rmse = mean_squared_error(train_t, predictions, squared=False)\n",
    "rmse"
   ]
  },
  {
   "cell_type": "markdown",
   "metadata": {},
   "source": [
    "Хороший результат, идем дальше. Обучаем дерево"
   ]
  },
  {
   "cell_type": "markdown",
   "metadata": {},
   "source": [
    "## Дерево решений"
   ]
  },
  {
   "cell_type": "code",
   "execution_count": 24,
   "metadata": {},
   "outputs": [],
   "source": [
    "model = DecisionTreeRegressor(random_state=12345)"
   ]
  },
  {
   "cell_type": "code",
   "execution_count": 25,
   "metadata": {},
   "outputs": [],
   "source": [
    "parameters = {'max_depth':range(1,20,1)}\n",
    "\n",
    "tscv = TimeSeriesSplit(n_splits=2)"
   ]
  },
  {
   "cell_type": "code",
   "execution_count": 26,
   "metadata": {},
   "outputs": [],
   "source": [
    "\n",
    "gsearch = GridSearchCV(estimator=model, cv=tscv, param_grid=parameters)"
   ]
  },
  {
   "cell_type": "code",
   "execution_count": 27,
   "metadata": {},
   "outputs": [],
   "source": [
    "\n",
    "train_f = train.drop('num_orders', axis=1)\n",
    "train_t = train['num_orders']\n",
    "\n",
    "test_f = test.drop('num_orders', axis=1)\n",
    "test_t = test['num_orders']\n",
    "\n"
   ]
  },
  {
   "cell_type": "code",
   "execution_count": 28,
   "metadata": {},
   "outputs": [
    {
     "data": {
      "text/plain": [
       "{'max_depth': 3}"
      ]
     },
     "execution_count": 28,
     "metadata": {},
     "output_type": "execute_result"
    }
   ],
   "source": [
    "gsearch.fit(train_f, train_t)\n",
    "gsearch.best_params_"
   ]
  },
  {
   "cell_type": "code",
   "execution_count": 29,
   "metadata": {},
   "outputs": [
    {
     "data": {
      "text/plain": [
       "27.824415377953354"
      ]
     },
     "execution_count": 29,
     "metadata": {},
     "output_type": "execute_result"
    }
   ],
   "source": [
    "predictions = gsearch.predict(train_f)\n",
    "rmse = mean_squared_error(train_t, predictions, squared=False)\n",
    "rmse"
   ]
  },
  {
   "cell_type": "markdown",
   "metadata": {},
   "source": [
    "Результат похуже, теперь лес"
   ]
  },
  {
   "cell_type": "markdown",
   "metadata": {},
   "source": [
    "## Случайный лес"
   ]
  },
  {
   "cell_type": "code",
   "execution_count": 30,
   "metadata": {},
   "outputs": [],
   "source": [
    "\n",
    "model = RandomForestRegressor(random_state=12345)"
   ]
  },
  {
   "cell_type": "code",
   "execution_count": 31,
   "metadata": {},
   "outputs": [],
   "source": [
    "parameters = {'n_estimators':range(10,100,10), 'max_depth':range(1,5,1)}\n",
    "\n",
    "tscv = TimeSeriesSplit(n_splits=2)"
   ]
  },
  {
   "cell_type": "code",
   "execution_count": 32,
   "metadata": {},
   "outputs": [],
   "source": [
    "gsearch = GridSearchCV(estimator=model, cv=tscv, param_grid=parameters)"
   ]
  },
  {
   "cell_type": "code",
   "execution_count": 33,
   "metadata": {},
   "outputs": [
    {
     "data": {
      "text/plain": [
       "{'max_depth': 4, 'n_estimators': 70}"
      ]
     },
     "execution_count": 33,
     "metadata": {},
     "output_type": "execute_result"
    }
   ],
   "source": [
    "gsearch.fit(train_f, train_t)\n",
    "gsearch.best_params_"
   ]
  },
  {
   "cell_type": "code",
   "execution_count": 34,
   "metadata": {},
   "outputs": [
    {
     "data": {
      "text/plain": [
       "25.294965542358742"
      ]
     },
     "execution_count": 34,
     "metadata": {},
     "output_type": "execute_result"
    }
   ],
   "source": [
    "predictions = gsearch.predict(train_f)\n",
    "rmse = mean_squared_error(train_t, predictions, squared=False)\n",
    "rmse"
   ]
  },
  {
   "cell_type": "markdown",
   "metadata": {},
   "source": [
    "Результат близкий к результату дерева, но чуть лучше\n"
   ]
  },
  {
   "cell_type": "markdown",
   "metadata": {},
   "source": [
    "## CatBoostRegressor"
   ]
  },
  {
   "cell_type": "code",
   "execution_count": 35,
   "metadata": {},
   "outputs": [],
   "source": [
    "from catboost import CatBoostRegressor"
   ]
  },
  {
   "cell_type": "code",
   "execution_count": 36,
   "metadata": {},
   "outputs": [
    {
     "data": {
      "text/plain": [
       "11.178335981311683"
      ]
     },
     "execution_count": 36,
     "metadata": {},
     "output_type": "execute_result"
    }
   ],
   "source": [
    "model = CatBoostRegressor(verbose=False)\n",
    "model.fit(train_f, train_t)\n",
    "predictions = model.predict(train_f)\n",
    "rmse = mean_squared_error(train_t, predictions, squared=False)\n",
    "rmse"
   ]
  },
  {
   "cell_type": "markdown",
   "metadata": {},
   "source": [
    "Отличный результат. Входе работы я удалил метод LightGBM в связи с тем, что он очень долго обучался, при этом выдавав результат не такой хороший как catboost"
   ]
  },
  {
   "cell_type": "markdown",
   "metadata": {},
   "source": [
    "# Тестированиие"
   ]
  },
  {
   "cell_type": "markdown",
   "metadata": {},
   "source": [
    "Изобразим на графике реальные данные из трейна и предсказанные"
   ]
  },
  {
   "cell_type": "code",
   "execution_count": 37,
   "metadata": {
    "scrolled": true
   },
   "outputs": [
    {
     "data": {
      "image/png": "[encoded data removed]",
      "text/plain": [
       "<Figure size 720x432 with 1 Axes>"
      ]
     },
     "metadata": {
      "needs_background": "light"
     },
     "output_type": "display_data"
    }
   ],
   "source": [
    "\n",
    "\n",
    "\n",
    "time_labels_real = train_t.index \n",
    "\n",
    "plt.figure(figsize=(10, 6))\n",
    "plt.plot(time_labels_real, train_t, label='Target обучающей выбори', color='blue')\n",
    "plt.plot(time_labels_real, predictions[:len(train_t)], label='Predictions обучающей выборки', color='red')\n",
    "\n",
    "plt.xlabel('Дата')\n",
    "plt.ylabel('Кол-во заказов такси')\n",
    "plt.title('Сравнение предсказанных данных с реальными значениями')\n",
    "plt.legend()\n",
    "plt.grid(True)\n",
    "\n",
    "\n",
    "plt.show()\n"
   ]
  },
  {
   "cell_type": "markdown",
   "metadata": {},
   "source": [
    "Отличный результат, можно проверить его на тестовой выборке"
   ]
  },
  {
   "cell_type": "code",
   "execution_count": 38,
   "metadata": {},
   "outputs": [
    {
     "data": {
      "text/plain": [
       "40.46969263531542"
      ]
     },
     "execution_count": 38,
     "metadata": {},
     "output_type": "execute_result"
    }
   ],
   "source": [
    "predictions = model.predict(test_f)\n",
    "rmse = mean_squared_error(test_t, predictions, squared=False)\n",
    "rmse"
   ]
  },
  {
   "cell_type": "code",
   "execution_count": 39,
   "metadata": {},
   "outputs": [
    {
     "data": {
      "image/png": "[encoded data removed]",
      "text/plain": [
       "<Figure size 720x432 with 1 Axes>"
      ]
     },
     "metadata": {
      "needs_background": "light"
     },
     "output_type": "display_data"
    }
   ],
   "source": [
    "\n",
    "\n",
    "\n",
    "time_labels_real = test_t.index \n",
    "\n",
    "plt.figure(figsize=(10, 6))\n",
    "plt.plot(time_labels_real, test_t, label='Target тестирующей выбори', color='blue')\n",
    "plt.plot(time_labels_real, predictions[:len(test_t)], label='Predictions тестирующей выборки', color='red')\n",
    "\n",
    "plt.xlabel('Дата')\n",
    "plt.ylabel('Кол-во заказов такси')\n",
    "plt.title('Сравнение предсказанных данных с реальными значениями')\n",
    "plt.legend()\n",
    "plt.grid(True)\n",
    "\n",
    "\n",
    "plt.show()\n"
   ]
  },
  {
   "cell_type": "markdown",
   "metadata": {},
   "source": [
    "Результат хуже, чем на обучающей выборке, однако соответствует желанию заказчика, можно оставять\n"
   ]
  },
  {
   "cell_type": "markdown",
   "metadata": {},
   "source": [
    "**Итоговый вывод**\n",
    "\n",
    "Для того, что бы найти модель, которая справится с прогнозом я обучил несколько моделей с помощью подбора гиперпараметров и кросс валидацией. \n",
    "\n",
    "- Линейная регрессия показала неплохой результат на оучающей выборке, однако все другие модели справились намного лучше\n",
    "- Деревянные модели показали неплохой результат, с быстрой скоростью обучения\n",
    "- Градиентный бустинг показал самый лучший показатель метрики при этом потратив очень мало времени на обчения\n",
    "\n",
    "Самым оптимальным решением я счиатаю использовать CatBoostRegressor, метрика самая низкая, скорость обучения также \n",
    "очень быстрая"
   ]
  }
 ],
 "metadata": {
  "ExecuteTimeLog": [
   {
    "duration": 404,
    "start_time": "2023-08-09T13:16:54.167Z"
   },
   {
    "duration": 70,
    "start_time": "2023-08-09T13:17:08.824Z"
   },
   {
    "duration": 11,
    "start_time": "2023-08-09T13:17:14.445Z"
   },
   {
    "duration": 143,
    "start_time": "2023-08-09T13:17:25.390Z"
   },
   {
    "duration": 14,
    "start_time": "2023-08-09T13:17:31.981Z"
   },
   {
    "duration": 7,
    "start_time": "2023-08-09T13:17:54.743Z"
   },
   {
    "duration": 17,
    "start_time": "2023-08-09T13:24:36.157Z"
   },
   {
    "duration": 10,
    "start_time": "2023-08-09T13:24:45.076Z"
   },
   {
    "duration": 1081,
    "start_time": "2023-08-09T13:24:50.727Z"
   },
   {
    "duration": 9,
    "start_time": "2023-08-09T13:24:59.490Z"
   },
   {
    "duration": 12,
    "start_time": "2023-08-09T13:25:03.880Z"
   },
   {
    "duration": 373,
    "start_time": "2023-08-09T13:25:18.958Z"
   },
   {
    "duration": 41,
    "start_time": "2023-08-09T13:25:19.332Z"
   },
   {
    "duration": 12,
    "start_time": "2023-08-09T13:25:19.375Z"
   },
   {
    "duration": 25,
    "start_time": "2023-08-09T13:25:19.388Z"
   },
   {
    "duration": 27,
    "start_time": "2023-08-09T13:25:19.416Z"
   },
   {
    "duration": 24,
    "start_time": "2023-08-09T13:25:19.444Z"
   },
   {
    "duration": 34,
    "start_time": "2023-08-09T13:25:19.469Z"
   },
   {
    "duration": 46,
    "start_time": "2023-08-09T13:25:45.846Z"
   },
   {
    "duration": 6,
    "start_time": "2023-08-09T13:25:46.516Z"
   },
   {
    "duration": 6,
    "start_time": "2023-08-09T13:25:47.684Z"
   },
   {
    "duration": 12,
    "start_time": "2023-08-09T13:25:48.178Z"
   },
   {
    "duration": 1356,
    "start_time": "2023-08-09T13:25:48.215Z"
   },
   {
    "duration": 0,
    "start_time": "2023-08-09T13:25:49.573Z"
   },
   {
    "duration": 6,
    "start_time": "2023-08-09T13:27:39.038Z"
   },
   {
    "duration": 4,
    "start_time": "2023-08-09T13:28:03.965Z"
   },
   {
    "duration": 5,
    "start_time": "2023-08-09T13:28:14.075Z"
   },
   {
    "duration": 1016,
    "start_time": "2023-08-09T13:28:29.668Z"
   },
   {
    "duration": 11,
    "start_time": "2023-08-09T13:29:22.119Z"
   },
   {
    "duration": 552,
    "start_time": "2023-08-09T13:29:29.658Z"
   },
   {
    "duration": 5,
    "start_time": "2023-08-09T13:29:32.024Z"
   },
   {
    "duration": 3,
    "start_time": "2023-08-09T13:29:35.037Z"
   },
   {
    "duration": 368,
    "start_time": "2023-08-09T13:30:24.764Z"
   },
   {
    "duration": 60,
    "start_time": "2023-08-09T13:30:25.135Z"
   },
   {
    "duration": 17,
    "start_time": "2023-08-09T13:30:25.197Z"
   },
   {
    "duration": 10,
    "start_time": "2023-08-09T13:30:25.216Z"
   },
   {
    "duration": 20,
    "start_time": "2023-08-09T13:30:25.228Z"
   },
   {
    "duration": 6,
    "start_time": "2023-08-09T13:30:25.250Z"
   },
   {
    "duration": 23,
    "start_time": "2023-08-09T13:30:25.258Z"
   },
   {
    "duration": 36,
    "start_time": "2023-08-09T13:30:25.283Z"
   },
   {
    "duration": 849,
    "start_time": "2023-08-09T13:30:25.321Z"
   },
   {
    "duration": 10,
    "start_time": "2023-08-09T13:30:26.172Z"
   },
   {
    "duration": 102,
    "start_time": "2023-08-09T13:30:26.184Z"
   },
   {
    "duration": 210,
    "start_time": "2023-08-09T13:30:47.257Z"
   },
   {
    "duration": 6,
    "start_time": "2023-08-09T13:30:53.437Z"
   },
   {
    "duration": 166,
    "start_time": "2023-08-09T13:30:53.974Z"
   },
   {
    "duration": 415,
    "start_time": "2023-08-09T13:31:03.766Z"
   },
   {
    "duration": 56,
    "start_time": "2023-08-09T13:31:04.183Z"
   },
   {
    "duration": 13,
    "start_time": "2023-08-09T13:31:04.240Z"
   },
   {
    "duration": 26,
    "start_time": "2023-08-09T13:31:04.254Z"
   },
   {
    "duration": 47,
    "start_time": "2023-08-09T13:31:04.283Z"
   },
   {
    "duration": 21,
    "start_time": "2023-08-09T13:31:04.332Z"
   },
   {
    "duration": 44,
    "start_time": "2023-08-09T13:31:04.354Z"
   },
   {
    "duration": 22,
    "start_time": "2023-08-09T13:31:04.413Z"
   },
   {
    "duration": 772,
    "start_time": "2023-08-09T13:31:04.437Z"
   },
   {
    "duration": 10,
    "start_time": "2023-08-09T13:31:05.214Z"
   },
   {
    "duration": 307,
    "start_time": "2023-08-09T13:31:05.225Z"
   },
   {
    "duration": 6,
    "start_time": "2023-08-09T13:31:54.823Z"
   },
   {
    "duration": 9,
    "start_time": "2023-08-09T13:32:14.340Z"
   },
   {
    "duration": 7,
    "start_time": "2023-08-09T13:32:24.064Z"
   },
   {
    "duration": 16,
    "start_time": "2023-08-09T14:15:12.213Z"
   },
   {
    "duration": 27,
    "start_time": "2023-08-09T14:15:15.492Z"
   },
   {
    "duration": 161,
    "start_time": "2023-08-09T14:15:23.765Z"
   },
   {
    "duration": 498,
    "start_time": "2023-08-09T14:16:22.341Z"
   },
   {
    "duration": 146,
    "start_time": "2023-08-09T14:18:01.991Z"
   },
   {
    "duration": 10,
    "start_time": "2023-08-09T14:18:49.032Z"
   },
   {
    "duration": 23,
    "start_time": "2023-08-09T14:19:07.037Z"
   },
   {
    "duration": 512,
    "start_time": "2023-08-09T14:19:21.173Z"
   },
   {
    "duration": 328,
    "start_time": "2023-08-09T14:20:04.618Z"
   },
   {
    "duration": 348,
    "start_time": "2023-08-09T14:20:30.197Z"
   },
   {
    "duration": 309,
    "start_time": "2023-08-09T14:20:35.573Z"
   },
   {
    "duration": 7,
    "start_time": "2023-08-09T14:21:00.232Z"
   },
   {
    "duration": 308,
    "start_time": "2023-08-09T14:21:16.884Z"
   },
   {
    "duration": 305,
    "start_time": "2023-08-09T14:21:31.422Z"
   },
   {
    "duration": 150,
    "start_time": "2023-08-09T14:22:15.792Z"
   },
   {
    "duration": 21,
    "start_time": "2023-08-09T14:24:47.933Z"
   },
   {
    "duration": 4,
    "start_time": "2023-08-09T14:24:55.616Z"
   },
   {
    "duration": 621,
    "start_time": "2023-08-09T14:25:43.777Z"
   },
   {
    "duration": 454,
    "start_time": "2023-08-09T14:26:18.226Z"
   },
   {
    "duration": 673,
    "start_time": "2023-08-09T14:26:42.815Z"
   },
   {
    "duration": 32,
    "start_time": "2023-08-09T14:26:59.299Z"
   },
   {
    "duration": 696,
    "start_time": "2023-08-09T14:26:59.657Z"
   },
   {
    "duration": 6,
    "start_time": "2023-08-09T14:27:13.051Z"
   },
   {
    "duration": 799,
    "start_time": "2023-08-09T14:27:14.129Z"
   },
   {
    "duration": 488,
    "start_time": "2023-08-09T14:27:28.166Z"
   },
   {
    "duration": 348,
    "start_time": "2023-08-09T14:27:34.031Z"
   },
   {
    "duration": 677,
    "start_time": "2023-08-09T14:27:38.197Z"
   },
   {
    "duration": 713,
    "start_time": "2023-08-09T14:27:40.535Z"
   },
   {
    "duration": 1057,
    "start_time": "2023-08-09T14:27:55.721Z"
   },
   {
    "duration": 610,
    "start_time": "2023-08-09T14:28:43.236Z"
   },
   {
    "duration": 685,
    "start_time": "2023-08-09T14:28:50.432Z"
   },
   {
    "duration": 514,
    "start_time": "2023-08-09T14:28:54.847Z"
   },
   {
    "duration": 230,
    "start_time": "2023-08-09T14:29:12.053Z"
   },
   {
    "duration": 183,
    "start_time": "2023-08-09T14:29:19.046Z"
   },
   {
    "duration": 216,
    "start_time": "2023-08-09T14:29:24.158Z"
   },
   {
    "duration": 164,
    "start_time": "2023-08-09T14:30:16.376Z"
   },
   {
    "duration": 149,
    "start_time": "2023-08-09T14:30:45.580Z"
   },
   {
    "duration": 180,
    "start_time": "2023-08-09T14:31:11.458Z"
   },
   {
    "duration": 13,
    "start_time": "2023-08-09T14:31:33.692Z"
   },
   {
    "duration": 8,
    "start_time": "2023-08-09T14:31:38.446Z"
   },
   {
    "duration": 165,
    "start_time": "2023-08-09T14:32:38.128Z"
   },
   {
    "duration": 161,
    "start_time": "2023-08-09T14:36:19.048Z"
   },
   {
    "duration": 160,
    "start_time": "2023-08-09T14:36:49.587Z"
   },
   {
    "duration": 220,
    "start_time": "2023-08-09T14:36:58.145Z"
   },
   {
    "duration": 9,
    "start_time": "2023-08-09T14:43:55.226Z"
   },
   {
    "duration": 358,
    "start_time": "2023-08-09T14:44:09.436Z"
   },
   {
    "duration": 9,
    "start_time": "2023-08-09T14:44:13.973Z"
   },
   {
    "duration": 4,
    "start_time": "2023-08-09T14:44:51.235Z"
   },
   {
    "duration": 5,
    "start_time": "2023-08-09T14:44:59.755Z"
   },
   {
    "duration": 14,
    "start_time": "2023-08-09T14:46:21.299Z"
   },
   {
    "duration": 8,
    "start_time": "2023-08-09T14:46:26.522Z"
   },
   {
    "duration": 19,
    "start_time": "2023-08-09T14:46:27.169Z"
   },
   {
    "duration": 4,
    "start_time": "2023-08-09T14:46:39.374Z"
   },
   {
    "duration": 7,
    "start_time": "2023-08-09T14:46:44.144Z"
   },
   {
    "duration": 9,
    "start_time": "2023-08-09T14:47:36.854Z"
   },
   {
    "duration": 3,
    "start_time": "2023-08-09T14:48:04.761Z"
   },
   {
    "duration": 9,
    "start_time": "2023-08-09T14:49:04.447Z"
   },
   {
    "duration": 11,
    "start_time": "2023-08-09T14:49:14.327Z"
   },
   {
    "duration": 7,
    "start_time": "2023-08-09T14:49:14.556Z"
   },
   {
    "duration": 14,
    "start_time": "2023-08-09T14:49:17.657Z"
   },
   {
    "duration": 5,
    "start_time": "2023-08-09T14:49:24.518Z"
   },
   {
    "duration": 5,
    "start_time": "2023-08-09T14:49:58.070Z"
   },
   {
    "duration": 21,
    "start_time": "2023-08-09T14:50:07.242Z"
   },
   {
    "duration": 12,
    "start_time": "2023-08-09T14:51:52.862Z"
   },
   {
    "duration": 17,
    "start_time": "2023-08-09T14:51:57.030Z"
   },
   {
    "duration": 5,
    "start_time": "2023-08-09T14:52:19.846Z"
   },
   {
    "duration": 1284,
    "start_time": "2023-08-09T14:52:22.731Z"
   },
   {
    "duration": 5,
    "start_time": "2023-08-09T14:52:34.643Z"
   },
   {
    "duration": 35,
    "start_time": "2023-08-09T14:52:35.423Z"
   },
   {
    "duration": 25,
    "start_time": "2023-08-09T14:52:43.917Z"
   },
   {
    "duration": 103,
    "start_time": "2023-08-09T14:53:05.691Z"
   },
   {
    "duration": 1528,
    "start_time": "2023-08-09T14:53:24.129Z"
   },
   {
    "duration": 61,
    "start_time": "2023-08-09T14:53:25.660Z"
   },
   {
    "duration": 11,
    "start_time": "2023-08-09T14:53:25.722Z"
   },
   {
    "duration": 36,
    "start_time": "2023-08-09T14:53:25.734Z"
   },
   {
    "duration": 79,
    "start_time": "2023-08-09T14:53:25.773Z"
   },
   {
    "duration": 26,
    "start_time": "2023-08-09T14:53:25.854Z"
   },
   {
    "duration": 73,
    "start_time": "2023-08-09T14:53:25.881Z"
   },
   {
    "duration": 34,
    "start_time": "2023-08-09T14:53:25.956Z"
   },
   {
    "duration": 773,
    "start_time": "2023-08-09T14:53:25.993Z"
   },
   {
    "duration": 8,
    "start_time": "2023-08-09T14:53:26.767Z"
   },
   {
    "duration": 292,
    "start_time": "2023-08-09T14:53:26.777Z"
   },
   {
    "duration": 7,
    "start_time": "2023-08-09T14:53:27.071Z"
   },
   {
    "duration": 68,
    "start_time": "2023-08-09T14:53:27.079Z"
   },
   {
    "duration": 423,
    "start_time": "2023-08-09T14:53:27.149Z"
   },
   {
    "duration": 7,
    "start_time": "2023-08-09T14:53:27.573Z"
   },
   {
    "duration": 562,
    "start_time": "2023-08-09T14:53:27.582Z"
   },
   {
    "duration": 184,
    "start_time": "2023-08-09T14:53:28.146Z"
   },
   {
    "duration": 5,
    "start_time": "2023-08-09T14:53:28.332Z"
   },
   {
    "duration": 25,
    "start_time": "2023-08-09T14:53:28.339Z"
   },
   {
    "duration": 10,
    "start_time": "2023-08-09T14:53:28.366Z"
   },
   {
    "duration": 14,
    "start_time": "2023-08-09T14:53:28.377Z"
   },
   {
    "duration": 73,
    "start_time": "2023-08-09T14:53:28.393Z"
   },
   {
    "duration": 30,
    "start_time": "2023-08-09T14:53:28.468Z"
   },
   {
    "duration": 72,
    "start_time": "2023-08-09T14:53:28.499Z"
   },
   {
    "duration": 15,
    "start_time": "2023-08-09T14:53:28.572Z"
   },
   {
    "duration": 82,
    "start_time": "2023-08-09T14:53:28.589Z"
   },
   {
    "duration": 295,
    "start_time": "2023-08-09T14:53:36.030Z"
   },
   {
    "duration": 119,
    "start_time": "2023-08-09T14:53:51.752Z"
   },
   {
    "duration": 2,
    "start_time": "2023-08-09T14:53:56.589Z"
   },
   {
    "duration": 126,
    "start_time": "2023-08-09T14:53:59.130Z"
   },
   {
    "duration": 22,
    "start_time": "2023-08-09T14:54:04.491Z"
   },
   {
    "duration": 6,
    "start_time": "2023-08-09T14:54:29.690Z"
   },
   {
    "duration": 1787,
    "start_time": "2023-08-09T14:55:01.038Z"
   },
   {
    "duration": 55,
    "start_time": "2023-08-09T14:55:02.838Z"
   },
   {
    "duration": 39,
    "start_time": "2023-08-09T14:55:02.894Z"
   },
   {
    "duration": 46,
    "start_time": "2023-08-09T14:55:02.934Z"
   },
   {
    "duration": 70,
    "start_time": "2023-08-09T14:55:02.983Z"
   },
   {
    "duration": 30,
    "start_time": "2023-08-09T14:55:03.055Z"
   },
   {
    "duration": 74,
    "start_time": "2023-08-09T14:55:03.086Z"
   },
   {
    "duration": 34,
    "start_time": "2023-08-09T14:55:03.161Z"
   },
   {
    "duration": 792,
    "start_time": "2023-08-09T14:55:03.197Z"
   },
   {
    "duration": 29,
    "start_time": "2023-08-09T14:55:03.990Z"
   },
   {
    "duration": 300,
    "start_time": "2023-08-09T14:55:04.032Z"
   },
   {
    "duration": 22,
    "start_time": "2023-08-09T14:55:04.338Z"
   },
   {
    "duration": 24,
    "start_time": "2023-08-09T14:55:04.362Z"
   },
   {
    "duration": 443,
    "start_time": "2023-08-09T14:55:04.389Z"
   },
   {
    "duration": 22,
    "start_time": "2023-08-09T14:55:04.834Z"
   },
   {
    "duration": 622,
    "start_time": "2023-08-09T14:55:04.858Z"
   },
   {
    "duration": 255,
    "start_time": "2023-08-09T14:55:05.482Z"
   },
   {
    "duration": 16,
    "start_time": "2023-08-09T14:55:05.738Z"
   },
   {
    "duration": 51,
    "start_time": "2023-08-09T14:55:05.758Z"
   },
   {
    "duration": 44,
    "start_time": "2023-08-09T14:55:05.810Z"
   },
   {
    "duration": 12,
    "start_time": "2023-08-09T14:55:05.856Z"
   },
   {
    "duration": 13,
    "start_time": "2023-08-09T14:55:05.870Z"
   },
   {
    "duration": 78,
    "start_time": "2023-08-09T14:55:05.886Z"
   },
   {
    "duration": 59,
    "start_time": "2023-08-09T14:55:05.966Z"
   },
   {
    "duration": 45,
    "start_time": "2023-08-09T14:55:06.027Z"
   },
   {
    "duration": 217,
    "start_time": "2023-08-09T14:55:06.073Z"
   },
   {
    "duration": 0,
    "start_time": "2023-08-09T14:55:06.292Z"
   },
   {
    "duration": 0,
    "start_time": "2023-08-09T14:55:06.294Z"
   },
   {
    "duration": 7,
    "start_time": "2023-08-09T14:55:18.834Z"
   },
   {
    "duration": 10,
    "start_time": "2023-08-09T14:55:24.443Z"
   },
   {
    "duration": 13,
    "start_time": "2023-08-09T14:55:46.936Z"
   },
   {
    "duration": 9,
    "start_time": "2023-08-09T14:55:47.450Z"
   },
   {
    "duration": 3,
    "start_time": "2023-08-09T14:56:03.252Z"
   },
   {
    "duration": 16,
    "start_time": "2023-08-09T14:56:07.807Z"
   },
   {
    "duration": 23,
    "start_time": "2023-08-09T14:56:12.561Z"
   },
   {
    "duration": 1680,
    "start_time": "2023-08-09T14:56:38.781Z"
   },
   {
    "duration": 74,
    "start_time": "2023-08-09T14:56:40.463Z"
   },
   {
    "duration": 14,
    "start_time": "2023-08-09T14:56:40.539Z"
   },
   {
    "duration": 25,
    "start_time": "2023-08-09T14:56:40.555Z"
   },
   {
    "duration": 39,
    "start_time": "2023-08-09T14:56:40.582Z"
   },
   {
    "duration": 44,
    "start_time": "2023-08-09T14:56:40.629Z"
   },
   {
    "duration": 8,
    "start_time": "2023-08-09T14:56:40.675Z"
   },
   {
    "duration": 11,
    "start_time": "2023-08-09T14:56:40.684Z"
   },
   {
    "duration": 845,
    "start_time": "2023-08-09T14:56:40.696Z"
   },
   {
    "duration": 19,
    "start_time": "2023-08-09T14:56:41.545Z"
   },
   {
    "duration": 376,
    "start_time": "2023-08-09T14:56:41.568Z"
   },
   {
    "duration": 11,
    "start_time": "2023-08-09T14:56:41.946Z"
   },
   {
    "duration": 21,
    "start_time": "2023-08-09T14:56:41.959Z"
   },
   {
    "duration": 529,
    "start_time": "2023-08-09T14:56:41.983Z"
   },
   {
    "duration": 27,
    "start_time": "2023-08-09T14:56:42.522Z"
   },
   {
    "duration": 641,
    "start_time": "2023-08-09T14:56:42.560Z"
   },
   {
    "duration": 199,
    "start_time": "2023-08-09T14:56:43.218Z"
   },
   {
    "duration": 5,
    "start_time": "2023-08-09T14:56:43.419Z"
   },
   {
    "duration": 45,
    "start_time": "2023-08-09T14:56:43.430Z"
   },
   {
    "duration": 36,
    "start_time": "2023-08-09T14:56:43.477Z"
   },
   {
    "duration": 44,
    "start_time": "2023-08-09T14:56:43.515Z"
   },
   {
    "duration": 18,
    "start_time": "2023-08-09T14:56:43.562Z"
   },
   {
    "duration": 9,
    "start_time": "2023-08-09T14:56:43.582Z"
   },
   {
    "duration": 9,
    "start_time": "2023-08-09T14:56:43.593Z"
   },
   {
    "duration": 71,
    "start_time": "2023-08-09T14:56:43.604Z"
   },
   {
    "duration": 14,
    "start_time": "2023-08-09T14:56:43.676Z"
   },
   {
    "duration": 254,
    "start_time": "2023-08-09T14:56:43.692Z"
   },
   {
    "duration": 0,
    "start_time": "2023-08-09T14:56:43.953Z"
   },
   {
    "duration": 0,
    "start_time": "2023-08-09T14:56:43.954Z"
   },
   {
    "duration": 9,
    "start_time": "2023-08-09T14:57:02.464Z"
   },
   {
    "duration": 5,
    "start_time": "2023-08-09T14:57:05.067Z"
   },
   {
    "duration": 27,
    "start_time": "2023-08-09T14:57:05.838Z"
   },
   {
    "duration": 1805,
    "start_time": "2023-08-09T14:58:14.164Z"
   },
   {
    "duration": 89,
    "start_time": "2023-08-09T14:58:15.975Z"
   },
   {
    "duration": 13,
    "start_time": "2023-08-09T14:58:16.067Z"
   },
   {
    "duration": 96,
    "start_time": "2023-08-09T14:58:16.082Z"
   },
   {
    "duration": 66,
    "start_time": "2023-08-09T14:58:16.181Z"
   },
   {
    "duration": 32,
    "start_time": "2023-08-09T14:58:16.249Z"
   },
   {
    "duration": 88,
    "start_time": "2023-08-09T14:58:16.283Z"
   },
   {
    "duration": 82,
    "start_time": "2023-08-09T14:58:16.372Z"
   },
   {
    "duration": 904,
    "start_time": "2023-08-09T14:58:16.456Z"
   },
   {
    "duration": 11,
    "start_time": "2023-08-09T14:58:17.365Z"
   },
   {
    "duration": 344,
    "start_time": "2023-08-09T14:58:17.378Z"
   },
   {
    "duration": 10,
    "start_time": "2023-08-09T14:58:17.724Z"
   },
   {
    "duration": 39,
    "start_time": "2023-08-09T14:58:17.740Z"
   },
   {
    "duration": 499,
    "start_time": "2023-08-09T14:58:17.782Z"
   },
   {
    "duration": 9,
    "start_time": "2023-08-09T14:58:18.282Z"
   },
   {
    "duration": 705,
    "start_time": "2023-08-09T14:58:18.293Z"
   },
   {
    "duration": 187,
    "start_time": "2023-08-09T14:58:19.024Z"
   },
   {
    "duration": 148,
    "start_time": "2023-08-09T14:58:19.213Z"
   },
   {
    "duration": 0,
    "start_time": "2023-08-09T14:58:19.365Z"
   },
   {
    "duration": 0,
    "start_time": "2023-08-09T14:58:19.366Z"
   },
   {
    "duration": 0,
    "start_time": "2023-08-09T14:58:19.367Z"
   },
   {
    "duration": 0,
    "start_time": "2023-08-09T14:58:19.368Z"
   },
   {
    "duration": 0,
    "start_time": "2023-08-09T14:58:19.370Z"
   },
   {
    "duration": 0,
    "start_time": "2023-08-09T14:58:19.371Z"
   },
   {
    "duration": 0,
    "start_time": "2023-08-09T14:58:19.372Z"
   },
   {
    "duration": 0,
    "start_time": "2023-08-09T14:58:19.374Z"
   },
   {
    "duration": 19,
    "start_time": "2023-08-09T14:58:31.343Z"
   },
   {
    "duration": 13,
    "start_time": "2023-08-09T14:58:51.536Z"
   },
   {
    "duration": 11,
    "start_time": "2023-08-09T14:58:53.075Z"
   },
   {
    "duration": 26,
    "start_time": "2023-08-09T14:58:53.735Z"
   },
   {
    "duration": 6,
    "start_time": "2023-08-09T14:58:54.084Z"
   },
   {
    "duration": 23,
    "start_time": "2023-08-09T14:58:54.421Z"
   },
   {
    "duration": 82,
    "start_time": "2023-08-09T14:59:09.457Z"
   },
   {
    "duration": 5,
    "start_time": "2023-08-09T14:59:13.675Z"
   },
   {
    "duration": 6,
    "start_time": "2023-08-09T14:59:25.586Z"
   },
   {
    "duration": 10,
    "start_time": "2023-08-09T15:00:29.999Z"
   },
   {
    "duration": 15,
    "start_time": "2023-08-09T15:00:42.742Z"
   },
   {
    "duration": 16,
    "start_time": "2023-08-09T15:00:52.894Z"
   },
   {
    "duration": 4,
    "start_time": "2023-08-09T15:02:37.247Z"
   },
   {
    "duration": 18,
    "start_time": "2023-08-09T15:02:41.654Z"
   },
   {
    "duration": 13,
    "start_time": "2023-08-09T15:02:51.947Z"
   },
   {
    "duration": 11,
    "start_time": "2023-08-09T15:03:46.866Z"
   },
   {
    "duration": 36,
    "start_time": "2023-08-09T15:04:08.536Z"
   },
   {
    "duration": 28,
    "start_time": "2023-08-09T15:25:51.148Z"
   },
   {
    "duration": 27,
    "start_time": "2023-08-09T15:26:35.364Z"
   },
   {
    "duration": 298,
    "start_time": "2023-08-09T15:27:18.320Z"
   },
   {
    "duration": 9,
    "start_time": "2023-08-09T15:27:48.068Z"
   },
   {
    "duration": 6,
    "start_time": "2023-08-09T15:29:52.724Z"
   },
   {
    "duration": 15,
    "start_time": "2023-08-09T15:30:06.241Z"
   },
   {
    "duration": 4,
    "start_time": "2023-08-09T15:30:13.316Z"
   },
   {
    "duration": 4,
    "start_time": "2023-08-09T15:30:20.118Z"
   },
   {
    "duration": 15745,
    "start_time": "2023-08-09T15:30:37.681Z"
   },
   {
    "duration": 164,
    "start_time": "2023-08-09T15:31:11.917Z"
   },
   {
    "duration": 10,
    "start_time": "2023-08-09T15:31:55.125Z"
   },
   {
    "duration": 6,
    "start_time": "2023-08-09T15:32:16.224Z"
   },
   {
    "duration": 9,
    "start_time": "2023-08-09T15:32:33.772Z"
   },
   {
    "duration": 44,
    "start_time": "2023-08-09T15:32:54.187Z"
   },
   {
    "duration": 782923,
    "start_time": "2023-08-09T15:33:18.020Z"
   },
   {
    "duration": 105,
    "start_time": "2023-08-09T15:46:20.960Z"
   },
   {
    "duration": 0,
    "start_time": "2023-08-09T15:46:21.070Z"
   },
   {
    "duration": 75,
    "start_time": "2023-08-09T15:51:06.646Z"
   },
   {
    "duration": 12,
    "start_time": "2023-08-09T15:51:07.738Z"
   },
   {
    "duration": 7,
    "start_time": "2023-08-09T15:51:18.406Z"
   },
   {
    "duration": 4,
    "start_time": "2023-08-09T15:51:24.946Z"
   },
   {
    "duration": 46,
    "start_time": "2023-08-10T10:31:53.329Z"
   },
   {
    "duration": 1693,
    "start_time": "2023-08-10T10:31:58.794Z"
   },
   {
    "duration": 171,
    "start_time": "2023-08-10T10:32:00.494Z"
   },
   {
    "duration": 13,
    "start_time": "2023-08-10T10:32:00.667Z"
   },
   {
    "duration": 26,
    "start_time": "2023-08-10T10:32:00.689Z"
   },
   {
    "duration": 12,
    "start_time": "2023-08-10T10:32:00.798Z"
   },
   {
    "duration": 4,
    "start_time": "2023-08-10T10:32:01.094Z"
   },
   {
    "duration": 6,
    "start_time": "2023-08-10T10:32:01.788Z"
   },
   {
    "duration": 4,
    "start_time": "2023-08-10T10:32:01.912Z"
   },
   {
    "duration": 6,
    "start_time": "2023-08-10T10:32:22.394Z"
   },
   {
    "duration": 5,
    "start_time": "2023-08-10T10:32:30.987Z"
   },
   {
    "duration": 743,
    "start_time": "2023-08-10T10:32:37.099Z"
   },
   {
    "duration": 10,
    "start_time": "2023-08-10T10:34:05.586Z"
   },
   {
    "duration": 7,
    "start_time": "2023-08-10T10:34:10.594Z"
   },
   {
    "duration": 231,
    "start_time": "2023-08-10T10:34:10.805Z"
   },
   {
    "duration": 8,
    "start_time": "2023-08-10T10:34:12.896Z"
   },
   {
    "duration": 7,
    "start_time": "2023-08-10T10:34:13.127Z"
   },
   {
    "duration": 124,
    "start_time": "2023-08-10T10:36:20.427Z"
   },
   {
    "duration": 9,
    "start_time": "2023-08-10T10:36:40.097Z"
   },
   {
    "duration": 8,
    "start_time": "2023-08-10T10:36:47.951Z"
   },
   {
    "duration": 17,
    "start_time": "2023-08-10T10:36:50.039Z"
   },
   {
    "duration": 7,
    "start_time": "2023-08-10T10:37:11.398Z"
   },
   {
    "duration": 267,
    "start_time": "2023-08-10T10:37:13.648Z"
   },
   {
    "duration": 473,
    "start_time": "2023-08-10T10:38:49.547Z"
   },
   {
    "duration": 13,
    "start_time": "2023-08-10T10:39:49.494Z"
   },
   {
    "duration": 593,
    "start_time": "2023-08-10T10:39:49.930Z"
   },
   {
    "duration": 267,
    "start_time": "2023-08-10T10:39:52.640Z"
   },
   {
    "duration": 10,
    "start_time": "2023-08-10T10:42:58.894Z"
   },
   {
    "duration": 10,
    "start_time": "2023-08-10T10:43:05.451Z"
   },
   {
    "duration": 11,
    "start_time": "2023-08-10T10:43:06.104Z"
   },
   {
    "duration": 5,
    "start_time": "2023-08-10T10:43:06.610Z"
   },
   {
    "duration": 39,
    "start_time": "2023-08-10T10:43:07.706Z"
   },
   {
    "duration": 24,
    "start_time": "2023-08-10T10:43:12.494Z"
   },
   {
    "duration": 15,
    "start_time": "2023-08-10T10:43:13.096Z"
   },
   {
    "duration": 5,
    "start_time": "2023-08-10T10:43:13.428Z"
   },
   {
    "duration": 984,
    "start_time": "2023-08-10T10:43:13.818Z"
   },
   {
    "duration": 11,
    "start_time": "2023-08-10T10:43:20.028Z"
   },
   {
    "duration": 22,
    "start_time": "2023-08-10T10:43:20.285Z"
   },
   {
    "duration": 7,
    "start_time": "2023-08-10T10:43:20.412Z"
   },
   {
    "duration": 1047,
    "start_time": "2023-08-10T10:43:20.556Z"
   },
   {
    "duration": 6990,
    "start_time": "2023-08-10T10:43:26.502Z"
   },
   {
    "duration": 285,
    "start_time": "2023-08-10T10:43:33.498Z"
   },
   {
    "duration": 24,
    "start_time": "2023-08-10T10:43:33.792Z"
   },
   {
    "duration": 178,
    "start_time": "2023-08-10T10:43:33.824Z"
   },
   {
    "duration": 136,
    "start_time": "2023-08-10T10:43:46.023Z"
   },
   {
    "duration": 157,
    "start_time": "2023-08-10T10:43:46.395Z"
   },
   {
    "duration": 27,
    "start_time": "2023-08-10T10:43:46.683Z"
   },
   {
    "duration": 27,
    "start_time": "2023-08-10T10:43:47.201Z"
   },
   {
    "duration": 49,
    "start_time": "2023-08-10T10:43:51.330Z"
   },
   {
    "duration": 136,
    "start_time": "2023-08-10T10:43:51.494Z"
   },
   {
    "duration": 15,
    "start_time": "2023-08-10T10:43:51.632Z"
   },
   {
    "duration": 28,
    "start_time": "2023-08-10T10:43:52.090Z"
   },
   {
    "duration": 11,
    "start_time": "2023-08-10T10:43:55.653Z"
   },
   {
    "duration": 159,
    "start_time": "2023-08-10T10:43:55.795Z"
   },
   {
    "duration": 22,
    "start_time": "2023-08-10T10:43:56.089Z"
   },
   {
    "duration": 29,
    "start_time": "2023-08-10T10:43:56.192Z"
   },
   {
    "duration": 1664,
    "start_time": "2023-08-10T10:44:24.113Z"
   },
   {
    "duration": 78,
    "start_time": "2023-08-10T10:44:25.779Z"
   },
   {
    "duration": 13,
    "start_time": "2023-08-10T10:44:25.859Z"
   },
   {
    "duration": 40,
    "start_time": "2023-08-10T10:44:25.874Z"
   },
   {
    "duration": 12,
    "start_time": "2023-08-10T10:44:25.918Z"
   },
   {
    "duration": 23,
    "start_time": "2023-08-10T10:44:25.933Z"
   },
   {
    "duration": 47,
    "start_time": "2023-08-10T10:44:25.958Z"
   },
   {
    "duration": 11,
    "start_time": "2023-08-10T10:44:26.007Z"
   },
   {
    "duration": 806,
    "start_time": "2023-08-10T10:44:26.019Z"
   },
   {
    "duration": 9,
    "start_time": "2023-08-10T10:44:26.826Z"
   },
   {
    "duration": 286,
    "start_time": "2023-08-10T10:44:26.836Z"
   },
   {
    "duration": 8,
    "start_time": "2023-08-10T10:44:27.124Z"
   },
   {
    "duration": 12,
    "start_time": "2023-08-10T10:44:27.133Z"
   },
   {
    "duration": 465,
    "start_time": "2023-08-10T10:44:27.148Z"
   },
   {
    "duration": 9,
    "start_time": "2023-08-10T10:44:27.615Z"
   },
   {
    "duration": 665,
    "start_time": "2023-08-10T10:44:27.627Z"
   },
   {
    "duration": 203,
    "start_time": "2023-08-10T10:44:28.298Z"
   },
   {
    "duration": 7,
    "start_time": "2023-08-10T10:44:28.502Z"
   },
   {
    "duration": 20,
    "start_time": "2023-08-10T10:44:28.513Z"
   },
   {
    "duration": 8,
    "start_time": "2023-08-10T10:44:28.535Z"
   },
   {
    "duration": 5,
    "start_time": "2023-08-10T10:44:28.545Z"
   },
   {
    "duration": 57,
    "start_time": "2023-08-10T10:44:28.552Z"
   },
   {
    "duration": 418,
    "start_time": "2023-08-10T10:44:28.611Z"
   },
   {
    "duration": 13,
    "start_time": "2023-08-10T10:44:29.031Z"
   },
   {
    "duration": 6,
    "start_time": "2023-08-10T10:44:29.046Z"
   },
   {
    "duration": 21,
    "start_time": "2023-08-10T10:44:29.054Z"
   },
   {
    "duration": 15,
    "start_time": "2023-08-10T10:44:29.076Z"
   },
   {
    "duration": 19588,
    "start_time": "2023-08-10T10:44:29.093Z"
   },
   {
    "duration": 173,
    "start_time": "2023-08-10T10:44:48.683Z"
   },
   {
    "duration": 28,
    "start_time": "2023-08-10T10:44:48.858Z"
   },
   {
    "duration": 9,
    "start_time": "2023-08-10T10:44:48.894Z"
   },
   {
    "duration": 366582,
    "start_time": "2023-08-10T10:44:48.905Z"
   },
   {
    "duration": 85,
    "start_time": "2023-08-10T10:50:55.492Z"
   },
   {
    "duration": 5,
    "start_time": "2023-08-10T10:50:55.582Z"
   },
   {
    "duration": 20,
    "start_time": "2023-08-10T10:50:55.588Z"
   },
   {
    "duration": 6,
    "start_time": "2023-08-10T10:50:55.610Z"
   },
   {
    "duration": 98,
    "start_time": "2023-08-10T10:51:20.944Z"
   },
   {
    "duration": 9,
    "start_time": "2023-08-10T10:51:38.274Z"
   },
   {
    "duration": 3,
    "start_time": "2023-08-10T10:52:18.203Z"
   },
   {
    "duration": 3,
    "start_time": "2023-08-10T10:54:14.039Z"
   },
   {
    "duration": 3400595,
    "start_time": "2023-08-10T10:54:40.320Z"
   },
   {
    "duration": 118,
    "start_time": "2023-08-10T11:59:46.230Z"
   },
   {
    "duration": 33,
    "start_time": "2023-08-10T12:00:09.876Z"
   },
   {
    "duration": 1194704,
    "start_time": "2023-08-10T12:01:23.202Z"
   },
   {
    "duration": 4,
    "start_time": "2023-08-10T12:22:36.730Z"
   },
   {
    "duration": 1976,
    "start_time": "2023-08-10T12:27:22.567Z"
   },
   {
    "duration": 2327,
    "start_time": "2023-08-10T12:32:41.947Z"
   },
   {
    "duration": 31,
    "start_time": "2023-08-10T12:36:21.927Z"
   },
   {
    "duration": 26,
    "start_time": "2023-08-10T12:38:17.823Z"
   },
   {
    "duration": 65,
    "start_time": "2023-08-10T12:39:49.929Z"
   },
   {
    "duration": 44,
    "start_time": "2023-08-10T12:46:26.823Z"
   },
   {
    "duration": 3286,
    "start_time": "2023-08-10T12:47:37.915Z"
   },
   {
    "duration": 2657,
    "start_time": "2023-08-10T12:48:26.140Z"
   },
   {
    "duration": 2395,
    "start_time": "2023-08-10T12:48:37.415Z"
   },
   {
    "duration": 2280,
    "start_time": "2023-08-10T12:48:44.301Z"
   },
   {
    "duration": 1600,
    "start_time": "2023-08-10T12:58:44.585Z"
   },
   {
    "duration": 49,
    "start_time": "2023-08-10T12:58:46.190Z"
   },
   {
    "duration": 12,
    "start_time": "2023-08-10T12:58:46.241Z"
   },
   {
    "duration": 7,
    "start_time": "2023-08-10T12:58:46.255Z"
   },
   {
    "duration": 72,
    "start_time": "2023-08-10T12:58:46.264Z"
   },
   {
    "duration": 3,
    "start_time": "2023-08-10T12:58:46.338Z"
   },
   {
    "duration": 9,
    "start_time": "2023-08-10T12:58:46.343Z"
   },
   {
    "duration": 28,
    "start_time": "2023-08-10T12:58:46.354Z"
   },
   {
    "duration": 682,
    "start_time": "2023-08-10T12:58:46.388Z"
   },
   {
    "duration": 23,
    "start_time": "2023-08-10T12:58:47.072Z"
   },
   {
    "duration": 238,
    "start_time": "2023-08-10T12:58:47.097Z"
   },
   {
    "duration": 10,
    "start_time": "2023-08-10T12:58:47.337Z"
   },
   {
    "duration": 8,
    "start_time": "2023-08-10T12:58:47.348Z"
   },
   {
    "duration": 417,
    "start_time": "2023-08-10T12:58:47.378Z"
   },
   {
    "duration": 9,
    "start_time": "2023-08-10T12:58:47.801Z"
   },
   {
    "duration": 579,
    "start_time": "2023-08-10T12:58:47.812Z"
   },
   {
    "duration": 143,
    "start_time": "2023-08-10T12:58:48.393Z"
   },
   {
    "duration": 4,
    "start_time": "2023-08-10T12:58:48.538Z"
   },
   {
    "duration": 20,
    "start_time": "2023-08-10T12:58:48.544Z"
   },
   {
    "duration": 7,
    "start_time": "2023-08-10T12:58:48.566Z"
   },
   {
    "duration": 8,
    "start_time": "2023-08-10T12:58:48.580Z"
   },
   {
    "duration": 85,
    "start_time": "2023-08-10T12:58:48.590Z"
   },
   {
    "duration": 13,
    "start_time": "2023-08-10T12:58:48.677Z"
   },
   {
    "duration": 395,
    "start_time": "2023-08-10T12:58:48.692Z"
   },
   {
    "duration": 11,
    "start_time": "2023-08-10T12:58:49.088Z"
   },
   {
    "duration": 6,
    "start_time": "2023-08-10T12:58:49.100Z"
   },
   {
    "duration": 19,
    "start_time": "2023-08-10T12:58:49.107Z"
   },
   {
    "duration": 6,
    "start_time": "2023-08-10T12:58:49.130Z"
   },
   {
    "duration": 1482,
    "start_time": "2023-08-10T12:59:03.986Z"
   },
   {
    "duration": 67,
    "start_time": "2023-08-10T12:59:05.470Z"
   },
   {
    "duration": 10,
    "start_time": "2023-08-10T12:59:05.539Z"
   },
   {
    "duration": 38,
    "start_time": "2023-08-10T12:59:05.551Z"
   },
   {
    "duration": 78,
    "start_time": "2023-08-10T12:59:05.593Z"
   },
   {
    "duration": 54,
    "start_time": "2023-08-10T12:59:05.672Z"
   },
   {
    "duration": 23,
    "start_time": "2023-08-10T12:59:05.728Z"
   },
   {
    "duration": 40,
    "start_time": "2023-08-10T12:59:05.753Z"
   },
   {
    "duration": 727,
    "start_time": "2023-08-10T12:59:05.794Z"
   },
   {
    "duration": 7,
    "start_time": "2023-08-10T12:59:06.524Z"
   },
   {
    "duration": 265,
    "start_time": "2023-08-10T12:59:06.533Z"
   },
   {
    "duration": 7,
    "start_time": "2023-08-10T12:59:06.800Z"
   },
   {
    "duration": 19,
    "start_time": "2023-08-10T12:59:06.809Z"
   },
   {
    "duration": 440,
    "start_time": "2023-08-10T12:59:06.830Z"
   },
   {
    "duration": 8,
    "start_time": "2023-08-10T12:59:07.276Z"
   },
   {
    "duration": 532,
    "start_time": "2023-08-10T12:59:07.287Z"
   },
   {
    "duration": 149,
    "start_time": "2023-08-10T12:59:07.820Z"
   },
   {
    "duration": 8,
    "start_time": "2023-08-10T12:59:07.970Z"
   },
   {
    "duration": 9,
    "start_time": "2023-08-10T12:59:07.991Z"
   },
   {
    "duration": 6,
    "start_time": "2023-08-10T12:59:08.001Z"
   },
   {
    "duration": 12,
    "start_time": "2023-08-10T12:59:08.009Z"
   },
   {
    "duration": 63,
    "start_time": "2023-08-10T12:59:08.022Z"
   },
   {
    "duration": 10,
    "start_time": "2023-08-10T12:59:08.087Z"
   },
   {
    "duration": 25,
    "start_time": "2023-08-10T12:59:08.099Z"
   },
   {
    "duration": 369,
    "start_time": "2023-08-10T12:59:08.125Z"
   },
   {
    "duration": 11,
    "start_time": "2023-08-10T12:59:08.496Z"
   },
   {
    "duration": 5,
    "start_time": "2023-08-10T12:59:08.509Z"
   },
   {
    "duration": 18,
    "start_time": "2023-08-10T12:59:08.518Z"
   },
   {
    "duration": 9,
    "start_time": "2023-08-10T12:59:08.538Z"
   },
   {
    "duration": 17111,
    "start_time": "2023-08-10T12:59:08.549Z"
   },
   {
    "duration": 155,
    "start_time": "2023-08-10T12:59:25.661Z"
   },
   {
    "duration": 8,
    "start_time": "2023-08-10T12:59:25.818Z"
   },
   {
    "duration": 12,
    "start_time": "2023-08-10T12:59:25.828Z"
   },
   {
    "duration": 283792,
    "start_time": "2023-08-10T12:59:25.841Z"
   },
   {
    "duration": 94,
    "start_time": "2023-08-10T13:04:09.635Z"
   },
   {
    "duration": 5,
    "start_time": "2023-08-10T13:04:09.734Z"
   },
   {
    "duration": 23,
    "start_time": "2023-08-10T13:04:09.740Z"
   },
   {
    "duration": 32,
    "start_time": "2023-08-10T13:04:09.765Z"
   },
   {
    "duration": 1641,
    "start_time": "2023-08-10T13:08:47.095Z"
   },
   {
    "duration": 64,
    "start_time": "2023-08-10T13:08:48.738Z"
   },
   {
    "duration": 10,
    "start_time": "2023-08-10T13:08:48.803Z"
   },
   {
    "duration": 8,
    "start_time": "2023-08-10T13:08:48.815Z"
   },
   {
    "duration": 19,
    "start_time": "2023-08-10T13:08:48.824Z"
   },
   {
    "duration": 2,
    "start_time": "2023-08-10T13:08:48.845Z"
   },
   {
    "duration": 22,
    "start_time": "2023-08-10T13:08:48.848Z"
   },
   {
    "duration": 21,
    "start_time": "2023-08-10T13:08:48.872Z"
   },
   {
    "duration": 736,
    "start_time": "2023-08-10T13:08:48.895Z"
   },
   {
    "duration": 8,
    "start_time": "2023-08-10T13:08:49.633Z"
   },
   {
    "duration": 266,
    "start_time": "2023-08-10T13:08:49.643Z"
   },
   {
    "duration": 7,
    "start_time": "2023-08-10T13:08:49.910Z"
   },
   {
    "duration": 11,
    "start_time": "2023-08-10T13:08:49.918Z"
   },
   {
    "duration": 469,
    "start_time": "2023-08-10T13:08:49.931Z"
   },
   {
    "duration": 9,
    "start_time": "2023-08-10T13:08:50.406Z"
   },
   {
    "duration": 583,
    "start_time": "2023-08-10T13:08:50.418Z"
   },
   {
    "duration": 153,
    "start_time": "2023-08-10T13:08:51.003Z"
   },
   {
    "duration": 4,
    "start_time": "2023-08-10T13:08:51.158Z"
   },
   {
    "duration": 42,
    "start_time": "2023-08-10T13:08:51.163Z"
   },
   {
    "duration": 9,
    "start_time": "2023-08-10T13:08:51.207Z"
   },
   {
    "duration": 9,
    "start_time": "2023-08-10T13:08:51.218Z"
   },
   {
    "duration": 966,
    "start_time": "2023-08-10T13:08:51.228Z"
   },
   {
    "duration": 491,
    "start_time": "2023-08-10T13:08:52.198Z"
   },
   {
    "duration": 13,
    "start_time": "2023-08-10T13:08:52.691Z"
   },
   {
    "duration": 1080,
    "start_time": "2023-08-10T13:08:52.777Z"
   },
   {
    "duration": 50,
    "start_time": "2023-08-10T13:08:53.859Z"
   },
   {
    "duration": 8,
    "start_time": "2023-08-10T13:08:53.911Z"
   },
   {
    "duration": 15,
    "start_time": "2023-08-10T13:08:53.925Z"
   },
   {
    "duration": 9,
    "start_time": "2023-08-10T13:08:53.942Z"
   },
   {
    "duration": 82649,
    "start_time": "2023-08-10T13:08:53.953Z"
   },
   {
    "duration": 1969,
    "start_time": "2023-08-10T13:10:16.604Z"
   },
   {
    "duration": 25,
    "start_time": "2023-08-10T13:10:18.576Z"
   },
   {
    "duration": 5,
    "start_time": "2023-08-10T13:10:18.603Z"
   },
   {
    "duration": 69272,
    "start_time": "2023-08-10T13:10:18.609Z"
   },
   {
    "duration": 26,
    "start_time": "2023-08-10T13:11:27.884Z"
   },
   {
    "duration": 4,
    "start_time": "2023-08-10T13:11:27.911Z"
   },
   {
    "duration": 67,
    "start_time": "2023-08-10T13:11:27.917Z"
   },
   {
    "duration": 5,
    "start_time": "2023-08-10T13:11:27.987Z"
   },
   {
    "duration": 2424593,
    "start_time": "2023-08-10T13:11:27.994Z"
   },
   {
    "duration": 125495,
    "start_time": "2023-08-10T13:51:52.590Z"
   },
   {
    "duration": 4,
    "start_time": "2023-08-10T13:53:58.087Z"
   },
   {
    "duration": 6886,
    "start_time": "2023-08-10T13:53:58.092Z"
   },
   {
    "duration": 86,
    "start_time": "2023-08-10T13:54:22.577Z"
   },
   {
    "duration": 1416,
    "start_time": "2023-08-10T13:54:30.465Z"
   },
   {
    "duration": 10,
    "start_time": "2023-08-10T20:34:19.544Z"
   },
   {
    "duration": 0,
    "start_time": "2023-08-10T20:34:19.556Z"
   },
   {
    "duration": 1912,
    "start_time": "2023-08-11T07:53:05.090Z"
   },
   {
    "duration": 120,
    "start_time": "2023-08-11T07:53:08.376Z"
   },
   {
    "duration": 11,
    "start_time": "2023-08-11T07:53:08.919Z"
   },
   {
    "duration": 7,
    "start_time": "2023-08-11T07:53:08.954Z"
   },
   {
    "duration": 12,
    "start_time": "2023-08-11T07:53:09.011Z"
   },
   {
    "duration": 4,
    "start_time": "2023-08-11T07:53:09.094Z"
   },
   {
    "duration": 5,
    "start_time": "2023-08-11T07:53:09.148Z"
   },
   {
    "duration": 5,
    "start_time": "2023-08-11T07:53:13.311Z"
   },
   {
    "duration": 772,
    "start_time": "2023-08-11T07:53:13.469Z"
   },
   {
    "duration": 10,
    "start_time": "2023-08-11T07:53:15.395Z"
   },
   {
    "duration": 258,
    "start_time": "2023-08-11T07:53:15.534Z"
   },
   {
    "duration": 8,
    "start_time": "2023-08-11T07:53:15.794Z"
   },
   {
    "duration": 23,
    "start_time": "2023-08-11T07:53:15.803Z"
   },
   {
    "duration": 451,
    "start_time": "2023-08-11T07:54:21.244Z"
   },
   {
    "duration": 9,
    "start_time": "2023-08-11T07:54:23.571Z"
   },
   {
    "duration": 529,
    "start_time": "2023-08-11T07:54:23.709Z"
   },
   {
    "duration": 149,
    "start_time": "2023-08-11T07:54:47.153Z"
   },
   {
    "duration": 5,
    "start_time": "2023-08-11T07:56:35.260Z"
   },
   {
    "duration": 24,
    "start_time": "2023-08-11T07:56:37.689Z"
   },
   {
    "duration": 11,
    "start_time": "2023-08-11T07:56:40.872Z"
   },
   {
    "duration": 7,
    "start_time": "2023-08-11T07:57:16.724Z"
   },
   {
    "duration": 4,
    "start_time": "2023-08-11T08:07:26.491Z"
   },
   {
    "duration": 5,
    "start_time": "2023-08-11T08:08:27.866Z"
   },
   {
    "duration": 12,
    "start_time": "2023-08-11T08:08:31.003Z"
   },
   {
    "duration": 9,
    "start_time": "2023-08-11T08:08:34.179Z"
   },
   {
    "duration": 7,
    "start_time": "2023-08-11T08:08:37.146Z"
   },
   {
    "duration": 883,
    "start_time": "2023-08-11T08:08:48.077Z"
   },
   {
    "duration": 1554,
    "start_time": "2023-08-11T08:11:26.874Z"
   },
   {
    "duration": 52,
    "start_time": "2023-08-11T08:11:28.430Z"
   },
   {
    "duration": 11,
    "start_time": "2023-08-11T08:11:28.485Z"
   },
   {
    "duration": 12,
    "start_time": "2023-08-11T08:11:28.498Z"
   },
   {
    "duration": 22,
    "start_time": "2023-08-11T08:11:28.512Z"
   },
   {
    "duration": 4,
    "start_time": "2023-08-11T08:11:28.536Z"
   },
   {
    "duration": 27,
    "start_time": "2023-08-11T08:11:28.542Z"
   },
   {
    "duration": 18,
    "start_time": "2023-08-11T08:11:28.571Z"
   },
   {
    "duration": 798,
    "start_time": "2023-08-11T08:11:28.590Z"
   },
   {
    "duration": 8,
    "start_time": "2023-08-11T08:11:29.391Z"
   },
   {
    "duration": 232,
    "start_time": "2023-08-11T08:11:29.401Z"
   },
   {
    "duration": 9,
    "start_time": "2023-08-11T08:11:29.634Z"
   },
   {
    "duration": 41,
    "start_time": "2023-08-11T08:11:29.645Z"
   },
   {
    "duration": 414,
    "start_time": "2023-08-11T08:11:29.689Z"
   },
   {
    "duration": 11,
    "start_time": "2023-08-11T08:11:30.105Z"
   },
   {
    "duration": 616,
    "start_time": "2023-08-11T08:11:30.118Z"
   },
   {
    "duration": 154,
    "start_time": "2023-08-11T08:11:30.735Z"
   },
   {
    "duration": 4,
    "start_time": "2023-08-11T08:11:30.890Z"
   },
   {
    "duration": 70,
    "start_time": "2023-08-11T08:11:30.896Z"
   },
   {
    "duration": 15,
    "start_time": "2023-08-11T08:11:30.968Z"
   },
   {
    "duration": 49,
    "start_time": "2023-08-11T08:11:30.985Z"
   },
   {
    "duration": 193,
    "start_time": "2023-08-11T08:11:31.036Z"
   },
   {
    "duration": 0,
    "start_time": "2023-08-11T08:11:31.232Z"
   },
   {
    "duration": 0,
    "start_time": "2023-08-11T08:11:31.233Z"
   },
   {
    "duration": 0,
    "start_time": "2023-08-11T08:11:31.234Z"
   },
   {
    "duration": 0,
    "start_time": "2023-08-11T08:11:31.235Z"
   },
   {
    "duration": 0,
    "start_time": "2023-08-11T08:11:31.237Z"
   },
   {
    "duration": 0,
    "start_time": "2023-08-11T08:11:31.238Z"
   },
   {
    "duration": 0,
    "start_time": "2023-08-11T08:11:31.239Z"
   },
   {
    "duration": 0,
    "start_time": "2023-08-11T08:11:31.240Z"
   },
   {
    "duration": 0,
    "start_time": "2023-08-11T08:11:31.259Z"
   },
   {
    "duration": 0,
    "start_time": "2023-08-11T08:11:31.260Z"
   },
   {
    "duration": 0,
    "start_time": "2023-08-11T08:11:31.262Z"
   },
   {
    "duration": 0,
    "start_time": "2023-08-11T08:11:31.263Z"
   },
   {
    "duration": 0,
    "start_time": "2023-08-11T08:11:31.264Z"
   },
   {
    "duration": 0,
    "start_time": "2023-08-11T08:11:31.265Z"
   },
   {
    "duration": 0,
    "start_time": "2023-08-11T08:11:31.266Z"
   },
   {
    "duration": 0,
    "start_time": "2023-08-11T08:11:31.268Z"
   },
   {
    "duration": 0,
    "start_time": "2023-08-11T08:11:31.269Z"
   },
   {
    "duration": 0,
    "start_time": "2023-08-11T08:11:31.270Z"
   },
   {
    "duration": 0,
    "start_time": "2023-08-11T08:11:31.271Z"
   },
   {
    "duration": 0,
    "start_time": "2023-08-11T08:11:31.272Z"
   },
   {
    "duration": 0,
    "start_time": "2023-08-11T08:11:31.273Z"
   },
   {
    "duration": 0,
    "start_time": "2023-08-11T08:11:31.274Z"
   },
   {
    "duration": 0,
    "start_time": "2023-08-11T08:11:31.275Z"
   },
   {
    "duration": 17,
    "start_time": "2023-08-11T08:16:02.235Z"
   },
   {
    "duration": 23,
    "start_time": "2023-08-11T08:16:33.535Z"
   },
   {
    "duration": 25,
    "start_time": "2023-08-11T08:17:03.254Z"
   },
   {
    "duration": 1110,
    "start_time": "2023-08-11T08:17:56.450Z"
   },
   {
    "duration": 1650,
    "start_time": "2023-08-11T08:30:25.873Z"
   },
   {
    "duration": 50,
    "start_time": "2023-08-11T08:30:27.525Z"
   },
   {
    "duration": 12,
    "start_time": "2023-08-11T08:30:27.577Z"
   },
   {
    "duration": 34,
    "start_time": "2023-08-11T08:30:27.591Z"
   },
   {
    "duration": 24,
    "start_time": "2023-08-11T08:30:27.627Z"
   },
   {
    "duration": 6,
    "start_time": "2023-08-11T08:30:27.653Z"
   },
   {
    "duration": 27,
    "start_time": "2023-08-11T08:30:27.661Z"
   },
   {
    "duration": 23,
    "start_time": "2023-08-11T08:30:27.689Z"
   },
   {
    "duration": 873,
    "start_time": "2023-08-11T08:30:27.714Z"
   },
   {
    "duration": 10,
    "start_time": "2023-08-11T08:30:28.591Z"
   },
   {
    "duration": 259,
    "start_time": "2023-08-11T08:30:28.603Z"
   },
   {
    "duration": 9,
    "start_time": "2023-08-11T08:30:28.864Z"
   },
   {
    "duration": 54,
    "start_time": "2023-08-11T08:30:28.875Z"
   },
   {
    "duration": 454,
    "start_time": "2023-08-11T08:30:28.932Z"
   },
   {
    "duration": 8,
    "start_time": "2023-08-11T08:30:29.388Z"
   },
   {
    "duration": 544,
    "start_time": "2023-08-11T08:30:29.398Z"
   },
   {
    "duration": 169,
    "start_time": "2023-08-11T08:30:29.944Z"
   },
   {
    "duration": 5,
    "start_time": "2023-08-11T08:30:30.114Z"
   },
   {
    "duration": 51,
    "start_time": "2023-08-11T08:30:30.121Z"
   },
   {
    "duration": 22,
    "start_time": "2023-08-11T08:30:30.174Z"
   },
   {
    "duration": 31,
    "start_time": "2023-08-11T08:30:30.198Z"
   },
   {
    "duration": 1335,
    "start_time": "2023-08-11T08:30:30.231Z"
   },
   {
    "duration": 296,
    "start_time": "2023-08-11T08:30:31.568Z"
   },
   {
    "duration": 0,
    "start_time": "2023-08-11T08:30:31.867Z"
   },
   {
    "duration": 0,
    "start_time": "2023-08-11T08:30:31.869Z"
   },
   {
    "duration": 0,
    "start_time": "2023-08-11T08:30:31.870Z"
   },
   {
    "duration": 0,
    "start_time": "2023-08-11T08:30:31.872Z"
   },
   {
    "duration": 0,
    "start_time": "2023-08-11T08:30:31.874Z"
   },
   {
    "duration": 0,
    "start_time": "2023-08-11T08:30:31.876Z"
   },
   {
    "duration": 0,
    "start_time": "2023-08-11T08:30:31.877Z"
   },
   {
    "duration": 0,
    "start_time": "2023-08-11T08:30:31.879Z"
   },
   {
    "duration": 0,
    "start_time": "2023-08-11T08:30:31.880Z"
   },
   {
    "duration": 0,
    "start_time": "2023-08-11T08:30:31.881Z"
   },
   {
    "duration": 0,
    "start_time": "2023-08-11T08:30:31.882Z"
   },
   {
    "duration": 0,
    "start_time": "2023-08-11T08:30:31.883Z"
   },
   {
    "duration": 0,
    "start_time": "2023-08-11T08:30:31.884Z"
   },
   {
    "duration": 0,
    "start_time": "2023-08-11T08:30:31.885Z"
   },
   {
    "duration": 0,
    "start_time": "2023-08-11T08:30:31.885Z"
   },
   {
    "duration": 0,
    "start_time": "2023-08-11T08:30:31.887Z"
   },
   {
    "duration": 0,
    "start_time": "2023-08-11T08:30:31.888Z"
   },
   {
    "duration": 0,
    "start_time": "2023-08-11T08:30:31.889Z"
   },
   {
    "duration": 0,
    "start_time": "2023-08-11T08:30:31.890Z"
   },
   {
    "duration": 0,
    "start_time": "2023-08-11T08:30:31.890Z"
   },
   {
    "duration": 0,
    "start_time": "2023-08-11T08:30:31.891Z"
   },
   {
    "duration": 0,
    "start_time": "2023-08-11T08:30:31.892Z"
   },
   {
    "duration": 47,
    "start_time": "2023-08-11T09:53:51.565Z"
   },
   {
    "duration": 1832,
    "start_time": "2023-08-11T09:54:06.265Z"
   },
   {
    "duration": 135,
    "start_time": "2023-08-11T09:54:08.099Z"
   },
   {
    "duration": 34,
    "start_time": "2023-08-11T09:54:08.236Z"
   },
   {
    "duration": 11,
    "start_time": "2023-08-11T09:54:08.272Z"
   },
   {
    "duration": 13,
    "start_time": "2023-08-11T09:54:08.285Z"
   },
   {
    "duration": 5,
    "start_time": "2023-08-11T09:54:08.299Z"
   },
   {
    "duration": 7,
    "start_time": "2023-08-11T09:54:08.306Z"
   },
   {
    "duration": 6,
    "start_time": "2023-08-11T09:54:08.315Z"
   },
   {
    "duration": 646,
    "start_time": "2023-08-11T09:54:08.322Z"
   },
   {
    "duration": 8,
    "start_time": "2023-08-11T09:54:08.971Z"
   },
   {
    "duration": 214,
    "start_time": "2023-08-11T09:54:08.980Z"
   },
   {
    "duration": 5,
    "start_time": "2023-08-11T09:54:09.196Z"
   },
   {
    "duration": 41,
    "start_time": "2023-08-11T09:54:09.203Z"
   },
   {
    "duration": 446,
    "start_time": "2023-08-11T09:54:09.247Z"
   },
   {
    "duration": 9,
    "start_time": "2023-08-11T09:54:09.694Z"
   },
   {
    "duration": 523,
    "start_time": "2023-08-11T09:54:09.706Z"
   },
   {
    "duration": 145,
    "start_time": "2023-08-11T09:54:10.230Z"
   },
   {
    "duration": 4,
    "start_time": "2023-08-11T09:54:11.514Z"
   },
   {
    "duration": 19,
    "start_time": "2023-08-11T09:54:12.479Z"
   },
   {
    "duration": 10,
    "start_time": "2023-08-11T09:54:14.704Z"
   },
   {
    "duration": 7,
    "start_time": "2023-08-11T09:54:15.562Z"
   },
   {
    "duration": 3,
    "start_time": "2023-08-11T09:54:21.213Z"
   },
   {
    "duration": 3,
    "start_time": "2023-08-11T09:54:35.766Z"
   },
   {
    "duration": 2,
    "start_time": "2023-08-11T09:54:45.906Z"
   },
   {
    "duration": 100,
    "start_time": "2023-08-11T09:55:01.966Z"
   },
   {
    "duration": 249,
    "start_time": "2023-08-11T09:55:30.211Z"
   },
   {
    "duration": 12,
    "start_time": "2023-08-11T09:55:50.673Z"
   },
   {
    "duration": 9,
    "start_time": "2023-08-11T09:56:04.716Z"
   },
   {
    "duration": 2,
    "start_time": "2023-08-11T09:58:41.264Z"
   },
   {
    "duration": 3,
    "start_time": "2023-08-11T09:58:41.770Z"
   },
   {
    "duration": 3,
    "start_time": "2023-08-11T09:58:42.218Z"
   },
   {
    "duration": 5,
    "start_time": "2023-08-11T09:58:42.667Z"
   },
   {
    "duration": 1284,
    "start_time": "2023-08-11T09:58:43.674Z"
   },
   {
    "duration": 9,
    "start_time": "2023-08-11T09:58:46.071Z"
   },
   {
    "duration": 3,
    "start_time": "2023-08-11T09:59:17.803Z"
   },
   {
    "duration": 3,
    "start_time": "2023-08-11T09:59:42.903Z"
   },
   {
    "duration": 4,
    "start_time": "2023-08-11T10:00:04.684Z"
   },
   {
    "duration": 9,
    "start_time": "2023-08-11T10:00:21.580Z"
   },
   {
    "duration": 22723,
    "start_time": "2023-08-11T10:00:33.377Z"
   },
   {
    "duration": 10,
    "start_time": "2023-08-11T10:00:56.102Z"
   },
   {
    "duration": 39,
    "start_time": "2023-08-11T10:02:26.717Z"
   },
   {
    "duration": 3,
    "start_time": "2023-08-11T10:02:56.583Z"
   },
   {
    "duration": 1469,
    "start_time": "2023-08-11T10:05:19.305Z"
   },
   {
    "duration": 47,
    "start_time": "2023-08-11T10:05:20.776Z"
   },
   {
    "duration": 19,
    "start_time": "2023-08-11T10:05:20.824Z"
   },
   {
    "duration": 23,
    "start_time": "2023-08-11T10:05:20.846Z"
   },
   {
    "duration": 41,
    "start_time": "2023-08-11T10:05:20.871Z"
   },
   {
    "duration": 38,
    "start_time": "2023-08-11T10:05:20.913Z"
   },
   {
    "duration": 18,
    "start_time": "2023-08-11T10:05:20.956Z"
   },
   {
    "duration": 57,
    "start_time": "2023-08-11T10:05:20.976Z"
   },
   {
    "duration": 634,
    "start_time": "2023-08-11T10:05:21.035Z"
   },
   {
    "duration": 8,
    "start_time": "2023-08-11T10:05:21.672Z"
   },
   {
    "duration": 228,
    "start_time": "2023-08-11T10:05:21.681Z"
   },
   {
    "duration": 8,
    "start_time": "2023-08-11T10:05:21.911Z"
   },
   {
    "duration": 42,
    "start_time": "2023-08-11T10:05:21.920Z"
   },
   {
    "duration": 376,
    "start_time": "2023-08-11T10:05:21.964Z"
   },
   {
    "duration": 15,
    "start_time": "2023-08-11T10:05:22.341Z"
   },
   {
    "duration": 503,
    "start_time": "2023-08-11T10:05:22.358Z"
   },
   {
    "duration": 142,
    "start_time": "2023-08-11T10:05:22.863Z"
   },
   {
    "duration": 14,
    "start_time": "2023-08-11T10:05:23.007Z"
   },
   {
    "duration": 35,
    "start_time": "2023-08-11T10:05:23.023Z"
   },
   {
    "duration": 10,
    "start_time": "2023-08-11T10:05:23.060Z"
   },
   {
    "duration": 5,
    "start_time": "2023-08-11T10:05:23.072Z"
   },
   {
    "duration": 779,
    "start_time": "2023-08-11T10:05:23.079Z"
   },
   {
    "duration": 1087,
    "start_time": "2023-08-11T10:05:23.867Z"
   },
   {
    "duration": 177,
    "start_time": "2023-08-11T10:05:24.968Z"
   },
   {
    "duration": 88,
    "start_time": "2023-08-11T10:05:25.160Z"
   },
   {
    "duration": 8,
    "start_time": "2023-08-11T10:05:25.255Z"
   },
   {
    "duration": 9,
    "start_time": "2023-08-11T10:05:25.265Z"
   },
   {
    "duration": 4,
    "start_time": "2023-08-11T10:05:25.277Z"
   },
   {
    "duration": 11,
    "start_time": "2023-08-11T10:05:25.282Z"
   },
   {
    "duration": 1254,
    "start_time": "2023-08-11T10:05:25.294Z"
   },
   {
    "duration": 11,
    "start_time": "2023-08-11T10:05:26.549Z"
   },
   {
    "duration": 68,
    "start_time": "2023-08-11T10:05:26.562Z"
   },
   {
    "duration": 58,
    "start_time": "2023-08-11T10:05:26.631Z"
   },
   {
    "duration": 37,
    "start_time": "2023-08-11T10:05:26.691Z"
   },
   {
    "duration": 23474,
    "start_time": "2023-08-11T10:05:26.730Z"
   },
   {
    "duration": 17,
    "start_time": "2023-08-11T10:05:50.206Z"
   },
   {
    "duration": 3,
    "start_time": "2023-08-11T10:05:50.224Z"
   },
   {
    "duration": 1514,
    "start_time": "2023-08-11T10:11:32.658Z"
   },
   {
    "duration": 47,
    "start_time": "2023-08-11T10:11:34.174Z"
   },
   {
    "duration": 10,
    "start_time": "2023-08-11T10:11:34.222Z"
   },
   {
    "duration": 29,
    "start_time": "2023-08-11T10:11:34.234Z"
   },
   {
    "duration": 20,
    "start_time": "2023-08-11T10:11:34.265Z"
   },
   {
    "duration": 7,
    "start_time": "2023-08-11T10:11:34.287Z"
   },
   {
    "duration": 10,
    "start_time": "2023-08-11T10:11:34.295Z"
   },
   {
    "duration": 15,
    "start_time": "2023-08-11T10:11:34.306Z"
   },
   {
    "duration": 658,
    "start_time": "2023-08-11T10:11:34.322Z"
   },
   {
    "duration": 9,
    "start_time": "2023-08-11T10:11:34.982Z"
   },
   {
    "duration": 232,
    "start_time": "2023-08-11T10:11:34.993Z"
   },
   {
    "duration": 31,
    "start_time": "2023-08-11T10:11:35.226Z"
   },
   {
    "duration": 12,
    "start_time": "2023-08-11T10:11:35.259Z"
   },
   {
    "duration": 385,
    "start_time": "2023-08-11T10:11:35.274Z"
   },
   {
    "duration": 8,
    "start_time": "2023-08-11T10:11:35.661Z"
   },
   {
    "duration": 519,
    "start_time": "2023-08-11T10:11:35.670Z"
   },
   {
    "duration": 143,
    "start_time": "2023-08-11T10:11:36.192Z"
   },
   {
    "duration": 5,
    "start_time": "2023-08-11T10:11:36.340Z"
   },
   {
    "duration": 38,
    "start_time": "2023-08-11T10:11:36.351Z"
   },
   {
    "duration": 13,
    "start_time": "2023-08-11T10:11:36.391Z"
   },
   {
    "duration": 6,
    "start_time": "2023-08-11T10:11:36.406Z"
   },
   {
    "duration": 1031,
    "start_time": "2023-08-11T10:11:36.414Z"
   },
   {
    "duration": 589,
    "start_time": "2023-08-11T10:11:37.465Z"
   },
   {
    "duration": 201,
    "start_time": "2023-08-11T10:11:38.060Z"
   },
   {
    "duration": 113,
    "start_time": "2023-08-11T10:11:38.337Z"
   },
   {
    "duration": 12,
    "start_time": "2023-08-11T10:11:38.452Z"
   },
   {
    "duration": 11,
    "start_time": "2023-08-11T10:11:38.466Z"
   },
   {
    "duration": 16,
    "start_time": "2023-08-11T10:11:38.479Z"
   },
   {
    "duration": 16,
    "start_time": "2023-08-11T10:11:38.497Z"
   },
   {
    "duration": 1343,
    "start_time": "2023-08-11T10:11:38.515Z"
   },
   {
    "duration": 7,
    "start_time": "2023-08-11T10:11:39.859Z"
   },
   {
    "duration": 10,
    "start_time": "2023-08-11T10:11:39.868Z"
   },
   {
    "duration": 5,
    "start_time": "2023-08-11T10:11:39.880Z"
   },
   {
    "duration": 15,
    "start_time": "2023-08-11T10:11:39.886Z"
   },
   {
    "duration": 23590,
    "start_time": "2023-08-11T10:11:39.902Z"
   },
   {
    "duration": 19,
    "start_time": "2023-08-11T10:12:03.493Z"
   },
   {
    "duration": 3,
    "start_time": "2023-08-11T10:12:03.513Z"
   },
   {
    "duration": 1571,
    "start_time": "2023-08-11T10:19:50.561Z"
   },
   {
    "duration": 58,
    "start_time": "2023-08-11T10:19:52.133Z"
   },
   {
    "duration": 38,
    "start_time": "2023-08-11T10:19:52.192Z"
   },
   {
    "duration": 78,
    "start_time": "2023-08-11T10:19:52.232Z"
   },
   {
    "duration": 83,
    "start_time": "2023-08-11T10:19:52.311Z"
   },
   {
    "duration": 68,
    "start_time": "2023-08-11T10:19:52.397Z"
   },
   {
    "duration": 50,
    "start_time": "2023-08-11T10:19:52.467Z"
   },
   {
    "duration": 63,
    "start_time": "2023-08-11T10:19:52.518Z"
   },
   {
    "duration": 809,
    "start_time": "2023-08-11T10:19:52.583Z"
   },
   {
    "duration": 12,
    "start_time": "2023-08-11T10:19:53.395Z"
   },
   {
    "duration": 391,
    "start_time": "2023-08-11T10:19:53.410Z"
   },
   {
    "duration": 9,
    "start_time": "2023-08-11T10:19:53.804Z"
   },
   {
    "duration": 86,
    "start_time": "2023-08-11T10:19:53.815Z"
   },
   {
    "duration": 726,
    "start_time": "2023-08-11T10:19:53.903Z"
   },
   {
    "duration": 14,
    "start_time": "2023-08-11T10:19:54.631Z"
   },
   {
    "duration": 805,
    "start_time": "2023-08-11T10:19:54.646Z"
   },
   {
    "duration": 202,
    "start_time": "2023-08-11T10:19:55.453Z"
   },
   {
    "duration": 5,
    "start_time": "2023-08-11T10:19:55.657Z"
   },
   {
    "duration": 41,
    "start_time": "2023-08-11T10:19:55.665Z"
   },
   {
    "duration": 9,
    "start_time": "2023-08-11T10:19:55.708Z"
   },
   {
    "duration": 14,
    "start_time": "2023-08-11T10:19:55.718Z"
   },
   {
    "duration": 168,
    "start_time": "2023-08-11T10:19:55.734Z"
   },
   {
    "duration": 0,
    "start_time": "2023-08-11T10:19:55.904Z"
   },
   {
    "duration": 0,
    "start_time": "2023-08-11T10:19:55.906Z"
   },
   {
    "duration": 0,
    "start_time": "2023-08-11T10:19:55.907Z"
   },
   {
    "duration": 0,
    "start_time": "2023-08-11T10:19:55.908Z"
   },
   {
    "duration": 0,
    "start_time": "2023-08-11T10:19:55.909Z"
   },
   {
    "duration": 0,
    "start_time": "2023-08-11T10:19:55.910Z"
   },
   {
    "duration": 0,
    "start_time": "2023-08-11T10:19:55.912Z"
   },
   {
    "duration": 0,
    "start_time": "2023-08-11T10:19:55.913Z"
   },
   {
    "duration": 0,
    "start_time": "2023-08-11T10:19:55.915Z"
   },
   {
    "duration": 0,
    "start_time": "2023-08-11T10:19:55.916Z"
   },
   {
    "duration": 0,
    "start_time": "2023-08-11T10:19:55.917Z"
   },
   {
    "duration": 0,
    "start_time": "2023-08-11T10:19:55.918Z"
   },
   {
    "duration": 0,
    "start_time": "2023-08-11T10:19:55.919Z"
   },
   {
    "duration": 0,
    "start_time": "2023-08-11T10:19:55.938Z"
   },
   {
    "duration": 0,
    "start_time": "2023-08-11T10:19:55.939Z"
   },
   {
    "duration": 0,
    "start_time": "2023-08-11T10:19:55.940Z"
   },
   {
    "duration": 215,
    "start_time": "2023-08-11T10:20:14.436Z"
   },
   {
    "duration": 5,
    "start_time": "2023-08-11T10:20:19.113Z"
   },
   {
    "duration": 4,
    "start_time": "2023-08-11T10:20:22.190Z"
   },
   {
    "duration": 3,
    "start_time": "2023-08-11T10:20:22.689Z"
   },
   {
    "duration": 2,
    "start_time": "2023-08-11T10:20:22.718Z"
   },
   {
    "duration": 5,
    "start_time": "2023-08-11T10:20:22.758Z"
   },
   {
    "duration": 1285,
    "start_time": "2023-08-11T10:20:22.777Z"
   },
   {
    "duration": 8,
    "start_time": "2023-08-11T10:20:24.315Z"
   },
   {
    "duration": 3,
    "start_time": "2023-08-11T10:20:26.932Z"
   },
   {
    "duration": 3,
    "start_time": "2023-08-11T10:20:26.965Z"
   },
   {
    "duration": 3,
    "start_time": "2023-08-11T10:20:26.990Z"
   },
   {
    "duration": 22671,
    "start_time": "2023-08-11T10:20:27.024Z"
   },
   {
    "duration": 25,
    "start_time": "2023-08-11T10:20:49.697Z"
   },
   {
    "duration": 29,
    "start_time": "2023-08-11T10:20:49.723Z"
   },
   {
    "duration": 27,
    "start_time": "2023-08-11T10:20:49.757Z"
   },
   {
    "duration": 23,
    "start_time": "2023-08-11T10:20:49.786Z"
   },
   {
    "duration": 9,
    "start_time": "2023-08-11T10:20:54.204Z"
   },
   {
    "duration": 4,
    "start_time": "2023-08-11T10:21:51.554Z"
   },
   {
    "duration": 3,
    "start_time": "2023-08-11T10:21:57.054Z"
   },
   {
    "duration": 3,
    "start_time": "2023-08-11T10:21:58.108Z"
   },
   {
    "duration": 4393,
    "start_time": "2023-08-11T10:22:11.163Z"
   },
   {
    "duration": 1644,
    "start_time": "2023-08-11T10:44:34.159Z"
   },
   {
    "duration": 62,
    "start_time": "2023-08-11T10:44:35.806Z"
   },
   {
    "duration": 21,
    "start_time": "2023-08-11T10:44:35.870Z"
   },
   {
    "duration": 80,
    "start_time": "2023-08-11T10:44:35.893Z"
   },
   {
    "duration": 42,
    "start_time": "2023-08-11T10:44:35.976Z"
   },
   {
    "duration": 68,
    "start_time": "2023-08-11T10:44:36.020Z"
   },
   {
    "duration": 9,
    "start_time": "2023-08-11T10:44:36.090Z"
   },
   {
    "duration": 29,
    "start_time": "2023-08-11T10:44:36.101Z"
   },
   {
    "duration": 668,
    "start_time": "2023-08-11T10:44:36.131Z"
   },
   {
    "duration": 10,
    "start_time": "2023-08-11T10:44:36.801Z"
   },
   {
    "duration": 265,
    "start_time": "2023-08-11T10:44:36.813Z"
   },
   {
    "duration": 8,
    "start_time": "2023-08-11T10:44:37.080Z"
   },
   {
    "duration": 43,
    "start_time": "2023-08-11T10:44:37.090Z"
   },
   {
    "duration": 524,
    "start_time": "2023-08-11T10:44:37.137Z"
   },
   {
    "duration": 8,
    "start_time": "2023-08-11T10:44:37.663Z"
   },
   {
    "duration": 541,
    "start_time": "2023-08-11T10:44:37.672Z"
   },
   {
    "duration": 141,
    "start_time": "2023-08-11T10:44:38.215Z"
   },
   {
    "duration": 5,
    "start_time": "2023-08-11T10:44:38.361Z"
   },
   {
    "duration": 48,
    "start_time": "2023-08-11T10:44:38.367Z"
   },
   {
    "duration": 9,
    "start_time": "2023-08-11T10:44:38.417Z"
   },
   {
    "duration": 31,
    "start_time": "2023-08-11T10:44:38.427Z"
   },
   {
    "duration": 184,
    "start_time": "2023-08-11T10:44:38.460Z"
   },
   {
    "duration": 22,
    "start_time": "2023-08-11T10:44:38.645Z"
   },
   {
    "duration": 8,
    "start_time": "2023-08-11T10:44:38.669Z"
   },
   {
    "duration": 7,
    "start_time": "2023-08-11T10:44:38.679Z"
   },
   {
    "duration": 11,
    "start_time": "2023-08-11T10:44:38.688Z"
   },
   {
    "duration": 9,
    "start_time": "2023-08-11T10:44:38.701Z"
   },
   {
    "duration": 1297,
    "start_time": "2023-08-11T10:44:38.712Z"
   },
   {
    "duration": 6,
    "start_time": "2023-08-11T10:44:40.010Z"
   },
   {
    "duration": 44,
    "start_time": "2023-08-11T10:44:40.018Z"
   },
   {
    "duration": 10,
    "start_time": "2023-08-11T10:44:40.064Z"
   },
   {
    "duration": 11,
    "start_time": "2023-08-11T10:44:40.075Z"
   },
   {
    "duration": 23056,
    "start_time": "2023-08-11T10:44:40.087Z"
   },
   {
    "duration": 22,
    "start_time": "2023-08-11T10:45:03.151Z"
   },
   {
    "duration": 1456,
    "start_time": "2023-08-11T10:53:19.878Z"
   },
   {
    "duration": 56,
    "start_time": "2023-08-11T10:53:21.336Z"
   },
   {
    "duration": 12,
    "start_time": "2023-08-11T10:53:21.394Z"
   },
   {
    "duration": 20,
    "start_time": "2023-08-11T10:53:21.408Z"
   },
   {
    "duration": 24,
    "start_time": "2023-08-11T10:53:21.429Z"
   },
   {
    "duration": 7,
    "start_time": "2023-08-11T10:53:21.455Z"
   },
   {
    "duration": 16,
    "start_time": "2023-08-11T10:53:21.463Z"
   },
   {
    "duration": 11,
    "start_time": "2023-08-11T10:53:21.480Z"
   },
   {
    "duration": 708,
    "start_time": "2023-08-11T10:53:21.492Z"
   },
   {
    "duration": 10,
    "start_time": "2023-08-11T10:53:22.205Z"
   },
   {
    "duration": 243,
    "start_time": "2023-08-11T10:53:22.217Z"
   },
   {
    "duration": 7,
    "start_time": "2023-08-11T10:53:22.462Z"
   },
   {
    "duration": 12,
    "start_time": "2023-08-11T10:53:22.470Z"
   },
   {
    "duration": 411,
    "start_time": "2023-08-11T10:53:22.484Z"
   },
   {
    "duration": 9,
    "start_time": "2023-08-11T10:53:22.897Z"
   },
   {
    "duration": 581,
    "start_time": "2023-08-11T10:53:22.908Z"
   },
   {
    "duration": 162,
    "start_time": "2023-08-11T10:53:23.491Z"
   },
   {
    "duration": 6,
    "start_time": "2023-08-11T10:53:23.655Z"
   },
   {
    "duration": 29,
    "start_time": "2023-08-11T10:53:23.663Z"
   },
   {
    "duration": 11,
    "start_time": "2023-08-11T10:53:23.694Z"
   },
   {
    "duration": 27,
    "start_time": "2023-08-11T10:53:23.707Z"
   },
   {
    "duration": 212,
    "start_time": "2023-08-11T10:53:23.736Z"
   },
   {
    "duration": 6,
    "start_time": "2023-08-11T10:53:23.950Z"
   },
   {
    "duration": 11,
    "start_time": "2023-08-11T10:53:23.957Z"
   },
   {
    "duration": 6,
    "start_time": "2023-08-11T10:53:23.970Z"
   },
   {
    "duration": 8,
    "start_time": "2023-08-11T10:53:23.978Z"
   },
   {
    "duration": 9,
    "start_time": "2023-08-11T10:53:23.987Z"
   },
   {
    "duration": 1290,
    "start_time": "2023-08-11T10:53:24.000Z"
   },
   {
    "duration": 9,
    "start_time": "2023-08-11T10:53:25.292Z"
   },
   {
    "duration": 3,
    "start_time": "2023-08-11T10:53:25.303Z"
   },
   {
    "duration": 23,
    "start_time": "2023-08-11T10:53:25.307Z"
   },
   {
    "duration": 26,
    "start_time": "2023-08-11T10:53:25.331Z"
   },
   {
    "duration": 23459,
    "start_time": "2023-08-11T10:53:25.358Z"
   },
   {
    "duration": 27,
    "start_time": "2023-08-11T10:53:48.818Z"
   },
   {
    "duration": 3,
    "start_time": "2023-08-11T10:53:48.853Z"
   },
   {
    "duration": 26,
    "start_time": "2023-08-11T10:53:48.858Z"
   },
   {
    "duration": 7996,
    "start_time": "2023-08-11T10:53:48.885Z"
   },
   {
    "duration": 4,
    "start_time": "2023-08-11T10:58:06.655Z"
   },
   {
    "duration": 131,
    "start_time": "2023-08-11T10:58:17.999Z"
   },
   {
    "duration": 182,
    "start_time": "2023-08-11T10:59:09.820Z"
   },
   {
    "duration": 344,
    "start_time": "2023-08-11T11:00:26.256Z"
   },
   {
    "duration": 385,
    "start_time": "2023-08-11T11:02:04.782Z"
   },
   {
    "duration": 374,
    "start_time": "2023-08-11T11:02:53.424Z"
   },
   {
    "duration": 368,
    "start_time": "2023-08-11T11:02:59.052Z"
   },
   {
    "duration": 211,
    "start_time": "2023-08-11T11:03:07.549Z"
   },
   {
    "duration": 11,
    "start_time": "2023-08-11T11:04:07.757Z"
   },
   {
    "duration": 161,
    "start_time": "2023-08-11T11:04:27.173Z"
   },
   {
    "duration": 183,
    "start_time": "2023-08-11T11:04:43.178Z"
   },
   {
    "duration": 228,
    "start_time": "2023-08-11T11:04:58.484Z"
   },
   {
    "duration": 234,
    "start_time": "2023-08-11T11:05:17.371Z"
   },
   {
    "duration": 1556,
    "start_time": "2023-08-11T11:08:15.931Z"
   },
   {
    "duration": 46,
    "start_time": "2023-08-11T11:08:17.489Z"
   },
   {
    "duration": 27,
    "start_time": "2023-08-11T11:08:17.537Z"
   },
   {
    "duration": 18,
    "start_time": "2023-08-11T11:08:17.570Z"
   },
   {
    "duration": 10,
    "start_time": "2023-08-11T11:08:17.589Z"
   },
   {
    "duration": 3,
    "start_time": "2023-08-11T11:08:17.600Z"
   },
   {
    "duration": 11,
    "start_time": "2023-08-11T11:08:17.604Z"
   },
   {
    "duration": 11,
    "start_time": "2023-08-11T11:08:17.616Z"
   },
   {
    "duration": 661,
    "start_time": "2023-08-11T11:08:17.628Z"
   },
   {
    "duration": 10,
    "start_time": "2023-08-11T11:08:18.291Z"
   },
   {
    "duration": 265,
    "start_time": "2023-08-11T11:08:18.302Z"
   },
   {
    "duration": 7,
    "start_time": "2023-08-11T11:08:18.569Z"
   },
   {
    "duration": 44,
    "start_time": "2023-08-11T11:08:18.577Z"
   },
   {
    "duration": 396,
    "start_time": "2023-08-11T11:08:18.622Z"
   },
   {
    "duration": 32,
    "start_time": "2023-08-11T11:08:19.020Z"
   },
   {
    "duration": 503,
    "start_time": "2023-08-11T11:08:19.053Z"
   },
   {
    "duration": 134,
    "start_time": "2023-08-11T11:08:19.557Z"
   },
   {
    "duration": 4,
    "start_time": "2023-08-11T11:08:19.693Z"
   },
   {
    "duration": 25,
    "start_time": "2023-08-11T11:08:19.699Z"
   },
   {
    "duration": 27,
    "start_time": "2023-08-11T11:08:19.725Z"
   },
   {
    "duration": 16,
    "start_time": "2023-08-11T11:08:19.753Z"
   },
   {
    "duration": 90,
    "start_time": "2023-08-11T11:08:19.771Z"
   },
   {
    "duration": 95,
    "start_time": "2023-08-11T11:08:19.865Z"
   },
   {
    "duration": 9,
    "start_time": "2023-08-11T11:08:19.964Z"
   },
   {
    "duration": 11,
    "start_time": "2023-08-11T11:08:19.974Z"
   },
   {
    "duration": 19,
    "start_time": "2023-08-11T11:08:19.986Z"
   },
   {
    "duration": 14,
    "start_time": "2023-08-11T11:08:20.006Z"
   },
   {
    "duration": 1314,
    "start_time": "2023-08-11T11:08:20.023Z"
   },
   {
    "duration": 27,
    "start_time": "2023-08-11T11:08:21.339Z"
   },
   {
    "duration": 9,
    "start_time": "2023-08-11T11:08:21.376Z"
   },
   {
    "duration": 6,
    "start_time": "2023-08-11T11:08:21.386Z"
   },
   {
    "duration": 4,
    "start_time": "2023-08-11T11:08:21.393Z"
   },
   {
    "duration": 23187,
    "start_time": "2023-08-11T11:08:21.399Z"
   },
   {
    "duration": 21,
    "start_time": "2023-08-11T11:08:44.587Z"
   },
   {
    "duration": 57,
    "start_time": "2023-08-11T11:08:44.610Z"
   },
   {
    "duration": 7499,
    "start_time": "2023-08-11T11:08:44.668Z"
   },
   {
    "duration": 228,
    "start_time": "2023-08-11T11:08:52.169Z"
   },
   {
    "duration": 8,
    "start_time": "2023-08-11T11:08:52.399Z"
   },
   {
    "duration": 264,
    "start_time": "2023-08-11T11:08:52.408Z"
   },
   {
    "duration": 5449,
    "start_time": "2023-08-15T08:19:40.128Z"
   },
   {
    "duration": 1436,
    "start_time": "2023-08-15T08:20:30.380Z"
   },
   {
    "duration": 3591,
    "start_time": "2023-08-15T08:20:59.920Z"
   },
   {
    "duration": 3354,
    "start_time": "2023-08-15T08:21:58.896Z"
   },
   {
    "duration": 119,
    "start_time": "2023-08-15T08:25:08.946Z"
   },
   {
    "duration": 5,
    "start_time": "2023-08-15T08:25:24.910Z"
   },
   {
    "duration": 1558,
    "start_time": "2023-08-15T08:26:00.793Z"
   },
   {
    "duration": 1540,
    "start_time": "2023-08-15T08:26:36.916Z"
   },
   {
    "duration": 103,
    "start_time": "2023-08-15T08:26:59.947Z"
   },
   {
    "duration": 78,
    "start_time": "2023-08-15T08:27:58.884Z"
   },
   {
    "duration": 1933,
    "start_time": "2023-08-15T08:30:01.087Z"
   },
   {
    "duration": 1146,
    "start_time": "2023-08-15T08:30:06.230Z"
   },
   {
    "duration": 106,
    "start_time": "2023-08-15T08:30:07.408Z"
   },
   {
    "duration": 4,
    "start_time": "2023-08-15T08:31:41.871Z"
   },
   {
    "duration": 12,
    "start_time": "2023-08-15T08:33:06.424Z"
   },
   {
    "duration": 212,
    "start_time": "2023-08-15T08:33:31.964Z"
   },
   {
    "duration": 228,
    "start_time": "2023-08-15T08:34:11.914Z"
   }
  ],
  "kernelspec": {
   "display_name": "Python 3 (ipykernel)",
   "language": "python",
   "name": "python3"
  },
  "language_info": {
   "codemirror_mode": {
    "name": "ipython",
    "version": 3
   },
   "file_extension": ".py",
   "mimetype": "text/x-python",
   "name": "python",
   "nbconvert_exporter": "python",
   "pygments_lexer": "ipython3",
   "version": "3.9.5"
  },
  "toc": {
   "base_numbering": 1,
   "nav_menu": {},
   "number_sections": true,
   "sideBar": true,
   "skip_h1_title": true,
   "title_cell": "Содержание",
   "title_sidebar": "Contents",
   "toc_cell": true,
   "toc_position": {},
   "toc_section_display": true,
   "toc_window_display": true
  }
 },
 "nbformat": 4,
 "nbformat_minor": 2
}
